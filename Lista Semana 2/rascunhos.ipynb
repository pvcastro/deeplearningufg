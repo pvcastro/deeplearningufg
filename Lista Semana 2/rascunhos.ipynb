{
 "cells": [
  {
   "cell_type": "code",
   "execution_count": 1,
   "metadata": {
    "collapsed": true
   },
   "outputs": [],
   "source": [
    "import numpy as np\n",
    "\n",
    "def tanh(x):\n",
    "    return np.tanh(x)\n",
    "\n",
    "def tanh_deriv(x):\n",
    "    return 1.0 - np.tanh(x)**2\n",
    "\n",
    "def logistic(x):\n",
    "    return 1/(1 + np.exp(-x))\n",
    "\n",
    "def logistic_derivative(x):\n",
    "    return logistic(x)*(1-logistic(x))"
   ]
  },
  {
   "cell_type": "code",
   "execution_count": 48,
   "metadata": {
    "collapsed": false
   },
   "outputs": [],
   "source": [
    "class NeuralNetwork:\n",
    "    def __init__(self, layers, activation='tanh'):\n",
    "        \"\"\"\n",
    "        :param layers: A list containing the number of units in each layer.\n",
    "        Should be at least two values\n",
    "        :param activation: The activation function to be used. Can be\n",
    "        \"logistic\" or \"tanh\"\n",
    "        \"\"\"\n",
    "        if activation == 'logistic':\n",
    "            self.activation = logistic\n",
    "            self.activation_deriv = logistic_derivative\n",
    "        elif activation == 'tanh':\n",
    "            self.activation = tanh\n",
    "            self.activation_deriv = tanh_deriv\n",
    "\n",
    "        self.weights = []\n",
    "        for i in range(1, len(layers) - 1):\n",
    "            print('camada ' + str(i))\n",
    "            self.weights.append((2*np.random.random((layers[i - 1] + 1, layers[i]\n",
    "                                ))-1)*0.25)\n",
    "            print(self.weights)\n",
    "        self.weights.append((2*np.random.random((layers[i] + 1, layers[i +\n",
    "                            1]))-1)*0.25)\n",
    "        print(self.weights)\n",
    "        \n",
    "    def fit(self, X, y, learning_rate=0.1, epochs=10000):\n",
    "        X = np.atleast_2d(X)\n",
    "        temp = np.ones([X.shape[0], X.shape[1]+1])\n",
    "        temp[:, 0:-1] = X  # adding the bias unit to the input layer\n",
    "        X = temp\n",
    "        print(X)\n",
    "        y = np.array(y)\n",
    "\n",
    "        for k in range(epochs):\n",
    "            i = np.random.randint(X.shape[0])\n",
    "            a = [X[i]]\n",
    "\n",
    "            for l in range(len(self.weights)):\n",
    "                hidden_inputs = np.ones([self.weights[l].shape[1] + 1])\n",
    "                hidden_inputs[0:-1] = self.activation(np.dot(a[l], self.weights[l]))\n",
    "                a.append(hidden_inputs)\n",
    "            error = y[i] - a[-1][:-1]\n",
    "            deltas = [error * self.activation_deriv(a[-1][:-1])]\n",
    "            l = len(a) - 2\n",
    "\n",
    "            # The last layer before the output is handled separately because of\n",
    "            # the lack of bias node in output\n",
    "            deltas.append(deltas[-1].dot(self.weights[l].T)*self.activation_deriv(a[l]))\n",
    "\n",
    "            for l in range(len(a) -3, 0, -1): # we need to begin at the second to last layer\n",
    "                deltas.append(deltas[-1][:-1].dot(self.weights[l].T)*self.activation_deriv(a[l]))\n",
    "\n",
    "            deltas.reverse()\n",
    "            for i in range(len(self.weights)-1):\n",
    "                layer = np.atleast_2d(a[i])\n",
    "                delta = np.atleast_2d(deltas[i])\n",
    "                self.weights[i] += learning_rate * layer.T.dot(delta[:,:-1])\n",
    "            # Handle last layer separately because it doesn't have a bias unit\n",
    "            i+=1\n",
    "            layer = np.atleast_2d(a[i])\n",
    "            delta = np.atleast_2d(deltas[i])\n",
    "            self.weights[i] += learning_rate * layer.T.dot(delta)\n",
    "            \n",
    "    def predict(self, x):\n",
    "        a = np.array(x)\n",
    "        for l in range(0, len(self.weights)):\n",
    "            temp = np.ones(a.shape[0]+1)\n",
    "            temp[0:-1] = a\n",
    "            a = self.activation(np.dot(temp, self.weights[l]))\n",
    "        return a"
   ]
  },
  {
   "cell_type": "code",
   "execution_count": 36,
   "metadata": {
    "collapsed": false
   },
   "outputs": [
    {
     "name": "stdout",
     "output_type": "stream",
     "text": [
      "[[ 0.  0.  1.]\n",
      " [ 0.  1.  1.]\n",
      " [ 1.  0.  1.]\n",
      " [ 1.  1.  1.]]\n",
      "[0, 0] [ 0.48202258]\n",
      "[0, 1] [ 0.48012235]\n",
      "[1, 0] [ 0.48145592]\n",
      "[1, 1] [ 0.47955381]\n"
     ]
    }
   ],
   "source": [
    "nn = NeuralNetwork([2,2,1], 'tanh')\n",
    "X = np.array([[0, 0], [0, 1], [1, 0], [1, 1]])\n",
    "y = np.array([0, 1, 1, 0])\n",
    "#nn.weights = \n",
    "nn.fit(X, y)\n",
    "for i in [[0, 0], [0, 1], [1, 0], [1,1]]:\n",
    "    print(i,nn.predict(i))\n",
    "#print(nn.weights)"
   ]
  },
  {
   "cell_type": "code",
   "execution_count": 49,
   "metadata": {
    "collapsed": false
   },
   "outputs": [
    {
     "name": "stdout",
     "output_type": "stream",
     "text": [
      "camada 1\n",
      "[array([[ 0.08384846,  0.0136629 ],\n",
      "       [ 0.00612069, -0.04715278],\n",
      "       [-0.15610475, -0.07501703]])]\n",
      "[array([[ 0.08384846,  0.0136629 ],\n",
      "       [ 0.00612069, -0.04715278],\n",
      "       [-0.15610475, -0.07501703]]), array([[-0.23733138,  0.22646328],\n",
      "       [ 0.16970516, -0.09622057],\n",
      "       [-0.01321734,  0.21221274]])]\n",
      "[[ 0.05  0.1   1.  ]]\n",
      "[0.05, 0.99] [ 0.48097029  0.57448274]\n",
      "[array([[ 0.0839652 ,  0.01359697],\n",
      "       [ 0.00635415, -0.04728465],\n",
      "       [-0.15377009, -0.07633571]]), array([[-0.24774202,  0.23544946],\n",
      "       [ 0.15889442, -0.08688902],\n",
      "       [-0.03573207,  0.23164686]])]\n"
     ]
    }
   ],
   "source": [
    "nn = NeuralNetwork([2,2,2], 'logistic')\n",
    "X = np.array([[0.05, 0.1]])\n",
    "y = np.array([[0.01, 0.99]])\n",
    "nn.fit(X, y, epochs=2)\n",
    "for i in [[0.05, 0.99]]:\n",
    "    print(i,nn.predict(i))\n",
    "print(nn.weights)"
   ]
  },
  {
   "cell_type": "code",
   "execution_count": 40,
   "metadata": {
    "collapsed": false
   },
   "outputs": [
    {
     "data": {
      "text/plain": [
       "(1, 2)"
      ]
     },
     "execution_count": 40,
     "metadata": {},
     "output_type": "execute_result"
    }
   ],
   "source": [
    "X.shape"
   ]
  },
  {
   "cell_type": "code",
   "execution_count": 41,
   "metadata": {
    "collapsed": false
   },
   "outputs": [
    {
     "name": "stdout",
     "output_type": "stream",
     "text": [
      "[[ 0.05  0.1 ]]\n"
     ]
    }
   ],
   "source": [
    "print(X)"
   ]
  },
  {
   "cell_type": "code",
   "execution_count": 44,
   "metadata": {
    "collapsed": false
   },
   "outputs": [
    {
     "name": "stdout",
     "output_type": "stream",
     "text": [
      "(3, 2)\n"
     ]
    }
   ],
   "source": [
    "print(nn.weights[0].shape)"
   ]
  },
  {
   "cell_type": "code",
   "execution_count": null,
   "metadata": {
    "collapsed": true
   },
   "outputs": [],
   "source": []
  }
 ],
 "metadata": {
  "kernelspec": {
   "display_name": "Python 3",
   "language": "python",
   "name": "python3"
  },
  "language_info": {
   "codemirror_mode": {
    "name": "ipython",
    "version": 3
   },
   "file_extension": ".py",
   "mimetype": "text/x-python",
   "name": "python",
   "nbconvert_exporter": "python",
   "pygments_lexer": "ipython3",
   "version": "3.6.0"
  }
 },
 "nbformat": 4,
 "nbformat_minor": 2
}
