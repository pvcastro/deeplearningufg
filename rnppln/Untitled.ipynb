{
 "cells": [
  {
   "cell_type": "code",
   "execution_count": 17,
   "metadata": {},
   "outputs": [],
   "source": [
    "import matplotlib.pyplot as plt\n",
    "import matplotlib.cm as cm\n",
    "import numpy as np\n",
    "\n",
    "from sklearn.manifold import TSNE\n",
    "from gensim.models import KeyedVectors\n",
    "\n",
    "%matplotlib inline"
   ]
  },
  {
   "cell_type": "code",
   "execution_count": 18,
   "metadata": {},
   "outputs": [],
   "source": [
    "model = KeyedVectors.load_word2vec_format('/media/discoD/embeddings/word2vec_skip/skip_s100.txt')"
   ]
  },
  {
   "cell_type": "code",
   "execution_count": 32,
   "metadata": {},
   "outputs": [],
   "source": [
    "word_list = ['Homem', 'Mulher', 'Rei', 'Rainha', 'Maçã', 'Laranja']"
   ]
  },
  {
   "cell_type": "code",
   "execution_count": 53,
   "metadata": {},
   "outputs": [],
   "source": [
    "def plot(model, word_list):\n",
    "\n",
    "    words = []\n",
    "    embeddings = []\n",
    "\n",
    "    # for word in list(model.wv.vocab):\n",
    "    for word in word_list:\n",
    "        embeddings.append(model[word.lower()])\n",
    "        words.append(word.lower())\n",
    "\n",
    "    tsne_2d = TSNE(perplexity=30, n_components=2, init='pca', n_iter=3500, random_state=32)\n",
    "    embeddings_2d = tsne_2d.fit_transform(embeddings)\n",
    "\n",
    "    def tsne_plot_2d(label, embeddings, words=[]):\n",
    "        plt.figure(figsize=(16, 9))\n",
    "        x = embeddings[:,0]\n",
    "        y = embeddings[:,1]\n",
    "        plt.scatter(x, y, label=label)\n",
    "        for i, word in enumerate(words):\n",
    "            plt.annotate(word.lower(), xy=(x[i], y[i]), xytext=(5, 2), \n",
    "                         textcoords='offset points', ha='right', va='bottom', size=10)\n",
    "        plt.legend(loc=4)\n",
    "        plt.grid(True)\n",
    "        plt.show()\n",
    "\n",
    "    tsne_plot_2d('Visualização de Word Embeddings', embeddings_2d, words)"
   ]
  },
  {
   "cell_type": "code",
   "execution_count": 54,
   "metadata": {},
   "outputs": [
    {
     "data": {
      "image/png": "[encoded data removed]",
      "text/plain": [
       "<Figure size 1152x648 with 1 Axes>"
      ]
     },
     "metadata": {
      "needs_background": "light"
     },
     "output_type": "display_data"
    }
   ],
   "source": [
    "plot(model, word_list)"
   ]
  },
  {
   "cell_type": "code",
   "execution_count": 23,
   "metadata": {},
   "outputs": [
    {
     "data": {
      "text/plain": [
       "[('demónio', 0.6855391263961792),\n",
       " ('intruso', 0.659054160118103),\n",
       " ('estereotipo', 0.6565697193145752),\n",
       " ('povo', 0.6493959426879883),\n",
       " ('vaticínio', 0.6420562267303467),\n",
       " ('salteador', 0.639818549156189),\n",
       " ('torcionário', 0.635098397731781),\n",
       " ('sanguinário', 0.635047197341919),\n",
       " ('facínora', 0.6344645619392395),\n",
       " ('fugitivo', 0.6343000531196594)]"
      ]
     },
     "execution_count": 23,
     "metadata": {},
     "output_type": "execute_result"
    }
   ],
   "source": [
    "model.most_similar(positive=['rei', 'homem'], negative=['rainha'], topn=10)"
   ]
  },
  {
   "cell_type": "code",
   "execution_count": 24,
   "metadata": {},
   "outputs": [
    {
     "data": {
      "text/plain": [
       "[('conquistador', 0.695933997631073),\n",
       " ('monarca', 0.6842697858810425),\n",
       " ('tirano', 0.6654118299484253),\n",
       " ('usurpador', 0.6605169773101807),\n",
       " ('soberano', 0.659787118434906),\n",
       " ('caudilho', 0.6527661085128784),\n",
       " ('antepassado', 0.6502918601036072),\n",
       " ('gépida', 0.6480100154876709),\n",
       " ('governante', 0.6479029059410095),\n",
       " ('sábio', 0.6425215601921082)]"
      ]
     },
     "execution_count": 24,
     "metadata": {},
     "output_type": "execute_result"
    }
   ],
   "source": [
    "model.most_similar(positive=['rei', 'homem'], negative=['mulher'], topn=10)"
   ]
  },
  {
   "cell_type": "code",
   "execution_count": 27,
   "metadata": {},
   "outputs": [
    {
     "data": {
      "text/plain": [
       "[('mulher', 0.6531289219856262),\n",
       " ('menina', 0.6371707916259766),\n",
       " ('rapariga', 0.6296486854553223),\n",
       " ('bruxa', 0.6230096220970154),\n",
       " ('moça', 0.6222634315490723),\n",
       " ('transexual', 0.6198751330375671),\n",
       " ('travesti', 0.6156657934188843),\n",
       " ('loira', 0.6112785339355469),\n",
       " ('criança', 0.6051071882247925),\n",
       " ('loura', 0.6048169732093811)]"
      ]
     },
     "execution_count": 27,
     "metadata": {},
     "output_type": "execute_result"
    }
   ],
   "source": [
    "model.most_similar(positive=['rainha', 'homem'], negative=['rei'], topn=10)"
   ]
  },
  {
   "cell_type": "code",
   "execution_count": 28,
   "metadata": {},
   "outputs": [
    {
     "data": {
      "text/plain": [
       "[('parricida', 0.6153923869132996),\n",
       " ('professor.', 0.6031021475791931),\n",
       " ('pai', 0.6001143455505371),\n",
       " ('adúltero', 0.5956584215164185),\n",
       " ('enteado', 0.5953869819641113),\n",
       " ('concubina', 0.5945256352424622),\n",
       " ('helmiques', 0.593957781791687),\n",
       " ('cúmplice', 0.5923445820808411),\n",
       " ('clodérico', 0.5908955931663513),\n",
       " ('carcereiro', 0.5907853841781616)]"
      ]
     },
     "execution_count": 28,
     "metadata": {},
     "output_type": "execute_result"
    }
   ],
   "source": [
    "model.most_similar(positive=['rei', 'mulher'], negative=['rainha'], topn=10)"
   ]
  },
  {
   "cell_type": "code",
   "execution_count": 29,
   "metadata": {},
   "outputs": [],
   "source": [
    "model_glove = KeyedVectors.load_word2vec_format('/media/discoD/embeddings/glove/glove_s100.txt')"
   ]
  },
  {
   "cell_type": "code",
   "execution_count": 30,
   "metadata": {},
   "outputs": [
    {
     "data": {
      "text/plain": [
       "[('homem', 0.8387821912765503),\n",
       " ('pai', 0.7724219560623169),\n",
       " ('marido', 0.7635303139686584),\n",
       " ('jovem', 0.7348281145095825),\n",
       " ('filho', 0.7216610312461853),\n",
       " ('irmão', 0.7166860103607178),\n",
       " ('morte', 0.713001012802124),\n",
       " ('rapaz', 0.7119288444519043),\n",
       " ('morto', 0.6929063200950623),\n",
       " ('vítima', 0.6879963278770447)]"
      ]
     },
     "execution_count": 30,
     "metadata": {},
     "output_type": "execute_result"
    }
   ],
   "source": [
    "model_glove.most_similar(positive=['rei', 'mulher'], negative=['rainha'], topn=10)"
   ]
  },
  {
   "cell_type": "code",
   "execution_count": 56,
   "metadata": {},
   "outputs": [
    {
     "data": {
      "text/plain": [
       "[('rainha', 0.8619308471679688),\n",
       " ('princesa', 0.7710514068603516),\n",
       " ('esposa', 0.7276025414466858),\n",
       " ('filha', 0.7210227251052856),\n",
       " ('isabel', 0.7201606035232544),\n",
       " ('consorte', 0.7145142555236816),\n",
       " ('irmã', 0.7085469961166382),\n",
       " ('príncipe', 0.7065805792808533),\n",
       " ('infanta', 0.6946784257888794),\n",
       " ('trono', 0.6820836067199707)]"
      ]
     },
     "execution_count": 56,
     "metadata": {},
     "output_type": "execute_result"
    }
   ],
   "source": [
    "model_glove.most_similar(positive=['rei', 'mulher'], negative=['homem'], topn=10)"
   ]
  },
  {
   "cell_type": "code",
   "execution_count": 31,
   "metadata": {},
   "outputs": [
    {
     "data": {
      "text/plain": [
       "[('mulher', 0.8624049425125122),\n",
       " ('menina', 0.7484058141708374),\n",
       " ('garota', 0.7352800369262695),\n",
       " ('criança', 0.7176203727722168),\n",
       " ('ela', 0.6958951354026794),\n",
       " ('rapaz', 0.6932846307754517),\n",
       " ('mãe', 0.6931594014167786),\n",
       " ('rapariga', 0.6819753050804138),\n",
       " ('jovem', 0.6725677251815796),\n",
       " ('amiga', 0.6661267280578613)]"
      ]
     },
     "execution_count": 31,
     "metadata": {},
     "output_type": "execute_result"
    }
   ],
   "source": [
    "model_glove.most_similar(positive=['rainha', 'homem'], negative=['rei'], topn=10)"
   ]
  },
  {
   "cell_type": "code",
   "execution_count": 68,
   "metadata": {},
   "outputs": [
    {
     "data": {
      "text/plain": [
       "[('filha', 0.7711759209632874),\n",
       " ('irmã', 0.7552363276481628),\n",
       " ('esposa', 0.7382581233978271),\n",
       " ('viúva', 0.7201449871063232),\n",
       " ('filho', 0.7190539240837097),\n",
       " ('sobrinha', 0.710273027420044),\n",
       " ('pai', 0.6981919407844543),\n",
       " ('mãe', 0.6899541616439819),\n",
       " ('avô', 0.6852066516876221),\n",
       " ('marido', 0.6799923181533813)]"
      ]
     },
     "execution_count": 68,
     "metadata": {},
     "output_type": "execute_result"
    }
   ],
   "source": [
    "model_glove.most_similar(positive=['moça', 'irmão'], negative=['rapaz'], topn=10)"
   ]
  },
  {
   "cell_type": "code",
   "execution_count": 67,
   "metadata": {},
   "outputs": [
    {
     "data": {
      "text/plain": [
       "[('rainha', 0.7135931253433228),\n",
       " ('consorte', 0.6685947775840759),\n",
       " ('monarca', 0.6569160223007202),\n",
       " ('coroa', 0.643356442451477),\n",
       " ('imperador', 0.6411739587783813),\n",
       " ('princesa', 0.6382791996002197),\n",
       " ('herdeira', 0.623744010925293),\n",
       " ('príncipe', 0.6106195449829102),\n",
       " ('abdicação', 0.6089146137237549),\n",
       " ('majestade', 0.6071006655693054)]"
      ]
     },
     "execution_count": 67,
     "metadata": {},
     "output_type": "execute_result"
    }
   ],
   "source": [
    "model_glove.most_similar(positive=['moça', 'rei'], negative=['rapaz'], topn=10)"
   ]
  },
  {
   "cell_type": "code",
   "execution_count": 55,
   "metadata": {},
   "outputs": [
    {
     "data": {
      "image/png": "[encoded data removed]",
      "text/plain": [
       "<Figure size 1152x648 with 1 Axes>"
      ]
     },
     "metadata": {
      "needs_background": "light"
     },
     "output_type": "display_data"
    }
   ],
   "source": [
    "plot(model_glove, word_list)"
   ]
  },
  {
   "cell_type": "code",
   "execution_count": 69,
   "metadata": {},
   "outputs": [],
   "source": [
    "model_jur = KeyedVectors.load_word2vec_format('/media/discoD/embeddings/glove-lc_jur/s100_jur2vec-nilc-brwac_win-15-8.txt')"
   ]
  },
  {
   "cell_type": "code",
   "execution_count": 70,
   "metadata": {},
   "outputs": [
    {
     "data": {
      "image/png": "[encoded data removed]",
      "text/plain": [
       "<Figure size 1152x648 with 1 Axes>"
      ]
     },
     "metadata": {
      "needs_background": "light"
     },
     "output_type": "display_data"
    }
   ],
   "source": [
    "plot(model_jur, word_list)"
   ]
  },
  {
   "cell_type": "code",
   "execution_count": 71,
   "metadata": {},
   "outputs": [
    {
     "data": {
      "text/plain": [
       "[('homem', 0.8246411681175232),\n",
       " ('pai', 0.740938663482666),\n",
       " ('rapaz', 0.7230043411254883),\n",
       " ('ele', 0.7077778577804565),\n",
       " ('jovem', 0.6974593997001648),\n",
       " ('marido', 0.6946495771408081),\n",
       " ('irmão', 0.6917677521705627),\n",
       " ('aquele', 0.6872537136077881),\n",
       " ('morto', 0.6872435808181763),\n",
       " ('amigo', 0.681003212928772)]"
      ]
     },
     "execution_count": 71,
     "metadata": {},
     "output_type": "execute_result"
    }
   ],
   "source": [
    "model_jur.most_similar(positive=['rei', 'mulher'], negative=['rainha'], topn=10)"
   ]
  },
  {
   "cell_type": "code",
   "execution_count": 74,
   "metadata": {},
   "outputs": [
    {
     "data": {
      "text/plain": [
       "[('rainha', 0.8096932172775269),\n",
       " ('castela', 0.701373815536499),\n",
       " ('carlota', 0.6665114164352417),\n",
       " ('papa', 0.6583917140960693),\n",
       " ('filha', 0.6512023210525513),\n",
       " ('consorte', 0.6488165855407715),\n",
       " ('imperador', 0.6419343948364258),\n",
       " ('dama', 0.6370173692703247),\n",
       " ('princesa', 0.6328068971633911),\n",
       " ('coroação', 0.6313490867614746)]"
      ]
     },
     "execution_count": 74,
     "metadata": {},
     "output_type": "execute_result"
    }
   ],
   "source": [
    "model_jur.most_similar(positive=['rei', 'mulher'], negative=['homem'], topn=10)"
   ]
  },
  {
   "cell_type": "code",
   "execution_count": 73,
   "metadata": {},
   "outputs": [
    {
     "data": {
      "text/plain": [
       "[('reclamado', 0.9570391178131104),\n",
       " ('ré', 0.8738843202590942),\n",
       " ('reclamada', 0.8693616390228271),\n",
       " ('preposto', 0.840252161026001),\n",
       " ('ltda', 0.8228383660316467),\n",
       " ('recorrido', 0.8106067180633545),\n",
       " ('sr', 0.8012376427650452),\n",
       " ('consignante', 0.7967684864997864),\n",
       " ('epp', 0.7806806564331055),\n",
       " ('face', 0.7788323760032654)]"
      ]
     },
     "execution_count": 73,
     "metadata": {},
     "output_type": "execute_result"
    }
   ],
   "source": [
    "model_jur.most_similar(positive=['réu', 'reclamante'], negative=['autor'], topn=10)"
   ]
  },
  {
   "cell_type": "code",
   "execution_count": 75,
   "metadata": {},
   "outputs": [],
   "source": [
    "model_jur_lg = KeyedVectors.load_word2vec_format('/media/discoD/embeddings/glove-lc_jur/s300_jur2vec-nilc-brwac_win-15-7.txt')"
   ]
  },
  {
   "cell_type": "code",
   "execution_count": 76,
   "metadata": {},
   "outputs": [
    {
     "data": {
      "text/plain": [
       "[('homem', 0.7093941569328308),\n",
       " ('homens', 0.6013113260269165),\n",
       " ('pai', 0.596015214920044),\n",
       " ('ele', 0.5955917835235596),\n",
       " ('jovem', 0.5800420045852661),\n",
       " ('marido', 0.5741293430328369),\n",
       " ('alguém', 0.570969820022583),\n",
       " ('rapaz', 0.564946174621582),\n",
       " ('filho', 0.5589569807052612),\n",
       " ('irmão', 0.5576887726783752)]"
      ]
     },
     "execution_count": 76,
     "metadata": {},
     "output_type": "execute_result"
    }
   ],
   "source": [
    "model_jur_lg.most_similar(positive=['rei', 'mulher'], negative=['rainha'], topn=10)"
   ]
  },
  {
   "cell_type": "code",
   "execution_count": 77,
   "metadata": {},
   "outputs": [
    {
     "data": {
      "text/plain": [
       "[('rainha', 0.7131105065345764),\n",
       " ('princesa', 0.5899041891098022),\n",
       " ('filha', 0.5703611969947815),\n",
       " ('esposa', 0.5490684509277344),\n",
       " ('trono', 0.5315802097320557),\n",
       " ('irmã', 0.5147283673286438),\n",
       " ('monarca', 0.5114014744758606),\n",
       " ('mãe', 0.49730005860328674),\n",
       " ('coroa', 0.4932717978954315),\n",
       " ('imperador', 0.4923623502254486)]"
      ]
     },
     "execution_count": 77,
     "metadata": {},
     "output_type": "execute_result"
    }
   ],
   "source": [
    "model_jur_lg.most_similar(positive=['rei', 'mulher'], negative=['homem'], topn=10)"
   ]
  },
  {
   "cell_type": "code",
   "execution_count": 78,
   "metadata": {},
   "outputs": [
    {
     "data": {
      "text/plain": [
       "[('reclamado', 0.8071267008781433),\n",
       " ('reclamada', 0.770307183265686),\n",
       " ('ré', 0.7507691383361816),\n",
       " ('preposto', 0.7257888317108154),\n",
       " ('ltda', 0.6913617849349976),\n",
       " ('sr', 0.6574898362159729),\n",
       " ('recorrido', 0.6550928354263306),\n",
       " ('réus', 0.6510688066482544),\n",
       " ('consignante', 0.6407719254493713),\n",
       " ('recorrente', 0.6355892419815063)]"
      ]
     },
     "execution_count": 78,
     "metadata": {},
     "output_type": "execute_result"
    }
   ],
   "source": [
    "model_jur_lg.most_similar(positive=['réu', 'reclamante'], negative=['autor'], topn=10)"
   ]
  },
  {
   "cell_type": "code",
   "execution_count": null,
   "metadata": {},
   "outputs": [],
   "source": []
  }
 ],
 "metadata": {
  "kernelspec": {
   "display_name": "NLP",
   "language": "python",
   "name": "nlp"
  },
  "language_info": {
   "codemirror_mode": {
    "name": "ipython",
    "version": 3
   },
   "file_extension": ".py",
   "mimetype": "text/x-python",
   "name": "python",
   "nbconvert_exporter": "python",
   "pygments_lexer": "ipython3",
   "version": "3.6.8"
  }
 },
 "nbformat": 4,
 "nbformat_minor": 2
}
