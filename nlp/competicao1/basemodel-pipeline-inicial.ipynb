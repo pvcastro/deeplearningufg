{
 "cells": [
  {
   "cell_type": "markdown",
   "metadata": {},
   "source": [
    "## Fasam - NLP Competition"
   ]
  },
  {
   "cell_type": "code",
   "execution_count": 1,
   "metadata": {},
   "outputs": [
    {
     "name": "stdout",
     "output_type": "stream",
     "text": [
      "['df_train.csv', 'sampleSubmission.csv', 'df_valid.csv']\n"
     ]
    }
   ],
   "source": [
    "import numpy as np # linear algebra\n",
    "import pandas as pd # data processing, CSV file I/O (e.g. pd.read_csv)\n",
    "import os\n",
    "print(os.listdir(\"../input\"))"
   ]
  },
  {
   "cell_type": "markdown",
   "metadata": {
    "colab_type": "text",
    "id": "aMNkmRspQ4ee"
   },
   "source": [
    "Esse notebook descreve o pipelie para utilização na competição do **Kaggle da Fasam**. Faz parte da avaliação prática dos alunos da turma de Deep Learning.\n",
    "\n",
    "\n",
    "### Roteiro do Notebook\n",
    "\n",
    "* Leitura do Dataset\n",
    "* Criação do Modelo\n",
    "* Avaliação e Criação do arquivo de submission.csv\n",
    "\n",
    "### Problema\n",
    "\n",
    "\n",
    "Uma revista precisa catalogar todas as suas notícias em diferentes categorias. O objetivo desta competição é desenvolver o melhor modelo de aprendizagem profunda para prever a categoria de novas notícias.\n",
    "\n",
    "\n",
    "<img src=\"https://s3-ap-south-1.amazonaws.com/av-blog-media/wp-content/uploads/2018/04/Untitled-Diagram.png\n",
    "\" style=\"width: 400px;\"/>\n",
    "\n",
    "\n",
    "As categorias possíveis são:\n",
    "\n",
    "* ambiente\n",
    "* equilibrioesaude\n",
    "* sobretudo\n",
    "* educacao\n",
    "* ciencia\n",
    "* tec\n",
    "* turismo\n",
    "* empreendedorsocial\n",
    "* comida\n"
   ]
  },
  {
   "cell_type": "code",
   "execution_count": 2,
   "metadata": {
    "colab": {},
    "colab_type": "code",
    "id": "RVL_VN8bQ4eg"
   },
   "outputs": [],
   "source": [
    "import numpy as np\n",
    "import pandas as pd\n",
    "import seaborn as sns\n",
    "import warnings\n",
    "import matplotlib\n",
    "import matplotlib.pyplot as plt\n",
    "\n",
    "%matplotlib inline\n",
    "\n",
    "sns.set(style=\"ticks\")\n",
    "warnings.filterwarnings(\"ignore\")"
   ]
  },
  {
   "cell_type": "code",
   "execution_count": 3,
   "metadata": {
    "colab": {
     "base_uri": "https://localhost:8080/",
     "height": 34
    },
    "colab_type": "code",
    "id": "JHex4F-iQ4ek",
    "outputId": "f9951be6-c344-4306-e025-e31c111a8676"
   },
   "outputs": [
    {
     "name": "stderr",
     "output_type": "stream",
     "text": [
      "Using TensorFlow backend.\n"
     ]
    }
   ],
   "source": [
    "# Bibliotecas do keras\n",
    "from keras.preprocessing import sequence\n",
    "from keras.preprocessing.sequence import pad_sequences\n",
    "from keras.preprocessing.text import Tokenizer\n",
    "from keras.models import Sequential\n",
    "from keras.layers import Dense, LSTM\n",
    "from keras.layers.embeddings import Embedding\n",
    "from sklearn.model_selection import train_test_split"
   ]
  },
  {
   "cell_type": "markdown",
   "metadata": {
    "colab_type": "text",
    "id": "GyOPogzMQ4en"
   },
   "source": [
    "## Leitura do dataset de treinamento"
   ]
  },
  {
   "cell_type": "code",
   "execution_count": 4,
   "metadata": {
    "colab": {
     "base_uri": "https://localhost:8080/",
     "height": 255
    },
    "colab_type": "code",
    "id": "MlXrz467Q4eo",
    "outputId": "72e137b1-7ddb-4eac-96c6-281b42a72e3d"
   },
   "outputs": [
    {
     "name": "stdout",
     "output_type": "stream",
     "text": [
      "(7894, 3)\n"
     ]
    },
    {
     "data": {
      "text/html": [
       "<div>\n",
       "<style scoped>\n",
       "    .dataframe tbody tr th:only-of-type {\n",
       "        vertical-align: middle;\n",
       "    }\n",
       "\n",
       "    .dataframe tbody tr th {\n",
       "        vertical-align: top;\n",
       "    }\n",
       "\n",
       "    .dataframe thead th {\n",
       "        text-align: right;\n",
       "    }\n",
       "</style>\n",
       "<table border=\"1\" class=\"dataframe\">\n",
       "  <thead>\n",
       "    <tr style=\"text-align: right;\">\n",
       "      <th></th>\n",
       "      <th>title</th>\n",
       "      <th>text</th>\n",
       "      <th>category</th>\n",
       "    </tr>\n",
       "  </thead>\n",
       "  <tbody>\n",
       "    <tr>\n",
       "      <th>0</th>\n",
       "      <td>Casa da Barra Funda tem clima roceiro e receit...</td>\n",
       "      <td>No Quem Quer Pão 75, casa de clima roceiro em ...</td>\n",
       "      <td>comida</td>\n",
       "    </tr>\n",
       "    <tr>\n",
       "      <th>1</th>\n",
       "      <td>Professores de SP decidem manter greve; grupo ...</td>\n",
       "      <td>Professores da rede estadual decidiram manter ...</td>\n",
       "      <td>educacao</td>\n",
       "    </tr>\n",
       "    <tr>\n",
       "      <th>2</th>\n",
       "      <td>Em segunda edição, concurso paga R$ 35 mil par...</td>\n",
       "      <td>O Prêmio FedEx para Pequenas Empresas está com...</td>\n",
       "      <td>empreendedorsocial</td>\n",
       "    </tr>\n",
       "    <tr>\n",
       "      <th>3</th>\n",
       "      <td>Usar maconha por anos não faz tão mal para a s...</td>\n",
       "      <td>No esforço de entender os efeitos da maconha s...</td>\n",
       "      <td>equilibrioesaude</td>\n",
       "    </tr>\n",
       "    <tr>\n",
       "      <th>4</th>\n",
       "      <td>Baleia-azul percorre 5.200 km e revela a cient...</td>\n",
       "      <td>Isabela, uma baleia-azul, ajudou os cientistas...</td>\n",
       "      <td>ciencia</td>\n",
       "    </tr>\n",
       "  </tbody>\n",
       "</table>\n",
       "</div>"
      ],
      "text/plain": [
       "                                               title         ...                    category\n",
       "0  Casa da Barra Funda tem clima roceiro e receit...         ...                      comida\n",
       "1  Professores de SP decidem manter greve; grupo ...         ...                    educacao\n",
       "2  Em segunda edição, concurso paga R$ 35 mil par...         ...          empreendedorsocial\n",
       "3  Usar maconha por anos não faz tão mal para a s...         ...            equilibrioesaude\n",
       "4  Baleia-azul percorre 5.200 km e revela a cient...         ...                     ciencia\n",
       "\n",
       "[5 rows x 3 columns]"
      ]
     },
     "execution_count": 4,
     "metadata": {},
     "output_type": "execute_result"
    }
   ],
   "source": [
    "# Leitura do Dataset\n",
    "df = pd.read_csv('../input/df_train.csv')\n",
    "print(df.shape)\n",
    "df.head()"
   ]
  },
  {
   "cell_type": "markdown",
   "metadata": {
    "colab_type": "text",
    "id": "tA7JUuLjQ4es"
   },
   "source": [
    "Todos os artigos contêm o **título, descrição e link** da matéria original. Por último a categoria que pertence esse artigo."
   ]
  },
  {
   "cell_type": "code",
   "execution_count": 5,
   "metadata": {
    "colab": {},
    "colab_type": "code",
    "id": "AbXQ-lrZQ4et"
   },
   "outputs": [],
   "source": [
    "## Definição de alguns parâmetros dos modelos e tokenização\n",
    "\n",
    "# Tamanho da sequencia\n",
    "seq_size     = 10\n",
    "\n",
    "# Máximo de tokens \n",
    "max_tokens   = 2500\n",
    "\n",
    "# Tamanho do embedding\n",
    "embed_dim    = 128"
   ]
  },
  {
   "cell_type": "markdown",
   "metadata": {
    "colab_type": "text",
    "id": "mLngyRwKQ4ev"
   },
   "source": [
    "Iremos utilizar o titulo para o nosso modelo baseline. O processo abaixo cria o **input** da nossa rede e prepara o **target**"
   ]
  },
  {
   "cell_type": "code",
   "execution_count": 6,
   "metadata": {
    "colab": {},
    "colab_type": "code",
    "id": "RZ0VVQH6Q4ew"
   },
   "outputs": [],
   "source": [
    "## Utilizaremos apenas o .title (input) e o .category (target) da nossa rede\n",
    "# Textos\n",
    "text         = df['title'].values\n",
    "tokenizer    = Tokenizer(num_words=max_tokens, split=' ')\n",
    "\n",
    "# Transforma o texto em números\n",
    "tokenizer.fit_on_texts(text)\n",
    "X = tokenizer.texts_to_sequences(text)  \n",
    "\n",
    "# Cria sequencias de tamanho fixo (input: X)\n",
    "X = pad_sequences(X, maxlen=seq_size)"
   ]
  },
  {
   "cell_type": "code",
   "execution_count": 7,
   "metadata": {
    "colab": {},
    "colab_type": "code",
    "id": "2_ngkdvcQ4ey"
   },
   "outputs": [],
   "source": [
    "# Categoriza o target \"category\" -> [0,..., 1] (output: y)\n",
    "Y_classes = pd.get_dummies(df['category']).columns\n",
    "Y         = pd.get_dummies(df['category']).values"
   ]
  },
  {
   "cell_type": "code",
   "execution_count": 8,
   "metadata": {
    "colab": {
     "base_uri": "https://localhost:8080/",
     "height": 34
    },
    "colab_type": "code",
    "id": "dkBKpkEVQ4ez",
    "outputId": "7b0d07c2-6faa-4e0c-c39e-55a9e722796e"
   },
   "outputs": [
    {
     "data": {
      "text/plain": [
       "((7894, 10), (7894, 9))"
      ]
     },
     "execution_count": 8,
     "metadata": {},
     "output_type": "execute_result"
    }
   ],
   "source": [
    "(X.shape, Y.shape)"
   ]
  },
  {
   "cell_type": "markdown",
   "metadata": {
    "colab_type": "text",
    "id": "RBcyTcQ7Q4e3"
   },
   "source": [
    "## Criação do Modelo\n",
    "\n",
    "Iremos utilizar uma RNN em um modelo simples."
   ]
  },
  {
   "cell_type": "code",
   "execution_count": 9,
   "metadata": {
    "colab": {
     "base_uri": "https://localhost:8080/",
     "height": 445
    },
    "colab_type": "code",
    "id": "SHNLyLRBQ4e4",
    "outputId": "2f8f053d-cb56-4a24-b98f-f00440699724"
   },
   "outputs": [
    {
     "name": "stdout",
     "output_type": "stream",
     "text": [
      "_________________________________________________________________\n",
      "Layer (type)                 Output Shape              Param #   \n",
      "=================================================================\n",
      "embedding_1 (Embedding)      (None, 10, 128)           320000    \n",
      "_________________________________________________________________\n",
      "lstm_1 (LSTM)                (None, 10)                5560      \n",
      "_________________________________________________________________\n",
      "dense_1 (Dense)              (None, 9)                 99        \n",
      "=================================================================\n",
      "Total params: 325,659\n",
      "Trainable params: 325,659\n",
      "Non-trainable params: 0\n",
      "_________________________________________________________________\n"
     ]
    }
   ],
   "source": [
    "def base_model():\n",
    "    model = Sequential()\n",
    "    \n",
    "    # Embedding Layer\n",
    "    model.add(Embedding(max_tokens, embed_dim, \n",
    "                        input_length = seq_size))\n",
    "    # RNN Layer\n",
    "    model.add(LSTM(seq_size))\n",
    "    \n",
    "    # Dense Layer\n",
    "    model.add(Dense(len(Y_classes), activation='softmax'))\n",
    "    \n",
    "    model.compile(loss = 'categorical_crossentropy', \n",
    "                  optimizer='adam',\n",
    "                  metrics = ['accuracy'])\n",
    "    \n",
    "    model.summary()\n",
    "    \n",
    "    return model\n",
    "\n",
    "base_model = base_model()"
   ]
  },
  {
   "cell_type": "code",
   "execution_count": 10,
   "metadata": {
    "colab": {
     "base_uri": "https://localhost:8080/",
     "height": 241
    },
    "colab_type": "code",
    "id": "fdTOijWDQ4e7",
    "outputId": "029c4d58-d0ce-4a57-f31b-654c0cbbdd03"
   },
   "outputs": [
    {
     "name": "stdout",
     "output_type": "stream",
     "text": [
      "Train on 6315 samples, validate on 1579 samples\n",
      "Epoch 1/3\n",
      "6315/6315 [==============================] - 2s 288us/step - loss: 2.1766 - acc: 0.2559 - val_loss: 2.1460 - val_acc: 0.3186\n",
      "Epoch 2/3\n",
      "6315/6315 [==============================] - 0s 78us/step - loss: 2.0986 - acc: 0.3379 - val_loss: 2.0508 - val_acc: 0.3331\n",
      "Epoch 3/3\n",
      "6315/6315 [==============================] - 0s 76us/step - loss: 1.9482 - acc: 0.3525 - val_loss: 1.8771 - val_acc: 0.3597\n"
     ]
    }
   ],
   "source": [
    "# Separa o dataset em dados de treinamento/teste\n",
    "X_train, X_valid, Y_train, Y_valid = train_test_split(X,Y, \n",
    "                                                      test_size = 0.20, \n",
    "                                                      random_state = 42)\n",
    "\n",
    "# Treina o modelo\n",
    "hist = base_model.fit(X_train, Y_train, \n",
    "              validation_data =(X_valid, Y_valid),\n",
    "              batch_size=300, nb_epoch = 3,  verbose = 1)"
   ]
  },
  {
   "cell_type": "markdown",
   "metadata": {
    "colab_type": "text",
    "id": "ux8rlXyfQ4e-"
   },
   "source": [
    "## Avaliação e Criação do arquivo de submission.csv"
   ]
  },
  {
   "cell_type": "code",
   "execution_count": 11,
   "metadata": {
    "colab": {
     "base_uri": "https://localhost:8080/",
     "height": 51
    },
    "colab_type": "code",
    "id": "LLSfTL3oQ4e-",
    "outputId": "d4f57329-00c8-44cc-e64b-a315c10fcdde"
   },
   "outputs": [
    {
     "name": "stdout",
     "output_type": "stream",
     "text": [
      "1579/1579 [==============================] - 0s 61us/step\n",
      "A acurácia do modelo está de: 35.97213426974093%\n"
     ]
    }
   ],
   "source": [
    "# Avaliação do modelo para o dataset de test\n",
    "\n",
    "val_loss, val_acc = base_model.evaluate(X_valid, Y_valid)\n",
    "\n",
    "print('A acurácia do modelo está de: '+str(val_acc*100)+'%')"
   ]
  },
  {
   "cell_type": "markdown",
   "metadata": {
    "colab_type": "text",
    "id": "1RHPzAfVQ4fC"
   },
   "source": [
    "### Criando arquivo de submission para o Kaggle"
   ]
  },
  {
   "cell_type": "code",
   "execution_count": 12,
   "metadata": {
    "colab": {
     "base_uri": "https://localhost:8080/",
     "height": 221
    },
    "colab_type": "code",
    "id": "-ZfS38bgQ4fD",
    "outputId": "2a2a4d93-ecb2-4dc0-8486-cfd982fd397f"
   },
   "outputs": [
    {
     "name": "stdout",
     "output_type": "stream",
     "text": [
      "(4251, 3)\n"
     ]
    },
    {
     "data": {
      "text/html": [
       "<div>\n",
       "<style scoped>\n",
       "    .dataframe tbody tr th:only-of-type {\n",
       "        vertical-align: middle;\n",
       "    }\n",
       "\n",
       "    .dataframe tbody tr th {\n",
       "        vertical-align: top;\n",
       "    }\n",
       "\n",
       "    .dataframe thead th {\n",
       "        text-align: right;\n",
       "    }\n",
       "</style>\n",
       "<table border=\"1\" class=\"dataframe\">\n",
       "  <thead>\n",
       "    <tr style=\"text-align: right;\">\n",
       "      <th></th>\n",
       "      <th>Unnamed: 0</th>\n",
       "      <th>title</th>\n",
       "      <th>text</th>\n",
       "    </tr>\n",
       "  </thead>\n",
       "  <tbody>\n",
       "    <tr>\n",
       "      <th>0</th>\n",
       "      <td>0</td>\n",
       "      <td>Vitrine de Dilma, Pronatec terá orçamento 65% ...</td>\n",
       "      <td>Em compasso de espera, o baiano Leonardo Souza...</td>\n",
       "    </tr>\n",
       "    <tr>\n",
       "      <th>1</th>\n",
       "      <td>1</td>\n",
       "      <td>Por direitos autorais e publicidade, 'youtuber...</td>\n",
       "      <td>Fosse o segmento de vídeos on-line um tribunal...</td>\n",
       "    </tr>\n",
       "    <tr>\n",
       "      <th>2</th>\n",
       "      <td>2</td>\n",
       "      <td>Rótulos de alimentos terão que alertar sobre l...</td>\n",
       "      <td>Rótulos de todos os alimentos e bebidas indust...</td>\n",
       "    </tr>\n",
       "    <tr>\n",
       "      <th>3</th>\n",
       "      <td>3</td>\n",
       "      <td>Sociedade britânica de compositores processa S...</td>\n",
       "      <td>A PRS for Music, maior cooperativa de direitos...</td>\n",
       "    </tr>\n",
       "    <tr>\n",
       "      <th>4</th>\n",
       "      <td>4</td>\n",
       "      <td>Por Fies, aluna madruga na porta da FMU, mas s...</td>\n",
       "      <td>Rafhaela Melo, 19, aluna do curso de economia ...</td>\n",
       "    </tr>\n",
       "  </tbody>\n",
       "</table>\n",
       "</div>"
      ],
      "text/plain": [
       "   Unnamed: 0                        ...                                                                       text\n",
       "0           0                        ...                          Em compasso de espera, o baiano Leonardo Souza...\n",
       "1           1                        ...                          Fosse o segmento de vídeos on-line um tribunal...\n",
       "2           2                        ...                          Rótulos de todos os alimentos e bebidas indust...\n",
       "3           3                        ...                          A PRS for Music, maior cooperativa de direitos...\n",
       "4           4                        ...                          Rafhaela Melo, 19, aluna do curso de economia ...\n",
       "\n",
       "[5 rows x 3 columns]"
      ]
     },
     "execution_count": 12,
     "metadata": {},
     "output_type": "execute_result"
    }
   ],
   "source": [
    "# Leitura do Dataset de validação dos resultados\n",
    "df_valid = pd.read_csv('../input/df_valid.csv')\n",
    "print(df_valid.shape)\n",
    "df_valid.head()"
   ]
  },
  {
   "cell_type": "markdown",
   "metadata": {
    "colab_type": "text",
    "id": "syvOOvJgQ4fK"
   },
   "source": [
    "O dataset de validação, o que será utilizado para calcular o Ranking no Kaggle, contêm apenas as informações de Título e Texto do arquivo.  O modelo criado deve ser capaz de classificar em qual das categorias esse artigo pertence"
   ]
  },
  {
   "cell_type": "code",
   "execution_count": 13,
   "metadata": {
    "colab": {},
    "colab_type": "code",
    "id": "EA-2mC_JQ4fL"
   },
   "outputs": [],
   "source": [
    "def predict(text):\n",
    "    '''\n",
    "    Utiliza o modelo treinado para realizar a predição\n",
    "    '''\n",
    "    new_text = tokenizer.texts_to_sequences(text)\n",
    "    new_text = pad_sequences(new_text, maxlen=seq_size)\n",
    "    pred     = base_model.predict_classes(new_text)#[0]\n",
    "    return pred"
   ]
  },
  {
   "cell_type": "code",
   "execution_count": 14,
   "metadata": {
    "colab": {
     "base_uri": "https://localhost:8080/",
     "height": 34
    },
    "colab_type": "code",
    "id": "eyAgKVZsQ4fO",
    "outputId": "1a4838b3-a7aa-42d8-9040-dbaab4e235e3"
   },
   "outputs": [
    {
     "data": {
      "text/plain": [
       "['educacao', 'tec', 'educacao', 'tec', 'educacao']"
      ]
     },
     "execution_count": 14,
     "metadata": {},
     "output_type": "execute_result"
    }
   ],
   "source": [
    "# Como utilizamos o titulo no treinamento, iremos utilizar o titulo na predição também\n",
    "\n",
    "pred         = predict(df_valid.title)\n",
    "pred_classes = [Y_classes[c] for c in pred]\n",
    "pred_classes[:5]"
   ]
  },
  {
   "cell_type": "code",
   "execution_count": 15,
   "metadata": {
    "colab": {
     "base_uri": "https://localhost:8080/",
     "height": 204
    },
    "colab_type": "code",
    "id": "fvQYZhaMQ4fT",
    "outputId": "16972667-db42-4ffa-e274-6bd849b2bc9e"
   },
   "outputs": [
    {
     "data": {
      "text/html": [
       "<div>\n",
       "<style scoped>\n",
       "    .dataframe tbody tr th:only-of-type {\n",
       "        vertical-align: middle;\n",
       "    }\n",
       "\n",
       "    .dataframe tbody tr th {\n",
       "        vertical-align: top;\n",
       "    }\n",
       "\n",
       "    .dataframe thead th {\n",
       "        text-align: right;\n",
       "    }\n",
       "</style>\n",
       "<table border=\"1\" class=\"dataframe\">\n",
       "  <thead>\n",
       "    <tr style=\"text-align: right;\">\n",
       "      <th></th>\n",
       "      <th>Unnamed: 0</th>\n",
       "      <th>title</th>\n",
       "      <th>text</th>\n",
       "      <th>category</th>\n",
       "    </tr>\n",
       "  </thead>\n",
       "  <tbody>\n",
       "    <tr>\n",
       "      <th>0</th>\n",
       "      <td>0</td>\n",
       "      <td>Vitrine de Dilma, Pronatec terá orçamento 65% ...</td>\n",
       "      <td>Em compasso de espera, o baiano Leonardo Souza...</td>\n",
       "      <td>educacao</td>\n",
       "    </tr>\n",
       "    <tr>\n",
       "      <th>1</th>\n",
       "      <td>1</td>\n",
       "      <td>Por direitos autorais e publicidade, 'youtuber...</td>\n",
       "      <td>Fosse o segmento de vídeos on-line um tribunal...</td>\n",
       "      <td>tec</td>\n",
       "    </tr>\n",
       "    <tr>\n",
       "      <th>2</th>\n",
       "      <td>2</td>\n",
       "      <td>Rótulos de alimentos terão que alertar sobre l...</td>\n",
       "      <td>Rótulos de todos os alimentos e bebidas indust...</td>\n",
       "      <td>educacao</td>\n",
       "    </tr>\n",
       "    <tr>\n",
       "      <th>3</th>\n",
       "      <td>3</td>\n",
       "      <td>Sociedade britânica de compositores processa S...</td>\n",
       "      <td>A PRS for Music, maior cooperativa de direitos...</td>\n",
       "      <td>tec</td>\n",
       "    </tr>\n",
       "    <tr>\n",
       "      <th>4</th>\n",
       "      <td>4</td>\n",
       "      <td>Por Fies, aluna madruga na porta da FMU, mas s...</td>\n",
       "      <td>Rafhaela Melo, 19, aluna do curso de economia ...</td>\n",
       "      <td>educacao</td>\n",
       "    </tr>\n",
       "  </tbody>\n",
       "</table>\n",
       "</div>"
      ],
      "text/plain": [
       "   Unnamed: 0    ...     category\n",
       "0           0    ...     educacao\n",
       "1           1    ...          tec\n",
       "2           2    ...     educacao\n",
       "3           3    ...          tec\n",
       "4           4    ...     educacao\n",
       "\n",
       "[5 rows x 4 columns]"
      ]
     },
     "execution_count": 15,
     "metadata": {},
     "output_type": "execute_result"
    }
   ],
   "source": [
    "# Atualizando a categoria dos artigos no dataset de validação\n",
    "df_valid['category'] = pred_classes\n",
    "df_valid.head()"
   ]
  },
  {
   "cell_type": "code",
   "execution_count": 16,
   "metadata": {
    "colab": {},
    "colab_type": "code",
    "id": "zc65RFDEQ4fX"
   },
   "outputs": [],
   "source": [
    "def create_submission(df):\n",
    "    f = open('submission_valid.csv', 'w')\n",
    "    f.write('id,category\\n')\n",
    "    for i, row in df.iterrows():\n",
    "        f.write('{},{}\\n'.format(i, row.category))\n",
    "    f.close()\n",
    "    \n",
    "# Criando o arquivo submission_valid.csv contendo os dados para cálculo do raning no kaggle\n",
    "# Esse arquivo deve ser enviado para o kaggle\n",
    "create_submission(df_valid)    "
   ]
  }
 ],
 "metadata": {
  "colab": {
   "name": "sample-fasam-dl-nlp.ipynb",
   "provenance": [],
   "version": "0.3.2"
  },
  "kernelspec": {
   "display_name": "Python 3",
   "language": "python",
   "name": "python3"
  },
  "language_info": {
   "codemirror_mode": {
    "name": "ipython",
    "version": 3
   },
   "file_extension": ".py",
   "mimetype": "text/x-python",
   "name": "python",
   "nbconvert_exporter": "python",
   "pygments_lexer": "ipython3",
   "version": "3.7.2"
  }
 },
 "nbformat": 4,
 "nbformat_minor": 1
}
