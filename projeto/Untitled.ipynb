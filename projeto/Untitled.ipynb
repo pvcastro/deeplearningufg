{
 "cells": [
  {
   "cell_type": "code",
   "execution_count": 1,
   "metadata": {
    "collapsed": true
   },
   "outputs": [],
   "source": [
    "import gensim"
   ]
  },
  {
   "cell_type": "code",
   "execution_count": 3,
   "metadata": {},
   "outputs": [],
   "source": [
    "model = gensim.models.KeyedVectors.load_word2vec_format('glove_pt_wiki.model', binary=True)  # GloVe Model"
   ]
  },
  {
   "cell_type": "code",
   "execution_count": 4,
   "metadata": {},
   "outputs": [
    {
     "name": "stdout",
     "output_type": "stream",
     "text": [
      "False\n"
     ]
    }
   ],
   "source": [
    "print('bens_de_raiz' in model.vocab)"
   ]
  },
  {
   "cell_type": "code",
   "execution_count": 5,
   "metadata": {
    "collapsed": true
   },
   "outputs": [],
   "source": [
    "synonyms = ['fazenda', 'propriedade', 'mercadoria', 'virtude', 'riqueza', 'artigo', 'bem', 'possessão', 'recurso', 'proveito', 'lucro', 'patrimônio', 'produto', 'património', 'bens', 'vantagem', 'herança', 'objecto_posto_à_venda', 'bens_de_raiz', 'bastante', 'benefício', 'posse']"
   ]
  },
  {
   "cell_type": "code",
   "execution_count": 8,
   "metadata": {},
   "outputs": [
    {
     "name": "stdout",
     "output_type": "stream",
     "text": [
      "fazenda\n",
      "propriedade\n",
      "mercadoria\n",
      "virtude\n",
      "riqueza\n",
      "artigo\n",
      "bem\n",
      "possessão\n",
      "recurso\n",
      "proveito\n",
      "lucro\n",
      "patrimônio\n",
      "produto\n",
      "património\n",
      "bens\n",
      "vantagem\n",
      "herança\n",
      "bastante\n",
      "benefício\n",
      "posse\n",
      "objecto_posto_à_venda\n",
      "bens_de_raiz\n"
     ]
    },
    {
     "data": {
      "text/plain": [
       "[None, None]"
      ]
     },
     "execution_count": 8,
     "metadata": {},
     "output_type": "execute_result"
    }
   ],
   "source": [
    "[print(synonym) for synonym in synonyms if synonym in model.vocab]\n",
    "[print(synonym) for synonym in synonyms if synonym not in model.vocab]"
   ]
  },
  {
   "cell_type": "code",
   "execution_count": 5,
   "metadata": {},
   "outputs": [
    {
     "name": "stdout",
     "output_type": "stream",
     "text": [
      "this 552 this\n",
      "is 536 be\n",
      "spacy 776980 spacy\n",
      "lemmatize 776981 lemmatize\n",
      "testing 4191 testing\n",
      ". 453 .\n",
      "programming 2171 programming\n",
      "books 1300 book\n",
      "are 536 be\n",
      "more 597 more\n",
      "better 761 better\n",
      "than 626 than\n",
      "others 655 other\n"
     ]
    }
   ],
   "source": [
    "import spacy\n",
    "\n",
    "nlp = spacy.load('en')\n",
    "\n",
    "doc = nlp(u\"this is spacy lemmatize testing. programming books are more better than others\")\n",
    "\n",
    "for token in doc:\n",
    "    print(token, token.lemma, token.lemma_)"
   ]
  },
  {
   "cell_type": "code",
   "execution_count": 7,
   "metadata": {},
   "outputs": [
    {
     "name": "stdout",
     "output_type": "stream",
     "text": [
      "\n",
      "\u001b[93m    Warning: no model found for 'pt'\u001b[0m\n",
      "\n",
      "    Only loading the 'pt' tokenizer.\n",
      "\n",
      "Olá 0 \n",
      ", 0 \n",
      "tudo 0 \n",
      "bem 0 \n",
      "? 0 \n"
     ]
    }
   ],
   "source": [
    "import spacy\n",
    "\n",
    "nlp = spacy.load('pt')\n",
    "\n",
    "doc = nlp(u\"Olá, tudo bem?\")\n",
    "\n",
    "for token in doc:\n",
    "    print(token, token.lemma, token.lemma_)"
   ]
  },
  {
   "cell_type": "code",
   "execution_count": 2,
   "metadata": {},
   "outputs": [],
   "source": [
    "from spacy.lang.pt import Portuguese\n",
    "from spacy.lang.pt.lemmatizer import LOOKUP"
   ]
  },
  {
   "cell_type": "code",
   "execution_count": 3,
   "metadata": {},
   "outputs": [
    {
     "name": "stdout",
     "output_type": "stream",
     "text": [
      "dr\n",
      ".\n",
      "dar\n",
      "um\n",
      "presentar\n",
      "o\n",
      "o\n",
      "pai\n",
      "de\n",
      "maria\n"
     ]
    }
   ],
   "source": [
    "def get_lemma(text):\n",
    "    return LOOKUP.get(text, text) # if no lemma found, return original text\n",
    "\n",
    "nlp = Portuguese()\n",
    "doc = nlp(u'Dra. deu um presente aos pais de Maria')\n",
    "for token in doc:\n",
    "    lemma = get_lemma(token.lower_)\n",
    "    print(lemma)"
   ]
  },
  {
   "cell_type": "code",
   "execution_count": 6,
   "metadata": {},
   "outputs": [
    {
     "name": "stdout",
     "output_type": "stream",
     "text": [
      "['dra.', 'dar', 'um', 'presente', 'a', 'o', 'pai', 'de', 'maria']\n"
     ]
    }
   ],
   "source": [
    "from treetagger import TreeTagger\n",
    "def lemmatize(text, language='portuguese'):\n",
    "    tt = TreeTagger(language=language)\n",
    "    lemmas = tt.tag(text)\n",
    "    return [tuples[0] if tuples[2] == '<unknown>' else tuples[2] for tuples in lemmas]\n",
    "print(lemmatize('Dra. deu um presente aos pais de Maria'))"
   ]
  },
  {
   "cell_type": "code",
   "execution_count": 8,
   "metadata": {},
   "outputs": [
    {
     "name": "stdout",
     "output_type": "stream",
     "text": [
      "estar\n",
      "testar\n",
      "o\n",
      "novo\n",
      "característico\n",
      "d\n",
      "este\n",
      "componente\n",
      "que\n",
      "estar\n",
      "utilizar\n",
      "['estar', 'testar', 'o', 'novo', 'característica', 'de+este', 'componente', 'que', 'estar', 'utilizar']\n"
     ]
    }
   ],
   "source": [
    "doc = nlp(u'Estou testando as novas características deste componente que estou utilizando')\n",
    "for token in doc:\n",
    "    lemma = get_lemma(token.lower_)\n",
    "    print(lemma)\n",
    "print(lemmatize('Estou testando as novas características deste componente que estou utilizando'))"
   ]
  },
  {
   "cell_type": "code",
   "execution_count": 9,
   "metadata": {
    "collapsed": true
   },
   "outputs": [],
   "source": [
    "texto = 'A Pró-Reitora de Gestão e Desenvolvimento de Pessoas da\\nUniversidade Federal de São João del-Rei - UFSJ, no uso de suas\\natribuições, HOMOLOGA o concurso público para provimento de\\ncargo da Carreira de Magistério Superior, CPD 051/2016, na área de\\nDERMATOLOGIA, para o Departamento de Medicina (DEMED),\\nEdital publicado no DOU do dia 01/08/2016 e torna público seu\\nresultado, a saber: 1º LUGAR: VALÉRIA AZEVEDO JUNQUEIRA;\\n2° LUGAR: MAHYRA LEITE RIBEIRO.\\nEm 28 de setembro de 2016'"
   ]
  },
  {
   "cell_type": "code",
   "execution_count": 12,
   "metadata": {
    "collapsed": true
   },
   "outputs": [],
   "source": [
    "def teste(string):\n",
    "    doc = nlp(string)\n",
    "    for token in doc:\n",
    "        lemma = get_lemma(token.lower_)\n",
    "        print(lemma)\n",
    "    print(lemmatize(string))"
   ]
  },
  {
   "cell_type": "code",
   "execution_count": 13,
   "metadata": {},
   "outputs": [
    {
     "name": "stdout",
     "output_type": "stream",
     "text": [
      "o\n",
      "pró\n",
      "-\n",
      "reitor\n",
      "de\n",
      "gestão\n",
      "e\n",
      "desenvolvimento\n",
      "de\n",
      "pessoa\n",
      "da\n",
      "\n",
      "\n",
      "universidade\n",
      "federal\n",
      "de\n",
      "ser\n",
      "joão\n",
      "del\n",
      "-\n",
      "rei\n",
      "-\n",
      "ufsj\n",
      ",\n",
      "o\n",
      "usar\n",
      "de\n",
      "suar\n",
      "\n",
      "\n",
      "atribuição\n",
      ",\n",
      "homologar\n",
      "o\n",
      "concurso\n",
      "público\n",
      "parir\n",
      "provimento\n",
      "de\n",
      "\n",
      "\n",
      "cargo\n",
      "da\n",
      "carreira\n",
      "de\n",
      "magistério\n",
      "superior\n",
      ",\n",
      "cpd\n",
      "051/2016\n",
      ",\n",
      "o\n",
      "área\n",
      "de\n",
      "\n",
      "\n",
      "dermatologia\n",
      ",\n",
      "parir\n",
      "o\n",
      "departamento\n",
      "de\n",
      "medicinar\n",
      "(\n",
      "demed\n",
      ")\n",
      ",\n",
      "\n",
      "\n",
      "edital\n",
      "publicar\n",
      "o\n",
      "dar\n",
      "do\n",
      "dia\n",
      "01/08/2016\n",
      "e\n",
      "tornar\n",
      "público\n",
      "seu\n",
      "\n",
      "\n",
      "resultar\n",
      ",\n",
      "o\n",
      "saber\n",
      ":\n",
      "1º\n",
      "lugar\n",
      ":\n",
      "valéria\n",
      "azevedo\n",
      "junqueira\n",
      ";\n",
      "\n",
      "\n",
      "2\n",
      "°\n",
      "lugar\n",
      ":\n",
      "mahyra\n",
      "leite\n",
      "ribeiro\n",
      ".\n",
      "\n",
      "\n",
      "em\n",
      "28\n",
      "de\n",
      "setembro\n",
      "de\n",
      "2016\n",
      "['o', 'pró-reitora', 'de', 'gestão', 'e', 'desenvolvimento', 'de', 'pessoa', 'de+a', 'universidade', 'federal', 'de', 'são', 'joão', 'del-Rei', '-', 'ufsj', ',', 'em', 'o', 'uso', 'de', 'seu', 'atribuição', ',', 'homologa', 'o', 'concurso', 'público', 'para', 'provimento', 'de', 'cargo', 'de', 'o', 'carreira', 'de', 'magistério', 'superior', ',', 'cpd', '@card@', ',', 'em', 'o', 'área', 'de', 'dermatologia', ',', 'para', 'o', 'departamento', 'de', 'medicina', '(', 'demed', ')', ',', 'edital', 'publicar', 'em', 'o', 'dou', 'de', 'o', 'dia', '@card@', 'e', 'tornar', 'público', 'seu', 'resultado', ',', 'a', 'saber', ':', '1º', 'lugar', ':', 'valéria', 'azevedo', 'junqueira', ';', '2°', 'lugar', ':', 'mahyra', 'leite', 'ribeiro', '.', 'em', '@card@', 'de', 'setembro', 'de', '@card@']\n"
     ]
    }
   ],
   "source": [
    "teste(texto)"
   ]
  },
  {
   "cell_type": "code",
   "execution_count": 2,
   "metadata": {},
   "outputs": [
    {
     "data": {
      "text/plain": [
       "[[('O', 'ART'),\n",
       "  ('rato', 'N'),\n",
       "  ('roeu', 'V'),\n",
       "  ('a', 'ART'),\n",
       "  ('roupa', 'N'),\n",
       "  ('do', 'PREP+ART'),\n",
       "  ('rei', 'N'),\n",
       "  ('de', 'PREP'),\n",
       "  ('Roma', 'NPROP'),\n",
       "  ('.', 'PU')]]"
      ]
     },
     "execution_count": 2,
     "metadata": {},
     "output_type": "execute_result"
    }
   ],
   "source": [
    "import nlpnet\n",
    "tagger = nlpnet.POSTagger('pos-pt/', language='pt')\n",
    "tagger.tag('O rato roeu a roupa do rei de Roma.')"
   ]
  },
  {
   "cell_type": "code",
   "execution_count": 3,
   "metadata": {},
   "outputs": [
    {
     "data": {
      "text/plain": [
       "[[('O', 'ART'),\n",
       "  ('rato', 'N'),\n",
       "  ('roeu', 'V'),\n",
       "  ('a', 'ART'),\n",
       "  ('roupa', 'N'),\n",
       "  ('do', 'PREP+ART'),\n",
       "  ('rei', 'N'),\n",
       "  ('de', 'PREP'),\n",
       "  ('Roma', 'NPROP'),\n",
       "  ('.', 'PU')]]"
      ]
     },
     "execution_count": 3,
     "metadata": {},
     "output_type": "execute_result"
    }
   ],
   "source": [
    "tagger.tag('O rato roeu a roupa do rei de Roma.')"
   ]
  },
  {
   "cell_type": "code",
   "execution_count": null,
   "metadata": {
    "collapsed": true
   },
   "outputs": [],
   "source": []
  }
 ],
 "metadata": {
  "kernelspec": {
   "display_name": "Python 3",
   "language": "python",
   "name": "python3"
  },
  "language_info": {
   "codemirror_mode": {
    "name": "ipython",
    "version": 3
   },
   "file_extension": ".py",
   "mimetype": "text/x-python",
   "name": "python",
   "nbconvert_exporter": "python",
   "pygments_lexer": "ipython3",
   "version": "3.6.8"
  }
 },
 "nbformat": 4,
 "nbformat_minor": 2
}
