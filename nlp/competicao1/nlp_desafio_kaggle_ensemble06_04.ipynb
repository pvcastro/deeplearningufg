{
 "cells": [
  {
   "cell_type": "markdown",
   "metadata": {},
   "source": [
    "# Twitter Sentiment Analysis: Practice Problem"
   ]
  },
  {
   "cell_type": "markdown",
   "metadata": {},
   "source": [
    "## Problem Statement\n",
    "\n",
    "Understanding the problem statement is the first and foremost step. This would help you give an intuition of what you will face ahead of time. Let us see the problem statement -\n",
    "\n",
    "__*The objective of this task is to detect hate speech in tweets. For the sake of simplicity, we say a tweet contains hate speech if it has a racist or sexist sentiment associated with it. So, the task is to classify racist or sexist tweets from other tweets.*__\n",
    "\n",
    "Formally, given a training sample of tweets and labels, where label '1' denotes the tweet is racist/sexist and label '0' denotes the tweet is not racist/sexist, your objective is to predict the labels on the test dataset.\n",
    "\n",
    "*You can access the problem statement and the data over [here](https://datahack.analyticsvidhya.com/contest/practice-problem-twitter-sentiment-analysis/).*"
   ]
  },
  {
   "cell_type": "markdown",
   "metadata": {},
   "source": [
    "## Loading Libraries and Data"
   ]
  },
  {
   "cell_type": "code",
   "execution_count": 2,
   "metadata": {},
   "outputs": [
    {
     "name": "stderr",
     "output_type": "stream",
     "text": [
      "/usr/local/lib/python3.5/dist-packages/sklearn/ensemble/weight_boosting.py:29: DeprecationWarning: numpy.core.umath_tests is an internal NumPy module and should not be imported. It will be removed in a future NumPy release.\n",
      "  from numpy.core.umath_tests import inner1d\n"
     ]
    }
   ],
   "source": [
    "import re # for regular expressions\n",
    "import pandas as pd \n",
    "pd.set_option(\"display.max_colwidth\", 200)\n",
    "import numpy as np \n",
    "import matplotlib.pyplot as plt \n",
    "import seaborn as sns\n",
    "import string\n",
    "import nltk # for text manipulation\n",
    "from nltk.tokenize import word_tokenize\n",
    "from nltk.stem.snowball import SnowballStemmer\n",
    "from sklearn.feature_extraction.text import TfidfVectorizer\n",
    "import warnings \n",
    "from sklearn.linear_model import LogisticRegression\n",
    "from sklearn.model_selection import train_test_split\n",
    "from sklearn.metrics import f1_score\n",
    "from sklearn.metrics import accuracy_score\n",
    "from sklearn import svm\n",
    "from gensim.models import KeyedVectors\n",
    "from sklearn.ensemble import RandomForestClassifier\n",
    "warnings.filterwarnings(\"ignore\", category=DeprecationWarning)\n",
    "\n",
    "%matplotlib inline"
   ]
  },
  {
   "cell_type": "markdown",
   "metadata": {},
   "source": [
    "Let's read train and test datasets."
   ]
  },
  {
   "cell_type": "code",
   "execution_count": 3,
   "metadata": {
    "collapsed": true
   },
   "outputs": [],
   "source": [
    "train  = pd.read_csv('train.csv', sep=',', header=0)\n"
   ]
  },
  {
   "cell_type": "markdown",
   "metadata": {},
   "source": [
    "### Adiciona coluna label com a classificacao mapeada pra rotulos numeros\n",
    "* 0 = negativo\n",
    "* 1 = positivo\n",
    "* 2 = neutro"
   ]
  },
  {
   "cell_type": "code",
   "execution_count": 4,
   "metadata": {
    "collapsed": true
   },
   "outputs": [],
   "source": [
    "def label_classificacao(row):\n",
    "    if row['Classificacao'] == 'Positivo' :\n",
    "        return 1\n",
    "    if row['Classificacao'] == 'Negativo' :\n",
    "        return 0   \n",
    "    return 2\n"
   ]
  },
  {
   "cell_type": "code",
   "execution_count": 5,
   "metadata": {
    "collapsed": true
   },
   "outputs": [],
   "source": [
    "train['rotulo'] = train.apply(lambda row: label_classificacao(row), axis=1)"
   ]
  },
  {
   "cell_type": "code",
   "execution_count": 6,
   "metadata": {
    "collapsed": true
   },
   "outputs": [],
   "source": [
    "test = pd.read_csv('test.csv', sep=',', header=0)"
   ]
  },
  {
   "cell_type": "code",
   "execution_count": 7,
   "metadata": {},
   "outputs": [
    {
     "data": {
      "text/html": [
       "<div>\n",
       "<style scoped>\n",
       "    .dataframe tbody tr th:only-of-type {\n",
       "        vertical-align: middle;\n",
       "    }\n",
       "\n",
       "    .dataframe tbody tr th {\n",
       "        vertical-align: top;\n",
       "    }\n",
       "\n",
       "    .dataframe thead th {\n",
       "        text-align: right;\n",
       "    }\n",
       "</style>\n",
       "<table border=\"1\" class=\"dataframe\">\n",
       "  <thead>\n",
       "    <tr style=\"text-align: right;\">\n",
       "      <th></th>\n",
       "      <th>Created At</th>\n",
       "      <th>Text</th>\n",
       "      <th>Geo Coordinates.latitude</th>\n",
       "      <th>Geo Coordinates.longitude</th>\n",
       "      <th>User Location</th>\n",
       "      <th>Username</th>\n",
       "      <th>User Screen Name</th>\n",
       "      <th>Retweet Count</th>\n",
       "      <th>Classificacao</th>\n",
       "      <th>Observação</th>\n",
       "      <th>Id</th>\n",
       "      <th>rotulo</th>\n",
       "    </tr>\n",
       "  </thead>\n",
       "  <tbody>\n",
       "    <tr>\n",
       "      <th>0</th>\n",
       "      <td>Mon Jan 09 15:27:43 +0000 2017</td>\n",
       "      <td>Dois são detidos ao tentar jogar celulares e drogas em presídio de MG  https://t.co/g258J0owsg</td>\n",
       "      <td>NaN</td>\n",
       "      <td>NaN</td>\n",
       "      <td>NaN</td>\n",
       "      <td>Michele #beta #sdv</td>\n",
       "      <td>michelexmbeta</td>\n",
       "      <td>0</td>\n",
       "      <td>Positivo</td>\n",
       "      <td>NaN</td>\n",
       "      <td>6272</td>\n",
       "      <td>1</td>\n",
       "    </tr>\n",
       "  </tbody>\n",
       "</table>\n",
       "</div>"
      ],
      "text/plain": [
       "                       Created At  \\\n",
       "0  Mon Jan 09 15:27:43 +0000 2017   \n",
       "\n",
       "                                                                                             Text  \\\n",
       "0  Dois são detidos ao tentar jogar celulares e drogas em presídio de MG  https://t.co/g258J0owsg   \n",
       "\n",
       "   Geo Coordinates.latitude  Geo Coordinates.longitude User Location  \\\n",
       "0                       NaN                        NaN           NaN   \n",
       "\n",
       "             Username User Screen Name  Retweet Count Classificacao  \\\n",
       "0  Michele #beta #sdv    michelexmbeta              0      Positivo   \n",
       "\n",
       "  Observação    Id  rotulo  \n",
       "0        NaN  6272       1  "
      ]
     },
     "execution_count": 7,
     "metadata": {},
     "output_type": "execute_result"
    }
   ],
   "source": [
    "train.head(1)"
   ]
  },
  {
   "cell_type": "markdown",
   "metadata": {},
   "source": [
    "## Text PreProcessing and Cleaning"
   ]
  },
  {
   "cell_type": "markdown",
   "metadata": {},
   "source": [
    "### Data Inspection\n",
    "\n",
    "Let's check out a few non racist/sexist tweets."
   ]
  },
  {
   "cell_type": "code",
   "execution_count": 8,
   "metadata": {},
   "outputs": [
    {
     "data": {
      "text/html": [
       "<div>\n",
       "<style scoped>\n",
       "    .dataframe tbody tr th:only-of-type {\n",
       "        vertical-align: middle;\n",
       "    }\n",
       "\n",
       "    .dataframe tbody tr th {\n",
       "        vertical-align: top;\n",
       "    }\n",
       "\n",
       "    .dataframe thead th {\n",
       "        text-align: right;\n",
       "    }\n",
       "</style>\n",
       "<table border=\"1\" class=\"dataframe\">\n",
       "  <thead>\n",
       "    <tr style=\"text-align: right;\">\n",
       "      <th></th>\n",
       "      <th>Created At</th>\n",
       "      <th>Text</th>\n",
       "      <th>Geo Coordinates.latitude</th>\n",
       "      <th>Geo Coordinates.longitude</th>\n",
       "      <th>User Location</th>\n",
       "      <th>Username</th>\n",
       "      <th>User Screen Name</th>\n",
       "      <th>Retweet Count</th>\n",
       "      <th>Classificacao</th>\n",
       "      <th>Observação</th>\n",
       "      <th>Id</th>\n",
       "      <th>rotulo</th>\n",
       "    </tr>\n",
       "  </thead>\n",
       "  <tbody>\n",
       "    <tr>\n",
       "      <th>5</th>\n",
       "      <td>Wed Jan 04 23:07:46 +0000 2017</td>\n",
       "      <td>RT @Silvio_MKT: Fernando Pimentel PISA e COSPE em cima dos mineiros, é impressionante a cara de pau desse sujeito.https://t.co/MSqSlDMRAr</td>\n",
       "      <td>NaN</td>\n",
       "      <td>NaN</td>\n",
       "      <td>São Paulo, SP</td>\n",
       "      <td>Israel Ziller</td>\n",
       "      <td>IsraelZiller</td>\n",
       "      <td>69</td>\n",
       "      <td>Negativo</td>\n",
       "      <td>NaN</td>\n",
       "      <td>4248</td>\n",
       "      <td>0</td>\n",
       "    </tr>\n",
       "  </tbody>\n",
       "</table>\n",
       "</div>"
      ],
      "text/plain": [
       "                       Created At  \\\n",
       "5  Wed Jan 04 23:07:46 +0000 2017   \n",
       "\n",
       "                                                                                                                                        Text  \\\n",
       "5  RT @Silvio_MKT: Fernando Pimentel PISA e COSPE em cima dos mineiros, é impressionante a cara de pau desse sujeito.https://t.co/MSqSlDMRAr   \n",
       "\n",
       "   Geo Coordinates.latitude  Geo Coordinates.longitude  User Location  \\\n",
       "5                       NaN                        NaN  São Paulo, SP   \n",
       "\n",
       "        Username User Screen Name  Retweet Count Classificacao Observação  \\\n",
       "5  Israel Ziller     IsraelZiller             69      Negativo        NaN   \n",
       "\n",
       "     Id  rotulo  \n",
       "5  4248       0  "
      ]
     },
     "execution_count": 8,
     "metadata": {},
     "output_type": "execute_result"
    }
   ],
   "source": [
    "train[train['rotulo'] == 0].head(1)"
   ]
  },
  {
   "cell_type": "markdown",
   "metadata": {},
   "source": [
    "<br>\n",
    "Tweets positivos"
   ]
  },
  {
   "cell_type": "code",
   "execution_count": 9,
   "metadata": {},
   "outputs": [
    {
     "data": {
      "text/html": [
       "<div>\n",
       "<style scoped>\n",
       "    .dataframe tbody tr th:only-of-type {\n",
       "        vertical-align: middle;\n",
       "    }\n",
       "\n",
       "    .dataframe tbody tr th {\n",
       "        vertical-align: top;\n",
       "    }\n",
       "\n",
       "    .dataframe thead th {\n",
       "        text-align: right;\n",
       "    }\n",
       "</style>\n",
       "<table border=\"1\" class=\"dataframe\">\n",
       "  <thead>\n",
       "    <tr style=\"text-align: right;\">\n",
       "      <th></th>\n",
       "      <th>Created At</th>\n",
       "      <th>Text</th>\n",
       "      <th>Geo Coordinates.latitude</th>\n",
       "      <th>Geo Coordinates.longitude</th>\n",
       "      <th>User Location</th>\n",
       "      <th>Username</th>\n",
       "      <th>User Screen Name</th>\n",
       "      <th>Retweet Count</th>\n",
       "      <th>Classificacao</th>\n",
       "      <th>Observação</th>\n",
       "      <th>Id</th>\n",
       "      <th>rotulo</th>\n",
       "    </tr>\n",
       "  </thead>\n",
       "  <tbody>\n",
       "    <tr>\n",
       "      <th>0</th>\n",
       "      <td>Mon Jan 09 15:27:43 +0000 2017</td>\n",
       "      <td>Dois são detidos ao tentar jogar celulares e drogas em presídio de MG  https://t.co/g258J0owsg</td>\n",
       "      <td>NaN</td>\n",
       "      <td>NaN</td>\n",
       "      <td>NaN</td>\n",
       "      <td>Michele #beta #sdv</td>\n",
       "      <td>michelexmbeta</td>\n",
       "      <td>0</td>\n",
       "      <td>Positivo</td>\n",
       "      <td>NaN</td>\n",
       "      <td>6272</td>\n",
       "      <td>1</td>\n",
       "    </tr>\n",
       "  </tbody>\n",
       "</table>\n",
       "</div>"
      ],
      "text/plain": [
       "                       Created At  \\\n",
       "0  Mon Jan 09 15:27:43 +0000 2017   \n",
       "\n",
       "                                                                                             Text  \\\n",
       "0  Dois são detidos ao tentar jogar celulares e drogas em presídio de MG  https://t.co/g258J0owsg   \n",
       "\n",
       "   Geo Coordinates.latitude  Geo Coordinates.longitude User Location  \\\n",
       "0                       NaN                        NaN           NaN   \n",
       "\n",
       "             Username User Screen Name  Retweet Count Classificacao  \\\n",
       "0  Michele #beta #sdv    michelexmbeta              0      Positivo   \n",
       "\n",
       "  Observação    Id  rotulo  \n",
       "0        NaN  6272       1  "
      ]
     },
     "execution_count": 9,
     "metadata": {},
     "output_type": "execute_result"
    }
   ],
   "source": [
    "train[train['rotulo'] == 1].head(1)"
   ]
  },
  {
   "cell_type": "markdown",
   "metadata": {},
   "source": [
    "Let's check dimensions of the train and test dataset."
   ]
  },
  {
   "cell_type": "code",
   "execution_count": 10,
   "metadata": {},
   "outputs": [
    {
     "data": {
      "text/plain": [
       "((6559, 12), (1640, 10))"
      ]
     },
     "execution_count": 10,
     "metadata": {},
     "output_type": "execute_result"
    }
   ],
   "source": [
    "train.shape, test.shape"
   ]
  },
  {
   "cell_type": "markdown",
   "metadata": {},
   "source": [
    "Train set has 6559 tweets and test set has 1640 tweets."
   ]
  },
  {
   "cell_type": "markdown",
   "metadata": {},
   "source": [
    "Let's have a glimpse at label-distribution in the train dataset."
   ]
  },
  {
   "cell_type": "code",
   "execution_count": 11,
   "metadata": {},
   "outputs": [
    {
     "data": {
      "text/plain": [
       "1    2639\n",
       "0    1970\n",
       "2    1950\n",
       "Name: rotulo, dtype: int64"
      ]
     },
     "execution_count": 11,
     "metadata": {},
     "output_type": "execute_result"
    }
   ],
   "source": [
    "train[\"rotulo\"].value_counts()"
   ]
  },
  {
   "cell_type": "markdown",
   "metadata": {},
   "source": [
    "<br>\n",
    "Now we will check the distribution of length of the tweets, in terms of words, in both train and test data."
   ]
  },
  {
   "cell_type": "code",
   "execution_count": 12,
   "metadata": {},
   "outputs": [
    {
     "data": {
      "image/png": "[encoded data removed]",
      "text/plain": [
       "<Figure size 432x288 with 1 Axes>"
      ]
     },
     "metadata": {},
     "output_type": "display_data"
    }
   ],
   "source": [
    "length_train = train['Text'].str.len()\n",
    "length_test = test['Text'].str.len()\n",
    "\n",
    "plt.hist(length_train, bins=20, label=\"train_tweets\")\n",
    "plt.hist(length_test, bins=20, label=\"test_tweets\")\n",
    "plt.legend()\n",
    "plt.show()"
   ]
  },
  {
   "cell_type": "markdown",
   "metadata": {},
   "source": [
    "The tweet-length distribution is more or less the same in both train and test data."
   ]
  },
  {
   "cell_type": "markdown",
   "metadata": {},
   "source": [
    "\n",
    "### Data Cleaning"
   ]
  },
  {
   "cell_type": "code",
   "execution_count": 13,
   "metadata": {},
   "outputs": [
    {
     "name": "stderr",
     "output_type": "stream",
     "text": [
      "/usr/local/lib/python3.5/dist-packages/pandas/core/frame.py:6692: FutureWarning: Sorting because non-concatenation axis is not aligned. A future version\n",
      "of pandas will change to not sort by default.\n",
      "\n",
      "To accept the future behavior, pass 'sort=False'.\n",
      "\n",
      "To retain the current behavior and silence the warning, pass 'sort=True'.\n",
      "\n",
      "  sort=sort)\n"
     ]
    },
    {
     "data": {
      "text/plain": [
       "(8199, 12)"
      ]
     },
     "execution_count": 13,
     "metadata": {},
     "output_type": "execute_result"
    }
   ],
   "source": [
    "combi = train.append(test, ignore_index=True)\n",
    "combi.shape"
   ]
  },
  {
   "cell_type": "markdown",
   "metadata": {},
   "source": [
    "Given below is a user-defined function to remove unwanted text patterns from the tweets."
   ]
  },
  {
   "cell_type": "code",
   "execution_count": 14,
   "metadata": {
    "collapsed": true
   },
   "outputs": [],
   "source": [
    "def remove_pattern(input_txt, pattern):\n",
    "    r = re.findall(pattern, input_txt)\n",
    "    for i in r:\n",
    "#         print(input_txt)\n",
    "        input_txt = re.sub(i, '', input_txt)\n",
    "        \n",
    "    return input_txt    "
   ]
  },
  {
   "cell_type": "code",
   "execution_count": 15,
   "metadata": {
    "collapsed": true
   },
   "outputs": [],
   "source": [
    "def remove_caracter(input_txt, caracter):\n",
    "    return input_txt.replace(caracter,)    "
   ]
  },
  {
   "cell_type": "markdown",
   "metadata": {},
   "source": [
    "__1. Removing Twitter Handles (@user)__"
   ]
  },
  {
   "cell_type": "code",
   "execution_count": 16,
   "metadata": {},
   "outputs": [
    {
     "data": {
      "text/html": [
       "<div>\n",
       "<style scoped>\n",
       "    .dataframe tbody tr th:only-of-type {\n",
       "        vertical-align: middle;\n",
       "    }\n",
       "\n",
       "    .dataframe tbody tr th {\n",
       "        vertical-align: top;\n",
       "    }\n",
       "\n",
       "    .dataframe thead th {\n",
       "        text-align: right;\n",
       "    }\n",
       "</style>\n",
       "<table border=\"1\" class=\"dataframe\">\n",
       "  <thead>\n",
       "    <tr style=\"text-align: right;\">\n",
       "      <th></th>\n",
       "      <th>Classificacao</th>\n",
       "      <th>Created At</th>\n",
       "      <th>Geo Coordinates.latitude</th>\n",
       "      <th>Geo Coordinates.longitude</th>\n",
       "      <th>Id</th>\n",
       "      <th>Observação</th>\n",
       "      <th>Retweet Count</th>\n",
       "      <th>Text</th>\n",
       "      <th>User Location</th>\n",
       "      <th>User Screen Name</th>\n",
       "      <th>Username</th>\n",
       "      <th>rotulo</th>\n",
       "      <th>TextLimpo</th>\n",
       "    </tr>\n",
       "  </thead>\n",
       "  <tbody>\n",
       "    <tr>\n",
       "      <th>0</th>\n",
       "      <td>Positivo</td>\n",
       "      <td>Mon Jan 09 15:27:43 +0000 2017</td>\n",
       "      <td>NaN</td>\n",
       "      <td>NaN</td>\n",
       "      <td>6272</td>\n",
       "      <td>NaN</td>\n",
       "      <td>0</td>\n",
       "      <td>Dois são detidos ao tentar jogar celulares e drogas em presídio de MG  https://t.co/g258J0owsg</td>\n",
       "      <td>NaN</td>\n",
       "      <td>michelexmbeta</td>\n",
       "      <td>Michele #beta #sdv</td>\n",
       "      <td>1.0</td>\n",
       "      <td>Dois são detidos ao tentar jogar celulares e drogas em presídio de MG  https://t.co/g258J0owsg</td>\n",
       "    </tr>\n",
       "    <tr>\n",
       "      <th>1</th>\n",
       "      <td>Neutro</td>\n",
       "      <td>Sun Jan 08 02:14:34 +0000 2017</td>\n",
       "      <td>NaN</td>\n",
       "      <td>NaN</td>\n",
       "      <td>1644</td>\n",
       "      <td>NaN</td>\n",
       "      <td>0</td>\n",
       "      <td>me matan esas minas q cambian 554 veces su foto de whatsapp y 628 veces el estado en 1 semana...qué carajo les pasa ????</td>\n",
       "      <td>Núñez - C.A.B.A.</td>\n",
       "      <td>gabymessina36</td>\n",
       "      <td>Gaby Messina</td>\n",
       "      <td>2.0</td>\n",
       "      <td>me matan esas minas q cambian 554 veces su foto de whatsapp y 628 veces el estado en 1 semana...qué carajo les pasa ????</td>\n",
       "    </tr>\n",
       "    <tr>\n",
       "      <th>2</th>\n",
       "      <td>Positivo</td>\n",
       "      <td>Sat Feb 11 09:49:11 +0000 2017</td>\n",
       "      <td>NaN</td>\n",
       "      <td>NaN</td>\n",
       "      <td>7956</td>\n",
       "      <td>NaN</td>\n",
       "      <td>0</td>\n",
       "      <td>Líderes de motim em presídio de Minas Gerais serão transferidos https://t.co/3ycejsK0yB https://t.co/RrIeOwDV4z</td>\n",
       "      <td>Hollywood, CA</td>\n",
       "      <td>Wendie_Rower</td>\n",
       "      <td>Wendie Rower</td>\n",
       "      <td>1.0</td>\n",
       "      <td>Líderes de motim em presídio de Minas Gerais serão transferidos https://t.co/3ycejsK0yB https://t.co/RrIeOwDV4z</td>\n",
       "    </tr>\n",
       "    <tr>\n",
       "      <th>3</th>\n",
       "      <td>Neutro</td>\n",
       "      <td>Thu Jan 05 14:43:03 +0000 2017</td>\n",
       "      <td>NaN</td>\n",
       "      <td>NaN</td>\n",
       "      <td>85</td>\n",
       "      <td>NaN</td>\n",
       "      <td>0</td>\n",
       "      <td>#Mídia:  Press Release from Business Wire : Digital Living Network Alliance - Estado de Minas https://t.co/wj7wMchv8S</td>\n",
       "      <td>SP</td>\n",
       "      <td>binderbr</td>\n",
       "      <td>Marcello Binder</td>\n",
       "      <td>2.0</td>\n",
       "      <td>#Mídia:  Press Release from Business Wire : Digital Living Network Alliance - Estado de Minas https://t.co/wj7wMchv8S</td>\n",
       "    </tr>\n",
       "    <tr>\n",
       "      <th>4</th>\n",
       "      <td>Positivo</td>\n",
       "      <td>Wed Feb 08 22:52:10 +0000 2017</td>\n",
       "      <td>NaN</td>\n",
       "      <td>NaN</td>\n",
       "      <td>6006</td>\n",
       "      <td>NaN</td>\n",
       "      <td>0</td>\n",
       "      <td>Vacinação contra febre amarela é intensificada na zona rural de Araxá https://t.co/kfaIzOt54Q https://t.co/VnrbOHzFbW</td>\n",
       "      <td>NaN</td>\n",
       "      <td>eufodeu</td>\n",
       "      <td>fodido</td>\n",
       "      <td>1.0</td>\n",
       "      <td>Vacinação contra febre amarela é intensificada na zona rural de Araxá https://t.co/kfaIzOt54Q https://t.co/VnrbOHzFbW</td>\n",
       "    </tr>\n",
       "  </tbody>\n",
       "</table>\n",
       "</div>"
      ],
      "text/plain": [
       "  Classificacao                      Created At  Geo Coordinates.latitude  \\\n",
       "0      Positivo  Mon Jan 09 15:27:43 +0000 2017                       NaN   \n",
       "1        Neutro  Sun Jan 08 02:14:34 +0000 2017                       NaN   \n",
       "2      Positivo  Sat Feb 11 09:49:11 +0000 2017                       NaN   \n",
       "3        Neutro  Thu Jan 05 14:43:03 +0000 2017                       NaN   \n",
       "4      Positivo  Wed Feb 08 22:52:10 +0000 2017                       NaN   \n",
       "\n",
       "   Geo Coordinates.longitude    Id Observação  Retweet Count  \\\n",
       "0                        NaN  6272        NaN              0   \n",
       "1                        NaN  1644        NaN              0   \n",
       "2                        NaN  7956        NaN              0   \n",
       "3                        NaN    85        NaN              0   \n",
       "4                        NaN  6006        NaN              0   \n",
       "\n",
       "                                                                                                                       Text  \\\n",
       "0                            Dois são detidos ao tentar jogar celulares e drogas em presídio de MG  https://t.co/g258J0owsg   \n",
       "1  me matan esas minas q cambian 554 veces su foto de whatsapp y 628 veces el estado en 1 semana...qué carajo les pasa ????   \n",
       "2           Líderes de motim em presídio de Minas Gerais serão transferidos https://t.co/3ycejsK0yB https://t.co/RrIeOwDV4z   \n",
       "3     #Mídia:  Press Release from Business Wire : Digital Living Network Alliance - Estado de Minas https://t.co/wj7wMchv8S   \n",
       "4     Vacinação contra febre amarela é intensificada na zona rural de Araxá https://t.co/kfaIzOt54Q https://t.co/VnrbOHzFbW   \n",
       "\n",
       "      User Location User Screen Name            Username  rotulo  \\\n",
       "0               NaN    michelexmbeta  Michele #beta #sdv     1.0   \n",
       "1  Núñez - C.A.B.A.    gabymessina36        Gaby Messina     2.0   \n",
       "2     Hollywood, CA     Wendie_Rower        Wendie Rower     1.0   \n",
       "3                SP         binderbr     Marcello Binder     2.0   \n",
       "4               NaN          eufodeu              fodido     1.0   \n",
       "\n",
       "                                                                                                                  TextLimpo  \n",
       "0                            Dois são detidos ao tentar jogar celulares e drogas em presídio de MG  https://t.co/g258J0owsg  \n",
       "1  me matan esas minas q cambian 554 veces su foto de whatsapp y 628 veces el estado en 1 semana...qué carajo les pasa ????  \n",
       "2           Líderes de motim em presídio de Minas Gerais serão transferidos https://t.co/3ycejsK0yB https://t.co/RrIeOwDV4z  \n",
       "3     #Mídia:  Press Release from Business Wire : Digital Living Network Alliance - Estado de Minas https://t.co/wj7wMchv8S  \n",
       "4     Vacinação contra febre amarela é intensificada na zona rural de Araxá https://t.co/kfaIzOt54Q https://t.co/VnrbOHzFbW  "
      ]
     },
     "execution_count": 16,
     "metadata": {},
     "output_type": "execute_result"
    }
   ],
   "source": [
    "combi['TextLimpo'] = np.vectorize(remove_pattern)(combi['Text'], \"@[\\w]*\") \n",
    "combi.head(5)"
   ]
  },
  {
   "cell_type": "code",
   "execution_count": 17,
   "metadata": {},
   "outputs": [
    {
     "data": {
      "text/html": [
       "<div>\n",
       "<style scoped>\n",
       "    .dataframe tbody tr th:only-of-type {\n",
       "        vertical-align: middle;\n",
       "    }\n",
       "\n",
       "    .dataframe tbody tr th {\n",
       "        vertical-align: top;\n",
       "    }\n",
       "\n",
       "    .dataframe thead th {\n",
       "        text-align: right;\n",
       "    }\n",
       "</style>\n",
       "<table border=\"1\" class=\"dataframe\">\n",
       "  <thead>\n",
       "    <tr style=\"text-align: right;\">\n",
       "      <th></th>\n",
       "      <th>Classificacao</th>\n",
       "      <th>Created At</th>\n",
       "      <th>Geo Coordinates.latitude</th>\n",
       "      <th>Geo Coordinates.longitude</th>\n",
       "      <th>Id</th>\n",
       "      <th>Observação</th>\n",
       "      <th>Retweet Count</th>\n",
       "      <th>Text</th>\n",
       "      <th>User Location</th>\n",
       "      <th>User Screen Name</th>\n",
       "      <th>Username</th>\n",
       "      <th>rotulo</th>\n",
       "      <th>TextLimpo</th>\n",
       "    </tr>\n",
       "  </thead>\n",
       "  <tbody>\n",
       "    <tr>\n",
       "      <th>0</th>\n",
       "      <td>Positivo</td>\n",
       "      <td>Mon Jan 09 15:27:43 +0000 2017</td>\n",
       "      <td>NaN</td>\n",
       "      <td>NaN</td>\n",
       "      <td>6272</td>\n",
       "      <td>NaN</td>\n",
       "      <td>0</td>\n",
       "      <td>Dois são detidos ao tentar jogar celulares e drogas em presídio de MG  https://t.co/g258J0owsg</td>\n",
       "      <td>NaN</td>\n",
       "      <td>michelexmbeta</td>\n",
       "      <td>Michele #beta #sdv</td>\n",
       "      <td>1.0</td>\n",
       "      <td>Dois são detidos ao tentar jogar celulares e drogas em presídio de MG  https://t.co/g258J0owsg</td>\n",
       "    </tr>\n",
       "    <tr>\n",
       "      <th>1</th>\n",
       "      <td>Neutro</td>\n",
       "      <td>Sun Jan 08 02:14:34 +0000 2017</td>\n",
       "      <td>NaN</td>\n",
       "      <td>NaN</td>\n",
       "      <td>1644</td>\n",
       "      <td>NaN</td>\n",
       "      <td>0</td>\n",
       "      <td>me matan esas minas q cambian 554 veces su foto de whatsapp y 628 veces el estado en 1 semana...qué carajo les pasa ????</td>\n",
       "      <td>Núñez - C.A.B.A.</td>\n",
       "      <td>gabymessina36</td>\n",
       "      <td>Gaby Messina</td>\n",
       "      <td>2.0</td>\n",
       "      <td>me matan esas minas q cambian 554 veces su foto de whatsapp y 628 veces el estado en 1 semana...qué carajo les pasa ????</td>\n",
       "    </tr>\n",
       "    <tr>\n",
       "      <th>2</th>\n",
       "      <td>Positivo</td>\n",
       "      <td>Sat Feb 11 09:49:11 +0000 2017</td>\n",
       "      <td>NaN</td>\n",
       "      <td>NaN</td>\n",
       "      <td>7956</td>\n",
       "      <td>NaN</td>\n",
       "      <td>0</td>\n",
       "      <td>Líderes de motim em presídio de Minas Gerais serão transferidos https://t.co/3ycejsK0yB https://t.co/RrIeOwDV4z</td>\n",
       "      <td>Hollywood, CA</td>\n",
       "      <td>Wendie_Rower</td>\n",
       "      <td>Wendie Rower</td>\n",
       "      <td>1.0</td>\n",
       "      <td>Líderes de motim em presídio de Minas Gerais serão transferidos https://t.co/3ycejsK0yB https://t.co/RrIeOwDV4z</td>\n",
       "    </tr>\n",
       "    <tr>\n",
       "      <th>3</th>\n",
       "      <td>Neutro</td>\n",
       "      <td>Thu Jan 05 14:43:03 +0000 2017</td>\n",
       "      <td>NaN</td>\n",
       "      <td>NaN</td>\n",
       "      <td>85</td>\n",
       "      <td>NaN</td>\n",
       "      <td>0</td>\n",
       "      <td>#Mídia:  Press Release from Business Wire : Digital Living Network Alliance - Estado de Minas https://t.co/wj7wMchv8S</td>\n",
       "      <td>SP</td>\n",
       "      <td>binderbr</td>\n",
       "      <td>Marcello Binder</td>\n",
       "      <td>2.0</td>\n",
       "      <td>#Mídia:  Press Release from Business Wire : Digital Living Network Alliance - Estado de Minas https://t.co/wj7wMchv8S</td>\n",
       "    </tr>\n",
       "    <tr>\n",
       "      <th>4</th>\n",
       "      <td>Positivo</td>\n",
       "      <td>Wed Feb 08 22:52:10 +0000 2017</td>\n",
       "      <td>NaN</td>\n",
       "      <td>NaN</td>\n",
       "      <td>6006</td>\n",
       "      <td>NaN</td>\n",
       "      <td>0</td>\n",
       "      <td>Vacinação contra febre amarela é intensificada na zona rural de Araxá https://t.co/kfaIzOt54Q https://t.co/VnrbOHzFbW</td>\n",
       "      <td>NaN</td>\n",
       "      <td>eufodeu</td>\n",
       "      <td>fodido</td>\n",
       "      <td>1.0</td>\n",
       "      <td>Vacinação contra febre amarela é intensificada na zona rural de Araxá https://t.co/kfaIzOt54Q https://t.co/VnrbOHzFbW</td>\n",
       "    </tr>\n",
       "  </tbody>\n",
       "</table>\n",
       "</div>"
      ],
      "text/plain": [
       "  Classificacao                      Created At  Geo Coordinates.latitude  \\\n",
       "0      Positivo  Mon Jan 09 15:27:43 +0000 2017                       NaN   \n",
       "1        Neutro  Sun Jan 08 02:14:34 +0000 2017                       NaN   \n",
       "2      Positivo  Sat Feb 11 09:49:11 +0000 2017                       NaN   \n",
       "3        Neutro  Thu Jan 05 14:43:03 +0000 2017                       NaN   \n",
       "4      Positivo  Wed Feb 08 22:52:10 +0000 2017                       NaN   \n",
       "\n",
       "   Geo Coordinates.longitude    Id Observação  Retweet Count  \\\n",
       "0                        NaN  6272        NaN              0   \n",
       "1                        NaN  1644        NaN              0   \n",
       "2                        NaN  7956        NaN              0   \n",
       "3                        NaN    85        NaN              0   \n",
       "4                        NaN  6006        NaN              0   \n",
       "\n",
       "                                                                                                                       Text  \\\n",
       "0                            Dois são detidos ao tentar jogar celulares e drogas em presídio de MG  https://t.co/g258J0owsg   \n",
       "1  me matan esas minas q cambian 554 veces su foto de whatsapp y 628 veces el estado en 1 semana...qué carajo les pasa ????   \n",
       "2           Líderes de motim em presídio de Minas Gerais serão transferidos https://t.co/3ycejsK0yB https://t.co/RrIeOwDV4z   \n",
       "3     #Mídia:  Press Release from Business Wire : Digital Living Network Alliance - Estado de Minas https://t.co/wj7wMchv8S   \n",
       "4     Vacinação contra febre amarela é intensificada na zona rural de Araxá https://t.co/kfaIzOt54Q https://t.co/VnrbOHzFbW   \n",
       "\n",
       "      User Location User Screen Name            Username  rotulo  \\\n",
       "0               NaN    michelexmbeta  Michele #beta #sdv     1.0   \n",
       "1  Núñez - C.A.B.A.    gabymessina36        Gaby Messina     2.0   \n",
       "2     Hollywood, CA     Wendie_Rower        Wendie Rower     1.0   \n",
       "3                SP         binderbr     Marcello Binder     2.0   \n",
       "4               NaN          eufodeu              fodido     1.0   \n",
       "\n",
       "                                                                                                                  TextLimpo  \n",
       "0                            Dois são detidos ao tentar jogar celulares e drogas em presídio de MG  https://t.co/g258J0owsg  \n",
       "1  me matan esas minas q cambian 554 veces su foto de whatsapp y 628 veces el estado en 1 semana...qué carajo les pasa ????  \n",
       "2           Líderes de motim em presídio de Minas Gerais serão transferidos https://t.co/3ycejsK0yB https://t.co/RrIeOwDV4z  \n",
       "3     #Mídia:  Press Release from Business Wire : Digital Living Network Alliance - Estado de Minas https://t.co/wj7wMchv8S  \n",
       "4     Vacinação contra febre amarela é intensificada na zona rural de Araxá https://t.co/kfaIzOt54Q https://t.co/VnrbOHzFbW  "
      ]
     },
     "execution_count": 17,
     "metadata": {},
     "output_type": "execute_result"
    }
   ],
   "source": [
    "combi['TextLimpo'] = combi['TextLimpo'].str.replace(\"(\", \" \")\n",
    "combi['TextLimpo'] = combi['TextLimpo'].str.replace(\")\", \" \")\n",
    "combi['TextLimpo'] = combi['TextLimpo'].str.replace(\"RT\", \" \")\n",
    "combi.head(5)"
   ]
  },
  {
   "cell_type": "markdown",
   "metadata": {},
   "source": [
    "__3. Removendo links__"
   ]
  },
  {
   "cell_type": "code",
   "execution_count": 18,
   "metadata": {},
   "outputs": [
    {
     "data": {
      "text/html": [
       "<div>\n",
       "<style scoped>\n",
       "    .dataframe tbody tr th:only-of-type {\n",
       "        vertical-align: middle;\n",
       "    }\n",
       "\n",
       "    .dataframe tbody tr th {\n",
       "        vertical-align: top;\n",
       "    }\n",
       "\n",
       "    .dataframe thead th {\n",
       "        text-align: right;\n",
       "    }\n",
       "</style>\n",
       "<table border=\"1\" class=\"dataframe\">\n",
       "  <thead>\n",
       "    <tr style=\"text-align: right;\">\n",
       "      <th></th>\n",
       "      <th>Classificacao</th>\n",
       "      <th>Created At</th>\n",
       "      <th>Geo Coordinates.latitude</th>\n",
       "      <th>Geo Coordinates.longitude</th>\n",
       "      <th>Id</th>\n",
       "      <th>Observação</th>\n",
       "      <th>Retweet Count</th>\n",
       "      <th>Text</th>\n",
       "      <th>User Location</th>\n",
       "      <th>User Screen Name</th>\n",
       "      <th>Username</th>\n",
       "      <th>rotulo</th>\n",
       "      <th>TextLimpo</th>\n",
       "    </tr>\n",
       "  </thead>\n",
       "  <tbody>\n",
       "    <tr>\n",
       "      <th>0</th>\n",
       "      <td>Positivo</td>\n",
       "      <td>Mon Jan 09 15:27:43 +0000 2017</td>\n",
       "      <td>NaN</td>\n",
       "      <td>NaN</td>\n",
       "      <td>6272</td>\n",
       "      <td>NaN</td>\n",
       "      <td>0</td>\n",
       "      <td>Dois são detidos ao tentar jogar celulares e drogas em presídio de MG  https://t.co/g258J0owsg</td>\n",
       "      <td>NaN</td>\n",
       "      <td>michelexmbeta</td>\n",
       "      <td>Michele #beta #sdv</td>\n",
       "      <td>1.0</td>\n",
       "      <td>Dois são detidos ao tentar jogar celulares e drogas em presídio de MG</td>\n",
       "    </tr>\n",
       "    <tr>\n",
       "      <th>1</th>\n",
       "      <td>Neutro</td>\n",
       "      <td>Sun Jan 08 02:14:34 +0000 2017</td>\n",
       "      <td>NaN</td>\n",
       "      <td>NaN</td>\n",
       "      <td>1644</td>\n",
       "      <td>NaN</td>\n",
       "      <td>0</td>\n",
       "      <td>me matan esas minas q cambian 554 veces su foto de whatsapp y 628 veces el estado en 1 semana...qué carajo les pasa ????</td>\n",
       "      <td>Núñez - C.A.B.A.</td>\n",
       "      <td>gabymessina36</td>\n",
       "      <td>Gaby Messina</td>\n",
       "      <td>2.0</td>\n",
       "      <td>me matan esas minas q cambian 554 veces su foto de whatsapp y 628 veces el estado en 1 semana...qué carajo les pasa ????</td>\n",
       "    </tr>\n",
       "    <tr>\n",
       "      <th>2</th>\n",
       "      <td>Positivo</td>\n",
       "      <td>Sat Feb 11 09:49:11 +0000 2017</td>\n",
       "      <td>NaN</td>\n",
       "      <td>NaN</td>\n",
       "      <td>7956</td>\n",
       "      <td>NaN</td>\n",
       "      <td>0</td>\n",
       "      <td>Líderes de motim em presídio de Minas Gerais serão transferidos https://t.co/3ycejsK0yB https://t.co/RrIeOwDV4z</td>\n",
       "      <td>Hollywood, CA</td>\n",
       "      <td>Wendie_Rower</td>\n",
       "      <td>Wendie Rower</td>\n",
       "      <td>1.0</td>\n",
       "      <td>Líderes de motim em presídio de Minas Gerais serão transferidos</td>\n",
       "    </tr>\n",
       "    <tr>\n",
       "      <th>3</th>\n",
       "      <td>Neutro</td>\n",
       "      <td>Thu Jan 05 14:43:03 +0000 2017</td>\n",
       "      <td>NaN</td>\n",
       "      <td>NaN</td>\n",
       "      <td>85</td>\n",
       "      <td>NaN</td>\n",
       "      <td>0</td>\n",
       "      <td>#Mídia:  Press Release from Business Wire : Digital Living Network Alliance - Estado de Minas https://t.co/wj7wMchv8S</td>\n",
       "      <td>SP</td>\n",
       "      <td>binderbr</td>\n",
       "      <td>Marcello Binder</td>\n",
       "      <td>2.0</td>\n",
       "      <td>#Mídia:  Press Release from Business Wire : Digital Living Network Alliance - Estado de Minas</td>\n",
       "    </tr>\n",
       "    <tr>\n",
       "      <th>4</th>\n",
       "      <td>Positivo</td>\n",
       "      <td>Wed Feb 08 22:52:10 +0000 2017</td>\n",
       "      <td>NaN</td>\n",
       "      <td>NaN</td>\n",
       "      <td>6006</td>\n",
       "      <td>NaN</td>\n",
       "      <td>0</td>\n",
       "      <td>Vacinação contra febre amarela é intensificada na zona rural de Araxá https://t.co/kfaIzOt54Q https://t.co/VnrbOHzFbW</td>\n",
       "      <td>NaN</td>\n",
       "      <td>eufodeu</td>\n",
       "      <td>fodido</td>\n",
       "      <td>1.0</td>\n",
       "      <td>Vacinação contra febre amarela é intensificada na zona rural de Araxá</td>\n",
       "    </tr>\n",
       "  </tbody>\n",
       "</table>\n",
       "</div>"
      ],
      "text/plain": [
       "  Classificacao                      Created At  Geo Coordinates.latitude  \\\n",
       "0      Positivo  Mon Jan 09 15:27:43 +0000 2017                       NaN   \n",
       "1        Neutro  Sun Jan 08 02:14:34 +0000 2017                       NaN   \n",
       "2      Positivo  Sat Feb 11 09:49:11 +0000 2017                       NaN   \n",
       "3        Neutro  Thu Jan 05 14:43:03 +0000 2017                       NaN   \n",
       "4      Positivo  Wed Feb 08 22:52:10 +0000 2017                       NaN   \n",
       "\n",
       "   Geo Coordinates.longitude    Id Observação  Retweet Count  \\\n",
       "0                        NaN  6272        NaN              0   \n",
       "1                        NaN  1644        NaN              0   \n",
       "2                        NaN  7956        NaN              0   \n",
       "3                        NaN    85        NaN              0   \n",
       "4                        NaN  6006        NaN              0   \n",
       "\n",
       "                                                                                                                       Text  \\\n",
       "0                            Dois são detidos ao tentar jogar celulares e drogas em presídio de MG  https://t.co/g258J0owsg   \n",
       "1  me matan esas minas q cambian 554 veces su foto de whatsapp y 628 veces el estado en 1 semana...qué carajo les pasa ????   \n",
       "2           Líderes de motim em presídio de Minas Gerais serão transferidos https://t.co/3ycejsK0yB https://t.co/RrIeOwDV4z   \n",
       "3     #Mídia:  Press Release from Business Wire : Digital Living Network Alliance - Estado de Minas https://t.co/wj7wMchv8S   \n",
       "4     Vacinação contra febre amarela é intensificada na zona rural de Araxá https://t.co/kfaIzOt54Q https://t.co/VnrbOHzFbW   \n",
       "\n",
       "      User Location User Screen Name            Username  rotulo  \\\n",
       "0               NaN    michelexmbeta  Michele #beta #sdv     1.0   \n",
       "1  Núñez - C.A.B.A.    gabymessina36        Gaby Messina     2.0   \n",
       "2     Hollywood, CA     Wendie_Rower        Wendie Rower     1.0   \n",
       "3                SP         binderbr     Marcello Binder     2.0   \n",
       "4               NaN          eufodeu              fodido     1.0   \n",
       "\n",
       "                                                                                                                  TextLimpo  \n",
       "0                                                   Dois são detidos ao tentar jogar celulares e drogas em presídio de MG    \n",
       "1  me matan esas minas q cambian 554 veces su foto de whatsapp y 628 veces el estado en 1 semana...qué carajo les pasa ????  \n",
       "2                                                         Líderes de motim em presídio de Minas Gerais serão transferidos    \n",
       "3                            #Mídia:  Press Release from Business Wire : Digital Living Network Alliance - Estado de Minas   \n",
       "4                                                   Vacinação contra febre amarela é intensificada na zona rural de Araxá    "
      ]
     },
     "execution_count": 18,
     "metadata": {},
     "output_type": "execute_result"
    }
   ],
   "source": [
    "combi['TextLimpo'] = np.vectorize(remove_pattern)(combi['TextLimpo'], r'http\\S+') \n",
    "combi.head(5)"
   ]
  },
  {
   "cell_type": "markdown",
   "metadata": {},
   "source": [
    "__2. Removing Punctuations, Numbers, and Special Characters__"
   ]
  },
  {
   "cell_type": "code",
   "execution_count": 19,
   "metadata": {
    "collapsed": true
   },
   "outputs": [],
   "source": [
    "def remover_str_expressao_regular(texto, padrao):\n",
    "    texto = re.sub(padrao,'', texto)\n",
    "    return texto"
   ]
  },
  {
   "cell_type": "code",
   "execution_count": 20,
   "metadata": {},
   "outputs": [
    {
     "data": {
      "text/html": [
       "<div>\n",
       "<style scoped>\n",
       "    .dataframe tbody tr th:only-of-type {\n",
       "        vertical-align: middle;\n",
       "    }\n",
       "\n",
       "    .dataframe tbody tr th {\n",
       "        vertical-align: top;\n",
       "    }\n",
       "\n",
       "    .dataframe thead th {\n",
       "        text-align: right;\n",
       "    }\n",
       "</style>\n",
       "<table border=\"1\" class=\"dataframe\">\n",
       "  <thead>\n",
       "    <tr style=\"text-align: right;\">\n",
       "      <th></th>\n",
       "      <th>Classificacao</th>\n",
       "      <th>Created At</th>\n",
       "      <th>Geo Coordinates.latitude</th>\n",
       "      <th>Geo Coordinates.longitude</th>\n",
       "      <th>Id</th>\n",
       "      <th>Observação</th>\n",
       "      <th>Retweet Count</th>\n",
       "      <th>Text</th>\n",
       "      <th>User Location</th>\n",
       "      <th>User Screen Name</th>\n",
       "      <th>Username</th>\n",
       "      <th>rotulo</th>\n",
       "      <th>TextLimpo</th>\n",
       "    </tr>\n",
       "  </thead>\n",
       "  <tbody>\n",
       "    <tr>\n",
       "      <th>0</th>\n",
       "      <td>Positivo</td>\n",
       "      <td>Mon Jan 09 15:27:43 +0000 2017</td>\n",
       "      <td>NaN</td>\n",
       "      <td>NaN</td>\n",
       "      <td>6272</td>\n",
       "      <td>NaN</td>\n",
       "      <td>0</td>\n",
       "      <td>Dois são detidos ao tentar jogar celulares e drogas em presídio de MG  https://t.co/g258J0owsg</td>\n",
       "      <td>NaN</td>\n",
       "      <td>michelexmbeta</td>\n",
       "      <td>Michele #beta #sdv</td>\n",
       "      <td>1.0</td>\n",
       "      <td>Dois são detidos ao tentar jogar celulares e drogas em presídio de MG</td>\n",
       "    </tr>\n",
       "    <tr>\n",
       "      <th>1</th>\n",
       "      <td>Neutro</td>\n",
       "      <td>Sun Jan 08 02:14:34 +0000 2017</td>\n",
       "      <td>NaN</td>\n",
       "      <td>NaN</td>\n",
       "      <td>1644</td>\n",
       "      <td>NaN</td>\n",
       "      <td>0</td>\n",
       "      <td>me matan esas minas q cambian 554 veces su foto de whatsapp y 628 veces el estado en 1 semana...qué carajo les pasa ????</td>\n",
       "      <td>Núñez - C.A.B.A.</td>\n",
       "      <td>gabymessina36</td>\n",
       "      <td>Gaby Messina</td>\n",
       "      <td>2.0</td>\n",
       "      <td>me matan esas minas q cambian 554 veces su foto de whatsapp y 628 veces el estado en 1 semanaqué carajo les pasa</td>\n",
       "    </tr>\n",
       "    <tr>\n",
       "      <th>2</th>\n",
       "      <td>Positivo</td>\n",
       "      <td>Sat Feb 11 09:49:11 +0000 2017</td>\n",
       "      <td>NaN</td>\n",
       "      <td>NaN</td>\n",
       "      <td>7956</td>\n",
       "      <td>NaN</td>\n",
       "      <td>0</td>\n",
       "      <td>Líderes de motim em presídio de Minas Gerais serão transferidos https://t.co/3ycejsK0yB https://t.co/RrIeOwDV4z</td>\n",
       "      <td>Hollywood, CA</td>\n",
       "      <td>Wendie_Rower</td>\n",
       "      <td>Wendie Rower</td>\n",
       "      <td>1.0</td>\n",
       "      <td>Líderes de motim em presídio de Minas Gerais serão transferidos</td>\n",
       "    </tr>\n",
       "    <tr>\n",
       "      <th>3</th>\n",
       "      <td>Neutro</td>\n",
       "      <td>Thu Jan 05 14:43:03 +0000 2017</td>\n",
       "      <td>NaN</td>\n",
       "      <td>NaN</td>\n",
       "      <td>85</td>\n",
       "      <td>NaN</td>\n",
       "      <td>0</td>\n",
       "      <td>#Mídia:  Press Release from Business Wire : Digital Living Network Alliance - Estado de Minas https://t.co/wj7wMchv8S</td>\n",
       "      <td>SP</td>\n",
       "      <td>binderbr</td>\n",
       "      <td>Marcello Binder</td>\n",
       "      <td>2.0</td>\n",
       "      <td>Mídia  Press Release from Business Wire  Digital Living Network Alliance  Estado de Minas</td>\n",
       "    </tr>\n",
       "    <tr>\n",
       "      <th>4</th>\n",
       "      <td>Positivo</td>\n",
       "      <td>Wed Feb 08 22:52:10 +0000 2017</td>\n",
       "      <td>NaN</td>\n",
       "      <td>NaN</td>\n",
       "      <td>6006</td>\n",
       "      <td>NaN</td>\n",
       "      <td>0</td>\n",
       "      <td>Vacinação contra febre amarela é intensificada na zona rural de Araxá https://t.co/kfaIzOt54Q https://t.co/VnrbOHzFbW</td>\n",
       "      <td>NaN</td>\n",
       "      <td>eufodeu</td>\n",
       "      <td>fodido</td>\n",
       "      <td>1.0</td>\n",
       "      <td>Vacinação contra febre amarela é intensificada na zona rural de Araxá</td>\n",
       "    </tr>\n",
       "  </tbody>\n",
       "</table>\n",
       "</div>"
      ],
      "text/plain": [
       "  Classificacao                      Created At  Geo Coordinates.latitude  \\\n",
       "0      Positivo  Mon Jan 09 15:27:43 +0000 2017                       NaN   \n",
       "1        Neutro  Sun Jan 08 02:14:34 +0000 2017                       NaN   \n",
       "2      Positivo  Sat Feb 11 09:49:11 +0000 2017                       NaN   \n",
       "3        Neutro  Thu Jan 05 14:43:03 +0000 2017                       NaN   \n",
       "4      Positivo  Wed Feb 08 22:52:10 +0000 2017                       NaN   \n",
       "\n",
       "   Geo Coordinates.longitude    Id Observação  Retweet Count  \\\n",
       "0                        NaN  6272        NaN              0   \n",
       "1                        NaN  1644        NaN              0   \n",
       "2                        NaN  7956        NaN              0   \n",
       "3                        NaN    85        NaN              0   \n",
       "4                        NaN  6006        NaN              0   \n",
       "\n",
       "                                                                                                                       Text  \\\n",
       "0                            Dois são detidos ao tentar jogar celulares e drogas em presídio de MG  https://t.co/g258J0owsg   \n",
       "1  me matan esas minas q cambian 554 veces su foto de whatsapp y 628 veces el estado en 1 semana...qué carajo les pasa ????   \n",
       "2           Líderes de motim em presídio de Minas Gerais serão transferidos https://t.co/3ycejsK0yB https://t.co/RrIeOwDV4z   \n",
       "3     #Mídia:  Press Release from Business Wire : Digital Living Network Alliance - Estado de Minas https://t.co/wj7wMchv8S   \n",
       "4     Vacinação contra febre amarela é intensificada na zona rural de Araxá https://t.co/kfaIzOt54Q https://t.co/VnrbOHzFbW   \n",
       "\n",
       "      User Location User Screen Name            Username  rotulo  \\\n",
       "0               NaN    michelexmbeta  Michele #beta #sdv     1.0   \n",
       "1  Núñez - C.A.B.A.    gabymessina36        Gaby Messina     2.0   \n",
       "2     Hollywood, CA     Wendie_Rower        Wendie Rower     1.0   \n",
       "3                SP         binderbr     Marcello Binder     2.0   \n",
       "4               NaN          eufodeu              fodido     1.0   \n",
       "\n",
       "                                                                                                           TextLimpo  \n",
       "0                                            Dois são detidos ao tentar jogar celulares e drogas em presídio de MG    \n",
       "1  me matan esas minas q cambian 554 veces su foto de whatsapp y 628 veces el estado en 1 semanaqué carajo les pasa   \n",
       "2                                                  Líderes de motim em presídio de Minas Gerais serão transferidos    \n",
       "3                         Mídia  Press Release from Business Wire  Digital Living Network Alliance  Estado de Minas   \n",
       "4                                            Vacinação contra febre amarela é intensificada na zona rural de Araxá    "
      ]
     },
     "execution_count": 20,
     "metadata": {},
     "output_type": "execute_result"
    }
   ],
   "source": [
    "# combi['TextLimpo'] = combi['TextLimpo'].str.replace(\"[^a-zA-Z#]\", \" \")\n",
    "combi['TextLimpo'] = np.vectorize(remover_str_expressao_regular)(combi['TextLimpo'], r'[^\\w\\s]') \n",
    "combi.head(5)"
   ]
  },
  {
   "cell_type": "markdown",
   "metadata": {},
   "source": [
    "__4. Remover quebra de linha__"
   ]
  },
  {
   "cell_type": "code",
   "execution_count": 21,
   "metadata": {
    "collapsed": true
   },
   "outputs": [],
   "source": [
    "combi['TextLimpo'] = combi['TextLimpo'].str.replace(\"\\n\", \" \")\n",
    "combi['TextLimpo'] = combi['TextLimpo'].str.replace(\"\\r\", \" \")"
   ]
  },
  {
   "cell_type": "markdown",
   "metadata": {},
   "source": [
    "__5. Carregar lista de stop words__"
   ]
  },
  {
   "cell_type": "code",
   "execution_count": 22,
   "metadata": {
    "collapsed": true
   },
   "outputs": [],
   "source": [
    "with open('stopwords.txt') as f:\n",
    "    content = f.readlines()\n",
    "stop_words_list = [x.strip() for x in content] "
   ]
  },
  {
   "cell_type": "markdown",
   "metadata": {},
   "source": [
    "Let’s take another look at the first few rows of the combined dataframe."
   ]
  },
  {
   "cell_type": "code",
   "execution_count": 23,
   "metadata": {},
   "outputs": [
    {
     "data": {
      "text/html": [
       "<div>\n",
       "<style scoped>\n",
       "    .dataframe tbody tr th:only-of-type {\n",
       "        vertical-align: middle;\n",
       "    }\n",
       "\n",
       "    .dataframe tbody tr th {\n",
       "        vertical-align: top;\n",
       "    }\n",
       "\n",
       "    .dataframe thead th {\n",
       "        text-align: right;\n",
       "    }\n",
       "</style>\n",
       "<table border=\"1\" class=\"dataframe\">\n",
       "  <thead>\n",
       "    <tr style=\"text-align: right;\">\n",
       "      <th></th>\n",
       "      <th>Classificacao</th>\n",
       "      <th>Created At</th>\n",
       "      <th>Geo Coordinates.latitude</th>\n",
       "      <th>Geo Coordinates.longitude</th>\n",
       "      <th>Id</th>\n",
       "      <th>Observação</th>\n",
       "      <th>Retweet Count</th>\n",
       "      <th>Text</th>\n",
       "      <th>User Location</th>\n",
       "      <th>User Screen Name</th>\n",
       "      <th>Username</th>\n",
       "      <th>rotulo</th>\n",
       "      <th>TextLimpo</th>\n",
       "    </tr>\n",
       "  </thead>\n",
       "  <tbody>\n",
       "    <tr>\n",
       "      <th>0</th>\n",
       "      <td>Positivo</td>\n",
       "      <td>Mon Jan 09 15:27:43 +0000 2017</td>\n",
       "      <td>NaN</td>\n",
       "      <td>NaN</td>\n",
       "      <td>6272</td>\n",
       "      <td>NaN</td>\n",
       "      <td>0</td>\n",
       "      <td>Dois são detidos ao tentar jogar celulares e drogas em presídio de MG  https://t.co/g258J0owsg</td>\n",
       "      <td>NaN</td>\n",
       "      <td>michelexmbeta</td>\n",
       "      <td>Michele #beta #sdv</td>\n",
       "      <td>1.0</td>\n",
       "      <td>Dois são detidos ao tentar jogar celulares e drogas em presídio de MG</td>\n",
       "    </tr>\n",
       "    <tr>\n",
       "      <th>1</th>\n",
       "      <td>Neutro</td>\n",
       "      <td>Sun Jan 08 02:14:34 +0000 2017</td>\n",
       "      <td>NaN</td>\n",
       "      <td>NaN</td>\n",
       "      <td>1644</td>\n",
       "      <td>NaN</td>\n",
       "      <td>0</td>\n",
       "      <td>me matan esas minas q cambian 554 veces su foto de whatsapp y 628 veces el estado en 1 semana...qué carajo les pasa ????</td>\n",
       "      <td>Núñez - C.A.B.A.</td>\n",
       "      <td>gabymessina36</td>\n",
       "      <td>Gaby Messina</td>\n",
       "      <td>2.0</td>\n",
       "      <td>me matan esas minas q cambian 554 veces su foto de whatsapp y 628 veces el estado en 1 semanaqué carajo les pasa</td>\n",
       "    </tr>\n",
       "  </tbody>\n",
       "</table>\n",
       "</div>"
      ],
      "text/plain": [
       "  Classificacao                      Created At  Geo Coordinates.latitude  \\\n",
       "0      Positivo  Mon Jan 09 15:27:43 +0000 2017                       NaN   \n",
       "1        Neutro  Sun Jan 08 02:14:34 +0000 2017                       NaN   \n",
       "\n",
       "   Geo Coordinates.longitude    Id Observação  Retweet Count  \\\n",
       "0                        NaN  6272        NaN              0   \n",
       "1                        NaN  1644        NaN              0   \n",
       "\n",
       "                                                                                                                       Text  \\\n",
       "0                            Dois são detidos ao tentar jogar celulares e drogas em presídio de MG  https://t.co/g258J0owsg   \n",
       "1  me matan esas minas q cambian 554 veces su foto de whatsapp y 628 veces el estado en 1 semana...qué carajo les pasa ????   \n",
       "\n",
       "      User Location User Screen Name            Username  rotulo  \\\n",
       "0               NaN    michelexmbeta  Michele #beta #sdv     1.0   \n",
       "1  Núñez - C.A.B.A.    gabymessina36        Gaby Messina     2.0   \n",
       "\n",
       "                                                                                                           TextLimpo  \n",
       "0                                            Dois são detidos ao tentar jogar celulares e drogas em presídio de MG    \n",
       "1  me matan esas minas q cambian 554 veces su foto de whatsapp y 628 veces el estado en 1 semanaqué carajo les pasa   "
      ]
     },
     "execution_count": 23,
     "metadata": {},
     "output_type": "execute_result"
    }
   ],
   "source": [
    "combi.head(2)"
   ]
  },
  {
   "cell_type": "code",
   "execution_count": 24,
   "metadata": {},
   "outputs": [
    {
     "name": "stdout",
     "output_type": "stream",
     "text": [
      "Dois são detidos ao tentar jogar celulares e drogas em presídio de MG  \n",
      "['dois', 'detidos', 'tentar', 'jogar', 'celulares', 'drogas', 'presídio', 'mg']\n"
     ]
    }
   ],
   "source": [
    "def tokenize(text):\n",
    "    # Tokenização\n",
    "    tokens = nltk.word_tokenize(text)\n",
    "    tokens = [token.lower() for token in tokens]\n",
    "    tokens = [token for token in tokens if token not in stop_words_list]\n",
    "    return tokens\n",
    "print(combi['TextLimpo'][0])\n",
    "print(tokenize(combi['TextLimpo'][0]))"
   ]
  },
  {
   "cell_type": "code",
   "execution_count": 25,
   "metadata": {
    "collapsed": true
   },
   "outputs": [],
   "source": [
    "texto_limpo_tokenizado = combi['TextLimpo'].apply(lambda x: tokenize(x)) # tokenizing"
   ]
  },
  {
   "cell_type": "code",
   "execution_count": 26,
   "metadata": {},
   "outputs": [
    {
     "data": {
      "text/plain": [
       "0    [dois, detidos, tentar, jogar, celulares, drogas, presídio, mg]\n",
       "Name: TextLimpo, dtype: object"
      ]
     },
     "execution_count": 26,
     "metadata": {},
     "output_type": "execute_result"
    }
   ],
   "source": [
    "texto_limpo_tokenizado.head(1)"
   ]
  },
  {
   "cell_type": "markdown",
   "metadata": {},
   "source": [
    "Now we can normalize the tokenized tweets."
   ]
  },
  {
   "cell_type": "code",
   "execution_count": 27,
   "metadata": {
    "collapsed": true
   },
   "outputs": [],
   "source": [
    "for i in range(len(texto_limpo_tokenizado)):\n",
    "    texto_limpo_tokenizado[i] = ' '.join(texto_limpo_tokenizado[i])\n",
    "    \n",
    "combi['TextLimpo'] = texto_limpo_tokenizado"
   ]
  },
  {
   "cell_type": "code",
   "execution_count": 28,
   "metadata": {},
   "outputs": [
    {
     "data": {
      "text/plain": [
       "0    dois detidos tentar jogar celulares drogas presídio mg\n",
       "Name: TextLimpo, dtype: object"
      ]
     },
     "execution_count": 28,
     "metadata": {},
     "output_type": "execute_result"
    }
   ],
   "source": [
    "texto_limpo_tokenizado.head(1)"
   ]
  },
  {
   "cell_type": "markdown",
   "metadata": {},
   "source": [
    "## Extracting Features from Cleaned Tweets"
   ]
  },
  {
   "cell_type": "code",
   "execution_count": 29,
   "metadata": {
    "collapsed": true
   },
   "outputs": [],
   "source": [
    "from sklearn.feature_extraction.text import TfidfVectorizer, CountVectorizer\n",
    "import gensim"
   ]
  },
  {
   "cell_type": "markdown",
   "metadata": {},
   "source": [
    "### TF-IDF Features"
   ]
  },
  {
   "cell_type": "code",
   "execution_count": 30,
   "metadata": {},
   "outputs": [
    {
     "name": "stdout",
     "output_type": "stream",
     "text": [
      "(8199, 21001)\n",
      "(8199, 66501)\n"
     ]
    }
   ],
   "source": [
    "# tfidf_vectorizer = TfidfVectorizer(max_df=0.90, min_df=2, max_features=1000, stop_words='english')\n",
    "# tfidf = tfidf_vectorizer.fit_transform(combi['tidy_tweet'])\n",
    "tfidf_vectorizer = TfidfVectorizer(ngram_range=(1,2), stop_words=stop_words_list)\n",
    "tfidf = tfidf_vectorizer.fit_transform(combi['TextLimpo'])\n",
    "tfidf_3gram_vectorizer = TfidfVectorizer(ngram_range=(1,5), stop_words=stop_words_list)\n",
    "tfidf_3gram = tfidf_3gram_vectorizer.fit_transform(combi['TextLimpo'])\n",
    "print(tfidf.shape)\n",
    "print(tfidf_3gram.shape)"
   ]
  },
  {
   "cell_type": "markdown",
   "metadata": {
    "collapsed": true
   },
   "source": [
    "---"
   ]
  },
  {
   "cell_type": "markdown",
   "metadata": {},
   "source": [
    "## Model Building\n",
    "\n",
    "We are now done with all the pre-modeling stages required to get the data in the proper form and shape. We will be building models on the datasets with different feature sets prepared in the earlier sections — Bag-of-Words, TF-IDF, word2vec vectors, and doc2vec vectors. We will use the following algorithms to build models:\n",
    "\n",
    "1. Logistic Regression\n",
    "2. Support Vector Machine\n",
    "3. RandomForest\n",
    "4. XGBoost"
   ]
  },
  {
   "cell_type": "markdown",
   "metadata": {},
   "source": [
    "#### TF-IDF Features"
   ]
  },
  {
   "cell_type": "code",
   "execution_count": 31,
   "metadata": {
    "collapsed": true
   },
   "outputs": [],
   "source": [
    "train_tfidf_full = tfidf[:6559,:]\n",
    "train_tfidf_3gram_full = tfidf_3gram[:6559,:]\n",
    "\n",
    "# splitting data into training and validation set\n",
    "xtrain_tfif, xvalid_tfidf, ytrain_tfidf, yvalid_tfidf = train_test_split(train_tfidf_full, train['rotulo'][:6559],  \n",
    "                                                          random_state=42, \n",
    "                                                          test_size=0.3)\n",
    "\n",
    "\n",
    "y_full = train['rotulo'][:6559]\n",
    "\n",
    "xtrain_tfif_3gram, xvalid_tfidf_3gram, ytrain_tfidf_3gram, yvalid_tfidf_3gram = train_test_split(train_tfidf_full, train['rotulo'][:6559],  \n",
    "                                                          random_state=42, \n",
    "                                                          test_size=0.3)\n",
    "\n",
    "\n"
   ]
  },
  {
   "cell_type": "markdown",
   "metadata": {},
   "source": [
    "Public Leaderboard F1 Score: 0.564"
   ]
  },
  {
   "cell_type": "markdown",
   "metadata": {},
   "source": [
    "#### TF-IDF bigram Features"
   ]
  },
  {
   "cell_type": "code",
   "execution_count": 32,
   "metadata": {},
   "outputs": [
    {
     "name": "stdout",
     "output_type": "stream",
     "text": [
      "f1_score: 0.9591619950286233 | acc: 0.9613821138211383\n"
     ]
    }
   ],
   "source": [
    "svc_tfidf_bigram = svm.SVC(kernel='linear', C=1, probability=True).fit(xtrain_tfif, ytrain_tfidf)\n",
    "prediction = svc_tfidf_bigram.predict(xvalid_tfidf)\n",
    "f1_score_result = f1_score(yvalid_tfidf, prediction, average='macro') # calculating f1 score\n",
    "acc_result = accuracy_score(yvalid_tfidf, prediction) # calculating accuracy\n",
    "print('f1_score: %s | acc: %s' % (f1_score_result, acc_result))"
   ]
  },
  {
   "cell_type": "markdown",
   "metadata": {},
   "source": [
    "## TF-IDF 3-gram"
   ]
  },
  {
   "cell_type": "code",
   "execution_count": 33,
   "metadata": {},
   "outputs": [
    {
     "name": "stdout",
     "output_type": "stream",
     "text": [
      "f1_score: 0.9591716670032219 | acc: 0.9613821138211383\n"
     ]
    }
   ],
   "source": [
    "svc_tfidf_3gram = svm.SVC(kernel='linear', C=1.2, probability=True).fit(xtrain_tfif_3gram, ytrain_tfidf_3gram)\n",
    "prediction_tfidf_3gram = svc_tfidf_3gram.predict(xvalid_tfidf_3gram)\n",
    "f1_score_result_tfid_3gram = f1_score(yvalid_tfidf_3gram, prediction_tfidf_3gram, average='macro') # calculating f1 score\n",
    "acc_result_3gram = accuracy_score(yvalid_tfidf_3gram, prediction_tfidf_3gram) # calculating accuracy\n",
    "print('f1_score: %s | acc: %s' % (f1_score_result_tfid_3gram, acc_result_3gram))"
   ]
  },
  {
   "cell_type": "markdown",
   "metadata": {},
   "source": [
    "### Melhor resultado com SVM usando TFIDF sem normalizacao lexical. treinar o SVM e trainset completo."
   ]
  },
  {
   "cell_type": "code",
   "execution_count": 34,
   "metadata": {
    "collapsed": true
   },
   "outputs": [],
   "source": [
    "train_tfidf = tfidf[:6559,:]\n",
    "y_train_full = train['rotulo'][:6559]\n",
    "svc = svm.SVC(kernel='linear', C=1, probability=True).fit(train_tfidf, y_train_full)\n"
   ]
  },
  {
   "cell_type": "code",
   "execution_count": 35,
   "metadata": {},
   "outputs": [
    {
     "data": {
      "text/html": [
       "<div>\n",
       "<style scoped>\n",
       "    .dataframe tbody tr th:only-of-type {\n",
       "        vertical-align: middle;\n",
       "    }\n",
       "\n",
       "    .dataframe tbody tr th {\n",
       "        vertical-align: top;\n",
       "    }\n",
       "\n",
       "    .dataframe thead th {\n",
       "        text-align: right;\n",
       "    }\n",
       "</style>\n",
       "<table border=\"1\" class=\"dataframe\">\n",
       "  <thead>\n",
       "    <tr style=\"text-align: right;\">\n",
       "      <th></th>\n",
       "      <th>Created At</th>\n",
       "      <th>Text</th>\n",
       "      <th>Geo Coordinates.latitude</th>\n",
       "      <th>Geo Coordinates.longitude</th>\n",
       "      <th>User Location</th>\n",
       "      <th>Username</th>\n",
       "      <th>User Screen Name</th>\n",
       "      <th>Retweet Count</th>\n",
       "      <th>Observação</th>\n",
       "      <th>Id</th>\n",
       "    </tr>\n",
       "  </thead>\n",
       "  <tbody>\n",
       "    <tr>\n",
       "      <th>0</th>\n",
       "      <td>Thu Jan 05 12:00:34 +0000 2017</td>\n",
       "      <td>RT @JDanieldf: Pedindo para que MG reaja? Reagir contra o governador queridinho dos eleitores mineiros? https://t.co/mMCw5wyyL8</td>\n",
       "      <td>NaN</td>\n",
       "      <td>NaN</td>\n",
       "      <td>Balneário Camboriú - SC</td>\n",
       "      <td>Mirela Franz</td>\n",
       "      <td>MiLick74</td>\n",
       "      <td>27</td>\n",
       "      <td>NaN</td>\n",
       "      <td>3568</td>\n",
       "    </tr>\n",
       "    <tr>\n",
       "      <th>1</th>\n",
       "      <td>Fri Jan 06 11:54:50 +0000 2017</td>\n",
       "      <td>Homem que matou ex-mulher e jogou corpo em cisterna contou com ajuda de amigo - Gerais - Estado de Minas https://t.co/BoRuUPDEBG</td>\n",
       "      <td>NaN</td>\n",
       "      <td>NaN</td>\n",
       "      <td>Belo Horizonte MG Brasil</td>\n",
       "      <td>Ricardo Carlini</td>\n",
       "      <td>carlinibh</td>\n",
       "      <td>1</td>\n",
       "      <td>NaN</td>\n",
       "      <td>1323</td>\n",
       "    </tr>\n",
       "  </tbody>\n",
       "</table>\n",
       "</div>"
      ],
      "text/plain": [
       "                       Created At  \\\n",
       "0  Thu Jan 05 12:00:34 +0000 2017   \n",
       "1  Fri Jan 06 11:54:50 +0000 2017   \n",
       "\n",
       "                                                                                                                               Text  \\\n",
       "0   RT @JDanieldf: Pedindo para que MG reaja? Reagir contra o governador queridinho dos eleitores mineiros? https://t.co/mMCw5wyyL8   \n",
       "1  Homem que matou ex-mulher e jogou corpo em cisterna contou com ajuda de amigo - Gerais - Estado de Minas https://t.co/BoRuUPDEBG   \n",
       "\n",
       "   Geo Coordinates.latitude  Geo Coordinates.longitude  \\\n",
       "0                       NaN                        NaN   \n",
       "1                       NaN                        NaN   \n",
       "\n",
       "              User Location         Username User Screen Name  Retweet Count  \\\n",
       "0   Balneário Camboriú - SC     Mirela Franz         MiLick74             27   \n",
       "1  Belo Horizonte MG Brasil  Ricardo Carlini        carlinibh              1   \n",
       "\n",
       "   Observação    Id  \n",
       "0         NaN  3568  \n",
       "1         NaN  1323  "
      ]
     },
     "execution_count": 35,
     "metadata": {},
     "output_type": "execute_result"
    }
   ],
   "source": [
    "test.head(2)"
   ]
  },
  {
   "cell_type": "markdown",
   "metadata": {},
   "source": [
    "## treinamento de word2vec com SVM"
   ]
  },
  {
   "cell_type": "code",
   "execution_count": 36,
   "metadata": {},
   "outputs": [
    {
     "data": {
      "text/plain": [
       "(1114419, 1547860)"
      ]
     },
     "execution_count": 36,
     "metadata": {},
     "output_type": "execute_result"
    }
   ],
   "source": [
    "tokenized_tweet = combi['TextLimpo'].apply(lambda x: x.split()) # tokenizing\n",
    "model_w2v = gensim.models.Word2Vec(\n",
    "            tokenized_tweet,\n",
    "            size=200, # desired no. of features/independent variables \n",
    "            window=3, # context window size\n",
    "            min_count=2,\n",
    "            sg = 1, # 1 for skip-gram model\n",
    "            hs = 0,\n",
    "            negative = 10, # for negative sampling\n",
    "            workers= 2, # no.of cores\n",
    "            seed = 34)\n",
    "\n",
    "model_w2v.train(tokenized_tweet, total_examples= len(combi['TextLimpo']), epochs=20)"
   ]
  },
  {
   "cell_type": "code",
   "execution_count": 37,
   "metadata": {
    "collapsed": true
   },
   "outputs": [],
   "source": [
    "def word_vector(tokens, size):\n",
    "    vec = np.zeros(size).reshape((1, size))\n",
    "    count = 0.\n",
    "    for word in tokens:\n",
    "        try:\n",
    "            vec += model_w2v[word].reshape((1, size))\n",
    "            count += 1.\n",
    "        except KeyError: # handling the case where the token is not in vocabulary\n",
    "                         \n",
    "            continue\n",
    "    if count != 0:\n",
    "        vec /= count\n",
    "    return vec"
   ]
  },
  {
   "cell_type": "markdown",
   "metadata": {},
   "source": [
    "#### Word2Vec Features"
   ]
  },
  {
   "cell_type": "code",
   "execution_count": 38,
   "metadata": {},
   "outputs": [
    {
     "data": {
      "text/plain": [
       "(8199, 200)"
      ]
     },
     "execution_count": 38,
     "metadata": {},
     "output_type": "execute_result"
    }
   ],
   "source": [
    "wordvec_arrays = np.zeros((len(tokenized_tweet), 200))\n",
    "\n",
    "for i in range(len(tokenized_tweet)):\n",
    "    wordvec_arrays[i,:] = word_vector(tokenized_tweet[i], 200)\n",
    "    \n",
    "wordvec_df = pd.DataFrame(wordvec_arrays)\n",
    "wordvec_df.shape    "
   ]
  },
  {
   "cell_type": "code",
   "execution_count": 39,
   "metadata": {},
   "outputs": [
    {
     "name": "stdout",
     "output_type": "stream",
     "text": [
      "(6559, 12)\n"
     ]
    }
   ],
   "source": [
    "print(train.shape)\n",
    "train_w2v = wordvec_df.iloc[:6559,:]\n",
    "# test_w2v = wordvec_df.iloc[6000:6559,:]\n",
    "\n",
    "xtrain_w2c, xvalid_w2c, ytrain, yvalid = train_test_split(train_w2v, train['rotulo'][:6559],  \n",
    "                                                          random_state=42, \n",
    "                                                          test_size=0.3)\n",
    "\n",
    "xtrain_w2v = train_w2v.iloc[ytrain.index,:]\n",
    "xvalid_w2v = train_w2v.iloc[yvalid.index,:]"
   ]
  },
  {
   "cell_type": "code",
   "execution_count": 40,
   "metadata": {},
   "outputs": [
    {
     "name": "stdout",
     "output_type": "stream",
     "text": [
      "f1_score: 0.9322588162676593 | acc: 0.9344512195121951\n"
     ]
    }
   ],
   "source": [
    "svc_w2v = svm.SVC(kernel='linear', C=1, probability=True).fit(xtrain_w2v, ytrain)\n",
    "\n",
    "prediction = svc_w2v.predict(xvalid_w2v)\n",
    "f1_score_result = f1_score(yvalid, prediction, average='macro') # calculating f1 score\n",
    "acc_result = accuracy_score(yvalid, prediction) # calculating accuracy\n",
    "print('f1_score: %s | acc: %s' % (f1_score_result, acc_result))"
   ]
  },
  {
   "cell_type": "markdown",
   "metadata": {},
   "source": [
    "### 3. RandomForest"
   ]
  },
  {
   "cell_type": "code",
   "execution_count": 41,
   "metadata": {},
   "outputs": [],
   "source": [
    "rf_3gram = RandomForestClassifier(n_estimators=200, random_state=11).fit(xtrain_tfif_3gram, ytrain_tfidf_3gram)"
   ]
  },
  {
   "cell_type": "code",
   "execution_count": 43,
   "metadata": {},
   "outputs": [
    {
     "name": "stdout",
     "output_type": "stream",
     "text": [
      "f1_score: 0.9565863539911815 | acc: 0.9583333333333334\n"
     ]
    }
   ],
   "source": [
    "prediction_rf_3gram = rf_3gram.predict(xvalid_tfidf_3gram)\n",
    "f1_score_result_rf_3gram = f1_score(yvalid_tfidf_3gram, prediction_rf_3gram, average='macro')\n",
    "acc_result_rf_3gram = accuracy_score(yvalid_tfidf_3gram, prediction_rf_3gram) # calculating accuracy\n",
    "print('f1_score: %s | acc: %s' % (f1_score_result_rf_3gram, acc_result_rf_3gram))"
   ]
  },
  {
   "cell_type": "markdown",
   "metadata": {},
   "source": [
    "##  treinamento de glove com SVM\n",
    "#### modelo nao utilizado, uma vez que apresentou queda no desempenho acuracia de 94%, abixo dos outros modelos, e ao ser utilizado no ensemble aparentemente deteriorou o resultado final\n"
   ]
  },
  {
   "cell_type": "markdown",
   "metadata": {},
   "source": [
    "## treinamento dos 3 classificadores com todo o dataset"
   ]
  },
  {
   "cell_type": "code",
   "execution_count": 45,
   "metadata": {
    "collapsed": true
   },
   "outputs": [],
   "source": [
    "svc_tfidf_bigram_full = svm.SVC(kernel='linear', C=1, probability=True).fit(train_tfidf_full, y_full)\n"
   ]
  },
  {
   "cell_type": "code",
   "execution_count": 46,
   "metadata": {
    "collapsed": true
   },
   "outputs": [],
   "source": [
    "svc_w2v_full = svm.SVC(kernel='linear', C=1, probability=True).fit(train_w2v, y_full)"
   ]
  },
  {
   "cell_type": "code",
   "execution_count": 47,
   "metadata": {
    "collapsed": true
   },
   "outputs": [],
   "source": [
    "rf_3gram_full = RandomForestClassifier(n_estimators=200, random_state=11).fit(train_tfidf_3gram_full, y_full)\n"
   ]
  },
  {
   "cell_type": "code",
   "execution_count": 48,
   "metadata": {},
   "outputs": [
    {
     "name": "stdout",
     "output_type": "stream",
     "text": [
      "(1640, 21001)\n"
     ]
    }
   ],
   "source": [
    "test_tfidf = tfidf[6559:,:]\n",
    "print(test_tfidf.shape)"
   ]
  },
  {
   "cell_type": "code",
   "execution_count": 49,
   "metadata": {},
   "outputs": [
    {
     "name": "stdout",
     "output_type": "stream",
     "text": [
      "(1640, 200)\n"
     ]
    }
   ],
   "source": [
    "test_w2v = wordvec_df.iloc[6559:,:]\n",
    "print(test_w2v.shape)"
   ]
  },
  {
   "cell_type": "code",
   "execution_count": 51,
   "metadata": {},
   "outputs": [
    {
     "name": "stdout",
     "output_type": "stream",
     "text": [
      "(1640, 66501)\n"
     ]
    }
   ],
   "source": [
    "test_tfidf_3gram = tfidf_3gram[6559:,:]\n",
    "print(test_tfidf_3gram.shape)"
   ]
  },
  {
   "cell_type": "code",
   "execution_count": 52,
   "metadata": {
    "collapsed": true
   },
   "outputs": [],
   "source": [
    "estimator_list_full = [svc_tfidf_bigram_full, svc_w2v_full, rf_3gram_full]\n",
    "x_test_list = [test_tfidf,test_w2v, test_tfidf_3gram]"
   ]
  },
  {
   "cell_type": "code",
   "execution_count": 53,
   "metadata": {
    "collapsed": true
   },
   "outputs": [],
   "source": [
    "def predict_from_multiple_estimator_index(estimators, X_list, weights = None):\n",
    "    # Predict 'soft' voting with probabilities\n",
    "    pred1 = np.asarray([clf.predict_proba(X) for clf, X in zip(estimators, X_list)])\n",
    "    pred2 = np.average(pred1, axis=0, weights=weights)\n",
    "    pred = np.argmax(pred2, axis=1)\n",
    "    # Convert integer predictions to original labels:\n",
    "    return pred"
   ]
  },
  {
   "cell_type": "code",
   "execution_count": 54,
   "metadata": {
    "collapsed": true
   },
   "outputs": [],
   "source": [
    "y_test_pred_indexed =  predict_from_multiple_estimator_index(estimator_list_full, x_test_list)"
   ]
  },
  {
   "cell_type": "code",
   "execution_count": 55,
   "metadata": {
    "collapsed": true
   },
   "outputs": [],
   "source": [
    "y_test_pred = []\n",
    "list_classes = svc_tfidf_bigram_full.classes_\n",
    "for y_index in y_test_pred_indexed:\n",
    "    y_preditec = list_classes[y_index]\n",
    "    y_test_pred.append(y_preditec)\n",
    "y_test_pred = np.array(y_test_pred)"
   ]
  },
  {
   "cell_type": "code",
   "execution_count": 56,
   "metadata": {},
   "outputs": [
    {
     "name": "stdout",
     "output_type": "stream",
     "text": [
      "[0 2 1 ... 2 2 0]\n",
      "[0 2 1 ... 2 2 0]\n"
     ]
    }
   ],
   "source": [
    "print(y_test_pred_indexed)\n",
    "print(y_test_pred)"
   ]
  },
  {
   "cell_type": "code",
   "execution_count": 57,
   "metadata": {},
   "outputs": [
    {
     "name": "stdout",
     "output_type": "stream",
     "text": [
      "[0 1 2]\n",
      "[0 1 2]\n",
      "[0 1 2]\n"
     ]
    }
   ],
   "source": [
    "print(svc_tfidf_bigram_full.classes_)\n",
    "print(svc_w2v_full.classes_)\n",
    "print(rf_3gram_full.classes_)"
   ]
  },
  {
   "cell_type": "code",
   "execution_count": 58,
   "metadata": {
    "collapsed": true
   },
   "outputs": [],
   "source": [
    "def classificacao_to_label(label):\n",
    "    if label == 1 :\n",
    "        return 'Positivo'\n",
    "    if label == 0 :\n",
    "        return 'Negativo'   \n",
    "    return 'Neutro'\n"
   ]
  },
  {
   "cell_type": "code",
   "execution_count": 82,
   "metadata": {
    "collapsed": true
   },
   "outputs": [],
   "source": [
    "test['Category'] =   np.vectorize(classificacao_to_label)(y_test_pred)\n",
    "submission = test[['Id','Category']]\n",
    "submission.to_csv('sub_svc_rf_ensemble.csv', index=False)"
   ]
  }
 ],
 "metadata": {
  "kernelspec": {
   "display_name": "Python 3",
   "language": "python",
   "name": "python3"
  },
  "language_info": {
   "codemirror_mode": {
    "name": "ipython",
    "version": 3
   },
   "file_extension": ".py",
   "mimetype": "text/x-python",
   "name": "python",
   "nbconvert_exporter": "python",
   "pygments_lexer": "ipython3",
   "version": "3.7.3"
  }
 },
 "nbformat": 4,
 "nbformat_minor": 2
}
