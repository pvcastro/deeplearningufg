{
 "cells": [
  {
   "cell_type": "code",
   "execution_count": 1,
   "metadata": {
    "collapsed": true
   },
   "outputs": [],
   "source": [
    "import gensim"
   ]
  },
  {
   "cell_type": "code",
   "execution_count": 3,
   "metadata": {
    "collapsed": false
   },
   "outputs": [],
   "source": [
    "model = gensim.models.KeyedVectors.load_word2vec_format('glove_pt_wiki.model', binary=True)  # GloVe Model"
   ]
  },
  {
   "cell_type": "code",
   "execution_count": 4,
   "metadata": {
    "collapsed": false
   },
   "outputs": [
    {
     "name": "stdout",
     "output_type": "stream",
     "text": [
      "False\n"
     ]
    }
   ],
   "source": [
    "print('bens_de_raiz' in model.vocab)"
   ]
  },
  {
   "cell_type": "code",
   "execution_count": 5,
   "metadata": {
    "collapsed": true
   },
   "outputs": [],
   "source": [
    "synonyms = ['fazenda', 'propriedade', 'mercadoria', 'virtude', 'riqueza', 'artigo', 'bem', 'possessão', 'recurso', 'proveito', 'lucro', 'patrimônio', 'produto', 'património', 'bens', 'vantagem', 'herança', 'objecto_posto_à_venda', 'bens_de_raiz', 'bastante', 'benefício', 'posse']"
   ]
  },
  {
   "cell_type": "code",
   "execution_count": 8,
   "metadata": {
    "collapsed": false
   },
   "outputs": [
    {
     "name": "stdout",
     "output_type": "stream",
     "text": [
      "fazenda\n",
      "propriedade\n",
      "mercadoria\n",
      "virtude\n",
      "riqueza\n",
      "artigo\n",
      "bem\n",
      "possessão\n",
      "recurso\n",
      "proveito\n",
      "lucro\n",
      "patrimônio\n",
      "produto\n",
      "património\n",
      "bens\n",
      "vantagem\n",
      "herança\n",
      "bastante\n",
      "benefício\n",
      "posse\n",
      "objecto_posto_à_venda\n",
      "bens_de_raiz\n"
     ]
    },
    {
     "data": {
      "text/plain": [
       "[None, None]"
      ]
     },
     "execution_count": 8,
     "metadata": {},
     "output_type": "execute_result"
    }
   ],
   "source": [
    "[print(synonym) for synonym in synonyms if synonym in model.vocab]\n",
    "[print(synonym) for synonym in synonyms if synonym not in model.vocab]"
   ]
  },
  {
   "cell_type": "code",
   "execution_count": null,
   "metadata": {
    "collapsed": true
   },
   "outputs": [],
   "source": []
  }
 ],
 "metadata": {
  "kernelspec": {
   "display_name": "Python 3",
   "language": "python",
   "name": "python3"
  },
  "language_info": {
   "codemirror_mode": {
    "name": "ipython",
    "version": 3
   },
   "file_extension": ".py",
   "mimetype": "text/x-python",
   "name": "python",
   "nbconvert_exporter": "python",
   "pygments_lexer": "ipython3",
   "version": "3.6.0"
  }
 },
 "nbformat": 4,
 "nbformat_minor": 2
}
