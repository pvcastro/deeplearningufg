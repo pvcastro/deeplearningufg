{
 "cells": [
  {
   "cell_type": "markdown",
   "metadata": {
    "nbpresent": {
     "id": "e0085648-0300-4087-9b12-ee7d2392ce4f"
    }
   },
   "source": [
    "# News classification with topic models in gensim\n",
    "News article classification is a task which is performed on a huge scale by news agencies all over the world. We will be looking into how topic modeling can be used to accurately classify news articles into different categories such as sports, technology, politics etc.\n",
    "\n",
    "Our aim in this tutorial is to come up with some topic model which can come up with topics that can easily be interpreted by us. Such a topic model can be used to discover hidden structure in the corpus and can also be used to determine the membership of a news article into one of the topics.\n",
    "\n",
    "For this tutorial, we will be using the Lee corpus which is a shortened version of the [Lee Background Corpus](http://www.socsci.uci.edu/~mdlee/lee_pincombe_welsh_document.PDF). The shortened version consists of 300 documents selected from the Australian Broadcasting Corporation's news mail service. It consists of texts of headline stories from around the year 2000-2001.\n",
    "\n",
    "### Requirements\n",
    "In this tutorial we look at how different topic models can be easily created using [gensim](https://radimrehurek.com/gensim/).\n",
    "Following are the dependencies for this tutorial:\n",
    "    - Gensim\n",
    "    - matplotlib\n",
    "    - nltk.stopwords and nltk.wordnet\n",
    "    - pyLDAVis"
   ]
  },
  {
   "cell_type": "code",
   "execution_count": 1,
   "metadata": {
    "collapsed": true,
    "nbpresent": {
     "id": "25997dab-04e3-4abc-b22f-b36944b208c2"
    }
   },
   "outputs": [],
   "source": [
    "import os\n",
    "import re\n",
    "import operator\n",
    "import matplotlib.pyplot as plt\n",
    "import warnings\n",
    "import gensim\n",
    "import numpy as np\n",
    "warnings.filterwarnings('ignore')  # Let's not pay heed to them right now\n",
    "\n",
    "import logging\n",
    "logging.basicConfig(format='%(asctime)s : %(levelname)s : %(message)s', level=logging.DEBUG)\n",
    "\n",
    "import nltk\n",
    "\n",
    "from gensim.models import CoherenceModel, LdaModel\n",
    "from gensim.corpora import Dictionary\n",
    "from pprint import pprint\n",
    "\n",
    "%matplotlib inline\n",
    "\n",
    "import load_lee_background_corpus as load_texts"
   ]
  },
  {
   "cell_type": "markdown",
   "metadata": {
    "nbpresent": {
     "id": "bcbc3313-3a57-4923-b330-69691eaf7535"
    }
   },
   "source": [
    "Analysing our corpus.\n",
    "    - The first document talks about a bushfire that had occured in New South Wales.\n",
    "    - The second talks about conflict between India and Pakistan in Kashmir.\n",
    "    - The third talks about road accidents in the New South Wales area.\n",
    "    - The fourth one talks about Argentina's economic and political crisis during that time.\n",
    "    - The last one talks about the use of drugs by midwives in a Sydney hospital.\n",
    "Our final topic model should be giving us keywords which we can easily interpret and make a small summary out of. Without this the topic model cannot be of much practical use."
   ]
  },
  {
   "cell_type": "code",
   "execution_count": 2,
   "metadata": {
    "nbpresent": {
     "id": "d447e236-b1b9-4cf7-bc39-8bfb499d4730"
    }
   },
   "outputs": [
    {
     "name": "stdout",
     "output_type": "stream",
     "text": [
      "/Users/home/Desenvolvimento/anaconda3/lib/python3.6/site-packages/gensim/test/test_data\n",
      "['Hundreds of people have been forced to vacate their homes in the Southern Highlands of New South Wales as strong winds today pushed a huge bushfire towards the town of Hill Top. A new blaze near Goulburn, south-west of Sydney, has forced the closure of the Hume Highway. At about 4:00pm AEDT, a marked deterioration in the weather as a storm cell moved east across the Blue Mountains forced authorities to make a decision to evacuate people from homes in outlying streets at Hill Top in the New South Wales southern highlands. An estimated 500 residents have left their homes for nearby Mittagong. The New South Wales Rural Fire Service says the weather conditions which caused the fire to burn in a finger formation have now eased and about 60 fire units in and around Hill Top are optimistic of defending all properties. As more than 100 blazes burn on New Year\\'s Eve in New South Wales, fire crews have been called to new fire at Gunning, south of Goulburn. While few details are available at this stage, fire authorities says it has closed the Hume Highway in both directions. Meanwhile, a new fire in Sydney\\'s west is no longer threatening properties in the Cranebrook area. Rain has fallen in some parts of the Illawarra, Sydney, the Hunter Valley and the north coast. But the Bureau of Meteorology\\'s Claire Richards says the rain has done little to ease any of the hundred fires still burning across the state. \"The falls have been quite isolated in those areas and generally the falls have been less than about five millimetres,\" she said. \"In some places really not significant at all, less than a millimetre, so there hasn\\'t been much relief as far as rain is concerned. \"In fact, they\\'ve probably hampered the efforts of the firefighters more because of the wind gusts that are associated with those thunderstorms.\" \\n']\n",
      "[\"Indian security forces have shot dead eight suspected militants in a night-long encounter in southern Kashmir. The shootout took place at Dora village some 50 kilometers south of the Kashmiri summer capital Srinagar. The deaths came as Pakistani police arrested more than two dozen militants from extremist groups accused of staging an attack on India's parliament. India has accused Pakistan-based Lashkar-e-Taiba and Jaish-e-Mohammad of carrying out the attack on December 13 at the behest of Pakistani military intelligence. Military tensions have soared since the raid, with both sides massing troops along their border and trading tit-for-tat diplomatic sanctions. Yesterday, Pakistan announced it had arrested Lashkar-e-Taiba chief Hafiz Mohammed Saeed. Police in Karachi say it is likely more raids will be launched against the two groups as well as other militant organisations accused of targetting India. Military tensions between India and Pakistan have escalated to a level not seen since their 1971 war. \\n\"]\n",
      "['The national road toll for the Christmas-New Year holiday period stands at 45, eight fewer than for the same time last year. 20 people have died on New South Wales roads, with eight fatalities in both Queensland and Victoria. Western Australia, the Northern Territory and South Australia have each recorded three deaths, while the ACT and Tasmania remain fatality free. \\n']\n",
      "[\"Argentina's political and economic crisis has deepened with the resignation of its interim President who took office just a week ago. Aldolfo Rodregiuez Saa told a stunned nation that he could not rescue Argentina because key fellow Peronists would not support his default on massive foreign debt repayment or his plan for a new currency. It was only a week ago that he was promising a million new jobs to end four years of recession, days after his predecessor resigned following a series of failed rescue packages. After announcing that the senate leader, Ramon Puerta, would assume the presidency until congress appoints a new caretaker president, the government said he too had quit and another senior lawmaker would act in the role. Fresh elections are not scheduled until March leaving whoever assumes the presidency with the daunting task of tackling Argentina's worst crisis in 12 years, but this time, isolated by international lending agencies. \\n\"]\n",
      "['Six midwives have been suspended at Wollongong Hospital, south of Sydney, for inappropriate use of nitrous oxide during work hours, on some occasions while women were in labour. The Illawarra Area Health Service says that following an investigation of unprofessional conduct, a further four midwives have been relocated to other areas within the hospital. The service\\'s chief executive officer, Tony Sherbon, says no one was put at risk, because other staff not involved in the use of nitrous oxide were able to take over caring for women in labour. \"Well we\\'re very concerned and the body of midwives to the hospital - there are over 70 midwives that work in our service - are very annoyed and angry at the inappropriate behaviour of these very senior people who should know better,\" he said. \"And that\\'s why we\\'ve take the action of suspending them and we\\'ll consider further action next week.\" \\n']\n",
      "['The Federal Government says it should be safe for Afghani asylum seekers in Australia to return home when the environment becomes secure. The Government has suspended their applications while the interim government is established in Kabul. The Foreign Affairs Minister Alexander Downer has refused to say for how long the claims process has been put on hold. But he says the major threat to most people seeking asylum is no longer there. \"Many Afghans who have tried to get into Australia or for that matter into Britain and other countries in north-west Europe have claimed that they are fleeing the Taliban,\" he said. \"Well, the Taliban is no longer in power in Afghanistan, the Taliban is finished.\" Meanwhile, there has been a mass airlift of detainees from Christmas Island to the Pacific Island of Nauru. In total, more than 300 people have been flown from the island in two operations using chartered aircraft. The second airlift today delivered 180 asylum seekers to Nauru where they will await processing of their claims for temporary visas. The Department of Immigration says there are now 211 detainees remaining on Christmas Island. A spokesman says a decision regarding their future is yet to be made. \\n']\n"
     ]
    }
   ],
   "source": [
    "lee_train_file = load_texts.get_lee_train_file()\n",
    "with open(lee_train_file) as f:\n",
    "    for n, l in enumerate(f):\n",
    "        if n < 6:\n",
    "            print([l])"
   ]
  },
  {
   "cell_type": "markdown",
   "metadata": {
    "nbpresent": {
     "id": "a6d40ad7-2abd-44e5-8839-62731fb5eab7"
    }
   },
   "source": [
    "### Loading raw and preprocessed texts"
   ]
  },
  {
   "cell_type": "code",
   "execution_count": 3,
   "metadata": {},
   "outputs": [
    {
     "name": "stdout",
     "output_type": "stream",
     "text": [
      "/Users/home/Desenvolvimento/anaconda3/lib/python3.6/site-packages/gensim/test/test_data\n",
      "The Federal Government says it should be safe for Afghani asylum seekers in Australia to return home when the environment becomes secure. The Government has suspended their applications while the interim government is established in Kabul. The Foreign Affairs Minister Alexander Downer has refused to say for how long the claims process has been put on hold. But he says the major threat to most people seeking asylum is no longer there. \"Many Afghans who have tried to get into Australia or for that matter into Britain and other countries in north-west Europe have claimed that they are fleeing the Taliban,\" he said. \"Well, the Taliban is no longer in power in Afghanistan, the Taliban is finished.\" Meanwhile, there has been a mass airlift of detainees from Christmas Island to the Pacific Island of Nauru. In total, more than 300 people have been flown from the island in two operations using chartered aircraft. The second airlift today delivered 180 asylum seekers to Nauru where they will await processing of their claims for temporary visas. The Department of Immigration says there are now 211 detainees remaining on Christmas Island. A spokesman says a decision regarding their future is yet to be made. \n",
      "\n",
      "['The', 'Federal', 'Government', 'says', 'it', 'should', 'be', 'safe', 'for', 'Afghani', 'asylum', 'seekers', 'in', 'Australia', 'to', 'return', 'home', 'when', 'the', 'environment', 'becomes', 'secure', '.', 'The', 'Government', 'has', 'suspended', 'their', 'applications', 'while', 'the', 'interim', 'government', 'is', 'established', 'in', 'Kabul', '.', 'The', 'Foreign', 'Affairs', 'Minister', 'Alexander', 'Downer', 'has', 'refused', 'to', 'say', 'for', 'how', 'long', 'the', 'claims', 'process', 'has', 'been', 'put', 'on', 'hold', '.', 'But', 'he', 'says', 'the', 'major', 'threat', 'to', 'most', 'people', 'seeking', 'asylum', 'is', 'no', 'longer', 'there', '.', '``', 'Many', 'Afghans', 'who', 'have', 'tried', 'to', 'get', 'into', 'Australia', 'or', 'for', 'that', 'matter', 'into', 'Britain', 'and', 'other', 'countries', 'in', 'north-west', 'Europe', 'have', 'claimed', 'that', 'they', 'are', 'fleeing', 'the', 'Taliban', ',', \"''\", 'he', 'said', '.', '``', 'Well', ',', 'the', 'Taliban', 'is', 'no', 'longer', 'in', 'power', 'in', 'Afghanistan', ',', 'the', 'Taliban', 'is', 'finished', '.', \"''\", 'Meanwhile', ',', 'there', 'has', 'been', 'a', 'mass', 'airlift', 'of', 'detainees', 'from', 'Christmas', 'Island', 'to', 'the', 'Pacific', 'Island', 'of', 'Nauru', '.', 'In', 'total', ',', 'more', 'than', '300', 'people', 'have', 'been', 'flown', 'from', 'the', 'island', 'in', 'two', 'operations', 'using', 'chartered', 'aircraft', '.', 'The', 'second', 'airlift', 'today', 'delivered', '180', 'asylum', 'seekers', 'to', 'Nauru', 'where', 'they', 'will', 'await', 'processing', 'of', 'their', 'claims', 'for', 'temporary', 'visas', '.', 'The', 'Department', 'of', 'Immigration', 'says', 'there', 'are', 'now', '211', 'detainees', 'remaining', 'on', 'Christmas', 'Island', '.', 'A', 'spokesman', 'says', 'a', 'decision', 'regarding', 'their', 'future', 'is', 'yet', 'to', 'be', 'made', '.']\n"
     ]
    }
   ],
   "source": [
    "raw_texts = load_texts.get_raw_texts()\n",
    "print(raw_texts[5])\n",
    "raw_texts = [nltk.tokenize.word_tokenize(raw_text) for raw_text in raw_texts]\n",
    "print(raw_texts[5])"
   ]
  },
  {
   "cell_type": "code",
   "execution_count": 4,
   "metadata": {},
   "outputs": [
    {
     "name": "stdout",
     "output_type": "stream",
     "text": [
      "/Users/home/Desenvolvimento/anaconda3/lib/python3.6/site-packages/gensim/test/test_data\n"
     ]
    },
    {
     "name": "stderr",
     "output_type": "stream",
     "text": [
      "2017-11-22 02:13:40,434 : INFO : collecting all words and their counts\n",
      "2017-11-22 02:13:40,436 : INFO : PROGRESS: at sentence #0, processed 0 words and 0 word types\n",
      "2017-11-22 02:13:40,477 : INFO : collected 20429 word types from a corpus of 19878 words (unigram + bigrams) and 300 sentences\n",
      "2017-11-22 02:13:40,479 : INFO : using 20429 counts as vocab in Phrases<0 vocab, min_count=5, threshold=10.0, max_vocab_size=40000000>\n"
     ]
    },
    {
     "name": "stdout",
     "output_type": "stream",
     "text": [
      "Returning 300 training texts\n",
      "['federal_government', 'afghani', 'asylum_seekers', 'australia', 'home', 'environment', 'secure', 'government', 'application', 'government', 'kabul', 'foreign_affairs', 'minister_alexander', 'downer', 'claim', 'process', 'hold', 'threat', 'people', 'asylum', 'afghan', 'australia', 'matter', 'britain', 'country', 'europe', 'taliban', 'taliban', 'power', 'afghanistan', 'taliban', 'mass', 'airlift', 'detainee', 'christmas', 'island', 'pacific', 'island', 'nauru', 'people', 'island', 'operation', 'aircraft', 'airlift', 'today', 'asylum_seekers', 'nauru', 'processing', 'claim', 'visa', 'department', 'immigration', 'detainee', 'christmas', 'island', 'spokesman', 'decision', 'future']\n"
     ]
    }
   ],
   "source": [
    "train_texts = load_texts.get_train_texts()\n",
    "print(train_texts[5])"
   ]
  },
  {
   "cell_type": "markdown",
   "metadata": {
    "nbpresent": {
     "id": "0e5ca1a8-9c78-412a-9ab4-a4d0be5afd34"
    }
   },
   "source": [
    "### Create a dictionary and a corpus for each set of texts"
   ]
  },
  {
   "cell_type": "code",
   "execution_count": null,
   "metadata": {
    "nbpresent": {
     "id": "161e8770-8bc2-41ae-98f4-08d1c9311e82"
    }
   },
   "outputs": [],
   "source": []
  },
  {
   "cell_type": "markdown",
   "metadata": {
    "nbpresent": {
     "id": "380ef8b7-6de1-4822-ae30-7120e12b5955"
    }
   },
   "source": [
    "### Create an LdaModel for each set of parameters, for both raw and processed texts\n",
    "    1. Use chunksize as the total number of documents, since it's a small corpus\n",
    "    2. Use no more than 5 passes, since the documents converge soon enough\n",
    "    3. Use 400 iterations to make the documents converge appropriately\n",
    "    4. Use 'auto' for eta and alpha parameters\n",
    "    5. Use 10 topics for each model\n",
    "Enable debugging to track the progress of the training"
   ]
  },
  {
   "cell_type": "code",
   "execution_count": null,
   "metadata": {
    "nbpresent": {
     "id": "a02b72fb-0049-4ec3-825f-179e396f3904"
    }
   },
   "outputs": [],
   "source": []
  },
  {
   "cell_type": "markdown",
   "metadata": {
    "nbpresent": {
     "id": "672c009d-3dbc-4a1f-a789-2a0fe78729b9"
    }
   },
   "source": [
    "### Visualize each model trained with pyLDAvis\n",
    "\n",
    "pyLDAvis is a great way to visualize an LDA model. To summarize in short, the area of the circles represent the prevelance of the topic. The length of the bars on the right represent the membership of a term in a particular topic. pyLDAvis is based on [this](http://nlp.stanford.edu/events/illvi2014/papers/sievert-illvi2014.pdf) paper."
   ]
  },
  {
   "cell_type": "code",
   "execution_count": null,
   "metadata": {
    "collapsed": true,
    "nbpresent": {
     "id": "f7724653-52ef-41e8-aa22-6232be216b08"
    }
   },
   "outputs": [],
   "source": []
  },
  {
   "cell_type": "markdown",
   "metadata": {
    "nbpresent": {
     "id": "68d38063-fb92-4d36-b3fb-f2d3cbff9eb5"
    }
   },
   "source": [
    "### Calculate the topic coherence for each model. Which one got the better coherence?"
   ]
  },
  {
   "cell_type": "code",
   "execution_count": null,
   "metadata": {
    "collapsed": true,
    "nbpresent": {
     "id": "45b1a641-1152-4364-ad25-62d1f8187317"
    }
   },
   "outputs": [],
   "source": []
  }
 ],
 "metadata": {
  "anaconda-cloud": {},
  "kernelspec": {
   "display_name": "Python 3",
   "language": "python",
   "name": "python3"
  },
  "language_info": {
   "codemirror_mode": {
    "name": "ipython",
    "version": 3
   },
   "file_extension": ".py",
   "mimetype": "text/x-python",
   "name": "python",
   "nbconvert_exporter": "python",
   "pygments_lexer": "ipython3",
   "version": "3.6.3"
  },
  "nbpresent": {
   "slides": {
    "04abaf09-1754-419e-9cf8-3c4f0accfc5f": {
     "id": "04abaf09-1754-419e-9cf8-3c4f0accfc5f",
     "prev": "67c9421a-0e61-4346-873f-bf3769d00c97",
     "regions": {
      "48b5cd39-b89b-4e2f-be2a-47a0fccafd3b": {
       "attrs": {
        "height": 0.8,
        "width": 0.8,
        "x": 0.1,
        "y": 0.1
       },
       "content": {
        "cell": "862c087b-b918-47b9-b0cf-42b71996e061",
        "part": "whole"
       },
       "id": "48b5cd39-b89b-4e2f-be2a-47a0fccafd3b"
      }
     }
    },
    "0527f44a-39b6-4cf8-9802-d16b8cd34754": {
     "id": "0527f44a-39b6-4cf8-9802-d16b8cd34754",
     "prev": "103c32ed-02bc-4365-a431-5acd77fe6585",
     "regions": {
      "ed3805ae-4076-41ad-a578-69a0b2356f95": {
       "attrs": {
        "height": 0.8,
        "width": 0.8,
        "x": 0.1,
        "y": 0.1
       },
       "content": {
        "cell": "b3652f43-da03-4027-9170-83e1679dfa2b",
        "part": "whole"
       },
       "id": "ed3805ae-4076-41ad-a578-69a0b2356f95"
      }
     }
    },
    "05fa6235-ac93-41b7-9975-3fee534b0c94": {
     "id": "05fa6235-ac93-41b7-9975-3fee534b0c94",
     "prev": "e44d6d8f-7236-458f-a308-36142bc72ff4",
     "regions": {
      "3e316a57-509e-404e-a89b-bde56696b966": {
       "attrs": {
        "height": 0.8,
        "width": 0.8,
        "x": 0.1,
        "y": 0.1
       },
       "content": {
        "cell": "c39406c8-1e69-4249-91ac-894338d4053b",
        "part": "whole"
       },
       "id": "3e316a57-509e-404e-a89b-bde56696b966"
      }
     }
    },
    "0e2565e0-a21d-4dbb-a4b3-8698e797c45d": {
     "id": "0e2565e0-a21d-4dbb-a4b3-8698e797c45d",
     "prev": "11baa747-dc0e-430a-8f38-65331394d2fd",
     "regions": {
      "2e423579-bece-40ca-ba30-122f49d93655": {
       "attrs": {
        "height": 0.8,
        "width": 0.8,
        "x": 0.1,
        "y": 0.1
       },
       "content": {
        "cell": "e4b50714-b644-4213-b3cb-bdac9fe22476",
        "part": "whole"
       },
       "id": "2e423579-bece-40ca-ba30-122f49d93655"
      }
     }
    },
    "103c32ed-02bc-4365-a431-5acd77fe6585": {
     "id": "103c32ed-02bc-4365-a431-5acd77fe6585",
     "prev": "23b717ee-a57c-42c5-9959-c8a314a329c6",
     "regions": {
      "aa966e74-db8d-473a-9ee6-8cad8e7407f3": {
       "attrs": {
        "height": 0.8,
        "width": 0.8,
        "x": 0.1,
        "y": 0.1
       },
       "content": {
        "cell": "664fa23d-ba6e-4a30-9287-e4fef1cc093e",
        "part": "whole"
       },
       "id": "aa966e74-db8d-473a-9ee6-8cad8e7407f3"
      }
     }
    },
    "10763d44-d64e-46c7-a164-8b92d219e71d": {
     "id": "10763d44-d64e-46c7-a164-8b92d219e71d",
     "prev": "d84b78ed-e79f-4657-b62b-eeff30c4fe8d",
     "regions": {
      "a27ddbe9-cfa8-49fe-b284-3567ebbfb1c7": {
       "attrs": {
        "height": 0.8,
        "width": 0.8,
        "x": 0.1,
        "y": 0.1
       },
       "content": {
        "cell": "43870992-c2ff-47cf-8b6b-f62855673b42",
        "part": "whole"
       },
       "id": "a27ddbe9-cfa8-49fe-b284-3567ebbfb1c7"
      }
     }
    },
    "11baa747-dc0e-430a-8f38-65331394d2fd": {
     "id": "11baa747-dc0e-430a-8f38-65331394d2fd",
     "prev": "a2c51720-8844-4953-94a8-55d723ec2499",
     "regions": {
      "6d7e8f18-6703-4c31-8353-4a714df2d33f": {
       "attrs": {
        "height": 0.8,
        "width": 0.8,
        "x": 0.1,
        "y": 0.1
       },
       "content": {
        "cell": "821ab68b-c377-40b1-bdf3-b92d66414383",
        "part": "whole"
       },
       "id": "6d7e8f18-6703-4c31-8353-4a714df2d33f"
      }
     }
    },
    "12513a0d-3e80-464d-9285-3bdd87e0b9c0": {
     "id": "12513a0d-3e80-464d-9285-3bdd87e0b9c0",
     "prev": "e71a7d3a-c9bb-4db0-9597-95b9b3233d3b",
     "regions": {
      "5fb06a62-1d61-417a-9c02-3fa7fa00fee1": {
       "attrs": {
        "height": 0.8,
        "width": 0.8,
        "x": 0.1,
        "y": 0.1
       },
       "content": {
        "cell": "416f5820-1538-4483-a77f-5211c8179891",
        "part": "whole"
       },
       "id": "5fb06a62-1d61-417a-9c02-3fa7fa00fee1"
      }
     }
    },
    "13c7e576-8024-4b19-8874-d65c24a9ee0f": {
     "id": "13c7e576-8024-4b19-8874-d65c24a9ee0f",
     "prev": "b6050bf2-3f03-47ef-9510-80c01755a79e",
     "regions": {
      "45c58bb7-75a4-4434-b5fa-59f7ad56e7d6": {
       "attrs": {
        "height": 0.8,
        "width": 0.8,
        "x": 0.1,
        "y": 0.1
       },
       "content": {
        "cell": "2c5b03e0-ce0f-4999-8fe1-820a9fe06873",
        "part": "whole"
       },
       "id": "45c58bb7-75a4-4434-b5fa-59f7ad56e7d6"
      }
     }
    },
    "23b717ee-a57c-42c5-9959-c8a314a329c6": {
     "id": "23b717ee-a57c-42c5-9959-c8a314a329c6",
     "prev": "4033c3a0-0021-4cbc-a589-50c63550217b",
     "regions": {
      "ca7e045e-962d-47e3-a594-eafdf7424671": {
       "attrs": {
        "height": 0.8,
        "width": 0.8,
        "x": 0.1,
        "y": 0.1
       },
       "content": {
        "cell": "df6cc31a-0b01-4700-b210-836dd510007a",
        "part": "whole"
       },
       "id": "ca7e045e-962d-47e3-a594-eafdf7424671"
      }
     }
    },
    "257bf09e-bd55-4957-97ea-4d3c8b85016a": {
     "id": "257bf09e-bd55-4957-97ea-4d3c8b85016a",
     "prev": null,
     "regions": {
      "cf220469-7ef0-4fb9-80b4-cbdb55aa86db": {
       "attrs": {
        "height": 0.8,
        "width": 0.8,
        "x": 0.1,
        "y": 0.1
       },
       "content": {
        "cell": "e0085648-0300-4087-9b12-ee7d2392ce4f",
        "part": "whole"
       },
       "id": "cf220469-7ef0-4fb9-80b4-cbdb55aa86db"
      }
     }
    },
    "280f0473-61ec-4b88-b9d4-172e734fd0a5": {
     "id": "280f0473-61ec-4b88-b9d4-172e734fd0a5",
     "prev": "d7495fd8-cfb5-42ee-a0eb-86679c419bae",
     "regions": {
      "c58169da-ccea-4657-95a3-fc1e5fba3ac3": {
       "attrs": {
        "height": 0.8,
        "width": 0.8,
        "x": 0.1,
        "y": 0.1
       },
       "content": {
        "cell": "f4d505e5-5e90-4770-aaae-04ae05d697b5",
        "part": "whole"
       },
       "id": "c58169da-ccea-4657-95a3-fc1e5fba3ac3"
      }
     }
    },
    "2e4a9702-f7a2-48a5-bd13-2087e9216b38": {
     "id": "2e4a9702-f7a2-48a5-bd13-2087e9216b38",
     "prev": "04abaf09-1754-419e-9cf8-3c4f0accfc5f",
     "regions": {
      "b31a05d5-a8fe-40d2-a368-cc39f50ee938": {
       "attrs": {
        "height": 0.8,
        "width": 0.8,
        "x": 0.1,
        "y": 0.1
       },
       "content": {
        "cell": "1181e3a8-6803-4f41-9d55-397f3d700c28",
        "part": "whole"
       },
       "id": "b31a05d5-a8fe-40d2-a368-cc39f50ee938"
      }
     }
    },
    "4033c3a0-0021-4cbc-a589-50c63550217b": {
     "id": "4033c3a0-0021-4cbc-a589-50c63550217b",
     "prev": "c68aae9d-645c-4cbf-9dc1-92ed9aa0f5d3",
     "regions": {
      "55173d13-adca-4e7f-a760-92bd299e6c40": {
       "attrs": {
        "height": 0.8,
        "width": 0.8,
        "x": 0.1,
        "y": 0.1
       },
       "content": {
        "cell": "b86ba0c1-c7c4-43a5-a9f5-8dfe7967be6c",
        "part": "whole"
       },
       "id": "55173d13-adca-4e7f-a760-92bd299e6c40"
      }
     }
    },
    "479d81b5-3b8b-4ddf-bbfe-6ae6ff33c2fa": {
     "id": "479d81b5-3b8b-4ddf-bbfe-6ae6ff33c2fa",
     "prev": "280f0473-61ec-4b88-b9d4-172e734fd0a5",
     "regions": {
      "6c334c87-c8a0-4328-b310-6be0e9a89532": {
       "attrs": {
        "height": 0.8,
        "width": 0.8,
        "x": 0.1,
        "y": 0.1
       },
       "content": {
        "cell": "4dbde9d2-3a9d-4677-8dd4-90066c0cb7c4",
        "part": "whole"
       },
       "id": "6c334c87-c8a0-4328-b310-6be0e9a89532"
      }
     }
    },
    "488af944-ad92-49c5-9d1d-ccdb1e929dce": {
     "id": "488af944-ad92-49c5-9d1d-ccdb1e929dce",
     "prev": "13c7e576-8024-4b19-8874-d65c24a9ee0f",
     "regions": {
      "fb1eddce-8820-408b-8b73-3a1654b93816": {
       "attrs": {
        "height": 0.8,
        "width": 0.8,
        "x": 0.1,
        "y": 0.1
       },
       "content": {
        "cell": "7da56259-bbf2-4f63-93f6-033833ae4494",
        "part": "whole"
       },
       "id": "fb1eddce-8820-408b-8b73-3a1654b93816"
      }
     }
    },
    "4af127dc-0330-4f8e-b907-3e409ba31a06": {
     "id": "4af127dc-0330-4f8e-b907-3e409ba31a06",
     "prev": "fbd9f3b3-f9b0-4886-b987-3f9d0ca983bc",
     "regions": {
      "1f9e4115-c1c7-4e4c-a262-648adc28ad2a": {
       "attrs": {
        "height": 0.8,
        "width": 0.8,
        "x": 0.1,
        "y": 0.1
       },
       "content": {
        "cell": "3d784001-6875-4be5-b8e8-e6c490f5b7b4",
        "part": "whole"
       },
       "id": "1f9e4115-c1c7-4e4c-a262-648adc28ad2a"
      }
     }
    },
    "67c9421a-0e61-4346-873f-bf3769d00c97": {
     "id": "67c9421a-0e61-4346-873f-bf3769d00c97",
     "prev": "efc03832-2e6d-4250-8ac5-f4c13cfdb733",
     "regions": {
      "d9b839cd-46ac-451d-bb1b-3edd613c0ba3": {
       "attrs": {
        "height": 0.8,
        "width": 0.8,
        "x": 0.1,
        "y": 0.1
       },
       "content": {
        "cell": "3ca3d45b-a28b-41c7-b5de-4c124c50d13d",
        "part": "whole"
       },
       "id": "d9b839cd-46ac-451d-bb1b-3edd613c0ba3"
      }
     }
    },
    "78837f0a-d7b6-48ae-b64e-3a2af8286ccc": {
     "id": "78837f0a-d7b6-48ae-b64e-3a2af8286ccc",
     "prev": "bb7417b1-270b-4977-bbf3-606a574c38ec",
     "regions": {
      "37ced915-20bf-49cd-9691-82e9fdcfe211": {
       "attrs": {
        "height": 0.8,
        "width": 0.8,
        "x": 0.1,
        "y": 0.1
       },
       "content": {
        "cell": "b1a8c7b4-dc46-4bfe-b17b-d604f212b389",
        "part": "whole"
       },
       "id": "37ced915-20bf-49cd-9691-82e9fdcfe211"
      }
     }
    },
    "7f7b5da4-7345-442b-8cd5-662cfba97db9": {
     "id": "7f7b5da4-7345-442b-8cd5-662cfba97db9",
     "prev": "f6d5269c-54db-4887-b274-d00572aead72",
     "regions": {
      "5fcadbcf-4f67-4bd7-bc4c-0e9db215581c": {
       "attrs": {
        "height": 0.8,
        "width": 0.8,
        "x": 0.1,
        "y": 0.1
       },
       "content": {
        "cell": "a02b72fb-0049-4ec3-825f-179e396f3904",
        "part": "whole"
       },
       "id": "5fcadbcf-4f67-4bd7-bc4c-0e9db215581c"
      }
     }
    },
    "823091e1-74b1-44e3-af50-388881c30968": {
     "id": "823091e1-74b1-44e3-af50-388881c30968",
     "prev": "e24d4b0b-34e2-46de-a99d-a4be39ca2951",
     "regions": {
      "cd97517e-4f86-48bd-9496-92ebad8c97cf": {
       "attrs": {
        "height": 0.8,
        "width": 0.8,
        "x": 0.1,
        "y": 0.1
       },
       "content": {
        "cell": "ffb5aaa9-5fa1-4b28-ba2f-e23525caa392",
        "part": "whole"
       },
       "id": "cd97517e-4f86-48bd-9496-92ebad8c97cf"
      }
     }
    },
    "845fbe01-dd28-4ad8-9eb5-d13c49f6772c": {
     "id": "845fbe01-dd28-4ad8-9eb5-d13c49f6772c",
     "prev": "87040bd6-a3e9-4785-97e0-08d7e7c5b8ef",
     "regions": {
      "1b5a1350-c3d1-43d8-bbc3-90ac260b5a8b": {
       "attrs": {
        "height": 0.8,
        "width": 0.8,
        "x": 0.1,
        "y": 0.1
       },
       "content": {
        "cell": "bcbc3313-3a57-4923-b330-69691eaf7535",
        "part": "whole"
       },
       "id": "1b5a1350-c3d1-43d8-bbc3-90ac260b5a8b"
      }
     }
    },
    "8541226b-6ff1-4700-a399-71e3cf68d91b": {
     "id": "8541226b-6ff1-4700-a399-71e3cf68d91b",
     "prev": "10763d44-d64e-46c7-a164-8b92d219e71d",
     "regions": {
      "7c4c47d8-a698-4e96-a411-556d9ad6b15b": {
       "attrs": {
        "height": 0.8,
        "width": 0.8,
        "x": 0.1,
        "y": 0.1
       },
       "content": {
        "cell": "281d1434-ce22-46c6-ba53-71a24a476568",
        "part": "whole"
       },
       "id": "7c4c47d8-a698-4e96-a411-556d9ad6b15b"
      }
     }
    },
    "87040bd6-a3e9-4785-97e0-08d7e7c5b8ef": {
     "id": "87040bd6-a3e9-4785-97e0-08d7e7c5b8ef",
     "prev": "ad16016c-8a9e-49da-a3d2-5ab56ca11579",
     "regions": {
      "cc35a589-c8c7-459f-893d-102c0d77bee3": {
       "attrs": {
        "height": 0.8,
        "width": 0.8,
        "x": 0.1,
        "y": 0.1
       },
       "content": {
        "cell": "8778b874-a6d1-4f2f-ba02-35dc0fa10f0c",
        "part": "whole"
       },
       "id": "cc35a589-c8c7-459f-893d-102c0d77bee3"
      }
     }
    },
    "8aa83fc2-d106-4c85-8b7f-1116db7ee9d4": {
     "id": "8aa83fc2-d106-4c85-8b7f-1116db7ee9d4",
     "prev": "f870a325-581b-4d8e-a4c0-095972e4cc21",
     "regions": {
      "9f7afc1f-6e9d-47bf-98e0-7e0350e1f516": {
       "attrs": {
        "height": 0.8,
        "width": 0.8,
        "x": 0.1,
        "y": 0.1
       },
       "content": {
        "cell": "45b1a641-1152-4364-ad25-62d1f8187317",
        "part": "whole"
       },
       "id": "9f7afc1f-6e9d-47bf-98e0-7e0350e1f516"
      }
     }
    },
    "944a5639-4b22-4f7f-b836-5ac3bf1cb21e": {
     "id": "944a5639-4b22-4f7f-b836-5ac3bf1cb21e",
     "prev": "d30e098d-5b03-4087-bb2e-fe706d78fae9",
     "regions": {
      "c32c5800-6b61-4a15-b909-b1163c6ffe62": {
       "attrs": {
        "height": 0.8,
        "width": 0.8,
        "x": 0.1,
        "y": 0.1
       },
       "content": {
        "cell": "4329af31-21b4-4570-903a-6df3715244c7",
        "part": "whole"
       },
       "id": "c32c5800-6b61-4a15-b909-b1163c6ffe62"
      }
     }
    },
    "951ea1a1-a91e-41a8-827e-fc3624ae3250": {
     "id": "951ea1a1-a91e-41a8-827e-fc3624ae3250",
     "prev": "d46a6bb8-e8dc-42dd-ac78-33a9cc66fcaa",
     "regions": {
      "bc84fb60-e322-4e23-8b12-21f7fbfd11be": {
       "attrs": {
        "height": 0.8,
        "width": 0.8,
        "x": 0.1,
        "y": 0.1
       },
       "content": {
        "cell": "caa35df4-b625-4246-bc1f-42c561f31486",
        "part": "whole"
       },
       "id": "bc84fb60-e322-4e23-8b12-21f7fbfd11be"
      }
     }
    },
    "96f08da8-8b76-4bf1-829e-50dc77b96f23": {
     "id": "96f08da8-8b76-4bf1-829e-50dc77b96f23",
     "prev": "7f7b5da4-7345-442b-8cd5-662cfba97db9",
     "regions": {
      "ee8f45c8-aaa8-4c02-8067-bee120c4685d": {
       "attrs": {
        "height": 0.8,
        "width": 0.8,
        "x": 0.1,
        "y": 0.1
       },
       "content": {
        "cell": "672c009d-3dbc-4a1f-a789-2a0fe78729b9",
        "part": "whole"
       },
       "id": "ee8f45c8-aaa8-4c02-8067-bee120c4685d"
      }
     }
    },
    "9d28ba7f-c1e5-4ac3-ae0d-08721cddf897": {
     "id": "9d28ba7f-c1e5-4ac3-ae0d-08721cddf897",
     "prev": "b758d6c7-7c92-4aba-a50f-4ea841c3bbd5",
     "regions": {
      "f1d84675-1d92-48aa-b454-b5cfd4919f9c": {
       "attrs": {
        "height": 0.8,
        "width": 0.8,
        "x": 0.1,
        "y": 0.1
       },
       "content": {
        "cell": "85e46481-0245-448c-b4e2-e0c6e175357c",
        "part": "whole"
       },
       "id": "f1d84675-1d92-48aa-b454-b5cfd4919f9c"
      }
     }
    },
    "a2c51720-8844-4953-94a8-55d723ec2499": {
     "id": "a2c51720-8844-4953-94a8-55d723ec2499",
     "prev": "ec5e5d0b-4635-44cc-acc2-f4a52d49a309",
     "regions": {
      "8e52be0c-e63e-434c-b1ca-9c69b58557a6": {
       "attrs": {
        "height": 0.8,
        "width": 0.8,
        "x": 0.1,
        "y": 0.1
       },
       "content": {
        "cell": "13f246a0-918e-44c1-ae19-7af118d83585",
        "part": "whole"
       },
       "id": "8e52be0c-e63e-434c-b1ca-9c69b58557a6"
      }
     }
    },
    "ad16016c-8a9e-49da-a3d2-5ab56ca11579": {
     "id": "ad16016c-8a9e-49da-a3d2-5ab56ca11579",
     "prev": "257bf09e-bd55-4957-97ea-4d3c8b85016a",
     "regions": {
      "ba9b7c66-e2b9-4e94-a595-b6e1e9c8ba3a": {
       "attrs": {
        "height": 0.8,
        "width": 0.8,
        "x": 0.1,
        "y": 0.1
       },
       "content": {
        "cell": "25997dab-04e3-4abc-b22f-b36944b208c2",
        "part": "whole"
       },
       "id": "ba9b7c66-e2b9-4e94-a595-b6e1e9c8ba3a"
      }
     }
    },
    "aea4c7d8-d448-4c6e-b98a-aee48ab874f3": {
     "id": "aea4c7d8-d448-4c6e-b98a-aee48ab874f3",
     "prev": "823091e1-74b1-44e3-af50-388881c30968",
     "regions": {
      "c9f42ad3-4f13-490e-98af-ba7f90c04c7e": {
       "attrs": {
        "height": 0.8,
        "width": 0.8,
        "x": 0.1,
        "y": 0.1
       },
       "content": {
        "cell": "3544f061-6870-4630-bd54-79f75decf8b6",
        "part": "whole"
       },
       "id": "c9f42ad3-4f13-490e-98af-ba7f90c04c7e"
      }
     }
    },
    "aedf0537-c77a-45f0-9d07-af274cfcc254": {
     "id": "aedf0537-c77a-45f0-9d07-af274cfcc254",
     "prev": "e6ae4652-4831-456f-a99c-275d5a367c31",
     "regions": {
      "6b39b1f4-a8eb-48a7-abe6-34f074ddfffe": {
       "attrs": {
        "height": 0.8,
        "width": 0.8,
        "x": 0.1,
        "y": 0.1
       },
       "content": {
        "cell": "58e7dda6-0dd2-4e4f-b81a-0b530c66b20b",
        "part": "whole"
       },
       "id": "6b39b1f4-a8eb-48a7-abe6-34f074ddfffe"
      }
     }
    },
    "b225aeee-0655-46cd-b065-53ac161542e1": {
     "id": "b225aeee-0655-46cd-b065-53ac161542e1",
     "prev": "944a5639-4b22-4f7f-b836-5ac3bf1cb21e",
     "regions": {
      "3fb9131f-b513-4608-88e3-1829aab4af80": {
       "attrs": {
        "height": 0.8,
        "width": 0.8,
        "x": 0.1,
        "y": 0.1
       },
       "content": {
        "cell": "0924faf0-a957-4d12-b35c-b50ebb30f370",
        "part": "whole"
       },
       "id": "3fb9131f-b513-4608-88e3-1829aab4af80"
      }
     }
    },
    "b6050bf2-3f03-47ef-9510-80c01755a79e": {
     "id": "b6050bf2-3f03-47ef-9510-80c01755a79e",
     "prev": "96f08da8-8b76-4bf1-829e-50dc77b96f23",
     "regions": {
      "35a04fb6-5997-463a-b71f-8ad41ce5def6": {
       "attrs": {
        "height": 0.8,
        "width": 0.8,
        "x": 0.1,
        "y": 0.1
       },
       "content": {
        "cell": "f7724653-52ef-41e8-aa22-6232be216b08",
        "part": "whole"
       },
       "id": "35a04fb6-5997-463a-b71f-8ad41ce5def6"
      }
     }
    },
    "b758d6c7-7c92-4aba-a50f-4ea841c3bbd5": {
     "id": "b758d6c7-7c92-4aba-a50f-4ea841c3bbd5",
     "prev": "f2b5f77b-2cf3-4728-901e-453b1ee328e4",
     "regions": {
      "3907d293-429a-446b-aa7b-d48636df66de": {
       "attrs": {
        "height": 0.8,
        "width": 0.8,
        "x": 0.1,
        "y": 0.1
       },
       "content": {
        "cell": "92dbb672-adca-4535-8089-de23712828d8",
        "part": "whole"
       },
       "id": "3907d293-429a-446b-aa7b-d48636df66de"
      }
     }
    },
    "b78b6f6e-aa16-462e-8f65-fcb552b32c31": {
     "id": "b78b6f6e-aa16-462e-8f65-fcb552b32c31",
     "prev": "de9edf29-6b79-4254-9128-e8e5339d95b7",
     "regions": {
      "7907113d-9b89-4a1c-9b8e-9ccf0f800218": {
       "attrs": {
        "height": 0.8,
        "width": 0.8,
        "x": 0.1,
        "y": 0.1
       },
       "content": {
        "cell": "0e5ca1a8-9c78-412a-9ab4-a4d0be5afd34",
        "part": "whole"
       },
       "id": "7907113d-9b89-4a1c-9b8e-9ccf0f800218"
      }
     }
    },
    "bb7417b1-270b-4977-bbf3-606a574c38ec": {
     "id": "bb7417b1-270b-4977-bbf3-606a574c38ec",
     "prev": "aedf0537-c77a-45f0-9d07-af274cfcc254",
     "regions": {
      "4186cf60-3730-4fac-9b82-c178d043465c": {
       "attrs": {
        "height": 0.8,
        "width": 0.8,
        "x": 0.1,
        "y": 0.1
       },
       "content": {
        "cell": "6b5572c0-2ab0-4b13-a08f-3db21b4c4f21",
        "part": "whole"
       },
       "id": "4186cf60-3730-4fac-9b82-c178d043465c"
      }
     }
    },
    "bc583748-3efc-4990-a121-5c23ddd1cf76": {
     "id": "bc583748-3efc-4990-a121-5c23ddd1cf76",
     "prev": "b78b6f6e-aa16-462e-8f65-fcb552b32c31",
     "regions": {
      "1fe1815a-69fc-439e-9943-115c788d87de": {
       "attrs": {
        "height": 0.8,
        "width": 0.8,
        "x": 0.1,
        "y": 0.1
       },
       "content": {
        "cell": "161e8770-8bc2-41ae-98f4-08d1c9311e82",
        "part": "whole"
       },
       "id": "1fe1815a-69fc-439e-9943-115c788d87de"
      }
     }
    },
    "bebeb5ec-eea2-4353-b2e1-ba7cdb847132": {
     "id": "bebeb5ec-eea2-4353-b2e1-ba7cdb847132",
     "prev": "aea4c7d8-d448-4c6e-b98a-aee48ab874f3",
     "regions": {
      "acd4706d-0fa8-4d2c-93b1-e01bcddce185": {
       "attrs": {
        "height": 0.8,
        "width": 0.8,
        "x": 0.1,
        "y": 0.1
       },
       "content": {
        "cell": "31c64f41-a499-4f80-8ccd-1364940f7383",
        "part": "whole"
       },
       "id": "acd4706d-0fa8-4d2c-93b1-e01bcddce185"
      }
     }
    },
    "c68aae9d-645c-4cbf-9dc1-92ed9aa0f5d3": {
     "id": "c68aae9d-645c-4cbf-9dc1-92ed9aa0f5d3",
     "prev": "b225aeee-0655-46cd-b065-53ac161542e1",
     "regions": {
      "18e9a755-775e-407c-adec-19d9d2553aa3": {
       "attrs": {
        "height": 0.8,
        "width": 0.8,
        "x": 0.1,
        "y": 0.1
       },
       "content": {
        "cell": "59cc671f-041a-4d6f-a609-f1b9855aa05c",
        "part": "whole"
       },
       "id": "18e9a755-775e-407c-adec-19d9d2553aa3"
      }
     }
    },
    "c86c2c29-3931-4f32-b9b8-2927bd48a5d2": {
     "id": "c86c2c29-3931-4f32-b9b8-2927bd48a5d2",
     "prev": "8541226b-6ff1-4700-a399-71e3cf68d91b",
     "regions": {
      "98d1caf9-aaab-4a6a-8d39-875e61f4b508": {
       "attrs": {
        "height": 0.8,
        "width": 0.8,
        "x": 0.1,
        "y": 0.1
       },
       "content": {
        "cell": "ada914a2-bacb-4300-8ce3-f1332843d24c",
        "part": "whole"
       },
       "id": "98d1caf9-aaab-4a6a-8d39-875e61f4b508"
      }
     }
    },
    "ca688a20-d25d-4266-8f63-967e003c1f2f": {
     "id": "ca688a20-d25d-4266-8f63-967e003c1f2f",
     "prev": "78837f0a-d7b6-48ae-b64e-3a2af8286ccc",
     "regions": {
      "3b6c70c9-c6b9-4505-aefb-c64c0d183b96": {
       "attrs": {
        "height": 0.8,
        "width": 0.8,
        "x": 0.1,
        "y": 0.1
       },
       "content": {
        "cell": "943a5fcd-7c2e-4c16-9879-34882a7a74d4",
        "part": "whole"
       },
       "id": "3b6c70c9-c6b9-4505-aefb-c64c0d183b96"
      }
     }
    },
    "d30e098d-5b03-4087-bb2e-fe706d78fae9": {
     "id": "d30e098d-5b03-4087-bb2e-fe706d78fae9",
     "prev": "c86c2c29-3931-4f32-b9b8-2927bd48a5d2",
     "regions": {
      "ce2693da-705b-4afd-9284-d04c8e1b2ff4": {
       "attrs": {
        "height": 0.8,
        "width": 0.8,
        "x": 0.1,
        "y": 0.1
       },
       "content": {
        "cell": "4f313370-b5f0-4754-9744-157da0447fc4",
        "part": "whole"
       },
       "id": "ce2693da-705b-4afd-9284-d04c8e1b2ff4"
      }
     }
    },
    "d386ac9f-a3fc-4b7e-8171-72c5de5bcd6b": {
     "id": "d386ac9f-a3fc-4b7e-8171-72c5de5bcd6b",
     "prev": "488af944-ad92-49c5-9d1d-ccdb1e929dce",
     "regions": {
      "742b6acb-94bd-40bc-95c5-45686415a4d2": {
       "attrs": {
        "height": 0.8,
        "width": 0.8,
        "x": 0.1,
        "y": 0.1
       },
       "content": {
        "cell": "13f462fd-b0c3-4a29-90f3-050e2317b72c",
        "part": "whole"
       },
       "id": "742b6acb-94bd-40bc-95c5-45686415a4d2"
      }
     }
    },
    "d46a6bb8-e8dc-42dd-ac78-33a9cc66fcaa": {
     "id": "d46a6bb8-e8dc-42dd-ac78-33a9cc66fcaa",
     "prev": "e1b1494f-f764-4c7c-9b18-9c4117ac6b1a",
     "regions": {
      "46818eb4-db41-4ae4-ab4a-fb8aa8381df4": {
       "attrs": {
        "height": 0.8,
        "width": 0.8,
        "x": 0.1,
        "y": 0.1
       },
       "content": {
        "cell": "699e2ddb-add6-4134-a723-1bb37029f013",
        "part": "whole"
       },
       "id": "46818eb4-db41-4ae4-ab4a-fb8aa8381df4"
      }
     }
    },
    "d7495fd8-cfb5-42ee-a0eb-86679c419bae": {
     "id": "d7495fd8-cfb5-42ee-a0eb-86679c419bae",
     "prev": "845fbe01-dd28-4ad8-9eb5-d13c49f6772c",
     "regions": {
      "1b6fb9c6-e9e8-48d0-8879-43681a10b003": {
       "attrs": {
        "height": 0.8,
        "width": 0.8,
        "x": 0.1,
        "y": 0.1
       },
       "content": {
        "cell": "d447e236-b1b9-4cf7-bc39-8bfb499d4730",
        "part": "whole"
       },
       "id": "1b6fb9c6-e9e8-48d0-8879-43681a10b003"
      }
     }
    },
    "d84b78ed-e79f-4657-b62b-eeff30c4fe8d": {
     "id": "d84b78ed-e79f-4657-b62b-eeff30c4fe8d",
     "prev": "05fa6235-ac93-41b7-9975-3fee534b0c94",
     "regions": {
      "2dc757c4-cd6f-4663-b3ed-16873bd59e53": {
       "attrs": {
        "height": 0.8,
        "width": 0.8,
        "x": 0.1,
        "y": 0.1
       },
       "content": {
        "cell": "6b8eef4a-a87d-42bd-84dd-586610828698",
        "part": "whole"
       },
       "id": "2dc757c4-cd6f-4663-b3ed-16873bd59e53"
      }
     }
    },
    "de9edf29-6b79-4254-9128-e8e5339d95b7": {
     "id": "de9edf29-6b79-4254-9128-e8e5339d95b7",
     "prev": "4af127dc-0330-4f8e-b907-3e409ba31a06",
     "regions": {
      "ef8b9aae-46b3-45ae-8ddf-d951cecabb16": {
       "attrs": {
        "height": 0.8,
        "width": 0.8,
        "x": 0.1,
        "y": 0.1
       },
       "content": {
        "cell": "d8cfc39f-aa3b-469f-ae34-1ef99ef51a25",
        "part": "whole"
       },
       "id": "ef8b9aae-46b3-45ae-8ddf-d951cecabb16"
      }
     }
    },
    "deebcf04-3780-4222-bac9-4ec42c55e64e": {
     "id": "deebcf04-3780-4222-bac9-4ec42c55e64e",
     "prev": "479d81b5-3b8b-4ddf-bbfe-6ae6ff33c2fa",
     "regions": {
      "41284583-e45d-4b58-80b1-9aa982c35d62": {
       "attrs": {
        "height": 0.8,
        "width": 0.8,
        "x": 0.1,
        "y": 0.1
       },
       "content": {
        "cell": "e7995c4c-f483-4cb5-9f53-3b8c5fef39c3",
        "part": "whole"
       },
       "id": "41284583-e45d-4b58-80b1-9aa982c35d62"
      }
     }
    },
    "e1226821-9a12-4537-a8af-79cc88d3d16a": {
     "id": "e1226821-9a12-4537-a8af-79cc88d3d16a",
     "prev": "0e2565e0-a21d-4dbb-a4b3-8698e797c45d",
     "regions": {
      "a85036ed-bcf3-498f-bcbf-d29b7ba22e33": {
       "attrs": {
        "height": 0.8,
        "width": 0.8,
        "x": 0.1,
        "y": 0.1
       },
       "content": {
        "cell": "d8a8bcc6-8b37-4d4f-ad06-903804776078",
        "part": "whole"
       },
       "id": "a85036ed-bcf3-498f-bcbf-d29b7ba22e33"
      }
     }
    },
    "e1b1494f-f764-4c7c-9b18-9c4117ac6b1a": {
     "id": "e1b1494f-f764-4c7c-9b18-9c4117ac6b1a",
     "prev": "e975c742-3e8e-42fb-992f-68889dc8eacf",
     "regions": {
      "4481842a-f6a3-4783-8056-761d3ff7903c": {
       "attrs": {
        "height": 0.8,
        "width": 0.8,
        "x": 0.1,
        "y": 0.1
       },
       "content": {
        "cell": "c02b6f0a-801c-4a8f-aa8f-8c9d64df7a9a",
        "part": "whole"
       },
       "id": "4481842a-f6a3-4783-8056-761d3ff7903c"
      }
     }
    },
    "e24d4b0b-34e2-46de-a99d-a4be39ca2951": {
     "id": "e24d4b0b-34e2-46de-a99d-a4be39ca2951",
     "prev": "e1226821-9a12-4537-a8af-79cc88d3d16a",
     "regions": {
      "8a097e4f-9443-46a4-9b0f-84d5e12c50e7": {
       "attrs": {
        "height": 0.8,
        "width": 0.8,
        "x": 0.1,
        "y": 0.1
       },
       "content": {
        "cell": "6f302dcb-787b-42b0-98f0-1df0a163a818",
        "part": "whole"
       },
       "id": "8a097e4f-9443-46a4-9b0f-84d5e12c50e7"
      }
     }
    },
    "e44d6d8f-7236-458f-a308-36142bc72ff4": {
     "id": "e44d6d8f-7236-458f-a308-36142bc72ff4",
     "prev": "951ea1a1-a91e-41a8-827e-fc3624ae3250",
     "regions": {
      "cc091066-cdf1-4dd5-bf80-5c7c94722472": {
       "attrs": {
        "height": 0.8,
        "width": 0.8,
        "x": 0.1,
        "y": 0.1
       },
       "content": {
        "cell": "d2aa5aac-acc7-41c9-96d4-5410c0d8a14b",
        "part": "whole"
       },
       "id": "cc091066-cdf1-4dd5-bf80-5c7c94722472"
      }
     }
    },
    "e6ae4652-4831-456f-a99c-275d5a367c31": {
     "id": "e6ae4652-4831-456f-a99c-275d5a367c31",
     "prev": "bc583748-3efc-4990-a121-5c23ddd1cf76",
     "regions": {
      "fc109e55-75c1-42c7-a13b-68d9feb3aad7": {
       "attrs": {
        "height": 0.8,
        "width": 0.8,
        "x": 0.1,
        "y": 0.1
       },
       "content": {
        "cell": "fe809373-e88b-44eb-9cb9-08be3dc5949a",
        "part": "whole"
       },
       "id": "fc109e55-75c1-42c7-a13b-68d9feb3aad7"
      }
     }
    },
    "e71a7d3a-c9bb-4db0-9597-95b9b3233d3b": {
     "id": "e71a7d3a-c9bb-4db0-9597-95b9b3233d3b",
     "prev": "f6887642-4c01-4304-bedb-6e6bf5f5c45e",
     "regions": {
      "88ed165d-ed0c-4d77-a642-afc80f335c88": {
       "attrs": {
        "height": 0.8,
        "width": 0.8,
        "x": 0.1,
        "y": 0.1
       },
       "content": {
        "cell": "9994e7f0-f366-40da-9c14-76e8142ee46e",
        "part": "whole"
       },
       "id": "88ed165d-ed0c-4d77-a642-afc80f335c88"
      }
     }
    },
    "e975c742-3e8e-42fb-992f-68889dc8eacf": {
     "id": "e975c742-3e8e-42fb-992f-68889dc8eacf",
     "prev": "8aa83fc2-d106-4c85-8b7f-1116db7ee9d4",
     "regions": {
      "6f8253e7-9544-4503-84a2-5dd528b2b98c": {
       "attrs": {
        "height": 0.8,
        "width": 0.8,
        "x": 0.1,
        "y": 0.1
       },
       "content": {
        "cell": "e8936716-d06c-4cef-ae87-5c5da9a25a85",
        "part": "whole"
       },
       "id": "6f8253e7-9544-4503-84a2-5dd528b2b98c"
      }
     }
    },
    "ec5e5d0b-4635-44cc-acc2-f4a52d49a309": {
     "id": "ec5e5d0b-4635-44cc-acc2-f4a52d49a309",
     "prev": "12513a0d-3e80-464d-9285-3bdd87e0b9c0",
     "regions": {
      "007395dd-4907-4340-9391-024482d674f4": {
       "attrs": {
        "height": 0.8,
        "width": 0.8,
        "x": 0.1,
        "y": 0.1
       },
       "content": {
        "cell": "aa9d35ae-c458-49d2-bdbe-d93d5cb3ba9c",
        "part": "whole"
       },
       "id": "007395dd-4907-4340-9391-024482d674f4"
      }
     }
    },
    "efc03832-2e6d-4250-8ac5-f4c13cfdb733": {
     "id": "efc03832-2e6d-4250-8ac5-f4c13cfdb733",
     "prev": "deebcf04-3780-4222-bac9-4ec42c55e64e",
     "regions": {
      "ece43b16-b994-439a-a683-911e322998be": {
       "attrs": {
        "height": 0.8,
        "width": 0.8,
        "x": 0.1,
        "y": 0.1
       },
       "content": {
        "cell": "a6d40ad7-2abd-44e5-8839-62731fb5eab7",
        "part": "whole"
       },
       "id": "ece43b16-b994-439a-a683-911e322998be"
      }
     }
    },
    "f2b5f77b-2cf3-4728-901e-453b1ee328e4": {
     "id": "f2b5f77b-2cf3-4728-901e-453b1ee328e4",
     "prev": "ca688a20-d25d-4266-8f63-967e003c1f2f",
     "regions": {
      "fd2525a2-6271-4119-a693-9ebaa319233e": {
       "attrs": {
        "height": 0.8,
        "width": 0.8,
        "x": 0.1,
        "y": 0.1
       },
       "content": {
        "cell": "b492de13-0053-416c-b314-1bbae21ca828",
        "part": "whole"
       },
       "id": "fd2525a2-6271-4119-a693-9ebaa319233e"
      }
     }
    },
    "f6887642-4c01-4304-bedb-6e6bf5f5c45e": {
     "id": "f6887642-4c01-4304-bedb-6e6bf5f5c45e",
     "prev": "0527f44a-39b6-4cf8-9802-d16b8cd34754",
     "regions": {
      "22ac5030-534d-4372-b64f-11254caef474": {
       "attrs": {
        "height": 0.8,
        "width": 0.8,
        "x": 0.1,
        "y": 0.1
       },
       "content": {
        "cell": "8ce2b802-f0c1-4ffc-9ce5-c2792856b5b4",
        "part": "whole"
       },
       "id": "22ac5030-534d-4372-b64f-11254caef474"
      }
     }
    },
    "f6d5269c-54db-4887-b274-d00572aead72": {
     "id": "f6d5269c-54db-4887-b274-d00572aead72",
     "prev": "9d28ba7f-c1e5-4ac3-ae0d-08721cddf897",
     "regions": {
      "4adeafcb-a40e-4001-9cea-ced25a006c2a": {
       "attrs": {
        "height": 0.8,
        "width": 0.8,
        "x": 0.1,
        "y": 0.1
       },
       "content": {
        "cell": "380ef8b7-6de1-4822-ae30-7120e12b5955",
        "part": "whole"
       },
       "id": "4adeafcb-a40e-4001-9cea-ced25a006c2a"
      }
     }
    },
    "f870a325-581b-4d8e-a4c0-095972e4cc21": {
     "id": "f870a325-581b-4d8e-a4c0-095972e4cc21",
     "prev": "d386ac9f-a3fc-4b7e-8171-72c5de5bcd6b",
     "regions": {
      "6923b170-3e50-4538-a408-f2032324357e": {
       "attrs": {
        "height": 0.8,
        "width": 0.8,
        "x": 0.1,
        "y": 0.1
       },
       "content": {
        "cell": "68d38063-fb92-4d36-b3fb-f2d3cbff9eb5",
        "part": "whole"
       },
       "id": "6923b170-3e50-4538-a408-f2032324357e"
      }
     }
    },
    "fbd9f3b3-f9b0-4886-b987-3f9d0ca983bc": {
     "id": "fbd9f3b3-f9b0-4886-b987-3f9d0ca983bc",
     "prev": "2e4a9702-f7a2-48a5-bd13-2087e9216b38",
     "regions": {
      "b1150180-2e0b-444f-956f-2dd4cf1f3d4a": {
       "attrs": {
        "height": 0.8,
        "width": 0.8,
        "x": 0.1,
        "y": 0.1
       },
       "content": {
        "cell": "dbeeeabe-b6dd-477c-a798-fb7b39302ba9",
        "part": "whole"
       },
       "id": "b1150180-2e0b-444f-956f-2dd4cf1f3d4a"
      }
     }
    }
   },
   "themes": {}
  }
 },
 "nbformat": 4,
 "nbformat_minor": 1
}
