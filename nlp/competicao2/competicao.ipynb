{
 "cells": [
  {
   "cell_type": "code",
   "execution_count": 40,
   "metadata": {
    "cell_id": "00000-b22659da-bdf0-492d-951b-798eb5033383",
    "deepnote_cell_type": "code",
    "deepnote_to_be_reexecuted": false,
    "execution_millis": 3,
    "execution_start": 1619690449956,
    "source_hash": "c939eaa4",
    "tags": []
   },
   "outputs": [],
   "source": [
    "from pathlib import Path\n",
    "from tqdm import tqdm\n",
    "from sklearn.feature_extraction import DictVectorizer\n",
    "from sklearn.model_selection import train_test_split\n",
    "import pandas as pd\n",
    "\n",
    "from split_datalawyer import split_utils, SentenceSplit\n",
    "from split_datalawyer.modules import ForceDropDuplicatedModule, ReplaceModule, ReplaceLongWordsModule, ReplaceConcatenatedDotModule\n",
    "from split_long_sentences import split_long_sentences\n",
    "\n",
    "from transformers import BertTokenizerFast"
   ]
  },
  {
   "cell_type": "code",
   "execution_count": 41,
   "metadata": {},
   "outputs": [],
   "source": [
    "bert_tokenizer = BertTokenizerFast.from_pretrained('neuralmind/bert-base-portuguese-cased')\n",
    "sentence_split = SentenceSplit(\n",
    "        modules=[ForceDropDuplicatedModule(), ReplaceModule(), ReplaceLongWordsModule(),\n",
    "                 ReplaceConcatenatedDotModule()])"
   ]
  },
  {
   "cell_type": "code",
   "execution_count": 6,
   "metadata": {
    "cell_id": "00001-03b690cb-c876-4f14-8e0d-bd1904366a78",
    "deepnote_cell_type": "code",
    "deepnote_to_be_reexecuted": false,
    "execution_millis": 0,
    "execution_start": 1619690574788,
    "source_hash": "c3046566",
    "tags": []
   },
   "outputs": [],
   "source": [
    "# train_csv = Path('train.csv')\n",
    "# test_csv = Path('test.csv')\n",
    "# base_path = Path('/media/discoD/repositorios/entidades/dataset/lener')\n",
    "base_path = Path('.')\n",
    "train_raw_conll = base_path / 'train_raw.conll'\n",
    "train_partial_conll = base_path / 'train_partial.conll'\n",
    "dev_partial_conll = base_path / 'dev_partial.conll'\n",
    "full_partial_conll = base_path / 'full_partial.conll'\n",
    "\n",
    "train_split_conll = base_path / 'train_split.conll'\n",
    "dev_split_conll = base_path / 'dev_split.conll'\n",
    "full_split_conll = base_path / 'full_split.conll'\n",
    "\n",
    "train_conll = base_path / 'train.conll'\n",
    "dev_conll = base_path / 'dev.conll'\n",
    "test_conll = base_path / 'test.conll'\n",
    "full_conll = base_path / 'full.conll'\n",
    "train_jsonl = base_path / 'train.json'\n",
    "dev_jsonl = base_path / 'dev.json'\n",
    "full_jsonl = base_path / 'full.json'"
   ]
  },
  {
   "cell_type": "code",
   "execution_count": 53,
   "metadata": {
    "cell_id": "00003-761dc6f9-380c-4a20-80d6-c1cb121028a6",
    "deepnote_cell_type": "code",
    "deepnote_to_be_reexecuted": false,
    "execution_millis": 21294,
    "execution_start": 1619690926022,
    "source_hash": "1a97d534",
    "tags": []
   },
   "outputs": [],
   "source": [
    "def load_sentences(path, separator=' '):\n",
    "    \"\"\"\n",
    "    Load sentences. A line must contain at least a word and its tag.\n",
    "    Sentences are separated by empty lines.\n",
    "    \"\"\"\n",
    "    sentences = []\n",
    "    sentence = []\n",
    "    for line in tqdm(path.open(mode='r', encoding='utf8')):\n",
    "        line = line.rstrip()\n",
    "        if not line:\n",
    "            if len(sentence) > 0:\n",
    "                if 'DOCSTART' not in sentence[0][0]:\n",
    "                    sentences.append(sentence)\n",
    "                sentence = []\n",
    "        else:\n",
    "            word = line.split(sep=separator)\n",
    "            assert len(word) >= 2\n",
    "            sentence.append(word)\n",
    "    if len(sentence) > 0:\n",
    "        if 'DOCSTART' not in sentence[0][0]:\n",
    "            sentences.append(sentence)\n",
    "    print('Finished loading %d sentences from %s' % (len(sentences), path))\n",
    "    return sentences\n",
    "\n",
    "def greater_than_limit(text: str, max_seq_len: int = 512) -> bool:\n",
    "    return len(bert_tokenizer.tokenize(text)) > (max_seq_len - 2)\n",
    "\n",
    "# def load_sentences(dataframe: pd.DataFrame):\n",
    "#     sentences = []\n",
    "#     sentence = None\n",
    "#     last_sentence_id = None\n",
    "#     for idx, row in tqdm(dataframe.iterrows()):\n",
    "#         sentence_id = row['Sentence_Id']\n",
    "#         if sentence_id != last_sentence_id:\n",
    "#             if sentence is not None:\n",
    "#                 sentences.append(sentence)\n",
    "#             sentence = []\n",
    "#         sentence.append((row['Word'], row['Tag']))\n",
    "#         last_sentence_id = sentence_id\n",
    "#     print('Finished loading %d sentences' % len(sentences))\n",
    "#     return sentences\n",
    "\n",
    "def count_tags(sentences):\n",
    "    df = pd.DataFrame({'Tag': [_tuple[1] for sentence in sentences for _tuple in sentence]})\n",
    "    return df.groupby('Tag').size().reset_index(name='counts')\n",
    "\n",
    "def write_conll(sentences, output_path: Path):\n",
    "    with output_path.open(mode='w', encoding='utf-8') as out_file:\n",
    "        for sentence in tqdm(sentences):\n",
    "            for _tuple in sentence:\n",
    "                out_file.write(' '.join([_tuple[0], 'O', 'O', _tuple[1]]) + '\\n')\n",
    "            out_file.write('\\n')\n",
    "    out_file.close()\n",
    "    \n",
    "def check_long_sentences(sentences):\n",
    "    long_sentences = []\n",
    "    results = []\n",
    "    for _sentence_tuples in tqdm(sentences, 'Checking sentences size...'):\n",
    "        tokens = [_tuple[0] for _tuple in _sentence_tuples]\n",
    "        sentence = ' '.join(tokens)\n",
    "        if greater_than_limit(sentence):\n",
    "            splits = split_utils.split(sentence, usar_ponto_virgula=False)\n",
    "            for split in splits:\n",
    "                split_tokens = split.split()\n",
    "                if greater_than_limit(split):\n",
    "                    print('Size in tokens: %d' % len(split_tokens))\n",
    "                    print(split)\n",
    "                    long_sentences.append(split)\n",
    "                results.append(split)\n",
    "        else:\n",
    "            results.append(sentence)\n",
    "    print('%d sentences can be split into %d smaller ones' % (len(sentences), len(results)))\n",
    "    return long_sentences\n",
    "\n",
    "def split_sentences(input_path: Path, output_path: Path):\n",
    "    split_long_sentences(in_path=input_path, out_path=output_path, split_by_semicolon=True)\n",
    "    \n",
    "def convert_conll_to_jsonl(conll_path, output_path):\n",
    "    sentences = load_sentences(conll_path)\n",
    "    dicts = []\n",
    "    for sentence in tqdm(sentences, 'Saving sentences to json...'):\n",
    "        sentence_dict = {\n",
    "            'tokens': [],\n",
    "            'ner_tags': []\n",
    "        }\n",
    "        for _tuple in sentence:\n",
    "            sentence_dict['tokens'].append(_tuple[0])\n",
    "            sentence_dict['ner_tags'].append(_tuple[-1])\n",
    "        dicts.append(sentence_dict)\n",
    "    df = pd.DataFrame(dicts)\n",
    "    df.to_json(output_path, orient='records', lines=True)\n",
    "    print('Finished converting %d sentences to json' % len(df))"
   ]
  },
  {
   "cell_type": "code",
   "execution_count": 8,
   "metadata": {},
   "outputs": [
    {
     "name": "stderr",
     "output_type": "stream",
     "text": [
      "314386it [00:00, 636424.32it/s]"
     ]
    },
    {
     "name": "stdout",
     "output_type": "stream",
     "text": [
      "Finished loading 7552 sentences from train_raw.conll\n"
     ]
    },
    {
     "name": "stderr",
     "output_type": "stream",
     "text": [
      "\n"
     ]
    }
   ],
   "source": [
    "sentences = load_sentences(train_raw_conll)"
   ]
  },
  {
   "cell_type": "code",
   "execution_count": 6,
   "metadata": {},
   "outputs": [],
   "source": [
    "# _ = load_sentences(Path('/media/discoD/repositorios/entidades/dataset/lener/train_all.conll'))"
   ]
  },
  {
   "cell_type": "code",
   "execution_count": 9,
   "metadata": {},
   "outputs": [],
   "source": [
    "# all_train_sentences = load_sentences(train_conll)"
   ]
  },
  {
   "cell_type": "code",
   "execution_count": 10,
   "metadata": {},
   "outputs": [],
   "source": [
    "# all_dev_sentences = load_sentences(dev_conll)"
   ]
  },
  {
   "cell_type": "code",
   "execution_count": 11,
   "metadata": {},
   "outputs": [],
   "source": [
    "# all_test_sentences = load_sentences(test_conll)"
   ]
  },
  {
   "cell_type": "code",
   "execution_count": 13,
   "metadata": {},
   "outputs": [
    {
     "name": "stderr",
     "output_type": "stream",
     "text": [
      "328464it [00:00, 747378.88it/s]\n"
     ]
    },
    {
     "name": "stdout",
     "output_type": "stream",
     "text": [
      "Finished loading 10392 sentences from /media/discoD/repositorios/entidades/dataset/lener/train_all.conll\n"
     ]
    },
    {
     "data": {
      "text/html": [
       "<div>\n",
       "<style scoped>\n",
       "    .dataframe tbody tr th:only-of-type {\n",
       "        vertical-align: middle;\n",
       "    }\n",
       "\n",
       "    .dataframe tbody tr th {\n",
       "        vertical-align: top;\n",
       "    }\n",
       "\n",
       "    .dataframe thead th {\n",
       "        text-align: right;\n",
       "    }\n",
       "</style>\n",
       "<table border=\"1\" class=\"dataframe\">\n",
       "  <thead>\n",
       "    <tr style=\"text-align: right;\">\n",
       "      <th></th>\n",
       "      <th>Tag</th>\n",
       "      <th>counts</th>\n",
       "    </tr>\n",
       "  </thead>\n",
       "  <tbody>\n",
       "    <tr>\n",
       "      <th>0</th>\n",
       "      <td>B-JURISPRUDENCIA</td>\n",
       "      <td>1496</td>\n",
       "    </tr>\n",
       "    <tr>\n",
       "      <th>1</th>\n",
       "      <td>B-LEGISLACAO</td>\n",
       "      <td>2695</td>\n",
       "    </tr>\n",
       "    <tr>\n",
       "      <th>2</th>\n",
       "      <td>B-LOCAL</td>\n",
       "      <td>767</td>\n",
       "    </tr>\n",
       "    <tr>\n",
       "      <th>3</th>\n",
       "      <td>B-ORGANIZACAO</td>\n",
       "      <td>3462</td>\n",
       "    </tr>\n",
       "    <tr>\n",
       "      <th>4</th>\n",
       "      <td>B-PESSOA</td>\n",
       "      <td>2068</td>\n",
       "    </tr>\n",
       "    <tr>\n",
       "      <th>5</th>\n",
       "      <td>B-TEMPO</td>\n",
       "      <td>1760</td>\n",
       "    </tr>\n",
       "    <tr>\n",
       "      <th>6</th>\n",
       "      <td>I-JURISPRUDENCIA</td>\n",
       "      <td>3874</td>\n",
       "    </tr>\n",
       "    <tr>\n",
       "      <th>7</th>\n",
       "      <td>I-LEGISLACAO</td>\n",
       "      <td>15622</td>\n",
       "    </tr>\n",
       "    <tr>\n",
       "      <th>8</th>\n",
       "      <td>I-LOCAL</td>\n",
       "      <td>1026</td>\n",
       "    </tr>\n",
       "    <tr>\n",
       "      <th>9</th>\n",
       "      <td>I-ORGANIZACAO</td>\n",
       "      <td>6184</td>\n",
       "    </tr>\n",
       "    <tr>\n",
       "      <th>10</th>\n",
       "      <td>I-PESSOA</td>\n",
       "      <td>4173</td>\n",
       "    </tr>\n",
       "    <tr>\n",
       "      <th>11</th>\n",
       "      <td>I-TEMPO</td>\n",
       "      <td>1386</td>\n",
       "    </tr>\n",
       "    <tr>\n",
       "      <th>12</th>\n",
       "      <td>O</td>\n",
       "      <td>273560</td>\n",
       "    </tr>\n",
       "  </tbody>\n",
       "</table>\n",
       "</div>"
      ],
      "text/plain": [
       "                 Tag  counts\n",
       "0   B-JURISPRUDENCIA    1496\n",
       "1       B-LEGISLACAO    2695\n",
       "2            B-LOCAL     767\n",
       "3      B-ORGANIZACAO    3462\n",
       "4           B-PESSOA    2068\n",
       "5            B-TEMPO    1760\n",
       "6   I-JURISPRUDENCIA    3874\n",
       "7       I-LEGISLACAO   15622\n",
       "8            I-LOCAL    1026\n",
       "9      I-ORGANIZACAO    6184\n",
       "10          I-PESSOA    4173\n",
       "11           I-TEMPO    1386\n",
       "12                 O  273560"
      ]
     },
     "execution_count": 13,
     "metadata": {},
     "output_type": "execute_result"
    }
   ],
   "source": [
    "count_tags(load_sentences(Path('/media/discoD/repositorios/entidades/dataset/lener/train_all.conll')))"
   ]
  },
  {
   "cell_type": "code",
   "execution_count": 12,
   "metadata": {},
   "outputs": [
    {
     "data": {
      "text/html": [
       "<div>\n",
       "<style scoped>\n",
       "    .dataframe tbody tr th:only-of-type {\n",
       "        vertical-align: middle;\n",
       "    }\n",
       "\n",
       "    .dataframe tbody tr th {\n",
       "        vertical-align: top;\n",
       "    }\n",
       "\n",
       "    .dataframe thead th {\n",
       "        text-align: right;\n",
       "    }\n",
       "</style>\n",
       "<table border=\"1\" class=\"dataframe\">\n",
       "  <thead>\n",
       "    <tr style=\"text-align: right;\">\n",
       "      <th></th>\n",
       "      <th>Tag</th>\n",
       "      <th>counts</th>\n",
       "    </tr>\n",
       "  </thead>\n",
       "  <tbody>\n",
       "    <tr>\n",
       "      <th>0</th>\n",
       "      <td>B-JURISPRUDENCIA</td>\n",
       "      <td>1378</td>\n",
       "    </tr>\n",
       "    <tr>\n",
       "      <th>1</th>\n",
       "      <td>B-LEGISLACAO</td>\n",
       "      <td>2501</td>\n",
       "    </tr>\n",
       "    <tr>\n",
       "      <th>2</th>\n",
       "      <td>B-LOCAL</td>\n",
       "      <td>714</td>\n",
       "    </tr>\n",
       "    <tr>\n",
       "      <th>3</th>\n",
       "      <td>B-ORGANIZACAO</td>\n",
       "      <td>3349</td>\n",
       "    </tr>\n",
       "    <tr>\n",
       "      <th>4</th>\n",
       "      <td>B-PESSOA</td>\n",
       "      <td>1955</td>\n",
       "    </tr>\n",
       "    <tr>\n",
       "      <th>5</th>\n",
       "      <td>B-TEMPO</td>\n",
       "      <td>1668</td>\n",
       "    </tr>\n",
       "    <tr>\n",
       "      <th>6</th>\n",
       "      <td>I-JURISPRUDENCIA</td>\n",
       "      <td>3531</td>\n",
       "    </tr>\n",
       "    <tr>\n",
       "      <th>7</th>\n",
       "      <td>I-LEGISLACAO</td>\n",
       "      <td>14540</td>\n",
       "    </tr>\n",
       "    <tr>\n",
       "      <th>8</th>\n",
       "      <td>I-LOCAL</td>\n",
       "      <td>1003</td>\n",
       "    </tr>\n",
       "    <tr>\n",
       "      <th>9</th>\n",
       "      <td>I-ORGANIZACAO</td>\n",
       "      <td>6029</td>\n",
       "    </tr>\n",
       "    <tr>\n",
       "      <th>10</th>\n",
       "      <td>I-PESSOA</td>\n",
       "      <td>3889</td>\n",
       "    </tr>\n",
       "    <tr>\n",
       "      <th>11</th>\n",
       "      <td>I-TEMPO</td>\n",
       "      <td>1172</td>\n",
       "    </tr>\n",
       "    <tr>\n",
       "      <th>12</th>\n",
       "      <td>O</td>\n",
       "      <td>265105</td>\n",
       "    </tr>\n",
       "  </tbody>\n",
       "</table>\n",
       "</div>"
      ],
      "text/plain": [
       "                 Tag  counts\n",
       "0   B-JURISPRUDENCIA    1378\n",
       "1       B-LEGISLACAO    2501\n",
       "2            B-LOCAL     714\n",
       "3      B-ORGANIZACAO    3349\n",
       "4           B-PESSOA    1955\n",
       "5            B-TEMPO    1668\n",
       "6   I-JURISPRUDENCIA    3531\n",
       "7       I-LEGISLACAO   14540\n",
       "8            I-LOCAL    1003\n",
       "9      I-ORGANIZACAO    6029\n",
       "10          I-PESSOA    3889\n",
       "11           I-TEMPO    1172\n",
       "12                 O  265105"
      ]
     },
     "execution_count": 12,
     "metadata": {},
     "output_type": "execute_result"
    }
   ],
   "source": [
    "count_tags(sentences)"
   ]
  },
  {
   "cell_type": "code",
   "execution_count": 14,
   "metadata": {},
   "outputs": [
    {
     "name": "stdout",
     "output_type": "stream",
     "text": [
      "6041 1511\n"
     ]
    }
   ],
   "source": [
    "train_split, test_split = train_test_split(sentences, test_size=0.2, random_state=42)\n",
    "print(len(train_split), len(test_split))"
   ]
  },
  {
   "cell_type": "code",
   "execution_count": 15,
   "metadata": {},
   "outputs": [
    {
     "data": {
      "text/html": [
       "<div>\n",
       "<style scoped>\n",
       "    .dataframe tbody tr th:only-of-type {\n",
       "        vertical-align: middle;\n",
       "    }\n",
       "\n",
       "    .dataframe tbody tr th {\n",
       "        vertical-align: top;\n",
       "    }\n",
       "\n",
       "    .dataframe thead th {\n",
       "        text-align: right;\n",
       "    }\n",
       "</style>\n",
       "<table border=\"1\" class=\"dataframe\">\n",
       "  <thead>\n",
       "    <tr style=\"text-align: right;\">\n",
       "      <th></th>\n",
       "      <th>Tag</th>\n",
       "      <th>counts</th>\n",
       "    </tr>\n",
       "  </thead>\n",
       "  <tbody>\n",
       "    <tr>\n",
       "      <th>0</th>\n",
       "      <td>B-JURISPRUDENCIA</td>\n",
       "      <td>1077</td>\n",
       "    </tr>\n",
       "    <tr>\n",
       "      <th>1</th>\n",
       "      <td>B-LEGISLACAO</td>\n",
       "      <td>2010</td>\n",
       "    </tr>\n",
       "    <tr>\n",
       "      <th>2</th>\n",
       "      <td>B-LOCAL</td>\n",
       "      <td>533</td>\n",
       "    </tr>\n",
       "    <tr>\n",
       "      <th>3</th>\n",
       "      <td>B-ORGANIZACAO</td>\n",
       "      <td>2620</td>\n",
       "    </tr>\n",
       "    <tr>\n",
       "      <th>4</th>\n",
       "      <td>B-PESSOA</td>\n",
       "      <td>1525</td>\n",
       "    </tr>\n",
       "    <tr>\n",
       "      <th>5</th>\n",
       "      <td>B-TEMPO</td>\n",
       "      <td>1348</td>\n",
       "    </tr>\n",
       "    <tr>\n",
       "      <th>6</th>\n",
       "      <td>I-JURISPRUDENCIA</td>\n",
       "      <td>2770</td>\n",
       "    </tr>\n",
       "    <tr>\n",
       "      <th>7</th>\n",
       "      <td>I-LEGISLACAO</td>\n",
       "      <td>11669</td>\n",
       "    </tr>\n",
       "    <tr>\n",
       "      <th>8</th>\n",
       "      <td>I-LOCAL</td>\n",
       "      <td>742</td>\n",
       "    </tr>\n",
       "    <tr>\n",
       "      <th>9</th>\n",
       "      <td>I-ORGANIZACAO</td>\n",
       "      <td>4737</td>\n",
       "    </tr>\n",
       "    <tr>\n",
       "      <th>10</th>\n",
       "      <td>I-PESSOA</td>\n",
       "      <td>3047</td>\n",
       "    </tr>\n",
       "    <tr>\n",
       "      <th>11</th>\n",
       "      <td>I-TEMPO</td>\n",
       "      <td>985</td>\n",
       "    </tr>\n",
       "    <tr>\n",
       "      <th>12</th>\n",
       "      <td>O</td>\n",
       "      <td>212741</td>\n",
       "    </tr>\n",
       "  </tbody>\n",
       "</table>\n",
       "</div>"
      ],
      "text/plain": [
       "                 Tag  counts\n",
       "0   B-JURISPRUDENCIA    1077\n",
       "1       B-LEGISLACAO    2010\n",
       "2            B-LOCAL     533\n",
       "3      B-ORGANIZACAO    2620\n",
       "4           B-PESSOA    1525\n",
       "5            B-TEMPO    1348\n",
       "6   I-JURISPRUDENCIA    2770\n",
       "7       I-LEGISLACAO   11669\n",
       "8            I-LOCAL     742\n",
       "9      I-ORGANIZACAO    4737\n",
       "10          I-PESSOA    3047\n",
       "11           I-TEMPO     985\n",
       "12                 O  212741"
      ]
     },
     "execution_count": 15,
     "metadata": {},
     "output_type": "execute_result"
    }
   ],
   "source": [
    "count_tags(train_split)"
   ]
  },
  {
   "cell_type": "code",
   "execution_count": 16,
   "metadata": {},
   "outputs": [
    {
     "data": {
      "text/html": [
       "<div>\n",
       "<style scoped>\n",
       "    .dataframe tbody tr th:only-of-type {\n",
       "        vertical-align: middle;\n",
       "    }\n",
       "\n",
       "    .dataframe tbody tr th {\n",
       "        vertical-align: top;\n",
       "    }\n",
       "\n",
       "    .dataframe thead th {\n",
       "        text-align: right;\n",
       "    }\n",
       "</style>\n",
       "<table border=\"1\" class=\"dataframe\">\n",
       "  <thead>\n",
       "    <tr style=\"text-align: right;\">\n",
       "      <th></th>\n",
       "      <th>Tag</th>\n",
       "      <th>counts</th>\n",
       "    </tr>\n",
       "  </thead>\n",
       "  <tbody>\n",
       "    <tr>\n",
       "      <th>0</th>\n",
       "      <td>B-JURISPRUDENCIA</td>\n",
       "      <td>301</td>\n",
       "    </tr>\n",
       "    <tr>\n",
       "      <th>1</th>\n",
       "      <td>B-LEGISLACAO</td>\n",
       "      <td>491</td>\n",
       "    </tr>\n",
       "    <tr>\n",
       "      <th>2</th>\n",
       "      <td>B-LOCAL</td>\n",
       "      <td>181</td>\n",
       "    </tr>\n",
       "    <tr>\n",
       "      <th>3</th>\n",
       "      <td>B-ORGANIZACAO</td>\n",
       "      <td>729</td>\n",
       "    </tr>\n",
       "    <tr>\n",
       "      <th>4</th>\n",
       "      <td>B-PESSOA</td>\n",
       "      <td>430</td>\n",
       "    </tr>\n",
       "    <tr>\n",
       "      <th>5</th>\n",
       "      <td>B-TEMPO</td>\n",
       "      <td>320</td>\n",
       "    </tr>\n",
       "    <tr>\n",
       "      <th>6</th>\n",
       "      <td>I-JURISPRUDENCIA</td>\n",
       "      <td>761</td>\n",
       "    </tr>\n",
       "    <tr>\n",
       "      <th>7</th>\n",
       "      <td>I-LEGISLACAO</td>\n",
       "      <td>2871</td>\n",
       "    </tr>\n",
       "    <tr>\n",
       "      <th>8</th>\n",
       "      <td>I-LOCAL</td>\n",
       "      <td>261</td>\n",
       "    </tr>\n",
       "    <tr>\n",
       "      <th>9</th>\n",
       "      <td>I-ORGANIZACAO</td>\n",
       "      <td>1292</td>\n",
       "    </tr>\n",
       "    <tr>\n",
       "      <th>10</th>\n",
       "      <td>I-PESSOA</td>\n",
       "      <td>842</td>\n",
       "    </tr>\n",
       "    <tr>\n",
       "      <th>11</th>\n",
       "      <td>I-TEMPO</td>\n",
       "      <td>187</td>\n",
       "    </tr>\n",
       "    <tr>\n",
       "      <th>12</th>\n",
       "      <td>O</td>\n",
       "      <td>52364</td>\n",
       "    </tr>\n",
       "  </tbody>\n",
       "</table>\n",
       "</div>"
      ],
      "text/plain": [
       "                 Tag  counts\n",
       "0   B-JURISPRUDENCIA     301\n",
       "1       B-LEGISLACAO     491\n",
       "2            B-LOCAL     181\n",
       "3      B-ORGANIZACAO     729\n",
       "4           B-PESSOA     430\n",
       "5            B-TEMPO     320\n",
       "6   I-JURISPRUDENCIA     761\n",
       "7       I-LEGISLACAO    2871\n",
       "8            I-LOCAL     261\n",
       "9      I-ORGANIZACAO    1292\n",
       "10          I-PESSOA     842\n",
       "11           I-TEMPO     187\n",
       "12                 O   52364"
      ]
     },
     "execution_count": 16,
     "metadata": {},
     "output_type": "execute_result"
    }
   ],
   "source": [
    "count_tags(test_split)"
   ]
  },
  {
   "cell_type": "code",
   "execution_count": 17,
   "metadata": {},
   "outputs": [
    {
     "name": "stderr",
     "output_type": "stream",
     "text": [
      "100%|██████████| 6041/6041 [00:00<00:00, 53233.00it/s]\n",
      "100%|██████████| 1511/1511 [00:00<00:00, 49910.17it/s]\n"
     ]
    }
   ],
   "source": [
    "write_conll(train_split, train_partial_conll)\n",
    "write_conll(test_split, dev_partial_conll)"
   ]
  },
  {
   "cell_type": "code",
   "execution_count": 19,
   "metadata": {},
   "outputs": [
    {
     "name": "stdout",
     "output_type": "stream",
     "text": [
      "\n",
      "Loading sentences from train_raw.conll\n",
      "\n",
      "Rewrote 7552 sentences after splitting with length greater than 200\n",
      "\n",
      "Loading sentences from train_partial.conll\n",
      "\n",
      "Rewrote 6041 sentences after splitting with length greater than 200\n",
      "\n",
      "Loading sentences from dev_partial.conll\n",
      "\n",
      "Rewrote 1511 sentences after splitting with length greater than 200\n"
     ]
    }
   ],
   "source": [
    "split_sentences(train_raw_conll, full_conll)\n",
    "split_sentences(train_partial_conll, train_conll)\n",
    "split_sentences(dev_partial_conll, dev_conll)"
   ]
  },
  {
   "cell_type": "code",
   "execution_count": 54,
   "metadata": {},
   "outputs": [
    {
     "name": "stderr",
     "output_type": "stream",
     "text": [
      "313703it [00:00, 643053.42it/s] \n",
      "Saving sentences to json...: 100%|██████████| 7841/7841 [00:00<00:00, 115810.57it/s]\n",
      "131361it [00:00, 1313604.99it/s]"
     ]
    },
    {
     "name": "stdout",
     "output_type": "stream",
     "text": [
      "Finished loading 7841 sentences from full.conll\n",
      "Finished converting 7841 sentences to json\n"
     ]
    },
    {
     "name": "stderr",
     "output_type": "stream",
     "text": [
      "251788it [00:00, 1219517.60it/s]\n",
      "Saving sentences to json...: 100%|██████████| 6294/6294 [00:00<00:00, 107715.64it/s]\n",
      "61915it [00:00, 1195022.47it/s]\n",
      "Saving sentences to json...: 100%|██████████| 1547/1547 [00:00<00:00, 84029.48it/s]"
     ]
    },
    {
     "name": "stdout",
     "output_type": "stream",
     "text": [
      "Finished loading 6294 sentences from train.conll\n",
      "Finished converting 6294 sentences to json\n",
      "Finished loading 1547 sentences from dev.conll\n",
      "Finished converting 1547 sentences to json\n"
     ]
    },
    {
     "name": "stderr",
     "output_type": "stream",
     "text": [
      "\n"
     ]
    }
   ],
   "source": [
    "convert_conll_to_jsonl(full_conll, full_jsonl)\n",
    "convert_conll_to_jsonl(train_conll, train_jsonl)\n",
    "convert_conll_to_jsonl(dev_conll, dev_jsonl)"
   ]
  },
  {
   "cell_type": "code",
   "execution_count": 29,
   "metadata": {},
   "outputs": [
    {
     "name": "stderr",
     "output_type": "stream",
     "text": [
      "251788it [00:00, 667113.96it/s] "
     ]
    },
    {
     "name": "stdout",
     "output_type": "stream",
     "text": [
      "Finished loading 6294 sentences from train.conll\n"
     ]
    },
    {
     "name": "stderr",
     "output_type": "stream",
     "text": [
      "\n"
     ]
    }
   ],
   "source": [
    "train_sentences = load_sentences(train_conll)"
   ]
  },
  {
   "cell_type": "code",
   "execution_count": 33,
   "metadata": {},
   "outputs": [
    {
     "name": "stderr",
     "output_type": "stream",
     "text": [
      "Checking sentences size...: 100%|██████████| 6294/6294 [00:01<00:00, 5039.10it/s]"
     ]
    },
    {
     "name": "stdout",
     "output_type": "stream",
     "text": [
      "6294 sentences can be split into 6294 smaller ones\n"
     ]
    },
    {
     "name": "stderr",
     "output_type": "stream",
     "text": [
      "\n"
     ]
    }
   ],
   "source": [
    "check_long_sentences(train_sentences)"
   ]
  },
  {
   "cell_type": "code",
   "execution_count": 45,
   "metadata": {},
   "outputs": [
    {
     "name": "stderr",
     "output_type": "stream",
     "text": [
      "61915it [00:00, 1135422.08it/s]\n",
      "Checking sentences size...:  63%|██████▎   | 972/1547 [00:00<00:00, 4893.06it/s]"
     ]
    },
    {
     "name": "stdout",
     "output_type": "stream",
     "text": [
      "Finished loading 1547 sentences from dev.conll\n",
      "Size in tokens: 239\n",
      "MARCELO PEREIRA CRUVINEL AUTUAÇÃO AGRAVANTE : TENILAS ROCHA DIAS ADVOGADO : MANOEL CUNHA LACERDA E OUTRO ( S ) AGRAVANTE : PAULO SALINET DIAS ADVOGADA : ALEXANDRA BERTON SCHIAVINATO E OUTRO ( S ) AGRAVANTE : HAMSSI TAHA ADVOGADO : MILTON FERNANDO TALZI E OUTRO ( S ) AGRAVANTE : WAGNER MEIRA ALVES ADVOGADOS : ALEXANDRE DE SÁ DOMINGUES E OUTRO ( S ) RICARDO FANTI IACONO AGRAVADO : MINISTÉRIO PÚBLICO FEDERAL CORRÉU : JOÃO MARCOS LOURENÇÃO DA SILVA CORRÉU : MANOEL CUNHA LACERDA CORRÉU : JOSEPH NOUR EDDINE NASRALLAH ADVOGADA : ALEXANDRA BERTON SCHIAVINATO CORRÉU : CLÉBER LUIS QUINHÕES CORRÉU : ATEF YOUSSEF NEHME HARB CORRÉU : MAFAWAD METANIS TOUMA CORRÉU : DIMITRIOS BOURLIS CORRÉU : GEORGE BOUNICOLAS CORRÉU : ANTÔNIO LUIZ RIBEIRO DA SILVA ASSUNTO : DIREITO PENAL - Crimes Previstos na Legislação Extravagante - Crimes de Tráfico Ilícito e Uso Indevido de Drogas AGRAVO REGIMENTAL AGRAVANTE : HAMSSI TAHA ADVOGADO : JOÃO ANGELILDO JOSÉ ROCHA E OUTRO ( S ) AGRAVADO : MINISTÉRIO PÚBLICO FEDERAL CERTIDÃO Certifico que a egrégia QUINTA TURMA , ao apreciar o processo em epígrafe na sessão Documento : 1458312 - Inteiro Teor do Acórdão - Site certificado - DJe : 16/11/2015 Página 1 1 de 12 Superior Tribunal de Justiça realizada nesta data , proferiu a seguinte decisão : '' A Turma , por unanimidade , deu provimento ao agravo regimental , nos termos do voto do Sr. Ministro Relator. ''\n"
     ]
    },
    {
     "name": "stderr",
     "output_type": "stream",
     "text": [
      "Checking sentences size...: 100%|██████████| 1547/1547 [00:00<00:00, 4938.91it/s]"
     ]
    },
    {
     "name": "stdout",
     "output_type": "stream",
     "text": [
      "1547 sentences can be split into 1550 smaller ones\n"
     ]
    },
    {
     "name": "stderr",
     "output_type": "stream",
     "text": [
      "\n"
     ]
    }
   ],
   "source": [
    "long_sentences = check_long_sentences(load_sentences(dev_conll))"
   ]
  },
  {
   "cell_type": "code",
   "execution_count": 49,
   "metadata": {},
   "outputs": [
    {
     "data": {
      "text/plain": [
       "1"
      ]
     },
     "execution_count": 49,
     "metadata": {},
     "output_type": "execute_result"
    }
   ],
   "source": [
    "splits = sentence_split.get_sentences(long_sentences[0], split_by_semicolon=True)\n",
    "len(splits)"
   ]
  },
  {
   "cell_type": "code",
   "execution_count": 50,
   "metadata": {},
   "outputs": [
    {
     "data": {
      "text/plain": [
       "1"
      ]
     },
     "execution_count": 50,
     "metadata": {},
     "output_type": "execute_result"
    }
   ],
   "source": [
    "splits = split_utils.split(long_sentences[0], usar_ponto_virgula=True)\n",
    "len(splits)"
   ]
  },
  {
   "cell_type": "code",
   "execution_count": null,
   "metadata": {},
   "outputs": [],
   "source": []
  }
 ],
 "metadata": {
  "deepnote": {
   "is_reactive": false
  },
  "deepnote_execution_queue": [],
  "deepnote_notebook_id": "1e05c6e2-f211-43ee-9cab-b086a900b8c0",
  "kernelspec": {
   "display_name": "Spacy Stanza",
   "language": "python",
   "name": "spacy-stanza"
  },
  "language_info": {
   "codemirror_mode": {
    "name": "ipython",
    "version": 3
   },
   "file_extension": ".py",
   "mimetype": "text/x-python",
   "name": "python",
   "nbconvert_exporter": "python",
   "pygments_lexer": "ipython3",
   "version": "3.7.7"
  }
 },
 "nbformat": 4,
 "nbformat_minor": 2
}
