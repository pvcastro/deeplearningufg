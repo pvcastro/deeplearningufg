{
 "cells": [
  {
   "cell_type": "code",
   "execution_count": 1,
   "metadata": {
    "collapsed": true
   },
   "outputs": [],
   "source": [
    "import numpy as np"
   ]
  },
  {
   "cell_type": "code",
   "execution_count": 2,
   "metadata": {
    "collapsed": true
   },
   "outputs": [],
   "source": [
    "def sigmoid(u):\n",
    "    return 1 / (1 + np.exp(-u))"
   ]
  },
  {
   "cell_type": "code",
   "execution_count": null,
   "metadata": {
    "collapsed": true
   },
   "outputs": [],
   "source": [
    "def calcular_erro(entrada, entrada_reconstruida):"
   ]
  },
  {
   "cell_type": "code",
   "execution_count": 3,
   "metadata": {
    "collapsed": false
   },
   "outputs": [
    {
     "name": "stdout",
     "output_type": "stream",
     "text": [
      "[[1 2 3]\n",
      " [4 5 6]]\n"
     ]
    }
   ],
   "source": [
    "my_matrix = np.array([[1, 2, 3], [4, 5, 6]])\n",
    "print(my_matrix)"
   ]
  },
  {
   "cell_type": "code",
   "execution_count": 4,
   "metadata": {
    "collapsed": false
   },
   "outputs": [
    {
     "data": {
      "text/plain": [
       "(2, 3)"
      ]
     },
     "execution_count": 4,
     "metadata": {},
     "output_type": "execute_result"
    }
   ],
   "source": [
    "my_matrix.shape"
   ]
  },
  {
   "cell_type": "code",
   "execution_count": 5,
   "metadata": {
    "collapsed": false
   },
   "outputs": [
    {
     "data": {
      "text/plain": [
       "array([1, 2, 3])"
      ]
     },
     "execution_count": 5,
     "metadata": {},
     "output_type": "execute_result"
    }
   ],
   "source": [
    "#primeira linha\n",
    "my_matrix[0,:]"
   ]
  },
  {
   "cell_type": "code",
   "execution_count": 6,
   "metadata": {
    "collapsed": false
   },
   "outputs": [
    {
     "data": {
      "text/plain": [
       "array([1, 4])"
      ]
     },
     "execution_count": 6,
     "metadata": {},
     "output_type": "execute_result"
    }
   ],
   "source": [
    "#primeira coluna\n",
    "my_matrix[:,0]"
   ]
  },
  {
   "cell_type": "code",
   "execution_count": 36,
   "metadata": {
    "collapsed": true
   },
   "outputs": [],
   "source": [
    "taxa_de_aprendizagem = 0.1"
   ]
  },
  {
   "cell_type": "code",
   "execution_count": 7,
   "metadata": {
    "collapsed": false,
    "scrolled": true
   },
   "outputs": [
    {
     "data": {
      "text/plain": [
       "array([[0, 1, 1, 1, 0, 0],\n",
       "       [0, 1, 1, 1, 0, 0],\n",
       "       [1, 1, 1, 0, 0, 0],\n",
       "       [0, 1, 1, 0, 0, 1],\n",
       "       [0, 1, 1, 1, 0, 0],\n",
       "       [1, 0, 0, 0, 1, 1]])"
      ]
     },
     "execution_count": 7,
     "metadata": {},
     "output_type": "execute_result"
    }
   ],
   "source": [
    "aluno_1 = [0,1,1,1,0,0]\n",
    "aluno_2 = [0,1,1,1,0,0]\n",
    "aluno_3 = [1,1,1,0,0,0]\n",
    "aluno_4 = [0,1,1,0,0,1]\n",
    "aluno_5 = [0,1,1,1,0,0]\n",
    "aluno_6 = [1,0,0,0,1,1]\n",
    "entradas = np.array([aluno_1, aluno_2, aluno_3, aluno_4, aluno_5, aluno_6])\n",
    "entradas"
   ]
  },
  {
   "cell_type": "code",
   "execution_count": 8,
   "metadata": {
    "collapsed": false
   },
   "outputs": [
    {
     "data": {
      "text/plain": [
       "6"
      ]
     },
     "execution_count": 8,
     "metadata": {},
     "output_type": "execute_result"
    }
   ],
   "source": [
    "entradas.shape[0]"
   ]
  },
  {
   "cell_type": "code",
   "execution_count": 9,
   "metadata": {
    "collapsed": false
   },
   "outputs": [
    {
     "data": {
      "text/plain": [
       "array([[ 1.,  0.,  1.,  1.,  1.,  0.,  0.],\n",
       "       [ 1.,  0.,  1.,  1.,  1.,  0.,  0.],\n",
       "       [ 1.,  1.,  1.,  1.,  0.,  0.,  0.],\n",
       "       [ 1.,  0.,  1.,  1.,  0.,  0.,  1.],\n",
       "       [ 1.,  0.,  1.,  1.,  1.,  0.,  0.],\n",
       "       [ 1.,  1.,  0.,  0.,  0.,  1.,  1.]])"
      ]
     },
     "execution_count": 9,
     "metadata": {},
     "output_type": "execute_result"
    }
   ],
   "source": [
    "#entradas = np.append(1, entradas)\n",
    "entradas = np.c_[np.ones(entradas.shape[0]), entradas]\n",
    "entradas"
   ]
  },
  {
   "cell_type": "code",
   "execution_count": 10,
   "metadata": {
    "collapsed": false
   },
   "outputs": [
    {
     "data": {
      "text/plain": [
       "(6, 7)"
      ]
     },
     "execution_count": 10,
     "metadata": {},
     "output_type": "execute_result"
    }
   ],
   "source": [
    "entradas.shape"
   ]
  },
  {
   "cell_type": "code",
   "execution_count": 11,
   "metadata": {
    "collapsed": false
   },
   "outputs": [
    {
     "data": {
      "text/plain": [
       "array([[ 0. ,  0. ,  0. ],\n",
       "       [ 0. ,  0.1,  0.2],\n",
       "       [ 0. ,  0.3,  0.4],\n",
       "       [ 0. ,  0.5,  0.6],\n",
       "       [ 0. ,  0.7,  0.8],\n",
       "       [ 0. ,  0.9,  1. ],\n",
       "       [ 0. ,  0.1,  0.2]])"
      ]
     },
     "execution_count": 11,
     "metadata": {},
     "output_type": "execute_result"
    }
   ],
   "source": [
    "pesos = np.array(\n",
    "        [[0.0, 0.0, 0.0],\n",
    "         [0.0, 0.1, 0.2],\n",
    "         [0.0, 0.3, 0.4],\n",
    "         [0.0, 0.5, 0.6],\n",
    "         [0.0, 0.7, 0.8],\n",
    "         [0.0, 0.9, 1.0],\n",
    "         [0.0, 0.1, 0.2]])\n",
    "pesos"
   ]
  },
  {
   "cell_type": "code",
   "execution_count": 12,
   "metadata": {
    "collapsed": false
   },
   "outputs": [
    {
     "data": {
      "text/plain": [
       "(7, 3)"
      ]
     },
     "execution_count": 12,
     "metadata": {},
     "output_type": "execute_result"
    }
   ],
   "source": [
    "pesos.shape"
   ]
  },
  {
   "cell_type": "code",
   "execution_count": 13,
   "metadata": {
    "collapsed": false
   },
   "outputs": [
    {
     "data": {
      "text/plain": [
       "array([[ 0. ,  1.5,  1.8],\n",
       "       [ 0. ,  1.5,  1.8],\n",
       "       [ 0. ,  0.9,  1.2],\n",
       "       [ 0. ,  0.9,  1.2],\n",
       "       [ 0. ,  1.5,  1.8],\n",
       "       [ 0. ,  1.1,  1.4]])"
      ]
     },
     "execution_count": 13,
     "metadata": {},
     "output_type": "execute_result"
    }
   ],
   "source": [
    "energia_ativacao_Uv = np.dot(entradas, pesos)\n",
    "energia_ativacao_Uv"
   ]
  },
  {
   "cell_type": "code",
   "execution_count": 14,
   "metadata": {
    "collapsed": false
   },
   "outputs": [
    {
     "data": {
      "text/plain": [
       "array([[ 0.5       ,  0.81757448,  0.85814894],\n",
       "       [ 0.5       ,  0.81757448,  0.85814894],\n",
       "       [ 0.5       ,  0.7109495 ,  0.76852478],\n",
       "       [ 0.5       ,  0.7109495 ,  0.76852478],\n",
       "       [ 0.5       ,  0.81757448,  0.85814894],\n",
       "       [ 0.5       ,  0.75026011,  0.80218389]])"
      ]
     },
     "execution_count": 14,
     "metadata": {},
     "output_type": "execute_result"
    }
   ],
   "source": [
    "ativacao_gUv = sigmoid(energia_ativacao_Uv)\n",
    "ativacao_gUv"
   ]
  },
  {
   "cell_type": "code",
   "execution_count": 15,
   "metadata": {
    "collapsed": false
   },
   "outputs": [
    {
     "data": {
      "text/plain": [
       "array([[ 0.07891021,  0.34866721,  0.24276382],\n",
       "       [ 0.59238227,  0.81209019,  0.65219141],\n",
       "       [ 0.15108547,  0.32043873,  0.53414475],\n",
       "       [ 0.02179819,  0.22749686,  0.78248417],\n",
       "       [ 0.70124719,  0.22579753,  0.85562067],\n",
       "       [ 0.90927114,  0.1731394 ,  0.46698919]])"
      ]
     },
     "execution_count": 15,
     "metadata": {},
     "output_type": "execute_result"
    }
   ],
   "source": [
    "numeros_aleatorios = np.random.random((ativacao_gUv.shape[0], ativacao_gUv.shape[1]))\n",
    "numeros_aleatorios"
   ]
  },
  {
   "cell_type": "code",
   "execution_count": 16,
   "metadata": {
    "collapsed": false
   },
   "outputs": [
    {
     "data": {
      "text/plain": [
       "array([[ True,  True,  True],\n",
       "       [False,  True,  True],\n",
       "       [ True,  True,  True],\n",
       "       [ True,  True, False],\n",
       "       [False,  True,  True],\n",
       "       [False,  True,  True]], dtype=bool)"
      ]
     },
     "execution_count": 16,
     "metadata": {},
     "output_type": "execute_result"
    }
   ],
   "source": [
    "probabilidade_associacao_neuronios = ativacao_gUv >= numeros_aleatorios\n",
    "probabilidade_associacao_neuronios"
   ]
  },
  {
   "cell_type": "code",
   "execution_count": 17,
   "metadata": {
    "collapsed": true
   },
   "outputs": [],
   "source": [
    "probabilidade_associacao_neuronios = np.array([[False, False, True],\n",
    "                                               [False, True, True],\n",
    "                                               [False, True, True],\n",
    "                                               [True, True, True],\n",
    "                                               [True, True, True],\n",
    "                                               [True, True, True]])"
   ]
  },
  {
   "cell_type": "code",
   "execution_count": 18,
   "metadata": {
    "collapsed": false
   },
   "outputs": [
    {
     "data": {
      "text/plain": [
       "array([[False, False,  True],\n",
       "       [False,  True,  True],\n",
       "       [False,  True,  True],\n",
       "       [ True,  True,  True],\n",
       "       [ True,  True,  True],\n",
       "       [ True,  True,  True]], dtype=bool)"
      ]
     },
     "execution_count": 18,
     "metadata": {},
     "output_type": "execute_result"
    }
   ],
   "source": [
    "probabilidade_associacao_neuronios"
   ]
  },
  {
   "cell_type": "code",
   "execution_count": 19,
   "metadata": {
    "collapsed": false
   },
   "outputs": [
    {
     "data": {
      "text/plain": [
       "array([[ 0. ,  0.2,  0.4,  0.6,  0.8,  1. ,  0.2],\n",
       "       [ 0. ,  0.3,  0.7,  1.1,  1.5,  1.9,  0.3],\n",
       "       [ 0. ,  0.3,  0.7,  1.1,  1.5,  1.9,  0.3],\n",
       "       [ 0. ,  0.3,  0.7,  1.1,  1.5,  1.9,  0.3],\n",
       "       [ 0. ,  0.3,  0.7,  1.1,  1.5,  1.9,  0.3],\n",
       "       [ 0. ,  0.3,  0.7,  1.1,  1.5,  1.9,  0.3]])"
      ]
     },
     "execution_count": 19,
     "metadata": {},
     "output_type": "execute_result"
    }
   ],
   "source": [
    "energia_ativacao_Uh = np.dot(probabilidade_associacao_neuronios, pesos.T)\n",
    "energia_ativacao_Uh"
   ]
  },
  {
   "cell_type": "code",
   "execution_count": 27,
   "metadata": {
    "collapsed": false
   },
   "outputs": [
    {
     "data": {
      "text/plain": [
       "array([[ 0.5       ,  0.549834  ,  0.59868766,  0.64565631,  0.68997448,\n",
       "         0.73105858,  0.549834  ],\n",
       "       [ 0.5       ,  0.57444252,  0.66818777,  0.75026011,  0.81757448,\n",
       "         0.86989153,  0.57444252],\n",
       "       [ 0.5       ,  0.57444252,  0.66818777,  0.75026011,  0.81757448,\n",
       "         0.86989153,  0.57444252],\n",
       "       [ 0.5       ,  0.57444252,  0.66818777,  0.75026011,  0.81757448,\n",
       "         0.86989153,  0.57444252],\n",
       "       [ 0.5       ,  0.57444252,  0.66818777,  0.75026011,  0.81757448,\n",
       "         0.86989153,  0.57444252],\n",
       "       [ 0.5       ,  0.57444252,  0.66818777,  0.75026011,  0.81757448,\n",
       "         0.86989153,  0.57444252]])"
      ]
     },
     "execution_count": 27,
     "metadata": {},
     "output_type": "execute_result"
    }
   ],
   "source": [
    "entradas_reconstruidas = sigmoid(energia_ativacao_Uh)\n",
    "entradas_reconstruidas"
   ]
  },
  {
   "cell_type": "code",
   "execution_count": 28,
   "metadata": {
    "collapsed": false
   },
   "outputs": [
    {
     "data": {
      "text/plain": [
       "array([[ 1.        ,  0.549834  ,  0.59868766,  0.64565631,  0.68997448,\n",
       "         0.73105858,  0.549834  ],\n",
       "       [ 1.        ,  0.57444252,  0.66818777,  0.75026011,  0.81757448,\n",
       "         0.86989153,  0.57444252],\n",
       "       [ 1.        ,  0.57444252,  0.66818777,  0.75026011,  0.81757448,\n",
       "         0.86989153,  0.57444252],\n",
       "       [ 1.        ,  0.57444252,  0.66818777,  0.75026011,  0.81757448,\n",
       "         0.86989153,  0.57444252],\n",
       "       [ 1.        ,  0.57444252,  0.66818777,  0.75026011,  0.81757448,\n",
       "         0.86989153,  0.57444252],\n",
       "       [ 1.        ,  0.57444252,  0.66818777,  0.75026011,  0.81757448,\n",
       "         0.86989153,  0.57444252]])"
      ]
     },
     "execution_count": 28,
     "metadata": {},
     "output_type": "execute_result"
    }
   ],
   "source": [
    "entradas_reconstruidas[:,0] = 1.0\n",
    "entradas_reconstruidas"
   ]
  },
  {
   "cell_type": "code",
   "execution_count": 29,
   "metadata": {
    "collapsed": false
   },
   "outputs": [
    {
     "data": {
      "text/plain": [
       "array([[ 0.        ,  1.75333611,  2.12984061],\n",
       "       [ 0.        ,  2.04567939,  2.47115929],\n",
       "       [ 0.        ,  2.04567939,  2.47115929],\n",
       "       [ 0.        ,  2.04567939,  2.47115929],\n",
       "       [ 0.        ,  2.04567939,  2.47115929],\n",
       "       [ 0.        ,  2.04567939,  2.47115929]])"
      ]
     },
     "execution_count": 29,
     "metadata": {},
     "output_type": "execute_result"
    }
   ],
   "source": [
    "energia_ativacao_estimada_Uv = np.dot(entradas_reconstruidas, pesos)\n",
    "energia_ativacao_estimada_Uv"
   ]
  },
  {
   "cell_type": "code",
   "execution_count": 23,
   "metadata": {
    "collapsed": false
   },
   "outputs": [
    {
     "data": {
      "text/plain": [
       "array([[ 0.5       ,  0.85237309,  0.89376988],\n",
       "       [ 0.5       ,  0.88551032,  0.92209508],\n",
       "       [ 0.5       ,  0.88551032,  0.92209508],\n",
       "       [ 0.5       ,  0.88551032,  0.92209508],\n",
       "       [ 0.5       ,  0.88551032,  0.92209508],\n",
       "       [ 0.5       ,  0.88551032,  0.92209508]])"
      ]
     },
     "execution_count": 23,
     "metadata": {},
     "output_type": "execute_result"
    }
   ],
   "source": [
    "ativacao_estimada_gUv = sigmoid(energia_ativacao_estimada_Uv)\n",
    "ativacao_estimada_gUv"
   ]
  },
  {
   "cell_type": "code",
   "execution_count": 24,
   "metadata": {
    "collapsed": false
   },
   "outputs": [
    {
     "data": {
      "text/plain": [
       "array([[ 3.        ,  4.62488254,  4.91368026],\n",
       "       [ 1.        ,  1.46120961,  1.57070867],\n",
       "       [ 2.5       ,  3.87462243,  4.11149637],\n",
       "       [ 2.5       ,  3.87462243,  4.11149637],\n",
       "       [ 1.5       ,  2.45272343,  2.57444681],\n",
       "       [ 0.5       ,  0.75026011,  0.80218389],\n",
       "       [ 1.        ,  1.46120961,  1.57070867]])"
      ]
     },
     "execution_count": 24,
     "metadata": {},
     "output_type": "execute_result"
    }
   ],
   "source": [
    "#entrada e ativação da ida\n",
    "associacao_positiva = np.dot(entradas.T, ativacao_gUv)\n",
    "associacao_positiva"
   ]
  },
  {
   "cell_type": "code",
   "execution_count": 30,
   "metadata": {
    "collapsed": false
   },
   "outputs": [
    {
     "data": {
      "text/plain": [
       "array([[ 3.        ,  5.27992467,  5.50424529],\n",
       "       [ 1.71102329,  3.01203758,  3.13987817],\n",
       "       [ 1.96981326,  3.46874108,  3.61575229],\n",
       "       [ 2.19847842,  3.87215538,  4.03612393],\n",
       "       [ 2.38892343,  4.20796885,  4.38608543],\n",
       "       [ 2.5402581 ,  4.47462426,  4.66401163],\n",
       "       [ 1.71102329,  3.01203758,  3.13987817]])"
      ]
     },
     "execution_count": 30,
     "metadata": {},
     "output_type": "execute_result"
    }
   ],
   "source": [
    "#entrada e ativação da volta\n",
    "associacao_negativa = np.dot(entradas_reconstruidas.T, ativacao_estimada_gUv)\n",
    "associacao_negativa"
   ]
  },
  {
   "cell_type": "code",
   "execution_count": 35,
   "metadata": {
    "collapsed": false
   },
   "outputs": [
    {
     "data": {
      "text/plain": [
       "11.040968380071609"
      ]
     },
     "execution_count": 35,
     "metadata": {},
     "output_type": "execute_result"
    }
   ],
   "source": [
    "erro_epoca = np.sum(np.square(entradas - entradas_reconstruidas))\n",
    "erro_epoca"
   ]
  },
  {
   "cell_type": "code",
   "execution_count": 37,
   "metadata": {
    "collapsed": false
   },
   "outputs": [
    {
     "data": {
      "text/plain": [
       "array([[ 0.        , -0.01091737, -0.00984275],\n",
       "       [-0.01185039,  0.07415287,  0.17384718],\n",
       "       [ 0.00883645,  0.30676469,  0.4082624 ],\n",
       "       [ 0.00502536,  0.50004112,  0.60125621],\n",
       "       [-0.01481539,  0.67074591,  0.76980602],\n",
       "       [-0.0340043 ,  0.83792726,  0.9356362 ],\n",
       "       [-0.01185039,  0.07415287,  0.17384718]])"
      ]
     },
     "execution_count": 37,
     "metadata": {},
     "output_type": "execute_result"
    }
   ],
   "source": [
    "pesos_proxima_epoca = pesos + taxa_de_aprendizagem * ((associacao_positiva - associacao_negativa) / entradas.shape[0])\n",
    "pesos_proxima_epoca"
   ]
  },
  {
   "cell_type": "code",
   "execution_count": 39,
   "metadata": {
    "collapsed": true
   },
   "outputs": [],
   "source": [
    "if pesos is None:\n",
    "    print(pesos)"
   ]
  },
  {
   "cell_type": "code",
   "execution_count": 40,
   "metadata": {
    "collapsed": false
   },
   "outputs": [
    {
     "name": "stdout",
     "output_type": "stream",
     "text": [
      "[[ 0.   0.   0. ]\n",
      " [ 0.   0.1  0.2]\n",
      " [ 0.   0.3  0.4]\n",
      " [ 0.   0.5  0.6]\n",
      " [ 0.   0.7  0.8]\n",
      " [ 0.   0.9  1. ]\n",
      " [ 0.   0.1  0.2]]\n"
     ]
    }
   ],
   "source": [
    "if pesos is not None:\n",
    "    print(pesos)"
   ]
  },
  {
   "cell_type": "code",
   "execution_count": null,
   "metadata": {
    "collapsed": true
   },
   "outputs": [],
   "source": []
  }
 ],
 "metadata": {
  "kernelspec": {
   "display_name": "Python 3",
   "language": "python",
   "name": "python3"
  },
  "language_info": {
   "codemirror_mode": {
    "name": "ipython",
    "version": 3
   },
   "file_extension": ".py",
   "mimetype": "text/x-python",
   "name": "python",
   "nbconvert_exporter": "python",
   "pygments_lexer": "ipython3",
   "version": "3.6.0"
  }
 },
 "nbformat": 4,
 "nbformat_minor": 0
}
