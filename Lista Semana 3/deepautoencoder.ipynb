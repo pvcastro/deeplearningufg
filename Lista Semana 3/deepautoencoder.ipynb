{
 "cells": [
  {
   "cell_type": "code",
   "execution_count": 1,
   "metadata": {},
   "outputs": [
    {
     "name": "stderr",
     "output_type": "stream",
     "text": [
      "Using TensorFlow backend.\n"
     ]
    }
   ],
   "source": [
    "from keras.layers import Input, Dense\n",
    "from keras.models import Model\n",
    "\n",
    "# this is the size of our encoded representations\n",
    "encoding_dim = 32  # 32 floats -> compression of factor 24.5, assuming the input is 784 floats\n",
    "\n",
    "# this is our input placeholder\n",
    "input_img = Input(shape=(784,))\n",
    "# \"encoded\" is the encoded representation of the input\n",
    "encoded = Dense(encoding_dim, activation='relu')(input_img)\n",
    "# \"decoded\" is the lossy reconstruction of the input\n",
    "decoded = Dense(784, activation='sigmoid')(encoded)\n",
    "\n",
    "# this model maps an input to its reconstruction\n",
    "autoencoder = Model(input_img, decoded)"
   ]
  },
  {
   "cell_type": "code",
   "execution_count": 2,
   "metadata": {
    "collapsed": true
   },
   "outputs": [],
   "source": [
    "# this model maps an input to its encoded representation\n",
    "encoder = Model(input_img, encoded)"
   ]
  },
  {
   "cell_type": "code",
   "execution_count": 3,
   "metadata": {
    "collapsed": true
   },
   "outputs": [],
   "source": [
    "# create a placeholder for an encoded (32-dimensional) input\n",
    "encoded_input = Input(shape=(encoding_dim,))\n",
    "# retrieve the last layer of the autoencoder model\n",
    "decoder_layer = autoencoder.layers[-1]\n",
    "# create the decoder model\n",
    "decoder = Model(encoded_input, decoder_layer(encoded_input))"
   ]
  },
  {
   "cell_type": "code",
   "execution_count": 4,
   "metadata": {
    "collapsed": true
   },
   "outputs": [],
   "source": [
    "autoencoder.compile(optimizer='adadelta', loss='binary_crossentropy')"
   ]
  },
  {
   "cell_type": "code",
   "execution_count": 5,
   "metadata": {
    "collapsed": true
   },
   "outputs": [],
   "source": [
    "from keras.datasets import mnist\n",
    "import numpy as np\n",
    "(x_train, y_train), (x_test, y_test) = mnist.load_data()"
   ]
  },
  {
   "cell_type": "code",
   "execution_count": 6,
   "metadata": {},
   "outputs": [
    {
     "name": "stdout",
     "output_type": "stream",
     "text": [
      "(60000, 784)\n",
      "(10000, 784)\n"
     ]
    }
   ],
   "source": [
    "x_train = x_train.astype('float32') / 255.\n",
    "x_test = x_test.astype('float32') / 255.\n",
    "x_train = x_train.reshape((len(x_train), np.prod(x_train.shape[1:])))\n",
    "x_test = x_test.reshape((len(x_test), np.prod(x_test.shape[1:])))\n",
    "print(x_train.shape)\n",
    "print(x_test.shape)"
   ]
  },
  {
   "cell_type": "code",
   "execution_count": 7,
   "metadata": {},
   "outputs": [
    {
     "name": "stdout",
     "output_type": "stream",
     "text": [
      "Train on 60000 samples, validate on 10000 samples\n",
      "Epoch 1/50\n",
      "60000/60000 [==============================] - 2s - loss: 0.3670 - val_loss: 0.2732\n",
      "Epoch 2/50\n",
      "60000/60000 [==============================] - 2s - loss: 0.2668 - val_loss: 0.2572\n",
      "Epoch 3/50\n",
      "60000/60000 [==============================] - 1s - loss: 0.2471 - val_loss: 0.2345\n",
      "Epoch 4/50\n",
      "60000/60000 [==============================] - 1s - loss: 0.2257 - val_loss: 0.2150\n",
      "Epoch 5/50\n",
      "60000/60000 [==============================] - 1s - loss: 0.2094 - val_loss: 0.2014\n",
      "Epoch 6/50\n",
      "60000/60000 [==============================] - 2s - loss: 0.1979 - val_loss: 0.1917\n",
      "Epoch 7/50\n",
      "60000/60000 [==============================] - 2s - loss: 0.1892 - val_loss: 0.1841\n",
      "Epoch 8/50\n",
      "60000/60000 [==============================] - 1s - loss: 0.1823 - val_loss: 0.1777\n",
      "Epoch 9/50\n",
      "60000/60000 [==============================] - 2s - loss: 0.1764 - val_loss: 0.1724\n",
      "Epoch 10/50\n",
      "60000/60000 [==============================] - 1s - loss: 0.1714 - val_loss: 0.1679\n",
      "Epoch 11/50\n",
      "60000/60000 [==============================] - 2s - loss: 0.1669 - val_loss: 0.1634\n",
      "Epoch 12/50\n",
      "60000/60000 [==============================] - 1s - loss: 0.1627 - val_loss: 0.1593\n",
      "Epoch 13/50\n",
      "60000/60000 [==============================] - 1s - loss: 0.1588 - val_loss: 0.1555\n",
      "Epoch 14/50\n",
      "60000/60000 [==============================] - 2s - loss: 0.1551 - val_loss: 0.1519\n",
      "Epoch 15/50\n",
      "60000/60000 [==============================] - 2s - loss: 0.1516 - val_loss: 0.1486\n",
      "Epoch 16/50\n",
      "60000/60000 [==============================] - 2s - loss: 0.1483 - val_loss: 0.1453\n",
      "Epoch 17/50\n",
      "60000/60000 [==============================] - 2s - loss: 0.1453 - val_loss: 0.1423\n",
      "Epoch 18/50\n",
      "60000/60000 [==============================] - 2s - loss: 0.1425 - val_loss: 0.1396\n",
      "Epoch 19/50\n",
      "60000/60000 [==============================] - 2s - loss: 0.1400 - val_loss: 0.1372\n",
      "Epoch 20/50\n",
      "60000/60000 [==============================] - 2s - loss: 0.1376 - val_loss: 0.1349\n",
      "Epoch 21/50\n",
      "60000/60000 [==============================] - 2s - loss: 0.1354 - val_loss: 0.1327\n",
      "Epoch 22/50\n",
      "60000/60000 [==============================] - 2s - loss: 0.1333 - val_loss: 0.1307\n",
      "Epoch 23/50\n",
      "60000/60000 [==============================] - 2s - loss: 0.1313 - val_loss: 0.1288\n",
      "Epoch 24/50\n",
      "60000/60000 [==============================] - 1s - loss: 0.1294 - val_loss: 0.1270\n",
      "Epoch 25/50\n",
      "60000/60000 [==============================] - 2s - loss: 0.1277 - val_loss: 0.1252\n",
      "Epoch 26/50\n",
      "60000/60000 [==============================] - 2s - loss: 0.1260 - val_loss: 0.1235\n",
      "Epoch 27/50\n",
      "60000/60000 [==============================] - 1s - loss: 0.1244 - val_loss: 0.1219\n",
      "Epoch 28/50\n",
      "60000/60000 [==============================] - 1s - loss: 0.1228 - val_loss: 0.1204\n",
      "Epoch 29/50\n",
      "60000/60000 [==============================] - 2s - loss: 0.1214 - val_loss: 0.1189\n",
      "Epoch 30/50\n",
      "60000/60000 [==============================] - 1s - loss: 0.1200 - val_loss: 0.1176\n",
      "Epoch 31/50\n",
      "60000/60000 [==============================] - 1s - loss: 0.1186 - val_loss: 0.1162\n",
      "Epoch 32/50\n",
      "60000/60000 [==============================] - 1s - loss: 0.1174 - val_loss: 0.1150\n",
      "Epoch 33/50\n",
      "60000/60000 [==============================] - 1s - loss: 0.1162 - val_loss: 0.1139\n",
      "Epoch 34/50\n",
      "60000/60000 [==============================] - 1s - loss: 0.1151 - val_loss: 0.1128\n",
      "Epoch 35/50\n",
      "60000/60000 [==============================] - 1s - loss: 0.1140 - val_loss: 0.1117\n",
      "Epoch 36/50\n",
      "60000/60000 [==============================] - 1s - loss: 0.1130 - val_loss: 0.1108\n",
      "Epoch 37/50\n",
      "60000/60000 [==============================] - 1s - loss: 0.1121 - val_loss: 0.1099\n",
      "Epoch 38/50\n",
      "60000/60000 [==============================] - 1s - loss: 0.1112 - val_loss: 0.1090\n",
      "Epoch 39/50\n",
      "60000/60000 [==============================] - 1s - loss: 0.1104 - val_loss: 0.1083\n",
      "Epoch 40/50\n",
      "60000/60000 [==============================] - 2s - loss: 0.1097 - val_loss: 0.1075\n",
      "Epoch 41/50\n",
      "60000/60000 [==============================] - 2s - loss: 0.1089 - val_loss: 0.1069\n",
      "Epoch 42/50\n",
      "60000/60000 [==============================] - 2s - loss: 0.1083 - val_loss: 0.1062\n",
      "Epoch 43/50\n",
      "60000/60000 [==============================] - 1s - loss: 0.1077 - val_loss: 0.1056\n",
      "Epoch 44/50\n",
      "60000/60000 [==============================] - 1s - loss: 0.1071 - val_loss: 0.1051\n",
      "Epoch 45/50\n",
      "60000/60000 [==============================] - 1s - loss: 0.1065 - val_loss: 0.1045\n",
      "Epoch 46/50\n",
      "60000/60000 [==============================] - 1s - loss: 0.1060 - val_loss: 0.1040\n",
      "Epoch 47/50\n",
      "60000/60000 [==============================] - 1s - loss: 0.1055 - val_loss: 0.1036\n",
      "Epoch 48/50\n",
      "60000/60000 [==============================] - 1s - loss: 0.1051 - val_loss: 0.1031\n",
      "Epoch 49/50\n",
      "60000/60000 [==============================] - 1s - loss: 0.1047 - val_loss: 0.1027\n",
      "Epoch 50/50\n",
      "60000/60000 [==============================] - 1s - loss: 0.1043 - val_loss: 0.1023\n"
     ]
    },
    {
     "data": {
      "text/plain": [
       "<keras.callbacks.History at 0x20f87cd3898>"
      ]
     },
     "execution_count": 7,
     "metadata": {},
     "output_type": "execute_result"
    }
   ],
   "source": [
    "autoencoder.fit(x_train, x_train,\n",
    "                epochs=50,\n",
    "                batch_size=256,\n",
    "                shuffle=True,\n",
    "                validation_data=(x_test, x_test))"
   ]
  },
  {
   "cell_type": "code",
   "execution_count": 8,
   "metadata": {
    "collapsed": true
   },
   "outputs": [],
   "source": [
    "# encode and decode some digits\n",
    "# note that we take them from the *test* set\n",
    "encoded_imgs = encoder.predict(x_test)\n",
    "decoded_imgs = decoder.predict(encoded_imgs)"
   ]
  },
  {
   "cell_type": "code",
   "execution_count": 9,
   "metadata": {
    "scrolled": true
   },
   "outputs": [
    {
     "data": {
      "image/png": "[encoded data removed]",
      "text/plain": [
       "<matplotlib.figure.Figure at 0x20f87e0d7b8>"
      ]
     },
     "metadata": {},
     "output_type": "display_data"
    }
   ],
   "source": [
    "# use Matplotlib (don't ask)\n",
    "import matplotlib.pyplot as plt\n",
    "\n",
    "n = 10  # how many digits we will display\n",
    "plt.figure(figsize=(20, 4))\n",
    "for i in range(n):\n",
    "    # display original\n",
    "    ax = plt.subplot(2, n, i + 1)\n",
    "    plt.imshow(x_test[i].reshape(28, 28))\n",
    "    plt.gray()\n",
    "    ax.get_xaxis().set_visible(False)\n",
    "    ax.get_yaxis().set_visible(False)\n",
    "\n",
    "    # display reconstruction\n",
    "    ax = plt.subplot(2, n, i + 1 + n)\n",
    "    plt.imshow(decoded_imgs[i].reshape(28, 28))\n",
    "    plt.gray()\n",
    "    ax.get_xaxis().set_visible(False)\n",
    "    ax.get_yaxis().set_visible(False)\n",
    "plt.show()"
   ]
  },
  {
   "cell_type": "code",
   "execution_count": 12,
   "metadata": {},
   "outputs": [
    {
     "name": "stdout",
     "output_type": "stream",
     "text": [
      "[7 2 1 ..., 4 5 6]\n"
     ]
    },
    {
     "data": {
      "text/plain": [
       "{'input_layers': [['input_1', 0, 0]],\n",
       " 'layers': [{'class_name': 'InputLayer',\n",
       "   'config': {'batch_input_shape': (None, 784),\n",
       "    'dtype': 'float32',\n",
       "    'name': 'input_1',\n",
       "    'sparse': False},\n",
       "   'inbound_nodes': [],\n",
       "   'name': 'input_1'},\n",
       "  {'class_name': 'Dense',\n",
       "   'config': {'activation': 'relu',\n",
       "    'activity_regularizer': None,\n",
       "    'bias_constraint': None,\n",
       "    'bias_initializer': {'class_name': 'Zeros', 'config': {}},\n",
       "    'bias_regularizer': None,\n",
       "    'kernel_constraint': None,\n",
       "    'kernel_initializer': {'class_name': 'VarianceScaling',\n",
       "     'config': {'distribution': 'uniform',\n",
       "      'mode': 'fan_avg',\n",
       "      'scale': 1.0,\n",
       "      'seed': None}},\n",
       "    'kernel_regularizer': None,\n",
       "    'name': 'dense_1',\n",
       "    'trainable': True,\n",
       "    'units': 32,\n",
       "    'use_bias': True},\n",
       "   'inbound_nodes': [[['input_1', 0, 0, {}]]],\n",
       "   'name': 'dense_1'},\n",
       "  {'class_name': 'Dense',\n",
       "   'config': {'activation': 'sigmoid',\n",
       "    'activity_regularizer': None,\n",
       "    'bias_constraint': None,\n",
       "    'bias_initializer': {'class_name': 'Zeros', 'config': {}},\n",
       "    'bias_regularizer': None,\n",
       "    'kernel_constraint': None,\n",
       "    'kernel_initializer': {'class_name': 'VarianceScaling',\n",
       "     'config': {'distribution': 'uniform',\n",
       "      'mode': 'fan_avg',\n",
       "      'scale': 1.0,\n",
       "      'seed': None}},\n",
       "    'kernel_regularizer': None,\n",
       "    'name': 'dense_2',\n",
       "    'trainable': True,\n",
       "    'units': 784,\n",
       "    'use_bias': True},\n",
       "   'inbound_nodes': [[['dense_1', 0, 0, {}]]],\n",
       "   'name': 'dense_2'}],\n",
       " 'name': 'model_1',\n",
       " 'output_layers': [['dense_2', 0, 0]]}"
      ]
     },
     "execution_count": 12,
     "metadata": {},
     "output_type": "execute_result"
    }
   ],
   "source": [
    "print(y_test)\n",
    "autoencoder.get_config()"
   ]
  },
  {
   "cell_type": "code",
   "execution_count": 10,
   "metadata": {},
   "outputs": [
    {
     "ename": "ValueError",
     "evalue": "Error when checking model target: expected dense_2 to have shape (None, 784) but got array with shape (10000, 1)",
     "output_type": "error",
     "traceback": [
      "\u001b[1;31m---------------------------------------------------------------------------\u001b[0m",
      "\u001b[1;31mValueError\u001b[0m                                Traceback (most recent call last)",
      "\u001b[1;32m<ipython-input-10-a460b5a08dc8>\u001b[0m in \u001b[0;36m<module>\u001b[1;34m()\u001b[0m\n\u001b[1;32m----> 1\u001b[1;33m \u001b[0mscore\u001b[0m \u001b[1;33m=\u001b[0m \u001b[0mautoencoder\u001b[0m\u001b[1;33m.\u001b[0m\u001b[0mevaluate\u001b[0m\u001b[1;33m(\u001b[0m\u001b[0mx_test\u001b[0m\u001b[1;33m,\u001b[0m \u001b[0my_test\u001b[0m\u001b[1;33m,\u001b[0m \u001b[0mverbose\u001b[0m\u001b[1;33m=\u001b[0m\u001b[1;36m0\u001b[0m\u001b[1;33m)\u001b[0m\u001b[1;33m\u001b[0m\u001b[0m\n\u001b[0m",
      "\u001b[1;32mc:\\Users\\Pedro\\Anaconda3\\lib\\site-packages\\keras\\engine\\training.py\u001b[0m in \u001b[0;36mevaluate\u001b[1;34m(self, x, y, batch_size, verbose, sample_weight)\u001b[0m\n\u001b[0;32m   1518\u001b[0m             \u001b[0msample_weight\u001b[0m\u001b[1;33m=\u001b[0m\u001b[0msample_weight\u001b[0m\u001b[1;33m,\u001b[0m\u001b[1;33m\u001b[0m\u001b[0m\n\u001b[0;32m   1519\u001b[0m             \u001b[0mcheck_batch_axis\u001b[0m\u001b[1;33m=\u001b[0m\u001b[1;32mFalse\u001b[0m\u001b[1;33m,\u001b[0m\u001b[1;33m\u001b[0m\u001b[0m\n\u001b[1;32m-> 1520\u001b[1;33m             batch_size=batch_size)\n\u001b[0m\u001b[0;32m   1521\u001b[0m         \u001b[1;31m# prepare inputs, delegate logic to _test_loop\u001b[0m\u001b[1;33m\u001b[0m\u001b[1;33m\u001b[0m\u001b[0m\n\u001b[0;32m   1522\u001b[0m         \u001b[1;32mif\u001b[0m \u001b[0mself\u001b[0m\u001b[1;33m.\u001b[0m\u001b[0muses_learning_phase\u001b[0m \u001b[1;32mand\u001b[0m \u001b[1;32mnot\u001b[0m \u001b[0misinstance\u001b[0m\u001b[1;33m(\u001b[0m\u001b[0mK\u001b[0m\u001b[1;33m.\u001b[0m\u001b[0mlearning_phase\u001b[0m\u001b[1;33m(\u001b[0m\u001b[1;33m)\u001b[0m\u001b[1;33m,\u001b[0m \u001b[0mint\u001b[0m\u001b[1;33m)\u001b[0m\u001b[1;33m:\u001b[0m\u001b[1;33m\u001b[0m\u001b[0m\n",
      "\u001b[1;32mc:\\Users\\Pedro\\Anaconda3\\lib\\site-packages\\keras\\engine\\training.py\u001b[0m in \u001b[0;36m_standardize_user_data\u001b[1;34m(self, x, y, sample_weight, class_weight, check_batch_axis, batch_size)\u001b[0m\n\u001b[0;32m   1298\u001b[0m                                     \u001b[0moutput_shapes\u001b[0m\u001b[1;33m,\u001b[0m\u001b[1;33m\u001b[0m\u001b[0m\n\u001b[0;32m   1299\u001b[0m                                     \u001b[0mcheck_batch_axis\u001b[0m\u001b[1;33m=\u001b[0m\u001b[1;32mFalse\u001b[0m\u001b[1;33m,\u001b[0m\u001b[1;33m\u001b[0m\u001b[0m\n\u001b[1;32m-> 1300\u001b[1;33m                                     exception_prefix='model target')\n\u001b[0m\u001b[0;32m   1301\u001b[0m         sample_weights = _standardize_sample_weights(sample_weight,\n\u001b[0;32m   1302\u001b[0m                                                      self._feed_output_names)\n",
      "\u001b[1;32mc:\\Users\\Pedro\\Anaconda3\\lib\\site-packages\\keras\\engine\\training.py\u001b[0m in \u001b[0;36m_standardize_input_data\u001b[1;34m(data, names, shapes, check_batch_axis, exception_prefix)\u001b[0m\n\u001b[0;32m    131\u001b[0m                             \u001b[1;34m' to have shape '\u001b[0m \u001b[1;33m+\u001b[0m \u001b[0mstr\u001b[0m\u001b[1;33m(\u001b[0m\u001b[0mshapes\u001b[0m\u001b[1;33m[\u001b[0m\u001b[0mi\u001b[0m\u001b[1;33m]\u001b[0m\u001b[1;33m)\u001b[0m \u001b[1;33m+\u001b[0m\u001b[1;33m\u001b[0m\u001b[0m\n\u001b[0;32m    132\u001b[0m                             \u001b[1;34m' but got array with shape '\u001b[0m \u001b[1;33m+\u001b[0m\u001b[1;33m\u001b[0m\u001b[0m\n\u001b[1;32m--> 133\u001b[1;33m                             str(array.shape))\n\u001b[0m\u001b[0;32m    134\u001b[0m     \u001b[1;32mreturn\u001b[0m \u001b[0marrays\u001b[0m\u001b[1;33m\u001b[0m\u001b[0m\n\u001b[0;32m    135\u001b[0m \u001b[1;33m\u001b[0m\u001b[0m\n",
      "\u001b[1;31mValueError\u001b[0m: Error when checking model target: expected dense_2 to have shape (None, 784) but got array with shape (10000, 1)"
     ]
    }
   ],
   "source": [
    "score = autoencoder.evaluate(x_test, y_test, verbose=0)"
   ]
  },
  {
   "cell_type": "code",
   "execution_count": null,
   "metadata": {
    "collapsed": true
   },
   "outputs": [],
   "source": []
  }
 ],
 "metadata": {
  "kernelspec": {
   "display_name": "Python 3",
   "language": "python",
   "name": "python3"
  },
  "language_info": {
   "codemirror_mode": {
    "name": "ipython",
    "version": 3
   },
   "file_extension": ".py",
   "mimetype": "text/x-python",
   "name": "python",
   "nbconvert_exporter": "python",
   "pygments_lexer": "ipython3",
   "version": "3.5.2"
  }
 },
 "nbformat": 4,
 "nbformat_minor": 2
}
