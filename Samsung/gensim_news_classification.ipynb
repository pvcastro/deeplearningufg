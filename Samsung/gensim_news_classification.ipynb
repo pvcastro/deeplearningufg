{
 "cells": [
  {
   "cell_type": "markdown",
   "metadata": {
    "nbpresent": {
     "id": "e0085648-0300-4087-9b12-ee7d2392ce4f"
    }
   },
   "source": [
    "# News classification with topic models in gensim\n",
    "News article classification is a task which is performed on a huge scale by news agencies all over the world. We will be looking into how topic modeling can be used to accurately classify news articles into different categories such as sports, technology, politics etc.\n",
    "\n",
    "Our aim in this tutorial is to come up with some topic model which can come up with topics that can easily be interpreted by us. Such a topic model can be used to discover hidden structure in the corpus and can also be used to determine the membership of a news article into one of the topics.\n",
    "\n",
    "For this tutorial, we will be using the Lee corpus which is a shortened version of the [Lee Background Corpus](http://www.socsci.uci.edu/~mdlee/lee_pincombe_welsh_document.PDF). The shortened version consists of 300 documents selected from the Australian Broadcasting Corporation's news mail service. It consists of texts of headline stories from around the year 2000-2001.\n",
    "\n",
    "Accompanying slides can be found [here](https://speakerdeck.com/dsquareindia/pycon-delhi-lightening).\n",
    "\n",
    "### Requirements\n",
    "In this tutorial we look at how different topic models can be easily created using [gensim](https://radimrehurek.com/gensim/).\n",
    "Following are the dependencies for this tutorial:\n",
    "    - Gensim Version >=0.13.1 would be preferred since we will be using topic coherence metrics extensively here.\n",
    "    - matplotlib\n",
    "    - nltk.stopwords and nltk.wordnet\n",
    "    - pyLDAVis"
   ]
  },
  {
   "cell_type": "code",
   "execution_count": 1,
   "metadata": {
    "collapsed": true,
    "nbpresent": {
     "id": "25997dab-04e3-4abc-b22f-b36944b208c2"
    }
   },
   "outputs": [],
   "source": [
    "import os\n",
    "import re\n",
    "import operator\n",
    "import matplotlib.pyplot as plt\n",
    "import warnings\n",
    "import gensim\n",
    "import numpy as np\n",
    "warnings.filterwarnings('ignore')  # Let's not pay heed to them right now\n",
    "\n",
    "import logging\n",
    "logging.basicConfig(format='%(asctime)s : %(levelname)s : %(message)s', level=logging.DEBUG)\n",
    "\n",
    "import nltk\n",
    "\n",
    "from gensim.models import CoherenceModel, LdaModel\n",
    "from gensim.corpora import Dictionary\n",
    "from pprint import pprint\n",
    "\n",
    "%matplotlib inline\n",
    "\n",
    "import load_lee_background_corpus as load_texts"
   ]
  },
  {
   "cell_type": "markdown",
   "metadata": {
    "nbpresent": {
     "id": "bcbc3313-3a57-4923-b330-69691eaf7535"
    }
   },
   "source": [
    "Analysing our corpus.\n",
    "    - The first document talks about a bushfire that had occured in New South Wales.\n",
    "    - The second talks about conflict between India and Pakistan in Kashmir.\n",
    "    - The third talks about road accidents in the New South Wales area.\n",
    "    - The fourth one talks about Argentina's economic and political crisis during that time.\n",
    "    - The last one talks about the use of drugs by midwives in a Sydney hospital.\n",
    "Our final topic model should be giving us keywords which we can easily interpret and make a small summary out of. Without this the topic model cannot be of much practical use."
   ]
  },
  {
   "cell_type": "code",
   "execution_count": 2,
   "metadata": {
    "nbpresent": {
     "id": "d447e236-b1b9-4cf7-bc39-8bfb499d4730"
    }
   },
   "outputs": [
    {
     "name": "stdout",
     "output_type": "stream",
     "text": [
      "/Users/home/Desenvolvimento/anaconda3/lib/python3.6/site-packages/gensim/test/test_data\n",
      "['Hundreds of people have been forced to vacate their homes in the Southern Highlands of New South Wales as strong winds today pushed a huge bushfire towards the town of Hill Top. A new blaze near Goulburn, south-west of Sydney, has forced the closure of the Hume Highway. At about 4:00pm AEDT, a marked deterioration in the weather as a storm cell moved east across the Blue Mountains forced authorities to make a decision to evacuate people from homes in outlying streets at Hill Top in the New South Wales southern highlands. An estimated 500 residents have left their homes for nearby Mittagong. The New South Wales Rural Fire Service says the weather conditions which caused the fire to burn in a finger formation have now eased and about 60 fire units in and around Hill Top are optimistic of defending all properties. As more than 100 blazes burn on New Year\\'s Eve in New South Wales, fire crews have been called to new fire at Gunning, south of Goulburn. While few details are available at this stage, fire authorities says it has closed the Hume Highway in both directions. Meanwhile, a new fire in Sydney\\'s west is no longer threatening properties in the Cranebrook area. Rain has fallen in some parts of the Illawarra, Sydney, the Hunter Valley and the north coast. But the Bureau of Meteorology\\'s Claire Richards says the rain has done little to ease any of the hundred fires still burning across the state. \"The falls have been quite isolated in those areas and generally the falls have been less than about five millimetres,\" she said. \"In some places really not significant at all, less than a millimetre, so there hasn\\'t been much relief as far as rain is concerned. \"In fact, they\\'ve probably hampered the efforts of the firefighters more because of the wind gusts that are associated with those thunderstorms.\" \\n']\n",
      "[\"Indian security forces have shot dead eight suspected militants in a night-long encounter in southern Kashmir. The shootout took place at Dora village some 50 kilometers south of the Kashmiri summer capital Srinagar. The deaths came as Pakistani police arrested more than two dozen militants from extremist groups accused of staging an attack on India's parliament. India has accused Pakistan-based Lashkar-e-Taiba and Jaish-e-Mohammad of carrying out the attack on December 13 at the behest of Pakistani military intelligence. Military tensions have soared since the raid, with both sides massing troops along their border and trading tit-for-tat diplomatic sanctions. Yesterday, Pakistan announced it had arrested Lashkar-e-Taiba chief Hafiz Mohammed Saeed. Police in Karachi say it is likely more raids will be launched against the two groups as well as other militant organisations accused of targetting India. Military tensions between India and Pakistan have escalated to a level not seen since their 1971 war. \\n\"]\n",
      "['The national road toll for the Christmas-New Year holiday period stands at 45, eight fewer than for the same time last year. 20 people have died on New South Wales roads, with eight fatalities in both Queensland and Victoria. Western Australia, the Northern Territory and South Australia have each recorded three deaths, while the ACT and Tasmania remain fatality free. \\n']\n",
      "[\"Argentina's political and economic crisis has deepened with the resignation of its interim President who took office just a week ago. Aldolfo Rodregiuez Saa told a stunned nation that he could not rescue Argentina because key fellow Peronists would not support his default on massive foreign debt repayment or his plan for a new currency. It was only a week ago that he was promising a million new jobs to end four years of recession, days after his predecessor resigned following a series of failed rescue packages. After announcing that the senate leader, Ramon Puerta, would assume the presidency until congress appoints a new caretaker president, the government said he too had quit and another senior lawmaker would act in the role. Fresh elections are not scheduled until March leaving whoever assumes the presidency with the daunting task of tackling Argentina's worst crisis in 12 years, but this time, isolated by international lending agencies. \\n\"]\n",
      "['Six midwives have been suspended at Wollongong Hospital, south of Sydney, for inappropriate use of nitrous oxide during work hours, on some occasions while women were in labour. The Illawarra Area Health Service says that following an investigation of unprofessional conduct, a further four midwives have been relocated to other areas within the hospital. The service\\'s chief executive officer, Tony Sherbon, says no one was put at risk, because other staff not involved in the use of nitrous oxide were able to take over caring for women in labour. \"Well we\\'re very concerned and the body of midwives to the hospital - there are over 70 midwives that work in our service - are very annoyed and angry at the inappropriate behaviour of these very senior people who should know better,\" he said. \"And that\\'s why we\\'ve take the action of suspending them and we\\'ll consider further action next week.\" \\n']\n",
      "['The Federal Government says it should be safe for Afghani asylum seekers in Australia to return home when the environment becomes secure. The Government has suspended their applications while the interim government is established in Kabul. The Foreign Affairs Minister Alexander Downer has refused to say for how long the claims process has been put on hold. But he says the major threat to most people seeking asylum is no longer there. \"Many Afghans who have tried to get into Australia or for that matter into Britain and other countries in north-west Europe have claimed that they are fleeing the Taliban,\" he said. \"Well, the Taliban is no longer in power in Afghanistan, the Taliban is finished.\" Meanwhile, there has been a mass airlift of detainees from Christmas Island to the Pacific Island of Nauru. In total, more than 300 people have been flown from the island in two operations using chartered aircraft. The second airlift today delivered 180 asylum seekers to Nauru where they will await processing of their claims for temporary visas. The Department of Immigration says there are now 211 detainees remaining on Christmas Island. A spokesman says a decision regarding their future is yet to be made. \\n']\n"
     ]
    }
   ],
   "source": [
    "lee_train_file = load_texts.get_lee_train_file()\n",
    "with open(lee_train_file) as f:\n",
    "    for n, l in enumerate(f):\n",
    "        if n < 6:\n",
    "            print([l])"
   ]
  },
  {
   "cell_type": "markdown",
   "metadata": {
    "nbpresent": {
     "id": "a6d40ad7-2abd-44e5-8839-62731fb5eab7"
    }
   },
   "source": [
    "### Preprocessing our data. Remember: Garbage In Garbage Out\n",
    "                                        \"NLP is 80% preprocessing.\"\n",
    "                                                                -Lev Konstantinovskiy\n",
    "This is the single most important step in setting up a good topic modeling system. If the preprocessing is not good, the algorithm can't do much since we would be feeding it a lot of noise. In this tutorial, we will be filtering out the noise using the following steps in this order for each line:\n",
    "1. Stopword removal using NLTK's english stopwords dataset.\n",
    "2. Bigram collocation detection (frequently co-occuring tokens) using gensim's [Phrases](https://radimrehurek.com/gensim/models/phrases.html). This is our first attempt to find some hidden structure in the corpus. You can even try trigram collocation detection.\n",
    "3. Lemmatization (using gensim's [`lemmatize`](https://radimrehurek.com/gensim/utils.html#gensim.utils.lemmatize)) to only keep the nouns. Lemmatization is generally better than stemming in the case of topic modeling since the words after lemmatization still remain understable. However, generally stemming might be preferred if the data is being fed into a vectorizer and isn't intended to be viewed."
   ]
  },
  {
   "cell_type": "code",
   "execution_count": 3,
   "metadata": {},
   "outputs": [
    {
     "name": "stdout",
     "output_type": "stream",
     "text": [
      "/Users/home/Desenvolvimento/anaconda3/lib/python3.6/site-packages/gensim/test/test_data\n",
      "The Federal Government says it should be safe for Afghani asylum seekers in Australia to return home when the environment becomes secure. The Government has suspended their applications while the interim government is established in Kabul. The Foreign Affairs Minister Alexander Downer has refused to say for how long the claims process has been put on hold. But he says the major threat to most people seeking asylum is no longer there. \"Many Afghans who have tried to get into Australia or for that matter into Britain and other countries in north-west Europe have claimed that they are fleeing the Taliban,\" he said. \"Well, the Taliban is no longer in power in Afghanistan, the Taliban is finished.\" Meanwhile, there has been a mass airlift of detainees from Christmas Island to the Pacific Island of Nauru. In total, more than 300 people have been flown from the island in two operations using chartered aircraft. The second airlift today delivered 180 asylum seekers to Nauru where they will await processing of their claims for temporary visas. The Department of Immigration says there are now 211 detainees remaining on Christmas Island. A spokesman says a decision regarding their future is yet to be made. \n",
      "\n"
     ]
    }
   ],
   "source": [
    "texts = load_texts.get_raw_texts()\n",
    "print(texts[5])"
   ]
  },
  {
   "cell_type": "code",
   "execution_count": 4,
   "metadata": {},
   "outputs": [
    {
     "name": "stderr",
     "output_type": "stream",
     "text": [
      "2017-11-22 01:39:32,884 : INFO : collecting all words and their counts\n",
      "2017-11-22 01:39:32,887 : INFO : PROGRESS: at sentence #0, processed 0 words and 0 word types\n",
      "2017-11-22 01:39:32,977 : INFO : collected 39691 word types from a corpus of 48449 words (unigram + bigrams) and 300 sentences\n",
      "2017-11-22 01:39:32,979 : INFO : using 39691 counts as vocab in Phrases<0 vocab, min_count=5, threshold=10.0, max_vocab_size=40000000>\n"
     ]
    },
    {
     "name": "stdout",
     "output_type": "stream",
     "text": [
      "['federal_government', 'say', 'safe', 'afghani', 'asylum_seekers', 'australia', 'return', 'home', 'environment', 'becomes', 'secure', 'government', 'suspended', 'application', 'interim_government', 'established', 'kabul', 'foreign_affairs', 'minister_alexander', 'downer', 'refused', 'say', 'long', 'claim', 'process', 'has_been', 'put', 'hold', 'say', 'major', 'threat', 'people', 'seeking', 'asylum', 'longer', 'many', 'afghan', 'tried', 'get', 'australia', 'matter', 'britain', 'country', 'north', 'west', 'europe', 'claimed', 'they_are', 'fleeing', 'taliban', 'said', 'well', 'taliban', 'longer', 'power', 'afghanistan', 'taliban', 'finished', 'meanwhile', 'has_been', 'mass', 'airlift', 'detainee', 'christmas', 'island', 'pacific', 'island', 'nauru', 'total', 'more_than', 'people', 'have_been', 'flown', 'island', 'two', 'operation', 'using', 'chartered', 'aircraft', 'second', 'airlift', 'today', 'delivered', 'asylum_seekers', 'nauru', 'await', 'processing', 'claim', 'temporary', 'visa', 'department', 'immigration', 'say', 'there_are', 'detainee', 'remaining', 'christmas', 'island', 'spokesman', 'say', 'decision', 'regarding', 'future', 'yet', 'made']\n"
     ]
    }
   ],
   "source": [
    "texts = load_texts.process_file(lee_train_file, keep_all=True)\n",
    "print(texts[5])"
   ]
  },
  {
   "cell_type": "code",
   "execution_count": 5,
   "metadata": {},
   "outputs": [
    {
     "name": "stderr",
     "output_type": "stream",
     "text": [
      "2017-11-22 01:40:24,435 : INFO : collecting all words and their counts\n",
      "2017-11-22 01:40:24,436 : INFO : PROGRESS: at sentence #0, processed 0 words and 0 word types\n",
      "2017-11-22 01:40:24,479 : INFO : collected 20429 word types from a corpus of 19878 words (unigram + bigrams) and 300 sentences\n",
      "2017-11-22 01:40:24,481 : INFO : using 20429 counts as vocab in Phrases<0 vocab, min_count=5, threshold=10.0, max_vocab_size=40000000>\n"
     ]
    },
    {
     "name": "stdout",
     "output_type": "stream",
     "text": [
      "['federal_government', 'afghani', 'asylum_seekers', 'australia', 'home', 'environment', 'secure', 'government', 'application', 'government', 'kabul', 'foreign_affairs', 'minister_alexander', 'downer', 'claim', 'process', 'hold', 'threat', 'people', 'asylum', 'afghan', 'australia', 'matter', 'britain', 'country', 'europe', 'taliban', 'taliban', 'power', 'afghanistan', 'taliban', 'mass', 'airlift', 'detainee', 'christmas', 'island', 'pacific', 'island', 'nauru', 'people', 'island', 'operation', 'aircraft', 'airlift', 'today', 'asylum_seekers', 'nauru', 'processing', 'claim', 'visa', 'department', 'immigration', 'detainee', 'christmas', 'island', 'spokesman', 'decision', 'future']\n"
     ]
    }
   ],
   "source": [
    "train_texts = load_texts.process_file(lee_train_file, keep_all=False)\n",
    "print(train_texts[5])"
   ]
  },
  {
   "cell_type": "markdown",
   "metadata": {
    "nbpresent": {
     "id": "0e5ca1a8-9c78-412a-9ab4-a4d0be5afd34"
    }
   },
   "source": [
    "Finalising our dictionary and corpus"
   ]
  },
  {
   "cell_type": "code",
   "execution_count": 6,
   "metadata": {
    "nbpresent": {
     "id": "161e8770-8bc2-41ae-98f4-08d1c9311e82"
    }
   },
   "outputs": [
    {
     "name": "stderr",
     "output_type": "stream",
     "text": [
      "2017-11-22 01:10:35,725 : INFO : adding document #0 to Dictionary(0 unique tokens: [])\n",
      "2017-11-22 01:10:35,764 : INFO : built Dictionary(4431 unique tokens: ['hundreds', 'people', 'homes', 'southern', 'highlands']...) from 300 documents (total 18861 corpus positions)\n"
     ]
    }
   ],
   "source": [
    "dictionary = Dictionary(train_texts)\n",
    "corpus = [dictionary.doc2bow(text) for text in train_texts]"
   ]
  },
  {
   "cell_type": "markdown",
   "metadata": {
    "nbpresent": {
     "id": "380ef8b7-6de1-4822-ae30-7120e12b5955"
    }
   },
   "source": [
    "### Topic modeling using [LDA](https://www.cs.princeton.edu/~blei/papers/HoffmanBleiBach2010b.pdf)\n",
    "This is one the most popular topic modeling algorithms today. It is a generative model in that it assumes each document is a mixture of topics and in turn, each topic is a mixture of words. To understand it better you can watch [this](https://www.youtube.com/watch?v=DDq3OVp9dNA) lecture by David Blei. Let's choose 10 topics to initialize this."
   ]
  },
  {
   "cell_type": "code",
   "execution_count": 7,
   "metadata": {
    "nbpresent": {
     "id": "a02b72fb-0049-4ec3-825f-179e396f3904"
    }
   },
   "outputs": [
    {
     "name": "stderr",
     "output_type": "stream",
     "text": [
      "2017-11-22 01:10:35,797 : INFO : using symmetric alpha at 0.1\n",
      "2017-11-22 01:10:35,802 : INFO : using symmetric eta at 0.00022568269013766644\n",
      "2017-11-22 01:10:35,807 : INFO : using serial LDA version on this node\n",
      "2017-11-22 01:10:36,287 : INFO : running online (single-pass) LDA training, 10 topics, 1 passes over the supplied corpus of 300 documents, updating model once every 300 documents, evaluating perplexity every 300 documents, iterating 50x with a convergence threshold of 0.001000\n",
      "2017-11-22 01:10:36,289 : WARNING : too few updates, training might not converge; consider increasing the number of passes or iterations to improve accuracy\n",
      "2017-11-22 01:10:36,919 : DEBUG : bound: at document #0\n",
      "2017-11-22 01:10:38,797 : INFO : -11.676 per-word bound, 3272.3 perplexity estimate based on a held-out corpus of 300 documents with 18861 words\n",
      "2017-11-22 01:10:38,799 : INFO : PROGRESS: pass 0, at document #300/300\n",
      "2017-11-22 01:10:38,801 : DEBUG : performing inference on a chunk of 300 documents\n",
      "2017-11-22 01:10:39,735 : DEBUG : 34/300 documents converged within 50 iterations\n",
      "2017-11-22 01:10:39,738 : DEBUG : updating topics\n",
      "2017-11-22 01:10:39,863 : INFO : topic #6 (0.100): 0.009*\"government\" + 0.008*\"afghanistan\" + 0.006*\"man\" + 0.006*\"people\" + 0.005*\"police\" + 0.005*\"laden\" + 0.005*\"forces\" + 0.005*\"argentina\" + 0.005*\"firefighters\" + 0.004*\"area\"\n",
      "2017-11-22 01:10:39,866 : INFO : topic #4 (0.100): 0.010*\"government\" + 0.006*\"australia\" + 0.006*\"people\" + 0.006*\"taliban\" + 0.006*\"fire\" + 0.005*\"afghanistan\" + 0.005*\"qantas\" + 0.005*\"arafat\" + 0.005*\"company\" + 0.005*\"today\"\n",
      "2017-11-22 01:10:39,868 : INFO : topic #7 (0.100): 0.006*\"team\" + 0.005*\"australia\" + 0.005*\"people\" + 0.005*\"year\" + 0.005*\"cent\" + 0.004*\"sydney\" + 0.004*\"south\" + 0.004*\"today\" + 0.004*\"centre\" + 0.003*\"rate\"\n",
      "2017-11-22 01:10:39,871 : INFO : topic #8 (0.100): 0.012*\"australia\" + 0.008*\"government\" + 0.006*\"year\" + 0.004*\"people\" + 0.004*\"india\" + 0.004*\"world\" + 0.003*\"united_states\" + 0.003*\"time\" + 0.003*\"arafat\" + 0.003*\"fire\"\n",
      "2017-11-22 01:10:39,873 : INFO : topic #0 (0.100): 0.008*\"government\" + 0.006*\"australia\" + 0.004*\"police\" + 0.004*\"farmers\" + 0.004*\"months\" + 0.004*\"people\" + 0.004*\"time\" + 0.004*\"officials\" + 0.003*\"pacific\" + 0.003*\"hours\"\n",
      "2017-11-22 01:10:39,875 : INFO : topic diff=5.508733, rho=1.000000\n"
     ]
    }
   ],
   "source": [
    "ldamodel = LdaModel(corpus=corpus, num_topics=10, id2word=dictionary)"
   ]
  },
  {
   "cell_type": "markdown",
   "metadata": {
    "nbpresent": {
     "id": "672c009d-3dbc-4a1f-a789-2a0fe78729b9"
    }
   },
   "source": [
    "pyLDAvis is a great way to visualize an LDA model. To summarize in short, the area of the circles represent the prevelance of the topic. The length of the bars on the right represent the membership of a term in a particular topic. pyLDAvis is based on [this](http://nlp.stanford.edu/events/illvi2014/papers/sievert-illvi2014.pdf) paper."
   ]
  },
  {
   "cell_type": "code",
   "execution_count": 8,
   "metadata": {
    "collapsed": true,
    "nbpresent": {
     "id": "f7724653-52ef-41e8-aa22-6232be216b08"
    }
   },
   "outputs": [],
   "source": [
    "import pyLDAvis.gensim"
   ]
  },
  {
   "cell_type": "code",
   "execution_count": 9,
   "metadata": {
    "collapsed": true,
    "nbpresent": {
     "id": "2c5b03e0-ce0f-4999-8fe1-820a9fe06873"
    }
   },
   "outputs": [],
   "source": [
    "pyLDAvis.enable_notebook()"
   ]
  },
  {
   "cell_type": "code",
   "execution_count": 10,
   "metadata": {
    "nbpresent": {
     "id": "7da56259-bbf2-4f63-93f6-033833ae4494"
    },
    "scrolled": false
   },
   "outputs": [
    {
     "name": "stderr",
     "output_type": "stream",
     "text": [
      "2017-11-22 01:10:40,329 : DEBUG : performing inference on a chunk of 300 documents\n",
      "2017-11-22 01:10:40,849 : DEBUG : 261/300 documents converged within 50 iterations\n",
      "/Users/home/Desenvolvimento/anaconda3/lib/python3.6/site-packages/pyLDAvis/_prepare.py:387: DeprecationWarning: \n",
      ".ix is deprecated. Please use\n",
      ".loc for label based indexing or\n",
      ".iloc for positional indexing\n",
      "\n",
      "See the documentation here:\n",
      "http://pandas.pydata.org/pandas-docs/stable/indexing.html#ix-indexer-is-deprecated\n",
      "  topic_term_dists = topic_term_dists.ix[topic_order]\n"
     ]
    },
    {
     "data": {
      "text/html": [
       "\n",
       "<link rel=\"stylesheet\" type=\"text/css\" href=\"https://cdn.rawgit.com/bmabey/pyLDAvis/files/ldavis.v1.0.0.css\">\n",
       "\n",
       "\n",
       "<div id=\"ldavis_el2016112280477392197466720\"></div>\n",
       "<script type=\"text/javascript\">\n",
       "\n",
       "var ldavis_el2016112280477392197466720_data = {\"mdsDat\": {\"Freq\": [15.97677763742914, 14.74801453215063, 11.522495845031798, 11.322713407092365, 10.191579653258112, 9.489027577358687, 7.75057654465691, 7.280896522306141, 6.439583415560539, 5.278334865155675], \"cluster\": [1, 1, 1, 1, 1, 1, 1, 1, 1, 1], \"topics\": [1, 2, 3, 4, 5, 6, 7, 8, 9, 10], \"x\": [0.07414298714962304, 0.0102098835761396, -0.010269863051601755, -0.005559172083560665, 0.006633253777875385, 0.029625768411590193, -0.07665451780487496, -0.010689897803023287, 0.06567447074258341, -0.0831129129147509], \"y\": [0.04591935994326436, -0.004822374330760146, -0.04157692458381292, 0.009409321708736222, 0.040796261811145616, -0.06105313933429078, 0.01526695396744718, -0.09412938844191207, 0.03675100231084526, 0.05343892694933755]}, \"tinfo\": {\"Category\": [\"Default\", \"Default\", \"Default\", \"Default\", \"Default\", \"Default\", \"Default\", \"Default\", \"Default\", \"Default\", \"Default\", \"Default\", \"Default\", \"Default\", \"Default\", \"Default\", \"Default\", \"Default\", \"Default\", \"Default\", \"Default\", \"Default\", \"Default\", \"Default\", \"Default\", \"Default\", \"Default\", \"Default\", \"Default\", \"Default\", \"Topic1\", \"Topic1\", \"Topic1\", \"Topic1\", \"Topic1\", \"Topic1\", \"Topic1\", \"Topic1\", \"Topic1\", \"Topic1\", \"Topic1\", \"Topic1\", \"Topic1\", \"Topic1\", \"Topic1\", \"Topic1\", \"Topic1\", \"Topic1\", \"Topic1\", \"Topic1\", \"Topic1\", \"Topic1\", \"Topic1\", \"Topic1\", \"Topic1\", \"Topic1\", \"Topic1\", \"Topic1\", \"Topic1\", \"Topic1\", \"Topic1\", \"Topic1\", \"Topic1\", \"Topic1\", \"Topic1\", \"Topic1\", \"Topic1\", \"Topic1\", \"Topic1\", \"Topic1\", \"Topic1\", \"Topic1\", \"Topic1\", \"Topic1\", \"Topic1\", \"Topic1\", \"Topic1\", \"Topic1\", \"Topic1\", \"Topic1\", \"Topic1\", \"Topic1\", \"Topic1\", \"Topic1\", \"Topic1\", \"Topic1\", \"Topic1\", \"Topic1\", \"Topic1\", \"Topic1\", \"Topic1\", \"Topic1\", \"Topic1\", \"Topic1\", \"Topic1\", \"Topic1\", \"Topic1\", \"Topic1\", \"Topic1\", \"Topic1\", \"Topic1\", \"Topic1\", \"Topic1\", \"Topic1\", \"Topic2\", \"Topic2\", \"Topic2\", \"Topic2\", \"Topic2\", \"Topic2\", \"Topic2\", \"Topic2\", \"Topic2\", \"Topic2\", \"Topic2\", \"Topic2\", \"Topic2\", \"Topic2\", \"Topic2\", \"Topic2\", \"Topic2\", \"Topic2\", \"Topic2\", \"Topic2\", \"Topic2\", \"Topic2\", \"Topic2\", \"Topic2\", \"Topic2\", \"Topic2\", \"Topic2\", \"Topic2\", \"Topic2\", \"Topic2\", \"Topic2\", \"Topic2\", \"Topic2\", \"Topic2\", \"Topic2\", \"Topic2\", \"Topic2\", \"Topic2\", \"Topic2\", \"Topic2\", \"Topic2\", \"Topic2\", \"Topic2\", \"Topic2\", \"Topic2\", \"Topic2\", \"Topic2\", \"Topic2\", \"Topic2\", \"Topic2\", \"Topic2\", \"Topic2\", \"Topic2\", \"Topic2\", \"Topic2\", \"Topic2\", \"Topic2\", \"Topic2\", \"Topic2\", \"Topic2\", \"Topic2\", \"Topic2\", \"Topic2\", \"Topic2\", \"Topic2\", \"Topic2\", \"Topic2\", \"Topic2\", \"Topic2\", \"Topic2\", \"Topic2\", \"Topic2\", \"Topic2\", \"Topic2\", \"Topic2\", \"Topic2\", \"Topic2\", \"Topic2\", \"Topic2\", \"Topic2\", \"Topic2\", \"Topic2\", \"Topic2\", \"Topic2\", \"Topic2\", \"Topic2\", \"Topic2\", \"Topic3\", \"Topic3\", \"Topic3\", \"Topic3\", \"Topic3\", \"Topic3\", \"Topic3\", \"Topic3\", \"Topic3\", \"Topic3\", \"Topic3\", \"Topic3\", \"Topic3\", \"Topic3\", \"Topic3\", \"Topic3\", \"Topic3\", \"Topic3\", \"Topic3\", \"Topic3\", \"Topic3\", \"Topic3\", \"Topic3\", \"Topic3\", \"Topic3\", \"Topic3\", \"Topic3\", \"Topic3\", \"Topic3\", \"Topic3\", \"Topic3\", \"Topic3\", \"Topic3\", \"Topic3\", \"Topic3\", \"Topic3\", \"Topic3\", \"Topic3\", \"Topic3\", \"Topic3\", \"Topic3\", \"Topic3\", \"Topic3\", \"Topic3\", \"Topic3\", \"Topic3\", \"Topic3\", \"Topic3\", \"Topic3\", \"Topic3\", \"Topic3\", \"Topic3\", \"Topic3\", \"Topic3\", \"Topic3\", \"Topic3\", \"Topic3\", \"Topic3\", \"Topic3\", \"Topic3\", \"Topic3\", \"Topic3\", \"Topic3\", \"Topic3\", \"Topic3\", \"Topic3\", \"Topic3\", \"Topic3\", \"Topic3\", \"Topic3\", \"Topic3\", \"Topic3\", \"Topic4\", \"Topic4\", \"Topic4\", \"Topic4\", \"Topic4\", \"Topic4\", \"Topic4\", \"Topic4\", \"Topic4\", \"Topic4\", \"Topic4\", \"Topic4\", \"Topic4\", \"Topic4\", \"Topic4\", \"Topic4\", \"Topic4\", \"Topic4\", \"Topic4\", \"Topic4\", \"Topic4\", \"Topic4\", \"Topic4\", \"Topic4\", \"Topic4\", \"Topic4\", \"Topic4\", \"Topic4\", \"Topic4\", \"Topic4\", \"Topic4\", \"Topic4\", \"Topic4\", \"Topic4\", \"Topic4\", \"Topic4\", \"Topic4\", \"Topic4\", \"Topic4\", \"Topic4\", \"Topic4\", \"Topic4\", \"Topic4\", \"Topic4\", \"Topic4\", \"Topic4\", \"Topic4\", \"Topic4\", \"Topic4\", \"Topic4\", \"Topic4\", \"Topic4\", \"Topic4\", \"Topic4\", \"Topic4\", \"Topic4\", \"Topic4\", \"Topic4\", \"Topic4\", \"Topic4\", \"Topic4\", \"Topic4\", \"Topic4\", \"Topic4\", \"Topic4\", \"Topic4\", \"Topic4\", \"Topic4\", \"Topic4\", \"Topic4\", \"Topic4\", \"Topic4\", \"Topic4\", \"Topic4\", \"Topic5\", \"Topic5\", \"Topic5\", \"Topic5\", \"Topic5\", \"Topic5\", \"Topic5\", \"Topic5\", \"Topic5\", \"Topic5\", \"Topic5\", \"Topic5\", \"Topic5\", \"Topic5\", \"Topic5\", \"Topic5\", \"Topic5\", \"Topic5\", \"Topic5\", \"Topic5\", \"Topic5\", \"Topic5\", \"Topic5\", \"Topic5\", \"Topic5\", \"Topic5\", \"Topic5\", \"Topic5\", \"Topic5\", \"Topic5\", \"Topic5\", \"Topic5\", \"Topic5\", \"Topic5\", \"Topic5\", \"Topic5\", \"Topic5\", \"Topic5\", \"Topic5\", \"Topic5\", \"Topic5\", \"Topic5\", \"Topic5\", \"Topic5\", \"Topic5\", \"Topic5\", \"Topic5\", \"Topic5\", \"Topic5\", \"Topic5\", \"Topic5\", \"Topic5\", \"Topic5\", \"Topic5\", \"Topic5\", \"Topic5\", \"Topic5\", \"Topic5\", \"Topic5\", \"Topic5\", \"Topic5\", \"Topic5\", \"Topic5\", \"Topic5\", \"Topic5\", \"Topic5\", \"Topic5\", \"Topic5\", \"Topic5\", \"Topic5\", \"Topic5\", \"Topic5\", \"Topic5\", \"Topic5\", \"Topic5\", \"Topic5\", \"Topic5\", \"Topic5\", \"Topic5\", \"Topic6\", \"Topic6\", \"Topic6\", \"Topic6\", \"Topic6\", \"Topic6\", \"Topic6\", \"Topic6\", \"Topic6\", \"Topic6\", \"Topic6\", \"Topic6\", \"Topic6\", \"Topic6\", \"Topic6\", \"Topic6\", \"Topic6\", \"Topic6\", \"Topic6\", \"Topic6\", \"Topic6\", \"Topic6\", \"Topic6\", \"Topic6\", \"Topic6\", \"Topic6\", \"Topic6\", \"Topic6\", \"Topic6\", \"Topic6\", \"Topic6\", \"Topic6\", \"Topic6\", \"Topic6\", \"Topic6\", \"Topic6\", \"Topic6\", \"Topic6\", \"Topic6\", \"Topic6\", \"Topic6\", \"Topic6\", \"Topic6\", \"Topic6\", \"Topic6\", \"Topic6\", \"Topic6\", \"Topic6\", \"Topic6\", \"Topic6\", \"Topic6\", \"Topic6\", \"Topic6\", \"Topic6\", \"Topic6\", \"Topic6\", \"Topic6\", \"Topic6\", \"Topic6\", \"Topic6\", \"Topic6\", \"Topic6\", \"Topic6\", \"Topic6\", \"Topic6\", \"Topic6\", \"Topic6\", \"Topic6\", \"Topic6\", \"Topic6\", \"Topic6\", \"Topic7\", \"Topic7\", \"Topic7\", \"Topic7\", \"Topic7\", \"Topic7\", \"Topic7\", \"Topic7\", \"Topic7\", \"Topic7\", \"Topic7\", \"Topic7\", \"Topic7\", \"Topic7\", \"Topic7\", \"Topic7\", \"Topic7\", \"Topic7\", \"Topic7\", \"Topic7\", \"Topic7\", \"Topic7\", \"Topic7\", \"Topic7\", \"Topic7\", \"Topic7\", \"Topic7\", \"Topic7\", \"Topic7\", \"Topic7\", \"Topic7\", \"Topic7\", \"Topic7\", \"Topic7\", \"Topic7\", \"Topic7\", \"Topic7\", \"Topic7\", \"Topic7\", \"Topic7\", \"Topic7\", \"Topic7\", \"Topic7\", \"Topic7\", \"Topic7\", \"Topic7\", \"Topic7\", \"Topic7\", \"Topic7\", \"Topic7\", \"Topic7\", \"Topic7\", \"Topic7\", \"Topic7\", \"Topic7\", \"Topic7\", \"Topic7\", \"Topic7\", \"Topic7\", \"Topic7\", \"Topic7\", \"Topic7\", \"Topic7\", \"Topic7\", \"Topic7\", \"Topic7\", \"Topic7\", \"Topic7\", \"Topic7\", \"Topic7\", \"Topic7\", \"Topic7\", \"Topic7\", \"Topic7\", \"Topic7\", \"Topic7\", \"Topic7\", \"Topic8\", \"Topic8\", \"Topic8\", \"Topic8\", \"Topic8\", \"Topic8\", \"Topic8\", \"Topic8\", \"Topic8\", \"Topic8\", \"Topic8\", \"Topic8\", \"Topic8\", \"Topic8\", \"Topic8\", \"Topic8\", \"Topic8\", \"Topic8\", \"Topic8\", \"Topic8\", \"Topic8\", \"Topic8\", \"Topic8\", \"Topic8\", \"Topic8\", \"Topic8\", \"Topic8\", \"Topic8\", \"Topic8\", \"Topic8\", \"Topic8\", \"Topic8\", \"Topic8\", \"Topic8\", \"Topic8\", \"Topic8\", \"Topic8\", \"Topic8\", \"Topic8\", \"Topic8\", \"Topic8\", \"Topic8\", \"Topic8\", \"Topic8\", \"Topic8\", \"Topic8\", \"Topic8\", \"Topic8\", \"Topic8\", \"Topic8\", \"Topic8\", \"Topic8\", \"Topic8\", \"Topic8\", \"Topic8\", \"Topic8\", \"Topic8\", \"Topic8\", \"Topic8\", \"Topic8\", \"Topic8\", \"Topic8\", \"Topic8\", \"Topic8\", \"Topic8\", \"Topic8\", \"Topic8\", \"Topic8\", \"Topic8\", \"Topic8\", \"Topic8\", \"Topic8\", \"Topic8\", \"Topic8\", \"Topic8\", \"Topic9\", \"Topic9\", \"Topic9\", \"Topic9\", \"Topic9\", \"Topic9\", \"Topic9\", \"Topic9\", \"Topic9\", \"Topic9\", \"Topic9\", \"Topic9\", \"Topic9\", \"Topic9\", \"Topic9\", \"Topic9\", \"Topic9\", \"Topic9\", \"Topic9\", \"Topic9\", \"Topic9\", \"Topic9\", \"Topic9\", \"Topic9\", \"Topic9\", \"Topic9\", \"Topic9\", \"Topic9\", \"Topic9\", \"Topic9\", \"Topic9\", \"Topic9\", \"Topic9\", \"Topic9\", \"Topic9\", \"Topic9\", \"Topic9\", \"Topic9\", \"Topic9\", \"Topic9\", \"Topic9\", \"Topic9\", \"Topic9\", \"Topic9\", \"Topic9\", \"Topic9\", \"Topic9\", \"Topic9\", \"Topic9\", \"Topic9\", \"Topic9\", \"Topic9\", \"Topic9\", \"Topic9\", \"Topic9\", \"Topic9\", \"Topic9\", \"Topic9\", \"Topic9\", \"Topic9\", \"Topic9\", \"Topic9\", \"Topic9\", \"Topic9\", \"Topic9\", \"Topic9\", \"Topic9\", \"Topic9\", \"Topic9\", \"Topic9\", \"Topic9\", \"Topic9\", \"Topic9\", \"Topic10\", \"Topic10\", \"Topic10\", \"Topic10\", \"Topic10\", \"Topic10\", \"Topic10\", \"Topic10\", \"Topic10\", \"Topic10\", \"Topic10\", \"Topic10\", \"Topic10\", \"Topic10\", \"Topic10\", \"Topic10\", \"Topic10\", \"Topic10\", \"Topic10\", \"Topic10\", \"Topic10\", \"Topic10\", \"Topic10\", \"Topic10\", \"Topic10\", \"Topic10\", \"Topic10\", \"Topic10\", \"Topic10\", \"Topic10\", \"Topic10\", \"Topic10\", \"Topic10\", \"Topic10\", \"Topic10\", \"Topic10\", \"Topic10\", \"Topic10\", \"Topic10\", \"Topic10\", \"Topic10\", \"Topic10\", \"Topic10\", \"Topic10\", \"Topic10\", \"Topic10\", \"Topic10\", \"Topic10\", \"Topic10\", \"Topic10\", \"Topic10\", \"Topic10\", \"Topic10\", \"Topic10\", \"Topic10\", \"Topic10\", \"Topic10\", \"Topic10\", \"Topic10\", \"Topic10\", \"Topic10\", \"Topic10\", \"Topic10\", \"Topic10\", \"Topic10\", \"Topic10\", \"Topic10\", \"Topic10\", \"Topic10\"], \"Freq\": [80.0, 42.0, 107.0, 69.0, 122.0, 28.0, 37.0, 27.0, 29.0, 30.0, 38.0, 66.0, 9.0, 45.0, 45.0, 21.0, 19.0, 40.0, 11.0, 7.0, 4.0, 20.0, 54.0, 51.0, 7.0, 11.0, 24.0, 32.0, 10.0, 29.0, 2.4024306738956174, 2.4024303855254665, 2.4024261679424606, 2.3293984386330817, 2.3145532389369796, 4.450555653396838, 2.6740192077136293, 3.301166574954728, 3.8296176067536236, 1.9778685475936688, 1.9777497233221397, 2.6326897855730995, 3.83506878231277, 4.355480420889696, 1.2584158095121363, 1.2584155308909004, 1.2584147057040223, 1.2584144824555745, 1.258414207566437, 1.2584140753949016, 1.2584137008966991, 1.2584133908365036, 1.2584131827121163, 1.2584116918453343, 2.492400272686658, 6.726786427192623, 1.807565328368466, 1.2156296285696055, 1.2110798671487673, 2.3432331519113934, 18.928744063416705, 2.3918748984698106, 22.868631776415636, 6.258039592192501, 4.504447859363108, 2.4017954969572832, 5.427319799248141, 4.921823342981844, 4.70018785698229, 2.8768603411205786, 1.8134982818342233, 3.2586323673812383, 33.36373398354421, 21.756819871611853, 23.509293724921832, 5.215469851981485, 14.993774840048644, 5.284602170643642, 15.858457716263828, 16.316799694746415, 7.967724318261736, 9.044267896704305, 9.680186322934789, 8.677635017206743, 8.133954748858846, 4.874723126789644, 21.33585928408596, 8.46196896334837, 9.523114478441833, 9.099515837050516, 9.077778186927695, 8.17786402594062, 11.330591610700248, 17.12159253039082, 11.232306258612482, 9.053942969117895, 10.254972377113218, 8.693465094419624, 9.169692445943232, 10.432569148252364, 9.104970387027167, 9.468893219789042, 7.6480844895877835, 8.336361475520997, 1.6898600747787995, 4.409990534176551, 3.203912491071141, 2.169277915220942, 4.32332455865984, 1.4374036540038042, 1.8985210941633517, 1.4115396305926453, 3.669724426203679, 2.865947302785496, 2.8950444019157393, 1.3643094112906293, 4.53646446670061, 1.8086909238949431, 1.3509643189031575, 0.9039859282455904, 0.9039852148526939, 2.29850281862942, 0.8925316461791142, 0.8886454734033774, 0.89006575908244, 0.8887753383499283, 0.886745280463043, 0.8850915159078336, 0.8854632169057334, 0.8822108364023764, 0.8807397104267878, 1.7047584579102006, 0.8792218239585248, 0.878842463211277, 3.5588590660101835, 1.768222116481198, 3.278647080363516, 14.17627123169005, 3.0400084774597844, 2.985792332854886, 2.1625771855662235, 4.149407663218652, 11.516802498096398, 6.173624475667444, 2.4055660742574076, 4.832594986206013, 3.2239494439054313, 4.598492272652926, 3.6833849565997276, 16.82995801580449, 3.4167766491504508, 3.114992244608937, 10.3066656006832, 5.488634875786255, 15.880648842689496, 6.061931703117899, 3.6319623140293746, 7.250079855490716, 26.529847151564343, 5.533386391072433, 6.299365339797871, 11.891263414249826, 4.3730019123540655, 6.9891837061425015, 13.013772470717095, 12.130052171250052, 5.993215153297333, 6.514526997796995, 5.276895128171092, 4.988405599299009, 14.704390909993094, 12.525500467953973, 6.3263942060420195, 9.69772534783593, 13.13479192949169, 17.851394686792485, 17.09667445192793, 9.262747614684342, 11.698657514079036, 10.177126898241605, 8.947740001730404, 8.54686413400102, 9.376706333332478, 8.647584548192777, 7.7993188006903456, 9.321038510591352, 9.432986590193476, 6.977542525514952, 7.816219577305154, 7.597678973517161, 7.067961365384883, 4.110569544904221, 1.5743227362815557, 1.5743191296184538, 1.5743147896680205, 1.5252072907462961, 2.003313964761984, 1.5021798235418875, 1.487505537306407, 1.4571487798482154, 1.4169466611715629, 2.3726272717919703, 2.362103004217142, 1.395204726699078, 1.3780212666663239, 1.3789588206821406, 3.806301294209593, 1.3372120900690179, 1.7252794347821243, 3.452049992660799, 1.2766101284381843, 2.1665798393823006, 1.9888372896675, 2.0776130727069697, 0.8246453527644364, 0.8246451076207527, 0.8246447315774129, 0.8246441014524892, 0.8246440145137147, 0.8246436853423762, 0.8246430749273572, 3.875592403178827, 1.9768131047983437, 1.2384699198946207, 1.2224187556376604, 1.2073557636871268, 12.932501167419623, 3.8411310810107517, 2.3457190012248317, 4.39732176146606, 5.893542919959098, 5.8840805887110434, 2.600908096386026, 27.0667276193, 6.526723119207223, 9.505539910314537, 13.072311546295104, 10.828793647811016, 4.43529357730308, 5.386615189423708, 4.873709076937107, 12.949395712381248, 12.937218918883005, 17.4366092502996, 12.222608752782744, 9.254619698747517, 12.19112167672611, 7.142389315769034, 6.344852208612136, 7.362368857134688, 8.895899989360831, 6.040290391466618, 6.613281208853721, 5.762172952799574, 7.810001068627765, 7.288454927601735, 6.176650412653574, 5.439172558320542, 6.021074753746883, 5.661365548312631, 6.206551866135621, 5.642953538524351, 5.396510849662288, 2.7803139324238186, 1.439939255588293, 1.4399387024655306, 1.8605736322217614, 4.538349521998221, 1.835429456402858, 1.8809850198241904, 7.1502277736949225, 1.7141463606042133, 1.2763563880583852, 1.6164545393040448, 3.195637851153972, 1.601014634417544, 1.5756256942102362, 2.4005336008865386, 1.1856953324845831, 2.7000665854887362, 1.1394620594879907, 3.9397188266963847, 1.4568950529579503, 0.7542560281599802, 0.7542556359449405, 0.7542555795441539, 0.7542550893282796, 0.7542548552665805, 0.7542547928319249, 0.7542545630106221, 0.7542545658758908, 0.754254489835227, 0.7542544146371587, 1.4472764152223034, 4.727097802754109, 2.54714807910972, 1.857873935297541, 1.1624506185258607, 1.4399365430410682, 2.7695737713018946, 3.0707195861876966, 1.418300446862639, 5.908038156955614, 2.37830863153358, 2.7760651343082836, 2.5724514978523834, 2.5696041998874235, 26.32508738192683, 4.976756340459436, 8.317789820369434, 5.453668446451088, 12.326680454720108, 17.164648948139504, 3.984165268071179, 5.334783214767753, 5.24526354431641, 7.747776620889301, 6.169330492991493, 6.1421933205779125, 7.206728195335719, 5.16107142882234, 6.726200907377565, 6.414223749738274, 7.2910606289325814, 7.312835376856068, 4.434319767726562, 7.245021998966238, 8.561960699846477, 5.5534125027359025, 6.8114231749282075, 5.0198226342260055, 5.946597578434379, 5.033847243456313, 4.655131664549824, 5.266006930214194, 4.8687331760905606, 4.865011396594146, 5.103725057958229, 3.2597284526765122, 2.510728442362576, 1.757020302783994, 1.7570187292791162, 1.7570181768228554, 1.7570174499957918, 1.757016081249824, 3.3306321096581213, 1.6251579885771177, 2.5936961168319352, 2.0983881820437347, 1.5406919525120717, 4.327033267064399, 1.457112753620148, 1.4124242287458972, 0.9203448192557073, 0.9203442292883435, 0.9203438274162341, 0.9203436992772696, 0.9203437026297425, 0.920343590872891, 0.9203434950758764, 0.920343395501512, 0.9203431997052524, 0.9203431145795615, 0.920343100999723, 0.9203430815894305, 0.9203430084856743, 0.9203429374724711, 2.24276478399416, 2.593698472278962, 6.084011181472597, 2.64651439031632, 3.4303699852477516, 2.3642194019855745, 2.5936963342941106, 3.2948923544381423, 2.900353530296741, 2.8376768379385173, 1.6703245779913671, 1.7041936169697007, 2.7671405489593006, 1.66967446124613, 3.006710677726795, 3.552880139677551, 11.132008884027568, 18.42897086951969, 7.5237961224507215, 3.9197456526431114, 14.307746536392537, 4.566071560413111, 13.54393847740233, 18.69514238239371, 5.519605304068367, 8.733020207626648, 5.092961078381931, 4.453824525101059, 8.130945030898404, 6.298932838947898, 5.679211562686764, 6.171512408257063, 5.793570669818117, 6.475044527355005, 6.8732385211238265, 10.224713298979983, 6.623909003056575, 5.566619725067429, 9.30587244075862, 6.351596370098028, 5.485104515507501, 6.858330081337061, 5.578712430734634, 5.1931943272584675, 6.1745606246472375, 5.648958104400725, 5.750175527883482, 5.649171898651742, 5.450792682901947, 3.6895440026027204, 1.8897603280170614, 2.793971072725973, 2.6646427584783368, 2.5441326334837155, 2.929695074610894, 0.9898764522293029, 0.9898755533623045, 0.9898740755255222, 1.4414568309462727, 4.642978095588671, 3.563941938061093, 0.8630808858201363, 0.8580251110384832, 1.2746705401210892, 1.282105119426353, 1.6960808602883497, 1.2673825601728375, 1.2486308552875043, 1.1747654243531616, 1.194708064355685, 1.611260933990493, 1.5781295804288307, 1.5507314221981632, 0.7792060230172209, 0.7789106822072981, 1.5888005549535658, 1.1137666831837933, 1.1400262050735546, 1.1447039733140214, 1.534211100684076, 16.392048455678207, 1.801156662215948, 6.4081989779378725, 3.418523301802413, 9.22621628462884, 3.465391093944224, 2.0457755445948393, 4.974729350145081, 7.855231910580198, 2.2986793134729284, 6.618750661717118, 3.206379494845627, 4.083737979465588, 2.6764132585282874, 3.9958106195439025, 5.773637738525244, 2.512365425855366, 9.76733571521841, 4.384395759257496, 8.261110329449185, 4.7453119529995975, 5.956412499131285, 13.79061905072291, 5.379672769097669, 5.197734713502145, 6.891347855081381, 5.462695472249222, 5.456486662737629, 5.227857964314123, 6.816193226828103, 4.747199551967107, 7.673713073599845, 5.909983441507302, 5.797629209365315, 5.1061291636118815, 5.112708151692866, 4.675467184604339, 4.5831629865490955, 4.839496786834002, 4.598755685671158, 3.174419965113781, 3.0253788890918387, 2.351098737800844, 1.6259169295444476, 2.1938637438944237, 1.5651705961262603, 2.018666749140944, 1.8514970161937845, 1.7905771240002109, 1.7784029175054445, 2.0958394975962658, 0.8516739982464601, 0.8516733384770812, 0.8516730625371043, 0.8516720317214843, 0.8516715765751384, 0.8516670940481865, 0.8516667563591088, 0.8511177963126018, 0.8510900157080405, 0.851050319319466, 0.8509848134982195, 0.8509721135121494, 0.8509109101502621, 0.8509037971059907, 0.8508798274823423, 0.8507604042957742, 0.8507591703210083, 1.270843846724043, 0.8505971790557885, 1.233798809372548, 1.23260153082965, 8.051785372226362, 2.8057313696774258, 3.1122507436276385, 1.7641186693718045, 1.4806954075497043, 1.1791502935638492, 2.4677713786011672, 2.249166339871824, 1.1605857721626354, 9.385530826273374, 5.834540090496156, 2.3552625661685567, 1.152755429997992, 3.791610668918991, 2.911765172576964, 2.28572344073092, 2.4682283087585732, 5.767139144915767, 2.2611812727951457, 8.744480109792278, 3.7180673887606406, 3.389403068985842, 6.391170079187631, 3.4330753820552347, 7.763138109390724, 4.261210987868684, 4.415762203198859, 4.734050213803042, 4.392911680639866, 2.9477935038065968, 3.519254074831618, 4.540824951540071, 6.143636089057981, 3.8827626806918603, 4.155074846670877, 5.4982954084612174, 3.7191441486732737, 3.915620351838437, 3.474734247017717, 3.4855315608938158, 3.553972515349418, 3.4599806119801695, 3.4723932709465037, 3.399967581890898, 3.436155409588336, 2.898806228659139, 2.855033206446519, 1.581245355368556, 1.581243821743929, 1.5812423330729162, 1.469510068612739, 3.6165948052627064, 2.302777205890682, 1.9006999020031463, 1.767478244690117, 2.1815618589356784, 2.0566811166512404, 0.8282727637048938, 0.8282721639747177, 0.8282718880854141, 0.82827174446574, 0.8282716554072804, 0.8282714079630514, 0.8282713385089747, 0.8282713088929111, 0.8282712556982011, 0.8282709683275251, 0.8282708837069556, 0.8282708257518284, 0.8282704925802534, 0.8282701019477227, 0.8282699249937481, 0.828269910649915, 0.8282687942450702, 0.8282684210766758, 2.6960460009643548, 2.0160162520865157, 1.6250320956462971, 2.368740211575438, 4.1750948715765555, 2.5372557016768047, 1.5515899351769804, 3.185534146615415, 2.2358772353759666, 2.5076645253179084, 1.1545672532191802, 2.7952540471143097, 2.2748152667933645, 1.7463223087288842, 1.5082879556427058, 8.18714867799844, 1.392052882081469, 1.859647874625063, 4.629059049281208, 1.616134272894456, 3.722723410695393, 5.792379841657581, 6.464166530204921, 4.445486357808336, 4.385413581719297, 6.1607958970905745, 6.8403409092872565, 4.825048592052858, 4.595017703341106, 4.555995943516817, 4.546235640742613, 7.253744386840046, 6.921288714463102, 5.499628094973784, 4.571882159974392, 4.240875094070908, 4.3427209252334835, 4.571363711858598, 3.6013567089766774, 3.5521252067051488, 3.5629861023593152, 3.5439926504101535, 3.257709802098465, 3.3521265947931376, 3.0051742258719147, 2.083618887293095, 4.796181685761357, 1.411485422433857, 1.4114850916041197, 1.4114827632665206, 1.411481217027079, 1.411480158743411, 1.8589588328532134, 2.1226888024345834, 1.7091326603039565, 2.590013147932898, 1.255581650238822, 1.6351585903566639, 5.531759712376485, 1.2118809861047206, 1.6296491638170578, 1.1332403825383486, 1.1146571388302873, 1.1088943404929958, 0.7393499736000796, 0.7393497640007, 0.739349761754387, 0.7393495169786666, 0.7393494958950574, 0.7393495062583125, 0.7393493298816666, 0.7393493083979339, 0.7393493402595352, 0.739349261454789, 0.7393487159197804, 1.0781330643431548, 1.4114830107462155, 1.0830123209680576, 1.0838463533161669, 1.3846304258611222, 1.0730997268966758, 1.0479380480863931, 1.6496050729328202, 1.8776690578114708, 3.4926316186106323, 2.116476573160538, 3.6190676209113475, 5.469119353629173, 3.607782478512817, 1.873073358554232, 6.598297250640037, 2.4436570760947762, 9.68093529532611, 11.007828374135123, 7.15787772376349, 5.334396212110793, 5.14375524614962, 6.67735916066274, 4.626447382045135, 5.322871294952637, 4.246624930983536, 5.565046378693143, 3.5628809598749296, 3.7316192176880265, 4.623624220442297, 4.248092509309222, 2.8202554605565187, 6.706428159288921, 4.722582927243235, 4.873795328210153, 3.050901566649368, 3.756048946511568, 4.167539526145026, 3.657034780448167, 3.0500218085844177, 3.757317867492814, 3.580168483244728, 3.888979760775775, 4.174580691874901, 2.805864963664635, 3.1066378903536447, 2.9402501547501037, 1.4371505587715454, 1.8796076658712382, 1.8387599219221409, 1.3023597118598194, 1.2908149341187587, 1.2804730409084375, 1.6642044716396358, 1.2698617722586876, 1.243648455007164, 2.7603991052689385, 1.1792652703895068, 1.1732687284607901, 2.0612105674185095, 0.7527938114999625, 0.752793436606629, 0.7527931184945144, 0.752792817364454, 0.7527927014102015, 0.7527924427972958, 0.7527923929899649, 0.7527921534735653, 1.1142089781091333, 0.7487861562688044, 0.7485144613426816, 0.7475523315773008, 0.7473676009101693, 1.0992508610661096, 2.1215065860221323, 1.092734282967716, 2.386723125088895, 1.4054484507430363, 3.2435940828411325, 2.561671606336768, 1.4113776625632894, 2.8058676109616525, 1.0436794000373022, 2.9469946924889703, 2.381911214153279, 2.1101094829479377, 1.89948284955241, 1.9032860886849652, 1.6562721251095305, 8.23604285479177, 2.37947216196594, 2.230294983792199, 4.04779368679877, 2.694484363706785, 2.545882939019972, 5.970572235505309, 4.44995756813475, 3.94771305983182, 2.857851932689694, 3.203540414393547, 3.5253026263121017, 2.475152558161276, 3.9862303488092072, 3.168034226645413, 3.135151961465847, 2.639442441584756, 2.3786547664000794, 2.8041912362680774, 2.609865714909846, 2.4550037758737533, 2.409280443287604, 2.3886521784943673], \"Term\": [\"afghanistan\", \"test\", \"government\", \"arafat\", \"australia\", \"qantas\", \"laden\", \"hamas\", \"team\", \"tora_bora\", \"years\", \"police\", \"argentina\", \"sydney\", \"taliban\", \"radio\", \"firefighters\", \"pakistan\", \"space\", \"debt\", \"farmers\", \"sharon\", \"forces\", \"man\", \"lockett\", \"east_timor\", \"unions\", \"wales\", \"hewitt\", \"metres\", \"offence\", \"missile\", \"hijackings\", \"sherrard\", \"terminal\", \"launceston\", \"leak\", \"moussaoui\", \"owen\", \"bombardment\", \"passes\", \"tommy\", \"marines\", \"amin\", \"auditors\", \"someone\", \"contents\", \"participant\", \"section\", \"conspiracy\", \"requirements\", \"commissions\", \"demand\", \"assumption\", \"dialogue\", \"musharraf\", \"melawa\", \"meant\", \"rob\", \"ali\", \"tora_bora\", \"hawke\", \"pakistan\", \"powell\", \"virgin\", \"article\", \"population\", \"rumsfeld\", \"tape\", \"aip\", \"indictment\", \"hiv\", \"afghanistan\", \"forces\", \"united_states\", \"commander\", \"laden\", \"caves\", \"afghan\", \"taliban\", \"bin_laden\", \"qaeda\", \"talks\", \"osama_bin\", \"labor\", \"commanders\", \"people\", \"troops\", \"union\", \"peace\", \"power\", \"month\", \"officials\", \"government\", \"days\", \"war\", \"attacks\", \"report\", \"area\", \"day\", \"force\", \"year\", \"city\", \"security\", \"carr\", \"friedli\", \"cameron\", \"walker\", \"vaughan\", \"zone\", \"sheet\", \"tamworth\", \"wind\", \"manufacturing\", \"rabbani\", \"gunnedah\", \"ballot\", \"appointment\", \"impacts\", \"robbards\", \"grounding\", \"analysis\", \"coercion\", \"witch\", \"controller\", \"creek\", \"pitwater\", \"terence\", \"outbreaks\", \"ferocity\", \"wahroonga\", \"fear\", \"mop\", \"freight\", \"qantas_maintenance\", \"saadi\", \"krishna\", \"qantas\", \"doug\", \"building_industry\", \"amwu\", \"wage_freeze\", \"unions\", \"dispute\", \"ashes\", \"karzai\", \"volunteers\", \"senator_hill\", \"workers_union\", \"taliban\", \"woomera\", \"ice\", \"workers\", \"offer\", \"fire\", \"department\", \"blue_mountains\", \"detainees\", \"government\", \"storm\", \"damage\", \"force\", \"industrial_relations\", \"house\", \"company\", \"days\", \"water\", \"process\", \"secretary\", \"change\", \"afghanistan\", \"today\", \"kandahar\", \"yesterday\", \"arafat\", \"australia\", \"people\", \"commission\", \"security\", \"day\", \"action\", \"area\", \"sydney\", \"afghan\", \"new_south\", \"man\", \"forces\", \"night\", \"police\", \"time\", \"officials\", \"world_heritage\", \"ismail\", \"nobel\", \"annan\", \"fatalities\", \"rfds\", \"crompton\", \"privacy\", \"dempsey\", \"stoppage\", \"knop\", \"farina\", \"battlefield\", \"belgium\", \"schneiders\", \"data\", \"motorway\", \"spills\", \"roads\", \"shepherd\", \"soccer\", \"user\", \"arrests\", \"haniya\", \"assaults\", \"warrants\", \"oslo\", \"shanab\", \"good\", \"kofi\", \"virus\", \"route\", \"shares\", \"phillip\", \"prosecution\", \"hamas\", \"powers\", \"holiday\", \"source\", \"deaths\", \"official\", \"austar\", \"australia\", \"information\", \"staff\", \"company\", \"israeli\", \"act\", \"board\", \"hih\", \"year\", \"security\", \"people\", \"police\", \"test\", \"arafat\", \"report\", \"militants\", \"israel\", \"time\", \"match\", \"meeting\", \"authorities\", \"today\", \"man\", \"south\", \"west_bank\", \"cent\", \"new_south\", \"day\", \"officials\", \"government\", \"casinos\", \"alp\", \"lawrence\", \"nelson\", \"endeavour\", \"razor\", \"ferguson\", \"space\", \"music\", \"astronauts\", \"memory\", \"shuttle\", \"megawati\", \"mohamad\", \"treasurer\", \"rock\", \"beatle\", \"governments\", \"zimbabwe\", \"rehman\", \"extinguishment\", \"sections\", \"fremantle\", \"carmen\", \"twin\", \"momentum\", \"rome\", \"generations\", \"killer\", \"mum\", \"habeel\", \"harrison\", \"afroz\", \"passport\", \"cmag\", \"gabriel\", \"asic\", \"coalition\", \"behalf\", \"station\", \"students\", \"hotel\", \"review\", \"costello\", \"australia\", \"hih\", \"india\", \"party\", \"year\", \"government\", \"commonwealth\", \"queensland\", \"labor\", \"world\", \"group\", \"meeting\", \"fire\", \"west_bank\", \"attacks\", \"cent\", \"time\", \"united_states\", \"claims\", \"arafat\", \"people\", \"israeli\", \"afghanistan\", \"report\", \"police\", \"years\", \"match\", \"security\", \"president\", \"pakistan\", \"products\", \"rink\", \"projections\", \"dun\", \"bradstreet\", \"grocery\", \"hooke\", \"sales\", \"gerber\", \"pieterse\", \"tax\", \"flood\", \"banksa\", \"companies\", \"flash\", \"broadcasting\", \"bayu\", \"revenue\", \"gst\", \"gasfield\", \"undan\", \"brands\", \"bayt\", \"eyewitnesses\", \"disrepute\", \"crops\", \"storey\", \"shelves\", \"goods\", \"nobody\", \"balmer\", \"project\", \"east_timor\", \"consumers\", \"gas\", \"skies\", \"phillips\", \"food\", \"roof\", \"shopping\", \"taylor\", \"communications\", \"sheikh\", \"yassin\", \"bus_ambush\", \"technology\", \"authority\", \"arafat\", \"economy\", \"wave\", \"police\", \"targets\", \"security\", \"people\", \"gaza_strip\", \"israel\", \"israelis\", \"helicopters\", \"israeli\", \"militants\", \"child\", \"hamas\", \"west_bank\", \"centre\", \"force\", \"government\", \"attacks\", \"way\", \"australia\", \"fire\", \"months\", \"afghanistan\", \"morning\", \"city\", \"united_states\", \"time\", \"today\", \"year\", \"company\", \"boje\", \"nicky\", \"spinner\", \"centuries\", \"huegill\", \"goshen\", \"arm\", \"eleven\", \"klim\", \"whilst\", \"reid\", \"factory\", \"rivalry\", \"rift\", \"clubs\", \"wrongdoing\", \"butterfly\", \"catastrophe\", \"trips\", \"kontrol\", \"hoax\", \"accounts\", \"sheldon\", \"indiana\", \"chicago\", \"dispatcher\", \"bayliss\", \"wolthuizen\", \"millwork\", \"supervisors\", \"housing\", \"test\", \"veteran\", \"cricket\", \"macgill\", \"metres\", \"blake\", \"gary\", \"captain\", \"qantas\", \"tailenders\", \"south_africa\", \"friday\", \"bowler\", \"shane\", \"side\", \"reports\", \"markets\", \"man\", \"new_zealand\", \"world\", \"river\", \"number\", \"australia\", \"workers\", \"match\", \"sydney\", \"team\", \"night\", \"melbourne\", \"united_states\", \"unions\", \"people\", \"days\", \"afghanistan\", \"company\", \"time\", \"attacks\", \"morning\", \"police\", \"year\", \"cow\", \"redmond\", \"classic\", \"freeman\", \"jackson\", \"morrow\", \"track\", \"templeton\", \"palmerston\", \"panel\", \"midwives\", \"organs\", \"olympics\", \"olympic\", \"dairy\", \"outbreak\", \"meat\", \"cathy\", \"coverage\", \"stories\", \"listeners\", \"milestones\", \"marconi\", \"guglielmo\", \"newsradio\", \"birth\", \"triple\", \"simulcast\", \"abortion\", \"moon\", \"larrakia\", \"los\", \"radio\", \"japan\", \"lockett\", \"abc\", \"franklin\", \"palos\", \"lines\", \"invasion\", \"rosebury\", \"years\", \"sharon\", \"debate\", \"aristide\", \"bill\", \"brisbane\", \"families\", \"son\", \"power\", \"verdict\", \"today\", \"new_zealand\", \"homes\", \"officials\", \"parliament\", \"arafat\", \"prime_minister\", \"union\", \"members\", \"state\", \"west\", \"family\", \"sydney\", \"people\", \"melbourne\", \"president\", \"government\", \"attack\", \"action\", \"groups\", \"minister\", \"test\", \"morning\", \"yesterday\", \"security\", \"australia\", \"ticket\", \"gutnick\", \"zeus\", \"mcdonald\", \"chain\", \"szondy\", \"club\", \"yacht\", \"administrator\", \"transfer\", \"brain\", \"bacteria\", \"borrowing\", \"low\", \"shockwave\", \"margin\", \"discount\", \"rudder\", \"helens\", \"bumblebee\", \"skippered\", \"expansion\", \"liberator\", \"catt\", \"sale\", \"jeff\", \"object\", \"subsidiary\", \"contracts\", \"eddystone\", \"cut\", \"queen\", \"reserve\", \"yacht_race\", \"rafter\", \"petrol\", \"todd\", \"sydney_hobart\", \"boats\", \"traveland\", \"door\", \"doubles\", \"drug\", \"cells\", \"boston\", \"team\", \"emissions\", \"launch\", \"rate\", \"arthurs\", \"flight\", \"south\", \"cent\", \"federal\", \"september\", \"sydney\", \"year\", \"centre\", \"night\", \"wales\", \"new_south\", \"australia\", \"people\", \"today\", \"morning\", \"state\", \"yesterday\", \"day\", \"hospital\", \"members\", \"commission\", \"company\", \"week\", \"united_states\", \"areas\", \"saa\", \"debt\", \"repayment\", \"peronists\", \"resignation\", \"lavarch\", \"rodriguez\", \"utn\", \"cahill\", \"currency\", \"sergeant\", \"stringer\", \"stoltenberg\", \"argentina\", \"shellharbour\", \"default\", \"offender\", \"salisbury\", \"quit\", \"brink\", \"guarantees\", \"lawmaker\", \"puerta\", \"devaluation\", \"lending\", \"caretaker\", \"predecessor\", \"ramon\", \"aldolfo\", \"peso\", \"darren\", \"presidency\", \"cosgrove\", \"kentucky\", \"rescue\", \"potts\", \"diego\", \"kosovo\", \"coroner\", \"hewitt\", \"prisoners\", \"boy\", \"firefighters\", \"hicks\", \"blaze\", \"laden\", \"white\", \"afghanistan\", \"government\", \"man\", \"area\", \"years\", \"police\", \"hours\", \"sydney\", \"areas\", \"forces\", \"pentagon\", \"qaeda\", \"president\", \"wales\", \"qaeda_fighters\", \"people\", \"days\", \"today\", \"winds\", \"group\", \"fire\", \"new_south\", \"conditions\", \"time\", \"officials\", \"australia\", \"farmers\", \"truss\", \"francs\", \"ruddock\", \"subsidies\", \"dewar\", \"mitsubishi\", \"punishment\", \"bernhard\", \"maker\", \"langdale\", \"fine\", \"eighth\", \"whiting\", \"jury\", \"curtis\", \"chechen\", \"kicker\", \"intention\", \"usa\", \"lobbying\", \"agriculture\", \"lobby\", \"intent\", \"mentality\", \"kidnap\", \"confusion\", \"tantamount\", \"signals\", \"kanooni\", \"clothes\", \"farm\", \"warnings\", \"assa_abloy\", \"counting\", \"pacific\", \"refugees\", \"arrivals\", \"lockett\", \"defendant\", \"islands\", \"verdict\", \"peacekeepers\", \"solomon\", \"sarah\", \"grant\", \"government\", \"july\", \"highway\", \"months\", \"boat\", \"bill\", \"australia\", \"police\", \"time\", \"agreement\", \"hours\", \"officials\", \"asylum_seekers\", \"people\", \"sydney\", \"security\", \"place\", \"policy\", \"united_states\", \"company\", \"minister\", \"world\", \"way\"], \"Total\": [80.0, 42.0, 107.0, 69.0, 122.0, 28.0, 37.0, 27.0, 29.0, 30.0, 38.0, 66.0, 9.0, 45.0, 45.0, 21.0, 19.0, 40.0, 11.0, 7.0, 4.0, 20.0, 54.0, 51.0, 7.0, 11.0, 24.0, 32.0, 10.0, 29.0, 3.090185852882044, 3.0901857616367963, 3.090184346835531, 3.074601510515384, 3.071433668886772, 6.093184066250355, 3.8966068582929565, 4.956932060954222, 5.784014260753559, 2.989285782727287, 2.989411999140053, 3.9921767634534917, 5.885936270107608, 6.705683411174955, 1.9461682053197713, 1.9461680953023268, 1.9461678324368508, 1.9461677371772312, 1.9461676922045932, 1.946167634848637, 1.9461674829017377, 1.9461673506217396, 1.9461673064533875, 1.9461667896624761, 3.8864033420725606, 10.652583536906644, 2.862585191224358, 1.937038034843886, 1.9360672654669941, 3.754511354834576, 30.90662339182926, 3.84074666106865, 40.853307931319094, 10.574458373990506, 7.585554085050957, 3.8905587743597487, 9.47318805768895, 8.56906561398645, 8.17432197622937, 4.791001124199927, 2.915221780160824, 5.624518084357838, 80.94218025578628, 54.79657714085642, 63.08426302279751, 10.024436071226493, 37.56215471452647, 10.262519053771797, 40.686840381535674, 45.35552635184827, 17.910267032631538, 22.878013329350072, 25.376521583100565, 22.134695466539245, 20.94680160869686, 9.933423446381951, 114.55754245377273, 24.53446382402623, 30.127186111915996, 28.203963637920758, 29.027436337398743, 24.249494021236437, 46.46079028269748, 107.70426486896437, 49.45521154489183, 31.844050656091827, 43.72241831349205, 31.68070523428033, 36.6055184006053, 51.337475391285494, 40.807364577532965, 63.387744112902375, 29.444925486167833, 65.583255681907, 2.443691500204296, 6.445258013800272, 5.005010121871479, 3.396116390585569, 7.1500944087296014, 2.4156199406596213, 3.22341459659027, 2.4276353687925805, 6.371291761300086, 5.003553201677393, 5.122625441166358, 2.4254620780985343, 8.091965991918414, 3.233887907811086, 2.4181597934690906, 1.6239608367553957, 1.6239607938689935, 4.174692623433471, 1.623001540003512, 1.6226759461213776, 1.6252837183696984, 1.6254061499538657, 1.6229630920538136, 1.6223784131319412, 1.6257208554026985, 1.6227007362909518, 1.622615567798271, 3.1435421320343875, 1.6225277163057312, 1.6225058145360478, 6.578278208163245, 3.2668466952959117, 6.223827646474595, 28.578296584279517, 5.8554861737804, 5.762831759002819, 4.168739352690866, 8.352640704453385, 24.80885840320849, 12.817239456993018, 4.6955332247531025, 10.016785851106402, 6.456502639406822, 9.552770001234538, 7.639983552727597, 45.35552635184827, 7.105632670809603, 6.486108178228361, 27.981387990930113, 12.973833710934963, 49.117079032167865, 15.109793602713658, 7.84483117386857, 19.171806461023447, 107.70426486896437, 13.612484353554377, 16.56328848792205, 40.807364577532965, 10.003614389794675, 20.237466009709838, 51.60650398528878, 49.45521154489183, 16.47589540514308, 19.050049272956723, 13.822744411717581, 12.612034213119866, 80.94218025578628, 62.09501149133668, 18.920380189289826, 40.22243870032215, 69.53510453303196, 122.61441325835555, 114.55754245377273, 39.57479783466509, 65.583255681907, 51.337475391285494, 38.84666334676515, 36.6055184006053, 45.589360339447076, 40.686840381535674, 32.026724628541416, 51.99289340502449, 54.79657714085642, 30.578262793520338, 66.03817748423292, 54.25849236612437, 46.46079028269748, 5.26075981548389, 2.3015116840867007, 2.3015120605873243, 2.3015123782265547, 2.306237129021944, 3.0526029281591955, 2.309883191698393, 2.3115859235019367, 2.291510428935057, 2.292185099272159, 3.8588271122668516, 3.8614804527809845, 2.2829857136026983, 2.281208369813521, 2.2848370364024584, 6.409486241151294, 2.2769876926533503, 3.053826302266584, 6.1403345488239625, 2.2822031808247303, 3.8789904268047155, 3.7082750795195882, 3.898188304543021, 1.551831272856542, 1.5518313113402717, 1.551831360905548, 1.5518313913486634, 1.5518313357049873, 1.5518314429238413, 1.551831490342016, 7.297775147727357, 3.737780589581414, 2.3333641380847934, 2.3030600272940114, 2.303126352370207, 27.260752544096736, 7.796305565743891, 4.655500974883893, 9.451401382122535, 13.298710212543389, 13.84424569930864, 5.4343901164964885, 122.61441325835555, 18.42961534217172, 30.818154449844144, 51.60650398528878, 40.48586101142297, 11.738092712691707, 16.473131154733352, 14.27018921867723, 63.387744112902375, 65.583255681907, 114.55754245377273, 66.03817748423292, 42.66342338658374, 69.53510453303196, 31.68070523428033, 25.879853003752597, 36.576679458484506, 54.25849236612437, 26.511813683781803, 34.8292302476773, 26.940183241464258, 62.09501149133668, 51.99289340502449, 33.78568881151182, 24.994107437926765, 41.10217823482429, 32.026724628541416, 51.337475391285494, 46.46079028269748, 107.70426486896437, 3.5479585564182696, 2.1735335901898405, 2.1735334823145966, 2.8852341530802663, 7.110716989369482, 2.8877015900536485, 3.0227500119313224, 11.74420873026681, 2.8843535736869623, 2.173226991206444, 2.899644513591564, 5.747366792864882, 2.9081819293349587, 2.8672328150531428, 4.3686557063208555, 2.1872312459255436, 5.111996817901218, 2.168365850305523, 7.616144280542187, 2.870473156739387, 1.4878417826437451, 1.4878418767024597, 1.4878419146657382, 1.4878420897286833, 1.4878419532140976, 1.4878420256557285, 1.4878420239415757, 1.4878420349669017, 1.4878420922940683, 1.4878420311742298, 2.8698155454406007, 9.528957355784264, 5.2110345995264655, 3.7661502783298673, 2.32278780123576, 2.931198084400027, 5.907092988507998, 6.829178246222895, 2.9503152472768592, 14.34660410883542, 5.329052983440416, 6.497630490780701, 5.949688711234484, 5.985033339108104, 122.61441325835555, 14.27018921867723, 29.532332048492766, 18.071409582601156, 63.387744112902375, 107.70426486896437, 11.839928007770903, 18.963395633813874, 20.94680160869686, 44.40437395760734, 30.33054292869853, 34.8292302476773, 49.117079032167865, 24.994107437926765, 43.72241831349205, 41.10217823482429, 54.25849236612437, 63.08426302279751, 20.132759673766618, 69.53510453303196, 114.55754245377273, 40.48586101142297, 80.94218025578628, 31.68070523428033, 66.03817748423292, 38.02101765843651, 26.511813683781803, 65.583255681907, 39.37239308016705, 40.853307931319094, 5.822229973937767, 4.115981215071503, 3.2972177595377206, 2.4755104704097746, 2.4755103786493944, 2.4755104268803914, 2.4755103460548753, 2.4755101306277925, 4.923558206918432, 2.450071403110531, 4.026167184884156, 3.2749331914937745, 2.436471379705927, 7.243114914090239, 2.4585225406815847, 2.4196045576474776, 1.6388307092418126, 1.6388307320911846, 1.6388306601046063, 1.63883067215543, 1.638830724740871, 1.6388307165492917, 1.6388306465396347, 1.6388306793613305, 1.6388306216856379, 1.6388306195727933, 1.638830673697698, 1.6388306640049914, 1.6388306458467703, 1.6388305806379755, 3.9989723758154763, 4.6772129142411005, 11.32701874887974, 4.886739656738386, 6.43052850321374, 4.367578007967912, 4.885902879196221, 6.345593617034665, 5.621489422161879, 5.514047715528662, 3.135508971018353, 3.2553683871856154, 5.6277150012042325, 3.2186996175593157, 6.29840913577681, 7.800772413107113, 30.68143687961677, 69.53510453303196, 22.456780903431405, 9.513921848299256, 66.03817748423292, 11.985304567817877, 65.583255681907, 114.55754245377273, 16.76368391143179, 36.576679458484506, 15.410489487961641, 12.562035511322042, 40.48586101142297, 25.879853003752597, 22.36123046583419, 27.260752544096736, 24.994107437926765, 33.44243698105314, 40.807364577532965, 107.70426486896437, 43.72241831349205, 28.15439555383779, 122.61441325835555, 49.117079032167865, 31.243263309804913, 80.94218025578628, 37.90270878058456, 29.444925486167833, 63.08426302279751, 54.25849236612437, 62.09501149133668, 63.387744112902375, 51.60650398528878, 4.4017311559604675, 2.60194005530342, 4.21693491568191, 4.202644112588207, 4.326685152811487, 5.027642044469727, 1.7020457874970782, 1.7020455768591964, 1.7020452674728828, 2.515397949638826, 8.576737889231916, 6.604734890898309, 1.6722996502895888, 1.6712723340893236, 2.4856341986075847, 2.5492131026301292, 3.4061416624869234, 2.5479354277990818, 2.5463083516762635, 2.4296217771630637, 2.4882570691557127, 3.409840352432301, 3.344903154325609, 3.298194115911807, 1.6668794144006782, 1.6668301728861137, 3.405629287260983, 2.4172267194227564, 2.4788367481087423, 2.537290629100655, 3.404074473148265, 42.66342338658374, 4.12832943878074, 17.07381851850674, 8.46312806629261, 29.666971964525676, 9.176950460444122, 4.838108239245643, 15.290629546015188, 28.578296584279517, 5.7791897017914, 24.22984745639672, 9.113380471963326, 13.213687850101234, 7.277903029556442, 13.032809056287759, 22.58153311576827, 6.7253332755491355, 51.99289340502449, 15.606494789929124, 44.40437395760734, 19.360534467778365, 29.192970818062363, 122.61441325835555, 27.981387990930113, 26.511813683781803, 45.589360339447076, 29.789254261410317, 30.578262793520338, 29.271330703422617, 63.08426302279751, 24.80885840320849, 114.55754245377273, 49.45521154489183, 80.94218025578628, 51.60650398528878, 54.25849236612437, 43.72241831349205, 37.90270878058456, 66.03817748423292, 63.387744112902375, 3.8991696962228906, 3.8989177722140624, 3.1483513669378786, 2.350660781457223, 3.2234412217689687, 2.3514481755047414, 3.081276424051793, 3.062353951291006, 3.107241459561955, 3.1724654238355154, 3.86524502337355, 1.5764057293505827, 1.576405676222466, 1.5764058047531768, 1.5764057783661523, 1.5764058884751377, 1.5764058821091556, 1.5764060449010884, 1.576450721588289, 1.5764527748931203, 1.5764559657456803, 1.5764612627450738, 1.576462311943602, 1.576467232088775, 1.57646799313606, 1.5764698281417873, 1.5764794709583623, 1.5764794463700447, 2.3551432611085987, 1.5764924636759463, 2.3386368490696645, 2.380216260504903, 21.50682799337888, 6.414488119810683, 7.315523434571176, 3.7832652893484315, 3.177389988393792, 2.3834486601227107, 6.146959105544287, 5.492836899148854, 2.3482678073726104, 38.02101765843651, 20.400119785173196, 6.191906525354994, 2.37972304276631, 13.110947192379564, 9.201687642150164, 6.586287049658068, 7.700751940862585, 29.027436337398743, 6.733752919717713, 62.09501149133668, 15.606494789929124, 14.207673679823719, 46.46079028269748, 14.775069991189053, 69.53510453303196, 25.563959615416184, 30.127186111915996, 37.04233804030875, 34.661134261277375, 12.287098165572035, 20.83916981543277, 45.589360339447076, 114.55754245377273, 29.271330703422617, 39.37239308016705, 107.70426486896437, 30.67987973841476, 38.84666334676515, 24.35009172931428, 26.114911652995655, 42.66342338658374, 37.90270878058456, 40.22243870032215, 65.583255681907, 122.61441325835555, 3.8312851124013187, 3.8352864848541777, 2.308107186290498, 2.308107361505341, 2.308107450364331, 2.3183212535454345, 6.081206676875419, 3.8905880350067057, 3.2518880911055548, 3.0604968718043604, 3.8968508940857847, 3.814400836601475, 1.5551289484519737, 1.5551289900319425, 1.5551289699686288, 1.555129041980857, 1.5551291367134705, 1.555129091019952, 1.5551289777750483, 1.5551291392661504, 1.5551290874492836, 1.5551290926311547, 1.5551290909752062, 1.5551290395688482, 1.5551291247327235, 1.555129242088121, 1.5551292617762233, 1.5551292377821, 1.5551292752530654, 1.5551292428829475, 5.193338211027729, 3.876582931295783, 3.1088259545253756, 4.661480566691725, 8.494154196974888, 5.264525257897212, 3.0928616994503986, 6.9688552049044805, 4.70817444956669, 5.392172987633044, 2.2821991527632424, 6.500564182919424, 5.309866559447434, 3.985660238579319, 3.327474308140341, 29.789254261410317, 3.054840388789618, 4.497281217269968, 16.776651833483058, 3.8527546544430002, 14.313430028580528, 33.78568881151182, 41.10217823482429, 22.062003627203907, 22.97535892218347, 45.589360339447076, 63.387744112902375, 33.44243698105314, 30.578262793520338, 32.021042678526825, 32.026724628541416, 122.61441325835555, 114.55754245377273, 62.09501149133668, 37.90270878058456, 34.661134261277375, 40.22243870032215, 51.337475391285494, 21.89619702664606, 37.04233804030875, 39.57479783466509, 51.60650398528878, 32.686135228325696, 63.08426302279751, 28.932495763793227, 2.818570637992824, 7.072113355610022, 2.1464303316858455, 2.146430512773439, 2.1464310407749725, 2.1464313487453754, 2.146431828086118, 2.8527023755216843, 3.502220908160389, 2.82612029326396, 4.433320339317576, 2.16518114269851, 2.8267249532169503, 9.832805991181774, 2.166393497569875, 2.9297034141718186, 2.1793798173673653, 2.192008161383141, 2.181338644025748, 1.47429056429639, 1.4742905542356382, 1.474290609447816, 1.4742906415441586, 1.47429063905405, 1.4742907246986972, 1.4742906889678062, 1.474290656346154, 1.4742907216926404, 1.4742906724159426, 1.4742908215943038, 2.1524918914442113, 2.9047918652106843, 2.219574359438082, 2.2574514030861703, 2.9896843488153384, 2.2435786928663872, 2.1997578370053836, 3.837428960587987, 4.587334593654508, 10.349466528586634, 5.541236273866233, 11.013480546752552, 19.217491520533134, 11.533377242814444, 5.18670549414928, 37.56215471452647, 8.039244530508684, 80.94218025578628, 107.70426486896437, 51.99289340502449, 36.6055184006053, 38.02101765843651, 66.03817748423292, 32.78670509654564, 45.589360339447076, 28.932495763793227, 54.79657714085642, 19.484896297378732, 22.878013329350072, 39.37239308016705, 32.021042678526825, 11.838290867850734, 114.55754245377273, 49.45521154489183, 62.09501149133668, 15.816159344048666, 30.33054292869853, 49.117079032167865, 32.026724628541416, 16.92624035670542, 54.25849236612437, 46.46079028269748, 122.61441325835555, 4.908321146616421, 3.5395980478074627, 4.3428458742293214, 4.24583532667358, 2.1708744047671784, 2.930638066877398, 2.912024322970456, 2.2127761804095307, 2.2164419110032227, 2.202342197819651, 2.9065868420717607, 2.22284682778105, 2.230967161850308, 5.135826739459256, 2.201116520404595, 2.201139343526504, 4.03975321503, 1.4865125563167623, 1.4865127100166078, 1.4865127106349318, 1.4865127865303518, 1.4865128222612312, 1.4865128353810393, 1.4865128168450443, 1.4865128584549718, 2.2092667917517432, 1.4865204600129878, 1.4865209692487191, 1.4865227920496271, 1.4865231934672245, 2.213436964413407, 4.423874688147831, 2.217724649892325, 5.107303751522131, 2.941085282714393, 7.388037335486164, 5.750187916582364, 3.0500111610076814, 7.315523434571176, 2.2087168056174313, 8.51314664559979, 6.733752919717713, 6.228179863955573, 5.362242560943915, 5.437248317140634, 4.438694894065708, 107.70426486896437, 9.063281504487186, 8.327551570518649, 31.243263309804913, 15.005493042580486, 13.110947192379564, 122.61441325835555, 66.03817748423292, 54.25849236612437, 21.380723389996422, 32.78670509654564, 46.46079028269748, 14.86563010174968, 114.55754245377273, 45.589360339447076, 65.583255681907, 24.25983449606336, 13.832283258995947, 63.08426302279751, 51.60650398528878, 26.114911652995655, 44.40437395760734, 28.15439555383779], \"loglift\": [30.0, 29.0, 28.0, 27.0, 26.0, 25.0, 24.0, 23.0, 22.0, 21.0, 20.0, 19.0, 18.0, 17.0, 16.0, 15.0, 14.0, 13.0, 12.0, 11.0, 10.0, 9.0, 8.0, 7.0, 6.0, 5.0, 4.0, 3.0, 2.0, 1.0, 1.5823, 1.5823, 1.5823, 1.5565, 1.5511, 1.5199, 1.4575, 1.4275, 1.4217, 1.421, 1.4209, 1.4177, 1.4057, 1.4025, 1.398, 1.398, 1.398, 1.398, 1.398, 1.398, 1.398, 1.398, 1.398, 1.398, 1.3898, 1.3743, 1.3743, 1.3681, 1.3649, 1.3626, 1.3437, 1.3604, 1.2538, 1.3095, 1.3129, 1.3517, 1.277, 1.2796, 1.2806, 1.324, 1.3593, 1.2882, 0.9478, 0.9103, 0.847, 1.1806, 0.9157, 1.1703, 0.8918, 0.8117, 1.0241, 0.906, 0.8703, 0.8976, 0.8881, 1.1222, 0.1533, 0.7695, 0.6823, 0.7028, 0.6716, 0.7471, 0.4229, -0.005, 0.3518, 0.5764, 0.3839, 0.5409, 0.4497, 0.2405, 0.334, -0.0672, 0.486, -0.2287, 1.5452, 1.5346, 1.468, 1.4658, 1.411, 1.3949, 1.3847, 1.3718, 1.3624, 1.3568, 1.3434, 1.3387, 1.3353, 1.333, 1.3319, 1.3283, 1.3283, 1.3173, 1.3161, 1.3119, 1.3119, 1.3104, 1.3096, 1.3081, 1.3065, 1.3046, 1.303, 1.3021, 1.3014, 1.3009, 1.2997, 1.3002, 1.2731, 1.213, 1.2585, 1.2565, 1.2577, 1.2144, 1.1467, 1.1836, 1.2452, 1.1852, 1.2196, 1.183, 1.1845, 0.9227, 1.1819, 1.1806, 0.9153, 1.0538, 0.785, 1.0007, 1.144, 0.9416, 0.5129, 1.0139, 0.9473, 0.681, 1.0866, 0.8509, 0.5364, 0.5087, 0.9028, 0.841, 0.9511, 0.9865, 0.2085, 0.3132, 0.8186, 0.4915, 0.2475, -0.0129, 0.0119, 0.4619, 0.1902, 0.2958, 0.4458, 0.4594, 0.3326, 0.3654, 0.5015, 0.1952, 0.1546, 0.4365, -0.22, -0.0519, 0.031, 1.9142, 1.7811, 1.7811, 1.7811, 1.7474, 1.7397, 1.7306, 1.72, 1.7081, 1.6799, 1.6745, 1.6694, 1.6684, 1.6568, 1.6559, 1.6397, 1.6286, 1.5899, 1.585, 1.5799, 1.5784, 1.5379, 1.5316, 1.5286, 1.5286, 1.5286, 1.5286, 1.5286, 1.5286, 1.5286, 1.528, 1.5239, 1.5274, 1.5275, 1.515, 1.4152, 1.453, 1.4754, 1.3957, 1.3471, 1.3052, 1.424, 0.6501, 1.1228, 0.9846, 0.7877, 0.8421, 1.1876, 1.0431, 1.0866, 0.5726, 0.5377, 0.2784, 0.4739, 0.6326, 0.4197, 0.6712, 0.755, 0.5578, 0.3527, 0.6817, 0.4995, 0.6186, 0.0876, 0.1961, 0.4616, 0.6359, 0.2401, 0.428, 0.0481, 0.0527, -0.8328, 1.9346, 1.7666, 1.7666, 1.7396, 1.7293, 1.7252, 1.704, 1.6821, 1.658, 1.6462, 1.594, 1.5914, 1.5815, 1.5797, 1.5796, 1.5661, 1.54, 1.5349, 1.5192, 1.5002, 1.499, 1.499, 1.499, 1.499, 1.499, 1.499, 1.499, 1.499, 1.499, 1.499, 1.4938, 1.4773, 1.4626, 1.4717, 1.4861, 1.4675, 1.4209, 1.3791, 1.4459, 1.2912, 1.3716, 1.328, 1.3399, 1.3328, 0.6398, 1.125, 0.9113, 0.9803, 0.5409, 0.3418, 1.0892, 0.9101, 0.7937, 0.4324, 0.5858, 0.4431, 0.2592, 0.6009, 0.3065, 0.3208, 0.1712, 0.0235, 0.6654, -0.0832, -0.4154, 0.1918, -0.2968, 0.336, -0.2291, 0.1564, 0.4387, -0.3437, 0.0881, 0.0504, 2.1519, 2.0504, 2.0111, 1.9408, 1.9408, 1.9408, 1.9408, 1.9408, 1.8927, 1.8731, 1.8439, 1.8385, 1.8253, 1.7684, 1.7605, 1.7453, 1.7066, 1.7066, 1.7066, 1.7066, 1.7066, 1.7066, 1.7066, 1.7066, 1.7066, 1.7066, 1.7066, 1.7066, 1.7066, 1.7066, 1.7053, 1.694, 1.6621, 1.6703, 1.6552, 1.6698, 1.6503, 1.6282, 1.6218, 1.6193, 1.6538, 1.6364, 1.5737, 1.6273, 1.5442, 1.4971, 1.2698, 0.9557, 1.1901, 1.3969, 0.7542, 1.3186, 0.7062, 0.4708, 1.1727, 0.8513, 1.1764, 1.2467, 0.6783, 0.8705, 0.9131, 0.7981, 0.8217, 0.6417, 0.5024, -0.071, 0.3964, 0.6627, -0.2948, 0.2381, 0.5438, -0.1847, 0.3675, 0.5484, -0.0404, 0.0213, -0.0958, -0.1342, 0.0357, 2.1785, 2.0352, 1.9434, 1.8994, 1.824, 1.815, 1.813, 1.813, 1.813, 1.7983, 1.7413, 1.7381, 1.6936, 1.6883, 1.6872, 1.6678, 1.6578, 1.6567, 1.6424, 1.6284, 1.6214, 1.6054, 1.6038, 1.6004, 1.5946, 1.5943, 1.5926, 1.5802, 1.5783, 1.5591, 1.5581, 1.3985, 1.5256, 1.3751, 1.4485, 1.187, 1.3812, 1.4943, 1.2322, 1.0636, 1.4331, 1.0574, 1.3104, 1.1808, 1.3547, 1.1728, 0.9912, 1.3704, 0.683, 1.0854, 0.6733, 0.949, 0.7656, 0.17, 0.7061, 0.7257, 0.4656, 0.6588, 0.6315, 0.6324, 0.1299, 0.7014, -0.3482, 0.2306, -0.2813, 0.0418, -0.007, 0.1195, 0.2424, -0.2584, -0.2685, 2.3518, 2.3037, 2.2654, 2.1888, 2.1726, 2.1504, 2.1345, 2.0542, 2.0062, 1.9786, 1.9453, 1.9417, 1.9417, 1.9417, 1.9417, 1.9417, 1.9417, 1.9417, 1.941, 1.941, 1.9409, 1.9409, 1.9408, 1.9408, 1.9408, 1.9407, 1.9406, 1.9406, 1.9405, 1.9404, 1.9179, 1.8993, 1.5749, 1.7305, 1.7028, 1.7945, 1.7939, 1.8536, 1.6448, 1.6645, 1.8526, 1.1584, 1.3057, 1.5908, 1.8326, 1.3167, 1.4068, 1.4991, 1.4196, 0.9413, 1.4662, 0.5972, 1.1229, 1.1243, 0.5737, 1.0979, 0.365, 0.7658, 0.6372, 0.5001, 0.4918, 1.1299, 0.7788, 0.2508, -0.3683, 0.5373, 0.3087, -0.4175, 0.4473, 0.2628, 0.6104, 0.5435, 0.0721, 0.1636, 0.1078, -0.4022, -1.0173, 2.341, 2.3248, 2.2417, 2.2417, 2.2417, 2.164, 2.1002, 2.0955, 2.0829, 2.0709, 2.0398, 2.0022, 1.9899, 1.9899, 1.9899, 1.9899, 1.9899, 1.9899, 1.9899, 1.9899, 1.9899, 1.9899, 1.9899, 1.9899, 1.9899, 1.9899, 1.9899, 1.9899, 1.9899, 1.9899, 1.9643, 1.9661, 1.9712, 1.9429, 1.9097, 1.89, 1.9301, 1.8371, 1.8752, 1.8543, 1.9385, 1.776, 1.7722, 1.7947, 1.8287, 1.3283, 1.834, 1.7368, 1.3323, 1.7512, 1.2732, 0.8564, 0.7701, 1.0179, 0.9638, 0.6184, 0.3935, 0.6839, 0.7246, 0.67, 0.6676, -0.2076, -0.1866, 0.1959, 0.5048, 0.5191, 0.394, 0.2013, 0.8149, 0.2754, 0.2123, -0.0585, 0.314, -0.315, 0.3553, 2.4406, 2.3544, 2.3235, 2.3235, 2.3235, 2.3235, 2.3235, 2.3145, 2.242, 2.2398, 2.2052, 2.1978, 2.1953, 2.1675, 2.1618, 2.1562, 2.0887, 2.0664, 2.0661, 2.0525, 2.0525, 2.0525, 2.0525, 2.0525, 2.0525, 2.0525, 2.0525, 2.0525, 2.0525, 2.0525, 2.0513, 2.021, 2.0251, 2.009, 1.973, 2.0052, 2.0012, 1.8984, 1.8494, 1.6564, 1.7802, 1.6298, 1.486, 1.5806, 1.7242, 1.0035, 1.5519, 0.6191, 0.4619, 0.7598, 0.8167, 0.7424, 0.4512, 0.7845, 0.595, 0.8239, 0.4556, 1.0436, 0.9294, 0.6008, 0.7228, 1.3082, -0.0953, 0.394, 0.1979, 1.0971, 0.6539, 0.2758, 0.5728, 1.029, 0.0727, 0.1795, -0.7082, 2.7796, 2.7093, 2.6066, 2.5741, 2.5291, 2.4974, 2.4818, 2.4115, 2.4009, 2.3993, 2.3839, 2.3817, 2.3572, 2.3207, 2.3175, 2.3124, 2.2687, 2.2612, 2.2612, 2.2612, 2.2612, 2.2612, 2.2612, 2.2612, 2.2612, 2.257, 2.2558, 2.2555, 2.2542, 2.2539, 2.2416, 2.2067, 2.2338, 2.1808, 2.2031, 2.1184, 2.133, 2.171, 1.9833, 2.1919, 1.8807, 1.9023, 1.8592, 1.9038, 1.8919, 1.9558, 0.3707, 1.6042, 1.6241, 0.8979, 1.2244, 1.3026, -0.0806, 0.2442, 0.3209, 0.9291, 0.6158, 0.3629, 1.1488, -0.4167, 0.275, -0.0991, 0.7233, 1.1811, -0.1718, -0.0428, 0.5772, 0.0275, 0.4746], \"logprob\": [30.0, 29.0, 28.0, 27.0, 26.0, 25.0, 24.0, 23.0, 22.0, 21.0, 20.0, 19.0, 18.0, 17.0, 16.0, 15.0, 14.0, 13.0, 12.0, 11.0, 10.0, 9.0, 8.0, 7.0, 6.0, 5.0, 4.0, 3.0, 2.0, 1.0, -7.1343, -7.1343, -7.1343, -7.1652, -7.1716, -6.5178, -7.0272, -6.8165, -6.6681, -7.3288, -7.3289, -7.0428, -6.6666, -6.5394, -7.781, -7.781, -7.781, -7.781, -7.781, -7.781, -7.781, -7.781, -7.781, -7.781, -7.0976, -6.1047, -7.4188, -7.8156, -7.8193, -7.1593, -5.0701, -7.1387, -4.8811, -6.177, -6.5058, -7.1346, -6.3194, -6.4171, -6.4632, -6.9541, -7.4156, -6.8295, -4.5033, -4.9309, -4.8534, -6.3592, -5.3032, -6.346, -5.2471, -5.2186, -5.9354, -5.8087, -5.7407, -5.8501, -5.9148, -6.4268, -4.9504, -5.8752, -5.7571, -5.8026, -5.805, -5.9094, -5.5833, -5.1705, -5.592, -5.8076, -5.6831, -5.8482, -5.7949, -5.6659, -5.802, -5.7628, -5.9764, -5.8902, -7.4061, -6.4469, -6.7664, -7.1564, -6.4668, -7.568, -7.2897, -7.5861, -6.6307, -6.8779, -6.8678, -7.6201, -6.4186, -7.3382, -7.63, -8.0317, -8.0317, -7.0985, -8.0445, -8.0488, -8.0472, -8.0487, -8.051, -8.0529, -8.0524, -8.0561, -8.0578, -7.3974, -8.0595, -8.0599, -6.6613, -7.3608, -6.7434, -5.2792, -6.8189, -6.8369, -7.1595, -6.5078, -5.487, -6.1105, -7.053, -6.3554, -6.7602, -6.4051, -6.627, -5.1076, -6.7021, -6.7946, -5.598, -6.2281, -5.1657, -6.1288, -6.641, -5.9498, -4.6525, -6.22, -6.0903, -5.455, -6.4553, -5.9864, -5.3648, -5.4351, -6.1402, -6.0568, -6.2675, -6.3237, -5.2426, -5.403, -6.0861, -5.6589, -5.3555, -5.0487, -5.0919, -5.7048, -5.4713, -5.6106, -5.7394, -5.7852, -5.6926, -5.7735, -5.8768, -5.6985, -5.6866, -5.9881, -5.8746, -5.9029, -5.9752, -6.2704, -7.2302, -7.2302, -7.2302, -7.2619, -6.9892, -7.2771, -7.2869, -7.3075, -7.3355, -6.82, -6.8244, -7.3509, -7.3633, -7.3627, -6.3473, -7.3934, -7.1386, -6.445, -7.4398, -6.9108, -6.9964, -6.9528, -7.8768, -7.8768, -7.8768, -7.8768, -7.8768, -7.8768, -7.8768, -6.3293, -7.0025, -7.4701, -7.4832, -7.4956, -5.1242, -6.3382, -6.8314, -6.203, -5.9101, -5.9117, -6.7281, -4.3857, -5.8081, -5.4321, -5.1135, -5.3018, -6.1944, -6.0001, -6.1001, -5.1229, -5.1239, -4.8254, -5.1807, -5.4589, -5.1833, -5.7179, -5.8363, -5.6876, -5.4984, -5.8855, -5.7949, -5.9327, -5.6286, -5.6977, -5.8632, -5.9904, -5.8887, -5.9503, -5.8584, -5.9536, -5.9982, -6.6439, -7.3019, -7.3019, -7.0456, -6.1539, -7.0592, -7.0347, -5.6993, -7.1276, -7.4225, -7.1863, -6.5047, -7.1959, -7.2118, -6.7908, -7.4962, -6.6732, -7.5359, -6.2954, -7.2902, -7.9485, -7.9485, -7.9485, -7.9485, -7.9485, -7.9485, -7.9485, -7.9485, -7.9485, -7.9485, -7.2968, -6.1132, -6.7315, -7.0471, -7.516, -7.3019, -6.6478, -6.5446, -7.317, -5.8902, -6.8001, -6.6455, -6.7216, -6.7227, -4.396, -6.0617, -5.5481, -5.9702, -5.1547, -4.8236, -6.2842, -5.9922, -6.0092, -5.6191, -5.8469, -5.8513, -5.6915, -6.0253, -5.7605, -5.808, -5.6798, -5.6769, -6.1771, -5.6862, -5.5192, -5.9521, -5.7479, -6.0531, -5.8837, -6.0503, -6.1285, -6.0052, -6.0837, -6.0844, -5.9313, -6.3796, -6.6407, -6.9976, -6.9976, -6.9976, -6.9976, -6.9976, -6.3581, -7.0756, -6.6082, -6.8201, -7.129, -6.0964, -7.1848, -7.2159, -7.6443, -7.6443, -7.6443, -7.6443, -7.6443, -7.6443, -7.6443, -7.6443, -7.6443, -7.6443, -7.6443, -7.6443, -7.6443, -7.6443, -6.7535, -6.6082, -5.7556, -6.588, -6.3286, -6.7008, -6.6082, -6.3689, -6.4964, -6.5183, -7.0482, -7.0282, -6.5434, -7.0486, -6.4604, -6.2935, -5.1514, -4.6473, -5.5432, -6.1952, -4.9004, -6.0426, -4.9553, -4.633, -5.8529, -5.3941, -5.9334, -6.0675, -5.4656, -5.7209, -5.8244, -5.7413, -5.8045, -5.6933, -5.6336, -5.2364, -5.6706, -5.8445, -5.3306, -5.7125, -5.8592, -5.6358, -5.8423, -5.9139, -5.7408, -5.8298, -5.812, -5.8297, -5.8655, -6.1843, -6.8534, -6.4624, -6.5097, -6.556, -6.4149, -7.5, -7.5, -7.5, -7.1242, -5.9545, -6.219, -7.6371, -7.6429, -7.2471, -7.2413, -6.9615, -7.2529, -7.2678, -7.3287, -7.3119, -7.0128, -7.0336, -7.0511, -7.7393, -7.7397, -7.0268, -7.3821, -7.3588, -7.3547, -7.0618, -4.693, -6.9014, -5.6322, -6.2606, -5.2678, -6.247, -6.774, -5.8854, -5.4286, -6.6575, -5.5999, -6.3247, -6.0828, -6.5053, -6.1046, -5.7365, -6.5686, -5.2108, -6.0118, -5.3783, -5.9327, -5.7053, -4.8658, -5.8072, -5.8416, -5.5596, -5.7919, -5.793, -5.8358, -5.5705, -5.9323, -5.452, -5.7132, -5.7324, -5.8594, -5.8581, -5.9475, -5.9674, -5.913, -5.964, -6.1323, -6.1804, -6.4326, -6.8014, -6.5018, -6.8395, -6.585, -6.6715, -6.7049, -6.7117, -6.5475, -7.448, -7.448, -7.448, -7.448, -7.448, -7.448, -7.448, -7.4487, -7.4487, -7.4487, -7.4488, -7.4488, -7.4489, -7.4489, -7.4489, -7.4491, -7.4491, -7.0478, -7.4493, -7.0774, -7.0783, -5.2016, -6.2558, -6.1521, -6.7198, -6.8949, -7.1227, -6.3841, -6.4769, -7.1385, -5.0483, -5.5237, -6.4308, -7.1453, -5.9547, -6.2187, -6.4608, -6.3839, -5.5353, -6.4716, -5.119, -5.9742, -6.0668, -5.4325, -6.054, -5.2381, -5.8379, -5.8023, -5.7327, -5.8075, -6.2064, -6.0292, -5.7743, -5.472, -5.9309, -5.8631, -5.583, -5.974, -5.9225, -6.0419, -6.0388, -6.0194, -6.0462, -6.0426, -6.0637, -6.0531, -6.1606, -6.1759, -6.7667, -6.7667, -6.7667, -6.84, -5.9394, -6.3908, -6.5827, -6.6554, -6.4449, -6.5038, -7.4133, -7.4133, -7.4133, -7.4133, -7.4133, -7.4133, -7.4133, -7.4133, -7.4133, -7.4134, -7.4134, -7.4134, -7.4134, -7.4134, -7.4134, -7.4134, -7.4134, -7.4134, -6.2331, -6.5238, -6.7394, -6.3626, -5.7958, -6.2939, -6.7857, -6.0663, -6.4203, -6.3056, -7.0812, -6.197, -6.403, -6.6674, -6.814, -5.1224, -6.8942, -6.6045, -5.6926, -6.7449, -5.9105, -5.4684, -5.3587, -5.733, -5.7467, -5.4067, -5.3021, -5.6511, -5.7, -5.7085, -5.7106, -5.2434, -5.2903, -5.5203, -5.705, -5.7802, -5.7564, -5.7051, -5.9436, -5.9574, -5.9543, -5.9597, -6.0439, -6.0153, -6.1246, -6.368, -5.5343, -6.7575, -6.7575, -6.7575, -6.7575, -6.7575, -6.4821, -6.3495, -6.5662, -6.1505, -6.8745, -6.6104, -5.3916, -6.91, -6.6138, -6.9771, -6.9936, -6.9988, -7.4041, -7.4041, -7.4041, -7.4041, -7.4041, -7.4041, -7.4041, -7.4041, -7.4041, -7.4041, -7.4041, -7.0269, -6.7575, -7.0224, -7.0216, -6.7767, -7.0316, -7.0553, -6.6016, -6.4721, -5.8515, -6.3524, -5.8159, -5.403, -5.8191, -6.4746, -5.2153, -6.2086, -4.832, -4.7035, -5.1339, -5.428, -5.4644, -5.2034, -5.5704, -5.4301, -5.656, -5.3856, -5.8316, -5.7853, -5.571, -5.6557, -6.0653, -5.1991, -5.5498, -5.5183, -5.9867, -5.7788, -5.6748, -5.8055, -5.987, -5.7784, -5.8267, -5.744, -5.4743, -5.8716, -5.7698, -5.8248, -6.5406, -6.2722, -6.2942, -6.6391, -6.648, -6.6561, -6.3939, -6.6644, -6.6852, -5.8879, -6.7384, -6.7435, -6.18, -7.1873, -7.1873, -7.1873, -7.1873, -7.1873, -7.1873, -7.1873, -7.1873, -6.7951, -7.1926, -7.193, -7.1942, -7.1945, -6.8087, -6.1512, -6.8146, -6.0334, -6.5629, -5.7266, -5.9626, -6.5587, -5.8716, -6.8605, -5.8225, -6.0354, -6.1566, -6.2617, -6.2597, -6.3987, -4.7948, -6.0364, -6.1012, -5.5051, -5.9121, -5.9688, -5.1164, -5.4104, -5.5302, -5.8532, -5.739, -5.6433, -5.997, -5.5204, -5.7502, -5.7606, -5.9327, -6.0368, -5.8722, -5.944, -6.0052, -6.024, -6.0326]}, \"token.table\": {\"Topic\": [4, 7, 7, 5, 6, 1, 2, 3, 4, 1, 2, 3, 4, 5, 6, 7, 8, 9, 10, 1, 8, 1, 2, 4, 5, 6, 8, 9, 10, 1, 2, 3, 4, 5, 6, 8, 9, 2, 4, 1, 2, 4, 5, 6, 7, 10, 10, 1, 9, 1, 9, 4, 1, 9, 2, 6, 2, 6, 3, 2, 1, 2, 3, 4, 5, 6, 7, 8, 9, 1, 2, 3, 4, 5, 6, 7, 8, 9, 10, 1, 2, 3, 4, 5, 6, 7, 8, 9, 1, 5, 9, 2, 7, 6, 2, 3, 2, 10, 4, 6, 8, 1, 2, 4, 7, 4, 5, 8, 2, 8, 10, 3, 1, 4, 1, 2, 3, 4, 6, 8, 10, 1, 2, 3, 4, 5, 6, 7, 8, 9, 10, 1, 2, 3, 4, 5, 6, 7, 8, 9, 10, 1, 3, 6, 8, 1, 2, 3, 4, 5, 6, 7, 8, 9, 10, 1, 2, 3, 4, 5, 6, 7, 8, 9, 10, 1, 2, 3, 4, 5, 6, 7, 8, 10, 3, 8, 1, 2, 7, 10, 5, 10, 5, 3, 5, 6, 5, 5, 2, 4, 7, 3, 4, 3, 10, 1, 2, 3, 4, 5, 6, 7, 8, 10, 1, 2, 4, 5, 6, 9, 7, 1, 2, 3, 6, 7, 8, 3, 4, 6, 9, 2, 6, 8, 9, 1, 2, 3, 4, 5, 6, 8, 9, 10, 1, 2, 3, 6, 7, 8, 9, 10, 3, 8, 6, 1, 8, 1, 6, 8, 1, 2, 3, 4, 6, 7, 8, 3, 4, 5, 6, 8, 9, 5, 2, 8, 5, 9, 3, 4, 5, 7, 5, 1, 2, 7, 10, 8, 3, 4, 5, 2, 6, 9, 10, 2, 6, 1, 3, 4, 5, 6, 8, 9, 10, 9, 4, 2, 4, 2, 6, 7, 8, 1, 2, 5, 6, 9, 2, 5, 8, 1, 2, 3, 4, 5, 6, 7, 8, 9, 10, 1, 2, 3, 4, 5, 6, 8, 9, 6, 8, 1, 2, 3, 4, 5, 7, 9, 1, 10, 6, 1, 2, 3, 4, 5, 6, 7, 9, 10, 1, 2, 3, 4, 5, 6, 7, 8, 9, 10, 1, 2, 3, 4, 5, 6, 7, 8, 9, 7, 10, 7, 8, 6, 4, 1, 2, 4, 9, 2, 1, 4, 6, 8, 1, 2, 6, 9, 10, 1, 2, 3, 4, 5, 6, 7, 8, 9, 10, 1, 1, 3, 4, 7, 8, 9, 5, 7, 2, 3, 5, 1, 2, 3, 4, 5, 6, 7, 8, 9, 10, 2, 3, 4, 6, 7, 8, 9, 10, 10, 1, 3, 5, 6, 1, 8, 2, 1, 4, 9, 9, 2, 4, 7, 7, 10, 7, 7, 2, 1, 2, 3, 4, 5, 6, 7, 8, 3, 5, 9, 10, 4, 8, 7, 1, 2, 3, 4, 6, 8, 9, 9, 1, 3, 4, 1, 2, 3, 4, 5, 6, 7, 8, 9, 10, 1, 2, 3, 4, 5, 6, 7, 8, 9, 10, 1, 2, 3, 4, 8, 10, 4, 7, 10, 3, 5, 9, 5, 9, 10, 1, 3, 1, 2, 3, 4, 5, 6, 8, 1, 2, 3, 4, 5, 8, 9, 10, 1, 9, 8, 6, 1, 2, 3, 6, 7, 5, 8, 1, 4, 6, 8, 2, 6, 3, 8, 5, 2, 5, 7, 9, 10, 1, 2, 4, 5, 6, 7, 8, 9, 10, 8, 10, 6, 7, 8, 4, 8, 10, 8, 4, 5, 3, 6, 1, 2, 6, 7, 9, 1, 2, 3, 4, 5, 7, 8, 9, 10, 3, 5, 2, 4, 10, 10, 3, 2, 1, 2, 3, 4, 5, 6, 7, 8, 9, 10, 1, 4, 2, 10, 1, 2, 3, 4, 5, 6, 7, 8, 9, 10, 2, 3, 4, 5, 6, 7, 8, 9, 5, 1, 2, 3, 4, 6, 8, 5, 3, 4, 5, 8, 1, 2, 3, 4, 5, 6, 7, 9, 10, 1, 2, 3, 4, 5, 6, 7, 8, 9, 6, 10, 5, 7, 7, 2, 4, 1, 2, 3, 4, 6, 7, 8, 2, 5, 10, 4, 8, 6, 7, 4, 5, 5, 1, 2, 3, 4, 5, 7, 4, 2, 5, 3, 5, 3, 6, 1, 2, 3, 4, 5, 6, 7, 8, 9, 10, 4, 2, 3, 10, 5, 2, 1, 2, 3, 4, 5, 6, 7, 8, 9, 1, 2, 3, 4, 5, 6, 7, 8, 9, 10, 5, 9, 7, 2, 8, 4, 9, 1, 2, 3, 4, 5, 7, 8, 9, 3, 2, 4, 7, 10, 1, 8, 2, 3, 4, 5, 7, 9, 1, 6, 8, 9, 10, 1, 4, 5, 9, 1, 2, 3, 7, 9, 10, 1, 3, 4, 9, 10, 1, 1, 3, 6, 2, 3, 5, 2, 4, 5, 6, 7, 8, 9, 5, 2, 3, 4, 5, 6, 7, 8, 9, 2, 3, 4, 9, 10, 1, 2, 3, 4, 5, 6, 7, 8, 9, 10, 1, 2, 3, 4, 5, 6, 7, 8, 9, 5, 6, 6, 2, 5, 7, 2, 1, 2, 3, 4, 5, 6, 7, 8, 3, 6, 1, 1, 2, 3, 6, 7, 1, 2, 3, 4, 5, 6, 8, 9, 10, 10, 1, 5, 7, 10, 1, 2, 3, 6, 7, 10, 3, 1, 2, 3, 4, 5, 7, 8, 9, 10, 1, 2, 3, 4, 5, 6, 7, 8, 9, 10, 1, 2, 3, 4, 5, 7, 7, 1, 6, 7, 10, 8, 2, 3, 4, 5, 6, 8, 10, 10, 1, 2, 4, 5, 6, 8, 9, 10, 1, 2, 4, 5, 6, 9, 10, 10, 4, 6, 3, 5, 3, 6, 9, 1, 2, 9, 2, 4, 7, 1, 2, 3, 4, 5, 7, 8, 9, 10, 1, 2, 4, 5, 6, 8, 9, 10, 7, 1, 4, 8, 9, 9, 4, 1, 9, 8, 6, 7, 8, 9, 7, 10, 10, 4, 7, 10, 7, 8, 1, 2, 6, 7, 10, 1, 2, 3, 4, 5, 6, 7, 8, 9, 10, 2, 6, 7, 8, 1, 5, 2, 3, 5, 6, 1, 2, 3, 4, 5, 6, 7, 8, 8, 1, 7, 1, 2, 3, 4, 5, 6, 7, 8, 9, 10, 3, 4, 1, 1, 2, 3, 4, 5, 6, 7, 8, 9, 10, 1, 2, 3, 4, 5, 6, 7, 8, 9, 10, 4, 10, 1, 2, 3, 4, 5, 6, 7, 8, 4, 7, 7, 1, 2, 3, 4, 5, 6, 7, 8, 10, 3, 6, 1, 2, 3, 4, 5, 6, 7, 8, 9, 10, 1, 10, 4, 9, 4, 1, 2, 3, 4, 6, 7, 8, 9, 10, 1, 2, 4, 5, 6, 7, 8, 10, 7, 2, 1, 2, 3, 4, 5, 6, 7, 8, 9, 10, 7, 3, 1, 5, 4, 1, 3, 7, 4, 4, 1, 2, 3, 4, 5, 6, 7, 8, 9, 1, 2, 3, 4, 6, 7, 8, 7, 6, 1, 2, 3, 4, 5, 6, 7, 8, 9, 3, 5, 1, 2, 3, 4, 5, 6, 7, 8, 9, 10, 8, 1, 9, 1, 2, 4, 6, 8, 1, 2, 3, 4, 5, 7, 8, 1, 2, 3, 4, 5, 6, 7, 8, 9, 10, 7, 7, 7, 1, 2, 3, 4, 5, 6, 8, 9, 3, 7, 2, 1, 2, 4, 10, 1, 2, 3, 4, 5, 6, 7, 8, 9, 7, 5, 7, 5, 7, 1, 2, 3, 4, 6, 7, 9, 10, 1, 1, 2, 4, 5, 7, 8, 1, 4, 8, 1, 2, 3, 4, 5, 6, 7, 9, 10, 1, 2, 4, 6, 10, 1, 2, 4, 5, 6, 9, 1, 2, 3, 4, 5, 6, 7, 8, 9, 10, 9, 9, 7, 8, 9, 3, 2, 5, 8, 5, 2, 1, 2, 3, 4, 5, 6, 7, 8, 9, 10, 1, 2, 3, 4, 5, 6, 7, 8, 9, 10, 1, 2, 3, 4, 5, 6, 7, 8, 9, 10, 1, 2, 3, 4, 9, 1, 2, 3, 8, 1, 2, 3, 4, 5, 6, 7, 9, 1, 2, 3, 4, 5, 10, 9, 8, 9, 1, 2, 3, 4, 5, 6, 7, 8, 9, 10, 1, 2, 3, 4, 5, 6, 7, 8, 10, 1, 2, 6, 9, 3, 1, 2, 3, 4, 5, 6, 7, 8, 10, 5, 5, 9, 5, 3, 9, 10, 1, 2, 3, 4, 5, 6, 9, 1, 2, 6, 9, 10, 2, 3, 4, 6, 7, 8, 10, 2, 6, 7, 3, 6, 8, 1, 2, 3, 4, 5, 6, 7, 9, 10, 9, 1, 2, 5, 1, 2, 3, 4, 5, 6, 7, 8, 4, 6, 8, 9, 1, 2, 3, 4, 6, 8, 4, 7, 2, 4, 10, 4, 9, 1, 3, 6, 8, 9, 1, 2, 3, 4, 5, 6, 9, 10, 1, 2, 3, 4, 5, 6, 7, 9, 10, 1, 5, 9, 2, 8, 9, 5, 3, 4, 6, 10, 3, 6, 5, 6, 2, 3, 4, 5, 6, 7, 8, 9, 10, 2, 3, 10, 1, 2, 4, 9, 4, 1, 4, 5, 7, 3, 8, 4, 10, 1, 2, 5, 6, 9, 2, 5, 8, 5, 9, 1, 2, 4, 6, 10, 3, 1, 2, 6, 7, 8, 9, 1, 4, 1, 2, 3, 4, 5, 6, 7, 8, 9, 10, 1, 2, 3, 5, 1, 2, 3, 4, 5, 6, 7, 8, 10, 6, 9, 3, 2, 3, 4, 6, 8, 3, 1, 2, 3, 4, 5, 7, 2, 7, 3, 5, 2, 6, 8, 9, 5, 3, 1, 8, 3, 5, 9, 4, 8, 1, 2, 3, 4, 6, 7, 10, 7, 1, 5, 8, 3, 1, 4, 7, 10, 1, 2, 4, 5, 6, 7, 10, 1, 3, 6, 7, 10, 1, 2, 3, 4, 5, 6, 7, 8, 9, 1, 2, 3, 4, 5, 6, 7, 8, 9, 10, 1, 4, 8, 3, 8, 6, 1, 2, 3, 4, 5, 6, 7, 8, 9, 10, 1, 2, 3, 4, 5, 6, 7, 8, 9, 10, 1, 3, 4, 5, 7, 8, 10, 9, 10, 3, 5, 7, 2, 4, 5, 6, 7, 8, 9, 9, 1, 4, 6, 8, 10, 2, 6, 1, 2, 3, 4, 5, 6, 7, 8, 9, 10, 2, 3, 6, 8, 10, 8, 1, 3, 4, 6, 1, 2, 3, 4, 5, 6, 7, 8, 9, 1, 2, 3, 4, 5, 6, 7, 8, 10, 2, 10, 1, 4, 9, 1, 2, 3, 4, 5, 7, 8, 5, 5, 9, 1, 2, 3, 4, 5, 6, 8, 9, 1, 2, 4, 5, 4, 7, 2, 1, 1, 2, 3, 4, 5, 6, 7, 8, 9, 8, 1, 2, 3, 4, 5, 6, 7, 8, 9, 10, 1, 2, 3, 4, 5, 6, 7, 8, 9, 10, 8, 1, 6, 1, 2, 4, 5, 6, 9, 10, 7, 3, 8, 3, 6, 8, 4, 7, 7, 2, 6, 1, 2, 3, 4, 6, 7, 8, 10, 10, 4, 5, 1, 2, 3, 4, 5, 6, 7, 8, 10, 1, 2, 3, 4, 6, 7, 8, 10, 1, 2, 3, 4, 5, 6, 7, 8, 9, 10, 10, 3, 4, 9, 2, 3, 4, 7, 3, 6, 7, 10, 3, 6, 1, 5, 10, 3, 4, 2, 3, 6, 2, 6, 2, 1, 2, 3, 4, 5, 6, 7, 8, 9, 1, 2, 1, 2, 3, 4, 5, 7, 8, 9, 10, 10, 3, 1, 2, 3, 4, 5, 6, 7, 3, 4, 5, 7, 1, 2, 3, 4, 5, 6, 7, 8, 9, 10, 1, 2, 3, 4, 5, 6, 7, 8, 9, 10, 2, 3, 4, 5, 7, 8, 9, 1, 2, 3, 4, 5, 7, 9, 6, 1, 2, 3, 4, 9, 4, 10, 2, 6, 9, 2, 3, 4, 5, 7, 8, 9, 10, 2, 4, 6, 2, 3, 8, 1, 2, 3, 5, 6, 7, 8, 9, 1, 2, 6, 1, 2, 3, 4, 5, 6, 7, 8, 9, 10, 3, 2, 6, 6, 8, 2, 3, 8, 3, 5, 1, 2, 3, 4, 5, 6, 7, 8, 9, 10, 1, 2, 3, 4, 5, 6, 7, 8, 9, 10, 1, 2, 3, 4, 5, 6, 7, 8, 9, 10, 8, 1, 4, 9, 2], \"Freq\": [0.26432193449807584, 0.5286438689961517, 0.42460262036428564, 0.2932688620705312, 0.5865377241410624, 0.25557814829288894, 0.17038543219525928, 0.34077086439051857, 0.08519271609762964, 0.12871118312961521, 0.2316801296333074, 0.10296894650369218, 0.10296894650369218, 0.07722670987776913, 0.07722670987776913, 0.10296894650369218, 0.05148447325184609, 0.025742236625923044, 0.05148447325184609, 0.30751365729194785, 0.6150273145838957, 0.3932475426934614, 0.22120174276507204, 0.09831188567336535, 0.09831188567336535, 0.07373391425502401, 0.024577971418341338, 0.07373391425502401, 0.024577971418341338, 0.4076984323342457, 0.18531746924283893, 0.024708995899045193, 0.08648148564665817, 0.08648148564665817, 0.07412698769713558, 0.012354497949522597, 0.12354497949522596, 0.3838009442849877, 0.5757014164274815, 0.2338555112844962, 0.18708440902759696, 0.14031330677069773, 0.09354220451379848, 0.04677110225689924, 0.14031330677069773, 0.14031330677069773, 0.6727153543679731, 0.6261739294625994, 0.6782922924970316, 0.5326924893767222, 0.2663462446883611, 0.46008030633318076, 0.596508924554064, 0.149127231138516, 0.4797613452875211, 0.23988067264376056, 0.47907718732956733, 0.23953859366478367, 0.8689938055171847, 0.6184506256908995, 0.10066857664210054, 0.18695592804961528, 0.17257470281502948, 0.10066857664210054, 0.25886205422254427, 0.014381225234585791, 0.11504980187668633, 0.014381225234585791, 0.014381225234585791, 0.24586456887470767, 0.24586456887470767, 0.054636570861046146, 0.054636570861046146, 0.08195485629156922, 0.054636570861046146, 0.054636570861046146, 0.027318285430523073, 0.13659142715261538, 0.027318285430523073, 0.06912642505258204, 0.20737927515774612, 0.06912642505258204, 0.13825285010516408, 0.06912642505258204, 0.13825285010516408, 0.06912642505258204, 0.10368963757887306, 0.13825285010516408, 0.2034007384864131, 0.2034007384864131, 0.6102022154592394, 0.4202169672810117, 0.4202169672810117, 0.5875282600185141, 0.25652942389534683, 0.5130588477906937, 0.32786765267757706, 0.32786765267757706, 0.25955454984573156, 0.25955454984573156, 0.5191090996914631, 0.5140649752371703, 0.42593671565494307, 0.21296835782747153, 0.21296835782747153, 0.5078640214122877, 0.16928800713742923, 0.16928800713742923, 0.1957980274233679, 0.1957980274233679, 0.3915960548467358, 0.6443999374753748, 0.5138305747029165, 0.460145214488092, 0.0672692642797765, 0.3363463213988825, 0.134538528559553, 0.134538528559553, 0.0672692642797765, 0.0672692642797765, 0.134538528559553, 0.06518930377343587, 0.16297325943358967, 0.13037860754687175, 0.13037860754687175, 0.13037860754687175, 0.09778395566015381, 0.13037860754687175, 0.06518930377343587, 0.03259465188671794, 0.03259465188671794, 0.22871561971479876, 0.13722937182887926, 0.06861468591443963, 0.1601009338003591, 0.1601009338003591, 0.11435780985739938, 0.04574312394295975, 0.04574312394295975, 0.022871561971479874, 0.022871561971479874, 0.5138302009387168, 0.5520398675268602, 0.18401328917562007, 0.18401328917562007, 0.06524518437439768, 0.1468016648423948, 0.22020249726359217, 0.21204684921679248, 0.0734008324211974, 0.11417907265519595, 0.02446694414039913, 0.05708953632759797, 0.03262259218719884, 0.04893388828079826, 0.11135781717262527, 0.22271563434525055, 0.22271563434525055, 0.03711927239087509, 0.03711927239087509, 0.07423854478175018, 0.07423854478175018, 0.07423854478175018, 0.07423854478175018, 0.07423854478175018, 0.1629649882311005, 0.09777899293866031, 0.09777899293866031, 0.09777899293866031, 0.35852297410842116, 0.032592997646220104, 0.032592997646220104, 0.032592997646220104, 0.032592997646220104, 0.2621643720304372, 0.5243287440608744, 0.12357936266646662, 0.6178968133323332, 0.12357936266646662, 0.12357936266646662, 0.5001284860319039, 0.2500642430159519, 0.8208592215195207, 0.4380228899557745, 0.29363148941095163, 0.5872629788219033, 0.6101911763192154, 0.6101911529731092, 0.1956182751323699, 0.5868548253971098, 0.1956182751323699, 0.33894682980844165, 0.33894682980844165, 0.4383641640249399, 0.4511735656304082, 0.07627214001603384, 0.1525442800320677, 0.07627214001603384, 0.07627214001603384, 0.07627214001603384, 0.07627214001603384, 0.3050885600641354, 0.07627214001603384, 0.22881642004810154, 0.4466711738816866, 0.055833896735210824, 0.11166779347042165, 0.055833896735210824, 0.16750169020563246, 0.16750169020563246, 0.6343286640498015, 0.10896866059268284, 0.10896866059268284, 0.10896866059268284, 0.3269059817780485, 0.10896866059268284, 0.10896866059268284, 0.19280061324631262, 0.19280061324631262, 0.19280061324631262, 0.38560122649262524, 0.5098898767030388, 0.1274724691757597, 0.1274724691757597, 0.1274724691757597, 0.12140982677876176, 0.06070491338938088, 0.3035245669469044, 0.12140982677876176, 0.12140982677876176, 0.06070491338938088, 0.12140982677876176, 0.06070491338938088, 0.06070491338938088, 0.06664226208111523, 0.26656904832446093, 0.13328452416223047, 0.06664226208111523, 0.06664226208111523, 0.06664226208111523, 0.06664226208111523, 0.1999267862433457, 0.21239654790022353, 0.42479309580044705, 0.9087333729102297, 0.6690561376086605, 0.6430334931360083, 0.30052824076014584, 0.30052824076014584, 0.6010564815202917, 0.07567909968391895, 0.07567909968391895, 0.1513581993678379, 0.07567909968391895, 0.3027163987356758, 0.1513581993678379, 0.07567909968391895, 0.18159563559493663, 0.18159563559493663, 0.09079781779746832, 0.09079781779746832, 0.09079781779746832, 0.36319127118987327, 0.8079142051875272, 0.25661746553292325, 0.5132349310658465, 0.6101911502522919, 0.678292342240726, 0.21735143353906097, 0.10867571676953049, 0.10867571676953049, 0.3260271503085915, 0.4132906746432465, 0.17352580151898042, 0.5205774045569412, 0.17352580151898042, 0.17352580151898042, 0.6430334142358685, 0.15877025109717102, 0.15877025109717102, 0.47631075329151307, 0.2935873193453354, 0.5871746386906708, 0.5710662041163302, 0.2855331020581651, 0.5993993872040836, 0.19979979573469453, 0.06539953093432996, 0.13079906186865992, 0.13079906186865992, 0.06539953093432996, 0.3269976546716498, 0.13079906186865992, 0.06539953093432996, 0.06539953093432996, 0.6782922848818431, 0.6721143372025158, 0.8184339143598106, 0.845556663725113, 0.3924746243917981, 0.3924746243917981, 0.6343543297328228, 0.6430334554599051, 0.48720981406240055, 0.0974419628124801, 0.0974419628124801, 0.0974419628124801, 0.0974419628124801, 0.2508994595978026, 0.2508994595978026, 0.5017989191956052, 0.09731844325006976, 0.1216480540625872, 0.14597766487510463, 0.14597766487510463, 0.1216480540625872, 0.09731844325006976, 0.07298883243755232, 0.14597766487510463, 0.02432961081251744, 0.04865922162503488, 0.14951063532937975, 0.20931488946113166, 0.08970638119762786, 0.1196085082635038, 0.17941276239525572, 0.0598042541317519, 0.14951063532937975, 0.0598042541317519, 0.7138363181917025, 0.8665107855720943, 0.07928935040151844, 0.3964467520075922, 0.07928935040151844, 0.07928935040151844, 0.07928935040151844, 0.15857870080303688, 0.07928935040151844, 0.24753987354462043, 0.49507974708924085, 0.5999234205910133, 0.04472025819544698, 0.08944051639089395, 0.08944051639089395, 0.04472025819544698, 0.26832154917268186, 0.13416077458634093, 0.08944051639089395, 0.08944051639089395, 0.08944051639089395, 0.27169367447569576, 0.13584683723784788, 0.1018851279283859, 0.03396170930946197, 0.16980854654730984, 0.13584683723784788, 0.03396170930946197, 0.03396170930946197, 0.03396170930946197, 0.03396170930946197, 0.049670289428975785, 0.24835144714487892, 0.049670289428975785, 0.19868115771590314, 0.14901086828692736, 0.049670289428975785, 0.049670289428975785, 0.049670289428975785, 0.049670289428975785, 0.6352531108829895, 0.4517860757173243, 0.16444104815622043, 0.6577641926248817, 0.4023118126392794, 0.430517156783751, 0.14643050216958145, 0.14643050216958145, 0.4392915065087443, 0.14643050216958145, 0.6161423605290208, 0.4987811747686918, 0.19951246990747673, 0.09975623495373837, 0.09975623495373837, 0.5033511384054759, 0.10067022768109515, 0.10067022768109515, 0.10067022768109515, 0.2013404553621903, 0.17688024659644452, 0.22741745990971438, 0.12634303328317467, 0.12634303328317467, 0.025268606656634933, 0.10107442662653973, 0.050537213313269866, 0.10107442662653973, 0.025268606656634933, 0.050537213313269866, 0.5138304265974513, 0.25337991903591045, 0.08445997301197015, 0.3378398920478806, 0.08445997301197015, 0.08445997301197015, 0.08445997301197015, 0.6143697923321891, 0.30718489616609457, 0.13806214755127955, 0.13806214755127955, 0.5522485902051182, 0.05813220753832105, 0.2519062326660579, 0.2519062326660579, 0.07750961005109473, 0.09688701256386842, 0.09688701256386842, 0.019377402512773683, 0.07750961005109473, 0.019377402512773683, 0.05813220753832105, 0.17723959584513013, 0.059079865281710046, 0.11815973056342009, 0.17723959584513013, 0.059079865281710046, 0.11815973056342009, 0.17723959584513013, 0.059079865281710046, 0.672711897952123, 0.5138303515553916, 0.20463541548015304, 0.6139062464404591, 0.20463541548015304, 0.5138302993878345, 0.6430333580063757, 0.6152771904975997, 0.2179915111017329, 0.2179915111017329, 0.4359830222034658, 0.4505368318694962, 0.16708344688168789, 0.5012503406450637, 0.16708344688168789, 0.340010541645048, 0.340010541645048, 0.6343363521014412, 0.7693945721075149, 0.615230845551054, 0.058569206350417444, 0.11713841270083489, 0.17570761905125235, 0.11713841270083489, 0.058569206350417444, 0.3514152381025047, 0.058569206350417444, 0.058569206350417444, 0.8658446484168126, 0.6101911863598678, 0.7076839597971067, 0.45431017483785163, 0.1925543762731575, 0.5776631288194725, 0.6343544369879427, 0.06037448425348625, 0.36224690552091754, 0.18112345276045877, 0.1207489685069725, 0.06037448425348625, 0.18112345276045877, 0.06037448425348625, 0.46457782441589196, 0.15601874508749652, 0.6240749803499861, 0.15601874508749652, 0.1947894773512274, 0.1947894773512274, 0.11687368641073645, 0.07791579094049096, 0.07791579094049096, 0.07791579094049096, 0.058436843205368225, 0.0973947386756137, 0.03895789547024548, 0.03895789547024548, 0.22242347482458957, 0.2426437907177341, 0.08088126357257802, 0.06066094767943352, 0.06066094767943352, 0.12132189535886705, 0.020220315893144505, 0.04044063178628901, 0.10110157946572254, 0.04044063178628901, 0.07519526209818428, 0.2255857862945528, 0.4511715725891056, 0.07519526209818428, 0.07519526209818428, 0.07519526209818428, 0.16150114603719218, 0.32300229207438436, 0.16150114603719218, 0.14140044845388972, 0.14140044845388972, 0.7070022422694486, 0.34133147920800183, 0.6826629584160037, 0.4527515693531643, 0.5138304382588552, 0.436393388122058, 0.0661822408891412, 0.3970934453348472, 0.1985467226674236, 0.0661822408891412, 0.0661822408891412, 0.0661822408891412, 0.0661822408891412, 0.052159925671741686, 0.3651194797021918, 0.20863970268696674, 0.052159925671741686, 0.10431985134348337, 0.15647977701522506, 0.678292307846186, 0.682445240374225, 0.514614625391257, 0.4545954937300458, 0.643033415291381, 0.5999411435350379, 0.15603984045946886, 0.4681195213784066, 0.07801992022973443, 0.15603984045946886, 0.15603984045946886, 0.6101911855731855, 0.4381738547178144, 0.15383280156321705, 0.15383280156321705, 0.15383280156321705, 0.46149840468965114, 0.5123400365000179, 0.34156002433334526, 0.3766572996908096, 0.3766572996908096, 0.8079141752403646, 0.08828448351415519, 0.5297069010849311, 0.26485345054246556, 0.08828448351415519, 0.08828448351415519, 0.0890599595997483, 0.13358993939962244, 0.1781199191994966, 0.3562398383989932, 0.04452997979987415, 0.04452997979987415, 0.0890599595997483, 0.04452997979987415, 0.04452997979987415, 0.6430333713911576, 0.44823609109989104, 0.587528332728499, 0.32734934488548445, 0.32734934488548445, 0.7031639717169165, 0.1406327943433833, 0.1406327943433833, 0.6430334335190653, 0.6721144759243827, 0.6101911640986063, 0.30281306260393753, 0.6056261252078751, 0.15183061297820533, 0.15183061297820533, 0.15183061297820533, 0.30366122595641065, 0.15183061297820533, 0.09597311302290311, 0.14395966953435466, 0.047986556511451554, 0.14395966953435466, 0.09597311302290311, 0.19194622604580622, 0.047986556511451554, 0.14395966953435466, 0.09597311302290311, 0.517936067385665, 0.2589680336928325, 0.2260461858648794, 0.2260461858648794, 0.4520923717297588, 0.8149426006400218, 0.8672135119289244, 0.6362249704303062, 0.2266339941053527, 0.09065359764214108, 0.1359803964632116, 0.09065359764214108, 0.04532679882107054, 0.04532679882107054, 0.04532679882107054, 0.18130719528428216, 0.04532679882107054, 0.04532679882107054, 0.3308245789604914, 0.6616491579209828, 0.6162565762345836, 0.4498735529151358, 0.0407190337741818, 0.3257522701934544, 0.1017975844354545, 0.1425166182096363, 0.1221571013225454, 0.0407190337741818, 0.0610785506612727, 0.0407190337741818, 0.0814380675483636, 0.0203595168870909, 0.20814371093782752, 0.05203592773445688, 0.05203592773445688, 0.05203592773445688, 0.15610778320337063, 0.10407185546891376, 0.05203592773445688, 0.2601796386722844, 0.40674835534465614, 0.20959336748841548, 0.06986445582947183, 0.06986445582947183, 0.13972891165894366, 0.20959336748841548, 0.2794578233178873, 0.6106994808916247, 0.15758966935977634, 0.15758966935977634, 0.472769008079329, 0.15758966935977634, 0.22054842534367117, 0.29406456712489487, 0.02450538059374124, 0.04901076118748248, 0.17153766415618868, 0.07351614178122372, 0.04901076118748248, 0.07351614178122372, 0.04901076118748248, 0.4014849311380941, 0.16424383546558394, 0.07299726020692619, 0.09124657525865774, 0.05474794515519465, 0.07299726020692619, 0.018249315051731548, 0.018249315051731548, 0.1094958903103893, 0.2302637553715763, 0.690791266114729, 0.3147237209321956, 0.3147237209321956, 0.8508245918665299, 0.6163306109851742, 0.6721144162850542, 0.10972876673770283, 0.10972876673770283, 0.10972876673770283, 0.10972876673770283, 0.3291863002131085, 0.10972876673770283, 0.10972876673770283, 0.6206113070160101, 0.15515282675400252, 0.15515282675400252, 0.34115742819362727, 0.34115742819362727, 0.41338471590537207, 0.20669235795268603, 0.15550821359398953, 0.4665246407819686, 0.6101911667816027, 0.05965275921947336, 0.05965275921947336, 0.17895827765842007, 0.11930551843894673, 0.35791655531684013, 0.17895827765842007, 0.672114361940477, 0.20310514428261067, 0.6093154328478321, 0.6443998828351338, 0.6101911765771919, 0.1989003972746973, 0.5967011918240919, 0.15783961777820602, 0.25068645176538606, 0.04642341699359001, 0.15783961777820602, 0.09284683398718002, 0.037138733594872006, 0.04642341699359001, 0.018569366797436003, 0.10213151738589801, 0.07427746718974401, 0.4611767888980081, 0.22529144801931428, 0.22529144801931428, 0.45058289603862856, 0.80791418944673, 0.6157784127396064, 0.13188026371315728, 0.13188026371315728, 0.1648503296414466, 0.1978203955697359, 0.09891019778486795, 0.03297006592828932, 0.09891019778486795, 0.03297006592828932, 0.13188026371315728, 0.16427042840189923, 0.12320282130142443, 0.04106760710047481, 0.16427042840189923, 0.20533803550237403, 0.04106760710047481, 0.12320282130142443, 0.04106760710047481, 0.04106760710047481, 0.04106760710047481, 0.6101911712685252, 0.6782923468694818, 0.6343297086327814, 0.41229257263175195, 0.7822101456689653, 0.34845445087533344, 0.34845445087533344, 0.036682773095952116, 0.036682773095952116, 0.47687605024737756, 0.07336554619190423, 0.2200966385757127, 0.07336554619190423, 0.036682773095952116, 0.036682773095952116, 0.6443999534557933, 0.20988655162633935, 0.5247163790658483, 0.10494327581316967, 0.10494327581316967, 0.5207320806323424, 0.6430334810111495, 0.15920986676063917, 0.07960493338031958, 0.15920986676063917, 0.31841973352127834, 0.07960493338031958, 0.07960493338031958, 0.2898700132720457, 0.09662333775734856, 0.09662333775734856, 0.2898700132720457, 0.09662333775734856, 0.3468194888441797, 0.17340974442208984, 0.08670487221104492, 0.3468194888441797, 0.12008331518957126, 0.12008331518957126, 0.12008331518957126, 0.12008331518957126, 0.24016663037914251, 0.24016663037914251, 0.07007615559092738, 0.3503807779546369, 0.3503807779546369, 0.07007615559092738, 0.07007615559092738, 0.647210578892511, 0.5333790299907117, 0.35558601999380784, 0.40188773595620036, 0.21479965430034945, 0.4295993086006989, 0.21479965430034945, 0.35192249714325063, 0.07038449942865013, 0.07038449942865013, 0.14076899885730026, 0.2111534982859504, 0.07038449942865013, 0.14076899885730026, 0.807914215825162, 0.18268012455004376, 0.18268012455004376, 0.09134006227502188, 0.04567003113751094, 0.1370100934125328, 0.09134006227502188, 0.18268012455004376, 0.04567003113751094, 0.15390225735656574, 0.15390225735656574, 0.4617067720696972, 0.15390225735656574, 0.15390225735656574, 0.1220006703394369, 0.09150050275457768, 0.09150050275457768, 0.09150050275457768, 0.1220006703394369, 0.06100033516971845, 0.09150050275457768, 0.09150050275457768, 0.1525008379242961, 0.09150050275457768, 0.09882660205780752, 0.3458931072023263, 0.09882660205780752, 0.09882660205780752, 0.14823990308671128, 0.04941330102890376, 0.09882660205780752, 0.04941330102890376, 0.04941330102890376, 0.29376560586089295, 0.5875312117217859, 0.6933714596844642, 0.4625269757402398, 0.30835131716015984, 0.15417565858007992, 0.4135376010720121, 0.23702835212965367, 0.20316715896827459, 0.10158357948413729, 0.27088954529103276, 0.033861193161379095, 0.10158357948413729, 0.033861193161379095, 0.033861193161379095, 0.30319622340468083, 0.6063924468093617, 0.6860541498457335, 0.09996386916114677, 0.3998554766445871, 0.09996386916114677, 0.19992773832229355, 0.19992773832229355, 0.0542604922258872, 0.1085209844517744, 0.3798234455812104, 0.1627814766776616, 0.0542604922258872, 0.0542604922258872, 0.1085209844517744, 0.1085209844517744, 0.6727153568190466, 0.6727154051638264, 0.18205528734249432, 0.18205528734249432, 0.36411057468498864, 0.18205528734249432, 0.11746537932796827, 0.11746537932796827, 0.11746537932796827, 0.11746537932796827, 0.11746537932796827, 0.35239613798390484, 0.8689940676072004, 0.136699122884436, 0.16403894746132322, 0.1913787720382104, 0.05467964915377441, 0.24605842119198482, 0.05467964915377441, 0.05467964915377441, 0.027339824576887203, 0.027339824576887203, 0.12349990527777746, 0.07409994316666647, 0.2716997916111104, 0.14819988633333295, 0.19759984844444392, 0.04939996211111098, 0.04939996211111098, 0.02469998105555549, 0.02469998105555549, 0.04939996211111098, 0.12978173091531967, 0.19467259637297948, 0.12978173091531967, 0.12978173091531967, 0.32445432728829915, 0.06489086545765983, 0.6204549307408914, 0.1558970850552474, 0.1558970850552474, 0.4676912551657422, 0.1558970850552474, 0.6430333717198118, 0.22067062564588882, 0.11033531282294441, 0.11033531282294441, 0.11033531282294441, 0.11033531282294441, 0.11033531282294441, 0.22067062564588882, 0.45431488552736254, 0.2642653028098414, 0.31711836337180965, 0.05285306056196828, 0.05285306056196828, 0.10570612112393656, 0.05285306056196828, 0.05285306056196828, 0.6727106609534703, 0.09983242278155974, 0.4991621139077987, 0.09983242278155974, 0.09983242278155974, 0.4429774207466421, 0.4429774207466421, 0.6727154747200864, 0.4526388590701139, 0.6721143360436347, 0.5875284395254383, 0.5182922017009227, 0.25914610085046136, 0.64439986314468, 0.41158669608553033, 0.41158669608553033, 0.26059114325513816, 0.26059114325513816, 0.5211822865102763, 0.4820184893293616, 0.3213456595529077, 0.16067282977645386, 0.3819198820634505, 0.047739985257931314, 0.09547997051586263, 0.23869992628965658, 0.047739985257931314, 0.047739985257931314, 0.047739985257931314, 0.047739985257931314, 0.09547997051586263, 0.39933811342827535, 0.053245081790436716, 0.10649016358087343, 0.10649016358087343, 0.10649016358087343, 0.026622540895218358, 0.1863577862665285, 0.6880922912918843, 0.42759952251578137, 0.6564712236670595, 0.22235656426373987, 0.44471312852747974, 0.46588958020228155, 0.6782923214674359, 0.4600803291675542, 0.769900610736556, 0.6782922684427601, 0.6430334342037868, 0.1626820648762807, 0.3253641297525614, 0.1626820648762807, 0.1626820648762807, 0.6343342419507351, 0.6727153484306572, 0.6727153705378383, 0.13669561842619105, 0.4100868552785731, 0.4100868552785731, 0.42012989180566107, 0.6430334759430212, 0.11815962043429928, 0.11815962043429928, 0.35447886130289785, 0.23631924086859857, 0.4540620440320372, 0.13463378438030021, 0.17310057991752884, 0.13463378438030021, 0.057700193305842945, 0.057700193305842945, 0.19233397768614316, 0.019233397768614317, 0.038466795537228635, 0.13463378438030021, 0.038466795537228635, 0.5995739185893494, 0.1998579728631165, 0.634331688378336, 0.6430334544625588, 0.6795860193584581, 0.16989650483961452, 0.1486915159484566, 0.1486915159484566, 0.2973830318969132, 0.4460745478453697, 0.1131571018030805, 0.07543806786872033, 0.226314203606161, 0.18859516967180082, 0.07543806786872033, 0.18859516967180082, 0.037719033934360165, 0.1131571018030805, 0.8665108189315794, 0.5162521241254792, 0.6343543952411849, 0.1435575797812368, 0.05742303191249472, 0.20098061169373152, 0.17226909573748414, 0.11484606382498944, 0.08613454786874207, 0.05742303191249472, 0.02871151595624736, 0.08613454786874207, 0.05742303191249472, 0.3438574423123107, 0.6877148846246214, 0.6986691631505921, 0.2049787234066006, 0.17081560283883382, 0.1024893617033003, 0.06832624113553352, 0.03416312056776676, 0.17081560283883382, 0.13665248227106705, 0.06832624113553352, 0.03416312056776676, 0.03416312056776676, 0.18897295285148408, 0.1619768167298435, 0.08098840836492174, 0.10798454448656232, 0.05399227224328116, 0.10798454448656232, 0.1349806806082029, 0.10798454448656232, 0.05399227224328116, 0.02699613612164058, 0.6897397217573943, 0.6727153379886429, 0.13483007314609005, 0.2022451097191351, 0.03370751828652251, 0.13483007314609005, 0.06741503657304503, 0.3033676645787026, 0.06741503657304503, 0.03370751828652251, 0.25871581075789324, 0.5174316215157865, 0.6343321105516487, 0.11592028747477807, 0.11592028747477807, 0.23184057494955615, 0.07728019164985205, 0.23184057494955615, 0.03864009582492602, 0.07728019164985205, 0.03864009582492602, 0.03864009582492602, 0.40341502955487557, 0.40341502955487557, 0.1914614939708765, 0.2680460915592271, 0.0382922987941753, 0.11487689638252589, 0.0765845975883506, 0.0382922987941753, 0.11487689638252589, 0.0382922987941753, 0.0382922987941753, 0.0765845975883506, 0.6472102825755849, 0.6868074501382835, 0.6975366595624468, 0.3487683297812234, 0.6721143661466851, 0.32990379069328285, 0.12371392150998108, 0.16495189534664143, 0.08247594767332071, 0.08247594767332071, 0.041237973836660356, 0.08247594767332071, 0.041237973836660356, 0.041237973836660356, 0.19204139914914237, 0.16003449929095198, 0.12802759943276157, 0.16003449929095198, 0.06401379971638078, 0.03200689985819039, 0.06401379971638078, 0.12802759943276157, 0.6343195562560923, 0.6163222914162971, 0.10553335444059282, 0.1583000316608892, 0.10553335444059282, 0.05276667722029641, 0.1583000316608892, 0.13191669305074102, 0.0791500158304446, 0.13191669305074102, 0.05276667722029641, 0.026383338610148205, 0.8505396890453252, 0.4391767259992127, 0.6052130557993752, 0.20173768526645844, 0.67211436365377, 0.6571175880243506, 0.18774788229267161, 0.09387394114633581, 0.6933962667563929, 0.6931846407906986, 0.06244784701516589, 0.24979138806066356, 0.18734354104549766, 0.06244784701516589, 0.031223923507582945, 0.09367177052274883, 0.09367177052274883, 0.15611961753791473, 0.12489569403033178, 0.06407588721621849, 0.06407588721621849, 0.19222766164865546, 0.06407588721621849, 0.25630354886487394, 0.25630354886487394, 0.06407588721621849, 0.6343294024071526, 0.7686572163426625, 0.06540593929436071, 0.2289207875302625, 0.13081187858872143, 0.09810890894154106, 0.06540593929436071, 0.1635148482359018, 0.06540593929436071, 0.1635148482359018, 0.032702969647180356, 0.8689939254498709, 0.6101912008565967, 0.171274106741695, 0.13701928539335598, 0.06850964269667799, 0.13701928539335598, 0.034254821348338994, 0.20552892809003398, 0.034254821348338994, 0.10276446404501699, 0.06850964269667799, 0.06850964269667799, 0.6430333635789408, 0.6472102634651283, 0.4588461322946334, 0.23123465791545159, 0.38539109652575265, 0.07707821930515053, 0.07707821930515053, 0.07707821930515053, 0.07223217658221266, 0.07223217658221266, 0.433393059493276, 0.14446435316442532, 0.07223217658221266, 0.07223217658221266, 0.07223217658221266, 0.23675877945831075, 0.15066467783710685, 0.12914115243180585, 0.04304705081060196, 0.08609410162120391, 0.04304705081060196, 0.12914115243180585, 0.02152352540530098, 0.08609410162120391, 0.08609410162120391, 0.6343544263696577, 0.6343544780911317, 0.6343544567120806, 0.40660148288939385, 0.04517794254326598, 0.04517794254326598, 0.09035588508653196, 0.18071177017306392, 0.13553382762979793, 0.04517794254326598, 0.13553382762979793, 0.6443999042517895, 0.6343543926794787, 0.6151117497673335, 0.6915612271465713, 0.1353539451129744, 0.1353539451129744, 0.40606183533892326, 0.562989906194785, 0.04895564401693782, 0.09791128803387564, 0.12238911004234455, 0.04895564401693782, 0.02447782200846891, 0.02447782200846891, 0.02447782200846891, 0.04895564401693782, 0.6436577350129562, 0.4195601175435075, 0.4195601175435075, 0.31521226125484403, 0.6304245225096881, 0.13536314895243662, 0.13536314895243662, 0.13536314895243662, 0.2030447234286549, 0.06768157447621831, 0.2030447234286549, 0.06768157447621831, 0.06768157447621831, 0.5138303245384307, 0.2766801326230752, 0.1660080795738451, 0.2766801326230752, 0.05533602652461504, 0.11067205304923008, 0.05533602652461504, 0.6690278892890403, 0.5310462547147529, 0.26552312735737643, 0.3191040846435971, 0.1772800470242206, 0.1772800470242206, 0.10636802821453237, 0.07091201880968824, 0.03545600940484412, 0.03545600940484412, 0.07091201880968824, 0.03545600940484412, 0.16056055249581233, 0.16056055249581233, 0.16056055249581233, 0.16056055249581233, 0.32112110499162466, 0.3079308151517937, 0.1026436050505979, 0.1026436050505979, 0.2052872101011958, 0.1026436050505979, 0.2052872101011958, 0.18331398832577178, 0.14839703816848193, 0.14839703816848193, 0.07856313785390219, 0.16585551324712686, 0.06983390031457973, 0.052375425235934796, 0.061104662775257265, 0.061104662775257265, 0.034916950157289864, 0.4658897616526534, 0.6782922238629934, 0.18995065101072875, 0.5698519530321862, 0.18995065101072875, 0.4342049222116688, 0.20467046208755377, 0.6140113862626613, 0.20467046208755377, 0.8163027401817208, 0.6161569569240964, 0.12366118987690579, 0.16488158650254103, 0.08244079325127052, 0.08244079325127052, 0.04122039662563526, 0.16488158650254103, 0.08244079325127052, 0.04122039662563526, 0.04122039662563526, 0.12366118987690579, 0.07571377936942286, 0.12114204699107659, 0.1817130704866149, 0.09085653524330745, 0.21199858223438403, 0.07571377936942286, 0.04542826762165372, 0.030285511747769146, 0.10599929111719202, 0.06057102349553829, 0.14458928887964193, 0.07229464443982096, 0.07229464443982096, 0.2168839333194629, 0.07229464443982096, 0.07229464443982096, 0.07229464443982096, 0.07229464443982096, 0.07229464443982096, 0.14458928887964193, 0.5278054198387554, 0.21112216793550218, 0.10556108396775109, 0.10556108396775109, 0.44571648107533235, 0.5674049476385397, 0.1891349825461799, 0.09456749127308994, 0.09456749127308994, 0.31005149388285674, 0.10335049796095225, 0.06890033197396817, 0.03445016598698408, 0.03445016598698408, 0.06890033197396817, 0.2067009959219045, 0.10335049796095225, 0.12826588075176146, 0.12826588075176146, 0.5130635230070458, 0.12826588075176146, 0.12826588075176146, 0.12826588075176146, 0.678292299890427, 0.3442587443102296, 0.3442587443102296, 0.2031880557453293, 0.17778954877716313, 0.07619552090449848, 0.1269925348408308, 0.10159402787266465, 0.025398506968166163, 0.10159402787266465, 0.050797013936332326, 0.1269925348408308, 0.050797013936332326, 0.19558785396393685, 0.07823514158557474, 0.15647028317114947, 0.11735271237836212, 0.15647028317114947, 0.07823514158557474, 0.15647028317114947, 0.03911757079278737, 0.03911757079278737, 0.1804651436207898, 0.1804651436207898, 0.1804651436207898, 0.3609302872415796, 0.43260343032589943, 0.20997321018367987, 0.3674531178214398, 0.05249330254591997, 0.1574799076377599, 0.05249330254591997, 0.05249330254591997, 0.05249330254591997, 0.05249330254591997, 0.05249330254591997, 0.8587774825765486, 0.6414076192395796, 0.21380253974652652, 0.9098580132664967, 0.4341924180455293, 0.6782923067005358, 0.4519209890513755, 0.3933908014842334, 0.13113026716141113, 0.04371008905380371, 0.04371008905380371, 0.08742017810760742, 0.08742017810760742, 0.17484035621521485, 0.33788661257367875, 0.08447165314341969, 0.08447165314341969, 0.25341495943025905, 0.08447165314341969, 0.4898822418863546, 0.06998317741233637, 0.06998317741233637, 0.27993270964934547, 0.034991588706168184, 0.034991588706168184, 0.034991588706168184, 0.608061847405031, 0.15201546185125775, 0.15201546185125775, 0.25795914023326233, 0.25795914023326233, 0.5159182804665247, 0.05273317180689344, 0.10546634361378689, 0.2636658590344672, 0.2636658590344672, 0.05273317180689344, 0.10546634361378689, 0.10546634361378689, 0.05273317180689344, 0.05273317180689344, 0.45843409171647914, 0.19521239869771007, 0.5856371960931303, 0.19521239869771007, 0.09299372276635692, 0.04649686138317846, 0.09299372276635692, 0.09299372276635692, 0.18598744553271385, 0.04649686138317846, 0.3719748910654277, 0.04649686138317846, 0.1177280252760352, 0.1177280252760352, 0.4709121011041408, 0.6782922698257878, 0.2980332458244699, 0.11921329832978797, 0.059606649164893985, 0.17881994749468194, 0.059606649164893985, 0.2980332458244699, 0.6925923394885285, 0.7694442856373456, 0.1739073599866545, 0.347814719973309, 0.5217220799599634, 0.3483746216724475, 0.3483746216724475, 0.11659444568726984, 0.11659444568726984, 0.5829722284363492, 0.2331888913745397, 0.465889800958311, 0.2840845850319483, 0.0946948616773161, 0.22095467724707088, 0.15782476946219348, 0.1262598155697548, 0.0315649538924387, 0.0315649538924387, 0.0315649538924387, 0.30998781013287485, 0.044283972876124976, 0.08856794575224995, 0.08856794575224995, 0.08856794575224995, 0.26570383725674984, 0.044283972876124976, 0.08856794575224995, 0.044283972876124976, 0.5138303916726628, 0.3344834716067098, 0.3344834716067098, 0.32166483895450815, 0.6433296779090163, 0.4658896470482221, 0.6101911444655286, 0.16807602019778828, 0.5042280605933648, 0.16807602019778828, 0.16807602019778828, 0.6551785630390048, 0.5983465289305469, 0.7288663002189828, 0.5979789565983775, 0.3099087997795602, 0.05165146662992671, 0.05165146662992671, 0.10330293325985342, 0.2582573331496335, 0.10330293325985342, 0.05165146662992671, 0.10330293325985342, 0.05165146662992671, 0.16285757592662872, 0.4885727277798862, 0.16285757592662872, 0.5165109796734219, 0.61577839647781, 0.4571990281607569, 0.4658894761599102, 0.6721143669210327, 0.17788879866208587, 0.17788879866208587, 0.5336663959862576, 0.42584580722028587, 0.5350768864215156, 0.6430334341852848, 0.23552491395926434, 0.706574741877793, 0.5834941900595308, 0.11669883801190617, 0.11669883801190617, 0.11669883801190617, 0.7095795198605528, 0.6122111585094873, 0.30610557925474363, 0.6430334202453238, 0.8079142861325304, 0.4562026810014281, 0.18391655883134003, 0.18391655883134003, 0.18391655883134003, 0.18391655883134003, 0.36783311766268006, 0.43766797546950165, 0.2893781351125315, 0.3617226688906644, 0.07234453377813288, 0.07234453377813288, 0.07234453377813288, 0.07234453377813288, 0.5138303364121789, 0.6721144334345021, 0.12198235535609474, 0.18297353303414213, 0.19822132745365395, 0.07623897209755921, 0.2134691218731658, 0.04574338325853553, 0.04574338325853553, 0.030495588839023684, 0.030495588839023684, 0.04574338325853553, 0.3140450361112326, 0.5234083935187209, 0.1046816787037442, 0.1046816787037442, 0.3046742392016025, 0.0870497826290293, 0.04352489131451465, 0.0870497826290293, 0.0870497826290293, 0.13057467394354394, 0.04352489131451465, 0.1740995652580586, 0.04352489131451465, 0.2255645708999072, 0.6766937126997216, 0.6443999273578956, 0.13740221543745215, 0.13740221543745215, 0.13740221543745215, 0.4122066463123565, 0.13740221543745215, 0.4285657706305506, 0.19607728004162012, 0.04901932001040503, 0.1470579600312151, 0.1470579600312151, 0.19607728004162012, 0.2941159200624302, 0.6204600556551432, 0.3102300278275716, 0.17769201172874205, 0.5330760351862261, 0.2989623178497129, 0.5979246356994258, 0.2989623178497129, 0.46159665874262346, 0.6101911698162821, 0.43817308134616895, 0.6504908012176015, 0.643033484239042, 0.18135497761178235, 0.544064932835347, 0.18135497761178235, 0.5219781698506482, 0.34798544656709873, 0.0767294292182961, 0.0767294292182961, 0.2301882876548883, 0.1534588584365922, 0.3069177168731844, 0.0767294292182961, 0.6727108426108916, 0.6343247939594586, 0.22895984872523586, 0.45791969745047173, 0.6430334356617275, 0.5155980757723815, 0.1864891393171088, 0.1864891393171088, 0.1864891393171088, 0.3729782786342176, 0.5138302299856865, 0.12985744868545746, 0.12985744868545746, 0.12985744868545746, 0.12985744868545746, 0.2597148973709149, 0.12985744868545746, 0.10580441561729827, 0.42321766246919307, 0.10580441561729827, 0.10580441561729827, 0.10580441561729827, 0.11839332394007837, 0.14799165492509797, 0.17758998591011754, 0.059196661970039186, 0.08879499295505877, 0.08879499295505877, 0.059196661970039186, 0.17758998591011754, 0.08879499295505877, 0.04127141129549284, 0.12381423388647853, 0.2063570564774642, 0.08254282259098568, 0.04127141129549284, 0.2888998790684499, 0.12381423388647853, 0.04127141129549284, 0.04127141129549284, 0.04127141129549284, 0.08514835038846262, 0.5960384527192384, 0.17029670077692524, 0.654916096084305, 0.3274580480421525, 0.7114171928154782, 0.0648968127943857, 0.1297936255887714, 0.32448406397192847, 0.09734521919157854, 0.09734521919157854, 0.09734521919157854, 0.09734521919157854, 0.0648968127943857, 0.03244840639719285, 0.03244840639719285, 0.14425379049369094, 0.20195530669116732, 0.11540303239495277, 0.08655227429621457, 0.057701516197476384, 0.057701516197476384, 0.11540303239495277, 0.11540303239495277, 0.057701516197476384, 0.028850758098738192, 0.0697029061660763, 0.0697029061660763, 0.4182174369964578, 0.2788116246643052, 0.0697029061660763, 0.0697029061660763, 0.0697029061660763, 0.7075325803184009, 0.35376629015920047, 0.4362649422673289, 0.610191166207365, 0.6343355258883652, 0.4407718564931412, 0.0734619760821902, 0.1469239521643804, 0.1469239521643804, 0.0734619760821902, 0.1469239521643804, 0.0734619760821902, 0.4618551216244565, 0.18765060191884297, 0.37530120383768595, 0.18765060191884297, 0.6430333735003168, 0.46064387594419487, 0.3941211891656459, 0.3941211891656459, 0.06580482765414439, 0.19741448296243314, 0.04386988510276292, 0.06580482765414439, 0.04386988510276292, 0.15354459785967023, 0.10967471275690731, 0.13160965530828878, 0.10967471275690731, 0.06580482765414439, 0.14349559154224192, 0.14349559154224192, 0.14349559154224192, 0.4304867746267258, 0.14349559154224192, 0.43134660413033304, 0.17303463834904498, 0.17303463834904498, 0.17303463834904498, 0.34606927669808996, 0.3527684779993296, 0.3748165078742877, 0.0220480298749581, 0.0661440896248743, 0.0220480298749581, 0.0440960597499162, 0.0220480298749581, 0.0440960597499162, 0.0440960597499162, 0.39406504028745515, 0.19703252014372757, 0.039406504028745515, 0.15762601611498206, 0.039406504028745515, 0.039406504028745515, 0.039406504028745515, 0.039406504028745515, 0.039406504028745515, 0.4119234761756517, 0.6727116675020033, 0.6116715263406332, 0.12233430526812664, 0.12233430526812664, 0.08343551007332194, 0.16687102014664387, 0.08343551007332194, 0.08343551007332194, 0.4171775503666097, 0.08343551007332194, 0.08343551007332194, 0.7451255405546002, 0.6378549761732745, 0.31892748808663723, 0.06713830371345837, 0.13427660742691674, 0.13427660742691674, 0.06713830371345837, 0.06713830371345837, 0.16784575928364592, 0.2685532148538335, 0.033569151856729186, 0.2563848673035935, 0.12819243365179675, 0.12819243365179675, 0.512769734607187, 0.32654618502816335, 0.6530923700563267, 0.6163790099188617, 0.6511617100052469, 0.0703178451671884, 0.09375712688958454, 0.2109535355015652, 0.09375712688958454, 0.023439281722396135, 0.37502850755833816, 0.09375712688958454, 0.023439281722396135, 0.023439281722396135, 0.7830270815109613, 0.12901206234713525, 0.14744235696815458, 0.16587265158917391, 0.12901206234713525, 0.11058176772611594, 0.09215147310509661, 0.036860589242038645, 0.036860589242038645, 0.07372117848407729, 0.07372117848407729, 0.09662611948847297, 0.20935659222502476, 0.12883482598463064, 0.06441741299231532, 0.09662611948847297, 0.06441741299231532, 0.14493917923270946, 0.08052176624039414, 0.08052176624039414, 0.03220870649615766, 0.6466503175216014, 0.7514697313665053, 0.2504899104555018, 0.6147549591270783, 0.06471104832916615, 0.03235552416458307, 0.06471104832916615, 0.09706657249374921, 0.06471104832916615, 0.03235552416458307, 0.6490816547286775, 0.3267443300507069, 0.6534886601014138, 0.3709079817333388, 0.1854539908666694, 0.5563619726000082, 0.4578067337982871, 0.22890336689914356, 0.634324784065908, 0.3927254133780336, 0.3927254133780336, 0.3260719311976861, 0.28531293979797534, 0.1222769741991323, 0.08151798279942153, 0.040758991399710766, 0.040758991399710766, 0.040758991399710766, 0.040758991399710766, 0.8475538633145911, 0.672114398871304, 0.6101911472022946, 0.33192612024409307, 0.23234828417086514, 0.033192612024409304, 0.13277044809763722, 0.033192612024409304, 0.033192612024409304, 0.13277044809763722, 0.033192612024409304, 0.033192612024409304, 0.08061636563419393, 0.48369819380516355, 0.040308182817096964, 0.040308182817096964, 0.2015409140854848, 0.12092454845129089, 0.040308182817096964, 0.040308182817096964, 0.3804435345678341, 0.0792590697016321, 0.04755544182097926, 0.11096269758228494, 0.09511088364195852, 0.11096269758228494, 0.03170362788065284, 0.04755544182097926, 0.04755544182097926, 0.04755544182097926, 0.6727154048840064, 0.5393343150419959, 0.26966715752099796, 0.7010896114370335, 0.5594331726748071, 0.13985829316870177, 0.13985829316870177, 0.13985829316870177, 0.14850559738712854, 0.14850559738712854, 0.2970111947742571, 0.2970111947742571, 0.2422287307321433, 0.4844574614642866, 0.6591476303429998, 0.13182952606859996, 0.13182952606859996, 0.5481122559997842, 0.41108419199983814, 0.46464783917065333, 0.15488261305688444, 0.15488261305688444, 0.478890466085452, 0.35916784956408904, 0.6162889225553907, 0.06245892802676258, 0.21860624809366905, 0.15614732006690646, 0.06245892802676258, 0.03122946401338129, 0.09368839204014388, 0.09368839204014388, 0.15614732006690646, 0.12491785605352516, 0.2944539836067211, 0.5889079672134422, 0.2826273609848778, 0.15701520054715434, 0.15701520054715434, 0.09420912032829261, 0.09420912032829261, 0.09420912032829261, 0.03140304010943087, 0.06280608021886173, 0.03140304010943087, 0.4509126054258143, 0.6443999168933311, 0.060694728596531515, 0.3641683715791891, 0.12138945719306303, 0.060694728596531515, 0.060694728596531515, 0.24277891438612606, 0.060694728596531515, 0.2102182498332722, 0.1051091249166361, 0.4204364996665444, 0.1051091249166361, 0.1065552977070063, 0.1065552977070063, 0.0710368651380042, 0.1065552977070063, 0.2131105954140126, 0.1065552977070063, 0.1065552977070063, 0.0710368651380042, 0.0355184325690021, 0.0710368651380042, 0.2141580811283502, 0.09178203476929295, 0.12237604635905726, 0.06118802317952863, 0.09178203476929295, 0.09178203476929295, 0.09178203476929295, 0.09178203476929295, 0.06118802317952863, 0.06118802317952863, 0.3255447255404732, 0.0813861813851183, 0.0813861813851183, 0.0813861813851183, 0.24415854415535493, 0.0813861813851183, 0.1627723627702366, 0.080018860644135, 0.080018860644135, 0.2000471516103375, 0.2000471516103375, 0.240056581932405, 0.1200282909662025, 0.0400094303220675, 0.39755140936788363, 0.24877959519828785, 0.12438979759914393, 0.12438979759914393, 0.12438979759914393, 0.24877959519828785, 0.19471061831522932, 0.584131854945688, 0.6278161713290908, 0.1569540428322727, 0.1569540428322727, 0.25290589914960154, 0.06322647478740039, 0.06322647478740039, 0.06322647478740039, 0.12645294957480077, 0.12645294957480077, 0.18967942436220117, 0.06322647478740039, 0.6162659909948521, 0.41369723078305376, 0.41369723078305376, 0.4222002654773013, 0.1407334218257671, 0.1407334218257671, 0.14295216524986396, 0.35738041312465985, 0.03573804131246599, 0.03573804131246599, 0.17869020656232992, 0.07147608262493198, 0.10721412393739796, 0.03573804131246599, 0.1308903341346833, 0.5235613365387332, 0.2617806682693666, 0.15764212792827276, 0.11260151994876626, 0.11260151994876626, 0.18016243191802603, 0.06756091196925976, 0.18016243191802603, 0.04504060797950651, 0.04504060797950651, 0.06756091196925976, 0.04504060797950651, 0.7603464404945611, 0.3922779146899325, 0.3922779146899325, 0.2570305545080093, 0.5140611090160186, 0.21452411646750785, 0.21452411646750785, 0.4290482329350157, 0.3106844747315323, 0.6213689494630646, 0.14198328282466954, 0.06310368125540869, 0.20508696408007823, 0.18931104376622607, 0.09465552188311303, 0.07887960156926085, 0.04732776094155652, 0.1104314421969652, 0.04732776094155652, 0.031551840627704344, 0.07890372706355817, 0.18410869648163572, 0.05260248470903878, 0.13150621177259694, 0.07890372706355817, 0.05260248470903878, 0.2367111811906745, 0.02630124235451939, 0.13150621177259694, 0.02630124235451939, 0.07458523393749301, 0.24861744645831005, 0.09944697858332402, 0.12430872322915502, 0.07458523393749301, 0.09944697858332402, 0.07458523393749301, 0.09944697858332402, 0.07458523393749301, 0.024861744645831005, 0.8665108847108284, 0.2626000672163765, 0.525200134432753, 0.13130003360818826, 0.4139724064899609], \"Term\": [\"abc\", \"abc\", \"abortion\", \"accounts\", \"accounts\", \"act\", \"act\", \"act\", \"act\", \"action\", \"action\", \"action\", \"action\", \"action\", \"action\", \"action\", \"action\", \"action\", \"action\", \"administrator\", \"administrator\", \"afghan\", \"afghan\", \"afghan\", \"afghan\", \"afghan\", \"afghan\", \"afghan\", \"afghan\", \"afghanistan\", \"afghanistan\", \"afghanistan\", \"afghanistan\", \"afghanistan\", \"afghanistan\", \"afghanistan\", \"afghanistan\", \"afroz\", \"afroz\", \"agreement\", \"agreement\", \"agreement\", \"agreement\", \"agreement\", \"agreement\", \"agreement\", \"agriculture\", \"aip\", \"aldolfo\", \"ali\", \"ali\", \"alp\", \"amin\", \"amin\", \"amwu\", \"amwu\", \"analysis\", \"analysis\", \"annan\", \"appointment\", \"arafat\", \"arafat\", \"arafat\", \"arafat\", \"arafat\", \"arafat\", \"arafat\", \"arafat\", \"arafat\", \"area\", \"area\", \"area\", \"area\", \"area\", \"area\", \"area\", \"area\", \"area\", \"area\", \"areas\", \"areas\", \"areas\", \"areas\", \"areas\", \"areas\", \"areas\", \"areas\", \"areas\", \"argentina\", \"argentina\", \"argentina\", \"aristide\", \"aristide\", \"arm\", \"arrests\", \"arrests\", \"arrivals\", \"arrivals\", \"arthurs\", \"arthurs\", \"arthurs\", \"article\", \"ashes\", \"ashes\", \"ashes\", \"asic\", \"asic\", \"asic\", \"assa_abloy\", \"assa_abloy\", \"assa_abloy\", \"assaults\", \"assumption\", \"astronauts\", \"asylum_seekers\", \"asylum_seekers\", \"asylum_seekers\", \"asylum_seekers\", \"asylum_seekers\", \"asylum_seekers\", \"asylum_seekers\", \"attack\", \"attack\", \"attack\", \"attack\", \"attack\", \"attack\", \"attack\", \"attack\", \"attack\", \"attack\", \"attacks\", \"attacks\", \"attacks\", \"attacks\", \"attacks\", \"attacks\", \"attacks\", \"attacks\", \"attacks\", \"attacks\", \"auditors\", \"austar\", \"austar\", \"austar\", \"australia\", \"australia\", \"australia\", \"australia\", \"australia\", \"australia\", \"australia\", \"australia\", \"australia\", \"australia\", \"authorities\", \"authorities\", \"authorities\", \"authorities\", \"authorities\", \"authorities\", \"authorities\", \"authorities\", \"authorities\", \"authorities\", \"authority\", \"authority\", \"authority\", \"authority\", \"authority\", \"authority\", \"authority\", \"authority\", \"authority\", \"bacteria\", \"bacteria\", \"ballot\", \"ballot\", \"ballot\", \"ballot\", \"balmer\", \"balmer\", \"banksa\", \"battlefield\", \"bayliss\", \"bayliss\", \"bayt\", \"bayu\", \"beatle\", \"beatle\", \"beatle\", \"behalf\", \"behalf\", \"belgium\", \"bernhard\", \"bill\", \"bill\", \"bill\", \"bill\", \"bill\", \"bill\", \"bill\", \"bill\", \"bill\", \"bin_laden\", \"bin_laden\", \"bin_laden\", \"bin_laden\", \"bin_laden\", \"bin_laden\", \"birth\", \"blake\", \"blake\", \"blake\", \"blake\", \"blake\", \"blake\", \"blaze\", \"blaze\", \"blaze\", \"blaze\", \"blue_mountains\", \"blue_mountains\", \"blue_mountains\", \"blue_mountains\", \"board\", \"board\", \"board\", \"board\", \"board\", \"board\", \"board\", \"board\", \"board\", \"boat\", \"boat\", \"boat\", \"boat\", \"boat\", \"boat\", \"boat\", \"boat\", \"boats\", \"boats\", \"boje\", \"bombardment\", \"borrowing\", \"boston\", \"boston\", \"boston\", \"bowler\", \"bowler\", \"bowler\", \"bowler\", \"bowler\", \"bowler\", \"bowler\", \"boy\", \"boy\", \"boy\", \"boy\", \"boy\", \"boy\", \"bradstreet\", \"brain\", \"brain\", \"brands\", \"brink\", \"brisbane\", \"brisbane\", \"brisbane\", \"brisbane\", \"broadcasting\", \"building_industry\", \"building_industry\", \"building_industry\", \"building_industry\", \"bumblebee\", \"bus_ambush\", \"bus_ambush\", \"bus_ambush\", \"butterfly\", \"butterfly\", \"cahill\", \"cahill\", \"cameron\", \"cameron\", \"captain\", \"captain\", \"captain\", \"captain\", \"captain\", \"captain\", \"captain\", \"captain\", \"caretaker\", \"carmen\", \"carr\", \"casinos\", \"catastrophe\", \"catastrophe\", \"cathy\", \"catt\", \"caves\", \"caves\", \"caves\", \"caves\", \"caves\", \"cells\", \"cells\", \"cells\", \"cent\", \"cent\", \"cent\", \"cent\", \"cent\", \"cent\", \"cent\", \"cent\", \"cent\", \"cent\", \"centre\", \"centre\", \"centre\", \"centre\", \"centre\", \"centre\", \"centre\", \"centre\", \"centuries\", \"chain\", \"change\", \"change\", \"change\", \"change\", \"change\", \"change\", \"change\", \"chechen\", \"chechen\", \"chicago\", \"child\", \"child\", \"child\", \"child\", \"child\", \"child\", \"child\", \"child\", \"child\", \"city\", \"city\", \"city\", \"city\", \"city\", \"city\", \"city\", \"city\", \"city\", \"city\", \"claims\", \"claims\", \"claims\", \"claims\", \"claims\", \"claims\", \"claims\", \"claims\", \"claims\", \"classic\", \"clothes\", \"club\", \"club\", \"clubs\", \"cmag\", \"coalition\", \"coalition\", \"coalition\", \"coalition\", \"coercion\", \"commander\", \"commander\", \"commander\", \"commander\", \"commanders\", \"commanders\", \"commanders\", \"commanders\", \"commanders\", \"commission\", \"commission\", \"commission\", \"commission\", \"commission\", \"commission\", \"commission\", \"commission\", \"commission\", \"commission\", \"commissions\", \"commonwealth\", \"commonwealth\", \"commonwealth\", \"commonwealth\", \"commonwealth\", \"commonwealth\", \"communications\", \"communications\", \"companies\", \"companies\", \"companies\", \"company\", \"company\", \"company\", \"company\", \"company\", \"company\", \"company\", \"company\", \"company\", \"company\", \"conditions\", \"conditions\", \"conditions\", \"conditions\", \"conditions\", \"conditions\", \"conditions\", \"conditions\", \"confusion\", \"conspiracy\", \"consumers\", \"consumers\", \"consumers\", \"contents\", \"contracts\", \"controller\", \"coroner\", \"coroner\", \"coroner\", \"cosgrove\", \"costello\", \"costello\", \"costello\", \"counting\", \"counting\", \"coverage\", \"cow\", \"creek\", \"cricket\", \"cricket\", \"cricket\", \"cricket\", \"cricket\", \"cricket\", \"cricket\", \"cricket\", \"crompton\", \"crops\", \"currency\", \"curtis\", \"cut\", \"cut\", \"dairy\", \"damage\", \"damage\", \"damage\", \"damage\", \"damage\", \"damage\", \"damage\", \"darren\", \"data\", \"data\", \"data\", \"day\", \"day\", \"day\", \"day\", \"day\", \"day\", \"day\", \"day\", \"day\", \"day\", \"days\", \"days\", \"days\", \"days\", \"days\", \"days\", \"days\", \"days\", \"days\", \"days\", \"deaths\", \"deaths\", \"deaths\", \"deaths\", \"deaths\", \"deaths\", \"debate\", \"debate\", \"debate\", \"debt\", \"debt\", \"debt\", \"default\", \"default\", \"defendant\", \"demand\", \"dempsey\", \"department\", \"department\", \"department\", \"department\", \"department\", \"department\", \"department\", \"detainees\", \"detainees\", \"detainees\", \"detainees\", \"detainees\", \"detainees\", \"devaluation\", \"dewar\", \"dialogue\", \"diego\", \"discount\", \"dispatcher\", \"dispute\", \"dispute\", \"dispute\", \"dispute\", \"dispute\", \"disrepute\", \"door\", \"doubles\", \"doubles\", \"doubles\", \"doubles\", \"doug\", \"doug\", \"drug\", \"drug\", \"dun\", \"east_timor\", \"east_timor\", \"east_timor\", \"east_timor\", \"east_timor\", \"economy\", \"economy\", \"economy\", \"economy\", \"economy\", \"economy\", \"economy\", \"economy\", \"economy\", \"eddystone\", \"eighth\", \"eleven\", \"emissions\", \"emissions\", \"endeavour\", \"endeavour\", \"endeavour\", \"expansion\", \"extinguishment\", \"eyewitnesses\", \"factory\", \"factory\", \"families\", \"families\", \"families\", \"families\", \"families\", \"family\", \"family\", \"family\", \"family\", \"family\", \"family\", \"family\", \"family\", \"family\", \"farina\", \"farina\", \"farm\", \"farm\", \"farm\", \"farmers\", \"fatalities\", \"fear\", \"federal\", \"federal\", \"federal\", \"federal\", \"federal\", \"federal\", \"federal\", \"federal\", \"federal\", \"federal\", \"ferguson\", \"ferguson\", \"ferocity\", \"fine\", \"fire\", \"fire\", \"fire\", \"fire\", \"fire\", \"fire\", \"fire\", \"fire\", \"fire\", \"fire\", \"firefighters\", \"firefighters\", \"firefighters\", \"firefighters\", \"firefighters\", \"firefighters\", \"firefighters\", \"firefighters\", \"flash\", \"flight\", \"flight\", \"flight\", \"flight\", \"flight\", \"flight\", \"flood\", \"food\", \"food\", \"food\", \"food\", \"force\", \"force\", \"force\", \"force\", \"force\", \"force\", \"force\", \"force\", \"force\", \"forces\", \"forces\", \"forces\", \"forces\", \"forces\", \"forces\", \"forces\", \"forces\", \"forces\", \"francs\", \"francs\", \"franklin\", \"franklin\", \"freeman\", \"freight\", \"fremantle\", \"friday\", \"friday\", \"friday\", \"friday\", \"friday\", \"friday\", \"friday\", \"friedli\", \"friedli\", \"friedli\", \"gabriel\", \"gabriel\", \"gary\", \"gary\", \"gas\", \"gas\", \"gasfield\", \"gaza_strip\", \"gaza_strip\", \"gaza_strip\", \"gaza_strip\", \"gaza_strip\", \"gaza_strip\", \"generations\", \"gerber\", \"gerber\", \"good\", \"goods\", \"goshen\", \"goshen\", \"government\", \"government\", \"government\", \"government\", \"government\", \"government\", \"government\", \"government\", \"government\", \"government\", \"governments\", \"grant\", \"grant\", \"grant\", \"grocery\", \"grounding\", \"group\", \"group\", \"group\", \"group\", \"group\", \"group\", \"group\", \"group\", \"group\", \"groups\", \"groups\", \"groups\", \"groups\", \"groups\", \"groups\", \"groups\", \"groups\", \"groups\", \"groups\", \"gst\", \"guarantees\", \"guglielmo\", \"gunnedah\", \"gutnick\", \"habeel\", \"habeel\", \"hamas\", \"hamas\", \"hamas\", \"hamas\", \"hamas\", \"hamas\", \"hamas\", \"hamas\", \"haniya\", \"harrison\", \"harrison\", \"harrison\", \"harrison\", \"hawke\", \"helens\", \"helicopters\", \"helicopters\", \"helicopters\", \"helicopters\", \"helicopters\", \"helicopters\", \"hewitt\", \"hewitt\", \"hewitt\", \"hewitt\", \"hewitt\", \"hicks\", \"hicks\", \"hicks\", \"hicks\", \"highway\", \"highway\", \"highway\", \"highway\", \"highway\", \"highway\", \"hih\", \"hih\", \"hih\", \"hih\", \"hih\", \"hijackings\", \"hiv\", \"hiv\", \"hoax\", \"holiday\", \"holiday\", \"holiday\", \"homes\", \"homes\", \"homes\", \"homes\", \"homes\", \"homes\", \"homes\", \"hooke\", \"hospital\", \"hospital\", \"hospital\", \"hospital\", \"hospital\", \"hospital\", \"hospital\", \"hospital\", \"hotel\", \"hotel\", \"hotel\", \"hotel\", \"hotel\", \"hours\", \"hours\", \"hours\", \"hours\", \"hours\", \"hours\", \"hours\", \"hours\", \"hours\", \"hours\", \"house\", \"house\", \"house\", \"house\", \"house\", \"house\", \"house\", \"house\", \"house\", \"housing\", \"housing\", \"huegill\", \"ice\", \"ice\", \"ice\", \"impacts\", \"india\", \"india\", \"india\", \"india\", \"india\", \"india\", \"india\", \"india\", \"indiana\", \"indiana\", \"indictment\", \"industrial_relations\", \"industrial_relations\", \"industrial_relations\", \"industrial_relations\", \"industrial_relations\", \"information\", \"information\", \"information\", \"information\", \"information\", \"information\", \"information\", \"information\", \"intent\", \"intention\", \"invasion\", \"invasion\", \"invasion\", \"invasion\", \"islands\", \"islands\", \"islands\", \"islands\", \"islands\", \"islands\", \"ismail\", \"israel\", \"israel\", \"israel\", \"israel\", \"israel\", \"israel\", \"israel\", \"israel\", \"israel\", \"israeli\", \"israeli\", \"israeli\", \"israeli\", \"israeli\", \"israeli\", \"israeli\", \"israeli\", \"israeli\", \"israeli\", \"israelis\", \"israelis\", \"israelis\", \"israelis\", \"israelis\", \"israelis\", \"jackson\", \"japan\", \"japan\", \"japan\", \"japan\", \"jeff\", \"july\", \"july\", \"july\", \"july\", \"july\", \"july\", \"july\", \"jury\", \"kandahar\", \"kandahar\", \"kandahar\", \"kandahar\", \"kandahar\", \"kandahar\", \"kandahar\", \"kanooni\", \"karzai\", \"karzai\", \"karzai\", \"karzai\", \"kentucky\", \"kentucky\", \"kicker\", \"kidnap\", \"killer\", \"klim\", \"knop\", \"knop\", \"kofi\", \"kontrol\", \"kontrol\", \"kosovo\", \"kosovo\", \"kosovo\", \"krishna\", \"krishna\", \"krishna\", \"labor\", \"labor\", \"labor\", \"labor\", \"labor\", \"labor\", \"labor\", \"labor\", \"labor\", \"laden\", \"laden\", \"laden\", \"laden\", \"laden\", \"laden\", \"laden\", \"langdale\", \"larrakia\", \"launceston\", \"launch\", \"launch\", \"lavarch\", \"lawmaker\", \"lawrence\", \"leak\", \"lending\", \"liberator\", \"lines\", \"lines\", \"lines\", \"lines\", \"listeners\", \"lobby\", \"lobbying\", \"lockett\", \"lockett\", \"lockett\", \"los\", \"low\", \"macgill\", \"macgill\", \"macgill\", \"macgill\", \"maker\", \"man\", \"man\", \"man\", \"man\", \"man\", \"man\", \"man\", \"man\", \"man\", \"man\", \"manufacturing\", \"manufacturing\", \"marconi\", \"margin\", \"marines\", \"marines\", \"markets\", \"markets\", \"markets\", \"markets\", \"match\", \"match\", \"match\", \"match\", \"match\", \"match\", \"match\", \"match\", \"mcdonald\", \"meant\", \"meat\", \"meeting\", \"meeting\", \"meeting\", \"meeting\", \"meeting\", \"meeting\", \"meeting\", \"meeting\", \"meeting\", \"meeting\", \"megawati\", \"megawati\", \"melawa\", \"melbourne\", \"melbourne\", \"melbourne\", \"melbourne\", \"melbourne\", \"melbourne\", \"melbourne\", \"melbourne\", \"melbourne\", \"melbourne\", \"members\", \"members\", \"members\", \"members\", \"members\", \"members\", \"members\", \"members\", \"members\", \"members\", \"memory\", \"mentality\", \"metres\", \"metres\", \"metres\", \"metres\", \"metres\", \"metres\", \"metres\", \"metres\", \"midwives\", \"midwives\", \"milestones\", \"militants\", \"militants\", \"militants\", \"militants\", \"militants\", \"militants\", \"militants\", \"militants\", \"militants\", \"millwork\", \"millwork\", \"minister\", \"minister\", \"minister\", \"minister\", \"minister\", \"minister\", \"minister\", \"minister\", \"minister\", \"minister\", \"missile\", \"mitsubishi\", \"mohamad\", \"mohamad\", \"momentum\", \"month\", \"month\", \"month\", \"month\", \"month\", \"month\", \"month\", \"month\", \"month\", \"months\", \"months\", \"months\", \"months\", \"months\", \"months\", \"months\", \"months\", \"moon\", \"mop\", \"morning\", \"morning\", \"morning\", \"morning\", \"morning\", \"morning\", \"morning\", \"morning\", \"morning\", \"morning\", \"morrow\", \"motorway\", \"moussaoui\", \"moussaoui\", \"mum\", \"musharraf\", \"musharraf\", \"musharraf\", \"music\", \"nelson\", \"new_south\", \"new_south\", \"new_south\", \"new_south\", \"new_south\", \"new_south\", \"new_south\", \"new_south\", \"new_south\", \"new_zealand\", \"new_zealand\", \"new_zealand\", \"new_zealand\", \"new_zealand\", \"new_zealand\", \"new_zealand\", \"newsradio\", \"nicky\", \"night\", \"night\", \"night\", \"night\", \"night\", \"night\", \"night\", \"night\", \"night\", \"nobel\", \"nobody\", \"number\", \"number\", \"number\", \"number\", \"number\", \"number\", \"number\", \"number\", \"number\", \"number\", \"object\", \"offence\", \"offender\", \"offer\", \"offer\", \"offer\", \"offer\", \"offer\", \"official\", \"official\", \"official\", \"official\", \"official\", \"official\", \"official\", \"officials\", \"officials\", \"officials\", \"officials\", \"officials\", \"officials\", \"officials\", \"officials\", \"officials\", \"officials\", \"olympic\", \"olympics\", \"organs\", \"osama_bin\", \"osama_bin\", \"osama_bin\", \"osama_bin\", \"osama_bin\", \"osama_bin\", \"osama_bin\", \"osama_bin\", \"oslo\", \"outbreak\", \"outbreaks\", \"owen\", \"pacific\", \"pacific\", \"pacific\", \"pakistan\", \"pakistan\", \"pakistan\", \"pakistan\", \"pakistan\", \"pakistan\", \"pakistan\", \"pakistan\", \"pakistan\", \"palmerston\", \"palos\", \"palos\", \"panel\", \"panel\", \"parliament\", \"parliament\", \"parliament\", \"parliament\", \"parliament\", \"parliament\", \"parliament\", \"parliament\", \"participant\", \"party\", \"party\", \"party\", \"party\", \"party\", \"party\", \"passes\", \"passport\", \"passport\", \"peace\", \"peace\", \"peace\", \"peace\", \"peace\", \"peace\", \"peace\", \"peace\", \"peace\", \"peacekeepers\", \"peacekeepers\", \"peacekeepers\", \"peacekeepers\", \"peacekeepers\", \"pentagon\", \"pentagon\", \"pentagon\", \"pentagon\", \"pentagon\", \"pentagon\", \"people\", \"people\", \"people\", \"people\", \"people\", \"people\", \"people\", \"people\", \"people\", \"people\", \"peronists\", \"peso\", \"petrol\", \"petrol\", \"petrol\", \"phillip\", \"phillips\", \"phillips\", \"phillips\", \"pieterse\", \"pitwater\", \"place\", \"place\", \"place\", \"place\", \"place\", \"place\", \"place\", \"place\", \"place\", \"place\", \"police\", \"police\", \"police\", \"police\", \"police\", \"police\", \"police\", \"police\", \"police\", \"police\", \"policy\", \"policy\", \"policy\", \"policy\", \"policy\", \"policy\", \"policy\", \"policy\", \"policy\", \"policy\", \"population\", \"population\", \"population\", \"population\", \"potts\", \"powell\", \"powell\", \"powell\", \"powell\", \"power\", \"power\", \"power\", \"power\", \"power\", \"power\", \"power\", \"power\", \"powers\", \"powers\", \"powers\", \"powers\", \"powers\", \"powers\", \"predecessor\", \"presidency\", \"presidency\", \"president\", \"president\", \"president\", \"president\", \"president\", \"president\", \"president\", \"president\", \"president\", \"president\", \"prime_minister\", \"prime_minister\", \"prime_minister\", \"prime_minister\", \"prime_minister\", \"prime_minister\", \"prime_minister\", \"prime_minister\", \"prime_minister\", \"prisoners\", \"prisoners\", \"prisoners\", \"prisoners\", \"privacy\", \"process\", \"process\", \"process\", \"process\", \"process\", \"process\", \"process\", \"process\", \"process\", \"products\", \"project\", \"project\", \"projections\", \"prosecution\", \"puerta\", \"punishment\", \"qaeda\", \"qaeda\", \"qaeda\", \"qaeda\", \"qaeda\", \"qaeda\", \"qaeda\", \"qaeda_fighters\", \"qaeda_fighters\", \"qaeda_fighters\", \"qaeda_fighters\", \"qaeda_fighters\", \"qantas\", \"qantas\", \"qantas\", \"qantas\", \"qantas\", \"qantas\", \"qantas\", \"qantas_maintenance\", \"qantas_maintenance\", \"qantas_maintenance\", \"queen\", \"queen\", \"queen\", \"queensland\", \"queensland\", \"queensland\", \"queensland\", \"queensland\", \"queensland\", \"queensland\", \"queensland\", \"queensland\", \"quit\", \"rabbani\", \"rabbani\", \"rabbani\", \"radio\", \"radio\", \"radio\", \"radio\", \"radio\", \"radio\", \"radio\", \"radio\", \"rafter\", \"rafter\", \"rafter\", \"ramon\", \"rate\", \"rate\", \"rate\", \"rate\", \"rate\", \"rate\", \"razor\", \"redmond\", \"refugees\", \"refugees\", \"refugees\", \"rehman\", \"rehman\", \"reid\", \"reid\", \"reid\", \"reid\", \"repayment\", \"report\", \"report\", \"report\", \"report\", \"report\", \"report\", \"report\", \"report\", \"reports\", \"reports\", \"reports\", \"reports\", \"reports\", \"reports\", \"reports\", \"reports\", \"reports\", \"requirements\", \"rescue\", \"rescue\", \"reserve\", \"reserve\", \"resignation\", \"revenue\", \"review\", \"review\", \"review\", \"review\", \"rfds\", \"rift\", \"rink\", \"rivalry\", \"river\", \"river\", \"river\", \"river\", \"river\", \"river\", \"river\", \"river\", \"river\", \"roads\", \"roads\", \"roads\", \"rob\", \"robbards\", \"rock\", \"rodriguez\", \"rome\", \"roof\", \"roof\", \"roof\", \"rosebury\", \"route\", \"rudder\", \"ruddock\", \"ruddock\", \"rumsfeld\", \"rumsfeld\", \"rumsfeld\", \"rumsfeld\", \"saa\", \"saadi\", \"saadi\", \"sale\", \"sales\", \"salisbury\", \"sarah\", \"sarah\", \"sarah\", \"sarah\", \"sarah\", \"schneiders\", \"secretary\", \"secretary\", \"secretary\", \"secretary\", \"secretary\", \"secretary\", \"section\", \"sections\", \"security\", \"security\", \"security\", \"security\", \"security\", \"security\", \"security\", \"security\", \"security\", \"security\", \"senator_hill\", \"senator_hill\", \"senator_hill\", \"senator_hill\", \"september\", \"september\", \"september\", \"september\", \"september\", \"september\", \"september\", \"september\", \"september\", \"sergeant\", \"sergeant\", \"shanab\", \"shane\", \"shane\", \"shane\", \"shane\", \"shane\", \"shares\", \"sharon\", \"sharon\", \"sharon\", \"sharon\", \"sharon\", \"sharon\", \"sheet\", \"sheet\", \"sheikh\", \"sheikh\", \"sheldon\", \"sheldon\", \"sheldon\", \"shellharbour\", \"shelves\", \"shepherd\", \"sherrard\", \"shockwave\", \"shopping\", \"shopping\", \"shopping\", \"shuttle\", \"shuttle\", \"side\", \"side\", \"side\", \"side\", \"side\", \"side\", \"signals\", \"simulcast\", \"skies\", \"skies\", \"skippered\", \"soccer\", \"solomon\", \"solomon\", \"solomon\", \"solomon\", \"someone\", \"son\", \"son\", \"son\", \"son\", \"son\", \"son\", \"source\", \"source\", \"source\", \"source\", \"source\", \"south\", \"south\", \"south\", \"south\", \"south\", \"south\", \"south\", \"south\", \"south\", \"south_africa\", \"south_africa\", \"south_africa\", \"south_africa\", \"south_africa\", \"south_africa\", \"south_africa\", \"south_africa\", \"south_africa\", \"south_africa\", \"space\", \"space\", \"space\", \"spills\", \"spills\", \"spinner\", \"staff\", \"staff\", \"staff\", \"staff\", \"staff\", \"staff\", \"staff\", \"staff\", \"staff\", \"staff\", \"state\", \"state\", \"state\", \"state\", \"state\", \"state\", \"state\", \"state\", \"state\", \"state\", \"station\", \"station\", \"station\", \"station\", \"station\", \"station\", \"station\", \"stoltenberg\", \"stoltenberg\", \"stoppage\", \"storey\", \"stories\", \"storm\", \"storm\", \"storm\", \"storm\", \"storm\", \"storm\", \"storm\", \"stringer\", \"students\", \"students\", \"students\", \"subsidiary\", \"subsidies\", \"supervisors\", \"supervisors\", \"sydney\", \"sydney\", \"sydney\", \"sydney\", \"sydney\", \"sydney\", \"sydney\", \"sydney\", \"sydney\", \"sydney\", \"sydney_hobart\", \"sydney_hobart\", \"sydney_hobart\", \"sydney_hobart\", \"sydney_hobart\", \"szondy\", \"tailenders\", \"tailenders\", \"tailenders\", \"tailenders\", \"taliban\", \"taliban\", \"taliban\", \"taliban\", \"taliban\", \"taliban\", \"taliban\", \"taliban\", \"taliban\", \"talks\", \"talks\", \"talks\", \"talks\", \"talks\", \"talks\", \"talks\", \"talks\", \"talks\", \"tamworth\", \"tantamount\", \"tape\", \"tape\", \"tape\", \"targets\", \"targets\", \"targets\", \"targets\", \"targets\", \"targets\", \"targets\", \"tax\", \"taylor\", \"taylor\", \"team\", \"team\", \"team\", \"team\", \"team\", \"team\", \"team\", \"team\", \"technology\", \"technology\", \"technology\", \"technology\", \"templeton\", \"templeton\", \"terence\", \"terminal\", \"test\", \"test\", \"test\", \"test\", \"test\", \"test\", \"test\", \"test\", \"test\", \"ticket\", \"time\", \"time\", \"time\", \"time\", \"time\", \"time\", \"time\", \"time\", \"time\", \"time\", \"today\", \"today\", \"today\", \"today\", \"today\", \"today\", \"today\", \"today\", \"today\", \"today\", \"todd\", \"tommy\", \"tommy\", \"tora_bora\", \"tora_bora\", \"tora_bora\", \"tora_bora\", \"tora_bora\", \"tora_bora\", \"tora_bora\", \"track\", \"transfer\", \"transfer\", \"traveland\", \"traveland\", \"traveland\", \"treasurer\", \"treasurer\", \"triple\", \"trips\", \"trips\", \"troops\", \"troops\", \"troops\", \"troops\", \"troops\", \"troops\", \"troops\", \"troops\", \"truss\", \"twin\", \"undan\", \"union\", \"union\", \"union\", \"union\", \"union\", \"union\", \"union\", \"union\", \"union\", \"unions\", \"unions\", \"unions\", \"unions\", \"unions\", \"unions\", \"unions\", \"unions\", \"united_states\", \"united_states\", \"united_states\", \"united_states\", \"united_states\", \"united_states\", \"united_states\", \"united_states\", \"united_states\", \"united_states\", \"usa\", \"user\", \"user\", \"utn\", \"vaughan\", \"vaughan\", \"vaughan\", \"vaughan\", \"verdict\", \"verdict\", \"verdict\", \"verdict\", \"veteran\", \"veteran\", \"virgin\", \"virgin\", \"virgin\", \"virus\", \"virus\", \"volunteers\", \"volunteers\", \"volunteers\", \"wage_freeze\", \"wage_freeze\", \"wahroonga\", \"wales\", \"wales\", \"wales\", \"wales\", \"wales\", \"wales\", \"wales\", \"wales\", \"wales\", \"walker\", \"walker\", \"war\", \"war\", \"war\", \"war\", \"war\", \"war\", \"war\", \"war\", \"war\", \"warnings\", \"warrants\", \"water\", \"water\", \"water\", \"water\", \"water\", \"water\", \"water\", \"wave\", \"wave\", \"wave\", \"wave\", \"way\", \"way\", \"way\", \"way\", \"way\", \"way\", \"way\", \"way\", \"way\", \"way\", \"week\", \"week\", \"week\", \"week\", \"week\", \"week\", \"week\", \"week\", \"week\", \"week\", \"west\", \"west\", \"west\", \"west\", \"west\", \"west\", \"west\", \"west_bank\", \"west_bank\", \"west_bank\", \"west_bank\", \"west_bank\", \"west_bank\", \"west_bank\", \"whilst\", \"white\", \"white\", \"white\", \"white\", \"white\", \"whiting\", \"whiting\", \"wind\", \"wind\", \"wind\", \"winds\", \"winds\", \"winds\", \"winds\", \"winds\", \"winds\", \"winds\", \"winds\", \"witch\", \"wolthuizen\", \"wolthuizen\", \"woomera\", \"woomera\", \"woomera\", \"workers\", \"workers\", \"workers\", \"workers\", \"workers\", \"workers\", \"workers\", \"workers\", \"workers_union\", \"workers_union\", \"workers_union\", \"world\", \"world\", \"world\", \"world\", \"world\", \"world\", \"world\", \"world\", \"world\", \"world\", \"world_heritage\", \"wrongdoing\", \"wrongdoing\", \"yacht\", \"yacht\", \"yacht_race\", \"yacht_race\", \"yacht_race\", \"yassin\", \"yassin\", \"year\", \"year\", \"year\", \"year\", \"year\", \"year\", \"year\", \"year\", \"year\", \"year\", \"years\", \"years\", \"years\", \"years\", \"years\", \"years\", \"years\", \"years\", \"years\", \"years\", \"yesterday\", \"yesterday\", \"yesterday\", \"yesterday\", \"yesterday\", \"yesterday\", \"yesterday\", \"yesterday\", \"yesterday\", \"yesterday\", \"zeus\", \"zimbabwe\", \"zimbabwe\", \"zimbabwe\", \"zone\"]}, \"R\": 30, \"lambda.step\": 0.01, \"plot.opts\": {\"xlab\": \"PC1\", \"ylab\": \"PC2\"}, \"topic.order\": [6, 5, 3, 9, 4, 2, 10, 8, 7, 1]};\n",
       "\n",
       "function LDAvis_load_lib(url, callback){\n",
       "  var s = document.createElement('script');\n",
       "  s.src = url;\n",
       "  s.async = true;\n",
       "  s.onreadystatechange = s.onload = callback;\n",
       "  s.onerror = function(){console.warn(\"failed to load library \" + url);};\n",
       "  document.getElementsByTagName(\"head\")[0].appendChild(s);\n",
       "}\n",
       "\n",
       "if(typeof(LDAvis) !== \"undefined\"){\n",
       "   // already loaded: just create the visualization\n",
       "   !function(LDAvis){\n",
       "       new LDAvis(\"#\" + \"ldavis_el2016112280477392197466720\", ldavis_el2016112280477392197466720_data);\n",
       "   }(LDAvis);\n",
       "}else if(typeof define === \"function\" && define.amd){\n",
       "   // require.js is available: use it to load d3/LDAvis\n",
       "   require.config({paths: {d3: \"https://cdnjs.cloudflare.com/ajax/libs/d3/3.5.5/d3.min\"}});\n",
       "   require([\"d3\"], function(d3){\n",
       "      window.d3 = d3;\n",
       "      LDAvis_load_lib(\"https://cdn.rawgit.com/bmabey/pyLDAvis/files/ldavis.v1.0.0.js\", function(){\n",
       "        new LDAvis(\"#\" + \"ldavis_el2016112280477392197466720\", ldavis_el2016112280477392197466720_data);\n",
       "      });\n",
       "    });\n",
       "}else{\n",
       "    // require.js not available: dynamically load d3 & LDAvis\n",
       "    LDAvis_load_lib(\"https://cdnjs.cloudflare.com/ajax/libs/d3/3.5.5/d3.min.js\", function(){\n",
       "         LDAvis_load_lib(\"https://cdn.rawgit.com/bmabey/pyLDAvis/files/ldavis.v1.0.0.js\", function(){\n",
       "                 new LDAvis(\"#\" + \"ldavis_el2016112280477392197466720\", ldavis_el2016112280477392197466720_data);\n",
       "            })\n",
       "         });\n",
       "}\n",
       "</script>"
      ],
      "text/plain": [
       "PreparedData(topic_coordinates=            Freq  cluster  topics         x         y\n",
       "topic                                                \n",
       "5      15.976778        1       1  0.074143  0.045919\n",
       "4      14.748015        1       2  0.010210 -0.004822\n",
       "2      11.522496        1       3 -0.010270 -0.041577\n",
       "8      11.322713        1       4 -0.005559  0.009409\n",
       "3      10.191580        1       5  0.006633  0.040796\n",
       "1       9.489028        1       6  0.029626 -0.061053\n",
       "9       7.750577        1       7 -0.076655  0.015267\n",
       "7       7.280897        1       8 -0.010690 -0.094129\n",
       "6       6.439583        1       9  0.065674  0.036751\n",
       "0       5.278335        1      10 -0.083113  0.053439, topic_info=     Category        Freq            Term       Total  loglift  logprob\n",
       "term                                                                   \n",
       "220   Default   80.000000     afghanistan   80.000000  30.0000  30.0000\n",
       "596   Default   42.000000            test   42.000000  29.0000  29.0000\n",
       "165   Default  107.000000      government  107.000000  28.0000  28.0000\n",
       "845   Default   69.000000          arafat   69.000000  27.0000  27.0000\n",
       "131   Default  122.000000       australia  122.000000  26.0000  26.0000\n",
       "1687  Default   28.000000          qantas   28.000000  25.0000  25.0000\n",
       "987   Default   37.000000           laden   37.000000  24.0000  24.0000\n",
       "1562  Default   27.000000           hamas   27.000000  23.0000  23.0000\n",
       "237   Default   29.000000            team   29.000000  22.0000  22.0000\n",
       "1516  Default   30.000000       tora_bora   30.000000  21.0000  21.0000\n",
       "152   Default   38.000000           years   38.000000  20.0000  20.0000\n",
       "90    Default   66.000000          police   66.000000  19.0000  19.0000\n",
       "135   Default    9.000000       argentina    9.000000  18.0000  18.0000\n",
       "17    Default   45.000000          sydney   45.000000  17.0000  17.0000\n",
       "218   Default   45.000000         taliban   45.000000  16.0000  16.0000\n",
       "1150  Default   21.000000           radio   21.000000  15.0000  15.0000\n",
       "71    Default   19.000000    firefighters   19.000000  14.0000  14.0000\n",
       "112   Default   40.000000        pakistan   40.000000  13.0000  13.0000\n",
       "2584  Default   11.000000           space   11.000000  12.0000  12.0000\n",
       "147   Default    7.000000            debt    7.000000  11.0000  11.0000\n",
       "3128  Default    4.000000         farmers    4.000000  10.0000  10.0000\n",
       "2489  Default   20.000000          sharon   20.000000   9.0000   9.0000\n",
       "76    Default   54.000000          forces   54.000000   8.0000   8.0000\n",
       "679   Default   51.000000             man   51.000000   7.0000   7.0000\n",
       "3075  Default    7.000000         lockett    7.000000   6.0000   6.0000\n",
       "1659  Default   11.000000      east_timor   11.000000   5.0000   5.0000\n",
       "2380  Default   24.000000          unions   24.000000   4.0000   4.0000\n",
       "6     Default   32.000000           wales   32.000000   3.0000   3.0000\n",
       "615   Default   10.000000          hewitt   10.000000   2.0000   2.0000\n",
       "912   Default   29.000000          metres   29.000000   1.0000   1.0000\n",
       "...       ...         ...             ...         ...      ...      ...\n",
       "3059  Topic10    1.043679       defendant    2.208717   2.1919  -6.8605\n",
       "2692  Topic10    2.946995         islands    8.513147   1.8807  -5.8225\n",
       "3037  Topic10    2.381911         verdict    6.733753   1.9023  -6.0354\n",
       "523   Topic10    2.110109    peacekeepers    6.228180   1.8592  -6.1566\n",
       "2691  Topic10    1.899483         solomon    5.362243   1.9038  -6.2617\n",
       "2803  Topic10    1.903286           sarah    5.437248   1.8919  -6.2597\n",
       "3145  Topic10    1.656272           grant    4.438695   1.9558  -6.3987\n",
       "165   Topic10    8.236043      government  107.704265   0.3707  -4.7948\n",
       "2157  Topic10    2.379472            july    9.063282   1.6042  -6.0364\n",
       "20    Topic10    2.230295         highway    8.327552   1.6241  -6.1012\n",
       "555   Topic10    4.047794          months   31.243263   0.8979  -5.5051\n",
       "572   Topic10    2.694484            boat   15.005493   1.2244  -5.9121\n",
       "1842  Topic10    2.545883            bill   13.110947   1.3026  -5.9688\n",
       "131   Topic10    5.970572       australia  122.614413  -0.0806  -5.1164\n",
       "90    Topic10    4.449958          police   66.038177   0.2442  -5.4104\n",
       "125   Topic10    3.947713            time   54.258492   0.3209  -5.5302\n",
       "513   Topic10    2.857852       agreement   21.380723   0.9291  -5.8532\n",
       "180   Topic10    3.203540           hours   32.786705   0.6158  -5.7390\n",
       "512   Topic10    3.525303       officials   46.460790   0.3629  -5.6433\n",
       "199   Topic10    2.475153  asylum_seekers   14.865630   1.1488  -5.9970\n",
       "1     Topic10    3.986230          people  114.557542  -0.4167  -5.5204\n",
       "17    Topic10    3.168034          sydney   45.589360   0.2750  -5.7502\n",
       "75    Topic10    3.135152        security   65.583256  -0.0991  -5.7606\n",
       "81    Topic10    2.639442           place   24.259834   0.7233  -5.9327\n",
       "1675  Topic10    2.378655          policy   13.832283   1.1811  -6.0368\n",
       "236   Topic10    2.804191   united_states   63.084263  -0.1718  -5.8722\n",
       "1665  Topic10    2.609866         company   51.606504  -0.0428  -5.9440\n",
       "527   Topic10    2.455004        minister   26.114912   0.5772  -6.0052\n",
       "295   Topic10    2.409280           world   44.404374   0.0275  -6.0240\n",
       "275   Topic10    2.388652             way   28.154396   0.4746  -6.0326\n",
       "\n",
       "[781 rows x 6 columns], token_table=      Topic      Freq           Term\n",
       "term                                \n",
       "1712      4  0.264322            abc\n",
       "1712      7  0.528644            abc\n",
       "2219      7  0.424603       abortion\n",
       "4005      5  0.293269       accounts\n",
       "4005      6  0.586538       accounts\n",
       "133       1  0.255578            act\n",
       "133       2  0.170385            act\n",
       "133       3  0.340771            act\n",
       "133       4  0.085193            act\n",
       "196       1  0.128711         action\n",
       "196       2  0.231680         action\n",
       "196       3  0.102969         action\n",
       "196       4  0.102969         action\n",
       "196       5  0.077227         action\n",
       "196       6  0.077227         action\n",
       "196       7  0.102969         action\n",
       "196       8  0.051484         action\n",
       "196       9  0.025742         action\n",
       "196      10  0.051484         action\n",
       "2309      1  0.307514  administrator\n",
       "2309      8  0.615027  administrator\n",
       "511       1  0.393248         afghan\n",
       "511       2  0.221202         afghan\n",
       "511       4  0.098312         afghan\n",
       "511       5  0.098312         afghan\n",
       "511       6  0.073734         afghan\n",
       "511       8  0.024578         afghan\n",
       "511       9  0.073734         afghan\n",
       "511      10  0.024578         afghan\n",
       "220       1  0.407698    afghanistan\n",
       "...     ...       ...            ...\n",
       "42        6  0.078880           year\n",
       "42        7  0.047328           year\n",
       "42        8  0.110431           year\n",
       "42        9  0.047328           year\n",
       "42       10  0.031552           year\n",
       "152       1  0.078904          years\n",
       "152       2  0.184109          years\n",
       "152       3  0.052602          years\n",
       "152       4  0.131506          years\n",
       "152       5  0.078904          years\n",
       "152       6  0.052602          years\n",
       "152       7  0.236711          years\n",
       "152       8  0.026301          years\n",
       "152       9  0.131506          years\n",
       "152      10  0.026301          years\n",
       "111       1  0.074585      yesterday\n",
       "111       2  0.248617      yesterday\n",
       "111       3  0.099447      yesterday\n",
       "111       4  0.124309      yesterday\n",
       "111       5  0.074585      yesterday\n",
       "111       6  0.099447      yesterday\n",
       "111       7  0.074585      yesterday\n",
       "111       8  0.099447      yesterday\n",
       "111       9  0.074585      yesterday\n",
       "111      10  0.024862      yesterday\n",
       "575       8  0.866511           zeus\n",
       "1911      1  0.262600       zimbabwe\n",
       "1911      4  0.525200       zimbabwe\n",
       "1911      9  0.131300       zimbabwe\n",
       "2004      2  0.413972           zone\n",
       "\n",
       "[2019 rows x 3 columns], R=30, lambda_step=0.01, plot_opts={'xlab': 'PC1', 'ylab': 'PC2'}, topic_order=[6, 5, 3, 9, 4, 2, 10, 8, 7, 1])"
      ]
     },
     "execution_count": 10,
     "metadata": {},
     "output_type": "execute_result"
    }
   ],
   "source": [
    "pyLDAvis.gensim.prepare(ldamodel, corpus, dictionary)"
   ]
  },
  {
   "cell_type": "markdown",
   "metadata": {
    "nbpresent": {
     "id": "68d38063-fb92-4d36-b3fb-f2d3cbff9eb5"
    }
   },
   "source": [
    "### Finding out the optimal number of topics\n",
    "Topic coherence in essence measures the human interpretability of a topic model. Traditionally [perplexity has been used](http://qpleple.com/perplexity-to-evaluate-topic-models/) to evaluate topic models however this does not correlate with human annotations at times. Topic coherence is another way to evaluate topic models with a much higher guarantee on human interpretability. Thus this can be used to compare different topic models among many other use-cases. Here's a short blog I wrote explaining topic coherence:\n",
    "[What is topic coherence?](https://rare-technologies.com/what-is-topic-coherence/)"
   ]
  },
  {
   "cell_type": "code",
   "execution_count": 11,
   "metadata": {
    "collapsed": true,
    "nbpresent": {
     "id": "45b1a641-1152-4364-ad25-62d1f8187317"
    }
   },
   "outputs": [],
   "source": [
    "def evaluate_graph(dictionary, corpus, texts, limit):\n",
    "    \"\"\"\n",
    "    Function to display num_topics - LDA graph using c_v coherence\n",
    "    \n",
    "    Parameters:\n",
    "    ----------\n",
    "    dictionary : Gensim dictionary\n",
    "    corpus : Gensim corpus\n",
    "    limit : topic limit\n",
    "    \n",
    "    Returns:\n",
    "    -------\n",
    "    lm_list : List of LDA topic models\n",
    "    c_v : Coherence values corresponding to the LDA model with respective number of topics\n",
    "    \"\"\"\n",
    "    c_v = []\n",
    "    lm_list = []\n",
    "    for num_topics in range(1, limit):\n",
    "        lm = LdaModel(corpus=corpus, num_topics=num_topics, id2word=dictionary)\n",
    "        lm_list.append(lm)\n",
    "        cm = CoherenceModel(model=lm, texts=texts, dictionary=dictionary, coherence='c_v')\n",
    "        c_v.append(cm.get_coherence())\n",
    "        \n",
    "    # Show graph\n",
    "    x = range(1, limit)\n",
    "    plt.plot(x, c_v)\n",
    "    plt.xlabel(\"num_topics\")\n",
    "    plt.ylabel(\"Coherence score\")\n",
    "    plt.legend((\"c_v\"), loc='best')\n",
    "    plt.show()\n",
    "    \n",
    "    return lm_list, c_v"
   ]
  },
  {
   "cell_type": "code",
   "execution_count": 12,
   "metadata": {
    "nbpresent": {
     "id": "e8936716-d06c-4cef-ae87-5c5da9a25a85"
    }
   },
   "outputs": [
    {
     "name": "stderr",
     "output_type": "stream",
     "text": [
      "2017-11-22 01:10:41,966 : INFO : using symmetric alpha at 1.0\n",
      "2017-11-22 01:10:41,970 : INFO : using symmetric eta at 0.00022568269013766644\n",
      "2017-11-22 01:10:41,974 : INFO : using serial LDA version on this node\n",
      "2017-11-22 01:10:42,030 : INFO : running online (single-pass) LDA training, 1 topics, 1 passes over the supplied corpus of 300 documents, updating model once every 300 documents, evaluating perplexity every 300 documents, iterating 50x with a convergence threshold of 0.001000\n",
      "2017-11-22 01:10:42,031 : WARNING : too few updates, training might not converge; consider increasing the number of passes or iterations to improve accuracy\n",
      "2017-11-22 01:10:42,064 : DEBUG : bound: at document #0\n",
      "2017-11-22 01:10:43,163 : INFO : -8.697 per-word bound, 415.0 perplexity estimate based on a held-out corpus of 300 documents with 18861 words\n",
      "2017-11-22 01:10:43,164 : INFO : PROGRESS: pass 0, at document #300/300\n",
      "2017-11-22 01:10:43,166 : DEBUG : performing inference on a chunk of 300 documents\n",
      "2017-11-22 01:10:43,246 : DEBUG : 300/300 documents converged within 50 iterations\n",
      "2017-11-22 01:10:43,247 : DEBUG : updating topics\n",
      "2017-11-22 01:10:43,251 : INFO : topic #0 (1.000): 0.007*\"australia\" + 0.006*\"people\" + 0.006*\"government\" + 0.004*\"afghanistan\" + 0.004*\"arafat\" + 0.004*\"police\" + 0.003*\"security\" + 0.003*\"year\" + 0.003*\"today\" + 0.003*\"united_states\"\n",
      "2017-11-22 01:10:43,252 : INFO : topic diff=0.661126, rho=1.000000\n",
      "2017-11-22 01:10:43,255 : DEBUG : Setting topics to those of the model: LdaModel(num_terms=4431, num_topics=1, decay=0.5, chunksize=2000)\n",
      "2017-11-22 01:10:43,259 : INFO : using ParallelWordOccurrenceAccumulator(processes=3, batch_size=64) to estimate probabilities from sliding windows\n",
      "2017-11-22 01:10:43,326 : DEBUG : completed batch 0; 64 documents processed (92 virtual)\n",
      "2017-11-22 01:10:43,354 : DEBUG : completed batch 0; 64 documents processed (271 virtual)\n",
      "2017-11-22 01:10:43,357 : DEBUG : completed batch 0; 64 documents processed (337 virtual)\n",
      "2017-11-22 01:10:43,372 : DEBUG : completed batch 1; 128 documents processed (407 virtual)\n",
      "2017-11-22 01:10:43,375 : DEBUG : observed sentinel value; terminating\n",
      "2017-11-22 01:10:43,377 : DEBUG : completed batch 1; 92 documents processed (362 virtual)\n",
      "2017-11-22 01:10:43,379 : DEBUG : finished all batches; 128 documents processed (407 virtual)\n",
      "2017-11-22 01:10:43,381 : DEBUG : observed sentinel value; terminating\n",
      "2017-11-22 01:10:43,382 : INFO : serializing accumulator to return to master...\n",
      "2017-11-22 01:10:43,384 : DEBUG : finished all batches; 92 documents processed (362 virtual)\n",
      "2017-11-22 01:10:43,386 : INFO : accumulator serialized\n",
      "2017-11-22 01:10:43,387 : INFO : serializing accumulator to return to master...\n",
      "2017-11-22 01:10:43,391 : DEBUG : observed sentinel value; terminating\n",
      "2017-11-22 01:10:43,392 : INFO : accumulator serialized\n",
      "2017-11-22 01:10:43,398 : DEBUG : finished all batches; 64 documents processed (337 virtual)\n",
      "2017-11-22 01:10:43,402 : INFO : serializing accumulator to return to master...\n",
      "2017-11-22 01:10:43,407 : INFO : accumulator serialized\n",
      "2017-11-22 01:10:43,444 : INFO : 3 accumulators retrieved from output queue\n",
      "2017-11-22 01:10:43,463 : INFO : accumulated word occurrence stats for 1106 virtual documents\n",
      "2017-11-22 01:10:43,560 : INFO : using symmetric alpha at 0.5\n",
      "2017-11-22 01:10:43,563 : INFO : using symmetric eta at 0.00022568269013766644\n",
      "2017-11-22 01:10:43,566 : INFO : using serial LDA version on this node\n",
      "2017-11-22 01:10:43,676 : INFO : running online (single-pass) LDA training, 2 topics, 1 passes over the supplied corpus of 300 documents, updating model once every 300 documents, evaluating perplexity every 300 documents, iterating 50x with a convergence threshold of 0.001000\n",
      "2017-11-22 01:10:43,677 : WARNING : too few updates, training might not converge; consider increasing the number of passes or iterations to improve accuracy\n",
      "2017-11-22 01:10:43,780 : DEBUG : bound: at document #0\n",
      "2017-11-22 01:10:45,666 : INFO : -8.930 per-word bound, 487.8 perplexity estimate based on a held-out corpus of 300 documents with 18861 words\n",
      "2017-11-22 01:10:45,668 : INFO : PROGRESS: pass 0, at document #300/300\n",
      "2017-11-22 01:10:45,669 : DEBUG : performing inference on a chunk of 300 documents\n",
      "2017-11-22 01:10:46,607 : DEBUG : 1/300 documents converged within 50 iterations\n",
      "2017-11-22 01:10:46,610 : DEBUG : updating topics\n",
      "2017-11-22 01:10:46,728 : INFO : topic #0 (0.500): 0.009*\"australia\" + 0.007*\"government\" + 0.006*\"people\" + 0.005*\"afghanistan\" + 0.005*\"year\" + 0.004*\"company\" + 0.003*\"cent\" + 0.003*\"test\" + 0.003*\"police\" + 0.003*\"day\"\n",
      "2017-11-22 01:10:46,731 : INFO : topic #1 (0.500): 0.006*\"arafat\" + 0.006*\"people\" + 0.005*\"security\" + 0.005*\"government\" + 0.005*\"australia\" + 0.004*\"police\" + 0.004*\"today\" + 0.003*\"israeli\" + 0.003*\"fire\" + 0.003*\"time\"\n",
      "2017-11-22 01:10:46,733 : INFO : topic diff=0.890589, rho=1.000000\n",
      "2017-11-22 01:10:46,736 : DEBUG : Setting topics to those of the model: LdaModel(num_terms=4431, num_topics=2, decay=0.5, chunksize=2000)\n",
      "2017-11-22 01:10:46,738 : INFO : using ParallelWordOccurrenceAccumulator(processes=3, batch_size=64) to estimate probabilities from sliding windows\n",
      "2017-11-22 01:10:46,809 : DEBUG : completed batch 0; 64 documents processed (92 virtual)\n",
      "2017-11-22 01:10:46,827 : DEBUG : completed batch 0; 64 documents processed (271 virtual)\n",
      "2017-11-22 01:10:46,839 : DEBUG : completed batch 0; 64 documents processed (292 virtual)\n",
      "2017-11-22 01:10:46,848 : DEBUG : observed sentinel value; terminating\n",
      "2017-11-22 01:10:46,851 : DEBUG : finished all batches; 64 documents processed (292 virtual)\n",
      "2017-11-22 01:10:46,854 : INFO : serializing accumulator to return to master...\n",
      "2017-11-22 01:10:46,858 : INFO : accumulator serialized\n",
      "2017-11-22 01:10:46,877 : DEBUG : completed batch 1; 128 documents processed (354 virtual)\n",
      "2017-11-22 01:10:46,882 : DEBUG : observed sentinel value; terminating\n",
      "2017-11-22 01:10:46,884 : DEBUG : finished all batches; 128 documents processed (354 virtual)\n",
      "2017-11-22 01:10:46,887 : INFO : serializing accumulator to return to master...\n",
      "2017-11-22 01:10:46,890 : DEBUG : completed batch 1; 99 documents processed (467 virtual)\n",
      "2017-11-22 01:10:46,894 : DEBUG : observed sentinel value; terminating\n",
      "2017-11-22 01:10:46,897 : DEBUG : finished all batches; 99 documents processed (467 virtual)\n",
      "2017-11-22 01:10:46,900 : INFO : serializing accumulator to return to master...\n",
      "2017-11-22 01:10:46,890 : INFO : accumulator serialized\n",
      "2017-11-22 01:10:46,903 : INFO : accumulator serialized\n",
      "2017-11-22 01:10:46,925 : INFO : 3 accumulators retrieved from output queue\n",
      "2017-11-22 01:10:46,940 : INFO : accumulated word occurrence stats for 1113 virtual documents\n",
      "2017-11-22 01:10:47,095 : INFO : using symmetric alpha at 0.3333333333333333\n",
      "2017-11-22 01:10:47,097 : INFO : using symmetric eta at 0.00022568269013766644\n",
      "2017-11-22 01:10:47,100 : INFO : using serial LDA version on this node\n",
      "2017-11-22 01:10:47,268 : INFO : running online (single-pass) LDA training, 3 topics, 1 passes over the supplied corpus of 300 documents, updating model once every 300 documents, evaluating perplexity every 300 documents, iterating 50x with a convergence threshold of 0.001000\n",
      "2017-11-22 01:10:47,271 : WARNING : too few updates, training might not converge; consider increasing the number of passes or iterations to improve accuracy\n",
      "2017-11-22 01:10:47,447 : DEBUG : bound: at document #0\n",
      "2017-11-22 01:10:49,308 : INFO : -9.176 per-word bound, 578.4 perplexity estimate based on a held-out corpus of 300 documents with 18861 words\n",
      "2017-11-22 01:10:49,311 : INFO : PROGRESS: pass 0, at document #300/300\n",
      "2017-11-22 01:10:49,313 : DEBUG : performing inference on a chunk of 300 documents\n",
      "2017-11-22 01:10:50,224 : DEBUG : 3/300 documents converged within 50 iterations\n",
      "2017-11-22 01:10:50,226 : DEBUG : updating topics\n",
      "2017-11-22 01:10:50,332 : INFO : topic #0 (0.333): 0.008*\"australia\" + 0.007*\"people\" + 0.006*\"government\" + 0.006*\"security\" + 0.005*\"arafat\" + 0.005*\"police\" + 0.004*\"test\" + 0.004*\"year\" + 0.004*\"time\" + 0.004*\"united_states\"\n",
      "2017-11-22 01:10:50,333 : INFO : topic #1 (0.333): 0.006*\"government\" + 0.004*\"australia\" + 0.004*\"year\" + 0.004*\"people\" + 0.003*\"united_states\" + 0.003*\"today\" + 0.003*\"arafat\" + 0.003*\"day\" + 0.003*\"police\" + 0.003*\"man\"\n"
     ]
    },
    {
     "name": "stderr",
     "output_type": "stream",
     "text": [
      "2017-11-22 01:10:50,335 : INFO : topic #2 (0.333): 0.007*\"australia\" + 0.006*\"people\" + 0.006*\"afghanistan\" + 0.005*\"government\" + 0.004*\"company\" + 0.004*\"days\" + 0.003*\"today\" + 0.003*\"man\" + 0.003*\"metres\" + 0.003*\"fire\"\n",
      "2017-11-22 01:10:50,337 : INFO : topic diff=1.219663, rho=1.000000\n",
      "2017-11-22 01:10:50,340 : DEBUG : Setting topics to those of the model: LdaModel(num_terms=4431, num_topics=3, decay=0.5, chunksize=2000)\n",
      "2017-11-22 01:10:50,343 : INFO : using ParallelWordOccurrenceAccumulator(processes=3, batch_size=64) to estimate probabilities from sliding windows\n",
      "2017-11-22 01:10:50,405 : DEBUG : completed batch 0; 64 documents processed (92 virtual)\n",
      "2017-11-22 01:10:50,437 : DEBUG : completed batch 0; 64 documents processed (305 virtual)\n",
      "2017-11-22 01:10:50,438 : DEBUG : completed batch 0; 64 documents processed (258 virtual)\n",
      "2017-11-22 01:10:50,444 : DEBUG : observed sentinel value; terminating\n",
      "2017-11-22 01:10:50,451 : DEBUG : finished all batches; 64 documents processed (258 virtual)\n",
      "2017-11-22 01:10:50,459 : DEBUG : completed batch 1; 128 documents processed (354 virtual)\n",
      "2017-11-22 01:10:50,459 : INFO : serializing accumulator to return to master...\n",
      "2017-11-22 01:10:50,463 : DEBUG : observed sentinel value; terminating\n",
      "2017-11-22 01:10:50,465 : INFO : accumulator serialized\n",
      "2017-11-22 01:10:50,478 : DEBUG : finished all batches; 128 documents processed (354 virtual)\n",
      "2017-11-22 01:10:50,482 : DEBUG : completed batch 1; 104 documents processed (506 virtual)\n",
      "2017-11-22 01:10:50,487 : INFO : serializing accumulator to return to master...\n",
      "2017-11-22 01:10:50,491 : DEBUG : observed sentinel value; terminating\n",
      "2017-11-22 01:10:50,500 : DEBUG : finished all batches; 104 documents processed (506 virtual)\n",
      "2017-11-22 01:10:50,499 : INFO : accumulator serialized\n",
      "2017-11-22 01:10:50,507 : INFO : serializing accumulator to return to master...\n",
      "2017-11-22 01:10:50,520 : INFO : accumulator serialized\n",
      "2017-11-22 01:10:50,538 : INFO : 3 accumulators retrieved from output queue\n",
      "2017-11-22 01:10:50,558 : INFO : accumulated word occurrence stats for 1118 virtual documents\n",
      "2017-11-22 01:10:50,758 : INFO : using symmetric alpha at 0.25\n",
      "2017-11-22 01:10:50,760 : INFO : using symmetric eta at 0.00022568269013766644\n",
      "2017-11-22 01:10:50,762 : INFO : using serial LDA version on this node\n",
      "2017-11-22 01:10:50,959 : INFO : running online (single-pass) LDA training, 4 topics, 1 passes over the supplied corpus of 300 documents, updating model once every 300 documents, evaluating perplexity every 300 documents, iterating 50x with a convergence threshold of 0.001000\n",
      "2017-11-22 01:10:50,962 : WARNING : too few updates, training might not converge; consider increasing the number of passes or iterations to improve accuracy\n",
      "2017-11-22 01:10:51,203 : DEBUG : bound: at document #0\n",
      "2017-11-22 01:10:53,037 : INFO : -9.457 per-word bound, 702.6 perplexity estimate based on a held-out corpus of 300 documents with 18861 words\n",
      "2017-11-22 01:10:53,040 : INFO : PROGRESS: pass 0, at document #300/300\n",
      "2017-11-22 01:10:53,042 : DEBUG : performing inference on a chunk of 300 documents\n",
      "2017-11-22 01:10:53,932 : DEBUG : 7/300 documents converged within 50 iterations\n",
      "2017-11-22 01:10:53,935 : DEBUG : updating topics\n",
      "2017-11-22 01:10:54,047 : INFO : topic #0 (0.250): 0.008*\"australia\" + 0.007*\"company\" + 0.005*\"government\" + 0.005*\"people\" + 0.005*\"afghanistan\" + 0.004*\"cent\" + 0.004*\"time\" + 0.004*\"security\" + 0.003*\"year\" + 0.003*\"forces\"\n",
      "2017-11-22 01:10:54,051 : INFO : topic #1 (0.250): 0.009*\"australia\" + 0.006*\"arafat\" + 0.005*\"security\" + 0.005*\"government\" + 0.005*\"people\" + 0.004*\"today\" + 0.004*\"president\" + 0.004*\"united_states\" + 0.003*\"police\" + 0.003*\"attack\"\n",
      "2017-11-22 01:10:54,052 : INFO : topic #2 (0.250): 0.010*\"people\" + 0.006*\"australia\" + 0.006*\"government\" + 0.005*\"afghanistan\" + 0.005*\"police\" + 0.005*\"taliban\" + 0.005*\"man\" + 0.004*\"year\" + 0.004*\"united_states\" + 0.004*\"today\"\n",
      "2017-11-22 01:10:54,055 : INFO : topic #3 (0.250): 0.007*\"government\" + 0.006*\"fire\" + 0.005*\"arafat\" + 0.004*\"people\" + 0.004*\"police\" + 0.004*\"israel\" + 0.004*\"test\" + 0.004*\"commission\" + 0.003*\"australia\" + 0.003*\"israeli\"\n",
      "2017-11-22 01:10:54,056 : INFO : topic diff=1.652509, rho=1.000000\n",
      "2017-11-22 01:10:54,059 : DEBUG : Setting topics to those of the model: LdaModel(num_terms=4431, num_topics=4, decay=0.5, chunksize=2000)\n",
      "2017-11-22 01:10:54,062 : INFO : using ParallelWordOccurrenceAccumulator(processes=3, batch_size=64) to estimate probabilities from sliding windows\n",
      "2017-11-22 01:10:54,126 : DEBUG : completed batch 0; 64 documents processed (92 virtual)\n",
      "2017-11-22 01:10:54,165 : DEBUG : completed batch 0; 64 documents processed (305 virtual)\n",
      "2017-11-22 01:10:54,166 : DEBUG : completed batch 0; 64 documents processed (258 virtual)\n",
      "2017-11-22 01:10:54,171 : DEBUG : observed sentinel value; terminating\n",
      "2017-11-22 01:10:54,174 : DEBUG : finished all batches; 64 documents processed (258 virtual)\n",
      "2017-11-22 01:10:54,180 : INFO : serializing accumulator to return to master...\n",
      "2017-11-22 01:10:54,186 : INFO : accumulator serialized\n",
      "2017-11-22 01:10:54,194 : DEBUG : completed batch 1; 128 documents processed (333 virtual)\n",
      "2017-11-22 01:10:54,201 : DEBUG : observed sentinel value; terminating\n",
      "2017-11-22 01:10:54,204 : DEBUG : finished all batches; 128 documents processed (333 virtual)\n",
      "2017-11-22 01:10:54,207 : INFO : serializing accumulator to return to master...\n",
      "2017-11-22 01:10:54,212 : INFO : accumulator serialized\n",
      "2017-11-22 01:10:54,241 : DEBUG : completed batch 1; 106 documents processed (529 virtual)\n",
      "2017-11-22 01:10:54,243 : DEBUG : observed sentinel value; terminating\n",
      "2017-11-22 01:10:54,247 : DEBUG : finished all batches; 106 documents processed (529 virtual)\n",
      "2017-11-22 01:10:54,250 : INFO : serializing accumulator to return to master...\n",
      "2017-11-22 01:10:54,258 : INFO : accumulator serialized\n",
      "2017-11-22 01:10:54,277 : INFO : 3 accumulators retrieved from output queue\n",
      "2017-11-22 01:10:54,291 : INFO : accumulated word occurrence stats for 1120 virtual documents\n",
      "2017-11-22 01:10:54,548 : INFO : using symmetric alpha at 0.2\n",
      "2017-11-22 01:10:54,550 : INFO : using symmetric eta at 0.00022568269013766644\n",
      "2017-11-22 01:10:54,553 : INFO : using serial LDA version on this node\n",
      "2017-11-22 01:10:54,789 : INFO : running online (single-pass) LDA training, 5 topics, 1 passes over the supplied corpus of 300 documents, updating model once every 300 documents, evaluating perplexity every 300 documents, iterating 50x with a convergence threshold of 0.001000\n",
      "2017-11-22 01:10:54,791 : WARNING : too few updates, training might not converge; consider increasing the number of passes or iterations to improve accuracy\n",
      "2017-11-22 01:10:55,100 : DEBUG : bound: at document #0\n",
      "2017-11-22 01:10:57,200 : INFO : -9.763 per-word bound, 868.6 perplexity estimate based on a held-out corpus of 300 documents with 18861 words\n",
      "2017-11-22 01:10:57,201 : INFO : PROGRESS: pass 0, at document #300/300\n",
      "2017-11-22 01:10:57,203 : DEBUG : performing inference on a chunk of 300 documents\n",
      "2017-11-22 01:10:58,266 : DEBUG : 19/300 documents converged within 50 iterations\n",
      "2017-11-22 01:10:58,269 : DEBUG : updating topics\n",
      "2017-11-22 01:10:58,380 : INFO : topic #0 (0.200): 0.011*\"government\" + 0.006*\"australia\" + 0.004*\"people\" + 0.004*\"arafat\" + 0.004*\"israeli\" + 0.004*\"israel\" + 0.003*\"police\" + 0.003*\"fire\" + 0.003*\"hamas\" + 0.003*\"peace\"\n",
      "2017-11-22 01:10:58,382 : INFO : topic #1 (0.200): 0.010*\"people\" + 0.006*\"australia\" + 0.005*\"company\" + 0.005*\"police\" + 0.005*\"security\" + 0.004*\"commission\" + 0.004*\"government\" + 0.004*\"afghanistan\" + 0.004*\"united_states\" + 0.004*\"year\"\n",
      "2017-11-22 01:10:58,385 : INFO : topic #2 (0.200): 0.006*\"australia\" + 0.005*\"arafat\" + 0.004*\"people\" + 0.004*\"fire\" + 0.004*\"today\" + 0.004*\"afghanistan\" + 0.004*\"years\" + 0.004*\"time\" + 0.003*\"forces\" + 0.003*\"cent\"\n",
      "2017-11-22 01:10:58,387 : INFO : topic #3 (0.200): 0.008*\"afghanistan\" + 0.006*\"united_states\" + 0.005*\"government\" + 0.004*\"afghan\" + 0.004*\"people\" + 0.004*\"australia\" + 0.004*\"year\" + 0.004*\"laden\" + 0.004*\"forces\" + 0.004*\"security\"\n",
      "2017-11-22 01:10:58,389 : INFO : topic #4 (0.200): 0.011*\"australia\" + 0.006*\"people\" + 0.005*\"government\" + 0.005*\"test\" + 0.005*\"arafat\" + 0.004*\"time\" + 0.004*\"police\" + 0.004*\"today\" + 0.004*\"day\" + 0.003*\"power\"\n"
     ]
    },
    {
     "name": "stderr",
     "output_type": "stream",
     "text": [
      "2017-11-22 01:10:58,391 : INFO : topic diff=2.101508, rho=1.000000\n",
      "2017-11-22 01:10:58,394 : DEBUG : Setting topics to those of the model: LdaModel(num_terms=4431, num_topics=5, decay=0.5, chunksize=2000)\n",
      "2017-11-22 01:10:58,396 : INFO : using ParallelWordOccurrenceAccumulator(processes=3, batch_size=64) to estimate probabilities from sliding windows\n",
      "2017-11-22 01:10:58,474 : DEBUG : completed batch 0; 64 documents processed (92 virtual)\n",
      "2017-11-22 01:10:58,506 : DEBUG : completed batch 0; 64 documents processed (258 virtual)\n",
      "2017-11-22 01:10:58,509 : DEBUG : completed batch 0; 64 documents processed (305 virtual)\n",
      "2017-11-22 01:10:58,514 : DEBUG : observed sentinel value; terminating\n",
      "2017-11-22 01:10:58,518 : DEBUG : finished all batches; 64 documents processed (305 virtual)\n",
      "2017-11-22 01:10:58,522 : INFO : serializing accumulator to return to master...\n",
      "2017-11-22 01:10:58,528 : INFO : accumulator serialized\n",
      "2017-11-22 01:10:58,533 : DEBUG : completed batch 1; 128 documents processed (332 virtual)\n",
      "2017-11-22 01:10:58,537 : DEBUG : observed sentinel value; terminating\n",
      "2017-11-22 01:10:58,541 : DEBUG : finished all batches; 128 documents processed (332 virtual)\n",
      "2017-11-22 01:10:58,545 : INFO : serializing accumulator to return to master...\n",
      "2017-11-22 01:10:58,550 : INFO : accumulator serialized\n",
      "2017-11-22 01:10:58,562 : DEBUG : completed batch 1; 107 documents processed (484 virtual)\n",
      "2017-11-22 01:10:58,564 : DEBUG : observed sentinel value; terminating\n",
      "2017-11-22 01:10:58,567 : DEBUG : finished all batches; 107 documents processed (484 virtual)\n",
      "2017-11-22 01:10:58,570 : INFO : serializing accumulator to return to master...\n",
      "2017-11-22 01:10:58,573 : INFO : accumulator serialized\n",
      "2017-11-22 01:10:58,602 : INFO : 3 accumulators retrieved from output queue\n",
      "2017-11-22 01:10:58,625 : INFO : accumulated word occurrence stats for 1121 virtual documents\n",
      "2017-11-22 01:10:58,996 : INFO : using symmetric alpha at 0.16666666666666666\n",
      "2017-11-22 01:10:58,999 : INFO : using symmetric eta at 0.00022568269013766644\n",
      "2017-11-22 01:10:59,002 : INFO : using serial LDA version on this node\n",
      "2017-11-22 01:10:59,293 : INFO : running online (single-pass) LDA training, 6 topics, 1 passes over the supplied corpus of 300 documents, updating model once every 300 documents, evaluating perplexity every 300 documents, iterating 50x with a convergence threshold of 0.001000\n",
      "2017-11-22 01:10:59,296 : WARNING : too few updates, training might not converge; consider increasing the number of passes or iterations to improve accuracy\n",
      "2017-11-22 01:10:59,707 : DEBUG : bound: at document #0\n",
      "2017-11-22 01:11:01,872 : INFO : -10.095 per-word bound, 1093.9 perplexity estimate based on a held-out corpus of 300 documents with 18861 words\n",
      "2017-11-22 01:11:01,874 : INFO : PROGRESS: pass 0, at document #300/300\n",
      "2017-11-22 01:11:01,876 : DEBUG : performing inference on a chunk of 300 documents\n",
      "2017-11-22 01:11:02,815 : DEBUG : 22/300 documents converged within 50 iterations\n",
      "2017-11-22 01:11:02,817 : DEBUG : updating topics\n",
      "2017-11-22 01:11:02,931 : INFO : topic #0 (0.167): 0.008*\"arafat\" + 0.007*\"government\" + 0.005*\"year\" + 0.005*\"report\" + 0.005*\"australia\" + 0.004*\"forces\" + 0.004*\"people\" + 0.004*\"union\" + 0.004*\"afghanistan\" + 0.004*\"commission\"\n",
      "2017-11-22 01:11:02,934 : INFO : topic #2 (0.167): 0.008*\"people\" + 0.006*\"government\" + 0.005*\"australia\" + 0.005*\"president\" + 0.005*\"israeli\" + 0.004*\"police\" + 0.004*\"afghanistan\" + 0.004*\"meeting\" + 0.004*\"day\" + 0.004*\"security\"\n",
      "2017-11-22 01:11:02,936 : INFO : topic #3 (0.167): 0.010*\"government\" + 0.006*\"taliban\" + 0.006*\"qantas\" + 0.005*\"company\" + 0.004*\"unions\" + 0.004*\"workers\" + 0.004*\"people\" + 0.004*\"afghanistan\" + 0.004*\"commission\" + 0.004*\"year\"\n",
      "2017-11-22 01:11:02,938 : INFO : topic #4 (0.167): 0.012*\"australia\" + 0.006*\"people\" + 0.006*\"government\" + 0.005*\"today\" + 0.005*\"world\" + 0.004*\"cent\" + 0.004*\"sydney\" + 0.004*\"security\" + 0.003*\"company\" + 0.003*\"year\"\n",
      "2017-11-22 01:11:02,941 : INFO : topic #1 (0.167): 0.010*\"australia\" + 0.006*\"man\" + 0.006*\"afghanistan\" + 0.006*\"people\" + 0.005*\"pakistan\" + 0.005*\"united_states\" + 0.004*\"government\" + 0.004*\"laden\" + 0.004*\"company\" + 0.004*\"test\"\n",
      "2017-11-22 01:11:02,943 : INFO : topic diff=2.745775, rho=1.000000\n",
      "2017-11-22 01:11:02,947 : DEBUG : Setting topics to those of the model: LdaModel(num_terms=4431, num_topics=6, decay=0.5, chunksize=2000)\n",
      "2017-11-22 01:11:02,951 : INFO : using ParallelWordOccurrenceAccumulator(processes=3, batch_size=64) to estimate probabilities from sliding windows\n",
      "2017-11-22 01:11:03,027 : DEBUG : completed batch 0; 64 documents processed (92 virtual)\n",
      "2017-11-22 01:11:03,064 : DEBUG : completed batch 0; 64 documents processed (258 virtual)\n",
      "2017-11-22 01:11:03,081 : DEBUG : completed batch 0; 64 documents processed (305 virtual)\n",
      "2017-11-22 01:11:03,087 : DEBUG : observed sentinel value; terminating\n",
      "2017-11-22 01:11:03,090 : DEBUG : finished all batches; 64 documents processed (305 virtual)\n",
      "2017-11-22 01:11:03,093 : INFO : serializing accumulator to return to master...\n",
      "2017-11-22 01:11:03,099 : INFO : accumulator serialized\n",
      "2017-11-22 01:11:03,127 : DEBUG : completed batch 1; 128 documents processed (333 virtual)\n",
      "2017-11-22 01:11:03,130 : DEBUG : observed sentinel value; terminating\n",
      "2017-11-22 01:11:03,134 : DEBUG : finished all batches; 128 documents processed (333 virtual)\n",
      "2017-11-22 01:11:03,137 : INFO : serializing accumulator to return to master...\n",
      "2017-11-22 01:11:03,147 : DEBUG : completed batch 1; 106 documents processed (482 virtual)\n",
      "2017-11-22 01:11:03,150 : DEBUG : observed sentinel value; terminating\n",
      "2017-11-22 01:11:03,154 : DEBUG : finished all batches; 106 documents processed (482 virtual)\n",
      "2017-11-22 01:11:03,157 : INFO : serializing accumulator to return to master...\n",
      "2017-11-22 01:11:03,140 : INFO : accumulator serialized\n",
      "2017-11-22 01:11:03,162 : INFO : accumulator serialized\n",
      "2017-11-22 01:11:03,185 : INFO : 3 accumulators retrieved from output queue\n",
      "2017-11-22 01:11:03,203 : INFO : accumulated word occurrence stats for 1120 virtual documents\n",
      "2017-11-22 01:11:03,574 : INFO : using symmetric alpha at 0.14285714285714285\n",
      "2017-11-22 01:11:03,576 : INFO : using symmetric eta at 0.00022568269013766644\n",
      "2017-11-22 01:11:03,580 : INFO : using serial LDA version on this node\n",
      "2017-11-22 01:11:03,904 : INFO : running online (single-pass) LDA training, 7 topics, 1 passes over the supplied corpus of 300 documents, updating model once every 300 documents, evaluating perplexity every 300 documents, iterating 50x with a convergence threshold of 0.001000\n",
      "2017-11-22 01:11:03,907 : WARNING : too few updates, training might not converge; consider increasing the number of passes or iterations to improve accuracy\n",
      "2017-11-22 01:11:04,370 : DEBUG : bound: at document #0\n",
      "2017-11-22 01:11:06,336 : INFO : -10.452 per-word bound, 1400.8 perplexity estimate based on a held-out corpus of 300 documents with 18861 words\n",
      "2017-11-22 01:11:06,339 : INFO : PROGRESS: pass 0, at document #300/300\n",
      "2017-11-22 01:11:06,341 : DEBUG : performing inference on a chunk of 300 documents\n",
      "2017-11-22 01:11:07,289 : DEBUG : 22/300 documents converged within 50 iterations\n",
      "2017-11-22 01:11:07,291 : DEBUG : updating topics\n",
      "2017-11-22 01:11:07,409 : INFO : topic #0 (0.143): 0.007*\"fire\" + 0.007*\"metres\" + 0.006*\"australia\" + 0.005*\"sydney\" + 0.004*\"action\" + 0.004*\"night\" + 0.004*\"yesterday\" + 0.003*\"company\" + 0.003*\"event\" + 0.003*\"police\"\n",
      "2017-11-22 01:11:07,412 : INFO : topic #3 (0.143): 0.013*\"australia\" + 0.011*\"government\" + 0.009*\"afghanistan\" + 0.008*\"people\" + 0.007*\"test\" + 0.005*\"united_states\" + 0.004*\"day\" + 0.004*\"match\" + 0.004*\"team\" + 0.004*\"force\"\n",
      "2017-11-22 01:11:07,415 : INFO : topic #4 (0.143): 0.005*\"year\" + 0.005*\"sydney\" + 0.004*\"time\" + 0.004*\"government\" + 0.004*\"people\" + 0.004*\"today\" + 0.004*\"security\" + 0.004*\"police\" + 0.004*\"afghanistan\" + 0.004*\"fire\"\n",
      "2017-11-22 01:11:07,418 : INFO : topic #2 (0.143): 0.008*\"man\" + 0.007*\"australia\" + 0.006*\"security\" + 0.006*\"fire\" + 0.005*\"pakistan\" + 0.004*\"people\" + 0.004*\"year\" + 0.004*\"officials\" + 0.004*\"south\" + 0.003*\"today\"\n",
      "2017-11-22 01:11:07,420 : INFO : topic #1 (0.143): 0.007*\"commission\" + 0.006*\"government\" + 0.005*\"people\" + 0.005*\"arafat\" + 0.005*\"union\" + 0.005*\"today\" + 0.004*\"world\" + 0.004*\"year\" + 0.004*\"peace\" + 0.003*\"day\"\n"
     ]
    },
    {
     "name": "stderr",
     "output_type": "stream",
     "text": [
      "2017-11-22 01:11:07,423 : INFO : topic diff=3.376669, rho=1.000000\n",
      "2017-11-22 01:11:07,426 : DEBUG : Setting topics to those of the model: LdaModel(num_terms=4431, num_topics=7, decay=0.5, chunksize=2000)\n",
      "2017-11-22 01:11:07,429 : INFO : using ParallelWordOccurrenceAccumulator(processes=3, batch_size=64) to estimate probabilities from sliding windows\n",
      "2017-11-22 01:11:07,512 : DEBUG : completed batch 0; 64 documents processed (92 virtual)\n",
      "2017-11-22 01:11:07,564 : DEBUG : completed batch 0; 64 documents processed (258 virtual)\n",
      "2017-11-22 01:11:07,568 : DEBUG : completed batch 0; 64 documents processed (305 virtual)\n",
      "2017-11-22 01:11:07,575 : DEBUG : observed sentinel value; terminating\n",
      "2017-11-22 01:11:07,582 : DEBUG : finished all batches; 64 documents processed (305 virtual)\n",
      "2017-11-22 01:11:07,587 : INFO : serializing accumulator to return to master...\n",
      "2017-11-22 01:11:07,596 : INFO : accumulator serialized\n",
      "2017-11-22 01:11:07,594 : DEBUG : completed batch 1; 128 documents processed (332 virtual)\n",
      "2017-11-22 01:11:07,600 : DEBUG : observed sentinel value; terminating\n",
      "2017-11-22 01:11:07,613 : DEBUG : finished all batches; 128 documents processed (332 virtual)\n",
      "2017-11-22 01:11:07,619 : INFO : serializing accumulator to return to master...\n",
      "2017-11-22 01:11:07,632 : INFO : accumulator serialized\n",
      "2017-11-22 01:11:07,647 : DEBUG : completed batch 1; 108 documents processed (485 virtual)\n",
      "2017-11-22 01:11:07,650 : DEBUG : observed sentinel value; terminating\n",
      "2017-11-22 01:11:07,653 : DEBUG : finished all batches; 108 documents processed (485 virtual)\n",
      "2017-11-22 01:11:07,657 : INFO : serializing accumulator to return to master...\n",
      "2017-11-22 01:11:07,666 : INFO : accumulator serialized\n",
      "2017-11-22 01:11:07,689 : INFO : 3 accumulators retrieved from output queue\n",
      "2017-11-22 01:11:07,708 : INFO : accumulated word occurrence stats for 1122 virtual documents\n",
      "2017-11-22 01:11:08,185 : INFO : using symmetric alpha at 0.125\n",
      "2017-11-22 01:11:08,187 : INFO : using symmetric eta at 0.00022568269013766644\n",
      "2017-11-22 01:11:08,191 : INFO : using serial LDA version on this node\n",
      "2017-11-22 01:11:08,592 : INFO : running online (single-pass) LDA training, 8 topics, 1 passes over the supplied corpus of 300 documents, updating model once every 300 documents, evaluating perplexity every 300 documents, iterating 50x with a convergence threshold of 0.001000\n",
      "2017-11-22 01:11:08,594 : WARNING : too few updates, training might not converge; consider increasing the number of passes or iterations to improve accuracy\n",
      "2017-11-22 01:11:09,099 : DEBUG : bound: at document #0\n",
      "2017-11-22 01:11:10,965 : INFO : -10.837 per-word bound, 1829.8 perplexity estimate based on a held-out corpus of 300 documents with 18861 words\n",
      "2017-11-22 01:11:10,966 : INFO : PROGRESS: pass 0, at document #300/300\n",
      "2017-11-22 01:11:10,968 : DEBUG : performing inference on a chunk of 300 documents\n",
      "2017-11-22 01:11:11,912 : DEBUG : 29/300 documents converged within 50 iterations\n",
      "2017-11-22 01:11:11,915 : DEBUG : updating topics\n",
      "2017-11-22 01:11:12,035 : INFO : topic #0 (0.125): 0.005*\"staff\" + 0.004*\"new_zealand\" + 0.004*\"security\" + 0.004*\"man\" + 0.004*\"australia\" + 0.003*\"people\" + 0.003*\"aircraft\" + 0.003*\"year\" + 0.003*\"information\" + 0.003*\"force\"\n",
      "2017-11-22 01:11:12,037 : INFO : topic #1 (0.125): 0.012*\"people\" + 0.008*\"australia\" + 0.006*\"year\" + 0.006*\"test\" + 0.005*\"government\" + 0.005*\"metres\" + 0.005*\"cent\" + 0.004*\"report\" + 0.004*\"police\" + 0.004*\"children\"\n",
      "2017-11-22 01:11:12,039 : INFO : topic #3 (0.125): 0.006*\"israel\" + 0.006*\"arafat\" + 0.005*\"fire\" + 0.005*\"israeli\" + 0.004*\"hospital\" + 0.004*\"people\" + 0.004*\"officials\" + 0.004*\"station\" + 0.003*\"space\" + 0.003*\"west_bank\"\n",
      "2017-11-22 01:11:12,041 : INFO : topic #6 (0.125): 0.007*\"australia\" + 0.007*\"commission\" + 0.006*\"year\" + 0.006*\"world\" + 0.006*\"today\" + 0.005*\"company\" + 0.005*\"united_states\" + 0.004*\"economy\" + 0.004*\"taliban\" + 0.004*\"cent\"\n",
      "2017-11-22 01:11:12,044 : INFO : topic #7 (0.125): 0.012*\"government\" + 0.007*\"people\" + 0.006*\"afghanistan\" + 0.005*\"forces\" + 0.005*\"pakistan\" + 0.005*\"taliban\" + 0.005*\"president\" + 0.004*\"australia\" + 0.004*\"state\" + 0.004*\"security\"\n",
      "2017-11-22 01:11:12,046 : INFO : topic diff=4.066159, rho=1.000000\n",
      "2017-11-22 01:11:12,050 : DEBUG : Setting topics to those of the model: LdaModel(num_terms=4431, num_topics=8, decay=0.5, chunksize=2000)\n",
      "2017-11-22 01:11:12,053 : INFO : using ParallelWordOccurrenceAccumulator(processes=3, batch_size=64) to estimate probabilities from sliding windows\n",
      "2017-11-22 01:11:12,146 : DEBUG : completed batch 0; 64 documents processed (92 virtual)\n",
      "2017-11-22 01:11:12,195 : DEBUG : completed batch 0; 64 documents processed (305 virtual)\n",
      "2017-11-22 01:11:12,196 : DEBUG : completed batch 0; 64 documents processed (258 virtual)\n",
      "2017-11-22 01:11:12,203 : DEBUG : observed sentinel value; terminating\n",
      "2017-11-22 01:11:12,209 : DEBUG : finished all batches; 64 documents processed (258 virtual)\n",
      "2017-11-22 01:11:12,216 : INFO : serializing accumulator to return to master...\n",
      "2017-11-22 01:11:12,242 : DEBUG : completed batch 1; 128 documents processed (332 virtual)\n",
      "2017-11-22 01:11:12,225 : INFO : accumulator serialized\n",
      "2017-11-22 01:11:12,248 : DEBUG : observed sentinel value; terminating\n",
      "2017-11-22 01:11:12,258 : DEBUG : finished all batches; 128 documents processed (332 virtual)\n",
      "2017-11-22 01:11:12,270 : INFO : serializing accumulator to return to master...\n",
      "2017-11-22 01:11:12,274 : INFO : accumulator serialized\n",
      "2017-11-22 01:11:12,283 : DEBUG : completed batch 1; 107 documents processed (531 virtual)\n",
      "2017-11-22 01:11:12,288 : DEBUG : observed sentinel value; terminating\n",
      "2017-11-22 01:11:12,291 : DEBUG : finished all batches; 107 documents processed (531 virtual)\n",
      "2017-11-22 01:11:12,295 : INFO : serializing accumulator to return to master...\n",
      "2017-11-22 01:11:12,301 : INFO : accumulator serialized\n",
      "2017-11-22 01:11:12,330 : INFO : 3 accumulators retrieved from output queue\n",
      "2017-11-22 01:11:12,352 : INFO : accumulated word occurrence stats for 1121 virtual documents\n",
      "2017-11-22 01:11:12,879 : INFO : using symmetric alpha at 0.1111111111111111\n",
      "2017-11-22 01:11:12,880 : INFO : using symmetric eta at 0.00022568269013766644\n",
      "2017-11-22 01:11:12,883 : INFO : using serial LDA version on this node\n",
      "2017-11-22 01:11:13,312 : INFO : running online (single-pass) LDA training, 9 topics, 1 passes over the supplied corpus of 300 documents, updating model once every 300 documents, evaluating perplexity every 300 documents, iterating 50x with a convergence threshold of 0.001000\n",
      "2017-11-22 01:11:13,315 : WARNING : too few updates, training might not converge; consider increasing the number of passes or iterations to improve accuracy\n",
      "2017-11-22 01:11:13,923 : DEBUG : bound: at document #0\n",
      "2017-11-22 01:11:15,803 : INFO : -11.246 per-word bound, 2429.4 perplexity estimate based on a held-out corpus of 300 documents with 18861 words\n",
      "2017-11-22 01:11:15,806 : INFO : PROGRESS: pass 0, at document #300/300\n",
      "2017-11-22 01:11:15,808 : DEBUG : performing inference on a chunk of 300 documents\n",
      "2017-11-22 01:11:16,766 : DEBUG : 23/300 documents converged within 50 iterations\n",
      "2017-11-22 01:11:16,768 : DEBUG : updating topics\n",
      "2017-11-22 01:11:16,889 : INFO : topic #6 (0.111): 0.007*\"government\" + 0.006*\"australia\" + 0.005*\"afghanistan\" + 0.005*\"people\" + 0.005*\"taliban\" + 0.004*\"time\" + 0.004*\"today\" + 0.004*\"man\" + 0.004*\"sydney\" + 0.004*\"force\"\n",
      "2017-11-22 01:11:16,892 : INFO : topic #0 (0.111): 0.008*\"australia\" + 0.006*\"government\" + 0.006*\"test\" + 0.006*\"team\" + 0.006*\"hamas\" + 0.006*\"arafat\" + 0.005*\"israel\" + 0.004*\"sydney\" + 0.004*\"attack\" + 0.004*\"police\"\n",
      "2017-11-22 01:11:16,894 : INFO : topic #5 (0.111): 0.009*\"afghanistan\" + 0.009*\"government\" + 0.008*\"afghan\" + 0.007*\"australia\" + 0.006*\"people\" + 0.006*\"forces\" + 0.006*\"security\" + 0.005*\"days\" + 0.005*\"president\" + 0.005*\"pakistan\"\n",
      "2017-11-22 01:11:16,896 : INFO : topic #7 (0.111): 0.007*\"australia\" + 0.006*\"government\" + 0.005*\"israeli\" + 0.005*\"arafat\" + 0.004*\"india\" + 0.004*\"years\" + 0.004*\"east_timor\" + 0.004*\"year\" + 0.004*\"peace\" + 0.004*\"today\"\n",
      "2017-11-22 01:11:16,899 : INFO : topic #4 (0.111): 0.013*\"australia\" + 0.008*\"people\" + 0.007*\"man\" + 0.007*\"government\" + 0.007*\"company\" + 0.005*\"action\" + 0.004*\"year\" + 0.004*\"qantas\" + 0.004*\"police\" + 0.004*\"unions\"\n"
     ]
    },
    {
     "name": "stderr",
     "output_type": "stream",
     "text": [
      "2017-11-22 01:11:16,901 : INFO : topic diff=4.736394, rho=1.000000\n",
      "2017-11-22 01:11:16,904 : DEBUG : Setting topics to those of the model: LdaModel(num_terms=4431, num_topics=9, decay=0.5, chunksize=2000)\n",
      "2017-11-22 01:11:16,907 : INFO : using ParallelWordOccurrenceAccumulator(processes=3, batch_size=64) to estimate probabilities from sliding windows\n",
      "2017-11-22 01:11:17,006 : DEBUG : completed batch 0; 64 documents processed (92 virtual)\n",
      "2017-11-22 01:11:17,040 : DEBUG : completed batch 0; 64 documents processed (258 virtual)\n",
      "2017-11-22 01:11:17,058 : DEBUG : completed batch 0; 64 documents processed (305 virtual)\n",
      "2017-11-22 01:11:17,064 : DEBUG : observed sentinel value; terminating\n",
      "2017-11-22 01:11:17,067 : DEBUG : finished all batches; 64 documents processed (305 virtual)\n",
      "2017-11-22 01:11:17,072 : INFO : serializing accumulator to return to master...\n",
      "2017-11-22 01:11:17,083 : INFO : accumulator serialized\n",
      "2017-11-22 01:11:17,122 : DEBUG : completed batch 1; 128 documents processed (332 virtual)\n",
      "2017-11-22 01:11:17,124 : DEBUG : observed sentinel value; terminating\n",
      "2017-11-22 01:11:17,129 : DEBUG : finished all batches; 128 documents processed (332 virtual)\n",
      "2017-11-22 01:11:17,132 : INFO : serializing accumulator to return to master...\n",
      "2017-11-22 01:11:17,152 : DEBUG : completed batch 1; 108 documents processed (485 virtual)\n",
      "2017-11-22 01:11:17,136 : INFO : accumulator serialized\n",
      "2017-11-22 01:11:17,154 : DEBUG : observed sentinel value; terminating\n",
      "2017-11-22 01:11:17,159 : DEBUG : finished all batches; 108 documents processed (485 virtual)\n",
      "2017-11-22 01:11:17,167 : INFO : serializing accumulator to return to master...\n",
      "2017-11-22 01:11:17,170 : INFO : accumulator serialized\n",
      "2017-11-22 01:11:17,197 : INFO : 3 accumulators retrieved from output queue\n",
      "2017-11-22 01:11:17,220 : INFO : accumulated word occurrence stats for 1122 virtual documents\n"
     ]
    },
    {
     "data": {
      "image/png": "[encoded data removed]",
      "text/plain": [
       "<matplotlib.figure.Figure at 0x1a2494f4a8>"
      ]
     },
     "metadata": {},
     "output_type": "display_data"
    },
    {
     "name": "stdout",
     "output_type": "stream",
     "text": [
      "CPU times: user 34 s, sys: 874 ms, total: 34.8 s\n",
      "Wall time: 36 s\n"
     ]
    }
   ],
   "source": [
    "%%time\n",
    "lmlist, c_v = evaluate_graph(dictionary=dictionary, corpus=corpus, texts=train_texts, limit=10)"
   ]
  },
  {
   "cell_type": "code",
   "execution_count": 13,
   "metadata": {
    "nbpresent": {
     "id": "c02b6f0a-801c-4a8f-aa8f-8c9d64df7a9a"
    }
   },
   "outputs": [
    {
     "name": "stderr",
     "output_type": "stream",
     "text": [
      "2017-11-22 01:11:17,989 : DEBUG : performing inference on a chunk of 300 documents\n",
      "2017-11-22 01:11:18,491 : DEBUG : 260/300 documents converged within 50 iterations\n",
      "/Users/home/Desenvolvimento/anaconda3/lib/python3.6/site-packages/pyLDAvis/_prepare.py:387: DeprecationWarning: \n",
      ".ix is deprecated. Please use\n",
      ".loc for label based indexing or\n",
      ".iloc for positional indexing\n",
      "\n",
      "See the documentation here:\n",
      "http://pandas.pydata.org/pandas-docs/stable/indexing.html#ix-indexer-is-deprecated\n",
      "  topic_term_dists = topic_term_dists.ix[topic_order]\n"
     ]
    },
    {
     "data": {
      "text/html": [
       "\n",
       "<link rel=\"stylesheet\" type=\"text/css\" href=\"https://cdn.rawgit.com/bmabey/pyLDAvis/files/ldavis.v1.0.0.css\">\n",
       "\n",
       "\n",
       "<div id=\"ldavis_el20161122804770321561557605\"></div>\n",
       "<script type=\"text/javascript\">\n",
       "\n",
       "var ldavis_el20161122804770321561557605_data = {\"mdsDat\": {\"Freq\": [14.945761530941967, 13.780041140345725, 13.349641057614944, 12.806610349637962, 12.138166255835603, 11.44602110696658, 8.693269078778997, 6.731656221273161, 6.108833258605071], \"cluster\": [1, 1, 1, 1, 1, 1, 1, 1, 1], \"topics\": [1, 2, 3, 4, 5, 6, 7, 8, 9], \"x\": [0.07208859525457498, 0.024112682828416984, 0.025228594561969388, 0.004053349115767518, 0.046272537214377636, -0.02997412559978935, -0.008390351090147484, -0.030597842821542803, -0.10279343946362689], \"y\": [-0.0008473950666339858, 0.013608437702736169, 0.039164009124049146, 0.012296838433678476, 0.03030335215117968, -0.05465065235186561, -0.07374791501603165, -0.0205286554816958, 0.054401980504583634]}, \"tinfo\": {\"Category\": [\"Default\", \"Default\", \"Default\", \"Default\", \"Default\", \"Default\", \"Default\", \"Default\", \"Default\", \"Default\", \"Default\", \"Default\", \"Default\", \"Default\", \"Default\", \"Default\", \"Default\", \"Default\", \"Default\", \"Default\", \"Default\", \"Default\", \"Default\", \"Default\", \"Default\", \"Default\", \"Default\", \"Default\", \"Default\", \"Default\", \"Topic1\", \"Topic1\", \"Topic1\", \"Topic1\", \"Topic1\", \"Topic1\", \"Topic1\", \"Topic1\", \"Topic1\", \"Topic1\", \"Topic1\", \"Topic1\", \"Topic1\", \"Topic1\", \"Topic1\", \"Topic1\", \"Topic1\", \"Topic1\", \"Topic1\", \"Topic1\", \"Topic1\", \"Topic1\", \"Topic1\", \"Topic1\", \"Topic1\", \"Topic1\", \"Topic1\", \"Topic1\", \"Topic1\", \"Topic1\", \"Topic1\", \"Topic1\", \"Topic1\", \"Topic1\", \"Topic1\", \"Topic1\", \"Topic1\", \"Topic1\", \"Topic1\", \"Topic1\", \"Topic1\", \"Topic1\", \"Topic1\", \"Topic1\", \"Topic1\", \"Topic1\", \"Topic1\", \"Topic1\", \"Topic1\", \"Topic1\", \"Topic1\", \"Topic1\", \"Topic1\", \"Topic1\", \"Topic1\", \"Topic1\", \"Topic1\", \"Topic1\", \"Topic1\", \"Topic1\", \"Topic1\", \"Topic1\", \"Topic1\", \"Topic1\", \"Topic1\", \"Topic1\", \"Topic1\", \"Topic1\", \"Topic2\", \"Topic2\", \"Topic2\", \"Topic2\", \"Topic2\", \"Topic2\", \"Topic2\", \"Topic2\", \"Topic2\", \"Topic2\", \"Topic2\", \"Topic2\", \"Topic2\", \"Topic2\", \"Topic2\", \"Topic2\", \"Topic2\", \"Topic2\", \"Topic2\", \"Topic2\", \"Topic2\", \"Topic2\", \"Topic2\", \"Topic2\", \"Topic2\", \"Topic2\", \"Topic2\", \"Topic2\", \"Topic2\", \"Topic2\", \"Topic2\", \"Topic2\", \"Topic2\", \"Topic2\", \"Topic2\", \"Topic2\", \"Topic2\", \"Topic2\", \"Topic2\", \"Topic2\", \"Topic2\", \"Topic2\", \"Topic2\", \"Topic2\", \"Topic2\", \"Topic2\", \"Topic2\", \"Topic2\", \"Topic2\", \"Topic2\", \"Topic2\", \"Topic2\", \"Topic2\", \"Topic2\", \"Topic2\", \"Topic2\", \"Topic2\", \"Topic2\", \"Topic2\", \"Topic2\", \"Topic2\", \"Topic2\", \"Topic2\", \"Topic2\", \"Topic2\", \"Topic2\", \"Topic2\", \"Topic2\", \"Topic2\", \"Topic2\", \"Topic2\", \"Topic2\", \"Topic2\", \"Topic3\", \"Topic3\", \"Topic3\", \"Topic3\", \"Topic3\", \"Topic3\", \"Topic3\", \"Topic3\", \"Topic3\", \"Topic3\", \"Topic3\", \"Topic3\", \"Topic3\", \"Topic3\", \"Topic3\", \"Topic3\", \"Topic3\", \"Topic3\", \"Topic3\", \"Topic3\", \"Topic3\", \"Topic3\", \"Topic3\", \"Topic3\", \"Topic3\", \"Topic3\", \"Topic3\", \"Topic3\", \"Topic3\", \"Topic3\", \"Topic3\", \"Topic3\", \"Topic3\", \"Topic3\", \"Topic3\", \"Topic3\", \"Topic3\", \"Topic3\", \"Topic3\", \"Topic3\", \"Topic3\", \"Topic3\", \"Topic3\", \"Topic3\", \"Topic3\", \"Topic3\", \"Topic3\", \"Topic3\", \"Topic3\", \"Topic3\", \"Topic3\", \"Topic3\", \"Topic3\", \"Topic3\", \"Topic3\", \"Topic3\", \"Topic3\", \"Topic3\", \"Topic3\", \"Topic3\", \"Topic3\", \"Topic3\", \"Topic3\", \"Topic3\", \"Topic3\", \"Topic3\", \"Topic3\", \"Topic3\", \"Topic3\", \"Topic3\", \"Topic3\", \"Topic3\", \"Topic3\", \"Topic3\", \"Topic3\", \"Topic3\", \"Topic4\", \"Topic4\", \"Topic4\", \"Topic4\", \"Topic4\", \"Topic4\", \"Topic4\", \"Topic4\", \"Topic4\", \"Topic4\", \"Topic4\", \"Topic4\", \"Topic4\", \"Topic4\", \"Topic4\", \"Topic4\", \"Topic4\", \"Topic4\", \"Topic4\", \"Topic4\", \"Topic4\", \"Topic4\", \"Topic4\", \"Topic4\", \"Topic4\", \"Topic4\", \"Topic4\", \"Topic4\", \"Topic4\", \"Topic4\", \"Topic4\", \"Topic4\", \"Topic4\", \"Topic4\", \"Topic4\", \"Topic4\", \"Topic4\", \"Topic4\", \"Topic4\", \"Topic4\", \"Topic4\", \"Topic4\", \"Topic4\", \"Topic4\", \"Topic4\", \"Topic4\", \"Topic4\", \"Topic4\", \"Topic4\", \"Topic4\", \"Topic4\", \"Topic4\", \"Topic4\", \"Topic4\", \"Topic4\", \"Topic4\", \"Topic4\", \"Topic4\", \"Topic4\", \"Topic4\", \"Topic4\", \"Topic4\", \"Topic4\", \"Topic4\", \"Topic4\", \"Topic4\", \"Topic4\", \"Topic4\", \"Topic4\", \"Topic4\", \"Topic4\", \"Topic4\", \"Topic4\", \"Topic4\", \"Topic4\", \"Topic5\", \"Topic5\", \"Topic5\", \"Topic5\", \"Topic5\", \"Topic5\", \"Topic5\", \"Topic5\", \"Topic5\", \"Topic5\", \"Topic5\", \"Topic5\", \"Topic5\", \"Topic5\", \"Topic5\", \"Topic5\", \"Topic5\", \"Topic5\", \"Topic5\", \"Topic5\", \"Topic5\", \"Topic5\", \"Topic5\", \"Topic5\", \"Topic5\", \"Topic5\", \"Topic5\", \"Topic5\", \"Topic5\", \"Topic5\", \"Topic5\", \"Topic5\", \"Topic5\", \"Topic5\", \"Topic5\", \"Topic5\", \"Topic5\", \"Topic5\", \"Topic5\", \"Topic5\", \"Topic5\", \"Topic5\", \"Topic5\", \"Topic5\", \"Topic5\", \"Topic5\", \"Topic5\", \"Topic5\", \"Topic5\", \"Topic5\", \"Topic5\", \"Topic5\", \"Topic5\", \"Topic5\", \"Topic5\", \"Topic5\", \"Topic5\", \"Topic5\", \"Topic5\", \"Topic5\", \"Topic5\", \"Topic5\", \"Topic5\", \"Topic5\", \"Topic5\", \"Topic5\", \"Topic5\", \"Topic5\", \"Topic5\", \"Topic5\", \"Topic6\", \"Topic6\", \"Topic6\", \"Topic6\", \"Topic6\", \"Topic6\", \"Topic6\", \"Topic6\", \"Topic6\", \"Topic6\", \"Topic6\", \"Topic6\", \"Topic6\", \"Topic6\", \"Topic6\", \"Topic6\", \"Topic6\", \"Topic6\", \"Topic6\", \"Topic6\", \"Topic6\", \"Topic6\", \"Topic6\", \"Topic6\", \"Topic6\", \"Topic6\", \"Topic6\", \"Topic6\", \"Topic6\", \"Topic6\", \"Topic6\", \"Topic6\", \"Topic6\", \"Topic6\", \"Topic6\", \"Topic6\", \"Topic6\", \"Topic6\", \"Topic6\", \"Topic6\", \"Topic6\", \"Topic6\", \"Topic6\", \"Topic6\", \"Topic6\", \"Topic6\", \"Topic6\", \"Topic6\", \"Topic6\", \"Topic6\", \"Topic6\", \"Topic6\", \"Topic6\", \"Topic6\", \"Topic6\", \"Topic6\", \"Topic6\", \"Topic6\", \"Topic6\", \"Topic6\", \"Topic6\", \"Topic6\", \"Topic6\", \"Topic6\", \"Topic6\", \"Topic6\", \"Topic6\", \"Topic6\", \"Topic6\", \"Topic6\", \"Topic6\", \"Topic6\", \"Topic6\", \"Topic6\", \"Topic7\", \"Topic7\", \"Topic7\", \"Topic7\", \"Topic7\", \"Topic7\", \"Topic7\", \"Topic7\", \"Topic7\", \"Topic7\", \"Topic7\", \"Topic7\", \"Topic7\", \"Topic7\", \"Topic7\", \"Topic7\", \"Topic7\", \"Topic7\", \"Topic7\", \"Topic7\", \"Topic7\", \"Topic7\", \"Topic7\", \"Topic7\", \"Topic7\", \"Topic7\", \"Topic7\", \"Topic7\", \"Topic7\", \"Topic7\", \"Topic7\", \"Topic7\", \"Topic7\", \"Topic7\", \"Topic7\", \"Topic7\", \"Topic7\", \"Topic7\", \"Topic7\", \"Topic7\", \"Topic7\", \"Topic7\", \"Topic7\", \"Topic7\", \"Topic7\", \"Topic7\", \"Topic7\", \"Topic7\", \"Topic7\", \"Topic7\", \"Topic7\", \"Topic7\", \"Topic7\", \"Topic7\", \"Topic7\", \"Topic7\", \"Topic7\", \"Topic7\", \"Topic7\", \"Topic7\", \"Topic7\", \"Topic7\", \"Topic7\", \"Topic7\", \"Topic7\", \"Topic7\", \"Topic7\", \"Topic7\", \"Topic7\", \"Topic7\", \"Topic7\", \"Topic7\", \"Topic8\", \"Topic8\", \"Topic8\", \"Topic8\", \"Topic8\", \"Topic8\", \"Topic8\", \"Topic8\", \"Topic8\", \"Topic8\", \"Topic8\", \"Topic8\", \"Topic8\", \"Topic8\", \"Topic8\", \"Topic8\", \"Topic8\", \"Topic8\", \"Topic8\", \"Topic8\", \"Topic8\", \"Topic8\", \"Topic8\", \"Topic8\", \"Topic8\", \"Topic8\", \"Topic8\", \"Topic8\", \"Topic8\", \"Topic8\", \"Topic8\", \"Topic8\", \"Topic8\", \"Topic8\", \"Topic8\", \"Topic8\", \"Topic8\", \"Topic8\", \"Topic8\", \"Topic8\", \"Topic8\", \"Topic8\", \"Topic8\", \"Topic8\", \"Topic8\", \"Topic8\", \"Topic8\", \"Topic8\", \"Topic8\", \"Topic8\", \"Topic8\", \"Topic8\", \"Topic8\", \"Topic8\", \"Topic8\", \"Topic8\", \"Topic8\", \"Topic8\", \"Topic8\", \"Topic8\", \"Topic8\", \"Topic8\", \"Topic8\", \"Topic8\", \"Topic8\", \"Topic8\", \"Topic8\", \"Topic8\", \"Topic8\", \"Topic8\", \"Topic8\", \"Topic8\", \"Topic8\", \"Topic8\", \"Topic9\", \"Topic9\", \"Topic9\", \"Topic9\", \"Topic9\", \"Topic9\", \"Topic9\", \"Topic9\", \"Topic9\", \"Topic9\", \"Topic9\", \"Topic9\", \"Topic9\", \"Topic9\", \"Topic9\", \"Topic9\", \"Topic9\", \"Topic9\", \"Topic9\", \"Topic9\", \"Topic9\", \"Topic9\", \"Topic9\", \"Topic9\", \"Topic9\", \"Topic9\", \"Topic9\", \"Topic9\", \"Topic9\", \"Topic9\", \"Topic9\", \"Topic9\", \"Topic9\", \"Topic9\", \"Topic9\", \"Topic9\", \"Topic9\", \"Topic9\", \"Topic9\", \"Topic9\", \"Topic9\", \"Topic9\", \"Topic9\", \"Topic9\", \"Topic9\", \"Topic9\", \"Topic9\", \"Topic9\", \"Topic9\", \"Topic9\", \"Topic9\", \"Topic9\", \"Topic9\", \"Topic9\", \"Topic9\", \"Topic9\", \"Topic9\", \"Topic9\", \"Topic9\", \"Topic9\", \"Topic9\", \"Topic9\", \"Topic9\", \"Topic9\", \"Topic9\", \"Topic9\"], \"Freq\": [25.0, 42.0, 12.0, 38.0, 29.0, 41.0, 48.0, 13.0, 68.0, 28.0, 40.0, 44.0, 41.0, 75.0, 10.0, 53.0, 64.0, 29.0, 14.0, 8.0, 111.0, 4.0, 19.0, 25.0, 15.0, 15.0, 129.0, 21.0, 35.0, 12.0, 2.8146773557842804, 6.5974274789625635, 1.9099665260423182, 1.9099622627880823, 6.32736686615042, 2.511975517850248, 10.204317692300632, 4.931702048316204, 1.7652371211790094, 1.7071690192784041, 3.2647363898744075, 3.373879223548236, 3.7608494578619416, 2.131960882192514, 3.7177553170110396, 2.6620095456651893, 2.1222933033502036, 4.245449618007241, 2.0647458409926354, 5.706788793247946, 2.573156599287006, 1.5336609513160384, 1.501396136396891, 1.5365082824368008, 3.594117378831293, 1.4865997929557413, 2.0421031592219183, 4.0130344026347196, 1.5156759541321736, 1.0052499517638744, 1.4874115370193701, 2.0112443284822885, 10.67051985063846, 2.446073947124618, 4.812938064483347, 1.976941236365008, 6.285897627767335, 7.4547998609878015, 7.668013088661998, 20.578924469817892, 10.844374187857053, 15.453069680684667, 6.424692081863675, 18.466928114558982, 11.549790904363881, 36.60630024866972, 6.063039229045125, 6.311690115368187, 9.293050598446236, 22.414080203880626, 9.344558716795376, 18.899765153959613, 8.34814123334984, 12.448521361535507, 6.594286961351705, 9.266170645137862, 11.408477667262229, 7.787786216748029, 7.700600823272479, 8.68662460192618, 8.829825718567061, 8.269622824429634, 7.696082223746356, 7.048481716147011, 6.993304664104881, 6.805082020261209, 6.9017550067632, 6.609200532140528, 4.622737688135821, 2.9693780053859564, 2.3533929736952137, 2.857891170743924, 1.5969452150949937, 1.596943502024662, 3.754827809675575, 3.1111862181926857, 1.5394154854032025, 1.5072226019872454, 1.4763683473575289, 1.4735235704310612, 1.437895300282794, 2.814628872442316, 4.6842511151884265, 1.4035652335175683, 2.2845940952038886, 1.3625762474853287, 1.8025456081260272, 1.8114476137689892, 2.194651750585751, 1.3374229129109751, 1.7385248243355627, 2.1489426505317604, 1.2878859321982061, 1.27554758563338, 0.8404996391498255, 0.8404990342604444, 0.8404984882936805, 0.8404979069788511, 2.9455384079119065, 1.2619163914955036, 2.0954432744191105, 1.6812763812486782, 4.354656053481867, 2.834979893500973, 6.339497926230267, 7.520058593005108, 2.707111082787201, 4.336966173527756, 12.450143760228388, 3.154640873947152, 4.595987273587826, 9.662456072542174, 7.448492342882609, 5.582196079899337, 5.784541333046385, 11.646969411750167, 14.08128190785835, 10.0912717459705, 16.968755124853814, 7.038423512687458, 10.208074690795325, 8.699257792240621, 4.710105613111262, 9.551610151376872, 10.716668740298065, 14.719242119986061, 13.494211656587973, 7.3503433265890035, 7.176632578893848, 9.001916492543506, 8.358376464033581, 9.075897069349585, 8.803915371810081, 6.924738165291823, 7.363069931802948, 6.2721787398743984, 6.896176557276297, 5.906715156298553, 6.589871438140623, 6.037332891048255, 6.107449950118331, 3.18894663008241, 2.5406164057353244, 1.7243331589865931, 1.724328396357871, 4.0193957248550465, 2.6830726389745707, 2.6934919384030818, 2.6000273332048414, 1.5038579179069012, 1.4895229687301474, 1.448794284378552, 1.3905807989235093, 1.4230768766866955, 1.3995401793813713, 1.4085272232595016, 0.9075431959859861, 0.9075431488396596, 0.9075417244727134, 0.9075384832712875, 0.9075385339469421, 0.9075383740500768, 0.9075382883365738, 0.9075377616065378, 0.9075376678509931, 0.9075367853264972, 0.9075365068398643, 0.9075343575092648, 0.9075338415542471, 0.9073773348497153, 0.9073715033048408, 5.699634677531906, 1.7243267022021787, 2.1909641140433957, 2.5411176503754764, 2.440680307480159, 1.3004194757218372, 2.0930347902149573, 2.855574016166916, 1.7243353269933368, 10.86680952913226, 2.6470294080244106, 2.612068042606132, 1.625290849606521, 20.031683099975027, 4.693260751263767, 3.6909494039199173, 9.764547135758077, 8.607391355970723, 4.60035692221283, 10.909508540011279, 6.775808593786138, 12.925825447240992, 7.399361709147811, 18.607672737666185, 18.95702895780572, 6.3656211652571715, 12.109911318434241, 12.814729123430926, 7.612817552728861, 6.144460399432499, 8.476621837799902, 7.567188336138732, 16.623609810060035, 5.222060823611697, 7.97072515991583, 6.812730933748439, 7.347239831577532, 6.04877085950342, 6.154671029981159, 8.542902358447776, 7.162928738431077, 7.359052976039534, 7.095759260889749, 5.986883892522704, 6.176846888156931, 5.745395400486029, 4.397667150803856, 4.332519696462673, 4.30367680289604, 3.5258740751846323, 5.103326008878178, 2.994990022492104, 4.738329582580622, 1.797118861124674, 1.778655426376428, 1.774480808367167, 4.668217511405761, 1.7616724694172612, 2.3077484326157096, 2.3492347476550295, 1.7527234301404757, 1.5743004611153848, 1.5518365809475898, 1.5460404385988706, 2.108966254770665, 2.0973348402896823, 1.4150423889805646, 0.9565313720757447, 0.9562848777273101, 0.9561294149441245, 0.9553777315012165, 0.955354146656589, 0.9536356068852153, 0.9505247436945872, 0.9492744457636689, 0.9487205640344487, 2.873424996939464, 1.433989544753862, 4.657537221076102, 1.8318857138209281, 3.5395657153684716, 2.302324264193298, 2.2681722540918026, 4.061683929949258, 4.00070534889778, 3.347220994977577, 8.25502223720075, 9.520178466063145, 6.933270537978223, 25.01980250501497, 5.8081837665172955, 3.0658925622804634, 14.433092473206514, 4.317993052090473, 8.469083913477904, 9.480673611578943, 5.500579086733256, 6.556813556912065, 9.197966913411284, 4.051233496251906, 10.878160473380794, 9.922518730219199, 7.879989174229828, 9.19234698474119, 8.943057302089931, 10.81544577174089, 6.104779542144523, 12.03888169018956, 7.415168329033232, 9.133560432217173, 5.854700814725064, 8.679218342445203, 7.92328832476727, 6.660368261275792, 6.664743708537847, 6.695764910582501, 6.08099197814243, 6.074508412780401, 6.057160097679131, 5.789920079439473, 5.889075358905155, 3.6343095166776993, 3.5039693094670583, 1.8663045583982603, 1.8663011844151502, 1.8662988447369824, 1.8662950085232015, 2.426817687146147, 3.639105546096695, 2.8670150723803167, 4.060729544790172, 4.573899651069946, 2.764712789652162, 1.5734879339513912, 2.0475155466906068, 7.739423619161145, 1.5019636613068248, 0.982264963361674, 0.9822648949985513, 0.9822641150844355, 0.9822637893317071, 0.9822634516114809, 0.9822617595544095, 0.9822603295959402, 0.982260042534542, 0.9822552849511924, 0.9822526749286143, 0.9822499535137955, 0.9822485538293725, 2.4409093294693456, 0.9370092849321117, 19.146190086129256, 7.9062600642449725, 1.8404107154153002, 9.36179708362804, 4.102977032795517, 6.560135476065372, 3.7776278325309915, 9.891961442014285, 4.2450074231001915, 3.915787190420474, 1.7270016365971288, 2.6947735084637707, 4.106037702110897, 20.630024875774854, 14.329582803151043, 10.695559089547244, 9.520063130859658, 11.122640265068396, 20.36264090555757, 11.364941870105369, 9.598191644712866, 6.968626749008753, 13.270840762627717, 8.256604310101823, 5.488993474291139, 16.85674514245226, 14.616084131230984, 4.68385178730791, 7.457564783270089, 7.398314029228565, 9.382118306861479, 6.768656686662066, 7.035702234140632, 8.085102317895297, 7.1614462508873, 5.543224281199986, 6.809068247743129, 6.2752732203657065, 5.851845283109464, 5.757530531291942, 3.4345642167308243, 1.7636945630193108, 2.834445632987851, 1.630685452704189, 3.1595853431467695, 1.5853081276240246, 3.0135860434118555, 3.8574700297361058, 0.9282636159611116, 0.9282564391043664, 1.358751128221595, 0.9136273707778827, 1.3759210824339096, 0.9060122210834306, 1.3381170316202524, 0.9042589884440008, 0.9006407393509348, 0.8984981844403758, 0.8932418775486708, 0.8924888834293464, 0.8905108472817158, 0.8875639107395298, 1.3476157257384658, 0.8791123155345403, 1.296282393451482, 1.7563696401929758, 0.8555619005537185, 1.7478685604965263, 2.058220377743487, 0.8366402238226254, 2.9093724687927374, 4.9250679732555245, 12.571854805766476, 12.575558748288836, 6.589107361842282, 1.975805451725696, 3.0440227378274827, 3.2917743041300906, 2.647546237024746, 3.239063625046205, 2.2327817622636603, 2.846413243490466, 8.596081823256743, 12.606166363120673, 10.682314711978366, 4.530047223466606, 6.744433122681589, 8.640367303418532, 7.869517300155852, 8.34506326236222, 3.0834227301950614, 5.07693053134087, 12.016107423259896, 16.35801758390571, 8.939974986691437, 5.917700334740862, 4.534419930096561, 6.137410269834593, 7.579624635002164, 12.697980070072528, 6.513896110812771, 4.86274461224978, 8.605590740391026, 7.03198253635807, 6.936192431614889, 6.152254807305273, 5.27134167216108, 7.595136746321037, 5.4077221168108816, 5.152266564520168, 6.052356823318582, 6.1789956116523745, 5.482393150312477, 5.446751347485377, 2.2432177823325086, 3.7331777168527536, 2.0069724482493823, 1.4989408056430285, 1.9225544711003757, 2.9270936398237484, 1.3769961396228187, 1.8277886803468943, 1.780829716397058, 1.3192957374311232, 1.7368615575779534, 2.5328558125641876, 2.510125997416564, 5.038471143259171, 0.8011505099492291, 0.8011500947712227, 0.8011500553904037, 0.8011496607706852, 0.8011490574376182, 0.80114905300683, 0.8011487130545696, 0.8011482864164619, 0.8011480392937291, 0.8011475448398554, 0.8011402231503242, 2.750949524325579, 0.7858850147690183, 0.7858088360537628, 0.7847554834195206, 0.7841013586272023, 1.5221856137672467, 1.1874376348134708, 1.8821837482818695, 3.6091488945354735, 3.4120110902589245, 1.1689803970393273, 1.486009129909695, 3.3073495556676655, 1.141631852030658, 6.774530644767722, 2.2501833693230098, 12.731631480983982, 1.619451249326386, 10.578325151426858, 3.4552191226620717, 4.703321422937572, 5.876552090801165, 9.363734714111141, 4.686528072062516, 2.453685443165309, 8.49007090092065, 3.765335428535281, 7.83441999790405, 5.755891833811177, 6.100147899441621, 9.782921900098012, 3.5944732931909558, 5.518877930821482, 4.412418383315278, 5.102852223216651, 7.33454476533213, 4.9915326477019315, 5.3778643308513665, 4.114932901073914, 4.37736636477659, 4.872463666993791, 4.34235256149124, 4.0392611960476845, 3.972534595820566, 3.8400558044111754, 3.7406803031416516, 3.761054402275005, 2.129929493673041, 2.081222668423598, 1.4097810824977537, 1.2415221336479347, 1.6570357249269778, 1.1562512417180353, 0.7606953289672796, 0.7606953726780441, 0.7606946265321844, 0.7606936809719399, 0.7606920000592927, 0.7606910948349964, 0.7606907988628845, 0.7594538813062506, 0.7593980415603983, 1.1248947491807988, 0.7592032959411783, 1.8548911256587135, 1.097766118473393, 1.112575253284202, 1.8339171789270676, 0.7446066256094178, 0.7426150030148608, 0.7406265275178553, 1.042856186182839, 0.717138935319523, 5.077878306008609, 2.8080698184720885, 1.4523612324948114, 0.7044405750926411, 1.4366199947241178, 2.096918433034291, 2.634364670032279, 1.9690406764503334, 1.9787452542167157, 1.6590754983243141, 1.3785968326361469, 3.329545684104003, 2.8078510698645864, 2.1278352248175776, 2.3268116895223145, 1.300697350520166, 4.029906751418874, 4.2287371251153605, 1.2359130390509645, 1.441293081469834, 6.640817915007389, 5.303599735917042, 4.884156412329901, 3.1495433929920105, 2.2412789924103587, 5.2824309946559, 2.2322940167373737, 8.241077112545057, 6.470180005174943, 4.871433737850751, 8.414676827539454, 4.505583939921767, 4.308353643747235, 3.774051584958087, 4.944506464017666, 4.881586324932518, 3.943728200762994, 3.928061453505846, 4.374251924827555, 4.31229102241129, 3.1790859453909914, 3.2848384439819642, 3.2744077815455173, 3.428778460587089, 3.008651619471546, 3.3368751659930767, 3.0327396589165607, 2.9936488562516925, 4.1334680903363505, 2.7912896801727887, 2.7876504937774644, 2.7717393201044045, 2.114172783403899, 16.93347637555946, 1.4326262373876657, 1.4297519023555698, 1.4297359118638955, 1.4282929034415786, 1.4280580536396936, 1.4279055133939027, 1.42785460520457, 1.4277101925686158, 1.4272947811607646, 1.4270611670905515, 1.4268786643791613, 1.4266130027730899, 1.4264741285152966, 1.425420223488595, 1.4251154333378588, 1.42495217024915, 1.424826312953984, 1.4248891780998179, 1.424570834306662, 1.424548643960346, 1.4235729122104896, 1.423392702152749, 1.4229603951148906, 1.4202721561007106, 2.779499086282203, 6.855139401864124, 3.959256982985428, 3.176496984722705, 2.774958341145821, 2.4975024615931356, 9.606024546667014, 4.730574439065137, 2.1741890487941133, 3.761713228043548, 3.7700572127605967, 3.5210371529221502, 8.156799496511184, 6.39493066683748, 3.323947397753217, 2.1007913056249614, 3.185175655381901, 3.5887966713961195, 1.6268555435647318, 5.569404429155157, 4.142364157743761, 3.839326019638668, 3.6352803760385455, 5.000222474888742, 2.2528716186150364, 4.075621686024316, 4.587871908037294, 3.9881221080869573, 3.68241996514987, 3.441810648039944, 3.061425675277717, 3.126033380130011, 3.0894113671389003, 2.9720906027643363, 2.9106725286196955, 2.9819345773288046], \"Term\": [\"metres\", \"world\", \"event\", \"afghan\", \"team\", \"test\", \"fire\", \"new_zealand\", \"arafat\", \"india\", \"israeli\", \"officials\", \"cent\", \"afghanistan\", \"east_timor\", \"company\", \"year\", \"hamas\", \"space\", \"blake\", \"government\", \"races\", \"sharon\", \"unions\", \"water\", \"pay\", \"australia\", \"radio\", \"pakistan\", \"race\", \"mitsubishi\", \"zimbabwe\", \"cosgrove\", \"maker\", \"endeavour\", \"termination\", \"space\", \"shuttle\", \"payout\", \"salary\", \"goshen\", \"launceston\", \"lording\", \"ministerial\", \"oil\", \"imf\", \"indiana\", \"factory\", \"england\", \"ses\", \"derrick\", \"decorative\", \"mugabe\", \"bursch\", \"mcgrath\", \"cmag\", \"templeton\", \"roads\", \"astronauts\", \"discharge\", \"provisions\", \"cairns\", \"airline\", \"suspension\", \"wage_freeze\", \"monetary\", \"commonwealth\", \"pay\", \"station\", \"man\", \"unions\", \"action\", \"training\", \"company\", \"qantas\", \"australia\", \"williams\", \"storm\", \"workers\", \"people\", \"staff\", \"government\", \"power\", \"year\", \"work\", \"commission\", \"police\", \"wales\", \"new_south\", \"united_states\", \"today\", \"time\", \"cent\", \"area\", \"sydney\", \"morning\", \"security\", \"group\", \"products\", \"rudd\", \"alcohol\", \"center\", \"hooke\", \"grocery\", \"rates\", \"consumers\", \"treason\", \"facts\", \"segment\", \"bulli\", \"floors\", \"gambier\", \"virus\", \"motorists\", \"videotape\", \"terminals\", \"emissions\", \"fate\", \"hume\", \"picton\", \"raduyev\", \"chechen\", \"chain\", \"mcdonald\", \"avenue\", \"shelves\", \"torres\", \"hence\", \"petrol\", \"salman\", \"prison\", \"trounson\", \"highway\", \"elders\", \"abuse\", \"kandahar\", \"traveland\", \"arrest\", \"taliban\", \"technology\", \"innings\", \"force\", \"authorities\", \"party\", \"royal\", \"time\", \"afghanistan\", \"sydney\", \"government\", \"leader\", \"man\", \"attacks\", \"laws\", \"day\", \"today\", \"australia\", \"people\", \"south\", \"wales\", \"united_states\", \"company\", \"security\", \"arafat\", \"commission\", \"days\", \"new_south\", \"fire\", \"union\", \"forces\", \"group\", \"laden\", \"macfarlane\", \"dfat\", \"kentucky\", \"campbell\", \"farmers\", \"mcmenamin\", \"truss\", \"hawthorne\", \"gold\", \"prostitutes\", \"lavarch\", \"mentha\", \"master\", \"tours\", \"subsidies\", \"cody\", \"tennessee\", \"petithory\", \"looks\", \"prosser\", \"mental\", \"jefferson\", \"calendar\", \"california\", \"cranky\", \"killer\", \"slump\", \"rome\", \"competitiveness\", \"export\", \"sex\", \"gabriel\", \"needs\", \"sergeant\", \"treasurer\", \"pickup\", \"willingness\", \"doug\", \"fort\", \"india\", \"projects\", \"whiting\", \"firms\", \"year\", \"sector\", \"intelligence\", \"report\", \"qantas\", \"asio\", \"world\", \"federal\", \"united_states\", \"workers\", \"government\", \"people\", \"economy\", \"security\", \"afghanistan\", \"staff\", \"child\", \"force\", \"attack\", \"australia\", \"weekend\", \"action\", \"months\", \"pakistan\", \"prime_minister\", \"minister\", \"today\", \"attacks\", \"forces\", \"police\", \"laden\", \"cent\", \"fire\", \"hare\", \"ashes\", \"benares\", \"ganges\", \"krishna\", \"redmond\", \"friedli\", \"devotees\", \"hindus\", \"holy\", \"giuliani\", \"devout\", \"iraq\", \"lew\", \"hindu\", \"factories\", \"morrow\", \"zeus\", \"breathing\", \"boston\", \"butler\", \"vrindavan\", \"rites\", \"onlookers\", \"sect\", \"prayers\", \"immersion\", \"chants\", \"prayer\", \"bedside\", \"doctors\", \"drip\", \"suharto\", \"chemical\", \"mayor\", \"mistakes\", \"analysis\", \"tragedy\", \"reid\", \"ceremony\", \"family\", \"city\", \"river\", \"people\", \"airport\", \"markets\", \"police\", \"hicks\", \"centre\", \"yesterday\", \"new_york\", \"place\", \"officials\", \"harrison\", \"today\", \"time\", \"members\", \"day\", \"forces\", \"afghanistan\", \"leaders\", \"government\", \"israeli\", \"arafat\", \"court\", \"security\", \"united_states\", \"laden\", \"meeting\", \"cent\", \"power\", \"south\", \"taliban\", \"israel\", \"australia\", \"cow\", \"burden\", \"passes\", \"bombardment\", \"lubbers\", \"high\", \"peru\", \"ruddock\", \"cigarettes\", \"lung\", \"refugees\", \"refugee\", \"lawrence\", \"cases\", \"cancer\", \"alp\", \"ruud\", \"mistrust\", \"contributor\", \"idea\", \"sharing\", \"geneva\", \"favours\", \"immigrants\", \"organs\", \"outbreak\", \"meat\", \"dairy\", \"fireworks\", \"strureewas\", \"afghan\", \"asylum_seekers\", \"arrivals\", \"agreement\", \"pacific\", \"kabul\", \"population\", \"tora_bora\", \"howard\", \"caves\", \"guards\", \"germany\", \"karzai\", \"afghanistan\", \"forces\", \"pakistan\", \"authority\", \"president\", \"government\", \"days\", \"morning\", \"troops\", \"security\", \"report\", \"hih\", \"australia\", \"people\", \"united_nations\", \"force\", \"commission\", \"police\", \"laden\", \"years\", \"today\", \"day\", \"qaeda\", \"arafat\", \"time\", \"members\", \"taliban\", \"boje\", \"nicky\", \"midwives\", \"buses\", \"focus\", \"guerrilla\", \"rabbani\", \"lines\", \"arm\", \"eleven\", \"potts\", \"context\", \"marks\", \"economic\", \"typhoid\", \"oecd\", \"texts\", \"storybooks\", \"educational\", \"girls\", \"attitudes\", \"literacy\", \"killings\", \"masters\", \"locals\", \"yassin\", \"exchanges\", \"palmerston\", \"cells\", \"conclusion\", \"sheikh\", \"hewitt\", \"hamas\", \"team\", \"official\", \"brain\", \"questions\", \"research\", \"kashmir\", \"professor\", \"hopman\", \"doubles\", \"groups\", \"test\", \"israel\", \"head\", \"child\", \"attack\", \"areas\", \"state\", \"boxing_day\", \"fires\", \"arafat\", \"australia\", \"sydney\", \"south_africa\", \"captain\", \"match\", \"israeli\", \"government\", \"week\", \"conditions\", \"police\", \"days\", \"day\", \"years\", \"leader\", \"people\", \"night\", \"children\", \"time\", \"security\", \"fire\", \"man\", \"olivier\", \"cut\", \"alei\", \"eden\", \"sinai\", \"strachan\", \"tank\", \"saadi\", \"scarfe\", \"turbulence\", \"decline\", \"owen\", \"counts\", \"gunmen\", \"saul\", \"newspapers\", \"index\", \"eslake\", \"recruitment\", \"indicators\", \"cyberspace\", \"pieces\", \"justification\", \"notices\", \"stoppages\", \"tailenders\", \"grundig\", \"ulludullah\", \"krakatoa\", \"corp\", \"advertising\", \"stray\", \"skipper\", \"interest_rates\", \"reserve_bank\", \"phenomena\", \"tyco\", \"drop\", \"gillies\", \"radio\", \"findings\", \"fire\", \"bond\", \"cent\", \"lee\", \"rate\", \"army\", \"test\", \"palestinians\", \"post\", \"company\", \"pay\", \"year\", \"commission\", \"officials\", \"australia\", \"town\", \"israeli\", \"match\", \"years\", \"people\", \"attacks\", \"today\", \"west_bank\", \"staff\", \"arafat\", \"world\", \"team\", \"months\", \"day\", \"yesterday\", \"security\", \"jackson\", \"classic\", \"freeman\", \"boxes\", \"counting\", \"belgium\", \"tolkien\", \"knighthoods\", \"merit\", \"films\", \"rings\", \"companion\", \"cast\", \"controller\", \"outbreaks\", \"battlefield\", \"creek\", \"gutnick\", \"crowe\", \"motorway\", \"ticket\", \"olympics\", \"cathy\", \"olympic\", \"moulin\", \"revenue\", \"east_timor\", \"wind\", \"slips\", \"undan\", \"favour\", \"gang\", \"gas\", \"project\", \"phillips\", \"route\", \"track\", \"zinni\", \"blue_mountains\", \"solomon\", \"club\", \"razor\", \"new_zealand\", \"violence\", \"nelson\", \"burning\", \"israeli\", \"india\", \"peace\", \"change\", \"return\", \"years\", \"lockett\", \"government\", \"arafat\", \"president\", \"australia\", \"meeting\", \"area\", \"war\", \"year\", \"today\", \"pakistan\", \"members\", \"security\", \"police\", \"minister\", \"week\", \"hours\", \"officials\", \"statement\", \"day\", \"time\", \"test\", \"races\", \"huegill\", \"hass\", \"welsh\", \"butterfly\", \"metres\", \"elka\", \"format\", \"elimination\", \"liesel\", \"pool\", \"creedy\", \"seconds\", \"ham\", \"julia\", \"thermostat\", \"jones\", \"turns\", \"matt\", \"swimmers\", \"ryan\", \"upset\", \"heater\", \"winners\", \"moses\", \"jumping\", \"spa\", \"skins\", \"rebecca\", \"degrees\", \"kieren\", \"event\", \"blake\", \"winner\", \"ray\", \"assa_abloy\", \"world\", \"water\", \"round\", \"women\", \"new_zealand\", \"race\", \"arafat\", \"officials\", \"line\", \"champion\", \"cup\", \"sharon\", \"prize\", \"united_states\", \"night\", \"leader\", \"melbourne\", \"police\", \"geoff\", \"fire\", \"australia\", \"people\", \"afghanistan\", \"time\", \"union\", \"man\", \"attacks\", \"team\", \"peace\", \"government\"], \"Total\": [25.0, 42.0, 12.0, 38.0, 29.0, 41.0, 48.0, 13.0, 68.0, 28.0, 40.0, 44.0, 41.0, 75.0, 10.0, 53.0, 64.0, 29.0, 14.0, 8.0, 111.0, 4.0, 19.0, 25.0, 15.0, 15.0, 129.0, 21.0, 35.0, 12.0, 3.5132326470797968, 8.630802085691508, 2.6085007212931335, 2.608500163900702, 8.758486771333203, 3.477884563862309, 14.132460069661477, 7.030749275741021, 2.5906531555974532, 2.5840060479360156, 5.023989788533533, 5.224603784658494, 5.953174533907628, 3.389628640181577, 5.937449367026393, 4.257301489338879, 3.398567702127532, 6.860280395803327, 3.3609666795879494, 9.356105395994105, 4.236187101114977, 2.53823100252559, 2.520987617736542, 2.581263010988404, 6.05142911944993, 2.514233820828032, 3.454072452911575, 6.7972001276809095, 2.567414172735758, 1.7037681999688634, 2.522725627203043, 3.422181659071996, 18.89386196920536, 4.192611426580197, 8.558928985044526, 3.3944474541372767, 12.222641943229728, 15.621086264961544, 16.339282591030273, 53.079704807816846, 25.05743439586796, 40.51707899511952, 13.673525608693208, 53.24802847292114, 29.44734142367897, 129.8384608996537, 13.410817197614922, 14.308616601615775, 27.44422264942511, 116.0863027599498, 32.33126627303137, 111.49032930147243, 28.55127015764733, 64.4512480067636, 19.333778365138777, 38.81911566245059, 69.30837368083911, 33.683396663499224, 33.744693434215044, 58.22293769106642, 63.25128438700512, 55.46281185066992, 41.86756233164909, 35.8730031700809, 46.88988872902735, 38.63845632499972, 66.36307614302552, 31.805647634578953, 5.3377808099288195, 3.8389826131955447, 3.0684079147826524, 3.8659740315795315, 2.3119501799488797, 2.311950413573953, 5.469646147880026, 4.6042200121443555, 2.31773951168916, 2.321032767482058, 2.3318700805632107, 2.336142959259687, 2.3382190994051064, 4.655132779745374, 7.826894376409773, 2.34985601190923, 3.908996659215567, 2.33266561373918, 3.141710955217331, 3.159289290794856, 3.8517463184913296, 2.3628209585239093, 3.1174543349763786, 3.9015141887656664, 2.338422470713446, 2.338811365800457, 1.5554922841810652, 1.5554923220381596, 1.5554925486138664, 1.5554924181240983, 5.4990463274692445, 2.3386743427470527, 3.912799026310996, 3.159294445803226, 8.68446110537675, 5.540667926001082, 13.545732241477893, 17.716596670300305, 5.568010155517788, 10.409534430467232, 41.70569161901123, 7.143448542718552, 12.712473507316078, 39.268710838841315, 27.30780677177375, 17.560167026338306, 18.61629737037241, 55.46281185066992, 75.39286409390847, 46.88988872902735, 111.49032930147243, 26.719060524939355, 53.079704807816846, 41.35533257364743, 14.4071191425754, 50.1768958528426, 63.25128438700512, 129.8384608996537, 116.0863027599498, 34.67641647985869, 33.683396663499224, 58.22293769106642, 53.24802847292114, 66.36307614302552, 68.35397381255038, 38.81911566245059, 48.614022355306346, 33.744693434215044, 48.970853427648365, 27.794005663652445, 51.07294254890434, 31.805647634578953, 35.456851273572475, 4.046415864647363, 3.249478725891716, 2.4326295359967416, 2.432629395132082, 5.804472581615506, 4.081639186428246, 4.137753273439701, 4.083535795730212, 2.411576949857349, 2.437992974551848, 2.4623560354202754, 2.378627166933801, 2.4395100240205525, 2.4400486295218635, 2.4666290472095516, 1.6158320003548035, 1.6158319958552347, 1.6158319035623614, 1.6158315341071807, 1.615831713308098, 1.6158317502652109, 1.6158318088924588, 1.6158315349031835, 1.6158318922063173, 1.6158319941603778, 1.6158317063944525, 1.6158315729224397, 1.6158316967138904, 1.6158490065233497, 1.615849753094228, 10.668556026885184, 3.139958717934638, 4.050578567738803, 4.846009689359311, 4.6555359161216945, 2.3829322717330674, 4.103228114253709, 5.817300949768395, 3.3172363944722068, 28.821089067518873, 5.65752431859507, 5.626220515619312, 3.231284029874195, 64.4512480067636, 11.534787992223603, 8.959707590902628, 31.650904382821622, 29.44734142367897, 12.574493210229805, 42.628706197155886, 21.89254891947951, 58.22293769106642, 27.44422264942511, 111.49032930147243, 116.0863027599498, 23.362224903400698, 66.36307614302552, 75.39286409390847, 32.33126627303137, 22.628913016513977, 39.268710838841315, 32.445812819198395, 129.8384608996537, 18.220771525535692, 40.51707899511952, 30.415528406413586, 35.78573538137557, 24.933811484103835, 25.96691410927964, 63.25128438700512, 41.35533257364743, 51.07294254890434, 69.30837368083911, 35.456851273572475, 41.86756233164909, 48.970853427648365, 5.30029873322922, 5.291696833009921, 5.2907909767213805, 4.400242566213447, 6.9805347598683705, 4.243984721373297, 6.847438687749247, 2.5981403059341495, 2.5966740507311767, 2.596320188238892, 6.8623862189195295, 2.5929217821682715, 3.408461177155326, 3.4737551053395377, 2.593565555805991, 2.5390197081728387, 2.523389755132636, 2.5348409944275967, 3.4626685405229214, 3.4672127076141277, 2.498809230577644, 1.6986757791202247, 1.6983389073173893, 1.6991706598598881, 1.6984758025546987, 1.6994733537011912, 1.6992327731778918, 1.6984186284751717, 1.6981949808168972, 1.6980619258193739, 5.153267721869859, 2.5752173898340733, 8.598728224515169, 3.3544507709704385, 6.741851468548583, 4.3108137490380445, 4.311721751420157, 8.406316513508571, 8.39183881424129, 6.869065941593775, 22.88738798263345, 28.26477262550096, 19.863389833680014, 116.0863027599498, 15.883516067487081, 6.73395100230949, 69.30837368083911, 11.542976432352578, 34.421910899054225, 41.64474439748774, 18.07950178259311, 24.635581697732484, 44.364006620139904, 10.82671390168236, 63.25128438700512, 55.46281185066992, 36.901621138492395, 50.1768958528426, 51.07294254890434, 75.39286409390847, 23.50188946621805, 111.49032930147243, 40.136934644446875, 68.35397381255038, 22.50237787684964, 66.36307614302552, 58.22293769106642, 35.456851273572475, 35.89828964619495, 41.86756233164909, 28.55127015764733, 34.67641647985869, 41.70569161901123, 36.632236291788416, 129.8384608996537, 4.335208519594903, 4.325293915490393, 2.567124794376759, 2.5671245130118083, 2.5671242558562066, 2.5671238270043912, 3.4130866150571473, 5.17092788830985, 4.261788777611372, 6.083961758945557, 6.899240864369556, 4.290207997353757, 2.538466631259531, 3.379591485825614, 12.944096313356685, 2.5314453608370475, 1.683079575006147, 1.6830796688208614, 1.6830794982710917, 1.6830795325872527, 1.6830794526369794, 1.6830792330593753, 1.683079237605605, 1.683079080359031, 1.6830785420126684, 1.6830782625471734, 1.6830779891801744, 1.6830779980482296, 4.239383905279718, 1.672799885413289, 38.63859368493482, 15.956007294354748, 3.3949712934887417, 21.50136583379271, 8.488882343983972, 15.10083528768482, 8.255489993936129, 26.89732561088508, 10.060441026509803, 9.198210356820733, 3.374164711797976, 5.903600347006905, 10.00077096526334, 75.39286409390847, 51.07294254890434, 35.78573538137557, 30.78974495511816, 40.2354106183888, 111.49032930147243, 48.614022355306346, 38.63845632499972, 23.057172803670102, 66.36307614302552, 31.650904382821622, 15.93868439332742, 129.8384608996537, 116.0863027599498, 13.228143410284803, 39.268710838841315, 38.81911566245059, 69.30837368083911, 35.456851273572475, 39.58916178675234, 63.25128438700512, 50.1768958528426, 21.53660000348159, 68.35397381255038, 55.46281185066992, 36.901621138492395, 41.70569161901123, 4.1408478958060915, 2.4699419489003054, 4.1274477475949665, 2.4809989419062393, 4.928005656961411, 2.484772419661368, 4.993443170499559, 6.757024021406952, 1.6344882989416525, 1.634488010406145, 2.3961532501280565, 1.6324834776216564, 2.4708198922421425, 1.6304329089385499, 2.4116567953135664, 1.6301136537660947, 1.6294542531488303, 1.629064316061162, 1.6281061191133304, 1.6279701441846017, 1.6276086163535257, 1.6270717323755306, 2.4808812646371288, 1.6255327961025583, 2.405928316113546, 3.325995676136557, 1.6287287178076038, 3.3549071848595102, 3.992636897379891, 1.6266739776888877, 5.7571761881766355, 10.186487184875606, 29.103506039593494, 29.21584161108786, 14.528533334038752, 3.9410735201099114, 6.537795905461076, 7.168314786128297, 5.7298263108931655, 7.298894556765844, 4.762749632341969, 6.441555309824207, 24.83986044806456, 41.214845584102115, 36.632236291788416, 12.780954906581215, 22.628913016513977, 32.445812819198395, 30.721244886379576, 35.17932516474401, 7.9104610628344485, 17.255984489523556, 68.35397381255038, 129.8384608996537, 46.88988872902735, 24.106194083433298, 15.233613586533686, 26.274582366926815, 40.136934644446875, 111.49032930147243, 32.42224046688113, 18.161920158645515, 69.30837368083911, 48.614022355306346, 50.1768958528426, 39.58916178675234, 26.719060524939355, 116.0863027599498, 30.543189030091973, 25.495560046347403, 55.46281185066992, 66.36307614302552, 48.970853427648365, 53.079704807816846, 2.962157360218498, 5.2918155167169285, 2.950231273862569, 2.2441439639608136, 2.9459690777000493, 4.570584720401217, 2.2337874731692677, 3.0681000831391967, 3.061561502222138, 2.282956143388254, 3.053390516959077, 4.583581606099188, 4.584956312231167, 9.248170401223879, 1.5200754261982963, 1.5200753640655567, 1.520075434333845, 1.5200754826711504, 1.5200755858549115, 1.5200756116995888, 1.5200755485616897, 1.520075663876507, 1.5200756741020545, 1.5200757801515445, 1.5200767716361432, 5.266100857659661, 1.5214647683532678, 1.5213379154411055, 1.5221938824885117, 1.5216536031510124, 2.9665542993137692, 2.3151960678405743, 3.7457477119126645, 7.7085748239053755, 7.709800647435485, 2.323001763288522, 3.149528935537332, 8.312466851253347, 2.327741616425027, 21.241278431502238, 5.508637982357647, 48.970853427648365, 3.7370233124280747, 41.86756233164909, 10.075317866054547, 15.475792922999526, 21.632520336549835, 41.214845584102115, 16.197547205708382, 6.990301976410789, 53.24802847292114, 15.621086264961544, 64.4512480067636, 38.81911566245059, 44.364006620139904, 129.8384608996537, 15.067011379398636, 40.136934644446875, 26.274582366926815, 39.58916178675234, 116.0863027599498, 41.35533257364743, 63.25128438700512, 25.58886957667965, 32.33126627303137, 68.35397381255038, 42.628706197155886, 29.21584161108786, 30.415528406413586, 50.1768958528426, 41.64474439748774, 66.36307614302552, 2.8529500468448252, 2.867123461648431, 2.178646446505661, 2.2132042568160695, 2.957124766017052, 2.204650933402765, 1.4836720918430082, 1.4836723292721936, 1.4836721797605976, 1.4836724703952202, 1.4836727945795565, 1.4836729985712056, 1.4836730548093258, 1.4837377211855034, 1.4837407247827692, 2.1983350566374424, 1.4837513531686122, 3.638258989046637, 2.1675932777730895, 2.207745833991075, 3.6404586405374557, 1.4883543107499064, 1.4889294573447778, 1.4895089812091382, 2.1674803068067643, 1.4933644905156607, 10.654988304289208, 5.9302657398951775, 3.070819760677316, 1.4961859898927359, 3.0600017559716126, 4.492501966248962, 5.940123813815455, 4.431310738596532, 4.5477965533402385, 3.787386106305743, 3.039325876478571, 9.214067484103431, 7.649385159959838, 5.421546967870438, 6.115329154883735, 2.967557482023264, 13.824314014868271, 17.078360118526852, 2.9815640035918194, 3.743518253635249, 40.136934644446875, 28.821089067518873, 25.63961824566624, 12.532467604181987, 7.797490483073018, 39.58916178675234, 8.038452248961365, 111.49032930147243, 68.35397381255038, 40.2354106183888, 129.8384608996537, 35.89828964619495, 35.8730031700809, 30.252523737124648, 64.4512480067636, 63.25128438700512, 35.78573538137557, 36.901621138492395, 66.36307614302552, 69.30837368083911, 25.96691410927964, 32.42224046688113, 34.07706251024052, 44.364006620139904, 22.687305496584116, 50.1768958528426, 55.46281185066992, 41.214845584102115, 4.90203124310613, 3.533407508645865, 3.533676982490709, 3.5347549800181923, 2.8497344448056547, 25.082846614726236, 2.16639595183066, 2.16654362248202, 2.1665196562691804, 2.16654784437865, 2.1667275074837176, 2.1665761017479213, 2.1665715705326045, 2.1666477586208672, 2.1668810476305, 2.166823394363877, 2.1666622457841767, 2.166725454442717, 2.166743927204145, 2.166951660538052, 2.166963878977975, 2.1668691857780535, 2.1669287525524314, 2.167046565188938, 2.166925306362682, 2.1670305870628006, 2.16703770607838, 2.16690085274054, 2.167059332149146, 2.167074215628842, 4.327147281628754, 12.262176672960674, 8.09177868034098, 6.583301501544274, 6.081970948353472, 5.160500440301062, 42.628706197155886, 15.69006036051433, 4.338059840604064, 11.74570893744332, 13.824314014868271, 12.260786516950759, 68.35397381255038, 44.364006620139904, 13.977835652528988, 5.099199790772987, 13.050772493248035, 19.359647792213053, 2.9506696474349985, 58.22293769106642, 30.543189030091973, 26.719060524939355, 27.479480841429375, 69.30837368083911, 7.907363966040743, 48.970853427648365, 129.8384608996537, 116.0863027599498, 75.39286409390847, 55.46281185066992, 27.794005663652445, 53.079704807816846, 41.35533257364743, 29.21584161108786, 25.63961824566624, 111.49032930147243], \"loglift\": [30.0, 29.0, 28.0, 27.0, 26.0, 25.0, 24.0, 23.0, 22.0, 21.0, 20.0, 19.0, 18.0, 17.0, 16.0, 15.0, 14.0, 13.0, 12.0, 11.0, 10.0, 9.0, 8.0, 7.0, 6.0, 5.0, 4.0, 3.0, 2.0, 1.0, 1.6791, 1.6321, 1.5891, 1.5891, 1.5756, 1.5754, 1.5751, 1.5461, 1.5171, 1.4862, 1.4697, 1.4634, 1.4415, 1.4371, 1.4326, 1.4312, 1.4299, 1.4208, 1.4135, 1.4064, 1.4022, 1.3969, 1.3825, 1.382, 1.3797, 1.3753, 1.3752, 1.3738, 1.3737, 1.3731, 1.3724, 1.3692, 1.3294, 1.3619, 1.3251, 1.3602, 1.2358, 1.161, 1.1442, 0.9532, 1.0632, 0.9368, 1.1454, 0.8418, 0.9648, 0.6347, 1.1069, 1.0823, 0.8179, 0.2561, 0.6595, 0.126, 0.6711, 0.2564, 0.8251, 0.4682, 0.0965, 0.4363, 0.4232, -0.0018, -0.0682, -0.0024, 0.2069, 0.2736, -0.0021, 0.1642, -0.3626, 0.3296, 1.8381, 1.7251, 1.7166, 1.6798, 1.612, 1.6119, 1.6058, 1.59, 1.5728, 1.5502, 1.5249, 1.5211, 1.4957, 1.4788, 1.4686, 1.4666, 1.4449, 1.4443, 1.4264, 1.4257, 1.4194, 1.4128, 1.398, 1.3856, 1.3855, 1.3757, 1.3664, 1.3664, 1.3664, 1.3664, 1.3577, 1.365, 1.3575, 1.3512, 1.2917, 1.3119, 1.2227, 1.125, 1.2608, 1.1064, 0.773, 1.1646, 0.9645, 0.5798, 0.6828, 0.8359, 0.8131, 0.4213, 0.3041, 0.4458, 0.0994, 0.648, 0.3333, 0.423, 0.8639, 0.3231, 0.2066, -0.1952, -0.1701, 0.4306, 0.4358, 0.1151, 0.1303, -0.0076, -0.0676, 0.2581, 0.0945, 0.2992, 0.0217, 0.4332, -0.0658, 0.3203, 0.2231, 1.7755, 1.7676, 1.6695, 1.6695, 1.6462, 1.5941, 1.5844, 1.5622, 1.5414, 1.521, 1.4833, 1.4769, 1.4747, 1.4578, 1.4534, 1.4368, 1.4368, 1.4368, 1.4368, 1.4368, 1.4368, 1.4368, 1.4368, 1.4368, 1.4368, 1.4368, 1.4368, 1.4368, 1.4366, 1.4366, 1.3868, 1.4143, 1.3992, 1.3681, 1.3679, 1.408, 1.3405, 1.3021, 1.3594, 1.0383, 1.2541, 1.2464, 1.3265, 0.8451, 1.1144, 1.1268, 0.8377, 0.7837, 1.0081, 0.6508, 0.8409, 0.5086, 0.7029, 0.2233, 0.2015, 0.7135, 0.3126, 0.2416, 0.5675, 0.71, 0.4806, 0.5579, -0.0418, 0.764, 0.3877, 0.5175, 0.4305, 0.5973, 0.5741, 0.0117, 0.2604, 0.0764, -0.2654, 0.2349, 0.1, -0.1291, 1.8685, 1.8552, 1.8487, 1.8337, 1.742, 1.7066, 1.687, 1.6866, 1.6768, 1.6746, 1.6699, 1.6687, 1.6652, 1.6641, 1.6633, 1.5772, 1.569, 1.5608, 1.5594, 1.5525, 1.4866, 1.4809, 1.4809, 1.4802, 1.4798, 1.4792, 1.4776, 1.4748, 1.4736, 1.4731, 1.4711, 1.4697, 1.4421, 1.4503, 1.4109, 1.428, 1.4128, 1.3278, 1.3144, 1.3363, 1.0354, 0.967, 1.0027, 0.5205, 1.0492, 1.2684, 0.4862, 1.0719, 0.6529, 0.5753, 0.8653, 0.7315, 0.4818, 1.0722, 0.2949, 0.3343, 0.5113, 0.358, 0.3128, 0.1135, 0.7072, -0.1706, 0.3664, 0.0425, 0.7088, 0.021, 0.0607, 0.3831, 0.3714, 0.2222, 0.5087, 0.3132, 0.1258, 0.2104, -1.038, 1.9325, 1.8982, 1.79, 1.79, 1.79, 1.79, 1.7678, 1.7575, 1.7124, 1.7045, 1.6978, 1.6694, 1.6306, 1.6077, 1.5945, 1.5868, 1.5703, 1.5703, 1.5703, 1.5703, 1.5703, 1.5703, 1.5703, 1.5703, 1.5703, 1.5703, 1.5703, 1.5703, 1.5568, 1.5293, 1.4067, 1.4066, 1.4965, 1.2773, 1.3818, 1.2751, 1.327, 1.1085, 1.2459, 1.2548, 1.4391, 1.3246, 1.2186, 0.8129, 0.8379, 0.9011, 0.935, 0.8231, 0.4086, 0.6554, 0.7161, 0.9123, 0.4992, 0.7651, 1.0428, 0.0673, 0.0366, 1.0706, 0.4476, 0.4512, 0.1091, 0.4528, 0.3813, 0.0517, 0.162, 0.7516, -0.1976, -0.0703, 0.2673, 0.1287, 1.9805, 1.8307, 1.7917, 1.7479, 1.723, 1.7181, 1.6625, 1.607, 1.6018, 1.6018, 1.6002, 1.5871, 1.5821, 1.58, 1.5785, 1.5782, 1.5746, 1.5725, 1.5672, 1.5665, 1.5645, 1.5615, 1.5573, 1.5528, 1.5491, 1.529, 1.5237, 1.5155, 1.5049, 1.5026, 1.485, 1.4408, 1.3281, 1.3246, 1.3768, 1.4771, 1.4031, 1.3893, 1.3955, 1.3551, 1.41, 1.3508, 1.1064, 0.9829, 0.9352, 1.1303, 0.957, 0.8444, 0.8056, 0.7287, 1.2254, 0.9441, 0.4291, 0.096, 0.5103, 0.763, 0.9557, 0.7133, 0.5007, -0.005, 0.5626, 0.8498, 0.0814, 0.2341, 0.1887, 0.3058, 0.5444, -0.5593, 0.4362, 0.5685, -0.0477, -0.2065, -0.0222, -0.1092, 2.1646, 2.0937, 2.0574, 2.0391, 2.0158, 1.997, 1.9588, 1.9247, 1.9008, 1.8942, 1.8784, 1.8495, 1.8402, 1.8353, 1.8022, 1.8022, 1.8022, 1.8022, 1.8022, 1.8022, 1.8022, 1.8022, 1.8022, 1.8022, 1.8021, 1.7933, 1.782, 1.782, 1.7801, 1.7796, 1.7754, 1.7749, 1.7544, 1.6838, 1.6274, 1.7559, 1.6915, 1.521, 1.7302, 1.2998, 1.5473, 1.0955, 1.6064, 1.0669, 1.3724, 1.2516, 1.1394, 0.9607, 1.2025, 1.3957, 0.6066, 1.0198, 0.3352, 0.5339, 0.4585, -0.143, 1.0095, 0.4585, 0.6584, 0.3939, -0.3191, 0.3282, -0.0222, 0.6151, 0.443, -0.1985, 0.1585, 0.464, 0.4071, -0.1274, 0.0327, -0.4278, 2.4061, 2.378, 2.2631, 2.1202, 2.1192, 2.053, 2.0303, 2.0303, 2.0303, 2.0303, 2.0303, 2.0303, 2.0303, 2.0286, 2.0286, 2.0283, 2.0283, 2.0247, 2.018, 2.0131, 2.0127, 2.0058, 2.0027, 1.9996, 1.9667, 1.9648, 1.9572, 1.9508, 1.9496, 1.9451, 1.9422, 1.9364, 1.8853, 1.8872, 1.8662, 1.8729, 1.9078, 1.6805, 1.6961, 1.7631, 1.732, 1.8735, 1.4657, 1.3024, 1.8177, 1.7439, 0.8993, 1.0056, 1.0402, 1.3173, 1.4516, 0.6842, 1.4171, 0.0935, 0.3409, 0.587, -0.038, 0.623, 0.5789, 0.6169, 0.1307, 0.1367, 0.4929, 0.4582, -0.0211, -0.0787, 0.5981, 0.4088, 0.3559, 0.1381, 0.678, -0.0122, -0.2079, 0.076, 2.6249, 2.5597, 2.5583, 2.5523, 2.4969, 2.4025, 2.3819, 2.3798, 2.3798, 2.3788, 2.3785, 2.3785, 2.3785, 2.3783, 2.3779, 2.3778, 2.3777, 2.3775, 2.3774, 2.3766, 2.3764, 2.3763, 2.3762, 2.3762, 2.376, 2.3759, 2.3752, 2.3752, 2.3748, 2.3729, 2.3528, 2.2139, 2.0806, 2.0667, 2.0107, 2.0697, 1.3053, 1.5965, 2.1047, 1.6568, 1.4961, 1.5478, 0.6696, 0.8585, 1.3591, 1.9087, 1.3851, 1.1101, 2.2001, 0.4484, 0.7976, 0.8554, 0.7727, 0.1664, 1.5398, 0.3092, -0.5474, -0.5756, -0.2237, 0.0157, 0.5895, -0.0366, 0.2012, 0.51, 0.6197, -0.8259], \"logprob\": [30.0, 29.0, 28.0, 27.0, 26.0, 25.0, 24.0, 23.0, 22.0, 21.0, 20.0, 19.0, 18.0, 17.0, 16.0, 15.0, 14.0, 13.0, 12.0, 11.0, 10.0, 9.0, 8.0, 7.0, 6.0, 5.0, 4.0, 3.0, 2.0, 1.0, -6.9093, -6.0574, -7.297, -7.297, -6.0992, -7.023, -5.6213, -6.3484, -7.3758, -7.4093, -6.7609, -6.728, -6.6195, -7.1871, -6.631, -6.965, -7.1916, -6.4983, -7.2191, -6.2025, -6.999, -7.5165, -7.5377, -7.5146, -6.6648, -7.5476, -7.2301, -6.5546, -7.5282, -7.9389, -7.5471, -7.2454, -5.5766, -7.0496, -6.3728, -7.2626, -6.1058, -5.9353, -5.9071, -4.9198, -5.5605, -5.2063, -6.084, -5.0281, -5.4974, -4.3439, -6.1419, -6.1017, -5.7148, -4.8344, -5.7093, -5.005, -5.8221, -5.4225, -6.0579, -5.7177, -5.5098, -5.8916, -5.9028, -5.7823, -5.766, -5.8315, -5.9034, -5.9913, -5.9992, -6.0264, -6.0123, -6.0556, -6.3319, -6.7746, -7.007, -6.8128, -7.3948, -7.3948, -6.5399, -6.7279, -7.4315, -7.4526, -7.4733, -7.4752, -7.4997, -6.8281, -6.3187, -7.5239, -7.0367, -7.5535, -7.2737, -7.2688, -7.0769, -7.5722, -7.3099, -7.0979, -7.6099, -7.6195, -8.0367, -8.0367, -8.0367, -8.0367, -6.7826, -7.6303, -7.1231, -7.3433, -6.3917, -6.8209, -6.0161, -5.8453, -6.867, -6.3957, -5.3412, -6.714, -6.3377, -5.5947, -5.8549, -6.1433, -6.1077, -5.4079, -5.2181, -5.5512, -5.0315, -5.9115, -5.5397, -5.6997, -6.3132, -5.6062, -5.4911, -5.1737, -5.2606, -5.8682, -5.8921, -5.6655, -5.7396, -5.6573, -5.6877, -5.9278, -5.8664, -6.0268, -5.9319, -6.0868, -5.9774, -6.0649, -6.0534, -6.6715, -6.8988, -7.2863, -7.2863, -6.44, -6.8442, -6.8403, -6.8756, -7.4231, -7.4327, -7.4604, -7.5014, -7.4783, -7.495, -7.4886, -7.9282, -7.9282, -7.9282, -7.9282, -7.9282, -7.9282, -7.9282, -7.9282, -7.9282, -7.9282, -7.9282, -7.9282, -7.9282, -7.9284, -7.9284, -6.0908, -7.2863, -7.0468, -6.8986, -6.9389, -7.5685, -7.0926, -6.7819, -7.2863, -5.4455, -6.8577, -6.871, -7.3455, -4.8339, -6.285, -6.5253, -5.5524, -5.6785, -6.305, -5.4415, -5.9178, -5.2719, -5.8298, -4.9076, -4.889, -5.9803, -5.3371, -5.2806, -5.8013, -6.0156, -5.6939, -5.8073, -5.0203, -6.1783, -5.7554, -5.9124, -5.8368, -6.0313, -6.014, -5.6861, -5.8623, -5.8352, -5.8717, -6.0416, -6.0104, -6.0828, -6.3086, -6.3235, -6.3302, -6.5295, -6.1598, -6.6927, -6.234, -7.2035, -7.2138, -7.2161, -6.2489, -7.2234, -6.9534, -6.9356, -7.2285, -7.3358, -7.3502, -7.3539, -7.0434, -7.049, -7.4425, -7.8341, -7.8343, -7.8345, -7.8353, -7.8353, -7.8371, -7.8404, -7.8417, -7.8423, -6.7341, -7.4292, -6.2512, -7.1843, -6.5256, -6.9557, -6.9707, -6.388, -6.4032, -6.5815, -5.6788, -5.5362, -5.8533, -4.57, -6.0304, -6.6693, -5.1201, -6.3269, -5.6532, -5.5404, -6.0848, -5.9091, -5.5707, -6.3906, -5.4029, -5.4948, -5.7253, -5.5713, -5.5988, -5.4087, -5.9806, -5.3015, -5.7861, -5.5777, -6.0224, -5.6287, -5.7198, -5.8935, -5.8928, -5.8882, -5.9845, -5.9855, -5.9884, -6.0335, -6.0165, -6.4456, -6.4821, -7.1121, -7.1121, -7.1121, -7.1121, -6.8495, -6.4443, -6.6828, -6.3347, -6.2157, -6.7191, -7.2827, -7.0194, -5.6897, -7.3293, -7.7539, -7.7539, -7.7539, -7.7539, -7.7539, -7.7539, -7.7539, -7.7539, -7.7539, -7.7539, -7.7539, -7.7539, -6.8437, -7.8011, -4.7839, -5.6684, -7.126, -5.4994, -6.3243, -5.855, -6.4069, -5.4443, -6.2903, -6.371, -7.1896, -6.7447, -6.3236, -4.7093, -5.0737, -5.3662, -5.4826, -5.3271, -4.7223, -5.3055, -5.4745, -5.7946, -5.1505, -5.625, -6.0333, -4.9113, -5.0539, -6.1919, -5.7268, -5.7348, -5.4972, -5.8237, -5.785, -5.646, -5.7673, -6.0235, -5.8178, -5.8994, -5.9693, -5.9855, -6.4434, -7.1099, -6.6355, -7.1883, -6.5269, -7.2165, -6.5742, -6.3273, -7.7518, -7.7518, -7.3708, -7.7677, -7.3582, -7.776, -7.3861, -7.778, -7.782, -7.7844, -7.7902, -7.7911, -7.7933, -7.7966, -7.379, -7.8062, -7.4178, -7.1141, -7.8333, -7.1189, -6.9555, -7.8557, -6.6094, -6.083, -5.1459, -5.1456, -5.7919, -6.9963, -6.5641, -6.4859, -6.7037, -6.502, -6.8741, -6.6313, -5.526, -5.1431, -5.3087, -6.1666, -5.7686, -5.5209, -5.6143, -5.5557, -6.5513, -6.0526, -5.1911, -4.8826, -5.4868, -5.8994, -6.1656, -5.8629, -5.6519, -5.1359, -5.8034, -6.0957, -5.5249, -5.7269, -5.7406, -5.8605, -6.015, -5.6498, -5.9895, -6.0379, -5.8769, -5.8562, -5.9758, -5.9823, -6.5943, -6.085, -6.7056, -6.9975, -6.7486, -6.3282, -7.0823, -6.7991, -6.8252, -7.1251, -6.8502, -6.4729, -6.4819, -5.7851, -7.6239, -7.6239, -7.6239, -7.6239, -7.6239, -7.6239, -7.6239, -7.6239, -7.6239, -7.6239, -7.6239, -6.3903, -7.6432, -7.6433, -7.6446, -7.6454, -6.9821, -7.2304, -6.7698, -6.1188, -6.1749, -7.2461, -7.0061, -6.2061, -7.2698, -5.4891, -6.5912, -4.8581, -6.9201, -5.0434, -6.1623, -5.854, -5.6313, -5.1654, -5.8575, -6.5046, -5.2633, -6.0764, -5.3437, -5.652, -5.5939, -5.1216, -6.1228, -5.6941, -5.9178, -5.7724, -5.4096, -5.7945, -5.7199, -5.9876, -5.9258, -5.8186, -5.9338, -6.0062, -6.0228, -6.0567, -6.083, -6.0775, -6.3904, -6.4135, -6.8031, -6.9302, -6.6415, -7.0013, -7.42, -7.42, -7.42, -7.42, -7.42, -7.42, -7.42, -7.4217, -7.4217, -7.0288, -7.422, -6.5287, -7.0532, -7.0398, -6.54, -7.4414, -7.4441, -7.4468, -7.1045, -7.479, -5.5216, -6.114, -6.7733, -7.4969, -6.7842, -6.406, -6.1779, -6.469, -6.464, -6.6402, -6.8254, -5.9437, -6.1141, -6.3914, -6.302, -6.8836, -5.7528, -5.7046, -6.9347, -6.781, -5.2533, -5.4781, -5.5605, -5.9992, -6.3395, -5.4821, -6.3435, -5.0374, -5.2793, -5.5631, -5.0165, -5.6412, -5.6859, -5.8184, -5.5482, -5.561, -5.7744, -5.7784, -5.6708, -5.685, -5.9899, -5.9572, -5.9604, -5.9143, -6.045, -5.9415, -6.037, -6.05, -5.6303, -6.0229, -6.0242, -6.0299, -6.3008, -4.2201, -6.6899, -6.6919, -6.6919, -6.6929, -6.6931, -6.6932, -6.6932, -6.6933, -6.6936, -6.6938, -6.6939, -6.6941, -6.6942, -6.695, -6.6952, -6.6953, -6.6954, -6.6953, -6.6955, -6.6956, -6.6962, -6.6964, -6.6967, -6.6986, -6.0271, -5.1244, -5.6734, -5.8936, -6.0288, -6.1341, -4.787, -5.4954, -6.2728, -5.7245, -5.7223, -5.7907, -4.9506, -5.1939, -5.8483, -6.3071, -5.8909, -5.7716, -6.5628, -5.3321, -5.6282, -5.7041, -5.7587, -5.4399, -6.2372, -5.6444, -5.526, -5.6661, -5.7458, -5.8134, -5.9305, -5.9097, -5.9214, -5.9602, -5.981, -5.9568]}, \"token.table\": {\"Topic\": [1, 2, 3, 4, 6, 1, 2, 3, 4, 5, 6, 7, 8, 9, 7, 1, 2, 3, 4, 5, 6, 7, 8, 9, 1, 2, 3, 4, 5, 6, 7, 8, 9, 1, 2, 3, 4, 5, 6, 7, 8, 1, 2, 3, 4, 5, 6, 1, 2, 3, 4, 5, 6, 7, 8, 2, 7, 5, 4, 6, 1, 2, 3, 4, 5, 6, 7, 8, 9, 1, 2, 3, 4, 5, 6, 7, 8, 9, 1, 2, 3, 4, 5, 6, 7, 8, 9, 6, 1, 2, 3, 4, 5, 6, 7, 8, 9, 1, 2, 5, 6, 5, 6, 4, 1, 3, 4, 6, 9, 1, 7, 9, 1, 1, 2, 3, 4, 5, 6, 8, 1, 2, 3, 4, 5, 6, 7, 8, 1, 2, 3, 4, 5, 6, 7, 8, 9, 6, 1, 2, 3, 4, 5, 6, 7, 8, 9, 1, 2, 3, 4, 5, 6, 7, 8, 9, 1, 2, 3, 4, 5, 6, 7, 8, 9, 2, 8, 4, 8, 4, 6, 8, 9, 2, 4, 5, 6, 8, 6, 5, 6, 7, 9, 3, 4, 8, 2, 6, 7, 6, 7, 3, 4, 2, 5, 3, 6, 8, 1, 6, 4, 9, 1, 6, 3, 3, 3, 1, 3, 4, 5, 6, 1, 2, 3, 4, 5, 6, 7, 8, 9, 5, 8, 8, 1, 2, 3, 4, 5, 8, 9, 6, 7, 1, 2, 3, 4, 5, 6, 7, 8, 9, 2, 1, 2, 3, 4, 5, 6, 7, 8, 9, 2, 4, 5, 6, 2, 3, 8, 9, 1, 2, 3, 4, 5, 6, 7, 8, 4, 2, 3, 4, 2, 3, 4, 5, 6, 7, 9, 1, 2, 3, 4, 5, 6, 7, 8, 9, 5, 1, 2, 3, 4, 5, 6, 7, 9, 8, 1, 2, 6, 8, 1, 3, 1, 2, 3, 4, 5, 6, 7, 8, 9, 1, 2, 7, 8, 8, 1, 2, 3, 4, 5, 6, 7, 8, 9, 3, 6, 1, 2, 3, 4, 5, 6, 7, 9, 2, 6, 5, 8, 7, 1, 6, 8, 1, 7, 1, 2, 3, 4, 5, 6, 7, 8, 5, 3, 9, 8, 8, 2, 3, 4, 6, 7, 8, 9, 1, 7, 7, 5, 1, 2, 3, 4, 5, 6, 7, 8, 9, 1, 2, 3, 4, 5, 6, 7, 8, 9, 1, 7, 1, 9, 1, 3, 7, 4, 4, 3, 1, 3, 4, 2, 4, 6, 7, 1, 2, 3, 4, 1, 2, 6, 7, 8, 9, 1, 3, 4, 8, 6, 1, 2, 3, 4, 5, 6, 7, 8, 7, 6, 1, 2, 3, 6, 9, 9, 2, 1, 3, 1, 7, 7, 2, 3, 6, 7, 8, 9, 6, 3, 4, 1, 4, 9, 2, 1, 2, 3, 4, 5, 7, 8, 1, 3, 2, 5, 5, 8, 5, 1, 2, 3, 4, 5, 6, 7, 8, 9, 8, 1, 6, 7, 1, 2, 3, 4, 5, 6, 7, 8, 9, 1, 2, 3, 4, 5, 6, 7, 5, 6, 3, 4, 2, 6, 1, 2, 3, 4, 5, 6, 7, 8, 9, 1, 2, 3, 4, 5, 6, 7, 8, 9, 9, 1, 3, 8, 4, 7, 3, 8, 2, 4, 7, 1, 3, 8, 4, 1, 2, 8, 5, 1, 2, 3, 4, 6, 9, 1, 3, 5, 6, 1, 7, 6, 2, 4, 3, 1, 9, 1, 2, 3, 4, 5, 6, 7, 8, 9, 2, 1, 2, 3, 4, 5, 6, 7, 8, 9, 1, 2, 3, 4, 5, 6, 7, 8, 9, 7, 5, 6, 4, 5, 6, 7, 2, 8, 9, 1, 2, 3, 4, 5, 6, 7, 8, 9, 4, 1, 2, 4, 5, 6, 7, 9, 3, 6, 2, 3, 4, 5, 6, 7, 8, 9, 2, 4, 6, 7, 8, 2, 3, 4, 5, 9, 5, 1, 2, 4, 6, 7, 1, 2, 3, 5, 7, 4, 4, 4, 2, 6, 7, 1, 2, 3, 4, 5, 6, 7, 8, 9, 1, 2, 3, 4, 5, 6, 8, 9, 2, 7, 5, 1, 4, 5, 7, 1, 2, 3, 4, 5, 6, 7, 8, 1, 7, 1, 2, 3, 4, 6, 7, 3, 4, 6, 7, 1, 2, 3, 5, 7, 4, 1, 2, 3, 4, 5, 6, 7, 8, 9, 1, 2, 3, 4, 5, 6, 7, 8, 9, 8, 3, 9, 9, 9, 7, 1, 2, 3, 4, 5, 6, 7, 1, 2, 3, 4, 5, 6, 7, 1, 2, 3, 4, 5, 1, 2, 3, 6, 3, 3, 9, 3, 6, 8, 7, 4, 1, 2, 3, 4, 5, 6, 7, 8, 9, 1, 5, 3, 5, 1, 2, 3, 4, 5, 7, 8, 2, 3, 4, 5, 6, 7, 8, 9, 1, 2, 3, 4, 5, 6, 7, 9, 1, 2, 4, 6, 7, 8, 9, 4, 9, 1, 2, 3, 4, 6, 7, 8, 9, 4, 5, 6, 6, 6, 1, 2, 6, 8, 3, 1, 3, 7, 5, 1, 5, 3, 1, 1, 2, 3, 4, 5, 6, 7, 8, 9, 2, 3, 4, 5, 6, 3, 6, 1, 2, 3, 4, 5, 6, 7, 8, 9, 9, 2, 4, 6, 7, 2, 1, 2, 4, 3, 6, 5, 1, 2, 3, 4, 5, 6, 7, 8, 9, 1, 2, 3, 5, 6, 7, 8, 9, 1, 2, 3, 4, 5, 6, 7, 8, 9, 3, 3, 8, 1, 3, 4, 7, 8, 9, 3, 6, 1, 2, 3, 4, 5, 6, 7, 8, 9, 1, 4, 6, 5, 1, 1, 1, 2, 3, 4, 5, 6, 7, 8, 1, 2, 3, 4, 5, 6, 7, 8, 9, 4, 9, 2, 8, 8, 1, 2, 3, 6, 3, 8, 1, 2, 3, 4, 5, 6, 7, 9, 1, 2, 3, 4, 5, 6, 7, 9, 4, 6, 7, 8, 9, 7, 6, 1, 2, 3, 4, 5, 6, 7, 8, 9, 7, 6, 2, 3, 4, 6, 7, 8, 1, 2, 3, 4, 5, 6, 7, 8, 9, 1, 3, 7, 7, 8, 8, 4, 5, 5, 8, 2, 7, 3, 5, 6, 1, 2, 3, 4, 5, 6, 7, 8, 2, 3, 4, 5, 6, 7, 8, 9, 5, 6, 1, 2, 3, 4, 5, 6, 7, 9, 5, 1, 2, 3, 7, 1, 1, 2, 3, 4, 5, 6, 7, 8, 9, 1, 2, 3, 4, 5, 6, 7, 8, 9, 5, 3, 2, 3, 4, 6, 7, 3, 6, 8, 3, 2, 7, 1, 2, 3, 4, 5, 6, 7, 8, 9, 1, 2, 3, 4, 5, 6, 7, 8, 9, 9, 2, 3, 4, 5, 7, 4, 5, 7, 8, 9, 6, 1, 2, 3, 4, 5, 6, 8, 9, 4, 4, 1, 2, 3, 4, 5, 6, 7, 8, 1, 2, 3, 4, 5, 6, 7, 8, 9, 2, 3, 9, 2, 1, 2, 6, 7, 2, 8, 2, 3, 5, 3, 3, 1, 1, 2, 3, 4, 5, 6, 7, 8, 9, 1, 2, 3, 4, 5, 6, 7, 9, 2, 3, 5, 6, 5, 6, 1, 2, 3, 4, 6, 9, 9, 2, 3, 4, 5, 6, 7, 8, 9, 2, 3, 1, 2, 3, 4, 7, 9, 2, 4, 1, 2, 3, 9, 3, 8, 9, 7, 4, 8, 5, 5, 6, 2, 3, 4, 1, 2, 3, 4, 5, 6, 7, 8, 2, 4, 6, 7, 9, 2, 3, 7, 1, 2, 6, 8, 8, 8, 4, 1, 2, 3, 4, 5, 6, 9, 1, 2, 3, 7, 9, 1, 8, 1, 2, 3, 4, 5, 7, 9, 2, 5, 6, 5, 9, 4, 7, 1, 2, 7, 1, 7, 9, 4, 1, 2, 3, 4, 5, 8, 1, 2, 3, 4, 5, 6, 7, 8, 9, 2, 3, 6, 1, 2, 6, 3, 4, 5, 6, 8, 5, 2, 3, 4, 5, 7, 8, 9, 2, 5, 6, 2, 1, 3, 4, 7, 9, 7, 9, 1, 8, 3, 4, 6, 8, 1, 2, 3, 4, 5, 6, 7, 8, 1, 2, 3, 4, 5, 6, 7, 8, 9, 1, 3, 4, 5, 1, 2, 3, 4, 5, 6, 7, 1, 2, 3, 4, 5, 6, 7, 8, 9, 1, 2, 3, 4, 5, 6, 7, 8, 1, 3, 4, 5, 6, 8, 7, 1, 2, 4, 5, 6, 7, 6, 1, 7, 7, 5, 3, 1, 2, 3, 4, 1, 2, 9, 1, 2, 3, 4, 5, 6, 7, 8, 9, 6, 7, 1, 2, 3, 4, 5, 6, 7, 9, 7, 2, 3, 4, 5, 6, 7, 8, 9, 2, 3, 5, 6, 1, 6, 3, 2, 1, 1, 2, 3, 4, 5, 6, 7, 8, 9, 6, 9, 2, 8, 1, 2, 3, 4, 5, 6, 7, 8, 9, 1, 2, 3, 4, 5, 6, 7, 8, 9, 8, 1, 2, 3, 4, 5, 6, 8, 9, 2, 3, 2, 3, 4, 5, 6, 7, 8, 9, 8, 1, 2, 4, 7, 1, 3, 4, 5, 6, 7, 1, 2, 2, 3, 7, 1, 2, 3, 4, 5, 6, 7, 9, 2, 6, 1, 3, 7, 9, 1, 7, 6, 7, 8, 1, 2, 3, 4, 5, 6, 7, 8, 9, 1, 2, 3, 5, 8, 9, 1, 2, 3, 4, 5, 6, 7, 8, 9, 1, 2, 3, 4, 5, 6, 7, 8, 9, 9, 2, 1, 2, 3, 4, 5, 6, 7, 8, 9, 2, 4, 7, 4, 1, 2, 3, 5, 1, 2, 3, 4, 5, 6, 7, 9, 1, 2, 3, 4, 5, 6, 7, 8, 9, 1, 2, 3, 4, 5, 6, 7, 9, 1, 2, 3, 4, 5, 6, 7, 8, 1, 2, 3, 4, 5, 6, 8, 9, 9, 1, 2, 3, 4, 5, 6, 7, 8, 9, 1, 2, 3, 1, 4, 5, 6, 8, 3, 5, 2, 5, 8, 1, 6, 8, 9, 9, 1, 2, 3, 4, 5, 6, 9, 1, 2, 3, 4, 6, 7, 8, 9, 1, 2, 3, 4, 5, 7, 8, 9, 1, 2, 3, 4, 5, 6, 7, 8, 9, 5, 6, 1, 2, 3, 4, 5, 6, 7, 8, 9, 1, 2, 3, 4, 5, 6, 7, 8, 9, 1, 2, 3, 4, 5, 6, 7, 8, 9, 4, 1, 2, 8, 1, 2, 4, 6, 8], \"Freq\": [0.07382398988649255, 0.4429439393189553, 0.1476479797729851, 0.07382398988649255, 0.1476479797729851, 0.37021424969472316, 0.07404284993894462, 0.19744759983718568, 0.09872379991859284, 0.07404284993894462, 0.07404284993894462, 0.04936189995929642, 0.02468094997964821, 0.02468094997964821, 0.6741828391486531, 0.05176171825269613, 0.10352343650539227, 0.12940429563174033, 0.05176171825269613, 0.49173632340061324, 0.07764257737904419, 0.025880859126348067, 0.025880859126348067, 0.025880859126348067, 0.07958312861713902, 0.18569396677332436, 0.1724301120038012, 0.14590240246475486, 0.2785409501599866, 0.06631927384761585, 0.01326385476952317, 0.01326385476952317, 0.05305541907809268, 0.09301734668672497, 0.13952602003008746, 0.09301734668672497, 0.046508673343362485, 0.4185780600902624, 0.09301734668672497, 0.09301734668672497, 0.09301734668672497, 0.5821996592294698, 0.10585448349626723, 0.15878172524440085, 0.05292724174813362, 0.05292724174813362, 0.05292724174813362, 0.12591670455724344, 0.18887505683586517, 0.06295835227862172, 0.37775011367173034, 0.06295835227862172, 0.12591670455724344, 0.06295835227862172, 0.06295835227862172, 0.6518038199434341, 0.6779129547296522, 0.7900624800918793, 0.46385182423732646, 0.23192591211866323, 0.08777836408537155, 0.13166754612805734, 0.08777836408537155, 0.13166754612805734, 0.10240809143293349, 0.1755567281707431, 0.07314863673780964, 0.08777836408537155, 0.1170378187804954, 0.1951328124609929, 0.13938058032928063, 0.13938058032928063, 0.13938058032928063, 0.13938058032928063, 0.05575223213171226, 0.02787611606585613, 0.11150446426342452, 0.05575223213171226, 0.16275382128856294, 0.16275382128856294, 0.06510152851542518, 0.09765229277313776, 0.16275382128856294, 0.2604061140617007, 0.03255076425771259, 0.03255076425771259, 0.03255076425771259, 0.6118122721634104, 0.18490679485190115, 0.04622669871297529, 0.09245339742595057, 0.13868009613892587, 0.09245339742595057, 0.09245339742595057, 0.27736019227785175, 0.04622669871297529, 0.04622669871297529, 0.09606577572510272, 0.3842631029004109, 0.09606577572510272, 0.28819732717530816, 0.5891066012357233, 0.29455330061786167, 0.7559012026251695, 0.2385782034984433, 0.39763033916407214, 0.15905213566562887, 0.15905213566562887, 0.07952606783281443, 0.19377965597880276, 0.19377965597880276, 0.3875593119576055, 0.7789939080490706, 0.06267232030871539, 0.12534464061743078, 0.12534464061743078, 0.06267232030871539, 0.5013785624697231, 0.06267232030871539, 0.06267232030871539, 0.1232824716794635, 0.09246185375959763, 0.246564943358927, 0.1541030895993294, 0.06164123583973175, 0.2773855612787929, 0.030820617919865876, 0.030820617919865876, 0.09672271388161661, 0.21762610623363737, 0.16926474929282906, 0.12090339235202077, 0.12090339235202077, 0.024180678470404154, 0.12090339235202077, 0.04836135694080831, 0.07254203541121246, 0.6143983203040468, 0.28496949011584194, 0.11552817166858458, 0.1309319278910625, 0.04621126866743383, 0.1309319278910625, 0.12323004977982355, 0.07701878111238972, 0.061615024889911774, 0.03850939055619486, 0.10985869444121375, 0.25633695369616544, 0.1830978240686896, 0.07323912962747584, 0.07323912962747584, 0.1830978240686896, 0.03661956481373792, 0.03661956481373792, 0.03661956481373792, 0.06495669265579744, 0.09743503898369615, 0.1623917316394936, 0.1623917316394936, 0.3247834632789872, 0.09743503898369615, 0.06495669265579744, 0.03247834632789872, 0.03247834632789872, 0.6428832917846837, 0.4548897116391315, 0.5889066734226818, 0.45358654508473667, 0.7560306233225522, 0.24716444665732282, 0.12358222332866141, 0.49432889331464563, 0.13072946113818779, 0.13072946113818779, 0.13072946113818779, 0.13072946113818779, 0.39218838341456336, 0.7244893015844514, 0.7790818052894345, 0.26759265768408197, 0.5351853153681639, 0.26759265768408197, 0.2884161095175854, 0.5768322190351708, 0.45183357881238073, 0.1264148817694431, 0.3792446453083293, 0.2528297635388862, 0.507475942733548, 0.253737971366774, 0.2887946069042413, 0.5775892138084826, 0.42805599547593415, 0.924792644882374, 0.26712838892368745, 0.26712838892368745, 0.26712838892368745, 0.7748144964252095, 0.8061269056662028, 0.4001906138984576, 0.7018197796098139, 0.5844225114988041, 0.29221125574940204, 0.6188763979407775, 0.6188762610908506, 0.8221556493571056, 0.07725529660715869, 0.07725529660715869, 0.07725529660715869, 0.6180423728572695, 0.07725529660715869, 0.13128861308179524, 0.13128861308179524, 0.06564430654089762, 0.06564430654089762, 0.06564430654089762, 0.32822153270448806, 0.13128861308179524, 0.06564430654089762, 0.06564430654089762, 0.5917875010598839, 0.6740029393662574, 0.6716234910036031, 0.10871680046526352, 0.10871680046526352, 0.10871680046526352, 0.21743360093052705, 0.4348672018610541, 0.10871680046526352, 0.10871680046526352, 0.5009220851794639, 0.25046104258973195, 0.19107871474887692, 0.07165451803082884, 0.14330903606165768, 0.16719387540526728, 0.023884839343609614, 0.09553935737443846, 0.2627332327797057, 0.04776967868721923, 0.023884839343609614, 0.7760010738546741, 0.1743075803547227, 0.08715379017736136, 0.08715379017736136, 0.23241010713963028, 0.14525631696226893, 0.11620505356981514, 0.05810252678490757, 0.029051263392453786, 0.029051263392453786, 0.1455802009331094, 0.43674060279932814, 0.1455802009331094, 0.1455802009331094, 0.4276387233376623, 0.1961092016456194, 0.1961092016456194, 0.3922184032912388, 0.07979274565739215, 0.1595854913147843, 0.07979274565739215, 0.07979274565739215, 0.1595854913147843, 0.1595854913147843, 0.07979274565739215, 0.23937823697217644, 0.5887829909742529, 0.5126214857193038, 0.2563107428596519, 0.5962227907197465, 0.2209562605305493, 0.26514751263665914, 0.04419125210610986, 0.08838250421221971, 0.309338764742769, 0.04419125210610986, 0.04419125210610986, 0.1568900621413514, 0.03922251553533785, 0.19611257767668924, 0.19611257767668924, 0.03922251553533785, 0.19611257767668924, 0.0784450310706757, 0.03922251553533785, 0.0784450310706757, 0.7039297714049138, 0.07075945830165872, 0.21227837490497614, 0.10613918745248807, 0.3537972915082936, 0.07075945830165872, 0.10613918745248807, 0.07075945830165872, 0.03537972915082936, 0.6975632639307814, 0.16352349557527815, 0.16352349557527815, 0.16352349557527815, 0.3270469911505563, 0.39773548176623535, 0.6188762196691368, 0.23184453964018623, 0.18032353083125593, 0.07728151321339541, 0.05152100880893027, 0.18032353083125593, 0.025760504404465135, 0.15456302642679082, 0.05152100880893027, 0.05152100880893027, 0.4908922332723224, 0.16363074442410747, 0.08181537221205373, 0.16363074442410747, 0.6740029649141096, 0.3380406846265445, 0.15024030427846424, 0.07512015213923212, 0.11268022820884818, 0.05634011410442409, 0.01878003803480803, 0.15024030427846424, 0.05634011410442409, 0.01878003803480803, 0.6188697062429079, 0.6147513353725369, 0.16518077239602483, 0.11012051493068323, 0.11012051493068323, 0.11012051493068323, 0.11012051493068323, 0.27530128732670806, 0.11012051493068323, 0.055060257465341614, 0.6515761610190276, 0.6125636269574298, 0.5941489995138252, 0.6739735640076617, 0.6571797930417398, 0.7667239589677106, 0.3381663200321774, 0.6763326400643548, 0.21810458636919317, 0.6543137591075795, 0.22219873950050323, 0.0888794958002013, 0.13331924370030193, 0.26663848740060386, 0.04443974790010065, 0.0888794958002013, 0.04443974790010065, 0.04443974790010065, 0.9226776478963402, 0.6188762220416499, 0.46155775428023665, 0.6739673718675698, 0.4613411613028093, 0.07662381675240768, 0.07662381675240768, 0.07662381675240768, 0.3064952670096307, 0.15324763350481535, 0.07662381675240768, 0.22987145025722303, 0.18897106235865258, 0.7558842494346103, 0.6578620391244434, 0.594149529112521, 0.0797179644538213, 0.19929491113455328, 0.05978847334036598, 0.17936542002109793, 0.13950643779418728, 0.13950643779418728, 0.0797179644538213, 0.05978847334036598, 0.05978847334036598, 0.12342117992515969, 0.14399137657935296, 0.10285098327096641, 0.10285098327096641, 0.22627216319612609, 0.14399137657935296, 0.061710589962579845, 0.041140393308386564, 0.041140393308386564, 0.3275047834352734, 0.6550095668705468, 0.7879503473127388, 0.4614516627017409, 0.70818401746476, 0.23606133915492, 0.23606133915492, 0.7697813684010838, 0.7713306331699469, 0.9232250010120455, 0.5869343024586767, 0.19405162975642004, 0.5821548892692602, 0.155242010958886, 0.155242010958886, 0.46572603287665804, 0.155242010958886, 0.3438020513756687, 0.17190102568783436, 0.515703077063503, 0.38831673160782443, 0.120301231619254, 0.240602463238508, 0.120301231619254, 0.360903694857762, 0.120301231619254, 0.120301231619254, 0.1877055087141571, 0.09385275435707854, 0.09385275435707854, 0.46926377178539275, 0.6133340381672151, 0.1284124270014757, 0.042804142333825235, 0.2568248540029514, 0.1284124270014757, 0.21402071166912617, 0.08560828466765047, 0.08560828466765047, 0.042804142333825235, 0.4456042108078685, 0.6142105777138175, 0.18048365528409124, 0.5414509658522737, 0.18048365528409124, 0.6118123801663834, 0.4615697794877308, 0.46159613581024944, 0.6365958003484277, 0.6850498444135561, 0.11417497406892602, 0.5950668931490858, 0.2975334465745429, 0.6578620676407144, 0.08155158962968623, 0.08155158962968623, 0.08155158962968623, 0.08155158962968623, 0.08155158962968623, 0.5708611274078036, 0.6139757892561004, 0.6188694203066076, 0.787705583206861, 0.5830665467328332, 0.1457666366832083, 0.1457666366832083, 0.8616853790348138, 0.2621531126466985, 0.08738437088223283, 0.043692185441116416, 0.3495374835289313, 0.08738437088223283, 0.043692185441116416, 0.08738437088223283, 0.1722809412809181, 0.6891237651236723, 0.6330537712476509, 0.31652688562382547, 0.32679719808934543, 0.32679719808934543, 0.5941490915321537, 0.18271056580537717, 0.1370329243540329, 0.31974349015941006, 0.09135528290268859, 0.04567764145134429, 0.04567764145134429, 0.09135528290268859, 0.04567764145134429, 0.09135528290268859, 0.6740032048539799, 0.18153307645241357, 0.36306615290482713, 0.36306615290482713, 0.06126092951253807, 0.14294216886258884, 0.12252185902507615, 0.10210154918756345, 0.06126092951253807, 0.10210154918756345, 0.265464027887665, 0.06126092951253807, 0.08168123935005077, 0.11590181952320593, 0.11590181952320593, 0.05795090976160296, 0.11590181952320593, 0.11590181952320593, 0.2897545488080148, 0.1738527292848089, 0.4717666634317324, 0.2358833317158662, 0.618948994117941, 0.3094744970589705, 0.4276759180756079, 0.6087655349506615, 0.07639670200307802, 0.2546556733435934, 0.20372453867487472, 0.1273278366717967, 0.17825897134051538, 0.07639670200307802, 0.02546556733435934, 0.02546556733435934, 0.02546556733435934, 0.058739517448546906, 0.13705887404660944, 0.13705887404660944, 0.1762185523456407, 0.27411774809321887, 0.058739517448546906, 0.058739517448546906, 0.03915967829903127, 0.03915967829903127, 0.46156467362258197, 0.30145575445463735, 0.6029115089092747, 0.4590005880044941, 0.7302000394608134, 0.14604000789216265, 0.6369510492531362, 0.3184755246265681, 0.6444499312786721, 0.21481664375955736, 0.21481664375955736, 0.2225931134839225, 0.2225931134839225, 0.445186226967845, 0.9090407948673909, 0.16834665931949336, 0.16834665931949336, 0.5050399779584801, 0.5941490931370325, 0.2529287899974345, 0.12646439499871726, 0.12646439499871726, 0.12646439499871726, 0.12646439499871726, 0.2529287899974345, 0.16938815997376835, 0.16938815997376835, 0.5081644799213051, 0.16938815997376835, 0.4296009458024863, 0.4296009458024863, 0.6142618791703137, 0.14572190606862231, 0.7286095303431116, 0.8293328562948428, 0.5971349716607761, 0.19904499055359207, 0.1704183682929446, 0.15247959268316094, 0.1704183682929446, 0.10763265365870185, 0.17938775609783641, 0.11660204146359367, 0.00896938780489182, 0.07175510243913456, 0.026908163414675463, 0.8650704566402352, 0.22008669908012288, 0.18864574206867674, 0.15720478505723062, 0.1257638280457845, 0.1257638280457845, 0.06288191402289225, 0.09432287103433837, 0.06288191402289225, 0.03144095701144613, 0.08051575024673029, 0.08051575024673029, 0.16103150049346057, 0.12077362537009544, 0.12077362537009544, 0.3623208761102863, 0.04025787512336514, 0.04025787512336514, 0.04025787512336514, 0.6572613581334081, 0.5927392912998218, 0.8049026881393693, 0.2162589910470643, 0.10812949552353215, 0.10812949552353215, 0.5406474776176607, 0.2748567386243271, 0.5497134772486542, 0.46154248932301223, 0.10308036412928011, 0.0343601213764267, 0.0687202427528534, 0.1718006068821335, 0.0687202427528534, 0.4466815778935471, 0.0343601213764267, 0.0343601213764267, 0.0343601213764267, 0.7546744440879826, 0.09236412904977662, 0.09236412904977662, 0.36945651619910647, 0.09236412904977662, 0.18472825809955323, 0.18472825809955323, 0.8489740332421253, 0.7346574513040468, 0.24488581710134893, 0.23472424571776163, 0.07824141523925388, 0.07824141523925388, 0.07824141523925388, 0.3912070761962694, 0.07824141523925388, 0.07824141523925388, 0.4614826393447857, 0.6428832364261767, 0.09816926893941914, 0.4908463446970957, 0.09816926893941914, 0.1963385378788383, 0.17326553612241755, 0.17326553612241755, 0.3465310722448351, 0.17326553612241755, 0.08663276806120877, 0.7790820134819226, 0.11514819260125156, 0.46059277040500624, 0.11514819260125156, 0.11514819260125156, 0.11514819260125156, 0.2509617419662668, 0.0627404354915667, 0.2509617419662668, 0.3137021774578335, 0.0627404354915667, 0.7711391738384145, 0.7702160382574147, 0.7703210139719394, 0.865070544056543, 0.41992549564620874, 0.20996274782310437, 0.20541676671504255, 0.08803575716358966, 0.11738100955145289, 0.17607151432717932, 0.08803575716358966, 0.08803575716358966, 0.058690504775726446, 0.08803575716358966, 0.08803575716358966, 0.09939922090542017, 0.09939922090542017, 0.09939922090542017, 0.09939922090542017, 0.39759688362168066, 0.09939922090542017, 0.09939922090542017, 0.8490387798914576, 0.5192449955487644, 0.2596224977743822, 0.5941489873997733, 0.7046717286789744, 0.5885008903929082, 0.5941491470422662, 0.657862088560255, 0.13878726062811994, 0.034696815157029985, 0.3816649667273298, 0.06939363031405997, 0.034696815157029985, 0.06939363031405997, 0.034696815157029985, 0.17348407578514993, 0.5884832009519726, 0.657862011799469, 0.07866289746244082, 0.3933144873122041, 0.15732579492488163, 0.15732579492488163, 0.15732579492488163, 0.07866289746244082, 0.44644314107543637, 0.11161078526885909, 0.22322157053771818, 0.11161078526885909, 0.1297256656183526, 0.1297256656183526, 0.1297256656183526, 0.1297256656183526, 0.5189026624734104, 0.5867750565576879, 0.054596721425066955, 0.10919344285013391, 0.08189508213760044, 0.16379016427520088, 0.10919344285013391, 0.30028196783786826, 0.08189508213760044, 0.054596721425066955, 0.054596721425066955, 0.04982941566706587, 0.12457353916766467, 0.04982941566706587, 0.17440295483473053, 0.04982941566706587, 0.19931766266826348, 0.14948824700119762, 0.17440295483473053, 0.04982941566706587, 0.7010287481941256, 0.6188762930007121, 0.46153940326683063, 0.46149279910565794, 0.4614609530525376, 0.6578619847927797, 0.06622150238374759, 0.19866450715124276, 0.06622150238374759, 0.13244300476749518, 0.4635505166862331, 0.06622150238374759, 0.06622150238374759, 0.05644424934481784, 0.45155399475854274, 0.16933274803445353, 0.11288849868963569, 0.11288849868963569, 0.05644424934481784, 0.05644424934481784, 0.09999229094170821, 0.29997687282512464, 0.09999229094170821, 0.09999229094170821, 0.39996916376683284, 0.17452536006176425, 0.17452536006176425, 0.17452536006176425, 0.5235760801852927, 0.8221556017490856, 0.23109913643235094, 0.6932974092970529, 0.6188763322582572, 0.4030825716063711, 0.6740032689633997, 0.6569465371685641, 0.7162775019394478, 0.11281317591168545, 0.16921976386752818, 0.16921976386752818, 0.19742305784544953, 0.19742305784544953, 0.028203293977921363, 0.028203293977921363, 0.028203293977921363, 0.056406587955842726, 0.5742062218783343, 0.19140207395944475, 0.4061151131742489, 0.7878772071971828, 0.20823038737387184, 0.34705064562311977, 0.20823038737387184, 0.06941012912462395, 0.06941012912462395, 0.06941012912462395, 0.06941012912462395, 0.2619852593045424, 0.1122793968448039, 0.1122793968448039, 0.1122793968448039, 0.18713232807467314, 0.03742646561493463, 0.03742646561493463, 0.14970586245973852, 0.17019908147171134, 0.1276493111037835, 0.042549770367927835, 0.255298622207567, 0.21274885183963915, 0.042549770367927835, 0.042549770367927835, 0.042549770367927835, 0.19850490342724955, 0.09925245171362478, 0.09925245171362478, 0.09925245171362478, 0.2977573551408743, 0.09925245171362478, 0.09925245171362478, 0.5757458252960272, 0.4615637741832526, 0.07154183414791199, 0.14308366829582397, 0.14308366829582397, 0.07154183414791199, 0.14308366829582397, 0.07154183414791199, 0.07154183414791199, 0.21462550244373596, 0.14799414606665545, 0.14799414606665545, 0.5919765842666218, 0.6146010529849206, 0.4156399811675876, 0.3732061729156412, 0.12440205763854707, 0.12440205763854707, 0.24880411527709415, 0.618876398245653, 0.6719104197629536, 0.1679776049407384, 0.1679776049407384, 0.779081883332112, 0.1643665821090426, 0.6574663284361704, 0.7413968559708195, 0.7667241228036719, 0.3956314390977436, 0.18839592337987793, 0.07535836935195117, 0.07535836935195117, 0.05651877701396338, 0.09419796168993896, 0.037679184675975586, 0.018839592337987793, 0.05651877701396338, 0.14850122901949211, 0.14850122901949211, 0.4455036870584763, 0.14850122901949211, 0.404723955452921, 0.40991838121324936, 0.6151829125795798, 0.07611919276469659, 0.11417878914704488, 0.11417878914704488, 0.11417878914704488, 0.03805959638234829, 0.22835757829408976, 0.15223838552939317, 0.07611919276469659, 0.03805959638234829, 0.4615220042593352, 0.14832720724642198, 0.5933088289856879, 0.14832720724642198, 0.14832720724642198, 0.4275676160218037, 0.6610008844263877, 0.16525022110659693, 0.16525022110659693, 0.7349988235058168, 0.24499960783527225, 0.5941495322430655, 0.19499536242507218, 0.13928240173219442, 0.08356944103931666, 0.19499536242507218, 0.11142592138575554, 0.08356944103931666, 0.05571296069287777, 0.13928240173219442, 0.027856480346438884, 0.10917236818670377, 0.10917236818670377, 0.10917236818670377, 0.10917236818670377, 0.18195394697783962, 0.07278157879113585, 0.10917236818670377, 0.1455631575822717, 0.16259448270529636, 0.13549540225441362, 0.1083963218035309, 0.2167926436070618, 0.16259448270529636, 0.05419816090176545, 0.027099080450882725, 0.1083963218035309, 0.05419816090176545, 0.6188763154554101, 0.4204105687101281, 0.6740033368835951, 0.039867883233512105, 0.039867883233512105, 0.11960364970053632, 0.07973576646702421, 0.039867883233512105, 0.6777540149697058, 0.24228047480012138, 0.7268414244003641, 0.19255272224330963, 0.11553163334598578, 0.23106326669197155, 0.07702108889732386, 0.11553163334598578, 0.07702108889732386, 0.03851054444866193, 0.11553163334598578, 0.03851054444866193, 0.5900351372688611, 0.4639495270344952, 0.2319747635172476, 0.5941489393075398, 0.8539144148320503, 0.589197513593067, 0.09863382808655738, 0.16438971347759562, 0.23014559886863387, 0.06575588539103824, 0.16438971347759562, 0.06575588539103824, 0.1315117707820765, 0.09863382808655738, 0.18116665793066075, 0.12940475566475768, 0.05176190226590307, 0.12940475566475768, 0.25880951132951535, 0.0776428533988546, 0.0776428533988546, 0.05176190226590307, 0.0776428533988546, 0.7925846555935133, 0.46148337326797934, 0.42555798948187973, 0.4529506905204934, 0.4613652068069988, 0.7933398743924381, 0.24687831214152708, 0.49375662428305417, 0.24687831214152708, 0.33539444358575693, 0.33539444358575693, 0.23707431260550413, 0.1778057344541281, 0.05926857815137603, 0.05926857815137603, 0.14817144537844007, 0.14817144537844007, 0.11853715630275206, 0.029634289075688016, 0.11062251737078253, 0.1659337760561738, 0.05531125868539127, 0.3318675521123476, 0.11062251737078253, 0.05531125868539127, 0.11062251737078253, 0.05531125868539127, 0.07233631982928657, 0.14467263965857313, 0.14467263965857313, 0.28934527931714626, 0.28934527931714626, 0.6578621189711439, 0.8097356299772397, 0.19644314135268057, 0.09822157067634028, 0.03274052355878009, 0.13096209423512037, 0.09822157067634028, 0.16370261779390047, 0.09822157067634028, 0.06548104711756018, 0.13096209423512037, 0.657861938896431, 0.6134541586653627, 0.06883007231412068, 0.06883007231412068, 0.13766014462824136, 0.4818105061988447, 0.06883007231412068, 0.06883007231412068, 0.06762238644690156, 0.09016318192920209, 0.09016318192920209, 0.2028671593407047, 0.1127039774115026, 0.06762238644690156, 0.13524477289380313, 0.06762238644690156, 0.13524477289380313, 0.6736899555243346, 0.16842248888108366, 0.16842248888108366, 0.6751835762879503, 0.6713621821791436, 0.67188302729889, 0.5885224030895513, 0.5941493370857039, 0.5941494357407946, 0.6739721996553054, 0.2181700002175897, 0.6545100006527691, 0.11780113794470186, 0.47120455177880743, 0.23560227588940372, 0.05588819060683285, 0.1117763812136657, 0.19560866712391498, 0.08383228591024929, 0.3073850483375807, 0.05588819060683285, 0.05588819060683285, 0.1117763812136657, 0.06173774259151888, 0.06173774259151888, 0.12347548518303776, 0.06173774259151888, 0.06173774259151888, 0.3086887129575944, 0.12347548518303776, 0.12347548518303776, 0.2980708391913012, 0.5961416783826023, 0.05694706653416854, 0.34168239920501126, 0.17084119960250563, 0.05694706653416854, 0.17084119960250563, 0.11389413306833708, 0.05694706653416854, 0.05694706653416854, 0.7790817198996186, 0.448112242725473, 0.06401603467506757, 0.12803206935013514, 0.2560641387002703, 0.7720060849051645, 0.0390021407658449, 0.1170064222975347, 0.0780042815316898, 0.0780042815316898, 0.1560085630633796, 0.1170064222975347, 0.0780042815316898, 0.1950107038292245, 0.1170064222975347, 0.18951417589285202, 0.11198564939123073, 0.16367133372564494, 0.2153570180600591, 0.12921421083603546, 0.06891424577921891, 0.060299965056816555, 0.025842842167207093, 0.034457122889609455, 0.5859798550604649, 0.6188762567413969, 0.5455491409508912, 0.1818497136502971, 0.1818497136502971, 0.1818497136502971, 0.43047750363493714, 0.2198867051925456, 0.4397734103850912, 0.4397734103850912, 0.4196510374475379, 0.42322292613517165, 0.6578619892182166, 0.1623667770088891, 0.1623667770088891, 0.12177508275666683, 0.28414185976555595, 0.08118338850444455, 0.08118338850444455, 0.08118338850444455, 0.040591694252222275, 0.08118338850444455, 0.15871098131164263, 0.08656962616998688, 0.10099789719831803, 0.20199579439663606, 0.12985443925498033, 0.12985443925498033, 0.05771308411332459, 0.05771308411332459, 0.07214135514165575, 0.46152550172833157, 0.24226302756941767, 0.12113151378470884, 0.12113151378470884, 0.48452605513883534, 0.12113151378470884, 0.1430553362894139, 0.1430553362894139, 0.2861106725788278, 0.1430553362894139, 0.1430553362894139, 0.4173355773244293, 0.2801976919355105, 0.07004942298387762, 0.14009884596775524, 0.21014826895163286, 0.07004942298387762, 0.07004942298387762, 0.07004942298387762, 0.03502471149193881, 0.5888605320921166, 0.5884175811419191, 0.12426864602979469, 0.12426864602979469, 0.09941491682383574, 0.12426864602979469, 0.2733910212655483, 0.09941491682383574, 0.04970745841191787, 0.12426864602979469, 0.040106182748575546, 0.08021236549715109, 0.24063709649145326, 0.12031854824572663, 0.2005309137428777, 0.12031854824572663, 0.040106182748575546, 0.12031854824572663, 0.040106182748575546, 0.5111430427556635, 0.25557152137783173, 0.6778122389060359, 0.936718868391802, 0.13700704842667327, 0.13700704842667327, 0.4110211452800199, 0.13700704842667327, 0.22566686449903897, 0.45133372899807794, 0.1767557581172412, 0.5302672743517236, 0.1767557581172412, 0.6188763296102764, 0.4101734543282759, 0.39639665495795684, 0.09286516904602778, 0.13929775356904167, 0.13929775356904167, 0.18573033809205555, 0.27859550713808334, 0.04643258452301389, 0.04643258452301389, 0.04643258452301389, 0.04643258452301389, 0.4075070760157198, 0.13583569200523993, 0.30563030701178984, 0.06791784600261996, 0.03395892300130998, 0.03395892300130998, 0.03395892300130998, 0.03395892300130998, 0.15295674787961666, 0.15295674787961666, 0.15295674787961666, 0.45887024363885004, 0.20026261756774072, 0.6007878527032222, 0.08156083613538836, 0.24468250840616512, 0.08156083613538836, 0.08156083613538836, 0.16312167227077673, 0.32624334454155346, 0.8159882713161645, 0.04707814565986448, 0.04707814565986448, 0.1883125826394579, 0.14123443697959343, 0.09415629131972895, 0.32954701961905136, 0.04707814565986448, 0.04707814565986448, 0.6415490926558045, 0.32077454632790225, 0.12923408900281144, 0.19385113350421715, 0.06461704450140572, 0.12923408900281144, 0.3230852225070286, 0.12923408900281144, 0.7313087340303277, 0.18282718350758193, 0.1644203841964623, 0.1644203841964623, 0.1644203841964623, 0.49326115258938685, 0.3369774658309923, 0.3369774658309923, 0.4614548319765044, 0.6578620229845914, 0.7068828464182688, 0.2356276154727563, 0.6992667958873859, 0.7247174143204658, 0.14494348286409314, 0.23832678919022124, 0.11916339459511062, 0.4766535783804425, 0.126378695269478, 0.0315946738173695, 0.31594673817369506, 0.09478402145210851, 0.252757390538956, 0.0315946738173695, 0.09478402145210851, 0.0315946738173695, 0.13950280223953632, 0.13950280223953632, 0.418508406718609, 0.13950280223953632, 0.13950280223953632, 0.12970503982260947, 0.25941007964521895, 0.38911511946782845, 0.1282463892929173, 0.1282463892929173, 0.2564927785858346, 0.2564927785858346, 0.6696288858821725, 0.674003057583448, 0.5888106288394168, 0.05034387425173611, 0.05034387425173611, 0.15103162275520832, 0.3524071197621528, 0.05034387425173611, 0.20137549700694443, 0.15103162275520832, 0.5884775973728367, 0.29423879868641833, 0.6188763359659892, 0.23051779752783505, 0.4610355950556701, 0.2640343424017602, 0.5280686848035204, 0.21486549770986935, 0.322298246564804, 0.10743274885493467, 0.05371637442746734, 0.161149123282402, 0.10743274885493467, 0.05371637442746734, 0.7814570427300839, 0.7735555564491589, 0.1933888891122897, 0.5941489724253518, 0.46147515872375283, 0.32593460868356916, 0.6518692173671383, 0.7739919964961024, 0.427592667231035, 0.6578620920811783, 0.3266307076549602, 0.6532614153099204, 0.4615587195922504, 0.588763171365696, 0.17338853573627344, 0.08669426786813672, 0.4334713393406836, 0.08669426786813672, 0.08669426786813672, 0.08669426786813672, 0.1054803424861382, 0.13561758319646341, 0.1808234442619512, 0.13561758319646341, 0.1958920646171138, 0.0904117221309756, 0.0602744814206504, 0.0602744814206504, 0.0301372407103252, 0.42884035793215053, 0.6190660341821621, 0.20635534472738734, 0.6412924765222238, 0.21376415884074124, 0.10688207942037062, 0.5624003834145653, 0.09373339723576089, 0.09373339723576089, 0.18746679447152179, 0.09373339723576089, 0.5941490156232621, 0.10330766455392082, 0.20661532910784164, 0.20661532910784164, 0.05165383227696041, 0.15496149683088123, 0.10330766455392082, 0.20661532910784164, 0.173696264855273, 0.173696264855273, 0.521088794565819, 0.6428832761383877, 0.7111617558674803, 0.14223235117349606, 0.14223235117349606, 0.6788937518520806, 0.46148858113894414, 0.5339387897480031, 0.26696939487400156, 0.3256459440587405, 0.3256459440587405, 0.6188763833790988, 0.18444919981810948, 0.18444919981810948, 0.36889839963621895, 0.14419021650937258, 0.20186630311312162, 0.11535217320749808, 0.17302825981124711, 0.11535217320749808, 0.11535217320749808, 0.05767608660374904, 0.02883804330187452, 0.08296622822656509, 0.16593245645313018, 0.20741557056641272, 0.08296622822656509, 0.041483114113282545, 0.24889868467969525, 0.12444934233984763, 0.041483114113282545, 0.4614594370901227, 0.7075908901003911, 0.14151817802007824, 0.07075908901003912, 0.07075908901003912, 0.27836831146657603, 0.09278943715552534, 0.2474384990814009, 0.09278943715552534, 0.06185962477035022, 0.06185962477035022, 0.12371924954070045, 0.11370314755237879, 0.14212893444047348, 0.11370314755237879, 0.08527736066428408, 0.14212893444047348, 0.22740629510475757, 0.028425786888094697, 0.05685157377618939, 0.05685157377618939, 0.1322325386085047, 0.1322325386085047, 0.08815502573900313, 0.17631005147800627, 0.08815502573900313, 0.1322325386085047, 0.04407751286950157, 0.1322325386085047, 0.4896175799292275, 0.12240439498230687, 0.06120219749115344, 0.1836065924734603, 0.06120219749115344, 0.06120219749115344, 0.6578615097996954, 0.4193277496388058, 0.2096638748194029, 0.0698879582731343, 0.0698879582731343, 0.1397759165462686, 0.0698879582731343, 0.6138493060960619, 0.21879038704531825, 0.6563711611359547, 0.4319288607520478, 0.5978001365972928, 0.4054115883907555, 0.11629626776073436, 0.11629626776073436, 0.34888880328220306, 0.5814813388036718, 0.4770296592048711, 0.23851482960243556, 0.4614777607691078, 0.14928591621217957, 0.21326559458882796, 0.10663279729441398, 0.06397967837664839, 0.10663279729441398, 0.19193903512994517, 0.06397967837664839, 0.04265311891776559, 0.06397967837664839, 0.18989381841129716, 0.5696814552338915, 0.11988771330483791, 0.287730511931611, 0.11988771330483791, 0.1438652559658055, 0.1438652559658055, 0.07193262798290274, 0.023977542660967584, 0.04795508532193517, 0.44767016200570475, 0.06845601186586969, 0.10268401779880454, 0.06845601186586969, 0.034228005932934846, 0.444964077128153, 0.13691202373173939, 0.034228005932934846, 0.10268401779880454, 0.419965228567084, 0.27997681904472266, 0.13998840952236133, 0.13998840952236133, 0.5790266496332815, 0.28951332481664077, 0.6188762213925065, 0.4286941060519324, 0.8625933221510947, 0.09705240777471039, 0.09705240777471039, 0.09705240777471039, 0.04852620388735519, 0.04852620388735519, 0.3154203252678087, 0.21836791749309836, 0.07278930583103278, 0.024263101943677597, 0.6137024086853345, 0.46150507817162184, 0.2746906636610946, 0.5493813273221893, 0.14424079366079542, 0.21636119049119315, 0.09015049603799714, 0.1803009920759943, 0.10818059524559658, 0.10818059524559658, 0.036060198415198856, 0.05409029762279829, 0.05409029762279829, 0.14228960071282024, 0.17390951198233587, 0.14228960071282024, 0.17390951198233587, 0.12647964507806245, 0.047429866904273414, 0.07904977817378903, 0.07904977817378903, 0.047429866904273414, 0.6740033768228438, 0.14871366982229786, 0.1115352523667234, 0.1115352523667234, 0.14871366982229786, 0.37178417455574464, 0.037178417455574465, 0.07435683491114893, 0.037178417455574465, 0.6428831824949094, 0.4098278976497094, 0.0663701629221118, 0.0663701629221118, 0.19911048876633541, 0.1327403258442236, 0.0663701629221118, 0.2654806516884472, 0.1327403258442236, 0.0663701629221118, 0.3290203290601473, 0.11895816656356505, 0.11895816656356505, 0.4758326662542602, 0.11895816656356505, 0.4388041659267003, 0.1462680553089001, 0.1462680553089001, 0.07313402765445005, 0.07313402765445005, 0.07313402765445005, 0.17959737358040193, 0.5387921207412057, 0.862909740250494, 0.4295960843249395, 0.21479804216246975, 0.04337045172514932, 0.2168522586257466, 0.17348180690059728, 0.13011135517544797, 0.30359316207604525, 0.04337045172514932, 0.04337045172514932, 0.04337045172514932, 0.6330527382962925, 0.31652636914814625, 0.24167704885136934, 0.7250311465541079, 0.438028563490426, 0.4615259390383636, 0.31750779893355474, 0.31750779893355474, 0.41465269931577425, 0.6573161622084822, 0.6683661033824355, 0.17989490469661737, 0.21587388563594084, 0.1439159237572939, 0.035978980939323474, 0.10793694281797042, 0.035978980939323474, 0.10793694281797042, 0.035978980939323474, 0.10793694281797042, 0.4389914716014952, 0.07981663120027187, 0.15963326240054374, 0.15963326240054374, 0.039908315600135934, 0.07981663120027187, 0.15119279690035806, 0.07559639845017903, 0.07559639845017903, 0.07559639845017903, 0.3779819922508951, 0.07559639845017903, 0.07559639845017903, 0.07559639845017903, 0.07559639845017903, 0.15457825312344103, 0.15457825312344103, 0.2232796989560815, 0.1374028916652809, 0.08587680729080056, 0.06870144583264046, 0.05152608437448034, 0.03435072291632023, 0.10305216874896068, 0.46149532540467225, 0.5116402428446556, 0.11710726241393464, 0.05855363120696732, 0.11710726241393464, 0.05855363120696732, 0.11710726241393464, 0.05855363120696732, 0.11710726241393464, 0.23421452482786928, 0.05855363120696732, 0.6388229813181048, 0.25552919252724193, 0.12776459626362097, 0.5886938592354088, 0.5841852419545445, 0.11683704839090889, 0.23367409678181777, 0.11683704839090889, 0.23750573850733836, 0.20781752119392108, 0.05937643462683459, 0.05937643462683459, 0.1484410865670865, 0.1484410865670865, 0.08906465194025188, 0.029688217313417295, 0.06611018695097105, 0.1322203739019421, 0.19833056085291317, 0.09916528042645659, 0.1322203739019421, 0.1322203739019421, 0.06611018695097105, 0.1322203739019421, 0.03305509347548553, 0.1274692355571307, 0.06373461777856534, 0.06373461777856534, 0.1274692355571307, 0.1274692355571307, 0.1274692355571307, 0.06373461777856534, 0.3186730888928267, 0.15421512912124105, 0.09252907747274464, 0.09252907747274464, 0.06168605164849642, 0.12337210329699284, 0.21590118076973747, 0.12337210329699284, 0.09252907747274464, 0.05488241804681758, 0.10976483609363516, 0.2744120902340879, 0.2744120902340879, 0.10976483609363516, 0.05488241804681758, 0.05488241804681758, 0.05488241804681758, 0.8487151208383218, 0.07815898213114873, 0.07815898213114873, 0.1953974553278718, 0.1953974553278718, 0.11723847319672309, 0.07815898213114873, 0.15631796426229747, 0.11723847319672309, 0.039079491065574366, 0.17773921182503172, 0.17773921182503172, 0.5332176354750952, 0.44740002876685875, 0.07456667146114312, 0.07456667146114312, 0.22370001438342937, 0.14913334292228625, 0.48742110950459744, 0.24371055475229872, 0.16862650745524194, 0.16862650745524194, 0.5058795223657259, 0.15189946864281176, 0.15189946864281176, 0.15189946864281176, 0.45569840592843525, 0.46145755059620197, 0.08513747491325707, 0.08513747491325707, 0.17027494982651414, 0.08513747491325707, 0.17027494982651414, 0.17027494982651414, 0.3405498996530283, 0.3620606312846679, 0.15516884197914338, 0.05172294732638113, 0.05172294732638113, 0.15516884197914338, 0.10344589465276226, 0.05172294732638113, 0.10344589465276226, 0.3279378729347442, 0.1093126243115814, 0.2550627900603566, 0.0364375414371938, 0.1093126243115814, 0.0728750828743876, 0.0364375414371938, 0.0364375414371938, 0.07037511263243909, 0.07037511263243909, 0.2580420796522767, 0.07037511263243909, 0.07037511263243909, 0.11729185438739849, 0.0938334835099188, 0.0469167417549594, 0.23458370877479698, 0.3006618460675781, 0.6013236921351562, 0.18618724029580783, 0.07757801678991992, 0.3103120671596797, 0.062062413431935935, 0.07757801678991992, 0.04654681007395196, 0.12412482686387187, 0.07757801678991992, 0.04654681007395196, 0.10103775426077634, 0.05051887713038817, 0.10103775426077634, 0.1262971928259704, 0.17681606995635857, 0.1515566313911645, 0.1262971928259704, 0.1262971928259704, 0.025259438565194085, 0.0960505354966545, 0.12006316937081812, 0.14407580324498176, 0.21611370486747264, 0.12006316937081812, 0.12006316937081812, 0.0960505354966545, 0.04802526774832725, 0.04802526774832725, 0.7890041246755316, 0.8110486059696448, 0.1158640865670921, 0.1158640865670921, 0.10852970218909834, 0.10852970218909834, 0.10852970218909834, 0.21705940437819668, 0.325589106567295], \"Term\": [\"abuse\", \"abuse\", \"abuse\", \"abuse\", \"abuse\", \"action\", \"action\", \"action\", \"action\", \"action\", \"action\", \"action\", \"action\", \"action\", \"advertising\", \"afghan\", \"afghan\", \"afghan\", \"afghan\", \"afghan\", \"afghan\", \"afghan\", \"afghan\", \"afghan\", \"afghanistan\", \"afghanistan\", \"afghanistan\", \"afghanistan\", \"afghanistan\", \"afghanistan\", \"afghanistan\", \"afghanistan\", \"afghanistan\", \"agreement\", \"agreement\", \"agreement\", \"agreement\", \"agreement\", \"agreement\", \"agreement\", \"agreement\", \"airline\", \"airline\", \"airline\", \"airline\", \"airline\", \"airline\", \"airport\", \"airport\", \"airport\", \"airport\", \"airport\", \"airport\", \"airport\", \"airport\", \"alcohol\", \"alei\", \"alp\", \"analysis\", \"analysis\", \"arafat\", \"arafat\", \"arafat\", \"arafat\", \"arafat\", \"arafat\", \"arafat\", \"arafat\", \"arafat\", \"area\", \"area\", \"area\", \"area\", \"area\", \"area\", \"area\", \"area\", \"area\", \"areas\", \"areas\", \"areas\", \"areas\", \"areas\", \"areas\", \"areas\", \"areas\", \"areas\", \"arm\", \"army\", \"army\", \"army\", \"army\", \"army\", \"army\", \"army\", \"army\", \"army\", \"arrest\", \"arrest\", \"arrest\", \"arrest\", \"arrivals\", \"arrivals\", \"ashes\", \"asio\", \"asio\", \"asio\", \"asio\", \"asio\", \"assa_abloy\", \"assa_abloy\", \"assa_abloy\", \"astronauts\", \"asylum_seekers\", \"asylum_seekers\", \"asylum_seekers\", \"asylum_seekers\", \"asylum_seekers\", \"asylum_seekers\", \"asylum_seekers\", \"attack\", \"attack\", \"attack\", \"attack\", \"attack\", \"attack\", \"attack\", \"attack\", \"attacks\", \"attacks\", \"attacks\", \"attacks\", \"attacks\", \"attacks\", \"attacks\", \"attacks\", \"attacks\", \"attitudes\", \"australia\", \"australia\", \"australia\", \"australia\", \"australia\", \"australia\", \"australia\", \"australia\", \"australia\", \"authorities\", \"authorities\", \"authorities\", \"authorities\", \"authorities\", \"authorities\", \"authorities\", \"authorities\", \"authorities\", \"authority\", \"authority\", \"authority\", \"authority\", \"authority\", \"authority\", \"authority\", \"authority\", \"authority\", \"avenue\", \"battlefield\", \"bedside\", \"belgium\", \"benares\", \"blake\", \"blake\", \"blake\", \"blue_mountains\", \"blue_mountains\", \"blue_mountains\", \"blue_mountains\", \"blue_mountains\", \"boje\", \"bombardment\", \"bond\", \"bond\", \"bond\", \"boston\", \"boston\", \"boxes\", \"boxing_day\", \"boxing_day\", \"boxing_day\", \"brain\", \"brain\", \"breathing\", \"breathing\", \"bulli\", \"burden\", \"burning\", \"burning\", \"burning\", \"bursch\", \"buses\", \"butler\", \"butterfly\", \"cairns\", \"cairns\", \"calendar\", \"california\", \"campbell\", \"cancer\", \"cancer\", \"cancer\", \"cancer\", \"cancer\", \"captain\", \"captain\", \"captain\", \"captain\", \"captain\", \"captain\", \"captain\", \"captain\", \"captain\", \"cases\", \"cast\", \"cathy\", \"caves\", \"caves\", \"caves\", \"caves\", \"caves\", \"caves\", \"caves\", \"cells\", \"cells\", \"cent\", \"cent\", \"cent\", \"cent\", \"cent\", \"cent\", \"cent\", \"cent\", \"cent\", \"center\", \"centre\", \"centre\", \"centre\", \"centre\", \"centre\", \"centre\", \"centre\", \"centre\", \"centre\", \"ceremony\", \"ceremony\", \"ceremony\", \"ceremony\", \"chain\", \"champion\", \"champion\", \"champion\", \"change\", \"change\", \"change\", \"change\", \"change\", \"change\", \"change\", \"change\", \"chants\", \"chechen\", \"chechen\", \"chemical\", \"child\", \"child\", \"child\", \"child\", \"child\", \"child\", \"child\", \"children\", \"children\", \"children\", \"children\", \"children\", \"children\", \"children\", \"children\", \"children\", \"cigarettes\", \"city\", \"city\", \"city\", \"city\", \"city\", \"city\", \"city\", \"city\", \"classic\", \"club\", \"club\", \"club\", \"club\", \"cmag\", \"cody\", \"commission\", \"commission\", \"commission\", \"commission\", \"commission\", \"commission\", \"commission\", \"commission\", \"commission\", \"commonwealth\", \"commonwealth\", \"commonwealth\", \"commonwealth\", \"companion\", \"company\", \"company\", \"company\", \"company\", \"company\", \"company\", \"company\", \"company\", \"company\", \"competitiveness\", \"conclusion\", \"conditions\", \"conditions\", \"conditions\", \"conditions\", \"conditions\", \"conditions\", \"conditions\", \"conditions\", \"consumers\", \"context\", \"contributor\", \"controller\", \"corp\", \"cosgrove\", \"counting\", \"counting\", \"counts\", \"counts\", \"court\", \"court\", \"court\", \"court\", \"court\", \"court\", \"court\", \"court\", \"cow\", \"cranky\", \"creedy\", \"creek\", \"crowe\", \"cup\", \"cup\", \"cup\", \"cup\", \"cup\", \"cup\", \"cup\", \"cut\", \"cut\", \"cyberspace\", \"dairy\", \"day\", \"day\", \"day\", \"day\", \"day\", \"day\", \"day\", \"day\", \"day\", \"days\", \"days\", \"days\", \"days\", \"days\", \"days\", \"days\", \"days\", \"days\", \"decline\", \"decline\", \"decorative\", \"degrees\", \"derrick\", \"derrick\", \"derrick\", \"devotees\", \"devout\", \"dfat\", \"discharge\", \"doctors\", \"doctors\", \"doubles\", \"doubles\", \"doubles\", \"doubles\", \"doug\", \"doug\", \"doug\", \"drip\", \"drop\", \"drop\", \"drop\", \"drop\", \"drop\", \"drop\", \"east_timor\", \"east_timor\", \"east_timor\", \"east_timor\", \"economic\", \"economy\", \"economy\", \"economy\", \"economy\", \"economy\", \"economy\", \"economy\", \"economy\", \"eden\", \"educational\", \"elders\", \"elders\", \"elders\", \"eleven\", \"elimination\", \"elka\", \"emissions\", \"endeavour\", \"endeavour\", \"england\", \"england\", \"eslake\", \"event\", \"event\", \"event\", \"event\", \"event\", \"event\", \"exchanges\", \"export\", \"factories\", \"factory\", \"factory\", \"factory\", \"facts\", \"family\", \"family\", \"family\", \"family\", \"family\", \"family\", \"family\", \"farmers\", \"farmers\", \"fate\", \"fate\", \"favour\", \"favour\", \"favours\", \"federal\", \"federal\", \"federal\", \"federal\", \"federal\", \"federal\", \"federal\", \"federal\", \"federal\", \"films\", \"findings\", \"findings\", \"findings\", \"fire\", \"fire\", \"fire\", \"fire\", \"fire\", \"fire\", \"fire\", \"fire\", \"fire\", \"fires\", \"fires\", \"fires\", \"fires\", \"fires\", \"fires\", \"fires\", \"fireworks\", \"fireworks\", \"firms\", \"firms\", \"floors\", \"focus\", \"force\", \"force\", \"force\", \"force\", \"force\", \"force\", \"force\", \"force\", \"force\", \"forces\", \"forces\", \"forces\", \"forces\", \"forces\", \"forces\", \"forces\", \"forces\", \"forces\", \"format\", \"fort\", \"fort\", \"freeman\", \"friedli\", \"friedli\", \"gabriel\", \"gabriel\", \"gambier\", \"gambier\", \"gambier\", \"gang\", \"gang\", \"gang\", \"ganges\", \"gas\", \"gas\", \"gas\", \"geneva\", \"geoff\", \"geoff\", \"geoff\", \"geoff\", \"geoff\", \"geoff\", \"germany\", \"germany\", \"germany\", \"germany\", \"gillies\", \"gillies\", \"girls\", \"giuliani\", \"giuliani\", \"gold\", \"goshen\", \"goshen\", \"government\", \"government\", \"government\", \"government\", \"government\", \"government\", \"government\", \"government\", \"government\", \"grocery\", \"group\", \"group\", \"group\", \"group\", \"group\", \"group\", \"group\", \"group\", \"group\", \"groups\", \"groups\", \"groups\", \"groups\", \"groups\", \"groups\", \"groups\", \"groups\", \"groups\", \"grundig\", \"guards\", \"guerrilla\", \"gunmen\", \"gunmen\", \"gunmen\", \"gunmen\", \"gutnick\", \"gutnick\", \"ham\", \"hamas\", \"hamas\", \"hamas\", \"hamas\", \"hamas\", \"hamas\", \"hamas\", \"hamas\", \"hamas\", \"hare\", \"harrison\", \"harrison\", \"harrison\", \"harrison\", \"harrison\", \"harrison\", \"hass\", \"hawthorne\", \"hawthorne\", \"head\", \"head\", \"head\", \"head\", \"head\", \"head\", \"head\", \"heater\", \"hence\", \"hewitt\", \"hewitt\", \"hewitt\", \"hewitt\", \"hicks\", \"hicks\", \"hicks\", \"hicks\", \"hicks\", \"high\", \"highway\", \"highway\", \"highway\", \"highway\", \"highway\", \"hih\", \"hih\", \"hih\", \"hih\", \"hih\", \"hindu\", \"hindus\", \"holy\", \"hooke\", \"hopman\", \"hopman\", \"hours\", \"hours\", \"hours\", \"hours\", \"hours\", \"hours\", \"hours\", \"hours\", \"hours\", \"howard\", \"howard\", \"howard\", \"howard\", \"howard\", \"howard\", \"howard\", \"huegill\", \"hume\", \"hume\", \"idea\", \"imf\", \"immersion\", \"immigrants\", \"index\", \"india\", \"india\", \"india\", \"india\", \"india\", \"india\", \"india\", \"india\", \"indiana\", \"indicators\", \"innings\", \"innings\", \"innings\", \"innings\", \"innings\", \"innings\", \"intelligence\", \"intelligence\", \"intelligence\", \"intelligence\", \"interest_rates\", \"interest_rates\", \"interest_rates\", \"interest_rates\", \"interest_rates\", \"iraq\", \"israel\", \"israel\", \"israel\", \"israel\", \"israel\", \"israel\", \"israel\", \"israel\", \"israel\", \"israeli\", \"israeli\", \"israeli\", \"israeli\", \"israeli\", \"israeli\", \"israeli\", \"israeli\", \"israeli\", \"jackson\", \"jefferson\", \"jones\", \"julia\", \"jumping\", \"justification\", \"kabul\", \"kabul\", \"kabul\", \"kabul\", \"kabul\", \"kabul\", \"kabul\", \"kandahar\", \"kandahar\", \"kandahar\", \"kandahar\", \"kandahar\", \"kandahar\", \"kandahar\", \"karzai\", \"karzai\", \"karzai\", \"karzai\", \"karzai\", \"kashmir\", \"kashmir\", \"kashmir\", \"kashmir\", \"kentucky\", \"kieren\", \"kieren\", \"killer\", \"killings\", \"knighthoods\", \"krakatoa\", \"krishna\", \"laden\", \"laden\", \"laden\", \"laden\", \"laden\", \"laden\", \"laden\", \"laden\", \"laden\", \"launceston\", \"launceston\", \"lavarch\", \"lawrence\", \"laws\", \"laws\", \"laws\", \"laws\", \"laws\", \"laws\", \"laws\", \"leader\", \"leader\", \"leader\", \"leader\", \"leader\", \"leader\", \"leader\", \"leader\", \"leaders\", \"leaders\", \"leaders\", \"leaders\", \"leaders\", \"leaders\", \"leaders\", \"leaders\", \"lee\", \"lee\", \"lee\", \"lee\", \"lee\", \"lee\", \"lee\", \"lew\", \"liesel\", \"line\", \"line\", \"line\", \"line\", \"line\", \"line\", \"line\", \"line\", \"lines\", \"lines\", \"lines\", \"literacy\", \"locals\", \"lockett\", \"lockett\", \"lockett\", \"lockett\", \"looks\", \"lording\", \"lording\", \"lording\", \"lubbers\", \"lung\", \"lung\", \"macfarlane\", \"maker\", \"man\", \"man\", \"man\", \"man\", \"man\", \"man\", \"man\", \"man\", \"man\", \"markets\", \"markets\", \"markets\", \"markets\", \"marks\", \"master\", \"masters\", \"match\", \"match\", \"match\", \"match\", \"match\", \"match\", \"match\", \"match\", \"match\", \"matt\", \"mayor\", \"mayor\", \"mayor\", \"mayor\", \"mcdonald\", \"mcgrath\", \"mcgrath\", \"mcgrath\", \"mcmenamin\", \"mcmenamin\", \"meat\", \"meeting\", \"meeting\", \"meeting\", \"meeting\", \"meeting\", \"meeting\", \"meeting\", \"meeting\", \"meeting\", \"melbourne\", \"melbourne\", \"melbourne\", \"melbourne\", \"melbourne\", \"melbourne\", \"melbourne\", \"melbourne\", \"members\", \"members\", \"members\", \"members\", \"members\", \"members\", \"members\", \"members\", \"members\", \"mental\", \"mentha\", \"merit\", \"metres\", \"metres\", \"metres\", \"metres\", \"metres\", \"metres\", \"midwives\", \"midwives\", \"minister\", \"minister\", \"minister\", \"minister\", \"minister\", \"minister\", \"minister\", \"minister\", \"minister\", \"ministerial\", \"mistakes\", \"mistakes\", \"mistrust\", \"mitsubishi\", \"monetary\", \"months\", \"months\", \"months\", \"months\", \"months\", \"months\", \"months\", \"months\", \"morning\", \"morning\", \"morning\", \"morning\", \"morning\", \"morning\", \"morning\", \"morning\", \"morning\", \"morrow\", \"moses\", \"motorists\", \"motorway\", \"moulin\", \"mugabe\", \"needs\", \"needs\", \"needs\", \"nelson\", \"nelson\", \"new_south\", \"new_south\", \"new_south\", \"new_south\", \"new_south\", \"new_south\", \"new_south\", \"new_south\", \"new_york\", \"new_york\", \"new_york\", \"new_york\", \"new_york\", \"new_york\", \"new_york\", \"new_york\", \"new_zealand\", \"new_zealand\", \"new_zealand\", \"new_zealand\", \"new_zealand\", \"newspapers\", \"nicky\", \"night\", \"night\", \"night\", \"night\", \"night\", \"night\", \"night\", \"night\", \"night\", \"notices\", \"oecd\", \"official\", \"official\", \"official\", \"official\", \"official\", \"official\", \"officials\", \"officials\", \"officials\", \"officials\", \"officials\", \"officials\", \"officials\", \"officials\", \"officials\", \"oil\", \"oil\", \"oil\", \"olivier\", \"olympic\", \"olympics\", \"onlookers\", \"organs\", \"outbreak\", \"outbreaks\", \"owen\", \"owen\", \"pacific\", \"pacific\", \"pacific\", \"pakistan\", \"pakistan\", \"pakistan\", \"pakistan\", \"pakistan\", \"pakistan\", \"pakistan\", \"pakistan\", \"palestinians\", \"palestinians\", \"palestinians\", \"palestinians\", \"palestinians\", \"palestinians\", \"palestinians\", \"palestinians\", \"palmerston\", \"palmerston\", \"party\", \"party\", \"party\", \"party\", \"party\", \"party\", \"party\", \"party\", \"passes\", \"pay\", \"pay\", \"pay\", \"pay\", \"payout\", \"peace\", \"peace\", \"peace\", \"peace\", \"peace\", \"peace\", \"peace\", \"peace\", \"peace\", \"people\", \"people\", \"people\", \"people\", \"people\", \"people\", \"people\", \"people\", \"people\", \"peru\", \"petithory\", \"petrol\", \"petrol\", \"petrol\", \"petrol\", \"phenomena\", \"phillips\", \"phillips\", \"phillips\", \"pickup\", \"picton\", \"pieces\", \"place\", \"place\", \"place\", \"place\", \"place\", \"place\", \"place\", \"place\", \"place\", \"police\", \"police\", \"police\", \"police\", \"police\", \"police\", \"police\", \"police\", \"police\", \"pool\", \"population\", \"population\", \"population\", \"population\", \"population\", \"post\", \"post\", \"post\", \"post\", \"post\", \"potts\", \"power\", \"power\", \"power\", \"power\", \"power\", \"power\", \"power\", \"power\", \"prayer\", \"prayers\", \"president\", \"president\", \"president\", \"president\", \"president\", \"president\", \"president\", \"president\", \"prime_minister\", \"prime_minister\", \"prime_minister\", \"prime_minister\", \"prime_minister\", \"prime_minister\", \"prime_minister\", \"prime_minister\", \"prime_minister\", \"prison\", \"prison\", \"prize\", \"products\", \"professor\", \"professor\", \"professor\", \"professor\", \"project\", \"project\", \"projects\", \"projects\", \"projects\", \"prosser\", \"prostitutes\", \"provisions\", \"qaeda\", \"qaeda\", \"qaeda\", \"qaeda\", \"qaeda\", \"qaeda\", \"qaeda\", \"qaeda\", \"qaeda\", \"qantas\", \"qantas\", \"qantas\", \"qantas\", \"qantas\", \"qantas\", \"qantas\", \"qantas\", \"questions\", \"questions\", \"questions\", \"questions\", \"rabbani\", \"rabbani\", \"race\", \"race\", \"race\", \"race\", \"race\", \"race\", \"races\", \"radio\", \"radio\", \"radio\", \"radio\", \"radio\", \"radio\", \"radio\", \"radio\", \"raduyev\", \"raduyev\", \"rate\", \"rate\", \"rate\", \"rate\", \"rate\", \"rate\", \"rates\", \"rates\", \"ray\", \"ray\", \"ray\", \"ray\", \"razor\", \"razor\", \"rebecca\", \"recruitment\", \"redmond\", \"redmond\", \"refugee\", \"refugees\", \"refugees\", \"reid\", \"reid\", \"reid\", \"report\", \"report\", \"report\", \"report\", \"report\", \"report\", \"report\", \"report\", \"research\", \"research\", \"research\", \"research\", \"research\", \"reserve_bank\", \"reserve_bank\", \"reserve_bank\", \"return\", \"return\", \"return\", \"return\", \"revenue\", \"rings\", \"rites\", \"river\", \"river\", \"river\", \"river\", \"river\", \"river\", \"river\", \"roads\", \"roads\", \"rome\", \"round\", \"round\", \"route\", \"route\", \"royal\", \"royal\", \"royal\", \"royal\", \"royal\", \"royal\", \"royal\", \"rudd\", \"ruddock\", \"ruddock\", \"ruud\", \"ryan\", \"saadi\", \"saadi\", \"salary\", \"salman\", \"saul\", \"scarfe\", \"scarfe\", \"seconds\", \"sect\", \"sector\", \"sector\", \"sector\", \"sector\", \"sector\", \"sector\", \"security\", \"security\", \"security\", \"security\", \"security\", \"security\", \"security\", \"security\", \"security\", \"segment\", \"sergeant\", \"sergeant\", \"ses\", \"ses\", \"ses\", \"sex\", \"sex\", \"sex\", \"sex\", \"sex\", \"sharing\", \"sharon\", \"sharon\", \"sharon\", \"sharon\", \"sharon\", \"sharon\", \"sharon\", \"sheikh\", \"sheikh\", \"sheikh\", \"shelves\", \"shuttle\", \"shuttle\", \"shuttle\", \"sinai\", \"skins\", \"skipper\", \"skipper\", \"slips\", \"slips\", \"slump\", \"solomon\", \"solomon\", \"solomon\", \"south\", \"south\", \"south\", \"south\", \"south\", \"south\", \"south\", \"south\", \"south_africa\", \"south_africa\", \"south_africa\", \"south_africa\", \"south_africa\", \"south_africa\", \"south_africa\", \"south_africa\", \"spa\", \"space\", \"space\", \"space\", \"space\", \"staff\", \"staff\", \"staff\", \"staff\", \"staff\", \"staff\", \"staff\", \"state\", \"state\", \"state\", \"state\", \"state\", \"state\", \"state\", \"state\", \"state\", \"statement\", \"statement\", \"statement\", \"statement\", \"statement\", \"statement\", \"statement\", \"statement\", \"station\", \"station\", \"station\", \"station\", \"station\", \"station\", \"stoppages\", \"storm\", \"storm\", \"storm\", \"storm\", \"storm\", \"storm\", \"storybooks\", \"strachan\", \"strachan\", \"stray\", \"strureewas\", \"subsidies\", \"suharto\", \"suharto\", \"suharto\", \"suharto\", \"suspension\", \"suspension\", \"swimmers\", \"sydney\", \"sydney\", \"sydney\", \"sydney\", \"sydney\", \"sydney\", \"sydney\", \"sydney\", \"sydney\", \"tailenders\", \"tailenders\", \"taliban\", \"taliban\", \"taliban\", \"taliban\", \"taliban\", \"taliban\", \"taliban\", \"taliban\", \"tank\", \"team\", \"team\", \"team\", \"team\", \"team\", \"team\", \"team\", \"team\", \"technology\", \"technology\", \"technology\", \"technology\", \"templeton\", \"templeton\", \"tennessee\", \"terminals\", \"termination\", \"test\", \"test\", \"test\", \"test\", \"test\", \"test\", \"test\", \"test\", \"test\", \"texts\", \"thermostat\", \"ticket\", \"ticket\", \"time\", \"time\", \"time\", \"time\", \"time\", \"time\", \"time\", \"time\", \"time\", \"today\", \"today\", \"today\", \"today\", \"today\", \"today\", \"today\", \"today\", \"today\", \"tolkien\", \"tora_bora\", \"tora_bora\", \"tora_bora\", \"tora_bora\", \"tora_bora\", \"tora_bora\", \"tora_bora\", \"tora_bora\", \"torres\", \"tours\", \"town\", \"town\", \"town\", \"town\", \"town\", \"town\", \"town\", \"town\", \"track\", \"tragedy\", \"tragedy\", \"tragedy\", \"tragedy\", \"training\", \"training\", \"training\", \"training\", \"training\", \"training\", \"traveland\", \"traveland\", \"treason\", \"treasurer\", \"treasurer\", \"troops\", \"troops\", \"troops\", \"troops\", \"troops\", \"troops\", \"troops\", \"troops\", \"trounson\", \"trounson\", \"truss\", \"truss\", \"turbulence\", \"turns\", \"tyco\", \"tyco\", \"typhoid\", \"ulludullah\", \"undan\", \"union\", \"union\", \"union\", \"union\", \"union\", \"union\", \"union\", \"union\", \"union\", \"unions\", \"unions\", \"unions\", \"unions\", \"unions\", \"unions\", \"united_nations\", \"united_nations\", \"united_nations\", \"united_nations\", \"united_nations\", \"united_nations\", \"united_nations\", \"united_nations\", \"united_nations\", \"united_states\", \"united_states\", \"united_states\", \"united_states\", \"united_states\", \"united_states\", \"united_states\", \"united_states\", \"united_states\", \"upset\", \"videotape\", \"violence\", \"violence\", \"violence\", \"violence\", \"violence\", \"violence\", \"violence\", \"violence\", \"violence\", \"virus\", \"virus\", \"virus\", \"vrindavan\", \"wage_freeze\", \"wage_freeze\", \"wage_freeze\", \"wage_freeze\", \"wales\", \"wales\", \"wales\", \"wales\", \"wales\", \"wales\", \"wales\", \"wales\", \"war\", \"war\", \"war\", \"war\", \"war\", \"war\", \"war\", \"war\", \"war\", \"water\", \"water\", \"water\", \"water\", \"water\", \"water\", \"water\", \"water\", \"week\", \"week\", \"week\", \"week\", \"week\", \"week\", \"week\", \"week\", \"weekend\", \"weekend\", \"weekend\", \"weekend\", \"weekend\", \"weekend\", \"weekend\", \"weekend\", \"welsh\", \"west_bank\", \"west_bank\", \"west_bank\", \"west_bank\", \"west_bank\", \"west_bank\", \"west_bank\", \"west_bank\", \"west_bank\", \"whiting\", \"whiting\", \"whiting\", \"williams\", \"williams\", \"williams\", \"williams\", \"williams\", \"willingness\", \"willingness\", \"wind\", \"wind\", \"wind\", \"winner\", \"winner\", \"winner\", \"winner\", \"winners\", \"women\", \"women\", \"women\", \"women\", \"women\", \"women\", \"women\", \"work\", \"work\", \"work\", \"work\", \"work\", \"work\", \"work\", \"work\", \"workers\", \"workers\", \"workers\", \"workers\", \"workers\", \"workers\", \"workers\", \"workers\", \"world\", \"world\", \"world\", \"world\", \"world\", \"world\", \"world\", \"world\", \"world\", \"yassin\", \"yassin\", \"year\", \"year\", \"year\", \"year\", \"year\", \"year\", \"year\", \"year\", \"year\", \"years\", \"years\", \"years\", \"years\", \"years\", \"years\", \"years\", \"years\", \"years\", \"yesterday\", \"yesterday\", \"yesterday\", \"yesterday\", \"yesterday\", \"yesterday\", \"yesterday\", \"yesterday\", \"yesterday\", \"zeus\", \"zimbabwe\", \"zimbabwe\", \"zimbabwe\", \"zinni\", \"zinni\", \"zinni\", \"zinni\", \"zinni\"]}, \"R\": 30, \"lambda.step\": 0.01, \"plot.opts\": {\"xlab\": \"PC1\", \"ylab\": \"PC2\"}, \"topic.order\": [5, 7, 9, 2, 6, 1, 3, 8, 4]};\n",
       "\n",
       "function LDAvis_load_lib(url, callback){\n",
       "  var s = document.createElement('script');\n",
       "  s.src = url;\n",
       "  s.async = true;\n",
       "  s.onreadystatechange = s.onload = callback;\n",
       "  s.onerror = function(){console.warn(\"failed to load library \" + url);};\n",
       "  document.getElementsByTagName(\"head\")[0].appendChild(s);\n",
       "}\n",
       "\n",
       "if(typeof(LDAvis) !== \"undefined\"){\n",
       "   // already loaded: just create the visualization\n",
       "   !function(LDAvis){\n",
       "       new LDAvis(\"#\" + \"ldavis_el20161122804770321561557605\", ldavis_el20161122804770321561557605_data);\n",
       "   }(LDAvis);\n",
       "}else if(typeof define === \"function\" && define.amd){\n",
       "   // require.js is available: use it to load d3/LDAvis\n",
       "   require.config({paths: {d3: \"https://cdnjs.cloudflare.com/ajax/libs/d3/3.5.5/d3.min\"}});\n",
       "   require([\"d3\"], function(d3){\n",
       "      window.d3 = d3;\n",
       "      LDAvis_load_lib(\"https://cdn.rawgit.com/bmabey/pyLDAvis/files/ldavis.v1.0.0.js\", function(){\n",
       "        new LDAvis(\"#\" + \"ldavis_el20161122804770321561557605\", ldavis_el20161122804770321561557605_data);\n",
       "      });\n",
       "    });\n",
       "}else{\n",
       "    // require.js not available: dynamically load d3 & LDAvis\n",
       "    LDAvis_load_lib(\"https://cdnjs.cloudflare.com/ajax/libs/d3/3.5.5/d3.min.js\", function(){\n",
       "         LDAvis_load_lib(\"https://cdn.rawgit.com/bmabey/pyLDAvis/files/ldavis.v1.0.0.js\", function(){\n",
       "                 new LDAvis(\"#\" + \"ldavis_el20161122804770321561557605\", ldavis_el20161122804770321561557605_data);\n",
       "            })\n",
       "         });\n",
       "}\n",
       "</script>"
      ],
      "text/plain": [
       "PreparedData(topic_coordinates=            Freq  cluster  topics         x         y\n",
       "topic                                                \n",
       "4      14.945762        1       1  0.072089 -0.000847\n",
       "6      13.780041        1       2  0.024113  0.013608\n",
       "8      13.349641        1       3  0.025229  0.039164\n",
       "1      12.806610        1       4  0.004053  0.012297\n",
       "5      12.138166        1       5  0.046273  0.030303\n",
       "0      11.446021        1       6 -0.029974 -0.054651\n",
       "2       8.693269        1       7 -0.008390 -0.073748\n",
       "7       6.731656        1       8 -0.030598 -0.020529\n",
       "3       6.108833        1       9 -0.102793  0.054402, topic_info=     Category        Freq           Term       Total  loglift  logprob\n",
       "term                                                                  \n",
       "912   Default   25.000000         metres   25.000000  30.0000  30.0000\n",
       "295   Default   42.000000          world   42.000000  29.0000  29.0000\n",
       "255   Default   12.000000          event   12.000000  28.0000  28.0000\n",
       "511   Default   38.000000         afghan   38.000000  27.0000  27.0000\n",
       "237   Default   29.000000           team   29.000000  26.0000  26.0000\n",
       "596   Default   41.000000           test   41.000000  25.0000  25.0000\n",
       "35    Default   48.000000           fire   48.000000  24.0000  24.0000\n",
       "628   Default   13.000000    new_zealand   13.000000  23.0000  23.0000\n",
       "845   Default   68.000000         arafat   68.000000  22.0000  22.0000\n",
       "95    Default   28.000000          india   28.000000  21.0000  21.0000\n",
       "537   Default   40.000000        israeli   40.000000  20.0000  20.0000\n",
       "512   Default   44.000000      officials   44.000000  19.0000  19.0000\n",
       "625   Default   41.000000           cent   41.000000  18.0000  18.0000\n",
       "220   Default   75.000000    afghanistan   75.000000  17.0000  17.0000\n",
       "1659  Default   10.000000     east_timor   10.000000  16.0000  16.0000\n",
       "1665  Default   53.000000        company   53.000000  15.0000  15.0000\n",
       "42    Default   64.000000           year   64.000000  14.0000  14.0000\n",
       "1562  Default   29.000000          hamas   29.000000  13.0000  13.0000\n",
       "2584  Default   14.000000          space   14.000000  12.0000  12.0000\n",
       "772   Default    8.000000          blake    8.000000  11.0000  11.0000\n",
       "165   Default  111.000000     government  111.000000  10.0000  10.0000\n",
       "3842  Default    4.000000          races    4.000000   9.0000   9.0000\n",
       "2489  Default   19.000000         sharon   19.000000   8.0000   8.0000\n",
       "2380  Default   25.000000         unions   25.000000   7.0000   7.0000\n",
       "909   Default   15.000000          water   15.000000   6.0000   6.0000\n",
       "1679  Default   15.000000            pay   15.000000   5.0000   5.0000\n",
       "131   Default  129.000000      australia  129.000000   4.0000   4.0000\n",
       "1150  Default   21.000000          radio   21.000000   3.0000   3.0000\n",
       "112   Default   35.000000       pakistan   35.000000   2.0000   2.0000\n",
       "758   Default   12.000000           race   12.000000   1.0000   1.0000\n",
       "...       ...         ...            ...         ...      ...      ...\n",
       "295    Topic9    9.606025          world   42.628706   1.3053  -4.7870\n",
       "909    Topic9    4.730574          water   15.690060   1.5965  -5.4954\n",
       "787    Topic9    2.174189          round    4.338060   2.1047  -6.2728\n",
       "182    Topic9    3.761713          women   11.745709   1.6568  -5.7245\n",
       "628    Topic9    3.770057    new_zealand   13.824314   1.4961  -5.7223\n",
       "758    Topic9    3.521037           race   12.260787   1.5478  -5.7907\n",
       "845    Topic9    8.156799         arafat   68.353974   0.6696  -4.9506\n",
       "512    Topic9    6.394931      officials   44.364007   0.8585  -5.1939\n",
       "320    Topic9    3.323947           line   13.977836   1.3591  -5.8483\n",
       "3478   Topic9    2.100791       champion    5.099200   1.9087  -6.3071\n",
       "246    Topic9    3.185176            cup   13.050772   1.3851  -5.8909\n",
       "2489   Topic9    3.588797         sharon   19.359648   1.1101  -5.7716\n",
       "3435   Topic9    1.626856          prize    2.950670   2.2001  -6.5628\n",
       "236    Topic9    5.569404  united_states   58.222938   0.4484  -5.3321\n",
       "333    Topic9    4.142364          night   30.543189   0.7976  -5.6282\n",
       "159    Topic9    3.839326         leader   26.719061   0.8554  -5.7041\n",
       "313    Topic9    3.635280      melbourne   27.479481   0.7727  -5.7587\n",
       "90     Topic9    5.000222         police   69.308374   0.1664  -5.4399\n",
       "583    Topic9    2.252872          geoff    7.907364   1.5398  -6.2372\n",
       "35     Topic9    4.075622           fire   48.970853   0.3092  -5.6444\n",
       "131    Topic9    4.587872      australia  129.838461  -0.5474  -5.5260\n",
       "1      Topic9    3.988122         people  116.086303  -0.5756  -5.6661\n",
       "220    Topic9    3.682420    afghanistan   75.392864  -0.2237  -5.7458\n",
       "125    Topic9    3.441811           time   55.462812   0.0157  -5.8134\n",
       "465    Topic9    3.061426          union   27.794006   0.5895  -5.9305\n",
       "679    Topic9    3.126033            man   53.079705  -0.0366  -5.9097\n",
       "1324   Topic9    3.089411        attacks   41.355333   0.2012  -5.9214\n",
       "237    Topic9    2.972091           team   29.215842   0.5100  -5.9602\n",
       "452    Topic9    2.910673          peace   25.639618   0.6197  -5.9810\n",
       "165    Topic9    2.981935     government  111.490329  -0.8259  -5.9568\n",
       "\n",
       "[678 rows x 6 columns], token_table=      Topic      Freq         Term\n",
       "term                              \n",
       "1637      1  0.073824        abuse\n",
       "1637      2  0.442944        abuse\n",
       "1637      3  0.147648        abuse\n",
       "1637      4  0.073824        abuse\n",
       "1637      6  0.147648        abuse\n",
       "196       1  0.370214       action\n",
       "196       2  0.074043       action\n",
       "196       3  0.197448       action\n",
       "196       4  0.098724       action\n",
       "196       5  0.074043       action\n",
       "196       6  0.074043       action\n",
       "196       7  0.049362       action\n",
       "196       8  0.024681       action\n",
       "196       9  0.024681       action\n",
       "3820      7  0.674183  advertising\n",
       "511       1  0.051762       afghan\n",
       "511       2  0.103523       afghan\n",
       "511       3  0.129404       afghan\n",
       "511       4  0.051762       afghan\n",
       "511       5  0.491736       afghan\n",
       "511       6  0.077643       afghan\n",
       "511       7  0.025881       afghan\n",
       "511       8  0.025881       afghan\n",
       "511       9  0.025881       afghan\n",
       "220       1  0.079583  afghanistan\n",
       "220       2  0.185694  afghanistan\n",
       "220       3  0.172430  afghanistan\n",
       "220       4  0.145902  afghanistan\n",
       "220       5  0.278541  afghanistan\n",
       "220       6  0.066319  afghanistan\n",
       "...     ...       ...          ...\n",
       "42        7  0.124125         year\n",
       "42        8  0.077578         year\n",
       "42        9  0.046547         year\n",
       "152       1  0.101038        years\n",
       "152       2  0.050519        years\n",
       "152       3  0.101038        years\n",
       "152       4  0.126297        years\n",
       "152       5  0.176816        years\n",
       "152       6  0.151557        years\n",
       "152       7  0.126297        years\n",
       "152       8  0.126297        years\n",
       "152       9  0.025259        years\n",
       "111       1  0.096051    yesterday\n",
       "111       2  0.120063    yesterday\n",
       "111       3  0.144076    yesterday\n",
       "111       4  0.216114    yesterday\n",
       "111       5  0.120063    yesterday\n",
       "111       6  0.120063    yesterday\n",
       "111       7  0.096051    yesterday\n",
       "111       8  0.048025    yesterday\n",
       "111       9  0.048025    yesterday\n",
       "575       4  0.789004         zeus\n",
       "1911      1  0.811049     zimbabwe\n",
       "1911      2  0.115864     zimbabwe\n",
       "1911      8  0.115864     zimbabwe\n",
       "835       1  0.108530        zinni\n",
       "835       2  0.108530        zinni\n",
       "835       4  0.108530        zinni\n",
       "835       6  0.217059        zinni\n",
       "835       8  0.325589        zinni\n",
       "\n",
       "[1702 rows x 3 columns], R=30, lambda_step=0.01, plot_opts={'xlab': 'PC1', 'ylab': 'PC2'}, topic_order=[5, 7, 9, 2, 6, 1, 3, 8, 4])"
      ]
     },
     "execution_count": 13,
     "metadata": {},
     "output_type": "execute_result"
    }
   ],
   "source": [
    "pyLDAvis.gensim.prepare(lmlist[8], corpus, dictionary)"
   ]
  },
  {
   "cell_type": "markdown",
   "metadata": {},
   "source": [
    "# How this topic model can be used further\n",
    "The best topic model here can be used as a standalone for news article classification. However a topic model can also be used as a dimensionality reduction algorithm to feed into a classifier. A good topic model should be able to extract the signal from the noise efficiently, hence improving the performance of the classifier."
   ]
  }
 ],
 "metadata": {
  "anaconda-cloud": {},
  "kernelspec": {
   "display_name": "Python 3",
   "language": "python",
   "name": "python3"
  },
  "language_info": {
   "codemirror_mode": {
    "name": "ipython",
    "version": 3
   },
   "file_extension": ".py",
   "mimetype": "text/x-python",
   "name": "python",
   "nbconvert_exporter": "python",
   "pygments_lexer": "ipython3",
   "version": "3.6.3"
  },
  "nbpresent": {
   "slides": {
    "04abaf09-1754-419e-9cf8-3c4f0accfc5f": {
     "id": "04abaf09-1754-419e-9cf8-3c4f0accfc5f",
     "prev": "67c9421a-0e61-4346-873f-bf3769d00c97",
     "regions": {
      "48b5cd39-b89b-4e2f-be2a-47a0fccafd3b": {
       "attrs": {
        "height": 0.8,
        "width": 0.8,
        "x": 0.1,
        "y": 0.1
       },
       "content": {
        "cell": "862c087b-b918-47b9-b0cf-42b71996e061",
        "part": "whole"
       },
       "id": "48b5cd39-b89b-4e2f-be2a-47a0fccafd3b"
      }
     }
    },
    "0527f44a-39b6-4cf8-9802-d16b8cd34754": {
     "id": "0527f44a-39b6-4cf8-9802-d16b8cd34754",
     "prev": "103c32ed-02bc-4365-a431-5acd77fe6585",
     "regions": {
      "ed3805ae-4076-41ad-a578-69a0b2356f95": {
       "attrs": {
        "height": 0.8,
        "width": 0.8,
        "x": 0.1,
        "y": 0.1
       },
       "content": {
        "cell": "b3652f43-da03-4027-9170-83e1679dfa2b",
        "part": "whole"
       },
       "id": "ed3805ae-4076-41ad-a578-69a0b2356f95"
      }
     }
    },
    "05fa6235-ac93-41b7-9975-3fee534b0c94": {
     "id": "05fa6235-ac93-41b7-9975-3fee534b0c94",
     "prev": "e44d6d8f-7236-458f-a308-36142bc72ff4",
     "regions": {
      "3e316a57-509e-404e-a89b-bde56696b966": {
       "attrs": {
        "height": 0.8,
        "width": 0.8,
        "x": 0.1,
        "y": 0.1
       },
       "content": {
        "cell": "c39406c8-1e69-4249-91ac-894338d4053b",
        "part": "whole"
       },
       "id": "3e316a57-509e-404e-a89b-bde56696b966"
      }
     }
    },
    "0e2565e0-a21d-4dbb-a4b3-8698e797c45d": {
     "id": "0e2565e0-a21d-4dbb-a4b3-8698e797c45d",
     "prev": "11baa747-dc0e-430a-8f38-65331394d2fd",
     "regions": {
      "2e423579-bece-40ca-ba30-122f49d93655": {
       "attrs": {
        "height": 0.8,
        "width": 0.8,
        "x": 0.1,
        "y": 0.1
       },
       "content": {
        "cell": "e4b50714-b644-4213-b3cb-bdac9fe22476",
        "part": "whole"
       },
       "id": "2e423579-bece-40ca-ba30-122f49d93655"
      }
     }
    },
    "103c32ed-02bc-4365-a431-5acd77fe6585": {
     "id": "103c32ed-02bc-4365-a431-5acd77fe6585",
     "prev": "23b717ee-a57c-42c5-9959-c8a314a329c6",
     "regions": {
      "aa966e74-db8d-473a-9ee6-8cad8e7407f3": {
       "attrs": {
        "height": 0.8,
        "width": 0.8,
        "x": 0.1,
        "y": 0.1
       },
       "content": {
        "cell": "664fa23d-ba6e-4a30-9287-e4fef1cc093e",
        "part": "whole"
       },
       "id": "aa966e74-db8d-473a-9ee6-8cad8e7407f3"
      }
     }
    },
    "10763d44-d64e-46c7-a164-8b92d219e71d": {
     "id": "10763d44-d64e-46c7-a164-8b92d219e71d",
     "prev": "d84b78ed-e79f-4657-b62b-eeff30c4fe8d",
     "regions": {
      "a27ddbe9-cfa8-49fe-b284-3567ebbfb1c7": {
       "attrs": {
        "height": 0.8,
        "width": 0.8,
        "x": 0.1,
        "y": 0.1
       },
       "content": {
        "cell": "43870992-c2ff-47cf-8b6b-f62855673b42",
        "part": "whole"
       },
       "id": "a27ddbe9-cfa8-49fe-b284-3567ebbfb1c7"
      }
     }
    },
    "11baa747-dc0e-430a-8f38-65331394d2fd": {
     "id": "11baa747-dc0e-430a-8f38-65331394d2fd",
     "prev": "a2c51720-8844-4953-94a8-55d723ec2499",
     "regions": {
      "6d7e8f18-6703-4c31-8353-4a714df2d33f": {
       "attrs": {
        "height": 0.8,
        "width": 0.8,
        "x": 0.1,
        "y": 0.1
       },
       "content": {
        "cell": "821ab68b-c377-40b1-bdf3-b92d66414383",
        "part": "whole"
       },
       "id": "6d7e8f18-6703-4c31-8353-4a714df2d33f"
      }
     }
    },
    "12513a0d-3e80-464d-9285-3bdd87e0b9c0": {
     "id": "12513a0d-3e80-464d-9285-3bdd87e0b9c0",
     "prev": "e71a7d3a-c9bb-4db0-9597-95b9b3233d3b",
     "regions": {
      "5fb06a62-1d61-417a-9c02-3fa7fa00fee1": {
       "attrs": {
        "height": 0.8,
        "width": 0.8,
        "x": 0.1,
        "y": 0.1
       },
       "content": {
        "cell": "416f5820-1538-4483-a77f-5211c8179891",
        "part": "whole"
       },
       "id": "5fb06a62-1d61-417a-9c02-3fa7fa00fee1"
      }
     }
    },
    "13c7e576-8024-4b19-8874-d65c24a9ee0f": {
     "id": "13c7e576-8024-4b19-8874-d65c24a9ee0f",
     "prev": "b6050bf2-3f03-47ef-9510-80c01755a79e",
     "regions": {
      "45c58bb7-75a4-4434-b5fa-59f7ad56e7d6": {
       "attrs": {
        "height": 0.8,
        "width": 0.8,
        "x": 0.1,
        "y": 0.1
       },
       "content": {
        "cell": "2c5b03e0-ce0f-4999-8fe1-820a9fe06873",
        "part": "whole"
       },
       "id": "45c58bb7-75a4-4434-b5fa-59f7ad56e7d6"
      }
     }
    },
    "23b717ee-a57c-42c5-9959-c8a314a329c6": {
     "id": "23b717ee-a57c-42c5-9959-c8a314a329c6",
     "prev": "4033c3a0-0021-4cbc-a589-50c63550217b",
     "regions": {
      "ca7e045e-962d-47e3-a594-eafdf7424671": {
       "attrs": {
        "height": 0.8,
        "width": 0.8,
        "x": 0.1,
        "y": 0.1
       },
       "content": {
        "cell": "df6cc31a-0b01-4700-b210-836dd510007a",
        "part": "whole"
       },
       "id": "ca7e045e-962d-47e3-a594-eafdf7424671"
      }
     }
    },
    "257bf09e-bd55-4957-97ea-4d3c8b85016a": {
     "id": "257bf09e-bd55-4957-97ea-4d3c8b85016a",
     "prev": null,
     "regions": {
      "cf220469-7ef0-4fb9-80b4-cbdb55aa86db": {
       "attrs": {
        "height": 0.8,
        "width": 0.8,
        "x": 0.1,
        "y": 0.1
       },
       "content": {
        "cell": "e0085648-0300-4087-9b12-ee7d2392ce4f",
        "part": "whole"
       },
       "id": "cf220469-7ef0-4fb9-80b4-cbdb55aa86db"
      }
     }
    },
    "280f0473-61ec-4b88-b9d4-172e734fd0a5": {
     "id": "280f0473-61ec-4b88-b9d4-172e734fd0a5",
     "prev": "d7495fd8-cfb5-42ee-a0eb-86679c419bae",
     "regions": {
      "c58169da-ccea-4657-95a3-fc1e5fba3ac3": {
       "attrs": {
        "height": 0.8,
        "width": 0.8,
        "x": 0.1,
        "y": 0.1
       },
       "content": {
        "cell": "f4d505e5-5e90-4770-aaae-04ae05d697b5",
        "part": "whole"
       },
       "id": "c58169da-ccea-4657-95a3-fc1e5fba3ac3"
      }
     }
    },
    "2e4a9702-f7a2-48a5-bd13-2087e9216b38": {
     "id": "2e4a9702-f7a2-48a5-bd13-2087e9216b38",
     "prev": "04abaf09-1754-419e-9cf8-3c4f0accfc5f",
     "regions": {
      "b31a05d5-a8fe-40d2-a368-cc39f50ee938": {
       "attrs": {
        "height": 0.8,
        "width": 0.8,
        "x": 0.1,
        "y": 0.1
       },
       "content": {
        "cell": "1181e3a8-6803-4f41-9d55-397f3d700c28",
        "part": "whole"
       },
       "id": "b31a05d5-a8fe-40d2-a368-cc39f50ee938"
      }
     }
    },
    "4033c3a0-0021-4cbc-a589-50c63550217b": {
     "id": "4033c3a0-0021-4cbc-a589-50c63550217b",
     "prev": "c68aae9d-645c-4cbf-9dc1-92ed9aa0f5d3",
     "regions": {
      "55173d13-adca-4e7f-a760-92bd299e6c40": {
       "attrs": {
        "height": 0.8,
        "width": 0.8,
        "x": 0.1,
        "y": 0.1
       },
       "content": {
        "cell": "b86ba0c1-c7c4-43a5-a9f5-8dfe7967be6c",
        "part": "whole"
       },
       "id": "55173d13-adca-4e7f-a760-92bd299e6c40"
      }
     }
    },
    "479d81b5-3b8b-4ddf-bbfe-6ae6ff33c2fa": {
     "id": "479d81b5-3b8b-4ddf-bbfe-6ae6ff33c2fa",
     "prev": "280f0473-61ec-4b88-b9d4-172e734fd0a5",
     "regions": {
      "6c334c87-c8a0-4328-b310-6be0e9a89532": {
       "attrs": {
        "height": 0.8,
        "width": 0.8,
        "x": 0.1,
        "y": 0.1
       },
       "content": {
        "cell": "4dbde9d2-3a9d-4677-8dd4-90066c0cb7c4",
        "part": "whole"
       },
       "id": "6c334c87-c8a0-4328-b310-6be0e9a89532"
      }
     }
    },
    "488af944-ad92-49c5-9d1d-ccdb1e929dce": {
     "id": "488af944-ad92-49c5-9d1d-ccdb1e929dce",
     "prev": "13c7e576-8024-4b19-8874-d65c24a9ee0f",
     "regions": {
      "fb1eddce-8820-408b-8b73-3a1654b93816": {
       "attrs": {
        "height": 0.8,
        "width": 0.8,
        "x": 0.1,
        "y": 0.1
       },
       "content": {
        "cell": "7da56259-bbf2-4f63-93f6-033833ae4494",
        "part": "whole"
       },
       "id": "fb1eddce-8820-408b-8b73-3a1654b93816"
      }
     }
    },
    "4af127dc-0330-4f8e-b907-3e409ba31a06": {
     "id": "4af127dc-0330-4f8e-b907-3e409ba31a06",
     "prev": "fbd9f3b3-f9b0-4886-b987-3f9d0ca983bc",
     "regions": {
      "1f9e4115-c1c7-4e4c-a262-648adc28ad2a": {
       "attrs": {
        "height": 0.8,
        "width": 0.8,
        "x": 0.1,
        "y": 0.1
       },
       "content": {
        "cell": "3d784001-6875-4be5-b8e8-e6c490f5b7b4",
        "part": "whole"
       },
       "id": "1f9e4115-c1c7-4e4c-a262-648adc28ad2a"
      }
     }
    },
    "67c9421a-0e61-4346-873f-bf3769d00c97": {
     "id": "67c9421a-0e61-4346-873f-bf3769d00c97",
     "prev": "efc03832-2e6d-4250-8ac5-f4c13cfdb733",
     "regions": {
      "d9b839cd-46ac-451d-bb1b-3edd613c0ba3": {
       "attrs": {
        "height": 0.8,
        "width": 0.8,
        "x": 0.1,
        "y": 0.1
       },
       "content": {
        "cell": "3ca3d45b-a28b-41c7-b5de-4c124c50d13d",
        "part": "whole"
       },
       "id": "d9b839cd-46ac-451d-bb1b-3edd613c0ba3"
      }
     }
    },
    "78837f0a-d7b6-48ae-b64e-3a2af8286ccc": {
     "id": "78837f0a-d7b6-48ae-b64e-3a2af8286ccc",
     "prev": "bb7417b1-270b-4977-bbf3-606a574c38ec",
     "regions": {
      "37ced915-20bf-49cd-9691-82e9fdcfe211": {
       "attrs": {
        "height": 0.8,
        "width": 0.8,
        "x": 0.1,
        "y": 0.1
       },
       "content": {
        "cell": "b1a8c7b4-dc46-4bfe-b17b-d604f212b389",
        "part": "whole"
       },
       "id": "37ced915-20bf-49cd-9691-82e9fdcfe211"
      }
     }
    },
    "7f7b5da4-7345-442b-8cd5-662cfba97db9": {
     "id": "7f7b5da4-7345-442b-8cd5-662cfba97db9",
     "prev": "f6d5269c-54db-4887-b274-d00572aead72",
     "regions": {
      "5fcadbcf-4f67-4bd7-bc4c-0e9db215581c": {
       "attrs": {
        "height": 0.8,
        "width": 0.8,
        "x": 0.1,
        "y": 0.1
       },
       "content": {
        "cell": "a02b72fb-0049-4ec3-825f-179e396f3904",
        "part": "whole"
       },
       "id": "5fcadbcf-4f67-4bd7-bc4c-0e9db215581c"
      }
     }
    },
    "823091e1-74b1-44e3-af50-388881c30968": {
     "id": "823091e1-74b1-44e3-af50-388881c30968",
     "prev": "e24d4b0b-34e2-46de-a99d-a4be39ca2951",
     "regions": {
      "cd97517e-4f86-48bd-9496-92ebad8c97cf": {
       "attrs": {
        "height": 0.8,
        "width": 0.8,
        "x": 0.1,
        "y": 0.1
       },
       "content": {
        "cell": "ffb5aaa9-5fa1-4b28-ba2f-e23525caa392",
        "part": "whole"
       },
       "id": "cd97517e-4f86-48bd-9496-92ebad8c97cf"
      }
     }
    },
    "845fbe01-dd28-4ad8-9eb5-d13c49f6772c": {
     "id": "845fbe01-dd28-4ad8-9eb5-d13c49f6772c",
     "prev": "87040bd6-a3e9-4785-97e0-08d7e7c5b8ef",
     "regions": {
      "1b5a1350-c3d1-43d8-bbc3-90ac260b5a8b": {
       "attrs": {
        "height": 0.8,
        "width": 0.8,
        "x": 0.1,
        "y": 0.1
       },
       "content": {
        "cell": "bcbc3313-3a57-4923-b330-69691eaf7535",
        "part": "whole"
       },
       "id": "1b5a1350-c3d1-43d8-bbc3-90ac260b5a8b"
      }
     }
    },
    "8541226b-6ff1-4700-a399-71e3cf68d91b": {
     "id": "8541226b-6ff1-4700-a399-71e3cf68d91b",
     "prev": "10763d44-d64e-46c7-a164-8b92d219e71d",
     "regions": {
      "7c4c47d8-a698-4e96-a411-556d9ad6b15b": {
       "attrs": {
        "height": 0.8,
        "width": 0.8,
        "x": 0.1,
        "y": 0.1
       },
       "content": {
        "cell": "281d1434-ce22-46c6-ba53-71a24a476568",
        "part": "whole"
       },
       "id": "7c4c47d8-a698-4e96-a411-556d9ad6b15b"
      }
     }
    },
    "87040bd6-a3e9-4785-97e0-08d7e7c5b8ef": {
     "id": "87040bd6-a3e9-4785-97e0-08d7e7c5b8ef",
     "prev": "ad16016c-8a9e-49da-a3d2-5ab56ca11579",
     "regions": {
      "cc35a589-c8c7-459f-893d-102c0d77bee3": {
       "attrs": {
        "height": 0.8,
        "width": 0.8,
        "x": 0.1,
        "y": 0.1
       },
       "content": {
        "cell": "8778b874-a6d1-4f2f-ba02-35dc0fa10f0c",
        "part": "whole"
       },
       "id": "cc35a589-c8c7-459f-893d-102c0d77bee3"
      }
     }
    },
    "8aa83fc2-d106-4c85-8b7f-1116db7ee9d4": {
     "id": "8aa83fc2-d106-4c85-8b7f-1116db7ee9d4",
     "prev": "f870a325-581b-4d8e-a4c0-095972e4cc21",
     "regions": {
      "9f7afc1f-6e9d-47bf-98e0-7e0350e1f516": {
       "attrs": {
        "height": 0.8,
        "width": 0.8,
        "x": 0.1,
        "y": 0.1
       },
       "content": {
        "cell": "45b1a641-1152-4364-ad25-62d1f8187317",
        "part": "whole"
       },
       "id": "9f7afc1f-6e9d-47bf-98e0-7e0350e1f516"
      }
     }
    },
    "944a5639-4b22-4f7f-b836-5ac3bf1cb21e": {
     "id": "944a5639-4b22-4f7f-b836-5ac3bf1cb21e",
     "prev": "d30e098d-5b03-4087-bb2e-fe706d78fae9",
     "regions": {
      "c32c5800-6b61-4a15-b909-b1163c6ffe62": {
       "attrs": {
        "height": 0.8,
        "width": 0.8,
        "x": 0.1,
        "y": 0.1
       },
       "content": {
        "cell": "4329af31-21b4-4570-903a-6df3715244c7",
        "part": "whole"
       },
       "id": "c32c5800-6b61-4a15-b909-b1163c6ffe62"
      }
     }
    },
    "951ea1a1-a91e-41a8-827e-fc3624ae3250": {
     "id": "951ea1a1-a91e-41a8-827e-fc3624ae3250",
     "prev": "d46a6bb8-e8dc-42dd-ac78-33a9cc66fcaa",
     "regions": {
      "bc84fb60-e322-4e23-8b12-21f7fbfd11be": {
       "attrs": {
        "height": 0.8,
        "width": 0.8,
        "x": 0.1,
        "y": 0.1
       },
       "content": {
        "cell": "caa35df4-b625-4246-bc1f-42c561f31486",
        "part": "whole"
       },
       "id": "bc84fb60-e322-4e23-8b12-21f7fbfd11be"
      }
     }
    },
    "96f08da8-8b76-4bf1-829e-50dc77b96f23": {
     "id": "96f08da8-8b76-4bf1-829e-50dc77b96f23",
     "prev": "7f7b5da4-7345-442b-8cd5-662cfba97db9",
     "regions": {
      "ee8f45c8-aaa8-4c02-8067-bee120c4685d": {
       "attrs": {
        "height": 0.8,
        "width": 0.8,
        "x": 0.1,
        "y": 0.1
       },
       "content": {
        "cell": "672c009d-3dbc-4a1f-a789-2a0fe78729b9",
        "part": "whole"
       },
       "id": "ee8f45c8-aaa8-4c02-8067-bee120c4685d"
      }
     }
    },
    "9d28ba7f-c1e5-4ac3-ae0d-08721cddf897": {
     "id": "9d28ba7f-c1e5-4ac3-ae0d-08721cddf897",
     "prev": "b758d6c7-7c92-4aba-a50f-4ea841c3bbd5",
     "regions": {
      "f1d84675-1d92-48aa-b454-b5cfd4919f9c": {
       "attrs": {
        "height": 0.8,
        "width": 0.8,
        "x": 0.1,
        "y": 0.1
       },
       "content": {
        "cell": "85e46481-0245-448c-b4e2-e0c6e175357c",
        "part": "whole"
       },
       "id": "f1d84675-1d92-48aa-b454-b5cfd4919f9c"
      }
     }
    },
    "a2c51720-8844-4953-94a8-55d723ec2499": {
     "id": "a2c51720-8844-4953-94a8-55d723ec2499",
     "prev": "ec5e5d0b-4635-44cc-acc2-f4a52d49a309",
     "regions": {
      "8e52be0c-e63e-434c-b1ca-9c69b58557a6": {
       "attrs": {
        "height": 0.8,
        "width": 0.8,
        "x": 0.1,
        "y": 0.1
       },
       "content": {
        "cell": "13f246a0-918e-44c1-ae19-7af118d83585",
        "part": "whole"
       },
       "id": "8e52be0c-e63e-434c-b1ca-9c69b58557a6"
      }
     }
    },
    "ad16016c-8a9e-49da-a3d2-5ab56ca11579": {
     "id": "ad16016c-8a9e-49da-a3d2-5ab56ca11579",
     "prev": "257bf09e-bd55-4957-97ea-4d3c8b85016a",
     "regions": {
      "ba9b7c66-e2b9-4e94-a595-b6e1e9c8ba3a": {
       "attrs": {
        "height": 0.8,
        "width": 0.8,
        "x": 0.1,
        "y": 0.1
       },
       "content": {
        "cell": "25997dab-04e3-4abc-b22f-b36944b208c2",
        "part": "whole"
       },
       "id": "ba9b7c66-e2b9-4e94-a595-b6e1e9c8ba3a"
      }
     }
    },
    "aea4c7d8-d448-4c6e-b98a-aee48ab874f3": {
     "id": "aea4c7d8-d448-4c6e-b98a-aee48ab874f3",
     "prev": "823091e1-74b1-44e3-af50-388881c30968",
     "regions": {
      "c9f42ad3-4f13-490e-98af-ba7f90c04c7e": {
       "attrs": {
        "height": 0.8,
        "width": 0.8,
        "x": 0.1,
        "y": 0.1
       },
       "content": {
        "cell": "3544f061-6870-4630-bd54-79f75decf8b6",
        "part": "whole"
       },
       "id": "c9f42ad3-4f13-490e-98af-ba7f90c04c7e"
      }
     }
    },
    "aedf0537-c77a-45f0-9d07-af274cfcc254": {
     "id": "aedf0537-c77a-45f0-9d07-af274cfcc254",
     "prev": "e6ae4652-4831-456f-a99c-275d5a367c31",
     "regions": {
      "6b39b1f4-a8eb-48a7-abe6-34f074ddfffe": {
       "attrs": {
        "height": 0.8,
        "width": 0.8,
        "x": 0.1,
        "y": 0.1
       },
       "content": {
        "cell": "58e7dda6-0dd2-4e4f-b81a-0b530c66b20b",
        "part": "whole"
       },
       "id": "6b39b1f4-a8eb-48a7-abe6-34f074ddfffe"
      }
     }
    },
    "b225aeee-0655-46cd-b065-53ac161542e1": {
     "id": "b225aeee-0655-46cd-b065-53ac161542e1",
     "prev": "944a5639-4b22-4f7f-b836-5ac3bf1cb21e",
     "regions": {
      "3fb9131f-b513-4608-88e3-1829aab4af80": {
       "attrs": {
        "height": 0.8,
        "width": 0.8,
        "x": 0.1,
        "y": 0.1
       },
       "content": {
        "cell": "0924faf0-a957-4d12-b35c-b50ebb30f370",
        "part": "whole"
       },
       "id": "3fb9131f-b513-4608-88e3-1829aab4af80"
      }
     }
    },
    "b6050bf2-3f03-47ef-9510-80c01755a79e": {
     "id": "b6050bf2-3f03-47ef-9510-80c01755a79e",
     "prev": "96f08da8-8b76-4bf1-829e-50dc77b96f23",
     "regions": {
      "35a04fb6-5997-463a-b71f-8ad41ce5def6": {
       "attrs": {
        "height": 0.8,
        "width": 0.8,
        "x": 0.1,
        "y": 0.1
       },
       "content": {
        "cell": "f7724653-52ef-41e8-aa22-6232be216b08",
        "part": "whole"
       },
       "id": "35a04fb6-5997-463a-b71f-8ad41ce5def6"
      }
     }
    },
    "b758d6c7-7c92-4aba-a50f-4ea841c3bbd5": {
     "id": "b758d6c7-7c92-4aba-a50f-4ea841c3bbd5",
     "prev": "f2b5f77b-2cf3-4728-901e-453b1ee328e4",
     "regions": {
      "3907d293-429a-446b-aa7b-d48636df66de": {
       "attrs": {
        "height": 0.8,
        "width": 0.8,
        "x": 0.1,
        "y": 0.1
       },
       "content": {
        "cell": "92dbb672-adca-4535-8089-de23712828d8",
        "part": "whole"
       },
       "id": "3907d293-429a-446b-aa7b-d48636df66de"
      }
     }
    },
    "b78b6f6e-aa16-462e-8f65-fcb552b32c31": {
     "id": "b78b6f6e-aa16-462e-8f65-fcb552b32c31",
     "prev": "de9edf29-6b79-4254-9128-e8e5339d95b7",
     "regions": {
      "7907113d-9b89-4a1c-9b8e-9ccf0f800218": {
       "attrs": {
        "height": 0.8,
        "width": 0.8,
        "x": 0.1,
        "y": 0.1
       },
       "content": {
        "cell": "0e5ca1a8-9c78-412a-9ab4-a4d0be5afd34",
        "part": "whole"
       },
       "id": "7907113d-9b89-4a1c-9b8e-9ccf0f800218"
      }
     }
    },
    "bb7417b1-270b-4977-bbf3-606a574c38ec": {
     "id": "bb7417b1-270b-4977-bbf3-606a574c38ec",
     "prev": "aedf0537-c77a-45f0-9d07-af274cfcc254",
     "regions": {
      "4186cf60-3730-4fac-9b82-c178d043465c": {
       "attrs": {
        "height": 0.8,
        "width": 0.8,
        "x": 0.1,
        "y": 0.1
       },
       "content": {
        "cell": "6b5572c0-2ab0-4b13-a08f-3db21b4c4f21",
        "part": "whole"
       },
       "id": "4186cf60-3730-4fac-9b82-c178d043465c"
      }
     }
    },
    "bc583748-3efc-4990-a121-5c23ddd1cf76": {
     "id": "bc583748-3efc-4990-a121-5c23ddd1cf76",
     "prev": "b78b6f6e-aa16-462e-8f65-fcb552b32c31",
     "regions": {
      "1fe1815a-69fc-439e-9943-115c788d87de": {
       "attrs": {
        "height": 0.8,
        "width": 0.8,
        "x": 0.1,
        "y": 0.1
       },
       "content": {
        "cell": "161e8770-8bc2-41ae-98f4-08d1c9311e82",
        "part": "whole"
       },
       "id": "1fe1815a-69fc-439e-9943-115c788d87de"
      }
     }
    },
    "bebeb5ec-eea2-4353-b2e1-ba7cdb847132": {
     "id": "bebeb5ec-eea2-4353-b2e1-ba7cdb847132",
     "prev": "aea4c7d8-d448-4c6e-b98a-aee48ab874f3",
     "regions": {
      "acd4706d-0fa8-4d2c-93b1-e01bcddce185": {
       "attrs": {
        "height": 0.8,
        "width": 0.8,
        "x": 0.1,
        "y": 0.1
       },
       "content": {
        "cell": "31c64f41-a499-4f80-8ccd-1364940f7383",
        "part": "whole"
       },
       "id": "acd4706d-0fa8-4d2c-93b1-e01bcddce185"
      }
     }
    },
    "c68aae9d-645c-4cbf-9dc1-92ed9aa0f5d3": {
     "id": "c68aae9d-645c-4cbf-9dc1-92ed9aa0f5d3",
     "prev": "b225aeee-0655-46cd-b065-53ac161542e1",
     "regions": {
      "18e9a755-775e-407c-adec-19d9d2553aa3": {
       "attrs": {
        "height": 0.8,
        "width": 0.8,
        "x": 0.1,
        "y": 0.1
       },
       "content": {
        "cell": "59cc671f-041a-4d6f-a609-f1b9855aa05c",
        "part": "whole"
       },
       "id": "18e9a755-775e-407c-adec-19d9d2553aa3"
      }
     }
    },
    "c86c2c29-3931-4f32-b9b8-2927bd48a5d2": {
     "id": "c86c2c29-3931-4f32-b9b8-2927bd48a5d2",
     "prev": "8541226b-6ff1-4700-a399-71e3cf68d91b",
     "regions": {
      "98d1caf9-aaab-4a6a-8d39-875e61f4b508": {
       "attrs": {
        "height": 0.8,
        "width": 0.8,
        "x": 0.1,
        "y": 0.1
       },
       "content": {
        "cell": "ada914a2-bacb-4300-8ce3-f1332843d24c",
        "part": "whole"
       },
       "id": "98d1caf9-aaab-4a6a-8d39-875e61f4b508"
      }
     }
    },
    "ca688a20-d25d-4266-8f63-967e003c1f2f": {
     "id": "ca688a20-d25d-4266-8f63-967e003c1f2f",
     "prev": "78837f0a-d7b6-48ae-b64e-3a2af8286ccc",
     "regions": {
      "3b6c70c9-c6b9-4505-aefb-c64c0d183b96": {
       "attrs": {
        "height": 0.8,
        "width": 0.8,
        "x": 0.1,
        "y": 0.1
       },
       "content": {
        "cell": "943a5fcd-7c2e-4c16-9879-34882a7a74d4",
        "part": "whole"
       },
       "id": "3b6c70c9-c6b9-4505-aefb-c64c0d183b96"
      }
     }
    },
    "d30e098d-5b03-4087-bb2e-fe706d78fae9": {
     "id": "d30e098d-5b03-4087-bb2e-fe706d78fae9",
     "prev": "c86c2c29-3931-4f32-b9b8-2927bd48a5d2",
     "regions": {
      "ce2693da-705b-4afd-9284-d04c8e1b2ff4": {
       "attrs": {
        "height": 0.8,
        "width": 0.8,
        "x": 0.1,
        "y": 0.1
       },
       "content": {
        "cell": "4f313370-b5f0-4754-9744-157da0447fc4",
        "part": "whole"
       },
       "id": "ce2693da-705b-4afd-9284-d04c8e1b2ff4"
      }
     }
    },
    "d386ac9f-a3fc-4b7e-8171-72c5de5bcd6b": {
     "id": "d386ac9f-a3fc-4b7e-8171-72c5de5bcd6b",
     "prev": "488af944-ad92-49c5-9d1d-ccdb1e929dce",
     "regions": {
      "742b6acb-94bd-40bc-95c5-45686415a4d2": {
       "attrs": {
        "height": 0.8,
        "width": 0.8,
        "x": 0.1,
        "y": 0.1
       },
       "content": {
        "cell": "13f462fd-b0c3-4a29-90f3-050e2317b72c",
        "part": "whole"
       },
       "id": "742b6acb-94bd-40bc-95c5-45686415a4d2"
      }
     }
    },
    "d46a6bb8-e8dc-42dd-ac78-33a9cc66fcaa": {
     "id": "d46a6bb8-e8dc-42dd-ac78-33a9cc66fcaa",
     "prev": "e1b1494f-f764-4c7c-9b18-9c4117ac6b1a",
     "regions": {
      "46818eb4-db41-4ae4-ab4a-fb8aa8381df4": {
       "attrs": {
        "height": 0.8,
        "width": 0.8,
        "x": 0.1,
        "y": 0.1
       },
       "content": {
        "cell": "699e2ddb-add6-4134-a723-1bb37029f013",
        "part": "whole"
       },
       "id": "46818eb4-db41-4ae4-ab4a-fb8aa8381df4"
      }
     }
    },
    "d7495fd8-cfb5-42ee-a0eb-86679c419bae": {
     "id": "d7495fd8-cfb5-42ee-a0eb-86679c419bae",
     "prev": "845fbe01-dd28-4ad8-9eb5-d13c49f6772c",
     "regions": {
      "1b6fb9c6-e9e8-48d0-8879-43681a10b003": {
       "attrs": {
        "height": 0.8,
        "width": 0.8,
        "x": 0.1,
        "y": 0.1
       },
       "content": {
        "cell": "d447e236-b1b9-4cf7-bc39-8bfb499d4730",
        "part": "whole"
       },
       "id": "1b6fb9c6-e9e8-48d0-8879-43681a10b003"
      }
     }
    },
    "d84b78ed-e79f-4657-b62b-eeff30c4fe8d": {
     "id": "d84b78ed-e79f-4657-b62b-eeff30c4fe8d",
     "prev": "05fa6235-ac93-41b7-9975-3fee534b0c94",
     "regions": {
      "2dc757c4-cd6f-4663-b3ed-16873bd59e53": {
       "attrs": {
        "height": 0.8,
        "width": 0.8,
        "x": 0.1,
        "y": 0.1
       },
       "content": {
        "cell": "6b8eef4a-a87d-42bd-84dd-586610828698",
        "part": "whole"
       },
       "id": "2dc757c4-cd6f-4663-b3ed-16873bd59e53"
      }
     }
    },
    "de9edf29-6b79-4254-9128-e8e5339d95b7": {
     "id": "de9edf29-6b79-4254-9128-e8e5339d95b7",
     "prev": "4af127dc-0330-4f8e-b907-3e409ba31a06",
     "regions": {
      "ef8b9aae-46b3-45ae-8ddf-d951cecabb16": {
       "attrs": {
        "height": 0.8,
        "width": 0.8,
        "x": 0.1,
        "y": 0.1
       },
       "content": {
        "cell": "d8cfc39f-aa3b-469f-ae34-1ef99ef51a25",
        "part": "whole"
       },
       "id": "ef8b9aae-46b3-45ae-8ddf-d951cecabb16"
      }
     }
    },
    "deebcf04-3780-4222-bac9-4ec42c55e64e": {
     "id": "deebcf04-3780-4222-bac9-4ec42c55e64e",
     "prev": "479d81b5-3b8b-4ddf-bbfe-6ae6ff33c2fa",
     "regions": {
      "41284583-e45d-4b58-80b1-9aa982c35d62": {
       "attrs": {
        "height": 0.8,
        "width": 0.8,
        "x": 0.1,
        "y": 0.1
       },
       "content": {
        "cell": "e7995c4c-f483-4cb5-9f53-3b8c5fef39c3",
        "part": "whole"
       },
       "id": "41284583-e45d-4b58-80b1-9aa982c35d62"
      }
     }
    },
    "e1226821-9a12-4537-a8af-79cc88d3d16a": {
     "id": "e1226821-9a12-4537-a8af-79cc88d3d16a",
     "prev": "0e2565e0-a21d-4dbb-a4b3-8698e797c45d",
     "regions": {
      "a85036ed-bcf3-498f-bcbf-d29b7ba22e33": {
       "attrs": {
        "height": 0.8,
        "width": 0.8,
        "x": 0.1,
        "y": 0.1
       },
       "content": {
        "cell": "d8a8bcc6-8b37-4d4f-ad06-903804776078",
        "part": "whole"
       },
       "id": "a85036ed-bcf3-498f-bcbf-d29b7ba22e33"
      }
     }
    },
    "e1b1494f-f764-4c7c-9b18-9c4117ac6b1a": {
     "id": "e1b1494f-f764-4c7c-9b18-9c4117ac6b1a",
     "prev": "e975c742-3e8e-42fb-992f-68889dc8eacf",
     "regions": {
      "4481842a-f6a3-4783-8056-761d3ff7903c": {
       "attrs": {
        "height": 0.8,
        "width": 0.8,
        "x": 0.1,
        "y": 0.1
       },
       "content": {
        "cell": "c02b6f0a-801c-4a8f-aa8f-8c9d64df7a9a",
        "part": "whole"
       },
       "id": "4481842a-f6a3-4783-8056-761d3ff7903c"
      }
     }
    },
    "e24d4b0b-34e2-46de-a99d-a4be39ca2951": {
     "id": "e24d4b0b-34e2-46de-a99d-a4be39ca2951",
     "prev": "e1226821-9a12-4537-a8af-79cc88d3d16a",
     "regions": {
      "8a097e4f-9443-46a4-9b0f-84d5e12c50e7": {
       "attrs": {
        "height": 0.8,
        "width": 0.8,
        "x": 0.1,
        "y": 0.1
       },
       "content": {
        "cell": "6f302dcb-787b-42b0-98f0-1df0a163a818",
        "part": "whole"
       },
       "id": "8a097e4f-9443-46a4-9b0f-84d5e12c50e7"
      }
     }
    },
    "e44d6d8f-7236-458f-a308-36142bc72ff4": {
     "id": "e44d6d8f-7236-458f-a308-36142bc72ff4",
     "prev": "951ea1a1-a91e-41a8-827e-fc3624ae3250",
     "regions": {
      "cc091066-cdf1-4dd5-bf80-5c7c94722472": {
       "attrs": {
        "height": 0.8,
        "width": 0.8,
        "x": 0.1,
        "y": 0.1
       },
       "content": {
        "cell": "d2aa5aac-acc7-41c9-96d4-5410c0d8a14b",
        "part": "whole"
       },
       "id": "cc091066-cdf1-4dd5-bf80-5c7c94722472"
      }
     }
    },
    "e6ae4652-4831-456f-a99c-275d5a367c31": {
     "id": "e6ae4652-4831-456f-a99c-275d5a367c31",
     "prev": "bc583748-3efc-4990-a121-5c23ddd1cf76",
     "regions": {
      "fc109e55-75c1-42c7-a13b-68d9feb3aad7": {
       "attrs": {
        "height": 0.8,
        "width": 0.8,
        "x": 0.1,
        "y": 0.1
       },
       "content": {
        "cell": "fe809373-e88b-44eb-9cb9-08be3dc5949a",
        "part": "whole"
       },
       "id": "fc109e55-75c1-42c7-a13b-68d9feb3aad7"
      }
     }
    },
    "e71a7d3a-c9bb-4db0-9597-95b9b3233d3b": {
     "id": "e71a7d3a-c9bb-4db0-9597-95b9b3233d3b",
     "prev": "f6887642-4c01-4304-bedb-6e6bf5f5c45e",
     "regions": {
      "88ed165d-ed0c-4d77-a642-afc80f335c88": {
       "attrs": {
        "height": 0.8,
        "width": 0.8,
        "x": 0.1,
        "y": 0.1
       },
       "content": {
        "cell": "9994e7f0-f366-40da-9c14-76e8142ee46e",
        "part": "whole"
       },
       "id": "88ed165d-ed0c-4d77-a642-afc80f335c88"
      }
     }
    },
    "e975c742-3e8e-42fb-992f-68889dc8eacf": {
     "id": "e975c742-3e8e-42fb-992f-68889dc8eacf",
     "prev": "8aa83fc2-d106-4c85-8b7f-1116db7ee9d4",
     "regions": {
      "6f8253e7-9544-4503-84a2-5dd528b2b98c": {
       "attrs": {
        "height": 0.8,
        "width": 0.8,
        "x": 0.1,
        "y": 0.1
       },
       "content": {
        "cell": "e8936716-d06c-4cef-ae87-5c5da9a25a85",
        "part": "whole"
       },
       "id": "6f8253e7-9544-4503-84a2-5dd528b2b98c"
      }
     }
    },
    "ec5e5d0b-4635-44cc-acc2-f4a52d49a309": {
     "id": "ec5e5d0b-4635-44cc-acc2-f4a52d49a309",
     "prev": "12513a0d-3e80-464d-9285-3bdd87e0b9c0",
     "regions": {
      "007395dd-4907-4340-9391-024482d674f4": {
       "attrs": {
        "height": 0.8,
        "width": 0.8,
        "x": 0.1,
        "y": 0.1
       },
       "content": {
        "cell": "aa9d35ae-c458-49d2-bdbe-d93d5cb3ba9c",
        "part": "whole"
       },
       "id": "007395dd-4907-4340-9391-024482d674f4"
      }
     }
    },
    "efc03832-2e6d-4250-8ac5-f4c13cfdb733": {
     "id": "efc03832-2e6d-4250-8ac5-f4c13cfdb733",
     "prev": "deebcf04-3780-4222-bac9-4ec42c55e64e",
     "regions": {
      "ece43b16-b994-439a-a683-911e322998be": {
       "attrs": {
        "height": 0.8,
        "width": 0.8,
        "x": 0.1,
        "y": 0.1
       },
       "content": {
        "cell": "a6d40ad7-2abd-44e5-8839-62731fb5eab7",
        "part": "whole"
       },
       "id": "ece43b16-b994-439a-a683-911e322998be"
      }
     }
    },
    "f2b5f77b-2cf3-4728-901e-453b1ee328e4": {
     "id": "f2b5f77b-2cf3-4728-901e-453b1ee328e4",
     "prev": "ca688a20-d25d-4266-8f63-967e003c1f2f",
     "regions": {
      "fd2525a2-6271-4119-a693-9ebaa319233e": {
       "attrs": {
        "height": 0.8,
        "width": 0.8,
        "x": 0.1,
        "y": 0.1
       },
       "content": {
        "cell": "b492de13-0053-416c-b314-1bbae21ca828",
        "part": "whole"
       },
       "id": "fd2525a2-6271-4119-a693-9ebaa319233e"
      }
     }
    },
    "f6887642-4c01-4304-bedb-6e6bf5f5c45e": {
     "id": "f6887642-4c01-4304-bedb-6e6bf5f5c45e",
     "prev": "0527f44a-39b6-4cf8-9802-d16b8cd34754",
     "regions": {
      "22ac5030-534d-4372-b64f-11254caef474": {
       "attrs": {
        "height": 0.8,
        "width": 0.8,
        "x": 0.1,
        "y": 0.1
       },
       "content": {
        "cell": "8ce2b802-f0c1-4ffc-9ce5-c2792856b5b4",
        "part": "whole"
       },
       "id": "22ac5030-534d-4372-b64f-11254caef474"
      }
     }
    },
    "f6d5269c-54db-4887-b274-d00572aead72": {
     "id": "f6d5269c-54db-4887-b274-d00572aead72",
     "prev": "9d28ba7f-c1e5-4ac3-ae0d-08721cddf897",
     "regions": {
      "4adeafcb-a40e-4001-9cea-ced25a006c2a": {
       "attrs": {
        "height": 0.8,
        "width": 0.8,
        "x": 0.1,
        "y": 0.1
       },
       "content": {
        "cell": "380ef8b7-6de1-4822-ae30-7120e12b5955",
        "part": "whole"
       },
       "id": "4adeafcb-a40e-4001-9cea-ced25a006c2a"
      }
     }
    },
    "f870a325-581b-4d8e-a4c0-095972e4cc21": {
     "id": "f870a325-581b-4d8e-a4c0-095972e4cc21",
     "prev": "d386ac9f-a3fc-4b7e-8171-72c5de5bcd6b",
     "regions": {
      "6923b170-3e50-4538-a408-f2032324357e": {
       "attrs": {
        "height": 0.8,
        "width": 0.8,
        "x": 0.1,
        "y": 0.1
       },
       "content": {
        "cell": "68d38063-fb92-4d36-b3fb-f2d3cbff9eb5",
        "part": "whole"
       },
       "id": "6923b170-3e50-4538-a408-f2032324357e"
      }
     }
    },
    "fbd9f3b3-f9b0-4886-b987-3f9d0ca983bc": {
     "id": "fbd9f3b3-f9b0-4886-b987-3f9d0ca983bc",
     "prev": "2e4a9702-f7a2-48a5-bd13-2087e9216b38",
     "regions": {
      "b1150180-2e0b-444f-956f-2dd4cf1f3d4a": {
       "attrs": {
        "height": 0.8,
        "width": 0.8,
        "x": 0.1,
        "y": 0.1
       },
       "content": {
        "cell": "dbeeeabe-b6dd-477c-a798-fb7b39302ba9",
        "part": "whole"
       },
       "id": "b1150180-2e0b-444f-956f-2dd4cf1f3d4a"
      }
     }
    }
   },
   "themes": {}
  }
 },
 "nbformat": 4,
 "nbformat_minor": 1
}
