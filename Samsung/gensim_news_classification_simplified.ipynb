{
 "cells": [
  {
   "cell_type": "markdown",
   "metadata": {
    "nbpresent": {
     "id": "e0085648-0300-4087-9b12-ee7d2392ce4f"
    }
   },
   "source": [
    "# News classification with topic models in gensim\n",
    "News article classification is a task which is performed on a huge scale by news agencies all over the world. We will be looking into how topic modeling can be used to accurately classify news articles into different categories such as sports, technology, politics etc.\n",
    "\n",
    "Our aim in this tutorial is to come up with some topic model which can come up with topics that can easily be interpreted by us. Such a topic model can be used to discover hidden structure in the corpus and can also be used to determine the membership of a news article into one of the topics.\n",
    "\n",
    "For this tutorial, we will be using the Lee corpus which is a shortened version of the [Lee Background Corpus](http://www.socsci.uci.edu/~mdlee/lee_pincombe_welsh_document.PDF). The shortened version consists of 300 documents selected from the Australian Broadcasting Corporation's news mail service. It consists of texts of headline stories from around the year 2000-2001.\n",
    "\n",
    "Accompanying slides can be found [here](https://speakerdeck.com/dsquareindia/pycon-delhi-lightening).\n",
    "\n",
    "### Requirements\n",
    "In this tutorial we look at how different topic models can be easily created using [gensim](https://radimrehurek.com/gensim/).\n",
    "Following are the dependencies for this tutorial:\n",
    "    - Gensim Version >=0.13.1 would be preferred since we will be using topic coherence metrics extensively here.\n",
    "    - matplotlib\n",
    "    - nltk.stopwords and nltk.wordnet\n",
    "    - pyLDAVis\n",
    "We will be playing around with 4 different topic models here:\n",
    "    - LSI (Latent Semantic Indexing)\n",
    "    - HDP (Hierarchical Dirichlet Process)\n",
    "    - LDA (Latent Dirichlet Allocation)\n",
    "    - LDA (tweaked with topic coherence to find optimal number of topics) and\n",
    "    - LDA as LSI with the help of topic coherence metrics\n",
    "First we'll fit those topic models on our existing data then we'll compare each against the other and see how they rank in terms of human interpretability.\n",
    "\n",
    "All can be found in gensim and can be easily used in a plug-and-play fashion. We will tinker with the LDA model using the newly added topic coherence metrics in gensim based on [this](http://svn.aksw.org/papers/2015/WSDM_Topic_Evaluation/public.pdf) paper by Roeder et al and see how the resulting topic model compares with the exsisting ones."
   ]
  },
  {
   "cell_type": "code",
   "execution_count": 22,
   "metadata": {
    "nbpresent": {
     "id": "25997dab-04e3-4abc-b22f-b36944b208c2"
    }
   },
   "outputs": [],
   "source": [
    "import os\n",
    "import re\n",
    "import operator\n",
    "import matplotlib.pyplot as plt\n",
    "import warnings\n",
    "import gensim\n",
    "import numpy as np\n",
    "warnings.filterwarnings('ignore')  # Let's not pay heed to them right now\n",
    "\n",
    "import logging\n",
    "logging.basicConfig(format='%(asctime)s : %(levelname)s : %(message)s', level=logging.DEBUG)\n",
    "\n",
    "import nltk\n",
    "\n",
    "from gensim.models import CoherenceModel, LdaModel, LsiModel, HdpModel\n",
    "from gensim.models.wrappers import LdaMallet\n",
    "from gensim.corpora import Dictionary\n",
    "from pprint import pprint\n",
    "\n",
    "%matplotlib inline\n",
    "\n",
    "import load_lee_background_corpus as load_texts"
   ]
  },
  {
   "cell_type": "markdown",
   "metadata": {
    "nbpresent": {
     "id": "bcbc3313-3a57-4923-b330-69691eaf7535"
    }
   },
   "source": [
    "Analysing our corpus.\n",
    "    - The first document talks about a bushfire that had occured in New South Wales.\n",
    "    - The second talks about conflict between India and Pakistan in Kashmir.\n",
    "    - The third talks about road accidents in the New South Wales area.\n",
    "    - The fourth one talks about Argentina's economic and political crisis during that time.\n",
    "    - The last one talks about the use of drugs by midwives in a Sydney hospital.\n",
    "Our final topic model should be giving us keywords which we can easily interpret and make a small summary out of. Without this the topic model cannot be of much practical use."
   ]
  },
  {
   "cell_type": "code",
   "execution_count": 2,
   "metadata": {
    "nbpresent": {
     "id": "d447e236-b1b9-4cf7-bc39-8bfb499d4730"
    }
   },
   "outputs": [
    {
     "name": "stdout",
     "output_type": "stream",
     "text": [
      "/home/pedro.castro/anaconda3/lib/python3.6/site-packages/gensim/test/test_data\n",
      "['Hundreds of people have been forced to vacate their homes in the Southern Highlands of New South Wales as strong winds today pushed a huge bushfire towards the town of Hill Top. A new blaze near Goulburn, south-west of Sydney, has forced the closure of the Hume Highway. At about 4:00pm AEDT, a marked deterioration in the weather as a storm cell moved east across the Blue Mountains forced authorities to make a decision to evacuate people from homes in outlying streets at Hill Top in the New South Wales southern highlands. An estimated 500 residents have left their homes for nearby Mittagong. The New South Wales Rural Fire Service says the weather conditions which caused the fire to burn in a finger formation have now eased and about 60 fire units in and around Hill Top are optimistic of defending all properties. As more than 100 blazes burn on New Year\\'s Eve in New South Wales, fire crews have been called to new fire at Gunning, south of Goulburn. While few details are available at this stage, fire authorities says it has closed the Hume Highway in both directions. Meanwhile, a new fire in Sydney\\'s west is no longer threatening properties in the Cranebrook area. Rain has fallen in some parts of the Illawarra, Sydney, the Hunter Valley and the north coast. But the Bureau of Meteorology\\'s Claire Richards says the rain has done little to ease any of the hundred fires still burning across the state. \"The falls have been quite isolated in those areas and generally the falls have been less than about five millimetres,\" she said. \"In some places really not significant at all, less than a millimetre, so there hasn\\'t been much relief as far as rain is concerned. \"In fact, they\\'ve probably hampered the efforts of the firefighters more because of the wind gusts that are associated with those thunderstorms.\" \\n']\n",
      "[\"Indian security forces have shot dead eight suspected militants in a night-long encounter in southern Kashmir. The shootout took place at Dora village some 50 kilometers south of the Kashmiri summer capital Srinagar. The deaths came as Pakistani police arrested more than two dozen militants from extremist groups accused of staging an attack on India's parliament. India has accused Pakistan-based Lashkar-e-Taiba and Jaish-e-Mohammad of carrying out the attack on December 13 at the behest of Pakistani military intelligence. Military tensions have soared since the raid, with both sides massing troops along their border and trading tit-for-tat diplomatic sanctions. Yesterday, Pakistan announced it had arrested Lashkar-e-Taiba chief Hafiz Mohammed Saeed. Police in Karachi say it is likely more raids will be launched against the two groups as well as other militant organisations accused of targetting India. Military tensions between India and Pakistan have escalated to a level not seen since their 1971 war. \\n\"]\n",
      "['The national road toll for the Christmas-New Year holiday period stands at 45, eight fewer than for the same time last year. 20 people have died on New South Wales roads, with eight fatalities in both Queensland and Victoria. Western Australia, the Northern Territory and South Australia have each recorded three deaths, while the ACT and Tasmania remain fatality free. \\n']\n",
      "[\"Argentina's political and economic crisis has deepened with the resignation of its interim President who took office just a week ago. Aldolfo Rodregiuez Saa told a stunned nation that he could not rescue Argentina because key fellow Peronists would not support his default on massive foreign debt repayment or his plan for a new currency. It was only a week ago that he was promising a million new jobs to end four years of recession, days after his predecessor resigned following a series of failed rescue packages. After announcing that the senate leader, Ramon Puerta, would assume the presidency until congress appoints a new caretaker president, the government said he too had quit and another senior lawmaker would act in the role. Fresh elections are not scheduled until March leaving whoever assumes the presidency with the daunting task of tackling Argentina's worst crisis in 12 years, but this time, isolated by international lending agencies. \\n\"]\n",
      "['Six midwives have been suspended at Wollongong Hospital, south of Sydney, for inappropriate use of nitrous oxide during work hours, on some occasions while women were in labour. The Illawarra Area Health Service says that following an investigation of unprofessional conduct, a further four midwives have been relocated to other areas within the hospital. The service\\'s chief executive officer, Tony Sherbon, says no one was put at risk, because other staff not involved in the use of nitrous oxide were able to take over caring for women in labour. \"Well we\\'re very concerned and the body of midwives to the hospital - there are over 70 midwives that work in our service - are very annoyed and angry at the inappropriate behaviour of these very senior people who should know better,\" he said. \"And that\\'s why we\\'ve take the action of suspending them and we\\'ll consider further action next week.\" \\n']\n",
      "['The Federal Government says it should be safe for Afghani asylum seekers in Australia to return home when the environment becomes secure. The Government has suspended their applications while the interim government is established in Kabul. The Foreign Affairs Minister Alexander Downer has refused to say for how long the claims process has been put on hold. But he says the major threat to most people seeking asylum is no longer there. \"Many Afghans who have tried to get into Australia or for that matter into Britain and other countries in north-west Europe have claimed that they are fleeing the Taliban,\" he said. \"Well, the Taliban is no longer in power in Afghanistan, the Taliban is finished.\" Meanwhile, there has been a mass airlift of detainees from Christmas Island to the Pacific Island of Nauru. In total, more than 300 people have been flown from the island in two operations using chartered aircraft. The second airlift today delivered 180 asylum seekers to Nauru where they will await processing of their claims for temporary visas. The Department of Immigration says there are now 211 detainees remaining on Christmas Island. A spokesman says a decision regarding their future is yet to be made. \\n']\n"
     ]
    }
   ],
   "source": [
    "lee_train_file = load_texts.get_lee_train_file()\n",
    "with open(lee_train_file) as f:\n",
    "    for n, l in enumerate(f):\n",
    "        if n < 6:\n",
    "            print([l])"
   ]
  },
  {
   "cell_type": "markdown",
   "metadata": {
    "nbpresent": {
     "id": "a6d40ad7-2abd-44e5-8839-62731fb5eab7"
    }
   },
   "source": [
    "### Preprocessing our data. Remember: Garbage In Garbage Out\n",
    "                                        \"NLP is 80% preprocessing.\"\n",
    "                                                                -Lev Konstantinovskiy\n",
    "This is the single most important step in setting up a good topic modeling system. If the preprocessing is not good, the algorithm can't do much since we would be feeding it a lot of noise. In this tutorial, we will be filtering out the noise using the following steps in this order for each line:\n",
    "1. Stopword removal using NLTK's english stopwords dataset.\n",
    "2. Bigram collocation detection (frequently co-occuring tokens) using gensim's [Phrases](https://radimrehurek.com/gensim/models/phrases.html). This is our first attempt to find some hidden structure in the corpus. You can even try trigram collocation detection.\n",
    "3. Lemmatization (using gensim's [`lemmatize`](https://radimrehurek.com/gensim/utils.html#gensim.utils.lemmatize)) to only keep the nouns. Lemmatization is generally better than stemming in the case of topic modeling since the words after lemmatization still remain understable. However, generally stemming might be preferred if the data is being fed into a vectorizer and isn't intended to be viewed."
   ]
  },
  {
   "cell_type": "code",
   "execution_count": 3,
   "metadata": {},
   "outputs": [
    {
     "name": "stdout",
     "output_type": "stream",
     "text": [
      "/home/pedro.castro/anaconda3/lib/python3.6/site-packages/gensim/test/test_data\n",
      "The Federal Government says it should be safe for Afghani asylum seekers in Australia to return home when the environment becomes secure. The Government has suspended their applications while the interim government is established in Kabul. The Foreign Affairs Minister Alexander Downer has refused to say for how long the claims process has been put on hold. But he says the major threat to most people seeking asylum is no longer there. \"Many Afghans who have tried to get into Australia or for that matter into Britain and other countries in north-west Europe have claimed that they are fleeing the Taliban,\" he said. \"Well, the Taliban is no longer in power in Afghanistan, the Taliban is finished.\" Meanwhile, there has been a mass airlift of detainees from Christmas Island to the Pacific Island of Nauru. In total, more than 300 people have been flown from the island in two operations using chartered aircraft. The second airlift today delivered 180 asylum seekers to Nauru where they will await processing of their claims for temporary visas. The Department of Immigration says there are now 211 detainees remaining on Christmas Island. A spokesman says a decision regarding their future is yet to be made. \n",
      "\n"
     ]
    }
   ],
   "source": [
    "texts = load_texts.get_raw_texts()\n",
    "print(texts[5])"
   ]
  },
  {
   "cell_type": "code",
   "execution_count": 4,
   "metadata": {},
   "outputs": [
    {
     "name": "stdout",
     "output_type": "stream",
     "text": [
      "['federal_government', 'says', 'safe', 'afghani', 'asylum_seekers', 'australia', 'return', 'home', 'environment', 'becomes', 'secure', 'government', 'suspended', 'applications', 'interim_government', 'established', 'kabul', 'foreign_affairs', 'minister_alexander', 'downer', 'refused', 'say', 'long', 'claims', 'process', 'has_been', 'put', 'hold', 'says', 'major', 'threat', 'people', 'seeking', 'asylum', 'longer', 'many', 'afghans', 'tried', 'get', 'australia', 'matter', 'britain', 'countries', 'north', 'west', 'europe', 'claimed', 'they_are', 'fleeing', 'taliban', 'said', 'well', 'taliban', 'longer', 'power', 'afghanistan', 'taliban', 'finished', 'meanwhile', 'has_been', 'mass', 'airlift', 'detainees', 'christmas', 'island', 'pacific', 'island', 'nauru', 'total', 'more_than', 'people', 'have_been', 'flown', 'island', 'two', 'operations', 'using', 'chartered', 'aircraft', 'second', 'airlift', 'today', 'delivered', 'asylum_seekers', 'nauru', 'await', 'processing', 'claims', 'temporary', 'visas', 'department', 'immigration', 'says', 'there_are', 'detainees', 'remaining', 'christmas', 'island', 'spokesman', 'says', 'decision', 'regarding', 'future', 'yet', 'made']\n"
     ]
    }
   ],
   "source": [
    "texts = load_texts.process_file(lee_train_file, keep_all=True)\n",
    "print(texts[5])"
   ]
  },
  {
   "cell_type": "code",
   "execution_count": 4,
   "metadata": {},
   "outputs": [
    {
     "name": "stdout",
     "output_type": "stream",
     "text": [
      "['federal_government', 'afghani', 'asylum_seekers', 'australia', 'home', 'environment', 'secure', 'government', 'applications', 'government', 'kabul', 'foreign_affairs', 'minister_alexander', 'downer', 'claims', 'process', 'hold', 'threat', 'people', 'asylum', 'afghans', 'australia', 'matter', 'britain', 'countries', 'europe', 'taliban', 'taliban', 'power', 'afghanistan', 'taliban', 'mass', 'airlift', 'detainees', 'christmas', 'island', 'pacific', 'island', 'nauru', 'people', 'island', 'operations', 'aircraft', 'airlift', 'today', 'asylum_seekers', 'nauru', 'processing', 'claims', 'visas', 'department', 'immigration', 'detainees', 'christmas', 'island', 'spokesman', 'decision', 'future']\n"
     ]
    }
   ],
   "source": [
    "train_texts = load_texts.process_file(lee_train_file, keep_all=False)\n",
    "print(train_texts[5])"
   ]
  },
  {
   "cell_type": "markdown",
   "metadata": {
    "nbpresent": {
     "id": "0e5ca1a8-9c78-412a-9ab4-a4d0be5afd34"
    }
   },
   "source": [
    "Finalising our dictionary and corpus"
   ]
  },
  {
   "cell_type": "code",
   "execution_count": 5,
   "metadata": {
    "collapsed": true,
    "nbpresent": {
     "id": "161e8770-8bc2-41ae-98f4-08d1c9311e82"
    }
   },
   "outputs": [],
   "source": [
    "dictionary = Dictionary(train_texts)\n",
    "corpus = [dictionary.doc2bow(text) for text in train_texts]"
   ]
  },
  {
   "cell_type": "markdown",
   "metadata": {
    "nbpresent": {
     "id": "fe809373-e88b-44eb-9cb9-08be3dc5949a"
    }
   },
   "source": [
    "### Topic modeling with LSI\n",
    "This is a useful topic modeling algorithm in that it can rank topics by itself. Thus it outputs topics in a ranked order. However it does require a `num_topics` parameter (set to 200 by default) to determine the number of latent dimensions after the SVD."
   ]
  },
  {
   "cell_type": "code",
   "execution_count": 6,
   "metadata": {
    "collapsed": true,
    "nbpresent": {
     "id": "58e7dda6-0dd2-4e4f-b81a-0b530c66b20b"
    }
   },
   "outputs": [],
   "source": [
    "lsimodel = LsiModel(corpus=corpus, num_topics=10, id2word=dictionary)"
   ]
  },
  {
   "cell_type": "code",
   "execution_count": 7,
   "metadata": {
    "nbpresent": {
     "id": "6b5572c0-2ab0-4b13-a08f-3db21b4c4f21"
    },
    "scrolled": false
   },
   "outputs": [
    {
     "data": {
      "text/plain": [
       "[(0,\n",
       "  '0.338*\"arafat\" + 0.234*\"government\" + 0.201*\"people\" + 0.194*\"afghanistan\" + 0.193*\"security\" + 0.172*\"australia\" + 0.161*\"israeli\" + 0.143*\"forces\" + 0.138*\"israel\" + 0.132*\"police\"'),\n",
       " (1,\n",
       "  '-0.447*\"arafat\" + 0.265*\"afghanistan\" + 0.234*\"australia\" + -0.208*\"israeli\" + -0.179*\"sharon\" + -0.178*\"israel\" + -0.149*\"west_bank\" + -0.130*\"hamas\" + 0.120*\"afghan\" + 0.117*\"taliban\"'),\n",
       " (2,\n",
       "  '0.328*\"afghanistan\" + -0.251*\"australia\" + -0.193*\"test\" + -0.177*\"sydney\" + 0.172*\"afghan\" + 0.163*\"forces\" + 0.161*\"laden\" + -0.160*\"fire\" + 0.157*\"taliban\" + 0.132*\"tora_bora\"'),\n",
       " (3,\n",
       "  '-0.346*\"australia\" + 0.325*\"fire\" + 0.242*\"sydney\" + -0.223*\"test\" + 0.198*\"firefighters\" + 0.163*\"fires\" + 0.152*\"new_south\" + 0.152*\"wales\" + -0.151*\"match\" + 0.149*\"areas\"'),\n",
       " (4,\n",
       "  '-0.310*\"company\" + 0.284*\"test\" + -0.261*\"qantas\" + -0.183*\"workers\" + -0.174*\"commission\" + -0.162*\"unions\" + 0.146*\"south_africa\" + -0.139*\"government\" + 0.135*\"match\" + -0.126*\"action\"')]"
      ]
     },
     "execution_count": 7,
     "metadata": {},
     "output_type": "execute_result"
    }
   ],
   "source": [
    "lsimodel.show_topics(num_topics=5)  # Showing only the top 5 topics"
   ]
  },
  {
   "cell_type": "code",
   "execution_count": 8,
   "metadata": {
    "collapsed": true,
    "nbpresent": {
     "id": "b1a8c7b4-dc46-4bfe-b17b-d604f212b389"
    }
   },
   "outputs": [],
   "source": [
    "lsitopics = lsimodel.show_topics(formatted=False)"
   ]
  },
  {
   "cell_type": "markdown",
   "metadata": {
    "nbpresent": {
     "id": "943a5fcd-7c2e-4c16-9879-34882a7a74d4"
    }
   },
   "source": [
    "### Topic modeling with [HDP](http://jmlr.csail.mit.edu/proceedings/papers/v15/wang11a/wang11a.pdf)\n",
    "An HDP model is fully unsupervised. It can also determine the ideal number of topics it needs through posterior inference."
   ]
  },
  {
   "cell_type": "code",
   "execution_count": 9,
   "metadata": {
    "collapsed": true,
    "nbpresent": {
     "id": "b492de13-0053-416c-b314-1bbae21ca828"
    }
   },
   "outputs": [],
   "source": [
    "hdpmodel = HdpModel(corpus=corpus, id2word=dictionary)"
   ]
  },
  {
   "cell_type": "code",
   "execution_count": 10,
   "metadata": {
    "nbpresent": {
     "id": "92dbb672-adca-4535-8089-de23712828d8"
    }
   },
   "outputs": [
    {
     "data": {
      "text/plain": [
       "[(0,\n",
       "  '0.005*company + 0.003*australia + 0.003*staff + 0.002*disagreements + 0.002*entitlements + 0.002*austar + 0.002*thatcher + 0.002*television + 0.002*administrators + 0.002*traveland + 0.002*lion + 0.001*debris + 0.001*cataract + 0.001*lording + 0.001*paris + 0.001*swimmer + 0.001*blaze + 0.001*baton + 0.001*air_strikes + 0.001*bankruptcy'),\n",
       " (1,\n",
       "  '0.004*israeli + 0.004*arafat + 0.003*sharon + 0.002*authority + 0.002*west_bank + 0.002*official + 0.001*murder + 0.001*militants + 0.001*protectors + 0.001*timothy + 0.001*hawkesbury + 0.001*incomes + 0.001*israelis + 0.001*air_strikes + 0.001*composition + 0.001*northern_territory + 0.001*breakdown + 0.001*offices + 0.001*afternoon + 0.001*gang'),\n",
       " (2,\n",
       "  '0.003*krishna + 0.003*benares + 0.003*hare + 0.003*ashes + 0.002*harrison + 0.002*genius + 0.002*ganges + 0.002*everything + 0.002*wider + 0.002*river + 0.002*devotees + 0.002*ceremony + 0.002*hundreds + 0.001*positions + 0.001*refugee + 0.001*fans + 0.001*hindus + 0.001*shop + 0.001*allahabad + 0.001*russell'),\n",
       " (3,\n",
       "  '0.003*airport + 0.003*taliban + 0.003*masood + 0.002*opposition + 0.002*kandahar + 0.002*chirac + 0.002*gul + 0.002*forces + 0.002*lali + 0.002*meant + 0.002*people + 0.002*city + 0.002*picture + 0.002*carl + 0.002*agha + 0.002*civilians + 0.001*night + 0.001*sanchez + 0.001*regardless + 0.001*area'),\n",
       " (4,\n",
       "  '0.003*government + 0.002*source + 0.002*group + 0.002*israeli + 0.002*sharon + 0.002*arafat + 0.002*jenin + 0.002*official + 0.002*consequences + 0.002*human + 0.002*weekend + 0.002*security + 0.002*terrorism + 0.002*referenda + 0.002*rights + 0.002*north + 0.001*gaza_strip + 0.001*swiss + 0.001*aarage + 0.001*frenches'),\n",
       " (5,\n",
       "  '0.003*government + 0.002*time + 0.002*georg + 0.002*lew + 0.002*company + 0.002*hooke + 0.002*bid + 0.002*palestine + 0.002*language + 0.002*senator + 0.002*grace + 0.001*forefront + 0.001*assurance + 0.001*resort + 0.001*new_south + 0.001*harm + 0.001*acquisition + 0.001*gabriel + 0.001*insights + 0.001*intersection'),\n",
       " (6,\n",
       "  '0.003*storm + 0.002*ses + 0.002*energy + 0.002*trees + 0.002*sydney + 0.002*bomber + 0.002*richmond + 0.002*power + 0.002*areas + 0.002*homes + 0.002*israel + 0.002*services + 0.002*night + 0.002*clean + 0.002*user + 0.002*storms + 0.001*hornsby + 0.001*debus + 0.001*washington + 0.001*damage'),\n",
       " (7,\n",
       "  '0.004*test + 0.003*match + 0.002*new_zealand + 0.002*dictator + 0.002*waugh + 0.002*day + 0.002*australia + 0.002*sutton + 0.002*brett_lee + 0.002*stroke + 0.002*fitzgerald + 0.002*ham + 0.001*hendriks + 0.001*immanuel + 0.001*salary + 0.001*homes + 0.001*amendments + 0.001*band + 0.001*italy + 0.001*satellite'),\n",
       " (8,\n",
       "  '0.002*howard + 0.002*sub + 0.002*rings + 0.002*help + 0.002*aedt + 0.002*everything + 0.002*nettle + 0.002*module + 0.002*negotiator + 0.002*marsh + 0.002*pesos + 0.001*role + 0.001*electricity + 0.001*breuer + 0.001*deportation + 0.001*consent + 0.001*cessnock + 0.001*almao + 0.001*indonesian + 0.001*risks'),\n",
       " (9,\n",
       "  '0.003*match + 0.002*team + 0.002*rafter + 0.002*france + 0.002*hours + 0.002*calm + 0.002*escude + 0.002*australia + 0.002*day + 0.002*houses + 0.002*shocks + 0.002*tennis + 0.002*wisemans + 0.002*guarantee + 0.002*hamas + 0.002*roger + 0.001*copy + 0.001*time + 0.001*john + 0.001*flexibility'),\n",
       " (10,\n",
       "  '0.002*ansett + 0.002*launceston + 0.002*virgin + 0.002*roofs + 0.002*fodera + 0.002*tent + 0.002*candlelight + 0.002*mcdonald + 0.002*farina + 0.001*time + 0.001*people + 0.001*whole + 0.001*pat + 0.001*airline + 0.001*potential + 0.001*wednesday + 0.001*sleep + 0.001*tunnels + 0.001*attempt + 0.001*interval'),\n",
       " (11,\n",
       "  '0.003*afghanistan + 0.003*powell + 0.002*taliban + 0.002*osama_bin + 0.002*scg + 0.002*roberts + 0.002*united_states + 0.002*ives + 0.001*officers + 0.001*backdrop + 0.001*call + 0.001*secretary + 0.001*masters + 0.001*matter + 0.001*turn + 0.001*docking + 0.001*improve + 0.001*offices + 0.001*shock + 0.001*laden'),\n",
       " (12,\n",
       "  '0.003*afghanistan + 0.002*security + 0.002*afghan + 0.002*penalties + 0.002*agreement + 0.002*hamas + 0.002*palestinians + 0.002*leaders + 0.002*government + 0.002*issue + 0.002*wave + 0.002*rebekah + 0.002*steven + 0.002*man + 0.002*official + 0.002*round + 0.002*water + 0.001*extremist + 0.001*complexity + 0.001*custodians'),\n",
       " (13,\n",
       "  '0.003*harrison + 0.002*liverpool + 0.002*george + 0.002*belgium + 0.002*memory + 0.002*beatle + 0.002*rock + 0.002*music + 0.002*crowd + 0.002*plagiarism + 0.002*week + 0.002*hayward + 0.002*people + 0.002*beatles + 0.002*minute + 0.001*ceremony + 0.001*coroner + 0.001*torkotal + 0.001*quarrel + 0.001*family'),\n",
       " (14,\n",
       "  '0.002*sydney + 0.002*shopping + 0.002*damage + 0.002*properties + 0.002*personality + 0.002*north + 0.002*car + 0.002*brain + 0.002*advani + 0.001*west + 0.001*tailender + 0.001*house + 0.001*richards + 0.001*bombed + 0.001*contingents + 0.001*zones + 0.001*ses + 0.001*disaster + 0.001*mop + 0.001*slips'),\n",
       " (15,\n",
       "  '0.002*agenda + 0.002*child + 0.002*columbia + 0.002*torture + 0.002*collapse + 0.001*territories + 0.001*commission + 0.001*needs + 0.001*recommendation + 0.001*vii + 0.001*diseases + 0.001*stray + 0.001*media + 0.001*report + 0.001*dismal + 0.001*rantissi + 0.001*move + 0.001*assurance + 0.001*peel + 0.001*maneuver'),\n",
       " (16,\n",
       "  '0.003*conference + 0.002*teenagers + 0.002*hayward + 0.002*family + 0.002*vigilantes + 0.002*afp + 0.002*sections + 0.002*arrest + 0.002*people + 0.002*police + 0.002*drug + 0.002*sank + 0.002*mode + 0.001*university + 0.001*ceremonies + 0.001*southern + 0.001*process + 0.001*choice + 0.001*dire + 0.001*boat'),\n",
       " (17,\n",
       "  '0.002*rabbani + 0.002*security + 0.002*president + 0.002*government + 0.002*cuts + 0.002*levies + 0.002*cave + 0.002*lindh + 0.002*banners + 0.001*dickie + 0.001*programs + 0.001*son + 0.001*leanne + 0.001*afghan + 0.001*palestine + 0.001*forces + 0.001*march + 0.001*personnel + 0.001*illness + 0.001*julia'),\n",
       " (18,\n",
       "  '0.004*cow + 0.002*films + 0.002*japan + 0.002*disease + 0.002*francs + 0.002*adult + 0.002*rise + 0.002*layoff + 0.002*sun + 0.002*wider + 0.001*school + 0.001*general + 0.001*resentment + 0.001*experts + 0.001*spills + 0.001*towers + 0.001*money + 0.001*allegation + 0.001*nominations + 0.001*occupation'),\n",
       " (19,\n",
       "  '0.003*team + 0.003*rafter + 0.002*australia + 0.002*doubles + 0.002*wayne + 0.002*davis + 0.002*facility + 0.002*guides + 0.001*singles + 0.001*guy + 0.001*ban + 0.001*greater + 0.001*ball + 0.001*cheaper + 0.001*hewitt + 0.001*millicent + 0.001*captain + 0.001*match + 0.001*two + 0.001*boucher')]"
      ]
     },
     "execution_count": 10,
     "metadata": {},
     "output_type": "execute_result"
    }
   ],
   "source": [
    "hdpmodel.show_topics()"
   ]
  },
  {
   "cell_type": "code",
   "execution_count": 11,
   "metadata": {
    "collapsed": true,
    "nbpresent": {
     "id": "85e46481-0245-448c-b4e2-e0c6e175357c"
    }
   },
   "outputs": [],
   "source": [
    "hdptopics = hdpmodel.show_topics(formatted=False)"
   ]
  },
  {
   "cell_type": "markdown",
   "metadata": {
    "nbpresent": {
     "id": "380ef8b7-6de1-4822-ae30-7120e12b5955"
    }
   },
   "source": [
    "### Topic modeling using [LDA](https://www.cs.princeton.edu/~blei/papers/HoffmanBleiBach2010b.pdf)\n",
    "This is one the most popular topic modeling algorithms today. It is a generative model in that it assumes each document is a mixture of topics and in turn, each topic is a mixture of words. To understand it better you can watch [this](https://www.youtube.com/watch?v=DDq3OVp9dNA) lecture by David Blei. Let's choose 10 topics to initialize this."
   ]
  },
  {
   "cell_type": "code",
   "execution_count": 12,
   "metadata": {
    "collapsed": true,
    "nbpresent": {
     "id": "a02b72fb-0049-4ec3-825f-179e396f3904"
    }
   },
   "outputs": [],
   "source": [
    "ldamodel = LdaModel(corpus=corpus, num_topics=10, id2word=dictionary)"
   ]
  },
  {
   "cell_type": "markdown",
   "metadata": {
    "nbpresent": {
     "id": "672c009d-3dbc-4a1f-a789-2a0fe78729b9"
    }
   },
   "source": [
    "pyLDAvis is a great way to visualize an LDA model. To summarize in short, the area of the circles represent the prevelance of the topic. The length of the bars on the right represent the membership of a term in a particular topic. pyLDAvis is based on [this](http://nlp.stanford.edu/events/illvi2014/papers/sievert-illvi2014.pdf) paper."
   ]
  },
  {
   "cell_type": "code",
   "execution_count": 13,
   "metadata": {
    "collapsed": true,
    "nbpresent": {
     "id": "f7724653-52ef-41e8-aa22-6232be216b08"
    }
   },
   "outputs": [],
   "source": [
    "import pyLDAvis.gensim"
   ]
  },
  {
   "cell_type": "code",
   "execution_count": 14,
   "metadata": {
    "collapsed": true,
    "nbpresent": {
     "id": "2c5b03e0-ce0f-4999-8fe1-820a9fe06873"
    }
   },
   "outputs": [],
   "source": [
    "pyLDAvis.enable_notebook()"
   ]
  },
  {
   "cell_type": "code",
   "execution_count": 15,
   "metadata": {
    "nbpresent": {
     "id": "7da56259-bbf2-4f63-93f6-033833ae4494"
    },
    "scrolled": false
   },
   "outputs": [
    {
     "name": "stderr",
     "output_type": "stream",
     "text": [
      "/home/pedro.castro/anaconda3/lib/python3.6/site-packages/pyLDAvis/_prepare.py:387: DeprecationWarning: \n",
      ".ix is deprecated. Please use\n",
      ".loc for label based indexing or\n",
      ".iloc for positional indexing\n",
      "\n",
      "See the documentation here:\n",
      "http://pandas.pydata.org/pandas-docs/stable/indexing.html#ix-indexer-is-deprecated\n",
      "  topic_term_dists = topic_term_dists.ix[topic_order]\n"
     ]
    },
    {
     "data": {
      "text/html": [
       "\n",
       "<link rel=\"stylesheet\" type=\"text/css\" href=\"https://cdn.rawgit.com/bmabey/pyLDAvis/files/ldavis.v1.0.0.css\">\n",
       "\n",
       "\n",
       "<div id=\"ldavis_el100521400251428867127434382221\"></div>\n",
       "<script type=\"text/javascript\">\n",
       "\n",
       "var ldavis_el100521400251428867127434382221_data = {\"mdsDat\": {\"Freq\": [19.21181094076515, 12.772689547229184, 11.118162178735853, 11.058074688885736, 10.231109091406934, 9.707473396492192, 9.200909889167635, 8.449295486534078, 4.246825964652527, 4.003648816130724], \"cluster\": [1, 1, 1, 1, 1, 1, 1, 1, 1, 1], \"topics\": [1, 2, 3, 4, 5, 6, 7, 8, 9, 10], \"x\": [-0.06477959377312945, -0.04513723444522145, -0.049039678772713084, 0.09800329848874345, 0.06268229739561007, 0.02683405703405073, -0.02291601597794656, -0.046360691389682344, 0.042438282517198576, -0.001724721076909815], \"y\": [0.021139214976316465, -0.09005170179242179, 0.05734691838516408, 0.0024779718780899053, 0.04864226954889258, 0.022615742467926074, 0.02792459450981449, 0.01427825875496545, -0.060229048433050186, -0.044144220295696875]}, \"tinfo\": {\"Category\": [\"Default\", \"Default\", \"Default\", \"Default\", \"Default\", \"Default\", \"Default\", \"Default\", \"Default\", \"Default\", \"Default\", \"Default\", \"Default\", \"Default\", \"Default\", \"Default\", \"Default\", \"Default\", \"Default\", \"Default\", \"Default\", \"Default\", \"Default\", \"Default\", \"Default\", \"Default\", \"Default\", \"Default\", \"Default\", \"Default\", \"Topic1\", \"Topic1\", \"Topic1\", \"Topic1\", \"Topic1\", \"Topic1\", \"Topic1\", \"Topic1\", \"Topic1\", \"Topic1\", \"Topic1\", \"Topic1\", \"Topic1\", \"Topic1\", \"Topic1\", \"Topic1\", \"Topic1\", \"Topic1\", \"Topic1\", \"Topic1\", \"Topic1\", \"Topic1\", \"Topic1\", \"Topic1\", \"Topic1\", \"Topic1\", \"Topic1\", \"Topic1\", \"Topic1\", \"Topic1\", \"Topic1\", \"Topic1\", \"Topic1\", \"Topic1\", \"Topic1\", \"Topic1\", \"Topic1\", \"Topic1\", \"Topic1\", \"Topic1\", \"Topic1\", \"Topic1\", \"Topic1\", \"Topic1\", \"Topic1\", \"Topic1\", \"Topic1\", \"Topic1\", \"Topic1\", \"Topic1\", \"Topic1\", \"Topic1\", \"Topic1\", \"Topic1\", \"Topic1\", \"Topic1\", \"Topic1\", \"Topic1\", \"Topic1\", \"Topic1\", \"Topic1\", \"Topic1\", \"Topic1\", \"Topic1\", \"Topic1\", \"Topic1\", \"Topic1\", \"Topic1\", \"Topic1\", \"Topic1\", \"Topic1\", \"Topic2\", \"Topic2\", \"Topic2\", \"Topic2\", \"Topic2\", \"Topic2\", \"Topic2\", \"Topic2\", \"Topic2\", \"Topic2\", \"Topic2\", \"Topic2\", \"Topic2\", \"Topic2\", \"Topic2\", \"Topic2\", \"Topic2\", \"Topic2\", \"Topic2\", \"Topic2\", \"Topic2\", \"Topic2\", \"Topic2\", \"Topic2\", \"Topic2\", \"Topic2\", \"Topic2\", \"Topic2\", \"Topic2\", \"Topic2\", \"Topic2\", \"Topic2\", \"Topic2\", \"Topic2\", \"Topic2\", \"Topic2\", \"Topic2\", \"Topic2\", \"Topic2\", \"Topic2\", \"Topic2\", \"Topic2\", \"Topic2\", \"Topic2\", \"Topic2\", \"Topic2\", \"Topic2\", \"Topic2\", \"Topic2\", \"Topic2\", \"Topic2\", \"Topic2\", \"Topic2\", \"Topic2\", \"Topic2\", \"Topic2\", \"Topic2\", \"Topic2\", \"Topic2\", \"Topic2\", \"Topic2\", \"Topic2\", \"Topic2\", \"Topic2\", \"Topic2\", \"Topic2\", \"Topic2\", \"Topic2\", \"Topic2\", \"Topic2\", \"Topic2\", \"Topic2\", \"Topic2\", \"Topic2\", \"Topic2\", \"Topic2\", \"Topic2\", \"Topic2\", \"Topic3\", \"Topic3\", \"Topic3\", \"Topic3\", \"Topic3\", \"Topic3\", \"Topic3\", \"Topic3\", \"Topic3\", \"Topic3\", \"Topic3\", \"Topic3\", \"Topic3\", \"Topic3\", \"Topic3\", \"Topic3\", \"Topic3\", \"Topic3\", \"Topic3\", \"Topic3\", \"Topic3\", \"Topic3\", \"Topic3\", \"Topic3\", \"Topic3\", \"Topic3\", \"Topic3\", \"Topic3\", \"Topic3\", \"Topic3\", \"Topic3\", \"Topic3\", \"Topic3\", \"Topic3\", \"Topic3\", \"Topic3\", \"Topic3\", \"Topic3\", \"Topic3\", \"Topic3\", \"Topic3\", \"Topic3\", \"Topic3\", \"Topic3\", \"Topic3\", \"Topic3\", \"Topic3\", \"Topic3\", \"Topic3\", \"Topic3\", \"Topic3\", \"Topic3\", \"Topic3\", \"Topic3\", \"Topic3\", \"Topic3\", \"Topic3\", \"Topic3\", \"Topic3\", \"Topic3\", \"Topic3\", \"Topic3\", \"Topic3\", \"Topic3\", \"Topic3\", \"Topic3\", \"Topic3\", \"Topic3\", \"Topic3\", \"Topic3\", \"Topic3\", \"Topic4\", \"Topic4\", \"Topic4\", \"Topic4\", \"Topic4\", \"Topic4\", \"Topic4\", \"Topic4\", \"Topic4\", \"Topic4\", \"Topic4\", \"Topic4\", \"Topic4\", \"Topic4\", \"Topic4\", \"Topic4\", \"Topic4\", \"Topic4\", \"Topic4\", \"Topic4\", \"Topic4\", \"Topic4\", \"Topic4\", \"Topic4\", \"Topic4\", \"Topic4\", \"Topic4\", \"Topic4\", \"Topic4\", \"Topic4\", \"Topic4\", \"Topic4\", \"Topic4\", \"Topic4\", \"Topic4\", \"Topic4\", \"Topic4\", \"Topic4\", \"Topic4\", \"Topic4\", \"Topic4\", \"Topic4\", \"Topic4\", \"Topic4\", \"Topic4\", \"Topic4\", \"Topic4\", \"Topic4\", \"Topic4\", \"Topic4\", \"Topic4\", \"Topic4\", \"Topic4\", \"Topic4\", \"Topic4\", \"Topic4\", \"Topic4\", \"Topic4\", \"Topic4\", \"Topic4\", \"Topic4\", \"Topic4\", \"Topic4\", \"Topic4\", \"Topic4\", \"Topic4\", \"Topic4\", \"Topic4\", \"Topic4\", \"Topic4\", \"Topic5\", \"Topic5\", \"Topic5\", \"Topic5\", \"Topic5\", \"Topic5\", \"Topic5\", \"Topic5\", \"Topic5\", \"Topic5\", \"Topic5\", \"Topic5\", \"Topic5\", \"Topic5\", \"Topic5\", \"Topic5\", \"Topic5\", \"Topic5\", \"Topic5\", \"Topic5\", \"Topic5\", \"Topic5\", \"Topic5\", \"Topic5\", \"Topic5\", \"Topic5\", \"Topic5\", \"Topic5\", \"Topic5\", \"Topic5\", \"Topic5\", \"Topic5\", \"Topic5\", \"Topic5\", \"Topic5\", \"Topic5\", \"Topic5\", \"Topic5\", \"Topic5\", \"Topic5\", \"Topic5\", \"Topic5\", \"Topic5\", \"Topic5\", \"Topic5\", \"Topic5\", \"Topic5\", \"Topic5\", \"Topic5\", \"Topic5\", \"Topic5\", \"Topic5\", \"Topic5\", \"Topic5\", \"Topic5\", \"Topic5\", \"Topic5\", \"Topic5\", \"Topic5\", \"Topic5\", \"Topic5\", \"Topic5\", \"Topic5\", \"Topic5\", \"Topic5\", \"Topic5\", \"Topic5\", \"Topic5\", \"Topic5\", \"Topic5\", \"Topic5\", \"Topic5\", \"Topic6\", \"Topic6\", \"Topic6\", \"Topic6\", \"Topic6\", \"Topic6\", \"Topic6\", \"Topic6\", \"Topic6\", \"Topic6\", \"Topic6\", \"Topic6\", \"Topic6\", \"Topic6\", \"Topic6\", \"Topic6\", \"Topic6\", \"Topic6\", \"Topic6\", \"Topic6\", \"Topic6\", \"Topic6\", \"Topic6\", \"Topic6\", \"Topic6\", \"Topic6\", \"Topic6\", \"Topic6\", \"Topic6\", \"Topic6\", \"Topic6\", \"Topic6\", \"Topic6\", \"Topic6\", \"Topic6\", \"Topic6\", \"Topic6\", \"Topic6\", \"Topic6\", \"Topic6\", \"Topic6\", \"Topic6\", \"Topic6\", \"Topic6\", \"Topic6\", \"Topic6\", \"Topic6\", \"Topic6\", \"Topic6\", \"Topic6\", \"Topic6\", \"Topic6\", \"Topic6\", \"Topic6\", \"Topic6\", \"Topic6\", \"Topic6\", \"Topic6\", \"Topic6\", \"Topic6\", \"Topic6\", \"Topic6\", \"Topic6\", \"Topic6\", \"Topic6\", \"Topic6\", \"Topic6\", \"Topic6\", \"Topic6\", \"Topic6\", \"Topic6\", \"Topic6\", \"Topic6\", \"Topic6\", \"Topic6\", \"Topic6\", \"Topic6\", \"Topic6\", \"Topic6\", \"Topic6\", \"Topic7\", \"Topic7\", \"Topic7\", \"Topic7\", \"Topic7\", \"Topic7\", \"Topic7\", \"Topic7\", \"Topic7\", \"Topic7\", \"Topic7\", \"Topic7\", \"Topic7\", \"Topic7\", \"Topic7\", \"Topic7\", \"Topic7\", \"Topic7\", \"Topic7\", \"Topic7\", \"Topic7\", \"Topic7\", \"Topic7\", \"Topic7\", \"Topic7\", \"Topic7\", \"Topic7\", \"Topic7\", \"Topic7\", \"Topic7\", \"Topic7\", \"Topic7\", \"Topic7\", \"Topic7\", \"Topic7\", \"Topic7\", \"Topic7\", \"Topic7\", \"Topic7\", \"Topic7\", \"Topic7\", \"Topic7\", \"Topic7\", \"Topic7\", \"Topic7\", \"Topic7\", \"Topic7\", \"Topic7\", \"Topic7\", \"Topic7\", \"Topic7\", \"Topic7\", \"Topic7\", \"Topic7\", \"Topic7\", \"Topic7\", \"Topic7\", \"Topic7\", \"Topic7\", \"Topic7\", \"Topic7\", \"Topic7\", \"Topic7\", \"Topic7\", \"Topic7\", \"Topic7\", \"Topic7\", \"Topic7\", \"Topic7\", \"Topic7\", \"Topic7\", \"Topic7\", \"Topic7\", \"Topic8\", \"Topic8\", \"Topic8\", \"Topic8\", \"Topic8\", \"Topic8\", \"Topic8\", \"Topic8\", \"Topic8\", \"Topic8\", \"Topic8\", \"Topic8\", \"Topic8\", \"Topic8\", \"Topic8\", \"Topic8\", \"Topic8\", \"Topic8\", \"Topic8\", \"Topic8\", \"Topic8\", \"Topic8\", \"Topic8\", \"Topic8\", \"Topic8\", \"Topic8\", \"Topic8\", \"Topic8\", \"Topic8\", \"Topic8\", \"Topic8\", \"Topic8\", \"Topic8\", \"Topic8\", \"Topic8\", \"Topic8\", \"Topic8\", \"Topic8\", \"Topic8\", \"Topic8\", \"Topic8\", \"Topic8\", \"Topic8\", \"Topic8\", \"Topic8\", \"Topic8\", \"Topic8\", \"Topic8\", \"Topic8\", \"Topic8\", \"Topic8\", \"Topic8\", \"Topic8\", \"Topic8\", \"Topic8\", \"Topic8\", \"Topic8\", \"Topic8\", \"Topic8\", \"Topic8\", \"Topic8\", \"Topic8\", \"Topic8\", \"Topic8\", \"Topic8\", \"Topic8\", \"Topic8\", \"Topic8\", \"Topic8\", \"Topic8\", \"Topic8\", \"Topic8\", \"Topic8\", \"Topic8\", \"Topic8\", \"Topic8\", \"Topic8\", \"Topic8\", \"Topic8\", \"Topic8\", \"Topic8\", \"Topic8\", \"Topic8\", \"Topic9\", \"Topic9\", \"Topic9\", \"Topic9\", \"Topic9\", \"Topic9\", \"Topic9\", \"Topic9\", \"Topic9\", \"Topic9\", \"Topic9\", \"Topic9\", \"Topic9\", \"Topic9\", \"Topic9\", \"Topic9\", \"Topic9\", \"Topic9\", \"Topic9\", \"Topic9\", \"Topic9\", \"Topic9\", \"Topic9\", \"Topic9\", \"Topic9\", \"Topic9\", \"Topic9\", \"Topic9\", \"Topic9\", \"Topic9\", \"Topic9\", \"Topic9\", \"Topic9\", \"Topic9\", \"Topic9\", \"Topic9\", \"Topic9\", \"Topic9\", \"Topic9\", \"Topic9\", \"Topic9\", \"Topic9\", \"Topic9\", \"Topic9\", \"Topic9\", \"Topic9\", \"Topic9\", \"Topic9\", \"Topic9\", \"Topic9\", \"Topic9\", \"Topic9\", \"Topic9\", \"Topic9\", \"Topic9\", \"Topic9\", \"Topic9\", \"Topic9\", \"Topic9\", \"Topic9\", \"Topic9\", \"Topic9\", \"Topic9\", \"Topic9\", \"Topic9\", \"Topic9\", \"Topic9\", \"Topic9\", \"Topic9\", \"Topic9\", \"Topic9\", \"Topic9\", \"Topic9\", \"Topic10\", \"Topic10\", \"Topic10\", \"Topic10\", \"Topic10\", \"Topic10\", \"Topic10\", \"Topic10\", \"Topic10\", \"Topic10\", \"Topic10\", \"Topic10\", \"Topic10\", \"Topic10\", \"Topic10\", \"Topic10\", \"Topic10\", \"Topic10\", \"Topic10\", \"Topic10\", \"Topic10\", \"Topic10\", \"Topic10\", \"Topic10\", \"Topic10\", \"Topic10\", \"Topic10\", \"Topic10\", \"Topic10\", \"Topic10\", \"Topic10\", \"Topic10\", \"Topic10\", \"Topic10\", \"Topic10\", \"Topic10\", \"Topic10\", \"Topic10\", \"Topic10\", \"Topic10\", \"Topic10\", \"Topic10\", \"Topic10\", \"Topic10\", \"Topic10\", \"Topic10\", \"Topic10\", \"Topic10\", \"Topic10\", \"Topic10\", \"Topic10\", \"Topic10\", \"Topic10\", \"Topic10\", \"Topic10\", \"Topic10\", \"Topic10\", \"Topic10\", \"Topic10\", \"Topic10\", \"Topic10\", \"Topic10\", \"Topic10\", \"Topic10\", \"Topic10\", \"Topic10\", \"Topic10\"], \"Freq\": [49.0, 41.0, 73.0, 78.0, 134.0, 36.0, 16.0, 66.0, 68.0, 28.0, 114.0, 27.0, 14.0, 13.0, 29.0, 26.0, 40.0, 29.0, 12.0, 27.0, 63.0, 43.0, 6.0, 113.0, 20.0, 31.0, 19.0, 23.0, 16.0, 6.0, 4.289187974781767, 4.265398116023072, 4.241436355433462, 4.241224842111637, 6.4451235453385705, 5.553644344896599, 3.9349165306100424, 2.196903882510297, 2.1969037029795038, 2.196903247283882, 2.1969024096298218, 2.196900906331344, 2.1969004742893214, 2.1968953897494137, 3.562966231782824, 9.663385404093155, 2.7191233517446514, 2.621402132043761, 1.9813110982728404, 1.947682677355834, 1.9388033846892678, 1.936319674032428, 3.802245248386271, 1.9322904463879547, 1.9088277267888567, 1.9077817608238758, 1.905498152542504, 1.9017904545921491, 2.5583387974759346, 1.827868578406862, 3.641661891437788, 4.109877243400488, 28.21154989436993, 5.506730810255168, 32.510282430123226, 10.962607786627144, 8.890130387926543, 9.422730672553586, 29.165569337117976, 17.97738095294236, 40.966468088268265, 13.4504490173913, 42.70536007837262, 5.748775138233274, 7.360583715084232, 15.854419767444849, 21.726612927717547, 6.380279282741834, 9.958598989219213, 5.466569148481234, 14.816763557428196, 14.66497670303995, 7.882705090066533, 12.69857722813355, 15.89746914224518, 11.635527635539914, 17.383364226121365, 11.92432336952019, 10.73119466946418, 14.752576461842963, 14.164607408026175, 12.350676550518607, 20.36082689568367, 12.142409912205933, 14.304307693027013, 12.65282318994748, 10.50424233793215, 10.932326628402627, 10.454830293794641, 10.975101682201808, 10.142818410172278, 3.728584295415283, 1.9097630773304732, 1.9097607997334272, 1.877660253076787, 1.8764918255752405, 4.167476219039492, 2.405556190766455, 2.1861219410498975, 1.681110770278727, 2.000886965931002, 3.8688187401770318, 2.6625020074209584, 2.603776087820893, 2.0337723337210067, 1.000352463265813, 1.0003523891518136, 1.0003523509841146, 1.0003522647201193, 1.000352198311602, 1.000352063493668, 1.0003521085972726, 1.000352045240996, 1.00035202483891, 1.0003518872417823, 1.0003514271252827, 1.0003513421645953, 1.0003511703832912, 1.000351078290028, 1.0003509007811708, 1.0003507269186562, 4.6622233776767, 2.433868683247774, 2.4450859801639235, 2.412066691742946, 4.139727668421593, 8.607504274743928, 1.4057749239140758, 1.8965022101447804, 8.684703995119165, 3.5763777919537443, 2.4301747061840584, 4.772222570012551, 3.985789887596961, 2.6543046713976612, 3.452417861959345, 2.2101180251319006, 7.501445358212902, 6.578181678887453, 7.327733922072478, 4.594313289177528, 10.447384970167823, 7.970011921770168, 10.625284487286713, 6.60859061480551, 18.995623506306856, 14.186658141836867, 6.630418785410504, 10.689872426630975, 13.427376762185856, 10.015509518376033, 10.187759852584682, 9.191569752381042, 4.471612340528931, 10.729512922249015, 8.737497324598282, 17.593538760500973, 7.457794123008713, 12.752056988663405, 8.628827090874502, 10.496760243515284, 10.374164908243422, 6.221689864315267, 9.281677249921534, 6.210503995915164, 6.70669681777995, 10.714327441640929, 7.79029141517088, 9.400066933264142, 4.019134903458268, 2.443005598736818, 2.4430031597927475, 2.9115106382031377, 1.6549418419999395, 1.6549376701088008, 1.6549372167801035, 1.6549366616105428, 1.6549352511465338, 1.6534236005371985, 2.1335218002072387, 1.5375421768201536, 1.5223830855101899, 2.529455193464163, 1.4860405128043388, 1.473349056149573, 4.019138728202191, 2.4516414409131415, 2.5461059658984473, 1.3917796026116165, 4.766332692954324, 1.4012841599458306, 1.4155912711640148, 1.3527101816118323, 2.350670536392593, 7.0186281417692875, 1.3213239129442185, 2.618072530425904, 1.2907183927253874, 1.9197919039142948, 2.4430073074271323, 12.827563358845564, 3.1697285002140148, 3.8009898100217403, 5.122191747652584, 2.560445628271593, 2.9361553315116042, 3.3976886500197048, 4.4529593154091485, 3.971255032313675, 6.50136541003902, 12.01416573322454, 4.900256300276492, 8.383788888012287, 20.638356051531353, 14.008557927142139, 5.591385545843817, 5.460248790155998, 8.064733882168728, 6.62941832307595, 8.724594717808873, 8.619178477660618, 12.89951098223034, 13.146297029850013, 8.783880254577271, 7.437450198803256, 10.900671765273204, 9.219428904129625, 7.9084282602897, 6.7734442886609685, 7.996990299702663, 5.251051657511799, 12.364433452653511, 8.096385813245863, 7.378133039131911, 6.541949165467002, 5.811068347053619, 6.77159603040844, 6.1109296182914505, 5.745439762942066, 5.542900292718734, 2.6605440966807388, 4.2696961823005735, 1.8023310063234907, 1.8023018982210661, 1.8022736149552407, 2.3669392383613324, 3.5187457707598253, 1.7704232760303364, 1.7676753816856947, 1.7673456616836818, 1.765342832450252, 1.742802371780877, 9.2517094762036, 2.2536610118794584, 2.253734911139059, 1.7084013581580888, 2.784049018200393, 1.6738459087193789, 1.681957671586297, 4.246541445342652, 2.5792684890365445, 1.5299051078479997, 7.406760453547495, 3.5284388219349205, 1.4729847050531288, 1.4652606209166876, 8.329696424522806, 1.4449676009249848, 1.4411857509663706, 4.986670308860771, 4.731853200850089, 4.099539255400831, 3.6178624347362587, 2.875530428149356, 3.7369780062783224, 4.349294757600731, 12.154675682337857, 9.500864723720289, 5.909153249569807, 4.021695912439216, 8.003585293481308, 6.256206108479184, 3.640230602766496, 3.794805381707806, 6.45488098061231, 5.942079280394534, 3.9100112660495414, 9.794444617842128, 7.651766922228, 5.149128649272211, 5.820111622673646, 7.3085564855644645, 9.760283497566132, 8.767792176651707, 5.522515046045863, 6.300439355028619, 9.12032239669534, 5.189579735903407, 5.770352938054893, 6.32404743730941, 5.972733876720234, 7.237693716479903, 9.110979613176907, 7.546994322240875, 6.58898548584191, 7.562049703853485, 6.002705220463175, 5.862220065741007, 5.964840014131313, 5.751538230783434, 4.951566920500784, 3.4312459349976017, 3.2614695807699032, 2.5324879815302728, 2.941101854850402, 1.757477414606851, 1.7574735864361968, 1.7574712179939158, 1.7574704949216464, 1.757470171196156, 1.7574697233053662, 1.7574644708272051, 1.7160877497021527, 1.71131076422294, 1.675061360245421, 2.5591853423553683, 1.5525064641538209, 3.77492011622465, 2.106145912500611, 3.729344130926809, 1.460066544854666, 6.29936029249999, 1.8733653052420587, 1.764410723704492, 1.756507185156084, 0.9205847179178531, 0.9205843436971831, 0.9205840267511843, 0.9205833733220516, 0.9205831440333174, 3.4940541823779423, 3.285841800014381, 5.440241678471906, 2.585220217482111, 2.132893399838767, 3.4086369737454008, 15.42966502729112, 3.359982575062485, 8.891535243700998, 28.928728138720622, 8.12596627115696, 8.805864899024881, 4.961926587464156, 3.923410190027838, 4.841774574751828, 3.4456643931239213, 14.521624480896234, 3.133455111243422, 4.49930091785752, 3.3795449808153664, 2.594366571302644, 6.157697448197677, 7.184007625211156, 6.616667592465509, 8.18741563634834, 7.674735928789199, 8.403930589208361, 7.59708759283119, 9.0925089252206, 6.834597910396615, 5.967504467076438, 4.425294679028956, 6.745450777143691, 5.799002737121948, 5.715731408391447, 5.4691336262268235, 4.831315415011275, 5.622047256724532, 4.4317327180776065, 4.817675824395711, 4.699873695389868, 4.765633616893587, 3.3905833894086252, 1.8777473260209832, 1.3774983813217279, 1.3603731161210455, 1.3200228340995392, 1.2972414162274921, 1.749394365549778, 1.2862027890338013, 1.3018064254792, 1.2694851930732471, 2.949496869590761, 1.2068314153510789, 0.789650890056919, 0.789650616520193, 0.7896500973417921, 0.7896497363640177, 0.7896494566753137, 0.7896493925877537, 0.7896492887399068, 0.7896491182263536, 0.7896485565046006, 0.7896484557393371, 0.7896474993198304, 0.7896471375314724, 0.7896470192444589, 0.7896466179386654, 1.1957543658101029, 1.1644453610797636, 1.5075129648386028, 1.1389158964178414, 3.424643458440871, 2.5868173471431906, 2.555028695291893, 1.7417279026432877, 1.5075104661428904, 4.051685073847059, 2.0883151543080496, 1.7767715823541235, 3.8250410857332153, 1.4197953369154879, 1.9662469792947688, 2.5004227296536294, 3.1448747644343253, 1.407549645509069, 4.894671026805862, 9.448905807526167, 3.927459739018024, 4.440422090250328, 18.01969839521741, 7.525288460794218, 3.130763831390489, 7.840331961598993, 6.146858258597372, 4.486066743330676, 6.7400903725737065, 4.598944688754691, 3.674100499432019, 8.11217839334319, 2.6573162571223667, 9.95318136341354, 5.644801044264446, 4.261261235334535, 7.08110064500797, 5.851313826816474, 10.828750293908039, 7.006096701448403, 5.08753608255789, 6.439715623222672, 6.49398520770007, 5.120132578073381, 6.819072354340696, 5.392360703956199, 5.5046035823700326, 5.455983217151014, 4.909044221158348, 5.0609522923914945, 5.384349881837118, 4.567715349986628, 5.022848264156779, 5.093188120287728, 2.9491914382274436, 2.3564835202957344, 2.264821505534131, 1.596641588637154, 1.596641149143364, 1.5889901036032235, 1.5845147747719253, 1.5555621920199174, 1.5496546150724484, 1.5455574067757059, 3.7779113374427955, 2.3401703928292985, 1.9723596647501311, 2.49721248361844, 1.954962698302633, 1.303067255541071, 1.7217647415528674, 1.2315061610376918, 1.714624301839788, 1.275198903389371, 1.2730767088858759, 1.2572944616474142, 2.182310837688417, 0.8363361823759388, 0.8363353020273313, 0.8361945968364833, 0.8361890238798017, 1.6761664556322358, 0.832394525244716, 0.8315992727212965, 5.0728634623196935, 1.6591823481515795, 2.9093969445918475, 1.9852218171816836, 1.2667386083972243, 2.318717790833781, 3.143154296113944, 3.1167043878335607, 2.3749494613903903, 11.43778410697195, 3.6088656307420734, 10.164578173598079, 3.75785623035819, 7.175312698937369, 9.64994556325594, 4.249600296991858, 3.5169378565743585, 6.703707612478132, 12.221673000097365, 12.979589070625458, 4.97523102647247, 4.967271732558175, 5.726439833205868, 5.116455230944779, 3.9292952170386304, 7.306468673635258, 5.673351518733538, 6.190794955899318, 4.7228114016430265, 5.352510393532846, 4.318417399995723, 5.77909024933453, 5.667390399221786, 5.692508397432712, 5.020948821835605, 4.804356007097651, 5.841624629931703, 6.3570973869248375, 4.669079549453275, 4.195550488628985, 4.655301541578364, 4.621337221046501, 4.370655068870573, 1.591677478973118, 1.5916762850562864, 1.5916741945948587, 1.423891937042798, 2.73260713113271, 1.3798767432886196, 1.85873147032501, 1.3662758812953266, 1.3440962754925674, 2.1828546864460114, 1.772347001960597, 1.2795858627378704, 0.8337366842691587, 0.8337360663765739, 0.8337359996052917, 0.8337359192022161, 0.8337358116737668, 0.8337356759641906, 0.8337351130484875, 0.8337346471656152, 0.833734601665298, 0.8337340407523292, 0.8337339593482317, 0.8337339343880452, 0.8337338635046471, 0.8337337516727662, 0.8337337274312118, 0.8337337391029395, 0.8337335397156753, 0.8337334899737009, 1.6799553430860394, 3.7418603804749613, 1.6669996091864205, 1.654073176888447, 2.0434529649529223, 2.4576698540447612, 2.988965156146514, 2.9614857853755687, 2.186184593625454, 3.0058310084463464, 1.7678036864269147, 1.9770800986658796, 1.8503838822437688, 1.8020668945097686, 6.457858419449921, 1.807659585412518, 2.483634554446015, 1.458906232645396, 9.599213311005132, 11.516996742564482, 2.751220845378313, 3.6740799141485105, 3.2660323070718467, 6.58041212280469, 8.969583505499735, 8.287736900917604, 7.817157683848153, 10.400143878690626, 3.282230315009807, 3.7641466385121976, 6.696191423819775, 5.363300273221611, 11.189274978756172, 10.232120772249099, 4.391418184272085, 4.574389929461231, 7.1748451966840605, 5.2222773852998765, 4.648769507060897, 5.277831806888942, 6.688631424179272, 4.145440352154383, 5.02035416527533, 4.524812555960326, 7.07379495093583, 4.734202044094659, 5.3331507686969, 4.3705996295901794, 5.036688745505718, 4.443218188631508, 4.632873388682784, 4.450923390894672, 4.189645627397952, 1.3005551855246482, 1.2233322230380417, 1.6424441389889464, 1.1540544770540062, 1.1415417603988225, 3.519402357809507, 0.6812448946101161, 0.6812444603595288, 0.6812442895193513, 0.6812442096167624, 0.6812440677006135, 0.6812439386986395, 0.6812438023631223, 0.6812434889723887, 0.6812433297568672, 0.6812433159824816, 0.6812429282833897, 0.6812426182168864, 1.300559108667469, 1.3005581254468819, 0.6276074082572128, 1.9198742531437323, 0.6213303108282696, 0.6115932948477448, 1.23174621587644, 0.6087140831320367, 0.6072155324830151, 0.5998635084020796, 1.300557338904955, 0.5916082662453449, 2.548042375157486, 1.1795258290210313, 4.23434711631155, 1.0722966425840386, 3.725368673565719, 1.3089991827191172, 1.1248863519490897, 1.2581254377035074, 2.746939412326234, 2.013218352861863, 1.2624195216730925, 2.3124114765076533, 2.191984526619407, 1.0668862750458346, 1.7483360725864228, 1.3334197928638771, 1.3411529028153926, 1.1873746290484963, 2.1458668073601923, 2.8432707836651847, 2.235146491413067, 1.8845855018300006, 4.167538050003885, 3.3961287244178866, 2.7193637548019187, 1.8235639756043451, 2.7288904539773218, 2.8998785634022193, 2.222529871566064, 1.850626465791774, 2.43177450642666, 2.778417589585602, 1.928594410984145, 2.536449774867102, 2.022784768820619, 2.447607997450516, 2.2869389397740107, 2.157517276020257, 2.102594843547183, 2.2059348508350625, 2.0316737011494186, 2.102092345410667, 1.9442732358398478, 0.947428844030003, 1.5008184344577633, 2.9780446195121226, 1.2155231259162345, 2.3913191465259724, 1.0910486089453428, 0.5346512392352843, 0.5346511549563514, 0.5346511303757772, 0.5346509539433918, 0.5346505520825784, 0.5346504515713716, 0.5346503200878104, 0.5346500366839517, 0.5346499376279165, 0.534649765280844, 0.5346496265753444, 0.5346493728615851, 0.5346492616860854, 0.5346490711091236, 1.020695100624437, 1.580955174877448, 1.3116241073509292, 0.4869849920946963, 1.2425263019723198, 0.4816532069657508, 0.48150790443791586, 0.7288812304941327, 0.46612088643285055, 0.6803788108065758, 1.0347535411079836, 3.9825846020051663, 2.5827864625142127, 0.6881862456656157, 1.5436302875332075, 1.3351030904395986, 3.7690276672157728, 2.9873879175800284, 0.9696339426675878, 2.9116720253198682, 1.2430532308764992, 1.8341531145996535, 4.314232250150359, 4.375606100125, 2.811515013404171, 3.063153165940692, 1.0047483785600848, 0.8938618826508024, 2.3776454709529893, 1.5412785447392854, 2.7392400697469172, 3.567635395532793, 2.736543983007406, 3.1117282707496665, 3.8332954005101603, 3.5997130130789765, 2.1094210569793854, 2.0099253970729185, 2.162205815121015, 1.8707344189128203, 1.66089150389283, 1.7420782020741465, 1.8072900882951275, 1.8734879338516406, 1.7346755928230317, 1.6572045732801979, 1.628805309640895], \"Term\": [\"fire\", \"test\", \"arafat\", \"afghanistan\", \"australia\", \"afghan\", \"detainees\", \"security\", \"police\", \"metres\", \"government\", \"hamas\", \"airport\", \"space\", \"group\", \"tora_bora\", \"force\", \"india\", \"flight\", \"qantas\", \"year\", \"israeli\", \"reid\", \"people\", \"radio\", \"centre\", \"river\", \"child\", \"kandahar\", \"virus\", \"cow\", \"soccer\", \"farina\", \"knop\", \"asic\", \"lording\", \"derrick\", \"senator\", \"rich\", \"bourne\", \"tel\", \"kerry\", \"greens\", \"nettle\", \"rudd\", \"hicks\", \"securities\", \"presidency\", \"quit\", \"facts\", \"workloads\", \"branches\", \"harris\", \"suit\", \"stunts\", \"balance\", \"industrial\", \"overtime\", \"withdrawal\", \"treason\", \"westpac\", \"cease_fire\", \"man\", \"david_hicks\", \"afghanistan\", \"sharon\", \"pay\", \"board\", \"arafat\", \"force\", \"government\", \"peace\", \"australia\", \"downer\", \"training\", \"commission\", \"security\", \"collapse\", \"terrorism\", \"senator_hill\", \"israeli\", \"attacks\", \"plans\", \"hours\", \"forces\", \"months\", \"today\", \"meeting\", \"union\", \"company\", \"days\", \"president\", \"people\", \"taliban\", \"united_states\", \"officials\", \"war\", \"action\", \"israel\", \"police\", \"years\", \"almao\", \"macapa\", \"seamaster\", \"ismail\", \"eden\", \"products\", \"tyco\", \"robertson\", \"carr\", \"paedophiles\", \"yallourn\", \"yacht\", \"losses\", \"winter\", \"denise\", \"hillary\", \"feels\", \"waters\", \"utmost\", \"edmund\", \"proceeding\", \"joyce\", \"grudge\", \"impression\", \"brazilians\", \"rocks\", \"chairs\", \"accommodation\", \"objects\", \"inhalation\", \"ramallah\", \"electricity\", \"skipper\", \"brain\", \"rural_fire\", \"fires\", \"grocery\", \"hills\", \"winds\", \"property\", \"apache\", \"blake\", \"sydney_hobart\", \"yacht_race\", \"bus_ambush\", \"centuries\", \"station\", \"coast\", \"north\", \"back\", \"west_bank\", \"firefighters\", \"areas\", \"town\", \"police\", \"sydney\", \"damage\", \"new_south\", \"fire\", \"wales\", \"state\", \"team\", \"sea\", \"israeli\", \"authority\", \"people\", \"militants\", \"arafat\", \"israel\", \"today\", \"security\", \"radio\", \"year\", \"services\", \"power\", \"australia\", \"officials\", \"government\", \"treasurer\", \"nelson\", \"razor\", \"hawthorne\", \"gibbs\", \"pickup\", \"bradstreet\", \"dun\", \"sales\", \"lavarch\", \"lew\", \"yes\", \"host\", \"casinos\", \"profit\", \"servant\", \"costello\", \"practices\", \"macfarlane\", \"buses\", \"reserve_bank\", \"mcreddie\", \"mentha\", \"nobel\", \"taxpayers\", \"cancer\", \"scheme\", \"focus\", \"guerrilla\", \"dixon\", \"gang\", \"tora_bora\", \"cut\", \"quarter\", \"wicket\", \"henderson\", \"lung\", \"hayden\", \"ansett\", \"musharraf\", \"airline\", \"cent\", \"qaeda_fighters\", \"power\", \"government\", \"year\", \"general\", \"official\", \"qantas\", \"qaeda\", \"laden\", \"afghan\", \"arafat\", \"afghanistan\", \"israel\", \"metres\", \"united_states\", \"world\", \"pakistan\", \"hamas\", \"force\", \"bin_laden\", \"australia\", \"forces\", \"israeli\", \"attack\", \"area\", \"people\", \"time\", \"officials\", \"areas\", \"breathing\", \"switzerland\", \"freeman\", \"oxygen\", \"drip\", \"abegglen\", \"doctors\", \"trips\", \"wrongdoing\", \"supervisors\", \"catastrophe\", \"sorrow\", \"space\", \"stefan\", \"wiget\", \"sri\", \"procedure\", \"abortion\", \"ceasefire\", \"shuttle\", \"redmond\", \"vicario\", \"guides\", \"races\", \"sanchez\", \"moulin\", \"event\", \"slam\", \"golden\", \"suharto\", \"endeavour\", \"verdict\", \"petrol\", \"kieren\", \"doubles\", \"trip\", \"metres\", \"court\", \"adventure_world\", \"condition\", \"river\", \"cup\", \"debate\", \"interlaken\", \"water\", \"bill\", \"accident\", \"yesterday\", \"melbourne\", \"crew\", \"conditions\", \"qantas\", \"day\", \"taliban\", \"station\", \"child\", \"today\", \"weather\", \"family\", \"team\", \"workers\", \"days\", \"australia\", \"police\", \"time\", \"people\", \"members\", \"test\", \"united_states\", \"world\", \"farmers\", \"boje\", \"truss\", \"iraq\", \"mcmenamin\", \"shepherd\", \"richter\", \"quake\", \"nicky\", \"burakin\", \"earthquake\", \"western\", \"butler\", \"factories\", \"subsidies\", \"cahill\", \"tours\", \"explanation\", \"razzak\", \"afroz\", \"prostitutes\", \"sex\", \"palmerston\", \"bradford\", \"stoltenberg\", \"bishops\", \"scandal\", \"jim\", \"advocates\", \"shepherds\", \"cost\", \"projects\", \"lee\", \"farm\", \"needs\", \"factory\", \"test\", \"questions\", \"child\", \"australia\", \"south_africa\", \"india\", \"innings\", \"wickets\", \"hollingworth\", \"population\", \"people\", \"brett_lee\", \"abuse\", \"crean\", \"goshen\", \"match\", \"pakistan\", \"report\", \"time\", \"day\", \"police\", \"year\", \"government\", \"united_states\", \"yesterday\", \"health\", \"today\", \"years\", \"action\", \"south\", \"place\", \"company\", \"new_zealand\", \"number\", \"children\", \"man\", \"drug\", \"spills\", \"demonstrators\", \"reactor\", \"spill\", \"mcgauran\", \"ideas\", \"prosecution\", \"campaigns\", \"phillip\", \"tailenders\", \"portfolios\", \"reith\", \"fairness\", \"submissions\", \"submission\", \"bills\", \"margins\", \"departments\", \"agreements\", \"rome\", \"distribution\", \"stoppages\", \"mental\", \"killer\", \"cranky\", \"juan\", \"views\", \"estimate\", \"wolthuizen\", \"virus\", \"oil\", \"king\", \"user\", \"gabriel\", \"parties\", \"sultan\", \"collins\", \"waugh\", \"guards\", \"marines\", \"wind\", \"bowling\", \"wran\", \"kandahar\", \"test\", \"side\", \"boat\", \"people\", \"pakistan\", \"nauru\", \"commission\", \"melbourne\", \"country\", \"new_south\", \"opposition\", \"deaths\", \"forces\", \"boxing_day\", \"afghanistan\", \"way\", \"lot\", \"sydney\", \"wales\", \"government\", \"day\", \"match\", \"taliban\", \"company\", \"union\", \"security\", \"afghan\", \"action\", \"yesterday\", \"group\", \"morning\", \"united_states\", \"workers\", \"days\", \"australia\", \"chechen\", \"megawati\", \"raduyev\", \"hijackings\", \"missile\", \"chain\", \"mcdonald\", \"hostage\", \"salman\", \"dagestan\", \"world_heritage\", \"center\", \"sinai\", \"imf\", \"templeton\", \"locals\", \"alei\", \"segment\", \"sheldon\", \"typhoid\", \"commitment\", \"tank\", \"antarctic\", \"participant\", \"conspiracy\", \"indonesian\", \"sukarnoputri\", \"mitsubishi\", \"jeff\", \"sale\", \"howard\", \"administrator\", \"traveland\", \"moussaoui\", \"schneiders\", \"gambier\", \"lockett\", \"indonesia\", \"summit\", \"fire\", \"world_trade\", \"attacks\", \"boy\", \"centre\", \"company\", \"plane\", \"management\", \"laden\", \"people\", \"australia\", \"john\", \"christmas\", \"area\", \"number\", \"aircraft\", \"today\", \"morning\", \"day\", \"qantas\", \"cent\", \"army\", \"united_states\", \"man\", \"year\", \"president\", \"meeting\", \"afghanistan\", \"government\", \"south\", \"month\", \"taliban\", \"world\", \"time\", \"caird\", \"stoppage\", \"amalgamation\", \"lawrence\", \"rabbani\", \"alp\", \"dfat\", \"recognition\", \"campbell\", \"first\", \"saadi\", \"kentucky\", \"bankruptcy\", \"initiative\", \"wendy\", \"shareholders\", \"outsource\", \"cheaper\", \"opportunities\", \"teargas\", \"domingo\", \"outlets\", \"stone\", \"cavallo\", \"looting\", \"discontent\", \"chairmen\", \"muscle\", \"complaints\", \"liberal\", \"fort\", \"lockett\", \"music\", \"memory\", \"ticket\", \"factions\", \"bonn\", \"club\", \"document\", \"coalition\", \"jan\", \"gutnick\", \"palace\", \"swans\", \"party\", \"draft\", \"explosives\", \"firms\", \"afghan\", \"fire\", \"tony\", \"sector\", \"gunmen\", \"india\", \"time\", \"forces\", \"officials\", \"afghanistan\", \"harrison\", \"jobs\", \"president\", \"hamas\", \"people\", \"government\", \"labor\", \"economy\", \"security\", \"week\", \"militants\", \"members\", \"police\", \"house\", \"years\", \"union\", \"australia\", \"meeting\", \"man\", \"staff\", \"arafat\", \"sydney\", \"today\", \"days\", \"year\", \"sand\", \"murders\", \"boston\", \"los\", \"palos\", \"reid\", \"logan\", \"hermansburg\", \"jetliner\", \"sulphur\", \"beacon\", \"kinton\", \"finke\", \"sank\", \"tom\", \"mantravelling\", \"fbi\", \"smell\", \"individual\", \"attendants\", \"nuns\", \"vehicle\", \"judges\", \"priests\", \"lali\", \"torture\", \"persecution\", \"deportation\", \"rescue\", \"massacre\", \"virus\", \"panel\", \"airport\", \"baker\", \"flight\", \"gul\", \"crimes\", \"agha\", \"mission\", \"macgill\", \"selectors\", \"zinni\", \"tourists\", \"miami\", \"vote\", \"jail\", \"shoes\", \"independence\", \"line\", \"city\", \"violence\", \"bowler\", \"people\", \"police\", \"members\", \"east_timor\", \"israeli\", \"security\", \"match\", \"abuse\", \"test\", \"arafat\", \"kandahar\", \"united_states\", \"adelaide\", \"company\", \"taliban\", \"meeting\", \"years\", \"today\", \"team\", \"day\", \"australia\", \"cannon\", \"suspension\", \"zimbabwe\", \"sentence\", \"seles\", \"ministerial\", \"riot\", \"stitches\", \"acts\", \"gear\", \"torching\", \"juvenile\", \"standby\", \"compression\", \"compounds\", \"wallace\", \"star\", \"orphan\", \"stationery\", \"dale\", \"teenager\", \"coroner\", \"razzano\", \"harare\", \"gambill\", \"invasions\", \"farms\", \"lawyer\", \"fresh\", \"arnaud\", \"detention\", \"detainees\", \"commonwealth\", \"privacy\", \"right\", \"woomera_detention\", \"group\", \"radio\", \"minutes\", \"children\", \"data\", \"buildings\", \"year\", \"security\", \"centre\", \"action\", \"project\", \"ambulance\", \"hamas\", \"boy\", \"years\", \"arafat\", \"force\", \"police\", \"australia\", \"government\", \"morning\", \"staff\", \"time\", \"number\", \"agreement\", \"south\", \"world\", \"today\", \"meeting\", \"attacks\", \"day\"], \"Total\": [49.0, 41.0, 73.0, 78.0, 134.0, 36.0, 16.0, 66.0, 68.0, 28.0, 114.0, 27.0, 14.0, 13.0, 29.0, 26.0, 40.0, 29.0, 12.0, 27.0, 63.0, 43.0, 6.0, 113.0, 20.0, 31.0, 19.0, 23.0, 16.0, 6.0, 4.962623159318535, 4.956069521038685, 4.949468253048771, 4.949410052200763, 7.778795352576804, 6.888797600322692, 4.891494793577753, 2.870326206186136, 2.8703262664293367, 2.8703261432174862, 2.870325834428798, 2.870325326303326, 2.870325456206221, 2.8703238403740743, 4.759904932723742, 13.278089639400632, 3.7377926256228946, 3.7452169842413894, 2.8409157333128845, 2.7997780823504805, 2.8185066739509663, 2.8180694498636467, 5.538950976511294, 2.8171915780224115, 2.812438815770403, 2.8123233921419364, 2.8118714886551293, 2.8110725810215684, 3.782635743117863, 2.766108915667031, 5.620078011067066, 6.598351147985396, 56.96602084696737, 9.242636268733674, 78.07215997370427, 21.857158757501455, 17.05255893256043, 18.61939349450195, 73.26525735593097, 40.88582137156655, 114.40143627290593, 29.234920441994348, 134.74796950276362, 10.340256493885052, 14.502865630348634, 40.98686565068366, 66.36819996545326, 12.382115526891953, 23.248047920962186, 10.107026900927195, 43.823470917737595, 43.481374296831405, 17.3783739131795, 36.34748361368354, 51.78742160694727, 32.03878534056525, 65.7312244756481, 36.152488872479196, 30.076044751972177, 53.25843228106966, 49.658740945475905, 40.604388945339174, 113.75313588714454, 42.49676738784995, 59.8399769721159, 47.069687019876326, 32.08051056465211, 38.45910685341787, 38.10790454788756, 68.87092825103377, 39.29737703128477, 4.415681744238888, 2.5968549327435966, 2.5968544072566293, 2.6016816525892392, 2.6018571607762513, 5.794194364135881, 3.4455885791030303, 3.287086724659176, 2.566038090529406, 3.1414439880688048, 6.079214382200432, 4.258015802588114, 4.314764340796702, 3.3915860217929015, 1.6874414122667243, 1.687441438192489, 1.68744143905395, 1.6874413902566505, 1.687441428388319, 1.6874413290158834, 1.687441411039846, 1.6874413880349575, 1.6874413661814363, 1.687441316318262, 1.6874412690233145, 1.6874412299799386, 1.6874411978557762, 1.6874412466936535, 1.6874412574709141, 1.6874411172281367, 7.967813532973536, 4.171563938598273, 4.198367496459255, 4.233993758309814, 7.728225996814967, 17.408823021043435, 2.436034649038224, 3.381593128382035, 17.863509404438442, 6.778898724881856, 4.43398000705663, 9.445898258452413, 7.75585241340735, 4.993996094651219, 6.721706328864289, 4.101021171348926, 16.342341043913606, 14.131898714406438, 16.748494513762896, 9.80822281546686, 28.213785337133693, 19.95974989688592, 30.35135745953148, 16.28344788900457, 68.87092825103377, 47.4608983066162, 16.9579114361152, 33.41962369865261, 49.7014195324711, 33.407279244843416, 36.04407793263905, 31.204557630366857, 10.113553060361253, 43.823470917737595, 31.794244874893717, 113.75313588714454, 25.907857665868978, 73.26525735593097, 38.10790454788756, 65.7312244756481, 66.36819996545326, 20.497116067042985, 63.18736162813484, 21.383739944499762, 28.00402252316549, 134.74796950276362, 47.069687019876326, 114.40143627290593, 4.718377161987122, 3.142237371879041, 3.1422372626947572, 3.9018395540758433, 2.3541675031853684, 2.354167378492837, 2.354167524269535, 2.354167338391632, 2.354167299107325, 2.354032478825591, 3.18215033623482, 2.343709259540195, 2.343520177279746, 3.9055925349438354, 2.348217843541394, 2.3379910718842596, 6.478758999210395, 3.9832493696424423, 4.154622637507924, 2.301116529628543, 7.89475201791075, 2.3315711611304426, 2.3598517678602517, 2.262591676084158, 3.98453754716619, 12.121033081118664, 2.2871164122204553, 4.6213374733352035, 2.291736512417941, 3.435173928385704, 4.406884734710827, 26.23157763726063, 5.865659839184297, 7.176423206313095, 10.00693045804271, 4.67290603878592, 5.698021553750468, 6.895287112074516, 10.032733662614579, 8.714518568934334, 17.378570687674802, 42.48732832840716, 11.802691818670537, 28.00402252316549, 114.40143627290593, 63.18736162813484, 15.54389203258662, 15.160113225620243, 27.914187088538178, 22.156662200266005, 35.23679583543123, 36.08849910286222, 73.26525735593097, 78.07215997370427, 38.10790454788756, 28.412807634452886, 59.8399769721159, 45.28641070243421, 35.34217744472083, 27.342069440612324, 40.88582137156655, 16.131480960844026, 134.74796950276362, 51.78742160694727, 43.823470917737595, 31.613323941251963, 35.45571526632773, 113.75313588714454, 54.47742530651364, 47.069687019876326, 30.35135745953148, 3.352785581577318, 5.756875713479713, 2.4945484025252735, 2.4945313343973576, 2.4945198567472566, 3.2796797531752904, 4.881850311489646, 2.4856639599547097, 2.4848991381969463, 2.4848077216244757, 2.4842497701753796, 2.477974642637101, 13.154926075571703, 3.235605493641186, 3.2447472740399967, 2.495836026623188, 4.125135616303347, 2.483112682061049, 2.5017241204412723, 6.537881136464594, 4.031396092508235, 2.4570123957753465, 12.099167906741256, 5.8206379969008095, 2.4488885725446705, 2.4490151799506625, 13.935311896278067, 2.4439927167020468, 2.440607952726245, 8.49982619511586, 8.20179676772425, 7.119577157585987, 6.269003607389354, 4.965867381826148, 6.6732356542931, 8.092292838594046, 28.412807634452886, 21.532814299029226, 12.076462487501678, 7.4711903112453895, 19.43070926780308, 14.178740255953027, 6.697720270988219, 7.215216256089364, 15.737564189093419, 14.2936102888018, 7.997044422822246, 41.38462382753888, 28.06790221555652, 13.969806225797587, 17.96853330215412, 27.914187088538178, 49.560787176481554, 42.49676738784995, 16.342341043913606, 23.066021294404496, 65.7312244756481, 15.668545595756846, 22.881820775391894, 31.204557630366857, 26.69157992291167, 49.658740945475905, 134.74796950276362, 68.87092825103377, 54.47742530651364, 113.75313588714454, 36.56485385945222, 41.34439304915417, 59.8399769721159, 45.28641070243421, 5.785342956626518, 4.12561674688316, 4.110061225633911, 3.294083572560202, 3.923644095936763, 2.4518232142704863, 2.45182291724713, 2.4518226763574194, 2.4518226448511222, 2.451822344375288, 2.4518225451798226, 2.4518223489847504, 2.455409994965594, 2.4558237551430793, 2.4442717449811995, 3.760018060815444, 2.367525102414185, 5.842625389847567, 3.3016483455924446, 5.928311368933259, 2.328774166790519, 10.095636146406664, 3.1012699287169636, 2.942887155638286, 2.9374659748162437, 1.6149256682358912, 1.6149256356513075, 1.6149255545866763, 1.6149255766834334, 1.614925545262191, 6.36677131198533, 6.03374062674457, 10.33089289658703, 4.75213102769, 3.928203072455201, 6.657527377099522, 41.34439304915417, 6.661265931070012, 23.066021294404496, 134.74796950276362, 23.534117068082505, 29.010218046889104, 12.671757427518088, 9.490308655439575, 14.74618012844199, 8.134385475872042, 113.75313588714454, 7.004105821852474, 13.644579264652947, 8.114650594079025, 4.9827968021133735, 25.95263700343225, 35.34217744472083, 31.847113370664424, 54.47742530651364, 49.560787176481554, 68.87092825103377, 63.18736162813484, 114.40143627290593, 59.8399769721159, 41.38462382753888, 15.797081384578679, 65.7312244756481, 39.29737703128477, 38.45910685341787, 33.26628143508356, 24.329003743985407, 53.25843228106966, 16.127568762672805, 28.61778436387433, 24.179184866614285, 56.96602084696737, 5.348488079590035, 2.964067702218396, 2.2214486974030074, 2.2224612682167866, 2.234805763691967, 2.2261937831712197, 3.014021166355867, 2.2376822870347417, 2.2684811098845894, 2.2369485809852097, 5.342543148954462, 2.2353022047064806, 1.4958947852121705, 1.4958949223019966, 1.4958949208045875, 1.4958949496700256, 1.4958950051487119, 1.4958949888525923, 1.495894959267133, 1.4958950566285838, 1.4958950974599365, 1.4958950609061488, 1.4958950510447786, 1.495895125389017, 1.4958951168270689, 1.4958953010943858, 2.2894823103988045, 2.280856033095094, 3.042866656692484, 2.2993759565093845, 6.930057176179879, 5.24797598664453, 5.352944512359942, 3.5585565770889143, 3.045495101879948, 9.400567206571747, 4.533928553447021, 3.8823942784838215, 9.844636800751362, 3.0413145702774336, 4.546301720243116, 6.103805242042273, 8.553015908850838, 3.0915731800996933, 16.511765520080935, 41.34439304915417, 12.437564205311398, 14.981963066323207, 113.75313588714454, 35.34217744472083, 9.465374302778534, 40.98686565068366, 28.06790221555652, 17.00333782688587, 33.41962369865261, 18.823712062092035, 13.077989303903774, 51.78742160694727, 7.5862456460110534, 78.07215997370427, 28.58805759335783, 17.828369726738185, 47.4608983066162, 33.407279244843416, 114.40143627290593, 49.560787176481554, 25.95263700343225, 42.49676738784995, 53.25843228106966, 30.076044751972177, 66.36819996545326, 36.08849910286222, 38.45910685341787, 41.38462382753888, 29.42000067142497, 37.60444760651726, 59.8399769721159, 26.69157992291167, 49.658740945475905, 134.74796950276362, 3.8253999557243055, 3.058999286127675, 3.062318463424564, 2.2986457138564274, 2.298645834630258, 2.2994164810997826, 2.2998667614015007, 2.300145727766805, 2.300361271335375, 2.300510971618918, 5.663184024250361, 3.603502973839034, 3.057759059312641, 3.876609409932875, 3.0730662376905458, 2.289208299506779, 3.056979818318268, 2.2051927306832844, 3.070977453497389, 2.2899194599705526, 2.310459684481131, 2.297590638802237, 3.999783802246789, 1.538336855172503, 1.538336759157075, 1.5383500571802453, 1.538350425748249, 3.0838114015034015, 1.5387338405973563, 1.5388137830380324, 9.49075120205552, 3.0915632481642037, 5.569867930513231, 3.8063797660757395, 2.4226739885753386, 4.719863525279172, 7.628616784118565, 7.809353742003664, 5.479674383096974, 49.7014195324711, 9.876147840129526, 43.481374296831405, 11.133068924944395, 31.029306080945155, 53.25843228106966, 14.004273894021312, 10.501304233755544, 35.23679583543123, 113.75313588714454, 134.74796950276362, 22.201868566160414, 22.363312684946514, 35.45571526632773, 28.61778436387433, 16.188445523397093, 65.7312244756481, 37.60444760651726, 49.560787176481554, 27.914187088538178, 42.48732832840716, 22.718470089513406, 59.8399769721159, 56.96602084696737, 63.18736162813484, 40.604388945339174, 36.152488872479196, 78.07215997370427, 114.40143627290593, 33.26628143508356, 22.284779307769735, 42.49676738784995, 45.28641070243421, 54.47742530651364, 2.2939178812650183, 2.293917818176815, 2.2939178143031174, 2.294441158708287, 4.500359852780247, 2.294578697013184, 3.1029967134000116, 2.2829117429216264, 2.3237354662273835, 3.864232782543347, 3.1578570175748353, 2.331071400791198, 1.5359728238466348, 1.5359729067244907, 1.5359728674884128, 1.5359728840551994, 1.535972792500094, 1.5359728796767653, 1.5359729137285552, 1.5359729041807397, 1.535972874423997, 1.5359728683881557, 1.535972999633029, 1.5359729614971034, 1.5359729001603473, 1.5359729447583044, 1.5359729118960468, 1.5359729873122796, 1.5359729640173283, 1.535972891801749, 3.166844532844407, 7.628616784118565, 3.302865971293966, 3.304547155792196, 4.214431878766229, 5.234817235841314, 6.653051552963567, 6.5912844799760535, 4.671073490168836, 6.770504251604176, 3.6589155136432296, 4.239669254267087, 3.9352061076855063, 3.825402314296508, 17.858472107248286, 4.013467462838304, 5.987863836498165, 3.0794454032191103, 36.08849910286222, 49.7014195324711, 7.137824401958253, 11.142056641617401, 9.497486215759583, 29.010218046889104, 54.47742530651364, 51.78742160694727, 47.069687019876326, 78.07215997370427, 10.647633961210381, 13.843552942915577, 40.604388945339174, 27.342069440612324, 113.75313588714454, 114.40143627290593, 20.390599195035197, 23.891018957775366, 66.36819996545326, 33.219450685693, 25.907857665868978, 36.56485385945222, 68.87092825103377, 20.450602207235498, 39.29737703128477, 30.076044751972177, 134.74796950276362, 36.152488872479196, 56.96602084696737, 31.351069828940506, 73.26525735593097, 47.4608983066162, 65.7312244756481, 49.658740945475905, 63.18736162813484, 2.0166643115524945, 2.031185871793591, 2.7794488625180445, 2.043284556652142, 2.045971231483099, 6.934511001165575, 1.397345598320287, 1.3973456577198786, 1.3973457145042163, 1.397345753748365, 1.3973457326776446, 1.3973457610614974, 1.3973458707006887, 1.3973459445669651, 1.3973460184716928, 1.3973461562064164, 1.3973461817299402, 1.3973462980126536, 2.7410810711499844, 2.796418295115583, 1.4070142564860326, 4.305027008700881, 1.4081931005457844, 1.4092826271023218, 2.8429133584190662, 1.4103481736553019, 1.4105740264977864, 1.4117785361735549, 3.062813044526199, 1.4129877125174173, 6.930057176179879, 3.0844845797531897, 14.129740420410872, 2.7714490396872655, 12.808357964751844, 3.5663547447333968, 3.046148628597839, 3.5816512360411603, 11.763100985614937, 7.651885183003084, 3.66574024221347, 10.072557769332013, 9.628063326946393, 2.9737622868153117, 6.9191294948147, 4.412712321488168, 4.57107703624992, 4.0498083138692005, 14.275769127418743, 26.171495959804044, 17.539356130457232, 12.302633624443175, 113.75313588714454, 68.87092825103377, 36.56485385945222, 11.501722361388337, 43.823470917737595, 66.36819996545326, 25.95263700343225, 13.644579264652947, 41.34439304915417, 73.26525735593097, 16.511765520080935, 59.8399769721159, 20.92635452115815, 53.25843228106966, 42.49676738784995, 36.152488872479196, 39.29737703128477, 65.7312244756481, 31.204557630366857, 49.560787176481554, 134.74796950276362, 1.8002334291106363, 2.9737721855567467, 5.924457068315627, 2.450720758932925, 5.026427532356029, 2.4601181632115043, 1.2640779888660043, 1.264078020130609, 1.2640781107668095, 1.2640781945955046, 1.2640784197940247, 1.2640784978300181, 1.2640786032910292, 1.264078749899098, 1.264078864187, 1.2640789606263207, 1.2640789936922314, 1.2640792562284546, 1.2640792336274207, 1.2640793654400717, 2.4679967734566985, 3.915887344005334, 3.2616658965364778, 1.2909743978543495, 3.3193959084014812, 1.2939828909175453, 1.294064935172393, 1.9640817845014444, 1.310931144742138, 2.016663143196092, 3.324895154566351, 16.68426447345093, 10.805113360094277, 2.0746209310370833, 6.917146371567717, 5.584767317435512, 29.42000067142497, 20.497116067042985, 3.4616689069325557, 24.179184866614285, 5.6901722678845355, 11.894106631582869, 63.18736162813484, 66.36819996545326, 31.029306080945155, 38.45910685341787, 4.381407088111198, 3.4954221116444186, 27.342069440612324, 11.133068924944395, 39.29737703128477, 73.26525735593097, 40.88582137156655, 68.87092825103377, 134.74796950276362, 114.40143627290593, 37.60444760651726, 31.351069828940506, 54.47742530651364, 28.61778436387433, 20.19562217769497, 33.26628143508356, 45.28641070243421, 65.7312244756481, 36.152488872479196, 43.481374296831405, 49.560787176481554], \"loglift\": [30.0, 29.0, 28.0, 27.0, 26.0, 25.0, 24.0, 23.0, 22.0, 21.0, 20.0, 19.0, 18.0, 17.0, 16.0, 15.0, 14.0, 13.0, 12.0, 11.0, 10.0, 9.0, 8.0, 7.0, 6.0, 5.0, 4.0, 3.0, 2.0, 1.0, 1.5038, 1.4996, 1.4953, 1.4952, 1.4616, 1.4342, 1.432, 1.3823, 1.3823, 1.3823, 1.3823, 1.3823, 1.3823, 1.3823, 1.36, 1.3319, 1.3315, 1.2929, 1.2893, 1.2867, 1.2755, 1.2744, 1.2734, 1.2726, 1.2621, 1.2616, 1.2605, 1.2589, 1.2586, 1.2354, 1.2157, 1.1762, 0.9469, 1.1318, 0.7736, 0.9596, 0.9983, 0.9686, 0.7285, 0.828, 0.6227, 0.8733, 0.5006, 1.0626, 0.9714, 0.6998, 0.533, 0.9866, 0.8019, 1.0351, 0.5652, 0.5628, 0.8591, 0.598, 0.4687, 0.6368, 0.3196, 0.5405, 0.6191, 0.3659, 0.3952, 0.4595, -0.0708, 0.3969, 0.2185, 0.3359, 0.5332, 0.3918, 0.3563, -0.187, 0.2953, 1.8887, 1.7505, 1.7505, 1.7317, 1.731, 1.7283, 1.6985, 1.65, 1.635, 1.6068, 1.6059, 1.5883, 1.5528, 1.5465, 1.535, 1.535, 1.535, 1.535, 1.535, 1.535, 1.535, 1.535, 1.535, 1.535, 1.535, 1.535, 1.535, 1.535, 1.535, 1.535, 1.5219, 1.5191, 1.5172, 1.4952, 1.4336, 1.3535, 1.5081, 1.4795, 1.3367, 1.4184, 1.4565, 1.3751, 1.3921, 1.4258, 1.3916, 1.4397, 1.2792, 1.2932, 1.2312, 1.2995, 1.0644, 1.1398, 1.0083, 1.1561, 0.7698, 0.8503, 1.1188, 0.918, 0.7491, 0.8532, 0.7943, 0.8356, 1.2417, 0.6507, 0.7662, 0.1914, 0.8126, 0.3095, 0.5725, 0.2234, 0.202, 0.8656, 0.1398, 0.8215, 0.6286, -0.474, 0.2591, -0.4411, 2.0362, 1.9449, 1.9449, 1.9038, 1.8442, 1.8442, 1.8442, 1.8442, 1.8442, 1.8433, 1.7968, 1.775, 1.7652, 1.7622, 1.739, 1.7348, 1.7191, 1.7113, 1.7069, 1.6938, 1.692, 1.6874, 1.6855, 1.6822, 1.6689, 1.6502, 1.6479, 1.6283, 1.6225, 1.6147, 1.6067, 1.4812, 1.5811, 1.5611, 1.5269, 1.595, 1.5336, 1.4888, 1.3843, 1.4107, 1.2134, 0.9335, 1.3176, 0.9905, 0.484, 0.6902, 1.1741, 1.1754, 0.955, 0.99, 0.8006, 0.7646, 0.4597, 0.4151, 0.7291, 0.8563, 0.4937, 0.6049, 0.6994, 0.8012, 0.5649, 1.0742, -0.192, 0.3409, 0.4149, 0.6212, 0.3881, -0.6247, 0.0089, 0.0934, 0.4963, 1.9707, 1.9032, 1.877, 1.877, 1.877, 1.8759, 1.8746, 1.8627, 1.8614, 1.8613, 1.8604, 1.8501, 1.85, 1.8403, 1.8376, 1.8229, 1.8088, 1.8076, 1.805, 1.7705, 1.7554, 1.7283, 1.7113, 1.7015, 1.6937, 1.6884, 1.6874, 1.6765, 1.6752, 1.6687, 1.652, 1.65, 1.6523, 1.6557, 1.6222, 1.5811, 1.3529, 1.3838, 1.4873, 1.5827, 1.315, 1.3838, 1.5923, 1.5595, 1.3108, 1.3243, 1.4865, 0.7609, 0.9023, 1.2039, 1.0747, 0.8619, 0.5771, 0.6237, 1.1171, 0.9043, 0.2269, 1.097, 0.8244, 0.6058, 0.7049, 0.2761, -0.4919, -0.0091, 0.0896, -0.5089, 0.3951, 0.2486, -0.1038, 0.1385, 2.1241, 2.0954, 2.0485, 2.0168, 1.9915, 1.9468, 1.9468, 1.9468, 1.9468, 1.9468, 1.9468, 1.9468, 1.9215, 1.9185, 1.9018, 1.895, 1.8578, 1.8429, 1.8302, 1.8162, 1.8129, 1.8081, 1.7757, 1.7682, 1.7655, 1.7177, 1.7177, 1.7177, 1.7177, 1.7177, 1.6797, 1.672, 1.6384, 1.671, 1.669, 1.6103, 1.2941, 1.5954, 1.3265, 0.7412, 1.2164, 1.0875, 1.3422, 1.3964, 1.166, 1.4208, 0.2213, 1.4754, 1.1703, 1.4038, 1.6271, 0.8412, 0.6865, 0.7084, 0.3845, 0.4145, 0.1762, 0.1614, -0.2525, 0.1101, 0.3432, 1.0072, 0.003, 0.3663, 0.3734, 0.4743, 0.6632, 0.0313, 0.988, 0.498, 0.6418, -0.2013, 1.8765, 1.8758, 1.8544, 1.8414, 1.8058, 1.7922, 1.7883, 1.7785, 1.7769, 1.7658, 1.7382, 1.7159, 1.6934, 1.6934, 1.6934, 1.6934, 1.6934, 1.6934, 1.6934, 1.6934, 1.6934, 1.6934, 1.6934, 1.6934, 1.6934, 1.6934, 1.6827, 1.66, 1.6299, 1.6297, 1.6274, 1.6249, 1.5927, 1.6178, 1.6291, 1.4906, 1.557, 1.5506, 1.3869, 1.5705, 1.4941, 1.4398, 1.3318, 1.5454, 1.1163, 0.8562, 1.1795, 1.1162, 0.4897, 0.7855, 1.2259, 0.6783, 0.8136, 0.9998, 0.7312, 0.923, 1.0627, 0.4785, 1.2833, 0.2725, 0.71, 0.901, 0.4298, 0.5902, -0.0252, 0.3759, 0.7028, 0.4453, 0.228, 0.5617, 0.0568, 0.4313, 0.3883, 0.3061, 0.5417, 0.3267, -0.0759, 0.5669, 0.0411, -0.9432, 2.1257, 2.125, 2.0842, 2.0215, 2.0214, 2.0163, 2.0133, 1.9947, 1.9908, 1.9881, 1.9811, 1.9542, 1.9474, 1.9461, 1.9336, 1.8224, 1.8118, 1.8033, 1.8031, 1.8005, 1.7899, 1.783, 1.78, 1.7764, 1.7764, 1.7763, 1.7763, 1.7762, 1.7715, 1.7705, 1.7595, 1.7635, 1.7364, 1.7349, 1.7374, 1.6751, 1.4992, 1.4673, 1.5498, 0.9168, 1.3791, 0.9324, 1.2998, 0.9216, 0.6777, 1.1933, 1.292, 0.7264, 0.155, 0.0458, 0.8902, 0.8813, 0.5627, 0.6643, 0.97, 0.1891, 0.4945, 0.3057, 0.6091, 0.3142, 0.7256, 0.0484, 0.0781, -0.0211, 0.2956, 0.3676, -0.2068, -0.5043, 0.4223, 0.716, 0.1744, 0.1035, -0.137, 2.1056, 2.1056, 2.1056, 1.994, 1.9722, 1.9625, 1.9586, 1.9577, 1.9236, 1.9, 1.8935, 1.8713, 1.8601, 1.8601, 1.8601, 1.8601, 1.8601, 1.8601, 1.8601, 1.8601, 1.8601, 1.8601, 1.8601, 1.8601, 1.8601, 1.8601, 1.8601, 1.8601, 1.8601, 1.8601, 1.8371, 1.7588, 1.7873, 1.779, 1.7472, 1.715, 1.6709, 1.671, 1.7119, 1.6591, 1.7437, 1.7082, 1.7165, 1.7184, 1.4539, 1.6735, 1.5911, 1.724, 1.1468, 1.0089, 1.5177, 1.3617, 1.4036, 0.9875, 0.6671, 0.6387, 0.6758, 0.4553, 1.2943, 1.1688, 0.6687, 0.8422, 0.152, 0.0569, 0.9357, 0.8181, 0.2465, 0.6209, 0.7531, 0.5355, 0.1393, 0.8751, 0.4134, 0.5769, -0.4759, 0.4382, 0.1026, 0.5007, -0.2063, 0.1026, -0.1813, 0.059, -0.2424, 2.7203, 2.652, 2.6329, 2.5877, 2.5755, 2.4808, 2.4406, 2.4406, 2.4406, 2.4406, 2.4406, 2.4406, 2.4406, 2.4406, 2.4406, 2.4406, 2.4406, 2.4406, 2.4134, 2.3935, 2.3517, 2.3515, 2.3408, 2.3242, 2.3226, 2.3188, 2.3161, 2.3031, 2.3025, 2.2884, 2.1585, 2.1977, 1.9539, 2.2094, 1.9241, 2.1567, 2.1628, 2.1128, 1.7045, 1.8238, 2.093, 1.6875, 1.6791, 2.1339, 1.7834, 1.9623, 1.9328, 1.9321, 1.264, 0.9393, 1.0989, 1.2829, -0.1477, 0.1494, 0.5603, 1.3173, 0.3827, 0.0284, 0.7014, 1.1612, 0.3257, -0.1132, 1.0117, -0.0019, 0.8225, 0.079, 0.2368, 0.3402, 0.231, -0.2354, 0.4273, -0.0013, -1.0795, 2.576, 2.5341, 2.5301, 2.5168, 2.4751, 2.4049, 2.3575, 2.3575, 2.3575, 2.3575, 2.3575, 2.3575, 2.3575, 2.3575, 2.3575, 2.3575, 2.3575, 2.3575, 2.3575, 2.3575, 2.335, 2.311, 2.307, 2.243, 2.2353, 2.2297, 2.2293, 2.2267, 2.1839, 2.1314, 2.0507, 1.7854, 1.7868, 2.1145, 1.7181, 1.7869, 1.1631, 1.2921, 1.9454, 1.1012, 1.6968, 1.3485, 0.5338, 0.4988, 0.8168, 0.6878, 1.7453, 1.8543, 0.7756, 1.2407, 0.5545, 0.1958, 0.5139, 0.1209, -0.3417, -0.2409, 0.3373, 0.4708, -0.0087, 0.4903, 0.7199, 0.2685, -0.0032, -0.3398, 0.181, -0.0492, -0.1974], \"logprob\": [30.0, 29.0, 28.0, 27.0, 26.0, 25.0, 24.0, 23.0, 22.0, 21.0, 20.0, 19.0, 18.0, 17.0, 16.0, 15.0, 14.0, 13.0, 12.0, 11.0, 10.0, 9.0, 8.0, 7.0, 6.0, 5.0, 4.0, 3.0, 2.0, 1.0, -6.7391, -6.7447, -6.7503, -6.7504, -6.3319, -6.4808, -6.8253, -7.4082, -7.4082, -7.4082, -7.4082, -7.4082, -7.4082, -7.4082, -6.9246, -5.9269, -7.1949, -7.2315, -7.5114, -7.5286, -7.5331, -7.5344, -6.8596, -7.5365, -7.5487, -7.5493, -7.5505, -7.5524, -7.2558, -7.5921, -6.9028, -6.7818, -4.8555, -6.4892, -4.7137, -5.8007, -6.0103, -5.9521, -4.8222, -5.3061, -4.4825, -5.5962, -4.4409, -6.4462, -6.1991, -5.4318, -5.1167, -6.342, -5.8968, -6.4966, -5.4994, -5.5097, -6.1305, -5.6537, -5.429, -5.7411, -5.3397, -5.7166, -5.8221, -5.5038, -5.5445, -5.6815, -5.1816, -5.6985, -5.5346, -5.6573, -5.8434, -5.8035, -5.8481, -5.7996, -5.8784, -6.471, -7.14, -7.14, -7.157, -7.1576, -6.3597, -6.9092, -7.0049, -7.2675, -7.0934, -6.434, -6.8077, -6.83, -7.0771, -7.7866, -7.7866, -7.7866, -7.7866, -7.7866, -7.7866, -7.7866, -7.7866, -7.7866, -7.7866, -7.7866, -7.7866, -7.7866, -7.7866, -7.7866, -7.7866, -6.2475, -6.8975, -6.8929, -6.9065, -6.3664, -5.6344, -7.4464, -7.147, -5.6254, -6.5126, -6.899, -6.2242, -6.4043, -6.8108, -6.5479, -6.9939, -5.7719, -5.9032, -5.7953, -6.2622, -5.4406, -5.7113, -5.4238, -5.8986, -4.8428, -5.1347, -5.8953, -5.4177, -5.1897, -5.4829, -5.4658, -5.5687, -6.2892, -5.414, -5.6194, -4.9195, -5.7777, -5.2413, -5.6319, -5.4359, -5.4477, -5.9589, -5.5589, -5.9607, -5.8839, -5.4154, -5.7341, -5.5463, -6.2572, -6.755, -6.755, -6.5796, -7.1445, -7.1445, -7.1445, -7.1445, -7.1445, -7.1454, -6.8905, -7.2181, -7.228, -6.7203, -7.2521, -7.2607, -6.2572, -6.7515, -6.7137, -7.3177, -6.0867, -7.3109, -7.3007, -7.3462, -6.7936, -5.6997, -7.3696, -6.6858, -7.3931, -6.996, -6.755, -5.0967, -6.4946, -6.313, -6.0147, -6.7081, -6.5712, -6.4252, -6.1547, -6.2692, -5.7762, -5.1622, -6.059, -5.522, -4.6211, -5.0086, -5.927, -5.9508, -5.5608, -5.7567, -5.4821, -5.4943, -5.0911, -5.0721, -5.4753, -5.6417, -5.2594, -5.4269, -5.5803, -5.7353, -5.5692, -5.9898, -5.1334, -5.5568, -5.6497, -5.77, -5.8885, -5.7355, -5.8382, -5.8999, -5.9357, -6.6643, -6.1913, -7.0538, -7.0538, -7.0538, -6.7812, -6.3847, -7.0716, -7.0732, -7.0734, -7.0745, -7.0873, -5.418, -6.8303, -6.8303, -7.1073, -6.6189, -7.1277, -7.1229, -6.1967, -6.6953, -7.2176, -5.6404, -6.382, -7.2556, -7.2608, -5.523, -7.2748, -7.2774, -6.0361, -6.0885, -6.232, -6.357, -6.5866, -6.3246, -6.1728, -5.1451, -5.3915, -5.8663, -6.2511, -5.563, -5.8093, -6.3508, -6.3092, -5.778, -5.8608, -6.2793, -5.361, -5.6079, -6.004, -5.8815, -5.6538, -5.3645, -5.4718, -5.934, -5.8022, -5.4323, -5.9962, -5.8901, -5.7985, -5.8556, -5.6635, -5.4334, -5.6217, -5.7574, -5.6197, -5.8506, -5.8743, -5.857, -5.8934, -5.9654, -6.3322, -6.3829, -6.6359, -6.4863, -7.0012, -7.0012, -7.0012, -7.0012, -7.0012, -7.0012, -7.0012, -7.0251, -7.0279, -7.0493, -6.6254, -7.1252, -6.2367, -6.8203, -6.2489, -7.1866, -5.7247, -6.9374, -6.9973, -7.0018, -7.6479, -7.6479, -7.6479, -7.6479, -7.6479, -6.3141, -6.3755, -5.8713, -6.6153, -6.8076, -6.3388, -4.8288, -6.3532, -5.38, -4.2003, -5.47, -5.3897, -5.9633, -6.1982, -5.9878, -6.328, -4.8895, -6.423, -6.0612, -6.3474, -6.6118, -5.7474, -5.5933, -5.6755, -5.4625, -5.5272, -5.4364, -5.5373, -5.3577, -5.6431, -5.7788, -6.0778, -5.6562, -5.8074, -5.8219, -5.866, -5.99, -5.8384, -6.0763, -5.9928, -6.0176, -6.0037, -6.2916, -6.8825, -7.1923, -7.2048, -7.2349, -7.2523, -6.9533, -7.2609, -7.2488, -7.274, -6.4309, -7.3246, -7.7487, -7.7487, -7.7487, -7.7487, -7.7487, -7.7487, -7.7487, -7.7487, -7.7487, -7.7487, -7.7487, -7.7487, -7.7487, -7.7487, -7.3338, -7.3603, -7.1021, -7.3825, -6.2816, -6.5621, -6.5745, -6.9577, -7.1021, -6.1134, -6.7762, -6.9378, -6.171, -7.1621, -6.8365, -6.5961, -6.3668, -7.1707, -5.9244, -5.2667, -6.1446, -6.0218, -4.6211, -5.4943, -6.3713, -5.4533, -5.6966, -6.0116, -5.6045, -5.9868, -6.2113, -5.4192, -6.5353, -5.2147, -5.7818, -6.063, -5.5551, -5.7459, -5.1304, -5.5658, -5.8858, -5.6501, -5.6417, -5.8794, -5.5929, -5.8276, -5.807, -5.8159, -5.9215, -5.891, -5.8291, -5.9936, -5.8986, -5.8847, -6.3775, -6.6018, -6.6415, -6.9911, -6.9911, -6.9959, -6.9987, -7.0171, -7.021, -7.0236, -6.1298, -6.6088, -6.7798, -6.5438, -6.7886, -7.1943, -6.9156, -7.2507, -6.9198, -7.2159, -7.2175, -7.23, -6.6786, -7.6377, -7.6377, -7.6379, -7.6379, -6.9425, -7.6424, -7.6434, -5.8351, -6.9527, -6.391, -6.7733, -7.2225, -6.618, -6.3138, -6.3222, -6.594, -5.0221, -6.1756, -5.1401, -6.1351, -5.4883, -5.192, -6.0122, -6.2014, -5.5563, -4.9558, -4.8956, -5.8545, -5.8561, -5.7139, -5.8265, -6.0905, -5.4702, -5.7232, -5.6359, -5.9066, -5.7814, -5.9961, -5.7047, -5.7243, -5.7198, -5.8454, -5.8895, -5.694, -5.6094, -5.918, -6.025, -5.921, -5.9283, -5.9841, -6.909, -6.909, -6.909, -7.0204, -6.3685, -7.0518, -6.7539, -7.0617, -7.078, -6.5931, -6.8015, -7.1272, -7.5556, -7.5556, -7.5556, -7.5556, -7.5556, -7.5556, -7.5556, -7.5556, -7.5556, -7.5556, -7.5556, -7.5556, -7.5556, -7.5556, -7.5556, -7.5556, -7.5556, -7.5556, -6.855, -6.0542, -6.8627, -6.8705, -6.6591, -6.4746, -6.2788, -6.2881, -6.5916, -6.2732, -6.804, -6.6921, -6.7584, -6.7848, -5.5085, -6.7817, -6.464, -6.9961, -5.1121, -4.9299, -6.3617, -6.0725, -6.1902, -5.4897, -5.1799, -5.259, -5.3174, -5.0319, -6.1852, -6.0482, -5.4722, -5.6942, -4.9588, -5.0482, -5.8941, -5.8533, -5.4032, -5.7208, -5.8372, -5.7102, -5.4734, -5.9518, -5.7603, -5.8642, -5.4174, -5.819, -5.6998, -5.8989, -5.757, -5.8824, -5.8406, -5.8807, -5.9411, -6.4231, -6.4843, -6.1897, -6.5426, -6.5535, -5.4276, -7.0697, -7.0697, -7.0697, -7.0697, -7.0697, -7.0697, -7.0697, -7.0697, -7.0697, -7.0697, -7.0697, -7.0697, -6.4231, -6.4231, -7.1517, -6.0336, -7.1617, -7.1775, -6.4774, -7.1823, -7.1847, -7.1969, -6.4231, -7.2108, -5.7505, -6.5207, -5.2426, -6.6161, -5.3707, -6.4166, -6.5682, -6.4562, -5.6754, -5.9861, -6.4528, -5.8476, -5.901, -6.6211, -6.1272, -6.3981, -6.3923, -6.5141, -5.9223, -5.6409, -5.8815, -6.0521, -5.2585, -5.4632, -5.6855, -6.0851, -5.682, -5.6212, -5.8872, -6.0703, -5.7972, -5.664, -6.0291, -5.7551, -5.9814, -5.7907, -5.8586, -5.9169, -5.9427, -5.8947, -5.977, -5.9429, -6.021, -6.6809, -6.2209, -5.5356, -6.4317, -5.755, -6.5397, -7.253, -7.253, -7.253, -7.253, -7.253, -7.253, -7.253, -7.253, -7.253, -7.253, -7.253, -7.253, -7.253, -7.253, -6.6064, -6.1689, -6.3556, -7.3464, -6.4097, -7.3574, -7.3577, -6.9431, -7.3902, -7.012, -6.5927, -5.245, -5.678, -7.0006, -6.1928, -6.3379, -5.3001, -5.5325, -6.6577, -5.5582, -6.4093, -6.0203, -5.165, -5.1508, -5.5932, -5.5074, -6.6222, -6.7391, -5.7608, -6.1943, -5.6192, -5.355, -5.6202, -5.4917, -5.2832, -5.346, -5.8805, -5.9288, -5.8558, -6.0006, -6.1195, -6.0718, -6.0351, -5.9991, -6.0761, -6.1218, -6.139]}, \"token.table\": {\"Topic\": [4, 4, 1, 2, 3, 4, 5, 6, 7, 9, 1, 4, 5, 6, 10, 2, 1, 2, 3, 4, 5, 6, 7, 8, 9, 10, 10, 1, 2, 3, 4, 5, 6, 7, 8, 9, 3, 7, 1, 2, 4, 5, 6, 9, 5, 1, 2, 3, 4, 5, 6, 7, 8, 10, 1, 2, 3, 4, 5, 6, 7, 8, 9, 1, 2, 5, 4, 8, 9, 1, 2, 3, 4, 5, 6, 7, 8, 9, 10, 6, 1, 2, 3, 4, 5, 7, 8, 1, 3, 4, 5, 6, 7, 8, 10, 1, 2, 3, 4, 5, 6, 7, 8, 9, 7, 8, 2, 8, 8, 7, 10, 3, 4, 6, 7, 2, 7, 1, 2, 1, 2, 3, 4, 6, 7, 8, 9, 10, 1, 2, 3, 4, 5, 6, 7, 8, 9, 1, 2, 3, 4, 5, 6, 7, 8, 9, 10, 1, 2, 3, 6, 7, 8, 10, 1, 1, 2, 3, 4, 5, 6, 7, 8, 9, 10, 1, 2, 3, 4, 5, 6, 7, 8, 9, 10, 9, 1, 2, 3, 4, 5, 6, 7, 8, 9, 10, 1, 2, 3, 4, 5, 6, 7, 8, 10, 2, 3, 4, 6, 7, 9, 6, 9, 1, 8, 9, 1, 2, 3, 4, 5, 7, 6, 1, 3, 4, 6, 7, 8, 5, 1, 2, 9, 10, 1, 2, 3, 4, 5, 6, 7, 8, 1, 2, 4, 5, 6, 7, 8, 9, 5, 6, 8, 9, 1, 2, 3, 4, 5, 6, 8, 9, 2, 3, 4, 5, 6, 3, 4, 5, 6, 9, 1, 4, 5, 6, 7, 10, 5, 10, 3, 2, 3, 1, 2, 4, 3, 5, 6, 1, 2, 3, 4, 6, 7, 8, 10, 5, 1, 2, 6, 8, 3, 5, 5, 10, 8, 6, 8, 1, 2, 3, 5, 6, 8, 10, 2, 3, 7, 4, 8, 1, 2, 3, 4, 1, 2, 3, 4, 5, 6, 7, 8, 9, 10, 7, 1, 2, 3, 4, 5, 6, 7, 8, 9, 10, 2, 7, 8, 2, 8, 7, 1, 2, 4, 5, 6, 7, 10, 1, 2, 3, 4, 5, 6, 7, 8, 10, 1, 2, 3, 4, 5, 6, 7, 9, 10, 1, 2, 3, 4, 5, 6, 7, 8, 9, 10, 1, 7, 8, 3, 6, 7, 8, 1, 2, 3, 6, 7, 8, 1, 2, 3, 6, 7, 4, 6, 1, 2, 3, 4, 5, 6, 7, 8, 10, 7, 1, 2, 4, 5, 6, 7, 8, 9, 10, 1, 2, 3, 4, 5, 6, 7, 8, 9, 10, 8, 10, 10, 2, 4, 6, 1, 2, 3, 4, 5, 6, 7, 9, 10, 7, 1, 10, 4, 5, 8, 1, 3, 5, 1, 2, 3, 4, 5, 6, 8, 1, 2, 3, 4, 5, 6, 7, 8, 9, 10, 1, 6, 4, 5, 6, 8, 1, 2, 4, 5, 6, 7, 9, 1, 9, 1, 3, 4, 5, 7, 10, 1, 3, 7, 10, 2, 3, 5, 6, 7, 8, 1, 5, 6, 9, 10, 1, 2, 3, 5, 6, 1, 2, 3, 4, 5, 6, 7, 8, 9, 10, 1, 2, 3, 4, 5, 6, 7, 8, 9, 10, 1, 2, 3, 4, 5, 6, 7, 9, 10, 1, 4, 5, 8, 6, 2, 6, 9, 1, 1, 2, 3, 4, 6, 7, 8, 10, 6, 10, 5, 8, 8, 6, 3, 10, 4, 1, 8, 8, 1, 4, 7, 1, 2, 3, 6, 7, 9, 10, 1, 7, 8, 4, 2, 6, 3, 5, 1, 4, 5, 6, 9, 10, 1, 2, 3, 4, 5, 7, 8, 2, 2, 2, 2, 4, 6, 6, 7, 1, 3, 4, 5, 7, 1, 5, 6, 1, 6, 8, 9, 3, 6, 8, 5, 2, 5, 8, 1, 6, 1, 2, 4, 5, 6, 7, 8, 1, 2, 5, 5, 9, 2, 9, 1, 2, 3, 4, 5, 6, 7, 8, 9, 10, 1, 2, 4, 6, 7, 8, 9, 10, 2, 4, 5, 6, 7, 8, 10, 8, 8, 1, 2, 3, 5, 6, 8, 9, 3, 4, 1, 2, 3, 4, 5, 6, 7, 8, 9, 10, 1, 2, 3, 4, 5, 6, 7, 8, 9, 10, 2, 8, 4, 6, 8, 5, 7, 1, 10, 3, 9, 10, 1, 2, 3, 4, 5, 6, 7, 8, 3, 4, 2, 5, 8, 1, 2, 3, 4, 5, 6, 7, 8, 9, 10, 1, 2, 1, 2, 3, 4, 5, 6, 7, 8, 9, 10, 2, 6, 8, 3, 2, 4, 5, 6, 9, 4, 6, 8, 9, 1, 2, 3, 7, 8, 1, 8, 1, 2, 3, 4, 6, 7, 8, 9, 10, 1, 8, 1, 5, 8, 10, 3, 3, 5, 1, 2, 5, 6, 7, 10, 3, 5, 9, 1, 4, 6, 8, 7, 2, 2, 6, 1, 2, 4, 5, 6, 7, 9, 3, 7, 1, 2, 3, 4, 5, 6, 7, 8, 9, 1, 2, 3, 4, 5, 6, 7, 8, 2, 3, 4, 5, 7, 8, 6, 7, 2, 1, 9, 1, 2, 3, 4, 5, 6, 7, 8, 3, 9, 1, 4, 5, 6, 7, 9, 7, 1, 2, 8, 2, 3, 5, 6, 8, 2, 4, 6, 9, 5, 2, 1, 2, 3, 4, 6, 7, 8, 9, 10, 1, 2, 3, 4, 5, 6, 7, 8, 9, 10, 3, 4, 9, 6, 8, 7, 9, 5, 1, 2, 3, 5, 6, 7, 8, 1, 2, 3, 4, 5, 6, 7, 8, 9, 10, 2, 6, 9, 10, 1, 4, 6, 7, 8, 9, 8, 1, 3, 4, 6, 2, 3, 6, 9, 1, 1, 3, 4, 5, 6, 8, 10, 1, 2, 3, 4, 5, 6, 7, 8, 9, 4, 9, 3, 8, 10, 2, 5, 6, 3, 8, 1, 2, 4, 6, 7, 8, 9, 10, 7, 7, 8, 9, 8, 1, 5, 9, 2, 3, 1, 2, 3, 4, 5, 6, 7, 8, 2, 3, 2, 1, 3, 2, 3, 5, 9, 1, 2, 3, 4, 5, 6, 7, 8, 9, 1, 3, 4, 6, 7, 9, 6, 1, 6, 8, 9, 1, 2, 3, 4, 5, 6, 7, 8, 9, 7, 6, 5, 3, 1, 2, 3, 4, 5, 6, 7, 8, 9, 10, 7, 1, 2, 3, 4, 5, 6, 7, 8, 9, 1, 2, 3, 4, 5, 6, 7, 8, 9, 10, 1, 8, 6, 3, 1, 2, 3, 4, 5, 7, 8, 10, 1, 9, 1, 2, 3, 4, 6, 7, 8, 9, 10, 10, 1, 10, 7, 1, 2, 3, 4, 6, 7, 9, 3, 7, 1, 2, 3, 4, 5, 6, 7, 8, 1, 2, 3, 4, 5, 6, 7, 8, 9, 10, 1, 2, 3, 4, 5, 6, 7, 8, 9, 10, 4, 7, 9, 8, 3, 5, 6, 1, 8, 1, 3, 6, 5, 3, 1, 1, 2, 3, 4, 5, 6, 7, 8, 9, 1, 2, 3, 5, 6, 9, 5, 3, 1, 2, 4, 5, 6, 7, 8, 10, 1, 2, 3, 4, 5, 6, 7, 8, 10, 9, 2, 1, 2, 3, 4, 8, 10, 1, 2, 3, 4, 5, 6, 7, 8, 9, 10, 3, 6, 7, 8, 1, 3, 4, 5, 6, 8, 9, 10, 8, 8, 1, 4, 2, 1, 2, 3, 4, 5, 6, 7, 8, 9, 7, 8, 5, 9, 9, 1, 9, 7, 1, 2, 3, 5, 6, 8, 1, 2, 4, 5, 6, 7, 8, 1, 3, 4, 5, 6, 7, 1, 2, 3, 4, 5, 6, 7, 8, 9, 1, 2, 3, 4, 5, 6, 7, 8, 9, 10, 9, 1, 4, 6, 3, 1, 2, 3, 4, 5, 6, 7, 8, 9, 10, 1, 2, 4, 5, 6, 7, 8, 9, 10, 1, 3, 5, 6, 7, 8, 1, 2, 3, 4, 5, 6, 7, 8, 9, 10, 2, 3, 5, 7, 6, 1, 2, 3, 4, 5, 6, 7, 8, 9, 10, 3, 1, 8, 1, 2, 3, 4, 5, 6, 7, 8, 9, 10, 9, 1, 10, 4, 2, 2, 9, 3, 1, 5, 7, 10, 1, 4, 5, 2, 4, 5, 6, 5, 1, 2, 3, 4, 5, 6, 7, 8, 1, 2, 3, 5, 1, 3, 4, 5, 6, 7, 10, 5, 1, 2, 3, 7, 1, 3, 5, 1, 6, 8, 3, 4, 5, 1, 2, 3, 5, 6, 7, 8, 9, 10, 7, 1, 2, 3, 3, 5, 1, 10, 6, 8, 4, 2, 6, 9, 6, 1, 2, 3, 4, 5, 6, 7, 8, 10, 1, 9, 1, 2, 3, 6, 1, 5, 1, 2, 10, 10, 1, 2, 4, 5, 6, 9, 10, 2, 2, 6, 1, 2, 4, 2, 8, 7, 3, 7, 4, 9, 9, 5, 3, 1, 7, 1, 2, 5, 6, 7, 2, 1, 3, 4, 5, 7, 8, 10, 1, 1, 2, 3, 4, 5, 6, 7, 8, 9, 10, 7, 3, 5, 9, 1, 10, 1, 1, 5, 8, 10, 3, 1, 2, 3, 4, 5, 6, 7, 10, 2, 3, 5, 9, 10, 8, 1, 2, 3, 7, 8, 9, 10, 3, 7, 5, 5, 1, 2, 5, 9, 2, 4, 6, 2, 3, 4, 5, 6, 7, 8, 7, 2, 8, 4, 9, 1, 4, 1, 2, 3, 4, 5, 6, 7, 8, 9, 10, 2, 3, 4, 5, 6, 8, 9, 2, 4, 6, 10, 6, 6, 4, 1, 2, 3, 4, 5, 6, 7, 8, 9, 10, 10, 10, 1, 2, 3, 4, 5, 6, 7, 8, 10, 1, 2, 4, 6, 10, 4, 10, 5, 10, 8, 8, 6, 1, 6, 6, 5, 1, 4, 6, 1, 7, 9, 3, 6, 3, 5, 6, 7, 4, 10, 7, 8, 4, 6, 1, 2, 3, 4, 5, 6, 7, 8, 9, 10, 1, 2, 8, 4, 5, 6, 1, 2, 3, 4, 5, 6, 7, 8, 9, 7, 3, 5, 1, 2, 3, 4, 5, 6, 7, 8, 9, 10, 8, 6, 10, 1, 7, 1, 2, 3, 4, 5, 6, 8, 10, 1, 2, 3, 4, 5, 6, 7, 8, 9, 1, 8, 1, 2, 3, 4, 5, 6, 7, 8, 9, 10, 1, 2, 3, 4, 5, 6, 7, 8, 9, 10, 9, 1, 5, 7, 8, 1, 2, 3, 5, 6, 7, 8, 9, 10, 9, 1, 2, 3, 4, 5, 6, 8, 9, 5, 1, 2, 6, 7, 8, 1, 4, 5, 7, 8, 1, 7, 1, 3, 2, 4, 6, 4, 5, 2, 7, 1, 2, 4, 5, 6, 8, 1, 2, 3, 4, 5, 6, 7, 8, 9, 10, 6, 9, 2, 4, 7, 9, 4, 5, 4, 6, 1, 2, 3, 4, 6, 7, 9, 10, 6, 9, 1, 3, 8, 9, 1, 2, 3, 4, 5, 6, 7, 8, 9, 10, 1, 2, 3, 4, 5, 6, 7, 8, 10, 1, 2, 3, 4, 5, 6, 7, 8, 10, 2, 3, 4, 5, 6, 1, 2, 3, 4, 5, 6, 7, 8, 10, 1, 2, 4, 5, 6, 7, 8, 1, 2, 3, 4, 5, 6, 7, 8, 10, 8, 1, 2, 3, 4, 6, 7, 8, 9, 10, 5, 1, 3, 5, 3, 5, 6, 8, 3, 5, 6, 8, 9, 4, 2, 6, 7, 1, 2, 3, 4, 5, 6, 7, 8, 2, 1, 2, 6, 2, 6, 7, 10, 1, 2, 3, 4, 5, 6, 7, 8, 1, 1, 2, 3, 4, 5, 6, 7, 8, 9, 10, 1, 7, 1, 3, 4, 5, 7, 9, 10, 4, 6, 4, 2, 3, 2, 8, 2, 5, 1, 2, 3, 4, 5, 6, 7, 8, 9, 10, 1, 2, 3, 4, 5, 6, 7, 8, 9, 10, 3, 1, 2, 3, 4, 5, 6, 7, 8, 9, 10, 2, 9, 10, 1, 2, 3, 9], \"Freq\": [0.60981563765903, 0.8054406932269973, 0.07328917811269978, 0.14657835622539955, 0.07328917811269978, 0.14657835622539955, 0.2931567124507991, 0.07328917811269978, 0.07328917811269978, 0.14657835622539955, 0.12504619796110733, 0.5001847918444293, 0.12504619796110733, 0.12504619796110733, 0.12504619796110733, 0.5926132254734111, 0.28601808258119826, 0.052003287742036046, 0.026001643871018023, 0.10400657548407209, 0.15600986322610813, 0.15600986322610813, 0.052003287742036046, 0.052003287742036046, 0.052003287742036046, 0.07800493161305407, 0.7910903538970265, 0.19114652750223138, 0.09557326375111569, 0.14335989562667353, 0.09557326375111569, 0.09557326375111569, 0.19114652750223138, 0.047786631875557845, 0.047786631875557845, 0.09557326375111569, 0.32346095477548725, 0.6469219095509745, 0.08280570581285143, 0.08280570581285143, 0.49683423487710865, 0.08280570581285143, 0.16561141162570286, 0.08280570581285143, 0.6192235818406544, 0.1385482944510553, 0.02770965889021106, 0.24938693001189952, 0.02770965889021106, 0.05541931778042212, 0.1385482944510553, 0.05541931778042212, 0.2770965889021106, 0.02770965889021106, 0.4226858845856811, 0.02561732633852613, 0.16651262120041985, 0.02561732633852613, 0.012808663169263065, 0.12808663169263065, 0.07685197901557839, 0.12808663169263065, 0.012808663169263065, 0.1686820981165738, 0.1686820981165738, 0.6747283924662952, 0.27920083059379935, 0.27920083059379935, 0.27920083059379935, 0.14854704517661985, 0.14854704517661985, 0.049515681725539946, 0.09903136345107989, 0.049515681725539946, 0.14854704517661985, 0.049515681725539946, 0.19806272690215979, 0.049515681725539946, 0.09903136345107989, 0.6684960924022161, 0.061772453603077836, 0.061772453603077836, 0.12354490720615567, 0.12354490720615567, 0.24708981441231134, 0.24708981441231134, 0.061772453603077836, 0.11508426302391118, 0.40279492058368915, 0.17262639453586678, 0.05754213151195559, 0.05754213151195559, 0.11508426302391118, 0.05754213151195559, 0.05754213151195559, 0.0707727085032268, 0.1415454170064536, 0.0707727085032268, 0.0707727085032268, 0.0707727085032268, 0.0707727085032268, 0.0707727085032268, 0.0707727085032268, 0.2830908340129072, 0.6542404984211696, 0.3271202492105848, 0.9058623858521451, 0.4358098509768629, 0.8718708174850596, 0.286088480320779, 0.286088480320779, 0.3986949254823117, 0.09967373137057793, 0.09967373137057793, 0.19934746274115586, 0.2500135130899506, 0.5000270261799012, 0.22553101241063583, 0.45106202482127167, 0.3958219904847218, 0.17743744401039252, 0.17743744401039252, 0.013649034154645578, 0.027298068309291157, 0.040947102463936735, 0.06824517077322789, 0.040947102463936735, 0.054596136618582314, 0.14102098808167315, 0.11281679046533853, 0.1692251856980078, 0.056408395232669266, 0.0846125928490039, 0.11281679046533853, 0.1692251856980078, 0.11281679046533853, 0.028204197616334633, 0.06589491104859707, 0.36242201076728386, 0.19768473314579119, 0.09884236657289559, 0.032947455524298536, 0.032947455524298536, 0.09884236657289559, 0.06589491104859707, 0.032947455524298536, 0.032947455524298536, 0.2641022910591824, 0.17606819403945495, 0.1320511455295912, 0.04401704850986374, 0.17606819403945495, 0.17606819403945495, 0.49586863496456735, 0.7713276578246064, 0.12652892835417517, 0.15816116044271894, 0.22142562461980653, 0.09489669626563137, 0.09489669626563137, 0.12652892835417517, 0.09489669626563137, 0.06326446417708759, 0.031632232088543794, 0.031632232088543794, 0.34497529672361543, 0.09199341245963079, 0.0689950593447231, 0.045996706229815394, 0.0689950593447231, 0.0689950593447231, 0.22998353114907696, 0.022998353114907697, 0.022998353114907697, 0.045996706229815394, 0.35760029239783936, 0.3191142705799221, 0.08163388317160797, 0.0890551452781178, 0.06679135895858834, 0.21521660108878465, 0.03710631053254908, 0.09647640738462761, 0.05194883474556871, 0.014842524213019632, 0.029685048426039265, 0.2830700976045774, 0.2830700976045774, 0.09435669920152581, 0.06290446613435054, 0.06290446613435054, 0.03145223306717527, 0.06290446613435054, 0.09435669920152581, 0.03145223306717527, 0.5097763472619485, 0.10195526945238971, 0.10195526945238971, 0.10195526945238971, 0.10195526945238971, 0.10195526945238971, 0.36082207743312555, 0.36082207743312555, 0.7111557673588703, 0.6510531856257952, 0.7156425046532784, 0.06996133095803242, 0.13992266191606484, 0.06996133095803242, 0.4197679857481945, 0.13992266191606484, 0.06996133095803242, 0.6684961154079037, 0.18597176584604386, 0.30995294307673976, 0.06199058861534795, 0.06199058861534795, 0.18597176584604386, 0.06199058861534795, 0.6192235467359793, 0.31759816990570794, 0.5293302831761799, 0.10586605663523597, 0.10586605663523597, 0.4833669798459105, 0.05370744220510116, 0.05370744220510116, 0.05370744220510116, 0.10741488441020232, 0.05370744220510116, 0.10741488441020232, 0.05370744220510116, 0.06674692732675483, 0.2002407819802645, 0.2002407819802645, 0.06674692732675483, 0.2669877093070193, 0.06674692732675483, 0.06674692732675483, 0.06674692732675483, 0.7271640057856693, 0.30061393393368646, 0.4509209009005297, 0.7195671152546761, 0.696784929728614, 0.1625668178906304, 0.0812834089453152, 0.0812834089453152, 0.24385022683594562, 0.1625668178906304, 0.0812834089453152, 0.1625668178906304, 0.11691782298278894, 0.11691782298278894, 0.11691782298278894, 0.23383564596557788, 0.35075346894836684, 0.13181750850973473, 0.13181750850973473, 0.26363501701946945, 0.3954525255292042, 0.13181750850973473, 0.08982249249885019, 0.08982249249885019, 0.17964498499770037, 0.08982249249885019, 0.35928996999540075, 0.17964498499770037, 0.6796047195245642, 0.3398023597622821, 0.8495572126374362, 0.4723672528035064, 0.2361836264017532, 0.7097057171876195, 0.5926132176314478, 0.8947783647377324, 0.1427733996936551, 0.42832019908096536, 0.2855467993873102, 0.08407525096039263, 0.16815050192078526, 0.16815050192078526, 0.16815050192078526, 0.08407525096039263, 0.08407525096039263, 0.08407525096039263, 0.16815050192078526, 0.8157197867896869, 0.14877174798693737, 0.4463152439608121, 0.14877174798693737, 0.14877174798693737, 0.43457164690456795, 0.81452792165083, 0.7978685079372685, 0.26595616931242283, 0.8718707920342238, 0.4408235958600844, 0.4303415834262382, 0.08250121860963594, 0.16500243721927188, 0.5775085302674515, 0.08250121860963594, 0.08250121860963594, 0.08250121860963594, 0.5554835188756754, 0.7794116569748093, 0.7681292846497981, 0.25604309488326604, 0.805072027785196, 0.6510531272798619, 0.6062120536311981, 0.15155301340779953, 0.15155301340779953, 0.7994486616882542, 0.2118278638382299, 0.09414571726143552, 0.28243715178430656, 0.04707285863071776, 0.11768214657679439, 0.07060928794607664, 0.11768214657679439, 0.02353642931535888, 0.02353642931535888, 0.02353642931535888, 0.5550154986744126, 0.06445519583269649, 0.12891039166539298, 0.06445519583269649, 0.12891039166539298, 0.06445519583269649, 0.12891039166539298, 0.2255931854144377, 0.06445519583269649, 0.06445519583269649, 0.09668279374904473, 0.48768341260285447, 0.8697858854362149, 0.6510531483042711, 0.592613242624807, 0.6510531619610647, 0.784231723407331, 0.08670762826726311, 0.08670762826726311, 0.2601228848017893, 0.390184327202684, 0.043353814133631555, 0.08670762826726311, 0.043353814133631555, 0.1240736615626066, 0.16543154875014213, 0.04135788718753553, 0.20678943593767765, 0.20678943593767765, 0.04135788718753553, 0.04135788718753553, 0.08271577437507106, 0.1240736615626066, 0.0447160943500617, 0.0447160943500617, 0.1788643774002468, 0.2235804717503085, 0.0447160943500617, 0.1341482830501851, 0.2235804717503085, 0.0447160943500617, 0.0447160943500617, 0.0764190172037447, 0.11462852580561704, 0.03820950860187235, 0.11462852580561704, 0.1528380344074894, 0.1528380344074894, 0.0764190172037447, 0.1528380344074894, 0.11462852580561704, 0.03820950860187235, 0.3034309937730477, 0.15171549688652386, 0.4551464906595716, 0.14769948630680854, 0.14769948630680854, 0.14769948630680854, 0.44309845892042565, 0.0707618997425005, 0.4953332981975035, 0.0707618997425005, 0.141523799485001, 0.0707618997425005, 0.0707618997425005, 0.48456986102003086, 0.08076164350333848, 0.08076164350333848, 0.16152328700667695, 0.08076164350333848, 0.25757301507010427, 0.5151460301402085, 0.39036895712793107, 0.024398059820495692, 0.09759223928198277, 0.07319417946148707, 0.048796119640991384, 0.19518447856396554, 0.09759223928198277, 0.024398059820495692, 0.024398059820495692, 0.4328143038880048, 0.27764632355266883, 0.09254877451755628, 0.09254877451755628, 0.09254877451755628, 0.09254877451755628, 0.09254877451755628, 0.09254877451755628, 0.09254877451755628, 0.27764632355266883, 0.2816455415142148, 0.03755273886856197, 0.05632910830284295, 0.1126582166056859, 0.1126582166056859, 0.1126582166056859, 0.18776369434280984, 0.03755273886856197, 0.03755273886856197, 0.03755273886856197, 0.6510531262116137, 0.7910898823889094, 0.7910899539129367, 0.13384748056743154, 0.5353899222697261, 0.13384748056743154, 0.055652845070004515, 0.22261138028001806, 0.055652845070004515, 0.3339170704200271, 0.055652845070004515, 0.055652845070004515, 0.11130569014000903, 0.055652845070004515, 0.055652845070004515, 0.6500527235323595, 0.25536996142926777, 0.5107399228585355, 0.15706548123026162, 0.47119644369078484, 0.15706548123026162, 0.1543505477085775, 0.61740219083431, 0.1543505477085775, 0.23524792841998088, 0.05881198210499522, 0.05881198210499522, 0.11762396420999044, 0.05881198210499522, 0.23524792841998088, 0.11762396420999044, 0.09288149575924996, 0.04644074787962498, 0.09288149575924996, 0.46440747879624983, 0.04644074787962498, 0.09288149575924996, 0.04644074787962498, 0.04644074787962498, 0.04644074787962498, 0.04644074787962498, 0.8060253361146362, 0.6684959831536388, 0.2464677901793245, 0.3697016852689867, 0.12323389508966225, 0.12323389508966225, 0.14316590850821287, 0.14316590850821287, 0.3579147712705322, 0.07158295425410643, 0.07158295425410643, 0.07158295425410643, 0.07158295425410643, 0.3282833905777953, 0.3282833905777953, 0.21158438238125085, 0.07052812746041695, 0.4231687647625017, 0.07052812746041695, 0.07052812746041695, 0.07052812746041695, 0.34096760719730523, 0.5114514107959578, 0.8693720763229215, 0.7910895686932314, 0.41278668227339166, 0.058969526039055954, 0.11793905207811191, 0.11793905207811191, 0.17690857811716784, 0.11793905207811191, 0.1757416037549554, 0.1757416037549554, 0.1757416037549554, 0.1757416037549554, 0.1757416037549554, 0.6491654356557358, 0.10819423927595596, 0.10819423927595596, 0.10819423927595596, 0.10819423927595596, 0.14124069448440402, 0.06053172620760173, 0.0807089682768023, 0.20177242069200574, 0.1614179365536046, 0.14124069448440402, 0.12106345241520346, 0.020177242069200574, 0.04035448413840115, 0.04035448413840115, 0.28192418360690336, 0.10068720843103693, 0.10068720843103693, 0.14096209180345168, 0.08054976674482954, 0.10068720843103693, 0.08054976674482954, 0.08054976674482954, 0.020137441686207385, 0.020137441686207385, 0.07646435371387714, 0.07646435371387714, 0.07646435371387714, 0.15292870742775427, 0.15292870742775427, 0.30585741485550855, 0.07646435371387714, 0.07646435371387714, 0.07646435371387714, 0.14930453341439034, 0.5972181336575614, 0.14930453341439034, 0.14930453341439034, 0.4501566933186679, 0.5926131673257381, 0.6684961359117881, 0.7083263942447886, 0.8177459383687307, 0.05993671471650812, 0.17981014414952437, 0.11987342943301624, 0.05993671471650812, 0.17981014414952437, 0.11987342943301624, 0.05993671471650812, 0.23974685886603248, 0.3007613634452858, 0.3007613634452858, 0.3222691134932854, 0.6445382269865708, 0.6510531343749396, 0.6684960904906277, 0.5822121504455708, 0.2911060752227854, 0.8193614602614561, 0.21408355105195637, 0.42816710210391273, 0.6510531641875567, 0.14985234327168845, 0.5994093730867538, 0.14985234327168845, 0.5802563992052071, 0.09670939986753452, 0.09670939986753452, 0.09670939986753452, 0.09670939986753452, 0.09670939986753452, 0.09670939986753452, 0.24916110800928357, 0.24916110800928357, 0.49832221601856713, 0.8017574983780291, 0.18696872557611657, 0.5609061767283497, 0.8495572797158935, 0.8157197199821471, 0.4347175008140664, 0.08694350016281328, 0.17388700032562657, 0.08694350016281328, 0.17388700032562657, 0.08694350016281328, 0.3348538634596993, 0.041856732932462413, 0.20928366466231207, 0.12557019879738723, 0.041856732932462413, 0.041856732932462413, 0.20928366466231207, 0.7686817055719192, 0.5926131965626328, 0.47943649658454934, 0.2438490073139107, 0.6096225182847768, 0.12192450365695535, 0.657274940261085, 0.3286374701305425, 0.07176014483515697, 0.14352028967031394, 0.5740811586812558, 0.07176014483515697, 0.07176014483515697, 0.17115593303956286, 0.6846237321582515, 0.17115593303956286, 0.16700446558330928, 0.16700446558330928, 0.33400893116661856, 0.16700446558330928, 0.19102863671214396, 0.19102863671214396, 0.3820572734242879, 0.8143906889944867, 0.3004118326091417, 0.4506177489137126, 0.15020591630457086, 0.7143423304181853, 0.6684961524310304, 0.2622168951892439, 0.08740563172974797, 0.2622168951892439, 0.08740563172974797, 0.043702815864873984, 0.08740563172974797, 0.13110844759462195, 0.8081676243778475, 0.2104319081635461, 0.6312957244906383, 0.8642529989121926, 0.7156422746738261, 0.5926131579183226, 0.7156424339655847, 0.04024029934785572, 0.2615619457610621, 0.02012014967392786, 0.06036044902178357, 0.02012014967392786, 0.08048059869571143, 0.22132164641320642, 0.24144179608713429, 0.02012014967392786, 0.04024029934785572, 0.05010082817500724, 0.4008066254000579, 0.10020165635001448, 0.05010082817500724, 0.15030248452502173, 0.10020165635001448, 0.10020165635001448, 0.05010082817500724, 0.5169792345594519, 0.17232641151981729, 0.057442137173272435, 0.057442137173272435, 0.057442137173272435, 0.057442137173272435, 0.057442137173272435, 0.3247337975060854, 0.5175671634056288, 0.15614804063908352, 0.07807402031954176, 0.07807402031954176, 0.07807402031954176, 0.15614804063908352, 0.07807402031954176, 0.31229608127816705, 0.6491627190850683, 0.2163875730283561, 0.4402504192447957, 0.12229178312355435, 0.19566685299768696, 0.02445835662471087, 0.02445835662471087, 0.02445835662471087, 0.02445835662471087, 0.07337506987413261, 0.02445835662471087, 0.07337506987413261, 0.308955331304882, 0.09654854103277563, 0.154477665652441, 0.019309708206555126, 0.03861941641311025, 0.154477665652441, 0.019309708206555126, 0.154477665652441, 0.019309708206555126, 0.019309708206555126, 0.31577173733306596, 0.6315434746661319, 0.8017483236546408, 0.6567076725112524, 0.3283538362556262, 0.42374106566602543, 0.42374106566602543, 0.30125963506461306, 0.30125963506461306, 0.4538353327571743, 0.22691766637858715, 0.791090301435025, 0.19300185524389402, 0.06433395174796466, 0.38600371048778803, 0.06433395174796466, 0.06433395174796466, 0.12866790349592933, 0.06433395174796466, 0.06433395174796466, 0.8495572202461581, 0.409733975865712, 0.20069050368978844, 0.6020715110693653, 0.20069050368978844, 0.3583871089012732, 0.07867034097832826, 0.1835641289494326, 0.026223446992776088, 0.07867034097832826, 0.09615263897351231, 0.052446893985552176, 0.08741148997592028, 0.008741148997592029, 0.034964595990368115, 0.696785096503812, 0.4105031923067318, 0.16995240944560533, 0.1019714456673632, 0.033990481889121064, 0.13596192755648426, 0.06798096377824213, 0.16995240944560533, 0.033990481889121064, 0.13596192755648426, 0.033990481889121064, 0.13596192755648426, 0.5926131835104477, 0.3288051850252302, 0.3288051850252302, 0.4363503372143469, 0.08265031179894884, 0.5785521825926419, 0.08265031179894884, 0.08265031179894884, 0.08265031179894884, 0.2803983539429853, 0.2803983539429853, 0.2803983539429853, 0.2803983539429853, 0.10529101883197867, 0.21058203766395733, 0.10529101883197867, 0.315873056495936, 0.315873056495936, 0.4717349113936344, 0.4717349113936344, 0.14629470562526742, 0.18286838203158426, 0.25601573484421797, 0.036573676406316855, 0.036573676406316855, 0.036573676406316855, 0.18286838203158426, 0.036573676406316855, 0.07314735281263371, 0.722158404535907, 0.18053960113397674, 0.281752735953272, 0.1878351573021813, 0.281752735953272, 0.09391757865109066, 0.7688681091118199, 0.43507978003506514, 0.29005318669004343, 0.1899084980931123, 0.1266056653954082, 0.2532113307908164, 0.1266056653954082, 0.0633028326977041, 0.0633028326977041, 0.641998785145579, 0.2139995950485263, 0.7156425430424651, 0.7531203864090946, 0.07531203864090946, 0.07531203864090946, 0.07531203864090946, 0.8700775365006594, 0.5926131582208594, 0.5914372084606538, 0.2957186042303269, 0.06781417230020335, 0.20344251690061008, 0.1356283446004067, 0.3390708615010168, 0.06781417230020335, 0.06781417230020335, 0.06781417230020335, 0.8534170174380624, 0.869510125317923, 0.35765887229414584, 0.11004888378281409, 0.11004888378281409, 0.08253666283711057, 0.08253666283711057, 0.08253666283711057, 0.08253666283711057, 0.055024441891407046, 0.027512220945703523, 0.09779663110812417, 0.19559326221624834, 0.14669494666218627, 0.14669494666218627, 0.09779663110812417, 0.09779663110812417, 0.048898315554062086, 0.19559326221624834, 0.10536573751753377, 0.10536573751753377, 0.10536573751753377, 0.10536573751753377, 0.5268286875876689, 0.10536573751753377, 0.6635653466289756, 0.5159147565590393, 0.5926132010219156, 0.49385053439460036, 0.24692526719730018, 0.10341183906825903, 0.03447061302275301, 0.03447061302275301, 0.06894122604550602, 0.3102355172047771, 0.13788245209101205, 0.06894122604550602, 0.2412942911592711, 0.36481956353828787, 0.36481956353828787, 0.12805156905895618, 0.12805156905895618, 0.12805156905895618, 0.12805156905895618, 0.38415470717686856, 0.12805156905895618, 0.6500471042546541, 0.7112700591293972, 0.5926132709404658, 0.6510531504963396, 0.07891565204905139, 0.2367469561471542, 0.39457826024525694, 0.15783130409810278, 0.07891565204905139, 0.1385959844455166, 0.5543839377820664, 0.1385959844455166, 0.1385959844455166, 0.9107237062805796, 0.768733560468309, 0.26241274923510144, 0.2361714743115913, 0.2361714743115913, 0.10496509969404058, 0.026241274923510145, 0.026241274923510145, 0.05248254984702029, 0.026241274923510145, 0.05248254984702029, 0.3422823360604405, 0.25100704644432303, 0.15973175682820556, 0.022818822404029368, 0.022818822404029368, 0.022818822404029368, 0.0684564672120881, 0.045637644808058736, 0.0684564672120881, 0.022818822404029368, 0.22661799073789485, 0.22661799073789485, 0.22661799073789485, 0.27330502611258356, 0.5466100522251671, 0.6498849727070324, 0.7156425139606943, 0.6192235903133874, 0.14447158242158475, 0.14447158242158475, 0.07223579121079238, 0.14447158242158475, 0.07223579121079238, 0.14447158242158475, 0.2889431648431695, 0.2702475236316399, 0.045041253938606654, 0.045041253938606654, 0.09008250787721331, 0.09008250787721331, 0.09008250787721331, 0.22520626969303326, 0.09008250787721331, 0.045041253938606654, 0.045041253938606654, 0.5926131758357013, 0.4367799635131534, 0.7101298817700656, 0.7910901116636753, 0.06056287553162264, 0.24225150212649055, 0.3028143776581132, 0.06056287553162264, 0.18168862659486792, 0.12112575106324527, 0.4289872887036348, 0.6967851280383563, 0.201374689074411, 0.6041240672232331, 0.6684960655002952, 0.18681307039350048, 0.18681307039350048, 0.5604392111805014, 0.7156424901166533, 0.8081771277409908, 0.19616883063318413, 0.09808441531659207, 0.19616883063318413, 0.09808441531659207, 0.09808441531659207, 0.19616883063318413, 0.04904220765829603, 0.22703539894384656, 0.05675884973596164, 0.25541482381182734, 0.02837942486798082, 0.02837942486798082, 0.11351769947192328, 0.19865597407586572, 0.05675884973596164, 0.02837942486798082, 0.35175183831704826, 0.35175183831704826, 0.849605949786124, 0.43583597522412604, 0.5091437677855337, 0.09679705423433103, 0.48398527117165513, 0.19359410846866207, 0.6285058179766697, 0.6510531568216452, 0.14009753044819853, 0.28019506089639706, 0.14009753044819853, 0.07004876522409927, 0.07004876522409927, 0.07004876522409927, 0.14009753044819853, 0.07004876522409927, 0.43683224467404513, 0.39325608886862307, 0.5243414518248308, 0.7156425734636257, 0.6510531532786844, 0.8709792837750004, 0.14516321396250007, 0.4894080938185471, 0.6952871033151403, 0.23176236777171344, 0.168271134488575, 0.11218075632571665, 0.05609037816285833, 0.05609037816285833, 0.11218075632571665, 0.2243615126514333, 0.05609037816285833, 0.11218075632571665, 0.17549951164045607, 0.5264985349213682, 0.7701623894281169, 0.24069574718339093, 0.7220872415501728, 0.2613734984474863, 0.13068674922374315, 0.13068674922374315, 0.2613734984474863, 0.4915210784200421, 0.035108648458574435, 0.07021729691714887, 0.05266297268786165, 0.0877716211464361, 0.035108648458574435, 0.1053259453757233, 0.0877716211464361, 0.017554324229287217, 0.1904525338453838, 0.0952262669226919, 0.0952262669226919, 0.0952262669226919, 0.3809050676907676, 0.7156422877455425, 0.6684961226904287, 0.21995900438093324, 0.4399180087618665, 0.21995900438093324, 0.7077202378627715, 0.07706345986095743, 0.07706345986095743, 0.07706345986095743, 0.15412691972191486, 0.2311903795828723, 0.1926586496523936, 0.07706345986095743, 0.038531729930478716, 0.07706345986095743, 0.869615594070864, 0.4491971936852222, 0.7645953421480639, 0.4288953374749919, 0.3319273547757014, 0.08298183869392535, 0.08298183869392535, 0.05532122579595024, 0.05532122579595024, 0.02766061289797512, 0.1383030644898756, 0.1383030644898756, 0.05532122579595024, 0.05532122579595024, 0.6538085867067198, 0.10688365582010836, 0.03562788527336946, 0.10688365582010836, 0.28502308218695566, 0.10688365582010836, 0.21376731164021673, 0.03562788527336946, 0.07125577054673891, 0.03562788527336946, 0.21878933335137493, 0.0820460000067656, 0.0820460000067656, 0.1640920000135312, 0.05469733333784373, 0.0820460000067656, 0.05469733333784373, 0.13674333334460934, 0.0820460000067656, 0.027348666668921866, 0.30261332426356946, 0.6052266485271389, 0.668496061674072, 0.4237554297347795, 0.03519539543101742, 0.03519539543101742, 0.24636776801712196, 0.42234474517220905, 0.07039079086203484, 0.03519539543101742, 0.03519539543101742, 0.03519539543101742, 0.3362743567075528, 0.3362743567075528, 0.11579498539364763, 0.27018829925184445, 0.19299164232274604, 0.07719665692909843, 0.03859832846454921, 0.03859832846454921, 0.19299164232274604, 0.03859832846454921, 0.03859832846454921, 0.40648454003305806, 0.2888780027452473, 0.2888780027452473, 0.8700774907856583, 0.17002319392189139, 0.08501159696094569, 0.17002319392189139, 0.17002319392189139, 0.08501159696094569, 0.08501159696094569, 0.2550347908828371, 0.32427404591360093, 0.6485480918272019, 0.17949471003311096, 0.04487367750827774, 0.08974735501655548, 0.08974735501655548, 0.08974735501655548, 0.17949471003311096, 0.17949471003311096, 0.17949471003311096, 0.3745460345154361, 0.03121216954295301, 0.15606084771476506, 0.12484867817181204, 0.06242433908590602, 0.03121216954295301, 0.12484867817181204, 0.03121216954295301, 0.03121216954295301, 0.03121216954295301, 0.21274079288997488, 0.10637039644498744, 0.10637039644498744, 0.10637039644498744, 0.05318519822249372, 0.13296299555623428, 0.15955559466748115, 0.05318519822249372, 0.02659259911124686, 0.05318519822249372, 0.4083273995958432, 0.5254336463809912, 0.492323235350674, 0.6510531163375788, 0.45900412838171795, 0.22950206419085897, 0.11475103209542949, 0.30276735680201683, 0.6055347136040337, 0.42259290251478077, 0.10564822562869519, 0.3169446768860856, 0.5091386476488758, 0.6364891519331688, 0.696785488754938, 0.08976761758454367, 0.3291479311433268, 0.05984507838969578, 0.05984507838969578, 0.08976761758454367, 0.20945777436393523, 0.08976761758454367, 0.05984507838969578, 0.02992253919484789, 0.24802250474714976, 0.24802250474714976, 0.06200562618678744, 0.24802250474714976, 0.06200562618678744, 0.06200562618678744, 0.8157196868215737, 0.441971041690867, 0.1194137179527701, 0.41794801283469535, 0.1194137179527701, 0.05970685897638505, 0.05970685897638505, 0.05970685897638505, 0.05970685897638505, 0.05970685897638505, 0.17471653068683235, 0.03494330613736647, 0.1397732245494659, 0.1048299184120994, 0.17471653068683235, 0.06988661227473295, 0.17471653068683235, 0.03494330613736647, 0.06988661227473295, 0.7107248525665006, 0.5926132216885402, 0.2638502721233039, 0.13192513606165196, 0.3298128401541299, 0.06596256803082598, 0.06596256803082598, 0.06596256803082598, 0.27618624263446734, 0.16996076469813373, 0.1274705735236003, 0.08498038234906687, 0.021245095587266716, 0.08498038234906687, 0.04249019117453343, 0.16996076469813373, 0.021245095587266716, 0.021245095587266716, 0.19054965238882193, 0.5716489571664658, 0.19054965238882193, 0.6510531475275254, 0.10624896903452333, 0.053124484517261664, 0.10624896903452333, 0.159373453551785, 0.26562242258630836, 0.159373453551785, 0.10624896903452333, 0.7910896370403471, 0.6510531667459701, 0.6510531989126616, 0.7114722022841482, 0.8017538093916831, 0.6366498997263661, 0.14147402230155645, 0.02829480446031129, 0.2263584356824903, 0.05658960892062258, 0.19806363122217902, 0.2263584356824903, 0.05658960892062258, 0.02829480446031129, 0.02829480446031129, 0.25411629597925955, 0.5082325919585191, 0.6448971053698078, 0.3224485526849039, 0.4887654257362712, 0.32420327420797695, 0.32420327420797695, 0.6500526829592626, 0.10637655984214657, 0.10637655984214657, 0.10637655984214657, 0.10637655984214657, 0.4255062393685863, 0.21275311968429314, 0.16798749534582966, 0.055995831781943214, 0.16798749534582966, 0.11199166356388643, 0.11199166356388643, 0.055995831781943214, 0.3359749906916593, 0.5277800261880494, 0.05864222513200549, 0.11728445026401098, 0.11728445026401098, 0.11728445026401098, 0.05864222513200549, 0.444673691717191, 0.1368226743745203, 0.1368226743745203, 0.03420566859363008, 0.03420566859363008, 0.06841133718726015, 0.03420566859363008, 0.03420566859363008, 0.03420566859363008, 0.17581932879496326, 0.15823739591546693, 0.06153676507823714, 0.0703277315179853, 0.13186449659622243, 0.15823739591546693, 0.10549159727697796, 0.0967006308372298, 0.03516386575899265, 0.008790966439748162, 0.7089312444543082, 0.3190299647686555, 0.638059929537311, 0.44703754413504415, 0.84955726524442, 0.20551601917674475, 0.08220640767069791, 0.041103203835348955, 0.12330961150604686, 0.20551601917674475, 0.16441281534139582, 0.041103203835348955, 0.041103203835348955, 0.041103203835348955, 0.041103203835348955, 0.14281354500313206, 0.07140677250156603, 0.07140677250156603, 0.14281354500313206, 0.07140677250156603, 0.28562709000626413, 0.07140677250156603, 0.07140677250156603, 0.07140677250156603, 0.46034226447003296, 0.11508556611750824, 0.11508556611750824, 0.05754278305875412, 0.11508556611750824, 0.05754278305875412, 0.15971906113861456, 0.27587837833033424, 0.02903982929792992, 0.11615931719171968, 0.11615931719171968, 0.05807965859585984, 0.05807965859585984, 0.10163940254275472, 0.04355974394689488, 0.04355974394689488, 0.24586983318313804, 0.12293491659156902, 0.36880474977470706, 0.12293491659156902, 0.44736680252651156, 0.14283662272772135, 0.24996408977351234, 0.2856732454554427, 0.03570915568193034, 0.107127467045791, 0.07141831136386068, 0.03570915568193034, 0.07141831136386068, 0.03570915568193034, 0.03570915568193034, 0.5021026339055269, 0.8010216798180155, 0.2670072266060052, 0.29553455455650773, 0.024627879546375644, 0.04925575909275129, 0.07388363863912693, 0.09851151818550258, 0.09851151818550258, 0.12313939773187822, 0.17239515682462953, 0.024627879546375644, 0.024627879546375644, 0.7095808752401476, 0.4820157673335097, 0.4820157673335097, 0.7272488177463572, 0.5926131677566059, 0.6903461894130888, 0.1725865473532722, 0.42585486808663375, 0.22823718040568902, 0.22823718040568902, 0.22823718040568902, 0.22823718040568902, 0.16573466807099688, 0.16573466807099688, 0.49720400421299066, 0.5900663459269652, 0.1475165864817413, 0.1475165864817413, 0.44689096651211696, 0.42941046592688065, 0.31593206308466265, 0.09026630373847504, 0.31593206308466265, 0.04513315186923752, 0.04513315186923752, 0.09026630373847504, 0.04513315186923752, 0.04513315186923752, 0.25417930469508115, 0.08472643489836039, 0.4236321744918019, 0.08472643489836039, 0.07164815488469727, 0.28659261953878906, 0.25076854209644045, 0.03582407744234863, 0.1074722323270459, 0.17912038721174317, 0.03582407744234863, 0.8157196763394507, 0.1393451823075736, 0.1393451823075736, 0.5573807292302944, 0.1393451823075736, 0.15012161507255242, 0.30024323014510484, 0.4503648452176573, 0.7039983539630493, 0.22220445313550133, 0.666613359406504, 0.17180247260393938, 0.6872098904157575, 0.17180247260393938, 0.14636205357804732, 0.29272410715609465, 0.09757470238536488, 0.09757470238536488, 0.04878735119268244, 0.04878735119268244, 0.04878735119268244, 0.04878735119268244, 0.14636205357804732, 0.6530999384575494, 0.25100989019425674, 0.6275247254856418, 0.12550494509712837, 0.6364891740494529, 0.605758030733319, 0.3065917944145927, 0.3065917944145927, 0.4499515983926954, 0.4380370827302414, 0.7441590781851144, 0.14420627493876884, 0.28841254987753767, 0.5768250997550753, 0.6684962136947117, 0.219800140707508, 0.1256000804042903, 0.1256000804042903, 0.031400020101072575, 0.219800140707508, 0.031400020101072575, 0.1256000804042903, 0.1256000804042903, 0.031400020101072575, 0.32649723814751963, 0.32649723814751963, 0.12666642317976667, 0.12666642317976667, 0.6333321158988334, 0.12666642317976667, 0.6967848998183696, 0.8157195961956216, 0.289136573460526, 0.289136573460526, 0.289136573460526, 0.7910904301854771, 0.10292985049773885, 0.10292985049773885, 0.4117194019909554, 0.1543947757466083, 0.10292985049773885, 0.10292985049773885, 0.05146492524886943, 0.6084415068809513, 0.592613231343108, 0.6684960741552148, 0.8403529180804657, 0.5175832075366998, 0.2587916037683499, 0.3166704491161471, 0.6333408982322942, 0.6498512107330693, 0.8495572938925702, 0.869428652325983, 0.40834851010019113, 0.49586834768259824, 0.7156423961354095, 0.6192235592301407, 0.4372317887523471, 0.41276705190864466, 0.41276705190864466, 0.09887721891917184, 0.39550887567668735, 0.09887721891917184, 0.09887721891917184, 0.19775443783834368, 0.7701625452744736, 0.26925011211974187, 0.0897500373732473, 0.0897500373732473, 0.0897500373732473, 0.0897500373732473, 0.3590001494929892, 0.0897500373732473, 0.8026127451359228, 0.33148405428279953, 0.15067457012854524, 0.07533728506427262, 0.04520237103856357, 0.030134914025709045, 0.10547219908998166, 0.04520237103856357, 0.10547219908998166, 0.04520237103856357, 0.06026982805141809, 0.45347510269097774, 0.2727961977459084, 0.2727961977459084, 0.2727961977459084, 0.19894845664496663, 0.39789691328993326, 0.6967849144426838, 0.49470532224875263, 0.2968231933492516, 0.09894106444975052, 0.4080432241637406, 0.4277176299026963, 0.2805870261971314, 0.2805870261971314, 0.09352900873237713, 0.046764504366188564, 0.1402935130985657, 0.046764504366188564, 0.09352900873237713, 0.046764504366188564, 0.09905269816562572, 0.09905269816562572, 0.5943161889937543, 0.09905269816562572, 0.09905269816562572, 0.6510531601051769, 0.5032676077454377, 0.22875800352065348, 0.045751600704130695, 0.09150320140826139, 0.045751600704130695, 0.045751600704130695, 0.09150320140826139, 0.325629222338037, 0.651258444676074, 0.8157194973761918, 0.6192235938887481, 0.21876682280121734, 0.21876682280121734, 0.21876682280121734, 0.21876682280121734, 0.15295475386093624, 0.611819015443745, 0.15295475386093624, 0.08040159499823568, 0.16080318999647136, 0.16080318999647136, 0.16080318999647136, 0.3216063799929427, 0.08040159499823568, 0.08040159499823568, 0.6540737714140183, 0.4763756392661492, 0.2381878196330746, 0.40916652212835236, 0.7156422151203528, 0.8070911804242984, 0.8071107611785597, 0.12024187337576861, 0.18036281006365293, 0.060120936687884305, 0.060120936687884305, 0.15030234171971077, 0.12024187337576861, 0.15030234171971077, 0.060120936687884305, 0.030060468343942152, 0.060120936687884305, 0.08498300549003576, 0.12747450823505366, 0.08498300549003576, 0.33993202196014305, 0.12747450823505366, 0.08498300549003576, 0.08498300549003576, 0.1520343017140886, 0.6841543577133987, 0.0760171508570443, 0.0760171508570443, 0.4474661808406873, 0.6747484203897033, 0.8013346945335815, 0.2551747051583903, 0.06379367628959758, 0.09569051443439637, 0.12758735257919515, 0.06379367628959758, 0.09569051443439637, 0.06379367628959758, 0.12758735257919515, 0.03189683814479879, 0.06379367628959758, 0.7910900456636949, 0.7910898013415391, 0.16646285171209252, 0.27743808618682086, 0.11097523447472835, 0.11097523447472835, 0.08323142585604626, 0.11097523447472835, 0.05548761723736417, 0.05548761723736417, 0.027743808618682086, 0.061190743560723265, 0.4895259484857861, 0.3671444613643396, 0.061190743560723265, 0.79108965118459, 0.6181223279322912, 0.7910904106193354, 0.680858950247113, 0.3404294751235565, 0.6510531111151808, 0.871870816012747, 0.6684960948975461, 0.7111265812380512, 0.6684961402006114, 0.6684961531002033, 0.8182396266317693, 0.11764946447665206, 0.5882473223832603, 0.11764946447665206, 0.7099268702925569, 0.6500469485121396, 0.7156424938620315, 0.44111855235995173, 0.44111855235995173, 0.1824925953784183, 0.1824925953784183, 0.1824925953784183, 0.3649851907568366, 0.8048912527897626, 0.6725464747144246, 0.26141041329502623, 0.5228208265900525, 0.6948213230718198, 0.17370533076795494, 0.0842799049895435, 0.2949796674634023, 0.0842799049895435, 0.0842799049895435, 0.0842799049895435, 0.14748983373170116, 0.0842799049895435, 0.0842799049895435, 0.021069976247385876, 0.021069976247385876, 0.1289348928650737, 0.5157395714602948, 0.1289348928650737, 0.1871767755765717, 0.1871767755765717, 0.561530326729715, 0.2823744189877102, 0.02353120158230918, 0.07059360474692755, 0.21178081424078266, 0.02353120158230918, 0.1411872094938551, 0.11765600791154592, 0.07059360474692755, 0.04706240316461836, 0.4352385421109274, 0.5019403070809066, 0.2509701535404533, 0.1922796045075503, 0.28841940676132544, 0.03204660075125838, 0.1922796045075503, 0.03204660075125838, 0.06409320150251677, 0.09613980225377515, 0.03204660075125838, 0.06409320150251677, 0.03204660075125838, 0.6510531515745598, 0.405186915459128, 0.405186915459128, 0.6967850046885026, 0.6508157798456793, 0.4301436419091019, 0.04301436419091019, 0.08602872838182038, 0.08602872838182038, 0.12904309257273058, 0.12904309257273058, 0.04301436419091019, 0.04301436419091019, 0.02418707655983979, 0.07256122967951938, 0.04837415311967958, 0.14512245935903875, 0.36280614839759684, 0.21768368903855811, 0.02418707655983979, 0.02418707655983979, 0.04837415311967958, 0.4745598119824156, 0.4745598119824156, 0.146849818158412, 0.073424909079206, 0.110137363618809, 0.1284935908886105, 0.146849818158412, 0.073424909079206, 0.073424909079206, 0.16520604542821352, 0.036712454539603, 0.036712454539603, 0.2586289869938161, 0.15213469823165654, 0.030426939646331305, 0.13692122840849089, 0.10649428876215956, 0.06085387929266261, 0.10649428876215956, 0.07606734911582827, 0.030426939646331305, 0.030426939646331305, 0.7156423582855458, 0.14009871127197404, 0.14009871127197404, 0.2801974225439481, 0.4202961338159221, 0.15248796909257192, 0.03812199227314298, 0.49558589955085874, 0.11436597681942894, 0.03812199227314298, 0.03812199227314298, 0.07624398454628596, 0.03812199227314298, 0.7910901605004419, 0.7090447725459362, 0.10386304763921375, 0.10386304763921375, 0.10386304763921375, 0.10386304763921375, 0.2077260952784275, 0.10386304763921375, 0.10386304763921375, 0.2077260952784275, 0.8447640102994404, 0.18423616548837643, 0.42988438613954505, 0.06141205516279215, 0.1228241103255843, 0.1228241103255843, 0.4826632321099239, 0.1379037806028354, 0.1379037806028354, 0.0689518903014177, 0.0689518903014177, 0.17953747063224454, 0.5386124118967337, 0.7230373282382887, 0.8477491015820828, 0.12357437131177025, 0.494297485247081, 0.12357437131177025, 0.8046139913604577, 0.7299161339226274, 0.5804523535194235, 0.4366965814652973, 0.3657395808096973, 0.03324905280088157, 0.16624526400440787, 0.06649810560176314, 0.16624526400440787, 0.16624526400440787, 0.2339573092837868, 0.08355618188706672, 0.18382360015154678, 0.10026741826448006, 0.1169786546418934, 0.08355618188706672, 0.10026741826448006, 0.05013370913224003, 0.05013370913224003, 0.016711236377413344, 0.5620256294017123, 0.28101281470085615, 0.5926131616639894, 0.2322865798469794, 0.2322865798469794, 0.4645731596939588, 0.5618311188239538, 0.14045777970598844, 0.8139967073177384, 0.4384318806141447, 0.28507317844567054, 0.17104390706740233, 0.057014635689134105, 0.057014635689134105, 0.11402927137826821, 0.11402927137826821, 0.11402927137826821, 0.057014635689134105, 0.4328968612714561, 0.4328968612714561, 0.1445268513545548, 0.1445268513545548, 0.2890537027091096, 0.2890537027091096, 0.08980078796638506, 0.2993359598879502, 0.059867191977590044, 0.059867191977590044, 0.08980078796638506, 0.17960157593277012, 0.11973438395518009, 0.059867191977590044, 0.029933595988795022, 0.7910898220349495, 0.3428873109058415, 0.09351472115613858, 0.12468629487485144, 0.06234314743742572, 0.15585786859356432, 0.09351472115613858, 0.06234314743742572, 0.06234314743742572, 0.03117157371871286, 0.06354223487094836, 0.06354223487094836, 0.12708446974189672, 0.3812534092256902, 0.06354223487094836, 0.06354223487094836, 0.12708446974189672, 0.06354223487094836, 0.06354223487094836, 0.592613175055464, 0.10157815064580931, 0.10157815064580931, 0.20315630129161863, 0.40631260258323726, 0.1748982064861134, 0.20987784778333607, 0.03497964129722268, 0.06995928259444537, 0.10493892389166803, 0.20987784778333607, 0.06995928259444537, 0.10493892389166803, 0.03497964129722268, 0.06382213294071194, 0.1914663988221358, 0.3191106647035597, 0.06382213294071194, 0.12764426588142389, 0.06382213294071194, 0.06382213294071194, 0.2107199202729373, 0.15051422876638376, 0.09030853725983026, 0.09030853725983026, 0.060205691506553506, 0.09030853725983026, 0.12041138301310701, 0.15051422876638376, 0.030102845753276753, 0.6510531671273444, 0.35443666564083687, 0.35443666564083687, 0.07088733312816736, 0.03544366656408368, 0.03544366656408368, 0.07088733312816736, 0.03544366656408368, 0.03544366656408368, 0.03544366656408368, 0.8157197852561215, 0.7117338926831966, 0.17793347317079916, 0.17793347317079916, 0.4996537170877839, 0.19986148683511357, 0.09993074341755678, 0.09993074341755678, 0.21074130174403305, 0.4214826034880661, 0.10537065087201652, 0.10537065087201652, 0.10537065087201652, 0.6163808244793819, 0.16383222602060118, 0.4914966780618036, 0.16383222602060118, 0.05598004162337417, 0.5038203746103675, 0.05598004162337417, 0.11196008324674835, 0.05598004162337417, 0.05598004162337417, 0.05598004162337417, 0.16794012487012253, 0.5896946110606788, 0.7930977772465159, 0.4349006073448166, 0.4349006073448166, 0.17905848948765038, 0.17905848948765038, 0.17905848948765038, 0.17905848948765038, 0.1123949953005533, 0.03746499843351776, 0.18732499216758883, 0.2247899906011066, 0.07492999686703553, 0.18732499216758883, 0.14985999373407105, 0.03746499843351776, 0.7095956232725223, 0.2208167934903811, 0.13249007609422866, 0.198735114141343, 0.13249007609422866, 0.06624503804711433, 0.06624503804711433, 0.11040839674519055, 0.04416335869807622, 0.02208167934903811, 0.04416335869807622, 0.1765791109238006, 0.7063164436952024, 0.10125405331993136, 0.10125405331993136, 0.10125405331993136, 0.10125405331993136, 0.4050162132797254, 0.10125405331993136, 0.10125405331993136, 0.3234599156303178, 0.3234599156303178, 0.8048616417691741, 0.7045535148499298, 0.23485117161664323, 0.6007213348070349, 0.2002404449356783, 0.6579797566790465, 0.16449493916976163, 0.1266075967387427, 0.14243354633108554, 0.22156329429279972, 0.0791297479617142, 0.1266075967387427, 0.06330379836937135, 0.09495569755405703, 0.06330379836937135, 0.015825949592342837, 0.06330379836937135, 0.25446991009193737, 0.07634097302758122, 0.07634097302758122, 0.07634097302758122, 0.15268194605516244, 0.050893982018387476, 0.050893982018387476, 0.12723495504596868, 0.050893982018387476, 0.07634097302758122, 0.8533481667399196, 0.09665425537438979, 0.12081781921798725, 0.09665425537438979, 0.2416356384359745, 0.1449813830615847, 0.12081781921798725, 0.07249069153079235, 0.024163563843597448, 0.024163563843597448, 0.024163563843597448, 0.16879183838601236, 0.16879183838601236, 0.5063755151580371, 0.4963982450637846, 0.09927964901275692, 0.09927964901275692, 0.19855929802551384], \"Term\": [\"abegglen\", \"abortion\", \"abuse\", \"abuse\", \"abuse\", \"abuse\", \"abuse\", \"abuse\", \"abuse\", \"abuse\", \"accident\", \"accident\", \"accident\", \"accident\", \"accident\", \"accommodation\", \"action\", \"action\", \"action\", \"action\", \"action\", \"action\", \"action\", \"action\", \"action\", \"action\", \"acts\", \"adelaide\", \"adelaide\", \"adelaide\", \"adelaide\", \"adelaide\", \"adelaide\", \"adelaide\", \"adelaide\", \"adelaide\", \"administrator\", \"administrator\", \"adventure_world\", \"adventure_world\", \"adventure_world\", \"adventure_world\", \"adventure_world\", \"adventure_world\", \"advocates\", \"afghan\", \"afghan\", \"afghan\", \"afghan\", \"afghan\", \"afghan\", \"afghan\", \"afghan\", \"afghan\", \"afghanistan\", \"afghanistan\", \"afghanistan\", \"afghanistan\", \"afghanistan\", \"afghanistan\", \"afghanistan\", \"afghanistan\", \"afghanistan\", \"afroz\", \"afroz\", \"afroz\", \"agha\", \"agha\", \"agha\", \"agreement\", \"agreement\", \"agreement\", \"agreement\", \"agreement\", \"agreement\", \"agreement\", \"agreement\", \"agreement\", \"agreement\", \"agreements\", \"aircraft\", \"aircraft\", \"aircraft\", \"aircraft\", \"aircraft\", \"aircraft\", \"aircraft\", \"airline\", \"airline\", \"airline\", \"airline\", \"airline\", \"airline\", \"airline\", \"airline\", \"airport\", \"airport\", \"airport\", \"airport\", \"airport\", \"airport\", \"airport\", \"airport\", \"airport\", \"alei\", \"alei\", \"almao\", \"alp\", \"amalgamation\", \"ambulance\", \"ambulance\", \"ansett\", \"ansett\", \"ansett\", \"ansett\", \"antarctic\", \"antarctic\", \"apache\", \"apache\", \"arafat\", \"arafat\", \"arafat\", \"arafat\", \"arafat\", \"arafat\", \"arafat\", \"arafat\", \"arafat\", \"area\", \"area\", \"area\", \"area\", \"area\", \"area\", \"area\", \"area\", \"area\", \"areas\", \"areas\", \"areas\", \"areas\", \"areas\", \"areas\", \"areas\", \"areas\", \"areas\", \"areas\", \"army\", \"army\", \"army\", \"army\", \"army\", \"army\", \"arnaud\", \"asic\", \"attack\", \"attack\", \"attack\", \"attack\", \"attack\", \"attack\", \"attack\", \"attack\", \"attack\", \"attack\", \"attacks\", \"attacks\", \"attacks\", \"attacks\", \"attacks\", \"attacks\", \"attacks\", \"attacks\", \"attacks\", \"attacks\", \"attendants\", \"australia\", \"australia\", \"australia\", \"australia\", \"australia\", \"australia\", \"australia\", \"australia\", \"australia\", \"australia\", \"authority\", \"authority\", \"authority\", \"authority\", \"authority\", \"authority\", \"authority\", \"authority\", \"authority\", \"back\", \"back\", \"back\", \"back\", \"back\", \"back\", \"baker\", \"baker\", \"balance\", \"bankruptcy\", \"beacon\", \"bill\", \"bill\", \"bill\", \"bill\", \"bill\", \"bill\", \"bills\", \"bin_laden\", \"bin_laden\", \"bin_laden\", \"bin_laden\", \"bin_laden\", \"bin_laden\", \"bishops\", \"blake\", \"blake\", \"blake\", \"blake\", \"board\", \"board\", \"board\", \"board\", \"board\", \"board\", \"board\", \"board\", \"boat\", \"boat\", \"boat\", \"boat\", \"boat\", \"boat\", \"boat\", \"boat\", \"boje\", \"bonn\", \"bonn\", \"boston\", \"bourne\", \"bowler\", \"bowler\", \"bowler\", \"bowler\", \"bowler\", \"bowler\", \"bowler\", \"bowling\", \"bowling\", \"bowling\", \"bowling\", \"bowling\", \"boxing_day\", \"boxing_day\", \"boxing_day\", \"boxing_day\", \"boxing_day\", \"boy\", \"boy\", \"boy\", \"boy\", \"boy\", \"boy\", \"bradford\", \"bradford\", \"bradstreet\", \"brain\", \"brain\", \"branches\", \"brazilians\", \"breathing\", \"brett_lee\", \"brett_lee\", \"brett_lee\", \"buildings\", \"buildings\", \"buildings\", \"buildings\", \"buildings\", \"buildings\", \"buildings\", \"buildings\", \"burakin\", \"bus_ambush\", \"bus_ambush\", \"bus_ambush\", \"bus_ambush\", \"buses\", \"butler\", \"cahill\", \"cahill\", \"caird\", \"campaigns\", \"campbell\", \"cancer\", \"cancer\", \"cancer\", \"cancer\", \"cancer\", \"cancer\", \"cannon\", \"carr\", \"casinos\", \"casinos\", \"catastrophe\", \"cavallo\", \"cease_fire\", \"cease_fire\", \"cease_fire\", \"ceasefire\", \"cent\", \"cent\", \"cent\", \"cent\", \"cent\", \"cent\", \"cent\", \"cent\", \"cent\", \"cent\", \"center\", \"centre\", \"centre\", \"centre\", \"centre\", \"centre\", \"centre\", \"centre\", \"centre\", \"centre\", \"centre\", \"centuries\", \"chain\", \"chairmen\", \"chairs\", \"cheaper\", \"chechen\", \"child\", \"child\", \"child\", \"child\", \"child\", \"child\", \"child\", \"children\", \"children\", \"children\", \"children\", \"children\", \"children\", \"children\", \"children\", \"children\", \"christmas\", \"christmas\", \"christmas\", \"christmas\", \"christmas\", \"christmas\", \"christmas\", \"christmas\", \"christmas\", \"city\", \"city\", \"city\", \"city\", \"city\", \"city\", \"city\", \"city\", \"city\", \"city\", \"club\", \"club\", \"club\", \"coalition\", \"coalition\", \"coalition\", \"coalition\", \"coast\", \"coast\", \"coast\", \"coast\", \"coast\", \"coast\", \"collapse\", \"collapse\", \"collapse\", \"collapse\", \"collapse\", \"collins\", \"collins\", \"commission\", \"commission\", \"commission\", \"commission\", \"commission\", \"commission\", \"commission\", \"commission\", \"commission\", \"commitment\", \"commonwealth\", \"commonwealth\", \"commonwealth\", \"commonwealth\", \"commonwealth\", \"commonwealth\", \"commonwealth\", \"commonwealth\", \"commonwealth\", \"company\", \"company\", \"company\", \"company\", \"company\", \"company\", \"company\", \"company\", \"company\", \"company\", \"complaints\", \"compounds\", \"compression\", \"condition\", \"condition\", \"condition\", \"conditions\", \"conditions\", \"conditions\", \"conditions\", \"conditions\", \"conditions\", \"conditions\", \"conditions\", \"conditions\", \"conspiracy\", \"coroner\", \"coroner\", \"cost\", \"cost\", \"cost\", \"costello\", \"costello\", \"costello\", \"country\", \"country\", \"country\", \"country\", \"country\", \"country\", \"country\", \"court\", \"court\", \"court\", \"court\", \"court\", \"court\", \"court\", \"court\", \"court\", \"court\", \"cow\", \"cranky\", \"crean\", \"crean\", \"crean\", \"crean\", \"crew\", \"crew\", \"crew\", \"crew\", \"crew\", \"crew\", \"crew\", \"crimes\", \"crimes\", \"cup\", \"cup\", \"cup\", \"cup\", \"cup\", \"cup\", \"cut\", \"cut\", \"dagestan\", \"dale\", \"damage\", \"damage\", \"damage\", \"damage\", \"damage\", \"damage\", \"data\", \"data\", \"data\", \"data\", \"data\", \"david_hicks\", \"david_hicks\", \"david_hicks\", \"david_hicks\", \"david_hicks\", \"day\", \"day\", \"day\", \"day\", \"day\", \"day\", \"day\", \"day\", \"day\", \"day\", \"days\", \"days\", \"days\", \"days\", \"days\", \"days\", \"days\", \"days\", \"days\", \"days\", \"deaths\", \"deaths\", \"deaths\", \"deaths\", \"deaths\", \"deaths\", \"deaths\", \"deaths\", \"deaths\", \"debate\", \"debate\", \"debate\", \"debate\", \"demonstrators\", \"denise\", \"departments\", \"deportation\", \"derrick\", \"detainees\", \"detainees\", \"detainees\", \"detainees\", \"detainees\", \"detainees\", \"detainees\", \"detainees\", \"detention\", \"detention\", \"dfat\", \"dfat\", \"discontent\", \"distribution\", \"dixon\", \"dixon\", \"doctors\", \"document\", \"document\", \"domingo\", \"doubles\", \"doubles\", \"doubles\", \"downer\", \"downer\", \"downer\", \"downer\", \"downer\", \"downer\", \"downer\", \"draft\", \"draft\", \"draft\", \"drip\", \"drug\", \"drug\", \"dun\", \"earthquake\", \"east_timor\", \"east_timor\", \"east_timor\", \"east_timor\", \"east_timor\", \"east_timor\", \"economy\", \"economy\", \"economy\", \"economy\", \"economy\", \"economy\", \"economy\", \"eden\", \"edmund\", \"electricity\", \"endeavour\", \"endeavour\", \"endeavour\", \"estimate\", \"estimate\", \"event\", \"event\", \"event\", \"event\", \"event\", \"explanation\", \"explanation\", \"explanation\", \"explosives\", \"explosives\", \"explosives\", \"explosives\", \"factions\", \"factions\", \"factions\", \"factories\", \"factory\", \"factory\", \"factory\", \"facts\", \"fairness\", \"family\", \"family\", \"family\", \"family\", \"family\", \"family\", \"family\", \"farina\", \"farm\", \"farm\", \"farmers\", \"fbi\", \"feels\", \"finke\", \"fire\", \"fire\", \"fire\", \"fire\", \"fire\", \"fire\", \"fire\", \"fire\", \"fire\", \"fire\", \"firefighters\", \"firefighters\", \"firefighters\", \"firefighters\", \"firefighters\", \"firefighters\", \"firefighters\", \"firefighters\", \"fires\", \"fires\", \"fires\", \"fires\", \"fires\", \"fires\", \"fires\", \"firms\", \"first\", \"flight\", \"flight\", \"flight\", \"flight\", \"flight\", \"flight\", \"flight\", \"focus\", \"focus\", \"force\", \"force\", \"force\", \"force\", \"force\", \"force\", \"force\", \"force\", \"force\", \"force\", \"forces\", \"forces\", \"forces\", \"forces\", \"forces\", \"forces\", \"forces\", \"forces\", \"forces\", \"forces\", \"fort\", \"fort\", \"freeman\", \"gabriel\", \"gabriel\", \"gambier\", \"gambier\", \"gambill\", \"gambill\", \"gang\", \"gang\", \"gear\", \"general\", \"general\", \"general\", \"general\", \"general\", \"general\", \"general\", \"general\", \"gibbs\", \"golden\", \"goshen\", \"goshen\", \"goshen\", \"government\", \"government\", \"government\", \"government\", \"government\", \"government\", \"government\", \"government\", \"government\", \"government\", \"greens\", \"grocery\", \"group\", \"group\", \"group\", \"group\", \"group\", \"group\", \"group\", \"group\", \"group\", \"group\", \"grudge\", \"guards\", \"guards\", \"guerrilla\", \"guides\", \"guides\", \"guides\", \"guides\", \"guides\", \"gul\", \"gul\", \"gul\", \"gul\", \"gunmen\", \"gunmen\", \"gunmen\", \"gunmen\", \"gunmen\", \"gutnick\", \"gutnick\", \"hamas\", \"hamas\", \"hamas\", \"hamas\", \"hamas\", \"hamas\", \"hamas\", \"hamas\", \"hamas\", \"harris\", \"harris\", \"harrison\", \"harrison\", \"harrison\", \"harrison\", \"hawthorne\", \"hayden\", \"hayden\", \"health\", \"health\", \"health\", \"health\", \"health\", \"health\", \"henderson\", \"henderson\", \"hermansburg\", \"hicks\", \"hicks\", \"hicks\", \"hicks\", \"hijackings\", \"hillary\", \"hills\", \"hills\", \"hollingworth\", \"hollingworth\", \"hollingworth\", \"hollingworth\", \"hollingworth\", \"hollingworth\", \"hollingworth\", \"host\", \"hostage\", \"hours\", \"hours\", \"hours\", \"hours\", \"hours\", \"hours\", \"hours\", \"hours\", \"hours\", \"house\", \"house\", \"house\", \"house\", \"house\", \"house\", \"house\", \"house\", \"howard\", \"howard\", \"howard\", \"howard\", \"howard\", \"howard\", \"ideas\", \"imf\", \"impression\", \"independence\", \"independence\", \"india\", \"india\", \"india\", \"india\", \"india\", \"india\", \"india\", \"india\", \"individual\", \"individual\", \"indonesia\", \"indonesia\", \"indonesia\", \"indonesia\", \"indonesia\", \"indonesia\", \"indonesian\", \"industrial\", \"inhalation\", \"initiative\", \"innings\", \"innings\", \"innings\", \"innings\", \"innings\", \"interlaken\", \"interlaken\", \"interlaken\", \"interlaken\", \"iraq\", \"ismail\", \"israel\", \"israel\", \"israel\", \"israel\", \"israel\", \"israel\", \"israel\", \"israel\", \"israel\", \"israeli\", \"israeli\", \"israeli\", \"israeli\", \"israeli\", \"israeli\", \"israeli\", \"israeli\", \"israeli\", \"israeli\", \"jail\", \"jail\", \"jail\", \"jan\", \"jan\", \"jeff\", \"jetliner\", \"jim\", \"jobs\", \"jobs\", \"jobs\", \"jobs\", \"jobs\", \"jobs\", \"jobs\", \"john\", \"john\", \"john\", \"john\", \"john\", \"john\", \"john\", \"john\", \"john\", \"john\", \"joyce\", \"juan\", \"judges\", \"juvenile\", \"kandahar\", \"kandahar\", \"kandahar\", \"kandahar\", \"kandahar\", \"kandahar\", \"kentucky\", \"kerry\", \"kieren\", \"kieren\", \"killer\", \"king\", \"king\", \"king\", \"kinton\", \"knop\", \"labor\", \"labor\", \"labor\", \"labor\", \"labor\", \"labor\", \"labor\", \"laden\", \"laden\", \"laden\", \"laden\", \"laden\", \"laden\", \"laden\", \"laden\", \"laden\", \"lali\", \"lali\", \"lavarch\", \"lawrence\", \"lawyer\", \"lee\", \"lee\", \"lee\", \"lew\", \"liberal\", \"line\", \"line\", \"line\", \"line\", \"line\", \"line\", \"line\", \"line\", \"locals\", \"lockett\", \"lockett\", \"logan\", \"looting\", \"lording\", \"lording\", \"los\", \"losses\", \"losses\", \"lot\", \"lot\", \"lot\", \"lot\", \"lot\", \"lot\", \"lot\", \"lot\", \"lung\", \"lung\", \"macapa\", \"macfarlane\", \"macfarlane\", \"macgill\", \"macgill\", \"macgill\", \"macgill\", \"man\", \"man\", \"man\", \"man\", \"man\", \"man\", \"man\", \"man\", \"man\", \"management\", \"management\", \"management\", \"management\", \"management\", \"mantravelling\", \"margins\", \"marines\", \"marines\", \"marines\", \"massacre\", \"match\", \"match\", \"match\", \"match\", \"match\", \"match\", \"match\", \"match\", \"match\", \"mcdonald\", \"mcgauran\", \"mcmenamin\", \"mcreddie\", \"meeting\", \"meeting\", \"meeting\", \"meeting\", \"meeting\", \"meeting\", \"meeting\", \"meeting\", \"meeting\", \"meeting\", \"megawati\", \"melbourne\", \"melbourne\", \"melbourne\", \"melbourne\", \"melbourne\", \"melbourne\", \"melbourne\", \"melbourne\", \"melbourne\", \"members\", \"members\", \"members\", \"members\", \"members\", \"members\", \"members\", \"members\", \"members\", \"members\", \"memory\", \"memory\", \"mental\", \"mentha\", \"metres\", \"metres\", \"metres\", \"metres\", \"metres\", \"metres\", \"metres\", \"metres\", \"miami\", \"miami\", \"militants\", \"militants\", \"militants\", \"militants\", \"militants\", \"militants\", \"militants\", \"militants\", \"militants\", \"ministerial\", \"minutes\", \"minutes\", \"missile\", \"mission\", \"mission\", \"mission\", \"mission\", \"mission\", \"mission\", \"mission\", \"mitsubishi\", \"mitsubishi\", \"month\", \"month\", \"month\", \"month\", \"month\", \"month\", \"month\", \"month\", \"months\", \"months\", \"months\", \"months\", \"months\", \"months\", \"months\", \"months\", \"months\", \"months\", \"morning\", \"morning\", \"morning\", \"morning\", \"morning\", \"morning\", \"morning\", \"morning\", \"morning\", \"morning\", \"moulin\", \"moussaoui\", \"murders\", \"muscle\", \"musharraf\", \"musharraf\", \"musharraf\", \"music\", \"music\", \"nauru\", \"nauru\", \"nauru\", \"needs\", \"nelson\", \"nettle\", \"new_south\", \"new_south\", \"new_south\", \"new_south\", \"new_south\", \"new_south\", \"new_south\", \"new_south\", \"new_south\", \"new_zealand\", \"new_zealand\", \"new_zealand\", \"new_zealand\", \"new_zealand\", \"new_zealand\", \"nicky\", \"nobel\", \"north\", \"north\", \"north\", \"north\", \"north\", \"north\", \"north\", \"north\", \"number\", \"number\", \"number\", \"number\", \"number\", \"number\", \"number\", \"number\", \"number\", \"nuns\", \"objects\", \"official\", \"official\", \"official\", \"official\", \"official\", \"official\", \"officials\", \"officials\", \"officials\", \"officials\", \"officials\", \"officials\", \"officials\", \"officials\", \"officials\", \"officials\", \"oil\", \"oil\", \"oil\", \"opportunities\", \"opposition\", \"opposition\", \"opposition\", \"opposition\", \"opposition\", \"opposition\", \"opposition\", \"orphan\", \"outlets\", \"outsource\", \"overtime\", \"oxygen\", \"paedophiles\", \"pakistan\", \"pakistan\", \"pakistan\", \"pakistan\", \"pakistan\", \"pakistan\", \"pakistan\", \"pakistan\", \"pakistan\", \"palace\", \"palace\", \"palmerston\", \"palmerston\", \"palos\", \"panel\", \"panel\", \"participant\", \"parties\", \"parties\", \"parties\", \"parties\", \"parties\", \"parties\", \"party\", \"party\", \"party\", \"party\", \"party\", \"party\", \"party\", \"pay\", \"pay\", \"pay\", \"pay\", \"pay\", \"pay\", \"peace\", \"peace\", \"peace\", \"peace\", \"peace\", \"peace\", \"peace\", \"peace\", \"peace\", \"people\", \"people\", \"people\", \"people\", \"people\", \"people\", \"people\", \"people\", \"people\", \"people\", \"persecution\", \"petrol\", \"petrol\", \"phillip\", \"pickup\", \"place\", \"place\", \"place\", \"place\", \"place\", \"place\", \"place\", \"place\", \"place\", \"place\", \"plane\", \"plane\", \"plane\", \"plane\", \"plane\", \"plane\", \"plane\", \"plane\", \"plane\", \"plans\", \"plans\", \"plans\", \"plans\", \"plans\", \"plans\", \"police\", \"police\", \"police\", \"police\", \"police\", \"police\", \"police\", \"police\", \"police\", \"police\", \"population\", \"population\", \"population\", \"population\", \"portfolios\", \"power\", \"power\", \"power\", \"power\", \"power\", \"power\", \"power\", \"power\", \"power\", \"power\", \"practices\", \"presidency\", \"presidency\", \"president\", \"president\", \"president\", \"president\", \"president\", \"president\", \"president\", \"president\", \"president\", \"president\", \"priests\", \"privacy\", \"privacy\", \"procedure\", \"proceeding\", \"products\", \"products\", \"profit\", \"project\", \"project\", \"project\", \"project\", \"projects\", \"projects\", \"projects\", \"property\", \"property\", \"property\", \"prosecution\", \"prostitutes\", \"qaeda\", \"qaeda\", \"qaeda\", \"qaeda\", \"qaeda\", \"qaeda\", \"qaeda\", \"qaeda\", \"qaeda_fighters\", \"qaeda_fighters\", \"qaeda_fighters\", \"qaeda_fighters\", \"qantas\", \"qantas\", \"qantas\", \"qantas\", \"qantas\", \"qantas\", \"qantas\", \"quake\", \"quarter\", \"quarter\", \"quarter\", \"quarter\", \"questions\", \"questions\", \"questions\", \"quit\", \"rabbani\", \"rabbani\", \"races\", \"races\", \"races\", \"radio\", \"radio\", \"radio\", \"radio\", \"radio\", \"radio\", \"radio\", \"radio\", \"radio\", \"raduyev\", \"ramallah\", \"ramallah\", \"ramallah\", \"razor\", \"razzak\", \"razzano\", \"razzano\", \"reactor\", \"recognition\", \"redmond\", \"reid\", \"reid\", \"reid\", \"reith\", \"report\", \"report\", \"report\", \"report\", \"report\", \"report\", \"report\", \"report\", \"report\", \"rescue\", \"rescue\", \"reserve_bank\", \"reserve_bank\", \"reserve_bank\", \"reserve_bank\", \"rich\", \"richter\", \"right\", \"right\", \"right\", \"riot\", \"river\", \"river\", \"river\", \"river\", \"river\", \"river\", \"river\", \"robertson\", \"rocks\", \"rome\", \"rudd\", \"rural_fire\", \"rural_fire\", \"saadi\", \"saadi\", \"sale\", \"sales\", \"salman\", \"sanchez\", \"sand\", \"sank\", \"scandal\", \"scheme\", \"schneiders\", \"schneiders\", \"sea\", \"sea\", \"sea\", \"sea\", \"sea\", \"seamaster\", \"sector\", \"sector\", \"sector\", \"sector\", \"sector\", \"sector\", \"sector\", \"securities\", \"security\", \"security\", \"security\", \"security\", \"security\", \"security\", \"security\", \"security\", \"security\", \"security\", \"segment\", \"selectors\", \"selectors\", \"selectors\", \"seles\", \"seles\", \"senator\", \"senator_hill\", \"senator_hill\", \"senator_hill\", \"sentence\", \"servant\", \"services\", \"services\", \"services\", \"services\", \"services\", \"services\", \"services\", \"services\", \"sex\", \"sex\", \"sex\", \"sex\", \"sex\", \"shareholders\", \"sharon\", \"sharon\", \"sharon\", \"sharon\", \"sharon\", \"sharon\", \"sharon\", \"sheldon\", \"sheldon\", \"shepherd\", \"shepherds\", \"shoes\", \"shoes\", \"shoes\", \"shoes\", \"shuttle\", \"shuttle\", \"shuttle\", \"side\", \"side\", \"side\", \"side\", \"side\", \"side\", \"side\", \"sinai\", \"skipper\", \"skipper\", \"slam\", \"smell\", \"soccer\", \"sorrow\", \"south\", \"south\", \"south\", \"south\", \"south\", \"south\", \"south\", \"south\", \"south\", \"south\", \"south_africa\", \"south_africa\", \"south_africa\", \"south_africa\", \"south_africa\", \"south_africa\", \"south_africa\", \"space\", \"space\", \"space\", \"space\", \"spill\", \"spills\", \"sri\", \"staff\", \"staff\", \"staff\", \"staff\", \"staff\", \"staff\", \"staff\", \"staff\", \"staff\", \"staff\", \"standby\", \"star\", \"state\", \"state\", \"state\", \"state\", \"state\", \"state\", \"state\", \"state\", \"state\", \"station\", \"station\", \"station\", \"station\", \"stationery\", \"stefan\", \"stitches\", \"stoltenberg\", \"stoltenberg\", \"stone\", \"stoppage\", \"stoppages\", \"stunts\", \"submission\", \"submissions\", \"subsidies\", \"suharto\", \"suharto\", \"suharto\", \"suit\", \"sukarnoputri\", \"sulphur\", \"sultan\", \"sultan\", \"summit\", \"summit\", \"summit\", \"summit\", \"supervisors\", \"suspension\", \"swans\", \"swans\", \"switzerland\", \"switzerland\", \"sydney\", \"sydney\", \"sydney\", \"sydney\", \"sydney\", \"sydney\", \"sydney\", \"sydney\", \"sydney\", \"sydney\", \"sydney_hobart\", \"sydney_hobart\", \"sydney_hobart\", \"tailenders\", \"tailenders\", \"tailenders\", \"taliban\", \"taliban\", \"taliban\", \"taliban\", \"taliban\", \"taliban\", \"taliban\", \"taliban\", \"taliban\", \"tank\", \"taxpayers\", \"taxpayers\", \"team\", \"team\", \"team\", \"team\", \"team\", \"team\", \"team\", \"team\", \"team\", \"team\", \"teargas\", \"teenager\", \"teenager\", \"tel\", \"templeton\", \"terrorism\", \"terrorism\", \"terrorism\", \"terrorism\", \"terrorism\", \"terrorism\", \"terrorism\", \"terrorism\", \"test\", \"test\", \"test\", \"test\", \"test\", \"test\", \"test\", \"test\", \"test\", \"ticket\", \"ticket\", \"time\", \"time\", \"time\", \"time\", \"time\", \"time\", \"time\", \"time\", \"time\", \"time\", \"today\", \"today\", \"today\", \"today\", \"today\", \"today\", \"today\", \"today\", \"today\", \"today\", \"tom\", \"tony\", \"tony\", \"tony\", \"tony\", \"tora_bora\", \"tora_bora\", \"tora_bora\", \"tora_bora\", \"tora_bora\", \"tora_bora\", \"tora_bora\", \"tora_bora\", \"torching\", \"torture\", \"tourists\", \"tourists\", \"tourists\", \"tourists\", \"tourists\", \"tourists\", \"tourists\", \"tourists\", \"tours\", \"town\", \"town\", \"town\", \"town\", \"town\", \"training\", \"training\", \"training\", \"training\", \"training\", \"traveland\", \"traveland\", \"treason\", \"treasurer\", \"trip\", \"trip\", \"trip\", \"trips\", \"truss\", \"tyco\", \"typhoid\", \"union\", \"union\", \"union\", \"union\", \"union\", \"union\", \"united_states\", \"united_states\", \"united_states\", \"united_states\", \"united_states\", \"united_states\", \"united_states\", \"united_states\", \"united_states\", \"united_states\", \"user\", \"user\", \"utmost\", \"vehicle\", \"vehicle\", \"vehicle\", \"verdict\", \"verdict\", \"vicario\", \"views\", \"violence\", \"violence\", \"violence\", \"violence\", \"violence\", \"violence\", \"violence\", \"violence\", \"virus\", \"virus\", \"vote\", \"vote\", \"vote\", \"vote\", \"wales\", \"wales\", \"wales\", \"wales\", \"wales\", \"wales\", \"wales\", \"wales\", \"wales\", \"wallace\", \"war\", \"war\", \"war\", \"war\", \"war\", \"war\", \"war\", \"war\", \"war\", \"water\", \"water\", \"water\", \"water\", \"water\", \"water\", \"water\", \"water\", \"water\", \"waters\", \"waugh\", \"waugh\", \"waugh\", \"waugh\", \"way\", \"way\", \"way\", \"way\", \"way\", \"way\", \"way\", \"way\", \"way\", \"weather\", \"weather\", \"weather\", \"weather\", \"weather\", \"weather\", \"weather\", \"week\", \"week\", \"week\", \"week\", \"week\", \"week\", \"week\", \"week\", \"week\", \"wendy\", \"west_bank\", \"west_bank\", \"west_bank\", \"west_bank\", \"west_bank\", \"west_bank\", \"west_bank\", \"west_bank\", \"west_bank\", \"western\", \"westpac\", \"westpac\", \"westpac\", \"wicket\", \"wicket\", \"wicket\", \"wicket\", \"wickets\", \"wickets\", \"wickets\", \"wickets\", \"wickets\", \"wiget\", \"wind\", \"wind\", \"wind\", \"winds\", \"winds\", \"winds\", \"winds\", \"winds\", \"winds\", \"winds\", \"winds\", \"winter\", \"withdrawal\", \"wolthuizen\", \"wolthuizen\", \"woomera_detention\", \"woomera_detention\", \"woomera_detention\", \"woomera_detention\", \"workers\", \"workers\", \"workers\", \"workers\", \"workers\", \"workers\", \"workers\", \"workers\", \"workloads\", \"world\", \"world\", \"world\", \"world\", \"world\", \"world\", \"world\", \"world\", \"world\", \"world\", \"world_heritage\", \"world_heritage\", \"world_trade\", \"world_trade\", \"world_trade\", \"world_trade\", \"world_trade\", \"world_trade\", \"world_trade\", \"wran\", \"wran\", \"wrongdoing\", \"yacht\", \"yacht\", \"yacht_race\", \"yacht_race\", \"yallourn\", \"yallourn\", \"year\", \"year\", \"year\", \"year\", \"year\", \"year\", \"year\", \"year\", \"year\", \"year\", \"years\", \"years\", \"years\", \"years\", \"years\", \"years\", \"years\", \"years\", \"years\", \"years\", \"yes\", \"yesterday\", \"yesterday\", \"yesterday\", \"yesterday\", \"yesterday\", \"yesterday\", \"yesterday\", \"yesterday\", \"yesterday\", \"yesterday\", \"zimbabwe\", \"zimbabwe\", \"zimbabwe\", \"zinni\", \"zinni\", \"zinni\", \"zinni\"]}, \"R\": 30, \"lambda.step\": 0.01, \"plot.opts\": {\"xlab\": \"PC1\", \"ylab\": \"PC2\"}, \"topic.order\": [1, 6, 4, 7, 3, 8, 5, 2, 9, 10]};\n",
       "\n",
       "function LDAvis_load_lib(url, callback){\n",
       "  var s = document.createElement('script');\n",
       "  s.src = url;\n",
       "  s.async = true;\n",
       "  s.onreadystatechange = s.onload = callback;\n",
       "  s.onerror = function(){console.warn(\"failed to load library \" + url);};\n",
       "  document.getElementsByTagName(\"head\")[0].appendChild(s);\n",
       "}\n",
       "\n",
       "if(typeof(LDAvis) !== \"undefined\"){\n",
       "   // already loaded: just create the visualization\n",
       "   !function(LDAvis){\n",
       "       new LDAvis(\"#\" + \"ldavis_el100521400251428867127434382221\", ldavis_el100521400251428867127434382221_data);\n",
       "   }(LDAvis);\n",
       "}else if(typeof define === \"function\" && define.amd){\n",
       "   // require.js is available: use it to load d3/LDAvis\n",
       "   require.config({paths: {d3: \"https://cdnjs.cloudflare.com/ajax/libs/d3/3.5.5/d3.min\"}});\n",
       "   require([\"d3\"], function(d3){\n",
       "      window.d3 = d3;\n",
       "      LDAvis_load_lib(\"https://cdn.rawgit.com/bmabey/pyLDAvis/files/ldavis.v1.0.0.js\", function(){\n",
       "        new LDAvis(\"#\" + \"ldavis_el100521400251428867127434382221\", ldavis_el100521400251428867127434382221_data);\n",
       "      });\n",
       "    });\n",
       "}else{\n",
       "    // require.js not available: dynamically load d3 & LDAvis\n",
       "    LDAvis_load_lib(\"https://cdnjs.cloudflare.com/ajax/libs/d3/3.5.5/d3.min.js\", function(){\n",
       "         LDAvis_load_lib(\"https://cdn.rawgit.com/bmabey/pyLDAvis/files/ldavis.v1.0.0.js\", function(){\n",
       "                 new LDAvis(\"#\" + \"ldavis_el100521400251428867127434382221\", ldavis_el100521400251428867127434382221_data);\n",
       "            })\n",
       "         });\n",
       "}\n",
       "</script>"
      ],
      "text/plain": [
       "PreparedData(topic_coordinates=            Freq  cluster  topics         x         y\n",
       "topic                                                \n",
       "0      19.211811        1       1 -0.064780  0.021139\n",
       "5      12.772690        1       2 -0.045137 -0.090052\n",
       "3      11.118162        1       3 -0.049040  0.057347\n",
       "6      11.058075        1       4  0.098003  0.002478\n",
       "2      10.231109        1       5  0.062682  0.048642\n",
       "7       9.707473        1       6  0.026834  0.022616\n",
       "4       9.200910        1       7 -0.022916  0.027925\n",
       "1       8.449295        1       8 -0.046361  0.014278\n",
       "8       4.246826        1       9  0.042438 -0.060229\n",
       "9       4.003649        1      10 -0.001725 -0.044144, topic_info=     Category        Freq         Term       Total  loglift  logprob\n",
       "term                                                                \n",
       "35    Default   49.000000         fire   49.000000  30.0000  30.0000\n",
       "596   Default   41.000000         test   41.000000  29.0000  29.0000\n",
       "845   Default   73.000000       arafat   73.000000  28.0000  28.0000\n",
       "220   Default   78.000000  afghanistan   78.000000  27.0000  27.0000\n",
       "131   Default  134.000000    australia  134.000000  26.0000  26.0000\n",
       "511   Default   36.000000       afghan   36.000000  25.0000  25.0000\n",
       "223   Default   16.000000    detainees   16.000000  24.0000  24.0000\n",
       "75    Default   66.000000     security   66.000000  23.0000  23.0000\n",
       "90    Default   68.000000       police   68.000000  22.0000  22.0000\n",
       "912   Default   28.000000       metres   28.000000  21.0000  21.0000\n",
       "165   Default  114.000000   government  114.000000  20.0000  20.0000\n",
       "1562  Default   27.000000        hamas   27.000000  19.0000  19.0000\n",
       "1382  Default   14.000000      airport   14.000000  18.0000  18.0000\n",
       "2584  Default   13.000000        space   13.000000  17.0000  17.0000\n",
       "466   Default   29.000000        group   29.000000  16.0000  16.0000\n",
       "1516  Default   26.000000    tora_bora   26.000000  15.0000  15.0000\n",
       "394   Default   40.000000        force   40.000000  14.0000  14.0000\n",
       "95    Default   29.000000        india   29.000000  13.0000  13.0000\n",
       "724   Default   12.000000       flight   12.000000  12.0000  12.0000\n",
       "1687  Default   27.000000       qantas   27.000000  11.0000  11.0000\n",
       "42    Default   63.000000         year   63.000000  10.0000  10.0000\n",
       "537   Default   43.000000      israeli   43.000000   9.0000   9.0000\n",
       "808   Default    6.000000         reid    6.000000   8.0000   8.0000\n",
       "1     Default  113.000000       people  113.000000   7.0000   7.0000\n",
       "1150  Default   20.000000        radio   20.000000   6.0000   6.0000\n",
       "865   Default   31.000000       centre   31.000000   5.0000   5.0000\n",
       "310   Default   19.000000        river   19.000000   4.0000   4.0000\n",
       "1449  Default   23.000000        child   23.000000   3.0000   3.0000\n",
       "1369  Default   16.000000     kandahar   16.000000   2.0000   2.0000\n",
       "4029  Default    6.000000        virus    6.000000   1.0000   1.0000\n",
       "...       ...         ...          ...         ...      ...      ...\n",
       "1150  Topic10    2.987388        radio   20.497116   1.2921  -5.5325\n",
       "263   Topic10    0.969634      minutes    3.461669   1.9454  -6.6577\n",
       "1876  Topic10    2.911672     children   24.179185   1.1012  -5.5582\n",
       "1854  Topic10    1.243053         data    5.690172   1.6968  -6.4093\n",
       "432   Topic10    1.834153    buildings   11.894107   1.3485  -6.0203\n",
       "42    Topic10    4.314232         year   63.187362   0.5338  -5.1650\n",
       "75    Topic10    4.375606     security   66.368200   0.4988  -5.1508\n",
       "865   Topic10    2.811515       centre   31.029306   0.8168  -5.5932\n",
       "196   Topic10    3.063153       action   38.459107   0.6878  -5.5074\n",
       "1429  Topic10    1.004748      project    4.381407   1.7453  -6.6222\n",
       "1889  Topic10    0.893862    ambulance    3.495422   1.8543  -6.7391\n",
       "1562  Topic10    2.377645        hamas   27.342069   0.7756  -5.7608\n",
       "681   Topic10    1.541279          boy   11.133069   1.2407  -6.1943\n",
       "152   Topic10    2.739240        years   39.297377   0.5545  -5.6192\n",
       "845   Topic10    3.567635       arafat   73.265257   0.1958  -5.3550\n",
       "394   Topic10    2.736544        force   40.885821   0.5139  -5.6202\n",
       "90    Topic10    3.111728       police   68.870928   0.1209  -5.4917\n",
       "131   Topic10    3.833295    australia  134.747970  -0.3417  -5.2832\n",
       "165   Topic10    3.599713   government  114.401436  -0.2409  -5.3460\n",
       "356   Topic10    2.109421      morning   37.604448   0.3373  -5.8805\n",
       "193   Topic10    2.009925        staff   31.351070   0.4708  -5.9288\n",
       "125   Topic10    2.162206         time   54.477425  -0.0087  -5.8558\n",
       "522   Topic10    1.870734       number   28.617784   0.4903  -6.0006\n",
       "513   Topic10    1.660892    agreement   20.195622   0.7199  -6.1195\n",
       "15    Topic10    1.742078        south   33.266281   0.2685  -6.0718\n",
       "295   Topic10    1.807290        world   45.286411  -0.0032  -6.0351\n",
       "8     Topic10    1.873488        today   65.731224  -0.3398  -5.9991\n",
       "499   Topic10    1.734676      meeting   36.152489   0.1810  -6.0761\n",
       "1324  Topic10    1.657205      attacks   43.481374  -0.0492  -6.1218\n",
       "1022  Topic10    1.628805          day   49.560787  -0.1974  -6.1390\n",
       "\n",
       "[768 rows x 6 columns], token_table=      Topic      Freq           Term\n",
       "term                                \n",
       "3206      4  0.609816       abegglen\n",
       "2219      4  0.805441       abortion\n",
       "1637      1  0.073289          abuse\n",
       "1637      2  0.146578          abuse\n",
       "1637      3  0.073289          abuse\n",
       "1637      4  0.146578          abuse\n",
       "1637      5  0.293157          abuse\n",
       "1637      6  0.073289          abuse\n",
       "1637      7  0.073289          abuse\n",
       "1637      9  0.146578          abuse\n",
       "2046      1  0.125046       accident\n",
       "2046      4  0.500185       accident\n",
       "2046      5  0.125046       accident\n",
       "2046      6  0.125046       accident\n",
       "2046     10  0.125046       accident\n",
       "2456      2  0.592613  accommodation\n",
       "196       1  0.286018         action\n",
       "196       2  0.052003         action\n",
       "196       3  0.026002         action\n",
       "196       4  0.104007         action\n",
       "196       5  0.156010         action\n",
       "196       6  0.156010         action\n",
       "196       7  0.052003         action\n",
       "196       8  0.052003         action\n",
       "196       9  0.052003         action\n",
       "196      10  0.078005         action\n",
       "2128     10  0.791090           acts\n",
       "1202      1  0.191147       adelaide\n",
       "1202      2  0.095573       adelaide\n",
       "1202      3  0.143360       adelaide\n",
       "...     ...       ...            ...\n",
       "42        9  0.015826           year\n",
       "42       10  0.063304           year\n",
       "152       1  0.254470          years\n",
       "152       2  0.076341          years\n",
       "152       3  0.076341          years\n",
       "152       4  0.076341          years\n",
       "152       5  0.152682          years\n",
       "152       6  0.050894          years\n",
       "152       7  0.050894          years\n",
       "152       8  0.127235          years\n",
       "152       9  0.050894          years\n",
       "152      10  0.076341          years\n",
       "1254      3  0.853348            yes\n",
       "111       1  0.096654      yesterday\n",
       "111       2  0.120818      yesterday\n",
       "111       3  0.096654      yesterday\n",
       "111       4  0.241636      yesterday\n",
       "111       5  0.144981      yesterday\n",
       "111       6  0.120818      yesterday\n",
       "111       7  0.072491      yesterday\n",
       "111       8  0.024164      yesterday\n",
       "111       9  0.024164      yesterday\n",
       "111      10  0.024164      yesterday\n",
       "1911      2  0.168792       zimbabwe\n",
       "1911      9  0.168792       zimbabwe\n",
       "1911     10  0.506376       zimbabwe\n",
       "835       1  0.496398          zinni\n",
       "835       2  0.099280          zinni\n",
       "835       3  0.099280          zinni\n",
       "835       9  0.198559          zinni\n",
       "\n",
       "[1952 rows x 3 columns], R=30, lambda_step=0.01, plot_opts={'xlab': 'PC1', 'ylab': 'PC2'}, topic_order=[1, 6, 4, 7, 3, 8, 5, 2, 9, 10])"
      ]
     },
     "execution_count": 15,
     "metadata": {},
     "output_type": "execute_result"
    }
   ],
   "source": [
    "pyLDAvis.gensim.prepare(ldamodel, corpus, dictionary)"
   ]
  },
  {
   "cell_type": "code",
   "execution_count": 16,
   "metadata": {
    "collapsed": true,
    "nbpresent": {
     "id": "13f462fd-b0c3-4a29-90f3-050e2317b72c"
    }
   },
   "outputs": [],
   "source": [
    "ldatopics = ldamodel.show_topics(formatted=False)"
   ]
  },
  {
   "cell_type": "markdown",
   "metadata": {
    "nbpresent": {
     "id": "68d38063-fb92-4d36-b3fb-f2d3cbff9eb5"
    }
   },
   "source": [
    "### Finding out the optimal number of topics\n",
    "__Introduction to topic coherence__:\n",
    "<img src=\"https://rare-technologies.com/wp-content/uploads/2016/06/pipeline.png\">\n",
    "Topic coherence in essence measures the human interpretability of a topic model. Traditionally [perplexity has been used](http://qpleple.com/perplexity-to-evaluate-topic-models/) to evaluate topic models however this does not correlate with human annotations at times. Topic coherence is another way to evaluate topic models with a much higher guarantee on human interpretability. Thus this can be used to compare different topic models among many other use-cases. Here's a short blog I wrote explaining topic coherence:\n",
    "[What is topic coherence?](https://rare-technologies.com/what-is-topic-coherence/)"
   ]
  },
  {
   "cell_type": "code",
   "execution_count": 17,
   "metadata": {
    "collapsed": true,
    "nbpresent": {
     "id": "45b1a641-1152-4364-ad25-62d1f8187317"
    }
   },
   "outputs": [],
   "source": [
    "def evaluate_graph(dictionary, corpus, texts, limit):\n",
    "    \"\"\"\n",
    "    Function to display num_topics - LDA graph using c_v coherence\n",
    "    \n",
    "    Parameters:\n",
    "    ----------\n",
    "    dictionary : Gensim dictionary\n",
    "    corpus : Gensim corpus\n",
    "    limit : topic limit\n",
    "    \n",
    "    Returns:\n",
    "    -------\n",
    "    lm_list : List of LDA topic models\n",
    "    c_v : Coherence values corresponding to the LDA model with respective number of topics\n",
    "    \"\"\"\n",
    "    c_v = []\n",
    "    lm_list = []\n",
    "    for num_topics in range(1, limit):\n",
    "        lm = LdaModel(corpus=corpus, num_topics=num_topics, id2word=dictionary)\n",
    "        lm_list.append(lm)\n",
    "        cm = CoherenceModel(model=lm, texts=texts, dictionary=dictionary, coherence='c_v')\n",
    "        c_v.append(cm.get_coherence())\n",
    "        \n",
    "    # Show graph\n",
    "    x = range(1, limit)\n",
    "    plt.plot(x, c_v)\n",
    "    plt.xlabel(\"num_topics\")\n",
    "    plt.ylabel(\"Coherence score\")\n",
    "    plt.legend((\"c_v\"), loc='best')\n",
    "    plt.show()\n",
    "    \n",
    "    return lm_list, c_v"
   ]
  },
  {
   "cell_type": "code",
   "execution_count": 18,
   "metadata": {
    "nbpresent": {
     "id": "e8936716-d06c-4cef-ae87-5c5da9a25a85"
    }
   },
   "outputs": [
    {
     "data": {
      "image/png": "[encoded data removed]",
      "text/plain": [
       "<matplotlib.figure.Figure at 0x7f59e8fb8a20>"
      ]
     },
     "metadata": {},
     "output_type": "display_data"
    },
    {
     "name": "stdout",
     "output_type": "stream",
     "text": [
      "CPU times: user 18.9 s, sys: 204 ms, total: 19.1 s\n",
      "Wall time: 19.9 s\n"
     ]
    }
   ],
   "source": [
    "%%time\n",
    "lmlist, c_v = evaluate_graph(dictionary=dictionary, corpus=corpus, texts=train_texts, limit=10)"
   ]
  },
  {
   "cell_type": "code",
   "execution_count": 19,
   "metadata": {
    "nbpresent": {
     "id": "c02b6f0a-801c-4a8f-aa8f-8c9d64df7a9a"
    }
   },
   "outputs": [
    {
     "name": "stderr",
     "output_type": "stream",
     "text": [
      "/home/pedro.castro/anaconda3/lib/python3.6/site-packages/pyLDAvis/_prepare.py:387: DeprecationWarning: \n",
      ".ix is deprecated. Please use\n",
      ".loc for label based indexing or\n",
      ".iloc for positional indexing\n",
      "\n",
      "See the documentation here:\n",
      "http://pandas.pydata.org/pandas-docs/stable/indexing.html#ix-indexer-is-deprecated\n",
      "  topic_term_dists = topic_term_dists.ix[topic_order]\n"
     ]
    },
    {
     "data": {
      "text/html": [
       "\n",
       "<link rel=\"stylesheet\" type=\"text/css\" href=\"https://cdn.rawgit.com/bmabey/pyLDAvis/files/ldavis.v1.0.0.css\">\n",
       "\n",
       "\n",
       "<div id=\"ldavis_el10052140024128965752233392816\"></div>\n",
       "<script type=\"text/javascript\">\n",
       "\n",
       "var ldavis_el10052140024128965752233392816_data = {\"mdsDat\": {\"Freq\": [26.261757603478042, 22.837452419478183, 20.740263126047477, 15.54303028909754, 14.617496561898754], \"cluster\": [1, 1, 1, 1, 1], \"topics\": [1, 2, 3, 4, 5], \"x\": [0.006513247595464116, -0.023168293701493006, -0.04855067681431597, 0.06325718716722178, 0.001948535753123063], \"y\": [0.059806756571407375, 0.011004744769117841, -0.02355322907044574, -0.01934499954799667, -0.02791327272208273]}, \"tinfo\": {\"Category\": [\"Default\", \"Default\", \"Default\", \"Default\", \"Default\", \"Default\", \"Default\", \"Default\", \"Default\", \"Default\", \"Default\", \"Default\", \"Default\", \"Default\", \"Default\", \"Default\", \"Default\", \"Default\", \"Default\", \"Default\", \"Default\", \"Default\", \"Default\", \"Default\", \"Default\", \"Default\", \"Default\", \"Default\", \"Default\", \"Default\", \"Topic1\", \"Topic1\", \"Topic1\", \"Topic1\", \"Topic1\", \"Topic1\", \"Topic1\", \"Topic1\", \"Topic1\", \"Topic1\", \"Topic1\", \"Topic1\", \"Topic1\", \"Topic1\", \"Topic1\", \"Topic1\", \"Topic1\", \"Topic1\", \"Topic1\", \"Topic1\", \"Topic1\", \"Topic1\", \"Topic1\", \"Topic1\", \"Topic1\", \"Topic1\", \"Topic1\", \"Topic1\", \"Topic1\", \"Topic1\", \"Topic1\", \"Topic1\", \"Topic1\", \"Topic1\", \"Topic1\", \"Topic1\", \"Topic1\", \"Topic1\", \"Topic1\", \"Topic1\", \"Topic1\", \"Topic1\", \"Topic1\", \"Topic1\", \"Topic1\", \"Topic1\", \"Topic1\", \"Topic1\", \"Topic1\", \"Topic1\", \"Topic1\", \"Topic1\", \"Topic1\", \"Topic1\", \"Topic1\", \"Topic1\", \"Topic1\", \"Topic1\", \"Topic1\", \"Topic1\", \"Topic1\", \"Topic1\", \"Topic1\", \"Topic1\", \"Topic1\", \"Topic1\", \"Topic1\", \"Topic1\", \"Topic1\", \"Topic1\", \"Topic1\", \"Topic1\", \"Topic1\", \"Topic2\", \"Topic2\", \"Topic2\", \"Topic2\", \"Topic2\", \"Topic2\", \"Topic2\", \"Topic2\", \"Topic2\", \"Topic2\", \"Topic2\", \"Topic2\", \"Topic2\", \"Topic2\", \"Topic2\", \"Topic2\", \"Topic2\", \"Topic2\", \"Topic2\", \"Topic2\", \"Topic2\", \"Topic2\", \"Topic2\", \"Topic2\", \"Topic2\", \"Topic2\", \"Topic2\", \"Topic2\", \"Topic2\", \"Topic2\", \"Topic2\", \"Topic2\", \"Topic2\", \"Topic2\", \"Topic2\", \"Topic2\", \"Topic2\", \"Topic2\", \"Topic2\", \"Topic2\", \"Topic2\", \"Topic2\", \"Topic2\", \"Topic2\", \"Topic2\", \"Topic2\", \"Topic2\", \"Topic2\", \"Topic2\", \"Topic2\", \"Topic2\", \"Topic2\", \"Topic2\", \"Topic2\", \"Topic2\", \"Topic2\", \"Topic2\", \"Topic2\", \"Topic2\", \"Topic2\", \"Topic2\", \"Topic2\", \"Topic2\", \"Topic2\", \"Topic2\", \"Topic2\", \"Topic2\", \"Topic2\", \"Topic2\", \"Topic2\", \"Topic2\", \"Topic2\", \"Topic2\", \"Topic2\", \"Topic3\", \"Topic3\", \"Topic3\", \"Topic3\", \"Topic3\", \"Topic3\", \"Topic3\", \"Topic3\", \"Topic3\", \"Topic3\", \"Topic3\", \"Topic3\", \"Topic3\", \"Topic3\", \"Topic3\", \"Topic3\", \"Topic3\", \"Topic3\", \"Topic3\", \"Topic3\", \"Topic3\", \"Topic3\", \"Topic3\", \"Topic3\", \"Topic3\", \"Topic3\", \"Topic3\", \"Topic3\", \"Topic3\", \"Topic3\", \"Topic3\", \"Topic3\", \"Topic3\", \"Topic3\", \"Topic3\", \"Topic3\", \"Topic3\", \"Topic3\", \"Topic3\", \"Topic3\", \"Topic3\", \"Topic3\", \"Topic3\", \"Topic3\", \"Topic3\", \"Topic3\", \"Topic3\", \"Topic3\", \"Topic3\", \"Topic3\", \"Topic3\", \"Topic3\", \"Topic3\", \"Topic3\", \"Topic3\", \"Topic3\", \"Topic3\", \"Topic3\", \"Topic3\", \"Topic3\", \"Topic3\", \"Topic3\", \"Topic3\", \"Topic3\", \"Topic3\", \"Topic3\", \"Topic3\", \"Topic3\", \"Topic3\", \"Topic3\", \"Topic3\", \"Topic3\", \"Topic3\", \"Topic3\", \"Topic3\", \"Topic3\", \"Topic4\", \"Topic4\", \"Topic4\", \"Topic4\", \"Topic4\", \"Topic4\", \"Topic4\", \"Topic4\", \"Topic4\", \"Topic4\", \"Topic4\", \"Topic4\", \"Topic4\", \"Topic4\", \"Topic4\", \"Topic4\", \"Topic4\", \"Topic4\", \"Topic4\", \"Topic4\", \"Topic4\", \"Topic4\", \"Topic4\", \"Topic4\", \"Topic4\", \"Topic4\", \"Topic4\", \"Topic4\", \"Topic4\", \"Topic4\", \"Topic4\", \"Topic4\", \"Topic4\", \"Topic4\", \"Topic4\", \"Topic4\", \"Topic4\", \"Topic4\", \"Topic4\", \"Topic4\", \"Topic4\", \"Topic4\", \"Topic4\", \"Topic4\", \"Topic4\", \"Topic4\", \"Topic4\", \"Topic4\", \"Topic4\", \"Topic4\", \"Topic4\", \"Topic4\", \"Topic4\", \"Topic4\", \"Topic4\", \"Topic4\", \"Topic4\", \"Topic4\", \"Topic4\", \"Topic4\", \"Topic4\", \"Topic4\", \"Topic4\", \"Topic4\", \"Topic4\", \"Topic4\", \"Topic4\", \"Topic4\", \"Topic4\", \"Topic4\", \"Topic4\", \"Topic4\", \"Topic4\", \"Topic4\", \"Topic5\", \"Topic5\", \"Topic5\", \"Topic5\", \"Topic5\", \"Topic5\", \"Topic5\", \"Topic5\", \"Topic5\", \"Topic5\", \"Topic5\", \"Topic5\", \"Topic5\", \"Topic5\", \"Topic5\", \"Topic5\", \"Topic5\", \"Topic5\", \"Topic5\", \"Topic5\", \"Topic5\", \"Topic5\", \"Topic5\", \"Topic5\", \"Topic5\", \"Topic5\", \"Topic5\", \"Topic5\", \"Topic5\", \"Topic5\", \"Topic5\", \"Topic5\", \"Topic5\", \"Topic5\", \"Topic5\", \"Topic5\", \"Topic5\", \"Topic5\", \"Topic5\", \"Topic5\", \"Topic5\", \"Topic5\", \"Topic5\", \"Topic5\", \"Topic5\", \"Topic5\", \"Topic5\", \"Topic5\", \"Topic5\", \"Topic5\", \"Topic5\", \"Topic5\", \"Topic5\", \"Topic5\", \"Topic5\", \"Topic5\", \"Topic5\", \"Topic5\", \"Topic5\", \"Topic5\", \"Topic5\", \"Topic5\", \"Topic5\", \"Topic5\", \"Topic5\", \"Topic5\", \"Topic5\", \"Topic5\", \"Topic5\", \"Topic5\", \"Topic5\", \"Topic5\", \"Topic5\", \"Topic5\", \"Topic5\", \"Topic5\", \"Topic5\", \"Topic5\", \"Topic5\", \"Topic5\", \"Topic5\", \"Topic5\", \"Topic5\", \"Topic5\", \"Topic5\"], \"Freq\": [122.0, 28.0, 38.0, 40.0, 73.0, 18.0, 14.0, 36.0, 19.0, 39.0, 26.0, 18.0, 12.0, 23.0, 74.0, 13.0, 5.0, 5.0, 43.0, 21.0, 63.0, 14.0, 27.0, 15.0, 10.0, 50.0, 14.0, 7.0, 28.0, 6.0, 3.9789743995561144, 3.977411639992443, 4.577471609944957, 3.0290035333562604, 2.8580344617608953, 2.8354172293947295, 2.0844590232833267, 2.084311097599586, 2.0837901335857634, 4.745304704361911, 2.0219866195300855, 2.021629492937013, 5.3759195703894465, 1.9287663370841739, 4.5283661635601185, 11.411050708618733, 2.5753914801536477, 3.1461959639017163, 1.901129329831041, 1.896327834392862, 1.8978085624409697, 2.484157320364517, 1.8476539202875149, 2.449884752379054, 1.8360152075052287, 1.8338412764191658, 1.8056694393818025, 3.7412397646724647, 1.8273580059570644, 5.915917710400677, 2.980455379079655, 12.117501863296049, 23.418812725929126, 8.047642217064562, 23.101397621453998, 8.578362667553023, 16.198158379946108, 16.008545442554784, 33.6956238397974, 5.7917576000376165, 43.812459880249214, 13.729996047201618, 6.844054546602822, 14.038393649942789, 6.739929532564754, 10.622900510855942, 16.234414627397026, 18.325547330674194, 26.22030557408554, 19.036405394925165, 13.954717555881892, 18.679276432883142, 19.95484705751044, 14.937482902140083, 9.512739529080543, 31.727354958138612, 9.255649922738835, 17.698493598709025, 13.48682709492755, 18.038374096423453, 14.078563687218248, 14.546381837020657, 8.302891220486456, 13.916393415060602, 16.710079831662767, 14.574777063027021, 11.578943626048222, 11.649963207474395, 15.55116476797866, 14.236253851540596, 12.073729510262071, 12.520559242518688, 12.34779790024648, 5.120791156477571, 6.478987379375356, 3.195188817386924, 3.718990845974412, 3.0632655423173865, 2.434988417819968, 2.429777508366699, 4.806376552738015, 2.95472163528972, 2.347818812575827, 11.392920131773138, 4.053131388445167, 13.971513530870142, 1.6742641574535635, 1.673840175274557, 1.6736459533219183, 1.6727385758752908, 1.671952757680413, 5.022885195742033, 4.422548271560866, 3.3127700258757264, 1.6388331610251259, 2.172284130538822, 1.636159473129362, 2.7129746468241334, 7.642671270210116, 1.6304455019172868, 1.6095104999232484, 1.6015738508334032, 2.663259438557613, 2.148487600153901, 2.155767344145252, 2.648716761078746, 5.186680774492219, 5.77843549757181, 9.56774924350165, 4.141847569140497, 4.445486588274424, 4.050124403184097, 3.0837083214550134, 3.092387692572649, 51.51592972723502, 3.42038775390255, 15.27349641643923, 5.0122325531534555, 21.041433535199555, 4.736035649882684, 5.841502399658386, 21.70704271888498, 14.332092868609125, 28.726242535366836, 20.53353050743382, 9.23815199675644, 12.647356587481196, 17.957735052071037, 11.59587207683126, 12.287160725515815, 13.404456831131919, 23.603619139483282, 13.221662601379752, 11.136466933832116, 13.718038868342719, 12.20016493424486, 13.717927614866243, 12.216559121837985, 13.025566798518243, 10.037253023971378, 11.594539956444734, 14.889599350706074, 8.65718481679818, 10.782566246829406, 12.158073989295248, 10.41098857889949, 10.396874936556548, 2.725891754924332, 4.7377366381454165, 2.6800730442819036, 2.6466189205771804, 2.624517098251442, 2.619384394505092, 3.063754427450231, 2.444979872995414, 2.320505233956708, 4.510934606554036, 2.8203533673741705, 7.247841339643973, 3.4110158429375574, 1.7017526398811489, 1.6957900986436272, 2.1926470425285287, 3.316705192163001, 1.658436429184952, 3.803187689096056, 1.6694315791043333, 2.7113724379221544, 2.1725921495234433, 1.6619155006357562, 1.6510951504150637, 1.651596454543979, 1.6433691430835196, 1.6427734561583267, 2.142179449916478, 1.633506843878366, 1.6263936203856266, 17.300721038467344, 6.6678612677821985, 5.03655639730062, 5.402376393673053, 7.5852982779808, 14.19029838622715, 3.064047393743196, 4.402882997160011, 13.983002957597478, 5.45699757464314, 5.80491742045269, 18.150780539909228, 8.278394509695953, 10.172150804864549, 20.561947098168257, 12.804290157435071, 12.454501961075946, 21.367982741484543, 7.108930077866492, 9.136686277674329, 7.923198724132633, 6.123641585151028, 16.835094987107713, 16.50196004462284, 24.258459420839397, 7.259066546372929, 5.528909862895315, 17.371974279270194, 21.77345740565029, 13.515908105875614, 14.656033738700058, 9.342885345356255, 12.286141779521992, 9.166845179888766, 10.755600266877131, 11.187382645865133, 10.155401938346717, 16.972661371565206, 9.995780750164137, 12.40332413402422, 9.617042536158738, 10.37700527851017, 9.78090154558869, 9.244539496067503, 9.398686411326437, 9.193961001132731, 4.88994637133662, 4.88976751631485, 2.9336613302857018, 2.3351035420483455, 2.9046162186955775, 2.9438218289889053, 1.7350552399584278, 1.7349094978911352, 1.7348659131159472, 1.734807665459558, 4.513653489585847, 2.7886718444738774, 2.1386414580416657, 1.587550051339419, 1.5864055825682908, 3.7720145072585467, 2.0718527134568947, 1.5290257960539362, 1.5230155828793381, 1.4905799258636359, 1.4844743846139492, 1.5143165553019176, 1.511643291459467, 1.507877007025684, 1.5051922291065827, 1.4687403589089791, 1.4950314152615203, 1.4916226268317767, 1.4662243007867897, 1.463057347446763, 2.2810744272574626, 2.335845463301995, 4.3011030624888695, 16.671439723057077, 3.7268665777371037, 2.6868333417669406, 8.966272607284262, 6.6586757963763645, 2.331119536742951, 6.562445367263098, 5.500449883893819, 3.981753780920192, 4.506757547127695, 9.904208428267827, 19.76466843737066, 11.66844698142709, 8.612766076941195, 6.839659476222792, 7.553754093804649, 7.802283786711452, 4.911636619550888, 6.017207687225109, 6.45435858628917, 9.194036627460356, 16.943758373651633, 11.064497212321578, 10.087342791098381, 10.110269596821354, 8.240689077711059, 7.790083079649222, 14.359773032129548, 7.3524059640937205, 12.987074475575504, 8.53259448745783, 7.769370673316334, 8.822754339282145, 8.001881759647285, 8.371095147281109, 8.456774936444438, 8.192144109287211, 6.719843256469563, 7.341527258255183, 7.5558826971189905, 7.446577944916761, 2.0715141878350654, 2.463248422506379, 1.4433000514569916, 3.3312091831956194, 1.7784654413396122, 4.40696218395374, 1.2285785293494966, 2.437430169571305, 0.801546681636767, 0.8015463637694786, 0.8015387680885271, 0.8015275751532875, 0.8015028420009805, 0.8014885461794742, 0.8014850462316533, 0.8014375206500323, 0.8013814345129914, 0.8013702433834006, 2.740850953874817, 0.7922897184050476, 0.7909896597199125, 0.7909005836385525, 0.7899151440912552, 0.7890477064525608, 0.7866231179585765, 0.7859386310980427, 1.1829222383944245, 0.784710271896464, 0.784815186404037, 1.1663778728436665, 6.608015823321786, 1.5256547875139328, 1.171730199728402, 1.1511116443683578, 4.051438323078152, 2.8925346062152837, 2.5707715405602998, 2.5291284782776877, 5.898235757122057, 3.518996207086087, 1.8158683086446696, 5.992270392598221, 1.1457319265762522, 1.1435762202339397, 7.655005714822964, 1.4695770479293135, 1.1587131932327837, 2.082895473324451, 1.7931543728189925, 3.8290157947988717, 3.8391577706711706, 3.781817395108867, 3.696079159021596, 2.084832345795394, 2.6605045969120957, 2.841819932842194, 6.766159553095077, 4.813810469446242, 21.73347575381767, 6.560503719788624, 11.871312137385353, 6.5045802105455275, 13.185024696816038, 5.975926774940099, 4.947625764169807, 5.755918118835723, 8.629417757663258, 8.169297138912253, 16.153200367642057, 10.52013824701342, 10.24735314688301, 6.252415759494366, 9.952229213621637, 7.567993903664319, 8.224567675853827, 9.731801414873487, 11.011630802086106, 8.912378817297142, 5.662083027116247, 5.303714147884109, 6.229584560063826, 6.009358925625988, 6.484874670107678, 5.913220093838173, 5.818153103211429], \"Term\": [\"australia\", \"metres\", \"force\", \"test\", \"arafat\", \"detainees\", \"asylum_seekers\", \"afghan\", \"river\", \"israel\", \"match\", \"queensland\", \"flight\", \"south_africa\", \"afghanistan\", \"hollingworth\", \"world_heritage\", \"products\", \"israeli\", \"radio\", \"year\", \"kabul\", \"power\", \"boat\", \"waugh\", \"man\", \"weapons\", \"pacific\", \"qantas\", \"friedli\", \"almao\", \"cow\", \"focus\", \"ferguson\", \"lew\", \"airspace\", \"seamaster\", \"macapa\", \"amalgamation\", \"drug\", \"buses\", \"guerrilla\", \"review\", \"singh\", \"building_industry\", \"official\", \"flood\", \"islamabad\", \"motorists\", \"picton\", \"carr\", \"aziz\", \"sand\", \"khan\", \"rally\", \"lionel\", \"lavarch\", \"gerber\", \"bulli\", \"lockett\", \"rudd\", \"party\", \"israel\", \"movement\", \"israeli\", \"storm\", \"hamas\", \"india\", \"arafat\", \"highway\", \"government\", \"peace\", \"hicks\", \"union\", \"access\", \"labor\", \"pakistan\", \"attacks\", \"police\", \"officials\", \"areas\", \"sydney\", \"company\", \"meeting\", \"process\", \"people\", \"defence\", \"forces\", \"state\", \"united_states\", \"president\", \"taliban\", \"operations\", \"yesterday\", \"security\", \"time\", \"war\", \"wales\", \"afghanistan\", \"today\", \"commission\", \"day\", \"australia\", \"refugees\", \"pacific\", \"casinos\", \"ruddock\", \"refugee\", \"utn\", \"chase\", \"seles\", \"burden\", \"china\", \"asylum_seekers\", \"petrol\", \"detainees\", \"ismail\", \"killmier\", \"nurse\", \"potts\", \"patrol\", \"woomera\", \"woomera_detention\", \"immigration\", \"convention\", \"spills\", \"zone\", \"gambill\", \"island\", \"airlift\", \"asylum\", \"cannon\", \"minutes\", \"mount\", \"senior\", \"ambulance\", \"population\", \"nauru\", \"boat\", \"immigration_minister\", \"pilot\", \"solution\", \"facilities\", \"visa\", \"australia\", \"oil\", \"centre\", \"facility\", \"man\", \"virus\", \"hewitt\", \"year\", \"commission\", \"people\", \"police\", \"family\", \"state\", \"today\", \"staff\", \"members\", \"cent\", \"government\", \"world\", \"south\", \"sydney\", \"test\", \"fire\", \"taliban\", \"day\", \"night\", \"yesterday\", \"afghanistan\", \"leaders\", \"president\", \"time\", \"days\", \"security\", \"dfat\", \"tailenders\", \"nelson\", \"razor\", \"saadi\", \"baker\", \"huegill\", \"potential\", \"palmerston\", \"steve_waugh\", \"bond\", \"waugh\", \"gang\", \"rosebury\", \"gibbs\", \"sinai\", \"henderson\", \"larrakia\", \"races\", \"advantage\", \"welsh\", \"alei\", \"intimidatory\", \"send\", \"difficulties\", \"output\", \"performance\", \"butterfly\", \"word\", \"batting\", \"metres\", \"wicket\", \"reid\", \"bowling\", \"side\", \"match\", \"coroner\", \"post\", \"qantas\", \"gunmen\", \"lee\", \"test\", \"new_zealand\", \"house\", \"fire\", \"report\", \"authority\", \"arafat\", \"captain\", \"army\", \"lot\", \"innings\", \"year\", \"security\", \"australia\", \"men\", \"sex\", \"afghanistan\", \"people\", \"man\", \"united_states\", \"workers\", \"days\", \"leader\", \"years\", \"world\", \"area\", \"government\", \"hours\", \"today\", \"laden\", \"company\", \"israeli\", \"israel\", \"police\", \"officials\", \"world_heritage\", \"products\", \"chechen\", \"iraq\", \"mistakes\", \"brain\", \"schneiders\", \"dempsey\", \"grocery\", \"hooke\", \"friedli\", \"analysis\", \"chemical\", \"factories\", \"butler\", \"assa_abloy\", \"raduyev\", \"supervisors\", \"wrongdoing\", \"dagestan\", \"salman\", \"trips\", \"nettle\", \"kerry\", \"bourne\", \"hostage\", \"greens\", \"catastrophe\", \"sorrow\", \"senator\", \"suspension\", \"wolfowitz\", \"trip\", \"force\", \"interlaken\", \"mandate\", \"river\", \"kabul\", \"cells\", \"weapons\", \"guides\", \"places\", \"karzai\", \"power\", \"afghanistan\", \"afghan\", \"place\", \"council\", \"court\", \"troops\", \"adventure_world\", \"kandahar\", \"qaeda\", \"action\", \"government\", \"company\", \"days\", \"forces\", \"laden\", \"war\", \"people\", \"group\", \"australia\", \"officials\", \"morning\", \"time\", \"taliban\", \"day\", \"security\", \"united_states\", \"minister\", \"world\", \"today\", \"year\", \"boston\", \"selectors\", \"shepherd\", \"explanation\", \"attendants\", \"macgill\", \"scg\", \"shoes\", \"kinton\", \"smell\", \"mantravelling\", \"sulphur\", \"fbi\", \"tom\", \"context\", \"jetliner\", \"logan\", \"stoppages\", \"squad\", \"jim\", \"tradition\", \"scandal\", \"bishops\", \"catholic\", \"shepherds\", \"soorley\", \"nominations\", \"damien\", \"advocates\", \"ingvall\", \"flight\", \"megawati\", \"crowe\", \"door\", \"advice\", \"andy_bichel\", \"summit\", \"cut\", \"abuse\", \"debt\", \"knop\", \"hollingworth\", \"bass\", \"batt\", \"queensland\", \"individual\", \"actress\", \"pace\", \"handling\", \"governor_general\", \"school\", \"brisbane\", \"howard\", \"strachan\", \"questions\", \"anglican\", \"statement\", \"plane\", \"australia\", \"talks\", \"time\", \"south_africa\", \"security\", \"federal\", \"cricket\", \"agreement\", \"president\", \"afghan\", \"people\", \"united_states\", \"today\", \"prime_minister\", \"year\", \"test\", \"day\", \"arafat\", \"government\", \"police\", \"tora_bora\", \"radio\", \"morning\", \"action\", \"afghanistan\", \"forces\", \"days\"], \"Total\": [122.0, 28.0, 38.0, 40.0, 73.0, 18.0, 14.0, 36.0, 19.0, 39.0, 26.0, 18.0, 12.0, 23.0, 74.0, 13.0, 5.0, 5.0, 43.0, 21.0, 63.0, 14.0, 27.0, 15.0, 10.0, 50.0, 14.0, 7.0, 28.0, 6.0, 4.595205529235512, 4.594945186783371, 5.482132534699173, 3.6470246780180275, 3.6024920091466295, 3.610950991711514, 2.699942653970372, 2.6999055077926037, 2.699800036006761, 6.161024051471307, 2.687779525292252, 2.687687574088644, 7.233198819034675, 2.670612441988823, 6.287612799852316, 15.929898491381937, 3.603804577643419, 4.416909400386556, 2.674159276585998, 2.6731969740458856, 2.6785042240739183, 3.5397469540145705, 2.65764386021816, 3.5323706070657077, 2.6581419703276037, 2.6577923835587316, 2.6203265168905276, 5.429185666429518, 2.663306443899299, 8.667720120080846, 4.368822525095645, 19.40872561108268, 39.47942027966887, 13.006717770061776, 43.827815576925595, 14.681780334848595, 30.280111626528818, 30.587975400536273, 73.18664422154168, 9.623920380981541, 112.34412956703544, 28.03258719682905, 12.09345978748098, 29.631339801108417, 11.98044155227403, 21.25157727905643, 36.74345888741009, 43.43599016362425, 69.05144883064564, 47.12399665594713, 31.431528343878675, 48.2413548108494, 54.37830721495393, 36.33095991566834, 19.43229020713248, 112.74002829892736, 18.8628971864862, 51.199854956064385, 35.323171591352036, 58.81668367466723, 39.226072282491394, 41.93937709326487, 16.038870702206395, 42.014608754559916, 65.25071444610263, 54.025808736525114, 31.394354088369248, 33.56035827730528, 74.06228150543326, 62.40054888163785, 39.46136388724295, 49.647029105195465, 122.84273727771408, 6.146743549455231, 7.783880969318815, 3.84974142534641, 4.643084097396992, 3.8546410445248815, 3.0884292199150343, 3.088636860272818, 6.1695116410641955, 3.858471082190033, 3.0783161925741362, 14.960409095938191, 5.341960158263671, 18.80429642315514, 2.3271401466342665, 2.327129050761758, 2.327117243030816, 2.3273052892521124, 2.3272179627434366, 7.043415887828144, 6.259961806233781, 4.7024264794791035, 2.328424900561833, 3.0878054135607638, 2.328601878439704, 3.873850200268904, 10.913329897774998, 2.337800596392866, 2.3319683489913667, 2.3244623788649483, 3.865580970989234, 3.1261870391806417, 3.1412814738512425, 3.8802207745089032, 7.775557123347548, 8.903122740900846, 15.293792657834668, 6.3886164335890845, 7.036491550889032, 6.376707496308354, 4.67711130077959, 4.700788076947423, 122.84273727771408, 5.309138309295482, 32.88504390330879, 8.470595910126555, 50.778992249346565, 8.071762479392282, 10.585601540251087, 63.052675322057105, 39.46136388724295, 112.74002829892736, 69.05144883064564, 21.63025493738787, 35.323171591352036, 62.40054888163785, 32.237148402537066, 36.31664075687886, 41.7983755823174, 112.34412956703544, 43.93070462084059, 33.44521639816835, 48.2413548108494, 40.91222213157929, 51.974886668557126, 41.93937709326487, 49.647029105195465, 30.396749840694277, 42.014608754559916, 74.06228150543326, 22.20546731770536, 39.226072282491394, 54.025808736525114, 47.59810786332639, 65.25071444610263, 3.3737246172866833, 5.889025813141497, 3.3722815980910563, 3.367264826430083, 3.3646654544608188, 3.3652845165823226, 4.124599416190694, 3.3460065037019824, 3.282441880916604, 6.519959526748261, 4.096593333062373, 10.54405471994509, 4.962542873264524, 2.477987030648414, 2.4915770092606824, 3.258212374919257, 4.932465682555533, 2.4684443934737272, 5.662686799679587, 2.496542191906822, 4.058203460656239, 3.2538723269178385, 2.49667433016222, 2.495157057445472, 2.504217907192961, 2.494397956388592, 2.4940161640409855, 3.2607520576147238, 2.4901704741263897, 2.4926955090839873, 28.087756077541453, 10.559377625706956, 7.986773278418394, 8.91882273690831, 12.892942501248118, 26.380319891213738, 4.927351409749613, 7.485971368806365, 28.54115191434147, 9.75133791099066, 10.494935558578858, 40.91222213157929, 16.174911038844062, 21.292698542943548, 51.974886668557126, 31.931947461043368, 31.026219851967966, 73.18664422154168, 15.365958264365899, 22.207797225948937, 18.112749345101943, 12.557071076816749, 63.052675322057105, 65.25071444610263, 122.84273727771408, 17.157355974484545, 10.940824216924689, 74.06228150543326, 112.74002829892736, 50.778992249346565, 58.81668367466723, 26.9394973169357, 47.59810786332639, 27.966200332139067, 39.63766995504898, 43.93070462084059, 35.82181807062286, 112.34412956703544, 34.9363749790062, 62.40054888163785, 34.813212978447, 54.37830721495393, 43.827815576925595, 39.47942027966887, 69.05144883064564, 47.12399665594713, 5.538401882074976, 5.538479742064206, 3.9472044106154613, 3.1427329459814954, 3.967775441027186, 4.034659597335981, 2.3825499504097203, 2.382540386047945, 2.3825354217860046, 2.382548912307746, 6.239591797948757, 3.953477683708821, 3.162653891905881, 2.3600380562549574, 2.359884180051773, 5.659037472707823, 3.1556566523548337, 2.419156202855237, 2.4214393202173317, 2.373982993191364, 2.3737390070596707, 2.4231400344062197, 2.4274318975805973, 2.4281855316101417, 2.428780441229517, 2.3731792910922764, 2.4307667357509133, 2.429080870198491, 2.432261553956878, 2.4372103046718796, 3.8539391521719257, 3.9561813883602013, 7.6759994449510724, 38.18841408505858, 6.939313719703005, 4.7801969593252815, 19.875657919707734, 14.015708484344765, 4.07853171228813, 14.232070352458358, 11.88729791338784, 7.996835592476183, 9.792296408540079, 27.94221933386681, 74.06228150543326, 36.06920700651614, 23.995886703290026, 17.82417011424985, 21.933426297614954, 23.10248770943122, 12.12803481321501, 17.852742081120045, 20.173034721532076, 38.11851581931752, 112.34412956703544, 54.37830721495393, 47.59810786332639, 51.199854956064385, 34.813212978447, 31.394354088369248, 112.74002829892736, 31.307623973407637, 122.84273727771408, 47.12399665594713, 37.841838874992504, 54.025808736525114, 41.93937709326487, 49.647029105195465, 65.25071444610263, 58.81668367466723, 26.10382320486394, 43.93070462084059, 62.40054888163785, 63.052675322057105, 2.821362997053705, 3.5254409399029356, 2.1460844164246424, 5.08802433622189, 2.8716351375556277, 7.16163280470481, 2.1747552714062177, 4.362502324992785, 1.4728886979334237, 1.4728896616755573, 1.4728930800976672, 1.4728967961419017, 1.4729044596042689, 1.4729033082422027, 1.4729020271412954, 1.4729191075423795, 1.4729370539312638, 1.4729348708034327, 5.043977763482605, 1.4746274821427359, 1.4748909893990283, 1.4748515231537689, 1.4751017898593441, 1.4752136463807406, 1.4756847976599454, 1.4758323693256656, 2.2233966272637264, 1.4752262114138408, 1.476040600417261, 2.1937637161343275, 12.59218971816874, 2.9102204939899, 2.226868121865068, 2.189667941184224, 8.206224472016041, 5.852631228960478, 5.20908581956403, 5.142331208087201, 12.832982655553618, 7.390560177592073, 3.618228103259076, 13.598861199712818, 2.195825159038174, 2.1956034928920163, 18.592554417305358, 2.915698223857329, 2.2307322226706567, 4.389374677893705, 3.6965709799097977, 8.992754599819113, 9.049858430128232, 8.989092868429754, 8.925808648051046, 4.495760300062561, 6.140369665849024, 6.923280971264293, 21.765191794639502, 13.939812302032639, 122.84273727771408, 22.895965852199463, 54.025808736525114, 23.05968855556999, 65.25071444610263, 20.892428155094613, 15.92704028977219, 20.321878273789345, 39.226072282491394, 36.06920700651614, 112.74002829892736, 58.81668367466723, 62.40054888163785, 25.27395386859425, 63.052675322057105, 40.91222213157929, 49.647029105195465, 73.18664422154168, 112.34412956703544, 69.05144883064564, 24.63941249656098, 21.877716607932154, 37.841838874992504, 38.11851581931752, 74.06228150543326, 51.199854956064385, 47.59810786332639], \"loglift\": [30.0, 29.0, 28.0, 27.0, 26.0, 25.0, 24.0, 23.0, 22.0, 21.0, 20.0, 19.0, 18.0, 17.0, 16.0, 15.0, 14.0, 13.0, 12.0, 11.0, 10.0, 9.0, 8.0, 7.0, 6.0, 5.0, 4.0, 3.0, 2.0, 1.0, 1.1931, 1.1927, 1.1567, 1.1514, 1.1056, 1.0953, 1.0783, 1.0783, 1.0781, 1.076, 1.0524, 1.0523, 1.0403, 1.0116, 1.0088, 1.0034, 1.0011, 0.9978, 0.9959, 0.9937, 0.9925, 0.9829, 0.9735, 0.9711, 0.967, 0.966, 0.9647, 0.9647, 0.9604, 0.9551, 0.9546, 0.866, 0.8148, 0.857, 0.6967, 0.7997, 0.7115, 0.6896, 0.5614, 0.8292, 0.3954, 0.6233, 0.7678, 0.59, 0.7618, 0.6436, 0.5202, 0.4741, 0.3687, 0.4306, 0.5251, 0.3883, 0.3346, 0.4483, 0.6228, 0.0692, 0.6251, 0.2748, 0.3742, 0.1551, 0.3124, 0.2782, 0.6786, 0.2321, -0.0252, 0.0269, 0.3396, 0.279, -0.2237, -0.1407, 0.1528, -0.0405, -0.9604, 1.2942, 1.2933, 1.2904, 1.2548, 1.247, 1.239, 1.2368, 1.2271, 1.2099, 1.2059, 1.2044, 1.2007, 1.1797, 1.1475, 1.1473, 1.1471, 1.1465, 1.1461, 1.1387, 1.1293, 1.1265, 1.1256, 1.1251, 1.1239, 1.1206, 1.1205, 1.1164, 1.106, 1.1043, 1.1042, 1.1017, 1.1003, 1.095, 1.0719, 1.0445, 1.0077, 1.0434, 1.0175, 1.0229, 1.0602, 1.058, 0.6078, 1.0371, 0.7099, 0.952, 0.5958, 0.9436, 0.8823, 0.4104, 0.4639, 0.1095, 0.264, 0.626, 0.4497, 0.2312, 0.4543, 0.393, 0.3395, -0.0834, 0.276, 0.3771, 0.2193, 0.2668, 0.1447, 0.2433, 0.1387, 0.3687, 0.1893, -0.1275, 0.5348, 0.1854, -0.0147, -0.0432, -0.36, 1.3599, 1.3556, 1.3433, 1.3323, 1.3247, 1.3225, 1.2758, 1.2594, 1.2263, 1.2047, 1.1998, 1.1982, 1.1982, 1.1973, 1.1883, 1.177, 1.1762, 1.1754, 1.175, 1.1707, 1.1698, 1.1692, 1.1661, 1.1602, 1.1569, 1.1558, 1.1556, 1.153, 1.1515, 1.1461, 1.0885, 1.1134, 1.112, 1.0718, 1.0426, 0.953, 1.098, 1.0423, 0.8596, 0.9926, 0.9809, 0.7604, 0.9033, 0.8344, 0.6458, 0.6593, 0.6603, 0.342, 0.8023, 0.6849, 0.7463, 0.855, 0.2526, 0.1983, -0.049, 0.7129, 0.8906, 0.123, -0.0713, 0.2495, 0.1835, 0.5141, 0.2188, 0.4577, 0.2687, 0.2053, 0.3125, -0.3169, 0.3217, -0.0425, 0.2866, -0.0833, 0.0733, 0.1213, -0.4212, -0.0611, 1.737, 1.737, 1.5648, 1.5645, 1.5497, 1.5463, 1.5444, 1.5443, 1.5443, 1.5443, 1.5378, 1.5125, 1.4703, 1.4651, 1.4644, 1.4559, 1.4408, 1.4028, 1.3979, 1.3962, 1.3922, 1.3915, 1.3879, 1.3851, 1.3831, 1.3817, 1.3755, 1.3739, 1.3554, 1.3512, 1.3371, 1.3347, 1.2823, 1.0327, 1.2399, 1.2854, 1.0655, 1.1173, 1.3022, 1.0874, 1.0909, 1.1642, 1.0855, 0.8244, 0.5405, 0.733, 0.8369, 0.9037, 0.7956, 0.776, 0.9576, 0.774, 0.722, 0.4394, -0.0301, 0.2693, 0.31, 0.2394, 0.4206, 0.4678, -0.1991, 0.4127, -0.3854, 0.1527, 0.2783, 0.0494, 0.205, 0.0814, -0.1817, -0.1097, 0.5045, 0.0725, -0.2497, -0.2747, 1.614, 1.5644, 1.5262, 1.4994, 1.4438, 1.4374, 1.3519, 1.3408, 1.3145, 1.3145, 1.3145, 1.3145, 1.3144, 1.3144, 1.3144, 1.3144, 1.3143, 1.3143, 1.313, 1.3017, 1.2999, 1.2998, 1.2984, 1.2972, 1.2938, 1.2929, 1.2919, 1.2917, 1.2913, 1.2912, 1.2782, 1.2771, 1.2808, 1.2799, 1.2171, 1.2182, 1.2168, 1.2133, 1.1456, 1.1809, 1.2335, 1.1034, 1.2724, 1.2707, 1.0355, 1.2378, 1.2679, 1.1775, 1.1995, 1.0691, 1.0655, 1.0571, 1.0413, 1.1545, 1.0866, 1.0325, 0.7546, 0.8597, 0.1909, 0.6731, 0.4076, 0.6574, 0.3238, 0.6713, 0.7538, 0.6615, 0.4088, 0.4379, -0.02, 0.2018, 0.1164, 0.5261, 0.0768, 0.2355, 0.1251, -0.0947, -0.3997, -0.1245, 0.4524, 0.5059, 0.1188, 0.0756, -0.5125, -0.2356, -0.1789], \"logprob\": [30.0, 29.0, 28.0, 27.0, 26.0, 25.0, 24.0, 23.0, 22.0, 21.0, 20.0, 19.0, 18.0, 17.0, 16.0, 15.0, 14.0, 13.0, 12.0, 11.0, 10.0, 9.0, 8.0, 7.0, 6.0, 5.0, 4.0, 3.0, 2.0, 1.0, -7.1268, -7.1272, -6.9866, -7.3996, -7.4577, -7.4656, -7.7733, -7.7734, -7.7736, -6.9506, -7.8037, -7.8039, -6.8259, -7.8509, -6.9974, -6.0732, -7.5618, -7.3616, -7.8653, -7.8679, -7.8671, -7.5979, -7.8939, -7.6118, -7.9002, -7.9014, -7.9169, -7.1884, -7.9049, -6.7301, -7.4157, -6.0131, -5.3543, -6.4224, -5.3679, -6.3586, -5.7229, -5.7347, -4.9904, -6.7514, -4.7279, -5.8882, -6.5844, -5.866, -6.5997, -6.1448, -5.7207, -5.5995, -5.2413, -5.5614, -5.872, -5.5804, -5.5143, -5.8039, -6.2552, -5.0506, -6.2826, -5.6343, -5.9061, -5.6153, -5.8631, -5.8305, -6.3912, -5.8747, -5.6918, -5.8285, -6.0586, -6.0525, -5.7637, -5.852, -6.0168, -5.9804, -5.9943, -6.7348, -6.4995, -7.2064, -7.0546, -7.2486, -7.4781, -7.4803, -6.7981, -7.2847, -7.5146, -5.9351, -6.9686, -5.7311, -7.8527, -7.853, -7.8531, -7.8536, -7.8541, -6.7541, -6.8814, -7.1703, -7.8741, -7.5923, -7.8757, -7.37, -6.3343, -7.8792, -7.8922, -7.8971, -7.3885, -7.6033, -7.5999, -7.394, -6.722, -6.614, -6.1097, -6.9469, -6.8762, -6.9693, -7.242, -7.2391, -4.4262, -7.1383, -5.642, -6.7562, -5.3216, -6.8129, -6.6031, -5.2904, -5.7056, -5.0103, -5.346, -6.1447, -5.8306, -5.4801, -5.9174, -5.8595, -5.7725, -5.2067, -5.7862, -5.9579, -5.7494, -5.8666, -5.7494, -5.8653, -5.8012, -6.0618, -5.9175, -5.6674, -6.2097, -5.9902, -5.8701, -6.0252, -6.0266, -7.269, -6.7162, -7.2859, -7.2985, -7.3069, -7.3088, -7.1521, -7.3777, -7.43, -6.7653, -7.2349, -6.2911, -7.0447, -7.7401, -7.7436, -7.4866, -7.0728, -7.7659, -6.9359, -7.7593, -7.2743, -7.4958, -7.7638, -7.7703, -7.77, -7.775, -7.7754, -7.5099, -7.781, -7.7854, -5.421, -6.3745, -6.655, -6.5849, -6.2455, -5.6192, -7.152, -6.7895, -5.6339, -6.5749, -6.5131, -5.373, -6.1581, -5.9521, -5.2483, -5.722, -5.7497, -5.2099, -6.3104, -6.0595, -6.202, -6.4596, -5.4483, -5.4683, -5.083, -6.2895, -6.5618, -5.4169, -5.1911, -5.6679, -5.5869, -6.0371, -5.7633, -6.0562, -5.8963, -5.857, -5.9538, -5.4402, -5.9696, -5.7538, -6.0082, -5.9322, -5.9913, -6.0477, -6.0312, -6.0532, -6.3961, -6.3961, -6.907, -7.1352, -6.917, -6.9036, -7.4323, -7.4323, -7.4324, -7.4324, -6.4762, -6.9577, -7.2231, -7.5211, -7.5218, -6.6557, -7.2549, -7.5587, -7.5626, -7.5841, -7.5882, -7.5683, -7.5701, -7.5726, -7.5744, -7.5989, -7.5811, -7.5834, -7.6006, -7.6028, -7.1586, -7.1349, -6.5244, -5.1696, -6.6677, -6.9949, -5.7898, -6.0874, -7.1369, -6.1019, -6.2785, -6.6016, -6.4777, -5.6903, -4.9994, -5.5264, -5.83, -6.0606, -5.9612, -5.9289, -6.3917, -6.1887, -6.1185, -5.7647, -5.1534, -5.5796, -5.672, -5.6697, -5.8742, -5.9304, -5.3189, -5.9883, -5.4193, -5.8394, -5.9331, -5.806, -5.9036, -5.8585, -5.8483, -5.8801, -6.0782, -5.9897, -5.961, -5.9755, -7.1936, -7.0204, -7.555, -6.7186, -7.3461, -6.4387, -7.716, -7.031, -8.1431, -8.1431, -8.1431, -8.1431, -8.1432, -8.1432, -8.1432, -8.1432, -8.1433, -8.1433, -6.9136, -8.1547, -8.1564, -8.1565, -8.1577, -8.1588, -8.1619, -8.1628, -7.7539, -8.1643, -8.1642, -7.768, -6.0336, -7.4995, -7.7634, -7.7812, -6.5228, -6.8598, -6.9777, -6.994, -6.1472, -6.6637, -7.3253, -6.1314, -7.7859, -7.7877, -5.8865, -7.5369, -7.7746, -7.1881, -7.3379, -6.5793, -6.5766, -6.5917, -6.6146, -7.1872, -6.9434, -6.8775, -6.01, -6.3504, -4.843, -6.0408, -5.4478, -6.0494, -5.3428, -6.1342, -6.323, -6.1717, -5.7667, -5.8215, -5.1398, -5.5686, -5.5949, -6.0889, -5.6241, -5.898, -5.8148, -5.6465, -5.5229, -5.7345, -6.1881, -6.2535, -6.0926, -6.1286, -6.0524, -6.1447, -6.1609]}, \"token.table\": {\"Topic\": [1, 2, 3, 4, 5, 1, 2, 3, 4, 5, 1, 2, 3, 4, 5, 3, 5, 3, 1, 2, 3, 4, 5, 1, 2, 3, 5, 5, 1, 2, 3, 4, 5, 1, 2, 3, 4, 5, 1, 2, 3, 4, 5, 2, 1, 3, 5, 1, 1, 2, 4, 2, 3, 5, 1, 3, 4, 5, 1, 2, 3, 4, 5, 1, 2, 3, 4, 5, 1, 2, 3, 4, 5, 1, 2, 3, 4, 5, 1, 4, 2, 1, 2, 4, 1, 2, 3, 4, 5, 5, 1, 2, 3, 4, 5, 1, 2, 3, 4, 5, 1, 2, 3, 5, 5, 3, 5, 1, 2, 3, 5, 3, 5, 4, 2, 3, 5, 1, 4, 1, 3, 4, 5, 1, 3, 4, 1, 2, 1, 4, 3, 2, 1, 2, 3, 4, 5, 1, 2, 4, 5, 1, 4, 1, 2, 3, 4, 5, 1, 2, 3, 4, 5, 2, 2, 4, 4, 2, 1, 2, 3, 4, 5, 1, 2, 3, 4, 5, 5, 2, 2, 3, 4, 1, 2, 3, 4, 5, 1, 2, 3, 4, 5, 1, 2, 3, 4, 5, 3, 5, 2, 4, 5, 4, 5, 1, 2, 3, 4, 5, 1, 2, 3, 4, 5, 1, 2, 4, 5, 1, 2, 3, 4, 5, 4, 1, 2, 3, 3, 3, 5, 1, 5, 1, 5, 2, 3, 1, 2, 3, 4, 5, 4, 1, 2, 3, 4, 5, 5, 1, 2, 3, 4, 5, 1, 1, 2, 3, 4, 5, 1, 2, 3, 4, 5, 1, 3, 1, 1, 2, 3, 4, 5, 1, 2, 3, 4, 5, 4, 5, 2, 4, 2, 3, 1, 3, 3, 1, 2, 3, 4, 5, 1, 3, 4, 5, 4, 4, 1, 2, 3, 4, 5, 1, 1, 2, 3, 4, 5, 1, 2, 3, 5, 1, 2, 3, 4, 5, 1, 2, 5, 2, 3, 1, 2, 3, 4, 1, 2, 3, 4, 5, 1, 2, 3, 1, 3, 4, 5, 4, 4, 1, 2, 3, 4, 5, 1, 2, 3, 4, 5, 1, 2, 3, 4, 5, 3, 2, 3, 1, 2, 1, 2, 3, 4, 5, 2, 4, 5, 5, 2, 3, 4, 5, 1, 3, 4, 5, 3, 4, 1, 1, 2, 3, 4, 5, 2, 1, 2, 3, 4, 5, 1, 2, 3, 4, 5, 5, 5, 1, 2, 3, 4, 5, 1, 2, 3, 4, 5, 1, 2, 3, 4, 4, 1, 2, 5, 2, 5, 1, 2, 3, 4, 5, 1, 2, 3, 4, 5, 3, 1, 1, 2, 3, 4, 5, 1, 2, 3, 4, 5, 2, 3, 4, 5, 1, 1, 1, 2, 5, 5, 1, 2, 3, 4, 5, 1, 2, 3, 5, 1, 2, 3, 4, 5, 2, 3, 4, 5, 1, 2, 3, 4, 5, 1, 2, 3, 4, 5, 2, 5, 1, 2, 3, 4, 5, 1, 2, 3, 4, 5, 1, 2, 3, 4, 5, 1, 2, 3, 4, 5, 2, 4, 1, 2, 3, 4, 5, 1, 2, 1, 2, 3, 4, 5, 1, 2, 3, 4, 1, 2, 3, 5, 1, 2, 3, 4, 5, 3, 5, 2, 1, 2, 3, 5, 1, 2, 3, 4, 5, 2, 4, 5, 1, 2, 3, 4, 5, 3, 2, 3, 5, 1, 2, 1, 2, 3, 4, 5, 3, 1, 2, 3, 4, 5, 2, 1, 2, 3, 4, 5, 1, 2, 3, 4, 5, 3, 2, 1, 2, 3, 4, 1, 2, 3, 4, 5, 1, 2, 3, 4, 5, 1, 2, 3, 4, 5, 1, 2, 3, 4, 5, 1, 2, 3, 4, 5, 1, 3, 4, 5, 3, 2, 1, 2, 3, 4, 5, 1, 2, 3, 4, 5, 1, 2, 3, 4, 5, 1, 2, 3, 4, 5, 4, 1, 2, 3, 4, 5, 1, 2, 3, 4, 5, 1, 2, 3, 4, 5, 1, 2, 5, 2, 3, 5, 1, 2, 3, 4, 5, 2, 4, 1, 3, 2, 2, 4, 3, 4, 5, 1, 2, 3, 4, 5, 1, 3, 1, 2, 3, 4, 5, 3, 1, 5, 2, 3, 4, 1, 5, 5, 4, 1, 2, 3, 4, 5, 1, 1, 2, 3, 4, 5, 2, 5, 2, 4, 1, 4, 3, 2, 1, 2, 3, 4, 5, 5, 5, 2, 3, 5, 1, 2, 3, 4, 5, 3, 5, 1, 5, 1, 2, 5, 4, 1, 2, 3, 4, 5, 1, 2, 3, 4, 5, 2, 2, 5, 1, 2, 3, 4, 5, 1, 2, 3, 4, 5, 1, 2, 3, 4, 5, 2, 3, 5, 5, 1, 2, 3, 4, 5, 3, 4, 5, 5, 1, 2, 4, 5, 4, 4, 5, 1, 2, 3, 4, 5, 3, 1, 2, 3, 4, 5, 1, 2, 3, 4, 5, 1, 2, 3, 4, 5, 1, 2, 3, 4, 5, 1, 2, 3, 4, 5, 5, 1, 2, 3, 4, 5, 5, 1, 4, 5, 4, 1, 2, 3, 4, 5, 1, 2, 3, 4, 5, 1, 2, 3, 4, 5, 2, 1, 2, 2, 3, 1, 2, 3, 4, 5, 1, 2, 3, 4, 5, 2, 3, 4, 5, 1, 2, 3, 4, 5, 3, 5, 2, 3, 4, 5, 2, 4, 1, 2, 3, 2, 3, 3, 1, 2, 3, 4, 5, 1, 2, 3, 4, 5, 4, 4, 1, 2, 3, 4, 5, 1, 2, 3, 4, 5, 1, 2, 3, 4, 5, 2], \"Freq\": [0.15584841448643877, 0.07792420724321938, 0.15584841448643877, 0.15584841448643877, 0.4675452434593163, 0.584285643351043, 0.08346937762157758, 0.16693875524315516, 0.08346937762157758, 0.16693875524315516, 0.1574038199294042, 0.23610572989410628, 0.20987175990587223, 0.23610572989410628, 0.1574038199294042, 0.4482832990159568, 0.4482832990159568, 0.8011080311334253, 0.24736076752773872, 0.0824535891759129, 0.1649071783518258, 0.4122679458795645, 0.1649071783518258, 0.12185871875794885, 0.12185871875794885, 0.2437174375158977, 0.4874348750317954, 0.6774881393623662, 0.1940713583954148, 0.16634687862464126, 0.08317343931232063, 0.3326937572492825, 0.22179583816618834, 0.21603439260544827, 0.20253224306760775, 0.22953654214328878, 0.2700429907568103, 0.0810128972270431, 0.14762414967662343, 0.09841609978441562, 0.24604024946103906, 0.24604024946103906, 0.29524829935324687, 0.8555049575596486, 0.8308060693391088, 0.6146522663027955, 0.30732613315139773, 0.8704724901968565, 0.7407956046101006, 0.7731518834465527, 0.7588255809213653, 0.17086331957013054, 0.17086331957013054, 0.5125899587103916, 0.28888037453646354, 0.14444018726823177, 0.14444018726823177, 0.4333205618046953, 0.4645656371001155, 0.09564586646178849, 0.28693759938536545, 0.027327390417653852, 0.13663695208826926, 0.25124352935566985, 0.22332758164948432, 0.2791594770618554, 0.11166379082474216, 0.1395797385309277, 0.44541263939927106, 0.22270631969963553, 0.19089113117111617, 0.09544556558555808, 0.06363037705703872, 0.22514614795553414, 0.1801169183644273, 0.40526306631996145, 0.09005845918221365, 0.09005845918221365, 0.17670849589223603, 0.7068339835689441, 0.8576445734630356, 0.13368618379179267, 0.7352740108548598, 0.06684309189589634, 0.4144028933654704, 0.2072014466827352, 0.1611566807532385, 0.09208953185899342, 0.11511191482374178, 0.696467310155017, 0.09768587273394322, 0.42330544851375396, 0.19537174546788644, 0.10582636212843849, 0.1790907666788959, 0.29007723283534775, 0.12892321459348788, 0.38676964378046363, 0.09669241094511591, 0.06446160729674394, 0.5650121395631739, 0.28250606978158693, 0.8914550865514057, 0.45540966496532215, 0.4554556427138922, 0.8023442866212559, 0.677919318432495, 0.2615440191645915, 0.6538600479114789, 0.06538600479114788, 0.06538600479114788, 0.7323157941472741, 0.7088772348997847, 0.8234585415993978, 0.22424484250858598, 0.560612106271465, 0.11212242125429299, 0.2478523840425803, 0.7435571521277409, 0.11124593044444578, 0.11124593044444578, 0.3337377913333373, 0.4449837217777831, 0.7952143618190739, 0.15904287236381479, 0.15904287236381479, 0.7509462550136874, 0.7775100385868973, 0.7441086522089392, 0.8474992192015637, 0.6133554360042395, 0.8604140115085942, 0.06507892204282689, 0.26031568817130757, 0.45555245429978825, 0.13015784408565378, 0.06507892204282689, 0.7466854007637385, 0.779273116954875, 0.41167834808162873, 0.6778679159139965, 0.24518627548907349, 0.49037255097814697, 0.23924374717161143, 0.31101687132309486, 0.2153193724544503, 0.11962187358580571, 0.14354624830296686, 0.21286272326659966, 0.45613440699985647, 0.12163584186662839, 0.12163584186662839, 0.060817920933314194, 0.6475348480505219, 0.25334385959608224, 0.7600315787882467, 0.6323802946375389, 0.6497058375044861, 0.3040949125399934, 0.35477739796332564, 0.17738869898166282, 0.10136497084666447, 0.05068248542333224, 0.36779372187775716, 0.16550717484499072, 0.18389686093887858, 0.20228654703276644, 0.07355874437555143, 0.6789317833589146, 0.8589497559132844, 0.2029487886780975, 0.6088463660342925, 0.2029487886780975, 0.2805179690246931, 0.05610359380493862, 0.16831078141481587, 0.39272515663457036, 0.16831078141481587, 0.18237004769450732, 0.09118502384725366, 0.27355507154176095, 0.36474009538901464, 0.09118502384725366, 0.8705218098151342, 0.3139315220550319, 0.3139315220550319, 0.06278630441100638, 0.3139315220550319, 0.44906116809578756, 0.44906116809578756, 0.19446433135760058, 0.19446433135760058, 0.5833929940728018, 0.4212330091951047, 0.6778621422687513, 0.26184849797265264, 0.26184849797265264, 0.16113753721394006, 0.16113753721394006, 0.16113753721394006, 0.1890831464528522, 0.21009238494761356, 0.2521108619371363, 0.21009238494761356, 0.12605543096856814, 0.13530774068141221, 0.13530774068141221, 0.27061548136282443, 0.5412309627256489, 0.4771271301021457, 0.10602825113381016, 0.21205650226762032, 0.10602825113381016, 0.05301412556690508, 0.8394401252175682, 0.10635867224137405, 0.7445107056896184, 0.10635867224137405, 0.889224919137813, 0.7986525430775506, 0.45669025023911913, 0.8115533973294514, 0.16231067946589028, 0.19653994044033002, 0.5896198213209901, 0.641421554261485, 0.21380718475382832, 0.11805544859063635, 0.5902772429531817, 0.11805544859063635, 0.11805544859063635, 0.11805544859063635, 0.8474439616341245, 0.13869462050650652, 0.4160838615195196, 0.27738924101301304, 0.04623154016883551, 0.09246308033767102, 0.6789306621209321, 0.19145692258966085, 0.23932115323707606, 0.14359269194224564, 0.14359269194224564, 0.2871853838844913, 0.822588346627352, 0.1924006119295615, 0.2693608567013861, 0.4040412850520792, 0.09620030596478076, 0.057720183578868454, 0.07941430540528961, 0.07941430540528961, 0.23824291621586882, 0.07941430540528961, 0.5559001378370273, 0.8324535738177413, 0.2774845246059138, 0.912053834589457, 0.10474381028472772, 0.15711571542709157, 0.18330166799827352, 0.44516119371009283, 0.10474381028472772, 0.35156349594048963, 0.17578174797024482, 0.17578174797024482, 0.19531305330027202, 0.11718783198016322, 0.8013344721755247, 0.16026689443510495, 0.7744233372244891, 0.258141112408163, 0.20150959408077962, 0.6045287822423389, 0.7367587416900008, 0.1841896854225002, 0.8027044689232598, 0.3916537532452492, 0.2136293199519541, 0.15132076829930083, 0.15132076829930083, 0.0979134383113123, 0.1112006325648111, 0.1112006325648111, 0.33360189769443327, 0.4448025302592444, 0.41139282732988347, 0.8394418742789364, 0.25552881326270926, 0.25552881326270926, 0.12776440663135463, 0.22358771160487062, 0.12776440663135463, 0.7441341096642049, 0.16824681391618346, 0.08412340695809173, 0.08412340695809173, 0.5047404417485504, 0.16824681391618346, 0.10255003048073101, 0.10255003048073101, 0.5127501524036551, 0.20510006096146202, 0.5283996372715543, 0.1651248866473607, 0.19814986397683285, 0.03302497732947214, 0.06604995465894428, 0.2705209788841662, 0.2705209788841662, 0.5410419577683324, 0.20273835934361645, 0.6082150780308494, 0.28340382817100074, 0.5668076563420015, 0.09446794272366692, 0.09446794272366692, 0.5788252595213758, 0.08268932278876798, 0.16537864557753595, 0.08268932278876798, 0.08268932278876798, 0.6234465542604646, 0.20781551808682155, 0.10390775904341078, 0.14707113857756238, 0.14707113857756238, 0.22060670786634357, 0.44121341573268713, 0.8394371211723801, 0.4213756641790605, 0.31485808148699074, 0.20036423367353956, 0.28623461953362794, 0.08587038586008838, 0.08587038586008838, 0.2817867349175624, 0.09392891163918746, 0.4696445581959373, 0.09392891163918746, 0.04696445581959373, 0.11203466704592087, 0.11203466704592087, 0.11203466704592087, 0.22406933409184174, 0.4481386681836835, 0.7273433604785488, 0.6379685069169472, 0.21265616897231573, 0.15652841431242512, 0.6261136572497005, 0.5230813674487095, 0.2288480982588104, 0.09807775639663302, 0.06538517093108868, 0.09807775639663302, 0.34297102210977376, 0.34297102210977376, 0.34297102210977376, 0.45583760577557497, 0.2389092155047758, 0.4778184310095516, 0.07963640516825861, 0.2389092155047758, 0.14410646937040322, 0.14410646937040322, 0.5764258774816129, 0.28821293874080645, 0.8010656319240689, 0.6363887846586938, 0.6792079547154506, 0.09163106122210044, 0.7330484897768035, 0.09163106122210044, 0.09163106122210044, 0.09163106122210044, 0.8594239598730622, 0.5825820094892464, 0.07598895775946693, 0.2279668732784008, 0.025329652586488977, 0.07598895775946693, 0.5247808885120209, 0.13689936222052718, 0.22816560370087863, 0.022816560370087863, 0.11408280185043931, 0.6789239102672361, 0.6781373683250028, 0.07134851592532605, 0.1426970318506521, 0.1426970318506521, 0.4994396114772824, 0.21404554777597817, 0.2240552169422843, 0.2240552169422843, 0.11202760847114215, 0.3360828254134265, 0.05601380423557108, 0.20424218350414267, 0.10212109175207133, 0.10212109175207133, 0.5106054587603567, 0.8236602903542507, 0.5661920060141631, 0.8594280576512607, 0.6789379274911111, 0.27637837401662485, 0.5527567480332497, 0.5176086393757028, 0.2352766542616831, 0.09411066170467325, 0.14116599255700987, 0.047055330852336624, 0.20107308119861642, 0.17234835531309978, 0.28724725885516633, 0.22979780708413305, 0.11489890354206653, 0.8102268802520979, 0.7632636570702446, 0.28605959712039647, 0.14302979856019823, 0.32181704676044603, 0.07151489928009912, 0.14302979856019823, 0.2251697714109033, 0.40530558853962595, 0.04503395428218066, 0.18013581712872265, 0.135101862846542, 0.09528405338159239, 0.5717043202895543, 0.09528405338159239, 0.09528405338159239, 0.8327568784005853, 0.7525042258274665, 0.6922235509311804, 0.11537059182186339, 0.11537059182186339, 0.6789156382012412, 0.16562918985080866, 0.11041945990053911, 0.44167783960215645, 0.16562918985080866, 0.11041945990053911, 0.7407666654360676, 0.13963296182164678, 0.13963296182164678, 0.5585318472865871, 0.09846591628774085, 0.41355684840851153, 0.27570456560567436, 0.11815909954528901, 0.09846591628774085, 0.2091964010079511, 0.2091964010079511, 0.6275892030238532, 0.6789359075091114, 0.03790704601474758, 0.1895352300737379, 0.5306986442064661, 0.07581409202949516, 0.1895352300737379, 0.41287100684424793, 0.22019787031693225, 0.13762366894808264, 0.08257420136884959, 0.16514840273769918, 0.34361657546745, 0.6872331509349, 0.24782027776881535, 0.33042703702508713, 0.19274910493130082, 0.11014234567502905, 0.11014234567502905, 0.11656807744586564, 0.2914201936146641, 0.40798827106052976, 0.05828403872293282, 0.05828403872293282, 0.035602701662579055, 0.10680810498773716, 0.6052459282638439, 0.035602701662579055, 0.17801350831289528, 0.22985138816301884, 0.22985138816301884, 0.19154282346918236, 0.26815995285685534, 0.07661712938767296, 0.7760799793135041, 0.7560911761738597, 0.2906835483428177, 0.21140621697659465, 0.13212888561037167, 0.21140621697659465, 0.158554662732446, 0.7478986078021976, 0.639756986685029, 0.6150667786775543, 0.07688334733469429, 0.07688334733469429, 0.07688334733469429, 0.07688334733469429, 0.3369604224614397, 0.6739208449228794, 0.8896054237280204, 0.8239160085164015, 0.30912071095738924, 0.06182414219147785, 0.4945931375318228, 0.06182414219147785, 0.16449127048794365, 0.3289825409758873, 0.2960842868782986, 0.09869476229276618, 0.13159301639035492, 0.44976230859478844, 0.44976230859478844, 0.859432418366347, 0.6905254296473384, 0.1255500781176979, 0.06277503905884894, 0.06277503905884894, 0.40319160827378947, 0.12732366577067036, 0.19098549865600553, 0.19098549865600553, 0.08488244384711358, 0.5650634481960025, 0.18835448273200087, 0.18835448273200087, 0.498788234442184, 0.249394117221092, 0.062348529305273, 0.062348529305273, 0.062348529305273, 0.8017966799875088, 0.22782288443871515, 0.22782288443871515, 0.4556457688774303, 0.1284706181841206, 0.7708237091047235, 0.4354516554641048, 0.2177258277320524, 0.1088629138660262, 0.13607864233253275, 0.1088629138660262, 0.6093024865505039, 0.6182786155288741, 0.051523217960739505, 0.15456965388221852, 0.15456965388221852, 0.051523217960739505, 0.859395222973573, 0.49941876223196524, 0.1783638436542733, 0.14269107492341865, 0.10701830619256399, 0.07134553746170932, 0.28383885016555793, 0.25722895796253686, 0.19513920948882105, 0.12417949694743158, 0.14191942508277897, 0.8019194217087412, 0.7487888118769017, 0.7481678377680484, 0.5684651180309619, 0.28423255901548095, 0.14211627950774047, 0.2083690451544956, 0.12502142709269737, 0.1666952361235965, 0.3750642812780921, 0.1666952361235965, 0.12504946343286705, 0.12504946343286705, 0.12504946343286705, 0.5001978537314682, 0.12504946343286705, 0.21521093218468615, 0.14347395478979078, 0.14347395478979078, 0.14347395478979078, 0.3586848869744769, 0.3765308395449767, 0.30412106270940426, 0.13033759830403038, 0.05792782146845795, 0.13033759830403038, 0.12860814783256044, 0.6430407391628022, 0.12860814783256044, 0.12860814783256044, 0.12860814783256044, 0.1335831985902251, 0.5343327943609004, 0.1335831985902251, 0.1335831985902251, 0.5977274693839427, 0.8593629762439576, 0.28630510355717376, 0.10736441383394016, 0.14315255177858688, 0.3578813794464672, 0.10736441383394016, 0.3569054760103758, 0.28042573115100955, 0.05098649657291083, 0.10197299314582166, 0.22943923457809873, 0.3956642499227686, 0.07913284998455372, 0.15826569996910744, 0.11869927497683058, 0.23739854995366116, 0.5146073825271287, 0.20584295301085148, 0.10292147650542574, 0.10292147650542574, 0.10292147650542574, 0.9027748105722034, 0.09914224744109827, 0.24785561860274566, 0.1487133711616474, 0.2974267423232948, 0.19828449488219654, 0.10511138474731807, 0.17518564124553013, 0.49051979548748437, 0.1401485129964241, 0.10511138474731807, 0.05378497099189511, 0.16135491297568533, 0.10756994198379022, 0.26892485495947555, 0.4302797679351609, 0.3257132890749928, 0.1628566445374964, 0.4885699336124892, 0.17659461583794164, 0.7063784633517666, 0.17659461583794164, 0.41137748336756913, 0.045708609263063235, 0.045708609263063235, 0.22854304631531616, 0.22854304631531616, 0.31689125597798284, 0.6337825119559657, 0.7524052598866678, 0.8909308161486511, 0.7782825859391471, 0.8134388493307381, 0.1626877698661476, 0.626035048911535, 0.125207009782307, 0.250414019564614, 0.2505327935215951, 0.28184939271179443, 0.40711578947259197, 0.06263319838039877, 0.031316599190199385, 0.6912570945571337, 0.13825141891142673, 0.3521895993721617, 0.10062559982061763, 0.05031279991030881, 0.45281519919277935, 0.05031279991030881, 0.807106726251372, 0.686683879413097, 0.22889462647103234, 0.8614963494291396, 0.8916191046639269, 0.4212763058726878, 0.7525462797847656, 0.678034354171216, 0.4598218535887904, 0.8394367554208321, 0.11049896611320034, 0.11049896611320034, 0.22099793222640068, 0.22099793222640068, 0.44199586445280137, 0.7407564738676657, 0.26053354579040006, 0.15325502693552945, 0.26053354579040006, 0.12260402154842356, 0.1992315350161883, 0.28365246136488464, 0.5673049227297693, 0.8104369180082358, 0.16208738360164718, 0.41030517476604444, 0.41030517476604444, 0.8015527495682332, 0.6366828368130857, 0.1828015842632898, 0.0914007921316449, 0.5484047527898693, 0.1828015842632898, 0.0914007921316449, 0.4659648951116243, 0.6776514887093379, 0.2292262388654782, 0.2292262388654782, 0.4584524777309564, 0.07756181336441961, 0.15512362672883923, 0.6204945069153569, 0.07756181336441961, 0.15512362672883923, 0.6138335288992827, 0.30691676444964133, 0.7488918903225757, 0.6789374832479993, 0.31364148365874606, 0.6272829673174921, 0.6775837288735699, 0.4111399937120945, 0.20929749464510447, 0.3288960630137356, 0.17939785255294668, 0.11959856836863113, 0.1494982104607889, 0.04336572012194212, 0.2601943207316527, 0.34692576097553696, 0.04336572012194212, 0.30356004085359484, 0.6477092083641568, 0.19825622690881015, 0.5947686807264304, 0.34122124769367934, 0.3722413611203775, 0.1551005671334906, 0.062040226853396246, 0.062040226853396246, 0.3680303725383117, 0.3680303725383117, 0.11324011462717284, 0.05662005731358642, 0.11324011462717284, 0.18377968077382853, 0.18377968077382853, 0.18377968077382853, 0.1378347605803714, 0.3216144413541999, 0.1533751852135708, 0.766875926067854, 0.1533751852135708, 0.6789166444640802, 0.6130046761861467, 0.2043348920620489, 0.13622326137469928, 0.06811163068734964, 0.06811163068734964, 0.22243178756351498, 0.22243178756351498, 0.44486357512702995, 0.6789341945881034, 0.1919722643547643, 0.1919722643547643, 0.1919722643547643, 0.5759167930642929, 0.8267345439039765, 0.518949552919869, 0.2594747764599345, 0.39385295198481723, 0.29020743830460216, 0.16583282188834408, 0.08291641094417204, 0.08291641094417204, 0.8490368625728187, 0.35765910320134153, 0.2861272825610732, 0.09537576085369107, 0.19075152170738213, 0.0715318206402683, 0.30573071453666395, 0.1310274490871417, 0.08735163272476112, 0.17470326544952225, 0.30573071453666395, 0.04888514717112473, 0.2933108830267484, 0.4399663245401226, 0.024442573585562365, 0.19554058868449892, 0.27764508020884066, 0.22211606416707252, 0.12956770409745896, 0.1665870481253044, 0.22211606416707252, 0.22435700087438937, 0.2884590011242149, 0.1923060007494766, 0.12820400049965106, 0.16025500062456383, 0.6789311928380577, 0.12175614984402416, 0.32468306625073107, 0.12175614984402416, 0.20292691640670693, 0.24351229968804833, 0.6780162108166845, 0.13027619493351514, 0.5211047797340606, 0.2605523898670303, 0.8253753277160853, 0.30299767228714347, 0.17314152702122482, 0.12985614526591863, 0.34628305404244963, 0.08657076351061241, 0.4724727296831952, 0.13499220848091292, 0.20248831272136936, 0.06749610424045646, 0.13499220848091292, 0.3060356156692447, 0.1190138505380396, 0.2550296797243706, 0.13601582918633098, 0.18702176513120508, 0.6475783829214716, 0.37166604042911183, 0.6194434007151864, 0.6381908630835634, 0.21273028769452113, 0.3575647167066995, 0.208579418078908, 0.14898529862779145, 0.14898529862779145, 0.14898529862779145, 0.382234333161378, 0.12741144438712598, 0.12741144438712598, 0.25482288877425197, 0.12741144438712598, 0.09484017548850579, 0.6638812284195404, 0.09484017548850579, 0.18968035097701158, 0.14052769206937854, 0.2810553841387571, 0.07026384603468927, 0.49184692224282495, 0.07026384603468927, 0.7392433694083144, 0.24641445646943813, 0.18940510235479896, 0.6629178582417964, 0.09470255117739948, 0.09470255117739948, 0.2527689966244167, 0.5055379932488334, 0.14197656590577284, 0.7098828295288642, 0.14197656590577284, 0.6389815343628341, 0.15974538359070853, 0.8031578644034991, 0.18560108754726895, 0.18560108754726895, 0.33408195758508413, 0.18560108754726895, 0.11136065252836137, 0.15934185577982335, 0.29592058930538623, 0.2503943447968653, 0.15934185577982335, 0.1138156112713024, 0.9027875019655919, 0.8259550356275266, 0.11101828692035305, 0.3489146160353953, 0.26961583966371455, 0.11101828692035305, 0.15859755274336151, 0.22705673694257086, 0.22705673694257086, 0.2775137895964755, 0.12614263163476158, 0.1513711579617139, 0.3332174311507912, 0.2856149409863925, 0.190409960657595, 0.0952049803287975, 0.0952049803287975, 0.85888447420652], \"Term\": [\"abuse\", \"abuse\", \"abuse\", \"abuse\", \"abuse\", \"access\", \"access\", \"access\", \"access\", \"access\", \"action\", \"action\", \"action\", \"action\", \"action\", \"actress\", \"actress\", \"advantage\", \"adventure_world\", \"adventure_world\", \"adventure_world\", \"adventure_world\", \"adventure_world\", \"advice\", \"advice\", \"advice\", \"advice\", \"advocates\", \"afghan\", \"afghan\", \"afghan\", \"afghan\", \"afghan\", \"afghanistan\", \"afghanistan\", \"afghanistan\", \"afghanistan\", \"afghanistan\", \"agreement\", \"agreement\", \"agreement\", \"agreement\", \"agreement\", \"airlift\", \"airspace\", \"alei\", \"alei\", \"almao\", \"amalgamation\", \"ambulance\", \"analysis\", \"andy_bichel\", \"andy_bichel\", \"andy_bichel\", \"anglican\", \"anglican\", \"anglican\", \"anglican\", \"arafat\", \"arafat\", \"arafat\", \"arafat\", \"arafat\", \"area\", \"area\", \"area\", \"area\", \"area\", \"areas\", \"areas\", \"areas\", \"areas\", \"areas\", \"army\", \"army\", \"army\", \"army\", \"army\", \"assa_abloy\", \"assa_abloy\", \"asylum\", \"asylum_seekers\", \"asylum_seekers\", \"asylum_seekers\", \"attacks\", \"attacks\", \"attacks\", \"attacks\", \"attacks\", \"attendants\", \"australia\", \"australia\", \"australia\", \"australia\", \"australia\", \"authority\", \"authority\", \"authority\", \"authority\", \"authority\", \"aziz\", \"aziz\", \"baker\", \"bass\", \"batt\", \"batting\", \"bishops\", \"boat\", \"boat\", \"boat\", \"boat\", \"bond\", \"boston\", \"bourne\", \"bowling\", \"bowling\", \"bowling\", \"brain\", \"brain\", \"brisbane\", \"brisbane\", \"brisbane\", \"brisbane\", \"building_industry\", \"building_industry\", \"building_industry\", \"bulli\", \"burden\", \"buses\", \"butler\", \"butterfly\", \"cannon\", \"captain\", \"captain\", \"captain\", \"captain\", \"captain\", \"carr\", \"casinos\", \"catastrophe\", \"catholic\", \"cells\", \"cells\", \"cent\", \"cent\", \"cent\", \"cent\", \"cent\", \"centre\", \"centre\", \"centre\", \"centre\", \"centre\", \"chase\", \"chechen\", \"chechen\", \"chemical\", \"china\", \"commission\", \"commission\", \"commission\", \"commission\", \"commission\", \"company\", \"company\", \"company\", \"company\", \"company\", \"context\", \"convention\", \"coroner\", \"coroner\", \"coroner\", \"council\", \"council\", \"council\", \"council\", \"council\", \"court\", \"court\", \"court\", \"court\", \"court\", \"cow\", \"cricket\", \"cricket\", \"cricket\", \"cricket\", \"crowe\", \"crowe\", \"cut\", \"cut\", \"cut\", \"dagestan\", \"damien\", \"day\", \"day\", \"day\", \"day\", \"day\", \"days\", \"days\", \"days\", \"days\", \"days\", \"debt\", \"debt\", \"debt\", \"debt\", \"defence\", \"defence\", \"defence\", \"defence\", \"defence\", \"dempsey\", \"detainees\", \"detainees\", \"detainees\", \"dfat\", \"difficulties\", \"door\", \"drug\", \"drug\", \"explanation\", \"explanation\", \"facilities\", \"facilities\", \"facility\", \"facility\", \"facility\", \"facility\", \"facility\", \"factories\", \"family\", \"family\", \"family\", \"family\", \"family\", \"fbi\", \"federal\", \"federal\", \"federal\", \"federal\", \"federal\", \"ferguson\", \"fire\", \"fire\", \"fire\", \"fire\", \"fire\", \"flight\", \"flight\", \"flight\", \"flight\", \"flight\", \"flood\", \"flood\", \"focus\", \"force\", \"force\", \"force\", \"force\", \"force\", \"forces\", \"forces\", \"forces\", \"forces\", \"forces\", \"friedli\", \"friedli\", \"gambill\", \"gambill\", \"gang\", \"gang\", \"gerber\", \"gerber\", \"gibbs\", \"government\", \"government\", \"government\", \"government\", \"government\", \"governor_general\", \"governor_general\", \"governor_general\", \"governor_general\", \"greens\", \"grocery\", \"group\", \"group\", \"group\", \"group\", \"group\", \"guerrilla\", \"guides\", \"guides\", \"guides\", \"guides\", \"guides\", \"gunmen\", \"gunmen\", \"gunmen\", \"gunmen\", \"hamas\", \"hamas\", \"hamas\", \"hamas\", \"hamas\", \"handling\", \"handling\", \"handling\", \"henderson\", \"henderson\", \"hewitt\", \"hewitt\", \"hewitt\", \"hewitt\", \"hicks\", \"hicks\", \"hicks\", \"hicks\", \"hicks\", \"highway\", \"highway\", \"highway\", \"hollingworth\", \"hollingworth\", \"hollingworth\", \"hollingworth\", \"hooke\", \"hostage\", \"hours\", \"hours\", \"hours\", \"hours\", \"hours\", \"house\", \"house\", \"house\", \"house\", \"house\", \"howard\", \"howard\", \"howard\", \"howard\", \"howard\", \"huegill\", \"immigration\", \"immigration\", \"immigration_minister\", \"immigration_minister\", \"india\", \"india\", \"india\", \"india\", \"india\", \"individual\", \"individual\", \"individual\", \"ingvall\", \"innings\", \"innings\", \"innings\", \"innings\", \"interlaken\", \"interlaken\", \"interlaken\", \"interlaken\", \"intimidatory\", \"iraq\", \"islamabad\", \"island\", \"island\", \"island\", \"island\", \"island\", \"ismail\", \"israel\", \"israel\", \"israel\", \"israel\", \"israel\", \"israeli\", \"israeli\", \"israeli\", \"israeli\", \"israeli\", \"jetliner\", \"jim\", \"kabul\", \"kabul\", \"kabul\", \"kabul\", \"kabul\", \"kandahar\", \"kandahar\", \"kandahar\", \"kandahar\", \"kandahar\", \"karzai\", \"karzai\", \"karzai\", \"karzai\", \"kerry\", \"khan\", \"killmier\", \"kinton\", \"knop\", \"knop\", \"labor\", \"labor\", \"labor\", \"labor\", \"labor\", \"laden\", \"laden\", \"laden\", \"laden\", \"laden\", \"larrakia\", \"lavarch\", \"leader\", \"leader\", \"leader\", \"leader\", \"leader\", \"leaders\", \"leaders\", \"leaders\", \"leaders\", \"leaders\", \"lee\", \"lee\", \"lee\", \"lee\", \"lew\", \"lionel\", \"lockett\", \"lockett\", \"lockett\", \"logan\", \"lot\", \"lot\", \"lot\", \"lot\", \"lot\", \"macapa\", \"macgill\", \"macgill\", \"macgill\", \"man\", \"man\", \"man\", \"man\", \"man\", \"mandate\", \"mandate\", \"mandate\", \"mantravelling\", \"match\", \"match\", \"match\", \"match\", \"match\", \"meeting\", \"meeting\", \"meeting\", \"meeting\", \"meeting\", \"megawati\", \"megawati\", \"members\", \"members\", \"members\", \"members\", \"members\", \"men\", \"men\", \"men\", \"men\", \"men\", \"metres\", \"metres\", \"metres\", \"metres\", \"metres\", \"minister\", \"minister\", \"minister\", \"minister\", \"minister\", \"minutes\", \"mistakes\", \"morning\", \"morning\", \"morning\", \"morning\", \"morning\", \"motorists\", \"mount\", \"movement\", \"movement\", \"movement\", \"movement\", \"movement\", \"nauru\", \"nauru\", \"nelson\", \"nettle\", \"new_zealand\", \"new_zealand\", \"new_zealand\", \"new_zealand\", \"night\", \"night\", \"night\", \"night\", \"night\", \"nominations\", \"nominations\", \"nurse\", \"official\", \"official\", \"official\", \"official\", \"officials\", \"officials\", \"officials\", \"officials\", \"officials\", \"oil\", \"oil\", \"oil\", \"operations\", \"operations\", \"operations\", \"operations\", \"operations\", \"output\", \"pace\", \"pace\", \"pace\", \"pacific\", \"pacific\", \"pakistan\", \"pakistan\", \"pakistan\", \"pakistan\", \"pakistan\", \"palmerston\", \"party\", \"party\", \"party\", \"party\", \"party\", \"patrol\", \"peace\", \"peace\", \"peace\", \"peace\", \"peace\", \"people\", \"people\", \"people\", \"people\", \"people\", \"performance\", \"petrol\", \"picton\", \"pilot\", \"pilot\", \"pilot\", \"place\", \"place\", \"place\", \"place\", \"place\", \"places\", \"places\", \"places\", \"places\", \"places\", \"plane\", \"plane\", \"plane\", \"plane\", \"plane\", \"police\", \"police\", \"police\", \"police\", \"police\", \"population\", \"population\", \"population\", \"population\", \"population\", \"post\", \"post\", \"post\", \"post\", \"potential\", \"potts\", \"power\", \"power\", \"power\", \"power\", \"power\", \"president\", \"president\", \"president\", \"president\", \"president\", \"prime_minister\", \"prime_minister\", \"prime_minister\", \"prime_minister\", \"prime_minister\", \"process\", \"process\", \"process\", \"process\", \"process\", \"products\", \"qaeda\", \"qaeda\", \"qaeda\", \"qaeda\", \"qaeda\", \"qantas\", \"qantas\", \"qantas\", \"qantas\", \"qantas\", \"queensland\", \"queensland\", \"queensland\", \"queensland\", \"queensland\", \"questions\", \"questions\", \"questions\", \"races\", \"races\", \"races\", \"radio\", \"radio\", \"radio\", \"radio\", \"radio\", \"raduyev\", \"raduyev\", \"rally\", \"razor\", \"refugee\", \"refugees\", \"refugees\", \"reid\", \"reid\", \"reid\", \"report\", \"report\", \"report\", \"report\", \"report\", \"review\", \"review\", \"river\", \"river\", \"river\", \"river\", \"river\", \"rosebury\", \"rudd\", \"rudd\", \"ruddock\", \"saadi\", \"salman\", \"sand\", \"scandal\", \"scg\", \"schneiders\", \"school\", \"school\", \"school\", \"school\", \"school\", \"seamaster\", \"security\", \"security\", \"security\", \"security\", \"security\", \"selectors\", \"selectors\", \"seles\", \"seles\", \"senator\", \"senator\", \"send\", \"senior\", \"sex\", \"sex\", \"sex\", \"sex\", \"sex\", \"shepherd\", \"shepherds\", \"shoes\", \"shoes\", \"shoes\", \"side\", \"side\", \"side\", \"side\", \"side\", \"sinai\", \"sinai\", \"singh\", \"smell\", \"solution\", \"solution\", \"soorley\", \"sorrow\", \"south\", \"south\", \"south\", \"south\", \"south\", \"south_africa\", \"south_africa\", \"south_africa\", \"south_africa\", \"south_africa\", \"spills\", \"squad\", \"squad\", \"staff\", \"staff\", \"staff\", \"staff\", \"staff\", \"state\", \"state\", \"state\", \"state\", \"state\", \"statement\", \"statement\", \"statement\", \"statement\", \"statement\", \"steve_waugh\", \"steve_waugh\", \"steve_waugh\", \"stoppages\", \"storm\", \"storm\", \"storm\", \"storm\", \"storm\", \"strachan\", \"strachan\", \"strachan\", \"sulphur\", \"summit\", \"summit\", \"summit\", \"summit\", \"supervisors\", \"suspension\", \"suspension\", \"sydney\", \"sydney\", \"sydney\", \"sydney\", \"sydney\", \"tailenders\", \"taliban\", \"taliban\", \"taliban\", \"taliban\", \"taliban\", \"talks\", \"talks\", \"talks\", \"talks\", \"talks\", \"test\", \"test\", \"test\", \"test\", \"test\", \"time\", \"time\", \"time\", \"time\", \"time\", \"today\", \"today\", \"today\", \"today\", \"today\", \"tom\", \"tora_bora\", \"tora_bora\", \"tora_bora\", \"tora_bora\", \"tora_bora\", \"tradition\", \"trip\", \"trip\", \"trip\", \"trips\", \"troops\", \"troops\", \"troops\", \"troops\", \"troops\", \"union\", \"union\", \"union\", \"union\", \"union\", \"united_states\", \"united_states\", \"united_states\", \"united_states\", \"united_states\", \"utn\", \"virus\", \"virus\", \"visa\", \"visa\", \"wales\", \"wales\", \"wales\", \"wales\", \"wales\", \"war\", \"war\", \"war\", \"war\", \"war\", \"waugh\", \"waugh\", \"waugh\", \"waugh\", \"weapons\", \"weapons\", \"weapons\", \"weapons\", \"weapons\", \"welsh\", \"welsh\", \"wicket\", \"wicket\", \"wicket\", \"wicket\", \"wolfowitz\", \"wolfowitz\", \"woomera\", \"woomera\", \"woomera\", \"woomera_detention\", \"woomera_detention\", \"word\", \"workers\", \"workers\", \"workers\", \"workers\", \"workers\", \"world\", \"world\", \"world\", \"world\", \"world\", \"world_heritage\", \"wrongdoing\", \"year\", \"year\", \"year\", \"year\", \"year\", \"years\", \"years\", \"years\", \"years\", \"years\", \"yesterday\", \"yesterday\", \"yesterday\", \"yesterday\", \"yesterday\", \"zone\"]}, \"R\": 30, \"lambda.step\": 0.01, \"plot.opts\": {\"xlab\": \"PC1\", \"ylab\": \"PC2\"}, \"topic.order\": [4, 3, 5, 2, 1]};\n",
       "\n",
       "function LDAvis_load_lib(url, callback){\n",
       "  var s = document.createElement('script');\n",
       "  s.src = url;\n",
       "  s.async = true;\n",
       "  s.onreadystatechange = s.onload = callback;\n",
       "  s.onerror = function(){console.warn(\"failed to load library \" + url);};\n",
       "  document.getElementsByTagName(\"head\")[0].appendChild(s);\n",
       "}\n",
       "\n",
       "if(typeof(LDAvis) !== \"undefined\"){\n",
       "   // already loaded: just create the visualization\n",
       "   !function(LDAvis){\n",
       "       new LDAvis(\"#\" + \"ldavis_el10052140024128965752233392816\", ldavis_el10052140024128965752233392816_data);\n",
       "   }(LDAvis);\n",
       "}else if(typeof define === \"function\" && define.amd){\n",
       "   // require.js is available: use it to load d3/LDAvis\n",
       "   require.config({paths: {d3: \"https://cdnjs.cloudflare.com/ajax/libs/d3/3.5.5/d3.min\"}});\n",
       "   require([\"d3\"], function(d3){\n",
       "      window.d3 = d3;\n",
       "      LDAvis_load_lib(\"https://cdn.rawgit.com/bmabey/pyLDAvis/files/ldavis.v1.0.0.js\", function(){\n",
       "        new LDAvis(\"#\" + \"ldavis_el10052140024128965752233392816\", ldavis_el10052140024128965752233392816_data);\n",
       "      });\n",
       "    });\n",
       "}else{\n",
       "    // require.js not available: dynamically load d3 & LDAvis\n",
       "    LDAvis_load_lib(\"https://cdnjs.cloudflare.com/ajax/libs/d3/3.5.5/d3.min.js\", function(){\n",
       "         LDAvis_load_lib(\"https://cdn.rawgit.com/bmabey/pyLDAvis/files/ldavis.v1.0.0.js\", function(){\n",
       "                 new LDAvis(\"#\" + \"ldavis_el10052140024128965752233392816\", ldavis_el10052140024128965752233392816_data);\n",
       "            })\n",
       "         });\n",
       "}\n",
       "</script>"
      ],
      "text/plain": [
       "PreparedData(topic_coordinates=            Freq  cluster  topics         x         y\n",
       "topic                                                \n",
       "3      26.261758        1       1  0.006513  0.059807\n",
       "2      22.837452        1       2 -0.023168  0.011005\n",
       "4      20.740263        1       3 -0.048551 -0.023553\n",
       "1      15.543030        1       4  0.063257 -0.019345\n",
       "0      14.617497        1       5  0.001949 -0.027913, topic_info=     Category        Freq            Term       Total  loglift  logprob\n",
       "term                                                                   \n",
       "131   Default  122.000000       australia  122.000000  30.0000  30.0000\n",
       "912   Default   28.000000          metres   28.000000  29.0000  29.0000\n",
       "394   Default   38.000000           force   38.000000  28.0000  28.0000\n",
       "596   Default   40.000000            test   40.000000  27.0000  27.0000\n",
       "845   Default   73.000000          arafat   73.000000  26.0000  26.0000\n",
       "223   Default   18.000000       detainees   18.000000  25.0000  25.0000\n",
       "199   Default   14.000000  asylum_seekers   14.000000  24.0000  24.0000\n",
       "511   Default   36.000000          afghan   36.000000  23.0000  23.0000\n",
       "310   Default   19.000000           river   19.000000  22.0000  22.0000\n",
       "1234  Default   39.000000          israel   39.000000  21.0000  21.0000\n",
       "247   Default   26.000000           match   26.000000  20.0000  20.0000\n",
       "128   Default   18.000000      queensland   18.000000  19.0000  19.0000\n",
       "724   Default   12.000000          flight   12.000000  18.0000  18.0000\n",
       "591   Default   23.000000    south_africa   23.000000  17.0000  17.0000\n",
       "220   Default   74.000000     afghanistan   74.000000  16.0000  16.0000\n",
       "1641  Default   13.000000    hollingworth   13.000000  15.0000  15.0000\n",
       "3465  Default    5.000000  world_heritage    5.000000  14.0000  14.0000\n",
       "3753  Default    5.000000        products    5.000000  13.0000  13.0000\n",
       "537   Default   43.000000         israeli   43.000000  12.0000  12.0000\n",
       "1150  Default   21.000000           radio   21.000000  11.0000  11.0000\n",
       "42    Default   63.000000            year   63.000000  10.0000  10.0000\n",
       "204   Default   14.000000           kabul   14.000000   9.0000   9.0000\n",
       "219   Default   27.000000           power   27.000000   8.0000   8.0000\n",
       "572   Default   15.000000            boat   15.000000   7.0000   7.0000\n",
       "1091  Default   10.000000           waugh   10.000000   6.0000   6.0000\n",
       "679   Default   50.000000             man   50.000000   5.0000   5.0000\n",
       "1368  Default   14.000000         weapons   14.000000   4.0000   4.0000\n",
       "226   Default    7.000000         pacific    7.000000   3.0000   3.0000\n",
       "1687  Default   28.000000          qantas   28.000000   2.0000   2.0000\n",
       "3190  Default    6.000000         friedli    6.000000   1.0000   1.0000\n",
       "...       ...         ...             ...         ...      ...      ...\n",
       "1638   Topic5    2.841820        anglican    6.923281   1.0325  -6.8775\n",
       "843    Topic5    6.766160       statement   21.765192   0.7546  -6.0100\n",
       "718    Topic5    4.813810           plane   13.939812   0.8597  -6.3504\n",
       "131    Topic5   21.733476       australia  122.842737   0.1909  -4.8430\n",
       "472    Topic5    6.560504           talks   22.895966   0.6731  -6.0408\n",
       "125    Topic5   11.871312            time   54.025809   0.4076  -5.4478\n",
       "591    Topic5    6.504580    south_africa   23.059689   0.6574  -6.0494\n",
       "75     Topic5   13.185025        security   65.250714   0.3238  -5.3428\n",
       "693    Topic5    5.975927         federal   20.892428   0.6713  -6.1342\n",
       "1293   Topic5    4.947626         cricket   15.927040   0.7538  -6.3230\n",
       "513    Topic5    5.755918       agreement   20.321878   0.6615  -6.1717\n",
       "138    Topic5    8.629418       president   39.226072   0.4088  -5.7667\n",
       "511    Topic5    8.169297          afghan   36.069207   0.4379  -5.8215\n",
       "1      Topic5   16.153200          people  112.740028  -0.0200  -5.1398\n",
       "236    Topic5   10.520138   united_states   58.816684   0.2018  -5.5686\n",
       "8      Topic5   10.247353           today   62.400549   0.1164  -5.5949\n",
       "473    Topic5    6.252416  prime_minister   25.273954   0.5261  -6.0889\n",
       "42     Topic5    9.952229            year   63.052675   0.0768  -5.6241\n",
       "596    Topic5    7.567994            test   40.912222   0.2355  -5.8980\n",
       "1022   Topic5    8.224568             day   49.647029   0.1251  -5.8148\n",
       "845    Topic5    9.731801          arafat   73.186644  -0.0947  -5.6465\n",
       "165    Topic5   11.011631      government  112.344130  -0.3997  -5.5229\n",
       "90     Topic5    8.912379          police   69.051449  -0.1245  -5.7345\n",
       "1516   Topic5    5.662083       tora_bora   24.639412   0.4524  -6.1881\n",
       "1150   Topic5    5.303714           radio   21.877717   0.5059  -6.2535\n",
       "356    Topic5    6.229585         morning   37.841839   0.1188  -6.0926\n",
       "196    Topic5    6.009359          action   38.118516   0.0756  -6.1286\n",
       "220    Topic5    6.484875     afghanistan   74.062282  -0.5125  -6.0524\n",
       "76     Topic5    5.913220          forces   51.199855  -0.2356  -6.1447\n",
       "154    Topic5    5.818153            days   47.598108  -0.1789  -6.1609\n",
       "\n",
       "[412 rows x 6 columns], token_table=      Topic      Freq               Term\n",
       "term                                    \n",
       "1637      1  0.155848              abuse\n",
       "1637      2  0.077924              abuse\n",
       "1637      3  0.155848              abuse\n",
       "1637      4  0.155848              abuse\n",
       "1637      5  0.467545              abuse\n",
       "376       1  0.584286             access\n",
       "376       2  0.083469             access\n",
       "376       3  0.166939             access\n",
       "376       4  0.083469             access\n",
       "376       5  0.166939             access\n",
       "196       1  0.157404             action\n",
       "196       2  0.236106             action\n",
       "196       3  0.209872             action\n",
       "196       4  0.236106             action\n",
       "196       5  0.157404             action\n",
       "1745      3  0.448283            actress\n",
       "1745      5  0.448283            actress\n",
       "2353      3  0.801108          advantage\n",
       "3105      1  0.247361    adventure_world\n",
       "3105      2  0.082454    adventure_world\n",
       "3105      3  0.164907    adventure_world\n",
       "3105      4  0.412268    adventure_world\n",
       "3105      5  0.164907    adventure_world\n",
       "1655      1  0.121859             advice\n",
       "1655      2  0.121859             advice\n",
       "1655      3  0.243717             advice\n",
       "1655      5  0.487435             advice\n",
       "1992      5  0.677488          advocates\n",
       "511       1  0.194071             afghan\n",
       "511       2  0.166347             afghan\n",
       "...     ...       ...                ...\n",
       "1835      3  0.159745  woomera_detention\n",
       "658       3  0.803158               word\n",
       "670       1  0.185601            workers\n",
       "670       2  0.185601            workers\n",
       "670       3  0.334082            workers\n",
       "670       4  0.185601            workers\n",
       "670       5  0.111361            workers\n",
       "295       1  0.159342              world\n",
       "295       2  0.295921              world\n",
       "295       3  0.250394              world\n",
       "295       4  0.159342              world\n",
       "295       5  0.113816              world\n",
       "3465      4  0.902788     world_heritage\n",
       "3824      4  0.825955         wrongdoing\n",
       "42        1  0.111018               year\n",
       "42        2  0.348915               year\n",
       "42        3  0.269616               year\n",
       "42        4  0.111018               year\n",
       "42        5  0.158598               year\n",
       "152       1  0.227057              years\n",
       "152       2  0.227057              years\n",
       "152       3  0.277514              years\n",
       "152       4  0.126143              years\n",
       "152       5  0.151371              years\n",
       "111       1  0.333217          yesterday\n",
       "111       2  0.285615          yesterday\n",
       "111       3  0.190410          yesterday\n",
       "111       4  0.095205          yesterday\n",
       "111       5  0.095205          yesterday\n",
       "2004      2  0.858884               zone\n",
       "\n",
       "[895 rows x 3 columns], R=30, lambda_step=0.01, plot_opts={'xlab': 'PC1', 'ylab': 'PC2'}, topic_order=[4, 3, 5, 2, 1])"
      ]
     },
     "execution_count": 19,
     "metadata": {},
     "output_type": "execute_result"
    }
   ],
   "source": [
    "pyLDAvis.gensim.prepare(lmlist[4], corpus, dictionary)"
   ]
  },
  {
   "cell_type": "code",
   "execution_count": 20,
   "metadata": {
    "collapsed": true,
    "nbpresent": {
     "id": "699e2ddb-add6-4134-a723-1bb37029f013"
    }
   },
   "outputs": [],
   "source": [
    "lmtopics = lmlist[4].show_topics(formatted=False)"
   ]
  },
  {
   "cell_type": "markdown",
   "metadata": {
    "nbpresent": {
     "id": "caa35df4-b625-4246-bc1f-42c561f31486"
    }
   },
   "source": [
    "### LDA as LSI"
   ]
  },
  {
   "cell_type": "markdown",
   "metadata": {
    "nbpresent": {
     "id": "d2aa5aac-acc7-41c9-96d4-5410c0d8a14b"
    }
   },
   "source": [
    "One of the problem with LDA is that if we train it on a large number of topics, the topics get \"lost\" among the numbers. Let us see if we can dig out the best topics from the best LDA model we can produce. The function below can be used to control the quality of the LDA model we produce."
   ]
  },
  {
   "cell_type": "code",
   "execution_count": 27,
   "metadata": {
    "collapsed": true
   },
   "outputs": [],
   "source": [
    "def get_best_model_by_topics(dictionary, corpus, texts, starting=10, limit=101, step=10, chunksize=300, passes=5, iterations=200):\n",
    "    \"\"\"\n",
    "    Since LDAmodel is a probabilistic model, it comes up different topics each time we run it. To control the\n",
    "    quality of the topic model we produce, we can see what the interpretability of the best topic is and keep\n",
    "    evaluating the topic model until this threshold is crossed. \n",
    "    \n",
    "    Returns:\n",
    "    -------\n",
    "    lm: Final evaluated topic model\n",
    "    top_topics: ranked topics in decreasing order. List of tuples\n",
    "    \"\"\"\n",
    "    # Set training parameters.\n",
    "    eval_every = 1  # Don't evaluate model perplexity, takes too much time.\n",
    "    \n",
    "    lm_list = {}\n",
    "    co_va = {}\n",
    "    for num_topics in np.arange(starting, limit, step):\n",
    "        lm = LdaModel(corpus=corpus, id2word=dictionary, passes=passes, \\\n",
    "                      num_topics=num_topics, chunksize=chunksize, iterations=iterations, \\\n",
    "                      eval_every=eval_every, alpha='auto', eta='auto')\n",
    "        lm_list[num_topics - 1] = lm\n",
    "        cm = CoherenceModel(model=lm, texts=texts, dictionary=dictionary, coherence='c_v')\n",
    "        co_va[num_topics - 1] = cm.get_coherence()\n",
    "    top_models = sorted(co_va.items(), key=operator.itemgetter(1), reverse=True)\n",
    "    print('Melhores 5 modelos', top_models[:5])\n",
    "    return lm_list[top_models[0][0]], lm_list, co_va"
   ]
  },
  {
   "cell_type": "code",
   "execution_count": 26,
   "metadata": {},
   "outputs": [
    {
     "name": "stderr",
     "output_type": "stream",
     "text": [
      "2017-11-20 11:40:15,002 : INFO : using autotuned alpha, starting with [0.10000000000000001, 0.10000000000000001, 0.10000000000000001, 0.10000000000000001, 0.10000000000000001, 0.10000000000000001, 0.10000000000000001, 0.10000000000000001, 0.10000000000000001, 0.10000000000000001]\n",
      "2017-11-20 11:40:15,004 : INFO : using serial LDA version on this node\n",
      "2017-11-20 11:40:15,481 : INFO : running online (multi-pass) LDA training, 10 topics, 5 passes over the supplied corpus of 300 documents, updating model once every 300 documents, evaluating perplexity every 300 documents, iterating 200x with a convergence threshold of 0.001000\n",
      "2017-11-20 11:40:15,481 : WARNING : too few updates, training might not converge; consider increasing the number of passes or iterations to improve accuracy\n",
      "2017-11-20 11:40:16,111 : DEBUG : bound: at document #0\n",
      "2017-11-20 11:40:17,619 : INFO : -11.613 per-word bound, 3133.1 perplexity estimate based on a held-out corpus of 300 documents with 18861 words\n",
      "2017-11-20 11:40:17,620 : INFO : PROGRESS: pass 0, at document #300/300\n",
      "2017-11-20 11:40:17,620 : DEBUG : performing inference on a chunk of 300 documents\n",
      "2017-11-20 11:40:18,738 : DEBUG : 226/300 documents converged within 200 iterations\n",
      "2017-11-20 11:40:18,742 : INFO : optimized alpha [0.058834407016640597, 0.058516263848277759, 0.065246716606737962, 0.067139393084010443, 0.059068086709777416, 0.068166439781996879, 0.071280725924604521, 0.06912479222507717, 0.075434912867611739, 0.080554312546830903]\n",
      "2017-11-20 11:40:18,742 : DEBUG : updating topics\n",
      "2017-11-20 11:40:18,903 : INFO : topic #1 (0.059): 0.011*\"qantas\" + 0.010*\"company\" + 0.009*\"unions\" + 0.007*\"workers\" + 0.007*\"dispute\" + 0.007*\"cancer\" + 0.006*\"action\" + 0.005*\"hewitt\" + 0.005*\"australia\" + 0.005*\"pakistan\"\n",
      "2017-11-20 11:40:18,904 : INFO : topic #0 (0.059): 0.017*\"australia\" + 0.006*\"israel\" + 0.006*\"wicket\" + 0.006*\"hamas\" + 0.005*\"official\" + 0.005*\"day\" + 0.005*\"match\" + 0.005*\"drug\" + 0.005*\"today\" + 0.004*\"israeli\"\n",
      "2017-11-20 11:40:18,906 : INFO : topic #6 (0.071): 0.011*\"people\" + 0.011*\"australia\" + 0.010*\"police\" + 0.006*\"india\" + 0.006*\"year\" + 0.005*\"government\" + 0.005*\"team\" + 0.004*\"united_states\" + 0.004*\"attacks\" + 0.004*\"world\"\n",
      "2017-11-20 11:40:18,907 : INFO : topic #8 (0.075): 0.012*\"afghanistan\" + 0.011*\"government\" + 0.008*\"australia\" + 0.008*\"people\" + 0.007*\"fire\" + 0.007*\"forces\" + 0.006*\"security\" + 0.005*\"sydney\" + 0.005*\"man\" + 0.005*\"taliban\"\n",
      "2017-11-20 11:40:18,908 : INFO : topic #9 (0.081): 0.014*\"arafat\" + 0.007*\"security\" + 0.007*\"government\" + 0.006*\"pakistan\" + 0.006*\"union\" + 0.005*\"israeli\" + 0.005*\"staff\" + 0.005*\"afghanistan\" + 0.005*\"day\" + 0.004*\"attacks\"\n",
      "2017-11-20 11:40:18,910 : INFO : topic diff=6.880362, rho=1.000000\n",
      "2017-11-20 11:40:19,067 : DEBUG : bound: at document #0\n",
      "2017-11-20 11:40:19,722 : INFO : -8.049 per-word bound, 264.8 perplexity estimate based on a held-out corpus of 300 documents with 18861 words\n",
      "2017-11-20 11:40:19,723 : INFO : PROGRESS: pass 1, at document #300/300\n",
      "2017-11-20 11:40:19,723 : DEBUG : performing inference on a chunk of 300 documents\n",
      "2017-11-20 11:40:19,947 : DEBUG : 300/300 documents converged within 200 iterations\n",
      "2017-11-20 11:40:19,950 : INFO : optimized alpha [0.049435841486832978, 0.050037433978382562, 0.056600799260306672, 0.05805073375073308, 0.049873075561531602, 0.058303168891482293, 0.062224966075688316, 0.059768669452745234, 0.06753784879591726, 0.072672996185582428]\n",
      "2017-11-20 11:40:19,951 : DEBUG : updating topics\n",
      "2017-11-20 11:40:20,120 : INFO : topic #0 (0.049): 0.018*\"australia\" + 0.007*\"hamas\" + 0.007*\"israel\" + 0.007*\"wicket\" + 0.006*\"official\" + 0.006*\"day\" + 0.005*\"match\" + 0.005*\"israeli\" + 0.005*\"innings\" + 0.005*\"drug\"\n",
      "2017-11-20 11:40:20,121 : INFO : topic #4 (0.050): 0.006*\"report\" + 0.006*\"harrison\" + 0.006*\"city\" + 0.006*\"river\" + 0.005*\"commission\" + 0.005*\"giuliani\" + 0.005*\"new_york\" + 0.004*\"krishna\" + 0.004*\"today\" + 0.004*\"people\"\n",
      "2017-11-20 11:40:20,123 : INFO : topic #6 (0.062): 0.011*\"australia\" + 0.011*\"people\" + 0.010*\"police\" + 0.007*\"india\" + 0.006*\"year\" + 0.005*\"government\" + 0.005*\"team\" + 0.004*\"united_states\" + 0.004*\"attacks\" + 0.004*\"world\"\n",
      "2017-11-20 11:40:20,124 : INFO : topic #8 (0.068): 0.014*\"afghanistan\" + 0.011*\"government\" + 0.008*\"australia\" + 0.008*\"forces\" + 0.008*\"fire\" + 0.008*\"people\" + 0.006*\"sydney\" + 0.006*\"force\" + 0.006*\"security\" + 0.005*\"man\"\n",
      "2017-11-20 11:40:20,126 : INFO : topic #9 (0.073): 0.015*\"arafat\" + 0.007*\"security\" + 0.007*\"government\" + 0.006*\"israeli\" + 0.006*\"pakistan\" + 0.006*\"union\" + 0.005*\"attacks\" + 0.005*\"staff\" + 0.005*\"sharon\" + 0.005*\"day\"\n",
      "2017-11-20 11:40:20,127 : INFO : topic diff=0.718519, rho=0.577350\n",
      "2017-11-20 11:40:20,310 : DEBUG : bound: at document #0\n",
      "2017-11-20 11:40:20,969 : INFO : -7.899 per-word bound, 238.6 perplexity estimate based on a held-out corpus of 300 documents with 18861 words\n",
      "2017-11-20 11:40:20,970 : INFO : PROGRESS: pass 2, at document #300/300\n",
      "2017-11-20 11:40:20,970 : DEBUG : performing inference on a chunk of 300 documents\n",
      "2017-11-20 11:40:21,169 : DEBUG : 300/300 documents converged within 200 iterations\n",
      "2017-11-20 11:40:21,173 : INFO : optimized alpha [0.043632943223892176, 0.044578437851830854, 0.050854360695738871, 0.051947812321292135, 0.044064171600286271, 0.052046382875559911, 0.056136938609099171, 0.05382643000137026, 0.06223254438535638, 0.067169102968992533]\n",
      "2017-11-20 11:40:21,179 : DEBUG : updating topics\n",
      "2017-11-20 11:40:21,354 : INFO : topic #0 (0.044): 0.018*\"australia\" + 0.008*\"hamas\" + 0.007*\"wicket\" + 0.007*\"israel\" + 0.006*\"official\" + 0.006*\"day\" + 0.005*\"match\" + 0.005*\"innings\" + 0.005*\"israeli\" + 0.005*\"drug\"\n",
      "2017-11-20 11:40:21,355 : INFO : topic #4 (0.044): 0.007*\"harrison\" + 0.006*\"report\" + 0.006*\"river\" + 0.006*\"city\" + 0.005*\"commission\" + 0.005*\"giuliani\" + 0.004*\"people\" + 0.004*\"krishna\" + 0.004*\"new_york\" + 0.004*\"cent\"\n",
      "2017-11-20 11:40:21,357 : INFO : topic #6 (0.056): 0.011*\"australia\" + 0.011*\"people\" + 0.010*\"police\" + 0.007*\"india\" + 0.006*\"year\" + 0.005*\"government\" + 0.004*\"team\" + 0.004*\"united_states\" + 0.004*\"world\" + 0.004*\"attacks\"\n",
      "2017-11-20 11:40:21,361 : INFO : topic #8 (0.062): 0.015*\"afghanistan\" + 0.012*\"government\" + 0.009*\"forces\" + 0.008*\"fire\" + 0.008*\"australia\" + 0.007*\"people\" + 0.007*\"force\" + 0.007*\"sydney\" + 0.006*\"security\" + 0.006*\"today\"\n",
      "2017-11-20 11:40:21,362 : INFO : topic #9 (0.067): 0.016*\"arafat\" + 0.007*\"security\" + 0.007*\"israeli\" + 0.006*\"government\" + 0.006*\"pakistan\" + 0.006*\"union\" + 0.005*\"israel\" + 0.005*\"attacks\" + 0.005*\"sharon\" + 0.005*\"west_bank\"\n",
      "2017-11-20 11:40:21,362 : INFO : topic diff=0.339518, rho=0.500000\n",
      "2017-11-20 11:40:21,543 : DEBUG : bound: at document #0\n",
      "2017-11-20 11:40:22,185 : INFO : -7.811 per-word bound, 224.6 perplexity estimate based on a held-out corpus of 300 documents with 18861 words\n",
      "2017-11-20 11:40:22,185 : INFO : PROGRESS: pass 3, at document #300/300\n",
      "2017-11-20 11:40:22,186 : DEBUG : performing inference on a chunk of 300 documents\n",
      "2017-11-20 11:40:22,379 : DEBUG : 300/300 documents converged within 200 iterations\n",
      "2017-11-20 11:40:22,382 : INFO : optimized alpha [0.039520633637348659, 0.040655129082769595, 0.046786128322773471, 0.047492073870427802, 0.039939527414500291, 0.047668074077556875, 0.051447042888244629, 0.049532896289090321, 0.058364181369026984, 0.063021322578353564]\n",
      "2017-11-20 11:40:22,383 : DEBUG : updating topics\n",
      "2017-11-20 11:40:22,564 : INFO : topic #0 (0.040): 0.018*\"australia\" + 0.008*\"hamas\" + 0.007*\"wicket\" + 0.006*\"israel\" + 0.006*\"official\" + 0.006*\"day\" + 0.005*\"match\" + 0.005*\"innings\" + 0.004*\"israeli\" + 0.004*\"team\"\n",
      "2017-11-20 11:40:22,565 : INFO : topic #4 (0.040): 0.007*\"harrison\" + 0.006*\"report\" + 0.006*\"river\" + 0.006*\"city\" + 0.005*\"commission\" + 0.005*\"people\" + 0.004*\"giuliani\" + 0.004*\"krishna\" + 0.004*\"cent\" + 0.004*\"today\"\n",
      "2017-11-20 11:40:22,566 : INFO : topic #6 (0.051): 0.012*\"australia\" + 0.011*\"people\" + 0.010*\"police\" + 0.007*\"india\" + 0.006*\"year\" + 0.005*\"government\" + 0.004*\"team\" + 0.004*\"united_states\" + 0.004*\"company\" + 0.003*\"world\"\n",
      "2017-11-20 11:40:22,567 : INFO : topic #8 (0.058): 0.016*\"afghanistan\" + 0.012*\"government\" + 0.009*\"forces\" + 0.008*\"fire\" + 0.008*\"australia\" + 0.008*\"force\" + 0.007*\"sydney\" + 0.007*\"people\" + 0.006*\"security\" + 0.006*\"today\"\n"
     ]
    },
    {
     "name": "stderr",
     "output_type": "stream",
     "text": [
      "2017-11-20 11:40:22,567 : INFO : topic #9 (0.063): 0.017*\"arafat\" + 0.008*\"security\" + 0.008*\"israeli\" + 0.006*\"government\" + 0.006*\"pakistan\" + 0.006*\"israel\" + 0.006*\"union\" + 0.006*\"attacks\" + 0.005*\"west_bank\" + 0.005*\"sharon\"\n",
      "2017-11-20 11:40:22,568 : INFO : topic diff=0.231241, rho=0.447214\n",
      "2017-11-20 11:40:22,742 : DEBUG : bound: at document #0\n",
      "2017-11-20 11:40:23,350 : INFO : -7.758 per-word bound, 216.5 perplexity estimate based on a held-out corpus of 300 documents with 18861 words\n",
      "2017-11-20 11:40:23,351 : INFO : PROGRESS: pass 4, at document #300/300\n",
      "2017-11-20 11:40:23,351 : DEBUG : performing inference on a chunk of 300 documents\n",
      "2017-11-20 11:40:23,522 : DEBUG : 300/300 documents converged within 200 iterations\n",
      "2017-11-20 11:40:23,526 : INFO : optimized alpha [0.036456748405669911, 0.037651093688834632, 0.043652981067461336, 0.044031735384626597, 0.036810110800781233, 0.044388986783863563, 0.047870970499097179, 0.046232610803120577, 0.055482676591535482, 0.059740744967987355]\n",
      "2017-11-20 11:40:23,526 : DEBUG : updating topics\n",
      "2017-11-20 11:40:23,699 : INFO : topic #0 (0.036): 0.018*\"australia\" + 0.007*\"hamas\" + 0.007*\"wicket\" + 0.006*\"israel\" + 0.006*\"day\" + 0.005*\"official\" + 0.005*\"match\" + 0.005*\"team\" + 0.005*\"innings\" + 0.004*\"drug\"\n",
      "2017-11-20 11:40:23,700 : INFO : topic #4 (0.037): 0.006*\"harrison\" + 0.006*\"river\" + 0.006*\"report\" + 0.006*\"city\" + 0.005*\"commission\" + 0.005*\"people\" + 0.004*\"giuliani\" + 0.004*\"cent\" + 0.004*\"krishna\" + 0.004*\"today\"\n",
      "2017-11-20 11:40:23,700 : INFO : topic #6 (0.048): 0.012*\"australia\" + 0.011*\"people\" + 0.010*\"police\" + 0.008*\"india\" + 0.006*\"year\" + 0.005*\"government\" + 0.004*\"team\" + 0.004*\"united_states\" + 0.004*\"company\" + 0.003*\"minister\"\n",
      "2017-11-20 11:40:23,701 : INFO : topic #8 (0.055): 0.016*\"afghanistan\" + 0.012*\"government\" + 0.009*\"forces\" + 0.008*\"fire\" + 0.008*\"force\" + 0.008*\"australia\" + 0.008*\"sydney\" + 0.007*\"people\" + 0.006*\"security\" + 0.006*\"laden\"\n",
      "2017-11-20 11:40:23,701 : INFO : topic #9 (0.060): 0.017*\"arafat\" + 0.008*\"security\" + 0.008*\"israeli\" + 0.007*\"israel\" + 0.006*\"pakistan\" + 0.006*\"government\" + 0.006*\"union\" + 0.006*\"attacks\" + 0.006*\"west_bank\" + 0.005*\"sharon\"\n",
      "2017-11-20 11:40:23,702 : INFO : topic diff=0.166631, rho=0.408248\n",
      "2017-11-20 11:40:23,793 : DEBUG : Setting topics to those of the model: LdaModel(num_terms=4431, num_topics=10, decay=0.5, chunksize=300)\n",
      "2017-11-20 11:40:23,794 : INFO : using ParallelWordOccurrenceAccumulator(processes=3, batch_size=64) to estimate probabilities from sliding windows\n",
      "2017-11-20 11:40:23,864 : DEBUG : completed batch 0; 64 documents processed (92 virtual)\n",
      "2017-11-20 11:40:23,892 : DEBUG : completed batch 0; 64 documents processed (305 virtual)\n",
      "2017-11-20 11:40:23,897 : DEBUG : completed batch 0; 64 documents processed (258 virtual)\n",
      "2017-11-20 11:40:23,913 : DEBUG : completed batch 1; 128 documents processed (332 virtual)\n",
      "2017-11-20 11:40:23,911 : DEBUG : observed sentinel value; terminating\n",
      "2017-11-20 11:40:23,919 : DEBUG : finished all batches; 64 documents processed (258 virtual)\n",
      "2017-11-20 11:40:23,922 : DEBUG : observed sentinel value; terminating\n",
      "2017-11-20 11:40:23,923 : INFO : serializing accumulator to return to master...\n",
      "2017-11-20 11:40:23,926 : DEBUG : completed batch 1; 108 documents processed (532 virtual)\n",
      "2017-11-20 11:40:23,927 : DEBUG : finished all batches; 128 documents processed (332 virtual)\n",
      "2017-11-20 11:40:23,930 : DEBUG : observed sentinel value; terminating\n",
      "2017-11-20 11:40:23,927 : INFO : accumulator serialized\n",
      "2017-11-20 11:40:23,935 : DEBUG : finished all batches; 108 documents processed (532 virtual)\n",
      "2017-11-20 11:40:23,937 : INFO : serializing accumulator to return to master...\n",
      "2017-11-20 11:40:23,935 : INFO : serializing accumulator to return to master...\n",
      "2017-11-20 11:40:23,948 : INFO : accumulator serialized\n",
      "2017-11-20 11:40:23,958 : INFO : accumulator serialized\n",
      "2017-11-20 11:40:23,979 : INFO : 3 accumulators retrieved from output queue\n",
      "2017-11-20 11:40:23,998 : INFO : accumulated word occurrence stats for 1122 virtual documents\n",
      "2017-11-20 11:40:24,614 : INFO : using autotuned alpha, starting with [0.050000000000000003, 0.050000000000000003, 0.050000000000000003, 0.050000000000000003, 0.050000000000000003, 0.050000000000000003, 0.050000000000000003, 0.050000000000000003, 0.050000000000000003, 0.050000000000000003, 0.050000000000000003, 0.050000000000000003, 0.050000000000000003, 0.050000000000000003, 0.050000000000000003, 0.050000000000000003, 0.050000000000000003, 0.050000000000000003, 0.050000000000000003, 0.050000000000000003]\n",
      "2017-11-20 11:40:24,615 : INFO : using serial LDA version on this node\n",
      "2017-11-20 11:40:25,879 : INFO : running online (multi-pass) LDA training, 20 topics, 5 passes over the supplied corpus of 300 documents, updating model once every 300 documents, evaluating perplexity every 300 documents, iterating 200x with a convergence threshold of 0.001000\n",
      "2017-11-20 11:40:25,881 : WARNING : too few updates, training might not converge; consider increasing the number of passes or iterations to improve accuracy\n",
      "2017-11-20 11:40:27,149 : DEBUG : bound: at document #0\n",
      "2017-11-20 11:40:29,016 : INFO : -16.769 per-word bound, 111703.9 perplexity estimate based on a held-out corpus of 300 documents with 18861 words\n",
      "2017-11-20 11:40:29,027 : INFO : PROGRESS: pass 0, at document #300/300\n",
      "2017-11-20 11:40:29,028 : DEBUG : performing inference on a chunk of 300 documents\n",
      "2017-11-20 11:40:30,433 : DEBUG : 242/300 documents converged within 200 iterations\n",
      "2017-11-20 11:40:30,438 : INFO : optimized alpha [0.040213242866050436, 0.042656413017756106, 0.040831588837440966, 0.041439115452687164, 0.042046177404928449, 0.039211935840571616, 0.040869372470306593, 0.039227411720578323, 0.042434179912837995, 0.042214902874581295, 0.042336310667165623, 0.041367063649893579, 0.041265289975479992, 0.041894028683622901, 0.044235985300747668, 0.039221359529538841, 0.044265396995588541, 0.042451474752777003, 0.04021931674247315, 0.041447195000099316]\n",
      "2017-11-20 11:40:30,438 : DEBUG : updating topics\n",
      "2017-11-20 11:40:30,668 : INFO : topic #15 (0.039): 0.015*\"hamas\" + 0.010*\"official\" + 0.010*\"wicket\" + 0.009*\"israeli\" + 0.007*\"people\" + 0.007*\"arafat\" + 0.007*\"israel\" + 0.007*\"rate\" + 0.006*\"australia\" + 0.006*\"staff\"\n",
      "2017-11-20 11:40:30,669 : INFO : topic #5 (0.039): 0.008*\"information\" + 0.008*\"data\" + 0.008*\"chechen\" + 0.006*\"troops\" + 0.006*\"party\" + 0.006*\"afghan\" + 0.006*\"people\" + 0.006*\"river\" + 0.006*\"laws\" + 0.006*\"powers\"\n",
      "2017-11-20 11:40:30,673 : INFO : topic #1 (0.043): 0.014*\"pakistan\" + 0.009*\"government\" + 0.008*\"radio\" + 0.006*\"year\" + 0.006*\"forces\" + 0.006*\"president\" + 0.005*\"state\" + 0.005*\"qantas\" + 0.005*\"australia\" + 0.005*\"firefighters\"\n",
      "2017-11-20 11:40:30,673 : INFO : topic #14 (0.044): 0.011*\"australia\" + 0.009*\"man\" + 0.007*\"people\" + 0.007*\"child\" + 0.006*\"afghanistan\" + 0.006*\"laden\" + 0.006*\"sydney\" + 0.005*\"president\" + 0.004*\"government\" + 0.004*\"road\"\n",
      "2017-11-20 11:40:30,675 : INFO : topic #16 (0.044): 0.011*\"afghanistan\" + 0.011*\"people\" + 0.010*\"government\" + 0.007*\"qantas\" + 0.006*\"time\" + 0.006*\"taliban\" + 0.006*\"forces\" + 0.005*\"force\" + 0.005*\"action\" + 0.005*\"security\"\n",
      "2017-11-20 11:40:30,676 : INFO : topic diff=15.851265, rho=1.000000\n",
      "2017-11-20 11:40:30,934 : DEBUG : bound: at document #0\n",
      "2017-11-20 11:40:31,660 : INFO : -8.193 per-word bound, 292.6 perplexity estimate based on a held-out corpus of 300 documents with 18861 words\n",
      "2017-11-20 11:40:31,661 : INFO : PROGRESS: pass 1, at document #300/300\n",
      "2017-11-20 11:40:31,661 : DEBUG : performing inference on a chunk of 300 documents\n",
      "2017-11-20 11:40:31,947 : DEBUG : 300/300 documents converged within 200 iterations\n",
      "2017-11-20 11:40:31,951 : INFO : optimized alpha [0.036445906041247797, 0.039059755765485059, 0.037223434198493818, 0.037713727622381614, 0.0385516635452113, 0.035136068618292229, 0.037267851619161671, 0.03532787718573252, 0.039439533046358471, 0.038796871129110733, 0.03890459885085943, 0.037359457105633036, 0.037769386309552511, 0.038435491904986054, 0.041406456632761393, 0.035402860854086275, 0.041144190519822668, 0.040019779985765919, 0.036195849687479395, 0.037713500290695527]\n",
      "2017-11-20 11:40:31,952 : DEBUG : updating topics\n"
     ]
    },
    {
     "name": "stderr",
     "output_type": "stream",
     "text": [
      "2017-11-20 11:40:32,182 : INFO : topic #5 (0.035): 0.007*\"information\" + 0.007*\"data\" + 0.007*\"chechen\" + 0.006*\"troops\" + 0.006*\"party\" + 0.006*\"people\" + 0.006*\"city\" + 0.006*\"river\" + 0.006*\"laws\" + 0.006*\"hollingworth\"\n",
      "2017-11-20 11:40:32,183 : INFO : topic #7 (0.035): 0.011*\"year\" + 0.010*\"report\" + 0.007*\"sultan\" + 0.007*\"whiting\" + 0.007*\"people\" + 0.007*\"safety\" + 0.006*\"attacks\" + 0.006*\"authority\" + 0.005*\"court\" + 0.005*\"violence\"\n",
      "2017-11-20 11:40:32,185 : INFO : topic #17 (0.040): 0.026*\"arafat\" + 0.014*\"israeli\" + 0.013*\"sharon\" + 0.011*\"west_bank\" + 0.011*\"australia\" + 0.007*\"islamic\" + 0.007*\"leader\" + 0.006*\"government\" + 0.006*\"security\" + 0.006*\"people\"\n",
      "2017-11-20 11:40:32,187 : INFO : topic #16 (0.041): 0.012*\"afghanistan\" + 0.010*\"people\" + 0.010*\"government\" + 0.009*\"qantas\" + 0.006*\"taliban\" + 0.006*\"force\" + 0.006*\"action\" + 0.006*\"time\" + 0.006*\"forces\" + 0.006*\"united_states\"\n",
      "2017-11-20 11:40:32,188 : INFO : topic #14 (0.041): 0.010*\"australia\" + 0.010*\"man\" + 0.007*\"child\" + 0.007*\"people\" + 0.006*\"laden\" + 0.006*\"president\" + 0.005*\"sydney\" + 0.005*\"afghanistan\" + 0.005*\"virus\" + 0.004*\"road\"\n",
      "2017-11-20 11:40:32,190 : INFO : topic diff=1.107231, rho=0.577350\n",
      "2017-11-20 11:40:32,431 : DEBUG : bound: at document #0\n",
      "2017-11-20 11:40:33,127 : INFO : -8.008 per-word bound, 257.5 perplexity estimate based on a held-out corpus of 300 documents with 18861 words\n",
      "2017-11-20 11:40:33,128 : INFO : PROGRESS: pass 2, at document #300/300\n",
      "2017-11-20 11:40:33,129 : DEBUG : performing inference on a chunk of 300 documents\n",
      "2017-11-20 11:40:33,377 : DEBUG : 300/300 documents converged within 200 iterations\n",
      "2017-11-20 11:40:33,381 : INFO : optimized alpha [0.033734697834428472, 0.036437247621531603, 0.034670402051669012, 0.035085687892371341, 0.035992685554012097, 0.032243866166495855, 0.034782431463190801, 0.032540144431610719, 0.03734523470757211, 0.036286103010863761, 0.03638159143101289, 0.034494090433787157, 0.035215169318554347, 0.035970799921698639, 0.039104981608128087, 0.03266596588664674, 0.038809645295202221, 0.038297704078316321, 0.033327721140173898, 0.034943506381926254]\n",
      "2017-11-20 11:40:33,382 : DEBUG : updating topics\n",
      "2017-11-20 11:40:33,632 : INFO : topic #5 (0.032): 0.007*\"information\" + 0.007*\"data\" + 0.007*\"chechen\" + 0.006*\"people\" + 0.006*\"troops\" + 0.006*\"party\" + 0.006*\"city\" + 0.006*\"river\" + 0.006*\"laws\" + 0.006*\"hollingworth\"\n",
      "2017-11-20 11:40:33,633 : INFO : topic #7 (0.033): 0.011*\"year\" + 0.010*\"report\" + 0.007*\"sultan\" + 0.007*\"people\" + 0.007*\"whiting\" + 0.007*\"safety\" + 0.006*\"attacks\" + 0.006*\"authority\" + 0.005*\"court\" + 0.005*\"guides\"\n",
      "2017-11-20 11:40:33,634 : INFO : topic #17 (0.038): 0.030*\"arafat\" + 0.015*\"israeli\" + 0.012*\"sharon\" + 0.012*\"west_bank\" + 0.010*\"australia\" + 0.008*\"security\" + 0.008*\"leader\" + 0.007*\"islamic\" + 0.007*\"israel\" + 0.007*\"gaza_strip\"\n",
      "2017-11-20 11:40:33,642 : INFO : topic #16 (0.039): 0.013*\"afghanistan\" + 0.011*\"qantas\" + 0.010*\"government\" + 0.010*\"people\" + 0.007*\"action\" + 0.007*\"force\" + 0.006*\"taliban\" + 0.006*\"workers\" + 0.006*\"time\" + 0.006*\"united_states\"\n",
      "2017-11-20 11:40:33,643 : INFO : topic #14 (0.039): 0.010*\"australia\" + 0.010*\"man\" + 0.008*\"child\" + 0.008*\"people\" + 0.006*\"laden\" + 0.006*\"president\" + 0.005*\"virus\" + 0.005*\"sydney\" + 0.005*\"united_states\" + 0.005*\"road\"\n",
      "2017-11-20 11:40:33,644 : INFO : topic diff=0.552035, rho=0.500000\n",
      "2017-11-20 11:40:33,893 : DEBUG : bound: at document #0\n",
      "2017-11-20 11:40:34,599 : INFO : -7.900 per-word bound, 238.9 perplexity estimate based on a held-out corpus of 300 documents with 18861 words\n",
      "2017-11-20 11:40:34,599 : INFO : PROGRESS: pass 3, at document #300/300\n",
      "2017-11-20 11:40:34,600 : DEBUG : performing inference on a chunk of 300 documents\n",
      "2017-11-20 11:40:34,852 : DEBUG : 300/300 documents converged within 200 iterations\n",
      "2017-11-20 11:40:34,856 : INFO : optimized alpha [0.03163703963166091, 0.034391229370928873, 0.032680026781378199, 0.033041960458882781, 0.033935619809610518, 0.030030828012144694, 0.032838881301215463, 0.030448179151122291, 0.03572971098950628, 0.034376362074818707, 0.034401138255320783, 0.032290013953859859, 0.033218795637061919, 0.034037433612487102, 0.037273475521457093, 0.030556570470969078, 0.037082654613844877, 0.037018329869917231, 0.031125817754725144, 0.032801715522676064]\n",
      "2017-11-20 11:40:34,856 : DEBUG : updating topics\n",
      "2017-11-20 11:40:35,112 : INFO : topic #5 (0.030): 0.007*\"information\" + 0.007*\"data\" + 0.007*\"chechen\" + 0.006*\"people\" + 0.006*\"city\" + 0.006*\"troops\" + 0.006*\"party\" + 0.006*\"river\" + 0.005*\"laws\" + 0.005*\"hollingworth\"\n",
      "2017-11-20 11:40:35,113 : INFO : topic #7 (0.030): 0.011*\"year\" + 0.010*\"report\" + 0.007*\"people\" + 0.007*\"sultan\" + 0.007*\"safety\" + 0.007*\"whiting\" + 0.006*\"court\" + 0.006*\"attacks\" + 0.006*\"authority\" + 0.006*\"guides\"\n",
      "2017-11-20 11:40:35,113 : INFO : topic #17 (0.037): 0.033*\"arafat\" + 0.016*\"israeli\" + 0.012*\"west_bank\" + 0.012*\"sharon\" + 0.010*\"australia\" + 0.009*\"security\" + 0.009*\"israel\" + 0.008*\"leader\" + 0.007*\"gaza_strip\" + 0.007*\"islamic\"\n",
      "2017-11-20 11:40:35,114 : INFO : topic #16 (0.037): 0.013*\"afghanistan\" + 0.012*\"qantas\" + 0.010*\"government\" + 0.009*\"people\" + 0.007*\"action\" + 0.007*\"workers\" + 0.007*\"force\" + 0.006*\"taliban\" + 0.006*\"time\" + 0.006*\"united_states\"\n",
      "2017-11-20 11:40:35,114 : INFO : topic #14 (0.037): 0.010*\"man\" + 0.010*\"australia\" + 0.008*\"child\" + 0.008*\"people\" + 0.006*\"president\" + 0.006*\"laden\" + 0.005*\"virus\" + 0.005*\"united_states\" + 0.005*\"attacks\" + 0.005*\"road\"\n",
      "2017-11-20 11:40:35,115 : INFO : topic diff=0.404473, rho=0.447214\n",
      "2017-11-20 11:40:35,358 : DEBUG : bound: at document #0\n",
      "2017-11-20 11:40:36,079 : INFO : -7.829 per-word bound, 227.4 perplexity estimate based on a held-out corpus of 300 documents with 18861 words\n",
      "2017-11-20 11:40:36,080 : INFO : PROGRESS: pass 4, at document #300/300\n",
      "2017-11-20 11:40:36,080 : DEBUG : performing inference on a chunk of 300 documents\n",
      "2017-11-20 11:40:36,306 : DEBUG : 300/300 documents converged within 200 iterations\n",
      "2017-11-20 11:40:36,310 : INFO : optimized alpha [0.029939539616559121, 0.032725013553711907, 0.031059911056726799, 0.031381474019695481, 0.03226250442618965, 0.028255398725472138, 0.031252640718359335, 0.02875974197122827, 0.034384329128241659, 0.032811974119343078, 0.032781073597764811, 0.0305146060102441, 0.031591247216433131, 0.032456245316655474, 0.035759516274139799, 0.028854570713103597, 0.035649773507375797, 0.036097803465620477, 0.02935480312926915, 0.031069658022876138]\n",
      "2017-11-20 11:40:36,310 : DEBUG : updating topics\n",
      "2017-11-20 11:40:36,553 : INFO : topic #5 (0.028): 0.007*\"information\" + 0.007*\"data\" + 0.007*\"chechen\" + 0.006*\"people\" + 0.006*\"city\" + 0.006*\"troops\" + 0.005*\"party\" + 0.005*\"river\" + 0.005*\"laws\" + 0.005*\"hollingworth\"\n",
      "2017-11-20 11:40:36,554 : INFO : topic #7 (0.029): 0.011*\"year\" + 0.010*\"report\" + 0.007*\"people\" + 0.007*\"sultan\" + 0.007*\"safety\" + 0.007*\"whiting\" + 0.006*\"court\" + 0.006*\"guides\" + 0.006*\"interlaken\" + 0.006*\"attacks\"\n",
      "2017-11-20 11:40:36,555 : INFO : topic #16 (0.036): 0.013*\"afghanistan\" + 0.013*\"qantas\" + 0.009*\"government\" + 0.009*\"people\" + 0.008*\"workers\" + 0.007*\"action\" + 0.007*\"force\" + 0.006*\"taliban\" + 0.006*\"unions\" + 0.006*\"united_states\"\n",
      "2017-11-20 11:40:36,555 : INFO : topic #14 (0.036): 0.010*\"man\" + 0.010*\"australia\" + 0.008*\"child\" + 0.008*\"people\" + 0.006*\"president\" + 0.006*\"laden\" + 0.005*\"virus\" + 0.005*\"united_states\" + 0.005*\"attacks\" + 0.005*\"road\"\n",
      "2017-11-20 11:40:36,556 : INFO : topic #17 (0.036): 0.034*\"arafat\" + 0.017*\"israeli\" + 0.012*\"west_bank\" + 0.012*\"sharon\" + 0.010*\"israel\" + 0.010*\"security\" + 0.009*\"australia\" + 0.008*\"leader\" + 0.008*\"gaza_strip\" + 0.008*\"hamas\"\n",
      "2017-11-20 11:40:36,560 : INFO : topic diff=0.308354, rho=0.408248\n",
      "2017-11-20 11:40:36,689 : DEBUG : Setting topics to those of the model: LdaModel(num_terms=4431, num_topics=20, decay=0.5, chunksize=300)\n",
      "2017-11-20 11:40:36,691 : INFO : using ParallelWordOccurrenceAccumulator(processes=3, batch_size=64) to estimate probabilities from sliding windows\n",
      "2017-11-20 11:40:36,812 : DEBUG : completed batch 0; 64 documents processed (92 virtual)\n",
      "2017-11-20 11:40:36,813 : DEBUG : completed batch 0; 64 documents processed (258 virtual)\n"
     ]
    },
    {
     "name": "stderr",
     "output_type": "stream",
     "text": [
      "2017-11-20 11:40:36,836 : DEBUG : completed batch 0; 64 documents processed (305 virtual)\n",
      "2017-11-20 11:40:36,859 : DEBUG : observed sentinel value; terminating\n",
      "2017-11-20 11:40:36,887 : DEBUG : finished all batches; 64 documents processed (305 virtual)\n",
      "2017-11-20 11:40:36,895 : DEBUG : completed batch 1; 128 documents processed (332 virtual)\n",
      "2017-11-20 11:40:36,898 : INFO : serializing accumulator to return to master...\n",
      "2017-11-20 11:40:36,897 : DEBUG : observed sentinel value; terminating\n",
      "2017-11-20 11:40:36,898 : DEBUG : completed batch 1; 108 documents processed (485 virtual)\n",
      "2017-11-20 11:40:36,902 : INFO : accumulator serialized\n",
      "2017-11-20 11:40:36,903 : DEBUG : observed sentinel value; terminating\n",
      "2017-11-20 11:40:36,907 : DEBUG : finished all batches; 108 documents processed (485 virtual)\n",
      "2017-11-20 11:40:36,906 : DEBUG : finished all batches; 128 documents processed (332 virtual)\n",
      "2017-11-20 11:40:36,914 : INFO : serializing accumulator to return to master...\n",
      "2017-11-20 11:40:36,915 : INFO : serializing accumulator to return to master...\n",
      "2017-11-20 11:40:36,922 : INFO : accumulator serialized\n",
      "2017-11-20 11:40:36,930 : INFO : accumulator serialized\n",
      "2017-11-20 11:40:36,982 : INFO : 3 accumulators retrieved from output queue\n",
      "2017-11-20 11:40:37,003 : INFO : accumulated word occurrence stats for 1122 virtual documents\n",
      "2017-11-20 11:40:37,804 : INFO : using autotuned alpha, starting with [0.033333333333333333, 0.033333333333333333, 0.033333333333333333, 0.033333333333333333, 0.033333333333333333, 0.033333333333333333, 0.033333333333333333, 0.033333333333333333, 0.033333333333333333, 0.033333333333333333, 0.033333333333333333, 0.033333333333333333, 0.033333333333333333, 0.033333333333333333, 0.033333333333333333, 0.033333333333333333, 0.033333333333333333, 0.033333333333333333, 0.033333333333333333, 0.033333333333333333, 0.033333333333333333, 0.033333333333333333, 0.033333333333333333, 0.033333333333333333, 0.033333333333333333, 0.033333333333333333, 0.033333333333333333, 0.033333333333333333, 0.033333333333333333, 0.033333333333333333]\n",
      "2017-11-20 11:40:37,805 : INFO : using serial LDA version on this node\n",
      "2017-11-20 11:40:39,291 : INFO : running online (multi-pass) LDA training, 30 topics, 5 passes over the supplied corpus of 300 documents, updating model once every 300 documents, evaluating perplexity every 300 documents, iterating 200x with a convergence threshold of 0.001000\n",
      "2017-11-20 11:40:39,291 : WARNING : too few updates, training might not converge; consider increasing the number of passes or iterations to improve accuracy\n",
      "2017-11-20 11:40:40,993 : DEBUG : bound: at document #0\n",
      "2017-11-20 11:40:43,054 : INFO : -23.057 per-word bound, 8728518.9 perplexity estimate based on a held-out corpus of 300 documents with 18861 words\n",
      "2017-11-20 11:40:43,054 : INFO : PROGRESS: pass 0, at document #300/300\n",
      "2017-11-20 11:40:43,056 : DEBUG : performing inference on a chunk of 300 documents\n",
      "2017-11-20 11:40:44,620 : DEBUG : 246/300 documents converged within 200 iterations\n",
      "2017-11-20 11:40:44,625 : INFO : optimized alpha [0.03064249171009702, 0.029659189931235969, 0.030023309929228782, 0.029129110381065006, 0.030667639889373426, 0.030168555754236555, 0.029136843147487133, 0.030164136431090231, 0.029529831374271905, 0.029146526073282344, 0.029276639043966834, 0.029772747492705157, 0.029786857410973276, 0.029281672416395919, 0.029792592911624147, 0.029144821838961867, 0.030026994308001733, 0.030287109281735312, 0.028886138211628186, 0.029153476188308582, 0.029534718083366128, 0.029021043186558217, 0.029028254938306568, 0.029523567449213788, 0.029152302598358451, 0.029409847382063974, 0.028385177501904099, 0.028771821389671527, 0.029908363338893552, 0.029532579761817029]\n",
      "2017-11-20 11:40:44,627 : DEBUG : updating topics\n",
      "2017-11-20 11:40:44,883 : INFO : topic #26 (0.028): 0.016*\"ice\" + 0.016*\"vaughan\" + 0.013*\"hollingworth\" + 0.013*\"sea\" + 0.013*\"antarctic\" + 0.013*\"abuse\" + 0.011*\"governor_general\" + 0.010*\"child\" + 0.010*\"cent\" + 0.010*\"change\"\n",
      "2017-11-20 11:40:44,884 : INFO : topic #27 (0.029): 0.014*\"space\" + 0.012*\"power\" + 0.010*\"suharto\" + 0.009*\"year\" + 0.008*\"yesterday\" + 0.008*\"condition\" + 0.008*\"station\" + 0.008*\"shuttle\" + 0.008*\"doctors\" + 0.008*\"launch\"\n",
      "2017-11-20 11:40:44,886 : INFO : topic #17 (0.030): 0.011*\"afghan\" + 0.011*\"government\" + 0.009*\"work\" + 0.009*\"people\" + 0.009*\"afghanistan\" + 0.007*\"talks\" + 0.007*\"australia\" + 0.007*\"president\" + 0.006*\"drug\" + 0.006*\"agreement\"\n",
      "2017-11-20 11:40:44,888 : INFO : topic #0 (0.031): 0.016*\"afghanistan\" + 0.011*\"united_states\" + 0.011*\"people\" + 0.009*\"police\" + 0.009*\"taliban\" + 0.008*\"australian\" + 0.008*\"forces\" + 0.008*\"government\" + 0.007*\"federal\" + 0.007*\"officials\"\n",
      "2017-11-20 11:40:44,889 : INFO : topic #4 (0.031): 0.014*\"arafat\" + 0.010*\"laden\" + 0.008*\"qantas\" + 0.008*\"tora_bora\" + 0.007*\"afghan\" + 0.007*\"cancer\" + 0.007*\"taliban\" + 0.007*\"commission\" + 0.007*\"company\" + 0.006*\"people\"\n",
      "2017-11-20 11:40:44,890 : INFO : topic diff=25.241182, rho=1.000000\n",
      "2017-11-20 11:40:45,147 : DEBUG : bound: at document #0\n",
      "2017-11-20 11:40:45,911 : INFO : -8.261 per-word bound, 306.8 perplexity estimate based on a held-out corpus of 300 documents with 18861 words\n",
      "2017-11-20 11:40:45,911 : INFO : PROGRESS: pass 1, at document #300/300\n",
      "2017-11-20 11:40:45,912 : DEBUG : performing inference on a chunk of 300 documents\n",
      "2017-11-20 11:40:46,213 : DEBUG : 300/300 documents converged within 200 iterations\n",
      "2017-11-20 11:40:46,217 : INFO : optimized alpha [0.029128809149416759, 0.02770539305146557, 0.028207340358820519, 0.027190044637654457, 0.02942340304973157, 0.028533815810620818, 0.027560026352554678, 0.028529362970717887, 0.02772266267994259, 0.027203157818026406, 0.027378514518311865, 0.027863741825660617, 0.028197137362907548, 0.027447619121429859, 0.028389533325785168, 0.027201832897112158, 0.028460792877383654, 0.028889793439749144, 0.026794054795613913, 0.027147168178688411, 0.027788680867927865, 0.027034647291501276, 0.027162742992160295, 0.027651766476251602, 0.027207114351343379, 0.0275566554061762, 0.026303803191050825, 0.026821521211278218, 0.028360977173815239, 0.027848871851652836]\n",
      "2017-11-20 11:40:46,218 : DEBUG : updating topics\n",
      "2017-11-20 11:40:46,477 : INFO : topic #26 (0.026): 0.017*\"hollingworth\" + 0.016*\"vaughan\" + 0.016*\"ice\" + 0.014*\"governor_general\" + 0.014*\"abuse\" + 0.013*\"child\" + 0.013*\"sea\" + 0.012*\"antarctic\" + 0.012*\"brisbane\" + 0.010*\"school\"\n",
      "2017-11-20 11:40:46,478 : INFO : topic #18 (0.027): 0.020*\"company\" + 0.015*\"party\" + 0.011*\"groups\" + 0.009*\"attack\" + 0.009*\"staff\" + 0.009*\"labor\" + 0.009*\"entitlements\" + 0.009*\"review\" + 0.009*\"austar\" + 0.009*\"rule\"\n",
      "2017-11-20 11:40:46,480 : INFO : topic #17 (0.029): 0.011*\"afghan\" + 0.011*\"government\" + 0.010*\"work\" + 0.009*\"people\" + 0.008*\"afghanistan\" + 0.008*\"talks\" + 0.007*\"president\" + 0.007*\"australia\" + 0.006*\"drug\" + 0.006*\"year\"\n",
      "2017-11-20 11:40:46,482 : INFO : topic #0 (0.029): 0.017*\"afghanistan\" + 0.011*\"united_states\" + 0.011*\"people\" + 0.009*\"taliban\" + 0.009*\"police\" + 0.009*\"australian\" + 0.008*\"federal\" + 0.007*\"forces\" + 0.007*\"government\" + 0.007*\"officials\"\n",
      "2017-11-20 11:40:46,483 : INFO : topic #4 (0.029): 0.013*\"arafat\" + 0.010*\"laden\" + 0.009*\"tora_bora\" + 0.008*\"taliban\" + 0.007*\"area\" + 0.007*\"afghan\" + 0.007*\"qantas\" + 0.007*\"cancer\" + 0.007*\"people\" + 0.006*\"united_states\"\n",
      "2017-11-20 11:40:46,485 : INFO : topic diff=1.342388, rho=0.577350\n",
      "2017-11-20 11:40:46,742 : DEBUG : bound: at document #0\n",
      "2017-11-20 11:40:47,493 : INFO : -8.073 per-word bound, 269.2 perplexity estimate based on a held-out corpus of 300 documents with 18861 words\n",
      "2017-11-20 11:40:47,493 : INFO : PROGRESS: pass 2, at document #300/300\n",
      "2017-11-20 11:40:47,494 : DEBUG : performing inference on a chunk of 300 documents\n",
      "2017-11-20 11:40:47,779 : DEBUG : 300/300 documents converged within 200 iterations\n",
      "2017-11-20 11:40:47,783 : INFO : optimized alpha [0.027942807699097235, 0.026215896221316631, 0.026811068228077314, 0.02571229156630276, 0.02837611125953754, 0.027262399247266693, 0.026385919824941994, 0.027259767394610356, 0.026334340654850533, 0.025722443552018821, 0.025878974220281792, 0.02645382572072336, 0.02695987214209809, 0.026041228374155106, 0.027493185739461527, 0.025721783649201517, 0.027288816060177617, 0.027786309270052718, 0.025213704844683021, 0.025620191716913501, 0.026391792379871073, 0.025524942924572917, 0.025736856576634912, 0.026219257259957138, 0.02562790932330104, 0.026136295419492875, 0.02473341466069515, 0.025337591635179638, 0.027049676997678452, 0.026547548373843571]\n"
     ]
    },
    {
     "name": "stderr",
     "output_type": "stream",
     "text": [
      "2017-11-20 11:40:47,784 : DEBUG : updating topics\n",
      "2017-11-20 11:40:48,063 : INFO : topic #26 (0.025): 0.020*\"hollingworth\" + 0.016*\"governor_general\" + 0.016*\"child\" + 0.015*\"vaughan\" + 0.015*\"ice\" + 0.015*\"abuse\" + 0.013*\"brisbane\" + 0.012*\"sea\" + 0.012*\"antarctic\" + 0.011*\"school\"\n",
      "2017-11-20 11:40:48,063 : INFO : topic #18 (0.025): 0.020*\"company\" + 0.015*\"party\" + 0.011*\"groups\" + 0.009*\"attack\" + 0.009*\"staff\" + 0.009*\"labor\" + 0.009*\"entitlements\" + 0.009*\"review\" + 0.009*\"austar\" + 0.009*\"rule\"\n",
      "2017-11-20 11:40:48,065 : INFO : topic #17 (0.028): 0.011*\"government\" + 0.011*\"afghan\" + 0.010*\"work\" + 0.009*\"people\" + 0.008*\"talks\" + 0.008*\"afghanistan\" + 0.008*\"president\" + 0.007*\"australia\" + 0.006*\"drug\" + 0.006*\"year\"\n",
      "2017-11-20 11:40:48,068 : INFO : topic #0 (0.028): 0.017*\"afghanistan\" + 0.011*\"people\" + 0.011*\"united_states\" + 0.010*\"taliban\" + 0.009*\"police\" + 0.009*\"australian\" + 0.008*\"federal\" + 0.007*\"government\" + 0.007*\"forces\" + 0.007*\"officials\"\n",
      "2017-11-20 11:40:48,070 : INFO : topic #4 (0.028): 0.011*\"laden\" + 0.011*\"arafat\" + 0.009*\"tora_bora\" + 0.009*\"taliban\" + 0.009*\"area\" + 0.008*\"afghan\" + 0.007*\"cancer\" + 0.007*\"united_states\" + 0.007*\"people\" + 0.006*\"afghanistan\"\n",
      "2017-11-20 11:40:48,073 : INFO : topic diff=0.691244, rho=0.500000\n",
      "2017-11-20 11:40:48,347 : DEBUG : bound: at document #0\n",
      "2017-11-20 11:40:49,092 : INFO : -7.952 per-word bound, 247.6 perplexity estimate based on a held-out corpus of 300 documents with 18861 words\n",
      "2017-11-20 11:40:49,092 : INFO : PROGRESS: pass 3, at document #300/300\n",
      "2017-11-20 11:40:49,093 : DEBUG : performing inference on a chunk of 300 documents\n",
      "2017-11-20 11:40:49,367 : DEBUG : 300/300 documents converged within 200 iterations\n",
      "2017-11-20 11:40:49,371 : INFO : optimized alpha [0.026965759926448864, 0.025015028616132671, 0.025677801606871709, 0.024521058581960527, 0.027504217769937458, 0.026221371933240548, 0.025422698649117503, 0.026221341086232808, 0.025208417573253393, 0.024529152931182446, 0.024671229716720047, 0.025312421878384332, 0.025986820160101665, 0.024902335413427068, 0.026834314552400883, 0.024528859855642297, 0.026409333625869655, 0.026872613719363374, 0.023948247387802532, 0.024312050600411517, 0.025258824899121891, 0.024310377311002624, 0.024584442558215274, 0.025060647892046546, 0.024362266006721221, 0.024986700377071045, 0.023476668843106296, 0.024142900659968412, 0.025980552108081492, 0.025486452646676757]\n",
      "2017-11-20 11:40:49,371 : DEBUG : updating topics\n",
      "2017-11-20 11:40:49,645 : INFO : topic #26 (0.023): 0.022*\"hollingworth\" + 0.018*\"governor_general\" + 0.017*\"child\" + 0.015*\"abuse\" + 0.015*\"vaughan\" + 0.015*\"ice\" + 0.014*\"brisbane\" + 0.012*\"school\" + 0.012*\"sea\" + 0.012*\"antarctic\"\n",
      "2017-11-20 11:40:49,646 : INFO : topic #18 (0.024): 0.020*\"company\" + 0.015*\"party\" + 0.011*\"groups\" + 0.009*\"attack\" + 0.009*\"staff\" + 0.009*\"labor\" + 0.009*\"process\" + 0.009*\"entitlements\" + 0.009*\"review\" + 0.009*\"austar\"\n",
      "2017-11-20 11:40:49,647 : INFO : topic #17 (0.027): 0.011*\"government\" + 0.011*\"afghan\" + 0.010*\"work\" + 0.009*\"people\" + 0.008*\"talks\" + 0.008*\"president\" + 0.007*\"afghanistan\" + 0.007*\"australia\" + 0.006*\"year\" + 0.006*\"drug\"\n",
      "2017-11-20 11:40:49,649 : INFO : topic #0 (0.027): 0.017*\"afghanistan\" + 0.012*\"people\" + 0.011*\"united_states\" + 0.011*\"taliban\" + 0.009*\"police\" + 0.009*\"australian\" + 0.008*\"federal\" + 0.007*\"hih\" + 0.007*\"government\" + 0.007*\"forces\"\n",
      "2017-11-20 11:40:49,653 : INFO : topic #4 (0.028): 0.012*\"laden\" + 0.010*\"tora_bora\" + 0.009*\"area\" + 0.009*\"taliban\" + 0.008*\"arafat\" + 0.008*\"afghan\" + 0.007*\"united_states\" + 0.007*\"cancer\" + 0.007*\"people\" + 0.006*\"afghanistan\"\n",
      "2017-11-20 11:40:49,656 : INFO : topic diff=0.527882, rho=0.447214\n",
      "2017-11-20 11:40:49,925 : DEBUG : bound: at document #0\n",
      "2017-11-20 11:40:50,625 : INFO : -7.871 per-word bound, 234.2 perplexity estimate based on a held-out corpus of 300 documents with 18861 words\n",
      "2017-11-20 11:40:50,625 : INFO : PROGRESS: pass 4, at document #300/300\n",
      "2017-11-20 11:40:50,626 : DEBUG : performing inference on a chunk of 300 documents\n",
      "2017-11-20 11:40:50,888 : DEBUG : 300/300 documents converged within 200 iterations\n",
      "2017-11-20 11:40:50,892 : INFO : optimized alpha [0.02613569175048841, 0.024011717202331362, 0.024725857844118331, 0.023525870029913586, 0.026796339728862868, 0.025340865283783855, 0.024605951849745046, 0.025343252925956149, 0.024263256743438464, 0.023532495312752474, 0.023662952476236628, 0.024354892401955756, 0.025161066842749272, 0.023947417985876993, 0.026418860797044055, 0.023532325694763535, 0.025659188523185834, 0.026092809000137527, 0.022896655517766998, 0.02322702200754476, 0.024307903708929553, 0.023297275351325197, 0.023619557654787661, 0.024090138776649523, 0.023309789240257298, 0.024023234670714894, 0.022432694663351082, 0.02314580275158435, 0.025079171887553212, 0.024628458340853428]\n",
      "2017-11-20 11:40:50,893 : DEBUG : updating topics\n",
      "2017-11-20 11:40:51,174 : INFO : topic #26 (0.022): 0.023*\"hollingworth\" + 0.018*\"governor_general\" + 0.018*\"child\" + 0.016*\"abuse\" + 0.014*\"vaughan\" + 0.014*\"ice\" + 0.014*\"brisbane\" + 0.013*\"school\" + 0.011*\"sea\" + 0.011*\"antarctic\"\n",
      "2017-11-20 11:40:51,175 : INFO : topic #18 (0.023): 0.019*\"company\" + 0.015*\"party\" + 0.011*\"groups\" + 0.009*\"attack\" + 0.009*\"staff\" + 0.009*\"process\" + 0.009*\"labor\" + 0.009*\"entitlements\" + 0.009*\"review\" + 0.009*\"austar\"\n",
      "2017-11-20 11:40:51,176 : INFO : topic #0 (0.026): 0.017*\"afghanistan\" + 0.012*\"people\" + 0.011*\"united_states\" + 0.011*\"taliban\" + 0.009*\"police\" + 0.009*\"australian\" + 0.008*\"federal\" + 0.007*\"hih\" + 0.007*\"government\" + 0.007*\"forces\"\n",
      "2017-11-20 11:40:51,177 : INFO : topic #14 (0.026): 0.036*\"arafat\" + 0.019*\"israeli\" + 0.018*\"israel\" + 0.014*\"hamas\" + 0.013*\"west_bank\" + 0.012*\"government\" + 0.012*\"sharon\" + 0.012*\"security\" + 0.010*\"people\" + 0.009*\"leader\"\n",
      "2017-11-20 11:40:51,178 : INFO : topic #4 (0.027): 0.013*\"laden\" + 0.011*\"tora_bora\" + 0.010*\"area\" + 0.009*\"taliban\" + 0.008*\"afghan\" + 0.007*\"united_states\" + 0.007*\"cancer\" + 0.007*\"people\" + 0.007*\"qaeda\" + 0.006*\"afghanistan\"\n",
      "2017-11-20 11:40:51,180 : INFO : topic diff=0.416401, rho=0.408248\n",
      "2017-11-20 11:40:51,323 : DEBUG : Setting topics to those of the model: LdaModel(num_terms=4431, num_topics=30, decay=0.5, chunksize=300)\n",
      "2017-11-20 11:40:51,326 : INFO : using ParallelWordOccurrenceAccumulator(processes=3, batch_size=64) to estimate probabilities from sliding windows\n",
      "2017-11-20 11:40:51,427 : DEBUG : completed batch 0; 64 documents processed (92 virtual)\n",
      "2017-11-20 11:40:51,533 : DEBUG : completed batch 1; 128 documents processed (332 virtual)\n",
      "2017-11-20 11:40:51,566 : DEBUG : completed batch 0; 64 documents processed (305 virtual)\n",
      "2017-11-20 11:40:51,566 : DEBUG : completed batch 0; 64 documents processed (258 virtual)\n",
      "2017-11-20 11:40:51,569 : DEBUG : observed sentinel value; terminating\n",
      "2017-11-20 11:40:51,574 : DEBUG : finished all batches; 64 documents processed (305 virtual)\n",
      "2017-11-20 11:40:51,572 : DEBUG : observed sentinel value; terminating\n",
      "2017-11-20 11:40:51,580 : INFO : serializing accumulator to return to master...\n",
      "2017-11-20 11:40:51,583 : INFO : accumulator serialized\n",
      "2017-11-20 11:40:51,578 : DEBUG : finished all batches; 64 documents processed (258 virtual)\n",
      "2017-11-20 11:40:51,598 : INFO : serializing accumulator to return to master...\n",
      "2017-11-20 11:40:51,610 : DEBUG : completed batch 2; 172 documents processed (559 virtual)\n",
      "2017-11-20 11:40:51,610 : INFO : accumulator serialized\n",
      "2017-11-20 11:40:51,630 : DEBUG : observed sentinel value; terminating\n",
      "2017-11-20 11:40:51,648 : DEBUG : finished all batches; 172 documents processed (559 virtual)\n",
      "2017-11-20 11:40:51,649 : INFO : serializing accumulator to return to master...\n",
      "2017-11-20 11:40:51,652 : INFO : accumulator serialized\n",
      "2017-11-20 11:40:51,687 : INFO : 3 accumulators retrieved from output queue\n",
      "2017-11-20 11:40:51,722 : INFO : accumulated word occurrence stats for 1122 virtual documents\n",
      "2017-11-20 11:40:52,926 : INFO : using autotuned alpha, starting with [0.025000000000000001, 0.025000000000000001, 0.025000000000000001, 0.025000000000000001, 0.025000000000000001, 0.025000000000000001, 0.025000000000000001, 0.025000000000000001, 0.025000000000000001, 0.025000000000000001, 0.025000000000000001, 0.025000000000000001, 0.025000000000000001, 0.025000000000000001, 0.025000000000000001, 0.025000000000000001, 0.025000000000000001, 0.025000000000000001, 0.025000000000000001, 0.025000000000000001, 0.025000000000000001, 0.025000000000000001, 0.025000000000000001, 0.025000000000000001, 0.025000000000000001, 0.025000000000000001, 0.025000000000000001, 0.025000000000000001, 0.025000000000000001, 0.025000000000000001, 0.025000000000000001, 0.025000000000000001, 0.025000000000000001, 0.025000000000000001, 0.025000000000000001, 0.025000000000000001, 0.025000000000000001, 0.025000000000000001, 0.025000000000000001, 0.025000000000000001]\n"
     ]
    },
    {
     "name": "stderr",
     "output_type": "stream",
     "text": [
      "2017-11-20 11:40:52,927 : INFO : using serial LDA version on this node\n",
      "2017-11-20 11:40:54,868 : INFO : running online (multi-pass) LDA training, 40 topics, 5 passes over the supplied corpus of 300 documents, updating model once every 300 documents, evaluating perplexity every 300 documents, iterating 200x with a convergence threshold of 0.001000\n",
      "2017-11-20 11:40:54,869 : WARNING : too few updates, training might not converge; consider increasing the number of passes or iterations to improve accuracy\n",
      "2017-11-20 11:40:57,010 : DEBUG : bound: at document #0\n",
      "2017-11-20 11:40:59,237 : INFO : -30.116 per-word bound, 1163942693.6 perplexity estimate based on a held-out corpus of 300 documents with 18861 words\n",
      "2017-11-20 11:40:59,238 : INFO : PROGRESS: pass 0, at document #300/300\n",
      "2017-11-20 11:40:59,239 : DEBUG : performing inference on a chunk of 300 documents\n",
      "2017-11-20 11:41:00,977 : DEBUG : 245/300 documents converged within 200 iterations\n",
      "2017-11-20 11:41:00,981 : INFO : optimized alpha [0.022768400782331048, 0.022857657715318738, 0.022770176973874102, 0.023232030892724485, 0.022677588508480884, 0.022120212602633426, 0.023139441537874211, 0.023051739294740768, 0.022948856667712077, 0.022860141187998017, 0.022765483225630014, 0.023231643745820405, 0.02239995211551752, 0.022305949460668516, 0.022584605709571728, 0.022669584306187495, 0.023145210076795982, 0.023044136720748506, 0.022858313292385746, 0.023317366878151998, 0.022578817455086272, 0.022854052336013033, 0.022770064214485301, 0.023228567427367799, 0.022580057890585883, 0.02314121628220852, 0.023042966279030838, 0.023511678550162861, 0.022671423402430901, 0.023045202317715053, 0.02305013602652747, 0.023304611073019683, 0.022765547845454641, 0.022945480439591586, 0.023039480606867106, 0.022958729200424237, 0.022857932700125011, 0.023049743725742252, 0.022492011116866415, 0.022583574142550373]\n",
      "2017-11-20 11:41:00,982 : DEBUG : updating topics\n",
      "2017-11-20 11:41:01,258 : INFO : topic #5 (0.022): 0.007*\"refugees\" + 0.005*\"australia\" + 0.005*\"asylum_seekers\" + 0.005*\"united_nations\" + 0.004*\"ruddock\" + 0.004*\"burden\" + 0.003*\"refugee\" + 0.003*\"criticism\" + 0.003*\"immigrants\" + 0.003*\"high\"\n",
      "2017-11-20 11:41:01,259 : INFO : topic #13 (0.022): 0.021*\"government\" + 0.017*\"rudd\" + 0.012*\"northern_alliance\" + 0.010*\"peace\" + 0.008*\"taliban\" + 0.008*\"islamabad\" + 0.008*\"death\" + 0.008*\"hicks\" + 0.008*\"united_states\" + 0.008*\"afghanistan\"\n",
      "2017-11-20 11:41:01,261 : INFO : topic #31 (0.023): 0.020*\"australia\" + 0.010*\"new_york\" + 0.008*\"attacks\" + 0.008*\"united_states\" + 0.008*\"pakistan\" + 0.007*\"india\" + 0.007*\"dispute\" + 0.007*\"police\" + 0.006*\"britain\" + 0.006*\"people\"\n",
      "2017-11-20 11:41:01,262 : INFO : topic #19 (0.023): 0.018*\"security\" + 0.013*\"government\" + 0.012*\"arafat\" + 0.011*\"hamas\" + 0.011*\"afghanistan\" + 0.009*\"israeli\" + 0.009*\"president\" + 0.009*\"israel\" + 0.008*\"people\" + 0.008*\"official\"\n",
      "2017-11-20 11:41:01,263 : INFO : topic #27 (0.024): 0.011*\"united_states\" + 0.009*\"hospital\" + 0.008*\"afghanistan\" + 0.008*\"sydney\" + 0.007*\"firefighters\" + 0.007*\"areas\" + 0.007*\"laden\" + 0.006*\"police\" + 0.006*\"factory\" + 0.006*\"department\"\n",
      "2017-11-20 11:41:01,264 : INFO : topic diff=34.686963, rho=1.000000\n",
      "2017-11-20 11:41:01,533 : DEBUG : bound: at document #0\n",
      "2017-11-20 11:41:02,302 : INFO : -8.418 per-word bound, 342.1 perplexity estimate based on a held-out corpus of 300 documents with 18861 words\n",
      "2017-11-20 11:41:02,303 : INFO : PROGRESS: pass 1, at document #300/300\n",
      "2017-11-20 11:41:02,303 : DEBUG : performing inference on a chunk of 300 documents\n",
      "2017-11-20 11:41:02,632 : DEBUG : 300/300 documents converged within 200 iterations\n",
      "2017-11-20 11:41:02,637 : INFO : optimized alpha [0.021639827031312304, 0.021764498680667495, 0.02164291549680742, 0.022392284286600818, 0.021463487289593439, 0.020736259023302554, 0.022210736511144677, 0.022184316691052905, 0.021800350513613745, 0.021911067397427968, 0.021776204231728165, 0.022247026803682103, 0.021169914359000508, 0.021039530810647158, 0.02133115212132778, 0.02140883614180893, 0.02212492506489366, 0.021980831712764243, 0.021766659938617608, 0.022662470357184182, 0.021327777241793876, 0.021809258907372443, 0.021830772231380701, 0.022193683801060172, 0.021422845301623129, 0.022216095777854546, 0.021980452177998003, 0.022600563803258849, 0.021508290891337573, 0.021984693648971241, 0.022133118314028578, 0.022215940073035664, 0.021539788696248049, 0.021651094348457318, 0.021974810031453424, 0.021954745236919655, 0.021814157485732955, 0.022085671194872869, 0.021251361670382909, 0.021517855144418778]\n",
      "2017-11-20 11:41:02,637 : DEBUG : updating topics\n",
      "2017-11-20 11:41:02,915 : INFO : topic #5 (0.021): 0.003*\"refugees\" + 0.003*\"australia\" + 0.002*\"asylum_seekers\" + 0.002*\"united_nations\" + 0.002*\"ruddock\" + 0.002*\"burden\" + 0.002*\"refugee\" + 0.002*\"criticism\" + 0.001*\"immigrants\" + 0.001*\"high\"\n",
      "2017-11-20 11:41:02,916 : INFO : topic #13 (0.021): 0.019*\"government\" + 0.016*\"rudd\" + 0.012*\"northern_alliance\" + 0.011*\"peace\" + 0.010*\"talks\" + 0.009*\"zinni\" + 0.008*\"cease_fire\" + 0.008*\"days\" + 0.008*\"world\" + 0.008*\"united_states\"\n",
      "2017-11-20 11:41:02,917 : INFO : topic #3 (0.022): 0.012*\"government\" + 0.009*\"people\" + 0.009*\"abuse\" + 0.008*\"today\" + 0.007*\"hollingworth\" + 0.007*\"kandahar\" + 0.007*\"conditions\" + 0.007*\"australia\" + 0.006*\"east_timor\" + 0.006*\"governor_general\"\n",
      "2017-11-20 11:41:02,919 : INFO : topic #27 (0.023): 0.010*\"united_states\" + 0.010*\"hospital\" + 0.009*\"sydney\" + 0.007*\"firefighters\" + 0.007*\"areas\" + 0.007*\"laden\" + 0.006*\"afghanistan\" + 0.006*\"police\" + 0.006*\"department\" + 0.006*\"factory\"\n",
      "2017-11-20 11:41:02,920 : INFO : topic #19 (0.023): 0.021*\"security\" + 0.017*\"arafat\" + 0.014*\"government\" + 0.013*\"israeli\" + 0.012*\"hamas\" + 0.011*\"israel\" + 0.009*\"official\" + 0.009*\"afghanistan\" + 0.009*\"forces\" + 0.008*\"president\"\n",
      "2017-11-20 11:41:02,922 : INFO : topic diff=1.565454, rho=0.577350\n",
      "2017-11-20 11:41:03,203 : DEBUG : bound: at document #0\n",
      "2017-11-20 11:41:03,966 : INFO : -8.196 per-word bound, 293.3 perplexity estimate based on a held-out corpus of 300 documents with 18861 words\n",
      "2017-11-20 11:41:03,967 : INFO : PROGRESS: pass 2, at document #300/300\n",
      "2017-11-20 11:41:03,967 : DEBUG : performing inference on a chunk of 300 documents\n",
      "2017-11-20 11:41:04,273 : DEBUG : 300/300 documents converged within 200 iterations\n",
      "2017-11-20 11:41:04,277 : INFO : optimized alpha [0.020750682157963985, 0.020901531434928445, 0.020792004903311602, 0.021675705318807938, 0.020512707650374124, 0.019665725417257252, 0.021467969359858795, 0.021486691567580294, 0.020896184882969803, 0.02115374582990931, 0.020990795833863936, 0.021500236798838369, 0.020208214963407394, 0.02005220957896469, 0.020315384360662637, 0.020424605459240259, 0.021315395891105617, 0.021138610958332339, 0.020865294905111641, 0.022166569196560567, 0.020350702813339106, 0.020981380990810119, 0.021117973159478779, 0.021332319631137298, 0.02051333248409561, 0.021475558609104162, 0.021138625651412109, 0.021869664317639842, 0.020594163596375108, 0.021144999767895068, 0.021399256673744257, 0.021392971563093586, 0.020579868120804236, 0.02064235288966363, 0.021132647521226001, 0.021156874060709988, 0.020949167099093065, 0.021315472687293457, 0.020281880749991245, 0.02067538711861593]\n",
      "2017-11-20 11:41:04,278 : DEBUG : updating topics\n",
      "2017-11-20 11:41:04,580 : INFO : topic #5 (0.020): 0.002*\"refugees\" + 0.002*\"australia\" + 0.001*\"asylum_seekers\" + 0.001*\"united_nations\" + 0.001*\"government\" + 0.001*\"ruddock\" + 0.001*\"people\" + 0.001*\"burden\" + 0.001*\"criticism\" + 0.001*\"refugee\"\n",
      "2017-11-20 11:41:04,581 : INFO : topic #13 (0.020): 0.018*\"government\" + 0.015*\"rudd\" + 0.013*\"peace\" + 0.011*\"northern_alliance\" + 0.010*\"talks\" + 0.010*\"zinni\" + 0.009*\"cease_fire\" + 0.009*\"return\" + 0.008*\"days\" + 0.007*\"united_states\"\n",
      "2017-11-20 11:41:04,582 : INFO : topic #3 (0.022): 0.012*\"government\" + 0.009*\"people\" + 0.009*\"abuse\" + 0.008*\"hollingworth\" + 0.007*\"today\" + 0.007*\"kandahar\" + 0.007*\"conditions\" + 0.007*\"australia\" + 0.006*\"east_timor\" + 0.006*\"governor_general\"\n",
      "2017-11-20 11:41:04,584 : INFO : topic #27 (0.022): 0.010*\"hospital\" + 0.010*\"sydney\" + 0.009*\"united_states\" + 0.008*\"firefighters\" + 0.008*\"areas\" + 0.007*\"laden\" + 0.006*\"department\" + 0.006*\"factory\" + 0.006*\"homes\" + 0.006*\"afghanistan\"\n"
     ]
    },
    {
     "name": "stderr",
     "output_type": "stream",
     "text": [
      "2017-11-20 11:41:04,585 : INFO : topic #19 (0.022): 0.022*\"security\" + 0.021*\"arafat\" + 0.017*\"israeli\" + 0.014*\"government\" + 0.013*\"israel\" + 0.013*\"hamas\" + 0.010*\"official\" + 0.009*\"west_bank\" + 0.009*\"forces\" + 0.008*\"president\"\n",
      "2017-11-20 11:41:04,587 : INFO : topic diff=0.820099, rho=0.500000\n",
      "2017-11-20 11:41:04,887 : DEBUG : bound: at document #0\n",
      "2017-11-20 11:41:05,645 : INFO : -8.061 per-word bound, 267.1 perplexity estimate based on a held-out corpus of 300 documents with 18861 words\n",
      "2017-11-20 11:41:05,647 : INFO : PROGRESS: pass 3, at document #300/300\n",
      "2017-11-20 11:41:05,648 : DEBUG : performing inference on a chunk of 300 documents\n",
      "2017-11-20 11:41:05,947 : DEBUG : 300/300 documents converged within 200 iterations\n",
      "2017-11-20 11:41:05,953 : INFO : optimized alpha [0.02001540149571604, 0.02018649438331355, 0.020086515952415163, 0.021074061311415527, 0.019730125143195859, 0.018792906140500418, 0.020846429963964332, 0.020900266174248155, 0.020148946675490231, 0.020520299489627646, 0.020401798599086134, 0.020875112185800758, 0.019417639805843465, 0.019242197848982189, 0.01951433600340776, 0.019616443184910695, 0.020641357480706814, 0.020439125158105458, 0.02012030872400045, 0.021813602808743653, 0.019548149255323759, 0.020293564896614276, 0.020520895261908902, 0.020617850477681152, 0.019762615204878965, 0.020855543822020876, 0.020439275718901629, 0.021256651607009659, 0.019839642555119424, 0.020447871525239764, 0.020784579194900257, 0.020708972692097354, 0.019789447496339482, 0.019815165441010019, 0.020433690782704381, 0.020492473268294242, 0.020232313939622468, 0.020671769111298907, 0.019485234633554647, 0.019976978637363751]\n",
      "2017-11-20 11:41:05,955 : DEBUG : updating topics\n",
      "2017-11-20 11:41:06,285 : INFO : topic #5 (0.019): 0.001*\"australia\" + 0.001*\"government\" + 0.001*\"refugees\" + 0.001*\"people\" + 0.001*\"united_nations\" + 0.001*\"asylum_seekers\" + 0.001*\"today\" + 0.001*\"meeting\" + 0.001*\"time\" + 0.001*\"year\"\n",
      "2017-11-20 11:41:06,288 : INFO : topic #13 (0.019): 0.018*\"government\" + 0.014*\"rudd\" + 0.013*\"peace\" + 0.011*\"northern_alliance\" + 0.010*\"talks\" + 0.010*\"zinni\" + 0.010*\"cease_fire\" + 0.009*\"return\" + 0.007*\"days\" + 0.007*\"united_states\"\n",
      "2017-11-20 11:41:06,290 : INFO : topic #3 (0.021): 0.012*\"government\" + 0.010*\"abuse\" + 0.009*\"people\" + 0.009*\"hollingworth\" + 0.007*\"today\" + 0.007*\"kandahar\" + 0.007*\"australia\" + 0.007*\"conditions\" + 0.006*\"governor_general\" + 0.006*\"statement\"\n",
      "2017-11-20 11:41:06,292 : INFO : topic #27 (0.021): 0.010*\"hospital\" + 0.010*\"sydney\" + 0.009*\"united_states\" + 0.008*\"firefighters\" + 0.008*\"areas\" + 0.007*\"laden\" + 0.006*\"factory\" + 0.006*\"homes\" + 0.006*\"department\" + 0.006*\"police\"\n",
      "2017-11-20 11:41:06,294 : INFO : topic #19 (0.022): 0.025*\"arafat\" + 0.023*\"security\" + 0.020*\"israeli\" + 0.015*\"israel\" + 0.014*\"government\" + 0.013*\"hamas\" + 0.011*\"official\" + 0.010*\"west_bank\" + 0.009*\"forces\" + 0.009*\"war\"\n",
      "2017-11-20 11:41:06,296 : INFO : topic diff=0.635973, rho=0.447214\n",
      "2017-11-20 11:41:06,617 : DEBUG : bound: at document #0\n",
      "2017-11-20 11:41:07,374 : INFO : -7.971 per-word bound, 251.0 perplexity estimate based on a held-out corpus of 300 documents with 18861 words\n",
      "2017-11-20 11:41:07,375 : INFO : PROGRESS: pass 4, at document #300/300\n",
      "2017-11-20 11:41:07,375 : DEBUG : performing inference on a chunk of 300 documents\n",
      "2017-11-20 11:41:07,690 : DEBUG : 300/300 documents converged within 200 iterations\n",
      "2017-11-20 11:41:07,695 : INFO : optimized alpha [0.019387950088933084, 0.019575257690057468, 0.019483139238777578, 0.020554835525632569, 0.019064874810957921, 0.018056712390235232, 0.020310789267104681, 0.020393026915508618, 0.019511658362752482, 0.019916561755976447, 0.019894044304949367, 0.020336364443939731, 0.018746294640584683, 0.018555480316194396, 0.018835021709276104, 0.018930808593706959, 0.020062902251285167, 0.01984009125165288, 0.019484799087185818, 0.021533597961086105, 0.018867088349955322, 0.0197043267284365, 0.020005648358611208, 0.020006680636203887, 0.019122980525588067, 0.020320985313291153, 0.019840240547268771, 0.020727421383773422, 0.019196763119758785, 0.019851005315409134, 0.020254396055402236, 0.020122632377312117, 0.01911767066469679, 0.019114147626827796, 0.019835352691679839, 0.019922153371899339, 0.019619484785660245, 0.020117954545012487, 0.018808959254213678, 0.019379813399702885]\n",
      "2017-11-20 11:41:07,695 : DEBUG : updating topics\n",
      "2017-11-20 11:41:08,017 : INFO : topic #5 (0.018): 0.001*\"australia\" + 0.001*\"people\" + 0.001*\"government\" + 0.001*\"today\" + 0.001*\"time\" + 0.001*\"year\" + 0.001*\"days\" + 0.001*\"day\" + 0.001*\"yesterday\" + 0.001*\"forces\"\n",
      "2017-11-20 11:41:08,018 : INFO : topic #13 (0.019): 0.018*\"government\" + 0.014*\"rudd\" + 0.013*\"peace\" + 0.010*\"northern_alliance\" + 0.010*\"talks\" + 0.010*\"zinni\" + 0.010*\"cease_fire\" + 0.010*\"return\" + 0.007*\"days\" + 0.007*\"united_states\"\n",
      "2017-11-20 11:41:08,019 : INFO : topic #3 (0.021): 0.012*\"government\" + 0.010*\"abuse\" + 0.009*\"hollingworth\" + 0.009*\"people\" + 0.007*\"today\" + 0.007*\"kandahar\" + 0.007*\"australia\" + 0.007*\"governor_general\" + 0.007*\"statement\" + 0.006*\"peter\"\n",
      "2017-11-20 11:41:08,020 : INFO : topic #27 (0.021): 0.010*\"hospital\" + 0.010*\"sydney\" + 0.009*\"united_states\" + 0.008*\"areas\" + 0.008*\"firefighters\" + 0.007*\"laden\" + 0.006*\"factory\" + 0.006*\"homes\" + 0.006*\"department\" + 0.006*\"police\"\n",
      "2017-11-20 11:41:08,020 : INFO : topic #19 (0.022): 0.028*\"arafat\" + 0.023*\"security\" + 0.022*\"israeli\" + 0.016*\"israel\" + 0.014*\"hamas\" + 0.014*\"government\" + 0.011*\"west_bank\" + 0.011*\"official\" + 0.009*\"war\" + 0.009*\"forces\"\n",
      "2017-11-20 11:41:08,021 : INFO : topic diff=0.507424, rho=0.408248\n",
      "2017-11-20 11:41:08,183 : DEBUG : Setting topics to those of the model: LdaModel(num_terms=4431, num_topics=40, decay=0.5, chunksize=300)\n",
      "2017-11-20 11:41:08,187 : INFO : using ParallelWordOccurrenceAccumulator(processes=3, batch_size=64) to estimate probabilities from sliding windows\n",
      "2017-11-20 11:41:08,372 : DEBUG : completed batch 0; 64 documents processed (92 virtual)\n",
      "2017-11-20 11:41:08,461 : DEBUG : completed batch 0; 64 documents processed (258 virtual)\n",
      "2017-11-20 11:41:08,473 : DEBUG : completed batch 0; 64 documents processed (305 virtual)\n",
      "2017-11-20 11:41:08,476 : DEBUG : observed sentinel value; terminating\n",
      "2017-11-20 11:41:08,479 : DEBUG : finished all batches; 64 documents processed (305 virtual)\n",
      "2017-11-20 11:41:08,481 : INFO : serializing accumulator to return to master...\n",
      "2017-11-20 11:41:08,510 : INFO : accumulator serialized\n",
      "2017-11-20 11:41:08,608 : DEBUG : completed batch 1; 128 documents processed (332 virtual)\n",
      "2017-11-20 11:41:08,622 : DEBUG : observed sentinel value; terminating\n",
      "2017-11-20 11:41:08,623 : DEBUG : finished all batches; 128 documents processed (332 virtual)\n",
      "2017-11-20 11:41:08,626 : INFO : serializing accumulator to return to master...\n",
      "2017-11-20 11:41:08,628 : INFO : accumulator serialized\n",
      "2017-11-20 11:41:08,627 : DEBUG : completed batch 1; 108 documents processed (485 virtual)\n",
      "2017-11-20 11:41:08,643 : DEBUG : observed sentinel value; terminating\n",
      "2017-11-20 11:41:08,656 : DEBUG : finished all batches; 108 documents processed (485 virtual)\n",
      "2017-11-20 11:41:08,664 : INFO : serializing accumulator to return to master...\n",
      "2017-11-20 11:41:08,670 : INFO : accumulator serialized\n",
      "2017-11-20 11:41:08,712 : INFO : 3 accumulators retrieved from output queue\n",
      "2017-11-20 11:41:08,768 : INFO : accumulated word occurrence stats for 1122 virtual documents\n",
      "2017-11-20 11:41:10,428 : INFO : using autotuned alpha, starting with [0.02, 0.02, 0.02, 0.02, 0.02, 0.02, 0.02, 0.02, 0.02, 0.02, 0.02, 0.02, 0.02, 0.02, 0.02, 0.02, 0.02, 0.02, 0.02, 0.02, 0.02, 0.02, 0.02, 0.02, 0.02, 0.02, 0.02, 0.02, 0.02, 0.02, 0.02, 0.02, 0.02, 0.02, 0.02, 0.02, 0.02, 0.02, 0.02, 0.02, 0.02, 0.02, 0.02, 0.02, 0.02, 0.02, 0.02, 0.02, 0.02, 0.02]\n",
      "2017-11-20 11:41:10,429 : INFO : using serial LDA version on this node\n",
      "2017-11-20 11:41:12,934 : INFO : running online (multi-pass) LDA training, 50 topics, 5 passes over the supplied corpus of 300 documents, updating model once every 300 documents, evaluating perplexity every 300 documents, iterating 200x with a convergence threshold of 0.001000\n",
      "2017-11-20 11:41:12,934 : WARNING : too few updates, training might not converge; consider increasing the number of passes or iterations to improve accuracy\n"
     ]
    },
    {
     "name": "stderr",
     "output_type": "stream",
     "text": [
      "2017-11-20 11:41:15,593 : DEBUG : bound: at document #0\n",
      "2017-11-20 11:41:18,016 : INFO : -37.751 per-word bound, 231283583736.2 perplexity estimate based on a held-out corpus of 300 documents with 18861 words\n",
      "2017-11-20 11:41:18,017 : INFO : PROGRESS: pass 0, at document #300/300\n",
      "2017-11-20 11:41:18,018 : DEBUG : performing inference on a chunk of 300 documents\n",
      "2017-11-20 11:41:19,942 : DEBUG : 250/300 documents converged within 200 iterations\n",
      "2017-11-20 11:41:19,947 : INFO : optimized alpha [0.018830577824870173, 0.019053783515962847, 0.01882760482086111, 0.018613348822998421, 0.018470988016492221, 0.018255261948795291, 0.018546311854067597, 0.018761212856415074, 0.01824881893965757, 0.018759556830729714, 0.019053387126056965, 0.018544964066398269, 0.018182795351683444, 0.01861681182618867, 0.018686687360534818, 0.018254719647404043, 0.018761083829208922, 0.018984499491508461, 0.018832050648414849, 0.019054240006437122, 0.019050664209102761, 0.018471964945656429, 0.018837785559871385, 0.018254332806189301, 0.018545112971698342, 0.018835769692167846, 0.018905723498245264, 0.018547172981433976, 0.018545004931347212, 0.018471361438644494, 0.018689781889891947, 0.018977882258018844, 0.018395837035109511, 0.018762633672777505, 0.018399924446981106, 0.018617343771190568, 0.018686142431039592, 0.018472867592414469, 0.018974816684644367, 0.018834107647195224, 0.018545855163219899, 0.018609509252877274, 0.018327013099972683, 0.018545457019656045, 0.018757130278474306, 0.018466894903199759, 0.018615284731981784, 0.018329301174280284, 0.01862113424415018, 0.01883238624850982]\n",
      "2017-11-20 11:41:19,948 : DEBUG : updating topics\n",
      "2017-11-20 11:41:20,252 : INFO : topic #12 (0.018): 0.036*\"fire\" + 0.021*\"sinai\" + 0.021*\"army\" + 0.021*\"alei\" + 0.021*\"gunmen\" + 0.014*\"israeli\" + 0.014*\"gaza_strip\" + 0.014*\"palestinians\" + 0.014*\"tank\" + 0.014*\"israelis\"\n",
      "2017-11-20 11:41:20,252 : INFO : topic #23 (0.018): 0.018*\"winds\" + 0.018*\"sydney\" + 0.016*\"coast\" + 0.016*\"losses\" + 0.016*\"property\" + 0.010*\"firefighters\" + 0.010*\"service\" + 0.010*\"fires\" + 0.010*\"suburbs\" + 0.010*\"areas\"\n",
      "2017-11-20 11:41:20,254 : INFO : topic #10 (0.019): 0.021*\"government\" + 0.017*\"afghanistan\" + 0.013*\"united_states\" + 0.011*\"force\" + 0.011*\"forces\" + 0.011*\"officials\" + 0.010*\"hicks\" + 0.010*\"security\" + 0.009*\"taliban\" + 0.007*\"australian\"\n",
      "2017-11-20 11:41:20,256 : INFO : topic #1 (0.019): 0.014*\"israeli\" + 0.013*\"sharon\" + 0.013*\"arafat\" + 0.009*\"australia\" + 0.008*\"government\" + 0.008*\"wicket\" + 0.008*\"west_bank\" + 0.007*\"products\" + 0.006*\"terrorism\" + 0.006*\"gaza_strip\"\n",
      "2017-11-20 11:41:20,258 : INFO : topic #20 (0.019): 0.013*\"today\" + 0.011*\"radio\" + 0.011*\"people\" + 0.010*\"services\" + 0.009*\"cent\" + 0.008*\"sex\" + 0.008*\"sydney\" + 0.008*\"fire\" + 0.007*\"area\" + 0.007*\"east_timor\"\n",
      "2017-11-20 11:41:20,261 : INFO : topic diff=44.302107, rho=1.000000\n",
      "2017-11-20 11:41:20,557 : DEBUG : bound: at document #0\n",
      "2017-11-20 11:41:21,402 : INFO : -8.459 per-word bound, 351.9 perplexity estimate based on a held-out corpus of 300 documents with 18861 words\n",
      "2017-11-20 11:41:21,402 : INFO : PROGRESS: pass 1, at document #300/300\n",
      "2017-11-20 11:41:21,403 : DEBUG : performing inference on a chunk of 300 documents\n",
      "2017-11-20 11:41:21,773 : DEBUG : 300/300 documents converged within 200 iterations\n",
      "2017-11-20 11:41:21,777 : INFO : optimized alpha [0.018193692373642933, 0.018517539929784513, 0.01818804796633175, 0.017877801543080527, 0.017708327465479335, 0.017399740972165414, 0.01789208950441068, 0.018128624195540833, 0.017318037742298963, 0.018125978919883122, 0.01839832849113917, 0.017814509305880747, 0.017296562906628694, 0.017881500531831157, 0.018095875033072122, 0.017398990684121148, 0.018051707700751849, 0.018415456898664626, 0.018228905215671935, 0.018399672656530874, 0.018473421573521578, 0.017782720339389154, 0.018200463915724531, 0.017397657689025608, 0.017777691621647277, 0.018159873691980518, 0.018261779906963857, 0.017892881183655309, 0.017776394473586702, 0.017671364972856318, 0.017984953876627938, 0.018598842202988998, 0.017564423774998169, 0.018169184898888125, 0.017568877460192443, 0.017842985399013914, 0.018020662111782264, 0.017711327680984993, 0.018477142033006645, 0.01819538744304831, 0.017891159447850136, 0.017871497904182077, 0.017464493828571556, 0.017853033697452312, 0.017970380801361752, 0.017628732556666738, 0.017803838414764572, 0.017541189746094688, 0.017925232731871188, 0.018155973665461605]\n",
      "2017-11-20 11:41:21,782 : DEBUG : updating topics\n",
      "2017-11-20 11:41:22,086 : INFO : topic #8 (0.017): 0.002*\"president\" + 0.001*\"years\" + 0.001*\"palace\" + 0.001*\"capital\" + 0.001*\"aristide\" + 0.001*\"power\" + 0.001*\"security\" + 0.001*\"control\" + 0.001*\"government\" + 0.001*\"coup\"\n",
      "2017-11-20 11:41:22,088 : INFO : topic #12 (0.017): 0.035*\"fire\" + 0.021*\"army\" + 0.021*\"gunmen\" + 0.021*\"alei\" + 0.021*\"sinai\" + 0.014*\"israeli\" + 0.014*\"israelis\" + 0.014*\"gaza_strip\" + 0.014*\"palestinians\" + 0.014*\"tank\"\n",
      "2017-11-20 11:41:22,088 : INFO : topic #20 (0.018): 0.013*\"today\" + 0.012*\"people\" + 0.012*\"radio\" + 0.010*\"services\" + 0.009*\"sydney\" + 0.009*\"fire\" + 0.009*\"sex\" + 0.008*\"cent\" + 0.007*\"morning\" + 0.007*\"area\"\n",
      "2017-11-20 11:41:22,090 : INFO : topic #1 (0.019): 0.013*\"israeli\" + 0.013*\"sharon\" + 0.013*\"arafat\" + 0.009*\"government\" + 0.009*\"australia\" + 0.008*\"west_bank\" + 0.007*\"wicket\" + 0.007*\"products\" + 0.007*\"terrorism\" + 0.006*\"gaza_strip\"\n",
      "2017-11-20 11:41:22,092 : INFO : topic #31 (0.019): 0.026*\"afghanistan\" + 0.019*\"force\" + 0.013*\"laden\" + 0.012*\"government\" + 0.012*\"australia\" + 0.011*\"forces\" + 0.010*\"qaeda\" + 0.010*\"afghan\" + 0.010*\"kabul\" + 0.009*\"security\"\n",
      "2017-11-20 11:41:22,094 : INFO : topic diff=1.733499, rho=0.577350\n",
      "2017-11-20 11:41:22,395 : DEBUG : bound: at document #0\n",
      "2017-11-20 11:41:23,254 : INFO : -8.240 per-word bound, 302.4 perplexity estimate based on a held-out corpus of 300 documents with 18861 words\n",
      "2017-11-20 11:41:23,255 : INFO : PROGRESS: pass 2, at document #300/300\n",
      "2017-11-20 11:41:23,255 : DEBUG : performing inference on a chunk of 300 documents\n",
      "2017-11-20 11:41:23,610 : DEBUG : 300/300 documents converged within 200 iterations\n",
      "2017-11-20 11:41:23,616 : INFO : optimized alpha [0.017709754683821858, 0.01807821394121981, 0.017701259017654437, 0.017287100715873388, 0.017098086247774268, 0.016719783921661176, 0.01733233728596105, 0.017615866073477392, 0.01658258382660014, 0.017612282361277844, 0.017868151818845115, 0.017228164028047093, 0.016593982984261565, 0.017290957472369462, 0.017616089140177957, 0.01671888949163499, 0.017480570019689782, 0.017951010644200037, 0.017707606146192257, 0.017869144453907464, 0.018002825116988867, 0.017196461466918948, 0.017745690883200459, 0.016716440220571071, 0.01716307954306371, 0.017614119874129655, 0.017740207955713735, 0.017395422721490236, 0.017160460219316494, 0.017032476522915358, 0.017415409643115887, 0.018380214832425915, 0.016902212208082266, 0.017717280951638457, 0.016906943682622147, 0.01722310532377699, 0.017482808932370416, 0.017101227101297054, 0.01806825516989758, 0.017677757371919234, 0.017362230431368662, 0.017279195893033839, 0.016779263073220842, 0.017295065247765532, 0.017340342385090191, 0.016961417409130784, 0.017156173388341547, 0.016880143806741802, 0.017364447420724707, 0.017609686050767993]\n",
      "2017-11-20 11:41:23,617 : DEBUG : updating topics\n",
      "2017-11-20 11:41:23,941 : INFO : topic #12 (0.017): 0.034*\"fire\" + 0.021*\"army\" + 0.021*\"gunmen\" + 0.021*\"sinai\" + 0.021*\"alei\" + 0.014*\"israeli\" + 0.014*\"israelis\" + 0.014*\"gaza_strip\" + 0.014*\"palestinians\" + 0.014*\"tank\"\n",
      "2017-11-20 11:41:23,942 : INFO : topic #8 (0.017): 0.001*\"president\" + 0.001*\"years\" + 0.001*\"government\" + 0.001*\"people\" + 0.001*\"security\" + 0.001*\"capital\" + 0.001*\"palace\" + 0.001*\"time\" + 0.001*\"united_states\" + 0.001*\"control\"\n",
      "2017-11-20 11:41:23,944 : INFO : topic #1 (0.018): 0.013*\"israeli\" + 0.013*\"sharon\" + 0.013*\"arafat\" + 0.010*\"government\" + 0.008*\"australia\" + 0.008*\"west_bank\" + 0.007*\"wicket\" + 0.007*\"products\" + 0.007*\"terrorism\" + 0.007*\"gaza_strip\"\n",
      "2017-11-20 11:41:23,944 : INFO : topic #38 (0.018): 0.032*\"company\" + 0.019*\"power\" + 0.015*\"commission\" + 0.014*\"director\" + 0.012*\"friedli\" + 0.011*\"report\" + 0.011*\"action\" + 0.009*\"claims\" + 0.009*\"energy\" + 0.009*\"directors\"\n"
     ]
    },
    {
     "name": "stderr",
     "output_type": "stream",
     "text": [
      "2017-11-20 11:41:23,946 : INFO : topic #31 (0.018): 0.029*\"afghanistan\" + 0.019*\"force\" + 0.015*\"laden\" + 0.012*\"qaeda\" + 0.011*\"government\" + 0.011*\"afghan\" + 0.011*\"forces\" + 0.011*\"australia\" + 0.010*\"tora_bora\" + 0.010*\"kabul\"\n",
      "2017-11-20 11:41:23,949 : INFO : topic diff=0.918413, rho=0.500000\n",
      "2017-11-20 11:41:24,270 : DEBUG : bound: at document #0\n",
      "2017-11-20 11:41:25,111 : INFO : -8.100 per-word bound, 274.3 perplexity estimate based on a held-out corpus of 300 documents with 18861 words\n",
      "2017-11-20 11:41:25,112 : INFO : PROGRESS: pass 3, at document #300/300\n",
      "2017-11-20 11:41:25,112 : DEBUG : performing inference on a chunk of 300 documents\n",
      "2017-11-20 11:41:25,458 : DEBUG : 300/300 documents converged within 200 iterations\n",
      "2017-11-20 11:41:25,463 : INFO : optimized alpha [0.017355004116172943, 0.017703275558878941, 0.017288230398214862, 0.016791064477605505, 0.016586858893589226, 0.016153476467411759, 0.016861119569481119, 0.017182063555161848, 0.015972876672010288, 0.017177618611681517, 0.017420132800816092, 0.016735694257650851, 0.016010006718354272, 0.016795032732499368, 0.017235996028382324, 0.016152475743165726, 0.016999992922773124, 0.017555877795309704, 0.017266730300990379, 0.017420590960969415, 0.017602863081709944, 0.016704184665780292, 0.017358486098657394, 0.016123863101375004, 0.016648087325047294, 0.017153794337397051, 0.01729922956562947, 0.016974767690615063, 0.01664423607585002, 0.016498344545274098, 0.016962153719264912, 0.018217116333338022, 0.016349748718534448, 0.017333069650615058, 0.016354687742355399, 0.016703889621098911, 0.017028809383987827, 0.016589882927559588, 0.017718537330475216, 0.017239876087181898, 0.016915786335615635, 0.016782018339197128, 0.016208752037296104, 0.016825236827049509, 0.01681267416094992, 0.016404874755747367, 0.016614946951788299, 0.016328631288229992, 0.01689221518679266, 0.017148862970027948]\n",
      "2017-11-20 11:41:25,469 : DEBUG : updating topics\n",
      "2017-11-20 11:41:25,813 : INFO : topic #8 (0.016): 0.001*\"president\" + 0.001*\"people\" + 0.001*\"government\" + 0.001*\"years\" + 0.001*\"australia\" + 0.001*\"time\" + 0.001*\"security\" + 0.001*\"year\" + 0.001*\"united_states\" + 0.001*\"day\"\n",
      "2017-11-20 11:41:25,815 : INFO : topic #12 (0.016): 0.034*\"fire\" + 0.020*\"army\" + 0.020*\"gunmen\" + 0.020*\"alei\" + 0.020*\"sinai\" + 0.014*\"israeli\" + 0.014*\"israelis\" + 0.014*\"gaza_strip\" + 0.014*\"palestinians\" + 0.014*\"tank\"\n",
      "2017-11-20 11:41:25,817 : INFO : topic #38 (0.018): 0.033*\"company\" + 0.019*\"power\" + 0.015*\"commission\" + 0.014*\"director\" + 0.013*\"friedli\" + 0.011*\"report\" + 0.011*\"action\" + 0.010*\"directors\" + 0.009*\"claims\" + 0.009*\"energy\"\n",
      "2017-11-20 11:41:25,819 : INFO : topic #1 (0.018): 0.013*\"israeli\" + 0.013*\"sharon\" + 0.013*\"arafat\" + 0.010*\"government\" + 0.008*\"west_bank\" + 0.007*\"australia\" + 0.007*\"products\" + 0.007*\"terrorism\" + 0.007*\"gaza_strip\" + 0.006*\"wicket\"\n",
      "2017-11-20 11:41:25,820 : INFO : topic #31 (0.018): 0.032*\"afghanistan\" + 0.018*\"force\" + 0.016*\"laden\" + 0.014*\"qaeda\" + 0.013*\"afghan\" + 0.012*\"tora_bora\" + 0.012*\"forces\" + 0.011*\"government\" + 0.010*\"australia\" + 0.010*\"kabul\"\n",
      "2017-11-20 11:41:25,823 : INFO : topic diff=0.721475, rho=0.447214\n",
      "2017-11-20 11:41:26,158 : DEBUG : bound: at document #0\n",
      "2017-11-20 11:41:26,982 : INFO : -8.006 per-word bound, 257.0 perplexity estimate based on a held-out corpus of 300 documents with 18861 words\n",
      "2017-11-20 11:41:26,984 : INFO : PROGRESS: pass 4, at document #300/300\n",
      "2017-11-20 11:41:26,986 : DEBUG : performing inference on a chunk of 300 documents\n",
      "2017-11-20 11:41:27,338 : DEBUG : 300/300 documents converged within 200 iterations\n",
      "2017-11-20 11:41:27,342 : INFO : optimized alpha [0.017117236662660028, 0.017399408100922248, 0.016928205886049787, 0.016362468767791002, 0.016145909812076076, 0.015667493601616005, 0.016453077396912701, 0.016804905271129864, 0.015451643425497421, 0.016799714869544576, 0.017030960615847485, 0.016310110716957461, 0.015509692825941328, 0.016366518413840923, 0.016927805535722568, 0.015666411338509274, 0.016584061758866044, 0.017210755050680631, 0.016883528678322653, 0.017030944066546795, 0.017253753339999827, 0.016301631118576923, 0.01701999355337477, 0.0156164501639385, 0.016203917633909447, 0.016754563391041782, 0.016916044469067158, 0.016632780484969946, 0.016221938265220531, 0.016038525293502314, 0.016522024268425493, 0.018095852290419035, 0.015874979800706988, 0.016997379622232436, 0.015880083140644166, 0.016256213726518611, 0.016658736213473097, 0.016148764622821266, 0.017411694199321402, 0.016859224313406238, 0.016528335497823215, 0.016352558900679638, 0.015719295547876811, 0.016418355747936157, 0.016357944818188058, 0.0159267273236549, 0.016149194246574551, 0.015854674198284326, 0.016483222114737926, 0.016749195547142111]\n",
      "2017-11-20 11:41:27,347 : DEBUG : updating topics\n",
      "2017-11-20 11:41:27,689 : INFO : topic #8 (0.015): 0.001*\"people\" + 0.001*\"australia\" + 0.001*\"time\" + 0.001*\"government\" + 0.001*\"president\" + 0.001*\"today\" + 0.001*\"day\" + 0.001*\"year\" + 0.001*\"security\" + 0.001*\"days\"\n",
      "2017-11-20 11:41:27,692 : INFO : topic #12 (0.016): 0.033*\"fire\" + 0.020*\"army\" + 0.020*\"gunmen\" + 0.020*\"sinai\" + 0.020*\"alei\" + 0.014*\"israeli\" + 0.013*\"israelis\" + 0.013*\"gaza_strip\" + 0.013*\"palestinians\" + 0.013*\"tank\"\n",
      "2017-11-20 11:41:27,695 : INFO : topic #38 (0.017): 0.033*\"company\" + 0.019*\"power\" + 0.015*\"commission\" + 0.014*\"director\" + 0.013*\"friedli\" + 0.011*\"report\" + 0.011*\"action\" + 0.010*\"directors\" + 0.009*\"claims\" + 0.009*\"energy\"\n",
      "2017-11-20 11:41:27,698 : INFO : topic #1 (0.017): 0.013*\"israeli\" + 0.013*\"sharon\" + 0.012*\"arafat\" + 0.010*\"government\" + 0.008*\"west_bank\" + 0.007*\"australia\" + 0.007*\"products\" + 0.007*\"terrorism\" + 0.007*\"gaza_strip\" + 0.006*\"meeting\"\n",
      "2017-11-20 11:41:27,699 : INFO : topic #31 (0.018): 0.033*\"afghanistan\" + 0.018*\"force\" + 0.017*\"laden\" + 0.015*\"qaeda\" + 0.014*\"afghan\" + 0.013*\"tora_bora\" + 0.012*\"forces\" + 0.011*\"government\" + 0.010*\"area\" + 0.010*\"australia\"\n",
      "2017-11-20 11:41:27,701 : INFO : topic diff=0.583008, rho=0.408248\n",
      "2017-11-20 11:41:27,877 : DEBUG : Setting topics to those of the model: LdaModel(num_terms=4431, num_topics=50, decay=0.5, chunksize=300)\n",
      "2017-11-20 11:41:27,881 : INFO : using ParallelWordOccurrenceAccumulator(processes=3, batch_size=64) to estimate probabilities from sliding windows\n",
      "2017-11-20 11:41:28,032 : DEBUG : completed batch 0; 64 documents processed (92 virtual)\n",
      "2017-11-20 11:41:28,156 : DEBUG : completed batch 0; 64 documents processed (258 virtual)\n",
      "2017-11-20 11:41:28,171 : DEBUG : completed batch 0; 64 documents processed (305 virtual)\n",
      "2017-11-20 11:41:28,179 : DEBUG : observed sentinel value; terminating\n",
      "2017-11-20 11:41:28,214 : DEBUG : finished all batches; 64 documents processed (305 virtual)\n",
      "2017-11-20 11:41:28,220 : INFO : serializing accumulator to return to master...\n",
      "2017-11-20 11:41:28,234 : INFO : accumulator serialized\n",
      "2017-11-20 11:41:28,222 : DEBUG : completed batch 1; 128 documents processed (332 virtual)\n",
      "2017-11-20 11:41:28,244 : DEBUG : observed sentinel value; terminating\n",
      "2017-11-20 11:41:28,263 : DEBUG : finished all batches; 128 documents processed (332 virtual)\n",
      "2017-11-20 11:41:28,283 : INFO : serializing accumulator to return to master...\n",
      "2017-11-20 11:41:28,297 : INFO : accumulator serialized\n",
      "2017-11-20 11:41:28,355 : DEBUG : completed batch 1; 108 documents processed (485 virtual)\n",
      "2017-11-20 11:41:28,370 : DEBUG : observed sentinel value; terminating\n",
      "2017-11-20 11:41:28,394 : DEBUG : finished all batches; 108 documents processed (485 virtual)\n",
      "2017-11-20 11:41:28,405 : INFO : serializing accumulator to return to master...\n",
      "2017-11-20 11:41:28,415 : INFO : accumulator serialized\n",
      "2017-11-20 11:41:28,478 : INFO : 3 accumulators retrieved from output queue\n",
      "2017-11-20 11:41:28,543 : INFO : accumulated word occurrence stats for 1122 virtual documents\n",
      "2017-11-20 11:41:30,878 : INFO : using autotuned alpha, starting with [0.016666666666666666, 0.016666666666666666, 0.016666666666666666, 0.016666666666666666, 0.016666666666666666, 0.016666666666666666, 0.016666666666666666, 0.016666666666666666, 0.016666666666666666, 0.016666666666666666, 0.016666666666666666, 0.016666666666666666, 0.016666666666666666, 0.016666666666666666, 0.016666666666666666, 0.016666666666666666, 0.016666666666666666, 0.016666666666666666, 0.016666666666666666, 0.016666666666666666, 0.016666666666666666, 0.016666666666666666, 0.016666666666666666, 0.016666666666666666, 0.016666666666666666, 0.016666666666666666, 0.016666666666666666, 0.016666666666666666, 0.016666666666666666, 0.016666666666666666, 0.016666666666666666, 0.016666666666666666, 0.016666666666666666, 0.016666666666666666, 0.016666666666666666, 0.016666666666666666, 0.016666666666666666, 0.016666666666666666, 0.016666666666666666, 0.016666666666666666, 0.016666666666666666, 0.016666666666666666, 0.016666666666666666, 0.016666666666666666, 0.016666666666666666, 0.016666666666666666, 0.016666666666666666, 0.016666666666666666, 0.016666666666666666, 0.016666666666666666, 0.016666666666666666, 0.016666666666666666, 0.016666666666666666, 0.016666666666666666, 0.016666666666666666, 0.016666666666666666, 0.016666666666666666, 0.016666666666666666, 0.016666666666666666, 0.016666666666666666]\n"
     ]
    },
    {
     "name": "stderr",
     "output_type": "stream",
     "text": [
      "2017-11-20 11:41:30,879 : INFO : using serial LDA version on this node\n",
      "2017-11-20 11:41:33,835 : INFO : running online (multi-pass) LDA training, 60 topics, 5 passes over the supplied corpus of 300 documents, updating model once every 300 documents, evaluating perplexity every 300 documents, iterating 200x with a convergence threshold of 0.001000\n",
      "2017-11-20 11:41:33,835 : WARNING : too few updates, training might not converge; consider increasing the number of passes or iterations to improve accuracy\n",
      "2017-11-20 11:41:36,980 : DEBUG : bound: at document #0\n",
      "2017-11-20 11:41:39,437 : INFO : -45.839 per-word bound, 62945271403382.0 perplexity estimate based on a held-out corpus of 300 documents with 18861 words\n",
      "2017-11-20 11:41:39,438 : INFO : PROGRESS: pass 0, at document #300/300\n",
      "2017-11-20 11:41:39,438 : DEBUG : performing inference on a chunk of 300 documents\n",
      "2017-11-20 11:41:41,646 : DEBUG : 245/300 documents converged within 200 iterations\n",
      "2017-11-20 11:41:41,652 : INFO : optimized alpha [0.01565696417664492, 0.015597433122894648, 0.01553877777048281, 0.015475688979326737, 0.015597643095008336, 0.015538034775917286, 0.015717447811736538, 0.015479363783574087, 0.01559621909444503, 0.015835470994884457, 0.015716701540789843, 0.015836611828734064, 0.016190336864791151, 0.015717271011641661, 0.015654773601942423, 0.015892450551470556, 0.015653294950246276, 0.015598195709500601, 0.016248735719732541, 0.01571649185747219, 0.015776486115397625, 0.015658436654342002, 0.015478929957659779, 0.015955511144786803, 0.015476198080864995, 0.01577780430737101, 0.015898822694887377, 0.015655749164478441, 0.015834970886271445, 0.016257006274561312, 0.015835950861557306, 0.015717365120478652, 0.015774754016459488, 0.015896590399754818, 0.015656426612257336, 0.015594592276406347, 0.015775164886790281, 0.015478660940563211, 0.015777061721152431, 0.016015262125061391, 0.015894361579498084, 0.015775219516580747, 0.015656798474607266, 0.015634101963893459, 0.015835141713435655, 0.01589390801410568, 0.015774853291641466, 0.015774655098346128, 0.015477924442911066, 0.015537568648937244, 0.015773615858531514, 0.015772584185428682, 0.01565410965725712, 0.015538484945248151, 0.015597912231464617, 0.015773730931913685, 0.015597841385104658, 0.015534929592940016, 0.015596985918992803, 0.016135874030326049]\n",
      "2017-11-20 11:41:41,652 : DEBUG : updating topics\n",
      "2017-11-20 11:41:41,965 : INFO : topic #3 (0.015): 0.053*\"fire\" + 0.020*\"flames\" + 0.020*\"smoke\" + 0.014*\"building\" + 0.013*\"shop\" + 0.013*\"new_york\" + 0.013*\"church\" + 0.013*\"firefighters\" + 0.013*\"blaze\" + 0.013*\"cathedral\"\n",
      "2017-11-20 11:41:41,966 : INFO : topic #24 (0.015): 0.027*\"action\" + 0.018*\"unions\" + 0.018*\"dispute\" + 0.018*\"qantas\" + 0.018*\"workers\" + 0.018*\"company\" + 0.009*\"amwu\" + 0.009*\"cameron\" + 0.009*\"workers_union\" + 0.009*\"arbitration\"\n",
      "2017-11-20 11:41:41,968 : INFO : topic #59 (0.016): 0.021*\"metres\" + 0.016*\"government\" + 0.014*\"australia\" + 0.011*\"india\" + 0.010*\"detainees\" + 0.010*\"night\" + 0.009*\"event\" + 0.008*\"race\" + 0.007*\"blake\" + 0.007*\"water\"\n",
      "2017-11-20 11:41:41,969 : INFO : topic #18 (0.016): 0.014*\"taliban\" + 0.011*\"australia\" + 0.010*\"man\" + 0.009*\"united_states\" + 0.008*\"government\" + 0.008*\"arafat\" + 0.008*\"children\" + 0.007*\"flight\" + 0.007*\"sex\" + 0.006*\"security\"\n",
      "2017-11-20 11:41:41,971 : INFO : topic #29 (0.016): 0.016*\"government\" + 0.013*\"arafat\" + 0.008*\"tora_bora\" + 0.008*\"year\" + 0.008*\"israeli\" + 0.007*\"forces\" + 0.007*\"sharon\" + 0.007*\"terrorism\" + 0.007*\"pakistan\" + 0.007*\"afghanistan\"\n",
      "2017-11-20 11:41:41,972 : INFO : topic diff=53.990354, rho=1.000000\n",
      "2017-11-20 11:41:42,277 : DEBUG : bound: at document #0\n",
      "2017-11-20 11:41:43,129 : INFO : -8.549 per-word bound, 374.7 perplexity estimate based on a held-out corpus of 300 documents with 18861 words\n",
      "2017-11-20 11:41:43,131 : INFO : PROGRESS: pass 1, at document #300/300\n",
      "2017-11-20 11:41:43,133 : DEBUG : performing inference on a chunk of 300 documents\n",
      "2017-11-20 11:41:43,534 : DEBUG : 300/300 documents converged within 200 iterations\n",
      "2017-11-20 11:41:43,541 : INFO : optimized alpha [0.015105817855962813, 0.015081770176446702, 0.014996516354109394, 0.014843389380691355, 0.015082398911310283, 0.015025797350502718, 0.015162239966495265, 0.014940816339452987, 0.015048118437818246, 0.015367943964568679, 0.015193255148806806, 0.015370048546074556, 0.015863316285885432, 0.015226300540147364, 0.015103784864712724, 0.015453407392888781, 0.015101477008508096, 0.015019656945594748, 0.015883562058127704, 0.015225010325589799, 0.015248539228515337, 0.015140004749876201, 0.01487824387585255, 0.015512981863277965, 0.014875034242995525, 0.015315180753780917, 0.015525560464825375, 0.01510542762357024, 0.015335310391878351, 0.015962121638403361, 0.015336934729521809, 0.015258686490613675, 0.015246341605403734, 0.015490644195608517, 0.015105514464127726, 0.015047061914619065, 0.01524713799786988, 0.014877930812274204, 0.015282210251198858, 0.015601840450834709, 0.015422687498591039, 0.015182624991525813, 0.015137747621838307, 0.015084505472935687, 0.015335916985178107, 0.015486310757370109, 0.01524744742690148, 0.015247674548719132, 0.014877035383664246, 0.014964086186947063, 0.015181014512882406, 0.015244741860933964, 0.015103104317560583, 0.015027598506439215, 0.015019289452379058, 0.015309263239985932, 0.015019793433536042, 0.014929720568096815, 0.015081718978983768, 0.01584631261288354]\n",
      "2017-11-20 11:41:43,543 : DEBUG : updating topics\n",
      "2017-11-20 11:41:43,890 : INFO : topic #48 (0.015): 0.025*\"force\" + 0.021*\"government\" + 0.014*\"afghan\" + 0.014*\"troops\" + 0.012*\"banks\" + 0.012*\"saa\" + 0.012*\"rodriguez\" + 0.011*\"peace\" + 0.010*\"kabul\" + 0.010*\"germany\"\n",
      "2017-11-20 11:41:43,892 : INFO : topic #24 (0.015): 0.037*\"action\" + 0.025*\"company\" + 0.025*\"workers\" + 0.025*\"unions\" + 0.025*\"qantas\" + 0.025*\"dispute\" + 0.013*\"yesterday\" + 0.013*\"commission\" + 0.012*\"talks\" + 0.012*\"secretary\"\n",
      "2017-11-20 11:41:43,894 : INFO : topic #59 (0.016): 0.025*\"metres\" + 0.015*\"government\" + 0.014*\"australia\" + 0.011*\"night\" + 0.010*\"india\" + 0.010*\"detainees\" + 0.010*\"event\" + 0.009*\"race\" + 0.007*\"water\" + 0.007*\"blake\"\n",
      "2017-11-20 11:41:43,896 : INFO : topic #18 (0.016): 0.015*\"taliban\" + 0.011*\"man\" + 0.010*\"government\" + 0.010*\"united_states\" + 0.009*\"flight\" + 0.009*\"australia\" + 0.009*\"children\" + 0.008*\"sex\" + 0.007*\"security\" + 0.007*\"child\"\n",
      "2017-11-20 11:41:43,898 : INFO : topic #29 (0.016): 0.015*\"government\" + 0.014*\"arafat\" + 0.008*\"terrorism\" + 0.008*\"tora_bora\" + 0.008*\"year\" + 0.008*\"israeli\" + 0.008*\"sharon\" + 0.007*\"forces\" + 0.007*\"officials\" + 0.007*\"war\"\n",
      "2017-11-20 11:41:43,900 : INFO : topic diff=1.838333, rho=0.577350\n",
      "2017-11-20 11:41:44,211 : DEBUG : bound: at document #0\n",
      "2017-11-20 11:41:45,053 : INFO : -8.322 per-word bound, 320.0 perplexity estimate based on a held-out corpus of 300 documents with 18861 words\n",
      "2017-11-20 11:41:45,055 : INFO : PROGRESS: pass 2, at document #300/300\n",
      "2017-11-20 11:41:45,056 : DEBUG : performing inference on a chunk of 300 documents\n",
      "2017-11-20 11:41:45,432 : DEBUG : 300/300 documents converged within 200 iterations\n",
      "2017-11-20 11:41:45,438 : INFO : optimized alpha [0.014658929604264632, 0.014661645097626418, 0.01453025583344583, 0.014334713568346183, 0.01466329911523687, 0.014609135378542427, 0.014712171287586097, 0.01452986713905992, 0.014603787668487807, 0.014985625974293008, 0.014767638050246097, 0.01498833464097038, 0.01561763416785027, 0.014825289232293396, 0.014657019573259714, 0.015093175125824502, 0.01465435814352772, 0.014525497534537812, 0.015580693465802289, 0.014823972284111354, 0.014819410631564636, 0.014718279500243302, 0.014393593287399834, 0.015150072334054465, 0.014441290012440697, 0.014936514116521585, 0.015216387377630694, 0.014659153547428683, 0.014927757290013978, 0.015715114400825188, 0.014929934498872741, 0.014883240641448423, 0.01484343631729221, 0.015156294703396658, 0.014658801128195923, 0.014603291416347614, 0.014817953392204312, 0.014393336214474183, 0.014878630965093282, 0.015261887491175678, 0.015037034024849984, 0.014703904244300091, 0.014715607959344634, 0.014638949056942359, 0.014928916365869974, 0.015150104520600069, 0.014845024239316369, 0.014819270357500159, 0.014392239603457337, 0.014526120261986637, 0.014702293827276334, 0.014815415646949649, 0.01465614926704455, 0.014611999003324338, 0.014551391673812432, 0.014929338149725763, 0.014552318815266601, 0.014441576246207545, 0.014662529164202636, 0.015604157498843632]\n"
     ]
    },
    {
     "name": "stderr",
     "output_type": "stream",
     "text": [
      "2017-11-20 11:41:45,439 : DEBUG : updating topics\n",
      "2017-11-20 11:41:45,782 : INFO : topic #3 (0.014): 0.052*\"fire\" + 0.019*\"flames\" + 0.019*\"smoke\" + 0.013*\"building\" + 0.013*\"new_york\" + 0.013*\"damage\" + 0.013*\"firefighters\" + 0.013*\"blaze\" + 0.013*\"church\" + 0.013*\"shop\"\n",
      "2017-11-20 11:41:45,783 : INFO : topic #22 (0.014): 0.022*\"francs\" + 0.019*\"month\" + 0.019*\"rate\" + 0.018*\"months\" + 0.014*\"work\" + 0.014*\"jobs\" + 0.014*\"figures\" + 0.014*\"unemployment\" + 0.014*\"action\" + 0.014*\"verdict\"\n",
      "2017-11-20 11:41:45,784 : INFO : topic #59 (0.016): 0.027*\"metres\" + 0.015*\"government\" + 0.014*\"australia\" + 0.012*\"night\" + 0.011*\"event\" + 0.010*\"india\" + 0.010*\"detainees\" + 0.009*\"race\" + 0.008*\"water\" + 0.007*\"world\"\n",
      "2017-11-20 11:41:45,786 : INFO : topic #12 (0.016): 0.017*\"afghanistan\" + 0.016*\"people\" + 0.016*\"united_states\" + 0.012*\"police\" + 0.011*\"reports\" + 0.011*\"hewitt\" + 0.011*\"australian\" + 0.010*\"world\" + 0.009*\"hicks\" + 0.008*\"australia\"\n",
      "2017-11-20 11:41:45,787 : INFO : topic #29 (0.016): 0.015*\"arafat\" + 0.015*\"government\" + 0.009*\"terrorism\" + 0.008*\"tora_bora\" + 0.008*\"year\" + 0.008*\"israeli\" + 0.008*\"sharon\" + 0.007*\"forces\" + 0.007*\"officials\" + 0.007*\"west_bank\"\n",
      "2017-11-20 11:41:45,789 : INFO : topic diff=0.980433, rho=0.500000\n",
      "2017-11-20 11:41:46,108 : DEBUG : bound: at document #0\n",
      "2017-11-20 11:41:46,947 : INFO : -8.172 per-word bound, 288.4 perplexity estimate based on a held-out corpus of 300 documents with 18861 words\n",
      "2017-11-20 11:41:46,948 : INFO : PROGRESS: pass 3, at document #300/300\n",
      "2017-11-20 11:41:46,948 : DEBUG : performing inference on a chunk of 300 documents\n",
      "2017-11-20 11:41:47,318 : DEBUG : 300/300 documents converged within 200 iterations\n",
      "2017-11-20 11:41:47,326 : INFO : optimized alpha [0.014280701037834577, 0.014283022392905147, 0.014136463913442242, 0.013906906263435197, 0.014307638363246439, 0.014255404558476894, 0.014331327759167621, 0.014181173228286726, 0.014227734373890574, 0.014659744831805844, 0.014406597627975949, 0.014662917103595893, 0.015403772475777141, 0.014461349299434632, 0.014278891798958613, 0.014785348771665907, 0.014276010393299328, 0.014109210502587953, 0.01531971877398009, 0.014482806411876133, 0.014455492517775502, 0.014360413736079519, 0.013985038593262443, 0.014839974456126052, 0.014096360561208323, 0.014613549759483575, 0.014927456616683781, 0.014281407829261692, 0.014581293985840984, 0.015500517227180592, 0.014583866266290824, 0.014563036311522653, 0.014613800411945245, 0.014869696932053386, 0.014280710472382383, 0.014227725242532867, 0.014453993901859754, 0.013984847453508021, 0.014535418173858495, 0.014970767216611341, 0.014708420507716466, 0.014299939207028075, 0.014357429764577228, 0.014261813670361827, 0.014582925712873302, 0.014861649026731172, 0.014503050449666106, 0.014455925034554904, 0.013983574967540466, 0.014155333222309299, 0.014298332574342784, 0.014428026708073485, 0.014277799457332879, 0.01425925705745394, 0.014156245609967852, 0.01460548654961356, 0.014157502042650455, 0.014030181163051081, 0.014306771360284134, 0.015393825713588601]\n",
      "2017-11-20 11:41:47,332 : DEBUG : updating topics\n",
      "2017-11-20 11:41:47,691 : INFO : topic #3 (0.014): 0.051*\"fire\" + 0.019*\"flames\" + 0.019*\"smoke\" + 0.013*\"building\" + 0.013*\"new_york\" + 0.013*\"damage\" + 0.013*\"firefighters\" + 0.013*\"blaze\" + 0.013*\"church\" + 0.013*\"shop\"\n",
      "2017-11-20 11:41:47,692 : INFO : topic #22 (0.014): 0.023*\"francs\" + 0.019*\"month\" + 0.018*\"rate\" + 0.018*\"months\" + 0.014*\"work\" + 0.014*\"jobs\" + 0.014*\"figures\" + 0.014*\"unemployment\" + 0.014*\"action\" + 0.014*\"verdict\"\n",
      "2017-11-20 11:41:47,704 : INFO : topic #59 (0.015): 0.028*\"metres\" + 0.015*\"government\" + 0.014*\"australia\" + 0.012*\"night\" + 0.011*\"event\" + 0.010*\"india\" + 0.010*\"detainees\" + 0.009*\"race\" + 0.008*\"water\" + 0.007*\"world\"\n",
      "2017-11-20 11:41:47,705 : INFO : topic #12 (0.015): 0.017*\"afghanistan\" + 0.016*\"people\" + 0.016*\"united_states\" + 0.012*\"police\" + 0.011*\"reports\" + 0.011*\"hewitt\" + 0.011*\"australian\" + 0.010*\"world\" + 0.009*\"hicks\" + 0.008*\"government\"\n",
      "2017-11-20 11:41:47,706 : INFO : topic #29 (0.016): 0.015*\"arafat\" + 0.015*\"government\" + 0.009*\"terrorism\" + 0.008*\"tora_bora\" + 0.008*\"year\" + 0.008*\"israeli\" + 0.008*\"sharon\" + 0.007*\"forces\" + 0.007*\"officials\" + 0.007*\"west_bank\"\n",
      "2017-11-20 11:41:47,708 : INFO : topic diff=0.778907, rho=0.447214\n",
      "2017-11-20 11:41:48,054 : DEBUG : bound: at document #0\n",
      "2017-11-20 11:41:49,040 : INFO : -8.068 per-word bound, 268.3 perplexity estimate based on a held-out corpus of 300 documents with 18861 words\n",
      "2017-11-20 11:41:49,041 : INFO : PROGRESS: pass 4, at document #300/300\n",
      "2017-11-20 11:41:49,042 : DEBUG : performing inference on a chunk of 300 documents\n",
      "2017-11-20 11:41:49,466 : DEBUG : 300/300 documents converged within 200 iterations\n",
      "2017-11-20 11:41:49,490 : INFO : optimized alpha [0.013951674616120598, 0.013953625314770556, 0.013814271581087898, 0.013536725904901899, 0.013997534058088686, 0.013927275682103748, 0.014000069195451994, 0.01389702776788234, 0.013900583727093928, 0.014374521305932024, 0.014091924667800753, 0.014378107333423745, 0.015192257536959738, 0.014144215465301344, 0.013949950658929101, 0.014515387021104591, 0.013946897433713768, 0.013748497152480832, 0.015068392468284224, 0.014184764771769645, 0.014177951417443848, 0.014048414741812561, 0.013630823398313986, 0.01456803754639235, 0.013835212269283767, 0.014330790190671055, 0.014673468320035377, 0.013952759041110882, 0.014278799766030244, 0.015309668527625163, 0.014281663589412345, 0.014282680252568658, 0.01443173765189521, 0.014617683714958554, 0.013951796644606364, 0.013900993535473116, 0.014136855391750374, 0.013630690837411634, 0.014235647780062392, 0.014714877110792945, 0.014420921173249451, 0.013949403710202091, 0.014045179029315881, 0.013933718460507795, 0.014280822890334742, 0.014587270260681318, 0.014204464173108614, 0.014139286884144569, 0.013629273444670952, 0.013832634270673732, 0.013947803051936153, 0.01409128046786599, 0.013968127323242138, 0.013951640916037745, 0.01381313397910929, 0.014322064038975358, 0.013814655987052442, 0.013673579452022718, 0.013996577627040008, 0.015206744996721876]\n",
      "2017-11-20 11:41:49,499 : DEBUG : updating topics\n",
      "2017-11-20 11:41:49,912 : INFO : topic #3 (0.014): 0.051*\"fire\" + 0.019*\"flames\" + 0.019*\"smoke\" + 0.013*\"building\" + 0.013*\"new_york\" + 0.013*\"damage\" + 0.013*\"firefighters\" + 0.013*\"blaze\" + 0.013*\"church\" + 0.013*\"shop\"\n",
      "2017-11-20 11:41:49,920 : INFO : topic #22 (0.014): 0.022*\"francs\" + 0.018*\"month\" + 0.018*\"rate\" + 0.018*\"months\" + 0.014*\"work\" + 0.014*\"jobs\" + 0.014*\"figures\" + 0.014*\"unemployment\" + 0.014*\"action\" + 0.014*\"verdict\"\n",
      "2017-11-20 11:41:49,922 : INFO : topic #12 (0.015): 0.017*\"afghanistan\" + 0.017*\"people\" + 0.016*\"united_states\" + 0.013*\"police\" + 0.011*\"hewitt\" + 0.011*\"australian\" + 0.011*\"reports\" + 0.010*\"world\" + 0.009*\"hicks\" + 0.008*\"government\"\n",
      "2017-11-20 11:41:49,923 : INFO : topic #59 (0.015): 0.029*\"metres\" + 0.015*\"government\" + 0.014*\"australia\" + 0.012*\"night\" + 0.011*\"event\" + 0.010*\"india\" + 0.010*\"detainees\" + 0.009*\"race\" + 0.008*\"water\" + 0.008*\"world\"\n",
      "2017-11-20 11:41:49,925 : INFO : topic #29 (0.015): 0.015*\"arafat\" + 0.015*\"government\" + 0.009*\"terrorism\" + 0.008*\"tora_bora\" + 0.008*\"year\" + 0.008*\"israeli\" + 0.008*\"sharon\" + 0.007*\"forces\" + 0.007*\"officials\" + 0.007*\"west_bank\"\n",
      "2017-11-20 11:41:49,926 : INFO : topic diff=0.638059, rho=0.408248\n",
      "2017-11-20 11:41:50,160 : DEBUG : Setting topics to those of the model: LdaModel(num_terms=4431, num_topics=60, decay=0.5, chunksize=300)\n",
      "2017-11-20 11:41:50,166 : INFO : using ParallelWordOccurrenceAccumulator(processes=3, batch_size=64) to estimate probabilities from sliding windows\n",
      "2017-11-20 11:41:50,429 : DEBUG : completed batch 0; 64 documents processed (92 virtual)\n",
      "2017-11-20 11:41:50,549 : DEBUG : completed batch 0; 64 documents processed (258 virtual)\n",
      "2017-11-20 11:41:50,590 : DEBUG : completed batch 0; 64 documents processed (305 virtual)\n",
      "2017-11-20 11:41:50,627 : DEBUG : observed sentinel value; terminating\n",
      "2017-11-20 11:41:50,637 : DEBUG : completed batch 1; 128 documents processed (332 virtual)\n",
      "2017-11-20 11:41:50,638 : DEBUG : finished all batches; 64 documents processed (305 virtual)\n",
      "2017-11-20 11:41:50,646 : DEBUG : observed sentinel value; terminating\n"
     ]
    },
    {
     "name": "stderr",
     "output_type": "stream",
     "text": [
      "2017-11-20 11:41:50,647 : INFO : serializing accumulator to return to master...\n",
      "2017-11-20 11:41:50,648 : DEBUG : finished all batches; 128 documents processed (332 virtual)\n",
      "2017-11-20 11:41:50,651 : INFO : accumulator serialized\n",
      "2017-11-20 11:41:50,661 : INFO : serializing accumulator to return to master...\n",
      "2017-11-20 11:41:50,686 : INFO : accumulator serialized\n",
      "2017-11-20 11:41:50,748 : DEBUG : completed batch 1; 108 documents processed (485 virtual)\n",
      "2017-11-20 11:41:50,752 : DEBUG : observed sentinel value; terminating\n",
      "2017-11-20 11:41:50,753 : DEBUG : finished all batches; 108 documents processed (485 virtual)\n",
      "2017-11-20 11:41:50,765 : INFO : serializing accumulator to return to master...\n",
      "2017-11-20 11:41:50,771 : INFO : accumulator serialized\n",
      "2017-11-20 11:41:50,840 : INFO : 3 accumulators retrieved from output queue\n",
      "2017-11-20 11:41:50,911 : INFO : accumulated word occurrence stats for 1122 virtual documents\n",
      "2017-11-20 11:41:53,644 : INFO : using autotuned alpha, starting with [0.014285714285714285, 0.014285714285714285, 0.014285714285714285, 0.014285714285714285, 0.014285714285714285, 0.014285714285714285, 0.014285714285714285, 0.014285714285714285, 0.014285714285714285, 0.014285714285714285, 0.014285714285714285, 0.014285714285714285, 0.014285714285714285, 0.014285714285714285, 0.014285714285714285, 0.014285714285714285, 0.014285714285714285, 0.014285714285714285, 0.014285714285714285, 0.014285714285714285, 0.014285714285714285, 0.014285714285714285, 0.014285714285714285, 0.014285714285714285, 0.014285714285714285, 0.014285714285714285, 0.014285714285714285, 0.014285714285714285, 0.014285714285714285, 0.014285714285714285, 0.014285714285714285, 0.014285714285714285, 0.014285714285714285, 0.014285714285714285, 0.014285714285714285, 0.014285714285714285, 0.014285714285714285, 0.014285714285714285, 0.014285714285714285, 0.014285714285714285, 0.014285714285714285, 0.014285714285714285, 0.014285714285714285, 0.014285714285714285, 0.014285714285714285, 0.014285714285714285, 0.014285714285714285, 0.014285714285714285, 0.014285714285714285, 0.014285714285714285, 0.014285714285714285, 0.014285714285714285, 0.014285714285714285, 0.014285714285714285, 0.014285714285714285, 0.014285714285714285, 0.014285714285714285, 0.014285714285714285, 0.014285714285714285, 0.014285714285714285, 0.014285714285714285, 0.014285714285714285, 0.014285714285714285, 0.014285714285714285, 0.014285714285714285, 0.014285714285714285, 0.014285714285714285, 0.014285714285714285, 0.014285714285714285, 0.014285714285714285]\n",
      "2017-11-20 11:41:53,646 : INFO : using serial LDA version on this node\n",
      "2017-11-20 11:41:57,137 : INFO : running online (multi-pass) LDA training, 70 topics, 5 passes over the supplied corpus of 300 documents, updating model once every 300 documents, evaluating perplexity every 300 documents, iterating 200x with a convergence threshold of 0.001000\n",
      "2017-11-20 11:41:57,144 : WARNING : too few updates, training might not converge; consider increasing the number of passes or iterations to improve accuracy\n",
      "2017-11-20 11:42:00,842 : DEBUG : bound: at document #0\n",
      "2017-11-20 11:42:04,903 : INFO : -54.316 per-word bound, 22420429035543204.0 perplexity estimate based on a held-out corpus of 300 documents with 18861 words\n",
      "2017-11-20 11:42:04,914 : INFO : PROGRESS: pass 0, at document #300/300\n",
      "2017-11-20 11:42:04,922 : DEBUG : performing inference on a chunk of 300 documents\n",
      "2017-11-20 11:42:08,741 : DEBUG : 252/300 documents converged within 200 iterations\n",
      "2017-11-20 11:42:08,765 : INFO : optimized alpha [0.013378150329413412, 0.013428290452265991, 0.013429026948148775, 0.013831753688476977, 0.013479099803894078, 0.013529379149800892, 0.013835238103586186, 0.013579464975188001, 0.01373192844144551, 0.013680575826374962, 0.013580732899469997, 0.013530771202093715, 0.013934826472926362, 0.013682316187101605, 0.013631987893311569, 0.013530385040480831, 0.013430063605131671, 0.013785098697426369, 0.013780108537498673, 0.013579501397053148, 0.013378509311072794, 0.013480068769068911, 0.01362980308789836, 0.013529726638598444, 0.013580366252106041, 0.013479123123346133, 0.013378367700509817, 0.013590071939916232, 0.013580776079590049, 0.013479145881643119, 0.013530134504198101, 0.013479122416993526, 0.013378759326117689, 0.013528528200912965, 0.013932616538534198, 0.01332776188673745, 0.013632721000234048, 0.013581097208936223, 0.01332776188673745, 0.013478961385983829, 0.013478846270349554, 0.01353104300839068, 0.013935513034411895, 0.013733154496747118, 0.013479157139812585, 0.013630116405625468, 0.013478294103526602, 0.013781807838228109, 0.013529421256107678, 0.013530580666228822, 0.013834073074710164, 0.013632596089900537, 0.013831350527545607, 0.013932064767863595, 0.0135674904804239, 0.013580332875584392, 0.013527985002215368, 0.013580213898172868, 0.013682247187274659, 0.013581502663977471, 0.013427627106394523, 0.013428635260696715, 0.013629521837017057, 0.013680954735060227, 0.013682122125310439, 0.013884586638711898, 0.013529445586602334, 0.013479065067971344, 0.013882530040263031, 0.013581228539851657]\n",
      "2017-11-20 11:42:08,766 : DEBUG : updating topics\n",
      "2017-11-20 11:42:09,116 : INFO : topic #38 (0.013): 0.000*\"collins\" + 0.000*\"mounted\" + 0.000*\"kingham\" + 0.000*\"martin\" + 0.000*\"victorian\" + 0.000*\"slogans\" + 0.000*\"intersection\" + 0.000*\"hawke\" + 0.000*\"square\" + 0.000*\"cfmeu\"\n",
      "2017-11-20 11:42:09,118 : INFO : topic #26 (0.013): 0.036*\"cut\" + 0.027*\"rate\" + 0.027*\"reserve_bank\" + 0.018*\"interest_rates\" + 0.018*\"cent\" + 0.018*\"bank\" + 0.018*\"year\" + 0.009*\"number\" + 0.009*\"growth\" + 0.009*\"cash\"\n",
      "2017-11-20 11:42:09,121 : INFO : topic #53 (0.014): 0.023*\"australia\" + 0.013*\"india\" + 0.010*\"afroz\" + 0.009*\"attacks\" + 0.008*\"sultan\" + 0.008*\"commission\" + 0.008*\"claims\" + 0.008*\"britain\" + 0.008*\"police\" + 0.007*\"government\"\n",
      "2017-11-20 11:42:09,121 : INFO : topic #34 (0.014): 0.009*\"match\" + 0.009*\"australia\" + 0.008*\"suharto\" + 0.008*\"innings\" + 0.008*\"afghanistan\" + 0.008*\"man\" + 0.007*\"years\" + 0.007*\"condition\" + 0.007*\"family\" + 0.007*\"people\"\n",
      "2017-11-20 11:42:09,123 : INFO : topic #12 (0.014): 0.016*\"government\" + 0.012*\"radio\" + 0.011*\"labor\" + 0.011*\"world\" + 0.010*\"year\" + 0.009*\"time\" + 0.009*\"australia\" + 0.008*\"firefighters\" + 0.008*\"economy\" + 0.007*\"boat\"\n",
      "2017-11-20 11:42:09,125 : INFO : topic diff=63.760514, rho=1.000000\n",
      "2017-11-20 11:42:09,456 : DEBUG : bound: at document #0\n",
      "2017-11-20 11:42:11,148 : INFO : -8.610 per-word bound, 390.6 perplexity estimate based on a held-out corpus of 300 documents with 18861 words\n",
      "2017-11-20 11:42:11,150 : INFO : PROGRESS: pass 1, at document #300/300\n",
      "2017-11-20 11:42:11,152 : DEBUG : performing inference on a chunk of 300 documents\n",
      "2017-11-20 11:42:11,940 : DEBUG : 300/300 documents converged within 200 iterations\n",
      "2017-11-20 11:42:11,968 : INFO : optimized alpha [0.012911657154051648, 0.012958262189199481, 0.012986491756488567, 0.01347383686989553, 0.013033307876465472, 0.01313450266871225, 0.013840407065965751, 0.013180931473141769, 0.013407980121852943, 0.01338650085585729, 0.013210677241124746, 0.01313671406307774, 0.013740763986694531, 0.013334380730306595, 0.013286820329448515, 0.013163142524755969, 0.012987882123152487, 0.013514533811513926, 0.013396490965035439, 0.013181380201649556, 0.01293858000447108, 0.013061872601174539, 0.013255713989445351, 0.01313494272268257, 0.013182742950762478, 0.013060564727490315, 0.012911969022090575, 0.013246051385212584, 0.013210875161949746, 0.01305962135741393, 0.013135534894135105, 0.013060421776417022, 0.012912530912994397, 0.013187339914841839, 0.013539993342904141, 0.012837829723649139, 0.013260040255039272, 0.013211089578894115, 0.012837829723649139, 0.013060031481254144, 0.013032797161706161, 0.01313694666920104, 0.01368497469819431, 0.013353692444335629, 0.013060247695820433, 0.013283941888650097, 0.013059339642986886, 0.013511262771442793, 0.01310729349842874, 0.013108733554916856, 0.013533003743311662, 0.013287536766382358, 0.013529495122741373, 0.013624570995190892, 0.01311505737727868, 0.013237199377293812, 0.013106599673824888, 0.013209272729256609, 0.013333787991467302, 0.013238748644234256, 0.012957820333784743, 0.012985824590005473, 0.0132281602790252, 0.013332716804083468, 0.013333419518710433, 0.013580175105348178, 0.013107509029555476, 0.013032899182130468, 0.013549726253582811, 0.013211200338314862]\n"
     ]
    },
    {
     "name": "stderr",
     "output_type": "stream",
     "text": [
      "2017-11-20 11:42:11,978 : DEBUG : updating topics\n",
      "2017-11-20 11:42:12,403 : INFO : topic #38 (0.013): 0.000*\"people\" + 0.000*\"australia\" + 0.000*\"day\" + 0.000*\"government\" + 0.000*\"today\" + 0.000*\"united_states\" + 0.000*\"days\" + 0.000*\"time\" + 0.000*\"year\" + 0.000*\"yesterday\"\n",
      "2017-11-20 11:42:12,407 : INFO : topic #35 (0.013): 0.000*\"people\" + 0.000*\"australia\" + 0.000*\"day\" + 0.000*\"government\" + 0.000*\"today\" + 0.000*\"united_states\" + 0.000*\"days\" + 0.000*\"time\" + 0.000*\"year\" + 0.000*\"yesterday\"\n",
      "2017-11-20 11:42:12,414 : INFO : topic #42 (0.014): 0.013*\"australia\" + 0.011*\"afghanistan\" + 0.011*\"government\" + 0.011*\"race\" + 0.010*\"union\" + 0.010*\"people\" + 0.008*\"year\" + 0.008*\"pay\" + 0.008*\"today\" + 0.008*\"pakistan\"\n",
      "2017-11-20 11:42:12,415 : INFO : topic #12 (0.014): 0.017*\"government\" + 0.013*\"labor\" + 0.012*\"radio\" + 0.010*\"world\" + 0.010*\"year\" + 0.009*\"time\" + 0.009*\"australia\" + 0.008*\"firefighters\" + 0.007*\"economy\" + 0.007*\"boat\"\n",
      "2017-11-20 11:42:12,416 : INFO : topic #6 (0.014): 0.048*\"arafat\" + 0.024*\"israeli\" + 0.016*\"israel\" + 0.012*\"government\" + 0.012*\"west_bank\" + 0.012*\"peace\" + 0.011*\"security\" + 0.011*\"sharon\" + 0.010*\"attacks\" + 0.010*\"leader\"\n",
      "2017-11-20 11:42:12,419 : INFO : topic diff=1.945089, rho=0.577350\n",
      "2017-11-20 11:42:12,737 : DEBUG : bound: at document #0\n",
      "2017-11-20 11:42:14,275 : INFO : -8.359 per-word bound, 328.3 perplexity estimate based on a held-out corpus of 300 documents with 18861 words\n",
      "2017-11-20 11:42:14,277 : INFO : PROGRESS: pass 2, at document #300/300\n",
      "2017-11-20 11:42:14,278 : DEBUG : performing inference on a chunk of 300 documents\n",
      "2017-11-20 11:42:14,978 : DEBUG : 300/300 documents converged within 200 iterations\n",
      "2017-11-20 11:42:14,987 : INFO : optimized alpha [0.012532203159472672, 0.012576038395334586, 0.012625576989410477, 0.013155519410626915, 0.012669839707471644, 0.012810730107699309, 0.013841381558014667, 0.012854199535923833, 0.013139996231091779, 0.013142370910521691, 0.012906354524220941, 0.012813561680217389, 0.013576791814287659, 0.013047379073725244, 0.013024535589708855, 0.012861267201990807, 0.012627230503454786, 0.013265727139922107, 0.013058356430306109, 0.012855038907724065, 0.012579863183777353, 0.012719870768578674, 0.012925384387623386, 0.012811239829306867, 0.01285677823478454, 0.012718291242471881, 0.012532584977912532, 0.01296250622859952, 0.012906670759361888, 0.012694417709119547, 0.012811971302285721, 0.012718040801613862, 0.012533272911405434, 0.012906154176908834, 0.013217767023834081, 0.012440307927080466, 0.01295361248985248, 0.012906802930324222, 0.012440307927080466, 0.012717477624287562, 0.012669131006105483, 0.012813719207604109, 0.013475397246822196, 0.013041892187030594, 0.012717708864029672, 0.012998517023524607, 0.012716790356966668, 0.013285793899112715, 0.012762211326230373, 0.012763860745301548, 0.013283044883474131, 0.013002844443860653, 0.013278897275445612, 0.013369518121469427, 0.012746377094403597, 0.012954139738058982, 0.012762064770117654, 0.012903610613107123, 0.013068658118389025, 0.012956133040513041, 0.012575763498607204, 0.01262470389286882, 0.012899254428058027, 0.013045538333767457, 0.01304588153244296, 0.013327326677646481, 0.012762571203569252, 0.012669239936100302, 0.013274669818799042, 0.012906897705771454]\n",
      "2017-11-20 11:42:14,994 : DEBUG : updating topics\n",
      "2017-11-20 11:42:15,442 : INFO : topic #35 (0.012): 0.001*\"people\" + 0.000*\"australia\" + 0.000*\"day\" + 0.000*\"government\" + 0.000*\"today\" + 0.000*\"united_states\" + 0.000*\"days\" + 0.000*\"time\" + 0.000*\"year\" + 0.000*\"yesterday\"\n",
      "2017-11-20 11:42:15,445 : INFO : topic #38 (0.012): 0.001*\"people\" + 0.000*\"australia\" + 0.000*\"day\" + 0.000*\"government\" + 0.000*\"today\" + 0.000*\"united_states\" + 0.000*\"days\" + 0.000*\"time\" + 0.000*\"year\" + 0.000*\"yesterday\"\n",
      "2017-11-20 11:42:15,447 : INFO : topic #42 (0.013): 0.014*\"australia\" + 0.012*\"afghanistan\" + 0.011*\"union\" + 0.011*\"government\" + 0.011*\"race\" + 0.010*\"pay\" + 0.009*\"people\" + 0.009*\"today\" + 0.008*\"year\" + 0.007*\"staff\"\n",
      "2017-11-20 11:42:15,448 : INFO : topic #12 (0.014): 0.018*\"government\" + 0.014*\"labor\" + 0.011*\"radio\" + 0.010*\"world\" + 0.010*\"year\" + 0.009*\"time\" + 0.008*\"australia\" + 0.008*\"firefighters\" + 0.007*\"economy\" + 0.007*\"boat\"\n",
      "2017-11-20 11:42:15,449 : INFO : topic #6 (0.014): 0.050*\"arafat\" + 0.027*\"israeli\" + 0.017*\"israel\" + 0.014*\"west_bank\" + 0.014*\"sharon\" + 0.013*\"security\" + 0.013*\"government\" + 0.012*\"peace\" + 0.011*\"attacks\" + 0.011*\"palestinians\"\n",
      "2017-11-20 11:42:15,452 : INFO : topic diff=1.049940, rho=0.500000\n",
      "2017-11-20 11:42:15,789 : DEBUG : bound: at document #0\n",
      "2017-11-20 11:42:17,291 : INFO : -8.204 per-word bound, 294.8 perplexity estimate based on a held-out corpus of 300 documents with 18861 words\n",
      "2017-11-20 11:42:17,292 : INFO : PROGRESS: pass 3, at document #300/300\n",
      "2017-11-20 11:42:17,300 : DEBUG : performing inference on a chunk of 300 documents\n",
      "2017-11-20 11:42:17,847 : DEBUG : 300/300 documents converged within 200 iterations\n",
      "2017-11-20 11:42:17,853 : INFO : optimized alpha [0.012210231408179546, 0.012251788837357152, 0.01231868137437816, 0.01290348087767634, 0.012360835536351863, 0.012534217538719659, 0.013839183203095254, 0.012575203050495417, 0.012909464412427076, 0.012931736877567714, 0.01264582335928356, 0.012537543073018039, 0.013433225481405103, 0.012801048566125066, 0.012799039281125411, 0.01260286291270264, 0.012320541310850943, 0.013051165391368988, 0.012769940280104931, 0.012576396265898926, 0.01227488209306888, 0.01242840826229015, 0.012643433018095829, 0.012534782454164091, 0.012578435333445078, 0.01242661413446124, 0.012210667867859487, 0.012719202717850127, 0.012646234671963701, 0.01238399147388099, 0.012535624727532306, 0.012426278169378855, 0.012211454262791232, 0.012664817049049641, 0.012942364853301011, 0.012103690006811571, 0.012691316850478611, 0.012646300264015729, 0.012103690006811571, 0.012425577708521143, 0.012359971106832126, 0.01253760828946579, 0.013293494189631388, 0.012775139512987112, 0.012425820579599102, 0.012753585526961174, 0.012424895442488313, 0.01309065420037922, 0.012468216821673058, 0.012470030818392042, 0.013067351627451746, 0.0127584780281059, 0.013062765278157968, 0.013149627921642884, 0.012433089157850897, 0.012711185513184909, 0.012468490003040771, 0.012622692122533847, 0.012840491216546021, 0.012733452986499269, 0.012270793135791476, 0.012317646001753786, 0.012618485653135175, 0.012799125044737045, 0.012799176297493161, 0.013109153586140508, 0.012468691452020437, 0.012360124741957704, 0.013038231845924304, 0.012646382004423666]\n",
      "2017-11-20 11:42:17,858 : DEBUG : updating topics\n",
      "2017-11-20 11:42:18,254 : INFO : topic #38 (0.012): 0.001*\"people\" + 0.001*\"australia\" + 0.001*\"day\" + 0.001*\"government\" + 0.001*\"today\" + 0.001*\"united_states\" + 0.001*\"days\" + 0.001*\"time\" + 0.001*\"year\" + 0.001*\"yesterday\"\n",
      "2017-11-20 11:42:18,256 : INFO : topic #35 (0.012): 0.001*\"people\" + 0.001*\"australia\" + 0.001*\"day\" + 0.001*\"government\" + 0.001*\"today\" + 0.001*\"united_states\" + 0.001*\"days\" + 0.001*\"time\" + 0.001*\"year\" + 0.001*\"yesterday\"\n",
      "2017-11-20 11:42:18,258 : INFO : topic #42 (0.013): 0.014*\"australia\" + 0.012*\"afghanistan\" + 0.011*\"union\" + 0.011*\"government\" + 0.011*\"race\" + 0.010*\"pay\" + 0.009*\"today\" + 0.009*\"people\" + 0.008*\"year\" + 0.008*\"staff\"\n",
      "2017-11-20 11:42:18,260 : INFO : topic #12 (0.013): 0.018*\"government\" + 0.014*\"labor\" + 0.011*\"radio\" + 0.010*\"world\" + 0.010*\"year\" + 0.008*\"time\" + 0.008*\"australia\" + 0.008*\"firefighters\" + 0.007*\"economy\" + 0.007*\"boat\"\n",
      "2017-11-20 11:42:18,261 : INFO : topic #6 (0.014): 0.051*\"arafat\" + 0.029*\"israeli\" + 0.017*\"israel\" + 0.016*\"sharon\" + 0.015*\"west_bank\" + 0.014*\"security\" + 0.013*\"government\" + 0.012*\"peace\" + 0.012*\"attacks\" + 0.011*\"palestinians\"\n",
      "2017-11-20 11:42:18,263 : INFO : topic diff=0.846269, rho=0.447214\n",
      "2017-11-20 11:42:18,647 : DEBUG : bound: at document #0\n",
      "2017-11-20 11:42:19,610 : INFO : -8.095 per-word bound, 273.5 perplexity estimate based on a held-out corpus of 300 documents with 18861 words\n",
      "2017-11-20 11:42:19,622 : INFO : PROGRESS: pass 4, at document #300/300\n",
      "2017-11-20 11:42:19,631 : DEBUG : performing inference on a chunk of 300 documents\n",
      "2017-11-20 11:42:20,049 : DEBUG : 300/300 documents converged within 200 iterations\n"
     ]
    },
    {
     "name": "stderr",
     "output_type": "stream",
     "text": [
      "2017-11-20 11:42:20,072 : INFO : optimized alpha [0.011929532484229032, 0.01196915737580824, 0.012050641483990055, 0.012682002674389429, 0.012090998848417647, 0.012291820711091424, 0.013853959501511815, 0.012330673493130077, 0.012706125759296175, 0.012745467924464097, 0.012416966056045338, 0.01229555281832965, 0.013323323961811942, 0.012584192207028071, 0.012600134272211709, 0.01237586646810695, 0.012052668961865076, 0.012861463073015491, 0.012517377595210042, 0.012332179590890304, 0.012008538355272056, 0.012173365698431455, 0.012396388311251918, 0.012292430822495353, 0.012334465224828254, 0.01217139626103083, 0.011930013129794767, 0.012505035859478195, 0.01241745626587488, 0.012112951428069103, 0.012293364175075764, 0.012170989947141468, 0.011930879148632804, 0.012469875222507226, 0.01270078476983794, 0.011810726724222282, 0.012460937828553056, 0.012417466225865164, 0.011810726724222282, 0.012170176774618586, 0.012090008853741945, 0.01229552206492065, 0.013113280491605595, 0.012540951563189967, 0.01217041162609173, 0.012537994584393128, 0.01218669789471819, 0.012917637227634346, 0.012228051144618899, 0.012212975415652231, 0.012876611010604659, 0.012543346457324134, 0.012871722600457386, 0.012955320109878233, 0.012159621904444126, 0.012497298711859669, 0.012211632417316352, 0.0123765299348206, 0.012639183984605161, 0.012537089687460578, 0.012004523257070538, 0.012049473814408662, 0.012372452832790537, 0.012582250154014957, 0.012582056810187659, 0.012916256641678977, 0.012211596564219995, 0.012090215437939686, 0.01282981661583627, 0.012417516774435474]\n",
      "2017-11-20 11:42:20,079 : DEBUG : updating topics\n",
      "2017-11-20 11:42:20,492 : INFO : topic #38 (0.012): 0.001*\"people\" + 0.001*\"australia\" + 0.001*\"day\" + 0.001*\"government\" + 0.001*\"today\" + 0.001*\"united_states\" + 0.001*\"days\" + 0.001*\"time\" + 0.001*\"year\" + 0.001*\"yesterday\"\n",
      "2017-11-20 11:42:20,493 : INFO : topic #35 (0.012): 0.001*\"people\" + 0.001*\"australia\" + 0.001*\"day\" + 0.001*\"government\" + 0.001*\"today\" + 0.001*\"united_states\" + 0.001*\"days\" + 0.001*\"time\" + 0.001*\"year\" + 0.001*\"yesterday\"\n",
      "2017-11-20 11:42:20,494 : INFO : topic #42 (0.013): 0.014*\"australia\" + 0.012*\"afghanistan\" + 0.012*\"union\" + 0.011*\"government\" + 0.011*\"race\" + 0.010*\"pay\" + 0.009*\"today\" + 0.008*\"people\" + 0.008*\"staff\" + 0.008*\"action\"\n",
      "2017-11-20 11:42:20,496 : INFO : topic #12 (0.013): 0.018*\"government\" + 0.014*\"labor\" + 0.011*\"radio\" + 0.011*\"year\" + 0.010*\"world\" + 0.009*\"time\" + 0.009*\"australia\" + 0.008*\"firefighters\" + 0.007*\"economy\" + 0.007*\"boat\"\n",
      "2017-11-20 11:42:20,497 : INFO : topic #6 (0.014): 0.051*\"arafat\" + 0.030*\"israeli\" + 0.018*\"israel\" + 0.017*\"sharon\" + 0.016*\"west_bank\" + 0.014*\"security\" + 0.013*\"government\" + 0.012*\"peace\" + 0.012*\"attacks\" + 0.011*\"palestinians\"\n",
      "2017-11-20 11:42:20,499 : INFO : topic diff=0.701197, rho=0.408248\n",
      "2017-11-20 11:42:20,689 : DEBUG : Setting topics to those of the model: LdaModel(num_terms=4431, num_topics=70, decay=0.5, chunksize=300)\n",
      "2017-11-20 11:42:20,696 : INFO : using ParallelWordOccurrenceAccumulator(processes=3, batch_size=64) to estimate probabilities from sliding windows\n",
      "2017-11-20 11:42:20,890 : DEBUG : completed batch 0; 64 documents processed (92 virtual)\n",
      "2017-11-20 11:42:20,963 : DEBUG : completed batch 0; 64 documents processed (258 virtual)\n",
      "2017-11-20 11:42:20,996 : DEBUG : completed batch 0; 64 documents processed (305 virtual)\n",
      "2017-11-20 11:42:21,015 : DEBUG : observed sentinel value; terminating\n",
      "2017-11-20 11:42:21,016 : DEBUG : finished all batches; 64 documents processed (305 virtual)\n",
      "2017-11-20 11:42:21,025 : INFO : serializing accumulator to return to master...\n",
      "2017-11-20 11:42:21,044 : INFO : accumulator serialized\n",
      "2017-11-20 11:42:21,119 : DEBUG : completed batch 1; 128 documents processed (332 virtual)\n",
      "2017-11-20 11:42:21,123 : INFO : accumulator serialized\n",
      "2017-11-20 11:42:21,122 : DEBUG : observed sentinel value; terminating\n",
      "2017-11-20 11:42:21,122 : DEBUG : finished all batches; 128 documents processed (332 virtual)\n",
      "2017-11-20 11:42:21,123 : INFO : serializing accumulator to return to master...\n",
      "2017-11-20 11:42:21,130 : DEBUG : completed batch 1; 108 documents processed (485 virtual)\n",
      "2017-11-20 11:42:21,138 : DEBUG : observed sentinel value; terminating\n",
      "2017-11-20 11:42:21,138 : DEBUG : finished all batches; 108 documents processed (485 virtual)\n",
      "2017-11-20 11:42:21,139 : INFO : serializing accumulator to return to master...\n",
      "2017-11-20 11:42:21,140 : INFO : accumulator serialized\n",
      "2017-11-20 11:42:21,213 : INFO : 3 accumulators retrieved from output queue\n",
      "2017-11-20 11:42:21,281 : INFO : accumulated word occurrence stats for 1122 virtual documents\n",
      "2017-11-20 11:42:24,371 : INFO : using autotuned alpha, starting with [0.012500000000000001, 0.012500000000000001, 0.012500000000000001, 0.012500000000000001, 0.012500000000000001, 0.012500000000000001, 0.012500000000000001, 0.012500000000000001, 0.012500000000000001, 0.012500000000000001, 0.012500000000000001, 0.012500000000000001, 0.012500000000000001, 0.012500000000000001, 0.012500000000000001, 0.012500000000000001, 0.012500000000000001, 0.012500000000000001, 0.012500000000000001, 0.012500000000000001, 0.012500000000000001, 0.012500000000000001, 0.012500000000000001, 0.012500000000000001, 0.012500000000000001, 0.012500000000000001, 0.012500000000000001, 0.012500000000000001, 0.012500000000000001, 0.012500000000000001, 0.012500000000000001, 0.012500000000000001, 0.012500000000000001, 0.012500000000000001, 0.012500000000000001, 0.012500000000000001, 0.012500000000000001, 0.012500000000000001, 0.012500000000000001, 0.012500000000000001, 0.012500000000000001, 0.012500000000000001, 0.012500000000000001, 0.012500000000000001, 0.012500000000000001, 0.012500000000000001, 0.012500000000000001, 0.012500000000000001, 0.012500000000000001, 0.012500000000000001, 0.012500000000000001, 0.012500000000000001, 0.012500000000000001, 0.012500000000000001, 0.012500000000000001, 0.012500000000000001, 0.012500000000000001, 0.012500000000000001, 0.012500000000000001, 0.012500000000000001, 0.012500000000000001, 0.012500000000000001, 0.012500000000000001, 0.012500000000000001, 0.012500000000000001, 0.012500000000000001, 0.012500000000000001, 0.012500000000000001, 0.012500000000000001, 0.012500000000000001, 0.012500000000000001, 0.012500000000000001, 0.012500000000000001, 0.012500000000000001, 0.012500000000000001, 0.012500000000000001, 0.012500000000000001, 0.012500000000000001, 0.012500000000000001, 0.012500000000000001]\n",
      "2017-11-20 11:42:24,372 : INFO : using serial LDA version on this node\n",
      "2017-11-20 11:42:28,221 : INFO : running online (multi-pass) LDA training, 80 topics, 5 passes over the supplied corpus of 300 documents, updating model once every 300 documents, evaluating perplexity every 300 documents, iterating 200x with a convergence threshold of 0.001000\n",
      "2017-11-20 11:42:28,222 : WARNING : too few updates, training might not converge; consider increasing the number of passes or iterations to improve accuracy\n",
      "2017-11-20 11:42:32,229 : DEBUG : bound: at document #0\n",
      "2017-11-20 11:42:37,307 : INFO : -63.127 per-word bound, 10073980847475179520.0 perplexity estimate based on a held-out corpus of 300 documents with 18861 words\n",
      "2017-11-20 11:42:37,313 : INFO : PROGRESS: pass 0, at document #300/300\n",
      "2017-11-20 11:42:37,313 : DEBUG : performing inference on a chunk of 300 documents\n",
      "2017-11-20 11:42:40,992 : DEBUG : 251/300 documents converged within 200 iterations\n",
      "2017-11-20 11:42:41,012 : INFO : optimized alpha [0.011986794954734566, 0.011943478696261863, 0.011900211923647978, 0.011899822519248034, 0.011855806786725267, 0.012207009095868438, 0.01198668519364504, 0.011856074189735262, 0.011988489573444075, 0.012162874357977861, 0.011856254746636758, 0.011811953399556402, 0.011899339781110525, 0.012074315248928975, 0.012075306088665957, 0.012032092991249757, 0.011987860834715307, 0.011900001765339729, 0.012031672618098699, 0.011768030823891768, 0.011987978520288881, 0.011855636566936662, 0.011812317157953152, 0.011810619729958904, 0.011943633180945193, 0.011899456213279863, 0.012120236151282788, 0.011987309658549312, 0.012161275083893938, 0.011899115596307059, 0.011900450226355209, 0.012031826279129571, 0.0118998953437063, 0.011812113529692032, 0.012076569517947798, 0.0122939545363358, 0.011812130222697835, 0.011988269174015164, 0.012075535104745605, 0.011987036999823727, 0.011857010934568195, 0.012252498975351488, 0.011899767473087195, 0.01198798418992377, 0.011988315952737281, 0.011987626337866028, 0.011943821225215999, 0.011856195164587198, 0.012074862857452323, 0.011900054986606935, 0.012075681573008954, 0.012032105758462688, 0.012075634497532465, 0.012074790795130286, 0.011768030823891766, 0.011986619628501491, 0.012076382419306647, 0.011856169582661611, 0.011812092255468804, 0.011942934698897775, 0.011987227912296743, 0.012031482293309744, 0.011986995396958508, 0.011898623112244006, 0.012032199220778649, 0.011856130012290416, 0.01181198736035371, 0.011987268902000007, 0.011944202305445337, 0.012076070327152246, 0.012031372400578713, 0.012206891328977978, 0.011812039458704283, 0.012118777370769763, 0.011812138486167866, 0.011944269007644831, 0.01189960696051176, 0.012383151581095325, 0.011855560212538177, 0.011943780054788182]\n"
     ]
    },
    {
     "name": "stderr",
     "output_type": "stream",
     "text": [
      "2017-11-20 11:42:41,020 : DEBUG : updating topics\n",
      "2017-11-20 11:42:41,391 : INFO : topic #54 (0.012): 0.000*\"collins\" + 0.000*\"mounted\" + 0.000*\"kingham\" + 0.000*\"martin\" + 0.000*\"victorian\" + 0.000*\"slogans\" + 0.000*\"intersection\" + 0.000*\"hawke\" + 0.000*\"square\" + 0.000*\"cfmeu\"\n",
      "2017-11-20 11:42:41,392 : INFO : topic #33 (0.012): 0.046*\"hamas\" + 0.032*\"official\" + 0.025*\"israeli\" + 0.021*\"israel\" + 0.021*\"arafat\" + 0.016*\"operations\" + 0.013*\"defence\" + 0.011*\"movement\" + 0.011*\"fatah\" + 0.011*\"focus\"\n",
      "2017-11-20 11:42:41,394 : INFO : topic #41 (0.012): 0.017*\"government\" + 0.011*\"australia\" + 0.011*\"security\" + 0.009*\"arafat\" + 0.008*\"september\" + 0.008*\"world\" + 0.007*\"attacks\" + 0.007*\"forces\" + 0.007*\"people\" + 0.007*\"way\"\n",
      "2017-11-20 11:42:41,396 : INFO : topic #35 (0.012): 0.014*\"pakistan\" + 0.011*\"people\" + 0.009*\"drug\" + 0.009*\"measures\" + 0.009*\"area\" + 0.008*\"australia\" + 0.008*\"forces\" + 0.008*\"members\" + 0.007*\"tora_bora\" + 0.007*\"police\"\n",
      "2017-11-20 11:42:41,398 : INFO : topic #77 (0.012): 0.011*\"police\" + 0.011*\"australia\" + 0.010*\"india\" + 0.010*\"man\" + 0.009*\"afghanistan\" + 0.008*\"afghan\" + 0.008*\"britain\" + 0.007*\"family\" + 0.007*\"years\" + 0.007*\"agreement\"\n",
      "2017-11-20 11:42:41,401 : INFO : topic diff=73.457998, rho=1.000000\n",
      "2017-11-20 11:42:41,742 : DEBUG : bound: at document #0\n",
      "2017-11-20 11:42:43,518 : INFO : -8.748 per-word bound, 430.0 perplexity estimate based on a held-out corpus of 300 documents with 18861 words\n",
      "2017-11-20 11:42:43,521 : INFO : PROGRESS: pass 1, at document #300/300\n",
      "2017-11-20 11:42:43,522 : DEBUG : performing inference on a chunk of 300 documents\n",
      "2017-11-20 11:42:44,080 : DEBUG : 300/300 documents converged within 200 iterations\n",
      "2017-11-20 11:42:44,087 : INFO : optimized alpha [0.011689720408483427, 0.011624210370038576, 0.011583846936412357, 0.011583355661353595, 0.011517759627706906, 0.011971205649723605, 0.011664663198973314, 0.011518149651844738, 0.011787616339510143, 0.011904607792543027, 0.011518460549866737, 0.011452709953680586, 0.011581858944110594, 0.011820787992965529, 0.011845981207626555, 0.01178091020176269, 0.011690726875319591, 0.011607043978374858, 0.011731745753350101, 0.011387735097679944, 0.011786713320194727, 0.011517160739673302, 0.011500302957318225, 0.011427567032961966, 0.011696299519749698, 0.011558810968901465, 0.011913778706418071, 0.01171385750799914, 0.011903025357470778, 0.011558677743115061, 0.011607928668077066, 0.011756293781678253, 0.011559258549790036, 0.011476724700161462, 0.011847848105316569, 0.012103664020380107, 0.011452966849182625, 0.011762941976744238, 0.011846181728841443, 0.011713336641826961, 0.011519516040155048, 0.012064512285960354, 0.011559217903764994, 0.011690580204494028, 0.01171486751601538, 0.011641644488134746, 0.011648836458869884, 0.011518678499851108, 0.011845650055955901, 0.011583641957038197, 0.011822286712474376, 0.01178090470492957, 0.011822130756451898, 0.011844523041740773, 0.011387735097679942, 0.011689099406315635, 0.011847772275781524, 0.011518288791325207, 0.011453116239704913, 0.011671215595045447, 0.011738013149184543, 0.011780202439254603, 0.011689485235545818, 0.011558028503674185, 0.011757272727864646, 0.011541824694766476, 0.011452759297303926, 0.011714125388042057, 0.011649498678605824, 0.011847134899588857, 0.01175570786561172, 0.011995398734211793, 0.011452834983222098, 0.011886961415256548, 0.011452978854668958, 0.011649590987400898, 0.011582487237213406, 0.012212891197194591, 0.011587832934604804, 0.01162448285247457]\n",
      "2017-11-20 11:42:44,091 : DEBUG : updating topics\n",
      "2017-11-20 11:42:44,448 : INFO : topic #54 (0.011): 0.000*\"people\" + 0.000*\"australia\" + 0.000*\"today\" + 0.000*\"government\" + 0.000*\"yesterday\" + 0.000*\"time\" + 0.000*\"day\" + 0.000*\"police\" + 0.000*\"security\" + 0.000*\"united_states\"\n",
      "2017-11-20 11:42:44,460 : INFO : topic #58 (0.011): 0.067*\"pakistan\" + 0.036*\"india\" + 0.024*\"president\" + 0.021*\"musharraf\" + 0.016*\"tension\" + 0.015*\"peace\" + 0.010*\"countries\" + 0.010*\"talks\" + 0.010*\"vajpayee\" + 0.010*\"border\"\n",
      "2017-11-20 11:42:44,462 : INFO : topic #41 (0.012): 0.018*\"government\" + 0.011*\"security\" + 0.010*\"australia\" + 0.009*\"september\" + 0.009*\"world\" + 0.008*\"forces\" + 0.008*\"arafat\" + 0.008*\"people\" + 0.008*\"attacks\" + 0.007*\"way\"\n",
      "2017-11-20 11:42:44,464 : INFO : topic #35 (0.012): 0.015*\"pakistan\" + 0.010*\"people\" + 0.010*\"drug\" + 0.010*\"measures\" + 0.009*\"area\" + 0.008*\"forces\" + 0.008*\"australia\" + 0.008*\"members\" + 0.007*\"tora_bora\" + 0.006*\"staff\"\n",
      "2017-11-20 11:42:44,466 : INFO : topic #77 (0.012): 0.013*\"australia\" + 0.012*\"police\" + 0.011*\"man\" + 0.011*\"india\" + 0.010*\"afghanistan\" + 0.009*\"britain\" + 0.009*\"afghan\" + 0.008*\"agreement\" + 0.008*\"years\" + 0.008*\"family\"\n",
      "2017-11-20 11:42:44,469 : INFO : topic diff=2.077217, rho=0.577350\n",
      "2017-11-20 11:42:44,797 : DEBUG : bound: at document #0\n",
      "2017-11-20 11:42:45,896 : INFO : -8.482 per-word bound, 357.6 perplexity estimate based on a held-out corpus of 300 documents with 18861 words\n",
      "2017-11-20 11:42:45,897 : INFO : PROGRESS: pass 2, at document #300/300\n",
      "2017-11-20 11:42:45,897 : DEBUG : performing inference on a chunk of 300 documents\n",
      "2017-11-20 11:42:47,005 : DEBUG : 300/300 documents converged within 200 iterations\n",
      "2017-11-20 11:42:47,013 : INFO : optimized alpha [0.011444264410320374, 0.011361269672019668, 0.011323121226954461, 0.011322552093625694, 0.011239924441993468, 0.011774333424347031, 0.011439320514369454, 0.011240407883468945, 0.011639842689214468, 0.011690060696325571, 0.011240818275551755, 0.011158212716561366, 0.011320400843892971, 0.011610064688013179, 0.011654697125090556, 0.011571767442905032, 0.011445223238250439, 0.01136495210473518, 0.011484007608067724, 0.011076760402666135, 0.011618336962150118, 0.011239087955325015, 0.011243228616624152, 0.011114413539912452, 0.01149069689822701, 0.011278906921078583, 0.011740904456457688, 0.011487166555988292, 0.011688456586495191, 0.011298937519734308, 0.011366227275687884, 0.011527984774541833, 0.011279360165122734, 0.011240046232466759, 0.011656917413305228, 0.01194359219918795, 0.011158530199981491, 0.011575287235502833, 0.011654740837043261, 0.011486396312223267, 0.011242101627908859, 0.011906324640726718, 0.011279386517680172, 0.011444279800413241, 0.011488461994723084, 0.011357495022729992, 0.011405064425516349, 0.01128066421698635, 0.011654437300537189, 0.01132283629677102, 0.011611689544528432, 0.011571905924779762, 0.011570427034848762, 0.011652576868973303, 0.011076760402666133, 0.011443292988580302, 0.011657069947327155, 0.011240580352230776, 0.011178270621016596, 0.0114462099764535, 0.011530733316967435, 0.01157135646462063, 0.011443746748250036, 0.011278164740918944, 0.011529274385563559, 0.011282815203299608, 0.011158273695868163, 0.011487416073100765, 0.011405828612990309, 0.011655949048496596, 0.011527221705812548, 0.011797587264460742, 0.011158367233306144, 0.011693664140148836, 0.011158545037057569, 0.011406056117992697, 0.011321359817623486, 0.012047803872048474, 0.011405977792563622, 0.011361426245621644]\n",
      "2017-11-20 11:42:47,015 : DEBUG : updating topics\n",
      "2017-11-20 11:42:47,459 : INFO : topic #54 (0.011): 0.001*\"people\" + 0.000*\"australia\" + 0.000*\"today\" + 0.000*\"government\" + 0.000*\"yesterday\" + 0.000*\"time\" + 0.000*\"day\" + 0.000*\"police\" + 0.000*\"security\" + 0.000*\"year\"\n",
      "2017-11-20 11:42:47,464 : INFO : topic #23 (0.011): 0.001*\"company\" + 0.001*\"strachan\" + 0.001*\"australia\" + 0.001*\"flight\" + 0.001*\"helicopter\" + 0.001*\"scarfe\" + 0.001*\"people\" + 0.000*\"australian\" + 0.000*\"mountain\" + 0.000*\"turbulence\"\n",
      "2017-11-20 11:42:47,465 : INFO : topic #41 (0.012): 0.017*\"government\" + 0.011*\"security\" + 0.009*\"world\" + 0.009*\"september\" + 0.009*\"australia\" + 0.009*\"forces\" + 0.008*\"people\" + 0.008*\"way\" + 0.008*\"arafat\" + 0.007*\"attacks\"\n",
      "2017-11-20 11:42:47,466 : INFO : topic #35 (0.012): 0.015*\"pakistan\" + 0.010*\"drug\" + 0.010*\"measures\" + 0.010*\"area\" + 0.009*\"forces\" + 0.009*\"australia\" + 0.008*\"people\" + 0.008*\"members\" + 0.007*\"tora_bora\" + 0.007*\"staff\"\n",
      "2017-11-20 11:42:47,467 : INFO : topic #77 (0.012): 0.014*\"australia\" + 0.013*\"police\" + 0.012*\"man\" + 0.011*\"india\" + 0.010*\"afghanistan\" + 0.010*\"britain\" + 0.009*\"afghan\" + 0.008*\"agreement\" + 0.008*\"family\" + 0.008*\"hicks\"\n"
     ]
    },
    {
     "name": "stderr",
     "output_type": "stream",
     "text": [
      "2017-11-20 11:42:47,468 : INFO : topic diff=1.123924, rho=0.500000\n",
      "2017-11-20 11:42:47,805 : DEBUG : bound: at document #0\n",
      "2017-11-20 11:42:49,765 : INFO : -8.300 per-word bound, 315.1 perplexity estimate based on a held-out corpus of 300 documents with 18861 words\n",
      "2017-11-20 11:42:49,767 : INFO : PROGRESS: pass 3, at document #300/300\n",
      "2017-11-20 11:42:49,768 : DEBUG : performing inference on a chunk of 300 documents\n",
      "2017-11-20 11:42:50,537 : DEBUG : 300/300 documents converged within 200 iterations\n",
      "2017-11-20 11:42:50,546 : INFO : optimized alpha [0.011233303653230152, 0.011135842543051768, 0.011099507526409506, 0.0110988758787913, 0.011002169059490106, 0.011603775428331783, 0.01124553686754653, 0.011002727318884869, 0.011511086704534365, 0.011504843547371682, 0.011003217539639469, 0.010906729020322187, 0.011096292442581429, 0.011428067941056769, 0.011489005505092301, 0.011390964228314935, 0.011234222560675779, 0.011156829944911755, 0.011271137363129248, 0.010811749319642851, 0.011489778331536317, 0.011001169221708275, 0.011039957768815738, 0.010847598052714187, 0.011313010288656186, 0.011039427565812736, 0.011590676994223574, 0.011291804837681736, 0.011503182203865389, 0.01107636442111056, 0.011158453383355032, 0.011331287704503, 0.011039884766351007, 0.011053624566330762, 0.011491428963819231, 0.011803951658076637, 0.010907094742654454, 0.011412746419993744, 0.011488806665320881, 0.011273443988569462, 0.011004683268204177, 0.011768316151786296, 0.011039965189936269, 0.011232494944942637, 0.011293440038401634, 0.011114480850186927, 0.011195520796905563, 0.011093555684836451, 0.011488797456544547, 0.011098879838328584, 0.011429786591588944, 0.011391314864326027, 0.01135423182496679, 0.011486344412803131, 0.010811749319642848, 0.011232040821165145, 0.011491843743925756, 0.011002926482100621, 0.010943149077281401, 0.011252215885551536, 0.011351603171397414, 0.01139095432672307, 0.011232570926132704, 0.011038718929252919, 0.011332781432917261, 0.011060655748524202, 0.010906799263624816, 0.011291933250295497, 0.011196238924809226, 0.011490163262087277, 0.011330361340566825, 0.011626365843304802, 0.010906907014041603, 0.011526274937222886, 0.010907111834216365, 0.011196704879723613, 0.011097461001691447, 0.01190380769924195, 0.01128360129401966, 0.011135873476465566]\n",
      "2017-11-20 11:42:50,552 : DEBUG : updating topics\n",
      "2017-11-20 11:42:51,014 : INFO : topic #54 (0.011): 0.001*\"people\" + 0.001*\"australia\" + 0.001*\"today\" + 0.001*\"government\" + 0.001*\"yesterday\" + 0.001*\"time\" + 0.001*\"day\" + 0.001*\"police\" + 0.001*\"security\" + 0.000*\"year\"\n",
      "2017-11-20 11:42:51,017 : INFO : topic #19 (0.011): 0.001*\"people\" + 0.001*\"australia\" + 0.001*\"today\" + 0.001*\"government\" + 0.001*\"yesterday\" + 0.001*\"time\" + 0.001*\"day\" + 0.001*\"police\" + 0.001*\"security\" + 0.000*\"year\"\n",
      "2017-11-20 11:42:51,019 : INFO : topic #41 (0.012): 0.017*\"government\" + 0.011*\"security\" + 0.010*\"world\" + 0.009*\"forces\" + 0.009*\"september\" + 0.009*\"australia\" + 0.008*\"people\" + 0.008*\"way\" + 0.008*\"northern_alliance\" + 0.008*\"qantas\"\n",
      "2017-11-20 11:42:51,022 : INFO : topic #35 (0.012): 0.015*\"pakistan\" + 0.010*\"drug\" + 0.010*\"measures\" + 0.010*\"area\" + 0.009*\"australia\" + 0.009*\"forces\" + 0.008*\"members\" + 0.007*\"people\" + 0.007*\"staff\" + 0.007*\"aircraft\"\n",
      "2017-11-20 11:42:51,025 : INFO : topic #77 (0.012): 0.015*\"australia\" + 0.014*\"police\" + 0.012*\"man\" + 0.012*\"india\" + 0.010*\"britain\" + 0.009*\"afghanistan\" + 0.009*\"family\" + 0.009*\"hicks\" + 0.009*\"afroz\" + 0.008*\"agreement\"\n",
      "2017-11-20 11:42:51,030 : INFO : topic diff=0.909793, rho=0.447214\n",
      "2017-11-20 11:42:51,401 : DEBUG : bound: at document #0\n",
      "2017-11-20 11:42:52,877 : INFO : -8.167 per-word bound, 287.5 perplexity estimate based on a held-out corpus of 300 documents with 18861 words\n",
      "2017-11-20 11:42:52,882 : INFO : PROGRESS: pass 4, at document #300/300\n",
      "2017-11-20 11:42:52,888 : DEBUG : performing inference on a chunk of 300 documents\n",
      "2017-11-20 11:42:53,528 : DEBUG : 300/300 documents converged within 200 iterations\n",
      "2017-11-20 11:42:53,541 : INFO : optimized alpha [0.011047339665637715, 0.010937530254083025, 0.010902745545993494, 0.010902062085183906, 0.010793364194486772, 0.011452432915743506, 0.011074487893363207, 0.01079398433691321, 0.011396169486754527, 0.011340946908607928, 0.010794540700322279, 0.010686265186291559, 0.0109145154864399, 0.01126695964299065, 0.011341960202325287, 0.011230812168370911, 0.011048224154957775, 0.010973324643038469, 0.011083529365073761, 0.010579833106331987, 0.011375105235282734, 0.01079223846080671, 0.010860809837568257, 0.010614141642457445, 0.011155644632033557, 0.010829143398002419, 0.011456983717896973, 0.011119199492993916, 0.011339211109618552, 0.0108805149520604, 0.010975252975861232, 0.011157536285059784, 0.010829603410219577, 0.010888959860232784, 0.011344514621557344, 0.01167935303006324, 0.010686670595237556, 0.011268470384211082, 0.011341472422956925, 0.011085762320388413, 0.010796157178362197, 0.011645135891924049, 0.010829728886060501, 0.011045815380714507, 0.011121175358099653, 0.01090116567027387, 0.01101078323129593, 0.010928364344587478, 0.011341792551894948, 0.01090170255044211, 0.011268738538642796, 0.011231401197845686, 0.011163755555787257, 0.011338835111193123, 0.010579833106331983, 0.011045826340687693, 0.011345182762817575, 0.010794205580278689, 0.010736651347206418, 0.011065361539634071, 0.011192963408524369, 0.011231231107987127, 0.011046431852946733, 0.010828463524915018, 0.011159179439376091, 0.010865154293550883, 0.010686343051165703, 0.011119179514901796, 0.011011412171553554, 0.011342967214026058, 0.011156477641269705, 0.011474505275468012, 0.010686462494631668, 0.011377758438868355, 0.010686689541615634, 0.011012128291112427, 0.010900468001521862, 0.011775328581117513, 0.01117457841144235, 0.010937450352831496]\n",
      "2017-11-20 11:42:53,555 : DEBUG : updating topics\n",
      "2017-11-20 11:42:54,016 : INFO : topic #54 (0.011): 0.001*\"people\" + 0.001*\"australia\" + 0.001*\"today\" + 0.001*\"government\" + 0.001*\"yesterday\" + 0.001*\"time\" + 0.001*\"day\" + 0.001*\"police\" + 0.001*\"security\" + 0.001*\"year\"\n",
      "2017-11-20 11:42:54,017 : INFO : topic #19 (0.011): 0.001*\"people\" + 0.001*\"australia\" + 0.001*\"today\" + 0.001*\"government\" + 0.001*\"yesterday\" + 0.001*\"time\" + 0.001*\"day\" + 0.001*\"police\" + 0.001*\"security\" + 0.001*\"year\"\n",
      "2017-11-20 11:42:54,017 : INFO : topic #41 (0.012): 0.016*\"government\" + 0.011*\"security\" + 0.010*\"world\" + 0.010*\"forces\" + 0.010*\"september\" + 0.009*\"people\" + 0.008*\"australia\" + 0.008*\"way\" + 0.008*\"northern_alliance\" + 0.008*\"qantas\"\n",
      "2017-11-20 11:42:54,018 : INFO : topic #35 (0.012): 0.014*\"pakistan\" + 0.011*\"drug\" + 0.011*\"measures\" + 0.011*\"area\" + 0.009*\"australia\" + 0.009*\"forces\" + 0.009*\"members\" + 0.007*\"staff\" + 0.007*\"aircraft\" + 0.007*\"boat\"\n",
      "2017-11-20 11:42:54,019 : INFO : topic #77 (0.012): 0.015*\"australia\" + 0.014*\"police\" + 0.013*\"man\" + 0.012*\"india\" + 0.010*\"britain\" + 0.009*\"afghanistan\" + 0.009*\"family\" + 0.009*\"hicks\" + 0.009*\"afroz\" + 0.008*\"agreement\"\n",
      "2017-11-20 11:42:54,020 : INFO : topic diff=0.759378, rho=0.408248\n",
      "2017-11-20 11:42:54,222 : DEBUG : Setting topics to those of the model: LdaModel(num_terms=4431, num_topics=80, decay=0.5, chunksize=300)\n",
      "2017-11-20 11:42:54,229 : INFO : using ParallelWordOccurrenceAccumulator(processes=3, batch_size=64) to estimate probabilities from sliding windows\n",
      "2017-11-20 11:42:54,548 : DEBUG : completed batch 0; 64 documents processed (92 virtual)\n",
      "2017-11-20 11:42:54,634 : DEBUG : completed batch 0; 64 documents processed (258 virtual)\n",
      "2017-11-20 11:42:54,657 : DEBUG : completed batch 0; 64 documents processed (305 virtual)\n",
      "2017-11-20 11:42:54,689 : DEBUG : observed sentinel value; terminating\n",
      "2017-11-20 11:42:54,696 : DEBUG : finished all batches; 64 documents processed (305 virtual)\n",
      "2017-11-20 11:42:54,702 : INFO : serializing accumulator to return to master...\n",
      "2017-11-20 11:42:54,726 : INFO : accumulator serialized\n",
      "2017-11-20 11:42:54,858 : DEBUG : completed batch 1; 108 documents processed (485 virtual)\n",
      "2017-11-20 11:42:54,860 : DEBUG : observed sentinel value; terminating\n",
      "2017-11-20 11:42:54,883 : DEBUG : finished all batches; 108 documents processed (485 virtual)\n",
      "2017-11-20 11:42:54,886 : INFO : serializing accumulator to return to master...\n"
     ]
    },
    {
     "name": "stderr",
     "output_type": "stream",
     "text": [
      "2017-11-20 11:42:54,890 : DEBUG : completed batch 1; 128 documents processed (332 virtual)\n",
      "2017-11-20 11:42:54,891 : DEBUG : observed sentinel value; terminating\n",
      "2017-11-20 11:42:54,891 : INFO : accumulator serialized\n",
      "2017-11-20 11:42:54,892 : DEBUG : finished all batches; 128 documents processed (332 virtual)\n",
      "2017-11-20 11:42:54,893 : INFO : serializing accumulator to return to master...\n",
      "2017-11-20 11:42:54,894 : INFO : accumulator serialized\n",
      "2017-11-20 11:42:54,998 : INFO : 3 accumulators retrieved from output queue\n",
      "2017-11-20 11:42:55,084 : INFO : accumulated word occurrence stats for 1122 virtual documents\n",
      "2017-11-20 11:42:59,010 : INFO : using autotuned alpha, starting with [0.011111111111111112, 0.011111111111111112, 0.011111111111111112, 0.011111111111111112, 0.011111111111111112, 0.011111111111111112, 0.011111111111111112, 0.011111111111111112, 0.011111111111111112, 0.011111111111111112, 0.011111111111111112, 0.011111111111111112, 0.011111111111111112, 0.011111111111111112, 0.011111111111111112, 0.011111111111111112, 0.011111111111111112, 0.011111111111111112, 0.011111111111111112, 0.011111111111111112, 0.011111111111111112, 0.011111111111111112, 0.011111111111111112, 0.011111111111111112, 0.011111111111111112, 0.011111111111111112, 0.011111111111111112, 0.011111111111111112, 0.011111111111111112, 0.011111111111111112, 0.011111111111111112, 0.011111111111111112, 0.011111111111111112, 0.011111111111111112, 0.011111111111111112, 0.011111111111111112, 0.011111111111111112, 0.011111111111111112, 0.011111111111111112, 0.011111111111111112, 0.011111111111111112, 0.011111111111111112, 0.011111111111111112, 0.011111111111111112, 0.011111111111111112, 0.011111111111111112, 0.011111111111111112, 0.011111111111111112, 0.011111111111111112, 0.011111111111111112, 0.011111111111111112, 0.011111111111111112, 0.011111111111111112, 0.011111111111111112, 0.011111111111111112, 0.011111111111111112, 0.011111111111111112, 0.011111111111111112, 0.011111111111111112, 0.011111111111111112, 0.011111111111111112, 0.011111111111111112, 0.011111111111111112, 0.011111111111111112, 0.011111111111111112, 0.011111111111111112, 0.011111111111111112, 0.011111111111111112, 0.011111111111111112, 0.011111111111111112, 0.011111111111111112, 0.011111111111111112, 0.011111111111111112, 0.011111111111111112, 0.011111111111111112, 0.011111111111111112, 0.011111111111111112, 0.011111111111111112, 0.011111111111111112, 0.011111111111111112, 0.011111111111111112, 0.011111111111111112, 0.011111111111111112, 0.011111111111111112, 0.011111111111111112, 0.011111111111111112, 0.011111111111111112, 0.011111111111111112, 0.011111111111111112, 0.011111111111111112]\n",
      "2017-11-20 11:42:59,011 : INFO : using serial LDA version on this node\n",
      "2017-11-20 11:43:03,477 : INFO : running online (multi-pass) LDA training, 90 topics, 5 passes over the supplied corpus of 300 documents, updating model once every 300 documents, evaluating perplexity every 300 documents, iterating 200x with a convergence threshold of 0.001000\n",
      "2017-11-20 11:43:03,477 : WARNING : too few updates, training might not converge; consider increasing the number of passes or iterations to improve accuracy\n",
      "2017-11-20 11:43:08,039 : DEBUG : bound: at document #0\n",
      "2017-11-20 11:43:11,262 : INFO : -72.233 per-word bound, 5549208789334262546432.0 perplexity estimate based on a held-out corpus of 300 documents with 18861 words\n",
      "2017-11-20 11:43:11,262 : INFO : PROGRESS: pass 0, at document #300/300\n",
      "2017-11-20 11:43:11,263 : DEBUG : performing inference on a chunk of 300 documents\n",
      "2017-11-20 11:43:14,305 : DEBUG : 253/300 documents converged within 200 iterations\n",
      "2017-11-20 11:43:14,316 : INFO : optimized alpha [0.010882333724387473, 0.010727469849350911, 0.010765295310467033, 0.010689192686762944, 0.010611503429810277, 0.010650402735584596, 0.010766749703687547, 0.010727177730344695, 0.010727591709670805, 0.010611230731000291, 0.010919151963282192, 0.010844261982386654, 0.010611254468411851, 0.010649935964937832, 0.010727704666895521, 0.010649875914559844, 0.010688842373428376, 0.010609767460390312, 0.010688947556698967, 0.010533703185855191, 0.010805221441392331, 0.010726966661720476, 0.01096084189290196, 0.010610774613135815, 0.01064995684686486, 0.010765222078253598, 0.010883836094298185, 0.010650144042842128, 0.010805636672488994, 0.010610784148239275, 0.010690162348522145, 0.01065044120722387, 0.010649307546724829, 0.010611184962699985, 0.010689743457132689, 0.010611014156993922, 0.010533703185820789, 0.010572592586912472, 0.010571871769600746, 0.010726026320178996, 0.010650048131433316, 0.010611416603925415, 0.010764279458852829, 0.010727160228970434, 0.010806029709727136, 0.010727905310987914, 0.010844943540376278, 0.010803747573842275, 0.010727838245443485, 0.010767183630953253, 0.010688874031079551, 0.01061102406919078, 0.010727786190553375, 0.010765238469278376, 0.010728622202474666, 0.010533703185820789, 0.010533703185820789, 0.01057276327714588, 0.010882558069448421, 0.010765073033167278, 0.010806440528106117, 0.010689519072976324, 0.010689447670510078, 0.010572056661659663, 0.010611497733795369, 0.010688732504952253, 0.010726262022119466, 0.010611449387811391, 0.010767500543480676, 0.010650139678092028, 0.010845007347012263, 0.01072729017745996, 0.010727934769216116, 0.010728014371283855, 0.010725684633361907, 0.010803024442469016, 0.010650868426513046, 0.010533703185820789, 0.010767262212000247, 0.010728547157391846, 0.010611673395451295, 0.010649863777562159, 0.010650377785428745, 0.010650341202406035, 0.010650297734379543, 0.010766886661708141, 0.010572964640886711, 0.010533703187997132, 0.010611194122761142, 0.010572382484796734]\n",
      "2017-11-20 11:43:14,323 : DEBUG : updating topics\n",
      "2017-11-20 11:43:14,691 : INFO : topic #36 (0.011): 0.000*\"collins\" + 0.000*\"mounted\" + 0.000*\"kingham\" + 0.000*\"martin\" + 0.000*\"victorian\" + 0.000*\"slogans\" + 0.000*\"intersection\" + 0.000*\"hawke\" + 0.000*\"square\" + 0.000*\"cfmeu\"\n",
      "2017-11-20 11:43:14,691 : INFO : topic #87 (0.011): 0.000*\"collins\" + 0.000*\"mounted\" + 0.000*\"kingham\" + 0.000*\"martin\" + 0.000*\"victorian\" + 0.000*\"slogans\" + 0.000*\"intersection\" + 0.000*\"hawke\" + 0.000*\"square\" + 0.000*\"cfmeu\"\n",
      "2017-11-20 11:43:14,693 : INFO : topic #26 (0.011): 0.017*\"australia\" + 0.010*\"reid\" + 0.010*\"test\" + 0.009*\"economy\" + 0.008*\"time\" + 0.007*\"endeavour\" + 0.007*\"union\" + 0.007*\"boje\" + 0.007*\"hollingworth\" + 0.007*\"hotel\"\n",
      "2017-11-20 11:43:14,694 : INFO : topic #58 (0.011): 0.015*\"sydney\" + 0.014*\"police\" + 0.013*\"afghanistan\" + 0.013*\"today\" + 0.010*\"troops\" + 0.010*\"south\" + 0.009*\"area\" + 0.009*\"india\" + 0.009*\"lockett\" + 0.009*\"forces\"\n",
      "2017-11-20 11:43:14,695 : INFO : topic #22 (0.011): 0.016*\"israeli\" + 0.013*\"arafat\" + 0.011*\"australia\" + 0.008*\"government\" + 0.008*\"police\" + 0.008*\"west_bank\" + 0.008*\"year\" + 0.008*\"officials\" + 0.007*\"attacks\" + 0.007*\"world\"\n",
      "2017-11-20 11:43:14,696 : INFO : topic diff=83.364361, rho=1.000000\n",
      "2017-11-20 11:43:15,029 : DEBUG : bound: at document #0\n",
      "2017-11-20 11:43:16,484 : INFO : -8.678 per-word bound, 409.7 perplexity estimate based on a held-out corpus of 300 documents with 18861 words\n",
      "2017-11-20 11:43:16,490 : INFO : PROGRESS: pass 1, at document #300/300\n",
      "2017-11-20 11:43:16,492 : DEBUG : performing inference on a chunk of 300 documents\n",
      "2017-11-20 11:43:17,022 : DEBUG : 300/300 documents converged within 200 iterations\n",
      "2017-11-20 11:43:17,030 : INFO : optimized alpha [0.010689395625071759, 0.010541948922827558, 0.010535065698062651, 0.010441228817887416, 0.010346107368597382, 0.010404053453521651, 0.010579733515158129, 0.010498212014775677, 0.010498938994351857, 0.010366625015322237, 0.010769372848064637, 0.010675063645299469, 0.010345848700278779, 0.010425107503302522, 0.010499427678649143, 0.01042410828496711, 0.010462150965224468, 0.010344147954459006, 0.010462307080029458, 0.010230002436202224, 0.010616036039589513, 0.01049862339698172, 0.010809133018734587, 0.01032388555721103, 0.010382639333620373, 0.010534593373935712, 0.010713221476464363, 0.010404186354856626, 0.010595057955005921, 0.010345351868796548, 0.010633993988352627, 0.010404449219465166, 0.010402980963556638, 0.010345638355430046, 0.010463543714590367, 0.010345549632175698, 0.010230002436169811, 0.010287961294328751, 0.010265966525951749, 0.010476195171526733, 0.010403868069040501, 0.010345939216442073, 0.01053389137072404, 0.010498512229939074, 0.010595698586054492, 0.010499766890975131, 0.010676492453443216, 0.010614968772509659, 0.010499390890625931, 0.010601706202189842, 0.010462501902967559, 0.010302849236857495, 0.010499585901042873, 0.01051316118548151, 0.010543523389201679, 0.010230002436169811, 0.010230002436169811, 0.010288211700094961, 0.010777415706094688, 0.010577952569444793, 0.010639893792732502, 0.010484414633943452, 0.010463063007778687, 0.010266140719851276, 0.010367187352195519, 0.010440688774124471, 0.010476125723992735, 0.01034602777813492, 0.010602056877120637, 0.010425577527221917, 0.010676623378600904, 0.01052004713421472, 0.010520698911211188, 0.0105211726657416, 0.01045396349284536, 0.010592488135609535, 0.010446869079027097, 0.010230002436169811, 0.010623159145261706, 0.010543341880885503, 0.010367177556114176, 0.010382387664005807, 0.010404355456065908, 0.01044574968937774, 0.01040438797071013, 0.010557952548408096, 0.010288516519052401, 0.010230002438220673, 0.010324511852805191, 0.010287653076988821]\n"
     ]
    },
    {
     "name": "stderr",
     "output_type": "stream",
     "text": [
      "2017-11-20 11:43:17,032 : DEBUG : updating topics\n",
      "2017-11-20 11:43:17,396 : INFO : topic #87 (0.010): 0.000*\"people\" + 0.000*\"australia\" + 0.000*\"government\" + 0.000*\"today\" + 0.000*\"time\" + 0.000*\"day\" + 0.000*\"united_states\" + 0.000*\"days\" + 0.000*\"year\" + 0.000*\"yesterday\"\n",
      "2017-11-20 11:43:17,398 : INFO : topic #56 (0.010): 0.000*\"people\" + 0.000*\"australia\" + 0.000*\"government\" + 0.000*\"today\" + 0.000*\"time\" + 0.000*\"day\" + 0.000*\"united_states\" + 0.000*\"days\" + 0.000*\"year\" + 0.000*\"yesterday\"\n",
      "2017-11-20 11:43:17,400 : INFO : topic #10 (0.011): 0.015*\"report\" + 0.013*\"people\" + 0.011*\"cent\" + 0.011*\"markets\" + 0.009*\"year\" + 0.009*\"krishna\" + 0.009*\"growth\" + 0.008*\"hare\" + 0.008*\"australia\" + 0.008*\"company\"\n",
      "2017-11-20 11:43:17,402 : INFO : topic #22 (0.011): 0.017*\"israeli\" + 0.013*\"arafat\" + 0.010*\"australia\" + 0.009*\"world\" + 0.009*\"islamic\" + 0.009*\"attacks\" + 0.008*\"government\" + 0.008*\"police\" + 0.008*\"officials\" + 0.008*\"year\"\n",
      "2017-11-20 11:43:17,404 : INFO : topic #58 (0.011): 0.016*\"afghanistan\" + 0.015*\"police\" + 0.015*\"sydney\" + 0.012*\"today\" + 0.011*\"australian\" + 0.010*\"forces\" + 0.010*\"hicks\" + 0.010*\"south\" + 0.010*\"area\" + 0.010*\"troops\"\n",
      "2017-11-20 11:43:17,406 : INFO : topic diff=2.099701, rho=0.577350\n",
      "2017-11-20 11:43:17,738 : DEBUG : bound: at document #0\n",
      "2017-11-20 11:43:18,799 : INFO : -8.439 per-word bound, 347.2 perplexity estimate based on a held-out corpus of 300 documents with 18861 words\n",
      "2017-11-20 11:43:18,805 : INFO : PROGRESS: pass 2, at document #300/300\n",
      "2017-11-20 11:43:18,808 : DEBUG : performing inference on a chunk of 300 documents\n",
      "2017-11-20 11:43:19,450 : DEBUG : 300/300 documents converged within 200 iterations\n",
      "2017-11-20 11:43:19,469 : INFO : optimized alpha [0.01052793793429924, 0.010386654682977413, 0.010343661494448776, 0.010235620293306651, 0.01012659364666924, 0.010199854850544967, 0.010423262696490842, 0.010307767898750854, 0.010308949452041536, 0.010163878989327729, 0.01064305669701434, 0.010514608286097583, 0.01014394254802182, 0.010255733832351881, 0.010309602176882048, 0.010307750552209304, 0.010273617084734751, 0.010124519728333619, 0.01027381316489661, 0.0099800893689217379, 0.010439716628097317, 0.010308776794547272, 0.01068106056447655, 0.010087269401301968, 0.010161577237900739, 0.010342875435856387, 0.010569715945226483, 0.010200160841988061, 0.010419470004650714, 0.010125811008304376, 0.010603708969494915, 0.010200432197142884, 0.010198801232748286, 0.010126008039660014, 0.010275386040148524, 0.010125983374979849, 0.0099800893688909119, 0.010053150009117244, 0.010014293504350267, 0.010269079677874472, 0.010199704423081619, 0.010108451193037713, 0.010342363709982936, 0.010308395476200079, 0.010420382796633664, 0.010310050183511476, 0.01053498836063509, 0.010475199520740688, 0.010309428555673641, 0.010480679727467399, 0.010274219760009027, 0.01004936489621645, 0.010309820650488619, 0.010304239931879535, 0.010388624388491918, 0.0099800893688909119, 0.0099800893688909119, 0.010053461746608478, 0.010687657792817494, 0.010421438877607029, 0.010499916833272978, 0.010313268081191724, 0.010274769866560122, 0.010014459158801363, 0.01016441198613122, 0.010235018390287677, 0.010268771427452077, 0.010126494269088883, 0.010463176069718605, 0.010274266650260414, 0.010535224673715043, 0.01034720235223625, 0.010329859951582816, 0.010348609085035338, 0.010229371660153818, 0.01041693639000228, 0.010276759634070714, 0.0099800893688909119, 0.010501572585651126, 0.010388191855183854, 0.010164464491720716, 0.010161202441331452, 0.01020031477869089, 0.010275073690334353, 0.010200435453610348, 0.010383810896605689, 0.010053846191749842, 0.0099800893708415894, 0.010088067325422933, 0.010052766309438223]\n",
      "2017-11-20 11:43:19,474 : DEBUG : updating topics\n",
      "2017-11-20 11:43:19,881 : INFO : topic #77 (0.010): 0.001*\"people\" + 0.000*\"australia\" + 0.000*\"government\" + 0.000*\"today\" + 0.000*\"time\" + 0.000*\"day\" + 0.000*\"united_states\" + 0.000*\"days\" + 0.000*\"year\" + 0.000*\"yesterday\"\n",
      "2017-11-20 11:43:19,883 : INFO : topic #87 (0.010): 0.001*\"people\" + 0.000*\"australia\" + 0.000*\"government\" + 0.000*\"today\" + 0.000*\"time\" + 0.000*\"day\" + 0.000*\"united_states\" + 0.000*\"days\" + 0.000*\"year\" + 0.000*\"yesterday\"\n",
      "2017-11-20 11:43:19,884 : INFO : topic #22 (0.011): 0.016*\"israeli\" + 0.012*\"arafat\" + 0.010*\"world\" + 0.010*\"islamic\" + 0.009*\"australia\" + 0.009*\"attacks\" + 0.009*\"police\" + 0.009*\"year\" + 0.009*\"officials\" + 0.009*\"whiting\"\n",
      "2017-11-20 11:43:19,885 : INFO : topic #10 (0.011): 0.015*\"report\" + 0.013*\"people\" + 0.011*\"cent\" + 0.011*\"markets\" + 0.010*\"krishna\" + 0.009*\"year\" + 0.009*\"growth\" + 0.009*\"hare\" + 0.009*\"benares\" + 0.009*\"ashes\"\n",
      "2017-11-20 11:43:19,886 : INFO : topic #58 (0.011): 0.017*\"afghanistan\" + 0.015*\"police\" + 0.014*\"sydney\" + 0.013*\"australian\" + 0.012*\"today\" + 0.011*\"hicks\" + 0.011*\"forces\" + 0.010*\"area\" + 0.009*\"south\" + 0.009*\"united_states\"\n",
      "2017-11-20 11:43:19,887 : INFO : topic diff=1.138988, rho=0.500000\n",
      "2017-11-20 11:43:20,226 : DEBUG : bound: at document #0\n",
      "2017-11-20 11:43:21,386 : INFO : -8.281 per-word bound, 311.0 perplexity estimate based on a held-out corpus of 300 documents with 18861 words\n",
      "2017-11-20 11:43:21,387 : INFO : PROGRESS: pass 3, at document #300/300\n",
      "2017-11-20 11:43:21,388 : DEBUG : performing inference on a chunk of 300 documents\n",
      "2017-11-20 11:43:22,117 : DEBUG : 300/300 documents converged within 200 iterations\n",
      "2017-11-20 11:43:22,141 : INFO : optimized alpha [0.010387741917917217, 0.01025173035801823, 0.010178305222888855, 0.010058377208941706, 0.0099377539412798081, 0.010023823303252627, 0.010303093245768708, 0.010143219913482942, 0.010144876539162946, 0.0099891039926448093, 0.010532635848412313, 0.010375296420947975, 0.00996988343518454, 0.010109066613810483, 0.01014557788861312, 0.010222053664651863, 0.010110689617641092, 0.0099355982850755278, 0.010110918529765121, 0.009766003323770386, 0.010287036835326054, 0.010144758320283651, 0.010569053767763606, 0.0098841942255880177, 0.0099714344701536846, 0.010177260974357717, 0.010428557062216057, 0.010024224688638127, 0.010267403781654482, 0.0099369499418114435, 0.010576327338089888, 0.010024530080153731, 0.010022766970514721, 0.0099370736213264463, 0.010112758006586887, 0.0099371013598628464, 0.0097660033237408819, 0.0098515835507998299, 0.0097987377343886906, 0.010090566916197953, 0.010023682519835063, 0.009904641706802152, 0.01017690668191127, 0.010144131815481426, 0.010268541555864636, 0.010146115321870925, 0.010411679281562057, 0.010353486699888201, 0.010145288646405759, 0.010374941900987051, 0.010111499010871069, 0.0098322969181322915, 0.010145845912037942, 0.010124210775503658, 0.010254039616933044, 0.0097660033237408819, 0.0097660033237408819, 0.0098519448226949222, 0.010608391307322794, 0.010285510314455876, 0.010377912110581334, 0.010164949267414729, 0.010112040204451179, 0.0097988962585703731, 0.0099893491929973974, 0.010057725069233404, 0.010090062878899228, 0.0099376384892814282, 0.010358057315734472, 0.010174186203488377, 0.010412031687051768, 0.010197469313832253, 0.01016498193151491, 0.010199089152470215, 0.010036271921806313, 0.010264902117181613, 0.010129384208373591, 0.0097660033237408819, 0.010395103796741785, 0.010253337813890092, 0.0099897061988917357, 0.009970959429301372, 0.010024381433552065, 0.01011144792920452, 0.010024586337826614, 0.010233004968114535, 0.0098523936084583819, 0.0097660033256078849, 0.0098851385147177336, 0.009851138887445458]\n",
      "2017-11-20 11:43:22,145 : DEBUG : updating topics\n",
      "2017-11-20 11:43:22,641 : INFO : topic #56 (0.010): 0.001*\"people\" + 0.001*\"australia\" + 0.001*\"government\" + 0.001*\"today\" + 0.001*\"time\" + 0.001*\"day\" + 0.000*\"united_states\" + 0.000*\"days\" + 0.000*\"year\" + 0.000*\"yesterday\"\n",
      "2017-11-20 11:43:22,643 : INFO : topic #63 (0.010): 0.002*\"union\" + 0.002*\"unions\" + 0.002*\"commissioner\" + 0.001*\"construction\" + 0.001*\"support\" + 0.001*\"today\" + 0.001*\"melbourne\" + 0.001*\"building_industry\" + 0.001*\"claims\" + 0.001*\"officials\"\n",
      "2017-11-20 11:43:22,644 : INFO : topic #30 (0.011): 0.029*\"arafat\" + 0.021*\"security\" + 0.020*\"west_bank\" + 0.019*\"israel\" + 0.019*\"authority\" + 0.018*\"militants\" + 0.016*\"israeli\" + 0.016*\"police\" + 0.014*\"sharon\" + 0.014*\"gaza_strip\"\n"
     ]
    },
    {
     "name": "stderr",
     "output_type": "stream",
     "text": [
      "2017-11-20 11:43:22,657 : INFO : topic #22 (0.011): 0.016*\"israeli\" + 0.011*\"world\" + 0.010*\"islamic\" + 0.010*\"arafat\" + 0.010*\"attacks\" + 0.009*\"police\" + 0.009*\"year\" + 0.009*\"man\" + 0.009*\"whiting\" + 0.009*\"officials\"\n",
      "2017-11-20 11:43:22,658 : INFO : topic #58 (0.011): 0.017*\"afghanistan\" + 0.016*\"police\" + 0.014*\"sydney\" + 0.013*\"australian\" + 0.012*\"today\" + 0.012*\"hicks\" + 0.011*\"forces\" + 0.010*\"united_states\" + 0.010*\"area\" + 0.009*\"south\"\n",
      "2017-11-20 11:43:22,660 : INFO : topic diff=0.923360, rho=0.447214\n",
      "2017-11-20 11:43:23,059 : DEBUG : bound: at document #0\n",
      "2017-11-20 11:43:25,011 : INFO : -8.164 per-word bound, 286.8 perplexity estimate based on a held-out corpus of 300 documents with 18861 words\n",
      "2017-11-20 11:43:25,018 : INFO : PROGRESS: pass 4, at document #300/300\n",
      "2017-11-20 11:43:25,020 : DEBUG : performing inference on a chunk of 300 documents\n",
      "2017-11-20 11:43:25,565 : DEBUG : 300/300 documents converged within 200 iterations\n",
      "2017-11-20 11:43:25,575 : INFO : optimized alpha [0.010263081468358661, 0.010131680271561094, 0.0100318976311791, 0.0099017376512631483, 0.0097711619968381506, 0.0098682423154810607, 0.010195963357807153, 0.0099834632777262514, 0.0099996216363144024, 0.0098346261393617556, 0.010433877129061379, 0.010251416716812449, 0.0098160321353017947, 0.0099788935643066578, 0.010000325360632082, 0.010145270824129332, 0.0099802971919013706, 0.0097689418093211983, 0.0099666503915933381, 0.0095778223608199309, 0.010151581509022966, 0.009999523338946088, 0.010468850789665725, 0.0097054046523208787, 0.0098037148730028261, 0.010030634541005216, 0.010303058901866266, 0.0098686994763829746, 0.010132477100907176, 0.0097703406491957065, 0.010550931896301753, 0.0098690520968143271, 0.0098671783528204906, 0.0097704023362466079, 0.0099687096193972497, 0.0097704742655545778, 0.0095778223607915613, 0.0096740919247589041, 0.009609293334877745, 0.0099328275764383502, 0.0098681036788367, 0.0097388313474062807, 0.010030414360475524, 0.0099986766463628588, 0.010133806318919443, 0.010000938504905351, 0.010301685986218284, 0.010244933400960594, 0.0099999357035284731, 0.010280334708096207, 0.0099673781646700457, 0.0096415528624154371, 0.010000635353911509, 0.00996516181702547, 0.010134284353849219, 0.0095778223607915613, 0.0095778223607915613, 0.0096744944781233123, 0.010536879690925966, 0.010164595699622671, 0.01026906722507768, 0.010033276309310864, 0.0099679116890291058, 0.0096094457302865893, 0.0098345471749865243, 0.0099010434512498344, 0.0099321581303047392, 0.0097710330793985539, 0.010264072647163737, 0.010084676309556034, 0.010302151376432537, 0.010064577118870878, 0.010018990112393194, 0.010066368909564704, 0.0098660037714839652, 0.010130004235961353, 0.0099985661043076011, 0.0095778223607915613, 0.010299695874053565, 0.0101333308569537, 0.0098352443301743444, 0.009803155676705878, 0.009868865361661967, 0.009966456219662443, 0.0098691532219633941, 0.010099191552521961, 0.0096749969049168411, 0.0095778223625866254, 0.0097064717930297108, 0.0096735964565367403]\n",
      "2017-11-20 11:43:25,577 : DEBUG : updating topics\n",
      "2017-11-20 11:43:26,085 : INFO : topic #36 (0.010): 0.001*\"people\" + 0.001*\"australia\" + 0.001*\"government\" + 0.001*\"today\" + 0.001*\"time\" + 0.001*\"day\" + 0.001*\"united_states\" + 0.001*\"days\" + 0.001*\"year\" + 0.001*\"yesterday\"\n",
      "2017-11-20 11:43:26,086 : INFO : topic #56 (0.010): 0.001*\"people\" + 0.001*\"australia\" + 0.001*\"government\" + 0.001*\"today\" + 0.001*\"time\" + 0.001*\"day\" + 0.001*\"united_states\" + 0.001*\"days\" + 0.001*\"year\" + 0.001*\"yesterday\"\n",
      "2017-11-20 11:43:26,094 : INFO : topic #22 (0.010): 0.015*\"israeli\" + 0.012*\"world\" + 0.010*\"islamic\" + 0.010*\"police\" + 0.010*\"year\" + 0.010*\"man\" + 0.010*\"whiting\" + 0.010*\"attacks\" + 0.009*\"officials\" + 0.009*\"forces\"\n",
      "2017-11-20 11:43:26,107 : INFO : topic #58 (0.011): 0.018*\"afghanistan\" + 0.016*\"police\" + 0.014*\"sydney\" + 0.014*\"australian\" + 0.012*\"today\" + 0.012*\"hicks\" + 0.011*\"forces\" + 0.010*\"united_states\" + 0.009*\"area\" + 0.009*\"south\"\n",
      "2017-11-20 11:43:26,107 : INFO : topic #30 (0.011): 0.031*\"arafat\" + 0.021*\"israel\" + 0.021*\"west_bank\" + 0.020*\"security\" + 0.019*\"authority\" + 0.018*\"israeli\" + 0.018*\"militants\" + 0.016*\"sharon\" + 0.015*\"police\" + 0.014*\"gaza_strip\"\n",
      "2017-11-20 11:43:26,110 : INFO : topic diff=0.772971, rho=0.408248\n",
      "2017-11-20 11:43:26,349 : DEBUG : Setting topics to those of the model: LdaModel(num_terms=4431, num_topics=90, decay=0.5, chunksize=300)\n",
      "2017-11-20 11:43:26,358 : INFO : using ParallelWordOccurrenceAccumulator(processes=3, batch_size=64) to estimate probabilities from sliding windows\n",
      "2017-11-20 11:43:26,633 : DEBUG : completed batch 0; 64 documents processed (258 virtual)\n",
      "2017-11-20 11:43:26,661 : DEBUG : completed batch 0; 64 documents processed (92 virtual)\n",
      "2017-11-20 11:43:26,926 : DEBUG : completed batch 1; 108 documents processed (319 virtual)\n",
      "2017-11-20 11:43:26,927 : DEBUG : observed sentinel value; terminating\n",
      "2017-11-20 11:43:26,928 : DEBUG : finished all batches; 108 documents processed (319 virtual)\n",
      "2017-11-20 11:43:26,912 : DEBUG : completed batch 0; 64 documents processed (305 virtual)\n",
      "2017-11-20 11:43:26,929 : INFO : serializing accumulator to return to master...\n",
      "2017-11-20 11:43:26,930 : INFO : accumulator serialized\n",
      "2017-11-20 11:43:26,930 : DEBUG : observed sentinel value; terminating\n",
      "2017-11-20 11:43:26,954 : DEBUG : finished all batches; 64 documents processed (305 virtual)\n",
      "2017-11-20 11:43:26,955 : INFO : serializing accumulator to return to master...\n",
      "2017-11-20 11:43:26,959 : INFO : accumulator serialized\n",
      "2017-11-20 11:43:27,090 : DEBUG : completed batch 1; 128 documents processed (498 virtual)\n",
      "2017-11-20 11:43:27,104 : DEBUG : observed sentinel value; terminating\n",
      "2017-11-20 11:43:27,106 : DEBUG : finished all batches; 128 documents processed (498 virtual)\n",
      "2017-11-20 11:43:27,114 : INFO : serializing accumulator to return to master...\n",
      "2017-11-20 11:43:27,124 : INFO : accumulator serialized\n",
      "2017-11-20 11:43:27,224 : INFO : 3 accumulators retrieved from output queue\n",
      "2017-11-20 11:43:27,315 : INFO : accumulated word occurrence stats for 1122 virtual documents\n",
      "2017-11-20 11:43:31,542 : INFO : using autotuned alpha, starting with [0.01, 0.01, 0.01, 0.01, 0.01, 0.01, 0.01, 0.01, 0.01, 0.01, 0.01, 0.01, 0.01, 0.01, 0.01, 0.01, 0.01, 0.01, 0.01, 0.01, 0.01, 0.01, 0.01, 0.01, 0.01, 0.01, 0.01, 0.01, 0.01, 0.01, 0.01, 0.01, 0.01, 0.01, 0.01, 0.01, 0.01, 0.01, 0.01, 0.01, 0.01, 0.01, 0.01, 0.01, 0.01, 0.01, 0.01, 0.01, 0.01, 0.01, 0.01, 0.01, 0.01, 0.01, 0.01, 0.01, 0.01, 0.01, 0.01, 0.01, 0.01, 0.01, 0.01, 0.01, 0.01, 0.01, 0.01, 0.01, 0.01, 0.01, 0.01, 0.01, 0.01, 0.01, 0.01, 0.01, 0.01, 0.01, 0.01, 0.01, 0.01, 0.01, 0.01, 0.01, 0.01, 0.01, 0.01, 0.01, 0.01, 0.01, 0.01, 0.01, 0.01, 0.01, 0.01, 0.01, 0.01, 0.01, 0.01, 0.01]\n",
      "2017-11-20 11:43:31,543 : INFO : using serial LDA version on this node\n",
      "2017-11-20 11:43:36,505 : INFO : running online (multi-pass) LDA training, 100 topics, 5 passes over the supplied corpus of 300 documents, updating model once every 300 documents, evaluating perplexity every 300 documents, iterating 200x with a convergence threshold of 0.001000\n",
      "2017-11-20 11:43:36,506 : WARNING : too few updates, training might not converge; consider increasing the number of passes or iterations to improve accuracy\n",
      "2017-11-20 11:43:41,651 : DEBUG : bound: at document #0\n",
      "2017-11-20 11:43:49,536 : INFO : -81.586 per-word bound, 3630348464348427267866624.0 perplexity estimate based on a held-out corpus of 300 documents with 18861 words\n",
      "2017-11-20 11:43:49,554 : INFO : PROGRESS: pass 0, at document #300/300\n",
      "2017-11-20 11:43:49,555 : DEBUG : performing inference on a chunk of 300 documents\n",
      "2017-11-20 11:43:53,995 : DEBUG : 263/300 documents converged within 200 iterations\n",
      "2017-11-20 11:43:54,004 : INFO : optimized alpha [0.0096372813680390551, 0.0096020017937925219, 0.009741390734626201, 0.0097069711240345361, 0.0096369840892931106, 0.0096720304769390506, 0.0095676650934051546, 0.0096369557178962156, 0.0098809652275550271, 0.0096725449692184155, 0.0096027069094141333, 0.0096027315780534816, 0.0096027752750033925, 0.0097417421304319789, 0.009811658799703844, 0.0096021697626026119, 0.0096022328396721691, 0.0097073042423830459, 0.0098422245374455812, 0.010055449190281941, 0.0096027460355996193, 0.0096025833954457122, 0.0096715886592767496, 0.0097073124172425938, 0.0096025135313564259, 0.0095328497124028428, 0.0095675726534076785, 0.0096721545767643382, 0.0096024656742120743, 0.0096717881279099541, 0.0095675350658325428, 0.0096368329892501398, 0.0095328497120138102, 0.0099496110489450344, 0.0097412145811555662, 0.0096373934990913804, 0.0096372799787887656, 0.0097414662722332731, 0.0098807380885758463, 0.0096372075373639156, 0.009637657280789946, 0.0096718918441843528, 0.0096716105304313557, 0.0098800700332777307, 0.0097753979710029186, 0.0097066466262607318, 0.0096021255744571012, 0.0097076880677402499, 0.0096716783124767246, 0.0095328497120138085, 0.0096365859213584058, 0.0096375893955718394, 0.0097757798343848495, 0.0096371164456148222, 0.0096024228730455727, 0.0095677922530370777, 0.0097410506175257244, 0.0095676717576624881, 0.0097761906996554366, 0.0098458821449044897, 0.0095674047166604704, 0.0095680311898616657, 0.0097410637578847908, 0.00963742669208076, 0.0095328497120138224, 0.0096028620303946263, 0.0096708871313644154, 0.0095675350109393834, 0.0097071892752701085, 0.0096028542036932507, 0.0095328497120138085, 0.0097070121708618604, 0.0097408239790398605, 0.009637277505273498, 0.0096023631134477538, 0.0095672991285205063, 0.0095677922540683049, 0.009741070339787149, 0.0095676582931745555, 0.0096025525024845664, 0.0095675635851229773, 0.0096370085352483828, 0.0095677117535793114, 0.0096722770134863561, 0.0096722447164722287, 0.009602268335294312, 0.0095675814064840794, 0.0095677684586464775, 0.009636983682048161, 0.0096024184811225669, 0.0096012993224979266, 0.0097416277301771055, 0.0096372549676944641, 0.009602601614942181, 0.0096026343434307531, 0.0097753382556243201, 0.0096719346694227205, 0.009741558823265271, 0.0096024344472506983, 0.0095674453778788471]\n"
     ]
    },
    {
     "name": "stderr",
     "output_type": "stream",
     "text": [
      "2017-11-20 11:43:54,010 : DEBUG : updating topics\n",
      "2017-11-20 11:43:54,420 : INFO : topic #25 (0.010): 0.000*\"collins\" + 0.000*\"mounted\" + 0.000*\"kingham\" + 0.000*\"martin\" + 0.000*\"victorian\" + 0.000*\"slogans\" + 0.000*\"intersection\" + 0.000*\"hawke\" + 0.000*\"square\" + 0.000*\"cfmeu\"\n",
      "2017-11-20 11:43:54,421 : INFO : topic #99 (0.010): 0.027*\"source\" + 0.021*\"soldiers\" + 0.017*\"militants\" + 0.016*\"ismail\" + 0.016*\"security\" + 0.016*\"police\" + 0.013*\"wave\" + 0.012*\"arrests\" + 0.012*\"west_bank\" + 0.012*\"palestinians\"\n",
      "2017-11-20 11:43:54,428 : INFO : topic #8 (0.010): 0.017*\"arafat\" + 0.014*\"union\" + 0.012*\"staff\" + 0.011*\"pay\" + 0.011*\"australia\" + 0.010*\"israel\" + 0.010*\"action\" + 0.008*\"government\" + 0.008*\"lording\" + 0.007*\"petrol\"\n",
      "2017-11-20 11:43:54,430 : INFO : topic #33 (0.010): 0.017*\"australia\" + 0.010*\"fire\" + 0.010*\"south_africa\" + 0.010*\"line\" + 0.010*\"firefighters\" + 0.009*\"sydney\" + 0.009*\"year\" + 0.008*\"time\" + 0.007*\"homes\" + 0.007*\"new_south\"\n",
      "2017-11-20 11:43:54,432 : INFO : topic #19 (0.010): 0.018*\"afghanistan\" + 0.012*\"fire\" + 0.011*\"government\" + 0.010*\"afghan\" + 0.009*\"days\" + 0.007*\"centre\" + 0.007*\"detainees\" + 0.006*\"forces\" + 0.006*\"president\" + 0.006*\"force\"\n",
      "2017-11-20 11:43:54,434 : INFO : topic diff=93.312422, rho=1.000000\n",
      "2017-11-20 11:43:54,769 : DEBUG : bound: at document #0\n",
      "2017-11-20 11:43:56,698 : INFO : -8.680 per-word bound, 410.2 perplexity estimate based on a held-out corpus of 300 documents with 18861 words\n",
      "2017-11-20 11:43:56,702 : INFO : PROGRESS: pass 1, at document #300/300\n",
      "2017-11-20 11:43:56,702 : DEBUG : performing inference on a chunk of 300 documents\n",
      "2017-11-20 11:43:57,334 : DEBUG : 300/300 documents converged within 200 iterations\n",
      "2017-11-20 11:43:57,342 : INFO : optimized alpha [0.0094417746465434212, 0.0093694940367860212, 0.009540902466383323, 0.00954720345974382, 0.0094794240500371222, 0.0095135425737500317, 0.0093369138982064941, 0.0094412163601757543, 0.0098128306340552838, 0.0094949847749861219, 0.0093896001269317044, 0.0093897829631896454, 0.0093897918038840893, 0.0095800703173139663, 0.0096870703489684625, 0.0093696258527970564, 0.0093888815753095448, 0.0095476549211929024, 0.0096570908429537312, 0.010022297206351515, 0.0093896496233243833, 0.0094276139872674237, 0.0094744150443864597, 0.0095476183491911819, 0.009408062083989522, 0.0092847174822868646, 0.0093367772227576345, 0.0095134710013525647, 0.0093892271227653725, 0.0094745380686945494, 0.0093367216424785279, 0.0094217946551637243, 0.0092847174819180832, 0.0098597145825966345, 0.0095604511029982187, 0.0094418994938122811, 0.0094416994515373089, 0.0095801889196871978, 0.009812664207185481, 0.0094224107948116479, 0.0094806944581704074, 0.0094745545514321496, 0.0094745387415149027, 0.009772084913619597, 0.0096126745710936115, 0.0095275605461814343, 0.0093696115855076475, 0.0095483012006241843, 0.0094938677578757895, 0.0092847174819180832, 0.0094217363083045538, 0.0094613007971462819, 0.00965187766150985, 0.0094415844973158979, 0.0093891636494829213, 0.0093559075972271168, 0.009559663155971421, 0.0093554818024104997, 0.009671519080875832, 0.0097000766558568621, 0.0093366438270219496, 0.0093750830900485044, 0.0095795798311649263, 0.0094611714696074579, 0.0092847174819180919, 0.0094088888454426246, 0.0094543996734328603, 0.0093367215903391743, 0.0095281318216022988, 0.009408809550995852, 0.0092847174819180832, 0.0095277108366385518, 0.009559840331694068, 0.0094990078315015641, 0.0093892786584332515, 0.0093363728810334883, 0.0093560700833661206, 0.009579512640615814, 0.0093560045349608163, 0.0093700170184956005, 0.0093367638327961546, 0.0094414821216511329, 0.0093559380352494712, 0.0095136635349753491, 0.0094747362449580028, 0.0094270849902072483, 0.0093367901535770202, 0.00933706670169983, 0.009422108711882371, 0.0093891570831075959, 0.0093687602956868104, 0.009599865588427783, 0.0094225651874565754, 0.0093895463146746461, 0.0093894775038677099, 0.0096122765304250922, 0.0094747857578499056, 0.009580467399380059, 0.0093699963743924166, 0.0093367490627198936]\n",
      "2017-11-20 11:43:57,348 : DEBUG : updating topics\n",
      "2017-11-20 11:43:57,726 : INFO : topic #32 (0.009): 0.000*\"people\" + 0.000*\"australia\" + 0.000*\"government\" + 0.000*\"today\" + 0.000*\"day\" + 0.000*\"year\" + 0.000*\"police\" + 0.000*\"united_states\" + 0.000*\"time\" + 0.000*\"yesterday\"\n",
      "2017-11-20 11:43:57,727 : INFO : topic #25 (0.009): 0.000*\"people\" + 0.000*\"australia\" + 0.000*\"government\" + 0.000*\"today\" + 0.000*\"day\" + 0.000*\"year\" + 0.000*\"police\" + 0.000*\"united_states\" + 0.000*\"time\" + 0.000*\"yesterday\"\n",
      "2017-11-20 11:43:57,729 : INFO : topic #38 (0.010): 0.022*\"test\" + 0.016*\"people\" + 0.013*\"security\" + 0.012*\"police\" + 0.012*\"government\" + 0.011*\"forces\" + 0.011*\"side\" + 0.011*\"lot\" + 0.010*\"afghanistan\" + 0.010*\"australia\"\n",
      "2017-11-20 11:43:57,730 : INFO : topic #8 (0.010): 0.017*\"arafat\" + 0.014*\"union\" + 0.012*\"staff\" + 0.011*\"israel\" + 0.011*\"pay\" + 0.010*\"action\" + 0.010*\"australia\" + 0.009*\"government\" + 0.008*\"lording\" + 0.008*\"israeli\"\n",
      "2017-11-20 11:43:57,732 : INFO : topic #19 (0.010): 0.015*\"afghanistan\" + 0.013*\"fire\" + 0.011*\"afghan\" + 0.010*\"government\" + 0.009*\"days\" + 0.007*\"centre\" + 0.007*\"detainees\" + 0.006*\"president\" + 0.006*\"force\" + 0.006*\"smoke\"\n",
      "2017-11-20 11:43:57,734 : INFO : topic diff=2.090037, rho=0.577350\n",
      "2017-11-20 11:43:58,065 : DEBUG : bound: at document #0\n",
      "2017-11-20 11:43:59,445 : INFO : -8.447 per-word bound, 348.9 perplexity estimate based on a held-out corpus of 300 documents with 18861 words\n",
      "2017-11-20 11:43:59,447 : INFO : PROGRESS: pass 2, at document #300/300\n",
      "2017-11-20 11:43:59,448 : DEBUG : performing inference on a chunk of 300 documents\n",
      "2017-11-20 11:44:00,251 : DEBUG : 300/300 documents converged within 200 iterations\n",
      "2017-11-20 11:44:00,260 : INFO : optimized alpha [0.0092787733533694489, 0.0091767245681815632, 0.0093738540593082641, 0.0094131900405191194, 0.00934735560420525, 0.0093805816168434121, 0.0091455622428657513, 0.0092780312181298587, 0.0097374731011947314, 0.0093465076813156675, 0.0092124100196958655, 0.0092127173099639248, 0.0092126986848083126, 0.0094443810078203762, 0.0095817722291755749, 0.009192858945422315, 0.0092114996456190475, 0.0094137157071712985, 0.0095024346966842855, 0.0099927666351422376, 0.0092124676516950263, 0.009281300824146627, 0.0093100597878812853, 0.0094136080641941799, 0.0092459552518684845, 0.0090794718159991558, 0.0091453910749960208, 0.0093802883045682028, 0.009211933620227597, 0.0093101221142014145, 0.0091453214851993214, 0.009243021823498317, 0.0090794718156466756, 0.0097829740819150423, 0.0094093625572571633, 0.00927890815608284, 0.0092786397265011648, 0.0094449393303149866, 0.0097537766019548285, 0.0092438517096063693, 0.009349136767952319, 0.0093100694593667554, 0.0093102640487841126, 0.0096804769448400121, 0.0094762404805139727, 0.0093778056461058783, 0.0091768370847080689, 0.0094146230909379659, 0.0093452107990135876, 0.0090794718156466756, 0.0092431363457877742, 0.0093139406185897521, 0.0095472074036381978, 0.0092785633968904963, 0.0092118538894795723, 0.0091797512962755057, 0.0094079721925787972, 0.0091791461849340169, 0.0095827729949297964, 0.0095773797542620335, 0.0091452849240253164, 0.0092143501735669504, 0.0094441650890741188, 0.0093299415086857615, 0.0090794718156466843, 0.009246868277202917, 0.0092744721988521316, 0.0091453214352842493, 0.0093784317065598883, 0.0092470371475074, 0.0090794718156466756, 0.009361371974757067, 0.0094085794866197343, 0.0093663023672532, 0.0092121065357552764, 0.0091448847898349221, 0.0091800613188915085, 0.009444038805792393, 0.0091800012294186387, 0.009177225160833604, 0.0091453743309479474, 0.0092784874529213239, 0.0091958608857032852, 0.0093806727708160148, 0.009310177714380849, 0.0093126484642315002, 0.0091454072762373936, 0.0091457535804808313, 0.009243488347762752, 0.009211845656300361, 0.0091759672894776954, 0.0094805252075200429, 0.0092440901897401454, 0.0092123968647139492, 0.0092122480658399144, 0.0094755715983988586, 0.009310439085478607, 0.0094453464355841749, 0.0091772808463366599, 0.0091454406126190262]\n",
      "2017-11-20 11:44:00,262 : DEBUG : updating topics\n",
      "2017-11-20 11:44:00,674 : INFO : topic #25 (0.009): 0.000*\"people\" + 0.000*\"australia\" + 0.000*\"government\" + 0.000*\"today\" + 0.000*\"day\" + 0.000*\"year\" + 0.000*\"police\" + 0.000*\"united_states\" + 0.000*\"time\" + 0.000*\"yesterday\"\n"
     ]
    },
    {
     "name": "stderr",
     "output_type": "stream",
     "text": [
      "2017-11-20 11:44:00,675 : INFO : topic #70 (0.009): 0.000*\"people\" + 0.000*\"australia\" + 0.000*\"government\" + 0.000*\"today\" + 0.000*\"day\" + 0.000*\"year\" + 0.000*\"police\" + 0.000*\"united_states\" + 0.000*\"time\" + 0.000*\"yesterday\"\n",
      "2017-11-20 11:44:00,677 : INFO : topic #38 (0.010): 0.023*\"test\" + 0.016*\"people\" + 0.013*\"security\" + 0.012*\"police\" + 0.012*\"government\" + 0.012*\"side\" + 0.012*\"lot\" + 0.011*\"afghanistan\" + 0.011*\"forces\" + 0.010*\"australia\"\n",
      "2017-11-20 11:44:00,678 : INFO : topic #33 (0.010): 0.018*\"australia\" + 0.010*\"fire\" + 0.010*\"south_africa\" + 0.010*\"firefighters\" + 0.010*\"line\" + 0.010*\"sydney\" + 0.009*\"year\" + 0.008*\"bichel\" + 0.008*\"time\" + 0.007*\"new_south\"\n",
      "2017-11-20 11:44:00,679 : INFO : topic #19 (0.010): 0.014*\"afghanistan\" + 0.013*\"fire\" + 0.011*\"afghan\" + 0.010*\"government\" + 0.009*\"days\" + 0.007*\"centre\" + 0.007*\"detainees\" + 0.006*\"president\" + 0.006*\"force\" + 0.006*\"smoke\"\n",
      "2017-11-20 11:44:00,681 : INFO : topic diff=1.143949, rho=0.500000\n",
      "2017-11-20 11:44:01,030 : DEBUG : bound: at document #0\n",
      "2017-11-20 11:44:02,661 : INFO : -8.294 per-word bound, 313.8 perplexity estimate based on a held-out corpus of 300 documents with 18861 words\n",
      "2017-11-20 11:44:02,662 : INFO : PROGRESS: pass 3, at document #300/300\n",
      "2017-11-20 11:44:02,663 : DEBUG : performing inference on a chunk of 300 documents\n",
      "2017-11-20 11:44:03,442 : DEBUG : 300/300 documents converged within 200 iterations\n",
      "2017-11-20 11:44:03,460 : INFO : optimized alpha [0.0091376200259415501, 0.0090105652193774657, 0.0092292722677823347, 0.0092965528511399931, 0.0092324131742864361, 0.0092648451659660264, 0.0089805975813726791, 0.0091367259206393964, 0.0096709397205705962, 0.0092176152519172251, 0.009059317427967192, 0.0090597272122531682, 0.0090596859250816845, 0.0093262822602260612, 0.0094895388981014531, 0.0090540086672720298, 0.0090582494615034873, 0.0092971028043308673, 0.0093682892498227113, 0.0099657808626863412, 0.0090593817272582571, 0.0091542644378846579, 0.0091677596676500907, 0.0092969461854436174, 0.0091055849971942767, 0.0089028986289811131, 0.0089803982411040088, 0.0092643197995430533, 0.0090587560693920315, 0.0091677716049057625, 0.0089803172089429027, 0.0090885819388968718, 0.0089028986286423372, 0.0097151757858815121, 0.0092782515834800017, 0.0091377629870325761, 0.0091374380206807482, 0.0093272481259851422, 0.0096867724286665083, 0.0090896021391912041, 0.0092346815842463473, 0.0091676616499864992, 0.0091680305937354104, 0.0095999903214091502, 0.0093575389762309263, 0.0092477984976185607, 0.0090106734941155977, 0.0092982660318189636, 0.0092161659297543934, 0.0089028986286423372, 0.0090888536510406598, 0.0091860253565651546, 0.0094698094128643044, 0.0091373937938907732, 0.0090586629856979541, 0.0090275558042086836, 0.0092623196822075524, 0.009026827848925556, 0.0095047723349339086, 0.0094703189007569692, 0.0089803145749807155, 0.0090752078164509174, 0.0093263360153939233, 0.0092157866986252758, 0.0089028986286423459, 0.0090926243151112085, 0.0091190670428473036, 0.0089803171609031864, 0.0092484985091654589, 0.0091069433489897045, 0.0089028986286423372, 0.0092173879302181582, 0.0092773262704298112, 0.0092364835017407446, 0.0090590290507568741, 0.0089798086945675655, 0.0090280047294482284, 0.0093261603158365305, 0.0090418477868293989, 0.0090110469396486557, 0.0089940142394053513, 0.0091373448793301976, 0.0090573342033893074, 0.0092649490218186664, 0.0091677318548305502, 0.0092271325462664287, 0.0089804171135378225, 0.0089808203929866558, 0.0090891885124971712, 0.0090586533823858936, 0.0090234682113621116, 0.0093763414993548889, 0.0090899098187736532, 0.0090593378519703352, 0.0090591231390288966, 0.0093566437252384886, 0.0091681358892240737, 0.0093277478115671355, 0.0090111652422739264, 0.0089805115636949467]\n",
      "2017-11-20 11:44:03,461 : DEBUG : updating topics\n",
      "2017-11-20 11:44:03,887 : INFO : topic #25 (0.009): 0.001*\"people\" + 0.001*\"australia\" + 0.000*\"government\" + 0.000*\"day\" + 0.000*\"today\" + 0.000*\"year\" + 0.000*\"united_states\" + 0.000*\"police\" + 0.000*\"time\" + 0.000*\"yesterday\"\n",
      "2017-11-20 11:44:03,888 : INFO : topic #70 (0.009): 0.001*\"people\" + 0.001*\"australia\" + 0.000*\"government\" + 0.000*\"day\" + 0.000*\"today\" + 0.000*\"year\" + 0.000*\"united_states\" + 0.000*\"police\" + 0.000*\"time\" + 0.000*\"yesterday\"\n",
      "2017-11-20 11:44:03,889 : INFO : topic #8 (0.010): 0.017*\"arafat\" + 0.014*\"union\" + 0.013*\"israel\" + 0.013*\"staff\" + 0.011*\"pay\" + 0.010*\"action\" + 0.009*\"government\" + 0.009*\"australia\" + 0.008*\"lording\" + 0.008*\"israeli\"\n",
      "2017-11-20 11:44:03,902 : INFO : topic #38 (0.010): 0.024*\"test\" + 0.016*\"people\" + 0.013*\"security\" + 0.012*\"police\" + 0.012*\"side\" + 0.012*\"government\" + 0.012*\"lot\" + 0.012*\"afghanistan\" + 0.011*\"forces\" + 0.011*\"australia\"\n",
      "2017-11-20 11:44:03,904 : INFO : topic #19 (0.010): 0.014*\"afghanistan\" + 0.013*\"fire\" + 0.011*\"afghan\" + 0.010*\"government\" + 0.009*\"days\" + 0.007*\"centre\" + 0.007*\"detainees\" + 0.006*\"president\" + 0.006*\"force\" + 0.006*\"smoke\"\n",
      "2017-11-20 11:44:03,906 : INFO : topic diff=0.939622, rho=0.447214\n",
      "2017-11-20 11:44:04,281 : DEBUG : bound: at document #0\n",
      "2017-11-20 11:44:05,709 : INFO : -8.182 per-word bound, 290.4 perplexity estimate based on a held-out corpus of 300 documents with 18861 words\n",
      "2017-11-20 11:44:05,710 : INFO : PROGRESS: pass 4, at document #300/300\n",
      "2017-11-20 11:44:05,711 : DEBUG : performing inference on a chunk of 300 documents\n",
      "2017-11-20 11:44:06,768 : DEBUG : 300/300 documents converged within 200 iterations\n",
      "2017-11-20 11:44:06,775 : INFO : optimized alpha [0.0090123894106875387, 0.0088637372663532745, 0.0091010581932348903, 0.0091926212019212659, 0.009129981354380921, 0.0091617043428089909, 0.008834804513020364, 0.0090113659979535812, 0.009610911667736791, 0.0091030193811175095, 0.0089237598986570011, 0.0089242566033700746, 0.0089241960619629249, 0.009221067818866998, 0.0094068904023432622, 0.0089309054401856096, 0.0089225585680709884, 0.0091931643745132505, 0.0092491082221186887, 0.0099407207132764137, 0.0089238298184205721, 0.009041298119779358, 0.0090415312746741257, 0.0091929800467286781, 0.0089810510944425496, 0.0087471266385162651, 0.008834581458443732, 0.0091609519066578049, 0.0089231266274359348, 0.0090415001643932725, 0.0088344907937646273, 0.0089518488415017694, 0.0087471266381893391, 0.0096539701124164524, 0.009161720448948335, 0.0090125392570646057, 0.0090121661790649593, 0.0092223941500995457, 0.0096263085269444292, 0.0089530398194480505, 0.0091454836429888352, 0.0090413413332564776, 0.0090418589818563062, 0.0095276820147810349, 0.0092518006557786824, 0.0091322080314501387, 0.0088638418654947617, 0.0091945749957500818, 0.0091014385634841967, 0.0087471266381893391, 0.0089522636662870293, 0.0090722937410348571, 0.0094002360691274496, 0.0090121494076995049, 0.0089230222448138958, 0.0088927904088230581, 0.0091331714117944083, 0.0088919682083243804, 0.0094346721196762722, 0.0093747201056393042, 0.008834516904088199, 0.0089517696142479945, 0.0092213637130081853, 0.0091140708646824543, 0.0087471266381893495, 0.0089686412001750114, 0.0089815018087573036, 0.0088344907473502619, 0.0091329933969411196, 0.008982644534415371, 0.0087471266381893391, 0.0090896914310271224, 0.0091606735470461109, 0.0091210854003576786, 0.0089234845607141823, 0.0088339218255789817, 0.0088933688241062923, 0.0092211455161065724, 0.008919291975725413, 0.0088642026333403279, 0.0088599748453364394, 0.0090121236167717902, 0.0089344464105359008, 0.0091745947128349364, 0.0090413909439786729, 0.0091505736544209085, 0.0088346025787472745, 0.0088350538191962168, 0.0089525837204611543, 0.008923011483771167, 0.0088884397974675379, 0.0092832629437292445, 0.0089534061503242397, 0.0089238088699975255, 0.0089235382597150064, 0.0092507108816527375, 0.009041897038067355, 0.009222963040752357, 0.0088643738805340346, 0.0088347487313578995]\n",
      "2017-11-20 11:44:06,776 : DEBUG : updating topics\n",
      "2017-11-20 11:44:07,212 : INFO : topic #49 (0.009): 0.001*\"people\" + 0.001*\"australia\" + 0.001*\"government\" + 0.001*\"day\" + 0.001*\"today\" + 0.001*\"year\" + 0.001*\"united_states\" + 0.001*\"police\" + 0.001*\"time\" + 0.001*\"yesterday\"\n",
      "2017-11-20 11:44:07,213 : INFO : topic #70 (0.009): 0.001*\"people\" + 0.001*\"australia\" + 0.001*\"government\" + 0.001*\"day\" + 0.001*\"today\" + 0.001*\"year\" + 0.001*\"united_states\" + 0.001*\"police\" + 0.001*\"time\" + 0.001*\"yesterday\"\n"
     ]
    },
    {
     "name": "stderr",
     "output_type": "stream",
     "text": [
      "2017-11-20 11:44:07,215 : INFO : topic #8 (0.010): 0.017*\"arafat\" + 0.014*\"union\" + 0.013*\"israel\" + 0.013*\"staff\" + 0.011*\"pay\" + 0.010*\"action\" + 0.009*\"government\" + 0.009*\"australia\" + 0.008*\"lording\" + 0.008*\"israeli\"\n",
      "2017-11-20 11:44:07,216 : INFO : topic #38 (0.010): 0.025*\"test\" + 0.016*\"people\" + 0.013*\"security\" + 0.013*\"police\" + 0.012*\"side\" + 0.012*\"lot\" + 0.012*\"afghanistan\" + 0.012*\"government\" + 0.011*\"forces\" + 0.011*\"australia\"\n",
      "2017-11-20 11:44:07,218 : INFO : topic #19 (0.010): 0.014*\"afghanistan\" + 0.013*\"fire\" + 0.011*\"afghan\" + 0.010*\"government\" + 0.009*\"days\" + 0.007*\"centre\" + 0.007*\"detainees\" + 0.006*\"president\" + 0.006*\"force\" + 0.006*\"smoke\"\n",
      "2017-11-20 11:44:07,223 : INFO : topic diff=0.795760, rho=0.408248\n",
      "2017-11-20 11:44:07,429 : DEBUG : Setting topics to those of the model: LdaModel(num_terms=4431, num_topics=100, decay=0.5, chunksize=300)\n",
      "2017-11-20 11:44:07,437 : INFO : using ParallelWordOccurrenceAccumulator(processes=3, batch_size=64) to estimate probabilities from sliding windows\n",
      "2017-11-20 11:44:07,667 : DEBUG : completed batch 0; 64 documents processed (92 virtual)\n",
      "2017-11-20 11:44:07,791 : DEBUG : completed batch 0; 64 documents processed (258 virtual)\n",
      "2017-11-20 11:44:07,808 : DEBUG : completed batch 0; 64 documents processed (305 virtual)\n",
      "2017-11-20 11:44:07,833 : DEBUG : observed sentinel value; terminating\n",
      "2017-11-20 11:44:07,836 : DEBUG : finished all batches; 64 documents processed (305 virtual)\n",
      "2017-11-20 11:44:07,840 : INFO : serializing accumulator to return to master...\n",
      "2017-11-20 11:44:07,854 : INFO : accumulator serialized\n",
      "2017-11-20 11:44:07,965 : DEBUG : completed batch 1; 128 documents processed (332 virtual)\n",
      "2017-11-20 11:44:07,973 : DEBUG : observed sentinel value; terminating\n",
      "2017-11-20 11:44:07,983 : DEBUG : finished all batches; 128 documents processed (332 virtual)\n",
      "2017-11-20 11:44:07,986 : INFO : serializing accumulator to return to master...\n",
      "2017-11-20 11:44:07,988 : INFO : accumulator serialized\n",
      "2017-11-20 11:44:08,030 : DEBUG : completed batch 1; 108 documents processed (485 virtual)\n",
      "2017-11-20 11:44:08,031 : DEBUG : observed sentinel value; terminating\n",
      "2017-11-20 11:44:08,033 : DEBUG : finished all batches; 108 documents processed (485 virtual)\n",
      "2017-11-20 11:44:08,034 : INFO : serializing accumulator to return to master...\n",
      "2017-11-20 11:44:08,044 : INFO : accumulator serialized\n",
      "2017-11-20 11:44:08,148 : INFO : 3 accumulators retrieved from output queue\n",
      "2017-11-20 11:44:08,265 : INFO : accumulated word occurrence stats for 1122 virtual documents\n"
     ]
    },
    {
     "name": "stdout",
     "output_type": "stream",
     "text": [
      "Melhores 5 modelos [(99, 0.43273555093615174), (79, 0.42483174635739973), (19, 0.41718061692932967), (29, 0.40521971734108492), (69, 0.40317308054114248)]\n",
      "[(49, '0.001*\"people\" + 0.001*\"australia\" + 0.001*\"government\" + 0.001*\"today\" + 0.001*\"day\" + 0.001*\"year\" + 0.001*\"united_states\" + 0.001*\"time\" + 0.001*\"police\" + 0.001*\"yesterday\"'), (64, '0.001*\"people\" + 0.001*\"australia\" + 0.001*\"government\" + 0.001*\"today\" + 0.001*\"day\" + 0.001*\"year\" + 0.001*\"united_states\" + 0.001*\"time\" + 0.001*\"police\" + 0.001*\"yesterday\"'), (25, '0.001*\"people\" + 0.001*\"australia\" + 0.001*\"government\" + 0.001*\"today\" + 0.001*\"day\" + 0.001*\"year\" + 0.001*\"united_states\" + 0.001*\"time\" + 0.001*\"police\" + 0.001*\"yesterday\"'), (32, '0.001*\"people\" + 0.001*\"australia\" + 0.001*\"government\" + 0.001*\"today\" + 0.001*\"day\" + 0.001*\"year\" + 0.001*\"united_states\" + 0.001*\"time\" + 0.001*\"police\" + 0.001*\"yesterday\"'), (70, '0.001*\"people\" + 0.001*\"australia\" + 0.001*\"government\" + 0.001*\"today\" + 0.001*\"day\" + 0.001*\"year\" + 0.001*\"united_states\" + 0.001*\"time\" + 0.001*\"police\" + 0.001*\"yesterday\"'), (43, '0.015*\"people\" + 0.015*\"taliban\" + 0.015*\"island\" + 0.012*\"government\" + 0.012*\"year\" + 0.010*\"authorities\" + 0.010*\"start\" + 0.010*\"asylum_seekers\" + 0.010*\"population\" + 0.010*\"oil\"'), (8, '0.017*\"arafat\" + 0.014*\"union\" + 0.013*\"israel\" + 0.013*\"staff\" + 0.011*\"pay\" + 0.010*\"action\" + 0.009*\"government\" + 0.009*\"australia\" + 0.008*\"lording\" + 0.008*\"israeli\"'), (33, '0.018*\"australia\" + 0.011*\"fire\" + 0.011*\"firefighters\" + 0.011*\"line\" + 0.011*\"sydney\" + 0.009*\"year\" + 0.009*\"bichel\" + 0.009*\"south_africa\" + 0.008*\"time\" + 0.008*\"new_south\"'), (38, '0.025*\"test\" + 0.016*\"people\" + 0.013*\"security\" + 0.013*\"police\" + 0.012*\"side\" + 0.012*\"lot\" + 0.012*\"afghanistan\" + 0.012*\"government\" + 0.011*\"forces\" + 0.011*\"australia\"'), (19, '0.014*\"afghanistan\" + 0.013*\"fire\" + 0.011*\"afghan\" + 0.010*\"government\" + 0.009*\"days\" + 0.007*\"centre\" + 0.007*\"detainees\" + 0.006*\"president\" + 0.006*\"force\" + 0.006*\"smoke\"')]\n",
      "CPU times: user 5min 8s, sys: 5.35 s, total: 5min 13s\n",
      "Wall time: 3min 58s\n"
     ]
    }
   ],
   "source": [
    "%%time\n",
    "best_model_full, lm_full, c_v_full = get_best_model_by_topics(dictionary=dictionary, corpus=corpus, texts=train_texts)\n",
    "print(best_model_full.show_topics(formatted=True))"
   ]
  },
  {
   "cell_type": "code",
   "execution_count": null,
   "metadata": {
    "scrolled": true
   },
   "outputs": [
    {
     "name": "stderr",
     "output_type": "stream",
     "text": [
      "2017-11-20 11:59:28,338 : INFO : using autotuned alpha, starting with [1.0]\n",
      "2017-11-20 11:59:28,342 : INFO : using serial LDA version on this node\n",
      "2017-11-20 11:59:28,393 : INFO : running online (multi-pass) LDA training, 1 topics, 5 passes over the supplied corpus of 300 documents, updating model once every 300 documents, evaluating perplexity every 300 documents, iterating 200x with a convergence threshold of 0.001000\n",
      "2017-11-20 11:59:28,394 : WARNING : too few updates, training might not converge; consider increasing the number of passes or iterations to improve accuracy\n",
      "2017-11-20 11:59:28,426 : DEBUG : bound: at document #0\n",
      "2017-11-20 11:59:28,903 : INFO : -8.695 per-word bound, 414.5 perplexity estimate based on a held-out corpus of 300 documents with 18861 words\n",
      "2017-11-20 11:59:28,904 : INFO : PROGRESS: pass 0, at document #300/300\n",
      "2017-11-20 11:59:28,904 : DEBUG : performing inference on a chunk of 300 documents\n",
      "2017-11-20 11:59:28,943 : DEBUG : 300/300 documents converged within 200 iterations\n",
      "2017-11-20 11:59:28,946 : WARNING : updated prior not positive\n",
      "2017-11-20 11:59:28,947 : INFO : optimized alpha [1.0]\n",
      "2017-11-20 11:59:28,948 : DEBUG : updating topics\n",
      "2017-11-20 11:59:28,949 : INFO : topic #0 (1.000): 0.007*\"australia\" + 0.006*\"people\" + 0.006*\"government\" + 0.004*\"afghanistan\" + 0.004*\"arafat\" + 0.004*\"police\" + 0.003*\"security\" + 0.003*\"year\" + 0.003*\"today\" + 0.003*\"united_states\"\n",
      "2017-11-20 11:59:28,949 : INFO : topic diff=0.655304, rho=1.000000\n",
      "2017-11-20 11:59:29,154 : DEBUG : bound: at document #0\n",
      "2017-11-20 11:59:29,622 : INFO : -7.854 per-word bound, 231.3 perplexity estimate based on a held-out corpus of 300 documents with 18861 words\n",
      "2017-11-20 11:59:29,623 : INFO : PROGRESS: pass 1, at document #300/300\n",
      "2017-11-20 11:59:29,623 : DEBUG : performing inference on a chunk of 300 documents\n",
      "2017-11-20 11:59:29,660 : DEBUG : 300/300 documents converged within 200 iterations\n",
      "2017-11-20 11:59:29,663 : WARNING : updated prior not positive\n",
      "2017-11-20 11:59:29,664 : INFO : optimized alpha [1.0]\n",
      "2017-11-20 11:59:29,664 : DEBUG : updating topics\n",
      "2017-11-20 11:59:29,716 : INFO : topic #0 (1.000): 0.007*\"australia\" + 0.006*\"people\" + 0.006*\"government\" + 0.004*\"afghanistan\" + 0.004*\"arafat\" + 0.004*\"police\" + 0.004*\"security\" + 0.004*\"year\" + 0.003*\"today\" + 0.003*\"united_states\"\n",
      "2017-11-20 11:59:29,717 : INFO : topic diff=0.157836, rho=0.577350\n",
      "2017-11-20 11:59:29,817 : DEBUG : bound: at document #0\n",
      "2017-11-20 11:59:30,400 : INFO : -7.824 per-word bound, 226.5 perplexity estimate based on a held-out corpus of 300 documents with 18861 words\n",
      "2017-11-20 11:59:30,400 : INFO : PROGRESS: pass 2, at document #300/300\n",
      "2017-11-20 11:59:30,411 : DEBUG : performing inference on a chunk of 300 documents\n",
      "2017-11-20 11:59:30,450 : DEBUG : 300/300 documents converged within 200 iterations\n",
      "2017-11-20 11:59:30,454 : WARNING : updated prior not positive\n",
      "2017-11-20 11:59:30,456 : INFO : optimized alpha [1.0]\n",
      "2017-11-20 11:59:30,458 : DEBUG : updating topics\n",
      "2017-11-20 11:59:30,524 : INFO : topic #0 (1.000): 0.007*\"australia\" + 0.006*\"people\" + 0.006*\"government\" + 0.004*\"afghanistan\" + 0.004*\"arafat\" + 0.004*\"police\" + 0.003*\"security\" + 0.003*\"year\" + 0.003*\"today\" + 0.003*\"united_states\"\n",
      "2017-11-20 11:59:30,525 : INFO : topic diff=0.009795, rho=0.500000\n",
      "2017-11-20 11:59:30,645 : DEBUG : bound: at document #0\n",
      "2017-11-20 11:59:31,115 : INFO : -7.797 per-word bound, 222.5 perplexity estimate based on a held-out corpus of 300 documents with 18861 words\n",
      "2017-11-20 11:59:31,115 : INFO : PROGRESS: pass 3, at document #300/300\n",
      "2017-11-20 11:59:31,116 : DEBUG : performing inference on a chunk of 300 documents\n",
      "2017-11-20 11:59:31,153 : DEBUG : 300/300 documents converged within 200 iterations\n",
      "2017-11-20 11:59:31,157 : WARNING : updated prior not positive\n",
      "2017-11-20 11:59:31,164 : INFO : optimized alpha [1.0]\n",
      "2017-11-20 11:59:31,165 : DEBUG : updating topics\n",
      "2017-11-20 11:59:31,255 : INFO : topic #0 (1.000): 0.007*\"australia\" + 0.006*\"people\" + 0.006*\"government\" + 0.004*\"afghanistan\" + 0.004*\"arafat\" + 0.004*\"police\" + 0.003*\"security\" + 0.003*\"year\" + 0.003*\"today\" + 0.003*\"united_states\"\n",
      "2017-11-20 11:59:31,256 : INFO : topic diff=0.007989, rho=0.447214\n",
      "2017-11-20 11:59:31,374 : DEBUG : bound: at document #0\n",
      "2017-11-20 11:59:31,833 : INFO : -7.775 per-word bound, 219.1 perplexity estimate based on a held-out corpus of 300 documents with 18861 words\n",
      "2017-11-20 11:59:31,834 : INFO : PROGRESS: pass 4, at document #300/300\n",
      "2017-11-20 11:59:31,835 : DEBUG : performing inference on a chunk of 300 documents\n",
      "2017-11-20 11:59:31,872 : DEBUG : 300/300 documents converged within 200 iterations\n",
      "2017-11-20 11:59:31,876 : WARNING : updated prior not positive\n",
      "2017-11-20 11:59:31,877 : INFO : optimized alpha [1.0]\n",
      "2017-11-20 11:59:31,877 : DEBUG : updating topics\n",
      "2017-11-20 11:59:31,959 : INFO : topic #0 (1.000): 0.007*\"australia\" + 0.006*\"people\" + 0.006*\"government\" + 0.004*\"afghanistan\" + 0.004*\"arafat\" + 0.004*\"police\" + 0.003*\"security\" + 0.003*\"year\" + 0.003*\"today\" + 0.003*\"united_states\"\n",
      "2017-11-20 11:59:31,960 : INFO : topic diff=0.006386, rho=0.408248\n",
      "2017-11-20 11:59:32,039 : DEBUG : Setting topics to those of the model: LdaModel(num_terms=4431, num_topics=1, decay=0.5, chunksize=300)\n",
      "2017-11-20 11:59:32,040 : INFO : using ParallelWordOccurrenceAccumulator(processes=3, batch_size=64) to estimate probabilities from sliding windows\n",
      "2017-11-20 11:59:32,098 : DEBUG : completed batch 0; 64 documents processed (92 virtual)\n",
      "2017-11-20 11:59:32,110 : DEBUG : completed batch 0; 64 documents processed (337 virtual)\n",
      "2017-11-20 11:59:32,113 : DEBUG : completed batch 0; 64 documents processed (271 virtual)\n",
      "2017-11-20 11:59:32,151 : DEBUG : completed batch 1; 128 documents processed (407 virtual)\n",
      "2017-11-20 11:59:32,156 : DEBUG : observed sentinel value; terminating\n",
      "2017-11-20 11:59:32,156 : DEBUG : completed batch 1; 92 documents processed (362 virtual)\n",
      "2017-11-20 11:59:32,155 : DEBUG : observed sentinel value; terminating\n",
      "2017-11-20 11:59:32,163 : DEBUG : finished all batches; 128 documents processed (407 virtual)\n",
      "2017-11-20 11:59:32,159 : DEBUG : observed sentinel value; terminating\n",
      "2017-11-20 11:59:32,160 : DEBUG : finished all batches; 64 documents processed (337 virtual)\n",
      "2017-11-20 11:59:32,174 : DEBUG : finished all batches; 92 documents processed (362 virtual)\n",
      "2017-11-20 11:59:32,168 : INFO : serializing accumulator to return to master...\n",
      "2017-11-20 11:59:32,170 : INFO : serializing accumulator to return to master...\n",
      "2017-11-20 11:59:32,188 : INFO : serializing accumulator to return to master...\n",
      "2017-11-20 11:59:32,192 : INFO : accumulator serialized\n",
      "2017-11-20 11:59:32,191 : INFO : accumulator serialized\n",
      "2017-11-20 11:59:32,193 : INFO : accumulator serialized\n",
      "2017-11-20 11:59:32,208 : INFO : 3 accumulators retrieved from output queue\n",
      "2017-11-20 11:59:32,214 : INFO : accumulated word occurrence stats for 1106 virtual documents\n",
      "2017-11-20 11:59:32,265 : INFO : using autotuned alpha, starting with [0.5, 0.5]\n",
      "2017-11-20 11:59:32,268 : INFO : using serial LDA version on this node\n",
      "2017-11-20 11:59:32,371 : INFO : running online (multi-pass) LDA training, 2 topics, 5 passes over the supplied corpus of 300 documents, updating model once every 300 documents, evaluating perplexity every 300 documents, iterating 200x with a convergence threshold of 0.001000\n",
      "2017-11-20 11:59:32,372 : WARNING : too few updates, training might not converge; consider increasing the number of passes or iterations to improve accuracy\n",
      "2017-11-20 11:59:32,462 : DEBUG : bound: at document #0\n",
      "2017-11-20 11:59:34,334 : INFO : -8.929 per-word bound, 487.5 perplexity estimate based on a held-out corpus of 300 documents with 18861 words\n",
      "2017-11-20 11:59:34,335 : INFO : PROGRESS: pass 0, at document #300/300\n",
      "2017-11-20 11:59:34,336 : DEBUG : performing inference on a chunk of 300 documents\n",
      "2017-11-20 11:59:35,783 : DEBUG : 87/300 documents converged within 200 iterations\n",
      "2017-11-20 11:59:35,788 : INFO : optimized alpha [0.52233574643019276, 0.56609905912446812]\n",
      "2017-11-20 11:59:35,788 : DEBUG : updating topics\n",
      "2017-11-20 11:59:35,872 : INFO : topic #0 (0.522): 0.006*\"government\" + 0.005*\"people\" + 0.005*\"afghanistan\" + 0.004*\"today\" + 0.004*\"police\" + 0.004*\"fire\" + 0.004*\"year\" + 0.003*\"sydney\" + 0.003*\"australia\" + 0.003*\"forces\"\n"
     ]
    },
    {
     "name": "stderr",
     "output_type": "stream",
     "text": [
      "2017-11-20 11:59:35,873 : INFO : topic #1 (0.566): 0.010*\"australia\" + 0.006*\"people\" + 0.006*\"government\" + 0.006*\"arafat\" + 0.005*\"security\" + 0.004*\"united_states\" + 0.004*\"man\" + 0.004*\"attacks\" + 0.003*\"police\" + 0.003*\"year\"\n",
      "2017-11-20 11:59:35,878 : INFO : topic diff=0.991434, rho=1.000000\n",
      "2017-11-20 11:59:35,975 : DEBUG : bound: at document #0\n",
      "2017-11-20 11:59:36,802 : INFO : -7.901 per-word bound, 239.1 perplexity estimate based on a held-out corpus of 300 documents with 18861 words\n",
      "2017-11-20 11:59:36,803 : INFO : PROGRESS: pass 1, at document #300/300\n",
      "2017-11-20 11:59:36,804 : DEBUG : performing inference on a chunk of 300 documents\n",
      "2017-11-20 11:59:37,182 : DEBUG : 299/300 documents converged within 200 iterations\n",
      "2017-11-20 11:59:37,187 : INFO : optimized alpha [0.17664213647158838, 0.18699290466843538]\n",
      "2017-11-20 11:59:37,187 : DEBUG : updating topics\n",
      "2017-11-20 11:59:37,260 : INFO : topic #0 (0.177): 0.006*\"government\" + 0.005*\"afghanistan\" + 0.005*\"people\" + 0.004*\"today\" + 0.004*\"fire\" + 0.004*\"sydney\" + 0.004*\"year\" + 0.003*\"australia\" + 0.003*\"test\" + 0.003*\"days\"\n",
      "2017-11-20 11:59:37,261 : INFO : topic #1 (0.187): 0.009*\"australia\" + 0.006*\"people\" + 0.006*\"arafat\" + 0.006*\"government\" + 0.005*\"security\" + 0.004*\"united_states\" + 0.004*\"man\" + 0.004*\"police\" + 0.004*\"attacks\" + 0.003*\"israeli\"\n",
      "2017-11-20 11:59:37,262 : INFO : topic diff=0.225203, rho=0.577350\n",
      "2017-11-20 11:59:37,350 : DEBUG : bound: at document #0\n",
      "2017-11-20 11:59:37,989 : INFO : -7.814 per-word bound, 225.1 perplexity estimate based on a held-out corpus of 300 documents with 18861 words\n",
      "2017-11-20 11:59:37,989 : INFO : PROGRESS: pass 2, at document #300/300\n",
      "2017-11-20 11:59:37,990 : DEBUG : performing inference on a chunk of 300 documents\n",
      "2017-11-20 11:59:38,177 : DEBUG : 300/300 documents converged within 200 iterations\n",
      "2017-11-20 11:59:38,180 : INFO : optimized alpha [0.12252306706372865, 0.12744574040971118]\n",
      "2017-11-20 11:59:38,181 : DEBUG : updating topics\n",
      "2017-11-20 11:59:38,246 : INFO : topic #0 (0.123): 0.006*\"government\" + 0.005*\"people\" + 0.005*\"afghanistan\" + 0.004*\"today\" + 0.004*\"australia\" + 0.004*\"fire\" + 0.004*\"sydney\" + 0.004*\"year\" + 0.003*\"test\" + 0.003*\"days\"\n",
      "2017-11-20 11:59:38,247 : INFO : topic #1 (0.127): 0.009*\"australia\" + 0.006*\"arafat\" + 0.006*\"people\" + 0.006*\"government\" + 0.005*\"security\" + 0.004*\"united_states\" + 0.004*\"man\" + 0.004*\"police\" + 0.004*\"israeli\" + 0.004*\"attacks\"\n",
      "2017-11-20 11:59:38,247 : INFO : topic diff=0.089714, rho=0.500000\n",
      "2017-11-20 11:59:38,336 : DEBUG : bound: at document #0\n",
      "2017-11-20 11:59:38,946 : INFO : -7.771 per-word bound, 218.4 perplexity estimate based on a held-out corpus of 300 documents with 18861 words\n",
      "2017-11-20 11:59:38,947 : INFO : PROGRESS: pass 3, at document #300/300\n",
      "2017-11-20 11:59:38,947 : DEBUG : performing inference on a chunk of 300 documents\n",
      "2017-11-20 11:59:39,109 : DEBUG : 300/300 documents converged within 200 iterations\n",
      "2017-11-20 11:59:39,113 : INFO : optimized alpha [0.096531137369987183, 0.10029069019001868]\n",
      "2017-11-20 11:59:39,113 : DEBUG : updating topics\n",
      "2017-11-20 11:59:39,170 : INFO : topic #0 (0.097): 0.006*\"government\" + 0.005*\"people\" + 0.005*\"afghanistan\" + 0.004*\"australia\" + 0.004*\"today\" + 0.004*\"fire\" + 0.004*\"year\" + 0.004*\"sydney\" + 0.004*\"test\" + 0.003*\"days\"\n",
      "2017-11-20 11:59:39,171 : INFO : topic #1 (0.100): 0.009*\"australia\" + 0.006*\"arafat\" + 0.006*\"people\" + 0.006*\"government\" + 0.005*\"security\" + 0.004*\"police\" + 0.004*\"united_states\" + 0.004*\"man\" + 0.004*\"israeli\" + 0.004*\"attacks\"\n",
      "2017-11-20 11:59:39,172 : INFO : topic diff=0.050348, rho=0.447214\n",
      "2017-11-20 11:59:39,258 : DEBUG : bound: at document #0\n",
      "2017-11-20 11:59:39,848 : INFO : -7.745 per-word bound, 214.5 perplexity estimate based on a held-out corpus of 300 documents with 18861 words\n",
      "2017-11-20 11:59:39,849 : INFO : PROGRESS: pass 4, at document #300/300\n",
      "2017-11-20 11:59:39,850 : DEBUG : performing inference on a chunk of 300 documents\n",
      "2017-11-20 11:59:40,004 : DEBUG : 300/300 documents converged within 200 iterations\n",
      "2017-11-20 11:59:40,008 : INFO : optimized alpha [0.081941889499426088, 0.084552555199683521]\n",
      "2017-11-20 11:59:40,011 : DEBUG : updating topics\n",
      "2017-11-20 11:59:40,068 : INFO : topic #0 (0.082): 0.006*\"government\" + 0.005*\"people\" + 0.005*\"afghanistan\" + 0.005*\"australia\" + 0.004*\"today\" + 0.004*\"fire\" + 0.004*\"year\" + 0.004*\"sydney\" + 0.004*\"test\" + 0.003*\"days\"\n",
      "2017-11-20 11:59:40,070 : INFO : topic #1 (0.085): 0.008*\"australia\" + 0.006*\"arafat\" + 0.006*\"people\" + 0.006*\"government\" + 0.005*\"security\" + 0.004*\"police\" + 0.004*\"united_states\" + 0.004*\"man\" + 0.004*\"israeli\" + 0.004*\"attacks\"\n",
      "2017-11-20 11:59:40,072 : INFO : topic diff=0.035593, rho=0.408248\n",
      "2017-11-20 11:59:40,130 : DEBUG : Setting topics to those of the model: LdaModel(num_terms=4431, num_topics=2, decay=0.5, chunksize=300)\n",
      "2017-11-20 11:59:40,133 : INFO : using ParallelWordOccurrenceAccumulator(processes=3, batch_size=64) to estimate probabilities from sliding windows\n",
      "2017-11-20 11:59:40,175 : DEBUG : completed batch 0; 64 documents processed (92 virtual)\n",
      "2017-11-20 11:59:40,227 : DEBUG : completed batch 1; 128 documents processed (354 virtual)\n",
      "2017-11-20 11:59:40,226 : DEBUG : completed batch 0; 64 documents processed (271 virtual)\n",
      "2017-11-20 11:59:40,226 : DEBUG : completed batch 0; 64 documents processed (292 virtual)\n",
      "2017-11-20 11:59:40,248 : DEBUG : observed sentinel value; terminating\n",
      "2017-11-20 11:59:40,254 : DEBUG : finished all batches; 128 documents processed (354 virtual)\n",
      "2017-11-20 11:59:40,259 : DEBUG : completed batch 1; 99 documents processed (488 virtual)\n",
      "2017-11-20 11:59:40,257 : DEBUG : observed sentinel value; terminating\n",
      "2017-11-20 11:59:40,259 : INFO : serializing accumulator to return to master...\n",
      "2017-11-20 11:59:40,260 : DEBUG : observed sentinel value; terminating\n",
      "2017-11-20 11:59:40,262 : DEBUG : finished all batches; 64 documents processed (271 virtual)\n",
      "2017-11-20 11:59:40,264 : DEBUG : finished all batches; 99 documents processed (488 virtual)\n",
      "2017-11-20 11:59:40,262 : INFO : accumulator serialized\n",
      "2017-11-20 11:59:40,273 : INFO : accumulator serialized\n",
      "2017-11-20 11:59:40,270 : INFO : serializing accumulator to return to master...\n",
      "2017-11-20 11:59:40,299 : INFO : serializing accumulator to return to master...\n",
      "2017-11-20 11:59:40,308 : INFO : accumulator serialized\n",
      "2017-11-20 11:59:40,320 : INFO : 3 accumulators retrieved from output queue\n",
      "2017-11-20 11:59:40,333 : INFO : accumulated word occurrence stats for 1113 virtual documents\n",
      "2017-11-20 11:59:40,455 : INFO : using autotuned alpha, starting with [0.33333333333333331, 0.33333333333333331, 0.33333333333333331]\n",
      "2017-11-20 11:59:40,457 : INFO : using serial LDA version on this node\n",
      "2017-11-20 11:59:40,628 : INFO : running online (multi-pass) LDA training, 3 topics, 5 passes over the supplied corpus of 300 documents, updating model once every 300 documents, evaluating perplexity every 300 documents, iterating 200x with a convergence threshold of 0.001000\n",
      "2017-11-20 11:59:40,629 : WARNING : too few updates, training might not converge; consider increasing the number of passes or iterations to improve accuracy\n",
      "2017-11-20 11:59:40,803 : DEBUG : bound: at document #0\n",
      "2017-11-20 11:59:42,528 : INFO : -9.168 per-word bound, 575.0 perplexity estimate based on a held-out corpus of 300 documents with 18861 words\n",
      "2017-11-20 11:59:42,529 : INFO : PROGRESS: pass 0, at document #300/300\n",
      "2017-11-20 11:59:42,529 : DEBUG : performing inference on a chunk of 300 documents\n",
      "2017-11-20 11:59:43,687 : DEBUG : 186/300 documents converged within 200 iterations\n",
      "2017-11-20 11:59:43,691 : INFO : optimized alpha [0.059943678019512059, 0.21320151413685823, 0.091020287289455576]\n",
      "2017-11-20 11:59:43,693 : DEBUG : updating topics\n",
      "2017-11-20 11:59:43,792 : INFO : topic #0 (0.060): 0.009*\"australia\" + 0.006*\"government\" + 0.005*\"test\" + 0.004*\"security\" + 0.004*\"people\" + 0.004*\"man\" + 0.004*\"today\" + 0.004*\"force\" + 0.003*\"day\" + 0.003*\"sydney\"\n",
      "2017-11-20 11:59:43,794 : INFO : topic #1 (0.213): 0.008*\"people\" + 0.007*\"government\" + 0.007*\"arafat\" + 0.006*\"afghanistan\" + 0.005*\"police\" + 0.005*\"united_states\" + 0.005*\"security\" + 0.005*\"australia\" + 0.004*\"year\" + 0.004*\"israeli\"\n"
     ]
    },
    {
     "name": "stderr",
     "output_type": "stream",
     "text": [
      "2017-11-20 11:59:43,797 : INFO : topic #2 (0.091): 0.009*\"australia\" + 0.004*\"company\" + 0.004*\"year\" + 0.004*\"today\" + 0.004*\"commission\" + 0.004*\"people\" + 0.004*\"time\" + 0.003*\"government\" + 0.003*\"day\" + 0.003*\"centre\"\n",
      "2017-11-20 11:59:43,799 : INFO : topic diff=1.614642, rho=1.000000\n",
      "2017-11-20 11:59:43,909 : DEBUG : bound: at document #0\n",
      "2017-11-20 11:59:44,551 : INFO : -7.880 per-word bound, 235.6 perplexity estimate based on a held-out corpus of 300 documents with 18861 words\n",
      "2017-11-20 11:59:44,552 : INFO : PROGRESS: pass 1, at document #300/300\n",
      "2017-11-20 11:59:44,553 : DEBUG : performing inference on a chunk of 300 documents\n",
      "2017-11-20 11:59:44,758 : DEBUG : 298/300 documents converged within 200 iterations\n",
      "2017-11-20 11:59:44,762 : INFO : optimized alpha [0.053629438952846109, 0.11270552467699124, 0.07463228881093853]\n",
      "2017-11-20 11:59:44,762 : DEBUG : updating topics\n",
      "2017-11-20 11:59:44,855 : INFO : topic #0 (0.054): 0.009*\"australia\" + 0.006*\"government\" + 0.005*\"test\" + 0.004*\"man\" + 0.004*\"people\" + 0.004*\"sydney\" + 0.004*\"security\" + 0.004*\"today\" + 0.004*\"day\" + 0.003*\"force\"\n",
      "2017-11-20 11:59:44,860 : INFO : topic #1 (0.113): 0.008*\"people\" + 0.007*\"arafat\" + 0.007*\"government\" + 0.006*\"afghanistan\" + 0.005*\"united_states\" + 0.005*\"police\" + 0.005*\"security\" + 0.004*\"australia\" + 0.004*\"israeli\" + 0.004*\"forces\"\n",
      "2017-11-20 11:59:44,861 : INFO : topic #2 (0.075): 0.009*\"australia\" + 0.005*\"company\" + 0.004*\"commission\" + 0.004*\"year\" + 0.004*\"today\" + 0.004*\"people\" + 0.003*\"time\" + 0.003*\"union\" + 0.003*\"detainees\" + 0.003*\"cent\"\n",
      "2017-11-20 11:59:44,861 : INFO : topic diff=0.278453, rho=0.577350\n",
      "2017-11-20 11:59:44,957 : DEBUG : bound: at document #0\n",
      "2017-11-20 11:59:45,564 : INFO : -7.799 per-word bound, 222.6 perplexity estimate based on a held-out corpus of 300 documents with 18861 words\n",
      "2017-11-20 11:59:45,565 : INFO : PROGRESS: pass 2, at document #300/300\n",
      "2017-11-20 11:59:45,565 : DEBUG : performing inference on a chunk of 300 documents\n",
      "2017-11-20 11:59:45,730 : DEBUG : 300/300 documents converged within 200 iterations\n",
      "2017-11-20 11:59:45,735 : INFO : optimized alpha [0.048848764049028617, 0.095018315959189859, 0.064986879364785255]\n",
      "2017-11-20 11:59:45,737 : DEBUG : updating topics\n",
      "2017-11-20 11:59:45,826 : INFO : topic #0 (0.049): 0.009*\"australia\" + 0.006*\"government\" + 0.006*\"test\" + 0.004*\"man\" + 0.004*\"sydney\" + 0.004*\"people\" + 0.004*\"today\" + 0.004*\"day\" + 0.004*\"security\" + 0.003*\"fire\"\n",
      "2017-11-20 11:59:45,829 : INFO : topic #1 (0.095): 0.008*\"people\" + 0.007*\"arafat\" + 0.007*\"government\" + 0.007*\"afghanistan\" + 0.005*\"united_states\" + 0.005*\"security\" + 0.005*\"police\" + 0.004*\"forces\" + 0.004*\"israeli\" + 0.004*\"australia\"\n",
      "2017-11-20 11:59:45,831 : INFO : topic #2 (0.065): 0.009*\"australia\" + 0.005*\"company\" + 0.005*\"commission\" + 0.004*\"year\" + 0.004*\"today\" + 0.004*\"people\" + 0.004*\"qantas\" + 0.003*\"union\" + 0.003*\"action\" + 0.003*\"time\"\n",
      "2017-11-20 11:59:45,833 : INFO : topic diff=0.110512, rho=0.500000\n",
      "2017-11-20 11:59:45,931 : DEBUG : bound: at document #0\n",
      "2017-11-20 11:59:46,544 : INFO : -7.756 per-word bound, 216.1 perplexity estimate based on a held-out corpus of 300 documents with 18861 words\n",
      "2017-11-20 11:59:46,546 : INFO : PROGRESS: pass 3, at document #300/300\n",
      "2017-11-20 11:59:46,548 : DEBUG : performing inference on a chunk of 300 documents\n",
      "2017-11-20 11:59:46,719 : DEBUG : 299/300 documents converged within 200 iterations\n",
      "2017-11-20 11:59:46,723 : INFO : optimized alpha [0.045119456236437844, 0.084345719047821704, 0.058963879648556622]\n",
      "2017-11-20 11:59:46,725 : DEBUG : updating topics\n",
      "2017-11-20 11:59:46,811 : INFO : topic #0 (0.045): 0.009*\"australia\" + 0.006*\"test\" + 0.006*\"government\" + 0.004*\"man\" + 0.004*\"sydney\" + 0.004*\"people\" + 0.004*\"today\" + 0.004*\"day\" + 0.003*\"fire\" + 0.003*\"security\"\n",
      "2017-11-20 11:59:46,813 : INFO : topic #1 (0.084): 0.008*\"people\" + 0.007*\"arafat\" + 0.007*\"government\" + 0.007*\"afghanistan\" + 0.005*\"security\" + 0.005*\"united_states\" + 0.005*\"police\" + 0.005*\"forces\" + 0.004*\"israeli\" + 0.004*\"australia\"\n",
      "2017-11-20 11:59:46,816 : INFO : topic #2 (0.059): 0.009*\"australia\" + 0.005*\"company\" + 0.005*\"commission\" + 0.004*\"year\" + 0.004*\"today\" + 0.004*\"qantas\" + 0.004*\"people\" + 0.004*\"action\" + 0.004*\"union\" + 0.003*\"cent\"\n",
      "2017-11-20 11:59:46,818 : INFO : topic diff=0.069230, rho=0.447214\n",
      "2017-11-20 11:59:46,918 : DEBUG : bound: at document #0\n",
      "2017-11-20 11:59:47,522 : INFO : -7.728 per-word bound, 212.1 perplexity estimate based on a held-out corpus of 300 documents with 18861 words\n",
      "2017-11-20 11:59:47,524 : INFO : PROGRESS: pass 4, at document #300/300\n",
      "2017-11-20 11:59:47,526 : DEBUG : performing inference on a chunk of 300 documents\n",
      "2017-11-20 11:59:47,683 : DEBUG : 299/300 documents converged within 200 iterations\n",
      "2017-11-20 11:59:47,688 : INFO : optimized alpha [0.042275670480028442, 0.076506793049196858, 0.054278045775914996]\n",
      "2017-11-20 11:59:47,691 : DEBUG : updating topics\n",
      "2017-11-20 11:59:47,778 : INFO : topic #0 (0.042): 0.009*\"australia\" + 0.006*\"test\" + 0.006*\"government\" + 0.004*\"sydney\" + 0.004*\"man\" + 0.004*\"people\" + 0.004*\"today\" + 0.004*\"day\" + 0.004*\"fire\" + 0.003*\"security\"\n",
      "2017-11-20 11:59:47,781 : INFO : topic #1 (0.077): 0.008*\"people\" + 0.007*\"arafat\" + 0.007*\"government\" + 0.007*\"afghanistan\" + 0.005*\"security\" + 0.005*\"united_states\" + 0.005*\"police\" + 0.005*\"forces\" + 0.004*\"israeli\" + 0.004*\"australia\"\n",
      "2017-11-20 11:59:47,783 : INFO : topic #2 (0.054): 0.009*\"australia\" + 0.006*\"company\" + 0.005*\"commission\" + 0.004*\"year\" + 0.004*\"today\" + 0.004*\"qantas\" + 0.004*\"people\" + 0.004*\"action\" + 0.004*\"union\" + 0.003*\"cent\"\n",
      "2017-11-20 11:59:47,785 : INFO : topic diff=0.051233, rho=0.408248\n",
      "2017-11-20 11:59:47,845 : DEBUG : Setting topics to those of the model: LdaModel(num_terms=4431, num_topics=3, decay=0.5, chunksize=300)\n",
      "2017-11-20 11:59:47,848 : INFO : using ParallelWordOccurrenceAccumulator(processes=3, batch_size=64) to estimate probabilities from sliding windows\n",
      "2017-11-20 11:59:47,907 : DEBUG : completed batch 0; 64 documents processed (92 virtual)\n",
      "2017-11-20 11:59:47,953 : DEBUG : completed batch 1; 128 documents processed (354 virtual)\n",
      "2017-11-20 11:59:47,933 : DEBUG : completed batch 0; 64 documents processed (305 virtual)\n",
      "2017-11-20 11:59:47,944 : DEBUG : completed batch 0; 64 documents processed (258 virtual)\n",
      "2017-11-20 11:59:47,975 : DEBUG : observed sentinel value; terminating\n",
      "2017-11-20 11:59:47,979 : DEBUG : finished all batches; 64 documents processed (305 virtual)\n",
      "2017-11-20 11:59:47,982 : DEBUG : observed sentinel value; terminating\n",
      "2017-11-20 11:59:47,984 : INFO : serializing accumulator to return to master...\n",
      "2017-11-20 11:59:47,991 : DEBUG : finished all batches; 64 documents processed (258 virtual)\n",
      "2017-11-20 11:59:47,997 : INFO : serializing accumulator to return to master...\n",
      "2017-11-20 11:59:48,004 : INFO : accumulator serialized\n",
      "2017-11-20 11:59:48,005 : INFO : accumulator serialized\n",
      "2017-11-20 11:59:48,014 : DEBUG : completed batch 2; 167 documents processed (554 virtual)\n",
      "2017-11-20 11:59:48,029 : DEBUG : observed sentinel value; terminating\n",
      "2017-11-20 11:59:48,054 : DEBUG : finished all batches; 167 documents processed (554 virtual)\n",
      "2017-11-20 11:59:48,063 : INFO : serializing accumulator to return to master...\n",
      "2017-11-20 11:59:48,071 : INFO : accumulator serialized\n",
      "2017-11-20 11:59:48,078 : INFO : 3 accumulators retrieved from output queue\n",
      "2017-11-20 11:59:48,090 : INFO : accumulated word occurrence stats for 1117 virtual documents\n",
      "2017-11-20 11:59:48,239 : INFO : using autotuned alpha, starting with [0.25, 0.25, 0.25, 0.25]\n",
      "2017-11-20 11:59:48,251 : INFO : using serial LDA version on this node\n",
      "2017-11-20 11:59:48,466 : INFO : running online (multi-pass) LDA training, 4 topics, 5 passes over the supplied corpus of 300 documents, updating model once every 300 documents, evaluating perplexity every 300 documents, iterating 200x with a convergence threshold of 0.001000\n",
      "2017-11-20 11:59:48,466 : WARNING : too few updates, training might not converge; consider increasing the number of passes or iterations to improve accuracy\n",
      "2017-11-20 11:59:48,711 : DEBUG : bound: at document #0\n",
      "2017-11-20 11:59:50,348 : INFO : -9.433 per-word bound, 691.0 perplexity estimate based on a held-out corpus of 300 documents with 18861 words\n"
     ]
    },
    {
     "name": "stderr",
     "output_type": "stream",
     "text": [
      "2017-11-20 11:59:50,349 : INFO : PROGRESS: pass 0, at document #300/300\n",
      "2017-11-20 11:59:50,349 : DEBUG : performing inference on a chunk of 300 documents\n",
      "2017-11-20 11:59:51,500 : DEBUG : 192/300 documents converged within 200 iterations\n",
      "2017-11-20 11:59:51,505 : INFO : optimized alpha [0.064963085491767769, 0.15435965067996149, 0.043132816946855806, 0.097256520041234085]\n",
      "2017-11-20 11:59:51,507 : DEBUG : updating topics\n",
      "2017-11-20 11:59:51,624 : INFO : topic #0 (0.065): 0.008*\"arafat\" + 0.006*\"company\" + 0.006*\"security\" + 0.005*\"people\" + 0.004*\"action\" + 0.004*\"australia\" + 0.004*\"israeli\" + 0.004*\"forces\" + 0.004*\"time\" + 0.004*\"government\"\n",
      "2017-11-20 11:59:51,624 : INFO : topic #1 (0.154): 0.009*\"government\" + 0.007*\"australia\" + 0.006*\"people\" + 0.004*\"afghanistan\" + 0.004*\"attacks\" + 0.004*\"test\" + 0.004*\"pakistan\" + 0.003*\"fire\" + 0.003*\"day\" + 0.003*\"security\"\n",
      "2017-11-20 11:59:51,626 : INFO : topic #2 (0.043): 0.008*\"people\" + 0.007*\"australia\" + 0.005*\"afghanistan\" + 0.005*\"year\" + 0.005*\"government\" + 0.004*\"officials\" + 0.004*\"united_states\" + 0.004*\"world\" + 0.003*\"years\" + 0.003*\"metres\"\n",
      "2017-11-20 11:59:51,628 : INFO : topic #3 (0.097): 0.009*\"australia\" + 0.006*\"people\" + 0.005*\"sydney\" + 0.005*\"police\" + 0.005*\"fire\" + 0.005*\"government\" + 0.005*\"afghanistan\" + 0.004*\"today\" + 0.004*\"year\" + 0.003*\"new_south\"\n",
      "2017-11-20 11:59:51,629 : INFO : topic diff=2.268772, rho=1.000000\n",
      "2017-11-20 11:59:51,746 : DEBUG : bound: at document #0\n",
      "2017-11-20 11:59:52,404 : INFO : -7.927 per-word bound, 243.4 perplexity estimate based on a held-out corpus of 300 documents with 18861 words\n",
      "2017-11-20 11:59:52,405 : INFO : PROGRESS: pass 1, at document #300/300\n",
      "2017-11-20 11:59:52,405 : DEBUG : performing inference on a chunk of 300 documents\n",
      "2017-11-20 11:59:52,637 : DEBUG : 299/300 documents converged within 200 iterations\n",
      "2017-11-20 11:59:52,641 : INFO : optimized alpha [0.0582292516154947, 0.10310422022934701, 0.039687008410322473, 0.076917542215760568]\n",
      "2017-11-20 11:59:52,642 : DEBUG : updating topics\n",
      "2017-11-20 11:59:52,752 : INFO : topic #0 (0.058): 0.009*\"arafat\" + 0.006*\"company\" + 0.006*\"security\" + 0.006*\"israeli\" + 0.005*\"action\" + 0.004*\"people\" + 0.004*\"israel\" + 0.004*\"qantas\" + 0.004*\"forces\" + 0.004*\"australia\"\n",
      "2017-11-20 11:59:52,753 : INFO : topic #1 (0.103): 0.009*\"government\" + 0.007*\"australia\" + 0.006*\"people\" + 0.005*\"afghanistan\" + 0.004*\"attacks\" + 0.004*\"test\" + 0.004*\"pakistan\" + 0.003*\"security\" + 0.003*\"fire\" + 0.003*\"day\"\n",
      "2017-11-20 11:59:52,755 : INFO : topic #2 (0.040): 0.007*\"people\" + 0.006*\"australia\" + 0.005*\"year\" + 0.005*\"metres\" + 0.005*\"afghanistan\" + 0.004*\"government\" + 0.004*\"world\" + 0.003*\"united_states\" + 0.003*\"years\" + 0.003*\"cent\"\n",
      "2017-11-20 11:59:52,757 : INFO : topic #3 (0.077): 0.009*\"australia\" + 0.006*\"people\" + 0.005*\"sydney\" + 0.005*\"fire\" + 0.005*\"police\" + 0.005*\"afghanistan\" + 0.004*\"today\" + 0.004*\"government\" + 0.004*\"new_south\" + 0.004*\"wales\"\n",
      "2017-11-20 11:59:52,759 : INFO : topic diff=0.333328, rho=0.577350\n",
      "2017-11-20 11:59:52,875 : DEBUG : bound: at document #0\n",
      "2017-11-20 11:59:53,496 : INFO : -7.838 per-word bound, 228.7 perplexity estimate based on a held-out corpus of 300 documents with 18861 words\n",
      "2017-11-20 11:59:53,497 : INFO : PROGRESS: pass 2, at document #300/300\n",
      "2017-11-20 11:59:53,497 : DEBUG : performing inference on a chunk of 300 documents\n",
      "2017-11-20 11:59:53,674 : DEBUG : 298/300 documents converged within 200 iterations\n",
      "2017-11-20 11:59:53,678 : INFO : optimized alpha [0.05338246015600627, 0.085801725498894282, 0.036758999676294708, 0.066076585075786745]\n",
      "2017-11-20 11:59:53,678 : DEBUG : updating topics\n",
      "2017-11-20 11:59:53,789 : INFO : topic #0 (0.053): 0.011*\"arafat\" + 0.006*\"israeli\" + 0.006*\"security\" + 0.006*\"company\" + 0.005*\"israel\" + 0.004*\"people\" + 0.004*\"action\" + 0.004*\"hamas\" + 0.004*\"qantas\" + 0.004*\"forces\"\n",
      "2017-11-20 11:59:53,790 : INFO : topic #1 (0.086): 0.009*\"government\" + 0.007*\"australia\" + 0.006*\"people\" + 0.005*\"afghanistan\" + 0.004*\"attacks\" + 0.004*\"test\" + 0.004*\"pakistan\" + 0.003*\"afghan\" + 0.003*\"security\" + 0.003*\"day\"\n",
      "2017-11-20 11:59:53,792 : INFO : topic #2 (0.037): 0.007*\"people\" + 0.006*\"australia\" + 0.005*\"metres\" + 0.005*\"year\" + 0.004*\"afghanistan\" + 0.004*\"government\" + 0.004*\"world\" + 0.003*\"united_states\" + 0.003*\"cent\" + 0.003*\"years\"\n",
      "2017-11-20 11:59:53,793 : INFO : topic #3 (0.066): 0.009*\"australia\" + 0.006*\"people\" + 0.005*\"fire\" + 0.005*\"sydney\" + 0.005*\"police\" + 0.005*\"afghanistan\" + 0.004*\"today\" + 0.004*\"government\" + 0.004*\"new_south\" + 0.004*\"wales\"\n",
      "2017-11-20 11:59:53,795 : INFO : topic diff=0.140401, rho=0.500000\n",
      "2017-11-20 11:59:53,909 : DEBUG : bound: at document #0\n",
      "2017-11-20 11:59:54,503 : INFO : -7.786 per-word bound, 220.7 perplexity estimate based on a held-out corpus of 300 documents with 18861 words\n",
      "2017-11-20 11:59:54,504 : INFO : PROGRESS: pass 3, at document #300/300\n",
      "2017-11-20 11:59:54,505 : DEBUG : performing inference on a chunk of 300 documents\n",
      "2017-11-20 11:59:54,667 : DEBUG : 300/300 documents converged within 200 iterations\n",
      "2017-11-20 11:59:54,671 : INFO : optimized alpha [0.049705074499918962, 0.075503713651550369, 0.0342121779746732, 0.058615035738295573]\n",
      "2017-11-20 11:59:54,671 : DEBUG : updating topics\n",
      "2017-11-20 11:59:54,777 : INFO : topic #0 (0.050): 0.011*\"arafat\" + 0.007*\"israeli\" + 0.006*\"security\" + 0.005*\"company\" + 0.005*\"israel\" + 0.005*\"hamas\" + 0.005*\"people\" + 0.004*\"action\" + 0.004*\"qantas\" + 0.004*\"forces\"\n",
      "2017-11-20 11:59:54,777 : INFO : topic #1 (0.076): 0.009*\"government\" + 0.007*\"australia\" + 0.006*\"people\" + 0.005*\"afghanistan\" + 0.004*\"test\" + 0.004*\"attacks\" + 0.004*\"pakistan\" + 0.004*\"afghan\" + 0.003*\"security\" + 0.003*\"days\"\n",
      "2017-11-20 11:59:54,779 : INFO : topic #2 (0.034): 0.006*\"people\" + 0.006*\"australia\" + 0.006*\"metres\" + 0.005*\"year\" + 0.004*\"afghanistan\" + 0.004*\"government\" + 0.004*\"world\" + 0.003*\"cent\" + 0.003*\"united_states\" + 0.003*\"years\"\n",
      "2017-11-20 11:59:54,780 : INFO : topic #3 (0.059): 0.009*\"australia\" + 0.006*\"people\" + 0.005*\"fire\" + 0.005*\"sydney\" + 0.005*\"police\" + 0.005*\"afghanistan\" + 0.004*\"today\" + 0.004*\"government\" + 0.004*\"new_south\" + 0.004*\"wales\"\n",
      "2017-11-20 11:59:54,782 : INFO : topic diff=0.091056, rho=0.447214\n",
      "2017-11-20 11:59:54,897 : DEBUG : bound: at document #0\n",
      "2017-11-20 11:59:55,480 : INFO : -7.752 per-word bound, 215.6 perplexity estimate based on a held-out corpus of 300 documents with 18861 words\n",
      "2017-11-20 11:59:55,481 : INFO : PROGRESS: pass 4, at document #300/300\n",
      "2017-11-20 11:59:55,482 : DEBUG : performing inference on a chunk of 300 documents\n",
      "2017-11-20 11:59:55,634 : DEBUG : 300/300 documents converged within 200 iterations\n",
      "2017-11-20 11:59:55,637 : INFO : optimized alpha [0.046873445643574943, 0.068328888256611445, 0.03213436170149201, 0.053075884531472856]\n",
      "2017-11-20 11:59:55,638 : DEBUG : updating topics\n",
      "2017-11-20 11:59:55,743 : INFO : topic #0 (0.047): 0.012*\"arafat\" + 0.007*\"israeli\" + 0.006*\"security\" + 0.006*\"israel\" + 0.005*\"company\" + 0.005*\"people\" + 0.005*\"hamas\" + 0.004*\"action\" + 0.004*\"government\" + 0.004*\"west_bank\"\n",
      "2017-11-20 11:59:55,743 : INFO : topic #1 (0.068): 0.009*\"government\" + 0.007*\"australia\" + 0.006*\"people\" + 0.006*\"afghanistan\" + 0.004*\"test\" + 0.004*\"pakistan\" + 0.004*\"attacks\" + 0.004*\"afghan\" + 0.003*\"security\" + 0.003*\"days\"\n",
      "2017-11-20 11:59:55,745 : INFO : topic #2 (0.032): 0.007*\"people\" + 0.006*\"australia\" + 0.006*\"metres\" + 0.005*\"year\" + 0.004*\"afghanistan\" + 0.004*\"government\" + 0.004*\"world\" + 0.003*\"cent\" + 0.003*\"united_states\" + 0.003*\"years\"\n",
      "2017-11-20 11:59:55,747 : INFO : topic #3 (0.053): 0.009*\"australia\" + 0.006*\"people\" + 0.005*\"fire\" + 0.005*\"sydney\" + 0.005*\"police\" + 0.005*\"today\" + 0.004*\"afghanistan\" + 0.004*\"government\" + 0.004*\"year\" + 0.004*\"new_south\"\n",
      "2017-11-20 11:59:55,748 : INFO : topic diff=0.063521, rho=0.408248\n",
      "2017-11-20 11:59:55,812 : DEBUG : Setting topics to those of the model: LdaModel(num_terms=4431, num_topics=4, decay=0.5, chunksize=300)\n",
      "2017-11-20 11:59:55,813 : INFO : using ParallelWordOccurrenceAccumulator(processes=3, batch_size=64) to estimate probabilities from sliding windows\n",
      "2017-11-20 11:59:55,866 : DEBUG : completed batch 0; 64 documents processed (305 virtual)\n"
     ]
    },
    {
     "name": "stderr",
     "output_type": "stream",
     "text": [
      "2017-11-20 11:59:55,898 : DEBUG : completed batch 1; 128 documents processed (546 virtual)\n",
      "2017-11-20 11:59:55,884 : DEBUG : completed batch 0; 64 documents processed (92 virtual)\n",
      "2017-11-20 11:59:55,922 : DEBUG : completed batch 2; 169 documents processed (769 virtual)\n",
      "2017-11-20 11:59:55,923 : DEBUG : observed sentinel value; terminating\n",
      "2017-11-20 11:59:55,924 : DEBUG : observed sentinel value; terminating\n",
      "2017-11-20 11:59:55,926 : DEBUG : finished all batches; 169 documents processed (769 virtual)\n",
      "2017-11-20 11:59:55,926 : DEBUG : finished all batches; 64 documents processed (92 virtual)\n",
      "2017-11-20 11:59:55,903 : DEBUG : completed batch 0; 64 documents processed (258 virtual)\n",
      "2017-11-20 11:59:55,928 : INFO : serializing accumulator to return to master...\n",
      "2017-11-20 11:59:55,928 : INFO : serializing accumulator to return to master...\n",
      "2017-11-20 11:59:55,929 : DEBUG : observed sentinel value; terminating\n",
      "2017-11-20 11:59:55,933 : INFO : accumulator serialized\n",
      "2017-11-20 11:59:55,933 : INFO : accumulator serialized\n",
      "2017-11-20 11:59:55,934 : DEBUG : finished all batches; 64 documents processed (258 virtual)\n",
      "2017-11-20 11:59:55,948 : INFO : serializing accumulator to return to master...\n",
      "2017-11-20 11:59:55,957 : INFO : accumulator serialized\n",
      "2017-11-20 11:59:55,966 : INFO : 3 accumulators retrieved from output queue\n",
      "2017-11-20 11:59:55,976 : INFO : accumulated word occurrence stats for 1119 virtual documents\n",
      "2017-11-20 11:59:56,121 : INFO : using autotuned alpha, starting with [0.20000000000000001, 0.20000000000000001, 0.20000000000000001, 0.20000000000000001, 0.20000000000000001]\n",
      "2017-11-20 11:59:56,123 : INFO : using serial LDA version on this node\n",
      "2017-11-20 11:59:56,377 : INFO : running online (multi-pass) LDA training, 5 topics, 5 passes over the supplied corpus of 300 documents, updating model once every 300 documents, evaluating perplexity every 300 documents, iterating 200x with a convergence threshold of 0.001000\n",
      "2017-11-20 11:59:56,377 : WARNING : too few updates, training might not converge; consider increasing the number of passes or iterations to improve accuracy\n",
      "2017-11-20 11:59:56,715 : DEBUG : bound: at document #0\n",
      "2017-11-20 11:59:58,264 : INFO : -9.731 per-word bound, 849.6 perplexity estimate based on a held-out corpus of 300 documents with 18861 words\n",
      "2017-11-20 11:59:58,265 : INFO : PROGRESS: pass 0, at document #300/300\n",
      "2017-11-20 11:59:58,265 : DEBUG : performing inference on a chunk of 300 documents\n",
      "2017-11-20 11:59:59,363 : DEBUG : 206/300 documents converged within 200 iterations\n",
      "2017-11-20 11:59:59,366 : INFO : optimized alpha [0.064324722405486645, 0.068009995150238617, 0.089849052171193461, 0.10510168304964597, 0.082628802716477504]\n",
      "2017-11-20 11:59:59,367 : DEBUG : updating topics\n",
      "2017-11-20 11:59:59,498 : INFO : topic #0 (0.064): 0.011*\"arafat\" + 0.007*\"people\" + 0.007*\"police\" + 0.005*\"government\" + 0.005*\"israeli\" + 0.005*\"commission\" + 0.005*\"today\" + 0.004*\"australia\" + 0.004*\"israel\" + 0.004*\"centre\"\n",
      "2017-11-20 11:59:59,499 : INFO : topic #1 (0.068): 0.008*\"government\" + 0.005*\"today\" + 0.004*\"people\" + 0.004*\"year\" + 0.004*\"afghanistan\" + 0.004*\"area\" + 0.003*\"security\" + 0.003*\"time\" + 0.003*\"cent\" + 0.003*\"cancer\"\n",
      "2017-11-20 11:59:59,499 : INFO : topic #2 (0.090): 0.010*\"australia\" + 0.008*\"people\" + 0.005*\"year\" + 0.004*\"world\" + 0.004*\"afghan\" + 0.004*\"united_states\" + 0.004*\"economy\" + 0.004*\"fire\" + 0.004*\"time\" + 0.004*\"police\"\n",
      "2017-11-20 11:59:59,500 : INFO : topic #3 (0.105): 0.006*\"test\" + 0.006*\"government\" + 0.006*\"australia\" + 0.006*\"pakistan\" + 0.005*\"people\" + 0.005*\"security\" + 0.005*\"force\" + 0.004*\"man\" + 0.004*\"afghanistan\" + 0.004*\"company\"\n",
      "2017-11-20 11:59:59,501 : INFO : topic #4 (0.083): 0.010*\"australia\" + 0.008*\"afghanistan\" + 0.007*\"government\" + 0.005*\"people\" + 0.005*\"man\" + 0.004*\"metres\" + 0.004*\"taliban\" + 0.004*\"united_states\" + 0.004*\"south\" + 0.004*\"world\"\n",
      "2017-11-20 11:59:59,501 : INFO : topic diff=3.013847, rho=1.000000\n",
      "2017-11-20 11:59:59,635 : DEBUG : bound: at document #0\n",
      "2017-11-20 12:00:00,257 : INFO : -7.916 per-word bound, 241.5 perplexity estimate based on a held-out corpus of 300 documents with 18861 words\n",
      "2017-11-20 12:00:00,258 : INFO : PROGRESS: pass 1, at document #300/300\n",
      "2017-11-20 12:00:00,258 : DEBUG : performing inference on a chunk of 300 documents\n",
      "2017-11-20 12:00:00,447 : DEBUG : 300/300 documents converged within 200 iterations\n",
      "2017-11-20 12:00:00,451 : INFO : optimized alpha [0.058015468337958113, 0.057195472191604403, 0.073689024399244768, 0.083075207668388912, 0.068336163050179602]\n",
      "2017-11-20 12:00:00,451 : DEBUG : updating topics\n",
      "2017-11-20 12:00:00,582 : INFO : topic #0 (0.058): 0.013*\"arafat\" + 0.007*\"people\" + 0.007*\"police\" + 0.007*\"israeli\" + 0.006*\"government\" + 0.005*\"israel\" + 0.005*\"commission\" + 0.005*\"west_bank\" + 0.005*\"today\" + 0.004*\"security\"\n",
      "2017-11-20 12:00:00,583 : INFO : topic #1 (0.057): 0.007*\"government\" + 0.005*\"today\" + 0.004*\"people\" + 0.004*\"year\" + 0.004*\"area\" + 0.004*\"afghanistan\" + 0.003*\"cancer\" + 0.003*\"cent\" + 0.003*\"minister\" + 0.003*\"time\"\n",
      "2017-11-20 12:00:00,585 : INFO : topic #2 (0.074): 0.010*\"australia\" + 0.007*\"people\" + 0.005*\"year\" + 0.004*\"world\" + 0.004*\"economy\" + 0.004*\"afghan\" + 0.004*\"qantas\" + 0.004*\"united_states\" + 0.004*\"cent\" + 0.004*\"fire\"\n",
      "2017-11-20 12:00:00,586 : INFO : topic #3 (0.083): 0.007*\"test\" + 0.006*\"australia\" + 0.006*\"government\" + 0.006*\"pakistan\" + 0.005*\"force\" + 0.005*\"people\" + 0.005*\"security\" + 0.005*\"afghanistan\" + 0.004*\"man\" + 0.004*\"sydney\"\n",
      "2017-11-20 12:00:00,587 : INFO : topic #4 (0.068): 0.010*\"australia\" + 0.008*\"afghanistan\" + 0.007*\"government\" + 0.005*\"people\" + 0.005*\"metres\" + 0.005*\"taliban\" + 0.005*\"man\" + 0.004*\"south\" + 0.004*\"united_states\" + 0.004*\"world\"\n",
      "2017-11-20 12:00:00,589 : INFO : topic diff=0.409996, rho=0.577350\n",
      "2017-11-20 12:00:00,718 : DEBUG : bound: at document #0\n",
      "2017-11-20 12:00:01,309 : INFO : -7.819 per-word bound, 225.8 perplexity estimate based on a held-out corpus of 300 documents with 18861 words\n",
      "2017-11-20 12:00:01,310 : INFO : PROGRESS: pass 2, at document #300/300\n",
      "2017-11-20 12:00:01,310 : DEBUG : performing inference on a chunk of 300 documents\n",
      "2017-11-20 12:00:01,473 : DEBUG : 300/300 documents converged within 200 iterations\n",
      "2017-11-20 12:00:01,476 : INFO : optimized alpha [0.053616439029399693, 0.050269754556471064, 0.064192604213783755, 0.071317930926957804, 0.060245032235802104]\n",
      "2017-11-20 12:00:01,477 : DEBUG : updating topics\n",
      "2017-11-20 12:00:01,599 : INFO : topic #0 (0.054): 0.014*\"arafat\" + 0.008*\"israeli\" + 0.007*\"people\" + 0.007*\"police\" + 0.006*\"israel\" + 0.006*\"government\" + 0.005*\"west_bank\" + 0.005*\"commission\" + 0.005*\"security\" + 0.004*\"today\"\n",
      "2017-11-20 12:00:01,600 : INFO : topic #1 (0.050): 0.007*\"government\" + 0.005*\"today\" + 0.004*\"people\" + 0.004*\"area\" + 0.004*\"year\" + 0.004*\"afghanistan\" + 0.003*\"cancer\" + 0.003*\"cent\" + 0.003*\"minister\" + 0.003*\"child\"\n",
      "2017-11-20 12:00:01,602 : INFO : topic #2 (0.064): 0.010*\"australia\" + 0.007*\"people\" + 0.005*\"year\" + 0.005*\"qantas\" + 0.004*\"cent\" + 0.004*\"economy\" + 0.004*\"world\" + 0.004*\"afghan\" + 0.004*\"united_states\" + 0.003*\"time\"\n",
      "2017-11-20 12:00:01,603 : INFO : topic #3 (0.071): 0.007*\"test\" + 0.007*\"australia\" + 0.006*\"pakistan\" + 0.006*\"government\" + 0.005*\"force\" + 0.005*\"people\" + 0.005*\"afghanistan\" + 0.005*\"security\" + 0.004*\"sydney\" + 0.004*\"man\"\n",
      "2017-11-20 12:00:01,605 : INFO : topic #4 (0.060): 0.010*\"australia\" + 0.008*\"afghanistan\" + 0.007*\"government\" + 0.005*\"metres\" + 0.005*\"people\" + 0.005*\"taliban\" + 0.005*\"man\" + 0.004*\"south\" + 0.004*\"world\" + 0.004*\"united_states\"\n",
      "2017-11-20 12:00:01,606 : INFO : topic diff=0.173331, rho=0.500000\n",
      "2017-11-20 12:00:01,731 : DEBUG : bound: at document #0\n",
      "2017-11-20 12:00:02,320 : INFO : -7.764 per-word bound, 217.4 perplexity estimate based on a held-out corpus of 300 documents with 18861 words\n",
      "2017-11-20 12:00:02,320 : INFO : PROGRESS: pass 3, at document #300/300\n",
      "2017-11-20 12:00:02,321 : DEBUG : performing inference on a chunk of 300 documents\n",
      "2017-11-20 12:00:02,472 : DEBUG : 299/300 documents converged within 200 iterations\n",
      "2017-11-20 12:00:02,476 : INFO : optimized alpha [0.050444125107878393, 0.045459548158520775, 0.057975436140322925, 0.063326115501468688, 0.054699568960645123]\n"
     ]
    },
    {
     "name": "stderr",
     "output_type": "stream",
     "text": [
      "2017-11-20 12:00:02,477 : DEBUG : updating topics\n",
      "2017-11-20 12:00:02,598 : INFO : topic #0 (0.050): 0.014*\"arafat\" + 0.008*\"israeli\" + 0.007*\"police\" + 0.007*\"people\" + 0.007*\"israel\" + 0.006*\"government\" + 0.005*\"security\" + 0.005*\"west_bank\" + 0.005*\"commission\" + 0.005*\"hamas\"\n",
      "2017-11-20 12:00:02,599 : INFO : topic #1 (0.045): 0.007*\"government\" + 0.005*\"today\" + 0.005*\"people\" + 0.004*\"area\" + 0.004*\"year\" + 0.004*\"afghanistan\" + 0.003*\"cancer\" + 0.003*\"cent\" + 0.003*\"minister\" + 0.003*\"child\"\n",
      "2017-11-20 12:00:02,601 : INFO : topic #2 (0.058): 0.010*\"australia\" + 0.007*\"people\" + 0.005*\"year\" + 0.005*\"qantas\" + 0.005*\"cent\" + 0.004*\"economy\" + 0.004*\"world\" + 0.004*\"afghan\" + 0.004*\"united_states\" + 0.004*\"company\"\n",
      "2017-11-20 12:00:02,603 : INFO : topic #3 (0.063): 0.008*\"test\" + 0.007*\"australia\" + 0.006*\"pakistan\" + 0.006*\"government\" + 0.005*\"force\" + 0.005*\"afghanistan\" + 0.005*\"people\" + 0.005*\"security\" + 0.004*\"south_africa\" + 0.004*\"sydney\"\n",
      "2017-11-20 12:00:02,604 : INFO : topic #4 (0.055): 0.010*\"australia\" + 0.008*\"afghanistan\" + 0.007*\"government\" + 0.005*\"metres\" + 0.005*\"people\" + 0.005*\"man\" + 0.005*\"taliban\" + 0.004*\"world\" + 0.004*\"south\" + 0.004*\"united_states\"\n",
      "2017-11-20 12:00:02,605 : INFO : topic diff=0.110929, rho=0.447214\n",
      "2017-11-20 12:00:02,731 : DEBUG : bound: at document #0\n",
      "2017-11-20 12:00:03,305 : INFO : -7.730 per-word bound, 212.3 perplexity estimate based on a held-out corpus of 300 documents with 18861 words\n",
      "2017-11-20 12:00:03,306 : INFO : PROGRESS: pass 4, at document #300/300\n",
      "2017-11-20 12:00:03,307 : DEBUG : performing inference on a chunk of 300 documents\n",
      "2017-11-20 12:00:03,451 : DEBUG : 300/300 documents converged within 200 iterations\n",
      "2017-11-20 12:00:03,454 : INFO : optimized alpha [0.047833921968273282, 0.041797729632895034, 0.053432185502334757, 0.057839011933625555, 0.050584493317354387]\n",
      "2017-11-20 12:00:03,455 : DEBUG : updating topics\n",
      "2017-11-20 12:00:03,575 : INFO : topic #0 (0.048): 0.014*\"arafat\" + 0.008*\"israeli\" + 0.007*\"police\" + 0.007*\"people\" + 0.007*\"israel\" + 0.006*\"government\" + 0.005*\"security\" + 0.005*\"west_bank\" + 0.005*\"hamas\" + 0.005*\"company\"\n",
      "2017-11-20 12:00:03,576 : INFO : topic #1 (0.042): 0.007*\"government\" + 0.005*\"today\" + 0.005*\"people\" + 0.004*\"area\" + 0.004*\"year\" + 0.004*\"afghanistan\" + 0.003*\"cancer\" + 0.003*\"cent\" + 0.003*\"minister\" + 0.003*\"child\"\n",
      "2017-11-20 12:00:03,578 : INFO : topic #2 (0.053): 0.010*\"australia\" + 0.007*\"people\" + 0.005*\"year\" + 0.005*\"qantas\" + 0.005*\"cent\" + 0.004*\"economy\" + 0.004*\"world\" + 0.004*\"united_states\" + 0.004*\"afghan\" + 0.004*\"company\"\n",
      "2017-11-20 12:00:03,579 : INFO : topic #3 (0.058): 0.008*\"test\" + 0.007*\"australia\" + 0.006*\"pakistan\" + 0.006*\"government\" + 0.005*\"force\" + 0.005*\"afghanistan\" + 0.005*\"people\" + 0.005*\"south_africa\" + 0.004*\"security\" + 0.004*\"sydney\"\n",
      "2017-11-20 12:00:03,581 : INFO : topic #4 (0.051): 0.010*\"australia\" + 0.008*\"afghanistan\" + 0.007*\"government\" + 0.005*\"metres\" + 0.005*\"people\" + 0.005*\"man\" + 0.005*\"taliban\" + 0.004*\"world\" + 0.004*\"united_states\" + 0.004*\"sydney\"\n",
      "2017-11-20 12:00:03,582 : INFO : topic diff=0.076834, rho=0.408248\n",
      "2017-11-20 12:00:03,651 : DEBUG : Setting topics to those of the model: LdaModel(num_terms=4431, num_topics=5, decay=0.5, chunksize=300)\n",
      "2017-11-20 12:00:03,652 : INFO : using ParallelWordOccurrenceAccumulator(processes=3, batch_size=64) to estimate probabilities from sliding windows\n",
      "2017-11-20 12:00:03,696 : DEBUG : completed batch 0; 64 documents processed (92 virtual)\n",
      "2017-11-20 12:00:03,729 : DEBUG : completed batch 0; 64 documents processed (258 virtual)\n",
      "2017-11-20 12:00:03,745 : DEBUG : completed batch 1; 128 documents processed (332 virtual)\n",
      "2017-11-20 12:00:03,756 : DEBUG : observed sentinel value; terminating\n",
      "2017-11-20 12:00:03,734 : DEBUG : completed batch 0; 64 documents processed (305 virtual)\n",
      "2017-11-20 12:00:03,766 : DEBUG : completed batch 1; 107 documents processed (484 virtual)\n",
      "2017-11-20 12:00:03,768 : DEBUG : finished all batches; 128 documents processed (332 virtual)\n",
      "2017-11-20 12:00:03,769 : DEBUG : observed sentinel value; terminating\n",
      "2017-11-20 12:00:03,773 : INFO : serializing accumulator to return to master...\n",
      "2017-11-20 12:00:03,770 : DEBUG : observed sentinel value; terminating\n",
      "2017-11-20 12:00:03,776 : DEBUG : finished all batches; 107 documents processed (484 virtual)\n",
      "2017-11-20 12:00:03,776 : DEBUG : finished all batches; 64 documents processed (305 virtual)\n",
      "2017-11-20 12:00:03,780 : INFO : serializing accumulator to return to master...\n",
      "2017-11-20 12:00:03,775 : INFO : accumulator serialized\n",
      "2017-11-20 12:00:03,785 : INFO : serializing accumulator to return to master...\n",
      "2017-11-20 12:00:03,783 : INFO : accumulator serialized\n",
      "2017-11-20 12:00:03,822 : INFO : 3 accumulators retrieved from output queue\n",
      "2017-11-20 12:00:03,838 : INFO : accumulated word occurrence stats for 1121 virtual documents\n",
      "2017-11-20 12:00:04,051 : INFO : using autotuned alpha, starting with [0.16666666666666666, 0.16666666666666666, 0.16666666666666666, 0.16666666666666666, 0.16666666666666666, 0.16666666666666666]\n",
      "2017-11-20 12:00:04,053 : INFO : using serial LDA version on this node\n",
      "2017-11-20 12:00:04,350 : INFO : running online (multi-pass) LDA training, 6 topics, 5 passes over the supplied corpus of 300 documents, updating model once every 300 documents, evaluating perplexity every 300 documents, iterating 200x with a convergence threshold of 0.001000\n",
      "2017-11-20 12:00:04,351 : WARNING : too few updates, training might not converge; consider increasing the number of passes or iterations to improve accuracy\n",
      "2017-11-20 12:00:04,752 : DEBUG : bound: at document #0\n",
      "2017-11-20 12:00:06,238 : INFO : -10.055 per-word bound, 1063.6 perplexity estimate based on a held-out corpus of 300 documents with 18861 words\n",
      "2017-11-20 12:00:06,239 : INFO : PROGRESS: pass 0, at document #300/300\n",
      "2017-11-20 12:00:06,240 : DEBUG : performing inference on a chunk of 300 documents\n",
      "2017-11-20 12:00:07,306 : DEBUG : 205/300 documents converged within 200 iterations\n",
      "2017-11-20 12:00:07,309 : INFO : optimized alpha [0.078121736899806019, 0.072949339411096562, 0.075656592147136256, 0.10398043573021698, 0.07538595534296938, 0.086608836680084844]\n",
      "2017-11-20 12:00:07,310 : DEBUG : updating topics\n",
      "2017-11-20 12:00:07,442 : INFO : topic #1 (0.073): 0.010*\"australia\" + 0.005*\"police\" + 0.005*\"united_states\" + 0.005*\"arafat\" + 0.005*\"afghanistan\" + 0.004*\"officials\" + 0.004*\"taliban\" + 0.004*\"people\" + 0.004*\"economy\" + 0.004*\"city\"\n",
      "2017-11-20 12:00:07,443 : INFO : topic #4 (0.075): 0.008*\"australia\" + 0.008*\"government\" + 0.007*\"metres\" + 0.005*\"afghanistan\" + 0.004*\"year\" + 0.004*\"afghan\" + 0.004*\"today\" + 0.004*\"sydney\" + 0.004*\"day\" + 0.004*\"world\"\n",
      "2017-11-20 12:00:07,444 : INFO : topic #0 (0.078): 0.008*\"australia\" + 0.008*\"arafat\" + 0.007*\"government\" + 0.006*\"day\" + 0.006*\"commission\" + 0.005*\"people\" + 0.005*\"israeli\" + 0.004*\"union\" + 0.004*\"hospital\" + 0.004*\"melbourne\"\n",
      "2017-11-20 12:00:07,444 : INFO : topic #5 (0.087): 0.009*\"people\" + 0.006*\"sydney\" + 0.005*\"arafat\" + 0.005*\"test\" + 0.005*\"new_south\" + 0.005*\"today\" + 0.005*\"australia\" + 0.005*\"wales\" + 0.005*\"israel\" + 0.005*\"government\"\n",
      "2017-11-20 12:00:07,445 : INFO : topic #3 (0.104): 0.008*\"afghanistan\" + 0.007*\"people\" + 0.006*\"police\" + 0.005*\"australia\" + 0.005*\"forces\" + 0.005*\"centre\" + 0.004*\"fire\" + 0.004*\"government\" + 0.004*\"united_states\" + 0.004*\"detainees\"\n",
      "2017-11-20 12:00:07,446 : INFO : topic diff=3.717916, rho=1.000000\n",
      "2017-11-20 12:00:07,583 : DEBUG : bound: at document #0\n",
      "2017-11-20 12:00:08,226 : INFO : -7.954 per-word bound, 247.9 perplexity estimate based on a held-out corpus of 300 documents with 18861 words\n",
      "2017-11-20 12:00:08,226 : INFO : PROGRESS: pass 1, at document #300/300\n",
      "2017-11-20 12:00:08,227 : DEBUG : performing inference on a chunk of 300 documents\n",
      "2017-11-20 12:00:08,435 : DEBUG : 300/300 documents converged within 200 iterations\n",
      "2017-11-20 12:00:08,438 : INFO : optimized alpha [0.064085602459251503, 0.061498965762395594, 0.063208813283931034, 0.085536900267009483, 0.063109450712742737, 0.072070192192919047]\n",
      "2017-11-20 12:00:08,439 : DEBUG : updating topics\n",
      "2017-11-20 12:00:08,581 : INFO : topic #1 (0.061): 0.010*\"australia\" + 0.005*\"united_states\" + 0.005*\"police\" + 0.005*\"arafat\" + 0.005*\"taliban\" + 0.005*\"afghanistan\" + 0.004*\"officials\" + 0.004*\"city\" + 0.004*\"people\" + 0.004*\"economy\"\n"
     ]
    },
    {
     "name": "stderr",
     "output_type": "stream",
     "text": [
      "2017-11-20 12:00:08,582 : INFO : topic #4 (0.063): 0.008*\"australia\" + 0.008*\"government\" + 0.007*\"metres\" + 0.005*\"afghanistan\" + 0.004*\"year\" + 0.004*\"force\" + 0.004*\"day\" + 0.004*\"sydney\" + 0.004*\"today\" + 0.004*\"afghan\"\n",
      "2017-11-20 12:00:08,582 : INFO : topic #0 (0.064): 0.008*\"australia\" + 0.008*\"arafat\" + 0.007*\"government\" + 0.006*\"commission\" + 0.006*\"day\" + 0.005*\"people\" + 0.005*\"israeli\" + 0.004*\"union\" + 0.004*\"hospital\" + 0.003*\"melbourne\"\n",
      "2017-11-20 12:00:08,583 : INFO : topic #5 (0.072): 0.009*\"people\" + 0.007*\"test\" + 0.006*\"sydney\" + 0.006*\"arafat\" + 0.005*\"israel\" + 0.005*\"new_south\" + 0.005*\"wales\" + 0.005*\"today\" + 0.005*\"fire\" + 0.004*\"australia\"\n",
      "2017-11-20 12:00:08,584 : INFO : topic #3 (0.086): 0.008*\"afghanistan\" + 0.007*\"people\" + 0.006*\"police\" + 0.005*\"australia\" + 0.005*\"forces\" + 0.005*\"centre\" + 0.004*\"government\" + 0.004*\"fire\" + 0.004*\"united_states\" + 0.004*\"taliban\"\n",
      "2017-11-20 12:00:08,584 : INFO : topic diff=0.467409, rho=0.577350\n",
      "2017-11-20 12:00:08,727 : DEBUG : bound: at document #0\n",
      "2017-11-20 12:00:09,350 : INFO : -7.841 per-word bound, 229.3 perplexity estimate based on a held-out corpus of 300 documents with 18861 words\n",
      "2017-11-20 12:00:09,351 : INFO : PROGRESS: pass 2, at document #300/300\n",
      "2017-11-20 12:00:09,352 : DEBUG : performing inference on a chunk of 300 documents\n",
      "2017-11-20 12:00:09,543 : DEBUG : 298/300 documents converged within 200 iterations\n",
      "2017-11-20 12:00:09,546 : INFO : optimized alpha [0.056126439193848576, 0.054146710464845565, 0.055897068169369311, 0.074895793430156649, 0.055345517437514979, 0.063708768774580149]\n",
      "2017-11-20 12:00:09,547 : DEBUG : updating topics\n",
      "2017-11-20 12:00:09,684 : INFO : topic #1 (0.054): 0.010*\"australia\" + 0.005*\"united_states\" + 0.005*\"arafat\" + 0.005*\"police\" + 0.005*\"taliban\" + 0.005*\"afghanistan\" + 0.004*\"city\" + 0.004*\"people\" + 0.004*\"officials\" + 0.004*\"economy\"\n",
      "2017-11-20 12:00:09,684 : INFO : topic #4 (0.055): 0.008*\"australia\" + 0.008*\"government\" + 0.007*\"metres\" + 0.005*\"afghanistan\" + 0.004*\"day\" + 0.004*\"force\" + 0.004*\"sydney\" + 0.004*\"year\" + 0.004*\"today\" + 0.004*\"morning\"\n",
      "2017-11-20 12:00:09,685 : INFO : topic #0 (0.056): 0.009*\"arafat\" + 0.008*\"australia\" + 0.007*\"government\" + 0.006*\"commission\" + 0.005*\"day\" + 0.005*\"israeli\" + 0.005*\"people\" + 0.004*\"union\" + 0.003*\"hospital\" + 0.003*\"team\"\n",
      "2017-11-20 12:00:09,686 : INFO : topic #5 (0.064): 0.008*\"people\" + 0.007*\"test\" + 0.006*\"sydney\" + 0.006*\"israel\" + 0.006*\"arafat\" + 0.005*\"new_south\" + 0.005*\"wales\" + 0.005*\"fire\" + 0.005*\"today\" + 0.005*\"security\"\n",
      "2017-11-20 12:00:09,686 : INFO : topic #3 (0.075): 0.008*\"afghanistan\" + 0.007*\"people\" + 0.006*\"police\" + 0.005*\"forces\" + 0.005*\"australia\" + 0.005*\"centre\" + 0.005*\"taliban\" + 0.004*\"united_states\" + 0.004*\"government\" + 0.004*\"fire\"\n",
      "2017-11-20 12:00:09,687 : INFO : topic diff=0.207027, rho=0.500000\n",
      "2017-11-20 12:00:09,824 : DEBUG : bound: at document #0\n",
      "2017-11-20 12:00:10,428 : INFO : -7.778 per-word bound, 219.6 perplexity estimate based on a held-out corpus of 300 documents with 18861 words\n",
      "2017-11-20 12:00:10,431 : INFO : PROGRESS: pass 3, at document #300/300\n",
      "2017-11-20 12:00:10,433 : DEBUG : performing inference on a chunk of 300 documents\n",
      "2017-11-20 12:00:10,604 : DEBUG : 300/300 documents converged within 200 iterations\n",
      "2017-11-20 12:00:10,609 : INFO : optimized alpha [0.050581959958989356, 0.049121247759949797, 0.05069223822353365, 0.068023654922826277, 0.049907957422513069, 0.057819573571698903]\n",
      "2017-11-20 12:00:10,611 : DEBUG : updating topics\n",
      "2017-11-20 12:00:10,746 : INFO : topic #1 (0.049): 0.010*\"australia\" + 0.005*\"united_states\" + 0.005*\"arafat\" + 0.005*\"taliban\" + 0.005*\"police\" + 0.005*\"afghanistan\" + 0.004*\"city\" + 0.004*\"people\" + 0.004*\"officials\" + 0.004*\"economy\"\n",
      "2017-11-20 12:00:10,748 : INFO : topic #4 (0.050): 0.008*\"australia\" + 0.007*\"government\" + 0.007*\"metres\" + 0.005*\"afghanistan\" + 0.004*\"day\" + 0.004*\"force\" + 0.004*\"sydney\" + 0.004*\"year\" + 0.004*\"today\" + 0.004*\"morning\"\n",
      "2017-11-20 12:00:10,751 : INFO : topic #2 (0.051): 0.010*\"government\" + 0.007*\"qantas\" + 0.006*\"company\" + 0.006*\"workers\" + 0.006*\"people\" + 0.006*\"action\" + 0.006*\"pakistan\" + 0.006*\"president\" + 0.005*\"unions\" + 0.005*\"year\"\n",
      "2017-11-20 12:00:10,753 : INFO : topic #5 (0.058): 0.008*\"people\" + 0.008*\"test\" + 0.006*\"sydney\" + 0.006*\"israel\" + 0.006*\"arafat\" + 0.005*\"new_south\" + 0.005*\"wales\" + 0.005*\"security\" + 0.005*\"fire\" + 0.005*\"today\"\n",
      "2017-11-20 12:00:10,755 : INFO : topic #3 (0.068): 0.008*\"afghanistan\" + 0.007*\"people\" + 0.006*\"police\" + 0.006*\"forces\" + 0.005*\"australia\" + 0.005*\"centre\" + 0.005*\"taliban\" + 0.005*\"united_states\" + 0.004*\"government\" + 0.004*\"fire\"\n",
      "2017-11-20 12:00:10,757 : INFO : topic diff=0.135041, rho=0.447214\n",
      "2017-11-20 12:00:10,894 : DEBUG : bound: at document #0\n",
      "2017-11-20 12:00:11,491 : INFO : -7.740 per-word bound, 213.8 perplexity estimate based on a held-out corpus of 300 documents with 18861 words\n",
      "2017-11-20 12:00:11,493 : INFO : PROGRESS: pass 4, at document #300/300\n",
      "2017-11-20 12:00:11,495 : DEBUG : performing inference on a chunk of 300 documents\n",
      "2017-11-20 12:00:11,658 : DEBUG : 300/300 documents converged within 200 iterations\n",
      "2017-11-20 12:00:11,663 : INFO : optimized alpha [0.046560656504029352, 0.04534367619828493, 0.046797978380569177, 0.062860885668443847, 0.045878234963461259, 0.05343221359484919]\n",
      "2017-11-20 12:00:11,665 : DEBUG : updating topics\n",
      "2017-11-20 12:00:11,796 : INFO : topic #1 (0.045): 0.010*\"australia\" + 0.005*\"united_states\" + 0.005*\"arafat\" + 0.005*\"afghanistan\" + 0.005*\"police\" + 0.005*\"taliban\" + 0.004*\"city\" + 0.004*\"people\" + 0.004*\"officials\" + 0.004*\"man\"\n",
      "2017-11-20 12:00:11,798 : INFO : topic #4 (0.046): 0.008*\"australia\" + 0.007*\"government\" + 0.006*\"metres\" + 0.005*\"day\" + 0.005*\"afghanistan\" + 0.004*\"force\" + 0.004*\"sydney\" + 0.004*\"year\" + 0.004*\"today\" + 0.004*\"morning\"\n",
      "2017-11-20 12:00:11,801 : INFO : topic #2 (0.047): 0.010*\"government\" + 0.007*\"qantas\" + 0.007*\"company\" + 0.007*\"workers\" + 0.007*\"people\" + 0.006*\"action\" + 0.006*\"pakistan\" + 0.006*\"president\" + 0.005*\"unions\" + 0.005*\"year\"\n",
      "2017-11-20 12:00:11,803 : INFO : topic #5 (0.053): 0.008*\"test\" + 0.008*\"people\" + 0.007*\"sydney\" + 0.006*\"israel\" + 0.006*\"arafat\" + 0.005*\"new_south\" + 0.005*\"wales\" + 0.005*\"security\" + 0.005*\"fire\" + 0.005*\"today\"\n",
      "2017-11-20 12:00:11,805 : INFO : topic #3 (0.063): 0.008*\"afghanistan\" + 0.007*\"people\" + 0.006*\"police\" + 0.006*\"forces\" + 0.005*\"australia\" + 0.005*\"centre\" + 0.005*\"taliban\" + 0.005*\"government\" + 0.005*\"united_states\" + 0.004*\"fire\"\n",
      "2017-11-20 12:00:11,807 : INFO : topic diff=0.094022, rho=0.408248\n",
      "2017-11-20 12:00:11,880 : DEBUG : Setting topics to those of the model: LdaModel(num_terms=4431, num_topics=6, decay=0.5, chunksize=300)\n",
      "2017-11-20 12:00:11,883 : INFO : using ParallelWordOccurrenceAccumulator(processes=3, batch_size=64) to estimate probabilities from sliding windows\n",
      "2017-11-20 12:00:11,945 : DEBUG : completed batch 0; 64 documents processed (92 virtual)\n",
      "2017-11-20 12:00:11,978 : DEBUG : completed batch 0; 64 documents processed (258 virtual)\n",
      "2017-11-20 12:00:12,026 : DEBUG : completed batch 1; 128 documents processed (333 virtual)\n",
      "2017-11-20 12:00:12,002 : DEBUG : completed batch 0; 64 documents processed (305 virtual)\n",
      "2017-11-20 12:00:12,029 : DEBUG : observed sentinel value; terminating\n",
      "2017-11-20 12:00:12,030 : DEBUG : finished all batches; 64 documents processed (305 virtual)\n",
      "2017-11-20 12:00:12,031 : INFO : serializing accumulator to return to master...\n",
      "2017-11-20 12:00:12,033 : INFO : accumulator serialized\n",
      "2017-11-20 12:00:12,034 : DEBUG : completed batch 1; 105 documents processed (481 virtual)\n",
      "2017-11-20 12:00:12,028 : DEBUG : observed sentinel value; terminating\n",
      "2017-11-20 12:00:12,035 : DEBUG : observed sentinel value; terminating\n",
      "2017-11-20 12:00:12,035 : DEBUG : finished all batches; 128 documents processed (333 virtual)\n",
      "2017-11-20 12:00:12,036 : INFO : serializing accumulator to return to master...\n",
      "2017-11-20 12:00:12,036 : DEBUG : finished all batches; 105 documents processed (481 virtual)\n",
      "2017-11-20 12:00:12,037 : INFO : accumulator serialized\n",
      "2017-11-20 12:00:12,037 : INFO : serializing accumulator to return to master...\n"
     ]
    },
    {
     "name": "stderr",
     "output_type": "stream",
     "text": [
      "2017-11-20 12:00:12,045 : INFO : accumulator serialized\n",
      "2017-11-20 12:00:12,068 : INFO : 3 accumulators retrieved from output queue\n",
      "2017-11-20 12:00:12,094 : INFO : accumulated word occurrence stats for 1119 virtual documents\n",
      "2017-11-20 12:00:12,469 : INFO : using autotuned alpha, starting with [0.14285714285714285, 0.14285714285714285, 0.14285714285714285, 0.14285714285714285, 0.14285714285714285, 0.14285714285714285, 0.14285714285714285]\n",
      "2017-11-20 12:00:12,471 : INFO : using serial LDA version on this node\n",
      "2017-11-20 12:00:12,911 : INFO : running online (multi-pass) LDA training, 7 topics, 5 passes over the supplied corpus of 300 documents, updating model once every 300 documents, evaluating perplexity every 300 documents, iterating 200x with a convergence threshold of 0.001000\n",
      "2017-11-20 12:00:12,913 : WARNING : too few updates, training might not converge; consider increasing the number of passes or iterations to improve accuracy\n",
      "2017-11-20 12:00:13,510 : DEBUG : bound: at document #0\n",
      "2017-11-20 12:00:15,540 : INFO : -10.411 per-word bound, 1361.4 perplexity estimate based on a held-out corpus of 300 documents with 18861 words\n",
      "2017-11-20 12:00:15,540 : INFO : PROGRESS: pass 0, at document #300/300\n",
      "2017-11-20 12:00:15,541 : DEBUG : performing inference on a chunk of 300 documents\n",
      "2017-11-20 12:00:16,653 : DEBUG : 209/300 documents converged within 200 iterations\n",
      "2017-11-20 12:00:16,657 : INFO : optimized alpha [0.068408721077769033, 0.07687022330939268, 0.084822524676191807, 0.080820050911029548, 0.092289211216612516, 0.08645868045424307, 0.067762583540006249]\n",
      "2017-11-20 12:00:16,658 : DEBUG : updating topics\n",
      "2017-11-20 12:00:16,800 : INFO : topic #6 (0.068): 0.009*\"people\" + 0.007*\"pakistan\" + 0.005*\"afghanistan\" + 0.005*\"report\" + 0.005*\"taliban\" + 0.005*\"security\" + 0.005*\"force\" + 0.004*\"hospital\" + 0.004*\"commission\" + 0.004*\"test\"\n",
      "2017-11-20 12:00:16,801 : INFO : topic #0 (0.068): 0.008*\"government\" + 0.007*\"cent\" + 0.006*\"action\" + 0.005*\"pakistan\" + 0.005*\"australia\" + 0.005*\"staff\" + 0.005*\"years\" + 0.003*\"forces\" + 0.003*\"today\" + 0.003*\"president\"\n",
      "2017-11-20 12:00:16,801 : INFO : topic #2 (0.085): 0.010*\"people\" + 0.009*\"arafat\" + 0.009*\"australia\" + 0.008*\"government\" + 0.006*\"israeli\" + 0.006*\"security\" + 0.005*\"man\" + 0.005*\"afghanistan\" + 0.004*\"hamas\" + 0.004*\"attack\"\n",
      "2017-11-20 12:00:16,806 : INFO : topic #5 (0.086): 0.009*\"qantas\" + 0.008*\"australia\" + 0.007*\"police\" + 0.006*\"unions\" + 0.006*\"workers\" + 0.006*\"company\" + 0.006*\"security\" + 0.006*\"government\" + 0.005*\"people\" + 0.005*\"year\"\n",
      "2017-11-20 12:00:16,806 : INFO : topic #4 (0.092): 0.010*\"australia\" + 0.007*\"government\" + 0.007*\"people\" + 0.005*\"year\" + 0.005*\"today\" + 0.005*\"officials\" + 0.005*\"company\" + 0.004*\"fire\" + 0.004*\"afghanistan\" + 0.004*\"economy\"\n",
      "2017-11-20 12:00:16,807 : INFO : topic diff=4.444220, rho=1.000000\n",
      "2017-11-20 12:00:16,955 : DEBUG : bound: at document #0\n",
      "2017-11-20 12:00:17,607 : INFO : -7.986 per-word bound, 253.6 perplexity estimate based on a held-out corpus of 300 documents with 18861 words\n",
      "2017-11-20 12:00:17,607 : INFO : PROGRESS: pass 1, at document #300/300\n",
      "2017-11-20 12:00:17,608 : DEBUG : performing inference on a chunk of 300 documents\n",
      "2017-11-20 12:00:17,820 : DEBUG : 300/300 documents converged within 200 iterations\n",
      "2017-11-20 12:00:17,824 : INFO : optimized alpha [0.056550600206004997, 0.065188065491819894, 0.072388509122461461, 0.068297130877261858, 0.076000602325854247, 0.071122158108450184, 0.056445026959040349]\n",
      "2017-11-20 12:00:17,824 : DEBUG : updating topics\n",
      "2017-11-20 12:00:17,981 : INFO : topic #6 (0.056): 0.009*\"pakistan\" + 0.009*\"people\" + 0.007*\"afghanistan\" + 0.006*\"security\" + 0.005*\"force\" + 0.005*\"report\" + 0.005*\"taliban\" + 0.005*\"hospital\" + 0.004*\"commission\" + 0.004*\"forces\"\n",
      "2017-11-20 12:00:17,982 : INFO : topic #0 (0.057): 0.007*\"government\" + 0.007*\"action\" + 0.007*\"cent\" + 0.005*\"australia\" + 0.005*\"staff\" + 0.005*\"years\" + 0.005*\"pakistan\" + 0.003*\"zimbabwe\" + 0.003*\"president\" + 0.003*\"year\"\n",
      "2017-11-20 12:00:17,983 : INFO : topic #5 (0.071): 0.009*\"qantas\" + 0.008*\"australia\" + 0.007*\"police\" + 0.007*\"unions\" + 0.006*\"workers\" + 0.006*\"company\" + 0.006*\"government\" + 0.005*\"security\" + 0.005*\"year\" + 0.004*\"team\"\n",
      "2017-11-20 12:00:17,983 : INFO : topic #2 (0.072): 0.012*\"arafat\" + 0.010*\"people\" + 0.009*\"government\" + 0.008*\"australia\" + 0.007*\"israeli\" + 0.007*\"security\" + 0.005*\"hamas\" + 0.005*\"afghanistan\" + 0.005*\"man\" + 0.004*\"west_bank\"\n",
      "2017-11-20 12:00:17,984 : INFO : topic #4 (0.076): 0.009*\"australia\" + 0.007*\"people\" + 0.007*\"government\" + 0.005*\"company\" + 0.005*\"year\" + 0.005*\"fire\" + 0.005*\"officials\" + 0.005*\"today\" + 0.004*\"police\" + 0.004*\"economy\"\n",
      "2017-11-20 12:00:17,985 : INFO : topic diff=0.548187, rho=0.577350\n",
      "2017-11-20 12:00:18,142 : DEBUG : bound: at document #0\n",
      "2017-11-20 12:00:18,762 : INFO : -7.854 per-word bound, 231.4 perplexity estimate based on a held-out corpus of 300 documents with 18861 words\n",
      "2017-11-20 12:00:18,763 : INFO : PROGRESS: pass 2, at document #300/300\n",
      "2017-11-20 12:00:18,763 : DEBUG : performing inference on a chunk of 300 documents\n",
      "2017-11-20 12:00:18,939 : DEBUG : 299/300 documents converged within 200 iterations\n",
      "2017-11-20 12:00:18,942 : INFO : optimized alpha [0.049389506326893977, 0.057652746839386516, 0.065074591043647545, 0.060738085856390067, 0.06654603184213817, 0.06207712269376827, 0.049499949445453738]\n",
      "2017-11-20 12:00:18,943 : DEBUG : updating topics\n",
      "2017-11-20 12:00:19,100 : INFO : topic #0 (0.049): 0.007*\"government\" + 0.007*\"action\" + 0.006*\"cent\" + 0.005*\"australia\" + 0.005*\"staff\" + 0.005*\"years\" + 0.004*\"pakistan\" + 0.004*\"year\" + 0.003*\"commonwealth\" + 0.003*\"zimbabwe\"\n",
      "2017-11-20 12:00:19,101 : INFO : topic #6 (0.049): 0.010*\"pakistan\" + 0.008*\"people\" + 0.007*\"afghanistan\" + 0.006*\"force\" + 0.006*\"security\" + 0.005*\"report\" + 0.005*\"taliban\" + 0.005*\"hospital\" + 0.004*\"forces\" + 0.004*\"commission\"\n",
      "2017-11-20 12:00:19,102 : INFO : topic #5 (0.062): 0.009*\"qantas\" + 0.008*\"australia\" + 0.007*\"police\" + 0.007*\"unions\" + 0.006*\"workers\" + 0.006*\"company\" + 0.005*\"government\" + 0.005*\"security\" + 0.005*\"year\" + 0.004*\"team\"\n",
      "2017-11-20 12:00:19,102 : INFO : topic #2 (0.065): 0.014*\"arafat\" + 0.009*\"people\" + 0.009*\"government\" + 0.008*\"australia\" + 0.008*\"israeli\" + 0.007*\"security\" + 0.005*\"hamas\" + 0.005*\"israel\" + 0.005*\"west_bank\" + 0.005*\"afghanistan\"\n",
      "2017-11-20 12:00:19,103 : INFO : topic #4 (0.067): 0.009*\"australia\" + 0.007*\"people\" + 0.007*\"government\" + 0.005*\"company\" + 0.005*\"fire\" + 0.005*\"year\" + 0.005*\"officials\" + 0.004*\"today\" + 0.004*\"police\" + 0.004*\"economy\"\n",
      "2017-11-20 12:00:19,103 : INFO : topic diff=0.242108, rho=0.500000\n",
      "2017-11-20 12:00:19,257 : DEBUG : bound: at document #0\n",
      "2017-11-20 12:00:19,861 : INFO : -7.783 per-word bound, 220.3 perplexity estimate based on a held-out corpus of 300 documents with 18861 words\n",
      "2017-11-20 12:00:19,862 : INFO : PROGRESS: pass 3, at document #300/300\n",
      "2017-11-20 12:00:19,862 : DEBUG : performing inference on a chunk of 300 documents\n",
      "2017-11-20 12:00:20,029 : DEBUG : 300/300 documents converged within 200 iterations\n",
      "2017-11-20 12:00:20,033 : INFO : optimized alpha [0.044433847921089599, 0.052382273696727336, 0.060178981389055808, 0.055423884519370831, 0.059920978326185939, 0.055956332767136331, 0.044339363246930698]\n",
      "2017-11-20 12:00:20,033 : DEBUG : updating topics\n",
      "2017-11-20 12:00:20,182 : INFO : topic #6 (0.044): 0.010*\"pakistan\" + 0.008*\"people\" + 0.007*\"afghanistan\" + 0.006*\"force\" + 0.006*\"security\" + 0.005*\"report\" + 0.005*\"taliban\" + 0.005*\"hospital\" + 0.004*\"forces\" + 0.004*\"tora_bora\"\n",
      "2017-11-20 12:00:20,183 : INFO : topic #0 (0.044): 0.007*\"government\" + 0.007*\"action\" + 0.006*\"cent\" + 0.006*\"australia\" + 0.005*\"staff\" + 0.005*\"years\" + 0.004*\"pakistan\" + 0.004*\"year\" + 0.004*\"commonwealth\" + 0.003*\"family\"\n",
      "2017-11-20 12:00:20,183 : INFO : topic #5 (0.056): 0.009*\"qantas\" + 0.008*\"australia\" + 0.007*\"police\" + 0.007*\"unions\" + 0.006*\"workers\" + 0.006*\"company\" + 0.005*\"government\" + 0.005*\"security\" + 0.005*\"year\" + 0.004*\"team\"\n",
      "2017-11-20 12:00:20,184 : INFO : topic #4 (0.060): 0.009*\"australia\" + 0.007*\"people\" + 0.007*\"government\" + 0.005*\"company\" + 0.005*\"fire\" + 0.005*\"year\" + 0.004*\"officials\" + 0.004*\"today\" + 0.004*\"police\" + 0.004*\"economy\"\n"
     ]
    },
    {
     "name": "stderr",
     "output_type": "stream",
     "text": [
      "2017-11-20 12:00:20,185 : INFO : topic #2 (0.060): 0.015*\"arafat\" + 0.009*\"people\" + 0.009*\"government\" + 0.008*\"israeli\" + 0.008*\"security\" + 0.008*\"australia\" + 0.006*\"israel\" + 0.006*\"hamas\" + 0.005*\"west_bank\" + 0.005*\"sharon\"\n",
      "2017-11-20 12:00:20,185 : INFO : topic diff=0.157368, rho=0.447214\n",
      "2017-11-20 12:00:20,335 : DEBUG : bound: at document #0\n",
      "2017-11-20 12:00:20,929 : INFO : -7.740 per-word bound, 213.8 perplexity estimate based on a held-out corpus of 300 documents with 18861 words\n",
      "2017-11-20 12:00:20,930 : INFO : PROGRESS: pass 4, at document #300/300\n",
      "2017-11-20 12:00:20,930 : DEBUG : performing inference on a chunk of 300 documents\n",
      "2017-11-20 12:00:21,102 : DEBUG : 300/300 documents converged within 200 iterations\n",
      "2017-11-20 12:00:21,106 : INFO : optimized alpha [0.040740277901375001, 0.048502037425407367, 0.056497472634329207, 0.051504448635629148, 0.054986872526803815, 0.051455837394646708, 0.040590683567572269]\n",
      "2017-11-20 12:00:21,106 : DEBUG : updating topics\n",
      "2017-11-20 12:00:21,253 : INFO : topic #6 (0.041): 0.010*\"pakistan\" + 0.008*\"people\" + 0.007*\"afghanistan\" + 0.006*\"force\" + 0.006*\"security\" + 0.005*\"report\" + 0.005*\"taliban\" + 0.005*\"hospital\" + 0.004*\"forces\" + 0.004*\"tora_bora\"\n",
      "2017-11-20 12:00:21,254 : INFO : topic #0 (0.041): 0.007*\"government\" + 0.007*\"action\" + 0.006*\"cent\" + 0.006*\"australia\" + 0.005*\"staff\" + 0.005*\"years\" + 0.004*\"pakistan\" + 0.004*\"year\" + 0.004*\"people\" + 0.003*\"commonwealth\"\n",
      "2017-11-20 12:00:21,254 : INFO : topic #3 (0.052): 0.011*\"test\" + 0.009*\"australia\" + 0.007*\"metres\" + 0.005*\"south_africa\" + 0.005*\"sydney\" + 0.005*\"match\" + 0.005*\"melbourne\" + 0.005*\"year\" + 0.004*\"world\" + 0.004*\"time\"\n",
      "2017-11-20 12:00:21,255 : INFO : topic #4 (0.055): 0.009*\"australia\" + 0.008*\"people\" + 0.007*\"government\" + 0.005*\"company\" + 0.005*\"fire\" + 0.004*\"year\" + 0.004*\"police\" + 0.004*\"today\" + 0.004*\"economy\" + 0.004*\"officials\"\n",
      "2017-11-20 12:00:21,255 : INFO : topic #2 (0.056): 0.015*\"arafat\" + 0.009*\"people\" + 0.009*\"government\" + 0.009*\"israeli\" + 0.009*\"security\" + 0.007*\"australia\" + 0.007*\"israel\" + 0.006*\"hamas\" + 0.006*\"west_bank\" + 0.005*\"sharon\"\n",
      "2017-11-20 12:00:21,256 : INFO : topic diff=0.109881, rho=0.408248\n",
      "2017-11-20 12:00:21,333 : DEBUG : Setting topics to those of the model: LdaModel(num_terms=4431, num_topics=7, decay=0.5, chunksize=300)\n",
      "2017-11-20 12:00:21,335 : INFO : using ParallelWordOccurrenceAccumulator(processes=3, batch_size=64) to estimate probabilities from sliding windows\n",
      "2017-11-20 12:00:21,386 : DEBUG : completed batch 0; 64 documents processed (92 virtual)\n",
      "2017-11-20 12:00:21,484 : DEBUG : completed batch 1; 128 documents processed (332 virtual)\n",
      "2017-11-20 12:00:21,460 : DEBUG : completed batch 0; 64 documents processed (305 virtual)\n",
      "2017-11-20 12:00:21,473 : DEBUG : completed batch 0; 64 documents processed (258 virtual)\n",
      "2017-11-20 12:00:21,509 : DEBUG : observed sentinel value; terminating\n",
      "2017-11-20 12:00:21,510 : DEBUG : finished all batches; 64 documents processed (305 virtual)\n",
      "2017-11-20 12:00:21,514 : DEBUG : observed sentinel value; terminating\n",
      "2017-11-20 12:00:21,518 : INFO : serializing accumulator to return to master...\n",
      "2017-11-20 12:00:21,517 : DEBUG : finished all batches; 64 documents processed (258 virtual)\n",
      "2017-11-20 12:00:21,521 : INFO : serializing accumulator to return to master...\n",
      "2017-11-20 12:00:21,523 : INFO : accumulator serialized\n",
      "2017-11-20 12:00:21,547 : INFO : accumulator serialized\n",
      "2017-11-20 12:00:21,571 : DEBUG : completed batch 2; 172 documents processed (559 virtual)\n",
      "2017-11-20 12:00:21,576 : DEBUG : observed sentinel value; terminating\n",
      "2017-11-20 12:00:21,579 : DEBUG : finished all batches; 172 documents processed (559 virtual)\n",
      "2017-11-20 12:00:21,581 : INFO : serializing accumulator to return to master...\n",
      "2017-11-20 12:00:21,582 : INFO : accumulator serialized\n",
      "2017-11-20 12:00:21,598 : INFO : 3 accumulators retrieved from output queue\n",
      "2017-11-20 12:00:21,613 : INFO : accumulated word occurrence stats for 1122 virtual documents\n",
      "2017-11-20 12:00:21,909 : INFO : using autotuned alpha, starting with [0.125, 0.125, 0.125, 0.125, 0.125, 0.125, 0.125, 0.125]\n",
      "2017-11-20 12:00:21,912 : INFO : using serial LDA version on this node\n",
      "2017-11-20 12:00:22,321 : INFO : running online (multi-pass) LDA training, 8 topics, 5 passes over the supplied corpus of 300 documents, updating model once every 300 documents, evaluating perplexity every 300 documents, iterating 200x with a convergence threshold of 0.001000\n",
      "2017-11-20 12:00:22,321 : WARNING : too few updates, training might not converge; consider increasing the number of passes or iterations to improve accuracy\n",
      "2017-11-20 12:00:22,860 : DEBUG : bound: at document #0\n",
      "2017-11-20 12:00:24,433 : INFO : -10.788 per-word bound, 1768.5 perplexity estimate based on a held-out corpus of 300 documents with 18861 words\n",
      "2017-11-20 12:00:24,434 : INFO : PROGRESS: pass 0, at document #300/300\n",
      "2017-11-20 12:00:24,438 : DEBUG : performing inference on a chunk of 300 documents\n",
      "2017-11-20 12:00:25,683 : DEBUG : 203/300 documents converged within 200 iterations\n",
      "2017-11-20 12:00:25,689 : INFO : optimized alpha [0.090852707937286892, 0.067416428277159268, 0.07036710479756321, 0.068649295931487331, 0.070213780047309562, 0.078071735902713615, 0.088053141224633147, 0.077184654444246409]\n",
      "2017-11-20 12:00:25,692 : DEBUG : updating topics\n",
      "2017-11-20 12:00:25,882 : INFO : topic #1 (0.067): 0.007*\"australia\" + 0.006*\"today\" + 0.005*\"asylum_seekers\" + 0.005*\"river\" + 0.004*\"company\" + 0.004*\"force\" + 0.004*\"government\" + 0.004*\"afghanistan\" + 0.004*\"yesterday\" + 0.004*\"nauru\"\n",
      "2017-11-20 12:00:25,885 : INFO : topic #3 (0.069): 0.008*\"people\" + 0.008*\"government\" + 0.008*\"arafat\" + 0.006*\"year\" + 0.005*\"world\" + 0.005*\"australia\" + 0.004*\"statement\" + 0.004*\"time\" + 0.004*\"sharon\" + 0.004*\"peace\"\n",
      "2017-11-20 12:00:25,888 : INFO : topic #5 (0.078): 0.008*\"people\" + 0.006*\"year\" + 0.006*\"company\" + 0.005*\"tora_bora\" + 0.005*\"police\" + 0.005*\"government\" + 0.004*\"united_states\" + 0.004*\"afghanistan\" + 0.003*\"cent\" + 0.003*\"east_timor\"\n",
      "2017-11-20 12:00:25,891 : INFO : topic #6 (0.088): 0.012*\"australia\" + 0.008*\"afghanistan\" + 0.007*\"man\" + 0.006*\"taliban\" + 0.006*\"government\" + 0.005*\"people\" + 0.005*\"police\" + 0.005*\"united_states\" + 0.005*\"laden\" + 0.004*\"world\"\n",
      "2017-11-20 12:00:25,897 : INFO : topic #0 (0.091): 0.012*\"arafat\" + 0.009*\"people\" + 0.006*\"security\" + 0.006*\"government\" + 0.006*\"fire\" + 0.005*\"police\" + 0.004*\"israeli\" + 0.004*\"israel\" + 0.004*\"commission\" + 0.004*\"time\"\n",
      "2017-11-20 12:00:25,900 : INFO : topic diff=5.219066, rho=1.000000\n",
      "2017-11-20 12:00:26,091 : DEBUG : bound: at document #0\n",
      "2017-11-20 12:00:26,871 : INFO : -8.021 per-word bound, 259.8 perplexity estimate based on a held-out corpus of 300 documents with 18861 words\n",
      "2017-11-20 12:00:26,871 : INFO : PROGRESS: pass 1, at document #300/300\n",
      "2017-11-20 12:00:26,873 : DEBUG : performing inference on a chunk of 300 documents\n",
      "2017-11-20 12:00:27,095 : DEBUG : 300/300 documents converged within 200 iterations\n",
      "2017-11-20 12:00:27,099 : INFO : optimized alpha [0.07725525689391155, 0.056424947720624161, 0.059161061571973331, 0.057542272517558571, 0.061723599233488066, 0.064546951084649196, 0.075964527999725667, 0.064172159576040499]\n",
      "2017-11-20 12:00:27,100 : DEBUG : updating topics\n",
      "2017-11-20 12:00:27,272 : INFO : topic #1 (0.056): 0.006*\"australia\" + 0.006*\"asylum_seekers\" + 0.006*\"today\" + 0.005*\"company\" + 0.004*\"river\" + 0.004*\"nauru\" + 0.004*\"force\" + 0.004*\"afghanistan\" + 0.004*\"government\" + 0.004*\"agreement\"\n",
      "2017-11-20 12:00:27,272 : INFO : topic #3 (0.058): 0.008*\"people\" + 0.008*\"government\" + 0.007*\"arafat\" + 0.006*\"year\" + 0.005*\"world\" + 0.005*\"australia\" + 0.005*\"statement\" + 0.004*\"time\" + 0.004*\"peace\" + 0.004*\"peter\"\n",
      "2017-11-20 12:00:27,274 : INFO : topic #5 (0.065): 0.008*\"people\" + 0.006*\"year\" + 0.005*\"tora_bora\" + 0.005*\"company\" + 0.005*\"government\" + 0.005*\"police\" + 0.004*\"united_states\" + 0.004*\"afghanistan\" + 0.004*\"east_timor\" + 0.003*\"afghan\"\n",
      "2017-11-20 12:00:27,276 : INFO : topic #6 (0.076): 0.013*\"australia\" + 0.009*\"afghanistan\" + 0.007*\"man\" + 0.006*\"government\" + 0.006*\"taliban\" + 0.006*\"people\" + 0.005*\"laden\" + 0.005*\"united_states\" + 0.005*\"police\" + 0.005*\"metres\"\n"
     ]
    },
    {
     "name": "stderr",
     "output_type": "stream",
     "text": [
      "2017-11-20 12:00:27,278 : INFO : topic #0 (0.077): 0.014*\"arafat\" + 0.009*\"people\" + 0.007*\"security\" + 0.006*\"fire\" + 0.006*\"israeli\" + 0.006*\"israel\" + 0.006*\"government\" + 0.005*\"hamas\" + 0.005*\"police\" + 0.005*\"west_bank\"\n",
      "2017-11-20 12:00:27,278 : INFO : topic diff=0.609952, rho=0.577350\n",
      "2017-11-20 12:00:27,453 : DEBUG : bound: at document #0\n",
      "2017-11-20 12:00:28,109 : INFO : -7.879 per-word bound, 235.4 perplexity estimate based on a held-out corpus of 300 documents with 18861 words\n",
      "2017-11-20 12:00:28,110 : INFO : PROGRESS: pass 2, at document #300/300\n",
      "2017-11-20 12:00:28,111 : DEBUG : performing inference on a chunk of 300 documents\n",
      "2017-11-20 12:00:28,302 : DEBUG : 300/300 documents converged within 200 iterations\n",
      "2017-11-20 12:00:28,309 : INFO : optimized alpha [0.069360874050858862, 0.049862301266481029, 0.052232768533483694, 0.050451738729197275, 0.055911596575750754, 0.056506658335973625, 0.068434519644906461, 0.055864725177477377]\n",
      "2017-11-20 12:00:28,310 : DEBUG : updating topics\n",
      "2017-11-20 12:00:28,486 : INFO : topic #1 (0.050): 0.006*\"asylum_seekers\" + 0.006*\"australia\" + 0.005*\"today\" + 0.005*\"company\" + 0.004*\"river\" + 0.004*\"nauru\" + 0.004*\"force\" + 0.004*\"afghanistan\" + 0.004*\"government\" + 0.004*\"agreement\"\n",
      "2017-11-20 12:00:28,488 : INFO : topic #3 (0.050): 0.008*\"government\" + 0.008*\"people\" + 0.006*\"arafat\" + 0.006*\"year\" + 0.005*\"world\" + 0.005*\"australia\" + 0.004*\"time\" + 0.004*\"statement\" + 0.004*\"peace\" + 0.004*\"peter\"\n",
      "2017-11-20 12:00:28,490 : INFO : topic #5 (0.057): 0.008*\"people\" + 0.006*\"year\" + 0.005*\"tora_bora\" + 0.005*\"government\" + 0.005*\"company\" + 0.005*\"police\" + 0.004*\"united_states\" + 0.004*\"afghanistan\" + 0.004*\"east_timor\" + 0.003*\"afghan\"\n",
      "2017-11-20 12:00:28,494 : INFO : topic #6 (0.068): 0.013*\"australia\" + 0.010*\"afghanistan\" + 0.007*\"man\" + 0.006*\"government\" + 0.006*\"taliban\" + 0.006*\"people\" + 0.006*\"laden\" + 0.006*\"united_states\" + 0.005*\"police\" + 0.005*\"metres\"\n",
      "2017-11-20 12:00:28,498 : INFO : topic #0 (0.069): 0.014*\"arafat\" + 0.008*\"people\" + 0.008*\"security\" + 0.008*\"israeli\" + 0.007*\"israel\" + 0.007*\"fire\" + 0.006*\"hamas\" + 0.006*\"government\" + 0.005*\"west_bank\" + 0.005*\"police\"\n",
      "2017-11-20 12:00:28,500 : INFO : topic diff=0.276506, rho=0.500000\n",
      "2017-11-20 12:00:28,705 : DEBUG : bound: at document #0\n",
      "2017-11-20 12:00:29,375 : INFO : -7.805 per-word bound, 223.6 perplexity estimate based on a held-out corpus of 300 documents with 18861 words\n",
      "2017-11-20 12:00:29,376 : INFO : PROGRESS: pass 3, at document #300/300\n",
      "2017-11-20 12:00:29,376 : DEBUG : performing inference on a chunk of 300 documents\n",
      "2017-11-20 12:00:29,549 : DEBUG : 300/300 documents converged within 200 iterations\n",
      "2017-11-20 12:00:29,552 : INFO : optimized alpha [0.064027759634991036, 0.045170100255448181, 0.047470250259236318, 0.045532430896887952, 0.051662363968665623, 0.050996834653313908, 0.063066527364012248, 0.050227487492897196]\n",
      "2017-11-20 12:00:29,553 : DEBUG : updating topics\n",
      "2017-11-20 12:00:29,719 : INFO : topic #1 (0.045): 0.007*\"asylum_seekers\" + 0.006*\"australia\" + 0.005*\"today\" + 0.005*\"company\" + 0.004*\"river\" + 0.004*\"nauru\" + 0.004*\"aircraft\" + 0.004*\"agreement\" + 0.004*\"government\" + 0.004*\"force\"\n",
      "2017-11-20 12:00:29,719 : INFO : topic #3 (0.046): 0.008*\"government\" + 0.008*\"people\" + 0.006*\"year\" + 0.006*\"arafat\" + 0.006*\"world\" + 0.005*\"australia\" + 0.004*\"time\" + 0.004*\"peace\" + 0.004*\"peter\" + 0.004*\"statement\"\n",
      "2017-11-20 12:00:29,720 : INFO : topic #4 (0.052): 0.012*\"test\" + 0.009*\"qantas\" + 0.009*\"australia\" + 0.007*\"day\" + 0.006*\"south_africa\" + 0.005*\"match\" + 0.005*\"sydney\" + 0.005*\"workers\" + 0.005*\"melbourne\" + 0.005*\"unions\"\n",
      "2017-11-20 12:00:29,721 : INFO : topic #6 (0.063): 0.013*\"australia\" + 0.010*\"afghanistan\" + 0.008*\"man\" + 0.006*\"government\" + 0.006*\"taliban\" + 0.006*\"people\" + 0.006*\"laden\" + 0.006*\"united_states\" + 0.005*\"metres\" + 0.005*\"police\"\n",
      "2017-11-20 12:00:29,722 : INFO : topic #0 (0.064): 0.015*\"arafat\" + 0.008*\"israeli\" + 0.008*\"security\" + 0.008*\"people\" + 0.007*\"israel\" + 0.007*\"fire\" + 0.006*\"hamas\" + 0.006*\"west_bank\" + 0.006*\"government\" + 0.005*\"police\"\n",
      "2017-11-20 12:00:29,722 : INFO : topic diff=0.180369, rho=0.447214\n",
      "2017-11-20 12:00:29,889 : DEBUG : bound: at document #0\n",
      "2017-11-20 12:00:30,514 : INFO : -7.761 per-word bound, 216.9 perplexity estimate based on a held-out corpus of 300 documents with 18861 words\n",
      "2017-11-20 12:00:30,515 : INFO : PROGRESS: pass 4, at document #300/300\n",
      "2017-11-20 12:00:30,515 : DEBUG : performing inference on a chunk of 300 documents\n",
      "2017-11-20 12:00:30,684 : DEBUG : 300/300 documents converged within 200 iterations\n",
      "2017-11-20 12:00:30,688 : INFO : optimized alpha [0.060053781418955496, 0.041638831950267831, 0.043878836249287435, 0.041853605321087568, 0.04828703387265626, 0.046910117616098229, 0.059070442559227596, 0.04607028430442172]\n",
      "2017-11-20 12:00:30,688 : DEBUG : updating topics\n",
      "2017-11-20 12:00:30,851 : INFO : topic #1 (0.042): 0.007*\"asylum_seekers\" + 0.006*\"australia\" + 0.005*\"today\" + 0.005*\"company\" + 0.004*\"aircraft\" + 0.004*\"nauru\" + 0.004*\"river\" + 0.004*\"people\" + 0.004*\"government\" + 0.004*\"agreement\"\n",
      "2017-11-20 12:00:30,852 : INFO : topic #3 (0.042): 0.008*\"people\" + 0.008*\"government\" + 0.006*\"year\" + 0.006*\"world\" + 0.006*\"australia\" + 0.005*\"arafat\" + 0.005*\"time\" + 0.004*\"peace\" + 0.004*\"peter\" + 0.004*\"statement\"\n",
      "2017-11-20 12:00:30,853 : INFO : topic #4 (0.048): 0.012*\"test\" + 0.009*\"qantas\" + 0.009*\"australia\" + 0.007*\"day\" + 0.006*\"south_africa\" + 0.005*\"sydney\" + 0.005*\"workers\" + 0.005*\"match\" + 0.005*\"unions\" + 0.005*\"melbourne\"\n",
      "2017-11-20 12:00:30,853 : INFO : topic #6 (0.059): 0.013*\"australia\" + 0.010*\"afghanistan\" + 0.008*\"man\" + 0.006*\"government\" + 0.006*\"people\" + 0.006*\"laden\" + 0.006*\"taliban\" + 0.006*\"united_states\" + 0.005*\"metres\" + 0.005*\"police\"\n",
      "2017-11-20 12:00:30,854 : INFO : topic #0 (0.060): 0.015*\"arafat\" + 0.009*\"israeli\" + 0.008*\"security\" + 0.008*\"people\" + 0.008*\"israel\" + 0.007*\"fire\" + 0.007*\"hamas\" + 0.006*\"west_bank\" + 0.006*\"government\" + 0.006*\"police\"\n",
      "2017-11-20 12:00:30,855 : INFO : topic diff=0.126891, rho=0.408248\n",
      "2017-11-20 12:00:30,941 : DEBUG : Setting topics to those of the model: LdaModel(num_terms=4431, num_topics=8, decay=0.5, chunksize=300)\n",
      "2017-11-20 12:00:30,942 : INFO : using ParallelWordOccurrenceAccumulator(processes=3, batch_size=64) to estimate probabilities from sliding windows\n",
      "2017-11-20 12:00:30,992 : DEBUG : completed batch 0; 64 documents processed (92 virtual)\n",
      "2017-11-20 12:00:31,049 : DEBUG : completed batch 1; 128 documents processed (332 virtual)\n",
      "2017-11-20 12:00:31,033 : DEBUG : completed batch 0; 64 documents processed (258 virtual)\n",
      "2017-11-20 12:00:31,088 : DEBUG : observed sentinel value; terminating\n",
      "2017-11-20 12:00:31,102 : DEBUG : completed batch 2; 171 documents processed (558 virtual)\n",
      "2017-11-20 12:00:31,112 : DEBUG : observed sentinel value; terminating\n",
      "2017-11-20 12:00:31,112 : DEBUG : finished all batches; 64 documents processed (258 virtual)\n",
      "2017-11-20 12:00:31,117 : DEBUG : finished all batches; 171 documents processed (558 virtual)\n",
      "2017-11-20 12:00:31,119 : INFO : serializing accumulator to return to master...\n",
      "2017-11-20 12:00:31,120 : INFO : serializing accumulator to return to master...\n",
      "2017-11-20 12:00:31,121 : INFO : accumulator serialized\n",
      "2017-11-20 12:00:31,101 : DEBUG : completed batch 0; 64 documents processed (305 virtual)\n",
      "2017-11-20 12:00:31,125 : INFO : accumulator serialized\n",
      "2017-11-20 12:00:31,127 : DEBUG : observed sentinel value; terminating\n",
      "2017-11-20 12:00:31,138 : DEBUG : finished all batches; 64 documents processed (305 virtual)\n",
      "2017-11-20 12:00:31,143 : INFO : serializing accumulator to return to master...\n",
      "2017-11-20 12:00:31,175 : INFO : accumulator serialized\n",
      "2017-11-20 12:00:31,189 : INFO : 3 accumulators retrieved from output queue\n",
      "2017-11-20 12:00:31,216 : INFO : accumulated word occurrence stats for 1121 virtual documents\n",
      "2017-11-20 12:00:31,619 : INFO : using autotuned alpha, starting with [0.1111111111111111, 0.1111111111111111, 0.1111111111111111, 0.1111111111111111, 0.1111111111111111, 0.1111111111111111, 0.1111111111111111, 0.1111111111111111, 0.1111111111111111]\n",
      "2017-11-20 12:00:31,620 : INFO : using serial LDA version on this node\n"
     ]
    },
    {
     "name": "stderr",
     "output_type": "stream",
     "text": [
      "2017-11-20 12:00:32,078 : INFO : running online (multi-pass) LDA training, 9 topics, 5 passes over the supplied corpus of 300 documents, updating model once every 300 documents, evaluating perplexity every 300 documents, iterating 200x with a convergence threshold of 0.001000\n",
      "2017-11-20 12:00:32,082 : WARNING : too few updates, training might not converge; consider increasing the number of passes or iterations to improve accuracy\n",
      "2017-11-20 12:00:32,696 : DEBUG : bound: at document #0\n",
      "2017-11-20 12:00:34,286 : INFO : -11.190 per-word bound, 2336.2 perplexity estimate based on a held-out corpus of 300 documents with 18861 words\n",
      "2017-11-20 12:00:34,287 : INFO : PROGRESS: pass 0, at document #300/300\n",
      "2017-11-20 12:00:34,287 : DEBUG : performing inference on a chunk of 300 documents\n",
      "2017-11-20 12:00:35,399 : DEBUG : 219/300 documents converged within 200 iterations\n",
      "2017-11-20 12:00:35,403 : INFO : optimized alpha [0.067625205041437764, 0.064464369876309921, 0.070826201346159731, 0.079012193245210763, 0.073842976711270214, 0.071831809870755367, 0.074531251265115783, 0.06622178469996115, 0.069938479634444328]\n",
      "2017-11-20 12:00:35,404 : DEBUG : updating topics\n",
      "2017-11-20 12:00:35,570 : INFO : topic #1 (0.064): 0.007*\"australia\" + 0.007*\"government\" + 0.005*\"today\" + 0.005*\"people\" + 0.005*\"fire\" + 0.004*\"years\" + 0.004*\"hours\" + 0.004*\"action\" + 0.004*\"pay\" + 0.004*\"union\"\n",
      "2017-11-20 12:00:35,571 : INFO : topic #7 (0.066): 0.007*\"hamas\" + 0.006*\"israel\" + 0.006*\"officials\" + 0.005*\"staff\" + 0.005*\"company\" + 0.005*\"people\" + 0.004*\"action\" + 0.004*\"australia\" + 0.004*\"members\" + 0.004*\"police\"\n",
      "2017-11-20 12:00:35,572 : INFO : topic #4 (0.074): 0.014*\"afghanistan\" + 0.013*\"government\" + 0.006*\"united_states\" + 0.006*\"people\" + 0.005*\"force\" + 0.005*\"man\" + 0.004*\"australia\" + 0.004*\"security\" + 0.004*\"qantas\" + 0.004*\"forces\"\n",
      "2017-11-20 12:00:35,572 : INFO : topic #6 (0.075): 0.007*\"year\" + 0.005*\"sydney\" + 0.005*\"today\" + 0.005*\"government\" + 0.005*\"arafat\" + 0.004*\"people\" + 0.004*\"qantas\" + 0.004*\"state\" + 0.004*\"new_south\" + 0.004*\"areas\"\n",
      "2017-11-20 12:00:35,573 : INFO : topic #3 (0.079): 0.016*\"australia\" + 0.011*\"people\" + 0.006*\"india\" + 0.006*\"man\" + 0.006*\"fire\" + 0.005*\"police\" + 0.005*\"pakistan\" + 0.005*\"government\" + 0.005*\"year\" + 0.005*\"sydney\"\n",
      "2017-11-20 12:00:35,573 : INFO : topic diff=6.119223, rho=1.000000\n",
      "2017-11-20 12:00:35,742 : DEBUG : bound: at document #0\n",
      "2017-11-20 12:00:36,423 : INFO : -8.032 per-word bound, 261.8 perplexity estimate based on a held-out corpus of 300 documents with 18861 words\n",
      "2017-11-20 12:00:36,424 : INFO : PROGRESS: pass 1, at document #300/300\n",
      "2017-11-20 12:00:36,425 : DEBUG : performing inference on a chunk of 300 documents\n",
      "2017-11-20 12:00:36,650 : DEBUG : 299/300 documents converged within 200 iterations\n",
      "2017-11-20 12:00:36,653 : INFO : optimized alpha [0.058735815283120073, 0.054326826097151504, 0.06105859399983464, 0.067987099871251566, 0.064360024147866735, 0.059800439589568467, 0.063689449835141188, 0.056702729862105158, 0.060109828223685588]\n",
      "2017-11-20 12:00:36,654 : DEBUG : updating topics\n",
      "2017-11-20 12:00:36,831 : INFO : topic #1 (0.054): 0.007*\"australia\" + 0.006*\"government\" + 0.005*\"fire\" + 0.005*\"today\" + 0.005*\"people\" + 0.004*\"laws\" + 0.004*\"union\" + 0.004*\"hours\" + 0.004*\"action\" + 0.004*\"pay\"\n",
      "2017-11-20 12:00:36,832 : INFO : topic #7 (0.057): 0.008*\"hamas\" + 0.006*\"company\" + 0.006*\"israel\" + 0.005*\"officials\" + 0.005*\"people\" + 0.005*\"staff\" + 0.005*\"action\" + 0.004*\"guides\" + 0.004*\"members\" + 0.004*\"australia\"\n",
      "2017-11-20 12:00:36,832 : INFO : topic #6 (0.064): 0.007*\"year\" + 0.005*\"sydney\" + 0.005*\"today\" + 0.005*\"government\" + 0.005*\"state\" + 0.005*\"arafat\" + 0.005*\"people\" + 0.004*\"qantas\" + 0.004*\"new_south\" + 0.004*\"wales\"\n",
      "2017-11-20 12:00:36,833 : INFO : topic #4 (0.064): 0.016*\"afghanistan\" + 0.014*\"government\" + 0.007*\"united_states\" + 0.006*\"force\" + 0.005*\"people\" + 0.005*\"taliban\" + 0.005*\"man\" + 0.005*\"forces\" + 0.005*\"security\" + 0.004*\"qantas\"\n",
      "2017-11-20 12:00:36,834 : INFO : topic #3 (0.068): 0.016*\"australia\" + 0.011*\"people\" + 0.006*\"india\" + 0.006*\"man\" + 0.006*\"fire\" + 0.005*\"year\" + 0.005*\"pakistan\" + 0.005*\"sydney\" + 0.005*\"police\" + 0.005*\"firefighters\"\n",
      "2017-11-20 12:00:36,834 : INFO : topic diff=0.645791, rho=0.577350\n",
      "2017-11-20 12:00:37,015 : DEBUG : bound: at document #0\n",
      "2017-11-20 12:00:37,661 : INFO : -7.899 per-word bound, 238.7 perplexity estimate based on a held-out corpus of 300 documents with 18861 words\n",
      "2017-11-20 12:00:37,662 : INFO : PROGRESS: pass 2, at document #300/300\n",
      "2017-11-20 12:00:37,662 : DEBUG : performing inference on a chunk of 300 documents\n",
      "2017-11-20 12:00:37,858 : DEBUG : 300/300 documents converged within 200 iterations\n",
      "2017-11-20 12:00:37,863 : INFO : optimized alpha [0.05292409883949168, 0.047879657576212445, 0.05503635583061367, 0.060990198162497275, 0.057925915889904582, 0.052402142773685392, 0.056711871825733631, 0.050601729824463294, 0.053812025043750815]\n",
      "2017-11-20 12:00:37,864 : DEBUG : updating topics\n",
      "2017-11-20 12:00:38,042 : INFO : topic #1 (0.048): 0.007*\"australia\" + 0.005*\"government\" + 0.005*\"fire\" + 0.005*\"today\" + 0.004*\"people\" + 0.004*\"laws\" + 0.004*\"union\" + 0.004*\"city\" + 0.004*\"hours\" + 0.004*\"action\"\n",
      "2017-11-20 12:00:38,043 : INFO : topic #7 (0.051): 0.009*\"hamas\" + 0.006*\"company\" + 0.005*\"israel\" + 0.005*\"officials\" + 0.005*\"people\" + 0.005*\"staff\" + 0.004*\"action\" + 0.004*\"guides\" + 0.004*\"members\" + 0.004*\"virus\"\n",
      "2017-11-20 12:00:38,044 : INFO : topic #6 (0.057): 0.007*\"year\" + 0.006*\"sydney\" + 0.005*\"today\" + 0.005*\"government\" + 0.005*\"state\" + 0.005*\"people\" + 0.004*\"new_south\" + 0.004*\"wales\" + 0.004*\"qantas\" + 0.004*\"arafat\"\n",
      "2017-11-20 12:00:38,044 : INFO : topic #4 (0.058): 0.016*\"afghanistan\" + 0.015*\"government\" + 0.007*\"united_states\" + 0.006*\"force\" + 0.006*\"taliban\" + 0.005*\"people\" + 0.005*\"forces\" + 0.005*\"man\" + 0.005*\"qantas\" + 0.004*\"security\"\n",
      "2017-11-20 12:00:38,045 : INFO : topic #3 (0.061): 0.016*\"australia\" + 0.011*\"people\" + 0.006*\"india\" + 0.006*\"man\" + 0.006*\"fire\" + 0.006*\"year\" + 0.005*\"sydney\" + 0.005*\"pakistan\" + 0.005*\"police\" + 0.005*\"firefighters\"\n",
      "2017-11-20 12:00:38,046 : INFO : topic diff=0.294179, rho=0.500000\n",
      "2017-11-20 12:00:38,224 : DEBUG : bound: at document #0\n",
      "2017-11-20 12:00:38,873 : INFO : -7.827 per-word bound, 227.0 perplexity estimate based on a held-out corpus of 300 documents with 18861 words\n",
      "2017-11-20 12:00:38,873 : INFO : PROGRESS: pass 3, at document #300/300\n",
      "2017-11-20 12:00:38,874 : DEBUG : performing inference on a chunk of 300 documents\n",
      "2017-11-20 12:00:39,063 : DEBUG : 300/300 documents converged within 200 iterations\n",
      "2017-11-20 12:00:39,067 : INFO : optimized alpha [0.048717167776094812, 0.043276335098635016, 0.051156760114067508, 0.056008859768867492, 0.053302664942119229, 0.047296248212812621, 0.051781499368309045, 0.046155679423111315, 0.049301015058546671]\n",
      "2017-11-20 12:00:39,068 : DEBUG : updating topics\n",
      "2017-11-20 12:00:39,242 : INFO : topic #1 (0.043): 0.007*\"australia\" + 0.005*\"today\" + 0.005*\"government\" + 0.005*\"fire\" + 0.004*\"laws\" + 0.004*\"people\" + 0.004*\"city\" + 0.004*\"union\" + 0.004*\"hours\" + 0.004*\"hewitt\"\n",
      "2017-11-20 12:00:39,243 : INFO : topic #7 (0.046): 0.009*\"hamas\" + 0.005*\"company\" + 0.005*\"people\" + 0.005*\"officials\" + 0.005*\"israel\" + 0.005*\"staff\" + 0.004*\"guides\" + 0.004*\"members\" + 0.004*\"action\" + 0.004*\"virus\"\n",
      "2017-11-20 12:00:39,243 : INFO : topic #6 (0.052): 0.007*\"year\" + 0.006*\"sydney\" + 0.005*\"today\" + 0.005*\"state\" + 0.005*\"government\" + 0.005*\"people\" + 0.005*\"new_south\" + 0.005*\"wales\" + 0.004*\"areas\" + 0.004*\"labor\"\n",
      "2017-11-20 12:00:39,244 : INFO : topic #4 (0.053): 0.017*\"afghanistan\" + 0.015*\"government\" + 0.007*\"united_states\" + 0.006*\"force\" + 0.006*\"taliban\" + 0.005*\"people\" + 0.005*\"forces\" + 0.005*\"qantas\" + 0.005*\"man\" + 0.005*\"laden\"\n",
      "2017-11-20 12:00:39,245 : INFO : topic #3 (0.056): 0.016*\"australia\" + 0.011*\"people\" + 0.006*\"india\" + 0.006*\"man\" + 0.006*\"fire\" + 0.006*\"year\" + 0.005*\"sydney\" + 0.005*\"pakistan\" + 0.005*\"police\" + 0.005*\"firefighters\"\n",
      "2017-11-20 12:00:39,245 : INFO : topic diff=0.199317, rho=0.447214\n",
      "2017-11-20 12:00:39,419 : DEBUG : bound: at document #0\n",
      "2017-11-20 12:00:40,060 : INFO : -7.780 per-word bound, 219.8 perplexity estimate based on a held-out corpus of 300 documents with 18861 words\n"
     ]
    },
    {
     "name": "stderr",
     "output_type": "stream",
     "text": [
      "2017-11-20 12:00:40,061 : INFO : PROGRESS: pass 4, at document #300/300\n",
      "2017-11-20 12:00:40,062 : DEBUG : performing inference on a chunk of 300 documents\n",
      "2017-11-20 12:00:40,247 : DEBUG : 300/300 documents converged within 200 iterations\n",
      "2017-11-20 12:00:40,251 : INFO : optimized alpha [0.045624487496769742, 0.039815908404287399, 0.048283189332036618, 0.052216948383555506, 0.049921703085258388, 0.04349090184596259, 0.048049186438680169, 0.042568641242616181, 0.045853205766647601]\n",
      "2017-11-20 12:00:40,251 : DEBUG : updating topics\n",
      "2017-11-20 12:00:40,423 : INFO : topic #1 (0.040): 0.007*\"australia\" + 0.005*\"today\" + 0.005*\"fire\" + 0.005*\"government\" + 0.004*\"laws\" + 0.004*\"people\" + 0.004*\"city\" + 0.004*\"union\" + 0.004*\"team\" + 0.004*\"hours\"\n",
      "2017-11-20 12:00:40,424 : INFO : topic #7 (0.043): 0.009*\"hamas\" + 0.006*\"people\" + 0.005*\"officials\" + 0.005*\"israel\" + 0.005*\"company\" + 0.005*\"staff\" + 0.004*\"guides\" + 0.004*\"members\" + 0.004*\"australia\" + 0.004*\"virus\"\n",
      "2017-11-20 12:00:40,426 : INFO : topic #2 (0.048): 0.017*\"arafat\" + 0.011*\"israeli\" + 0.009*\"security\" + 0.007*\"forces\" + 0.007*\"police\" + 0.007*\"sharon\" + 0.007*\"australia\" + 0.007*\"west_bank\" + 0.006*\"attacks\" + 0.006*\"people\"\n",
      "2017-11-20 12:00:40,427 : INFO : topic #4 (0.050): 0.017*\"afghanistan\" + 0.015*\"government\" + 0.007*\"united_states\" + 0.006*\"force\" + 0.006*\"taliban\" + 0.006*\"qantas\" + 0.005*\"people\" + 0.005*\"forces\" + 0.005*\"man\" + 0.005*\"laden\"\n",
      "2017-11-20 12:00:40,429 : INFO : topic #3 (0.052): 0.016*\"australia\" + 0.011*\"people\" + 0.006*\"india\" + 0.006*\"man\" + 0.006*\"year\" + 0.006*\"fire\" + 0.005*\"sydney\" + 0.005*\"pakistan\" + 0.005*\"police\" + 0.005*\"firefighters\"\n",
      "2017-11-20 12:00:40,430 : INFO : topic diff=0.145371, rho=0.408248\n",
      "2017-11-20 12:00:40,522 : DEBUG : Setting topics to those of the model: LdaModel(num_terms=4431, num_topics=9, decay=0.5, chunksize=300)\n",
      "2017-11-20 12:00:40,524 : INFO : using ParallelWordOccurrenceAccumulator(processes=3, batch_size=64) to estimate probabilities from sliding windows\n",
      "2017-11-20 12:00:40,602 : DEBUG : completed batch 0; 64 documents processed (92 virtual)\n",
      "2017-11-20 12:00:40,594 : DEBUG : completed batch 0; 64 documents processed (258 virtual)\n",
      "2017-11-20 12:00:40,615 : DEBUG : completed batch 0; 64 documents processed (305 virtual)\n",
      "2017-11-20 12:00:40,652 : DEBUG : completed batch 1; 128 documents processed (332 virtual)\n",
      "2017-11-20 12:00:40,654 : DEBUG : observed sentinel value; terminating\n",
      "2017-11-20 12:00:40,656 : DEBUG : observed sentinel value; terminating\n",
      "2017-11-20 12:00:40,657 : DEBUG : completed batch 1; 108 documents processed (485 virtual)\n",
      "2017-11-20 12:00:40,658 : DEBUG : finished all batches; 64 documents processed (305 virtual)\n",
      "2017-11-20 12:00:40,660 : DEBUG : observed sentinel value; terminating\n",
      "2017-11-20 12:00:40,660 : INFO : serializing accumulator to return to master...\n",
      "2017-11-20 12:00:40,659 : DEBUG : finished all batches; 128 documents processed (332 virtual)\n",
      "2017-11-20 12:00:40,663 : INFO : serializing accumulator to return to master...\n",
      "2017-11-20 12:00:40,661 : DEBUG : finished all batches; 108 documents processed (485 virtual)\n",
      "2017-11-20 12:00:40,667 : INFO : serializing accumulator to return to master...\n",
      "2017-11-20 12:00:40,668 : INFO : accumulator serialized\n",
      "2017-11-20 12:00:40,667 : INFO : accumulator serialized\n",
      "2017-11-20 12:00:40,688 : INFO : accumulator serialized\n",
      "2017-11-20 12:00:40,701 : INFO : 3 accumulators retrieved from output queue\n",
      "2017-11-20 12:00:40,714 : INFO : accumulated word occurrence stats for 1122 virtual documents\n",
      "2017-11-20 12:00:41,053 : INFO : using autotuned alpha, starting with [0.10000000000000001, 0.10000000000000001, 0.10000000000000001, 0.10000000000000001, 0.10000000000000001, 0.10000000000000001, 0.10000000000000001, 0.10000000000000001, 0.10000000000000001, 0.10000000000000001]\n",
      "2017-11-20 12:00:41,055 : INFO : using serial LDA version on this node\n",
      "2017-11-20 12:00:41,554 : INFO : running online (multi-pass) LDA training, 10 topics, 5 passes over the supplied corpus of 300 documents, updating model once every 300 documents, evaluating perplexity every 300 documents, iterating 200x with a convergence threshold of 0.001000\n",
      "2017-11-20 12:00:41,556 : WARNING : too few updates, training might not converge; consider increasing the number of passes or iterations to improve accuracy\n",
      "2017-11-20 12:00:42,224 : DEBUG : bound: at document #0\n",
      "2017-11-20 12:00:43,795 : INFO : -11.619 per-word bound, 3144.8 perplexity estimate based on a held-out corpus of 300 documents with 18861 words\n",
      "2017-11-20 12:00:43,797 : INFO : PROGRESS: pass 0, at document #300/300\n",
      "2017-11-20 12:00:43,799 : DEBUG : performing inference on a chunk of 300 documents\n",
      "2017-11-20 12:00:44,911 : DEBUG : 231/300 documents converged within 200 iterations\n",
      "2017-11-20 12:00:44,916 : INFO : optimized alpha [0.065833452552897104, 0.070230442644120844, 0.061787534562659459, 0.064734999134708593, 0.067338322554358038, 0.067293884483397667, 0.07263148729316167, 0.067019110921726077, 0.064009201670630123, 0.068599658810080608]\n",
      "2017-11-20 12:00:44,917 : DEBUG : updating topics\n",
      "2017-11-20 12:00:45,096 : INFO : topic #2 (0.062): 0.010*\"qantas\" + 0.010*\"government\" + 0.010*\"company\" + 0.008*\"action\" + 0.006*\"workers\" + 0.006*\"members\" + 0.005*\"pay\" + 0.005*\"australia\" + 0.005*\"today\" + 0.005*\"people\"\n",
      "2017-11-20 12:00:45,099 : INFO : topic #8 (0.064): 0.008*\"united_states\" + 0.007*\"pakistan\" + 0.007*\"people\" + 0.007*\"afghanistan\" + 0.006*\"india\" + 0.006*\"government\" + 0.006*\"sydney\" + 0.006*\"australia\" + 0.005*\"state\" + 0.005*\"fires\"\n",
      "2017-11-20 12:00:45,100 : INFO : topic #9 (0.069): 0.011*\"australia\" + 0.007*\"united_states\" + 0.007*\"government\" + 0.007*\"world\" + 0.006*\"president\" + 0.006*\"attacks\" + 0.005*\"people\" + 0.004*\"hewitt\" + 0.004*\"india\" + 0.004*\"force\"\n",
      "2017-11-20 12:00:45,101 : INFO : topic #1 (0.070): 0.009*\"government\" + 0.007*\"year\" + 0.006*\"company\" + 0.006*\"people\" + 0.005*\"child\" + 0.005*\"arafat\" + 0.004*\"fire\" + 0.004*\"commission\" + 0.004*\"sydney\" + 0.004*\"australia\"\n",
      "2017-11-20 12:00:45,101 : INFO : topic #6 (0.073): 0.009*\"australia\" + 0.008*\"afghanistan\" + 0.007*\"security\" + 0.006*\"forces\" + 0.005*\"government\" + 0.005*\"force\" + 0.005*\"police\" + 0.005*\"today\" + 0.004*\"militants\" + 0.004*\"people\"\n",
      "2017-11-20 12:00:45,102 : INFO : topic diff=6.925450, rho=1.000000\n",
      "2017-11-20 12:00:45,284 : DEBUG : bound: at document #0\n",
      "2017-11-20 12:00:45,976 : INFO : -8.061 per-word bound, 267.0 perplexity estimate based on a held-out corpus of 300 documents with 18861 words\n",
      "2017-11-20 12:00:45,976 : INFO : PROGRESS: pass 1, at document #300/300\n",
      "2017-11-20 12:00:45,977 : DEBUG : performing inference on a chunk of 300 documents\n",
      "2017-11-20 12:00:46,211 : DEBUG : 299/300 documents converged within 200 iterations\n",
      "2017-11-20 12:00:46,217 : INFO : optimized alpha [0.056914534785256918, 0.061301023540084633, 0.053470678914921216, 0.054992900092989801, 0.059097415306051719, 0.057300847730790257, 0.063923400073336301, 0.056796283634242752, 0.05485886185911179, 0.059346063817377268]\n",
      "2017-11-20 12:00:46,218 : DEBUG : updating topics\n",
      "2017-11-20 12:00:46,404 : INFO : topic #2 (0.053): 0.012*\"qantas\" + 0.010*\"company\" + 0.009*\"government\" + 0.009*\"action\" + 0.008*\"workers\" + 0.006*\"members\" + 0.006*\"pay\" + 0.005*\"unions\" + 0.005*\"union\" + 0.005*\"australia\"\n",
      "2017-11-20 12:00:46,406 : INFO : topic #8 (0.055): 0.008*\"pakistan\" + 0.008*\"united_states\" + 0.007*\"people\" + 0.007*\"afghanistan\" + 0.006*\"india\" + 0.006*\"sydney\" + 0.006*\"government\" + 0.006*\"fires\" + 0.005*\"australia\" + 0.005*\"state\"\n",
      "2017-11-20 12:00:46,408 : INFO : topic #9 (0.059): 0.011*\"australia\" + 0.008*\"united_states\" + 0.007*\"world\" + 0.007*\"government\" + 0.006*\"president\" + 0.006*\"attacks\" + 0.005*\"people\" + 0.004*\"laden\" + 0.004*\"india\" + 0.004*\"afghan\"\n",
      "2017-11-20 12:00:46,410 : INFO : topic #1 (0.061): 0.009*\"government\" + 0.007*\"year\" + 0.006*\"company\" + 0.006*\"people\" + 0.005*\"child\" + 0.005*\"hollingworth\" + 0.005*\"commission\" + 0.004*\"fire\" + 0.004*\"sydney\" + 0.004*\"australia\"\n",
      "2017-11-20 12:00:46,415 : INFO : topic #6 (0.064): 0.009*\"afghanistan\" + 0.008*\"australia\" + 0.007*\"security\" + 0.006*\"force\" + 0.006*\"forces\" + 0.006*\"government\" + 0.005*\"police\" + 0.004*\"today\" + 0.004*\"tora_bora\" + 0.004*\"militants\"\n"
     ]
    },
    {
     "name": "stderr",
     "output_type": "stream",
     "text": [
      "2017-11-20 12:00:46,418 : INFO : topic diff=0.711286, rho=0.577350\n",
      "2017-11-20 12:00:46,602 : DEBUG : bound: at document #0\n",
      "2017-11-20 12:00:47,260 : INFO : -7.915 per-word bound, 241.3 perplexity estimate based on a held-out corpus of 300 documents with 18861 words\n",
      "2017-11-20 12:00:47,260 : INFO : PROGRESS: pass 2, at document #300/300\n",
      "2017-11-20 12:00:47,261 : DEBUG : performing inference on a chunk of 300 documents\n",
      "2017-11-20 12:00:47,457 : DEBUG : 300/300 documents converged within 200 iterations\n",
      "2017-11-20 12:00:47,462 : INFO : optimized alpha [0.050890292793475032, 0.05516650281380827, 0.048018567251070364, 0.048814018061396063, 0.053491660920070384, 0.050975559086672631, 0.058095014737012299, 0.050255627271198547, 0.04896435256904378, 0.053224654027108645]\n",
      "2017-11-20 12:00:47,462 : DEBUG : updating topics\n",
      "2017-11-20 12:00:47,656 : INFO : topic #2 (0.048): 0.013*\"qantas\" + 0.010*\"company\" + 0.010*\"action\" + 0.009*\"government\" + 0.009*\"workers\" + 0.007*\"pay\" + 0.006*\"members\" + 0.006*\"unions\" + 0.005*\"union\" + 0.005*\"australia\"\n",
      "2017-11-20 12:00:47,657 : INFO : topic #3 (0.049): 0.013*\"afghanistan\" + 0.007*\"man\" + 0.006*\"security\" + 0.006*\"time\" + 0.005*\"officials\" + 0.005*\"taliban\" + 0.004*\"years\" + 0.004*\"days\" + 0.004*\"forces\" + 0.004*\"radio\"\n",
      "2017-11-20 12:00:47,658 : INFO : topic #4 (0.053): 0.012*\"arafat\" + 0.010*\"israeli\" + 0.010*\"metres\" + 0.007*\"taliban\" + 0.007*\"israel\" + 0.006*\"government\" + 0.006*\"detainees\" + 0.006*\"australia\" + 0.005*\"official\" + 0.005*\"people\"\n",
      "2017-11-20 12:00:47,662 : INFO : topic #1 (0.055): 0.009*\"government\" + 0.007*\"year\" + 0.006*\"company\" + 0.006*\"child\" + 0.006*\"people\" + 0.005*\"hollingworth\" + 0.005*\"commission\" + 0.004*\"fire\" + 0.004*\"abuse\" + 0.004*\"sydney\"\n",
      "2017-11-20 12:00:47,663 : INFO : topic #6 (0.058): 0.009*\"afghanistan\" + 0.008*\"australia\" + 0.007*\"security\" + 0.007*\"force\" + 0.006*\"forces\" + 0.006*\"government\" + 0.005*\"tora_bora\" + 0.005*\"police\" + 0.004*\"today\" + 0.004*\"militants\"\n",
      "2017-11-20 12:00:47,665 : INFO : topic diff=0.327867, rho=0.500000\n",
      "2017-11-20 12:00:47,848 : DEBUG : bound: at document #0\n",
      "2017-11-20 12:00:48,468 : INFO : -7.836 per-word bound, 228.5 perplexity estimate based on a held-out corpus of 300 documents with 18861 words\n",
      "2017-11-20 12:00:48,469 : INFO : PROGRESS: pass 3, at document #300/300\n",
      "2017-11-20 12:00:48,469 : DEBUG : performing inference on a chunk of 300 documents\n",
      "2017-11-20 12:00:48,649 : DEBUG : 300/300 documents converged within 200 iterations\n",
      "2017-11-20 12:00:48,653 : INFO : optimized alpha [0.046484365601125767, 0.0506464146853699, 0.044218319890069732, 0.044423701726809442, 0.049763098474066861, 0.046489163690793082, 0.053815143679767682, 0.045642196363482282, 0.044823786409735243, 0.048826674408692594]\n",
      "2017-11-20 12:00:48,654 : DEBUG : updating topics\n",
      "2017-11-20 12:00:48,831 : INFO : topic #2 (0.044): 0.013*\"qantas\" + 0.010*\"company\" + 0.010*\"action\" + 0.009*\"workers\" + 0.009*\"government\" + 0.007*\"unions\" + 0.007*\"pay\" + 0.006*\"members\" + 0.005*\"union\" + 0.005*\"australia\"\n",
      "2017-11-20 12:00:48,832 : INFO : topic #3 (0.044): 0.013*\"afghanistan\" + 0.007*\"man\" + 0.006*\"time\" + 0.006*\"security\" + 0.005*\"taliban\" + 0.005*\"officials\" + 0.004*\"years\" + 0.004*\"forces\" + 0.004*\"government\" + 0.004*\"days\"\n",
      "2017-11-20 12:00:48,834 : INFO : topic #4 (0.050): 0.014*\"arafat\" + 0.011*\"israeli\" + 0.010*\"metres\" + 0.008*\"israel\" + 0.007*\"taliban\" + 0.006*\"government\" + 0.005*\"detainees\" + 0.005*\"australia\" + 0.005*\"official\" + 0.005*\"hamas\"\n",
      "2017-11-20 12:00:48,835 : INFO : topic #1 (0.051): 0.009*\"government\" + 0.007*\"year\" + 0.006*\"company\" + 0.006*\"child\" + 0.006*\"people\" + 0.005*\"hollingworth\" + 0.005*\"commission\" + 0.004*\"abuse\" + 0.004*\"fire\" + 0.004*\"sydney\"\n",
      "2017-11-20 12:00:48,836 : INFO : topic #6 (0.054): 0.010*\"afghanistan\" + 0.008*\"australia\" + 0.007*\"force\" + 0.007*\"security\" + 0.007*\"forces\" + 0.006*\"government\" + 0.005*\"tora_bora\" + 0.004*\"police\" + 0.004*\"afghan\" + 0.004*\"today\"\n",
      "2017-11-20 12:00:48,837 : INFO : topic diff=0.222938, rho=0.447214\n",
      "2017-11-20 12:00:49,012 : DEBUG : bound: at document #0\n",
      "2017-11-20 12:00:49,623 : INFO : -7.787 per-word bound, 220.8 perplexity estimate based on a held-out corpus of 300 documents with 18861 words\n",
      "2017-11-20 12:00:49,624 : INFO : PROGRESS: pass 4, at document #300/300\n",
      "2017-11-20 12:00:49,624 : DEBUG : performing inference on a chunk of 300 documents\n",
      "2017-11-20 12:00:49,802 : DEBUG : 300/300 documents converged within 200 iterations\n",
      "2017-11-20 12:00:49,806 : INFO : optimized alpha [0.043125081524913386, 0.047181558071238416, 0.041335127028672029, 0.041085286086847389, 0.046911090321094917, 0.043077872720426166, 0.050488042578869879, 0.042085405520263158, 0.041647585927368121, 0.045455005097816366]\n",
      "2017-11-20 12:00:49,806 : DEBUG : updating topics\n",
      "2017-11-20 12:00:49,978 : INFO : topic #3 (0.041): 0.013*\"afghanistan\" + 0.007*\"man\" + 0.006*\"time\" + 0.006*\"security\" + 0.005*\"taliban\" + 0.005*\"officials\" + 0.004*\"government\" + 0.004*\"years\" + 0.004*\"forces\" + 0.004*\"days\"\n",
      "2017-11-20 12:00:49,979 : INFO : topic #2 (0.041): 0.013*\"qantas\" + 0.010*\"company\" + 0.010*\"action\" + 0.010*\"workers\" + 0.009*\"government\" + 0.007*\"unions\" + 0.007*\"pay\" + 0.006*\"members\" + 0.005*\"union\" + 0.005*\"australia\"\n",
      "2017-11-20 12:00:49,981 : INFO : topic #4 (0.047): 0.015*\"arafat\" + 0.012*\"israeli\" + 0.010*\"metres\" + 0.009*\"israel\" + 0.007*\"taliban\" + 0.006*\"government\" + 0.005*\"hamas\" + 0.005*\"peace\" + 0.005*\"australia\" + 0.005*\"detainees\"\n",
      "2017-11-20 12:00:49,982 : INFO : topic #1 (0.047): 0.008*\"government\" + 0.007*\"year\" + 0.006*\"company\" + 0.006*\"child\" + 0.006*\"people\" + 0.005*\"hollingworth\" + 0.005*\"commission\" + 0.004*\"abuse\" + 0.004*\"australia\" + 0.004*\"fire\"\n",
      "2017-11-20 12:00:49,983 : INFO : topic #6 (0.050): 0.010*\"afghanistan\" + 0.008*\"australia\" + 0.007*\"force\" + 0.007*\"security\" + 0.007*\"forces\" + 0.006*\"government\" + 0.005*\"tora_bora\" + 0.005*\"afghan\" + 0.004*\"police\" + 0.004*\"day\"\n",
      "2017-11-20 12:00:49,985 : INFO : topic diff=0.161549, rho=0.408248\n",
      "2017-11-20 12:00:50,075 : DEBUG : Setting topics to those of the model: LdaModel(num_terms=4431, num_topics=10, decay=0.5, chunksize=300)\n",
      "2017-11-20 12:00:50,077 : INFO : using ParallelWordOccurrenceAccumulator(processes=3, batch_size=64) to estimate probabilities from sliding windows\n",
      "2017-11-20 12:00:50,148 : DEBUG : completed batch 0; 64 documents processed (258 virtual)\n",
      "2017-11-20 12:00:50,151 : DEBUG : completed batch 0; 64 documents processed (92 virtual)\n",
      "2017-11-20 12:00:50,202 : DEBUG : completed batch 1; 128 documents processed (498 virtual)\n",
      "2017-11-20 12:00:50,181 : DEBUG : completed batch 0; 64 documents processed (305 virtual)\n",
      "2017-11-20 12:00:50,203 : DEBUG : observed sentinel value; terminating\n",
      "2017-11-20 12:00:50,207 : DEBUG : finished all batches; 128 documents processed (498 virtual)\n",
      "2017-11-20 12:00:50,204 : DEBUG : observed sentinel value; terminating\n",
      "2017-11-20 12:00:50,213 : DEBUG : finished all batches; 64 documents processed (305 virtual)\n",
      "2017-11-20 12:00:50,216 : INFO : serializing accumulator to return to master...\n",
      "2017-11-20 12:00:50,216 : DEBUG : completed batch 1; 108 documents processed (319 virtual)\n",
      "2017-11-20 12:00:50,211 : INFO : serializing accumulator to return to master...\n",
      "2017-11-20 12:00:50,222 : DEBUG : observed sentinel value; terminating\n",
      "2017-11-20 12:00:50,225 : DEBUG : finished all batches; 108 documents processed (319 virtual)\n",
      "2017-11-20 12:00:50,223 : INFO : accumulator serialized\n",
      "2017-11-20 12:00:50,230 : INFO : serializing accumulator to return to master...\n",
      "2017-11-20 12:00:50,227 : INFO : accumulator serialized\n",
      "2017-11-20 12:00:50,246 : INFO : accumulator serialized\n",
      "2017-11-20 12:00:50,260 : INFO : 3 accumulators retrieved from output queue\n",
      "2017-11-20 12:00:50,279 : INFO : accumulated word occurrence stats for 1122 virtual documents\n",
      "2017-11-20 12:00:50,640 : INFO : using autotuned alpha, starting with [0.090909090909090912, 0.090909090909090912, 0.090909090909090912, 0.090909090909090912, 0.090909090909090912, 0.090909090909090912, 0.090909090909090912, 0.090909090909090912, 0.090909090909090912, 0.090909090909090912, 0.090909090909090912]\n",
      "2017-11-20 12:00:50,641 : INFO : using serial LDA version on this node\n",
      "2017-11-20 12:00:51,160 : INFO : running online (multi-pass) LDA training, 11 topics, 5 passes over the supplied corpus of 300 documents, updating model once every 300 documents, evaluating perplexity every 300 documents, iterating 200x with a convergence threshold of 0.001000\n"
     ]
    },
    {
     "name": "stderr",
     "output_type": "stream",
     "text": [
      "2017-11-20 12:00:51,161 : WARNING : too few updates, training might not converge; consider increasing the number of passes or iterations to improve accuracy\n",
      "2017-11-20 12:00:51,847 : DEBUG : bound: at document #0\n",
      "2017-11-20 12:00:53,391 : INFO : -12.062 per-word bound, 4276.0 perplexity estimate based on a held-out corpus of 300 documents with 18861 words\n",
      "2017-11-20 12:00:53,392 : INFO : PROGRESS: pass 0, at document #300/300\n",
      "2017-11-20 12:00:53,393 : DEBUG : performing inference on a chunk of 300 documents\n",
      "2017-11-20 12:00:54,489 : DEBUG : 222/300 documents converged within 200 iterations\n",
      "2017-11-20 12:00:54,493 : INFO : optimized alpha [0.058309786282852223, 0.063332345114260419, 0.063261205773173332, 0.07232046990157108, 0.059570966877942513, 0.059530479728718021, 0.065804074124686446, 0.075850050466893623, 0.061861112615495914, 0.066802798446815692, 0.056606490762947582]\n",
      "2017-11-20 12:00:54,493 : DEBUG : updating topics\n",
      "2017-11-20 12:00:54,656 : INFO : topic #10 (0.057): 0.012*\"company\" + 0.007*\"fire\" + 0.007*\"action\" + 0.005*\"army\" + 0.005*\"director\" + 0.005*\"commission\" + 0.005*\"security\" + 0.005*\"gunmen\" + 0.005*\"officials\" + 0.004*\"authority\"\n",
      "2017-11-20 12:00:54,656 : INFO : topic #0 (0.058): 0.015*\"metres\" + 0.009*\"year\" + 0.007*\"event\" + 0.007*\"people\" + 0.007*\"australia\" + 0.005*\"world\" + 0.005*\"night\" + 0.005*\"seles\" + 0.004*\"sydney\" + 0.004*\"start\"\n",
      "2017-11-20 12:00:54,657 : INFO : topic #9 (0.067): 0.017*\"australia\" + 0.009*\"man\" + 0.005*\"india\" + 0.004*\"cent\" + 0.004*\"detainees\" + 0.004*\"day\" + 0.004*\"weapons\" + 0.004*\"year\" + 0.004*\"people\" + 0.004*\"united_states\"\n",
      "2017-11-20 12:00:54,658 : INFO : topic #3 (0.072): 0.012*\"afghanistan\" + 0.006*\"pakistan\" + 0.006*\"report\" + 0.005*\"people\" + 0.005*\"time\" + 0.005*\"government\" + 0.005*\"taliban\" + 0.005*\"forces\" + 0.005*\"police\" + 0.004*\"laden\"\n",
      "2017-11-20 12:00:54,658 : INFO : topic #7 (0.076): 0.009*\"government\" + 0.008*\"people\" + 0.007*\"security\" + 0.007*\"australia\" + 0.007*\"arafat\" + 0.007*\"forces\" + 0.007*\"force\" + 0.006*\"afghanistan\" + 0.005*\"afghan\" + 0.005*\"president\"\n",
      "2017-11-20 12:00:54,659 : INFO : topic diff=7.754394, rho=1.000000\n",
      "2017-11-20 12:00:54,821 : DEBUG : bound: at document #0\n",
      "2017-11-20 12:00:55,460 : INFO : -8.064 per-word bound, 267.6 perplexity estimate based on a held-out corpus of 300 documents with 18861 words\n",
      "2017-11-20 12:00:55,461 : INFO : PROGRESS: pass 1, at document #300/300\n",
      "2017-11-20 12:00:55,462 : DEBUG : performing inference on a chunk of 300 documents\n",
      "2017-11-20 12:00:55,672 : DEBUG : 300/300 documents converged within 200 iterations\n",
      "2017-11-20 12:00:55,675 : INFO : optimized alpha [0.049987279937867321, 0.054406879722709064, 0.054791331684271916, 0.063774457454190595, 0.050851695856685655, 0.051117883344909402, 0.056894341978579975, 0.069379499806285883, 0.054091038597242097, 0.057821929113926168, 0.048801002540996737]\n",
      "2017-11-20 12:00:55,676 : DEBUG : updating topics\n",
      "2017-11-20 12:00:55,847 : INFO : topic #10 (0.049): 0.015*\"company\" + 0.008*\"fire\" + 0.007*\"action\" + 0.006*\"director\" + 0.006*\"army\" + 0.005*\"security\" + 0.005*\"commission\" + 0.005*\"gunmen\" + 0.005*\"authority\" + 0.005*\"unions\"\n",
      "2017-11-20 12:00:55,848 : INFO : topic #0 (0.050): 0.017*\"metres\" + 0.009*\"year\" + 0.007*\"event\" + 0.007*\"people\" + 0.006*\"australia\" + 0.006*\"night\" + 0.006*\"world\" + 0.005*\"seles\" + 0.004*\"water\" + 0.004*\"start\"\n",
      "2017-11-20 12:00:55,850 : INFO : topic #9 (0.058): 0.017*\"australia\" + 0.009*\"man\" + 0.006*\"india\" + 0.004*\"weapons\" + 0.004*\"day\" + 0.004*\"detainees\" + 0.004*\"wicket\" + 0.004*\"cent\" + 0.004*\"year\" + 0.004*\"people\"\n",
      "2017-11-20 12:00:55,852 : INFO : topic #3 (0.064): 0.012*\"afghanistan\" + 0.006*\"pakistan\" + 0.006*\"taliban\" + 0.006*\"people\" + 0.005*\"report\" + 0.005*\"time\" + 0.005*\"laden\" + 0.005*\"government\" + 0.005*\"forces\" + 0.005*\"space\"\n",
      "2017-11-20 12:00:55,853 : INFO : topic #7 (0.069): 0.009*\"government\" + 0.008*\"people\" + 0.008*\"security\" + 0.008*\"arafat\" + 0.007*\"australia\" + 0.007*\"force\" + 0.007*\"forces\" + 0.006*\"afghanistan\" + 0.005*\"afghan\" + 0.005*\"president\"\n",
      "2017-11-20 12:00:55,855 : INFO : topic diff=0.770296, rho=0.577350\n",
      "2017-11-20 12:00:56,030 : DEBUG : bound: at document #0\n",
      "2017-11-20 12:00:56,654 : INFO : -7.917 per-word bound, 241.6 perplexity estimate based on a held-out corpus of 300 documents with 18861 words\n",
      "2017-11-20 12:00:56,654 : INFO : PROGRESS: pass 2, at document #300/300\n",
      "2017-11-20 12:00:56,655 : DEBUG : performing inference on a chunk of 300 documents\n",
      "2017-11-20 12:00:56,849 : DEBUG : 300/300 documents converged within 200 iterations\n",
      "2017-11-20 12:00:56,853 : INFO : optimized alpha [0.044592046482102229, 0.048637241572069514, 0.049145220983005673, 0.057808387439743127, 0.045049983635098836, 0.045656200818201535, 0.051101541372099449, 0.064836719998490874, 0.048924051696024408, 0.052094763054172676, 0.043777284502569624]\n",
      "2017-11-20 12:00:56,853 : DEBUG : updating topics\n",
      "2017-11-20 12:00:57,038 : INFO : topic #10 (0.044): 0.016*\"company\" + 0.008*\"fire\" + 0.007*\"action\" + 0.006*\"director\" + 0.006*\"commission\" + 0.006*\"security\" + 0.006*\"army\" + 0.005*\"gunmen\" + 0.005*\"unions\" + 0.005*\"qantas\"\n",
      "2017-11-20 12:00:57,038 : INFO : topic #0 (0.045): 0.017*\"metres\" + 0.009*\"year\" + 0.007*\"event\" + 0.007*\"people\" + 0.006*\"australia\" + 0.006*\"night\" + 0.006*\"world\" + 0.005*\"seles\" + 0.004*\"water\" + 0.004*\"start\"\n",
      "2017-11-20 12:00:57,040 : INFO : topic #9 (0.052): 0.018*\"australia\" + 0.009*\"man\" + 0.007*\"india\" + 0.004*\"day\" + 0.004*\"weapons\" + 0.004*\"wicket\" + 0.004*\"detainees\" + 0.004*\"cent\" + 0.004*\"year\" + 0.004*\"attacks\"\n",
      "2017-11-20 12:00:57,042 : INFO : topic #3 (0.058): 0.012*\"afghanistan\" + 0.006*\"taliban\" + 0.006*\"pakistan\" + 0.006*\"people\" + 0.005*\"time\" + 0.005*\"report\" + 0.005*\"laden\" + 0.005*\"space\" + 0.005*\"forces\" + 0.005*\"government\"\n",
      "2017-11-20 12:00:57,043 : INFO : topic #7 (0.065): 0.010*\"government\" + 0.009*\"people\" + 0.008*\"arafat\" + 0.008*\"security\" + 0.007*\"force\" + 0.007*\"forces\" + 0.007*\"afghanistan\" + 0.007*\"australia\" + 0.005*\"afghan\" + 0.005*\"president\"\n",
      "2017-11-20 12:00:57,044 : INFO : topic diff=0.359504, rho=0.500000\n",
      "2017-11-20 12:00:57,225 : DEBUG : bound: at document #0\n",
      "2017-11-20 12:00:57,867 : INFO : -7.838 per-word bound, 228.8 perplexity estimate based on a held-out corpus of 300 documents with 18861 words\n",
      "2017-11-20 12:00:57,868 : INFO : PROGRESS: pass 3, at document #300/300\n",
      "2017-11-20 12:00:57,868 : DEBUG : performing inference on a chunk of 300 documents\n",
      "2017-11-20 12:00:58,066 : DEBUG : 300/300 documents converged within 200 iterations\n",
      "2017-11-20 12:00:58,070 : INFO : optimized alpha [0.040700832558266793, 0.044481708797437132, 0.045063603409630448, 0.053357939649326343, 0.040916730752679466, 0.041638210075296299, 0.046910335893741877, 0.061314035641361057, 0.045214888903420868, 0.047945775471128944, 0.040118767074262193]\n",
      "2017-11-20 12:00:58,070 : DEBUG : updating topics\n",
      "2017-11-20 12:00:58,254 : INFO : topic #10 (0.040): 0.016*\"company\" + 0.008*\"fire\" + 0.007*\"action\" + 0.006*\"commission\" + 0.006*\"director\" + 0.006*\"security\" + 0.006*\"army\" + 0.005*\"unions\" + 0.005*\"qantas\" + 0.005*\"gunmen\"\n",
      "2017-11-20 12:00:58,255 : INFO : topic #0 (0.041): 0.017*\"metres\" + 0.009*\"year\" + 0.007*\"event\" + 0.007*\"people\" + 0.006*\"night\" + 0.006*\"australia\" + 0.006*\"world\" + 0.005*\"seles\" + 0.004*\"water\" + 0.004*\"start\"\n",
      "2017-11-20 12:00:58,256 : INFO : topic #9 (0.048): 0.018*\"australia\" + 0.010*\"man\" + 0.007*\"india\" + 0.004*\"day\" + 0.004*\"weapons\" + 0.004*\"wicket\" + 0.004*\"detainees\" + 0.004*\"year\" + 0.004*\"attacks\" + 0.004*\"cent\"\n",
      "2017-11-20 12:00:58,258 : INFO : topic #3 (0.053): 0.012*\"afghanistan\" + 0.007*\"taliban\" + 0.006*\"people\" + 0.006*\"pakistan\" + 0.006*\"time\" + 0.005*\"laden\" + 0.005*\"report\" + 0.005*\"space\" + 0.005*\"forces\" + 0.005*\"government\"\n",
      "2017-11-20 12:00:58,259 : INFO : topic #7 (0.061): 0.010*\"government\" + 0.009*\"arafat\" + 0.009*\"people\" + 0.009*\"security\" + 0.007*\"force\" + 0.007*\"afghanistan\" + 0.007*\"forces\" + 0.007*\"australia\" + 0.006*\"afghan\" + 0.005*\"president\"\n",
      "2017-11-20 12:00:58,260 : INFO : topic diff=0.244947, rho=0.447214\n",
      "2017-11-20 12:00:58,441 : DEBUG : bound: at document #0\n",
      "2017-11-20 12:00:59,066 : INFO : -7.790 per-word bound, 221.3 perplexity estimate based on a held-out corpus of 300 documents with 18861 words\n"
     ]
    },
    {
     "name": "stderr",
     "output_type": "stream",
     "text": [
      "2017-11-20 12:00:59,067 : INFO : PROGRESS: pass 4, at document #300/300\n",
      "2017-11-20 12:00:59,068 : DEBUG : performing inference on a chunk of 300 documents\n",
      "2017-11-20 12:00:59,261 : DEBUG : 299/300 documents converged within 200 iterations\n",
      "2017-11-20 12:00:59,265 : INFO : optimized alpha [0.037715100206876691, 0.041296108920503012, 0.041994601972554821, 0.04992864434268212, 0.037771505780570057, 0.038562877184171243, 0.043686948357256769, 0.058650636012941224, 0.04239463445121841, 0.04475019228580443, 0.037350746773366326]\n",
      "2017-11-20 12:00:59,265 : DEBUG : updating topics\n",
      "2017-11-20 12:00:59,442 : INFO : topic #10 (0.037): 0.016*\"company\" + 0.008*\"fire\" + 0.008*\"action\" + 0.006*\"qantas\" + 0.006*\"commission\" + 0.006*\"unions\" + 0.006*\"director\" + 0.006*\"security\" + 0.005*\"army\" + 0.005*\"workers\"\n",
      "2017-11-20 12:00:59,443 : INFO : topic #0 (0.038): 0.017*\"metres\" + 0.009*\"year\" + 0.007*\"event\" + 0.007*\"people\" + 0.006*\"night\" + 0.006*\"australia\" + 0.006*\"world\" + 0.004*\"seles\" + 0.004*\"water\" + 0.004*\"start\"\n",
      "2017-11-20 12:00:59,444 : INFO : topic #9 (0.045): 0.018*\"australia\" + 0.010*\"man\" + 0.007*\"india\" + 0.004*\"day\" + 0.004*\"weapons\" + 0.004*\"wicket\" + 0.004*\"detainees\" + 0.004*\"south\" + 0.004*\"people\" + 0.004*\"attacks\"\n",
      "2017-11-20 12:00:59,446 : INFO : topic #3 (0.050): 0.011*\"afghanistan\" + 0.007*\"taliban\" + 0.006*\"people\" + 0.006*\"pakistan\" + 0.006*\"time\" + 0.005*\"laden\" + 0.005*\"report\" + 0.005*\"forces\" + 0.005*\"space\" + 0.005*\"government\"\n",
      "2017-11-20 12:00:59,447 : INFO : topic #7 (0.059): 0.010*\"government\" + 0.010*\"arafat\" + 0.009*\"people\" + 0.009*\"security\" + 0.007*\"afghanistan\" + 0.007*\"force\" + 0.007*\"forces\" + 0.006*\"australia\" + 0.006*\"afghan\" + 0.005*\"israel\"\n",
      "2017-11-20 12:00:59,449 : INFO : topic diff=0.178001, rho=0.408248\n",
      "2017-11-20 12:00:59,541 : DEBUG : Setting topics to those of the model: LdaModel(num_terms=4431, num_topics=11, decay=0.5, chunksize=300)\n",
      "2017-11-20 12:00:59,543 : INFO : using ParallelWordOccurrenceAccumulator(processes=3, batch_size=64) to estimate probabilities from sliding windows\n",
      "2017-11-20 12:00:59,605 : DEBUG : completed batch 0; 64 documents processed (92 virtual)\n",
      "2017-11-20 12:00:59,616 : DEBUG : completed batch 0; 64 documents processed (305 virtual)\n",
      "2017-11-20 12:00:59,624 : DEBUG : completed batch 0; 64 documents processed (258 virtual)\n",
      "2017-11-20 12:00:59,645 : DEBUG : observed sentinel value; terminating\n",
      "2017-11-20 12:00:59,647 : DEBUG : finished all batches; 64 documents processed (258 virtual)\n",
      "2017-11-20 12:00:59,653 : INFO : serializing accumulator to return to master...\n",
      "2017-11-20 12:00:59,662 : DEBUG : completed batch 1; 128 documents processed (332 virtual)\n",
      "2017-11-20 12:00:59,663 : DEBUG : completed batch 1; 108 documents processed (532 virtual)\n",
      "2017-11-20 12:00:59,656 : INFO : accumulator serialized\n",
      "2017-11-20 12:00:59,663 : DEBUG : observed sentinel value; terminating\n",
      "2017-11-20 12:00:59,672 : INFO : serializing accumulator to return to master...\n",
      "2017-11-20 12:00:59,672 : INFO : serializing accumulator to return to master...\n",
      "2017-11-20 12:00:59,670 : DEBUG : observed sentinel value; terminating\n",
      "2017-11-20 12:00:59,670 : DEBUG : finished all batches; 128 documents processed (332 virtual)\n",
      "2017-11-20 12:00:59,671 : DEBUG : finished all batches; 108 documents processed (532 virtual)\n",
      "2017-11-20 12:00:59,673 : INFO : accumulator serialized\n",
      "2017-11-20 12:00:59,681 : INFO : accumulator serialized\n",
      "2017-11-20 12:00:59,703 : INFO : 3 accumulators retrieved from output queue\n",
      "2017-11-20 12:00:59,717 : INFO : accumulated word occurrence stats for 1122 virtual documents\n",
      "2017-11-20 12:01:00,104 : INFO : using autotuned alpha, starting with [0.083333333333333329, 0.083333333333333329, 0.083333333333333329, 0.083333333333333329, 0.083333333333333329, 0.083333333333333329, 0.083333333333333329, 0.083333333333333329, 0.083333333333333329, 0.083333333333333329, 0.083333333333333329, 0.083333333333333329]\n",
      "2017-11-20 12:01:00,106 : INFO : using serial LDA version on this node\n",
      "2017-11-20 12:01:00,673 : INFO : running online (multi-pass) LDA training, 12 topics, 5 passes over the supplied corpus of 300 documents, updating model once every 300 documents, evaluating perplexity every 300 documents, iterating 200x with a convergence threshold of 0.001000\n",
      "2017-11-20 12:01:00,674 : WARNING : too few updates, training might not converge; consider increasing the number of passes or iterations to improve accuracy\n",
      "2017-11-20 12:01:01,420 : DEBUG : bound: at document #0\n",
      "2017-11-20 12:01:02,995 : INFO : -12.524 per-word bound, 5890.6 perplexity estimate based on a held-out corpus of 300 documents with 18861 words\n",
      "2017-11-20 12:01:02,996 : INFO : PROGRESS: pass 0, at document #300/300\n",
      "2017-11-20 12:01:02,996 : DEBUG : performing inference on a chunk of 300 documents\n",
      "2017-11-20 12:01:04,138 : DEBUG : 227/300 documents converged within 200 iterations\n",
      "2017-11-20 12:01:04,142 : INFO : optimized alpha [0.068016752889222445, 0.061468163288185579, 0.061869552694823152, 0.060043885496655597, 0.061730188001518402, 0.058633778097274672, 0.061181211763738502, 0.059904150935457992, 0.056996545693991839, 0.053214396084747803, 0.059509791009590259, 0.064085157853683933]\n",
      "2017-11-20 12:01:04,143 : DEBUG : updating topics\n",
      "2017-11-20 12:01:04,317 : INFO : topic #9 (0.053): 0.010*\"people\" + 0.007*\"year\" + 0.007*\"police\" + 0.006*\"weapons\" + 0.005*\"hospital\" + 0.005*\"explosives\" + 0.004*\"security\" + 0.004*\"jan\" + 0.004*\"city\" + 0.004*\"years\"\n",
      "2017-11-20 12:01:04,323 : INFO : topic #8 (0.057): 0.009*\"team\" + 0.007*\"australia\" + 0.007*\"union\" + 0.007*\"today\" + 0.006*\"police\" + 0.006*\"government\" + 0.006*\"pay\" + 0.005*\"hours\" + 0.005*\"rafter\" + 0.005*\"action\"\n",
      "2017-11-20 12:01:04,324 : INFO : topic #2 (0.062): 0.009*\"people\" + 0.006*\"police\" + 0.006*\"qantas\" + 0.006*\"report\" + 0.005*\"company\" + 0.005*\"commission\" + 0.005*\"australia\" + 0.005*\"children\" + 0.004*\"arafat\" + 0.004*\"hih\"\n",
      "2017-11-20 12:01:04,327 : INFO : topic #11 (0.064): 0.016*\"arafat\" + 0.012*\"government\" + 0.009*\"israeli\" + 0.008*\"security\" + 0.007*\"afghanistan\" + 0.007*\"australia\" + 0.007*\"forces\" + 0.006*\"sharon\" + 0.005*\"man\" + 0.005*\"west_bank\"\n",
      "2017-11-20 12:01:04,330 : INFO : topic #0 (0.068): 0.018*\"government\" + 0.008*\"people\" + 0.007*\"commission\" + 0.007*\"security\" + 0.006*\"fire\" + 0.006*\"company\" + 0.006*\"afghanistan\" + 0.005*\"today\" + 0.005*\"force\" + 0.004*\"president\"\n",
      "2017-11-20 12:01:04,332 : INFO : topic diff=8.592374, rho=1.000000\n",
      "2017-11-20 12:01:04,598 : DEBUG : bound: at document #0\n",
      "2017-11-20 12:01:05,375 : INFO : -8.061 per-word bound, 267.0 perplexity estimate based on a held-out corpus of 300 documents with 18861 words\n",
      "2017-11-20 12:01:05,377 : INFO : PROGRESS: pass 1, at document #300/300\n",
      "2017-11-20 12:01:05,379 : DEBUG : performing inference on a chunk of 300 documents\n",
      "2017-11-20 12:01:05,606 : DEBUG : 300/300 documents converged within 200 iterations\n",
      "2017-11-20 12:01:05,610 : INFO : optimized alpha [0.060893816446663432, 0.054390717209510775, 0.054378342836567395, 0.052815767118912518, 0.054396380293063068, 0.051124098400324836, 0.054050319171293916, 0.051718819180698122, 0.049420299887904445, 0.045238145230677415, 0.051568513597828991, 0.058453924298530038]\n",
      "2017-11-20 12:01:05,611 : DEBUG : updating topics\n",
      "2017-11-20 12:01:05,791 : INFO : topic #9 (0.045): 0.009*\"people\" + 0.009*\"year\" + 0.008*\"police\" + 0.006*\"weapons\" + 0.006*\"hospital\" + 0.006*\"seles\" + 0.005*\"sir\" + 0.005*\"allan\" + 0.005*\"explosives\" + 0.005*\"factory\"\n",
      "2017-11-20 12:01:05,792 : INFO : topic #8 (0.049): 0.009*\"team\" + 0.008*\"australia\" + 0.007*\"today\" + 0.006*\"union\" + 0.006*\"government\" + 0.006*\"police\" + 0.006*\"pay\" + 0.006*\"hours\" + 0.006*\"rafter\" + 0.005*\"action\"\n",
      "2017-11-20 12:01:05,794 : INFO : topic #1 (0.054): 0.008*\"people\" + 0.008*\"afghanistan\" + 0.007*\"laden\" + 0.007*\"united_states\" + 0.007*\"taliban\" + 0.006*\"area\" + 0.006*\"year\" + 0.005*\"tora_bora\" + 0.005*\"cancer\" + 0.005*\"new_south\"\n",
      "2017-11-20 12:01:05,795 : INFO : topic #11 (0.058): 0.022*\"arafat\" + 0.012*\"government\" + 0.012*\"israeli\" + 0.010*\"security\" + 0.008*\"forces\" + 0.008*\"afghanistan\" + 0.007*\"israel\" + 0.007*\"west_bank\" + 0.007*\"sharon\" + 0.006*\"australia\"\n",
      "2017-11-20 12:01:05,796 : INFO : topic #0 (0.061): 0.018*\"government\" + 0.007*\"commission\" + 0.007*\"people\" + 0.007*\"security\" + 0.006*\"company\" + 0.006*\"afghanistan\" + 0.006*\"fire\" + 0.006*\"force\" + 0.005*\"today\" + 0.004*\"president\"\n"
     ]
    },
    {
     "name": "stderr",
     "output_type": "stream",
     "text": [
      "2017-11-20 12:01:05,796 : INFO : topic diff=0.823785, rho=0.577350\n",
      "2017-11-20 12:01:05,981 : DEBUG : bound: at document #0\n",
      "2017-11-20 12:01:06,606 : INFO : -7.887 per-word bound, 236.8 perplexity estimate based on a held-out corpus of 300 documents with 18861 words\n",
      "2017-11-20 12:01:06,607 : INFO : PROGRESS: pass 2, at document #300/300\n",
      "2017-11-20 12:01:06,608 : DEBUG : performing inference on a chunk of 300 documents\n",
      "2017-11-20 12:01:06,800 : DEBUG : 300/300 documents converged within 200 iterations\n",
      "2017-11-20 12:01:06,803 : INFO : optimized alpha [0.055873493747714734, 0.049597651973528237, 0.049461939453478918, 0.048352708554588605, 0.049571647308346144, 0.046140021399145185, 0.049223083176406217, 0.046479034025109119, 0.044337160416793857, 0.040105497171367993, 0.046460821875987081, 0.054661804533756957]\n",
      "2017-11-20 12:01:06,804 : DEBUG : updating topics\n",
      "2017-11-20 12:01:06,998 : INFO : topic #9 (0.040): 0.009*\"year\" + 0.009*\"people\" + 0.008*\"police\" + 0.007*\"seles\" + 0.006*\"hospital\" + 0.006*\"weapons\" + 0.005*\"factory\" + 0.005*\"allan\" + 0.005*\"sir\" + 0.005*\"goshen\"\n",
      "2017-11-20 12:01:06,998 : INFO : topic #8 (0.044): 0.009*\"team\" + 0.008*\"australia\" + 0.007*\"today\" + 0.006*\"union\" + 0.006*\"government\" + 0.006*\"pay\" + 0.006*\"hours\" + 0.006*\"rafter\" + 0.005*\"police\" + 0.005*\"action\"\n",
      "2017-11-20 12:01:06,999 : INFO : topic #1 (0.050): 0.008*\"afghanistan\" + 0.008*\"laden\" + 0.008*\"people\" + 0.007*\"united_states\" + 0.007*\"taliban\" + 0.007*\"area\" + 0.006*\"year\" + 0.005*\"tora_bora\" + 0.005*\"afghan\" + 0.005*\"cancer\"\n",
      "2017-11-20 12:01:07,001 : INFO : topic #11 (0.055): 0.025*\"arafat\" + 0.014*\"israeli\" + 0.013*\"government\" + 0.012*\"security\" + 0.010*\"israel\" + 0.009*\"forces\" + 0.008*\"west_bank\" + 0.008*\"afghanistan\" + 0.008*\"sharon\" + 0.007*\"attacks\"\n",
      "2017-11-20 12:01:07,002 : INFO : topic #0 (0.056): 0.017*\"government\" + 0.008*\"commission\" + 0.007*\"people\" + 0.007*\"security\" + 0.006*\"afghanistan\" + 0.006*\"force\" + 0.006*\"company\" + 0.006*\"fire\" + 0.005*\"today\" + 0.005*\"president\"\n",
      "2017-11-20 12:01:07,002 : INFO : topic diff=0.390088, rho=0.500000\n",
      "2017-11-20 12:01:07,195 : DEBUG : bound: at document #0\n",
      "2017-11-20 12:01:07,816 : INFO : -7.792 per-word bound, 221.7 perplexity estimate based on a held-out corpus of 300 documents with 18861 words\n",
      "2017-11-20 12:01:07,817 : INFO : PROGRESS: pass 3, at document #300/300\n",
      "2017-11-20 12:01:07,817 : DEBUG : performing inference on a chunk of 300 documents\n",
      "2017-11-20 12:01:08,004 : DEBUG : 300/300 documents converged within 200 iterations\n",
      "2017-11-20 12:01:08,007 : INFO : optimized alpha [0.052127710742436349, 0.046119579815212024, 0.045911936470584711, 0.045014094372392462, 0.046004451588566267, 0.042491351707495503, 0.045565925741740697, 0.042678699048063068, 0.040643126563723458, 0.03641979723903687, 0.042814273436540956, 0.051721952995302814]\n",
      "2017-11-20 12:01:08,008 : DEBUG : updating topics\n",
      "2017-11-20 12:01:08,199 : INFO : topic #9 (0.036): 0.009*\"year\" + 0.008*\"people\" + 0.008*\"police\" + 0.007*\"seles\" + 0.006*\"hospital\" + 0.006*\"factory\" + 0.006*\"weapons\" + 0.005*\"allan\" + 0.005*\"sir\" + 0.005*\"goshen\"\n",
      "2017-11-20 12:01:08,200 : INFO : topic #8 (0.041): 0.009*\"team\" + 0.008*\"australia\" + 0.007*\"today\" + 0.006*\"union\" + 0.006*\"government\" + 0.006*\"hours\" + 0.006*\"pay\" + 0.006*\"rafter\" + 0.005*\"police\" + 0.005*\"action\"\n",
      "2017-11-20 12:01:08,200 : INFO : topic #1 (0.046): 0.008*\"afghanistan\" + 0.008*\"laden\" + 0.008*\"people\" + 0.007*\"united_states\" + 0.007*\"taliban\" + 0.007*\"area\" + 0.006*\"year\" + 0.006*\"tora_bora\" + 0.005*\"afghan\" + 0.005*\"river\"\n",
      "2017-11-20 12:01:08,201 : INFO : topic #11 (0.052): 0.026*\"arafat\" + 0.014*\"israeli\" + 0.013*\"government\" + 0.012*\"security\" + 0.011*\"israel\" + 0.009*\"forces\" + 0.009*\"west_bank\" + 0.008*\"afghanistan\" + 0.008*\"sharon\" + 0.007*\"attacks\"\n",
      "2017-11-20 12:01:08,202 : INFO : topic #0 (0.052): 0.017*\"government\" + 0.008*\"commission\" + 0.007*\"people\" + 0.007*\"security\" + 0.006*\"afghanistan\" + 0.006*\"force\" + 0.006*\"company\" + 0.005*\"fire\" + 0.005*\"today\" + 0.005*\"president\"\n",
      "2017-11-20 12:01:08,202 : INFO : topic diff=0.266744, rho=0.447214\n",
      "2017-11-20 12:01:08,393 : DEBUG : bound: at document #0\n",
      "2017-11-20 12:01:09,015 : INFO : -7.735 per-word bound, 213.0 perplexity estimate based on a held-out corpus of 300 documents with 18861 words\n",
      "2017-11-20 12:01:09,015 : INFO : PROGRESS: pass 4, at document #300/300\n",
      "2017-11-20 12:01:09,016 : DEBUG : performing inference on a chunk of 300 documents\n",
      "2017-11-20 12:01:09,203 : DEBUG : 300/300 documents converged within 200 iterations\n",
      "2017-11-20 12:01:09,207 : INFO : optimized alpha [0.04917823672914378, 0.043315877221157408, 0.043130623077481375, 0.042379532539941575, 0.043211367963066002, 0.039658980723623331, 0.042713591540352112, 0.039745921862471278, 0.037790323103505809, 0.03359742684643454, 0.0400495585399398, 0.049493756604536865]\n",
      "2017-11-20 12:01:09,207 : DEBUG : updating topics\n",
      "2017-11-20 12:01:09,398 : INFO : topic #9 (0.034): 0.010*\"year\" + 0.008*\"police\" + 0.008*\"people\" + 0.007*\"seles\" + 0.006*\"hospital\" + 0.006*\"factory\" + 0.005*\"weapons\" + 0.005*\"allan\" + 0.005*\"sir\" + 0.005*\"goshen\"\n",
      "2017-11-20 12:01:09,399 : INFO : topic #8 (0.038): 0.009*\"team\" + 0.008*\"australia\" + 0.007*\"today\" + 0.006*\"union\" + 0.006*\"government\" + 0.006*\"hours\" + 0.006*\"pay\" + 0.005*\"rafter\" + 0.005*\"police\" + 0.005*\"action\"\n",
      "2017-11-20 12:01:09,400 : INFO : topic #1 (0.043): 0.008*\"afghanistan\" + 0.008*\"laden\" + 0.008*\"people\" + 0.007*\"united_states\" + 0.007*\"taliban\" + 0.007*\"area\" + 0.006*\"year\" + 0.006*\"tora_bora\" + 0.005*\"afghan\" + 0.005*\"river\"\n",
      "2017-11-20 12:01:09,401 : INFO : topic #0 (0.049): 0.017*\"government\" + 0.008*\"commission\" + 0.007*\"people\" + 0.007*\"security\" + 0.006*\"afghanistan\" + 0.006*\"force\" + 0.006*\"company\" + 0.005*\"fire\" + 0.005*\"today\" + 0.005*\"years\"\n",
      "2017-11-20 12:01:09,401 : INFO : topic #11 (0.049): 0.026*\"arafat\" + 0.015*\"israeli\" + 0.013*\"security\" + 0.013*\"government\" + 0.012*\"israel\" + 0.009*\"west_bank\" + 0.009*\"forces\" + 0.008*\"afghanistan\" + 0.008*\"sharon\" + 0.007*\"attacks\"\n",
      "2017-11-20 12:01:09,402 : INFO : topic diff=0.193310, rho=0.408248\n",
      "2017-11-20 12:01:09,502 : DEBUG : Setting topics to those of the model: LdaModel(num_terms=4431, num_topics=12, decay=0.5, chunksize=300)\n",
      "2017-11-20 12:01:09,504 : INFO : using ParallelWordOccurrenceAccumulator(processes=3, batch_size=64) to estimate probabilities from sliding windows\n",
      "2017-11-20 12:01:09,598 : DEBUG : completed batch 0; 64 documents processed (92 virtual)\n",
      "2017-11-20 12:01:09,638 : DEBUG : completed batch 0; 64 documents processed (258 virtual)\n",
      "2017-11-20 12:01:09,695 : DEBUG : completed batch 1; 128 documents processed (332 virtual)\n",
      "2017-11-20 12:01:09,664 : DEBUG : completed batch 0; 64 documents processed (305 virtual)\n",
      "2017-11-20 12:01:09,703 : DEBUG : observed sentinel value; terminating\n",
      "2017-11-20 12:01:09,723 : DEBUG : observed sentinel value; terminating\n",
      "2017-11-20 12:01:09,721 : DEBUG : finished all batches; 128 documents processed (332 virtual)\n",
      "2017-11-20 12:01:09,730 : DEBUG : completed batch 1; 108 documents processed (485 virtual)\n",
      "2017-11-20 12:01:09,740 : INFO : serializing accumulator to return to master...\n",
      "2017-11-20 12:01:09,740 : DEBUG : observed sentinel value; terminating\n",
      "2017-11-20 12:01:09,740 : DEBUG : finished all batches; 64 documents processed (305 virtual)\n",
      "2017-11-20 12:01:09,744 : INFO : serializing accumulator to return to master...\n",
      "2017-11-20 12:01:09,744 : DEBUG : finished all batches; 108 documents processed (485 virtual)\n",
      "2017-11-20 12:01:09,751 : INFO : accumulator serialized\n",
      "2017-11-20 12:01:09,745 : INFO : accumulator serialized\n",
      "2017-11-20 12:01:09,756 : INFO : serializing accumulator to return to master...\n",
      "2017-11-20 12:01:09,774 : INFO : accumulator serialized\n",
      "2017-11-20 12:01:09,796 : INFO : 3 accumulators retrieved from output queue\n",
      "2017-11-20 12:01:09,816 : INFO : accumulated word occurrence stats for 1122 virtual documents\n",
      "2017-11-20 12:01:10,331 : INFO : using autotuned alpha, starting with [0.076923076923076927, 0.076923076923076927, 0.076923076923076927, 0.076923076923076927, 0.076923076923076927, 0.076923076923076927, 0.076923076923076927, 0.076923076923076927, 0.076923076923076927, 0.076923076923076927, 0.076923076923076927, 0.076923076923076927, 0.076923076923076927]\n"
     ]
    },
    {
     "name": "stderr",
     "output_type": "stream",
     "text": [
      "2017-11-20 12:01:10,336 : INFO : using serial LDA version on this node\n",
      "2017-11-20 12:01:10,989 : INFO : running online (multi-pass) LDA training, 13 topics, 5 passes over the supplied corpus of 300 documents, updating model once every 300 documents, evaluating perplexity every 300 documents, iterating 200x with a convergence threshold of 0.001000\n",
      "2017-11-20 12:01:10,991 : WARNING : too few updates, training might not converge; consider increasing the number of passes or iterations to improve accuracy\n",
      "2017-11-20 12:01:11,844 : DEBUG : bound: at document #0\n",
      "2017-11-20 12:01:13,491 : INFO : -13.002 per-word bound, 8203.9 perplexity estimate based on a held-out corpus of 300 documents with 18861 words\n",
      "2017-11-20 12:01:13,492 : INFO : PROGRESS: pass 0, at document #300/300\n",
      "2017-11-20 12:01:13,492 : DEBUG : performing inference on a chunk of 300 documents\n",
      "2017-11-20 12:01:14,631 : DEBUG : 225/300 documents converged within 200 iterations\n",
      "2017-11-20 12:01:14,636 : INFO : optimized alpha [0.052079014592559113, 0.053840334783468058, 0.05776208950679107, 0.064901514600549964, 0.061277399112674324, 0.057616194895373021, 0.054744360797117753, 0.058426680286964405, 0.055097384217653304, 0.060170149198785591, 0.06134453901520931, 0.052133793262578929, 0.056981396773147397]\n",
      "2017-11-20 12:01:14,638 : DEBUG : updating topics\n",
      "2017-11-20 12:01:14,828 : INFO : topic #0 (0.052): 0.006*\"court\" + 0.005*\"australia\" + 0.005*\"team\" + 0.004*\"police\" + 0.004*\"arafat\" + 0.004*\"agreement\" + 0.004*\"island\" + 0.004*\"brain\" + 0.004*\"militants\" + 0.004*\"guides\"\n",
      "2017-11-20 12:01:14,832 : INFO : topic #11 (0.052): 0.006*\"qantas\" + 0.006*\"police\" + 0.006*\"groups\" + 0.005*\"laden\" + 0.005*\"hih\" + 0.005*\"year\" + 0.005*\"work\" + 0.005*\"airline\" + 0.005*\"allan\" + 0.005*\"sir\"\n",
      "2017-11-20 12:01:14,834 : INFO : topic #4 (0.061): 0.011*\"government\" + 0.008*\"australia\" + 0.006*\"year\" + 0.006*\"commission\" + 0.005*\"people\" + 0.005*\"company\" + 0.005*\"sharon\" + 0.005*\"radio\" + 0.005*\"report\" + 0.005*\"war\"\n",
      "2017-11-20 12:01:14,837 : INFO : topic #10 (0.061): 0.011*\"australia\" + 0.010*\"qantas\" + 0.007*\"fire\" + 0.006*\"people\" + 0.005*\"man\" + 0.005*\"government\" + 0.005*\"unions\" + 0.005*\"israel\" + 0.005*\"united_states\" + 0.005*\"arafat\"\n",
      "2017-11-20 12:01:14,839 : INFO : topic #3 (0.065): 0.014*\"people\" + 0.011*\"test\" + 0.009*\"government\" + 0.009*\"australia\" + 0.006*\"day\" + 0.005*\"today\" + 0.005*\"police\" + 0.005*\"match\" + 0.005*\"company\" + 0.004*\"sydney\"\n",
      "2017-11-20 12:01:14,840 : INFO : topic diff=9.506850, rho=1.000000\n",
      "2017-11-20 12:01:15,024 : DEBUG : bound: at document #0\n",
      "2017-11-20 12:01:15,747 : INFO : -8.096 per-word bound, 273.6 perplexity estimate based on a held-out corpus of 300 documents with 18861 words\n",
      "2017-11-20 12:01:15,748 : INFO : PROGRESS: pass 1, at document #300/300\n",
      "2017-11-20 12:01:15,748 : DEBUG : performing inference on a chunk of 300 documents\n",
      "2017-11-20 12:01:15,983 : DEBUG : 300/300 documents converged within 200 iterations\n",
      "2017-11-20 12:01:15,986 : INFO : optimized alpha [0.045062910629340633, 0.046908138935258081, 0.050490816502181818, 0.059782262645784554, 0.054670129864229415, 0.051376258418948877, 0.047694031060519004, 0.050971955172027239, 0.047824071936549827, 0.053358559066696461, 0.054310961827498561, 0.044988530070705676, 0.050623101062348463]\n",
      "2017-11-20 12:01:15,987 : DEBUG : updating topics\n",
      "2017-11-20 12:01:16,189 : INFO : topic #11 (0.045): 0.006*\"hih\" + 0.005*\"police\" + 0.005*\"groups\" + 0.005*\"laden\" + 0.005*\"qantas\" + 0.005*\"year\" + 0.005*\"work\" + 0.005*\"airline\" + 0.004*\"sir\" + 0.004*\"allan\"\n",
      "2017-11-20 12:01:16,190 : INFO : topic #0 (0.045): 0.007*\"court\" + 0.007*\"australia\" + 0.006*\"police\" + 0.006*\"guides\" + 0.006*\"river\" + 0.005*\"britain\" + 0.005*\"india\" + 0.004*\"conditions\" + 0.004*\"water\" + 0.004*\"switzerland\"\n",
      "2017-11-20 12:01:16,191 : INFO : topic #10 (0.054): 0.012*\"qantas\" + 0.011*\"australia\" + 0.007*\"fire\" + 0.006*\"workers\" + 0.006*\"unions\" + 0.006*\"man\" + 0.006*\"people\" + 0.005*\"government\" + 0.005*\"commission\" + 0.005*\"company\"\n",
      "2017-11-20 12:01:16,191 : INFO : topic #4 (0.055): 0.011*\"government\" + 0.008*\"australia\" + 0.007*\"year\" + 0.006*\"people\" + 0.006*\"commission\" + 0.005*\"company\" + 0.005*\"radio\" + 0.005*\"report\" + 0.005*\"war\" + 0.005*\"cancer\"\n",
      "2017-11-20 12:01:16,192 : INFO : topic #3 (0.060): 0.014*\"people\" + 0.012*\"test\" + 0.010*\"australia\" + 0.010*\"government\" + 0.006*\"day\" + 0.006*\"today\" + 0.005*\"match\" + 0.005*\"police\" + 0.005*\"south_africa\" + 0.005*\"company\"\n",
      "2017-11-20 12:01:16,192 : INFO : topic diff=0.840481, rho=0.577350\n",
      "2017-11-20 12:01:16,393 : DEBUG : bound: at document #0\n",
      "2017-11-20 12:01:17,067 : INFO : -7.940 per-word bound, 245.5 perplexity estimate based on a held-out corpus of 300 documents with 18861 words\n",
      "2017-11-20 12:01:17,068 : INFO : PROGRESS: pass 2, at document #300/300\n",
      "2017-11-20 12:01:17,068 : DEBUG : performing inference on a chunk of 300 documents\n",
      "2017-11-20 12:01:17,279 : DEBUG : 300/300 documents converged within 200 iterations\n",
      "2017-11-20 12:01:17,283 : INFO : optimized alpha [0.04040448761665013, 0.042279147980260418, 0.045625715818261345, 0.055913052082344823, 0.049900521942934033, 0.047059985519933088, 0.042893280854283011, 0.045917769694498733, 0.042997547773746578, 0.048700647615506, 0.049533495056969461, 0.040264654713719421, 0.046553157868896522]\n",
      "2017-11-20 12:01:17,284 : DEBUG : updating topics\n",
      "2017-11-20 12:01:17,503 : INFO : topic #11 (0.040): 0.006*\"hih\" + 0.005*\"police\" + 0.005*\"groups\" + 0.005*\"laden\" + 0.005*\"year\" + 0.005*\"qantas\" + 0.004*\"work\" + 0.004*\"airline\" + 0.004*\"sir\" + 0.004*\"allan\"\n",
      "2017-11-20 12:01:17,504 : INFO : topic #0 (0.040): 0.008*\"court\" + 0.007*\"australia\" + 0.006*\"police\" + 0.006*\"river\" + 0.006*\"guides\" + 0.005*\"britain\" + 0.005*\"india\" + 0.005*\"conditions\" + 0.004*\"water\" + 0.004*\"switzerland\"\n",
      "2017-11-20 12:01:17,507 : INFO : topic #10 (0.050): 0.012*\"qantas\" + 0.011*\"australia\" + 0.007*\"workers\" + 0.007*\"unions\" + 0.007*\"fire\" + 0.006*\"man\" + 0.006*\"people\" + 0.005*\"company\" + 0.005*\"action\" + 0.005*\"commission\"\n",
      "2017-11-20 12:01:17,507 : INFO : topic #4 (0.050): 0.010*\"government\" + 0.008*\"australia\" + 0.007*\"year\" + 0.006*\"company\" + 0.006*\"commission\" + 0.006*\"people\" + 0.005*\"radio\" + 0.005*\"cancer\" + 0.005*\"report\" + 0.004*\"war\"\n",
      "2017-11-20 12:01:17,515 : INFO : topic #3 (0.056): 0.014*\"people\" + 0.012*\"test\" + 0.010*\"australia\" + 0.010*\"government\" + 0.006*\"day\" + 0.006*\"today\" + 0.006*\"match\" + 0.006*\"south_africa\" + 0.005*\"police\" + 0.005*\"afghanistan\"\n",
      "2017-11-20 12:01:17,516 : INFO : topic diff=0.398388, rho=0.500000\n",
      "2017-11-20 12:01:17,727 : DEBUG : bound: at document #0\n",
      "2017-11-20 12:01:18,400 : INFO : -7.854 per-word bound, 231.4 perplexity estimate based on a held-out corpus of 300 documents with 18861 words\n",
      "2017-11-20 12:01:18,401 : INFO : PROGRESS: pass 3, at document #300/300\n",
      "2017-11-20 12:01:18,401 : DEBUG : performing inference on a chunk of 300 documents\n",
      "2017-11-20 12:01:18,613 : DEBUG : 300/300 documents converged within 200 iterations\n",
      "2017-11-20 12:01:18,617 : INFO : optimized alpha [0.036998882182801632, 0.038880358454149375, 0.042050953693662747, 0.052905840073091515, 0.046356781283146353, 0.043976264912677143, 0.039379884177265852, 0.042229415845804967, 0.039468857123090943, 0.045309941164969093, 0.04598621731157209, 0.036820309090837125, 0.043882159467971159]\n",
      "2017-11-20 12:01:18,618 : DEBUG : updating topics\n",
      "2017-11-20 12:01:18,822 : INFO : topic #11 (0.037): 0.006*\"hih\" + 0.005*\"police\" + 0.005*\"groups\" + 0.005*\"laden\" + 0.005*\"year\" + 0.004*\"qantas\" + 0.004*\"work\" + 0.004*\"airline\" + 0.004*\"sir\" + 0.004*\"allan\"\n",
      "2017-11-20 12:01:18,823 : INFO : topic #0 (0.037): 0.008*\"court\" + 0.007*\"australia\" + 0.006*\"police\" + 0.006*\"river\" + 0.006*\"guides\" + 0.005*\"britain\" + 0.005*\"india\" + 0.005*\"conditions\" + 0.004*\"water\" + 0.004*\"switzerland\"\n",
      "2017-11-20 12:01:18,824 : INFO : topic #10 (0.046): 0.013*\"qantas\" + 0.011*\"australia\" + 0.007*\"workers\" + 0.007*\"unions\" + 0.007*\"fire\" + 0.006*\"man\" + 0.006*\"people\" + 0.005*\"company\" + 0.005*\"action\" + 0.005*\"commission\"\n",
      "2017-11-20 12:01:18,825 : INFO : topic #4 (0.046): 0.010*\"government\" + 0.008*\"australia\" + 0.007*\"year\" + 0.006*\"company\" + 0.006*\"commission\" + 0.006*\"people\" + 0.005*\"radio\" + 0.005*\"cancer\" + 0.005*\"report\" + 0.004*\"war\"\n"
     ]
    },
    {
     "name": "stderr",
     "output_type": "stream",
     "text": [
      "2017-11-20 12:01:18,825 : INFO : topic #3 (0.053): 0.014*\"people\" + 0.012*\"test\" + 0.011*\"australia\" + 0.010*\"government\" + 0.006*\"day\" + 0.006*\"south_africa\" + 0.006*\"match\" + 0.006*\"today\" + 0.005*\"police\" + 0.005*\"cricket\"\n",
      "2017-11-20 12:01:18,826 : INFO : topic diff=0.278424, rho=0.447214\n",
      "2017-11-20 12:01:19,035 : DEBUG : bound: at document #0\n",
      "2017-11-20 12:01:19,707 : INFO : -7.799 per-word bound, 222.7 perplexity estimate based on a held-out corpus of 300 documents with 18861 words\n",
      "2017-11-20 12:01:19,708 : INFO : PROGRESS: pass 4, at document #300/300\n",
      "2017-11-20 12:01:19,710 : DEBUG : performing inference on a chunk of 300 documents\n",
      "2017-11-20 12:01:19,914 : DEBUG : 300/300 documents converged within 200 iterations\n",
      "2017-11-20 12:01:19,921 : INFO : optimized alpha [0.034359164561050586, 0.036237044594654225, 0.039394511506577815, 0.050545699503228216, 0.04358019719931145, 0.041592169307882135, 0.03665464681548003, 0.039372393071821873, 0.036733161092491876, 0.042640661790628427, 0.043272820724769658, 0.034155408222041578, 0.041865158532972381]\n",
      "2017-11-20 12:01:19,921 : DEBUG : updating topics\n",
      "2017-11-20 12:01:20,136 : INFO : topic #11 (0.034): 0.006*\"hih\" + 0.005*\"police\" + 0.005*\"groups\" + 0.005*\"year\" + 0.005*\"laden\" + 0.004*\"work\" + 0.004*\"qantas\" + 0.004*\"airline\" + 0.004*\"sir\" + 0.004*\"allan\"\n",
      "2017-11-20 12:01:20,138 : INFO : topic #0 (0.034): 0.008*\"court\" + 0.007*\"australia\" + 0.006*\"police\" + 0.006*\"river\" + 0.006*\"guides\" + 0.005*\"britain\" + 0.005*\"india\" + 0.005*\"conditions\" + 0.004*\"water\" + 0.004*\"switzerland\"\n",
      "2017-11-20 12:01:20,139 : INFO : topic #10 (0.043): 0.013*\"qantas\" + 0.011*\"australia\" + 0.008*\"workers\" + 0.007*\"unions\" + 0.007*\"fire\" + 0.006*\"man\" + 0.006*\"people\" + 0.006*\"company\" + 0.006*\"action\" + 0.005*\"commission\"\n",
      "2017-11-20 12:01:20,141 : INFO : topic #4 (0.044): 0.010*\"government\" + 0.008*\"australia\" + 0.007*\"year\" + 0.006*\"company\" + 0.006*\"commission\" + 0.006*\"people\" + 0.005*\"cancer\" + 0.005*\"radio\" + 0.005*\"report\" + 0.004*\"war\"\n",
      "2017-11-20 12:01:20,143 : INFO : topic #3 (0.051): 0.014*\"people\" + 0.013*\"test\" + 0.011*\"australia\" + 0.010*\"government\" + 0.007*\"south_africa\" + 0.006*\"day\" + 0.006*\"match\" + 0.006*\"today\" + 0.005*\"police\" + 0.005*\"cricket\"\n",
      "2017-11-20 12:01:20,148 : INFO : topic diff=0.206180, rho=0.408248\n",
      "2017-11-20 12:01:20,253 : DEBUG : Setting topics to those of the model: LdaModel(num_terms=4431, num_topics=13, decay=0.5, chunksize=300)\n",
      "2017-11-20 12:01:20,255 : INFO : using ParallelWordOccurrenceAccumulator(processes=3, batch_size=64) to estimate probabilities from sliding windows\n",
      "2017-11-20 12:01:20,328 : DEBUG : completed batch 0; 64 documents processed (92 virtual)\n",
      "2017-11-20 12:01:20,350 : DEBUG : completed batch 0; 64 documents processed (258 virtual)\n",
      "2017-11-20 12:01:20,352 : DEBUG : completed batch 0; 64 documents processed (305 virtual)\n",
      "2017-11-20 12:01:20,399 : DEBUG : observed sentinel value; terminating\n",
      "2017-11-20 12:01:20,400 : DEBUG : completed batch 1; 128 documents processed (332 virtual)\n",
      "2017-11-20 12:01:20,402 : DEBUG : finished all batches; 64 documents processed (305 virtual)\n",
      "2017-11-20 12:01:20,414 : DEBUG : observed sentinel value; terminating\n",
      "2017-11-20 12:01:20,427 : DEBUG : finished all batches; 128 documents processed (332 virtual)\n",
      "2017-11-20 12:01:20,432 : DEBUG : completed batch 1; 108 documents processed (485 virtual)\n",
      "2017-11-20 12:01:20,435 : DEBUG : observed sentinel value; terminating\n",
      "2017-11-20 12:01:20,434 : INFO : serializing accumulator to return to master...\n",
      "2017-11-20 12:01:20,425 : INFO : serializing accumulator to return to master...\n",
      "2017-11-20 12:01:20,441 : INFO : accumulator serialized\n",
      "2017-11-20 12:01:20,441 : DEBUG : finished all batches; 108 documents processed (485 virtual)\n",
      "2017-11-20 12:01:20,446 : INFO : accumulator serialized\n",
      "2017-11-20 12:01:20,449 : INFO : serializing accumulator to return to master...\n",
      "2017-11-20 12:01:20,465 : INFO : accumulator serialized\n",
      "2017-11-20 12:01:20,491 : INFO : 3 accumulators retrieved from output queue\n",
      "2017-11-20 12:01:20,511 : INFO : accumulated word occurrence stats for 1122 virtual documents\n",
      "2017-11-20 12:01:21,012 : INFO : using autotuned alpha, starting with [0.071428571428571425, 0.071428571428571425, 0.071428571428571425, 0.071428571428571425, 0.071428571428571425, 0.071428571428571425, 0.071428571428571425, 0.071428571428571425, 0.071428571428571425, 0.071428571428571425, 0.071428571428571425, 0.071428571428571425, 0.071428571428571425, 0.071428571428571425]\n",
      "2017-11-20 12:01:21,013 : INFO : using serial LDA version on this node\n",
      "2017-11-20 12:01:21,718 : INFO : running online (multi-pass) LDA training, 14 topics, 5 passes over the supplied corpus of 300 documents, updating model once every 300 documents, evaluating perplexity every 300 documents, iterating 200x with a convergence threshold of 0.001000\n",
      "2017-11-20 12:01:21,722 : WARNING : too few updates, training might not converge; consider increasing the number of passes or iterations to improve accuracy\n",
      "2017-11-20 12:01:22,621 : DEBUG : bound: at document #0\n",
      "2017-11-20 12:01:24,270 : INFO : -13.499 per-word bound, 11573.4 perplexity estimate based on a held-out corpus of 300 documents with 18861 words\n",
      "2017-11-20 12:01:24,271 : INFO : PROGRESS: pass 0, at document #300/300\n",
      "2017-11-20 12:01:24,271 : DEBUG : performing inference on a chunk of 300 documents\n",
      "2017-11-20 12:01:25,433 : DEBUG : 239/300 documents converged within 200 iterations\n",
      "2017-11-20 12:01:25,437 : INFO : optimized alpha [0.050631451307872007, 0.055222062612786296, 0.0549870216344895, 0.060799547846449212, 0.050045710638038712, 0.053065625670231029, 0.054195142932966289, 0.054144386549456192, 0.058444718679147731, 0.054723464061561075, 0.054340237987565453, 0.052462536898425158, 0.052802791894751705, 0.052764810105956496]\n",
      "2017-11-20 12:01:25,438 : DEBUG : updating topics\n",
      "2017-11-20 12:01:25,639 : INFO : topic #4 (0.050): 0.013*\"year\" + 0.005*\"blake\" + 0.005*\"howard\" + 0.005*\"ansett\" + 0.005*\"airline\" + 0.005*\"indonesia\" + 0.004*\"labor\" + 0.004*\"hewitt\" + 0.004*\"australia\" + 0.004*\"world\"\n",
      "2017-11-20 12:01:25,640 : INFO : topic #0 (0.051): 0.010*\"man\" + 0.008*\"security\" + 0.007*\"virus\" + 0.007*\"people\" + 0.006*\"harrison\" + 0.006*\"months\" + 0.005*\"government\" + 0.005*\"company\" + 0.005*\"year\" + 0.005*\"cent\"\n",
      "2017-11-20 12:01:25,640 : INFO : topic #1 (0.055): 0.011*\"test\" + 0.009*\"afghanistan\" + 0.009*\"australia\" + 0.007*\"commission\" + 0.007*\"people\" + 0.007*\"melbourne\" + 0.006*\"security\" + 0.006*\"government\" + 0.006*\"lot\" + 0.005*\"union\"\n",
      "2017-11-20 12:01:25,641 : INFO : topic #8 (0.058): 0.008*\"fire\" + 0.007*\"sydney\" + 0.007*\"year\" + 0.007*\"area\" + 0.007*\"people\" + 0.006*\"government\" + 0.006*\"united_states\" + 0.006*\"today\" + 0.005*\"afghanistan\" + 0.004*\"forces\"\n",
      "2017-11-20 12:01:25,642 : INFO : topic #3 (0.061): 0.010*\"arafat\" + 0.008*\"people\" + 0.006*\"israel\" + 0.005*\"government\" + 0.005*\"police\" + 0.005*\"company\" + 0.005*\"centre\" + 0.004*\"australia\" + 0.004*\"israeli\" + 0.004*\"space\"\n",
      "2017-11-20 12:01:25,643 : INFO : topic diff=10.478579, rho=1.000000\n",
      "2017-11-20 12:01:25,844 : DEBUG : bound: at document #0\n",
      "2017-11-20 12:01:26,540 : INFO : -8.067 per-word bound, 268.3 perplexity estimate based on a held-out corpus of 300 documents with 18861 words\n",
      "2017-11-20 12:01:26,541 : INFO : PROGRESS: pass 1, at document #300/300\n",
      "2017-11-20 12:01:26,542 : DEBUG : performing inference on a chunk of 300 documents\n",
      "2017-11-20 12:01:26,782 : DEBUG : 300/300 documents converged within 200 iterations\n",
      "2017-11-20 12:01:26,786 : INFO : optimized alpha [0.044237002476024502, 0.049302200843385532, 0.048994516170877092, 0.054975177928175176, 0.043365780843730051, 0.047212655288483937, 0.047796472175612323, 0.049260773077431916, 0.053223847778313328, 0.049469120160201802, 0.04851423049047985, 0.046524292196279814, 0.046885604137607347, 0.046149053030802439]\n",
      "2017-11-20 12:01:26,788 : DEBUG : updating topics\n",
      "2017-11-20 12:01:26,998 : INFO : topic #4 (0.043): 0.012*\"year\" + 0.006*\"hewitt\" + 0.005*\"labor\" + 0.005*\"howard\" + 0.005*\"blake\" + 0.005*\"ansett\" + 0.005*\"airline\" + 0.005*\"world\" + 0.005*\"government\" + 0.004*\"security\"\n",
      "2017-11-20 12:01:27,000 : INFO : topic #0 (0.044): 0.009*\"man\" + 0.008*\"virus\" + 0.007*\"security\" + 0.007*\"people\" + 0.006*\"company\" + 0.006*\"harrison\" + 0.006*\"year\" + 0.005*\"guides\" + 0.005*\"months\" + 0.005*\"president\"\n"
     ]
    },
    {
     "name": "stderr",
     "output_type": "stream",
     "text": [
      "2017-11-20 12:01:27,002 : INFO : topic #9 (0.049): 0.020*\"australia\" + 0.007*\"day\" + 0.007*\"attack\" + 0.007*\"team\" + 0.007*\"company\" + 0.006*\"hollingworth\" + 0.006*\"statement\" + 0.005*\"south_africa\" + 0.005*\"today\" + 0.005*\"test\"\n",
      "2017-11-20 12:01:27,004 : INFO : topic #8 (0.053): 0.008*\"fire\" + 0.007*\"sydney\" + 0.007*\"area\" + 0.007*\"year\" + 0.007*\"people\" + 0.007*\"united_states\" + 0.006*\"government\" + 0.006*\"today\" + 0.005*\"forces\" + 0.005*\"afghanistan\"\n",
      "2017-11-20 12:01:27,006 : INFO : topic #3 (0.055): 0.009*\"people\" + 0.008*\"arafat\" + 0.006*\"government\" + 0.005*\"centre\" + 0.005*\"police\" + 0.005*\"company\" + 0.005*\"israel\" + 0.005*\"space\" + 0.005*\"australia\" + 0.004*\"station\"\n",
      "2017-11-20 12:01:27,008 : INFO : topic diff=0.875571, rho=0.577350\n",
      "2017-11-20 12:01:27,215 : DEBUG : bound: at document #0\n",
      "2017-11-20 12:01:27,896 : INFO : -7.912 per-word bound, 240.9 perplexity estimate based on a held-out corpus of 300 documents with 18861 words\n",
      "2017-11-20 12:01:27,898 : INFO : PROGRESS: pass 2, at document #300/300\n",
      "2017-11-20 12:01:27,901 : DEBUG : performing inference on a chunk of 300 documents\n",
      "2017-11-20 12:01:28,116 : DEBUG : 300/300 documents converged within 200 iterations\n",
      "2017-11-20 12:01:28,121 : INFO : optimized alpha [0.039934085612560781, 0.045293537526138627, 0.044763340931550724, 0.050858451747137733, 0.038918440399905545, 0.043264531524885193, 0.043452132665560493, 0.045969781067434767, 0.049173493246419661, 0.045940078944781283, 0.044295741409486764, 0.042618855994534945, 0.042815531178417, 0.041705437129036849]\n",
      "2017-11-20 12:01:28,124 : DEBUG : updating topics\n",
      "2017-11-20 12:01:28,336 : INFO : topic #4 (0.039): 0.012*\"year\" + 0.006*\"hewitt\" + 0.006*\"labor\" + 0.005*\"howard\" + 0.005*\"blake\" + 0.005*\"airline\" + 0.005*\"ansett\" + 0.005*\"government\" + 0.005*\"world\" + 0.004*\"security\"\n",
      "2017-11-20 12:01:28,339 : INFO : topic #0 (0.040): 0.008*\"virus\" + 0.008*\"man\" + 0.007*\"security\" + 0.007*\"people\" + 0.007*\"company\" + 0.006*\"guides\" + 0.006*\"harrison\" + 0.006*\"year\" + 0.005*\"president\" + 0.005*\"months\"\n",
      "2017-11-20 12:01:28,341 : INFO : topic #7 (0.046): 0.028*\"arafat\" + 0.018*\"israeli\" + 0.013*\"israel\" + 0.011*\"west_bank\" + 0.011*\"security\" + 0.009*\"militants\" + 0.009*\"police\" + 0.008*\"sharon\" + 0.008*\"hamas\" + 0.007*\"attacks\"\n",
      "2017-11-20 12:01:28,343 : INFO : topic #8 (0.049): 0.008*\"fire\" + 0.007*\"sydney\" + 0.007*\"area\" + 0.007*\"year\" + 0.007*\"united_states\" + 0.007*\"people\" + 0.006*\"today\" + 0.006*\"government\" + 0.005*\"forces\" + 0.005*\"afghanistan\"\n",
      "2017-11-20 12:01:28,344 : INFO : topic #3 (0.051): 0.009*\"people\" + 0.006*\"arafat\" + 0.006*\"centre\" + 0.006*\"government\" + 0.005*\"police\" + 0.005*\"company\" + 0.005*\"space\" + 0.005*\"australia\" + 0.004*\"station\" + 0.004*\"israel\"\n",
      "2017-11-20 12:01:28,346 : INFO : topic diff=0.422378, rho=0.500000\n",
      "2017-11-20 12:01:28,559 : DEBUG : bound: at document #0\n",
      "2017-11-20 12:01:29,244 : INFO : -7.822 per-word bound, 226.3 perplexity estimate based on a held-out corpus of 300 documents with 18861 words\n",
      "2017-11-20 12:01:29,247 : INFO : PROGRESS: pass 3, at document #300/300\n",
      "2017-11-20 12:01:29,249 : DEBUG : performing inference on a chunk of 300 documents\n",
      "2017-11-20 12:01:29,461 : DEBUG : 300/300 documents converged within 200 iterations\n",
      "2017-11-20 12:01:29,465 : INFO : optimized alpha [0.036754912330079839, 0.042195315744524065, 0.041595898196981909, 0.047718377972691461, 0.035656243371715968, 0.040290938871513603, 0.040223189753488764, 0.043418681833558348, 0.046090362889671527, 0.043302183516242362, 0.041140138730691021, 0.039678919324114825, 0.039766855052584739, 0.03842663648722721]\n",
      "2017-11-20 12:01:29,466 : DEBUG : updating topics\n",
      "2017-11-20 12:01:29,677 : INFO : topic #4 (0.036): 0.012*\"year\" + 0.007*\"hewitt\" + 0.006*\"labor\" + 0.005*\"government\" + 0.005*\"world\" + 0.005*\"airline\" + 0.005*\"ansett\" + 0.005*\"howard\" + 0.005*\"blake\" + 0.004*\"security\"\n",
      "2017-11-20 12:01:29,677 : INFO : topic #0 (0.037): 0.008*\"virus\" + 0.008*\"man\" + 0.007*\"security\" + 0.007*\"people\" + 0.007*\"company\" + 0.006*\"guides\" + 0.006*\"year\" + 0.006*\"harrison\" + 0.005*\"adventure_world\" + 0.005*\"court\"\n",
      "2017-11-20 12:01:29,681 : INFO : topic #7 (0.043): 0.030*\"arafat\" + 0.019*\"israeli\" + 0.014*\"israel\" + 0.011*\"security\" + 0.011*\"west_bank\" + 0.010*\"militants\" + 0.009*\"hamas\" + 0.009*\"police\" + 0.008*\"sharon\" + 0.007*\"attacks\"\n",
      "2017-11-20 12:01:29,682 : INFO : topic #8 (0.046): 0.008*\"fire\" + 0.007*\"sydney\" + 0.007*\"area\" + 0.007*\"united_states\" + 0.007*\"year\" + 0.007*\"people\" + 0.006*\"today\" + 0.006*\"government\" + 0.005*\"forces\" + 0.005*\"afghanistan\"\n",
      "2017-11-20 12:01:29,683 : INFO : topic #3 (0.048): 0.009*\"people\" + 0.006*\"centre\" + 0.005*\"space\" + 0.005*\"police\" + 0.005*\"government\" + 0.005*\"company\" + 0.005*\"australia\" + 0.004*\"arafat\" + 0.004*\"station\" + 0.004*\"commission\"\n",
      "2017-11-20 12:01:29,683 : INFO : topic diff=0.301384, rho=0.447214\n",
      "2017-11-20 12:01:29,890 : DEBUG : bound: at document #0\n",
      "2017-11-20 12:01:30,559 : INFO : -7.766 per-word bound, 217.6 perplexity estimate based on a held-out corpus of 300 documents with 18861 words\n",
      "2017-11-20 12:01:30,564 : INFO : PROGRESS: pass 4, at document #300/300\n",
      "2017-11-20 12:01:30,564 : DEBUG : performing inference on a chunk of 300 documents\n",
      "2017-11-20 12:01:30,783 : DEBUG : 300/300 documents converged within 200 iterations\n",
      "2017-11-20 12:01:30,787 : INFO : optimized alpha [0.034324919164291708, 0.039681067645091127, 0.039097659012797915, 0.045208597950038232, 0.033120891752729392, 0.037993054621455642, 0.037689294047709952, 0.041415288460434324, 0.043698915882424, 0.041172132124255197, 0.038652606287496699, 0.037406466335598083, 0.037360175891485894, 0.035867202779938129]\n",
      "2017-11-20 12:01:30,788 : DEBUG : updating topics\n",
      "2017-11-20 12:01:30,998 : INFO : topic #4 (0.033): 0.012*\"year\" + 0.007*\"hewitt\" + 0.006*\"labor\" + 0.005*\"government\" + 0.005*\"world\" + 0.005*\"airline\" + 0.005*\"ansett\" + 0.005*\"howard\" + 0.005*\"blake\" + 0.004*\"security\"\n",
      "2017-11-20 12:01:30,999 : INFO : topic #0 (0.034): 0.008*\"virus\" + 0.008*\"man\" + 0.007*\"people\" + 0.007*\"security\" + 0.007*\"company\" + 0.006*\"guides\" + 0.006*\"adventure_world\" + 0.006*\"year\" + 0.006*\"harrison\" + 0.005*\"court\"\n",
      "2017-11-20 12:01:31,000 : INFO : topic #7 (0.041): 0.030*\"arafat\" + 0.019*\"israeli\" + 0.014*\"israel\" + 0.011*\"security\" + 0.011*\"west_bank\" + 0.010*\"hamas\" + 0.010*\"militants\" + 0.009*\"police\" + 0.008*\"sharon\" + 0.008*\"authority\"\n",
      "2017-11-20 12:01:31,001 : INFO : topic #8 (0.044): 0.008*\"fire\" + 0.007*\"sydney\" + 0.007*\"area\" + 0.007*\"united_states\" + 0.007*\"year\" + 0.007*\"people\" + 0.006*\"today\" + 0.005*\"government\" + 0.005*\"forces\" + 0.005*\"afghanistan\"\n",
      "2017-11-20 12:01:31,001 : INFO : topic #3 (0.045): 0.009*\"people\" + 0.006*\"centre\" + 0.006*\"space\" + 0.005*\"police\" + 0.005*\"australia\" + 0.005*\"company\" + 0.005*\"government\" + 0.004*\"station\" + 0.004*\"adelaide\" + 0.004*\"today\"\n",
      "2017-11-20 12:01:31,002 : INFO : topic diff=0.226675, rho=0.408248\n",
      "2017-11-20 12:01:31,110 : DEBUG : Setting topics to those of the model: LdaModel(num_terms=4431, num_topics=14, decay=0.5, chunksize=300)\n",
      "2017-11-20 12:01:31,112 : INFO : using ParallelWordOccurrenceAccumulator(processes=3, batch_size=64) to estimate probabilities from sliding windows\n",
      "2017-11-20 12:01:31,217 : DEBUG : completed batch 0; 64 documents processed (258 virtual)\n",
      "2017-11-20 12:01:31,206 : DEBUG : completed batch 0; 64 documents processed (92 virtual)\n",
      "2017-11-20 12:01:31,239 : DEBUG : completed batch 0; 64 documents processed (305 virtual)\n",
      "2017-11-20 12:01:31,276 : DEBUG : observed sentinel value; terminating\n",
      "2017-11-20 12:01:31,286 : DEBUG : completed batch 1; 128 documents processed (498 virtual)\n",
      "2017-11-20 12:01:31,278 : DEBUG : finished all batches; 64 documents processed (305 virtual)\n",
      "2017-11-20 12:01:31,289 : DEBUG : observed sentinel value; terminating\n",
      "2017-11-20 12:01:31,292 : INFO : serializing accumulator to return to master...\n",
      "2017-11-20 12:01:31,292 : DEBUG : finished all batches; 128 documents processed (498 virtual)\n",
      "2017-11-20 12:01:31,298 : INFO : accumulator serialized\n",
      "2017-11-20 12:01:31,298 : INFO : serializing accumulator to return to master...\n",
      "2017-11-20 12:01:31,327 : INFO : accumulator serialized\n",
      "2017-11-20 12:01:31,344 : DEBUG : completed batch 1; 108 documents processed (319 virtual)\n"
     ]
    },
    {
     "name": "stderr",
     "output_type": "stream",
     "text": [
      "2017-11-20 12:01:31,370 : DEBUG : observed sentinel value; terminating\n",
      "2017-11-20 12:01:31,374 : DEBUG : finished all batches; 108 documents processed (319 virtual)\n",
      "2017-11-20 12:01:31,378 : INFO : serializing accumulator to return to master...\n",
      "2017-11-20 12:01:31,391 : INFO : accumulator serialized\n",
      "2017-11-20 12:01:31,411 : INFO : 3 accumulators retrieved from output queue\n",
      "2017-11-20 12:01:31,430 : INFO : accumulated word occurrence stats for 1122 virtual documents\n",
      "2017-11-20 12:01:31,985 : INFO : using autotuned alpha, starting with [0.066666666666666666, 0.066666666666666666, 0.066666666666666666, 0.066666666666666666, 0.066666666666666666, 0.066666666666666666, 0.066666666666666666, 0.066666666666666666, 0.066666666666666666, 0.066666666666666666, 0.066666666666666666, 0.066666666666666666, 0.066666666666666666, 0.066666666666666666, 0.066666666666666666]\n",
      "2017-11-20 12:01:31,987 : INFO : using serial LDA version on this node\n",
      "2017-11-20 12:01:32,738 : INFO : running online (multi-pass) LDA training, 15 topics, 5 passes over the supplied corpus of 300 documents, updating model once every 300 documents, evaluating perplexity every 300 documents, iterating 200x with a convergence threshold of 0.001000\n",
      "2017-11-20 12:01:32,739 : WARNING : too few updates, training might not converge; consider increasing the number of passes or iterations to improve accuracy\n",
      "2017-11-20 12:01:33,671 : DEBUG : bound: at document #0\n",
      "2017-11-20 12:01:35,275 : INFO : -14.008 per-word bound, 16476.1 perplexity estimate based on a held-out corpus of 300 documents with 18861 words\n",
      "2017-11-20 12:01:35,275 : INFO : PROGRESS: pass 0, at document #300/300\n",
      "2017-11-20 12:01:35,276 : DEBUG : performing inference on a chunk of 300 documents\n",
      "2017-11-20 12:01:36,494 : DEBUG : 229/300 documents converged within 200 iterations\n",
      "2017-11-20 12:01:36,497 : INFO : optimized alpha [0.053929878655870747, 0.052806814628716989, 0.052347096455699758, 0.052521807037038945, 0.053788878312615293, 0.052784688659509006, 0.049173661962512383, 0.05265069259617159, 0.049398776282150697, 0.052071775977958312, 0.049447371518500871, 0.051117990929517729, 0.051803141603696673, 0.052359550539174765, 0.050862124583899979]\n",
      "2017-11-20 12:01:36,498 : DEBUG : updating topics\n",
      "2017-11-20 12:01:36,693 : INFO : topic #6 (0.049): 0.012*\"cent\" + 0.011*\"australia\" + 0.009*\"year\" + 0.007*\"hih\" + 0.006*\"drug\" + 0.006*\"ice\" + 0.005*\"world\" + 0.005*\"vaughan\" + 0.005*\"laws\" + 0.005*\"petrol\"\n",
      "2017-11-20 12:01:36,694 : INFO : topic #8 (0.049): 0.010*\"united_states\" + 0.009*\"area\" + 0.007*\"people\" + 0.007*\"security\" + 0.006*\"laden\" + 0.006*\"tora_bora\" + 0.005*\"control\" + 0.005*\"afghan\" + 0.005*\"mission\" + 0.005*\"attacks\"\n",
      "2017-11-20 12:01:36,695 : INFO : topic #1 (0.053): 0.008*\"fire\" + 0.008*\"security\" + 0.007*\"president\" + 0.007*\"attack\" + 0.006*\"people\" + 0.006*\"firefighters\" + 0.006*\"hours\" + 0.006*\"government\" + 0.005*\"time\" + 0.005*\"police\"\n",
      "2017-11-20 12:01:36,697 : INFO : topic #4 (0.054): 0.012*\"test\" + 0.012*\"australia\" + 0.009*\"today\" + 0.007*\"south_africa\" + 0.006*\"day\" + 0.005*\"match\" + 0.005*\"days\" + 0.005*\"sydney\" + 0.005*\"year\" + 0.004*\"reid\"\n",
      "2017-11-20 12:01:36,699 : INFO : topic #0 (0.054): 0.006*\"cancer\" + 0.006*\"israeli\" + 0.006*\"south\" + 0.005*\"arafat\" + 0.005*\"people\" + 0.004*\"hewitt\" + 0.004*\"test\" + 0.004*\"hours\" + 0.004*\"group\" + 0.004*\"sex\"\n",
      "2017-11-20 12:01:36,701 : INFO : topic diff=11.350057, rho=1.000000\n",
      "2017-11-20 12:01:36,891 : DEBUG : bound: at document #0\n",
      "2017-11-20 12:01:37,555 : INFO : -8.102 per-word bound, 274.8 perplexity estimate based on a held-out corpus of 300 documents with 18861 words\n",
      "2017-11-20 12:01:37,556 : INFO : PROGRESS: pass 1, at document #300/300\n",
      "2017-11-20 12:01:37,556 : DEBUG : performing inference on a chunk of 300 documents\n",
      "2017-11-20 12:01:37,791 : DEBUG : 300/300 documents converged within 200 iterations\n",
      "2017-11-20 12:01:37,794 : INFO : optimized alpha [0.047964617131803916, 0.04736356070927597, 0.046701321997192714, 0.046669236791173511, 0.049208043762629425, 0.046617619240836641, 0.043374946715152352, 0.047521114986120896, 0.043752226276081052, 0.046729559920058776, 0.043472814080552549, 0.045381499072120017, 0.046521469202006636, 0.047647375269009348, 0.046020344043773635]\n",
      "2017-11-20 12:01:37,795 : DEBUG : updating topics\n",
      "2017-11-20 12:01:37,999 : INFO : topic #6 (0.043): 0.013*\"cent\" + 0.012*\"australia\" + 0.008*\"year\" + 0.007*\"hih\" + 0.006*\"ice\" + 0.006*\"drug\" + 0.005*\"heart\" + 0.005*\"world\" + 0.005*\"laws\" + 0.005*\"vaughan\"\n",
      "2017-11-20 12:01:38,000 : INFO : topic #10 (0.043): 0.010*\"arafat\" + 0.010*\"australia\" + 0.008*\"company\" + 0.008*\"sharon\" + 0.008*\"pakistan\" + 0.006*\"afghanistan\" + 0.006*\"people\" + 0.006*\"tora_bora\" + 0.006*\"forces\" + 0.005*\"terrorism\"\n",
      "2017-11-20 12:01:38,001 : INFO : topic #13 (0.048): 0.015*\"government\" + 0.013*\"afghanistan\" + 0.012*\"arafat\" + 0.008*\"united_states\" + 0.008*\"people\" + 0.007*\"forces\" + 0.007*\"taliban\" + 0.006*\"police\" + 0.006*\"security\" + 0.006*\"attacks\"\n",
      "2017-11-20 12:01:38,001 : INFO : topic #0 (0.048): 0.006*\"cancer\" + 0.006*\"south\" + 0.005*\"people\" + 0.005*\"israeli\" + 0.004*\"hewitt\" + 0.004*\"fire\" + 0.004*\"hours\" + 0.004*\"sex\" + 0.004*\"arafat\" + 0.004*\"wales\"\n",
      "2017-11-20 12:01:38,002 : INFO : topic #4 (0.049): 0.016*\"test\" + 0.013*\"australia\" + 0.009*\"today\" + 0.008*\"south_africa\" + 0.007*\"match\" + 0.006*\"day\" + 0.006*\"days\" + 0.005*\"sydney\" + 0.005*\"bowler\" + 0.005*\"cricket\"\n",
      "2017-11-20 12:01:38,003 : INFO : topic diff=0.914487, rho=0.577350\n",
      "2017-11-20 12:01:38,214 : DEBUG : bound: at document #0\n",
      "2017-11-20 12:01:38,861 : INFO : -7.939 per-word bound, 245.4 perplexity estimate based on a held-out corpus of 300 documents with 18861 words\n",
      "2017-11-20 12:01:38,861 : INFO : PROGRESS: pass 2, at document #300/300\n",
      "2017-11-20 12:01:38,862 : DEBUG : performing inference on a chunk of 300 documents\n",
      "2017-11-20 12:01:39,077 : DEBUG : 300/300 documents converged within 200 iterations\n",
      "2017-11-20 12:01:39,081 : INFO : optimized alpha [0.043674988892854039, 0.043467547135237268, 0.04278332966057407, 0.042639922817748532, 0.045812842250579106, 0.042413706702519503, 0.039404511149621742, 0.043804059242521357, 0.040036626077279563, 0.04297989978624147, 0.039405495301585415, 0.041430949171727641, 0.042810209864657757, 0.044796211503682196, 0.042491684291338559]\n",
      "2017-11-20 12:01:39,081 : DEBUG : updating topics\n",
      "2017-11-20 12:01:39,304 : INFO : topic #6 (0.039): 0.013*\"cent\" + 0.012*\"australia\" + 0.008*\"year\" + 0.007*\"hih\" + 0.006*\"ice\" + 0.006*\"drug\" + 0.005*\"heart\" + 0.005*\"health\" + 0.005*\"world\" + 0.005*\"laws\"\n",
      "2017-11-20 12:01:39,305 : INFO : topic #10 (0.039): 0.010*\"arafat\" + 0.010*\"australia\" + 0.009*\"company\" + 0.008*\"sharon\" + 0.007*\"pakistan\" + 0.006*\"afghanistan\" + 0.006*\"people\" + 0.006*\"forces\" + 0.006*\"tora_bora\" + 0.005*\"terrorism\"\n",
      "2017-11-20 12:01:39,305 : INFO : topic #7 (0.044): 0.015*\"government\" + 0.008*\"australia\" + 0.008*\"afghanistan\" + 0.007*\"police\" + 0.007*\"officials\" + 0.007*\"force\" + 0.005*\"people\" + 0.005*\"security\" + 0.005*\"leaders\" + 0.005*\"troops\"\n",
      "2017-11-20 12:01:39,306 : INFO : topic #13 (0.045): 0.016*\"government\" + 0.015*\"arafat\" + 0.013*\"afghanistan\" + 0.008*\"united_states\" + 0.008*\"forces\" + 0.008*\"people\" + 0.007*\"taliban\" + 0.007*\"attacks\" + 0.007*\"security\" + 0.006*\"israeli\"\n",
      "2017-11-20 12:01:39,307 : INFO : topic #4 (0.046): 0.018*\"test\" + 0.014*\"australia\" + 0.009*\"south_africa\" + 0.009*\"today\" + 0.007*\"match\" + 0.006*\"day\" + 0.006*\"days\" + 0.005*\"cricket\" + 0.005*\"bowler\" + 0.005*\"sydney\"\n",
      "2017-11-20 12:01:39,307 : INFO : topic diff=0.448559, rho=0.500000\n",
      "2017-11-20 12:01:39,523 : DEBUG : bound: at document #0\n",
      "2017-11-20 12:01:40,187 : INFO : -7.844 per-word bound, 229.8 perplexity estimate based on a held-out corpus of 300 documents with 18861 words\n",
      "2017-11-20 12:01:40,188 : INFO : PROGRESS: pass 3, at document #300/300\n",
      "2017-11-20 12:01:40,189 : DEBUG : performing inference on a chunk of 300 documents\n",
      "2017-11-20 12:01:40,404 : DEBUG : 300/300 documents converged within 200 iterations\n",
      "2017-11-20 12:01:40,408 : INFO : optimized alpha [0.040478667929839361, 0.040454852679939257, 0.039829365216655768, 0.039617943958637297, 0.043192078904362573, 0.039281065827291628, 0.036377003990066159, 0.040976504426156524, 0.037301769052964562, 0.04006250945397799, 0.036378791767606368, 0.038534627965153972, 0.040060482277557388, 0.042633595967788596, 0.039795832783232996]\n"
     ]
    },
    {
     "name": "stderr",
     "output_type": "stream",
     "text": [
      "2017-11-20 12:01:40,408 : DEBUG : updating topics\n",
      "2017-11-20 12:01:40,622 : INFO : topic #6 (0.036): 0.013*\"cent\" + 0.012*\"australia\" + 0.008*\"year\" + 0.006*\"hih\" + 0.006*\"health\" + 0.006*\"drug\" + 0.005*\"heart\" + 0.005*\"ice\" + 0.005*\"world\" + 0.005*\"laws\"\n",
      "2017-11-20 12:01:40,624 : INFO : topic #10 (0.036): 0.010*\"arafat\" + 0.010*\"australia\" + 0.009*\"company\" + 0.008*\"sharon\" + 0.007*\"pakistan\" + 0.006*\"afghanistan\" + 0.006*\"forces\" + 0.006*\"people\" + 0.006*\"tora_bora\" + 0.005*\"terrorism\"\n",
      "2017-11-20 12:01:40,624 : INFO : topic #7 (0.041): 0.015*\"government\" + 0.008*\"australia\" + 0.008*\"afghanistan\" + 0.008*\"police\" + 0.007*\"officials\" + 0.007*\"force\" + 0.005*\"people\" + 0.005*\"leaders\" + 0.005*\"security\" + 0.005*\"detainees\"\n",
      "2017-11-20 12:01:40,626 : INFO : topic #13 (0.043): 0.017*\"arafat\" + 0.016*\"government\" + 0.013*\"afghanistan\" + 0.008*\"forces\" + 0.008*\"united_states\" + 0.008*\"israeli\" + 0.008*\"people\" + 0.007*\"security\" + 0.007*\"attacks\" + 0.007*\"taliban\"\n",
      "2017-11-20 12:01:40,628 : INFO : topic #4 (0.043): 0.019*\"test\" + 0.014*\"australia\" + 0.010*\"south_africa\" + 0.008*\"today\" + 0.008*\"match\" + 0.007*\"day\" + 0.006*\"days\" + 0.006*\"cricket\" + 0.005*\"bowler\" + 0.005*\"innings\"\n",
      "2017-11-20 12:01:40,629 : INFO : topic diff=0.322479, rho=0.447214\n",
      "2017-11-20 12:01:40,848 : DEBUG : bound: at document #0\n",
      "2017-11-20 12:01:41,514 : INFO : -7.784 per-word bound, 220.3 perplexity estimate based on a held-out corpus of 300 documents with 18861 words\n",
      "2017-11-20 12:01:41,514 : INFO : PROGRESS: pass 4, at document #300/300\n",
      "2017-11-20 12:01:41,515 : DEBUG : performing inference on a chunk of 300 documents\n",
      "2017-11-20 12:01:41,722 : DEBUG : 300/300 documents converged within 200 iterations\n",
      "2017-11-20 12:01:41,726 : INFO : optimized alpha [0.0379666067901267, 0.038070562330296376, 0.037487783847288, 0.03723109026723033, 0.041201689399065163, 0.036875067972337479, 0.03400024808256747, 0.038720202692733213, 0.035181842196852747, 0.0377453197987941, 0.034001906562157742, 0.036241591012138252, 0.037806485872518572, 0.041049072457480053, 0.037637623216448562]\n",
      "2017-11-20 12:01:41,727 : DEBUG : updating topics\n",
      "2017-11-20 12:01:41,940 : INFO : topic #10 (0.034): 0.010*\"arafat\" + 0.009*\"australia\" + 0.009*\"company\" + 0.008*\"sharon\" + 0.007*\"pakistan\" + 0.006*\"afghanistan\" + 0.006*\"forces\" + 0.006*\"people\" + 0.006*\"tora_bora\" + 0.005*\"terrorism\"\n",
      "2017-11-20 12:01:41,941 : INFO : topic #6 (0.034): 0.013*\"cent\" + 0.012*\"australia\" + 0.008*\"year\" + 0.006*\"hih\" + 0.006*\"health\" + 0.005*\"drug\" + 0.005*\"heart\" + 0.005*\"ice\" + 0.005*\"world\" + 0.005*\"laws\"\n",
      "2017-11-20 12:01:41,942 : INFO : topic #7 (0.039): 0.015*\"government\" + 0.008*\"australia\" + 0.008*\"afghanistan\" + 0.008*\"police\" + 0.007*\"officials\" + 0.007*\"force\" + 0.005*\"people\" + 0.005*\"detainees\" + 0.005*\"leaders\" + 0.005*\"security\"\n",
      "2017-11-20 12:01:41,943 : INFO : topic #13 (0.041): 0.019*\"arafat\" + 0.016*\"government\" + 0.013*\"afghanistan\" + 0.010*\"israeli\" + 0.009*\"forces\" + 0.008*\"united_states\" + 0.008*\"security\" + 0.008*\"people\" + 0.007*\"attacks\" + 0.007*\"taliban\"\n",
      "2017-11-20 12:01:41,945 : INFO : topic #4 (0.041): 0.019*\"test\" + 0.014*\"australia\" + 0.010*\"south_africa\" + 0.008*\"today\" + 0.008*\"match\" + 0.007*\"day\" + 0.006*\"cricket\" + 0.006*\"days\" + 0.006*\"bowler\" + 0.006*\"innings\"\n",
      "2017-11-20 12:01:41,946 : INFO : topic diff=0.243163, rho=0.408248\n",
      "2017-11-20 12:01:42,056 : DEBUG : Setting topics to those of the model: LdaModel(num_terms=4431, num_topics=15, decay=0.5, chunksize=300)\n",
      "2017-11-20 12:01:42,058 : INFO : using ParallelWordOccurrenceAccumulator(processes=3, batch_size=64) to estimate probabilities from sliding windows\n",
      "2017-11-20 12:01:42,125 : DEBUG : completed batch 0; 64 documents processed (92 virtual)\n",
      "2017-11-20 12:01:42,148 : DEBUG : completed batch 0; 64 documents processed (305 virtual)\n",
      "2017-11-20 12:01:42,157 : DEBUG : completed batch 0; 64 documents processed (258 virtual)\n",
      "2017-11-20 12:01:42,189 : DEBUG : observed sentinel value; terminating\n",
      "2017-11-20 12:01:42,197 : DEBUG : finished all batches; 64 documents processed (258 virtual)\n",
      "2017-11-20 12:01:42,204 : INFO : serializing accumulator to return to master...\n",
      "2017-11-20 12:01:42,215 : DEBUG : completed batch 1; 108 documents processed (532 virtual)\n",
      "2017-11-20 12:01:42,215 : DEBUG : completed batch 1; 128 documents processed (332 virtual)\n",
      "2017-11-20 12:01:42,217 : INFO : accumulator serialized\n",
      "2017-11-20 12:01:42,219 : DEBUG : observed sentinel value; terminating\n",
      "2017-11-20 12:01:42,218 : DEBUG : observed sentinel value; terminating\n",
      "2017-11-20 12:01:42,225 : DEBUG : finished all batches; 108 documents processed (532 virtual)\n",
      "2017-11-20 12:01:42,228 : INFO : serializing accumulator to return to master...\n",
      "2017-11-20 12:01:42,230 : INFO : accumulator serialized\n",
      "2017-11-20 12:01:42,232 : DEBUG : finished all batches; 128 documents processed (332 virtual)\n",
      "2017-11-20 12:01:42,238 : INFO : serializing accumulator to return to master...\n",
      "2017-11-20 12:01:42,256 : INFO : accumulator serialized\n",
      "2017-11-20 12:01:42,273 : INFO : 3 accumulators retrieved from output queue\n",
      "2017-11-20 12:01:42,297 : INFO : accumulated word occurrence stats for 1122 virtual documents\n",
      "2017-11-20 12:01:42,854 : INFO : using autotuned alpha, starting with [0.0625, 0.0625, 0.0625, 0.0625, 0.0625, 0.0625, 0.0625, 0.0625, 0.0625, 0.0625, 0.0625, 0.0625, 0.0625, 0.0625, 0.0625, 0.0625]\n",
      "2017-11-20 12:01:42,856 : INFO : using serial LDA version on this node\n",
      "2017-11-20 12:01:43,632 : INFO : running online (multi-pass) LDA training, 16 topics, 5 passes over the supplied corpus of 300 documents, updating model once every 300 documents, evaluating perplexity every 300 documents, iterating 200x with a convergence threshold of 0.001000\n",
      "2017-11-20 12:01:43,633 : WARNING : too few updates, training might not converge; consider increasing the number of passes or iterations to improve accuracy\n",
      "2017-11-20 12:01:44,583 : DEBUG : bound: at document #0\n",
      "2017-11-20 12:01:46,223 : INFO : -14.538 per-word bound, 23790.2 perplexity estimate based on a held-out corpus of 300 documents with 18861 words\n",
      "2017-11-20 12:01:46,224 : INFO : PROGRESS: pass 0, at document #300/300\n",
      "2017-11-20 12:01:46,224 : DEBUG : performing inference on a chunk of 300 documents\n",
      "2017-11-20 12:01:47,443 : DEBUG : 227/300 documents converged within 200 iterations\n",
      "2017-11-20 12:01:47,447 : INFO : optimized alpha [0.046624313828087682, 0.048754636472474536, 0.051560530581325273, 0.051155797843731594, 0.048500058671561472, 0.050264056569429671, 0.045360869219526936, 0.04823591763963847, 0.054339056533436708, 0.045677193565894919, 0.051006851968242999, 0.051389311514235515, 0.04820339397563296, 0.052733026199975636, 0.046657910150701233, 0.051858441007827355]\n",
      "2017-11-20 12:01:47,448 : DEBUG : updating topics\n",
      "2017-11-20 12:01:47,637 : INFO : topic #6 (0.045): 0.011*\"afghanistan\" + 0.010*\"tora_bora\" + 0.010*\"militants\" + 0.007*\"afghan\" + 0.007*\"commanders\" + 0.007*\"qaeda\" + 0.007*\"area\" + 0.006*\"authorities\" + 0.005*\"economy\" + 0.005*\"karzai\"\n",
      "2017-11-20 12:01:47,638 : INFO : topic #9 (0.046): 0.015*\"company\" + 0.010*\"reid\" + 0.009*\"gerber\" + 0.007*\"role\" + 0.007*\"wave\" + 0.007*\"hawthorne\" + 0.006*\"staff\" + 0.005*\"minister\" + 0.005*\"adventure_world\" + 0.005*\"balmer\"\n",
      "2017-11-20 12:01:47,638 : INFO : topic #15 (0.052): 0.007*\"government\" + 0.006*\"man\" + 0.006*\"today\" + 0.005*\"fire\" + 0.005*\"australia\" + 0.005*\"hollingworth\" + 0.005*\"team\" + 0.005*\"wales\" + 0.005*\"new_south\" + 0.005*\"year\"\n",
      "2017-11-20 12:01:47,639 : INFO : topic #13 (0.053): 0.010*\"australia\" + 0.008*\"people\" + 0.008*\"government\" + 0.006*\"laden\" + 0.006*\"afghanistan\" + 0.006*\"force\" + 0.005*\"innings\" + 0.005*\"south_africa\" + 0.005*\"authority\" + 0.004*\"united_states\"\n",
      "2017-11-20 12:01:47,639 : INFO : topic #8 (0.054): 0.013*\"australia\" + 0.013*\"company\" + 0.008*\"qantas\" + 0.007*\"commission\" + 0.007*\"united_states\" + 0.006*\"year\" + 0.006*\"people\" + 0.006*\"workers\" + 0.005*\"report\" + 0.004*\"director\"\n",
      "2017-11-20 12:01:47,640 : INFO : topic diff=12.122388, rho=1.000000\n",
      "2017-11-20 12:01:47,829 : DEBUG : bound: at document #0\n",
      "2017-11-20 12:01:48,535 : INFO : -8.179 per-word bound, 289.8 perplexity estimate based on a held-out corpus of 300 documents with 18861 words\n",
      "2017-11-20 12:01:48,536 : INFO : PROGRESS: pass 1, at document #300/300\n"
     ]
    },
    {
     "name": "stderr",
     "output_type": "stream",
     "text": [
      "2017-11-20 12:01:48,536 : DEBUG : performing inference on a chunk of 300 documents\n",
      "2017-11-20 12:01:48,777 : DEBUG : 300/300 documents converged within 200 iterations\n",
      "2017-11-20 12:01:48,781 : INFO : optimized alpha [0.041027471891423375, 0.043380650948227559, 0.046904712958632196, 0.046244083127398063, 0.043414366800997473, 0.045983774976070133, 0.039659108882088533, 0.043000582722641234, 0.051275306010433182, 0.039893039886969593, 0.045743201681446091, 0.047009975358143566, 0.043183108511128269, 0.048550401235288539, 0.041171227576746169, 0.047014885216210292]\n",
      "2017-11-20 12:01:48,782 : DEBUG : updating topics\n",
      "2017-11-20 12:01:48,985 : INFO : topic #6 (0.040): 0.011*\"tora_bora\" + 0.011*\"militants\" + 0.011*\"afghanistan\" + 0.008*\"qaeda\" + 0.008*\"afghan\" + 0.008*\"commanders\" + 0.007*\"area\" + 0.006*\"hamas\" + 0.006*\"arafat\" + 0.006*\"qaeda_fighters\"\n",
      "2017-11-20 12:01:48,986 : INFO : topic #9 (0.040): 0.017*\"company\" + 0.010*\"reid\" + 0.008*\"gerber\" + 0.007*\"staff\" + 0.007*\"role\" + 0.007*\"austar\" + 0.007*\"wave\" + 0.007*\"hawthorne\" + 0.006*\"entitlements\" + 0.005*\"minister\"\n",
      "2017-11-20 12:01:48,986 : INFO : topic #15 (0.047): 0.008*\"government\" + 0.006*\"australia\" + 0.006*\"man\" + 0.006*\"today\" + 0.006*\"team\" + 0.005*\"fire\" + 0.005*\"john\" + 0.005*\"hollingworth\" + 0.005*\"terrorism\" + 0.005*\"wales\"\n",
      "2017-11-20 12:01:48,987 : INFO : topic #13 (0.049): 0.010*\"australia\" + 0.008*\"people\" + 0.007*\"government\" + 0.007*\"laden\" + 0.006*\"afghanistan\" + 0.006*\"force\" + 0.005*\"innings\" + 0.005*\"south_africa\" + 0.005*\"united_states\" + 0.004*\"authority\"\n",
      "2017-11-20 12:01:48,987 : INFO : topic #8 (0.051): 0.013*\"company\" + 0.013*\"australia\" + 0.008*\"qantas\" + 0.008*\"commission\" + 0.007*\"united_states\" + 0.006*\"workers\" + 0.006*\"report\" + 0.006*\"year\" + 0.006*\"people\" + 0.005*\"unions\"\n",
      "2017-11-20 12:01:48,988 : INFO : topic diff=0.970999, rho=0.577350\n",
      "2017-11-20 12:01:49,201 : DEBUG : bound: at document #0\n",
      "2017-11-20 12:01:49,886 : INFO : -8.001 per-word bound, 256.1 perplexity estimate based on a held-out corpus of 300 documents with 18861 words\n",
      "2017-11-20 12:01:49,888 : INFO : PROGRESS: pass 2, at document #300/300\n",
      "2017-11-20 12:01:49,890 : DEBUG : performing inference on a chunk of 300 documents\n",
      "2017-11-20 12:01:50,113 : DEBUG : 300/300 documents converged within 200 iterations\n",
      "2017-11-20 12:01:50,118 : INFO : optimized alpha [0.037123517719291864, 0.03965705396513361, 0.043561812295717976, 0.042759338294864488, 0.039854378228063765, 0.043149577971633504, 0.035860157043314578, 0.039275429577569493, 0.04898332907666423, 0.035974527249062006, 0.041971704483197501, 0.043663981779098728, 0.039498936988460902, 0.045473775463718162, 0.037476312146303745, 0.04356735274401579]\n",
      "2017-11-20 12:01:50,120 : DEBUG : updating topics\n",
      "2017-11-20 12:01:50,343 : INFO : topic #6 (0.036): 0.012*\"militants\" + 0.012*\"tora_bora\" + 0.010*\"afghanistan\" + 0.008*\"qaeda\" + 0.008*\"afghan\" + 0.008*\"commanders\" + 0.008*\"hamas\" + 0.007*\"area\" + 0.007*\"arafat\" + 0.006*\"qaeda_fighters\"\n",
      "2017-11-20 12:01:50,345 : INFO : topic #9 (0.036): 0.018*\"company\" + 0.010*\"reid\" + 0.008*\"gerber\" + 0.008*\"staff\" + 0.008*\"austar\" + 0.006*\"role\" + 0.006*\"wave\" + 0.006*\"hawthorne\" + 0.006*\"entitlements\" + 0.005*\"minister\"\n",
      "2017-11-20 12:01:50,346 : INFO : topic #11 (0.044): 0.012*\"australia\" + 0.010*\"afghanistan\" + 0.007*\"year\" + 0.007*\"man\" + 0.007*\"government\" + 0.006*\"people\" + 0.006*\"security\" + 0.006*\"staff\" + 0.005*\"today\" + 0.005*\"time\"\n",
      "2017-11-20 12:01:50,347 : INFO : topic #13 (0.045): 0.010*\"australia\" + 0.008*\"people\" + 0.007*\"laden\" + 0.007*\"government\" + 0.007*\"afghanistan\" + 0.006*\"innings\" + 0.006*\"force\" + 0.005*\"south_africa\" + 0.005*\"united_states\" + 0.005*\"wicket\"\n",
      "2017-11-20 12:01:50,348 : INFO : topic #8 (0.049): 0.014*\"company\" + 0.013*\"australia\" + 0.009*\"qantas\" + 0.009*\"commission\" + 0.007*\"united_states\" + 0.007*\"workers\" + 0.006*\"report\" + 0.006*\"year\" + 0.006*\"people\" + 0.005*\"unions\"\n",
      "2017-11-20 12:01:50,348 : INFO : topic diff=0.474421, rho=0.500000\n",
      "2017-11-20 12:01:50,569 : DEBUG : bound: at document #0\n",
      "2017-11-20 12:01:51,233 : INFO : -7.896 per-word bound, 238.3 perplexity estimate based on a held-out corpus of 300 documents with 18861 words\n",
      "2017-11-20 12:01:51,234 : INFO : PROGRESS: pass 3, at document #300/300\n",
      "2017-11-20 12:01:51,234 : DEBUG : performing inference on a chunk of 300 documents\n",
      "2017-11-20 12:01:51,440 : DEBUG : 300/300 documents converged within 200 iterations\n",
      "2017-11-20 12:01:51,443 : INFO : optimized alpha [0.034216082677542302, 0.03685221639854451, 0.040983431967936378, 0.040091879997473795, 0.037154069693446728, 0.040861853501637034, 0.033088076959154708, 0.036470868563429064, 0.04710505529734927, 0.033067014868770499, 0.039186992056795433, 0.041085991885777225, 0.036720024173849515, 0.04299663754686503, 0.034702328250582525, 0.040922037038123027]\n",
      "2017-11-20 12:01:51,444 : DEBUG : updating topics\n",
      "2017-11-20 12:01:51,664 : INFO : topic #9 (0.033): 0.018*\"company\" + 0.009*\"reid\" + 0.008*\"austar\" + 0.008*\"gerber\" + 0.008*\"staff\" + 0.006*\"role\" + 0.006*\"wave\" + 0.006*\"hawthorne\" + 0.006*\"entitlements\" + 0.005*\"minister\"\n",
      "2017-11-20 12:01:51,664 : INFO : topic #6 (0.033): 0.013*\"tora_bora\" + 0.012*\"militants\" + 0.010*\"afghanistan\" + 0.009*\"qaeda\" + 0.009*\"hamas\" + 0.008*\"commanders\" + 0.008*\"afghan\" + 0.008*\"area\" + 0.007*\"arafat\" + 0.007*\"qaeda_fighters\"\n",
      "2017-11-20 12:01:51,666 : INFO : topic #11 (0.041): 0.012*\"australia\" + 0.010*\"afghanistan\" + 0.007*\"year\" + 0.007*\"man\" + 0.007*\"government\" + 0.006*\"people\" + 0.006*\"staff\" + 0.006*\"security\" + 0.005*\"today\" + 0.005*\"time\"\n",
      "2017-11-20 12:01:51,668 : INFO : topic #13 (0.043): 0.011*\"australia\" + 0.008*\"people\" + 0.008*\"laden\" + 0.007*\"government\" + 0.007*\"afghanistan\" + 0.006*\"innings\" + 0.006*\"force\" + 0.005*\"south_africa\" + 0.005*\"united_states\" + 0.005*\"wicket\"\n",
      "2017-11-20 12:01:51,669 : INFO : topic #8 (0.047): 0.014*\"company\" + 0.012*\"australia\" + 0.009*\"qantas\" + 0.009*\"commission\" + 0.007*\"report\" + 0.007*\"workers\" + 0.006*\"united_states\" + 0.006*\"year\" + 0.006*\"people\" + 0.005*\"unions\"\n",
      "2017-11-20 12:01:51,671 : INFO : topic diff=0.337302, rho=0.447214\n",
      "2017-11-20 12:01:51,890 : DEBUG : bound: at document #0\n",
      "2017-11-20 12:01:52,544 : INFO : -7.832 per-word bound, 227.8 perplexity estimate based on a held-out corpus of 300 documents with 18861 words\n",
      "2017-11-20 12:01:52,546 : INFO : PROGRESS: pass 4, at document #300/300\n",
      "2017-11-20 12:01:52,548 : DEBUG : performing inference on a chunk of 300 documents\n",
      "2017-11-20 12:01:52,768 : DEBUG : 300/300 documents converged within 200 iterations\n",
      "2017-11-20 12:01:52,772 : INFO : optimized alpha [0.0319318699560188, 0.034682277573411392, 0.038845066508842341, 0.037952857180500739, 0.035003506463470876, 0.039181033813461365, 0.030950300803302654, 0.034301661420161382, 0.045520947820451838, 0.030788633833340608, 0.036971540604755777, 0.039009286962893172, 0.034516220443304158, 0.040984401079852947, 0.032509239722698396, 0.038914915920331111]\n",
      "2017-11-20 12:01:52,774 : DEBUG : updating topics\n",
      "2017-11-20 12:01:53,000 : INFO : topic #9 (0.031): 0.018*\"company\" + 0.009*\"reid\" + 0.008*\"austar\" + 0.008*\"staff\" + 0.007*\"gerber\" + 0.006*\"role\" + 0.006*\"wave\" + 0.006*\"hawthorne\" + 0.006*\"entitlements\" + 0.005*\"minister\"\n",
      "2017-11-20 12:01:53,001 : INFO : topic #6 (0.031): 0.014*\"tora_bora\" + 0.012*\"militants\" + 0.010*\"afghanistan\" + 0.010*\"qaeda\" + 0.009*\"hamas\" + 0.008*\"commanders\" + 0.008*\"afghan\" + 0.008*\"area\" + 0.007*\"arafat\" + 0.007*\"qaeda_fighters\"\n",
      "2017-11-20 12:01:53,002 : INFO : topic #5 (0.039): 0.026*\"arafat\" + 0.021*\"israeli\" + 0.017*\"security\" + 0.014*\"israel\" + 0.012*\"west_bank\" + 0.011*\"government\" + 0.008*\"sharon\" + 0.008*\"official\" + 0.007*\"hamas\" + 0.007*\"war\"\n",
      "2017-11-20 12:01:53,003 : INFO : topic #13 (0.041): 0.011*\"australia\" + 0.008*\"laden\" + 0.008*\"people\" + 0.007*\"afghanistan\" + 0.007*\"government\" + 0.006*\"innings\" + 0.006*\"force\" + 0.005*\"south_africa\" + 0.005*\"united_states\" + 0.005*\"wicket\"\n",
      "2017-11-20 12:01:53,005 : INFO : topic #8 (0.046): 0.014*\"company\" + 0.012*\"australia\" + 0.010*\"commission\" + 0.010*\"qantas\" + 0.007*\"report\" + 0.007*\"workers\" + 0.006*\"united_states\" + 0.006*\"year\" + 0.006*\"people\" + 0.006*\"unions\"\n",
      "2017-11-20 12:01:53,011 : INFO : topic diff=0.251575, rho=0.408248\n"
     ]
    },
    {
     "name": "stderr",
     "output_type": "stream",
     "text": [
      "2017-11-20 12:01:53,142 : DEBUG : Setting topics to those of the model: LdaModel(num_terms=4431, num_topics=16, decay=0.5, chunksize=300)\n",
      "2017-11-20 12:01:53,150 : INFO : using ParallelWordOccurrenceAccumulator(processes=3, batch_size=64) to estimate probabilities from sliding windows\n",
      "2017-11-20 12:01:53,245 : DEBUG : completed batch 0; 64 documents processed (92 virtual)\n",
      "2017-11-20 12:01:53,291 : DEBUG : completed batch 0; 64 documents processed (305 virtual)\n",
      "2017-11-20 12:01:53,304 : DEBUG : completed batch 0; 64 documents processed (258 virtual)\n",
      "2017-11-20 12:01:53,331 : DEBUG : observed sentinel value; terminating\n",
      "2017-11-20 12:01:53,332 : DEBUG : finished all batches; 64 documents processed (258 virtual)\n",
      "2017-11-20 12:01:53,342 : DEBUG : completed batch 1; 128 documents processed (332 virtual)\n",
      "2017-11-20 12:01:53,334 : INFO : serializing accumulator to return to master...\n",
      "2017-11-20 12:01:53,348 : DEBUG : observed sentinel value; terminating\n",
      "2017-11-20 12:01:53,352 : DEBUG : finished all batches; 128 documents processed (332 virtual)\n",
      "2017-11-20 12:01:53,354 : INFO : serializing accumulator to return to master...\n",
      "2017-11-20 12:01:53,355 : INFO : accumulator serialized\n",
      "2017-11-20 12:01:53,368 : INFO : accumulator serialized\n",
      "2017-11-20 12:01:53,382 : DEBUG : completed batch 1; 108 documents processed (532 virtual)\n",
      "2017-11-20 12:01:53,384 : DEBUG : observed sentinel value; terminating\n",
      "2017-11-20 12:01:53,386 : DEBUG : finished all batches; 108 documents processed (532 virtual)\n",
      "2017-11-20 12:01:53,387 : INFO : serializing accumulator to return to master...\n",
      "2017-11-20 12:01:53,389 : INFO : accumulator serialized\n",
      "2017-11-20 12:01:53,421 : INFO : 3 accumulators retrieved from output queue\n",
      "2017-11-20 12:01:53,444 : INFO : accumulated word occurrence stats for 1122 virtual documents\n",
      "2017-11-20 12:01:54,084 : INFO : using autotuned alpha, starting with [0.058823529411764705, 0.058823529411764705, 0.058823529411764705, 0.058823529411764705, 0.058823529411764705, 0.058823529411764705, 0.058823529411764705, 0.058823529411764705, 0.058823529411764705, 0.058823529411764705, 0.058823529411764705, 0.058823529411764705, 0.058823529411764705, 0.058823529411764705, 0.058823529411764705, 0.058823529411764705, 0.058823529411764705]\n",
      "2017-11-20 12:01:54,085 : INFO : using serial LDA version on this node\n",
      "2017-11-20 12:01:54,958 : INFO : running online (multi-pass) LDA training, 17 topics, 5 passes over the supplied corpus of 300 documents, updating model once every 300 documents, evaluating perplexity every 300 documents, iterating 200x with a convergence threshold of 0.001000\n",
      "2017-11-20 12:01:54,967 : WARNING : too few updates, training might not converge; consider increasing the number of passes or iterations to improve accuracy\n",
      "2017-11-20 12:01:56,062 : DEBUG : bound: at document #0\n",
      "2017-11-20 12:01:58,055 : INFO : -15.074 per-word bound, 34499.7 perplexity estimate based on a held-out corpus of 300 documents with 18861 words\n",
      "2017-11-20 12:01:58,057 : INFO : PROGRESS: pass 0, at document #300/300\n",
      "2017-11-20 12:01:58,059 : DEBUG : performing inference on a chunk of 300 documents\n",
      "2017-11-20 12:01:59,389 : DEBUG : 228/300 documents converged within 200 iterations\n",
      "2017-11-20 12:01:59,393 : INFO : optimized alpha [0.049098516951051267, 0.044615857179732481, 0.045333540327527261, 0.048603981731624418, 0.04780103942722673, 0.049567327698240876, 0.044017608023136062, 0.045712888154082726, 0.046187923705647463, 0.04551628860444272, 0.048606810790457838, 0.047680878792210696, 0.050311155313347719, 0.047948764353130474, 0.04688262565351925, 0.048671562495108484, 0.047112085251051018]\n",
      "2017-11-20 12:01:59,393 : DEBUG : updating topics\n",
      "2017-11-20 12:01:59,609 : INFO : topic #6 (0.044): 0.016*\"qantas\" + 0.016*\"test\" + 0.008*\"members\" + 0.007*\"bichel\" + 0.007*\"south_africa\" + 0.006*\"years\" + 0.006*\"lee\" + 0.006*\"workers\" + 0.006*\"people\" + 0.006*\"australia\"\n",
      "2017-11-20 12:01:59,611 : INFO : topic #1 (0.045): 0.011*\"commission\" + 0.009*\"hih\" + 0.009*\"united_states\" + 0.008*\"report\" + 0.008*\"area\" + 0.006*\"yesterday\" + 0.006*\"day\" + 0.006*\"suharto\" + 0.006*\"tora_bora\" + 0.006*\"justice\"\n",
      "2017-11-20 12:01:59,612 : INFO : topic #0 (0.049): 0.011*\"australia\" + 0.008*\"people\" + 0.007*\"economy\" + 0.006*\"afghanistan\" + 0.006*\"radio\" + 0.006*\"lockett\" + 0.005*\"world\" + 0.005*\"queensland\" + 0.005*\"time\" + 0.005*\"hollingworth\"\n",
      "2017-11-20 12:01:59,612 : INFO : topic #5 (0.050): 0.010*\"test\" + 0.007*\"australia\" + 0.006*\"workers\" + 0.006*\"staff\" + 0.005*\"action\" + 0.005*\"today\" + 0.005*\"union\" + 0.005*\"people\" + 0.005*\"child\" + 0.005*\"pay\"\n",
      "2017-11-20 12:01:59,613 : INFO : topic #12 (0.050): 0.012*\"afghanistan\" + 0.011*\"metres\" + 0.009*\"force\" + 0.009*\"australia\" + 0.009*\"security\" + 0.008*\"man\" + 0.008*\"government\" + 0.006*\"people\" + 0.006*\"afghan\" + 0.005*\"forces\"\n",
      "2017-11-20 12:01:59,613 : INFO : topic diff=13.118685, rho=1.000000\n",
      "2017-11-20 12:01:59,874 : DEBUG : bound: at document #0\n",
      "2017-11-20 12:02:00,597 : INFO : -8.142 per-word bound, 282.4 perplexity estimate based on a held-out corpus of 300 documents with 18861 words\n",
      "2017-11-20 12:02:00,597 : INFO : PROGRESS: pass 1, at document #300/300\n",
      "2017-11-20 12:02:00,598 : DEBUG : performing inference on a chunk of 300 documents\n",
      "2017-11-20 12:02:00,852 : DEBUG : 300/300 documents converged within 200 iterations\n",
      "2017-11-20 12:02:00,857 : INFO : optimized alpha [0.045050559233342329, 0.039866789204310069, 0.040732637482821243, 0.043882784192697338, 0.043261504415387383, 0.045431763250180605, 0.039112989584331938, 0.040910760499760404, 0.041694389842211362, 0.040670793947283637, 0.044432394857342836, 0.043488098402144154, 0.045778322814046368, 0.043718532954691421, 0.041706417671182043, 0.044267197978576214, 0.042711309869509419]\n",
      "2017-11-20 12:02:00,857 : DEBUG : updating topics\n",
      "2017-11-20 12:02:01,083 : INFO : topic #6 (0.039): 0.018*\"qantas\" + 0.014*\"test\" + 0.008*\"members\" + 0.008*\"bichel\" + 0.008*\"south_africa\" + 0.007*\"workers\" + 0.007*\"airline\" + 0.006*\"unions\" + 0.006*\"australia\" + 0.006*\"lee\"\n",
      "2017-11-20 12:02:01,084 : INFO : topic #1 (0.040): 0.013*\"commission\" + 0.011*\"hih\" + 0.009*\"report\" + 0.009*\"action\" + 0.008*\"united_states\" + 0.008*\"company\" + 0.007*\"area\" + 0.007*\"yesterday\" + 0.006*\"justice\" + 0.006*\"day\"\n",
      "2017-11-20 12:02:01,084 : INFO : topic #0 (0.045): 0.011*\"australia\" + 0.007*\"people\" + 0.007*\"economy\" + 0.007*\"hollingworth\" + 0.006*\"queensland\" + 0.005*\"world\" + 0.005*\"radio\" + 0.005*\"lockett\" + 0.005*\"time\" + 0.005*\"afghanistan\"\n",
      "2017-11-20 12:02:01,085 : INFO : topic #5 (0.045): 0.012*\"test\" + 0.007*\"australia\" + 0.006*\"workers\" + 0.006*\"action\" + 0.006*\"staff\" + 0.005*\"union\" + 0.005*\"match\" + 0.005*\"today\" + 0.005*\"pay\" + 0.005*\"child\"\n",
      "2017-11-20 12:02:01,086 : INFO : topic #12 (0.046): 0.013*\"afghanistan\" + 0.011*\"metres\" + 0.011*\"force\" + 0.010*\"security\" + 0.009*\"man\" + 0.009*\"australia\" + 0.008*\"government\" + 0.006*\"people\" + 0.006*\"forces\" + 0.006*\"afghan\"\n",
      "2017-11-20 12:02:01,086 : INFO : topic diff=1.004565, rho=0.577350\n",
      "2017-11-20 12:02:01,310 : DEBUG : bound: at document #0\n",
      "2017-11-20 12:02:02,013 : INFO : -7.974 per-word bound, 251.5 perplexity estimate based on a held-out corpus of 300 documents with 18861 words\n",
      "2017-11-20 12:02:02,014 : INFO : PROGRESS: pass 2, at document #300/300\n",
      "2017-11-20 12:02:02,016 : DEBUG : performing inference on a chunk of 300 documents\n",
      "2017-11-20 12:02:02,259 : DEBUG : 300/300 documents converged within 200 iterations\n",
      "2017-11-20 12:02:02,263 : INFO : optimized alpha [0.042268785116666804, 0.036538857406155346, 0.037561230592435928, 0.04036728162660258, 0.040114544941005491, 0.042504125471232307, 0.035913154453653881, 0.037611542660535506, 0.03849818983075038, 0.037271621776366295, 0.041326891998517926, 0.040535516031943108, 0.042531073395381223, 0.040749916487897553, 0.038114752642529767, 0.041016830646724005, 0.039561707041357121]\n",
      "2017-11-20 12:02:02,266 : DEBUG : updating topics\n",
      "2017-11-20 12:02:02,504 : INFO : topic #6 (0.036): 0.021*\"qantas\" + 0.012*\"test\" + 0.009*\"airline\" + 0.008*\"bichel\" + 0.008*\"workers\" + 0.008*\"members\" + 0.008*\"south_africa\" + 0.008*\"unions\" + 0.007*\"australia\" + 0.006*\"company\"\n",
      "2017-11-20 12:02:02,509 : INFO : topic #1 (0.037): 0.015*\"commission\" + 0.012*\"hih\" + 0.011*\"report\" + 0.009*\"action\" + 0.009*\"company\" + 0.008*\"united_states\" + 0.007*\"area\" + 0.007*\"yesterday\" + 0.006*\"justice\" + 0.006*\"collapse\"\n"
     ]
    },
    {
     "name": "stderr",
     "output_type": "stream",
     "text": [
      "2017-11-20 12:02:02,513 : INFO : topic #0 (0.042): 0.011*\"australia\" + 0.007*\"hollingworth\" + 0.007*\"economy\" + 0.007*\"people\" + 0.006*\"queensland\" + 0.006*\"abuse\" + 0.005*\"team\" + 0.005*\"world\" + 0.005*\"radio\" + 0.005*\"lockett\"\n",
      "2017-11-20 12:02:02,514 : INFO : topic #5 (0.043): 0.014*\"test\" + 0.007*\"australia\" + 0.006*\"workers\" + 0.006*\"action\" + 0.006*\"match\" + 0.006*\"staff\" + 0.005*\"south_africa\" + 0.005*\"union\" + 0.005*\"today\" + 0.005*\"pay\"\n",
      "2017-11-20 12:02:02,517 : INFO : topic #12 (0.043): 0.014*\"afghanistan\" + 0.012*\"force\" + 0.011*\"metres\" + 0.010*\"security\" + 0.010*\"man\" + 0.009*\"australia\" + 0.008*\"government\" + 0.006*\"forces\" + 0.006*\"afghan\" + 0.006*\"people\"\n",
      "2017-11-20 12:02:02,521 : INFO : topic diff=0.491334, rho=0.500000\n",
      "2017-11-20 12:02:02,758 : DEBUG : bound: at document #0\n",
      "2017-11-20 12:02:03,452 : INFO : -7.875 per-word bound, 234.7 perplexity estimate based on a held-out corpus of 300 documents with 18861 words\n",
      "2017-11-20 12:02:03,453 : INFO : PROGRESS: pass 3, at document #300/300\n",
      "2017-11-20 12:02:03,453 : DEBUG : performing inference on a chunk of 300 documents\n",
      "2017-11-20 12:02:03,686 : DEBUG : 300/300 documents converged within 200 iterations\n",
      "2017-11-20 12:02:03,691 : INFO : optimized alpha [0.040087660852998766, 0.034067075875427816, 0.035133055148352021, 0.037695025722252869, 0.037692970033584815, 0.040215882124664093, 0.033477543498465247, 0.035035742112514548, 0.03604604283242422, 0.034690164726980902, 0.038861567491727325, 0.03824245596286073, 0.040030619476742121, 0.038509480257876864, 0.035405906803906692, 0.038513837784769821, 0.037140109845759911]\n",
      "2017-11-20 12:02:03,693 : DEBUG : updating topics\n",
      "2017-11-20 12:02:03,931 : INFO : topic #6 (0.033): 0.023*\"qantas\" + 0.012*\"test\" + 0.010*\"airline\" + 0.009*\"unions\" + 0.009*\"workers\" + 0.008*\"bichel\" + 0.008*\"south_africa\" + 0.008*\"australia\" + 0.008*\"members\" + 0.006*\"company\"\n",
      "2017-11-20 12:02:03,932 : INFO : topic #1 (0.034): 0.016*\"commission\" + 0.012*\"hih\" + 0.011*\"report\" + 0.010*\"company\" + 0.009*\"action\" + 0.008*\"united_states\" + 0.007*\"collapse\" + 0.007*\"area\" + 0.007*\"yesterday\" + 0.006*\"justice\"\n",
      "2017-11-20 12:02:03,933 : INFO : topic #12 (0.040): 0.015*\"afghanistan\" + 0.013*\"force\" + 0.011*\"metres\" + 0.010*\"man\" + 0.010*\"security\" + 0.008*\"australia\" + 0.008*\"government\" + 0.007*\"afghan\" + 0.007*\"forces\" + 0.006*\"people\"\n",
      "2017-11-20 12:02:03,934 : INFO : topic #0 (0.040): 0.011*\"australia\" + 0.008*\"hollingworth\" + 0.007*\"economy\" + 0.007*\"people\" + 0.006*\"abuse\" + 0.006*\"team\" + 0.006*\"queensland\" + 0.005*\"world\" + 0.005*\"radio\" + 0.005*\"statement\"\n",
      "2017-11-20 12:02:03,934 : INFO : topic #5 (0.040): 0.015*\"test\" + 0.008*\"australia\" + 0.006*\"workers\" + 0.006*\"action\" + 0.006*\"south_africa\" + 0.006*\"match\" + 0.006*\"staff\" + 0.005*\"union\" + 0.005*\"today\" + 0.005*\"day\"\n",
      "2017-11-20 12:02:03,935 : INFO : topic diff=0.354111, rho=0.447214\n",
      "2017-11-20 12:02:04,171 : DEBUG : bound: at document #0\n",
      "2017-11-20 12:02:04,872 : INFO : -7.811 per-word bound, 224.5 perplexity estimate based on a held-out corpus of 300 documents with 18861 words\n",
      "2017-11-20 12:02:04,873 : INFO : PROGRESS: pass 4, at document #300/300\n",
      "2017-11-20 12:02:04,873 : DEBUG : performing inference on a chunk of 300 documents\n",
      "2017-11-20 12:02:05,111 : DEBUG : 300/300 documents converged within 200 iterations\n",
      "2017-11-20 12:02:05,115 : INFO : optimized alpha [0.038302680650888155, 0.032188796963421265, 0.033235184387234405, 0.03556183364004923, 0.035740279302880006, 0.038349697943193185, 0.031529083493346079, 0.032931522695573923, 0.034074438890535887, 0.032631309506893164, 0.03687307064655837, 0.036327501634987408, 0.038131288993080416, 0.03668606129747936, 0.033255642556606672, 0.036443133786372282, 0.035081408289849875]\n",
      "2017-11-20 12:02:05,116 : DEBUG : updating topics\n",
      "2017-11-20 12:02:05,351 : INFO : topic #6 (0.032): 0.024*\"qantas\" + 0.011*\"test\" + 0.011*\"airline\" + 0.010*\"unions\" + 0.009*\"workers\" + 0.008*\"bichel\" + 0.008*\"australia\" + 0.008*\"south_africa\" + 0.008*\"members\" + 0.006*\"company\"\n",
      "2017-11-20 12:02:05,352 : INFO : topic #1 (0.032): 0.018*\"commission\" + 0.012*\"hih\" + 0.012*\"report\" + 0.011*\"company\" + 0.010*\"action\" + 0.008*\"united_states\" + 0.007*\"collapse\" + 0.007*\"yesterday\" + 0.007*\"area\" + 0.006*\"justice\"\n",
      "2017-11-20 12:02:05,353 : INFO : topic #12 (0.038): 0.016*\"afghanistan\" + 0.013*\"force\" + 0.011*\"metres\" + 0.010*\"man\" + 0.010*\"security\" + 0.008*\"government\" + 0.008*\"australia\" + 0.007*\"afghan\" + 0.007*\"forces\" + 0.006*\"tora_bora\"\n",
      "2017-11-20 12:02:05,354 : INFO : topic #0 (0.038): 0.011*\"australia\" + 0.008*\"hollingworth\" + 0.007*\"economy\" + 0.007*\"people\" + 0.006*\"team\" + 0.006*\"abuse\" + 0.006*\"queensland\" + 0.005*\"world\" + 0.005*\"union\" + 0.005*\"allegations\"\n",
      "2017-11-20 12:02:05,355 : INFO : topic #5 (0.038): 0.015*\"test\" + 0.008*\"australia\" + 0.006*\"workers\" + 0.006*\"south_africa\" + 0.006*\"action\" + 0.006*\"match\" + 0.006*\"staff\" + 0.006*\"union\" + 0.005*\"bowler\" + 0.005*\"day\"\n",
      "2017-11-20 12:02:05,357 : INFO : topic diff=0.268395, rho=0.408248\n",
      "2017-11-20 12:02:05,476 : DEBUG : Setting topics to those of the model: LdaModel(num_terms=4431, num_topics=17, decay=0.5, chunksize=300)\n",
      "2017-11-20 12:02:05,478 : INFO : using ParallelWordOccurrenceAccumulator(processes=3, batch_size=64) to estimate probabilities from sliding windows\n",
      "2017-11-20 12:02:05,567 : DEBUG : completed batch 0; 64 documents processed (92 virtual)\n",
      "2017-11-20 12:02:05,578 : DEBUG : completed batch 0; 64 documents processed (258 virtual)\n",
      "2017-11-20 12:02:05,672 : DEBUG : completed batch 1; 128 documents processed (332 virtual)\n",
      "2017-11-20 12:02:05,651 : DEBUG : completed batch 0; 64 documents processed (305 virtual)\n",
      "2017-11-20 12:02:05,678 : DEBUG : observed sentinel value; terminating\n",
      "2017-11-20 12:02:05,679 : DEBUG : observed sentinel value; terminating\n",
      "2017-11-20 12:02:05,682 : DEBUG : finished all batches; 64 documents processed (305 virtual)\n",
      "2017-11-20 12:02:05,683 : DEBUG : finished all batches; 128 documents processed (332 virtual)\n",
      "2017-11-20 12:02:05,685 : INFO : serializing accumulator to return to master...\n",
      "2017-11-20 12:02:05,684 : INFO : serializing accumulator to return to master...\n",
      "2017-11-20 12:02:05,693 : INFO : accumulator serialized\n",
      "2017-11-20 12:02:05,700 : DEBUG : completed batch 1; 108 documents processed (485 virtual)\n",
      "2017-11-20 12:02:05,701 : DEBUG : observed sentinel value; terminating\n",
      "2017-11-20 12:02:05,709 : DEBUG : finished all batches; 108 documents processed (485 virtual)\n",
      "2017-11-20 12:02:05,704 : INFO : accumulator serialized\n",
      "2017-11-20 12:02:05,710 : INFO : serializing accumulator to return to master...\n",
      "2017-11-20 12:02:05,713 : INFO : accumulator serialized\n",
      "2017-11-20 12:02:05,750 : INFO : 3 accumulators retrieved from output queue\n",
      "2017-11-20 12:02:05,784 : INFO : accumulated word occurrence stats for 1122 virtual documents\n",
      "2017-11-20 12:02:06,471 : INFO : using autotuned alpha, starting with [0.055555555555555552, 0.055555555555555552, 0.055555555555555552, 0.055555555555555552, 0.055555555555555552, 0.055555555555555552, 0.055555555555555552, 0.055555555555555552, 0.055555555555555552, 0.055555555555555552, 0.055555555555555552, 0.055555555555555552, 0.055555555555555552, 0.055555555555555552, 0.055555555555555552, 0.055555555555555552, 0.055555555555555552, 0.055555555555555552]\n",
      "2017-11-20 12:02:06,472 : INFO : using serial LDA version on this node\n",
      "2017-11-20 12:02:07,369 : INFO : running online (multi-pass) LDA training, 18 topics, 5 passes over the supplied corpus of 300 documents, updating model once every 300 documents, evaluating perplexity every 300 documents, iterating 200x with a convergence threshold of 0.001000\n",
      "2017-11-20 12:02:07,370 : WARNING : too few updates, training might not converge; consider increasing the number of passes or iterations to improve accuracy\n",
      "2017-11-20 12:02:08,478 : DEBUG : bound: at document #0\n",
      "2017-11-20 12:02:10,239 : INFO : -15.625 per-word bound, 50552.1 perplexity estimate based on a held-out corpus of 300 documents with 18861 words\n",
      "2017-11-20 12:02:10,240 : INFO : PROGRESS: pass 0, at document #300/300\n",
      "2017-11-20 12:02:10,240 : DEBUG : performing inference on a chunk of 300 documents\n",
      "2017-11-20 12:02:11,520 : DEBUG : 242/300 documents converged within 200 iterations\n"
     ]
    },
    {
     "name": "stderr",
     "output_type": "stream",
     "text": [
      "2017-11-20 12:02:11,523 : INFO : optimized alpha [0.044817563930202274, 0.04476552534830322, 0.042474676228955156, 0.046088041918349226, 0.047899874269513115, 0.046294051007031087, 0.044080337085328353, 0.04442090175673543, 0.046080400606923325, 0.046373741727249139, 0.044281810101199331, 0.043421868450405764, 0.047747453505981884, 0.043180807728204221, 0.043618269063596782, 0.042672039273149262, 0.047691638110053357, 0.045602817834872571]\n",
      "2017-11-20 12:02:11,524 : DEBUG : updating topics\n",
      "2017-11-20 12:02:11,745 : INFO : topic #2 (0.042): 0.017*\"taliban\" + 0.015*\"test\" + 0.011*\"man\" + 0.006*\"israeli\" + 0.006*\"attack\" + 0.006*\"day\" + 0.006*\"return\" + 0.006*\"melbourne\" + 0.006*\"peace\" + 0.006*\"south_africa\"\n",
      "2017-11-20 12:02:11,746 : INFO : topic #15 (0.043): 0.016*\"firefighters\" + 0.013*\"sydney\" + 0.010*\"fire\" + 0.008*\"government\" + 0.007*\"road\" + 0.007*\"highway\" + 0.007*\"line\" + 0.006*\"areas\" + 0.006*\"today\" + 0.006*\"people\"\n",
      "2017-11-20 12:02:11,748 : INFO : topic #16 (0.048): 0.007*\"year\" + 0.007*\"sydney\" + 0.007*\"people\" + 0.007*\"wales\" + 0.007*\"new_south\" + 0.006*\"australia\" + 0.006*\"fire\" + 0.006*\"team\" + 0.006*\"state\" + 0.005*\"areas\"\n",
      "2017-11-20 12:02:11,751 : INFO : topic #12 (0.048): 0.009*\"pakistan\" + 0.009*\"afghanistan\" + 0.008*\"qantas\" + 0.008*\"people\" + 0.008*\"afghan\" + 0.007*\"australia\" + 0.006*\"united_states\" + 0.006*\"company\" + 0.005*\"india\" + 0.005*\"police\"\n",
      "2017-11-20 12:02:11,754 : INFO : topic #4 (0.048): 0.012*\"government\" + 0.007*\"test\" + 0.006*\"arafat\" + 0.006*\"united_states\" + 0.006*\"afghanistan\" + 0.006*\"police\" + 0.006*\"officials\" + 0.006*\"president\" + 0.006*\"people\" + 0.005*\"time\"\n",
      "2017-11-20 12:02:11,756 : INFO : topic diff=14.032980, rho=1.000000\n",
      "2017-11-20 12:02:11,974 : DEBUG : bound: at document #0\n",
      "2017-11-20 12:02:12,699 : INFO : -8.177 per-word bound, 289.3 perplexity estimate based on a held-out corpus of 300 documents with 18861 words\n",
      "2017-11-20 12:02:12,700 : INFO : PROGRESS: pass 1, at document #300/300\n",
      "2017-11-20 12:02:12,700 : DEBUG : performing inference on a chunk of 300 documents\n",
      "2017-11-20 12:02:12,963 : DEBUG : 300/300 documents converged within 200 iterations\n",
      "2017-11-20 12:02:12,967 : INFO : optimized alpha [0.041390150811289723, 0.040331216053050942, 0.037878919661849558, 0.042187202448200047, 0.04393077449727871, 0.043080874075858165, 0.039898294078648006, 0.040169035293745131, 0.041862415431750101, 0.042229430568172577, 0.039866388435857408, 0.03900207131523456, 0.044700038776098593, 0.038908285520650294, 0.039530629945999582, 0.038033158352138871, 0.043479514370578093, 0.041483606274911461]\n",
      "2017-11-20 12:02:12,967 : DEBUG : updating topics\n",
      "2017-11-20 12:02:13,196 : INFO : topic #2 (0.038): 0.016*\"taliban\" + 0.014*\"test\" + 0.010*\"man\" + 0.006*\"israeli\" + 0.006*\"day\" + 0.006*\"melbourne\" + 0.006*\"attack\" + 0.006*\"peace\" + 0.006*\"south_africa\" + 0.006*\"kandahar\"\n",
      "2017-11-20 12:02:13,197 : INFO : topic #15 (0.038): 0.017*\"firefighters\" + 0.014*\"sydney\" + 0.010*\"fire\" + 0.008*\"highway\" + 0.008*\"government\" + 0.007*\"areas\" + 0.007*\"road\" + 0.007*\"line\" + 0.007*\"today\" + 0.007*\"area\"\n",
      "2017-11-20 12:02:13,198 : INFO : topic #16 (0.043): 0.007*\"sydney\" + 0.007*\"wales\" + 0.007*\"new_south\" + 0.007*\"year\" + 0.007*\"team\" + 0.007*\"australia\" + 0.006*\"people\" + 0.006*\"state\" + 0.006*\"fire\" + 0.006*\"areas\"\n",
      "2017-11-20 12:02:13,200 : INFO : topic #4 (0.044): 0.013*\"government\" + 0.007*\"united_states\" + 0.007*\"police\" + 0.007*\"afghanistan\" + 0.006*\"people\" + 0.006*\"president\" + 0.006*\"test\" + 0.006*\"time\" + 0.005*\"officials\" + 0.005*\"hicks\"\n",
      "2017-11-20 12:02:13,201 : INFO : topic #12 (0.045): 0.010*\"pakistan\" + 0.009*\"afghanistan\" + 0.009*\"qantas\" + 0.008*\"people\" + 0.008*\"afghan\" + 0.007*\"company\" + 0.006*\"australia\" + 0.006*\"united_states\" + 0.006*\"india\" + 0.005*\"police\"\n",
      "2017-11-20 12:02:13,203 : INFO : topic diff=1.027396, rho=0.577350\n",
      "2017-11-20 12:02:13,429 : DEBUG : bound: at document #0\n",
      "2017-11-20 12:02:14,134 : INFO : -8.004 per-word bound, 256.7 perplexity estimate based on a held-out corpus of 300 documents with 18861 words\n",
      "2017-11-20 12:02:14,135 : INFO : PROGRESS: pass 2, at document #300/300\n",
      "2017-11-20 12:02:14,135 : DEBUG : performing inference on a chunk of 300 documents\n",
      "2017-11-20 12:02:14,378 : DEBUG : 300/300 documents converged within 200 iterations\n",
      "2017-11-20 12:02:14,382 : INFO : optimized alpha [0.038858996601560281, 0.037264989366131936, 0.034655698965883316, 0.039355867908827162, 0.040712858654514336, 0.040756994716486201, 0.036835057399554019, 0.037126541301646263, 0.038831640847340629, 0.039241520405561107, 0.036805248219999205, 0.035799735561806129, 0.042471922394956639, 0.035868993999861452, 0.036964297191931353, 0.034853382670238457, 0.040445389118963303, 0.038515590020939655]\n",
      "2017-11-20 12:02:14,386 : DEBUG : updating topics\n",
      "2017-11-20 12:02:14,648 : INFO : topic #2 (0.035): 0.016*\"taliban\" + 0.014*\"test\" + 0.010*\"man\" + 0.006*\"israeli\" + 0.006*\"day\" + 0.006*\"melbourne\" + 0.006*\"attack\" + 0.006*\"peace\" + 0.006*\"south_africa\" + 0.006*\"kandahar\"\n",
      "2017-11-20 12:02:14,650 : INFO : topic #15 (0.035): 0.018*\"firefighters\" + 0.014*\"sydney\" + 0.011*\"fire\" + 0.008*\"highway\" + 0.008*\"areas\" + 0.007*\"area\" + 0.007*\"government\" + 0.007*\"today\" + 0.007*\"road\" + 0.007*\"fires\"\n",
      "2017-11-20 12:02:14,650 : INFO : topic #4 (0.041): 0.014*\"government\" + 0.007*\"united_states\" + 0.007*\"police\" + 0.007*\"people\" + 0.007*\"afghanistan\" + 0.006*\"president\" + 0.006*\"time\" + 0.005*\"hicks\" + 0.005*\"east_timor\" + 0.005*\"australian\"\n",
      "2017-11-20 12:02:14,651 : INFO : topic #5 (0.041): 0.023*\"afghanistan\" + 0.009*\"forces\" + 0.008*\"tora_bora\" + 0.008*\"qaeda\" + 0.008*\"force\" + 0.008*\"laden\" + 0.008*\"afghan\" + 0.007*\"government\" + 0.007*\"taliban\" + 0.006*\"days\"\n",
      "2017-11-20 12:02:14,652 : INFO : topic #12 (0.042): 0.011*\"pakistan\" + 0.009*\"qantas\" + 0.009*\"afghanistan\" + 0.008*\"people\" + 0.008*\"afghan\" + 0.007*\"company\" + 0.006*\"australia\" + 0.006*\"india\" + 0.006*\"united_states\" + 0.005*\"months\"\n",
      "2017-11-20 12:02:14,652 : INFO : topic diff=0.508358, rho=0.500000\n",
      "2017-11-20 12:02:14,885 : DEBUG : bound: at document #0\n",
      "2017-11-20 12:02:15,597 : INFO : -7.900 per-word bound, 238.8 perplexity estimate based on a held-out corpus of 300 documents with 18861 words\n",
      "2017-11-20 12:02:15,598 : INFO : PROGRESS: pass 3, at document #300/300\n",
      "2017-11-20 12:02:15,601 : DEBUG : performing inference on a chunk of 300 documents\n",
      "2017-11-20 12:02:15,832 : DEBUG : 300/300 documents converged within 200 iterations\n",
      "2017-11-20 12:02:15,835 : INFO : optimized alpha [0.036863416630752807, 0.034913995329698549, 0.03220902596742331, 0.037217205200346902, 0.038240427071102638, 0.038971238022353048, 0.034485107171495492, 0.034783943208519505, 0.036493535012566032, 0.036930140042754245, 0.034457291898741318, 0.033360014778317543, 0.040750463498399642, 0.033652168531864493, 0.034965295816726007, 0.032437082707435602, 0.038098054158933171, 0.036160454791071162]\n",
      "2017-11-20 12:02:15,836 : DEBUG : updating topics\n",
      "2017-11-20 12:02:16,069 : INFO : topic #2 (0.032): 0.015*\"taliban\" + 0.014*\"test\" + 0.010*\"man\" + 0.006*\"day\" + 0.006*\"israeli\" + 0.006*\"melbourne\" + 0.006*\"attack\" + 0.006*\"peace\" + 0.006*\"south_africa\" + 0.006*\"kandahar\"\n",
      "2017-11-20 12:02:16,070 : INFO : topic #15 (0.032): 0.018*\"firefighters\" + 0.015*\"sydney\" + 0.011*\"fire\" + 0.009*\"areas\" + 0.009*\"highway\" + 0.009*\"fires\" + 0.008*\"area\" + 0.008*\"today\" + 0.008*\"wales\" + 0.008*\"new_south\"\n",
      "2017-11-20 12:02:16,072 : INFO : topic #4 (0.038): 0.015*\"government\" + 0.007*\"united_states\" + 0.007*\"police\" + 0.007*\"people\" + 0.007*\"afghanistan\" + 0.007*\"president\" + 0.006*\"time\" + 0.005*\"hicks\" + 0.005*\"east_timor\" + 0.005*\"australian\"\n",
      "2017-11-20 12:02:16,072 : INFO : topic #5 (0.039): 0.024*\"afghanistan\" + 0.009*\"forces\" + 0.009*\"tora_bora\" + 0.008*\"qaeda\" + 0.008*\"afghan\" + 0.008*\"laden\" + 0.008*\"force\" + 0.008*\"government\" + 0.007*\"taliban\" + 0.006*\"troops\"\n",
      "2017-11-20 12:02:16,073 : INFO : topic #12 (0.041): 0.011*\"pakistan\" + 0.010*\"qantas\" + 0.009*\"afghanistan\" + 0.008*\"afghan\" + 0.008*\"people\" + 0.008*\"company\" + 0.006*\"india\" + 0.006*\"australia\" + 0.006*\"workers\" + 0.006*\"united_states\"\n",
      "2017-11-20 12:02:16,074 : INFO : topic diff=0.371637, rho=0.447214\n",
      "2017-11-20 12:02:16,307 : DEBUG : bound: at document #0\n"
     ]
    },
    {
     "name": "stderr",
     "output_type": "stream",
     "text": [
      "2017-11-20 12:02:16,987 : INFO : -7.830 per-word bound, 227.6 perplexity estimate based on a held-out corpus of 300 documents with 18861 words\n",
      "2017-11-20 12:02:16,988 : INFO : PROGRESS: pass 4, at document #300/300\n",
      "2017-11-20 12:02:16,989 : DEBUG : performing inference on a chunk of 300 documents\n",
      "2017-11-20 12:02:17,222 : DEBUG : 300/300 documents converged within 200 iterations\n",
      "2017-11-20 12:02:17,228 : INFO : optimized alpha [0.035173466984684904, 0.033024172397857883, 0.030258184770561039, 0.035475704988078574, 0.036250818509465065, 0.03748861546356469, 0.032596206365552903, 0.032897619656475703, 0.034657791675015238, 0.035060989581502118, 0.032570151284902517, 0.03140959937217281, 0.039310241896771458, 0.031863744836490342, 0.03354296870822053, 0.030601246323104257, 0.036199479524185493, 0.034211524975612868]\n",
      "2017-11-20 12:02:17,229 : DEBUG : updating topics\n",
      "2017-11-20 12:02:17,461 : INFO : topic #2 (0.030): 0.015*\"taliban\" + 0.014*\"test\" + 0.010*\"man\" + 0.006*\"day\" + 0.006*\"melbourne\" + 0.006*\"attack\" + 0.006*\"peace\" + 0.006*\"south_africa\" + 0.006*\"cricket\" + 0.006*\"kandahar\"\n",
      "2017-11-20 12:02:17,462 : INFO : topic #15 (0.031): 0.019*\"firefighters\" + 0.016*\"sydney\" + 0.012*\"fire\" + 0.010*\"fires\" + 0.009*\"areas\" + 0.009*\"highway\" + 0.008*\"new_south\" + 0.008*\"wales\" + 0.008*\"area\" + 0.008*\"today\"\n",
      "2017-11-20 12:02:17,463 : INFO : topic #4 (0.036): 0.015*\"government\" + 0.008*\"united_states\" + 0.007*\"police\" + 0.007*\"afghanistan\" + 0.007*\"people\" + 0.007*\"president\" + 0.006*\"time\" + 0.005*\"hicks\" + 0.005*\"east_timor\" + 0.005*\"australian\"\n",
      "2017-11-20 12:02:17,465 : INFO : topic #5 (0.037): 0.025*\"afghanistan\" + 0.010*\"forces\" + 0.009*\"afghan\" + 0.009*\"tora_bora\" + 0.009*\"laden\" + 0.009*\"qaeda\" + 0.008*\"force\" + 0.008*\"government\" + 0.007*\"taliban\" + 0.006*\"troops\"\n",
      "2017-11-20 12:02:17,466 : INFO : topic #12 (0.039): 0.011*\"pakistan\" + 0.010*\"qantas\" + 0.009*\"afghanistan\" + 0.008*\"company\" + 0.008*\"afghan\" + 0.008*\"people\" + 0.006*\"india\" + 0.006*\"australia\" + 0.006*\"workers\" + 0.006*\"action\"\n",
      "2017-11-20 12:02:17,468 : INFO : topic diff=0.284579, rho=0.408248\n",
      "2017-11-20 12:02:17,586 : DEBUG : Setting topics to those of the model: LdaModel(num_terms=4431, num_topics=18, decay=0.5, chunksize=300)\n",
      "2017-11-20 12:02:17,588 : INFO : using ParallelWordOccurrenceAccumulator(processes=3, batch_size=64) to estimate probabilities from sliding windows\n",
      "2017-11-20 12:02:17,683 : DEBUG : completed batch 0; 64 documents processed (92 virtual)\n",
      "2017-11-20 12:02:17,755 : DEBUG : completed batch 0; 64 documents processed (258 virtual)\n",
      "2017-11-20 12:02:17,786 : DEBUG : completed batch 1; 128 documents processed (332 virtual)\n",
      "2017-11-20 12:02:17,802 : DEBUG : observed sentinel value; terminating\n",
      "2017-11-20 12:02:17,805 : DEBUG : finished all batches; 128 documents processed (332 virtual)\n",
      "2017-11-20 12:02:17,808 : INFO : serializing accumulator to return to master...\n",
      "2017-11-20 12:02:17,812 : INFO : accumulator serialized\n",
      "2017-11-20 12:02:17,840 : DEBUG : completed batch 1; 108 documents processed (485 virtual)\n",
      "2017-11-20 12:02:17,799 : DEBUG : completed batch 0; 64 documents processed (305 virtual)\n",
      "2017-11-20 12:02:17,845 : DEBUG : observed sentinel value; terminating\n",
      "2017-11-20 12:02:17,844 : DEBUG : observed sentinel value; terminating\n",
      "2017-11-20 12:02:17,853 : DEBUG : finished all batches; 64 documents processed (305 virtual)\n",
      "2017-11-20 12:02:17,855 : DEBUG : finished all batches; 108 documents processed (485 virtual)\n",
      "2017-11-20 12:02:17,862 : INFO : serializing accumulator to return to master...\n",
      "2017-11-20 12:02:17,857 : INFO : serializing accumulator to return to master...\n",
      "2017-11-20 12:02:17,869 : INFO : accumulator serialized\n",
      "2017-11-20 12:02:17,868 : INFO : accumulator serialized\n",
      "2017-11-20 12:02:17,930 : INFO : 3 accumulators retrieved from output queue\n",
      "2017-11-20 12:02:17,958 : INFO : accumulated word occurrence stats for 1122 virtual documents\n",
      "2017-11-20 12:02:18,689 : INFO : using autotuned alpha, starting with [0.052631578947368418, 0.052631578947368418, 0.052631578947368418, 0.052631578947368418, 0.052631578947368418, 0.052631578947368418, 0.052631578947368418, 0.052631578947368418, 0.052631578947368418, 0.052631578947368418, 0.052631578947368418, 0.052631578947368418, 0.052631578947368418, 0.052631578947368418, 0.052631578947368418, 0.052631578947368418, 0.052631578947368418, 0.052631578947368418, 0.052631578947368418]\n",
      "2017-11-20 12:02:18,691 : INFO : using serial LDA version on this node\n",
      "2017-11-20 12:02:19,646 : INFO : running online (multi-pass) LDA training, 19 topics, 5 passes over the supplied corpus of 300 documents, updating model once every 300 documents, evaluating perplexity every 300 documents, iterating 200x with a convergence threshold of 0.001000\n",
      "2017-11-20 12:02:19,646 : WARNING : too few updates, training might not converge; consider increasing the number of passes or iterations to improve accuracy\n",
      "2017-11-20 12:02:20,809 : DEBUG : bound: at document #0\n",
      "2017-11-20 12:02:22,569 : INFO : -16.195 per-word bound, 74996.5 perplexity estimate based on a held-out corpus of 300 documents with 18861 words\n",
      "2017-11-20 12:02:22,570 : INFO : PROGRESS: pass 0, at document #300/300\n",
      "2017-11-20 12:02:22,571 : DEBUG : performing inference on a chunk of 300 documents\n",
      "2017-11-20 12:02:23,866 : DEBUG : 236/300 documents converged within 200 iterations\n",
      "2017-11-20 12:02:23,870 : INFO : optimized alpha [0.044844264062162818, 0.045955847375886101, 0.044435971719718484, 0.042940305895771677, 0.045687288997015997, 0.042548950895198397, 0.042089710177543121, 0.040611471018020068, 0.043142193567629258, 0.041658412206676411, 0.044466982395525406, 0.043793468230920479, 0.042539122118429792, 0.043365197130261726, 0.043831497277269246, 0.042713786621815228, 0.04190531773274063, 0.044408011753712257, 0.042716861042256929]\n",
      "2017-11-20 12:02:23,870 : DEBUG : updating topics\n",
      "2017-11-20 12:02:24,080 : INFO : topic #7 (0.041): 0.006*\"centrelink\" + 0.006*\"harrison\" + 0.005*\"support\" + 0.005*\"australia\" + 0.005*\"people\" + 0.005*\"government\" + 0.005*\"band\" + 0.005*\"today\" + 0.005*\"security\" + 0.005*\"labor\"\n",
      "2017-11-20 12:02:24,081 : INFO : topic #9 (0.042): 0.011*\"cancer\" + 0.010*\"taliban\" + 0.010*\"government\" + 0.008*\"people\" + 0.008*\"qantas\" + 0.006*\"ses\" + 0.006*\"agreement\" + 0.006*\"lung\" + 0.006*\"health\" + 0.005*\"new_south\"\n",
      "2017-11-20 12:02:24,083 : INFO : topic #0 (0.045): 0.011*\"police\" + 0.010*\"government\" + 0.009*\"people\" + 0.008*\"year\" + 0.005*\"suharto\" + 0.004*\"arafat\" + 0.004*\"militants\" + 0.004*\"pakistan\" + 0.004*\"staff\" + 0.004*\"products\"\n",
      "2017-11-20 12:02:24,084 : INFO : topic #4 (0.046): 0.016*\"australia\" + 0.012*\"government\" + 0.011*\"arafat\" + 0.009*\"security\" + 0.007*\"test\" + 0.007*\"people\" + 0.006*\"team\" + 0.006*\"labor\" + 0.006*\"south_africa\" + 0.006*\"day\"\n",
      "2017-11-20 12:02:24,086 : INFO : topic #1 (0.046): 0.007*\"australia\" + 0.007*\"station\" + 0.006*\"arafat\" + 0.006*\"space\" + 0.005*\"new_zealand\" + 0.005*\"israel\" + 0.005*\"hamas\" + 0.005*\"day\" + 0.005*\"israeli\" + 0.004*\"river\"\n",
      "2017-11-20 12:02:24,087 : INFO : topic diff=14.879001, rho=1.000000\n",
      "2017-11-20 12:02:24,298 : DEBUG : bound: at document #0\n",
      "2017-11-20 12:02:25,015 : INFO : -8.200 per-word bound, 294.1 perplexity estimate based on a held-out corpus of 300 documents with 18861 words\n",
      "2017-11-20 12:02:25,016 : INFO : PROGRESS: pass 1, at document #300/300\n",
      "2017-11-20 12:02:25,016 : DEBUG : performing inference on a chunk of 300 documents\n",
      "2017-11-20 12:02:25,285 : DEBUG : 300/300 documents converged within 200 iterations\n",
      "2017-11-20 12:02:25,289 : INFO : optimized alpha [0.041047489512694317, 0.042375539424431216, 0.04082582448022367, 0.038859470413523077, 0.042228100311167721, 0.038744025733016052, 0.03817832387720424, 0.03629954182227732, 0.039395616312889625, 0.037478508467423365, 0.04076703608963908, 0.03972664876834154, 0.038458964695948922, 0.039577598245915488, 0.040740670234896505, 0.038583579116674142, 0.037866070538141949, 0.041106114465660697, 0.038686623719063312]\n",
      "2017-11-20 12:02:25,289 : DEBUG : updating topics\n",
      "2017-11-20 12:02:25,506 : INFO : topic #7 (0.036): 0.007*\"harrison\" + 0.007*\"labor\" + 0.006*\"krishna\" + 0.006*\"government\" + 0.006*\"security\" + 0.006*\"centrelink\" + 0.005*\"support\" + 0.005*\"people\" + 0.005*\"asio\" + 0.005*\"police\"\n"
     ]
    },
    {
     "name": "stderr",
     "output_type": "stream",
     "text": [
      "2017-11-20 12:02:25,507 : INFO : topic #9 (0.037): 0.011*\"cancer\" + 0.010*\"taliban\" + 0.010*\"government\" + 0.008*\"people\" + 0.007*\"qantas\" + 0.006*\"agreement\" + 0.006*\"ses\" + 0.006*\"lung\" + 0.006*\"health\" + 0.005*\"data\"\n",
      "2017-11-20 12:02:25,509 : INFO : topic #0 (0.041): 0.011*\"police\" + 0.010*\"government\" + 0.009*\"people\" + 0.008*\"year\" + 0.006*\"suharto\" + 0.004*\"group\" + 0.004*\"products\" + 0.004*\"islands\" + 0.004*\"children\" + 0.004*\"staff\"\n",
      "2017-11-20 12:02:25,510 : INFO : topic #4 (0.042): 0.016*\"australia\" + 0.013*\"arafat\" + 0.013*\"government\" + 0.010*\"security\" + 0.007*\"test\" + 0.006*\"team\" + 0.006*\"people\" + 0.006*\"south_africa\" + 0.006*\"day\" + 0.006*\"west_bank\"\n",
      "2017-11-20 12:02:25,512 : INFO : topic #1 (0.042): 0.007*\"station\" + 0.007*\"arafat\" + 0.007*\"australia\" + 0.007*\"space\" + 0.005*\"israel\" + 0.005*\"new_zealand\" + 0.005*\"hamas\" + 0.005*\"israeli\" + 0.005*\"river\" + 0.004*\"day\"\n",
      "2017-11-20 12:02:25,515 : INFO : topic diff=1.078993, rho=0.577350\n",
      "2017-11-20 12:02:25,731 : DEBUG : bound: at document #0\n",
      "2017-11-20 12:02:26,403 : INFO : -8.012 per-word bound, 258.2 perplexity estimate based on a held-out corpus of 300 documents with 18861 words\n",
      "2017-11-20 12:02:26,404 : INFO : PROGRESS: pass 2, at document #300/300\n",
      "2017-11-20 12:02:26,405 : DEBUG : performing inference on a chunk of 300 documents\n",
      "2017-11-20 12:02:26,636 : DEBUG : 300/300 documents converged within 200 iterations\n",
      "2017-11-20 12:02:26,640 : INFO : optimized alpha [0.038354981805045991, 0.039736636729874243, 0.038253552574815296, 0.035941910796913105, 0.039673565541159909, 0.035993219226743381, 0.035369621557563388, 0.033255373289868648, 0.03667674967260031, 0.034504917296222112, 0.038069882653057004, 0.036805901264438945, 0.03553688932962619, 0.036968739655299385, 0.038511815001369111, 0.035559641438915129, 0.035181519450695274, 0.038807782437161473, 0.035939854560955456]\n",
      "2017-11-20 12:02:26,640 : DEBUG : updating topics\n",
      "2017-11-20 12:02:26,879 : INFO : topic #7 (0.033): 0.007*\"krishna\" + 0.007*\"harrison\" + 0.007*\"labor\" + 0.006*\"government\" + 0.006*\"security\" + 0.005*\"hare\" + 0.005*\"ashes\" + 0.005*\"benares\" + 0.005*\"centrelink\" + 0.005*\"support\"\n",
      "2017-11-20 12:02:26,880 : INFO : topic #9 (0.035): 0.011*\"cancer\" + 0.010*\"taliban\" + 0.010*\"government\" + 0.008*\"people\" + 0.007*\"qantas\" + 0.006*\"agreement\" + 0.006*\"ses\" + 0.006*\"lung\" + 0.006*\"health\" + 0.006*\"data\"\n",
      "2017-11-20 12:02:26,882 : INFO : topic #17 (0.039): 0.014*\"commission\" + 0.011*\"people\" + 0.010*\"report\" + 0.008*\"cent\" + 0.008*\"hih\" + 0.007*\"year\" + 0.006*\"hollingworth\" + 0.006*\"sex\" + 0.006*\"government\" + 0.006*\"union\"\n",
      "2017-11-20 12:02:26,883 : INFO : topic #4 (0.040): 0.015*\"arafat\" + 0.015*\"australia\" + 0.013*\"government\" + 0.010*\"security\" + 0.007*\"west_bank\" + 0.006*\"gaza_strip\" + 0.006*\"test\" + 0.006*\"team\" + 0.006*\"people\" + 0.006*\"day\"\n",
      "2017-11-20 12:02:26,885 : INFO : topic #1 (0.040): 0.008*\"station\" + 0.008*\"arafat\" + 0.007*\"space\" + 0.007*\"australia\" + 0.005*\"israel\" + 0.005*\"new_zealand\" + 0.005*\"hamas\" + 0.005*\"israeli\" + 0.005*\"river\" + 0.005*\"blake\"\n",
      "2017-11-20 12:02:26,887 : INFO : topic diff=0.534287, rho=0.500000\n",
      "2017-11-20 12:02:27,123 : DEBUG : bound: at document #0\n",
      "2017-11-20 12:02:27,796 : INFO : -7.899 per-word bound, 238.7 perplexity estimate based on a held-out corpus of 300 documents with 18861 words\n",
      "2017-11-20 12:02:27,797 : INFO : PROGRESS: pass 3, at document #300/300\n",
      "2017-11-20 12:02:27,797 : DEBUG : performing inference on a chunk of 300 documents\n",
      "2017-11-20 12:02:28,029 : DEBUG : 300/300 documents converged within 200 iterations\n",
      "2017-11-20 12:02:28,032 : INFO : optimized alpha [0.03612668116611846, 0.037660634039252974, 0.036295407979240947, 0.033695209133989303, 0.037729391228275531, 0.033859576629443965, 0.033255704833246455, 0.030933080702850922, 0.034734040399244444, 0.032225280201217288, 0.035966018592567046, 0.034551482125721469, 0.033285680754554299, 0.034873017026198334, 0.036737289954460489, 0.033240747423760375, 0.033043221414929096, 0.037045444243357935, 0.033868216274619382]\n",
      "2017-11-20 12:02:28,033 : DEBUG : updating topics\n",
      "2017-11-20 12:02:28,271 : INFO : topic #7 (0.031): 0.008*\"krishna\" + 0.007*\"labor\" + 0.007*\"harrison\" + 0.006*\"government\" + 0.006*\"security\" + 0.006*\"hare\" + 0.006*\"ashes\" + 0.006*\"benares\" + 0.005*\"people\" + 0.005*\"support\"\n",
      "2017-11-20 12:02:28,271 : INFO : topic #9 (0.032): 0.011*\"cancer\" + 0.010*\"government\" + 0.010*\"taliban\" + 0.008*\"people\" + 0.007*\"qantas\" + 0.006*\"agreement\" + 0.006*\"health\" + 0.006*\"ses\" + 0.006*\"lung\" + 0.006*\"data\"\n",
      "2017-11-20 12:02:28,273 : INFO : topic #17 (0.037): 0.015*\"commission\" + 0.010*\"report\" + 0.010*\"people\" + 0.008*\"hih\" + 0.008*\"cent\" + 0.007*\"year\" + 0.006*\"hollingworth\" + 0.006*\"union\" + 0.006*\"sex\" + 0.006*\"government\"\n",
      "2017-11-20 12:02:28,275 : INFO : topic #1 (0.038): 0.008*\"station\" + 0.008*\"arafat\" + 0.008*\"space\" + 0.006*\"australia\" + 0.006*\"israel\" + 0.005*\"new_zealand\" + 0.005*\"israeli\" + 0.005*\"hamas\" + 0.005*\"river\" + 0.005*\"blake\"\n",
      "2017-11-20 12:02:28,276 : INFO : topic #4 (0.038): 0.017*\"arafat\" + 0.014*\"australia\" + 0.013*\"government\" + 0.011*\"security\" + 0.007*\"west_bank\" + 0.007*\"gaza_strip\" + 0.006*\"people\" + 0.006*\"team\" + 0.006*\"sharon\" + 0.006*\"day\"\n",
      "2017-11-20 12:02:28,278 : INFO : topic diff=0.388417, rho=0.447214\n",
      "2017-11-20 12:02:28,513 : DEBUG : bound: at document #0\n",
      "2017-11-20 12:02:29,181 : INFO : -7.824 per-word bound, 226.6 perplexity estimate based on a held-out corpus of 300 documents with 18861 words\n",
      "2017-11-20 12:02:29,182 : INFO : PROGRESS: pass 4, at document #300/300\n",
      "2017-11-20 12:02:29,183 : DEBUG : performing inference on a chunk of 300 documents\n",
      "2017-11-20 12:02:29,406 : DEBUG : 300/300 documents converged within 200 iterations\n",
      "2017-11-20 12:02:29,412 : INFO : optimized alpha [0.034321737535893779, 0.035959584513712353, 0.034637650845426804, 0.031883498298517686, 0.036131809499623739, 0.032129874358472463, 0.031543970834757462, 0.029074156537604513, 0.03319209283781991, 0.030393972120394394, 0.034251935273569505, 0.03278101784813689, 0.031423130271251501, 0.033218976026029766, 0.035267403660396636, 0.031330328397991526, 0.03131274013783026, 0.035638956659305179, 0.032233363205925632]\n",
      "2017-11-20 12:02:29,412 : DEBUG : updating topics\n",
      "2017-11-20 12:02:29,652 : INFO : topic #7 (0.029): 0.008*\"krishna\" + 0.007*\"labor\" + 0.007*\"harrison\" + 0.006*\"government\" + 0.006*\"security\" + 0.006*\"hare\" + 0.006*\"ashes\" + 0.006*\"benares\" + 0.005*\"people\" + 0.005*\"afghanistan\"\n",
      "2017-11-20 12:02:29,653 : INFO : topic #9 (0.030): 0.011*\"cancer\" + 0.010*\"government\" + 0.010*\"taliban\" + 0.008*\"people\" + 0.006*\"agreement\" + 0.006*\"qantas\" + 0.006*\"health\" + 0.006*\"ses\" + 0.006*\"lung\" + 0.006*\"data\"\n",
      "2017-11-20 12:02:29,655 : INFO : topic #17 (0.036): 0.016*\"commission\" + 0.011*\"report\" + 0.010*\"people\" + 0.009*\"hih\" + 0.008*\"cent\" + 0.007*\"year\" + 0.007*\"union\" + 0.006*\"hollingworth\" + 0.006*\"royal\" + 0.006*\"government\"\n",
      "2017-11-20 12:02:29,657 : INFO : topic #1 (0.036): 0.008*\"station\" + 0.008*\"space\" + 0.008*\"arafat\" + 0.006*\"australia\" + 0.006*\"israel\" + 0.005*\"new_zealand\" + 0.005*\"israeli\" + 0.005*\"river\" + 0.005*\"blake\" + 0.005*\"hamas\"\n",
      "2017-11-20 12:02:29,659 : INFO : topic #4 (0.036): 0.019*\"arafat\" + 0.013*\"australia\" + 0.013*\"government\" + 0.011*\"security\" + 0.008*\"west_bank\" + 0.007*\"sharon\" + 0.007*\"gaza_strip\" + 0.006*\"people\" + 0.006*\"team\" + 0.006*\"israeli\"\n",
      "2017-11-20 12:02:29,660 : INFO : topic diff=0.294550, rho=0.408248\n",
      "2017-11-20 12:02:29,784 : DEBUG : Setting topics to those of the model: LdaModel(num_terms=4431, num_topics=19, decay=0.5, chunksize=300)\n",
      "2017-11-20 12:02:29,786 : INFO : using ParallelWordOccurrenceAccumulator(processes=3, batch_size=64) to estimate probabilities from sliding windows\n",
      "2017-11-20 12:02:29,868 : DEBUG : completed batch 0; 64 documents processed (92 virtual)\n",
      "2017-11-20 12:02:29,924 : DEBUG : completed batch 0; 64 documents processed (258 virtual)\n",
      "2017-11-20 12:02:29,937 : DEBUG : completed batch 0; 64 documents processed (305 virtual)\n",
      "2017-11-20 12:02:29,955 : DEBUG : observed sentinel value; terminating\n",
      "2017-11-20 12:02:29,957 : DEBUG : finished all batches; 64 documents processed (305 virtual)\n",
      "2017-11-20 12:02:29,963 : INFO : serializing accumulator to return to master...\n"
     ]
    },
    {
     "name": "stderr",
     "output_type": "stream",
     "text": [
      "2017-11-20 12:02:29,964 : DEBUG : completed batch 1; 128 documents processed (332 virtual)\n",
      "2017-11-20 12:02:29,966 : INFO : accumulator serialized\n",
      "2017-11-20 12:02:29,970 : DEBUG : observed sentinel value; terminating\n",
      "2017-11-20 12:02:29,973 : DEBUG : finished all batches; 128 documents processed (332 virtual)\n",
      "2017-11-20 12:02:29,987 : INFO : serializing accumulator to return to master...\n",
      "2017-11-20 12:02:29,998 : INFO : accumulator serialized\n",
      "2017-11-20 12:02:30,001 : DEBUG : completed batch 1; 108 documents processed (485 virtual)\n",
      "2017-11-20 12:02:30,002 : DEBUG : observed sentinel value; terminating\n",
      "2017-11-20 12:02:30,003 : DEBUG : finished all batches; 108 documents processed (485 virtual)\n",
      "2017-11-20 12:02:30,006 : INFO : serializing accumulator to return to master...\n",
      "2017-11-20 12:02:30,010 : INFO : accumulator serialized\n",
      "2017-11-20 12:02:30,038 : INFO : 3 accumulators retrieved from output queue\n",
      "2017-11-20 12:02:30,064 : INFO : accumulated word occurrence stats for 1122 virtual documents\n",
      "2017-11-20 12:02:30,846 : INFO : using autotuned alpha, starting with [0.050000000000000003, 0.050000000000000003, 0.050000000000000003, 0.050000000000000003, 0.050000000000000003, 0.050000000000000003, 0.050000000000000003, 0.050000000000000003, 0.050000000000000003, 0.050000000000000003, 0.050000000000000003, 0.050000000000000003, 0.050000000000000003, 0.050000000000000003, 0.050000000000000003, 0.050000000000000003, 0.050000000000000003, 0.050000000000000003, 0.050000000000000003, 0.050000000000000003]\n",
      "2017-11-20 12:02:30,847 : INFO : using serial LDA version on this node\n",
      "2017-11-20 12:02:31,810 : INFO : running online (multi-pass) LDA training, 20 topics, 5 passes over the supplied corpus of 300 documents, updating model once every 300 documents, evaluating perplexity every 300 documents, iterating 200x with a convergence threshold of 0.001000\n",
      "2017-11-20 12:02:31,811 : WARNING : too few updates, training might not converge; consider increasing the number of passes or iterations to improve accuracy\n",
      "2017-11-20 12:02:32,988 : DEBUG : bound: at document #0\n",
      "2017-11-20 12:02:34,721 : INFO : -16.765 per-word bound, 111401.3 perplexity estimate based on a held-out corpus of 300 documents with 18861 words\n",
      "2017-11-20 12:02:34,722 : INFO : PROGRESS: pass 0, at document #300/300\n",
      "2017-11-20 12:02:34,722 : DEBUG : performing inference on a chunk of 300 documents\n",
      "2017-11-20 12:02:35,996 : DEBUG : 241/300 documents converged within 200 iterations\n",
      "2017-11-20 12:02:35,999 : INFO : optimized alpha [0.043903696168950845, 0.041265838674511654, 0.040211784746293958, 0.042761594466483324, 0.043668943880567634, 0.040835849520363766, 0.04120798899540136, 0.039623570433493016, 0.043033018551491803, 0.042642490874196082, 0.041013845955878279, 0.04197137036338023, 0.043228259816884877, 0.042202771169155037, 0.0420704551501258, 0.040615962515330048, 0.040046866094333243, 0.03923189997354555, 0.040628687789743947, 0.040851040247270043]\n",
      "2017-11-20 12:02:36,001 : DEBUG : updating topics\n",
      "2017-11-20 12:02:36,220 : INFO : topic #17 (0.039): 0.008*\"sydney\" + 0.008*\"new_south\" + 0.008*\"wales\" + 0.007*\"today\" + 0.007*\"yesterday\" + 0.007*\"areas\" + 0.007*\"winds\" + 0.007*\"north\" + 0.007*\"israel\" + 0.007*\"role\"\n",
      "2017-11-20 12:02:36,221 : INFO : topic #7 (0.040): 0.013*\"government\" + 0.013*\"economy\" + 0.010*\"australia\" + 0.009*\"time\" + 0.007*\"information\" + 0.007*\"security\" + 0.006*\"data\" + 0.006*\"treasurer\" + 0.005*\"year\" + 0.005*\"world\"\n",
      "2017-11-20 12:02:36,222 : INFO : topic #12 (0.043): 0.027*\"arafat\" + 0.010*\"israel\" + 0.010*\"security\" + 0.009*\"hamas\" + 0.009*\"israeli\" + 0.008*\"police\" + 0.008*\"people\" + 0.008*\"attacks\" + 0.008*\"west_bank\" + 0.007*\"sharon\"\n",
      "2017-11-20 12:02:36,223 : INFO : topic #4 (0.044): 0.012*\"taliban\" + 0.007*\"afghanistan\" + 0.007*\"radio\" + 0.006*\"australia\" + 0.006*\"action\" + 0.005*\"kandahar\" + 0.005*\"sydney\" + 0.005*\"today\" + 0.004*\"israel\" + 0.004*\"week\"\n",
      "2017-11-20 12:02:36,223 : INFO : topic #0 (0.044): 0.013*\"australia\" + 0.012*\"security\" + 0.012*\"afghanistan\" + 0.010*\"force\" + 0.009*\"government\" + 0.007*\"forces\" + 0.006*\"president\" + 0.006*\"man\" + 0.006*\"people\" + 0.006*\"pakistan\"\n",
      "2017-11-20 12:02:36,224 : INFO : topic diff=15.875399, rho=1.000000\n",
      "2017-11-20 12:02:36,445 : DEBUG : bound: at document #0\n",
      "2017-11-20 12:02:37,141 : INFO : -8.168 per-word bound, 287.6 perplexity estimate based on a held-out corpus of 300 documents with 18861 words\n",
      "2017-11-20 12:02:37,142 : INFO : PROGRESS: pass 1, at document #300/300\n",
      "2017-11-20 12:02:37,142 : DEBUG : performing inference on a chunk of 300 documents\n",
      "2017-11-20 12:02:37,402 : DEBUG : 300/300 documents converged within 200 iterations\n",
      "2017-11-20 12:02:37,406 : INFO : optimized alpha [0.041326456285626166, 0.037674202529324387, 0.036793458571821432, 0.039687913426605895, 0.039954939842764929, 0.037137780557803361, 0.037442233960548084, 0.035731684077452051, 0.039745262732093473, 0.039440622337025506, 0.037278717404124917, 0.038305632021722637, 0.041088908907890458, 0.038859837385862281, 0.038509092495353843, 0.036786527390303463, 0.036498027551895441, 0.035419130120738461, 0.036438657395231312, 0.037435222960034577]\n",
      "2017-11-20 12:02:37,407 : DEBUG : updating topics\n",
      "2017-11-20 12:02:37,632 : INFO : topic #17 (0.035): 0.009*\"sydney\" + 0.009*\"new_south\" + 0.009*\"wales\" + 0.008*\"winds\" + 0.008*\"north\" + 0.007*\"areas\" + 0.007*\"today\" + 0.007*\"firefighters\" + 0.007*\"yesterday\" + 0.006*\"role\"\n",
      "2017-11-20 12:02:37,633 : INFO : topic #7 (0.036): 0.012*\"government\" + 0.012*\"economy\" + 0.009*\"australia\" + 0.009*\"time\" + 0.008*\"space\" + 0.007*\"information\" + 0.007*\"security\" + 0.007*\"station\" + 0.007*\"endeavour\" + 0.006*\"data\"\n",
      "2017-11-20 12:02:37,634 : INFO : topic #4 (0.040): 0.013*\"taliban\" + 0.007*\"radio\" + 0.006*\"afghanistan\" + 0.006*\"kandahar\" + 0.006*\"action\" + 0.006*\"australia\" + 0.005*\"today\" + 0.005*\"sydney\" + 0.005*\"innings\" + 0.004*\"week\"\n",
      "2017-11-20 12:02:37,634 : INFO : topic #12 (0.041): 0.031*\"arafat\" + 0.014*\"israel\" + 0.014*\"israeli\" + 0.012*\"security\" + 0.012*\"hamas\" + 0.010*\"west_bank\" + 0.009*\"police\" + 0.009*\"sharon\" + 0.008*\"attacks\" + 0.007*\"people\"\n",
      "2017-11-20 12:02:37,635 : INFO : topic #0 (0.041): 0.014*\"afghanistan\" + 0.013*\"australia\" + 0.012*\"security\" + 0.012*\"force\" + 0.011*\"government\" + 0.009*\"forces\" + 0.007*\"man\" + 0.006*\"people\" + 0.006*\"president\" + 0.005*\"afghan\"\n",
      "2017-11-20 12:02:37,636 : INFO : topic diff=1.095732, rho=0.577350\n",
      "2017-11-20 12:02:37,861 : DEBUG : bound: at document #0\n",
      "2017-11-20 12:02:38,527 : INFO : -7.977 per-word bound, 251.9 perplexity estimate based on a held-out corpus of 300 documents with 18861 words\n",
      "2017-11-20 12:02:38,528 : INFO : PROGRESS: pass 2, at document #300/300\n",
      "2017-11-20 12:02:38,529 : DEBUG : performing inference on a chunk of 300 documents\n",
      "2017-11-20 12:02:38,760 : DEBUG : 300/300 documents converged within 200 iterations\n",
      "2017-11-20 12:02:38,764 : INFO : optimized alpha [0.039266759505280961, 0.035064736240480808, 0.034369657965343886, 0.037326750702651915, 0.037320134096455758, 0.034466319173651429, 0.034793972024308853, 0.03294845728341924, 0.037308032996926345, 0.037060775512079411, 0.034779656770092253, 0.035645411942177435, 0.039497276942703344, 0.036471405914915871, 0.035842703560485037, 0.034100469453670512, 0.033857223712864599, 0.032750291537094689, 0.033469809841568346, 0.034936021843290074]\n",
      "2017-11-20 12:02:38,765 : DEBUG : updating topics\n",
      "2017-11-20 12:02:39,004 : INFO : topic #17 (0.033): 0.010*\"sydney\" + 0.010*\"new_south\" + 0.010*\"wales\" + 0.009*\"winds\" + 0.009*\"firefighters\" + 0.008*\"north\" + 0.008*\"areas\" + 0.007*\"today\" + 0.007*\"yesterday\" + 0.006*\"state\"\n",
      "2017-11-20 12:02:39,005 : INFO : topic #7 (0.033): 0.011*\"government\" + 0.011*\"economy\" + 0.009*\"australia\" + 0.009*\"space\" + 0.008*\"time\" + 0.007*\"station\" + 0.007*\"endeavour\" + 0.007*\"information\" + 0.007*\"security\" + 0.006*\"data\"\n",
      "2017-11-20 12:02:39,006 : INFO : topic #3 (0.037): 0.017*\"australia\" + 0.012*\"union\" + 0.009*\"day\" + 0.008*\"people\" + 0.008*\"year\" + 0.007*\"staff\" + 0.006*\"action\" + 0.006*\"pay\" + 0.006*\"company\" + 0.006*\"commission\"\n",
      "2017-11-20 12:02:39,006 : INFO : topic #0 (0.039): 0.016*\"afghanistan\" + 0.013*\"force\" + 0.013*\"australia\" + 0.013*\"security\" + 0.012*\"government\" + 0.010*\"forces\" + 0.007*\"man\" + 0.007*\"people\" + 0.006*\"afghan\" + 0.006*\"president\"\n"
     ]
    },
    {
     "name": "stderr",
     "output_type": "stream",
     "text": [
      "2017-11-20 12:02:39,007 : INFO : topic #12 (0.039): 0.032*\"arafat\" + 0.016*\"israeli\" + 0.015*\"israel\" + 0.012*\"security\" + 0.012*\"hamas\" + 0.011*\"west_bank\" + 0.010*\"police\" + 0.009*\"sharon\" + 0.008*\"attacks\" + 0.007*\"meeting\"\n",
      "2017-11-20 12:02:39,008 : INFO : topic diff=0.549122, rho=0.500000\n",
      "2017-11-20 12:02:39,245 : DEBUG : bound: at document #0\n",
      "2017-11-20 12:02:39,924 : INFO : -7.865 per-word bound, 233.1 perplexity estimate based on a held-out corpus of 300 documents with 18861 words\n",
      "2017-11-20 12:02:39,925 : INFO : PROGRESS: pass 3, at document #300/300\n",
      "2017-11-20 12:02:39,925 : DEBUG : performing inference on a chunk of 300 documents\n",
      "2017-11-20 12:02:40,155 : DEBUG : 299/300 documents converged within 200 iterations\n",
      "2017-11-20 12:02:40,159 : INFO : optimized alpha [0.037541505450569147, 0.033033006624789425, 0.032473359039676207, 0.035463253794745984, 0.035202310102252138, 0.032395089975331914, 0.032738048806599411, 0.03085750296384978, 0.03538525493503715, 0.035176871794863555, 0.032885069680203778, 0.033635943832900465, 0.038181241446110216, 0.034591473315813741, 0.033768643162218795, 0.032075528271350261, 0.031809257442318516, 0.030741046197935537, 0.031199802437737061, 0.033035725799783318]\n",
      "2017-11-20 12:02:40,162 : DEBUG : updating topics\n",
      "2017-11-20 12:02:40,401 : INFO : topic #17 (0.031): 0.012*\"sydney\" + 0.011*\"firefighters\" + 0.011*\"new_south\" + 0.011*\"wales\" + 0.011*\"winds\" + 0.009*\"north\" + 0.008*\"areas\" + 0.008*\"today\" + 0.007*\"state\" + 0.007*\"yesterday\"\n",
      "2017-11-20 12:02:40,401 : INFO : topic #7 (0.031): 0.011*\"government\" + 0.011*\"economy\" + 0.009*\"space\" + 0.008*\"australia\" + 0.008*\"time\" + 0.008*\"station\" + 0.008*\"endeavour\" + 0.007*\"security\" + 0.007*\"information\" + 0.006*\"united_states\"\n",
      "2017-11-20 12:02:40,409 : INFO : topic #3 (0.035): 0.017*\"australia\" + 0.013*\"union\" + 0.009*\"day\" + 0.008*\"people\" + 0.008*\"year\" + 0.007*\"staff\" + 0.006*\"action\" + 0.006*\"pay\" + 0.006*\"commission\" + 0.006*\"company\"\n",
      "2017-11-20 12:02:40,410 : INFO : topic #0 (0.038): 0.017*\"afghanistan\" + 0.014*\"force\" + 0.013*\"security\" + 0.013*\"australia\" + 0.012*\"government\" + 0.010*\"forces\" + 0.007*\"man\" + 0.007*\"afghan\" + 0.007*\"people\" + 0.006*\"president\"\n",
      "2017-11-20 12:02:40,411 : INFO : topic #12 (0.038): 0.032*\"arafat\" + 0.017*\"israeli\" + 0.016*\"israel\" + 0.013*\"security\" + 0.013*\"hamas\" + 0.011*\"west_bank\" + 0.010*\"police\" + 0.009*\"sharon\" + 0.008*\"attacks\" + 0.008*\"meeting\"\n",
      "2017-11-20 12:02:40,411 : INFO : topic diff=0.405248, rho=0.447214\n",
      "2017-11-20 12:02:40,665 : DEBUG : bound: at document #0\n",
      "2017-11-20 12:02:41,342 : INFO : -7.792 per-word bound, 221.6 perplexity estimate based on a held-out corpus of 300 documents with 18861 words\n",
      "2017-11-20 12:02:41,343 : INFO : PROGRESS: pass 4, at document #300/300\n",
      "2017-11-20 12:02:41,344 : DEBUG : performing inference on a chunk of 300 documents\n",
      "2017-11-20 12:02:41,569 : DEBUG : 300/300 documents converged within 200 iterations\n",
      "2017-11-20 12:02:41,572 : INFO : optimized alpha [0.036160835724549034, 0.031381083943045812, 0.03092473384679963, 0.033931488457344422, 0.033482284230942287, 0.030716376214204866, 0.031069566330768489, 0.029170739633980626, 0.033806900926019075, 0.033626823774965356, 0.031337303306175179, 0.032001591261347363, 0.037058230422165418, 0.033098488517813267, 0.032083613099110155, 0.030433051318712531, 0.030149055434062672, 0.029113795070131607, 0.029379591364855618, 0.031481306831213023]\n",
      "2017-11-20 12:02:41,573 : DEBUG : updating topics\n",
      "2017-11-20 12:02:41,809 : INFO : topic #17 (0.029): 0.013*\"firefighters\" + 0.013*\"sydney\" + 0.012*\"winds\" + 0.011*\"new_south\" + 0.011*\"wales\" + 0.010*\"north\" + 0.009*\"areas\" + 0.008*\"today\" + 0.007*\"fires\" + 0.007*\"state\"\n",
      "2017-11-20 12:02:41,810 : INFO : topic #7 (0.029): 0.011*\"government\" + 0.011*\"economy\" + 0.010*\"space\" + 0.008*\"station\" + 0.008*\"endeavour\" + 0.008*\"australia\" + 0.008*\"time\" + 0.007*\"security\" + 0.007*\"information\" + 0.006*\"crew\"\n",
      "2017-11-20 12:02:41,811 : INFO : topic #3 (0.034): 0.017*\"australia\" + 0.013*\"union\" + 0.009*\"day\" + 0.008*\"people\" + 0.008*\"year\" + 0.007*\"staff\" + 0.006*\"action\" + 0.006*\"pay\" + 0.006*\"commission\" + 0.006*\"company\"\n",
      "2017-11-20 12:02:41,812 : INFO : topic #0 (0.036): 0.017*\"afghanistan\" + 0.014*\"force\" + 0.013*\"security\" + 0.013*\"government\" + 0.013*\"australia\" + 0.010*\"forces\" + 0.008*\"afghan\" + 0.007*\"man\" + 0.007*\"people\" + 0.006*\"troops\"\n",
      "2017-11-20 12:02:41,812 : INFO : topic #12 (0.037): 0.032*\"arafat\" + 0.017*\"israeli\" + 0.016*\"israel\" + 0.013*\"security\" + 0.013*\"hamas\" + 0.011*\"west_bank\" + 0.010*\"police\" + 0.009*\"sharon\" + 0.009*\"attacks\" + 0.008*\"militants\"\n",
      "2017-11-20 12:02:41,813 : INFO : topic diff=0.310054, rho=0.408248\n",
      "2017-11-20 12:02:41,933 : DEBUG : Setting topics to those of the model: LdaModel(num_terms=4431, num_topics=20, decay=0.5, chunksize=300)\n",
      "2017-11-20 12:02:41,936 : INFO : using ParallelWordOccurrenceAccumulator(processes=3, batch_size=64) to estimate probabilities from sliding windows\n",
      "2017-11-20 12:02:42,016 : DEBUG : completed batch 0; 64 documents processed (92 virtual)\n",
      "2017-11-20 12:02:42,093 : DEBUG : completed batch 0; 64 documents processed (258 virtual)\n",
      "2017-11-20 12:02:42,134 : DEBUG : completed batch 1; 128 documents processed (332 virtual)\n",
      "2017-11-20 12:02:42,143 : DEBUG : observed sentinel value; terminating\n",
      "2017-11-20 12:02:42,129 : DEBUG : completed batch 0; 64 documents processed (305 virtual)\n",
      "2017-11-20 12:02:42,148 : DEBUG : observed sentinel value; terminating\n",
      "2017-11-20 12:02:42,149 : DEBUG : finished all batches; 64 documents processed (305 virtual)\n",
      "2017-11-20 12:02:42,151 : INFO : serializing accumulator to return to master...\n",
      "2017-11-20 12:02:42,156 : DEBUG : finished all batches; 128 documents processed (332 virtual)\n",
      "2017-11-20 12:02:42,163 : DEBUG : completed batch 1; 108 documents processed (485 virtual)\n",
      "2017-11-20 12:02:42,164 : INFO : serializing accumulator to return to master...\n",
      "2017-11-20 12:02:42,167 : DEBUG : observed sentinel value; terminating\n",
      "2017-11-20 12:02:42,168 : INFO : accumulator serialized\n",
      "2017-11-20 12:02:42,170 : DEBUG : finished all batches; 108 documents processed (485 virtual)\n",
      "2017-11-20 12:02:42,177 : INFO : serializing accumulator to return to master...\n",
      "2017-11-20 12:02:42,153 : INFO : accumulator serialized\n",
      "2017-11-20 12:02:42,196 : INFO : accumulator serialized\n",
      "2017-11-20 12:02:42,235 : INFO : 3 accumulators retrieved from output queue\n",
      "2017-11-20 12:02:42,264 : INFO : accumulated word occurrence stats for 1122 virtual documents\n",
      "2017-11-20 12:02:43,129 : INFO : using autotuned alpha, starting with [0.047619047619047616, 0.047619047619047616, 0.047619047619047616, 0.047619047619047616, 0.047619047619047616, 0.047619047619047616, 0.047619047619047616, 0.047619047619047616, 0.047619047619047616, 0.047619047619047616, 0.047619047619047616, 0.047619047619047616, 0.047619047619047616, 0.047619047619047616, 0.047619047619047616, 0.047619047619047616, 0.047619047619047616, 0.047619047619047616, 0.047619047619047616, 0.047619047619047616, 0.047619047619047616]\n",
      "2017-11-20 12:02:43,131 : INFO : using serial LDA version on this node\n",
      "2017-11-20 12:02:44,175 : INFO : running online (multi-pass) LDA training, 21 topics, 5 passes over the supplied corpus of 300 documents, updating model once every 300 documents, evaluating perplexity every 300 documents, iterating 200x with a convergence threshold of 0.001000\n",
      "2017-11-20 12:02:44,177 : WARNING : too few updates, training might not converge; consider increasing the number of passes or iterations to improve accuracy\n",
      "2017-11-20 12:02:45,429 : DEBUG : bound: at document #0\n",
      "2017-11-20 12:02:47,222 : INFO : -17.358 per-word bound, 167991.8 perplexity estimate based on a held-out corpus of 300 documents with 18861 words\n",
      "2017-11-20 12:02:47,230 : INFO : PROGRESS: pass 0, at document #300/300\n",
      "2017-11-20 12:02:47,230 : DEBUG : performing inference on a chunk of 300 documents\n",
      "2017-11-20 12:02:48,708 : DEBUG : 232/300 documents converged within 200 iterations\n",
      "2017-11-20 12:02:48,712 : INFO : optimized alpha [0.040168054034499925, 0.041929142757464427, 0.038700637616499639, 0.041594526827735886, 0.039853101864256474, 0.040761351331855142, 0.041157049423466006, 0.038495349401227612, 0.039656772092068804, 0.042287755612582426, 0.039451155079759978, 0.0398415207559355, 0.03939949475145621, 0.039804172582878342, 0.040224635934271738, 0.040354422189410107, 0.040181563638427023, 0.04184445939626763, 0.038328230769980064, 0.038677897416164654, 0.038108609924919754]\n"
     ]
    },
    {
     "name": "stderr",
     "output_type": "stream",
     "text": [
      "2017-11-20 12:02:48,713 : DEBUG : updating topics\n",
      "2017-11-20 12:02:48,938 : INFO : topic #20 (0.038): 0.011*\"hollingworth\" + 0.010*\"australia\" + 0.009*\"governor_general\" + 0.008*\"allegations\" + 0.008*\"abuse\" + 0.008*\"years\" + 0.006*\"people\" + 0.006*\"attacks\" + 0.006*\"prime_minister\" + 0.006*\"cent\"\n",
      "2017-11-20 12:02:48,939 : INFO : topic #18 (0.038): 0.011*\"cent\" + 0.009*\"hewitt\" + 0.007*\"today\" + 0.006*\"cut\" + 0.006*\"rate\" + 0.006*\"sydney\" + 0.006*\"west\" + 0.006*\"sultan\" + 0.006*\"australia\" + 0.005*\"workers\"\n",
      "2017-11-20 12:02:48,940 : INFO : topic #17 (0.042): 0.020*\"australia\" + 0.014*\"company\" + 0.010*\"year\" + 0.009*\"qantas\" + 0.009*\"people\" + 0.008*\"report\" + 0.007*\"test\" + 0.006*\"day\" + 0.005*\"man\" + 0.005*\"workers\"\n",
      "2017-11-20 12:02:48,942 : INFO : topic #1 (0.042): 0.016*\"afghanistan\" + 0.009*\"government\" + 0.009*\"officials\" + 0.009*\"forces\" + 0.008*\"people\" + 0.007*\"force\" + 0.007*\"laws\" + 0.006*\"troops\" + 0.006*\"united_states\" + 0.006*\"laden\"\n",
      "2017-11-20 12:02:48,944 : INFO : topic #9 (0.042): 0.007*\"australia\" + 0.007*\"sydney\" + 0.007*\"fire\" + 0.006*\"authority\" + 0.006*\"today\" + 0.005*\"attacks\" + 0.005*\"child\" + 0.005*\"government\" + 0.004*\"people\" + 0.004*\"man\"\n",
      "2017-11-20 12:02:48,944 : INFO : topic diff=16.629500, rho=1.000000\n",
      "2017-11-20 12:02:49,172 : DEBUG : bound: at document #0\n",
      "2017-11-20 12:02:49,923 : INFO : -8.256 per-word bound, 305.6 perplexity estimate based on a held-out corpus of 300 documents with 18861 words\n",
      "2017-11-20 12:02:49,925 : INFO : PROGRESS: pass 1, at document #300/300\n",
      "2017-11-20 12:02:49,926 : DEBUG : performing inference on a chunk of 300 documents\n",
      "2017-11-20 12:02:50,198 : DEBUG : 300/300 documents converged within 200 iterations\n",
      "2017-11-20 12:02:50,203 : INFO : optimized alpha [0.036554797498133555, 0.039714971335282602, 0.035119199289102405, 0.039105452820810883, 0.036925461061522245, 0.037389579738854151, 0.038247087533054634, 0.034780758793052771, 0.036584237950298915, 0.03929374208377262, 0.036055319619821412, 0.036463164201783374, 0.035842992806449037, 0.036344302759639333, 0.03695788046967035, 0.037059289237931906, 0.03691235644130169, 0.038994731686955317, 0.034655712304458526, 0.035088430479692075, 0.034547855963439289]\n",
      "2017-11-20 12:02:50,203 : DEBUG : updating topics\n",
      "2017-11-20 12:02:50,433 : INFO : topic #20 (0.035): 0.017*\"hollingworth\" + 0.012*\"governor_general\" + 0.012*\"abuse\" + 0.011*\"allegations\" + 0.010*\"australia\" + 0.008*\"statement\" + 0.007*\"school\" + 0.007*\"years\" + 0.007*\"anglican\" + 0.006*\"people\"\n",
      "2017-11-20 12:02:50,434 : INFO : topic #18 (0.035): 0.012*\"cent\" + 0.009*\"hewitt\" + 0.006*\"today\" + 0.006*\"cut\" + 0.006*\"rate\" + 0.006*\"sydney\" + 0.006*\"west\" + 0.006*\"sultan\" + 0.006*\"vaughan\" + 0.006*\"ice\"\n",
      "2017-11-20 12:02:50,436 : INFO : topic #3 (0.039): 0.017*\"arafat\" + 0.010*\"pakistan\" + 0.010*\"israel\" + 0.009*\"australia\" + 0.009*\"police\" + 0.008*\"security\" + 0.007*\"west_bank\" + 0.007*\"attacks\" + 0.006*\"india\" + 0.006*\"authority\"\n",
      "2017-11-20 12:02:50,439 : INFO : topic #9 (0.039): 0.007*\"sydney\" + 0.007*\"australia\" + 0.007*\"fire\" + 0.007*\"today\" + 0.006*\"authority\" + 0.005*\"attacks\" + 0.005*\"child\" + 0.005*\"government\" + 0.004*\"north\" + 0.004*\"area\"\n",
      "2017-11-20 12:02:50,443 : INFO : topic #1 (0.040): 0.020*\"afghanistan\" + 0.010*\"forces\" + 0.010*\"government\" + 0.009*\"officials\" + 0.008*\"laden\" + 0.008*\"force\" + 0.007*\"tora_bora\" + 0.007*\"people\" + 0.007*\"united_states\" + 0.007*\"laws\"\n",
      "2017-11-20 12:02:50,445 : INFO : topic diff=1.176098, rho=0.577350\n",
      "2017-11-20 12:02:50,679 : DEBUG : bound: at document #0\n",
      "2017-11-20 12:02:51,390 : INFO : -8.047 per-word bound, 264.4 perplexity estimate based on a held-out corpus of 300 documents with 18861 words\n",
      "2017-11-20 12:02:51,391 : INFO : PROGRESS: pass 2, at document #300/300\n",
      "2017-11-20 12:02:51,393 : DEBUG : performing inference on a chunk of 300 documents\n",
      "2017-11-20 12:02:51,643 : DEBUG : 300/300 documents converged within 200 iterations\n",
      "2017-11-20 12:02:51,660 : INFO : optimized alpha [0.033939161489198989, 0.037998177619674667, 0.032530449338903603, 0.037278540628249923, 0.034740259355974371, 0.034918755574881118, 0.035996176067093169, 0.032174089624656101, 0.034303139918623334, 0.03704606305625114, 0.033574845231524625, 0.034049761110308767, 0.033266703310147708, 0.033890886871495454, 0.034556817092083914, 0.034637802259635482, 0.034575663150572859, 0.036922289724975743, 0.03201274558751966, 0.032497550784417087, 0.03198021934207209]\n",
      "2017-11-20 12:02:51,661 : DEBUG : updating topics\n",
      "2017-11-20 12:02:51,933 : INFO : topic #20 (0.032): 0.020*\"hollingworth\" + 0.015*\"abuse\" + 0.014*\"governor_general\" + 0.011*\"allegations\" + 0.010*\"australia\" + 0.010*\"school\" + 0.009*\"statement\" + 0.008*\"anglican\" + 0.007*\"people\" + 0.007*\"child\"\n",
      "2017-11-20 12:02:51,934 : INFO : topic #18 (0.032): 0.012*\"cent\" + 0.009*\"hewitt\" + 0.006*\"today\" + 0.006*\"rate\" + 0.006*\"sydney\" + 0.006*\"cut\" + 0.006*\"west\" + 0.006*\"sultan\" + 0.006*\"vaughan\" + 0.006*\"ice\"\n",
      "2017-11-20 12:02:51,935 : INFO : topic #9 (0.037): 0.007*\"sydney\" + 0.007*\"today\" + 0.007*\"fire\" + 0.007*\"australia\" + 0.006*\"authority\" + 0.005*\"child\" + 0.005*\"government\" + 0.005*\"attacks\" + 0.005*\"north\" + 0.004*\"area\"\n",
      "2017-11-20 12:02:51,936 : INFO : topic #3 (0.037): 0.018*\"arafat\" + 0.010*\"pakistan\" + 0.010*\"israel\" + 0.009*\"police\" + 0.009*\"australia\" + 0.008*\"security\" + 0.008*\"west_bank\" + 0.007*\"attacks\" + 0.007*\"sharon\" + 0.006*\"authority\"\n",
      "2017-11-20 12:02:51,936 : INFO : topic #1 (0.038): 0.023*\"afghanistan\" + 0.011*\"forces\" + 0.010*\"government\" + 0.009*\"officials\" + 0.009*\"laden\" + 0.009*\"tora_bora\" + 0.008*\"united_states\" + 0.008*\"afghan\" + 0.008*\"force\" + 0.007*\"people\"\n",
      "2017-11-20 12:02:51,937 : INFO : topic diff=0.592350, rho=0.500000\n",
      "2017-11-20 12:02:52,200 : DEBUG : bound: at document #0\n",
      "2017-11-20 12:02:52,922 : INFO : -7.924 per-word bound, 242.9 perplexity estimate based on a held-out corpus of 300 documents with 18861 words\n",
      "2017-11-20 12:02:52,923 : INFO : PROGRESS: pass 3, at document #300/300\n",
      "2017-11-20 12:02:52,923 : DEBUG : performing inference on a chunk of 300 documents\n",
      "2017-11-20 12:02:53,173 : DEBUG : 300/300 documents converged within 200 iterations\n",
      "2017-11-20 12:02:53,177 : INFO : optimized alpha [0.031907457841623202, 0.036779305644205298, 0.030522040531400806, 0.035797427049832076, 0.033006010444056676, 0.032983783318736498, 0.034209902482086753, 0.030156756734629052, 0.032447750683542373, 0.035257042034936854, 0.031693586523997772, 0.031999681369722088, 0.031264504771952591, 0.031972494553427898, 0.032671557627994202, 0.032792245602392446, 0.032682726089120595, 0.035263917287606888, 0.029969377974127361, 0.030489429364832506, 0.0299897989772962]\n",
      "2017-11-20 12:02:53,179 : DEBUG : updating topics\n",
      "2017-11-20 12:02:53,436 : INFO : topic #20 (0.030): 0.022*\"hollingworth\" + 0.016*\"abuse\" + 0.015*\"governor_general\" + 0.011*\"allegations\" + 0.011*\"school\" + 0.010*\"statement\" + 0.010*\"australia\" + 0.009*\"anglican\" + 0.008*\"child\" + 0.008*\"peter\"\n",
      "2017-11-20 12:02:53,438 : INFO : topic #18 (0.030): 0.012*\"cent\" + 0.009*\"hewitt\" + 0.006*\"today\" + 0.006*\"sydney\" + 0.006*\"rate\" + 0.006*\"cut\" + 0.006*\"west\" + 0.006*\"sultan\" + 0.006*\"vaughan\" + 0.006*\"ice\"\n",
      "2017-11-20 12:02:53,441 : INFO : topic #17 (0.035): 0.018*\"australia\" + 0.017*\"company\" + 0.013*\"qantas\" + 0.010*\"year\" + 0.009*\"people\" + 0.008*\"report\" + 0.008*\"workers\" + 0.007*\"test\" + 0.007*\"deaths\" + 0.006*\"action\"\n",
      "2017-11-20 12:02:53,443 : INFO : topic #3 (0.036): 0.019*\"arafat\" + 0.010*\"israel\" + 0.010*\"pakistan\" + 0.009*\"police\" + 0.009*\"security\" + 0.008*\"australia\" + 0.008*\"west_bank\" + 0.008*\"sharon\" + 0.008*\"attacks\" + 0.006*\"israeli\"\n",
      "2017-11-20 12:02:53,445 : INFO : topic #1 (0.037): 0.025*\"afghanistan\" + 0.012*\"forces\" + 0.011*\"laden\" + 0.010*\"government\" + 0.010*\"tora_bora\" + 0.010*\"officials\" + 0.009*\"afghan\" + 0.009*\"united_states\" + 0.008*\"force\" + 0.007*\"troops\"\n",
      "2017-11-20 12:02:53,447 : INFO : topic diff=0.432585, rho=0.447214\n",
      "2017-11-20 12:02:53,704 : DEBUG : bound: at document #0\n",
      "2017-11-20 12:02:54,428 : INFO : -7.849 per-word bound, 230.5 perplexity estimate based on a held-out corpus of 300 documents with 18861 words\n",
      "2017-11-20 12:02:54,431 : INFO : PROGRESS: pass 4, at document #300/300\n",
      "2017-11-20 12:02:54,432 : DEBUG : performing inference on a chunk of 300 documents\n"
     ]
    },
    {
     "name": "stderr",
     "output_type": "stream",
     "text": [
      "2017-11-20 12:02:54,681 : DEBUG : 300/300 documents converged within 200 iterations\n",
      "2017-11-20 12:02:54,688 : INFO : optimized alpha [0.030259402897622363, 0.036010653441248625, 0.028894337370625679, 0.034554080056788269, 0.03157623938306113, 0.031404589973608128, 0.032786942012906245, 0.028524540680097764, 0.030927644960139635, 0.033728303082206236, 0.030159140002605406, 0.030338289538257894, 0.029639162506542634, 0.030407980597667281, 0.031129302548349294, 0.031279903404598783, 0.031135782756722869, 0.033938836526667251, 0.028317841766586655, 0.02886304157985041, 0.028377466078091766]\n",
      "2017-11-20 12:02:54,692 : DEBUG : updating topics\n",
      "2017-11-20 12:02:54,946 : INFO : topic #18 (0.028): 0.012*\"cent\" + 0.008*\"hewitt\" + 0.006*\"today\" + 0.006*\"sydney\" + 0.006*\"rate\" + 0.006*\"west\" + 0.006*\"cut\" + 0.006*\"sultan\" + 0.006*\"vaughan\" + 0.006*\"ice\"\n",
      "2017-11-20 12:02:54,948 : INFO : topic #20 (0.028): 0.022*\"hollingworth\" + 0.017*\"abuse\" + 0.015*\"governor_general\" + 0.011*\"school\" + 0.011*\"allegations\" + 0.010*\"statement\" + 0.010*\"anglican\" + 0.010*\"australia\" + 0.009*\"child\" + 0.008*\"peter\"\n",
      "2017-11-20 12:02:54,950 : INFO : topic #17 (0.034): 0.018*\"australia\" + 0.017*\"company\" + 0.013*\"qantas\" + 0.010*\"year\" + 0.009*\"people\" + 0.008*\"report\" + 0.008*\"workers\" + 0.007*\"test\" + 0.007*\"deaths\" + 0.006*\"action\"\n",
      "2017-11-20 12:02:54,951 : INFO : topic #3 (0.035): 0.020*\"arafat\" + 0.010*\"israel\" + 0.009*\"pakistan\" + 0.009*\"security\" + 0.009*\"police\" + 0.009*\"sharon\" + 0.009*\"west_bank\" + 0.008*\"australia\" + 0.008*\"attacks\" + 0.007*\"israeli\"\n",
      "2017-11-20 12:02:54,952 : INFO : topic #1 (0.036): 0.026*\"afghanistan\" + 0.012*\"forces\" + 0.012*\"laden\" + 0.011*\"tora_bora\" + 0.010*\"government\" + 0.010*\"afghan\" + 0.010*\"officials\" + 0.009*\"united_states\" + 0.008*\"force\" + 0.008*\"taliban\"\n",
      "2017-11-20 12:02:54,953 : INFO : topic diff=0.328543, rho=0.408248\n",
      "2017-11-20 12:02:55,083 : DEBUG : Setting topics to those of the model: LdaModel(num_terms=4431, num_topics=21, decay=0.5, chunksize=300)\n",
      "2017-11-20 12:02:55,087 : INFO : using ParallelWordOccurrenceAccumulator(processes=3, batch_size=64) to estimate probabilities from sliding windows\n",
      "2017-11-20 12:02:55,196 : DEBUG : completed batch 0; 64 documents processed (92 virtual)\n",
      "2017-11-20 12:02:55,289 : DEBUG : completed batch 0; 64 documents processed (305 virtual)\n",
      "2017-11-20 12:02:55,296 : DEBUG : completed batch 0; 64 documents processed (258 virtual)\n",
      "2017-11-20 12:02:55,356 : DEBUG : completed batch 1; 128 documents processed (332 virtual)\n",
      "2017-11-20 12:02:55,347 : DEBUG : observed sentinel value; terminating\n",
      "2017-11-20 12:02:55,368 : DEBUG : observed sentinel value; terminating\n",
      "2017-11-20 12:02:55,369 : DEBUG : finished all batches; 64 documents processed (258 virtual)\n",
      "2017-11-20 12:02:55,379 : INFO : serializing accumulator to return to master...\n",
      "2017-11-20 12:02:55,383 : DEBUG : finished all batches; 128 documents processed (332 virtual)\n",
      "2017-11-20 12:02:55,392 : INFO : serializing accumulator to return to master...\n",
      "2017-11-20 12:02:55,397 : INFO : accumulator serialized\n",
      "2017-11-20 12:02:55,395 : INFO : accumulator serialized\n",
      "2017-11-20 12:02:55,415 : DEBUG : completed batch 1; 108 documents processed (532 virtual)\n",
      "2017-11-20 12:02:55,424 : INFO : accumulator serialized\n",
      "2017-11-20 12:02:55,419 : DEBUG : observed sentinel value; terminating\n",
      "2017-11-20 12:02:55,422 : DEBUG : finished all batches; 108 documents processed (532 virtual)\n",
      "2017-11-20 12:02:55,423 : INFO : serializing accumulator to return to master...\n",
      "2017-11-20 12:02:55,465 : INFO : 3 accumulators retrieved from output queue\n",
      "2017-11-20 12:02:55,494 : INFO : accumulated word occurrence stats for 1122 virtual documents\n",
      "2017-11-20 12:02:56,334 : INFO : using autotuned alpha, starting with [0.045454545454545456, 0.045454545454545456, 0.045454545454545456, 0.045454545454545456, 0.045454545454545456, 0.045454545454545456, 0.045454545454545456, 0.045454545454545456, 0.045454545454545456, 0.045454545454545456, 0.045454545454545456, 0.045454545454545456, 0.045454545454545456, 0.045454545454545456, 0.045454545454545456, 0.045454545454545456, 0.045454545454545456, 0.045454545454545456, 0.045454545454545456, 0.045454545454545456, 0.045454545454545456, 0.045454545454545456]\n",
      "2017-11-20 12:02:56,337 : INFO : using serial LDA version on this node\n",
      "2017-11-20 12:02:57,440 : INFO : running online (multi-pass) LDA training, 22 topics, 5 passes over the supplied corpus of 300 documents, updating model once every 300 documents, evaluating perplexity every 300 documents, iterating 200x with a convergence threshold of 0.001000\n",
      "2017-11-20 12:02:57,444 : WARNING : too few updates, training might not converge; consider increasing the number of passes or iterations to improve accuracy\n",
      "2017-11-20 12:02:58,783 : DEBUG : bound: at document #0\n",
      "2017-11-20 12:03:00,646 : INFO : -17.949 per-word bound, 253043.5 perplexity estimate based on a held-out corpus of 300 documents with 18861 words\n",
      "2017-11-20 12:03:00,649 : INFO : PROGRESS: pass 0, at document #300/300\n",
      "2017-11-20 12:03:00,650 : DEBUG : performing inference on a chunk of 300 documents\n",
      "2017-11-20 12:03:02,057 : DEBUG : 242/300 documents converged within 200 iterations\n",
      "2017-11-20 12:03:02,061 : INFO : optimized alpha [0.037921154169951163, 0.036875256371701179, 0.040456613924930662, 0.039591621909173806, 0.03759931702013776, 0.037939594490422376, 0.039020718513593206, 0.038516631027270071, 0.036866381587092475, 0.037232462130546123, 0.038869579523973137, 0.039248400226794947, 0.039135601294507862, 0.036685257728259979, 0.038860288385523294, 0.0393691072516794, 0.039206601643553156, 0.039050017513526582, 0.039778165530149345, 0.039043184733937704, 0.037206836811500707, 0.038674560930311616]\n",
      "2017-11-20 12:03:02,062 : DEBUG : updating topics\n",
      "2017-11-20 12:03:02,293 : INFO : topic #13 (0.037): 0.009*\"members\" + 0.009*\"israel\" + 0.009*\"people\" + 0.007*\"space\" + 0.006*\"east_timor\" + 0.006*\"vote\" + 0.006*\"offer\" + 0.006*\"friedli\" + 0.006*\"united_states\" + 0.006*\"station\"\n",
      "2017-11-20 12:03:02,294 : INFO : topic #8 (0.037): 0.013*\"man\" + 0.008*\"years\" + 0.008*\"new_zealand\" + 0.007*\"airport\" + 0.007*\"people\" + 0.007*\"members\" + 0.006*\"taliban\" + 0.006*\"president\" + 0.006*\"police\" + 0.006*\"commission\"\n",
      "2017-11-20 12:03:02,297 : INFO : topic #3 (0.040): 0.011*\"afghanistan\" + 0.010*\"afghan\" + 0.008*\"laden\" + 0.007*\"forces\" + 0.006*\"lockett\" + 0.006*\"taliban\" + 0.006*\"government\" + 0.006*\"united_states\" + 0.006*\"force\" + 0.006*\"tora_bora\"\n",
      "2017-11-20 12:03:02,297 : INFO : topic #18 (0.040): 0.011*\"fire\" + 0.009*\"centre\" + 0.008*\"detainees\" + 0.006*\"government\" + 0.006*\"virus\" + 0.006*\"night\" + 0.006*\"woomera\" + 0.006*\"department\" + 0.006*\"people\" + 0.005*\"south\"\n",
      "2017-11-20 12:03:02,301 : INFO : topic #2 (0.040): 0.015*\"australia\" + 0.008*\"afghanistan\" + 0.007*\"year\" + 0.006*\"economy\" + 0.006*\"cent\" + 0.006*\"action\" + 0.005*\"staff\" + 0.005*\"government\" + 0.005*\"united_states\" + 0.005*\"banks\"\n",
      "2017-11-20 12:03:02,304 : INFO : topic diff=17.626794, rho=1.000000\n",
      "2017-11-20 12:03:02,534 : DEBUG : bound: at document #0\n",
      "2017-11-20 12:03:03,304 : INFO : -8.241 per-word bound, 302.5 perplexity estimate based on a held-out corpus of 300 documents with 18861 words\n",
      "2017-11-20 12:03:03,305 : INFO : PROGRESS: pass 1, at document #300/300\n",
      "2017-11-20 12:03:03,307 : DEBUG : performing inference on a chunk of 300 documents\n",
      "2017-11-20 12:03:03,602 : DEBUG : 298/300 documents converged within 200 iterations\n",
      "2017-11-20 12:03:03,607 : INFO : optimized alpha [0.034676297158601072, 0.033584628264395365, 0.03778559366584467, 0.037166243349220168, 0.034502750637742795, 0.034523802038164637, 0.036006442946844339, 0.035596938437980681, 0.033418424072694401, 0.033959503904313335, 0.035545966616398132, 0.036636447753314358, 0.03618562042964546, 0.033272467369893061, 0.036135479781531782, 0.036551339771836847, 0.03606475294122688, 0.036974195371101817, 0.036876751610619603, 0.03635892022760856, 0.033931434695133211, 0.035719780429275663]\n",
      "2017-11-20 12:03:03,607 : DEBUG : updating topics\n",
      "2017-11-20 12:03:03,836 : INFO : topic #13 (0.033): 0.010*\"people\" + 0.010*\"space\" + 0.009*\"friedli\" + 0.009*\"members\" + 0.008*\"israel\" + 0.008*\"station\" + 0.007*\"endeavour\" + 0.006*\"day\" + 0.006*\"company\" + 0.006*\"director\"\n"
     ]
    },
    {
     "name": "stderr",
     "output_type": "stream",
     "text": [
      "2017-11-20 12:03:03,843 : INFO : topic #8 (0.033): 0.012*\"man\" + 0.010*\"airport\" + 0.008*\"taliban\" + 0.008*\"people\" + 0.008*\"years\" + 0.007*\"new_zealand\" + 0.007*\"members\" + 0.006*\"kandahar\" + 0.006*\"opposition\" + 0.005*\"police\"\n",
      "2017-11-20 12:03:03,844 : INFO : topic #17 (0.037): 0.026*\"arafat\" + 0.013*\"israeli\" + 0.012*\"sharon\" + 0.011*\"israel\" + 0.011*\"security\" + 0.011*\"west_bank\" + 0.008*\"authority\" + 0.007*\"attacks\" + 0.007*\"meeting\" + 0.006*\"militants\"\n",
      "2017-11-20 12:03:03,844 : INFO : topic #3 (0.037): 0.012*\"afghanistan\" + 0.010*\"afghan\" + 0.008*\"laden\" + 0.007*\"forces\" + 0.007*\"tora_bora\" + 0.006*\"united_states\" + 0.006*\"taliban\" + 0.006*\"lockett\" + 0.006*\"qaeda\" + 0.006*\"pentagon\"\n",
      "2017-11-20 12:03:03,845 : INFO : topic #2 (0.038): 0.016*\"australia\" + 0.008*\"year\" + 0.007*\"afghanistan\" + 0.007*\"economy\" + 0.007*\"cent\" + 0.006*\"action\" + 0.006*\"staff\" + 0.006*\"banks\" + 0.005*\"world\" + 0.005*\"union\"\n",
      "2017-11-20 12:03:03,845 : INFO : topic diff=1.185860, rho=0.577350\n",
      "2017-11-20 12:03:04,080 : DEBUG : bound: at document #0\n",
      "2017-11-20 12:03:04,811 : INFO : -8.031 per-word bound, 261.6 perplexity estimate based on a held-out corpus of 300 documents with 18861 words\n",
      "2017-11-20 12:03:04,812 : INFO : PROGRESS: pass 2, at document #300/300\n",
      "2017-11-20 12:03:04,812 : DEBUG : performing inference on a chunk of 300 documents\n",
      "2017-11-20 12:03:05,072 : DEBUG : 300/300 documents converged within 200 iterations\n",
      "2017-11-20 12:03:05,076 : INFO : optimized alpha [0.032425929014039637, 0.031249185312512508, 0.035493520800479315, 0.035312036166444662, 0.032224569309699386, 0.031979018722232189, 0.033771427995879177, 0.033424949298197185, 0.030921931663656397, 0.031571619342311431, 0.033179343149629219, 0.034660534716109768, 0.033991989817823323, 0.030861820224416383, 0.034088505196057647, 0.034443671958983554, 0.033622350100326125, 0.035569790865341219, 0.03464221924112016, 0.034270361625334575, 0.031541491022452309, 0.033457361706864822]\n",
      "2017-11-20 12:03:05,077 : DEBUG : updating topics\n",
      "2017-11-20 12:03:05,329 : INFO : topic #13 (0.031): 0.013*\"space\" + 0.011*\"station\" + 0.010*\"endeavour\" + 0.010*\"people\" + 0.010*\"friedli\" + 0.009*\"members\" + 0.007*\"israel\" + 0.007*\"day\" + 0.007*\"company\" + 0.007*\"director\"\n",
      "2017-11-20 12:03:05,330 : INFO : topic #8 (0.031): 0.012*\"man\" + 0.011*\"airport\" + 0.009*\"taliban\" + 0.008*\"people\" + 0.007*\"years\" + 0.007*\"new_zealand\" + 0.006*\"kandahar\" + 0.006*\"opposition\" + 0.006*\"members\" + 0.005*\"police\"\n",
      "2017-11-20 12:03:05,331 : INFO : topic #3 (0.035): 0.012*\"afghanistan\" + 0.010*\"afghan\" + 0.009*\"laden\" + 0.008*\"tora_bora\" + 0.008*\"forces\" + 0.007*\"united_states\" + 0.007*\"qaeda\" + 0.006*\"pentagon\" + 0.006*\"taliban\" + 0.006*\"lockett\"\n",
      "2017-11-20 12:03:05,331 : INFO : topic #2 (0.035): 0.016*\"australia\" + 0.008*\"economy\" + 0.007*\"year\" + 0.007*\"cent\" + 0.007*\"action\" + 0.007*\"afghanistan\" + 0.006*\"staff\" + 0.006*\"banks\" + 0.006*\"world\" + 0.006*\"union\"\n",
      "2017-11-20 12:03:05,332 : INFO : topic #17 (0.036): 0.028*\"arafat\" + 0.015*\"israeli\" + 0.014*\"israel\" + 0.013*\"security\" + 0.012*\"sharon\" + 0.012*\"west_bank\" + 0.009*\"authority\" + 0.008*\"attacks\" + 0.007*\"meeting\" + 0.007*\"militants\"\n",
      "2017-11-20 12:03:05,333 : INFO : topic diff=0.597796, rho=0.500000\n",
      "2017-11-20 12:03:05,586 : DEBUG : bound: at document #0\n",
      "2017-11-20 12:03:06,313 : INFO : -7.909 per-word bound, 240.3 perplexity estimate based on a held-out corpus of 300 documents with 18861 words\n",
      "2017-11-20 12:03:06,314 : INFO : PROGRESS: pass 3, at document #300/300\n",
      "2017-11-20 12:03:06,315 : DEBUG : performing inference on a chunk of 300 documents\n",
      "2017-11-20 12:03:06,569 : DEBUG : 300/300 documents converged within 200 iterations\n",
      "2017-11-20 12:03:06,574 : INFO : optimized alpha [0.030712336300266121, 0.029425289802984266, 0.033741650728595175, 0.033816196865205497, 0.030435357678429184, 0.030005356912158263, 0.032007507685535591, 0.03170649429668012, 0.028983042694307105, 0.02970811862908555, 0.031376665279708241, 0.033078681618794181, 0.032311842371591661, 0.02898572949969731, 0.032457291663405455, 0.032769610494090322, 0.031714052226753026, 0.034645635715930628, 0.032875307606270061, 0.032552285387741617, 0.029676531421019774, 0.031675517550849068]\n",
      "2017-11-20 12:03:06,575 : DEBUG : updating topics\n",
      "2017-11-20 12:03:06,832 : INFO : topic #8 (0.029): 0.012*\"man\" + 0.011*\"airport\" + 0.010*\"taliban\" + 0.007*\"people\" + 0.007*\"years\" + 0.007*\"kandahar\" + 0.007*\"new_zealand\" + 0.007*\"opposition\" + 0.006*\"members\" + 0.005*\"police\"\n",
      "2017-11-20 12:03:06,833 : INFO : topic #13 (0.029): 0.016*\"space\" + 0.013*\"station\" + 0.011*\"endeavour\" + 0.010*\"people\" + 0.010*\"friedli\" + 0.009*\"members\" + 0.008*\"shuttle\" + 0.007*\"day\" + 0.007*\"company\" + 0.007*\"director\"\n",
      "2017-11-20 12:03:06,834 : INFO : topic #2 (0.034): 0.016*\"australia\" + 0.009*\"economy\" + 0.008*\"cent\" + 0.007*\"year\" + 0.007*\"action\" + 0.007*\"staff\" + 0.007*\"banks\" + 0.006*\"afghanistan\" + 0.006*\"world\" + 0.006*\"union\"\n",
      "2017-11-20 12:03:06,835 : INFO : topic #3 (0.034): 0.013*\"afghanistan\" + 0.011*\"afghan\" + 0.009*\"laden\" + 0.009*\"tora_bora\" + 0.008*\"forces\" + 0.007*\"united_states\" + 0.007*\"qaeda\" + 0.007*\"pentagon\" + 0.007*\"taliban\" + 0.006*\"lockett\"\n",
      "2017-11-20 12:03:06,836 : INFO : topic #17 (0.035): 0.031*\"arafat\" + 0.016*\"israeli\" + 0.015*\"israel\" + 0.014*\"security\" + 0.013*\"west_bank\" + 0.012*\"sharon\" + 0.010*\"authority\" + 0.008*\"attacks\" + 0.008*\"militants\" + 0.007*\"meeting\"\n",
      "2017-11-20 12:03:06,837 : INFO : topic diff=0.442052, rho=0.447214\n",
      "2017-11-20 12:03:07,090 : DEBUG : bound: at document #0\n",
      "2017-11-20 12:03:07,822 : INFO : -7.830 per-word bound, 227.6 perplexity estimate based on a held-out corpus of 300 documents with 18861 words\n",
      "2017-11-20 12:03:07,825 : INFO : PROGRESS: pass 4, at document #300/300\n",
      "2017-11-20 12:03:07,826 : DEBUG : performing inference on a chunk of 300 documents\n",
      "2017-11-20 12:03:08,074 : DEBUG : 300/300 documents converged within 200 iterations\n",
      "2017-11-20 12:03:08,080 : INFO : optimized alpha [0.02939573687684174, 0.027938385254714405, 0.032298842400023224, 0.032663551337894677, 0.028970924496380019, 0.028405644864621282, 0.030558473306300078, 0.03029236046206947, 0.027412580249937788, 0.028190292623894674, 0.029900622610579953, 0.031764840834785361, 0.030926118423529311, 0.027460460963903435, 0.031106531517950696, 0.031387191780220799, 0.030158306306183422, 0.033896430524759748, 0.03142285888586515, 0.031136006166839942, 0.028157854608472976, 0.030214083395979655]\n",
      "2017-11-20 12:03:08,083 : DEBUG : updating topics\n",
      "2017-11-20 12:03:08,336 : INFO : topic #8 (0.027): 0.012*\"man\" + 0.012*\"airport\" + 0.011*\"taliban\" + 0.008*\"kandahar\" + 0.007*\"people\" + 0.007*\"years\" + 0.007*\"new_zealand\" + 0.007*\"opposition\" + 0.006*\"members\" + 0.006*\"agha\"\n",
      "2017-11-20 12:03:08,339 : INFO : topic #13 (0.027): 0.018*\"space\" + 0.014*\"station\" + 0.012*\"endeavour\" + 0.011*\"people\" + 0.010*\"friedli\" + 0.009*\"members\" + 0.009*\"shuttle\" + 0.007*\"day\" + 0.007*\"company\" + 0.007*\"director\"\n",
      "2017-11-20 12:03:08,341 : INFO : topic #2 (0.032): 0.016*\"australia\" + 0.009*\"economy\" + 0.008*\"cent\" + 0.008*\"year\" + 0.007*\"action\" + 0.007*\"staff\" + 0.007*\"world\" + 0.007*\"banks\" + 0.006*\"afghanistan\" + 0.006*\"union\"\n",
      "2017-11-20 12:03:08,342 : INFO : topic #3 (0.033): 0.013*\"afghanistan\" + 0.011*\"afghan\" + 0.010*\"laden\" + 0.009*\"tora_bora\" + 0.008*\"forces\" + 0.007*\"united_states\" + 0.007*\"qaeda\" + 0.007*\"pentagon\" + 0.007*\"taliban\" + 0.006*\"area\"\n",
      "2017-11-20 12:03:08,344 : INFO : topic #17 (0.034): 0.032*\"arafat\" + 0.018*\"israeli\" + 0.017*\"israel\" + 0.014*\"security\" + 0.013*\"west_bank\" + 0.011*\"sharon\" + 0.010*\"authority\" + 0.009*\"attacks\" + 0.008*\"hamas\" + 0.008*\"militants\"\n",
      "2017-11-20 12:03:08,346 : INFO : topic diff=0.338158, rho=0.408248\n",
      "2017-11-20 12:03:08,481 : DEBUG : Setting topics to those of the model: LdaModel(num_terms=4431, num_topics=22, decay=0.5, chunksize=300)\n",
      "2017-11-20 12:03:08,484 : INFO : using ParallelWordOccurrenceAccumulator(processes=3, batch_size=64) to estimate probabilities from sliding windows\n",
      "2017-11-20 12:03:08,578 : DEBUG : completed batch 0; 64 documents processed (92 virtual)\n",
      "2017-11-20 12:03:08,608 : DEBUG : completed batch 0; 64 documents processed (305 virtual)\n",
      "2017-11-20 12:03:08,626 : DEBUG : completed batch 0; 64 documents processed (258 virtual)\n"
     ]
    },
    {
     "name": "stderr",
     "output_type": "stream",
     "text": [
      "2017-11-20 12:03:08,655 : DEBUG : observed sentinel value; terminating\n",
      "2017-11-20 12:03:08,659 : DEBUG : finished all batches; 64 documents processed (258 virtual)\n",
      "2017-11-20 12:03:08,667 : INFO : serializing accumulator to return to master...\n",
      "2017-11-20 12:03:08,667 : INFO : accumulator serialized\n",
      "2017-11-20 12:03:08,679 : DEBUG : completed batch 1; 128 documents processed (332 virtual)\n",
      "2017-11-20 12:03:08,690 : DEBUG : observed sentinel value; terminating\n",
      "2017-11-20 12:03:08,703 : DEBUG : finished all batches; 128 documents processed (332 virtual)\n",
      "2017-11-20 12:03:08,702 : DEBUG : completed batch 1; 108 documents processed (532 virtual)\n",
      "2017-11-20 12:03:08,705 : INFO : serializing accumulator to return to master...\n",
      "2017-11-20 12:03:08,706 : DEBUG : observed sentinel value; terminating\n",
      "2017-11-20 12:03:08,709 : DEBUG : finished all batches; 108 documents processed (532 virtual)\n",
      "2017-11-20 12:03:08,711 : INFO : serializing accumulator to return to master...\n",
      "2017-11-20 12:03:08,712 : INFO : accumulator serialized\n",
      "2017-11-20 12:03:08,714 : INFO : accumulator serialized\n",
      "2017-11-20 12:03:08,741 : INFO : 3 accumulators retrieved from output queue\n",
      "2017-11-20 12:03:08,770 : INFO : accumulated word occurrence stats for 1122 virtual documents\n",
      "2017-11-20 12:03:09,604 : INFO : using autotuned alpha, starting with [0.043478260869565216, 0.043478260869565216, 0.043478260869565216, 0.043478260869565216, 0.043478260869565216, 0.043478260869565216, 0.043478260869565216, 0.043478260869565216, 0.043478260869565216, 0.043478260869565216, 0.043478260869565216, 0.043478260869565216, 0.043478260869565216, 0.043478260869565216, 0.043478260869565216, 0.043478260869565216, 0.043478260869565216, 0.043478260869565216, 0.043478260869565216, 0.043478260869565216, 0.043478260869565216, 0.043478260869565216, 0.043478260869565216]\n",
      "2017-11-20 12:03:09,605 : INFO : using serial LDA version on this node\n",
      "2017-11-20 12:03:10,732 : INFO : running online (multi-pass) LDA training, 23 topics, 5 passes over the supplied corpus of 300 documents, updating model once every 300 documents, evaluating perplexity every 300 documents, iterating 200x with a convergence threshold of 0.001000\n",
      "2017-11-20 12:03:10,733 : WARNING : too few updates, training might not converge; consider increasing the number of passes or iterations to improve accuracy\n",
      "2017-11-20 12:03:12,044 : DEBUG : bound: at document #0\n",
      "2017-11-20 12:03:13,875 : INFO : -18.561 per-word bound, 386844.3 perplexity estimate based on a held-out corpus of 300 documents with 18861 words\n",
      "2017-11-20 12:03:13,876 : INFO : PROGRESS: pass 0, at document #300/300\n",
      "2017-11-20 12:03:13,876 : DEBUG : performing inference on a chunk of 300 documents\n",
      "2017-11-20 12:03:15,274 : DEBUG : 240/300 documents converged within 200 iterations\n",
      "2017-11-20 12:03:15,278 : INFO : optimized alpha [0.03639590017220054, 0.036206295069070554, 0.037408236866598304, 0.036541326235320137, 0.038075213165437695, 0.036018028302784395, 0.03691629860992951, 0.036024824828656973, 0.0373876770427614, 0.036557056409610759, 0.035688709728239808, 0.036011425087780886, 0.038976778947677967, 0.036021218516940061, 0.036881348946882012, 0.038966333379274028, 0.036908590816076031, 0.036574663151391684, 0.039145765909487901, 0.0394490420814258, 0.038241585809010888, 0.035355544528041988, 0.037762209656695196]\n",
      "2017-11-20 12:03:15,279 : DEBUG : updating topics\n",
      "2017-11-20 12:03:15,506 : INFO : topic #21 (0.035): 0.008*\"peace\" + 0.008*\"area\" + 0.008*\"weapons\" + 0.008*\"explosives\" + 0.008*\"wind\" + 0.008*\"blue_mountains\" + 0.007*\"state\" + 0.007*\"back\" + 0.006*\"australia\" + 0.006*\"hospital\"\n",
      "2017-11-20 12:03:15,507 : INFO : topic #10 (0.036): 0.016*\"australia\" + 0.014*\"people\" + 0.008*\"year\" + 0.008*\"cent\" + 0.008*\"thousands\" + 0.008*\"asic\" + 0.006*\"war\" + 0.006*\"start\" + 0.006*\"cup\" + 0.006*\"arrest\"\n",
      "2017-11-20 12:03:15,508 : INFO : topic #12 (0.039): 0.014*\"afghanistan\" + 0.012*\"man\" + 0.010*\"australia\" + 0.007*\"security\" + 0.006*\"government\" + 0.006*\"force\" + 0.006*\"people\" + 0.006*\"afghan\" + 0.005*\"forces\" + 0.005*\"united_states\"\n",
      "2017-11-20 12:03:15,510 : INFO : topic #18 (0.039): 0.009*\"people\" + 0.009*\"test\" + 0.008*\"government\" + 0.007*\"hamas\" + 0.006*\"days\" + 0.006*\"united_states\" + 0.006*\"arafat\" + 0.006*\"side\" + 0.006*\"afghanistan\" + 0.005*\"hospital\"\n",
      "2017-11-20 12:03:15,512 : INFO : topic #19 (0.039): 0.009*\"australia\" + 0.009*\"commission\" + 0.007*\"today\" + 0.007*\"cancer\" + 0.006*\"hih\" + 0.005*\"sydney\" + 0.005*\"president\" + 0.005*\"people\" + 0.005*\"power\" + 0.005*\"company\"\n",
      "2017-11-20 12:03:15,513 : INFO : topic diff=18.498021, rho=1.000000\n",
      "2017-11-20 12:03:15,735 : DEBUG : bound: at document #0\n",
      "2017-11-20 12:03:16,435 : INFO : -8.270 per-word bound, 308.7 perplexity estimate based on a held-out corpus of 300 documents with 18861 words\n",
      "2017-11-20 12:03:16,436 : INFO : PROGRESS: pass 1, at document #300/300\n",
      "2017-11-20 12:03:16,436 : DEBUG : performing inference on a chunk of 300 documents\n",
      "2017-11-20 12:03:16,696 : DEBUG : 300/300 documents converged within 200 iterations\n",
      "2017-11-20 12:03:16,699 : INFO : optimized alpha [0.033466237695198991, 0.033068960465410059, 0.035015333502202768, 0.033654274103674719, 0.035679375530784409, 0.032835147597103861, 0.034058530608427111, 0.032917292029933209, 0.034602048068996284, 0.0336729867458926, 0.032561916970729285, 0.032903620937407535, 0.036691756552975179, 0.032837055712766162, 0.033858469630068819, 0.036671466634030002, 0.034516538290150875, 0.033696130323679921, 0.036995946005094524, 0.036638837987146698, 0.035378193531384876, 0.032220089265317546, 0.035329319782787832]\n",
      "2017-11-20 12:03:16,700 : DEBUG : updating topics\n",
      "2017-11-20 12:03:16,929 : INFO : topic #21 (0.032): 0.009*\"river\" + 0.008*\"area\" + 0.008*\"peace\" + 0.008*\"weapons\" + 0.008*\"blue_mountains\" + 0.008*\"wind\" + 0.008*\"explosives\" + 0.007*\"state\" + 0.007*\"back\" + 0.006*\"court\"\n",
      "2017-11-20 12:03:16,930 : INFO : topic #10 (0.033): 0.017*\"australia\" + 0.014*\"people\" + 0.009*\"year\" + 0.008*\"cent\" + 0.008*\"thousands\" + 0.008*\"asic\" + 0.006*\"war\" + 0.006*\"way\" + 0.006*\"claims\" + 0.006*\"policy\"\n",
      "2017-11-20 12:03:16,932 : INFO : topic #15 (0.037): 0.012*\"fire\" + 0.011*\"sydney\" + 0.008*\"detainees\" + 0.008*\"centre\" + 0.008*\"australia\" + 0.008*\"morning\" + 0.007*\"firefighters\" + 0.007*\"night\" + 0.007*\"today\" + 0.007*\"people\"\n",
      "2017-11-20 12:03:16,933 : INFO : topic #12 (0.037): 0.014*\"afghanistan\" + 0.013*\"man\" + 0.010*\"australia\" + 0.008*\"security\" + 0.006*\"force\" + 0.006*\"government\" + 0.006*\"people\" + 0.006*\"afghan\" + 0.005*\"forces\" + 0.005*\"united_states\"\n",
      "2017-11-20 12:03:16,934 : INFO : topic #18 (0.037): 0.009*\"test\" + 0.009*\"hamas\" + 0.009*\"people\" + 0.008*\"government\" + 0.007*\"arafat\" + 0.006*\"days\" + 0.006*\"united_states\" + 0.006*\"side\" + 0.006*\"pakistan\" + 0.006*\"afghanistan\"\n",
      "2017-11-20 12:03:16,935 : INFO : topic diff=1.222105, rho=0.577350\n",
      "2017-11-20 12:03:17,163 : DEBUG : bound: at document #0\n",
      "2017-11-20 12:03:17,842 : INFO : -8.065 per-word bound, 267.8 perplexity estimate based on a held-out corpus of 300 documents with 18861 words\n",
      "2017-11-20 12:03:17,842 : INFO : PROGRESS: pass 2, at document #300/300\n",
      "2017-11-20 12:03:17,843 : DEBUG : performing inference on a chunk of 300 documents\n",
      "2017-11-20 12:03:18,088 : DEBUG : 300/300 documents converged within 200 iterations\n",
      "2017-11-20 12:03:18,091 : INFO : optimized alpha [0.031300925791787754, 0.030771940055428739, 0.033265181792932891, 0.031518690952203818, 0.033989018579253884, 0.030508888102161076, 0.031934079564175856, 0.030640817848743541, 0.032524594744074257, 0.031533566698697869, 0.030275836844882137, 0.030628036414436243, 0.034936839100644303, 0.0305694917050333, 0.031631553578557535, 0.03484467875226193, 0.032765593439878643, 0.031562000670441522, 0.035329784575788684, 0.034468906174476406, 0.033245545635552161, 0.029986005804418799, 0.033548135482556307]\n",
      "2017-11-20 12:03:18,092 : DEBUG : updating topics\n",
      "2017-11-20 12:03:18,341 : INFO : topic #21 (0.030): 0.010*\"river\" + 0.007*\"area\" + 0.007*\"peace\" + 0.007*\"weapons\" + 0.007*\"blue_mountains\" + 0.007*\"wind\" + 0.007*\"explosives\" + 0.007*\"state\" + 0.007*\"back\" + 0.007*\"guides\"\n",
      "2017-11-20 12:03:18,342 : INFO : topic #10 (0.030): 0.018*\"australia\" + 0.015*\"people\" + 0.010*\"year\" + 0.008*\"cent\" + 0.008*\"thousands\" + 0.008*\"asic\" + 0.006*\"war\" + 0.006*\"way\" + 0.006*\"claims\" + 0.006*\"policy\"\n"
     ]
    },
    {
     "name": "stderr",
     "output_type": "stream",
     "text": [
      "2017-11-20 12:03:18,344 : INFO : topic #15 (0.035): 0.012*\"fire\" + 0.011*\"sydney\" + 0.008*\"detainees\" + 0.008*\"centre\" + 0.008*\"australia\" + 0.008*\"morning\" + 0.007*\"firefighters\" + 0.007*\"today\" + 0.007*\"night\" + 0.007*\"people\"\n",
      "2017-11-20 12:03:18,345 : INFO : topic #12 (0.035): 0.014*\"afghanistan\" + 0.013*\"man\" + 0.009*\"australia\" + 0.008*\"security\" + 0.007*\"force\" + 0.007*\"government\" + 0.006*\"people\" + 0.006*\"afghan\" + 0.006*\"forces\" + 0.005*\"year\"\n",
      "2017-11-20 12:03:18,347 : INFO : topic #18 (0.035): 0.010*\"hamas\" + 0.010*\"test\" + 0.008*\"people\" + 0.008*\"government\" + 0.008*\"arafat\" + 0.007*\"united_states\" + 0.006*\"days\" + 0.006*\"side\" + 0.006*\"officials\" + 0.005*\"pakistan\"\n",
      "2017-11-20 12:03:18,348 : INFO : topic diff=0.616753, rho=0.500000\n",
      "2017-11-20 12:03:18,595 : DEBUG : bound: at document #0\n",
      "2017-11-20 12:03:19,278 : INFO : -7.947 per-word bound, 246.7 perplexity estimate based on a held-out corpus of 300 documents with 18861 words\n",
      "2017-11-20 12:03:19,278 : INFO : PROGRESS: pass 3, at document #300/300\n",
      "2017-11-20 12:03:19,279 : DEBUG : performing inference on a chunk of 300 documents\n",
      "2017-11-20 12:03:19,526 : DEBUG : 300/300 documents converged within 200 iterations\n",
      "2017-11-20 12:03:19,530 : INFO : optimized alpha [0.029594007895242833, 0.028973913656336836, 0.031906243446769879, 0.029832865162482351, 0.032621546187406474, 0.028642978402066855, 0.03025341987141078, 0.028858175176580514, 0.030876247000232677, 0.029844059306282988, 0.028536039812961017, 0.028846494178534677, 0.033460000708835057, 0.028792006121836577, 0.029879826258588073, 0.033317012841211045, 0.031459562974393049, 0.029875704058850306, 0.033915260638047985, 0.032746921720127643, 0.031554573845261544, 0.028236132598923391, 0.032113303826129778]\n",
      "2017-11-20 12:03:19,531 : DEBUG : updating topics\n",
      "2017-11-20 12:03:19,783 : INFO : topic #21 (0.028): 0.011*\"river\" + 0.008*\"guides\" + 0.007*\"court\" + 0.007*\"area\" + 0.007*\"peace\" + 0.007*\"state\" + 0.007*\"weapons\" + 0.007*\"blue_mountains\" + 0.007*\"wind\" + 0.007*\"explosives\"\n",
      "2017-11-20 12:03:19,784 : INFO : topic #10 (0.029): 0.018*\"australia\" + 0.015*\"people\" + 0.010*\"year\" + 0.008*\"cent\" + 0.008*\"thousands\" + 0.007*\"asic\" + 0.006*\"war\" + 0.006*\"way\" + 0.006*\"claims\" + 0.006*\"policy\"\n",
      "2017-11-20 12:03:19,786 : INFO : topic #15 (0.033): 0.012*\"fire\" + 0.011*\"sydney\" + 0.008*\"detainees\" + 0.008*\"centre\" + 0.008*\"australia\" + 0.008*\"morning\" + 0.007*\"firefighters\" + 0.007*\"today\" + 0.007*\"night\" + 0.007*\"people\"\n",
      "2017-11-20 12:03:19,788 : INFO : topic #12 (0.033): 0.015*\"afghanistan\" + 0.013*\"man\" + 0.009*\"australia\" + 0.008*\"security\" + 0.007*\"force\" + 0.007*\"government\" + 0.006*\"people\" + 0.006*\"afghan\" + 0.006*\"forces\" + 0.006*\"taliban\"\n",
      "2017-11-20 12:03:19,789 : INFO : topic #18 (0.034): 0.010*\"hamas\" + 0.010*\"test\" + 0.008*\"people\" + 0.008*\"government\" + 0.008*\"arafat\" + 0.007*\"united_states\" + 0.006*\"side\" + 0.006*\"days\" + 0.006*\"officials\" + 0.006*\"israel\"\n",
      "2017-11-20 12:03:19,791 : INFO : topic diff=0.455103, rho=0.447214\n",
      "2017-11-20 12:03:20,039 : DEBUG : bound: at document #0\n",
      "2017-11-20 12:03:20,723 : INFO : -7.871 per-word bound, 234.2 perplexity estimate based on a held-out corpus of 300 documents with 18861 words\n",
      "2017-11-20 12:03:20,723 : INFO : PROGRESS: pass 4, at document #300/300\n",
      "2017-11-20 12:03:20,724 : DEBUG : performing inference on a chunk of 300 documents\n",
      "2017-11-20 12:03:20,968 : DEBUG : 300/300 documents converged within 200 iterations\n",
      "2017-11-20 12:03:20,972 : INFO : optimized alpha [0.028193131846231345, 0.027506616546877111, 0.030767363671890428, 0.028491182772924149, 0.031570366353735106, 0.027126461506854355, 0.02895391252285481, 0.027402945898810354, 0.029472264287965247, 0.028456087876235409, 0.027114395806181534, 0.027392322153084955, 0.032226111102421851, 0.027341778843361857, 0.028444756599021331, 0.032045023483244159, 0.03045456727487263, 0.028533442718725988, 0.032728337182510073, 0.031327632361613351, 0.030115971321972912, 0.026807008793660596, 0.030914964681732084]\n",
      "2017-11-20 12:03:20,973 : DEBUG : updating topics\n",
      "2017-11-20 12:03:21,222 : INFO : topic #21 (0.027): 0.011*\"river\" + 0.008*\"guides\" + 0.007*\"court\" + 0.007*\"area\" + 0.007*\"peace\" + 0.007*\"state\" + 0.007*\"weapons\" + 0.007*\"blue_mountains\" + 0.007*\"wind\" + 0.007*\"explosives\"\n",
      "2017-11-20 12:03:21,223 : INFO : topic #10 (0.027): 0.019*\"australia\" + 0.015*\"people\" + 0.010*\"year\" + 0.008*\"cent\" + 0.007*\"thousands\" + 0.007*\"asic\" + 0.006*\"deaths\" + 0.006*\"war\" + 0.006*\"way\" + 0.006*\"claims\"\n",
      "2017-11-20 12:03:21,224 : INFO : topic #15 (0.032): 0.012*\"fire\" + 0.011*\"sydney\" + 0.008*\"detainees\" + 0.008*\"centre\" + 0.008*\"australia\" + 0.008*\"morning\" + 0.007*\"firefighters\" + 0.007*\"night\" + 0.007*\"today\" + 0.007*\"people\"\n",
      "2017-11-20 12:03:21,226 : INFO : topic #12 (0.032): 0.015*\"afghanistan\" + 0.013*\"man\" + 0.009*\"australia\" + 0.008*\"security\" + 0.007*\"government\" + 0.007*\"force\" + 0.007*\"people\" + 0.006*\"afghan\" + 0.006*\"taliban\" + 0.006*\"forces\"\n",
      "2017-11-20 12:03:21,227 : INFO : topic #18 (0.033): 0.010*\"hamas\" + 0.010*\"test\" + 0.008*\"people\" + 0.008*\"government\" + 0.008*\"arafat\" + 0.007*\"side\" + 0.006*\"united_states\" + 0.006*\"days\" + 0.006*\"israel\" + 0.006*\"officials\"\n",
      "2017-11-20 12:03:21,229 : INFO : topic diff=0.347528, rho=0.408248\n",
      "2017-11-20 12:03:21,355 : DEBUG : Setting topics to those of the model: LdaModel(num_terms=4431, num_topics=23, decay=0.5, chunksize=300)\n",
      "2017-11-20 12:03:21,358 : INFO : using ParallelWordOccurrenceAccumulator(processes=3, batch_size=64) to estimate probabilities from sliding windows\n",
      "2017-11-20 12:03:21,453 : DEBUG : completed batch 0; 64 documents processed (92 virtual)\n",
      "2017-11-20 12:03:21,503 : DEBUG : completed batch 0; 64 documents processed (305 virtual)\n",
      "2017-11-20 12:03:21,525 : DEBUG : completed batch 1; 128 documents processed (332 virtual)\n",
      "2017-11-20 12:03:21,499 : DEBUG : completed batch 0; 64 documents processed (258 virtual)\n",
      "2017-11-20 12:03:21,527 : DEBUG : observed sentinel value; terminating\n",
      "2017-11-20 12:03:21,528 : DEBUG : observed sentinel value; terminating\n",
      "2017-11-20 12:03:21,529 : DEBUG : finished all batches; 128 documents processed (332 virtual)\n",
      "2017-11-20 12:03:21,532 : DEBUG : finished all batches; 64 documents processed (258 virtual)\n",
      "2017-11-20 12:03:21,533 : INFO : serializing accumulator to return to master...\n",
      "2017-11-20 12:03:21,537 : INFO : serializing accumulator to return to master...\n",
      "2017-11-20 12:03:21,534 : INFO : accumulator serialized\n",
      "2017-11-20 12:03:21,546 : INFO : accumulator serialized\n",
      "2017-11-20 12:03:21,583 : DEBUG : completed batch 1; 108 documents processed (532 virtual)\n",
      "2017-11-20 12:03:21,586 : DEBUG : observed sentinel value; terminating\n",
      "2017-11-20 12:03:21,588 : DEBUG : finished all batches; 108 documents processed (532 virtual)\n",
      "2017-11-20 12:03:21,592 : INFO : serializing accumulator to return to master...\n",
      "2017-11-20 12:03:21,595 : INFO : accumulator serialized\n",
      "2017-11-20 12:03:21,618 : INFO : 3 accumulators retrieved from output queue\n",
      "2017-11-20 12:03:21,649 : INFO : accumulated word occurrence stats for 1122 virtual documents\n",
      "2017-11-20 12:03:22,517 : INFO : using autotuned alpha, starting with [0.041666666666666664, 0.041666666666666664, 0.041666666666666664, 0.041666666666666664, 0.041666666666666664, 0.041666666666666664, 0.041666666666666664, 0.041666666666666664, 0.041666666666666664, 0.041666666666666664, 0.041666666666666664, 0.041666666666666664, 0.041666666666666664, 0.041666666666666664, 0.041666666666666664, 0.041666666666666664, 0.041666666666666664, 0.041666666666666664, 0.041666666666666664, 0.041666666666666664, 0.041666666666666664, 0.041666666666666664, 0.041666666666666664, 0.041666666666666664]\n",
      "2017-11-20 12:03:22,519 : INFO : using serial LDA version on this node\n",
      "2017-11-20 12:03:23,666 : INFO : running online (multi-pass) LDA training, 24 topics, 5 passes over the supplied corpus of 300 documents, updating model once every 300 documents, evaluating perplexity every 300 documents, iterating 200x with a convergence threshold of 0.001000\n",
      "2017-11-20 12:03:23,666 : WARNING : too few updates, training might not converge; consider increasing the number of passes or iterations to improve accuracy\n",
      "2017-11-20 12:03:25,059 : DEBUG : bound: at document #0\n"
     ]
    },
    {
     "name": "stderr",
     "output_type": "stream",
     "text": [
      "2017-11-20 12:03:27,016 : INFO : -19.175 per-word bound, 591906.6 perplexity estimate based on a held-out corpus of 300 documents with 18861 words\n",
      "2017-11-20 12:03:27,016 : INFO : PROGRESS: pass 0, at document #300/300\n",
      "2017-11-20 12:03:27,019 : DEBUG : performing inference on a chunk of 300 documents\n",
      "2017-11-20 12:03:28,438 : DEBUG : 243/300 documents converged within 200 iterations\n",
      "2017-11-20 12:03:28,442 : INFO : optimized alpha [0.036062424090542632, 0.034906233456929676, 0.03632586747040345, 0.036708611365024485, 0.03589315662050277, 0.036383765084257627, 0.036370210432745513, 0.036054246557944425, 0.034394816196878029, 0.034906866130733169, 0.036878393230528439, 0.036539777383069634, 0.03603577731687143, 0.034567571280803205, 0.034395861563097034, 0.036380693830400768, 0.038032598301833434, 0.036379908236544939, 0.034406437723535348, 0.034749161373955284, 0.036063787005181501, 0.035546611647732325, 0.03686199369490948, 0.035247252727556473]\n",
      "2017-11-20 12:03:28,443 : DEBUG : updating topics\n",
      "2017-11-20 12:03:28,678 : INFO : topic #8 (0.034): 0.015*\"reid\" + 0.012*\"india\" + 0.011*\"australia\" + 0.008*\"minister\" + 0.007*\"afghanistan\" + 0.007*\"sergeant\" + 0.007*\"dfat\" + 0.007*\"baker\" + 0.006*\"britain\" + 0.006*\"group\"\n",
      "2017-11-20 12:03:28,679 : INFO : topic #18 (0.034): 0.014*\"farmers\" + 0.013*\"commission\" + 0.012*\"hih\" + 0.011*\"club\" + 0.009*\"gutnick\" + 0.009*\"ticket\" + 0.009*\"truss\" + 0.008*\"members\" + 0.008*\"boat\" + 0.007*\"meeting\"\n",
      "2017-11-20 12:03:28,681 : INFO : topic #22 (0.037): 0.011*\"australia\" + 0.008*\"action\" + 0.007*\"unions\" + 0.007*\"dispute\" + 0.006*\"qantas\" + 0.006*\"workers\" + 0.005*\"match\" + 0.005*\"man\" + 0.005*\"government\" + 0.005*\"morning\"\n",
      "2017-11-20 12:03:28,682 : INFO : topic #10 (0.037): 0.016*\"arafat\" + 0.014*\"israel\" + 0.013*\"israeli\" + 0.011*\"hamas\" + 0.008*\"people\" + 0.008*\"west_bank\" + 0.008*\"official\" + 0.006*\"australia\" + 0.006*\"violence\" + 0.006*\"security\"\n",
      "2017-11-20 12:03:28,684 : INFO : topic #16 (0.038): 0.008*\"afghan\" + 0.008*\"afghanistan\" + 0.007*\"test\" + 0.007*\"area\" + 0.007*\"government\" + 0.007*\"radio\" + 0.006*\"fire\" + 0.006*\"troops\" + 0.006*\"days\" + 0.006*\"years\"\n",
      "2017-11-20 12:03:28,690 : INFO : topic diff=19.434319, rho=1.000000\n",
      "2017-11-20 12:03:28,925 : DEBUG : bound: at document #0\n",
      "2017-11-20 12:03:29,665 : INFO : -8.277 per-word bound, 310.3 perplexity estimate based on a held-out corpus of 300 documents with 18861 words\n",
      "2017-11-20 12:03:29,668 : INFO : PROGRESS: pass 1, at document #300/300\n",
      "2017-11-20 12:03:29,670 : DEBUG : performing inference on a chunk of 300 documents\n",
      "2017-11-20 12:03:29,960 : DEBUG : 299/300 documents converged within 200 iterations\n",
      "2017-11-20 12:03:29,965 : INFO : optimized alpha [0.03337366222325968, 0.031952510026678205, 0.033743507587346955, 0.034224190785130039, 0.033542862049605222, 0.034036454040464119, 0.033690677750662541, 0.033359531410961665, 0.031375970409340474, 0.032105120428004424, 0.035404190440372824, 0.034166258195719383, 0.033433933004661111, 0.031597902214984132, 0.031228423612758946, 0.033875680858787442, 0.036264807618318629, 0.033872065150882993, 0.031387709171311125, 0.031972695930692657, 0.033767920821904676, 0.032938385387537662, 0.034749574035925122, 0.032540600372339162]\n",
      "2017-11-20 12:03:29,967 : DEBUG : updating topics\n",
      "2017-11-20 12:03:30,202 : INFO : topic #14 (0.031): 0.016*\"fires\" + 0.012*\"economy\" + 0.010*\"australia\" + 0.009*\"lines\" + 0.007*\"state\" + 0.007*\"service\" + 0.007*\"weather\" + 0.007*\"sydney\" + 0.007*\"north\" + 0.007*\"fire\"\n",
      "2017-11-20 12:03:30,204 : INFO : topic #18 (0.031): 0.013*\"farmers\" + 0.012*\"hih\" + 0.012*\"commission\" + 0.011*\"club\" + 0.009*\"gutnick\" + 0.009*\"ticket\" + 0.009*\"truss\" + 0.009*\"members\" + 0.008*\"boat\" + 0.007*\"meeting\"\n",
      "2017-11-20 12:03:30,206 : INFO : topic #22 (0.035): 0.013*\"australia\" + 0.011*\"action\" + 0.009*\"dispute\" + 0.008*\"unions\" + 0.008*\"workers\" + 0.007*\"qantas\" + 0.006*\"match\" + 0.006*\"man\" + 0.005*\"today\" + 0.005*\"morning\"\n",
      "2017-11-20 12:03:30,208 : INFO : topic #10 (0.035): 0.022*\"arafat\" + 0.017*\"israeli\" + 0.016*\"israel\" + 0.013*\"hamas\" + 0.010*\"west_bank\" + 0.009*\"security\" + 0.008*\"people\" + 0.008*\"official\" + 0.007*\"violence\" + 0.006*\"police\"\n",
      "2017-11-20 12:03:30,210 : INFO : topic #16 (0.036): 0.010*\"test\" + 0.009*\"afghan\" + 0.009*\"afghanistan\" + 0.007*\"government\" + 0.007*\"days\" + 0.007*\"area\" + 0.007*\"radio\" + 0.006*\"fire\" + 0.006*\"troops\" + 0.006*\"years\"\n",
      "2017-11-20 12:03:30,211 : INFO : topic diff=1.255664, rho=0.577350\n",
      "2017-11-20 12:03:30,435 : DEBUG : bound: at document #0\n",
      "2017-11-20 12:03:31,142 : INFO : -8.066 per-word bound, 267.9 perplexity estimate based on a held-out corpus of 300 documents with 18861 words\n",
      "2017-11-20 12:03:31,142 : INFO : PROGRESS: pass 2, at document #300/300\n",
      "2017-11-20 12:03:31,143 : DEBUG : performing inference on a chunk of 300 documents\n",
      "2017-11-20 12:03:31,435 : DEBUG : 300/300 documents converged within 200 iterations\n",
      "2017-11-20 12:03:31,440 : INFO : optimized alpha [0.031305673909874411, 0.029780310808603116, 0.031867014360123701, 0.032346045021407248, 0.031759296995459027, 0.032248613188730998, 0.031571025477054766, 0.03134439227955866, 0.029167650154567213, 0.03003041405582714, 0.034423261994058152, 0.032366628101939465, 0.03148181951940205, 0.029417445013801183, 0.028924777374782863, 0.031987308268367091, 0.034738227126967648, 0.031920949300846442, 0.029176598394562474, 0.029972839783486877, 0.03214422866905757, 0.030986090118835862, 0.033126868412090449, 0.030528273929370308]\n",
      "2017-11-20 12:03:31,442 : DEBUG : updating topics\n",
      "2017-11-20 12:03:31,754 : INFO : topic #14 (0.029): 0.016*\"fires\" + 0.012*\"economy\" + 0.010*\"australia\" + 0.009*\"lines\" + 0.007*\"state\" + 0.007*\"service\" + 0.007*\"sydney\" + 0.007*\"fire\" + 0.007*\"weather\" + 0.007*\"north\"\n",
      "2017-11-20 12:03:31,758 : INFO : topic #8 (0.029): 0.016*\"india\" + 0.015*\"australia\" + 0.012*\"reid\" + 0.012*\"minister\" + 0.010*\"britain\" + 0.009*\"police\" + 0.009*\"afroz\" + 0.006*\"afghanistan\" + 0.006*\"parliament\" + 0.006*\"sergeant\"\n",
      "2017-11-20 12:03:31,763 : INFO : topic #22 (0.033): 0.014*\"australia\" + 0.013*\"action\" + 0.009*\"dispute\" + 0.009*\"workers\" + 0.008*\"unions\" + 0.007*\"qantas\" + 0.006*\"man\" + 0.006*\"today\" + 0.006*\"pay\" + 0.006*\"match\"\n",
      "2017-11-20 12:03:31,764 : INFO : topic #10 (0.034): 0.027*\"arafat\" + 0.020*\"israeli\" + 0.018*\"israel\" + 0.015*\"hamas\" + 0.012*\"west_bank\" + 0.011*\"security\" + 0.009*\"people\" + 0.008*\"official\" + 0.007*\"police\" + 0.007*\"sharon\"\n",
      "2017-11-20 12:03:31,766 : INFO : topic #16 (0.035): 0.011*\"test\" + 0.009*\"afghanistan\" + 0.009*\"afghan\" + 0.008*\"government\" + 0.007*\"days\" + 0.007*\"area\" + 0.007*\"radio\" + 0.006*\"fire\" + 0.006*\"troops\" + 0.006*\"years\"\n",
      "2017-11-20 12:03:31,768 : INFO : topic diff=0.637775, rho=0.500000\n",
      "2017-11-20 12:03:32,039 : DEBUG : bound: at document #0\n",
      "2017-11-20 12:03:32,736 : INFO : -7.935 per-word bound, 244.8 perplexity estimate based on a held-out corpus of 300 documents with 18861 words\n",
      "2017-11-20 12:03:32,736 : INFO : PROGRESS: pass 3, at document #300/300\n",
      "2017-11-20 12:03:32,739 : DEBUG : performing inference on a chunk of 300 documents\n",
      "2017-11-20 12:03:32,992 : DEBUG : 300/300 documents converged within 200 iterations\n",
      "2017-11-20 12:03:32,996 : INFO : optimized alpha [0.029668691974392578, 0.028075838512637178, 0.030369585013217175, 0.03094839658695275, 0.030327314215500171, 0.030810779367671182, 0.029999334759229616, 0.029745665342294128, 0.027440576144053517, 0.028394302377097811, 0.033593824603680662, 0.030922312965833254, 0.029927535540579357, 0.027708530334428452, 0.027131222885742309, 0.030479056704129124, 0.033599136386743056, 0.030368411016828384, 0.027446542382456963, 0.028390764873745294, 0.030934589328822079, 0.029484266282672859, 0.031809362954328485, 0.028984447296549254]\n",
      "2017-11-20 12:03:32,996 : DEBUG : updating topics\n",
      "2017-11-20 12:03:33,251 : INFO : topic #14 (0.027): 0.016*\"fires\" + 0.011*\"economy\" + 0.009*\"australia\" + 0.009*\"lines\" + 0.007*\"state\" + 0.007*\"fire\" + 0.007*\"sydney\" + 0.007*\"service\" + 0.007*\"areas\" + 0.007*\"north\"\n",
      "2017-11-20 12:03:33,252 : INFO : topic #8 (0.027): 0.017*\"india\" + 0.016*\"australia\" + 0.012*\"minister\" + 0.011*\"reid\" + 0.010*\"britain\" + 0.009*\"police\" + 0.009*\"afroz\" + 0.007*\"parliament\" + 0.006*\"afghanistan\" + 0.006*\"home\"\n"
     ]
    },
    {
     "name": "stderr",
     "output_type": "stream",
     "text": [
      "2017-11-20 12:03:33,254 : INFO : topic #22 (0.032): 0.014*\"australia\" + 0.013*\"action\" + 0.009*\"dispute\" + 0.009*\"workers\" + 0.008*\"unions\" + 0.007*\"pay\" + 0.007*\"union\" + 0.006*\"today\" + 0.006*\"man\" + 0.006*\"qantas\"\n",
      "2017-11-20 12:03:33,257 : INFO : topic #10 (0.034): 0.030*\"arafat\" + 0.022*\"israeli\" + 0.019*\"israel\" + 0.016*\"hamas\" + 0.013*\"west_bank\" + 0.012*\"security\" + 0.009*\"people\" + 0.008*\"police\" + 0.008*\"militants\" + 0.008*\"official\"\n",
      "2017-11-20 12:03:33,259 : INFO : topic #16 (0.034): 0.011*\"test\" + 0.010*\"afghanistan\" + 0.009*\"afghan\" + 0.008*\"government\" + 0.007*\"days\" + 0.007*\"area\" + 0.006*\"radio\" + 0.006*\"fire\" + 0.006*\"troops\" + 0.006*\"years\"\n",
      "2017-11-20 12:03:33,260 : INFO : topic diff=0.474565, rho=0.447214\n",
      "2017-11-20 12:03:33,513 : DEBUG : bound: at document #0\n",
      "2017-11-20 12:03:34,202 : INFO : -7.849 per-word bound, 230.6 perplexity estimate based on a held-out corpus of 300 documents with 18861 words\n",
      "2017-11-20 12:03:34,203 : INFO : PROGRESS: pass 4, at document #300/300\n",
      "2017-11-20 12:03:34,204 : DEBUG : performing inference on a chunk of 300 documents\n",
      "2017-11-20 12:03:34,450 : DEBUG : 300/300 documents converged within 200 iterations\n",
      "2017-11-20 12:03:34,454 : INFO : optimized alpha [0.028279161885527818, 0.026681657921038091, 0.0292131200966988, 0.029828396672117556, 0.02913497264619427, 0.029527131070249991, 0.028703548949626616, 0.028427634808859906, 0.026031473172768705, 0.027092112616955818, 0.032969540486675337, 0.029719696310728259, 0.028642166915451194, 0.026312107292349909, 0.025672917261150088, 0.029228471004545526, 0.032630748926110738, 0.029128516138216314, 0.026034507336651379, 0.02708848125746911, 0.029961087390755738, 0.028241161177964862, 0.030748553736631146, 0.027710860724519039]\n",
      "2017-11-20 12:03:34,455 : DEBUG : updating topics\n",
      "2017-11-20 12:03:34,708 : INFO : topic #14 (0.026): 0.015*\"fires\" + 0.011*\"economy\" + 0.009*\"australia\" + 0.009*\"lines\" + 0.007*\"redmond\" + 0.007*\"state\" + 0.007*\"fire\" + 0.007*\"sydney\" + 0.007*\"areas\" + 0.007*\"service\"\n",
      "2017-11-20 12:03:34,709 : INFO : topic #18 (0.026): 0.013*\"farmers\" + 0.012*\"hih\" + 0.011*\"club\" + 0.009*\"commission\" + 0.009*\"members\" + 0.009*\"gutnick\" + 0.009*\"ticket\" + 0.009*\"truss\" + 0.009*\"boat\" + 0.007*\"melbourne\"\n",
      "2017-11-20 12:03:34,713 : INFO : topic #22 (0.031): 0.014*\"australia\" + 0.014*\"action\" + 0.009*\"dispute\" + 0.009*\"workers\" + 0.008*\"unions\" + 0.007*\"pay\" + 0.007*\"union\" + 0.007*\"today\" + 0.007*\"man\" + 0.006*\"qantas\"\n",
      "2017-11-20 12:03:34,715 : INFO : topic #16 (0.033): 0.012*\"test\" + 0.010*\"afghanistan\" + 0.009*\"afghan\" + 0.008*\"government\" + 0.007*\"days\" + 0.006*\"fire\" + 0.006*\"radio\" + 0.006*\"area\" + 0.006*\"troops\" + 0.006*\"force\"\n",
      "2017-11-20 12:03:34,718 : INFO : topic #10 (0.033): 0.032*\"arafat\" + 0.022*\"israeli\" + 0.019*\"israel\" + 0.016*\"hamas\" + 0.014*\"west_bank\" + 0.013*\"security\" + 0.009*\"police\" + 0.009*\"militants\" + 0.009*\"people\" + 0.009*\"sharon\"\n",
      "2017-11-20 12:03:34,720 : INFO : topic diff=0.365564, rho=0.408248\n",
      "2017-11-20 12:03:34,850 : DEBUG : Setting topics to those of the model: LdaModel(num_terms=4431, num_topics=24, decay=0.5, chunksize=300)\n",
      "2017-11-20 12:03:34,852 : INFO : using ParallelWordOccurrenceAccumulator(processes=3, batch_size=64) to estimate probabilities from sliding windows\n",
      "2017-11-20 12:03:34,953 : DEBUG : completed batch 0; 64 documents processed (92 virtual)\n",
      "2017-11-20 12:03:34,976 : DEBUG : completed batch 0; 64 documents processed (258 virtual)\n",
      "2017-11-20 12:03:34,999 : DEBUG : completed batch 0; 64 documents processed (305 virtual)\n",
      "2017-11-20 12:03:35,051 : DEBUG : observed sentinel value; terminating\n",
      "2017-11-20 12:03:35,067 : DEBUG : finished all batches; 64 documents processed (305 virtual)\n",
      "2017-11-20 12:03:35,071 : DEBUG : completed batch 1; 128 documents processed (332 virtual)\n",
      "2017-11-20 12:03:35,073 : DEBUG : observed sentinel value; terminating\n",
      "2017-11-20 12:03:35,078 : INFO : serializing accumulator to return to master...\n",
      "2017-11-20 12:03:35,077 : DEBUG : finished all batches; 128 documents processed (332 virtual)\n",
      "2017-11-20 12:03:35,079 : INFO : serializing accumulator to return to master...\n",
      "2017-11-20 12:03:35,079 : INFO : accumulator serialized\n",
      "2017-11-20 12:03:35,093 : DEBUG : completed batch 1; 108 documents processed (485 virtual)\n",
      "2017-11-20 12:03:35,096 : DEBUG : observed sentinel value; terminating\n",
      "2017-11-20 12:03:35,098 : DEBUG : finished all batches; 108 documents processed (485 virtual)\n",
      "2017-11-20 12:03:35,082 : INFO : accumulator serialized\n",
      "2017-11-20 12:03:35,108 : INFO : serializing accumulator to return to master...\n",
      "2017-11-20 12:03:35,114 : INFO : accumulator serialized\n",
      "2017-11-20 12:03:35,156 : INFO : 3 accumulators retrieved from output queue\n",
      "2017-11-20 12:03:35,183 : INFO : accumulated word occurrence stats for 1122 virtual documents\n",
      "2017-11-20 12:03:36,222 : INFO : using autotuned alpha, starting with [0.040000000000000001, 0.040000000000000001, 0.040000000000000001, 0.040000000000000001, 0.040000000000000001, 0.040000000000000001, 0.040000000000000001, 0.040000000000000001, 0.040000000000000001, 0.040000000000000001, 0.040000000000000001, 0.040000000000000001, 0.040000000000000001, 0.040000000000000001, 0.040000000000000001, 0.040000000000000001, 0.040000000000000001, 0.040000000000000001, 0.040000000000000001, 0.040000000000000001, 0.040000000000000001, 0.040000000000000001, 0.040000000000000001, 0.040000000000000001, 0.040000000000000001]\n",
      "2017-11-20 12:03:36,223 : INFO : using serial LDA version on this node\n",
      "2017-11-20 12:03:37,476 : INFO : running online (multi-pass) LDA training, 25 topics, 5 passes over the supplied corpus of 300 documents, updating model once every 300 documents, evaluating perplexity every 300 documents, iterating 200x with a convergence threshold of 0.001000\n",
      "2017-11-20 12:03:37,477 : WARNING : too few updates, training might not converge; consider increasing the number of passes or iterations to improve accuracy\n",
      "2017-11-20 12:03:38,925 : DEBUG : bound: at document #0\n"
     ]
    }
   ],
   "source": [
    "%%time\n",
    "best_model_full, lm_full, c_v_full = get_best_model_by_topics(dictionary=dictionary, corpus=corpus, texts=train_texts, starting=1, limit=31, step=1)\n",
    "print(best_model_full.show_topics(formatted=True))"
   ]
  },
  {
   "cell_type": "markdown",
   "metadata": {},
   "source": [
    "### Inference\n",
    "We can clearly see below that the first topic is about __cinema__, second is about __email malware__, third is about the land which was given back to the __Larrakia aboriginal community of Australia__ in 2000. Then there's one about __Australian cricket__. LDA as LSI has worked wonderfully in finding out the best topics from within LDA."
   ]
  },
  {
   "cell_type": "code",
   "execution_count": 78,
   "metadata": {
    "nbpresent": {
     "id": "281d1434-ce22-46c6-ba53-71a24a476568"
    }
   },
   "outputs": [
    {
     "name": "stdout",
     "output_type": "stream",
     "text": [
      "[[(u'actor', 0.034688196735986693),\n",
      "  (u'picture', 0.023163878883499418),\n",
      "  (u'award', 0.023163878883499418),\n",
      "  (u'comedy', 0.023163878883499418),\n",
      "  (u'globe', 0.023163878883499418),\n",
      "  (u'nomination', 0.023163878883499418),\n",
      "  (u'actress', 0.023163878883499418),\n",
      "  (u'film', 0.023163878883499418),\n",
      "  (u'drama', 0.011639561031012149),\n",
      "  (u'winner', 0.011639561031012149)],\n",
      " [(u'virus', 0.064292949289013482),\n",
      "  (u'user', 0.048074573973209883),\n",
      "  (u'computer', 0.040350900997751814),\n",
      "  (u'company', 0.028173623478117912),\n",
      "  (u'email', 0.022580226976870982),\n",
      "  (u'worm', 0.020928236506996975),\n",
      "  (u'attachment', 0.014534311779706417),\n",
      "  (u'outlook', 0.01260706654637953),\n",
      "  (u'software', 0.011909411409069969),\n",
      "  (u'list', 0.0088116041533348403)],\n",
      " [(u'claim', 0.0096511365969504694),\n",
      "  (u'agreement', 0.0082836950379963047),\n",
      "  (u'hectare', 0.0077564979304569235),\n",
      "  (u'larrakia', 0.0065928813973845394),\n",
      "  (u'rosebury', 0.006086042494624749),\n",
      "  (u'term', 0.004880655853124416),\n",
      "  (u'region', 0.004786636929111303),\n",
      "  (u'title', 0.0045026307214029735),\n",
      "  (u'palmerston', 0.0043726827115423677),\n",
      "  (u'developer', 0.0040102561358092521)],\n",
      " [(u'government', 0.046880132726190141),\n",
      "  (u'razor', 0.035772624674521684),\n",
      "  (u'gang', 0.034958865711441162),\n",
      "  (u'minister', 0.023615858300345904),\n",
      "  (u'interest', 0.023531518290467797),\n",
      "  (u'taxpayer', 0.023484887279677492),\n",
      "  (u'nelson', 0.023408331025582648),\n",
      "  (u'spending', 0.023363131530296326),\n",
      "  (u'program', 0.022809499664362586),\n",
      "  (u'colleague', 0.012039863390851384)],\n",
      " [(u'australia', 0.019022701887671096),\n",
      "  (u'outlook', 0.012806577991883974),\n",
      "  (u'price', 0.012017645637892888),\n",
      "  (u'growth', 0.011021360611214826),\n",
      "  (u'world', 0.010586500333515535),\n",
      "  (u'imf', 0.0074848683800558145),\n",
      "  (u'half', 0.0073080219523406773),\n",
      "  (u'release', 0.0073069514968024446),\n",
      "  (u'oil', 0.0071307771829650724),\n",
      "  (u'weakening', 0.0067585126681211785)],\n",
      " [(u'role', 0.036823234375415084),\n",
      "  (u'heart', 0.018676496748175567),\n",
      "  (u'mcreddie', 0.018520830095514161),\n",
      "  (u'sir', 0.018430691138823303),\n",
      "  (u'actor', 0.018423768093119148),\n",
      "  (u'attack', 0.018421603513127272),\n",
      "  (u'minister', 0.018330977218667187),\n",
      "  (u'cancer', 0.018246768643902407),\n",
      "  (u'servant', 0.018246520413261125),\n",
      "  (u'friend', 0.018230140539399531)],\n",
      " [(u'australia', 0.038230610979973961),\n",
      "  (u'test', 0.03039802044037989),\n",
      "  (u'day', 0.026478028361575149),\n",
      "  (u'adam', 0.023237227270639361),\n",
      "  (u'wicket', 0.018060239149805601),\n",
      "  (u'match', 0.015652900511647725),\n",
      "  (u'gilchrist', 0.015206348827236857),\n",
      "  (u'steve_waugh', 0.01496754571623464),\n",
      "  (u'south_africa', 0.013902623982144873),\n",
      "  (u'selector', 0.012332915474867073)],\n",
      " [(u'product', 0.067729999063555119),\n",
      "  (u'food', 0.033921347284742248),\n",
      "  (u'consumer', 0.033921347284742241),\n",
      "  (u'company', 0.033921347284742241),\n",
      "  (u'hooke', 0.022651796691804622),\n",
      "  (u'law', 0.022651796691804622),\n",
      "  (u'grocery', 0.022651796691804622),\n",
      "  (u'technology', 0.022651796691804622),\n",
      "  (u'sultan', 0.014079780537934588),\n",
      "  (u'stage', 0.013736597864617922)],\n",
      " [(u'credit', 0.020223411999648302),\n",
      "  (u'way', 0.017706515460000523),\n",
      "  (u'bank', 0.017459639386736926),\n",
      "  (u'card', 0.016308335204832106),\n",
      "  (u'consumer', 0.014565787979687885),\n",
      "  (u'reserve_bank', 0.014365008462949415),\n",
      "  (u'association', 0.011448453247788988),\n",
      "  (u'rate', 0.010363334709658676),\n",
      "  (u'movement', 0.010204675471073506),\n",
      "  (u'inquiry', 0.0093452022355641085)],\n",
      " [(u'fire', 0.045611922604745642),\n",
      "  (u'area', 0.021994719721821848),\n",
      "  (u'firefighter', 0.018748173264525044),\n",
      "  (u'sydney', 0.016599279291396325),\n",
      "  (u'wind', 0.014270025525472343),\n",
      "  (u'property', 0.0098028785236429564),\n",
      "  (u'hour', 0.0097079779464512347),\n",
      "  (u'today', 0.0093953004964965076),\n",
      "  (u'year', 0.0089216764257795157),\n",
      "  (u'state', 0.0086116373269496185)]]\n"
     ]
    }
   ],
   "source": [
    "pprint([lm.show_topic(topicid) for topicid, c_v in top_topics[:10]])"
   ]
  },
  {
   "cell_type": "code",
   "execution_count": 98,
   "metadata": {
    "collapsed": true,
    "nbpresent": {
     "id": "ada914a2-bacb-4300-8ce3-f1332843d24c"
    }
   },
   "outputs": [],
   "source": [
    "lda_lsi_topics = [[word for word, prob in lm.show_topic(topicid)] for topicid, c_v in top_topics]"
   ]
  },
  {
   "cell_type": "markdown",
   "metadata": {
    "nbpresent": {
     "id": "4f313370-b5f0-4754-9744-157da0447fc4"
    }
   },
   "source": [
    "### Evaluating all the topic models\n",
    "Any topic model which can come up with topic terms can be plugged into the coherence pipeline. You can even plug in an [NMF topic model](http://derekgreene.com/nmf-topic/) created with scikit-learn."
   ]
  },
  {
   "cell_type": "code",
   "execution_count": 99,
   "metadata": {
    "collapsed": true,
    "nbpresent": {
     "id": "4329af31-21b4-4570-903a-6df3715244c7"
    }
   },
   "outputs": [],
   "source": [
    "lsitopics = [[word for word, prob in topic] for topicid, topic in lsitopics]\n",
    "\n",
    "hdptopics = [[word for word, prob in topic] for topicid, topic in hdptopics]\n",
    "\n",
    "ldatopics = [[word for word, prob in topic] for topicid, topic in ldatopics]\n",
    "\n",
    "lmtopics = [[word for word, prob in topic] for topicid, topic in lmtopics]"
   ]
  },
  {
   "cell_type": "code",
   "execution_count": 100,
   "metadata": {
    "collapsed": true,
    "nbpresent": {
     "id": "0924faf0-a957-4d12-b35c-b50ebb30f370"
    }
   },
   "outputs": [],
   "source": [
    "lsi_coherence = CoherenceModel(topics=lsitopics[:10], texts=train_texts, dictionary=dictionary, window_size=10).get_coherence()\n",
    "\n",
    "hdp_coherence = CoherenceModel(topics=hdptopics[:10], texts=train_texts, dictionary=dictionary, window_size=10).get_coherence()\n",
    "\n",
    "lda_coherence = CoherenceModel(topics=ldatopics, texts=train_texts, dictionary=dictionary, window_size=10).get_coherence()\n",
    "\n",
    "lm_coherence = CoherenceModel(topics=lmtopics, texts=train_texts, dictionary=dictionary, window_size=10).get_coherence()\n",
    "\n",
    "lda_lsi_coherence = CoherenceModel(topics=lda_lsi_topics[:10], texts=train_texts, dictionary=dictionary, window_size=10).get_coherence()"
   ]
  },
  {
   "cell_type": "code",
   "execution_count": 101,
   "metadata": {
    "collapsed": true,
    "nbpresent": {
     "id": "59cc671f-041a-4d6f-a609-f1b9855aa05c"
    }
   },
   "outputs": [],
   "source": [
    "def evaluate_bar_graph(coherences, indices):\n",
    "    \"\"\"\n",
    "    Function to plot bar graph.\n",
    "    \n",
    "    coherences: list of coherence values\n",
    "    indices: Indices to be used to mark bars. Length of this and coherences should be equal.\n",
    "    \"\"\"\n",
    "    assert len(coherences) == len(indices)\n",
    "    n = len(coherences)\n",
    "    x = np.arange(n)\n",
    "    plt.bar(x, coherences, width=0.2, tick_label=indices, align='center')\n",
    "    plt.xlabel('Models')\n",
    "    plt.ylabel('Coherence Value')"
   ]
  },
  {
   "cell_type": "code",
   "execution_count": 102,
   "metadata": {
    "nbpresent": {
     "id": "b86ba0c1-c7c4-43a5-a9f5-8dfe7967be6c"
    }
   },
   "outputs": [
    {
     "data": {
      "image/png": "[encoded data removed]",
      "text/plain": [
       "<matplotlib.figure.Figure at 0x7f0ce8179250>"
      ]
     },
     "metadata": {},
     "output_type": "display_data"
    }
   ],
   "source": [
    "evaluate_bar_graph([lsi_coherence, hdp_coherence, lda_coherence, lm_coherence, lda_lsi_coherence],\n",
    "                   ['LSI', 'HDP', 'LDA', 'LDA_Mod', 'LDA_LSI'])"
   ]
  },
  {
   "cell_type": "markdown",
   "metadata": {
    "nbpresent": {
     "id": "df6cc31a-0b01-4700-b210-836dd510007a"
    }
   },
   "source": [
    "### Customizing the topic coherence measure\n",
    "Till now we only used the `c_v` coherence measure. There are others such as `u_mass`, `c_uci`, `c_npmi`. All of these calculate coherence in a different way. `c_v` is found to be most in line with human ratings but can be much slower than `u_mass` since it uses a sliding window over the texts."
   ]
  },
  {
   "cell_type": "markdown",
   "metadata": {
    "nbpresent": {
     "id": "664fa23d-ba6e-4a30-9287-e4fef1cc093e"
    }
   },
   "source": [
    "### Making your own coherence measure\n",
    "Let's modify `c_uci` to use `s_one_pre` instead of `s_one_one` segmentation"
   ]
  },
  {
   "cell_type": "code",
   "execution_count": 47,
   "metadata": {
    "collapsed": true,
    "nbpresent": {
     "id": "b3652f43-da03-4027-9170-83e1679dfa2b"
    }
   },
   "outputs": [],
   "source": [
    "from gensim.topic_coherence import (segmentation, probability_estimation,\n",
    "                                    direct_confirmation_measure, indirect_confirmation_measure,\n",
    "                                    aggregation)\n",
    "from gensim.matutils import argsort\n",
    "from collections import namedtuple"
   ]
  },
  {
   "cell_type": "code",
   "execution_count": 48,
   "metadata": {
    "collapsed": true,
    "nbpresent": {
     "id": "8ce2b802-f0c1-4ffc-9ce5-c2792856b5b4"
    }
   },
   "outputs": [],
   "source": [
    "make_pipeline = namedtuple('Coherence_Measure', 'seg, prob, conf, aggr')"
   ]
  },
  {
   "cell_type": "code",
   "execution_count": 49,
   "metadata": {
    "collapsed": true,
    "nbpresent": {
     "id": "9994e7f0-f366-40da-9c14-76e8142ee46e"
    }
   },
   "outputs": [],
   "source": [
    "measure = make_pipeline(segmentation.s_one_one,\n",
    "                        probability_estimation.p_boolean_sliding_window,\n",
    "                        direct_confirmation_measure.log_ratio_measure,\n",
    "                        aggregation.arithmetic_mean)"
   ]
  },
  {
   "cell_type": "markdown",
   "metadata": {
    "nbpresent": {
     "id": "416f5820-1538-4483-a77f-5211c8179891"
    }
   },
   "source": [
    "To get topics out of the topic model:"
   ]
  },
  {
   "cell_type": "code",
   "execution_count": 50,
   "metadata": {
    "collapsed": true,
    "nbpresent": {
     "id": "aa9d35ae-c458-49d2-bdbe-d93d5cb3ba9c"
    }
   },
   "outputs": [],
   "source": [
    "topics = []\n",
    "for topic in lm.state.get_lambda():\n",
    "    bestn = argsort(topic, topn=10, reverse=True)\n",
    "topics.append(bestn)"
   ]
  },
  {
   "cell_type": "markdown",
   "metadata": {
    "nbpresent": {
     "id": "13f246a0-918e-44c1-ae19-7af118d83585"
    }
   },
   "source": [
    "__Step 1__: Segmentation"
   ]
  },
  {
   "cell_type": "code",
   "execution_count": 51,
   "metadata": {
    "collapsed": true,
    "nbpresent": {
     "id": "821ab68b-c377-40b1-bdf3-b92d66414383"
    }
   },
   "outputs": [],
   "source": [
    "# Perform segmentation\n",
    "segmented_topics = measure.seg(topics)"
   ]
  },
  {
   "cell_type": "markdown",
   "metadata": {
    "nbpresent": {
     "id": "e4b50714-b644-4213-b3cb-bdac9fe22476"
    }
   },
   "source": [
    "__Step 2__: Probability estimation"
   ]
  },
  {
   "cell_type": "code",
   "execution_count": 52,
   "metadata": {
    "collapsed": true,
    "nbpresent": {
     "id": "d8a8bcc6-8b37-4d4f-ad06-903804776078"
    }
   },
   "outputs": [],
   "source": [
    "# Since this is a window-based coherence measure we will perform window based prob estimation\n",
    "per_topic_postings, num_windows = measure.prob(texts=train_texts, segmented_topics=segmented_topics,\n",
    "                                               dictionary=dictionary, window_size=2)"
   ]
  },
  {
   "cell_type": "markdown",
   "metadata": {
    "nbpresent": {
     "id": "6f302dcb-787b-42b0-98f0-1df0a163a818"
    }
   },
   "source": [
    "__Step 3__: Confirmation Measure"
   ]
  },
  {
   "cell_type": "code",
   "execution_count": 53,
   "metadata": {
    "collapsed": true,
    "nbpresent": {
     "id": "ffb5aaa9-5fa1-4b28-ba2f-e23525caa392"
    }
   },
   "outputs": [],
   "source": [
    "confirmed_measures = measure.conf(segmented_topics, per_topic_postings, num_windows, normalize=False)"
   ]
  },
  {
   "cell_type": "markdown",
   "metadata": {
    "nbpresent": {
     "id": "3544f061-6870-4630-bd54-79f75decf8b6"
    }
   },
   "source": [
    "__Step 4__: Aggregation"
   ]
  },
  {
   "cell_type": "code",
   "execution_count": 54,
   "metadata": {
    "nbpresent": {
     "id": "31c64f41-a499-4f80-8ccd-1364940f7383"
    }
   },
   "outputs": [
    {
     "name": "stdout",
     "output_type": "stream",
     "text": [
      "-11.2873225334\n"
     ]
    }
   ],
   "source": [
    "print(measure.aggr(confirmed_measures))"
   ]
  },
  {
   "cell_type": "markdown",
   "metadata": {},
   "source": [
    "# How this topic model can be used further\n",
    "The best topic model here can be used as a standalone for news article classification. However a topic model can also be used as a dimensionality reduction algorithm to feed into a classifier. A good topic model should be able to extract the signal from the noise efficiently, hence improving the performance of the classifier."
   ]
  }
 ],
 "metadata": {
  "anaconda-cloud": {},
  "kernelspec": {
   "display_name": "Python 3",
   "language": "python",
   "name": "python3"
  },
  "language_info": {
   "codemirror_mode": {
    "name": "ipython",
    "version": 3
   },
   "file_extension": ".py",
   "mimetype": "text/x-python",
   "name": "python",
   "nbconvert_exporter": "python",
   "pygments_lexer": "ipython3",
   "version": "3.6.2"
  },
  "nbpresent": {
   "slides": {
    "04abaf09-1754-419e-9cf8-3c4f0accfc5f": {
     "id": "04abaf09-1754-419e-9cf8-3c4f0accfc5f",
     "prev": "67c9421a-0e61-4346-873f-bf3769d00c97",
     "regions": {
      "48b5cd39-b89b-4e2f-be2a-47a0fccafd3b": {
       "attrs": {
        "height": 0.8,
        "width": 0.8,
        "x": 0.1,
        "y": 0.1
       },
       "content": {
        "cell": "862c087b-b918-47b9-b0cf-42b71996e061",
        "part": "whole"
       },
       "id": "48b5cd39-b89b-4e2f-be2a-47a0fccafd3b"
      }
     }
    },
    "0527f44a-39b6-4cf8-9802-d16b8cd34754": {
     "id": "0527f44a-39b6-4cf8-9802-d16b8cd34754",
     "prev": "103c32ed-02bc-4365-a431-5acd77fe6585",
     "regions": {
      "ed3805ae-4076-41ad-a578-69a0b2356f95": {
       "attrs": {
        "height": 0.8,
        "width": 0.8,
        "x": 0.1,
        "y": 0.1
       },
       "content": {
        "cell": "b3652f43-da03-4027-9170-83e1679dfa2b",
        "part": "whole"
       },
       "id": "ed3805ae-4076-41ad-a578-69a0b2356f95"
      }
     }
    },
    "05fa6235-ac93-41b7-9975-3fee534b0c94": {
     "id": "05fa6235-ac93-41b7-9975-3fee534b0c94",
     "prev": "e44d6d8f-7236-458f-a308-36142bc72ff4",
     "regions": {
      "3e316a57-509e-404e-a89b-bde56696b966": {
       "attrs": {
        "height": 0.8,
        "width": 0.8,
        "x": 0.1,
        "y": 0.1
       },
       "content": {
        "cell": "c39406c8-1e69-4249-91ac-894338d4053b",
        "part": "whole"
       },
       "id": "3e316a57-509e-404e-a89b-bde56696b966"
      }
     }
    },
    "0e2565e0-a21d-4dbb-a4b3-8698e797c45d": {
     "id": "0e2565e0-a21d-4dbb-a4b3-8698e797c45d",
     "prev": "11baa747-dc0e-430a-8f38-65331394d2fd",
     "regions": {
      "2e423579-bece-40ca-ba30-122f49d93655": {
       "attrs": {
        "height": 0.8,
        "width": 0.8,
        "x": 0.1,
        "y": 0.1
       },
       "content": {
        "cell": "e4b50714-b644-4213-b3cb-bdac9fe22476",
        "part": "whole"
       },
       "id": "2e423579-bece-40ca-ba30-122f49d93655"
      }
     }
    },
    "103c32ed-02bc-4365-a431-5acd77fe6585": {
     "id": "103c32ed-02bc-4365-a431-5acd77fe6585",
     "prev": "23b717ee-a57c-42c5-9959-c8a314a329c6",
     "regions": {
      "aa966e74-db8d-473a-9ee6-8cad8e7407f3": {
       "attrs": {
        "height": 0.8,
        "width": 0.8,
        "x": 0.1,
        "y": 0.1
       },
       "content": {
        "cell": "664fa23d-ba6e-4a30-9287-e4fef1cc093e",
        "part": "whole"
       },
       "id": "aa966e74-db8d-473a-9ee6-8cad8e7407f3"
      }
     }
    },
    "10763d44-d64e-46c7-a164-8b92d219e71d": {
     "id": "10763d44-d64e-46c7-a164-8b92d219e71d",
     "prev": "d84b78ed-e79f-4657-b62b-eeff30c4fe8d",
     "regions": {
      "a27ddbe9-cfa8-49fe-b284-3567ebbfb1c7": {
       "attrs": {
        "height": 0.8,
        "width": 0.8,
        "x": 0.1,
        "y": 0.1
       },
       "content": {
        "cell": "43870992-c2ff-47cf-8b6b-f62855673b42",
        "part": "whole"
       },
       "id": "a27ddbe9-cfa8-49fe-b284-3567ebbfb1c7"
      }
     }
    },
    "11baa747-dc0e-430a-8f38-65331394d2fd": {
     "id": "11baa747-dc0e-430a-8f38-65331394d2fd",
     "prev": "a2c51720-8844-4953-94a8-55d723ec2499",
     "regions": {
      "6d7e8f18-6703-4c31-8353-4a714df2d33f": {
       "attrs": {
        "height": 0.8,
        "width": 0.8,
        "x": 0.1,
        "y": 0.1
       },
       "content": {
        "cell": "821ab68b-c377-40b1-bdf3-b92d66414383",
        "part": "whole"
       },
       "id": "6d7e8f18-6703-4c31-8353-4a714df2d33f"
      }
     }
    },
    "12513a0d-3e80-464d-9285-3bdd87e0b9c0": {
     "id": "12513a0d-3e80-464d-9285-3bdd87e0b9c0",
     "prev": "e71a7d3a-c9bb-4db0-9597-95b9b3233d3b",
     "regions": {
      "5fb06a62-1d61-417a-9c02-3fa7fa00fee1": {
       "attrs": {
        "height": 0.8,
        "width": 0.8,
        "x": 0.1,
        "y": 0.1
       },
       "content": {
        "cell": "416f5820-1538-4483-a77f-5211c8179891",
        "part": "whole"
       },
       "id": "5fb06a62-1d61-417a-9c02-3fa7fa00fee1"
      }
     }
    },
    "13c7e576-8024-4b19-8874-d65c24a9ee0f": {
     "id": "13c7e576-8024-4b19-8874-d65c24a9ee0f",
     "prev": "b6050bf2-3f03-47ef-9510-80c01755a79e",
     "regions": {
      "45c58bb7-75a4-4434-b5fa-59f7ad56e7d6": {
       "attrs": {
        "height": 0.8,
        "width": 0.8,
        "x": 0.1,
        "y": 0.1
       },
       "content": {
        "cell": "2c5b03e0-ce0f-4999-8fe1-820a9fe06873",
        "part": "whole"
       },
       "id": "45c58bb7-75a4-4434-b5fa-59f7ad56e7d6"
      }
     }
    },
    "23b717ee-a57c-42c5-9959-c8a314a329c6": {
     "id": "23b717ee-a57c-42c5-9959-c8a314a329c6",
     "prev": "4033c3a0-0021-4cbc-a589-50c63550217b",
     "regions": {
      "ca7e045e-962d-47e3-a594-eafdf7424671": {
       "attrs": {
        "height": 0.8,
        "width": 0.8,
        "x": 0.1,
        "y": 0.1
       },
       "content": {
        "cell": "df6cc31a-0b01-4700-b210-836dd510007a",
        "part": "whole"
       },
       "id": "ca7e045e-962d-47e3-a594-eafdf7424671"
      }
     }
    },
    "257bf09e-bd55-4957-97ea-4d3c8b85016a": {
     "id": "257bf09e-bd55-4957-97ea-4d3c8b85016a",
     "prev": null,
     "regions": {
      "cf220469-7ef0-4fb9-80b4-cbdb55aa86db": {
       "attrs": {
        "height": 0.8,
        "width": 0.8,
        "x": 0.1,
        "y": 0.1
       },
       "content": {
        "cell": "e0085648-0300-4087-9b12-ee7d2392ce4f",
        "part": "whole"
       },
       "id": "cf220469-7ef0-4fb9-80b4-cbdb55aa86db"
      }
     }
    },
    "280f0473-61ec-4b88-b9d4-172e734fd0a5": {
     "id": "280f0473-61ec-4b88-b9d4-172e734fd0a5",
     "prev": "d7495fd8-cfb5-42ee-a0eb-86679c419bae",
     "regions": {
      "c58169da-ccea-4657-95a3-fc1e5fba3ac3": {
       "attrs": {
        "height": 0.8,
        "width": 0.8,
        "x": 0.1,
        "y": 0.1
       },
       "content": {
        "cell": "f4d505e5-5e90-4770-aaae-04ae05d697b5",
        "part": "whole"
       },
       "id": "c58169da-ccea-4657-95a3-fc1e5fba3ac3"
      }
     }
    },
    "2e4a9702-f7a2-48a5-bd13-2087e9216b38": {
     "id": "2e4a9702-f7a2-48a5-bd13-2087e9216b38",
     "prev": "04abaf09-1754-419e-9cf8-3c4f0accfc5f",
     "regions": {
      "b31a05d5-a8fe-40d2-a368-cc39f50ee938": {
       "attrs": {
        "height": 0.8,
        "width": 0.8,
        "x": 0.1,
        "y": 0.1
       },
       "content": {
        "cell": "1181e3a8-6803-4f41-9d55-397f3d700c28",
        "part": "whole"
       },
       "id": "b31a05d5-a8fe-40d2-a368-cc39f50ee938"
      }
     }
    },
    "4033c3a0-0021-4cbc-a589-50c63550217b": {
     "id": "4033c3a0-0021-4cbc-a589-50c63550217b",
     "prev": "c68aae9d-645c-4cbf-9dc1-92ed9aa0f5d3",
     "regions": {
      "55173d13-adca-4e7f-a760-92bd299e6c40": {
       "attrs": {
        "height": 0.8,
        "width": 0.8,
        "x": 0.1,
        "y": 0.1
       },
       "content": {
        "cell": "b86ba0c1-c7c4-43a5-a9f5-8dfe7967be6c",
        "part": "whole"
       },
       "id": "55173d13-adca-4e7f-a760-92bd299e6c40"
      }
     }
    },
    "479d81b5-3b8b-4ddf-bbfe-6ae6ff33c2fa": {
     "id": "479d81b5-3b8b-4ddf-bbfe-6ae6ff33c2fa",
     "prev": "280f0473-61ec-4b88-b9d4-172e734fd0a5",
     "regions": {
      "6c334c87-c8a0-4328-b310-6be0e9a89532": {
       "attrs": {
        "height": 0.8,
        "width": 0.8,
        "x": 0.1,
        "y": 0.1
       },
       "content": {
        "cell": "4dbde9d2-3a9d-4677-8dd4-90066c0cb7c4",
        "part": "whole"
       },
       "id": "6c334c87-c8a0-4328-b310-6be0e9a89532"
      }
     }
    },
    "488af944-ad92-49c5-9d1d-ccdb1e929dce": {
     "id": "488af944-ad92-49c5-9d1d-ccdb1e929dce",
     "prev": "13c7e576-8024-4b19-8874-d65c24a9ee0f",
     "regions": {
      "fb1eddce-8820-408b-8b73-3a1654b93816": {
       "attrs": {
        "height": 0.8,
        "width": 0.8,
        "x": 0.1,
        "y": 0.1
       },
       "content": {
        "cell": "7da56259-bbf2-4f63-93f6-033833ae4494",
        "part": "whole"
       },
       "id": "fb1eddce-8820-408b-8b73-3a1654b93816"
      }
     }
    },
    "4af127dc-0330-4f8e-b907-3e409ba31a06": {
     "id": "4af127dc-0330-4f8e-b907-3e409ba31a06",
     "prev": "fbd9f3b3-f9b0-4886-b987-3f9d0ca983bc",
     "regions": {
      "1f9e4115-c1c7-4e4c-a262-648adc28ad2a": {
       "attrs": {
        "height": 0.8,
        "width": 0.8,
        "x": 0.1,
        "y": 0.1
       },
       "content": {
        "cell": "3d784001-6875-4be5-b8e8-e6c490f5b7b4",
        "part": "whole"
       },
       "id": "1f9e4115-c1c7-4e4c-a262-648adc28ad2a"
      }
     }
    },
    "67c9421a-0e61-4346-873f-bf3769d00c97": {
     "id": "67c9421a-0e61-4346-873f-bf3769d00c97",
     "prev": "efc03832-2e6d-4250-8ac5-f4c13cfdb733",
     "regions": {
      "d9b839cd-46ac-451d-bb1b-3edd613c0ba3": {
       "attrs": {
        "height": 0.8,
        "width": 0.8,
        "x": 0.1,
        "y": 0.1
       },
       "content": {
        "cell": "3ca3d45b-a28b-41c7-b5de-4c124c50d13d",
        "part": "whole"
       },
       "id": "d9b839cd-46ac-451d-bb1b-3edd613c0ba3"
      }
     }
    },
    "78837f0a-d7b6-48ae-b64e-3a2af8286ccc": {
     "id": "78837f0a-d7b6-48ae-b64e-3a2af8286ccc",
     "prev": "bb7417b1-270b-4977-bbf3-606a574c38ec",
     "regions": {
      "37ced915-20bf-49cd-9691-82e9fdcfe211": {
       "attrs": {
        "height": 0.8,
        "width": 0.8,
        "x": 0.1,
        "y": 0.1
       },
       "content": {
        "cell": "b1a8c7b4-dc46-4bfe-b17b-d604f212b389",
        "part": "whole"
       },
       "id": "37ced915-20bf-49cd-9691-82e9fdcfe211"
      }
     }
    },
    "7f7b5da4-7345-442b-8cd5-662cfba97db9": {
     "id": "7f7b5da4-7345-442b-8cd5-662cfba97db9",
     "prev": "f6d5269c-54db-4887-b274-d00572aead72",
     "regions": {
      "5fcadbcf-4f67-4bd7-bc4c-0e9db215581c": {
       "attrs": {
        "height": 0.8,
        "width": 0.8,
        "x": 0.1,
        "y": 0.1
       },
       "content": {
        "cell": "a02b72fb-0049-4ec3-825f-179e396f3904",
        "part": "whole"
       },
       "id": "5fcadbcf-4f67-4bd7-bc4c-0e9db215581c"
      }
     }
    },
    "823091e1-74b1-44e3-af50-388881c30968": {
     "id": "823091e1-74b1-44e3-af50-388881c30968",
     "prev": "e24d4b0b-34e2-46de-a99d-a4be39ca2951",
     "regions": {
      "cd97517e-4f86-48bd-9496-92ebad8c97cf": {
       "attrs": {
        "height": 0.8,
        "width": 0.8,
        "x": 0.1,
        "y": 0.1
       },
       "content": {
        "cell": "ffb5aaa9-5fa1-4b28-ba2f-e23525caa392",
        "part": "whole"
       },
       "id": "cd97517e-4f86-48bd-9496-92ebad8c97cf"
      }
     }
    },
    "845fbe01-dd28-4ad8-9eb5-d13c49f6772c": {
     "id": "845fbe01-dd28-4ad8-9eb5-d13c49f6772c",
     "prev": "87040bd6-a3e9-4785-97e0-08d7e7c5b8ef",
     "regions": {
      "1b5a1350-c3d1-43d8-bbc3-90ac260b5a8b": {
       "attrs": {
        "height": 0.8,
        "width": 0.8,
        "x": 0.1,
        "y": 0.1
       },
       "content": {
        "cell": "bcbc3313-3a57-4923-b330-69691eaf7535",
        "part": "whole"
       },
       "id": "1b5a1350-c3d1-43d8-bbc3-90ac260b5a8b"
      }
     }
    },
    "8541226b-6ff1-4700-a399-71e3cf68d91b": {
     "id": "8541226b-6ff1-4700-a399-71e3cf68d91b",
     "prev": "10763d44-d64e-46c7-a164-8b92d219e71d",
     "regions": {
      "7c4c47d8-a698-4e96-a411-556d9ad6b15b": {
       "attrs": {
        "height": 0.8,
        "width": 0.8,
        "x": 0.1,
        "y": 0.1
       },
       "content": {
        "cell": "281d1434-ce22-46c6-ba53-71a24a476568",
        "part": "whole"
       },
       "id": "7c4c47d8-a698-4e96-a411-556d9ad6b15b"
      }
     }
    },
    "87040bd6-a3e9-4785-97e0-08d7e7c5b8ef": {
     "id": "87040bd6-a3e9-4785-97e0-08d7e7c5b8ef",
     "prev": "ad16016c-8a9e-49da-a3d2-5ab56ca11579",
     "regions": {
      "cc35a589-c8c7-459f-893d-102c0d77bee3": {
       "attrs": {
        "height": 0.8,
        "width": 0.8,
        "x": 0.1,
        "y": 0.1
       },
       "content": {
        "cell": "8778b874-a6d1-4f2f-ba02-35dc0fa10f0c",
        "part": "whole"
       },
       "id": "cc35a589-c8c7-459f-893d-102c0d77bee3"
      }
     }
    },
    "8aa83fc2-d106-4c85-8b7f-1116db7ee9d4": {
     "id": "8aa83fc2-d106-4c85-8b7f-1116db7ee9d4",
     "prev": "f870a325-581b-4d8e-a4c0-095972e4cc21",
     "regions": {
      "9f7afc1f-6e9d-47bf-98e0-7e0350e1f516": {
       "attrs": {
        "height": 0.8,
        "width": 0.8,
        "x": 0.1,
        "y": 0.1
       },
       "content": {
        "cell": "45b1a641-1152-4364-ad25-62d1f8187317",
        "part": "whole"
       },
       "id": "9f7afc1f-6e9d-47bf-98e0-7e0350e1f516"
      }
     }
    },
    "944a5639-4b22-4f7f-b836-5ac3bf1cb21e": {
     "id": "944a5639-4b22-4f7f-b836-5ac3bf1cb21e",
     "prev": "d30e098d-5b03-4087-bb2e-fe706d78fae9",
     "regions": {
      "c32c5800-6b61-4a15-b909-b1163c6ffe62": {
       "attrs": {
        "height": 0.8,
        "width": 0.8,
        "x": 0.1,
        "y": 0.1
       },
       "content": {
        "cell": "4329af31-21b4-4570-903a-6df3715244c7",
        "part": "whole"
       },
       "id": "c32c5800-6b61-4a15-b909-b1163c6ffe62"
      }
     }
    },
    "951ea1a1-a91e-41a8-827e-fc3624ae3250": {
     "id": "951ea1a1-a91e-41a8-827e-fc3624ae3250",
     "prev": "d46a6bb8-e8dc-42dd-ac78-33a9cc66fcaa",
     "regions": {
      "bc84fb60-e322-4e23-8b12-21f7fbfd11be": {
       "attrs": {
        "height": 0.8,
        "width": 0.8,
        "x": 0.1,
        "y": 0.1
       },
       "content": {
        "cell": "caa35df4-b625-4246-bc1f-42c561f31486",
        "part": "whole"
       },
       "id": "bc84fb60-e322-4e23-8b12-21f7fbfd11be"
      }
     }
    },
    "96f08da8-8b76-4bf1-829e-50dc77b96f23": {
     "id": "96f08da8-8b76-4bf1-829e-50dc77b96f23",
     "prev": "7f7b5da4-7345-442b-8cd5-662cfba97db9",
     "regions": {
      "ee8f45c8-aaa8-4c02-8067-bee120c4685d": {
       "attrs": {
        "height": 0.8,
        "width": 0.8,
        "x": 0.1,
        "y": 0.1
       },
       "content": {
        "cell": "672c009d-3dbc-4a1f-a789-2a0fe78729b9",
        "part": "whole"
       },
       "id": "ee8f45c8-aaa8-4c02-8067-bee120c4685d"
      }
     }
    },
    "9d28ba7f-c1e5-4ac3-ae0d-08721cddf897": {
     "id": "9d28ba7f-c1e5-4ac3-ae0d-08721cddf897",
     "prev": "b758d6c7-7c92-4aba-a50f-4ea841c3bbd5",
     "regions": {
      "f1d84675-1d92-48aa-b454-b5cfd4919f9c": {
       "attrs": {
        "height": 0.8,
        "width": 0.8,
        "x": 0.1,
        "y": 0.1
       },
       "content": {
        "cell": "85e46481-0245-448c-b4e2-e0c6e175357c",
        "part": "whole"
       },
       "id": "f1d84675-1d92-48aa-b454-b5cfd4919f9c"
      }
     }
    },
    "a2c51720-8844-4953-94a8-55d723ec2499": {
     "id": "a2c51720-8844-4953-94a8-55d723ec2499",
     "prev": "ec5e5d0b-4635-44cc-acc2-f4a52d49a309",
     "regions": {
      "8e52be0c-e63e-434c-b1ca-9c69b58557a6": {
       "attrs": {
        "height": 0.8,
        "width": 0.8,
        "x": 0.1,
        "y": 0.1
       },
       "content": {
        "cell": "13f246a0-918e-44c1-ae19-7af118d83585",
        "part": "whole"
       },
       "id": "8e52be0c-e63e-434c-b1ca-9c69b58557a6"
      }
     }
    },
    "ad16016c-8a9e-49da-a3d2-5ab56ca11579": {
     "id": "ad16016c-8a9e-49da-a3d2-5ab56ca11579",
     "prev": "257bf09e-bd55-4957-97ea-4d3c8b85016a",
     "regions": {
      "ba9b7c66-e2b9-4e94-a595-b6e1e9c8ba3a": {
       "attrs": {
        "height": 0.8,
        "width": 0.8,
        "x": 0.1,
        "y": 0.1
       },
       "content": {
        "cell": "25997dab-04e3-4abc-b22f-b36944b208c2",
        "part": "whole"
       },
       "id": "ba9b7c66-e2b9-4e94-a595-b6e1e9c8ba3a"
      }
     }
    },
    "aea4c7d8-d448-4c6e-b98a-aee48ab874f3": {
     "id": "aea4c7d8-d448-4c6e-b98a-aee48ab874f3",
     "prev": "823091e1-74b1-44e3-af50-388881c30968",
     "regions": {
      "c9f42ad3-4f13-490e-98af-ba7f90c04c7e": {
       "attrs": {
        "height": 0.8,
        "width": 0.8,
        "x": 0.1,
        "y": 0.1
       },
       "content": {
        "cell": "3544f061-6870-4630-bd54-79f75decf8b6",
        "part": "whole"
       },
       "id": "c9f42ad3-4f13-490e-98af-ba7f90c04c7e"
      }
     }
    },
    "aedf0537-c77a-45f0-9d07-af274cfcc254": {
     "id": "aedf0537-c77a-45f0-9d07-af274cfcc254",
     "prev": "e6ae4652-4831-456f-a99c-275d5a367c31",
     "regions": {
      "6b39b1f4-a8eb-48a7-abe6-34f074ddfffe": {
       "attrs": {
        "height": 0.8,
        "width": 0.8,
        "x": 0.1,
        "y": 0.1
       },
       "content": {
        "cell": "58e7dda6-0dd2-4e4f-b81a-0b530c66b20b",
        "part": "whole"
       },
       "id": "6b39b1f4-a8eb-48a7-abe6-34f074ddfffe"
      }
     }
    },
    "b225aeee-0655-46cd-b065-53ac161542e1": {
     "id": "b225aeee-0655-46cd-b065-53ac161542e1",
     "prev": "944a5639-4b22-4f7f-b836-5ac3bf1cb21e",
     "regions": {
      "3fb9131f-b513-4608-88e3-1829aab4af80": {
       "attrs": {
        "height": 0.8,
        "width": 0.8,
        "x": 0.1,
        "y": 0.1
       },
       "content": {
        "cell": "0924faf0-a957-4d12-b35c-b50ebb30f370",
        "part": "whole"
       },
       "id": "3fb9131f-b513-4608-88e3-1829aab4af80"
      }
     }
    },
    "b6050bf2-3f03-47ef-9510-80c01755a79e": {
     "id": "b6050bf2-3f03-47ef-9510-80c01755a79e",
     "prev": "96f08da8-8b76-4bf1-829e-50dc77b96f23",
     "regions": {
      "35a04fb6-5997-463a-b71f-8ad41ce5def6": {
       "attrs": {
        "height": 0.8,
        "width": 0.8,
        "x": 0.1,
        "y": 0.1
       },
       "content": {
        "cell": "f7724653-52ef-41e8-aa22-6232be216b08",
        "part": "whole"
       },
       "id": "35a04fb6-5997-463a-b71f-8ad41ce5def6"
      }
     }
    },
    "b758d6c7-7c92-4aba-a50f-4ea841c3bbd5": {
     "id": "b758d6c7-7c92-4aba-a50f-4ea841c3bbd5",
     "prev": "f2b5f77b-2cf3-4728-901e-453b1ee328e4",
     "regions": {
      "3907d293-429a-446b-aa7b-d48636df66de": {
       "attrs": {
        "height": 0.8,
        "width": 0.8,
        "x": 0.1,
        "y": 0.1
       },
       "content": {
        "cell": "92dbb672-adca-4535-8089-de23712828d8",
        "part": "whole"
       },
       "id": "3907d293-429a-446b-aa7b-d48636df66de"
      }
     }
    },
    "b78b6f6e-aa16-462e-8f65-fcb552b32c31": {
     "id": "b78b6f6e-aa16-462e-8f65-fcb552b32c31",
     "prev": "de9edf29-6b79-4254-9128-e8e5339d95b7",
     "regions": {
      "7907113d-9b89-4a1c-9b8e-9ccf0f800218": {
       "attrs": {
        "height": 0.8,
        "width": 0.8,
        "x": 0.1,
        "y": 0.1
       },
       "content": {
        "cell": "0e5ca1a8-9c78-412a-9ab4-a4d0be5afd34",
        "part": "whole"
       },
       "id": "7907113d-9b89-4a1c-9b8e-9ccf0f800218"
      }
     }
    },
    "bb7417b1-270b-4977-bbf3-606a574c38ec": {
     "id": "bb7417b1-270b-4977-bbf3-606a574c38ec",
     "prev": "aedf0537-c77a-45f0-9d07-af274cfcc254",
     "regions": {
      "4186cf60-3730-4fac-9b82-c178d043465c": {
       "attrs": {
        "height": 0.8,
        "width": 0.8,
        "x": 0.1,
        "y": 0.1
       },
       "content": {
        "cell": "6b5572c0-2ab0-4b13-a08f-3db21b4c4f21",
        "part": "whole"
       },
       "id": "4186cf60-3730-4fac-9b82-c178d043465c"
      }
     }
    },
    "bc583748-3efc-4990-a121-5c23ddd1cf76": {
     "id": "bc583748-3efc-4990-a121-5c23ddd1cf76",
     "prev": "b78b6f6e-aa16-462e-8f65-fcb552b32c31",
     "regions": {
      "1fe1815a-69fc-439e-9943-115c788d87de": {
       "attrs": {
        "height": 0.8,
        "width": 0.8,
        "x": 0.1,
        "y": 0.1
       },
       "content": {
        "cell": "161e8770-8bc2-41ae-98f4-08d1c9311e82",
        "part": "whole"
       },
       "id": "1fe1815a-69fc-439e-9943-115c788d87de"
      }
     }
    },
    "bebeb5ec-eea2-4353-b2e1-ba7cdb847132": {
     "id": "bebeb5ec-eea2-4353-b2e1-ba7cdb847132",
     "prev": "aea4c7d8-d448-4c6e-b98a-aee48ab874f3",
     "regions": {
      "acd4706d-0fa8-4d2c-93b1-e01bcddce185": {
       "attrs": {
        "height": 0.8,
        "width": 0.8,
        "x": 0.1,
        "y": 0.1
       },
       "content": {
        "cell": "31c64f41-a499-4f80-8ccd-1364940f7383",
        "part": "whole"
       },
       "id": "acd4706d-0fa8-4d2c-93b1-e01bcddce185"
      }
     }
    },
    "c68aae9d-645c-4cbf-9dc1-92ed9aa0f5d3": {
     "id": "c68aae9d-645c-4cbf-9dc1-92ed9aa0f5d3",
     "prev": "b225aeee-0655-46cd-b065-53ac161542e1",
     "regions": {
      "18e9a755-775e-407c-adec-19d9d2553aa3": {
       "attrs": {
        "height": 0.8,
        "width": 0.8,
        "x": 0.1,
        "y": 0.1
       },
       "content": {
        "cell": "59cc671f-041a-4d6f-a609-f1b9855aa05c",
        "part": "whole"
       },
       "id": "18e9a755-775e-407c-adec-19d9d2553aa3"
      }
     }
    },
    "c86c2c29-3931-4f32-b9b8-2927bd48a5d2": {
     "id": "c86c2c29-3931-4f32-b9b8-2927bd48a5d2",
     "prev": "8541226b-6ff1-4700-a399-71e3cf68d91b",
     "regions": {
      "98d1caf9-aaab-4a6a-8d39-875e61f4b508": {
       "attrs": {
        "height": 0.8,
        "width": 0.8,
        "x": 0.1,
        "y": 0.1
       },
       "content": {
        "cell": "ada914a2-bacb-4300-8ce3-f1332843d24c",
        "part": "whole"
       },
       "id": "98d1caf9-aaab-4a6a-8d39-875e61f4b508"
      }
     }
    },
    "ca688a20-d25d-4266-8f63-967e003c1f2f": {
     "id": "ca688a20-d25d-4266-8f63-967e003c1f2f",
     "prev": "78837f0a-d7b6-48ae-b64e-3a2af8286ccc",
     "regions": {
      "3b6c70c9-c6b9-4505-aefb-c64c0d183b96": {
       "attrs": {
        "height": 0.8,
        "width": 0.8,
        "x": 0.1,
        "y": 0.1
       },
       "content": {
        "cell": "943a5fcd-7c2e-4c16-9879-34882a7a74d4",
        "part": "whole"
       },
       "id": "3b6c70c9-c6b9-4505-aefb-c64c0d183b96"
      }
     }
    },
    "d30e098d-5b03-4087-bb2e-fe706d78fae9": {
     "id": "d30e098d-5b03-4087-bb2e-fe706d78fae9",
     "prev": "c86c2c29-3931-4f32-b9b8-2927bd48a5d2",
     "regions": {
      "ce2693da-705b-4afd-9284-d04c8e1b2ff4": {
       "attrs": {
        "height": 0.8,
        "width": 0.8,
        "x": 0.1,
        "y": 0.1
       },
       "content": {
        "cell": "4f313370-b5f0-4754-9744-157da0447fc4",
        "part": "whole"
       },
       "id": "ce2693da-705b-4afd-9284-d04c8e1b2ff4"
      }
     }
    },
    "d386ac9f-a3fc-4b7e-8171-72c5de5bcd6b": {
     "id": "d386ac9f-a3fc-4b7e-8171-72c5de5bcd6b",
     "prev": "488af944-ad92-49c5-9d1d-ccdb1e929dce",
     "regions": {
      "742b6acb-94bd-40bc-95c5-45686415a4d2": {
       "attrs": {
        "height": 0.8,
        "width": 0.8,
        "x": 0.1,
        "y": 0.1
       },
       "content": {
        "cell": "13f462fd-b0c3-4a29-90f3-050e2317b72c",
        "part": "whole"
       },
       "id": "742b6acb-94bd-40bc-95c5-45686415a4d2"
      }
     }
    },
    "d46a6bb8-e8dc-42dd-ac78-33a9cc66fcaa": {
     "id": "d46a6bb8-e8dc-42dd-ac78-33a9cc66fcaa",
     "prev": "e1b1494f-f764-4c7c-9b18-9c4117ac6b1a",
     "regions": {
      "46818eb4-db41-4ae4-ab4a-fb8aa8381df4": {
       "attrs": {
        "height": 0.8,
        "width": 0.8,
        "x": 0.1,
        "y": 0.1
       },
       "content": {
        "cell": "699e2ddb-add6-4134-a723-1bb37029f013",
        "part": "whole"
       },
       "id": "46818eb4-db41-4ae4-ab4a-fb8aa8381df4"
      }
     }
    },
    "d7495fd8-cfb5-42ee-a0eb-86679c419bae": {
     "id": "d7495fd8-cfb5-42ee-a0eb-86679c419bae",
     "prev": "845fbe01-dd28-4ad8-9eb5-d13c49f6772c",
     "regions": {
      "1b6fb9c6-e9e8-48d0-8879-43681a10b003": {
       "attrs": {
        "height": 0.8,
        "width": 0.8,
        "x": 0.1,
        "y": 0.1
       },
       "content": {
        "cell": "d447e236-b1b9-4cf7-bc39-8bfb499d4730",
        "part": "whole"
       },
       "id": "1b6fb9c6-e9e8-48d0-8879-43681a10b003"
      }
     }
    },
    "d84b78ed-e79f-4657-b62b-eeff30c4fe8d": {
     "id": "d84b78ed-e79f-4657-b62b-eeff30c4fe8d",
     "prev": "05fa6235-ac93-41b7-9975-3fee534b0c94",
     "regions": {
      "2dc757c4-cd6f-4663-b3ed-16873bd59e53": {
       "attrs": {
        "height": 0.8,
        "width": 0.8,
        "x": 0.1,
        "y": 0.1
       },
       "content": {
        "cell": "6b8eef4a-a87d-42bd-84dd-586610828698",
        "part": "whole"
       },
       "id": "2dc757c4-cd6f-4663-b3ed-16873bd59e53"
      }
     }
    },
    "de9edf29-6b79-4254-9128-e8e5339d95b7": {
     "id": "de9edf29-6b79-4254-9128-e8e5339d95b7",
     "prev": "4af127dc-0330-4f8e-b907-3e409ba31a06",
     "regions": {
      "ef8b9aae-46b3-45ae-8ddf-d951cecabb16": {
       "attrs": {
        "height": 0.8,
        "width": 0.8,
        "x": 0.1,
        "y": 0.1
       },
       "content": {
        "cell": "d8cfc39f-aa3b-469f-ae34-1ef99ef51a25",
        "part": "whole"
       },
       "id": "ef8b9aae-46b3-45ae-8ddf-d951cecabb16"
      }
     }
    },
    "deebcf04-3780-4222-bac9-4ec42c55e64e": {
     "id": "deebcf04-3780-4222-bac9-4ec42c55e64e",
     "prev": "479d81b5-3b8b-4ddf-bbfe-6ae6ff33c2fa",
     "regions": {
      "41284583-e45d-4b58-80b1-9aa982c35d62": {
       "attrs": {
        "height": 0.8,
        "width": 0.8,
        "x": 0.1,
        "y": 0.1
       },
       "content": {
        "cell": "e7995c4c-f483-4cb5-9f53-3b8c5fef39c3",
        "part": "whole"
       },
       "id": "41284583-e45d-4b58-80b1-9aa982c35d62"
      }
     }
    },
    "e1226821-9a12-4537-a8af-79cc88d3d16a": {
     "id": "e1226821-9a12-4537-a8af-79cc88d3d16a",
     "prev": "0e2565e0-a21d-4dbb-a4b3-8698e797c45d",
     "regions": {
      "a85036ed-bcf3-498f-bcbf-d29b7ba22e33": {
       "attrs": {
        "height": 0.8,
        "width": 0.8,
        "x": 0.1,
        "y": 0.1
       },
       "content": {
        "cell": "d8a8bcc6-8b37-4d4f-ad06-903804776078",
        "part": "whole"
       },
       "id": "a85036ed-bcf3-498f-bcbf-d29b7ba22e33"
      }
     }
    },
    "e1b1494f-f764-4c7c-9b18-9c4117ac6b1a": {
     "id": "e1b1494f-f764-4c7c-9b18-9c4117ac6b1a",
     "prev": "e975c742-3e8e-42fb-992f-68889dc8eacf",
     "regions": {
      "4481842a-f6a3-4783-8056-761d3ff7903c": {
       "attrs": {
        "height": 0.8,
        "width": 0.8,
        "x": 0.1,
        "y": 0.1
       },
       "content": {
        "cell": "c02b6f0a-801c-4a8f-aa8f-8c9d64df7a9a",
        "part": "whole"
       },
       "id": "4481842a-f6a3-4783-8056-761d3ff7903c"
      }
     }
    },
    "e24d4b0b-34e2-46de-a99d-a4be39ca2951": {
     "id": "e24d4b0b-34e2-46de-a99d-a4be39ca2951",
     "prev": "e1226821-9a12-4537-a8af-79cc88d3d16a",
     "regions": {
      "8a097e4f-9443-46a4-9b0f-84d5e12c50e7": {
       "attrs": {
        "height": 0.8,
        "width": 0.8,
        "x": 0.1,
        "y": 0.1
       },
       "content": {
        "cell": "6f302dcb-787b-42b0-98f0-1df0a163a818",
        "part": "whole"
       },
       "id": "8a097e4f-9443-46a4-9b0f-84d5e12c50e7"
      }
     }
    },
    "e44d6d8f-7236-458f-a308-36142bc72ff4": {
     "id": "e44d6d8f-7236-458f-a308-36142bc72ff4",
     "prev": "951ea1a1-a91e-41a8-827e-fc3624ae3250",
     "regions": {
      "cc091066-cdf1-4dd5-bf80-5c7c94722472": {
       "attrs": {
        "height": 0.8,
        "width": 0.8,
        "x": 0.1,
        "y": 0.1
       },
       "content": {
        "cell": "d2aa5aac-acc7-41c9-96d4-5410c0d8a14b",
        "part": "whole"
       },
       "id": "cc091066-cdf1-4dd5-bf80-5c7c94722472"
      }
     }
    },
    "e6ae4652-4831-456f-a99c-275d5a367c31": {
     "id": "e6ae4652-4831-456f-a99c-275d5a367c31",
     "prev": "bc583748-3efc-4990-a121-5c23ddd1cf76",
     "regions": {
      "fc109e55-75c1-42c7-a13b-68d9feb3aad7": {
       "attrs": {
        "height": 0.8,
        "width": 0.8,
        "x": 0.1,
        "y": 0.1
       },
       "content": {
        "cell": "fe809373-e88b-44eb-9cb9-08be3dc5949a",
        "part": "whole"
       },
       "id": "fc109e55-75c1-42c7-a13b-68d9feb3aad7"
      }
     }
    },
    "e71a7d3a-c9bb-4db0-9597-95b9b3233d3b": {
     "id": "e71a7d3a-c9bb-4db0-9597-95b9b3233d3b",
     "prev": "f6887642-4c01-4304-bedb-6e6bf5f5c45e",
     "regions": {
      "88ed165d-ed0c-4d77-a642-afc80f335c88": {
       "attrs": {
        "height": 0.8,
        "width": 0.8,
        "x": 0.1,
        "y": 0.1
       },
       "content": {
        "cell": "9994e7f0-f366-40da-9c14-76e8142ee46e",
        "part": "whole"
       },
       "id": "88ed165d-ed0c-4d77-a642-afc80f335c88"
      }
     }
    },
    "e975c742-3e8e-42fb-992f-68889dc8eacf": {
     "id": "e975c742-3e8e-42fb-992f-68889dc8eacf",
     "prev": "8aa83fc2-d106-4c85-8b7f-1116db7ee9d4",
     "regions": {
      "6f8253e7-9544-4503-84a2-5dd528b2b98c": {
       "attrs": {
        "height": 0.8,
        "width": 0.8,
        "x": 0.1,
        "y": 0.1
       },
       "content": {
        "cell": "e8936716-d06c-4cef-ae87-5c5da9a25a85",
        "part": "whole"
       },
       "id": "6f8253e7-9544-4503-84a2-5dd528b2b98c"
      }
     }
    },
    "ec5e5d0b-4635-44cc-acc2-f4a52d49a309": {
     "id": "ec5e5d0b-4635-44cc-acc2-f4a52d49a309",
     "prev": "12513a0d-3e80-464d-9285-3bdd87e0b9c0",
     "regions": {
      "007395dd-4907-4340-9391-024482d674f4": {
       "attrs": {
        "height": 0.8,
        "width": 0.8,
        "x": 0.1,
        "y": 0.1
       },
       "content": {
        "cell": "aa9d35ae-c458-49d2-bdbe-d93d5cb3ba9c",
        "part": "whole"
       },
       "id": "007395dd-4907-4340-9391-024482d674f4"
      }
     }
    },
    "efc03832-2e6d-4250-8ac5-f4c13cfdb733": {
     "id": "efc03832-2e6d-4250-8ac5-f4c13cfdb733",
     "prev": "deebcf04-3780-4222-bac9-4ec42c55e64e",
     "regions": {
      "ece43b16-b994-439a-a683-911e322998be": {
       "attrs": {
        "height": 0.8,
        "width": 0.8,
        "x": 0.1,
        "y": 0.1
       },
       "content": {
        "cell": "a6d40ad7-2abd-44e5-8839-62731fb5eab7",
        "part": "whole"
       },
       "id": "ece43b16-b994-439a-a683-911e322998be"
      }
     }
    },
    "f2b5f77b-2cf3-4728-901e-453b1ee328e4": {
     "id": "f2b5f77b-2cf3-4728-901e-453b1ee328e4",
     "prev": "ca688a20-d25d-4266-8f63-967e003c1f2f",
     "regions": {
      "fd2525a2-6271-4119-a693-9ebaa319233e": {
       "attrs": {
        "height": 0.8,
        "width": 0.8,
        "x": 0.1,
        "y": 0.1
       },
       "content": {
        "cell": "b492de13-0053-416c-b314-1bbae21ca828",
        "part": "whole"
       },
       "id": "fd2525a2-6271-4119-a693-9ebaa319233e"
      }
     }
    },
    "f6887642-4c01-4304-bedb-6e6bf5f5c45e": {
     "id": "f6887642-4c01-4304-bedb-6e6bf5f5c45e",
     "prev": "0527f44a-39b6-4cf8-9802-d16b8cd34754",
     "regions": {
      "22ac5030-534d-4372-b64f-11254caef474": {
       "attrs": {
        "height": 0.8,
        "width": 0.8,
        "x": 0.1,
        "y": 0.1
       },
       "content": {
        "cell": "8ce2b802-f0c1-4ffc-9ce5-c2792856b5b4",
        "part": "whole"
       },
       "id": "22ac5030-534d-4372-b64f-11254caef474"
      }
     }
    },
    "f6d5269c-54db-4887-b274-d00572aead72": {
     "id": "f6d5269c-54db-4887-b274-d00572aead72",
     "prev": "9d28ba7f-c1e5-4ac3-ae0d-08721cddf897",
     "regions": {
      "4adeafcb-a40e-4001-9cea-ced25a006c2a": {
       "attrs": {
        "height": 0.8,
        "width": 0.8,
        "x": 0.1,
        "y": 0.1
       },
       "content": {
        "cell": "380ef8b7-6de1-4822-ae30-7120e12b5955",
        "part": "whole"
       },
       "id": "4adeafcb-a40e-4001-9cea-ced25a006c2a"
      }
     }
    },
    "f870a325-581b-4d8e-a4c0-095972e4cc21": {
     "id": "f870a325-581b-4d8e-a4c0-095972e4cc21",
     "prev": "d386ac9f-a3fc-4b7e-8171-72c5de5bcd6b",
     "regions": {
      "6923b170-3e50-4538-a408-f2032324357e": {
       "attrs": {
        "height": 0.8,
        "width": 0.8,
        "x": 0.1,
        "y": 0.1
       },
       "content": {
        "cell": "68d38063-fb92-4d36-b3fb-f2d3cbff9eb5",
        "part": "whole"
       },
       "id": "6923b170-3e50-4538-a408-f2032324357e"
      }
     }
    },
    "fbd9f3b3-f9b0-4886-b987-3f9d0ca983bc": {
     "id": "fbd9f3b3-f9b0-4886-b987-3f9d0ca983bc",
     "prev": "2e4a9702-f7a2-48a5-bd13-2087e9216b38",
     "regions": {
      "b1150180-2e0b-444f-956f-2dd4cf1f3d4a": {
       "attrs": {
        "height": 0.8,
        "width": 0.8,
        "x": 0.1,
        "y": 0.1
       },
       "content": {
        "cell": "dbeeeabe-b6dd-477c-a798-fb7b39302ba9",
        "part": "whole"
       },
       "id": "b1150180-2e0b-444f-956f-2dd4cf1f3d4a"
      }
     }
    }
   },
   "themes": {}
  }
 },
 "nbformat": 4,
 "nbformat_minor": 1
}
