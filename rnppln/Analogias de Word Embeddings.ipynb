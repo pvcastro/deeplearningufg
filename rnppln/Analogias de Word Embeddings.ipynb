{
 "cells": [
  {
   "cell_type": "code",
   "execution_count": 1,
   "metadata": {},
   "outputs": [],
   "source": [
    "import matplotlib.pyplot as plt\n",
    "import matplotlib.cm as cm\n",
    "import numpy as np\n",
    "\n",
    "from sklearn.manifold import TSNE\n",
    "from gensim.models import KeyedVectors\n",
    "\n",
    "%matplotlib inline"
   ]
  },
  {
   "cell_type": "code",
   "execution_count": 2,
   "metadata": {},
   "outputs": [],
   "source": [
    "model = KeyedVectors.load_word2vec_format('/media/discoD/embeddings/word2vec_skip/skip_s100.txt')"
   ]
  },
  {
   "cell_type": "code",
   "execution_count": 3,
   "metadata": {},
   "outputs": [],
   "source": [
    "word_list = ['Homem', 'Mulher', 'Rei', 'Rainha', 'Maçã', 'Laranja']"
   ]
  },
  {
   "cell_type": "code",
   "execution_count": 4,
   "metadata": {},
   "outputs": [],
   "source": [
    "def plot(model, word_list):\n",
    "\n",
    "    words = []\n",
    "    embeddings = []\n",
    "\n",
    "    # for word in list(model.wv.vocab):\n",
    "    for word in word_list:\n",
    "        embeddings.append(model[word.lower()])\n",
    "        words.append(word.lower())\n",
    "\n",
    "    tsne_2d = TSNE(perplexity=30, n_components=2, init='pca', n_iter=3500, random_state=32)\n",
    "    embeddings_2d = tsne_2d.fit_transform(embeddings)\n",
    "\n",
    "    def tsne_plot_2d(label, embeddings, words=[]):\n",
    "        plt.figure(figsize=(16, 9))\n",
    "        x = embeddings[:,0]\n",
    "        y = embeddings[:,1]\n",
    "        plt.scatter(x, y, label=label)\n",
    "        for i, word in enumerate(words):\n",
    "            plt.annotate(word.lower(), xy=(x[i], y[i]), xytext=(5, 2), \n",
    "                         textcoords='offset points', ha='right', va='bottom', size=10)\n",
    "        plt.legend(loc=4)\n",
    "        plt.grid(True)\n",
    "        plt.show()\n",
    "\n",
    "    tsne_plot_2d('Visualização de Word Embeddings', embeddings_2d, words)"
   ]
  },
  {
   "cell_type": "code",
   "execution_count": 5,
   "metadata": {},
   "outputs": [
    {
     "data": {
      "image/png": "[encoded data removed]",
      "text/plain": [
       "<Figure size 1152x648 with 1 Axes>"
      ]
     },
     "metadata": {
      "needs_background": "light"
     },
     "output_type": "display_data"
    }
   ],
   "source": [
    "plot(model, word_list)"
   ]
  },
  {
   "cell_type": "code",
   "execution_count": 6,
   "metadata": {},
   "outputs": [
    {
     "data": {
      "text/plain": [
       "[('demónio', 0.6855391263961792),\n",
       " ('intruso', 0.659054160118103),\n",
       " ('estereotipo', 0.6565697193145752),\n",
       " ('povo', 0.6493959426879883),\n",
       " ('vaticínio', 0.6420562267303467),\n",
       " ('salteador', 0.639818549156189),\n",
       " ('torcionário', 0.635098397731781),\n",
       " ('sanguinário', 0.635047197341919),\n",
       " ('facínora', 0.6344645619392395),\n",
       " ('fugitivo', 0.6343000531196594)]"
      ]
     },
     "execution_count": 6,
     "metadata": {},
     "output_type": "execute_result"
    }
   ],
   "source": [
    "model.most_similar(positive=['rei', 'homem'], negative=['rainha'], topn=10)"
   ]
  },
  {
   "cell_type": "code",
   "execution_count": 7,
   "metadata": {},
   "outputs": [
    {
     "data": {
      "text/plain": [
       "[('conquistador', 0.6959340572357178),\n",
       " ('monarca', 0.6842698454856873),\n",
       " ('tirano', 0.6654118299484253),\n",
       " ('usurpador', 0.6605169773101807),\n",
       " ('soberano', 0.6597871780395508),\n",
       " ('caudilho', 0.6527661085128784),\n",
       " ('antepassado', 0.6502918601036072),\n",
       " ('gépida', 0.6480100154876709),\n",
       " ('governante', 0.6479029655456543),\n",
       " ('sábio', 0.6425215005874634)]"
      ]
     },
     "execution_count": 7,
     "metadata": {},
     "output_type": "execute_result"
    }
   ],
   "source": [
    "model.most_similar(positive=['rei', 'homem'], negative=['mulher'], topn=10)"
   ]
  },
  {
   "cell_type": "code",
   "execution_count": 8,
   "metadata": {},
   "outputs": [
    {
     "data": {
      "text/plain": [
       "[('mulher', 0.6531288623809814),\n",
       " ('menina', 0.6371707916259766),\n",
       " ('rapariga', 0.6296486854553223),\n",
       " ('bruxa', 0.6230096220970154),\n",
       " ('moça', 0.6222633719444275),\n",
       " ('transexual', 0.6198751330375671),\n",
       " ('travesti', 0.6156657934188843),\n",
       " ('loira', 0.6112785339355469),\n",
       " ('criança', 0.6051071882247925),\n",
       " ('loura', 0.6048169732093811)]"
      ]
     },
     "execution_count": 8,
     "metadata": {},
     "output_type": "execute_result"
    }
   ],
   "source": [
    "model.most_similar(positive=['rainha', 'homem'], negative=['rei'], topn=10)"
   ]
  },
  {
   "cell_type": "code",
   "execution_count": 9,
   "metadata": {},
   "outputs": [
    {
     "data": {
      "text/plain": [
       "[('parricida', 0.6153924465179443),\n",
       " ('professor.', 0.6031021475791931),\n",
       " ('pai', 0.6001143455505371),\n",
       " ('adúltero', 0.5956584215164185),\n",
       " ('enteado', 0.5953869819641113),\n",
       " ('concubina', 0.5945256352424622),\n",
       " ('helmiques', 0.593957781791687),\n",
       " ('cúmplice', 0.5923445820808411),\n",
       " ('clodérico', 0.5908956527709961),\n",
       " ('carcereiro', 0.5907853841781616)]"
      ]
     },
     "execution_count": 9,
     "metadata": {},
     "output_type": "execute_result"
    }
   ],
   "source": [
    "model.most_similar(positive=['rei', 'mulher'], negative=['rainha'], topn=10)"
   ]
  },
  {
   "cell_type": "code",
   "execution_count": 10,
   "metadata": {},
   "outputs": [],
   "source": [
    "model_glove = KeyedVectors.load_word2vec_format('/media/discoD/embeddings/glove/glove_s100.txt')"
   ]
  },
  {
   "cell_type": "code",
   "execution_count": 11,
   "metadata": {},
   "outputs": [
    {
     "data": {
      "text/plain": [
       "[('morto', 0.6817996501922607),\n",
       " ('outro', 0.6672437787055969),\n",
       " ('próprio', 0.6613948941230774),\n",
       " ('criminoso', 0.6420975923538208),\n",
       " ('velho', 0.6343607306480408),\n",
       " ('ele', 0.6255717277526855),\n",
       " ('amigo', 0.6206011772155762),\n",
       " ('verdadeiro', 0.6161354780197144),\n",
       " ('pai', 0.6159656047821045),\n",
       " ('aquele', 0.6141542196273804)]"
      ]
     },
     "execution_count": 11,
     "metadata": {},
     "output_type": "execute_result"
    }
   ],
   "source": [
    "model_glove.most_similar(positive=['rei', 'homem'], negative=['rainha'], topn=10)"
   ]
  },
  {
   "cell_type": "code",
   "execution_count": 12,
   "metadata": {},
   "outputs": [
    {
     "data": {
      "text/plain": [
       "[('homem', 0.8387821912765503),\n",
       " ('pai', 0.7724219560623169),\n",
       " ('marido', 0.7635302543640137),\n",
       " ('jovem', 0.7348281145095825),\n",
       " ('filho', 0.7216610908508301),\n",
       " ('irmão', 0.7166860103607178),\n",
       " ('morte', 0.713001012802124),\n",
       " ('rapaz', 0.7119288444519043),\n",
       " ('morto', 0.6929062604904175),\n",
       " ('vítima', 0.6879963278770447)]"
      ]
     },
     "execution_count": 12,
     "metadata": {},
     "output_type": "execute_result"
    }
   ],
   "source": [
    "model_glove.most_similar(positive=['rei', 'mulher'], negative=['rainha'], topn=10)"
   ]
  },
  {
   "cell_type": "code",
   "execution_count": 13,
   "metadata": {},
   "outputs": [
    {
     "data": {
      "text/plain": [
       "[('rainha', 0.8619308471679688),\n",
       " ('princesa', 0.7710514068603516),\n",
       " ('esposa', 0.727602481842041),\n",
       " ('filha', 0.7210227251052856),\n",
       " ('isabel', 0.7201606035232544),\n",
       " ('consorte', 0.7145142555236816),\n",
       " ('irmã', 0.7085468769073486),\n",
       " ('príncipe', 0.7065805792808533),\n",
       " ('infanta', 0.6946784257888794),\n",
       " ('trono', 0.6820836067199707)]"
      ]
     },
     "execution_count": 13,
     "metadata": {},
     "output_type": "execute_result"
    }
   ],
   "source": [
    "model_glove.most_similar(positive=['rei', 'mulher'], negative=['homem'], topn=10)"
   ]
  },
  {
   "cell_type": "code",
   "execution_count": 14,
   "metadata": {},
   "outputs": [
    {
     "data": {
      "text/plain": [
       "[('mulher', 0.8624049425125122),\n",
       " ('menina', 0.7484058141708374),\n",
       " ('garota', 0.7352800369262695),\n",
       " ('criança', 0.7176203727722168),\n",
       " ('ela', 0.6958951950073242),\n",
       " ('rapaz', 0.6932846307754517),\n",
       " ('mãe', 0.6931593418121338),\n",
       " ('rapariga', 0.6819753050804138),\n",
       " ('jovem', 0.6725677251815796),\n",
       " ('amiga', 0.6661267280578613)]"
      ]
     },
     "execution_count": 14,
     "metadata": {},
     "output_type": "execute_result"
    }
   ],
   "source": [
    "model_glove.most_similar(positive=['rainha', 'homem'], negative=['rei'], topn=10)"
   ]
  },
  {
   "cell_type": "code",
   "execution_count": 15,
   "metadata": {},
   "outputs": [
    {
     "data": {
      "text/plain": [
       "[('filha', 0.7711759805679321),\n",
       " ('irmã', 0.7552363276481628),\n",
       " ('esposa', 0.7382581233978271),\n",
       " ('viúva', 0.7201449871063232),\n",
       " ('filho', 0.7190539836883545),\n",
       " ('sobrinha', 0.710273027420044),\n",
       " ('pai', 0.6981918811798096),\n",
       " ('mãe', 0.6899541616439819),\n",
       " ('avô', 0.6852066516876221),\n",
       " ('marido', 0.6799922585487366)]"
      ]
     },
     "execution_count": 15,
     "metadata": {},
     "output_type": "execute_result"
    }
   ],
   "source": [
    "model_glove.most_similar(positive=['moça', 'irmão'], negative=['rapaz'], topn=10)"
   ]
  },
  {
   "cell_type": "code",
   "execution_count": 16,
   "metadata": {},
   "outputs": [
    {
     "data": {
      "text/plain": [
       "[('rainha', 0.7135931253433228),\n",
       " ('consorte', 0.6685947775840759),\n",
       " ('monarca', 0.6569160223007202),\n",
       " ('coroa', 0.643356442451477),\n",
       " ('imperador', 0.6411739587783813),\n",
       " ('princesa', 0.6382791996002197),\n",
       " ('herdeira', 0.623744010925293),\n",
       " ('príncipe', 0.6106195449829102),\n",
       " ('abdicação', 0.6089146137237549),\n",
       " ('majestade', 0.6071006655693054)]"
      ]
     },
     "execution_count": 16,
     "metadata": {},
     "output_type": "execute_result"
    }
   ],
   "source": [
    "model_glove.most_similar(positive=['moça', 'rei'], negative=['rapaz'], topn=10)"
   ]
  },
  {
   "cell_type": "code",
   "execution_count": 17,
   "metadata": {},
   "outputs": [
    {
     "data": {
      "image/png": "[encoded data removed]",
      "text/plain": [
       "<Figure size 1152x648 with 1 Axes>"
      ]
     },
     "metadata": {
      "needs_background": "light"
     },
     "output_type": "display_data"
    }
   ],
   "source": [
    "plot(model_glove, word_list)"
   ]
  },
  {
   "cell_type": "code",
   "execution_count": 18,
   "metadata": {},
   "outputs": [
    {
     "ename": "FileNotFoundError",
     "evalue": "[Errno 2] No such file or directory: '/media/discoD/embeddings/glove-lc_jur/s100_jur2vec-nilc-brwac_win-15-8.txt'",
     "output_type": "error",
     "traceback": [
      "\u001b[0;31m---------------------------------------------------------------------------\u001b[0m",
      "\u001b[0;31mFileNotFoundError\u001b[0m                         Traceback (most recent call last)",
      "\u001b[0;32m<ipython-input-18-432da6911fbe>\u001b[0m in \u001b[0;36m<module>\u001b[0;34m\u001b[0m\n\u001b[0;32m----> 1\u001b[0;31m \u001b[0mmodel_jur\u001b[0m \u001b[0;34m=\u001b[0m \u001b[0mKeyedVectors\u001b[0m\u001b[0;34m.\u001b[0m\u001b[0mload_word2vec_format\u001b[0m\u001b[0;34m(\u001b[0m\u001b[0;34m'/media/discoD/embeddings/glove-lc_jur/s100_jur2vec-nilc-brwac_win-15-8.txt'\u001b[0m\u001b[0;34m)\u001b[0m\u001b[0;34m\u001b[0m\u001b[0;34m\u001b[0m\u001b[0m\n\u001b[0m",
      "\u001b[0;32m/media/discoD/anaconda3/envs/jurimetria/lib/python3.6/site-packages/gensim/models/keyedvectors.py\u001b[0m in \u001b[0;36mload_word2vec_format\u001b[0;34m(cls, fname, fvocab, binary, encoding, unicode_errors, limit, datatype)\u001b[0m\n\u001b[1;32m   1496\u001b[0m         return _load_word2vec_format(\n\u001b[1;32m   1497\u001b[0m             \u001b[0mcls\u001b[0m\u001b[0;34m,\u001b[0m \u001b[0mfname\u001b[0m\u001b[0;34m,\u001b[0m \u001b[0mfvocab\u001b[0m\u001b[0;34m=\u001b[0m\u001b[0mfvocab\u001b[0m\u001b[0;34m,\u001b[0m \u001b[0mbinary\u001b[0m\u001b[0;34m=\u001b[0m\u001b[0mbinary\u001b[0m\u001b[0;34m,\u001b[0m \u001b[0mencoding\u001b[0m\u001b[0;34m=\u001b[0m\u001b[0mencoding\u001b[0m\u001b[0;34m,\u001b[0m \u001b[0municode_errors\u001b[0m\u001b[0;34m=\u001b[0m\u001b[0municode_errors\u001b[0m\u001b[0;34m,\u001b[0m\u001b[0;34m\u001b[0m\u001b[0;34m\u001b[0m\u001b[0m\n\u001b[0;32m-> 1498\u001b[0;31m             limit=limit, datatype=datatype)\n\u001b[0m\u001b[1;32m   1499\u001b[0m \u001b[0;34m\u001b[0m\u001b[0m\n\u001b[1;32m   1500\u001b[0m     \u001b[0;32mdef\u001b[0m \u001b[0mget_keras_embedding\u001b[0m\u001b[0;34m(\u001b[0m\u001b[0mself\u001b[0m\u001b[0;34m,\u001b[0m \u001b[0mtrain_embeddings\u001b[0m\u001b[0;34m=\u001b[0m\u001b[0;32mFalse\u001b[0m\u001b[0;34m)\u001b[0m\u001b[0;34m:\u001b[0m\u001b[0;34m\u001b[0m\u001b[0;34m\u001b[0m\u001b[0m\n",
      "\u001b[0;32m/media/discoD/anaconda3/envs/jurimetria/lib/python3.6/site-packages/gensim/models/utils_any2vec.py\u001b[0m in \u001b[0;36m_load_word2vec_format\u001b[0;34m(cls, fname, fvocab, binary, encoding, unicode_errors, limit, datatype)\u001b[0m\n\u001b[1;32m    340\u001b[0m \u001b[0;34m\u001b[0m\u001b[0m\n\u001b[1;32m    341\u001b[0m     \u001b[0mlogger\u001b[0m\u001b[0;34m.\u001b[0m\u001b[0minfo\u001b[0m\u001b[0;34m(\u001b[0m\u001b[0;34m\"loading projection weights from %s\"\u001b[0m\u001b[0;34m,\u001b[0m \u001b[0mfname\u001b[0m\u001b[0;34m)\u001b[0m\u001b[0;34m\u001b[0m\u001b[0;34m\u001b[0m\u001b[0m\n\u001b[0;32m--> 342\u001b[0;31m     \u001b[0;32mwith\u001b[0m \u001b[0mutils\u001b[0m\u001b[0;34m.\u001b[0m\u001b[0mopen\u001b[0m\u001b[0;34m(\u001b[0m\u001b[0mfname\u001b[0m\u001b[0;34m,\u001b[0m \u001b[0;34m'rb'\u001b[0m\u001b[0;34m)\u001b[0m \u001b[0;32mas\u001b[0m \u001b[0mfin\u001b[0m\u001b[0;34m:\u001b[0m\u001b[0;34m\u001b[0m\u001b[0;34m\u001b[0m\u001b[0m\n\u001b[0m\u001b[1;32m    343\u001b[0m         \u001b[0mheader\u001b[0m \u001b[0;34m=\u001b[0m \u001b[0mutils\u001b[0m\u001b[0;34m.\u001b[0m\u001b[0mto_unicode\u001b[0m\u001b[0;34m(\u001b[0m\u001b[0mfin\u001b[0m\u001b[0;34m.\u001b[0m\u001b[0mreadline\u001b[0m\u001b[0;34m(\u001b[0m\u001b[0;34m)\u001b[0m\u001b[0;34m,\u001b[0m \u001b[0mencoding\u001b[0m\u001b[0;34m=\u001b[0m\u001b[0mencoding\u001b[0m\u001b[0;34m)\u001b[0m\u001b[0;34m\u001b[0m\u001b[0;34m\u001b[0m\u001b[0m\n\u001b[1;32m    344\u001b[0m         \u001b[0mvocab_size\u001b[0m\u001b[0;34m,\u001b[0m \u001b[0mvector_size\u001b[0m \u001b[0;34m=\u001b[0m \u001b[0;34m(\u001b[0m\u001b[0mint\u001b[0m\u001b[0;34m(\u001b[0m\u001b[0mx\u001b[0m\u001b[0;34m)\u001b[0m \u001b[0;32mfor\u001b[0m \u001b[0mx\u001b[0m \u001b[0;32min\u001b[0m \u001b[0mheader\u001b[0m\u001b[0;34m.\u001b[0m\u001b[0msplit\u001b[0m\u001b[0;34m(\u001b[0m\u001b[0;34m)\u001b[0m\u001b[0;34m)\u001b[0m  \u001b[0;31m# throws for invalid file format\u001b[0m\u001b[0;34m\u001b[0m\u001b[0;34m\u001b[0m\u001b[0m\n",
      "\u001b[0;32m/media/discoD/anaconda3/envs/jurimetria/lib/python3.6/site-packages/smart_open/smart_open_lib.py\u001b[0m in \u001b[0;36mopen\u001b[0;34m(uri, mode, buffering, encoding, errors, newline, closefd, opener, ignore_ext, transport_params)\u001b[0m\n\u001b[1;32m    305\u001b[0m         \u001b[0mbuffering\u001b[0m\u001b[0;34m=\u001b[0m\u001b[0mbuffering\u001b[0m\u001b[0;34m,\u001b[0m\u001b[0;34m\u001b[0m\u001b[0;34m\u001b[0m\u001b[0m\n\u001b[1;32m    306\u001b[0m         \u001b[0mencoding\u001b[0m\u001b[0;34m=\u001b[0m\u001b[0mencoding\u001b[0m\u001b[0;34m,\u001b[0m\u001b[0;34m\u001b[0m\u001b[0;34m\u001b[0m\u001b[0m\n\u001b[0;32m--> 307\u001b[0;31m         \u001b[0merrors\u001b[0m\u001b[0;34m=\u001b[0m\u001b[0merrors\u001b[0m\u001b[0;34m,\u001b[0m\u001b[0;34m\u001b[0m\u001b[0;34m\u001b[0m\u001b[0m\n\u001b[0m\u001b[1;32m    308\u001b[0m     )\n\u001b[1;32m    309\u001b[0m     \u001b[0;32mif\u001b[0m \u001b[0mfobj\u001b[0m \u001b[0;32mis\u001b[0m \u001b[0;32mnot\u001b[0m \u001b[0;32mNone\u001b[0m\u001b[0;34m:\u001b[0m\u001b[0;34m\u001b[0m\u001b[0;34m\u001b[0m\u001b[0m\n",
      "\u001b[0;32m/media/discoD/anaconda3/envs/jurimetria/lib/python3.6/site-packages/smart_open/smart_open_lib.py\u001b[0m in \u001b[0;36m_shortcut_open\u001b[0;34m(uri, mode, ignore_ext, buffering, encoding, errors)\u001b[0m\n\u001b[1;32m    510\u001b[0m     \u001b[0;31m#\u001b[0m\u001b[0;34m\u001b[0m\u001b[0;34m\u001b[0m\u001b[0;34m\u001b[0m\u001b[0m\n\u001b[1;32m    511\u001b[0m     \u001b[0;32mif\u001b[0m \u001b[0msix\u001b[0m\u001b[0;34m.\u001b[0m\u001b[0mPY3\u001b[0m\u001b[0;34m:\u001b[0m\u001b[0;34m\u001b[0m\u001b[0;34m\u001b[0m\u001b[0m\n\u001b[0;32m--> 512\u001b[0;31m         \u001b[0;32mreturn\u001b[0m \u001b[0m_builtin_open\u001b[0m\u001b[0;34m(\u001b[0m\u001b[0mparsed_uri\u001b[0m\u001b[0;34m.\u001b[0m\u001b[0muri_path\u001b[0m\u001b[0;34m,\u001b[0m \u001b[0mmode\u001b[0m\u001b[0;34m,\u001b[0m \u001b[0mbuffering\u001b[0m\u001b[0;34m=\u001b[0m\u001b[0mbuffering\u001b[0m\u001b[0;34m,\u001b[0m \u001b[0;34m**\u001b[0m\u001b[0mopen_kwargs\u001b[0m\u001b[0;34m)\u001b[0m\u001b[0;34m\u001b[0m\u001b[0;34m\u001b[0m\u001b[0m\n\u001b[0m\u001b[1;32m    513\u001b[0m     \u001b[0;32melif\u001b[0m \u001b[0;32mnot\u001b[0m \u001b[0mopen_kwargs\u001b[0m\u001b[0;34m:\u001b[0m\u001b[0;34m\u001b[0m\u001b[0;34m\u001b[0m\u001b[0m\n\u001b[1;32m    514\u001b[0m         \u001b[0;32mreturn\u001b[0m \u001b[0m_builtin_open\u001b[0m\u001b[0;34m(\u001b[0m\u001b[0mparsed_uri\u001b[0m\u001b[0;34m.\u001b[0m\u001b[0muri_path\u001b[0m\u001b[0;34m,\u001b[0m \u001b[0mmode\u001b[0m\u001b[0;34m,\u001b[0m \u001b[0mbuffering\u001b[0m\u001b[0;34m=\u001b[0m\u001b[0mbuffering\u001b[0m\u001b[0;34m)\u001b[0m\u001b[0;34m\u001b[0m\u001b[0;34m\u001b[0m\u001b[0m\n",
      "\u001b[0;31mFileNotFoundError\u001b[0m: [Errno 2] No such file or directory: '/media/discoD/embeddings/glove-lc_jur/s100_jur2vec-nilc-brwac_win-15-8.txt'"
     ]
    }
   ],
   "source": [
    "model_jur = KeyedVectors.load_word2vec_format('/media/discoD/embeddings/glove-lc_jur/s100_jur2vec-nilc-brwac_win-15-8.txt')"
   ]
  },
  {
   "cell_type": "code",
   "execution_count": null,
   "metadata": {},
   "outputs": [],
   "source": [
    "plot(model_jur, word_list)"
   ]
  },
  {
   "cell_type": "code",
   "execution_count": null,
   "metadata": {},
   "outputs": [],
   "source": [
    "model_jur.most_similar(positive=['rei', 'mulher'], negative=['rainha'], topn=10)"
   ]
  },
  {
   "cell_type": "code",
   "execution_count": null,
   "metadata": {},
   "outputs": [],
   "source": [
    "model_jur.most_similar(positive=['rei', 'mulher'], negative=['homem'], topn=10)"
   ]
  },
  {
   "cell_type": "code",
   "execution_count": null,
   "metadata": {},
   "outputs": [],
   "source": [
    "model_jur.most_similar(positive=['réu', 'reclamante'], negative=['autor'], topn=10)"
   ]
  },
  {
   "cell_type": "code",
   "execution_count": null,
   "metadata": {},
   "outputs": [],
   "source": [
    "model_jur_lg = KeyedVectors.load_word2vec_format('/media/discoD/embeddings/glove-lc_jur/s300_jur2vec-nilc-brwac_win-15-7.txt')"
   ]
  },
  {
   "cell_type": "code",
   "execution_count": null,
   "metadata": {},
   "outputs": [],
   "source": [
    "model_jur_lg.most_similar(positive=['rei', 'mulher'], negative=['rainha'], topn=10)"
   ]
  },
  {
   "cell_type": "code",
   "execution_count": null,
   "metadata": {},
   "outputs": [],
   "source": [
    "model_jur_lg.most_similar(positive=['rei', 'mulher'], negative=['homem'], topn=10)"
   ]
  },
  {
   "cell_type": "code",
   "execution_count": null,
   "metadata": {},
   "outputs": [],
   "source": [
    "model_jur_lg.most_similar(positive=['réu', 'reclamante'], negative=['autor'], topn=10)"
   ]
  },
  {
   "cell_type": "code",
   "execution_count": null,
   "metadata": {},
   "outputs": [],
   "source": []
  }
 ],
 "metadata": {
  "kernelspec": {
   "display_name": "jurimetria",
   "language": "python",
   "name": "jurimetria"
  },
  "language_info": {
   "codemirror_mode": {
    "name": "ipython",
    "version": 3
   },
   "file_extension": ".py",
   "mimetype": "text/x-python",
   "name": "python",
   "nbconvert_exporter": "python",
   "pygments_lexer": "ipython3",
   "version": "3.6.9"
  }
 },
 "nbformat": 4,
 "nbformat_minor": 2
}
