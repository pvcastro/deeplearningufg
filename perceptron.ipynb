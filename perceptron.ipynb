{
 "cells": [
  {
   "cell_type": "code",
   "execution_count": 1,
   "metadata": {
    "collapsed": true
   },
   "outputs": [],
   "source": [
    "import numpy as np\n",
    "import matplotlib.pyplot as plt"
   ]
  },
  {
   "cell_type": "code",
   "execution_count": 2,
   "metadata": {
    "collapsed": true
   },
   "outputs": [],
   "source": [
    "def funcao_ativacao(potencial_ativacao_u):\n",
    "    return potencial_ativacao_u >= 0"
   ]
  },
  {
   "cell_type": "code",
   "execution_count": 7,
   "metadata": {
    "collapsed": false
   },
   "outputs": [],
   "source": [
    "def plotar_fronteira(pesos, entradas, desejados):\n",
    "    plt.style.use('ggplot')\n",
    "\n",
    "    b, w1, w2 = pesos\n",
    "    print(\"pesos:\")\n",
    "    print(b, w1, w2)\n",
    "    x = b / w1\n",
    "    y = b / w2\n",
    "    d = y\n",
    "    c = -y / x\n",
    "\n",
    "    line_x_coords = np.array([0, x])\n",
    "    print(\"coordenadas x:\")\n",
    "    print(line_x_coords)\n",
    "    line_y_coords = c * line_x_coords + d\n",
    "    print(\"coordenadas y:\")\n",
    "    print(line_y_coords)\n",
    "\n",
    "    plt.plot(line_x_coords, line_y_coords)\n",
    "    plt.scatter(entradas[:, 0], entradas[:, 1], c=desejados, s=75)\n",
    "    plt.show()"
   ]
  },
  {
   "cell_type": "code",
   "execution_count": 8,
   "metadata": {
    "collapsed": false
   },
   "outputs": [],
   "source": [
    "def perceptron(iteracoes_maxima, erros, taxa_aprendizagem, entradas_x, desejados_d):\n",
    "    ##Trata bias como um peso w0\n",
    "    pesos_w = np.array([-.8649, .3192, .3129])\n",
    "    ##Adiciona um coeficiente -1 para o bias na matriz de entradas\n",
    "    np_entradas = np.c_[ (np.ones(entradas_x.shape[0]) * -1), entradas_x ]\n",
    "    epoca = 1\n",
    "    temErros = True\n",
    "    while (epoca < iteracoes_maxima and temErros):\n",
    "        saidas_y = funcao_ativacao(np.dot(np_entradas, pesos_w))\n",
    "        erros_e = desejados_d - saidas_y\n",
    "        pesos_w += taxa_aprendizagem * np.dot(erros_e, np_entradas)\n",
    "        correspondencias = desejados_d == saidas_y\n",
    "        erros_epoca = np.sum(correspondencias == 0)\n",
    "        erros.append(erros_epoca)\n",
    "        temErros = erros_epoca > 0\n",
    "        if ((epoca == 1 or epoca % 5 == 0) or (not temErros)):\n",
    "            print(\"época \" + str(epoca))\n",
    "            plotar_fronteira(pesos_w, entradas_x, desejados_d)\n",
    "        if (temErros):\n",
    "            epoca += 1\n",
    "    return pesos_w, epoca, erros"
   ]
  },
  {
   "cell_type": "code",
   "execution_count": 5,
   "metadata": {
    "collapsed": false
   },
   "outputs": [
    {
     "name": "stdout",
     "output_type": "stream",
     "text": [
      "época 1\n",
      "pesos:\n",
      "-0.7649 0.3192 0.3129\n",
      "coordenadas x:\n",
      "[ 0.         -2.39630326]\n",
      "coordenadas y:\n",
      "[-2.44455097  0.        ]\n"
     ]
    },
    {
     "data": {
      "image/png": "[encoded data removed]",
      "text/plain": [
       "<matplotlib.figure.Figure at 0x108da30f0>"
      ]
     },
     "metadata": {},
     "output_type": "display_data"
    },
    {
     "name": "stdout",
     "output_type": "stream",
     "text": [
      "época 5\n",
      "pesos:\n",
      "-0.3649 0.3192 0.3129\n",
      "coordenadas x:\n",
      "[ 0.         -1.14317043]\n",
      "coordenadas y:\n",
      "[-1.16618728  0.        ]\n"
     ]
    },
    {
     "data": {
      "image/png": "[encoded data removed]",
      "text/plain": [
       "<matplotlib.figure.Figure at 0x10b381828>"
      ]
     },
     "metadata": {},
     "output_type": "display_data"
    },
    {
     "name": "stdout",
     "output_type": "stream",
     "text": [
      "época 10\n",
      "pesos:\n",
      "0.0351 0.3192 0.3129\n",
      "coordenadas x:\n",
      "[ 0.          0.10996241]\n",
      "coordenadas y:\n",
      "[ 0.11217641  0.        ]\n"
     ]
    },
    {
     "data": {
      "image/png": "[encoded data removed]",
      "text/plain": [
       "<matplotlib.figure.Figure at 0x10898ef60>"
      ]
     },
     "metadata": {},
     "output_type": "display_data"
    },
    {
     "name": "stdout",
     "output_type": "stream",
     "text": [
      "final:\n",
      "pesos [ 0.0351  0.3192  0.3129]\n",
      "10 épocas\n"
     ]
    }
   ],
   "source": [
    "np_desejados = np.array([0, 1, 1, 1])\n",
    "entradas = np.array([[0, 0], [0, 1], [1, 0], [1, 1]])\n",
    "pesos, epocas, erros = perceptron(iteracoes_maxima=500, erros=[], taxa_aprendizagem=0.1, entradas_x=entradas, desejados_d=np_desejados)\n",
    "print(\"final:\\npesos %s\\n%s épocas\" % (str(pesos), str(epocas)))"
   ]
  },
  {
   "cell_type": "code",
   "execution_count": 6,
   "metadata": {
    "collapsed": false
   },
   "outputs": [
    {
     "data": {
      "text/plain": [
       "array([False,  True,  True,  True], dtype=bool)"
      ]
     },
     "execution_count": 6,
     "metadata": {},
     "output_type": "execute_result"
    }
   ],
   "source": [
    "##Testa função de ativação com pesos finais\n",
    "np_entradas = np.c_[ (np.ones(entradas.shape[0]) * -1), entradas ]\n",
    "funcao_ativacao(np.dot(np_entradas, pesos))"
   ]
  },
  {
   "cell_type": "code",
   "execution_count": null,
   "metadata": {
    "collapsed": true
   },
   "outputs": [],
   "source": []
  }
 ],
 "metadata": {
  "kernelspec": {
   "display_name": "Python 3",
   "language": "python",
   "name": "python3"
  },
  "language_info": {
   "codemirror_mode": {
    "name": "ipython",
    "version": 3
   },
   "file_extension": ".py",
   "mimetype": "text/x-python",
   "name": "python",
   "nbconvert_exporter": "python",
   "pygments_lexer": "ipython3",
   "version": "3.6.0"
  }
 },
 "nbformat": 4,
 "nbformat_minor": 2
}
