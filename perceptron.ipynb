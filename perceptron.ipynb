{
 "cells": [
  {
   "cell_type": "code",
   "execution_count": 53,
   "metadata": {
    "collapsed": true
   },
   "outputs": [],
   "source": [
    "import numpy as np\n",
    "import matplotlib.pyplot as plt"
   ]
  },
  {
   "cell_type": "code",
   "execution_count": 54,
   "metadata": {
    "collapsed": true
   },
   "outputs": [],
   "source": [
    "def funcao_ativacao(potencial_ativacao_u):\n",
    "    return potencial_ativacao_u >= 0"
   ]
  },
  {
   "cell_type": "code",
   "execution_count": 55,
   "metadata": {
    "collapsed": false
   },
   "outputs": [],
   "source": [
    "def plotar_fronteira(pesos, entradas, desejados):\n",
    "    plt.style.use('ggplot')\n",
    "\n",
    "    b, w1, w2 = pesos\n",
    "    print(\"pesos:\")\n",
    "    print(b, w1, w2)\n",
    "    x = -b / w1\n",
    "    y = -b / w2\n",
    "    d = y\n",
    "    c = -y / x\n",
    "\n",
    "    line_x_coords = np.array([0, x])\n",
    "    print(\"coordenadas x:\")\n",
    "    print(line_x_coords)\n",
    "    line_y_coords = c * line_x_coords + d\n",
    "    print(\"coordenadas y:\")\n",
    "    print(line_y_coords)\n",
    "\n",
    "    plt.plot(line_x_coords, line_y_coords)\n",
    "    plt.scatter(entradas[:, 0], entradas[:, 1], c=desejados, s=75)\n",
    "    plt.show()"
   ]
  },
  {
   "cell_type": "code",
   "execution_count": 64,
   "metadata": {
    "collapsed": false
   },
   "outputs": [],
   "source": [
    "def perceptron(iteracoes_maxima, erros, taxa_aprendizagem, entradas_x, pesos_w, desejados_d, plot = True, debug = False):\n",
    "    ##Adiciona um coeficiente 1 para o bias na matriz de entradas\n",
    "    np_entradas = np.c_[np.ones(entradas_x.shape[0]), entradas_x]\n",
    "    if debug:\n",
    "        print(\"entradas: \" + str(np_entradas))\n",
    "    epoca = 1\n",
    "    temErros = True\n",
    "    while (epoca < iteracoes_maxima and temErros):\n",
    "        erros_epoca = 0\n",
    "        for i in range(len(np_entradas)):\n",
    "            entrada = np_entradas[i]\n",
    "            if debug:\n",
    "                print(\"entrada: \" + str(entrada))\n",
    "            desejado = np_desejados[i]\n",
    "            if debug:\n",
    "                print(\"desejado: \" + str(desejado))\n",
    "            if debug:\n",
    "                print(\"pesos: \" + str(pesos_w))\n",
    "            potencial_ativacao_u = np.dot(entrada, pesos_w)\n",
    "            if debug:\n",
    "                print(\"potencial de ativação u: \" + str(potencial_ativacao_u))\n",
    "            saida_y = funcao_ativacao(potencial_ativacao_u)\n",
    "            if debug:\n",
    "                print(\"saída y: \" + str(saida_y))\n",
    "            erro_e = desejado - saida_y\n",
    "            if debug:\n",
    "                print(\"erro: \" + str(erro_e))\n",
    "            mudanca_pesos = taxa_aprendizagem * np.dot(erro_e, entrada)\n",
    "            if debug:\n",
    "                print(\"mudança: \" + str(mudanca_pesos))\n",
    "            pesos_w += mudanca_pesos\n",
    "            if debug:\n",
    "                print(\"novos pesos: \" + str(pesos_w))\n",
    "            if desejado != saida_y:\n",
    "                erros_epoca += 1\n",
    "        erros.append(erros_epoca)\n",
    "        #print(\"época %s: %s erros\" % (str(epoca), str(erros_epoca)))\n",
    "        temErros = erros_epoca > 0\n",
    "        if (plot):\n",
    "            if ((epoca == 1 or epoca % 5 == 0) or (not temErros)):\n",
    "                print(\"época \" + str(epoca))\n",
    "                plotar_fronteira(pesos_w, entradas_x, desejados_d)\n",
    "        if (temErros):\n",
    "            epoca += 1\n",
    "            if debug:\n",
    "                print(\"tem erros, avançando para época \" + str(epoca))\n",
    "    return pesos_w, epoca, erros"
   ]
  },
  {
   "cell_type": "code",
   "execution_count": 63,
   "metadata": {
    "collapsed": false
   },
   "outputs": [
    {
     "name": "stdout",
     "output_type": "stream",
     "text": [
      "entradas: [[ 1.  0.  0.]\n",
      " [ 1.  0.  1.]\n",
      " [ 1.  1.  0.]\n",
      " [ 1.  1.  1.]]\n",
      "entrada: [ 1.  0.  0.]\n",
      "desejado: 0\n",
      "pesos: [-0.8649  0.3192  0.3129]\n",
      "potencial de ativação u: -0.8649\n",
      "saída y: False\n",
      "erro: 0\n",
      "mudança: [ 0.  0.  0.]\n",
      "novos pesos: [-0.8649  0.3192  0.3129]\n",
      "entrada: [ 1.  0.  1.]\n",
      "desejado: 1\n",
      "pesos: [-0.8649  0.3192  0.3129]\n",
      "potencial de ativação u: -0.552\n",
      "saída y: False\n",
      "erro: 1\n",
      "mudança: [ 0.1  0.   0.1]\n",
      "novos pesos: [-0.7649  0.3192  0.4129]\n",
      "entrada: [ 1.  1.  0.]\n",
      "desejado: 1\n",
      "pesos: [-0.7649  0.3192  0.4129]\n",
      "potencial de ativação u: -0.4457\n",
      "saída y: False\n",
      "erro: 1\n",
      "mudança: [ 0.1  0.1  0. ]\n",
      "novos pesos: [-0.6649  0.4192  0.4129]\n",
      "entrada: [ 1.  1.  1.]\n",
      "desejado: 1\n",
      "pesos: [-0.6649  0.4192  0.4129]\n",
      "potencial de ativação u: 0.1672\n",
      "saída y: True\n",
      "erro: 0\n",
      "mudança: [ 0.  0.  0.]\n",
      "novos pesos: [-0.6649  0.4192  0.4129]\n",
      "tem erros, avançando para época 2\n",
      "entrada: [ 1.  0.  0.]\n",
      "desejado: 0\n",
      "pesos: [-0.6649  0.4192  0.4129]\n",
      "potencial de ativação u: -0.6649\n",
      "saída y: False\n",
      "erro: 0\n",
      "mudança: [ 0.  0.  0.]\n",
      "novos pesos: [-0.6649  0.4192  0.4129]\n",
      "entrada: [ 1.  0.  1.]\n",
      "desejado: 1\n",
      "pesos: [-0.6649  0.4192  0.4129]\n",
      "potencial de ativação u: -0.252\n",
      "saída y: False\n",
      "erro: 1\n",
      "mudança: [ 0.1  0.   0.1]\n",
      "novos pesos: [-0.5649  0.4192  0.5129]\n",
      "entrada: [ 1.  1.  0.]\n",
      "desejado: 1\n",
      "pesos: [-0.5649  0.4192  0.5129]\n",
      "potencial de ativação u: -0.1457\n",
      "saída y: False\n",
      "erro: 1\n",
      "mudança: [ 0.1  0.1  0. ]\n",
      "novos pesos: [-0.4649  0.5192  0.5129]\n",
      "entrada: [ 1.  1.  1.]\n",
      "desejado: 1\n",
      "pesos: [-0.4649  0.5192  0.5129]\n",
      "potencial de ativação u: 0.5672\n",
      "saída y: True\n",
      "erro: 0\n",
      "mudança: [ 0.  0.  0.]\n",
      "novos pesos: [-0.4649  0.5192  0.5129]\n",
      "tem erros, avançando para época 3\n",
      "entrada: [ 1.  0.  0.]\n",
      "desejado: 0\n",
      "pesos: [-0.4649  0.5192  0.5129]\n",
      "potencial de ativação u: -0.4649\n",
      "saída y: False\n",
      "erro: 0\n",
      "mudança: [ 0.  0.  0.]\n",
      "novos pesos: [-0.4649  0.5192  0.5129]\n",
      "entrada: [ 1.  0.  1.]\n",
      "desejado: 1\n",
      "pesos: [-0.4649  0.5192  0.5129]\n",
      "potencial de ativação u: 0.048\n",
      "saída y: True\n",
      "erro: 0\n",
      "mudança: [ 0.  0.  0.]\n",
      "novos pesos: [-0.4649  0.5192  0.5129]\n",
      "entrada: [ 1.  1.  0.]\n",
      "desejado: 1\n",
      "pesos: [-0.4649  0.5192  0.5129]\n",
      "potencial de ativação u: 0.0543\n",
      "saída y: True\n",
      "erro: 0\n",
      "mudança: [ 0.  0.  0.]\n",
      "novos pesos: [-0.4649  0.5192  0.5129]\n",
      "entrada: [ 1.  1.  1.]\n",
      "desejado: 1\n",
      "pesos: [-0.4649  0.5192  0.5129]\n",
      "potencial de ativação u: 0.5672\n",
      "saída y: True\n",
      "erro: 0\n",
      "mudança: [ 0.  0.  0.]\n",
      "novos pesos: [-0.4649  0.5192  0.5129]\n",
      "final:\n",
      "pesos [-0.4649  0.5192  0.5129]\n",
      "3 épocas\n"
     ]
    }
   ],
   "source": [
    "##Trata bias como um peso w0\n",
    "pesos_w = np.array([-.8649, .3192, .3129])\n",
    "np_desejados = np.array([0, 1, 1, 1])\n",
    "entradas = np.array([[0, 0], [0, 1], [1, 0], [1, 1]])\n",
    "pesos, epocas, erros = perceptron(iteracoes_maxima=500, erros=[], taxa_aprendizagem=0.1, entradas_x=entradas, pesos_w=pesos_w, desejados_d=np_desejados, plot = False, debug = True)\n",
    "print(\"final:\\npesos %s\\n%s épocas\" % (str(pesos), str(epocas)))"
   ]
  },
  {
   "cell_type": "code",
   "execution_count": 58,
   "metadata": {
    "collapsed": false
   },
   "outputs": [
    {
     "data": {
      "text/plain": [
       "array([False,  True,  True,  True], dtype=bool)"
      ]
     },
     "execution_count": 58,
     "metadata": {},
     "output_type": "execute_result"
    }
   ],
   "source": [
    "##Testa função de ativação com pesos finais\n",
    "np_entradas = np.c_[ np.ones(entradas.shape[0]), entradas ]\n",
    "funcao_ativacao(np.dot(np_entradas, pesos))"
   ]
  },
  {
   "cell_type": "code",
   "execution_count": 59,
   "metadata": {
    "collapsed": false
   },
   "outputs": [
    {
     "name": "stdout",
     "output_type": "stream",
     "text": [
      "pesos:\n",
      "0.0 0.0 0.1\n",
      "coordenadas x:\n",
      "[  0.  nan]\n",
      "coordenadas y:\n",
      "[ nan  nan]\n"
     ]
    },
    {
     "name": "stderr",
     "output_type": "stream",
     "text": [
      "/Users/pvcastro/anaconda/lib/python3.6/site-packages/ipykernel/__main__.py:7: RuntimeWarning: invalid value encountered in double_scalars\n"
     ]
    },
    {
     "data": {
      "image/png": "[encoded data removed]",
      "text/plain": [
       "<matplotlib.figure.Figure at 0x1009807b8>"
      ]
     },
     "metadata": {},
     "output_type": "display_data"
    },
    {
     "name": "stdout",
     "output_type": "stream",
     "text": [
      "pesos:\n",
      "-0.1 0.1 0.1\n",
      "coordenadas x:\n",
      "[ 0.  1.]\n",
      "coordenadas y:\n",
      "[ 1.  0.]\n"
     ]
    },
    {
     "data": {
      "image/png": "[encoded data removed]",
      "text/plain": [
       "<matplotlib.figure.Figure at 0x10b0c46a0>"
      ]
     },
     "metadata": {},
     "output_type": "display_data"
    },
    {
     "name": "stdout",
     "output_type": "stream",
     "text": [
      "final:\n",
      "pesos [-0.1  0.1  0.1]\n",
      "4 épocas\n"
     ]
    }
   ],
   "source": [
    "##Trata bias como um peso w0\n",
    "pesos_w = np.zeros(3)\n",
    "np_desejados = np.array([0, 1, 1, 1])\n",
    "entradas = np.array([[0, 0], [0, 1], [1, 0], [1, 1]])\n",
    "pesos, epocas, erros = perceptron(iteracoes_maxima=500, erros=[], taxa_aprendizagem=0.1, entradas_x=entradas, pesos_w=pesos_w, desejados_d=np_desejados, plot = True, debug = False)\n",
    "print(\"final:\\npesos %s\\n%s épocas\" % (str(pesos), str(epocas)))"
   ]
  },
  {
   "cell_type": "code",
   "execution_count": null,
   "metadata": {
    "collapsed": true
   },
   "outputs": [],
   "source": []
  }
 ],
 "metadata": {
  "kernelspec": {
   "display_name": "Python 3",
   "language": "python",
   "name": "python3"
  },
  "language_info": {
   "codemirror_mode": {
    "name": "ipython",
    "version": 3
   },
   "file_extension": ".py",
   "mimetype": "text/x-python",
   "name": "python",
   "nbconvert_exporter": "python",
   "pygments_lexer": "ipython3",
   "version": "3.6.0"
  }
 },
 "nbformat": 4,
 "nbformat_minor": 2
}
