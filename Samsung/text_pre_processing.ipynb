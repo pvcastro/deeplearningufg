{
 "cells": [
  {
   "cell_type": "markdown",
   "metadata": {},
   "source": [
    "# Demonstration of the effects of text pre-processing"
   ]
  },
  {
   "cell_type": "code",
   "execution_count": 1,
   "metadata": {
    "collapsed": true,
    "scrolled": true
   },
   "outputs": [],
   "source": [
    "from __future__ import print_function\n",
    "\n",
    "import os\n",
    "import logging\n",
    "import json\n",
    "import warnings\n",
    "import gensim\n",
    "import nltk\n",
    "\n",
    "import pyLDAvis.gensim\n",
    "pyLDAvis.enable_notebook()\n",
    "\n",
    "import numpy as np\n",
    "\n",
    "from gensim.models import CoherenceModel, LdaModel\n",
    "from gensim.corpora import Dictionary\n",
    "\n",
    "from nltk.corpus import stopwords\n",
    "from nltk.tokenize import word_tokenize\n",
    "from nltk.stem import WordNetLemmatizer, PorterStemmer\n",
    "\n",
    "warnings.filterwarnings('ignore')  # To ignore all warnings that arise here to enhance clarity\n",
    "\n",
    "logging.basicConfig(format='%(asctime)s : %(levelname)s : %(message)s', level=logging.DEBUG)\n",
    "\n",
    "import load_lee_background_corpus as load_texts"
   ]
  },
  {
   "cell_type": "markdown",
   "metadata": {},
   "source": [
    "### Loading the corpus"
   ]
  },
  {
   "cell_type": "markdown",
   "metadata": {},
   "source": [
    "First we load the raw texts, with no pre-processing, to display the effects of each method on the raw text"
   ]
  },
  {
   "cell_type": "code",
   "execution_count": 2,
   "metadata": {},
   "outputs": [
    {
     "name": "stdout",
     "output_type": "stream",
     "text": [
      "/Users/home/Desenvolvimento/anaconda3/lib/python3.6/site-packages/gensim/test/test_data\n",
      "The Federal Government says it should be safe for Afghani asylum seekers in Australia to return home when the environment becomes secure. The Government has suspended their applications while the interim government is established in Kabul. The Foreign Affairs Minister Alexander Downer has refused to say for how long the claims process has been put on hold. But he says the major threat to most people seeking asylum is no longer there. \"Many Afghans who have tried to get into Australia or for that matter into Britain and other countries in north-west Europe have claimed that they are fleeing the Taliban,\" he said. \"Well, the Taliban is no longer in power in Afghanistan, the Taliban is finished.\" Meanwhile, there has been a mass airlift of detainees from Christmas Island to the Pacific Island of Nauru. In total, more than 300 people have been flown from the island in two operations using chartered aircraft. The second airlift today delivered 180 asylum seekers to Nauru where they will await processing of their claims for temporary visas. The Department of Immigration says there are now 211 detainees remaining on Christmas Island. A spokesman says a decision regarding their future is yet to be made. \n",
      "\n"
     ]
    }
   ],
   "source": [
    "texts = load_texts.get_raw_texts()\n",
    "sample_text = texts[5]\n",
    "print(sample_text)"
   ]
  },
  {
   "cell_type": "markdown",
   "metadata": {},
   "source": [
    "### Lowercase, punctuation removal, accents and removal by word length"
   ]
  },
  {
   "cell_type": "code",
   "execution_count": 3,
   "metadata": {},
   "outputs": [
    {
     "name": "stdout",
     "output_type": "stream",
     "text": [
      "['the', 'federal', 'government', 'says', 'should', 'safe', 'for', 'afghani', 'asylum', 'seekers', 'australia', 'return', 'home', 'when', 'the', 'becomes', 'secure', 'the', 'government', 'has', 'suspended', 'their', 'while', 'the', 'interim', 'government', 'kabul', 'the', 'foreign', 'affairs', 'minister', 'alexander', 'downer', 'has', 'refused', 'say', 'for', 'how', 'long', 'the', 'claims', 'process', 'has', 'been', 'put', 'hold', 'but', 'says', 'the', 'major', 'threat', 'most', 'people', 'seeking', 'asylum', 'longer', 'there', 'many', 'afghans', 'who', 'have', 'tried', 'get', 'into', 'australia', 'for', 'that', 'matter', 'into', 'britain', 'and', 'other', 'countries', 'north', 'west', 'europe', 'have', 'claimed', 'that', 'they', 'are', 'fleeing', 'the', 'taliban', 'said', 'well', 'the', 'taliban', 'longer', 'power', 'the', 'taliban', 'finished', 'meanwhile', 'there', 'has', 'been', 'mass', 'airlift', 'detainees', 'from', 'christmas', 'island', 'the', 'pacific', 'island', 'nauru', 'total', 'more', 'than', 'people', 'have', 'been', 'flown', 'from', 'the', 'island', 'two', 'operations', 'using', 'chartered', 'aircraft', 'the', 'second', 'airlift', 'today', 'delivered', 'asylum', 'seekers', 'nauru', 'where', 'they', 'will', 'await', 'processing', 'their', 'claims', 'for', 'temporary', 'visas', 'the', 'department', 'says', 'there', 'are', 'now', 'detainees', 'remaining', 'christmas', 'island', 'spokesman', 'says', 'decision', 'regarding', 'their', 'future', 'yet', 'made']\n"
     ]
    }
   ],
   "source": [
    "simple_sample_text = gensim.utils.simple_preprocess(sample_text, deacc=True, min_len=3, max_len=10)\n",
    "print(simple_sample_text)"
   ]
  },
  {
   "cell_type": "markdown",
   "metadata": {},
   "source": [
    "### Stopwords removal"
   ]
  },
  {
   "cell_type": "code",
   "execution_count": 4,
   "metadata": {},
   "outputs": [
    {
     "name": "stdout",
     "output_type": "stream",
     "text": [
      "['The', 'Federal', 'Government', 'says', 'it', 'should', 'be', 'safe', 'for', 'Afghani', 'asylum', 'seekers', 'in', 'Australia', 'to', 'return', 'home', 'when', 'the', 'environment', 'becomes', 'secure', '.', 'The', 'Government', 'has', 'suspended', 'their', 'applications', 'while', 'the', 'interim', 'government', 'is', 'established', 'in', 'Kabul', '.', 'The', 'Foreign', 'Affairs', 'Minister', 'Alexander', 'Downer', 'has', 'refused', 'to', 'say', 'for', 'how', 'long', 'the', 'claims', 'process', 'has', 'been', 'put', 'on', 'hold', '.', 'But', 'he', 'says', 'the', 'major', 'threat', 'to', 'most', 'people', 'seeking', 'asylum', 'is', 'no', 'longer', 'there', '.', '``', 'Many', 'Afghans', 'who', 'have', 'tried', 'to', 'get', 'into', 'Australia', 'or', 'for', 'that', 'matter', 'into', 'Britain', 'and', 'other', 'countries', 'in', 'north-west', 'Europe', 'have', 'claimed', 'that', 'they', 'are', 'fleeing', 'the', 'Taliban', ',', \"''\", 'he', 'said', '.', '``', 'Well', ',', 'the', 'Taliban', 'is', 'no', 'longer', 'in', 'power', 'in', 'Afghanistan', ',', 'the', 'Taliban', 'is', 'finished', '.', \"''\", 'Meanwhile', ',', 'there', 'has', 'been', 'a', 'mass', 'airlift', 'of', 'detainees', 'from', 'Christmas', 'Island', 'to', 'the', 'Pacific', 'Island', 'of', 'Nauru', '.', 'In', 'total', ',', 'more', 'than', '300', 'people', 'have', 'been', 'flown', 'from', 'the', 'island', 'in', 'two', 'operations', 'using', 'chartered', 'aircraft', '.', 'The', 'second', 'airlift', 'today', 'delivered', '180', 'asylum', 'seekers', 'to', 'Nauru', 'where', 'they', 'will', 'await', 'processing', 'of', 'their', 'claims', 'for', 'temporary', 'visas', '.', 'The', 'Department', 'of', 'Immigration', 'says', 'there', 'are', 'now', '211', 'detainees', 'remaining', 'on', 'Christmas', 'Island', '.', 'A', 'spokesman', 'says', 'a', 'decision', 'regarding', 'their', 'future', 'is', 'yet', 'to', 'be', 'made', '.']\n",
      "['The', 'Federal', 'Government', 'says', 'safe', 'Afghani', 'asylum', 'seekers', 'Australia', 'return', 'home', 'environment', 'becomes', 'secure', '.', 'The', 'Government', 'suspended', 'applications', 'interim', 'government', 'established', 'Kabul', '.', 'The', 'Foreign', 'Affairs', 'Minister', 'Alexander', 'Downer', 'refused', 'say', 'long', 'claims', 'process', 'put', 'hold', '.', 'But', 'says', 'major', 'threat', 'people', 'seeking', 'asylum', 'longer', '.', '``', 'Many', 'Afghans', 'tried', 'get', 'Australia', 'matter', 'Britain', 'countries', 'north-west', 'Europe', 'claimed', 'fleeing', 'Taliban', ',', \"''\", 'said', '.', '``', 'Well', ',', 'Taliban', 'longer', 'power', 'Afghanistan', ',', 'Taliban', 'finished', '.', \"''\", 'Meanwhile', ',', 'mass', 'airlift', 'detainees', 'Christmas', 'Island', 'Pacific', 'Island', 'Nauru', '.', 'In', 'total', ',', '300', 'people', 'flown', 'island', 'two', 'operations', 'using', 'chartered', 'aircraft', '.', 'The', 'second', 'airlift', 'today', 'delivered', '180', 'asylum', 'seekers', 'Nauru', 'await', 'processing', 'claims', 'temporary', 'visas', '.', 'The', 'Department', 'Immigration', 'says', '211', 'detainees', 'remaining', 'Christmas', 'Island', '.', 'A', 'spokesman', 'says', 'decision', 'regarding', 'future', 'yet', 'made', '.']\n"
     ]
    }
   ],
   "source": [
    "tokens = word_tokenize(sample_text)\n",
    "print(tokens)\n",
    "stops = set(stopwords.words('english'))  # nltk stopwords list\n",
    "filtered_tokens = [word for word in tokens if word not in stops]\n",
    "print(filtered_tokens)"
   ]
  },
  {
   "cell_type": "markdown",
   "metadata": {},
   "source": [
    "### Removal of rare and frequent terms"
   ]
  },
  {
   "cell_type": "code",
   "execution_count": 5,
   "metadata": {
    "scrolled": true
   },
   "outputs": [
    {
     "name": "stdout",
     "output_type": "stream",
     "text": [
      "/Users/home/Desenvolvimento/anaconda3/lib/python3.6/site-packages/gensim/test/test_data\n"
     ]
    },
    {
     "name": "stderr",
     "output_type": "stream",
     "text": [
      "2017-11-22 00:40:54,052 : INFO : collecting all words and their counts\n",
      "2017-11-22 00:40:54,055 : INFO : PROGRESS: at sentence #0, processed 0 words and 0 word types\n",
      "2017-11-22 00:40:54,098 : INFO : collected 20429 word types from a corpus of 19878 words (unigram + bigrams) and 300 sentences\n",
      "2017-11-22 00:40:54,100 : INFO : using 20429 counts as vocab in Phrases<0 vocab, min_count=5, threshold=10.0, max_vocab_size=40000000>\n",
      "2017-11-22 00:40:56,966 : INFO : adding document #0 to Dictionary(0 unique tokens: [])\n",
      "2017-11-22 00:40:56,998 : INFO : built Dictionary(4431 unique tokens: ['hundreds', 'people', 'homes', 'southern', 'highlands']...) from 300 documents (total 18861 corpus positions)\n",
      "2017-11-22 00:40:57,007 : INFO : discarding 3659 tokens: [('southern', 1), ('highlands', 3), ('bushfire', 2), ('hill', 3), ('blaze', 4), ('goulburn', 1), ('closure', 4), ('hume', 2), ('deterioration', 1), ('cell', 2)]...\n",
      "2017-11-22 00:40:57,009 : INFO : keeping 772 tokens which were in no less than 5 and no more than 150 (=50.0%) documents\n",
      "2017-11-22 00:40:57,013 : DEBUG : rebuilding dictionary, shrinking gaps\n",
      "2017-11-22 00:40:57,017 : INFO : resulting dictionary: Dictionary(772 unique tokens: ['hundreds', 'people', 'homes', 'new_south', 'wales']...)\n"
     ]
    },
    {
     "name": "stdout",
     "output_type": "stream",
     "text": [
      "Returning 300 training texts\n",
      "Dictionary(4431 unique tokens: ['hundreds', 'people', 'homes', 'southern', 'highlands']...)\n",
      "Dictionary(772 unique tokens: ['hundreds', 'people', 'homes', 'new_south', 'wales']...)\n"
     ]
    }
   ],
   "source": [
    "train_texts = load_texts.get_train_texts()\n",
    "dictionary = Dictionary(train_texts)\n",
    "print(dictionary)\n",
    "# Filtra palavras que ocorrem em menos de 5 documentos ou que ocorrem em mais de 50% dos documentos.\n",
    "dictionary.filter_extremes(no_below=5, no_above=0.5)\n",
    "print(dictionary)"
   ]
  },
  {
   "cell_type": "markdown",
   "metadata": {},
   "source": [
    "### Word removal according to POS tagging"
   ]
  },
  {
   "cell_type": "code",
   "execution_count": 6,
   "metadata": {},
   "outputs": [
    {
     "name": "stdout",
     "output_type": "stream",
     "text": [
      "[('The', 'DT'), ('Federal', 'NNP'), ('Government', 'NNP'), ('says', 'VBZ'), ('it', 'PRP'), ('should', 'MD'), ('be', 'VB'), ('safe', 'JJ'), ('for', 'IN'), ('Afghani', 'NNP'), ('asylum', 'NN'), ('seekers', 'NNS'), ('in', 'IN'), ('Australia', 'NNP'), ('to', 'TO'), ('return', 'VB'), ('home', 'NN'), ('when', 'WRB'), ('the', 'DT'), ('environment', 'NN'), ('becomes', 'VBZ'), ('secure', 'NN'), ('.', '.'), ('The', 'DT'), ('Government', 'NNP'), ('has', 'VBZ'), ('suspended', 'VBN'), ('their', 'PRP$'), ('applications', 'NNS'), ('while', 'IN'), ('the', 'DT'), ('interim', 'JJ'), ('government', 'NN'), ('is', 'VBZ'), ('established', 'VBN'), ('in', 'IN'), ('Kabul', 'NNP'), ('.', '.'), ('The', 'DT'), ('Foreign', 'NNP'), ('Affairs', 'NNPS'), ('Minister', 'NNP'), ('Alexander', 'NNP'), ('Downer', 'NNP'), ('has', 'VBZ'), ('refused', 'VBN'), ('to', 'TO'), ('say', 'VB'), ('for', 'IN'), ('how', 'WRB'), ('long', 'JJ'), ('the', 'DT'), ('claims', 'NNS'), ('process', 'NN'), ('has', 'VBZ'), ('been', 'VBN'), ('put', 'VBN'), ('on', 'IN'), ('hold', 'NN'), ('.', '.'), ('But', 'CC'), ('he', 'PRP'), ('says', 'VBZ'), ('the', 'DT'), ('major', 'JJ'), ('threat', 'NN'), ('to', 'TO'), ('most', 'JJS'), ('people', 'NNS'), ('seeking', 'VBG'), ('asylum', 'NN'), ('is', 'VBZ'), ('no', 'RB'), ('longer', 'RB'), ('there', 'RB'), ('.', '.'), ('``', '``'), ('Many', 'JJ'), ('Afghans', 'NNPS'), ('who', 'WP'), ('have', 'VBP'), ('tried', 'VBN'), ('to', 'TO'), ('get', 'VB'), ('into', 'IN'), ('Australia', 'NNP'), ('or', 'CC'), ('for', 'IN'), ('that', 'DT'), ('matter', 'NN'), ('into', 'IN'), ('Britain', 'NNP'), ('and', 'CC'), ('other', 'JJ'), ('countries', 'NNS'), ('in', 'IN'), ('north-west', 'JJ'), ('Europe', 'NNP'), ('have', 'VBP'), ('claimed', 'VBN'), ('that', 'IN'), ('they', 'PRP'), ('are', 'VBP'), ('fleeing', 'VBG'), ('the', 'DT'), ('Taliban', 'NNP'), (',', ','), (\"''\", \"''\"), ('he', 'PRP'), ('said', 'VBD'), ('.', '.'), ('``', '``'), ('Well', 'RB'), (',', ','), ('the', 'DT'), ('Taliban', 'NNP'), ('is', 'VBZ'), ('no', 'DT'), ('longer', 'RBR'), ('in', 'IN'), ('power', 'NN'), ('in', 'IN'), ('Afghanistan', 'NNP'), (',', ','), ('the', 'DT'), ('Taliban', 'NNP'), ('is', 'VBZ'), ('finished', 'VBN'), ('.', '.'), (\"''\", \"''\"), ('Meanwhile', 'RB'), (',', ','), ('there', 'EX'), ('has', 'VBZ'), ('been', 'VBN'), ('a', 'DT'), ('mass', 'NN'), ('airlift', 'NN'), ('of', 'IN'), ('detainees', 'NNS'), ('from', 'IN'), ('Christmas', 'NNP'), ('Island', 'NNP'), ('to', 'TO'), ('the', 'DT'), ('Pacific', 'NNP'), ('Island', 'NNP'), ('of', 'IN'), ('Nauru', 'NNP'), ('.', '.'), ('In', 'IN'), ('total', 'JJ'), (',', ','), ('more', 'JJR'), ('than', 'IN'), ('300', 'CD'), ('people', 'NNS'), ('have', 'VBP'), ('been', 'VBN'), ('flown', 'VBN'), ('from', 'IN'), ('the', 'DT'), ('island', 'NN'), ('in', 'IN'), ('two', 'CD'), ('operations', 'NNS'), ('using', 'VBG'), ('chartered', 'VBN'), ('aircraft', 'NN'), ('.', '.'), ('The', 'DT'), ('second', 'JJ'), ('airlift', 'NN'), ('today', 'NN'), ('delivered', 'VBD'), ('180', 'CD'), ('asylum', 'NN'), ('seekers', 'NNS'), ('to', 'TO'), ('Nauru', 'NNP'), ('where', 'WRB'), ('they', 'PRP'), ('will', 'MD'), ('await', 'VB'), ('processing', 'NN'), ('of', 'IN'), ('their', 'PRP$'), ('claims', 'NNS'), ('for', 'IN'), ('temporary', 'JJ'), ('visas', 'NN'), ('.', '.'), ('The', 'DT'), ('Department', 'NNP'), ('of', 'IN'), ('Immigration', 'NNP'), ('says', 'VBZ'), ('there', 'EX'), ('are', 'VBP'), ('now', 'RB'), ('211', 'CD'), ('detainees', 'NNS'), ('remaining', 'VBG'), ('on', 'IN'), ('Christmas', 'NNP'), ('Island', 'NNP'), ('.', '.'), ('A', 'NNP'), ('spokesman', 'NN'), ('says', 'VBZ'), ('a', 'DT'), ('decision', 'NN'), ('regarding', 'VBG'), ('their', 'PRP$'), ('future', 'NN'), ('is', 'VBZ'), ('yet', 'RB'), ('to', 'TO'), ('be', 'VB'), ('made', 'VBN'), ('.', '.')]\n",
      "['Federal', 'Government', 'Afghani', 'asylum', 'seekers', 'Australia', 'home', 'environment', 'secure', 'Government', 'applications', 'government', 'Kabul', 'Foreign', 'Affairs', 'Minister', 'Alexander', 'Downer', 'claims', 'process', 'hold', 'threat', 'people', 'asylum', 'Afghans', 'Australia', 'matter', 'Britain', 'countries', 'Europe', 'Taliban', 'Taliban', 'power', 'Afghanistan', 'Taliban', 'mass', 'airlift', 'detainees', 'Christmas', 'Island', 'Pacific', 'Island', 'Nauru', 'people', 'island', 'operations', 'aircraft', 'airlift', 'today', 'asylum', 'seekers', 'Nauru', 'processing', 'claims', 'visas', 'Department', 'Immigration', 'detainees', 'Christmas', 'Island', 'A', 'spokesman', 'decision', 'future']\n"
     ]
    }
   ],
   "source": [
    "tokens = word_tokenize(sample_text)\n",
    "tagged = nltk.pos_tag(tokens)\n",
    "print(tagged)\n",
    "nouns_only = [tag[0] for tag in tagged if tag[1].startswith('NN')]\n",
    "print(nouns_only)"
   ]
  },
  {
   "cell_type": "markdown",
   "metadata": {},
   "source": [
    "### Adding n-grams"
   ]
  },
  {
   "cell_type": "code",
   "execution_count": 7,
   "metadata": {},
   "outputs": [
    {
     "name": "stderr",
     "output_type": "stream",
     "text": [
      "2017-11-22 00:40:57,820 : INFO : collecting all words and their counts\n",
      "2017-11-22 00:40:57,822 : INFO : PROGRESS: at sentence #0, processed 0 words and 0 word types\n",
      "2017-11-22 00:40:57,949 : INFO : collected 45122 word types from a corpus of 67065 words (unigram + bigrams) and 300 sentences\n",
      "2017-11-22 00:40:57,952 : INFO : using 45122 counts as vocab in Phrases<0 vocab, min_count=5, threshold=10.0, max_vocab_size=40000000>\n"
     ]
    },
    {
     "name": "stdout",
     "output_type": "stream",
     "text": [
      "['The', 'Federal', 'Government', 'says', 'it', 'should', 'be', 'safe', 'for', 'Afghani', 'asylum', 'seekers', 'in', 'Australia', 'to', 'return', 'home', 'when', 'the', 'environment', 'becomes', 'secure', '.', 'The', 'Government', 'has', 'suspended', 'their', 'applications', 'while', 'the', 'interim', 'government', 'is', 'established', 'in', 'Kabul', '.', 'The', 'Foreign', 'Affairs', 'Minister', 'Alexander', 'Downer', 'has', 'refused', 'to', 'say', 'for', 'how', 'long', 'the', 'claims', 'process', 'has', 'been', 'put', 'on', 'hold', '.', 'But', 'he', 'says', 'the', 'major', 'threat', 'to', 'most', 'people', 'seeking', 'asylum', 'is', 'no', 'longer', 'there', '.', '``', 'Many', 'Afghans', 'who', 'have', 'tried', 'to', 'get', 'into', 'Australia', 'or', 'for', 'that', 'matter', 'into', 'Britain', 'and', 'other', 'countries', 'in', 'north-west', 'Europe', 'have', 'claimed', 'that', 'they', 'are', 'fleeing', 'the', 'Taliban', ',', \"''\", 'he', 'said', '.', '``', 'Well', ',', 'the', 'Taliban', 'is', 'no', 'longer', 'in', 'power', 'in', 'Afghanistan', ',', 'the', 'Taliban', 'is', 'finished', '.', \"''\", 'Meanwhile', ',', 'there', 'has', 'been', 'a', 'mass', 'airlift', 'of', 'detainees', 'from', 'Christmas', 'Island', 'to', 'the', 'Pacific', 'Island', 'of', 'Nauru', '.', 'In', 'total', ',', 'more', 'than', '300', 'people', 'have', 'been', 'flown', 'from', 'the', 'island', 'in', 'two', 'operations', 'using', 'chartered', 'aircraft', '.', 'The', 'second', 'airlift', 'today', 'delivered', '180', 'asylum', 'seekers', 'to', 'Nauru', 'where', 'they', 'will', 'await', 'processing', 'of', 'their', 'claims', 'for', 'temporary', 'visas', '.', 'The', 'Department', 'of', 'Immigration', 'says', 'there', 'are', 'now', '211', 'detainees', 'remaining', 'on', 'Christmas', 'Island', '.', 'A', 'spokesman', 'says', 'a', 'decision', 'regarding', 'their', 'future', 'is', 'yet', 'to', 'be', 'made', '.']\n",
      "['The_Federal', 'Government', 'says_it', 'should_be', 'safe', 'for', 'Afghani', 'asylum_seekers', 'in', 'Australia', 'to', 'return', 'home', 'when', 'the', 'environment', 'becomes', 'secure', '._The', 'Government', 'has', 'suspended', 'their', 'applications', 'while', 'the', 'interim_government', 'is', 'established', 'in', 'Kabul', '._The', 'Foreign_Affairs', 'Minister_Alexander', 'Downer', 'has', 'refused', 'to', 'say', 'for', 'how', 'long', 'the', 'claims', 'process', 'has_been', 'put', 'on', 'hold', '._But', 'he', 'says', 'the', 'major', 'threat', 'to', 'most', 'people', 'seeking', 'asylum', 'is', 'no_longer', 'there', '._``', 'Many', 'Afghans', 'who', 'have', 'tried_to', 'get', 'into', 'Australia', 'or', 'for', 'that', 'matter', 'into', 'Britain', 'and', 'other', 'countries', 'in', 'north-west', 'Europe', 'have', 'claimed', 'that', 'they_are', 'fleeing', 'the', 'Taliban', \",_''\", 'he_said', '._``', 'Well', ',', 'the', 'Taliban', 'is', 'no_longer', 'in', 'power', 'in_Afghanistan', ',', 'the', 'Taliban', 'is', 'finished', '.', \"''\", 'Meanwhile_,', 'there', 'has_been', 'a', 'mass', 'airlift', 'of', 'detainees', 'from', 'Christmas', 'Island', 'to', 'the', 'Pacific', 'Island', 'of', 'Nauru', '._In', 'total', ',', 'more_than', '300', 'people', 'have_been', 'flown', 'from', 'the', 'island', 'in', 'two', 'operations', 'using', 'chartered', 'aircraft', '._The', 'second', 'airlift', 'today', 'delivered', '180', 'asylum_seekers', 'to', 'Nauru', 'where', 'they', 'will', 'await', 'processing', 'of', 'their', 'claims', 'for', 'temporary', 'visas', '._The', 'Department', 'of', 'Immigration', 'says', 'there_are', 'now', '211', 'detainees', 'remaining', 'on', 'Christmas', 'Island', '.', 'A_spokesman', 'says', 'a', 'decision', 'regarding', 'their', 'future', 'is', 'yet', 'to', 'be', 'made', '.']\n"
     ]
    }
   ],
   "source": [
    "tokens = [word_tokenize(text) for text in texts]\n",
    "print(tokens[5])\n",
    "bigram = gensim.models.Phrases(tokens)  # for bigram collocation detection\n",
    "tokens_with_bigrams = [bigram[token] for token in tokens]\n",
    "print(tokens_with_bigrams[5])"
   ]
  },
  {
   "cell_type": "markdown",
   "metadata": {},
   "source": [
    "### Stemming and Lemmatizing"
   ]
  },
  {
   "cell_type": "code",
   "execution_count": 8,
   "metadata": {},
   "outputs": [
    {
     "data": {
      "text/plain": [
       "'finish'"
      ]
     },
     "execution_count": 8,
     "metadata": {},
     "output_type": "execute_result"
    }
   ],
   "source": [
    "stemmer = PorterStemmer()\n",
    "stemmer.stem(\"finished\")"
   ]
  },
  {
   "cell_type": "code",
   "execution_count": 9,
   "metadata": {},
   "outputs": [
    {
     "name": "stdout",
     "output_type": "stream",
     "text": [
      "dog\n",
      "church\n",
      "aardwolf\n",
      "abacus\n",
      "hardrock\n",
      "are\n",
      "is\n"
     ]
    }
   ],
   "source": [
    "from nltk.stem import WordNetLemmatizer\n",
    "wordnet_lemmatizer = WordNetLemmatizer()\n",
    "print(wordnet_lemmatizer.lemmatize(\"dogs\"))\n",
    "print(wordnet_lemmatizer.lemmatize(\"churches\"))\n",
    "print(wordnet_lemmatizer.lemmatize(\"aardwolves\"))\n",
    "print(wordnet_lemmatizer.lemmatize(\"abaci\"))\n",
    "print(wordnet_lemmatizer.lemmatize(\"hardrock\"))\n",
    "print(wordnet_lemmatizer.lemmatize(\"are\"))\n",
    "print(wordnet_lemmatizer.lemmatize(\"is\"))"
   ]
  },
  {
   "cell_type": "code",
   "execution_count": 10,
   "metadata": {},
   "outputs": [
    {
     "name": "stdout",
     "output_type": "stream",
     "text": [
      "['The', 'Federal', 'Government', 'says', 'it', 'should', 'be', 'safe', 'for', 'Afghani', 'asylum', 'seekers', 'in', 'Australia', 'to', 'return', 'home', 'when', 'the', 'environment', 'becomes', 'secure', '.', 'The', 'Government', 'has', 'suspended', 'their', 'applications', 'while', 'the', 'interim', 'government', 'is', 'established', 'in', 'Kabul', '.', 'The', 'Foreign', 'Affairs', 'Minister', 'Alexander', 'Downer', 'has', 'refused', 'to', 'say', 'for', 'how', 'long', 'the', 'claims', 'process', 'has', 'been', 'put', 'on', 'hold', '.', 'But', 'he', 'says', 'the', 'major', 'threat', 'to', 'most', 'people', 'seeking', 'asylum', 'is', 'no', 'longer', 'there', '.', '``', 'Many', 'Afghans', 'who', 'have', 'tried', 'to', 'get', 'into', 'Australia', 'or', 'for', 'that', 'matter', 'into', 'Britain', 'and', 'other', 'countries', 'in', 'north-west', 'Europe', 'have', 'claimed', 'that', 'they', 'are', 'fleeing', 'the', 'Taliban', ',', \"''\", 'he', 'said', '.', '``', 'Well', ',', 'the', 'Taliban', 'is', 'no', 'longer', 'in', 'power', 'in', 'Afghanistan', ',', 'the', 'Taliban', 'is', 'finished', '.', \"''\", 'Meanwhile', ',', 'there', 'has', 'been', 'a', 'mass', 'airlift', 'of', 'detainees', 'from', 'Christmas', 'Island', 'to', 'the', 'Pacific', 'Island', 'of', 'Nauru', '.', 'In', 'total', ',', 'more', 'than', '300', 'people', 'have', 'been', 'flown', 'from', 'the', 'island', 'in', 'two', 'operations', 'using', 'chartered', 'aircraft', '.', 'The', 'second', 'airlift', 'today', 'delivered', '180', 'asylum', 'seekers', 'to', 'Nauru', 'where', 'they', 'will', 'await', 'processing', 'of', 'their', 'claims', 'for', 'temporary', 'visas', '.', 'The', 'Department', 'of', 'Immigration', 'says', 'there', 'are', 'now', '211', 'detainees', 'remaining', 'on', 'Christmas', 'Island', '.', 'A', 'spokesman', 'says', 'a', 'decision', 'regarding', 'their', 'future', 'is', 'yet', 'to', 'be', 'made', '.']\n",
      "['The', 'Federal', 'Government', 'say', 'it', 'should', 'be', 'safe', 'for', 'Afghani', 'asylum', 'seeker', 'in', 'Australia', 'to', 'return', 'home', 'when', 'the', 'environment', 'becomes', 'secure', '.', 'The', 'Government', 'ha', 'suspended', 'their', 'application', 'while', 'the', 'interim', 'government', 'is', 'established', 'in', 'Kabul', '.', 'The', 'Foreign', 'Affairs', 'Minister', 'Alexander', 'Downer', 'ha', 'refused', 'to', 'say', 'for', 'how', 'long', 'the', 'claim', 'process', 'ha', 'been', 'put', 'on', 'hold', '.', 'But', 'he', 'say', 'the', 'major', 'threat', 'to', 'most', 'people', 'seeking', 'asylum', 'is', 'no', 'longer', 'there', '.', '``', 'Many', 'Afghans', 'who', 'have', 'tried', 'to', 'get', 'into', 'Australia', 'or', 'for', 'that', 'matter', 'into', 'Britain', 'and', 'other', 'country', 'in', 'north-west', 'Europe', 'have', 'claimed', 'that', 'they', 'are', 'fleeing', 'the', 'Taliban', ',', \"''\", 'he', 'said', '.', '``', 'Well', ',', 'the', 'Taliban', 'is', 'no', 'longer', 'in', 'power', 'in', 'Afghanistan', ',', 'the', 'Taliban', 'is', 'finished', '.', \"''\", 'Meanwhile', ',', 'there', 'ha', 'been', 'a', 'mass', 'airlift', 'of', 'detainee', 'from', 'Christmas', 'Island', 'to', 'the', 'Pacific', 'Island', 'of', 'Nauru', '.', 'In', 'total', ',', 'more', 'than', '300', 'people', 'have', 'been', 'flown', 'from', 'the', 'island', 'in', 'two', 'operation', 'using', 'chartered', 'aircraft', '.', 'The', 'second', 'airlift', 'today', 'delivered', '180', 'asylum', 'seeker', 'to', 'Nauru', 'where', 'they', 'will', 'await', 'processing', 'of', 'their', 'claim', 'for', 'temporary', 'visa', '.', 'The', 'Department', 'of', 'Immigration', 'say', 'there', 'are', 'now', '211', 'detainee', 'remaining', 'on', 'Christmas', 'Island', '.', 'A', 'spokesman', 'say', 'a', 'decision', 'regarding', 'their', 'future', 'is', 'yet', 'to', 'be', 'made', '.']\n"
     ]
    }
   ],
   "source": [
    "print(tokens[5])\n",
    "lemmatizer = WordNetLemmatizer()\n",
    "lemmas = [[lemmatizer.lemmatize(word) for word in doc] for doc in tokens]\n",
    "print(lemmas[5])"
   ]
  }
 ],
 "metadata": {
  "kernelspec": {
   "display_name": "Python 3",
   "language": "python",
   "name": "python3"
  },
  "language_info": {
   "codemirror_mode": {
    "name": "ipython",
    "version": 3
   },
   "file_extension": ".py",
   "mimetype": "text/x-python",
   "name": "python",
   "nbconvert_exporter": "python",
   "pygments_lexer": "ipython3",
   "version": "3.6.3"
  }
 },
 "nbformat": 4,
 "nbformat_minor": 1
}
