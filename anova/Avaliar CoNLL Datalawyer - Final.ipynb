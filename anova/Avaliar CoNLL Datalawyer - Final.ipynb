{
 "cells": [
  {
   "cell_type": "code",
   "execution_count": 1,
   "metadata": {},
   "outputs": [],
   "source": [
    "from pathlib import Path\n",
    "from collections import defaultdict\n",
    "import statistics"
   ]
  },
  {
   "cell_type": "code",
   "execution_count": 20,
   "metadata": {},
   "outputs": [],
   "source": [
    "def calculate_scores(scores_path):\n",
    "    scores = defaultdict(list)\n",
    "    for file in Path(scores_path).iterdir():\n",
    "        if 'scores' in file.name:\n",
    "            file_parts = file.name.split('_')\n",
    "            model = '_'.join([file_parts[1], file_parts[2]])\n",
    "            scores[model].append(float(file.open(mode='r', encoding='utf8').readlines()[1].split()[-1]))\n",
    "    for key in scores.keys():\n",
    "        print('Model: %s, Scores: %s' % (key, str(scores[key])))\n",
    "        print('Model: %s, Mean: %s' % (key, statistics.mean(scores[key])))"
   ]
  },
  {
   "cell_type": "code",
   "execution_count": 21,
   "metadata": {},
   "outputs": [
    {
     "name": "stdout",
     "output_type": "stream",
     "text": [
      "Model: datalawyer-ft_ELMo+GloVe, Scores: [94.09, 93.86, 94.33, 93.61]\n",
      "Model: datalawyer-ft_ELMo+GloVe, Mean: 93.9725\n",
      "Model: datalawyer-ft_ELMo+Word2Vec-jur, Scores: [93.92, 93.67, 94.8, 94.39]\n",
      "Model: datalawyer-ft_ELMo+Word2Vec-jur, Mean: 94.195\n"
     ]
    }
   ],
   "source": [
    "calculate_scores('/media/discoD/models/elmo/ner/mestrado/results_datalawyer_final_3.4/')"
   ]
  },
  {
   "cell_type": "code",
   "execution_count": 22,
   "metadata": {},
   "outputs": [
    {
     "name": "stdout",
     "output_type": "stream",
     "text": [
      "Model: datalawyer-ft_ELMo+GloVe, Scores: [93.56, 94.06]\n",
      "Model: datalawyer-ft_ELMo+GloVe, Mean: 93.81\n",
      "Model: datalawyer-ft_ELMo+Word2Vec-jur, Scores: [93.13, 93.68]\n",
      "Model: datalawyer-ft_ELMo+Word2Vec-jur, Mean: 93.405\n"
     ]
    }
   ],
   "source": [
    "calculate_scores('/media/discoD/models/elmo/ner/mestrado/results_datalawyer_final_3.3/')"
   ]
  },
  {
   "cell_type": "code",
   "execution_count": null,
   "metadata": {},
   "outputs": [],
   "source": []
  }
 ],
 "metadata": {
  "kernelspec": {
   "display_name": "AllenNLP",
   "language": "python",
   "name": "allennlp"
  },
  "language_info": {
   "codemirror_mode": {
    "name": "ipython",
    "version": 3
   },
   "file_extension": ".py",
   "mimetype": "text/x-python",
   "name": "python",
   "nbconvert_exporter": "python",
   "pygments_lexer": "ipython3",
   "version": "3.6.7"
  }
 },
 "nbformat": 4,
 "nbformat_minor": 2
}
