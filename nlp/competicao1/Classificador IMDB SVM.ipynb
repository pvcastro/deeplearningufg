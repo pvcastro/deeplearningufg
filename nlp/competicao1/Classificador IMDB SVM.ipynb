{
 "cells": [
  {
   "cell_type": "code",
   "execution_count": 1,
   "metadata": {},
   "outputs": [],
   "source": [
    "from sklearn.feature_extraction.text import CountVectorizer\n",
    "from sklearn.feature_extraction.text import TfidfTransformer\n",
    "from sklearn.linear_model import SGDClassifier\n",
    "from sklearn.svm import SVC\n",
    "from sklearn.pipeline import Pipeline\n",
    "from sklearn.model_selection import GridSearchCV\n",
    "from sklearn.metrics import balanced_accuracy_score\n",
    "\n",
    "import pandas as pd\n",
    "\n",
    "from pathlib import Path\n",
    "\n",
    "import pickle"
   ]
  },
  {
   "cell_type": "code",
   "execution_count": 2,
   "metadata": {},
   "outputs": [],
   "source": [
    "# data_path = Path('../dataset/functions_classifier')\n",
    "# train_data_path = data_path / 'train.jsonl'\n",
    "# validation_data_path = data_path /'dev.jsonl'\n",
    "# test_data_path = data_path /'test.jsonl'\n",
    "test_data_path = 'test_imdb.csv'\n",
    "train_data_path = 'train_imdb.csv'"
   ]
  },
  {
   "cell_type": "code",
   "execution_count": 3,
   "metadata": {},
   "outputs": [],
   "source": [
    "train_df = pd.read_csv(train_data_path, header=None, names=['label','text'])\n",
    "test_df = pd.read_csv(test_data_path, header=None, names=['label','text'])\n",
    "#test_df = pd.read_json(test_data_path, orient='records', lines=True)"
   ]
  },
  {
   "cell_type": "code",
   "execution_count": 4,
   "metadata": {},
   "outputs": [
    {
     "data": {
      "text/html": [
       "<div>\n",
       "<style scoped>\n",
       "    .dataframe tbody tr th:only-of-type {\n",
       "        vertical-align: middle;\n",
       "    }\n",
       "\n",
       "    .dataframe tbody tr th {\n",
       "        vertical-align: top;\n",
       "    }\n",
       "\n",
       "    .dataframe thead th {\n",
       "        text-align: right;\n",
       "    }\n",
       "</style>\n",
       "<table border=\"1\" class=\"dataframe\">\n",
       "  <thead>\n",
       "    <tr style=\"text-align: right;\">\n",
       "      <th></th>\n",
       "      <th>label</th>\n",
       "      <th>text</th>\n",
       "    </tr>\n",
       "  </thead>\n",
       "  <tbody>\n",
       "    <tr>\n",
       "      <th>0</th>\n",
       "      <td>0</td>\n",
       "      <td>**1/2 for this Diane Keaton farce.&lt;br /&gt;&lt;br /&gt;...</td>\n",
       "    </tr>\n",
       "    <tr>\n",
       "      <th>1</th>\n",
       "      <td>1</td>\n",
       "      <td>This episode apparently grew out of the cold w...</td>\n",
       "    </tr>\n",
       "    <tr>\n",
       "      <th>2</th>\n",
       "      <td>0</td>\n",
       "      <td>I haven't read a biography of Lincoln, so mayb...</td>\n",
       "    </tr>\n",
       "    <tr>\n",
       "      <th>3</th>\n",
       "      <td>1</td>\n",
       "      <td>I was young film student in 1979 when the Unio...</td>\n",
       "    </tr>\n",
       "    <tr>\n",
       "      <th>4</th>\n",
       "      <td>0</td>\n",
       "      <td>\"Black Angel\" is minor whodunit, with June Vin...</td>\n",
       "    </tr>\n",
       "    <tr>\n",
       "      <th>5</th>\n",
       "      <td>0</td>\n",
       "      <td>I didn't agree with any of the theology in the...</td>\n",
       "    </tr>\n",
       "    <tr>\n",
       "      <th>6</th>\n",
       "      <td>0</td>\n",
       "      <td>Dear me... Peter Sellers was one of the most o...</td>\n",
       "    </tr>\n",
       "    <tr>\n",
       "      <th>7</th>\n",
       "      <td>0</td>\n",
       "      <td>This has to be one of the top overrated anime ...</td>\n",
       "    </tr>\n",
       "    <tr>\n",
       "      <th>8</th>\n",
       "      <td>0</td>\n",
       "      <td>This was the worst movie I have ever seen and ...</td>\n",
       "    </tr>\n",
       "    <tr>\n",
       "      <th>9</th>\n",
       "      <td>0</td>\n",
       "      <td>I'm not sure what HK movies the other reviewer...</td>\n",
       "    </tr>\n",
       "    <tr>\n",
       "      <th>10</th>\n",
       "      <td>1</td>\n",
       "      <td>I didn't know what to expect from 'Ned Kelly',...</td>\n",
       "    </tr>\n",
       "    <tr>\n",
       "      <th>11</th>\n",
       "      <td>1</td>\n",
       "      <td>A great 90's flick! Parker Posey is fabulous i...</td>\n",
       "    </tr>\n",
       "    <tr>\n",
       "      <th>12</th>\n",
       "      <td>1</td>\n",
       "      <td>These days Spielberg's \"The Color Purple\" is m...</td>\n",
       "    </tr>\n",
       "    <tr>\n",
       "      <th>13</th>\n",
       "      <td>1</td>\n",
       "      <td>This movie was terrific and even with a less t...</td>\n",
       "    </tr>\n",
       "    <tr>\n",
       "      <th>14</th>\n",
       "      <td>1</td>\n",
       "      <td>This movie was very good. If you are one who l...</td>\n",
       "    </tr>\n",
       "    <tr>\n",
       "      <th>15</th>\n",
       "      <td>0</td>\n",
       "      <td>We don't have this on television in England bu...</td>\n",
       "    </tr>\n",
       "    <tr>\n",
       "      <th>16</th>\n",
       "      <td>0</td>\n",
       "      <td>This film has a special place in my heart as t...</td>\n",
       "    </tr>\n",
       "    <tr>\n",
       "      <th>17</th>\n",
       "      <td>0</td>\n",
       "      <td>\"A young woman suffers from the delusion that ...</td>\n",
       "    </tr>\n",
       "    <tr>\n",
       "      <th>18</th>\n",
       "      <td>1</td>\n",
       "      <td>Victor McLaglen's performance is one of the fi...</td>\n",
       "    </tr>\n",
       "    <tr>\n",
       "      <th>19</th>\n",
       "      <td>1</td>\n",
       "      <td>If you are looking for a sonic-boom-special-ef...</td>\n",
       "    </tr>\n",
       "    <tr>\n",
       "      <th>20</th>\n",
       "      <td>1</td>\n",
       "      <td>I have seen this film many times and I like al...</td>\n",
       "    </tr>\n",
       "    <tr>\n",
       "      <th>21</th>\n",
       "      <td>0</td>\n",
       "      <td>As long as you can suffer it! If you like watc...</td>\n",
       "    </tr>\n",
       "    <tr>\n",
       "      <th>22</th>\n",
       "      <td>0</td>\n",
       "      <td>Director Kevin Connor and wannabe action-hero ...</td>\n",
       "    </tr>\n",
       "    <tr>\n",
       "      <th>23</th>\n",
       "      <td>0</td>\n",
       "      <td>I saw this \"hot\" movie when it came out in 198...</td>\n",
       "    </tr>\n",
       "    <tr>\n",
       "      <th>24</th>\n",
       "      <td>0</td>\n",
       "      <td>I grew up watching and loving TNG. I just rece...</td>\n",
       "    </tr>\n",
       "    <tr>\n",
       "      <th>25</th>\n",
       "      <td>1</td>\n",
       "      <td>I am so upset that ABC is giving up on yet ano...</td>\n",
       "    </tr>\n",
       "    <tr>\n",
       "      <th>26</th>\n",
       "      <td>1</td>\n",
       "      <td>Hmmmm, want a little romance with your mystery...</td>\n",
       "    </tr>\n",
       "    <tr>\n",
       "      <th>27</th>\n",
       "      <td>0</td>\n",
       "      <td>This film is just a kids against evil genre. T...</td>\n",
       "    </tr>\n",
       "    <tr>\n",
       "      <th>28</th>\n",
       "      <td>0</td>\n",
       "      <td>Absolutely one of the worst movies I have ever...</td>\n",
       "    </tr>\n",
       "    <tr>\n",
       "      <th>29</th>\n",
       "      <td>1</td>\n",
       "      <td>I adored this movie. Not only because I am a b...</td>\n",
       "    </tr>\n",
       "    <tr>\n",
       "      <th>...</th>\n",
       "      <td>...</td>\n",
       "      <td>...</td>\n",
       "    </tr>\n",
       "    <tr>\n",
       "      <th>24970</th>\n",
       "      <td>0</td>\n",
       "      <td>Drew Latham(Ben Affleck)is determined not to b...</td>\n",
       "    </tr>\n",
       "    <tr>\n",
       "      <th>24971</th>\n",
       "      <td>1</td>\n",
       "      <td>THE SUNSHINE BOYS was the hilarious 1975 scree...</td>\n",
       "    </tr>\n",
       "    <tr>\n",
       "      <th>24972</th>\n",
       "      <td>1</td>\n",
       "      <td>I've watched this documentary twice - and alth...</td>\n",
       "    </tr>\n",
       "    <tr>\n",
       "      <th>24973</th>\n",
       "      <td>0</td>\n",
       "      <td>\"Private Practice\" is being spun off the fairl...</td>\n",
       "    </tr>\n",
       "    <tr>\n",
       "      <th>24974</th>\n",
       "      <td>0</td>\n",
       "      <td>A cast of 1980's TV movie and TV series guest ...</td>\n",
       "    </tr>\n",
       "    <tr>\n",
       "      <th>24975</th>\n",
       "      <td>0</td>\n",
       "      <td>(SPOILERS AHEAD) Russian fantasy \"actioner\" (a...</td>\n",
       "    </tr>\n",
       "    <tr>\n",
       "      <th>24976</th>\n",
       "      <td>0</td>\n",
       "      <td>This is the first time I have commented on a f...</td>\n",
       "    </tr>\n",
       "    <tr>\n",
       "      <th>24977</th>\n",
       "      <td>0</td>\n",
       "      <td>Fans of creature feature films have to endure ...</td>\n",
       "    </tr>\n",
       "    <tr>\n",
       "      <th>24978</th>\n",
       "      <td>0</td>\n",
       "      <td>i can't believe that NONE of the official revi...</td>\n",
       "    </tr>\n",
       "    <tr>\n",
       "      <th>24979</th>\n",
       "      <td>1</td>\n",
       "      <td>This is one of my all time favorites.&lt;br /&gt;&lt;br...</td>\n",
       "    </tr>\n",
       "    <tr>\n",
       "      <th>24980</th>\n",
       "      <td>1</td>\n",
       "      <td>despite the occasionally stilted acting and \"s...</td>\n",
       "    </tr>\n",
       "    <tr>\n",
       "      <th>24981</th>\n",
       "      <td>0</td>\n",
       "      <td>1937's \"Stella Dallas\" with Barbara Stanwyck h...</td>\n",
       "    </tr>\n",
       "    <tr>\n",
       "      <th>24982</th>\n",
       "      <td>0</td>\n",
       "      <td>If I could i would give ZERO stars for this on...</td>\n",
       "    </tr>\n",
       "    <tr>\n",
       "      <th>24983</th>\n",
       "      <td>0</td>\n",
       "      <td>WOW! Pretty terrible stuff. The Richard Burton...</td>\n",
       "    </tr>\n",
       "    <tr>\n",
       "      <th>24984</th>\n",
       "      <td>1</td>\n",
       "      <td>Bela made 9 pics for Monogram, but it was only...</td>\n",
       "    </tr>\n",
       "    <tr>\n",
       "      <th>24985</th>\n",
       "      <td>1</td>\n",
       "      <td>Petter Mattei's \"Love in the Time of Money\" is...</td>\n",
       "    </tr>\n",
       "    <tr>\n",
       "      <th>24986</th>\n",
       "      <td>1</td>\n",
       "      <td>The most moving and truly eye opening document...</td>\n",
       "    </tr>\n",
       "    <tr>\n",
       "      <th>24987</th>\n",
       "      <td>1</td>\n",
       "      <td>Not the most successful television project Joh...</td>\n",
       "    </tr>\n",
       "    <tr>\n",
       "      <th>24988</th>\n",
       "      <td>0</td>\n",
       "      <td>Antitrust falls right into that category of fi...</td>\n",
       "    </tr>\n",
       "    <tr>\n",
       "      <th>24989</th>\n",
       "      <td>0</td>\n",
       "      <td>Nothing to say but Wow! Has anyone actually ha...</td>\n",
       "    </tr>\n",
       "    <tr>\n",
       "      <th>24990</th>\n",
       "      <td>0</td>\n",
       "      <td>\"The house of the spirits\" is quite awful. I l...</td>\n",
       "    </tr>\n",
       "    <tr>\n",
       "      <th>24991</th>\n",
       "      <td>0</td>\n",
       "      <td>I really wanted to like this movie because the...</td>\n",
       "    </tr>\n",
       "    <tr>\n",
       "      <th>24992</th>\n",
       "      <td>0</td>\n",
       "      <td>{rant start} I didn't want to believe them at ...</td>\n",
       "    </tr>\n",
       "    <tr>\n",
       "      <th>24993</th>\n",
       "      <td>1</td>\n",
       "      <td>Nobody said movies had to be realistic did the...</td>\n",
       "    </tr>\n",
       "    <tr>\n",
       "      <th>24994</th>\n",
       "      <td>0</td>\n",
       "      <td>Typically terrible trash from director Fred Ol...</td>\n",
       "    </tr>\n",
       "    <tr>\n",
       "      <th>24995</th>\n",
       "      <td>0</td>\n",
       "      <td>Just saw it yesterday in the Sao Paulo Intl Fi...</td>\n",
       "    </tr>\n",
       "    <tr>\n",
       "      <th>24996</th>\n",
       "      <td>1</td>\n",
       "      <td>Ella was excellent, Franchot was unavoidably o...</td>\n",
       "    </tr>\n",
       "    <tr>\n",
       "      <th>24997</th>\n",
       "      <td>0</td>\n",
       "      <td>I saw this movie with the intention of not lik...</td>\n",
       "    </tr>\n",
       "    <tr>\n",
       "      <th>24998</th>\n",
       "      <td>0</td>\n",
       "      <td>I have read the novel Reaper of Ben Mezrich a ...</td>\n",
       "    </tr>\n",
       "    <tr>\n",
       "      <th>24999</th>\n",
       "      <td>1</td>\n",
       "      <td>Went to see this finnish film and I've got to ...</td>\n",
       "    </tr>\n",
       "  </tbody>\n",
       "</table>\n",
       "<p>25000 rows × 2 columns</p>\n",
       "</div>"
      ],
      "text/plain": [
       "       label                                               text\n",
       "0          0  **1/2 for this Diane Keaton farce.<br /><br />...\n",
       "1          1  This episode apparently grew out of the cold w...\n",
       "2          0  I haven't read a biography of Lincoln, so mayb...\n",
       "3          1  I was young film student in 1979 when the Unio...\n",
       "4          0  \"Black Angel\" is minor whodunit, with June Vin...\n",
       "5          0  I didn't agree with any of the theology in the...\n",
       "6          0  Dear me... Peter Sellers was one of the most o...\n",
       "7          0  This has to be one of the top overrated anime ...\n",
       "8          0  This was the worst movie I have ever seen and ...\n",
       "9          0  I'm not sure what HK movies the other reviewer...\n",
       "10         1  I didn't know what to expect from 'Ned Kelly',...\n",
       "11         1  A great 90's flick! Parker Posey is fabulous i...\n",
       "12         1  These days Spielberg's \"The Color Purple\" is m...\n",
       "13         1  This movie was terrific and even with a less t...\n",
       "14         1  This movie was very good. If you are one who l...\n",
       "15         0  We don't have this on television in England bu...\n",
       "16         0  This film has a special place in my heart as t...\n",
       "17         0  \"A young woman suffers from the delusion that ...\n",
       "18         1  Victor McLaglen's performance is one of the fi...\n",
       "19         1  If you are looking for a sonic-boom-special-ef...\n",
       "20         1  I have seen this film many times and I like al...\n",
       "21         0  As long as you can suffer it! If you like watc...\n",
       "22         0  Director Kevin Connor and wannabe action-hero ...\n",
       "23         0  I saw this \"hot\" movie when it came out in 198...\n",
       "24         0  I grew up watching and loving TNG. I just rece...\n",
       "25         1  I am so upset that ABC is giving up on yet ano...\n",
       "26         1  Hmmmm, want a little romance with your mystery...\n",
       "27         0  This film is just a kids against evil genre. T...\n",
       "28         0  Absolutely one of the worst movies I have ever...\n",
       "29         1  I adored this movie. Not only because I am a b...\n",
       "...      ...                                                ...\n",
       "24970      0  Drew Latham(Ben Affleck)is determined not to b...\n",
       "24971      1  THE SUNSHINE BOYS was the hilarious 1975 scree...\n",
       "24972      1  I've watched this documentary twice - and alth...\n",
       "24973      0  \"Private Practice\" is being spun off the fairl...\n",
       "24974      0  A cast of 1980's TV movie and TV series guest ...\n",
       "24975      0  (SPOILERS AHEAD) Russian fantasy \"actioner\" (a...\n",
       "24976      0  This is the first time I have commented on a f...\n",
       "24977      0  Fans of creature feature films have to endure ...\n",
       "24978      0  i can't believe that NONE of the official revi...\n",
       "24979      1  This is one of my all time favorites.<br /><br...\n",
       "24980      1  despite the occasionally stilted acting and \"s...\n",
       "24981      0  1937's \"Stella Dallas\" with Barbara Stanwyck h...\n",
       "24982      0  If I could i would give ZERO stars for this on...\n",
       "24983      0  WOW! Pretty terrible stuff. The Richard Burton...\n",
       "24984      1  Bela made 9 pics for Monogram, but it was only...\n",
       "24985      1  Petter Mattei's \"Love in the Time of Money\" is...\n",
       "24986      1  The most moving and truly eye opening document...\n",
       "24987      1  Not the most successful television project Joh...\n",
       "24988      0  Antitrust falls right into that category of fi...\n",
       "24989      0  Nothing to say but Wow! Has anyone actually ha...\n",
       "24990      0  \"The house of the spirits\" is quite awful. I l...\n",
       "24991      0  I really wanted to like this movie because the...\n",
       "24992      0  {rant start} I didn't want to believe them at ...\n",
       "24993      1  Nobody said movies had to be realistic did the...\n",
       "24994      0  Typically terrible trash from director Fred Ol...\n",
       "24995      0  Just saw it yesterday in the Sao Paulo Intl Fi...\n",
       "24996      1  Ella was excellent, Franchot was unavoidably o...\n",
       "24997      0  I saw this movie with the intention of not lik...\n",
       "24998      0  I have read the novel Reaper of Ben Mezrich a ...\n",
       "24999      1  Went to see this finnish film and I've got to ...\n",
       "\n",
       "[25000 rows x 2 columns]"
      ]
     },
     "execution_count": 4,
     "metadata": {},
     "output_type": "execute_result"
    }
   ],
   "source": [
    "train_df"
   ]
  },
  {
   "cell_type": "code",
   "execution_count": 5,
   "metadata": {},
   "outputs": [],
   "source": [
    "from nltk.corpus import stopwords\n",
    "stopwords_en = set(stopwords.words('english'))"
   ]
  },
  {
   "cell_type": "code",
   "execution_count": 6,
   "metadata": {},
   "outputs": [],
   "source": [
    "count_vect = CountVectorizer()"
   ]
  },
  {
   "cell_type": "code",
   "execution_count": 7,
   "metadata": {},
   "outputs": [
    {
     "data": {
      "text/plain": [
       "(25000, 74849)"
      ]
     },
     "execution_count": 7,
     "metadata": {},
     "output_type": "execute_result"
    }
   ],
   "source": [
    "train_counts = count_vect.fit_transform(train_df['text'])\n",
    "train_counts.shape"
   ]
  },
  {
   "cell_type": "code",
   "execution_count": 8,
   "metadata": {},
   "outputs": [],
   "source": [
    "tfidf_transformer = TfidfTransformer()"
   ]
  },
  {
   "cell_type": "code",
   "execution_count": 9,
   "metadata": {},
   "outputs": [
    {
     "data": {
      "text/plain": [
       "(25000, 74849)"
      ]
     },
     "execution_count": 9,
     "metadata": {},
     "output_type": "execute_result"
    }
   ],
   "source": [
    "train_tfidf = tfidf_transformer.fit_transform(train_counts)\n",
    "train_tfidf.shape"
   ]
  },
  {
   "cell_type": "code",
   "execution_count": 10,
   "metadata": {},
   "outputs": [
    {
     "data": {
      "text/plain": [
       "0.8835200000000001"
      ]
     },
     "execution_count": 10,
     "metadata": {},
     "output_type": "execute_result"
    }
   ],
   "source": [
    "text_clf_svm = Pipeline([('vect', CountVectorizer(stop_words=stopwords_en)), ('tfidf', TfidfTransformer()),\n",
    "                         ('clf-svm', SGDClassifier(loss='hinge', max_iter=1000, tol=1e-4, random_state=42))])\n",
    "\n",
    "text_clf_svm = text_clf_svm.fit(train_df['text'], train_df['label'])\n",
    "predicted_svm = text_clf_svm.predict(test_df['text'])\n",
    "balanced_accuracy_score(test_df['label'], predicted_svm)"
   ]
  },
  {
   "cell_type": "code",
   "execution_count": 9,
   "metadata": {},
   "outputs": [],
   "source": [
    "parameters = {'vect__ngram_range': [(1, 1), (1, 2)], \n",
    "              'tfidf__use_idf': (True, False), \n",
    "              'tfidf__norm': ('l1', 'l2'), \n",
    "              'clf-svm__alpha': (1e-2, 1e-3), \n",
    "              'clf-svm__penalty': ('none', 'l2', 'l1', 'elasticnet')}"
   ]
  },
  {
   "cell_type": "code",
   "execution_count": 10,
   "metadata": {},
   "outputs": [
    {
     "name": "stdout",
     "output_type": "stream",
     "text": [
      "Fitting 10 folds for each of 64 candidates, totalling 640 fits\n"
     ]
    },
    {
     "name": "stderr",
     "output_type": "stream",
     "text": [
      "[Parallel(n_jobs=-1)]: Using backend LokyBackend with 8 concurrent workers.\n",
      "[Parallel(n_jobs=-1)]: Done  34 tasks      | elapsed:  5.4min\n",
      "[Parallel(n_jobs=-1)]: Done 184 tasks      | elapsed: 30.6min\n",
      "[Parallel(n_jobs=-1)]: Done 434 tasks      | elapsed: 77.5min\n",
      "[Parallel(n_jobs=-1)]: Done 640 out of 640 | elapsed: 111.6min finished\n"
     ]
    },
    {
     "name": "stdout",
     "output_type": "stream",
     "text": [
      "0.8829313450804446\n",
      "{'clf-svm__alpha': 0.001, 'clf-svm__penalty': 'none', 'tfidf__norm': 'l2', 'tfidf__use_idf': True, 'vect__ngram_range': (1, 1)}\n"
     ]
    }
   ],
   "source": [
    "gs_clf = GridSearchCV(text_clf_svm, parameters, scoring='balanced_accuracy', n_jobs=-1, cv=10, iid=True, verbose=True)\n",
    "gs_clf = gs_clf.fit(train_df['text'], train_df['label'])\n",
    "print(gs_clf.best_score_)\n",
    "print(gs_clf.best_params_)"
   ]
  },
  {
   "cell_type": "code",
   "execution_count": 14,
   "metadata": {},
   "outputs": [
    {
     "data": {
      "text/plain": [
       "4251"
      ]
     },
     "execution_count": 14,
     "metadata": {},
     "output_type": "execute_result"
    }
   ],
   "source": [
    "len(gs_clf.predict(dev_df['text']))"
   ]
  },
  {
   "cell_type": "code",
   "execution_count": 15,
   "metadata": {},
   "outputs": [],
   "source": [
    "def write_predictions(predictions, out_path):\n",
    "    count = 0\n",
    "\n",
    "    with open(out_path, mode='w', encoding='utf-8') as out_file:\n",
    "        print('Saving predictions for %s' % validation_data_path)\n",
    "        out_file.write('id,category\\n')\n",
    "        idx = 0\n",
    "        for result in predictions:\n",
    "            count += 1\n",
    "            out_file.write(str(idx) + ',' + result + '\\n')\n",
    "            idx += 1\n",
    "            if count % 100 == 0:\n",
    "                print('Predicted %d sentences' % count)\n",
    "    out_file.close()\n",
    "    print('Finished predicting %d sentences' % count)\n",
    "    print('Results saved in %s' % Path(out_path).absolute())"
   ]
  },
  {
   "cell_type": "code",
   "execution_count": 18,
   "metadata": {},
   "outputs": [
    {
     "name": "stdout",
     "output_type": "stream",
     "text": [
      "Saving predictions for df_valid.jsonl\n",
      "Predicted 100 sentences\n",
      "Predicted 200 sentences\n",
      "Predicted 300 sentences\n",
      "Predicted 400 sentences\n",
      "Predicted 500 sentences\n",
      "Predicted 600 sentences\n",
      "Predicted 700 sentences\n",
      "Predicted 800 sentences\n",
      "Predicted 900 sentences\n",
      "Predicted 1000 sentences\n",
      "Predicted 1100 sentences\n",
      "Predicted 1200 sentences\n",
      "Predicted 1300 sentences\n",
      "Predicted 1400 sentences\n",
      "Predicted 1500 sentences\n",
      "Predicted 1600 sentences\n",
      "Predicted 1700 sentences\n",
      "Predicted 1800 sentences\n",
      "Predicted 1900 sentences\n",
      "Predicted 2000 sentences\n",
      "Predicted 2100 sentences\n",
      "Predicted 2200 sentences\n",
      "Predicted 2300 sentences\n",
      "Predicted 2400 sentences\n",
      "Predicted 2500 sentences\n",
      "Predicted 2600 sentences\n",
      "Predicted 2700 sentences\n",
      "Predicted 2800 sentences\n",
      "Predicted 2900 sentences\n",
      "Predicted 3000 sentences\n",
      "Predicted 3100 sentences\n",
      "Predicted 3200 sentences\n",
      "Predicted 3300 sentences\n",
      "Predicted 3400 sentences\n",
      "Predicted 3500 sentences\n",
      "Predicted 3600 sentences\n",
      "Predicted 3700 sentences\n",
      "Predicted 3800 sentences\n",
      "Predicted 3900 sentences\n",
      "Predicted 4000 sentences\n",
      "Predicted 4100 sentences\n",
      "Predicted 4200 sentences\n",
      "Finished predicting 4251 sentences\n",
      "Results saved in /home/user/Documentos/Mestrado/FASAM/submissions_text_clf_svm.csv\n"
     ]
    }
   ],
   "source": [
    "write_predictions(text_clf_svm.predict(dev_df['text']), 'submissions_text_clf_svm.csv')"
   ]
  },
  {
   "cell_type": "code",
   "execution_count": 17,
   "metadata": {},
   "outputs": [
    {
     "name": "stdout",
     "output_type": "stream",
     "text": [
      "Saving predictions for df_valid.jsonl\n",
      "Predicted 100 sentences\n",
      "Predicted 200 sentences\n",
      "Predicted 300 sentences\n",
      "Predicted 400 sentences\n",
      "Predicted 500 sentences\n",
      "Predicted 600 sentences\n",
      "Predicted 700 sentences\n",
      "Predicted 800 sentences\n",
      "Predicted 900 sentences\n",
      "Predicted 1000 sentences\n",
      "Predicted 1100 sentences\n",
      "Predicted 1200 sentences\n",
      "Predicted 1300 sentences\n",
      "Predicted 1400 sentences\n",
      "Predicted 1500 sentences\n",
      "Predicted 1600 sentences\n",
      "Predicted 1700 sentences\n",
      "Predicted 1800 sentences\n",
      "Predicted 1900 sentences\n",
      "Predicted 2000 sentences\n",
      "Predicted 2100 sentences\n",
      "Predicted 2200 sentences\n",
      "Predicted 2300 sentences\n",
      "Predicted 2400 sentences\n",
      "Predicted 2500 sentences\n",
      "Predicted 2600 sentences\n",
      "Predicted 2700 sentences\n",
      "Predicted 2800 sentences\n",
      "Predicted 2900 sentences\n",
      "Predicted 3000 sentences\n",
      "Predicted 3100 sentences\n",
      "Predicted 3200 sentences\n",
      "Predicted 3300 sentences\n",
      "Predicted 3400 sentences\n",
      "Predicted 3500 sentences\n",
      "Predicted 3600 sentences\n",
      "Predicted 3700 sentences\n",
      "Predicted 3800 sentences\n",
      "Predicted 3900 sentences\n",
      "Predicted 4000 sentences\n",
      "Predicted 4100 sentences\n",
      "Predicted 4200 sentences\n",
      "Finished predicting 4251 sentences\n",
      "Results saved in /home/user/Documentos/Mestrado/FASAM/submissions_svm.csv\n"
     ]
    }
   ],
   "source": [
    "write_predictions(gs_clf.predict(dev_df['text']), 'submissions_svm.csv')"
   ]
  },
  {
   "cell_type": "code",
   "execution_count": 15,
   "metadata": {},
   "outputs": [
    {
     "data": {
      "text/plain": [
       "0.9646401985111663"
      ]
     },
     "execution_count": 15,
     "metadata": {},
     "output_type": "execute_result"
    }
   ],
   "source": [
    "predicted_gs_clf = gs_clf.predict(test_df['text'])\n",
    "balanced_accuracy_score(test_df['label'], predicted_gs_clf)"
   ]
  },
  {
   "cell_type": "code",
   "execution_count": 16,
   "metadata": {
    "collapsed": true
   },
   "outputs": [],
   "source": [
    "model_path = '/media/discoD/models/scikit-learn/functions/judge_classifier.pkl'"
   ]
  },
  {
   "cell_type": "code",
   "execution_count": 17,
   "metadata": {},
   "outputs": [
    {
     "name": "stdout",
     "output_type": "stream",
     "text": [
      "Test score: 96.4640 %\n"
     ]
    }
   ],
   "source": [
    "# Save to file in the current working directory\n",
    "with open(model_path, 'wb') as file:  \n",
    "    pickle.dump(gs_clf, file)\n",
    "\n",
    "# Load from file\n",
    "with open(model_path, 'rb') as file:  \n",
    "    pickle_model = pickle.load(file)\n",
    "\n",
    "# Calculate the accuracy score and predict target values\n",
    "prediction = pickle_model.predict(test_df['text'])\n",
    "print(\"Test score: {0:.4f} %\".format(100 * balanced_accuracy_score(test_df['label'], prediction)))  "
   ]
  },
  {
   "cell_type": "code",
   "execution_count": 18,
   "metadata": {},
   "outputs": [
    {
     "data": {
      "text/plain": [
       "array([0])"
      ]
     },
     "execution_count": 18,
     "metadata": {},
     "output_type": "execute_result"
    }
   ],
   "source": [
    "pickle_model.predict(['Servidor Responsável'])"
   ]
  },
  {
   "cell_type": "code",
   "execution_count": 22,
   "metadata": {},
   "outputs": [
    {
     "data": {
      "text/plain": [
       "array([0, 0, 0, 1])"
      ]
     },
     "execution_count": 22,
     "metadata": {},
     "output_type": "execute_result"
    }
   ],
   "source": [
    "pickle_model.predict(['Assistente de Juiz', 'Assistente do Juiz', 'Juiz Assistente', 'Juiz Substituto'])"
   ]
  },
  {
   "cell_type": "code",
   "execution_count": null,
   "metadata": {
    "collapsed": true
   },
   "outputs": [],
   "source": []
  }
 ],
 "metadata": {
  "kernelspec": {
   "display_name": "AllenNLP",
   "language": "python",
   "name": "allennlp"
  },
  "language_info": {
   "codemirror_mode": {
    "name": "ipython",
    "version": 3
   },
   "file_extension": ".py",
   "mimetype": "text/x-python",
   "name": "python",
   "nbconvert_exporter": "python",
   "pygments_lexer": "ipython3",
   "version": "3.6.7"
  }
 },
 "nbformat": 4,
 "nbformat_minor": 2
}
