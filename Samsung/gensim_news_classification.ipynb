{
 "cells": [
  {
   "cell_type": "markdown",
   "metadata": {
    "nbpresent": {
     "id": "e0085648-0300-4087-9b12-ee7d2392ce4f"
    }
   },
   "source": [
    "# News classification with topic models in gensim\n",
    "News article classification is a task which is performed on a huge scale by news agencies all over the world. We will be looking into how topic modeling can be used to accurately classify news articles into different categories such as sports, technology, politics etc.\n",
    "\n",
    "Our aim in this tutorial is to come up with some topic model which can come up with topics that can easily be interpreted by us. Such a topic model can be used to discover hidden structure in the corpus and can also be used to determine the membership of a news article into one of the topics.\n",
    "\n",
    "For this tutorial, we will be using the Lee corpus which is a shortened version of the [Lee Background Corpus](http://www.socsci.uci.edu/~mdlee/lee_pincombe_welsh_document.PDF). The shortened version consists of 300 documents selected from the Australian Broadcasting Corporation's news mail service. It consists of texts of headline stories from around the year 2000-2001.\n",
    "\n",
    "Accompanying slides can be found [here](https://speakerdeck.com/dsquareindia/pycon-delhi-lightening).\n",
    "\n",
    "### Requirements\n",
    "In this tutorial we look at how different topic models can be easily created using [gensim](https://radimrehurek.com/gensim/).\n",
    "Following are the dependencies for this tutorial:\n",
    "    - Gensim Version >=0.13.1 would be preferred since we will be using topic coherence metrics extensively here.\n",
    "    - matplotlib\n",
    "    - nltk.stopwords and nltk.wordnet\n",
    "    - pyLDAVis\n",
    "We will be playing around with 4 different topic models here:\n",
    "    - LSI (Latent Semantic Indexing)\n",
    "    - HDP (Hierarchical Dirichlet Process)\n",
    "    - LDA (Latent Dirichlet Allocation)\n",
    "    - LDA (tweaked with topic coherence to find optimal number of topics) and\n",
    "    - LDA as LSI with the help of topic coherence metrics\n",
    "First we'll fit those topic models on our existing data then we'll compare each against the other and see how they rank in terms of human interpretability.\n",
    "\n",
    "All can be found in gensim and can be easily used in a plug-and-play fashion. We will tinker with the LDA model using the newly added topic coherence metrics in gensim based on [this](http://svn.aksw.org/papers/2015/WSDM_Topic_Evaluation/public.pdf) paper by Roeder et al and see how the resulting topic model compares with the exsisting ones."
   ]
  },
  {
   "cell_type": "code",
   "execution_count": 1,
   "metadata": {
    "nbpresent": {
     "id": "25997dab-04e3-4abc-b22f-b36944b208c2"
    }
   },
   "outputs": [
    {
     "name": "stdout",
     "output_type": "stream",
     "text": [
      "[nltk_data] Downloading package stopwords to /Users/home/nltk_data...\n",
      "[nltk_data]   Package stopwords is already up-to-date!\n",
      "[nltk_data] Downloading package wordnet to /Users/home/nltk_data...\n",
      "[nltk_data]   Package wordnet is already up-to-date!\n"
     ]
    }
   ],
   "source": [
    "import os\n",
    "import re\n",
    "import operator\n",
    "import matplotlib.pyplot as plt\n",
    "import warnings\n",
    "import gensim\n",
    "import numpy as np\n",
    "warnings.filterwarnings('ignore')  # Let's not pay heed to them right now\n",
    "\n",
    "import nltk\n",
    "nltk.download('stopwords') # Let's make sure the 'stopword' package is downloaded & updated\n",
    "nltk.download('wordnet') # Let's also download wordnet, which will be used for lemmatization\n",
    "\n",
    "from gensim.models import CoherenceModel, LdaModel, LsiModel, HdpModel\n",
    "from gensim.models.wrappers import LdaMallet\n",
    "from gensim.corpora import Dictionary\n",
    "from pprint import pprint\n",
    "\n",
    "%matplotlib inline"
   ]
  },
  {
   "cell_type": "code",
   "execution_count": 4,
   "metadata": {
    "nbpresent": {
     "id": "8778b874-a6d1-4f2f-ba02-35dc0fa10f0c"
    }
   },
   "outputs": [
    {
     "name": "stdout",
     "output_type": "stream",
     "text": [
      "/Users/home/Desenvolvimento/anaconda3/lib/python3.6/site-packages/gensim/test/test_data\n"
     ]
    }
   ],
   "source": [
    "test_data_dir = '{}'.format(os.sep).join([gensim.__path__[0], 'test', 'test_data'])\n",
    "print(test_data_dir)\n",
    "lee_train_file = test_data_dir + os.sep + 'lee_background.cor'"
   ]
  },
  {
   "cell_type": "markdown",
   "metadata": {
    "nbpresent": {
     "id": "bcbc3313-3a57-4923-b330-69691eaf7535"
    }
   },
   "source": [
    "Analysing our corpus.\n",
    "    - The first document talks about a bushfire that had occured in New South Wales.\n",
    "    - The second talks about conflict between India and Pakistan in Kashmir.\n",
    "    - The third talks about road accidents in the New South Wales area.\n",
    "    - The fourth one talks about Argentina's economic and political crisis during that time.\n",
    "    - The last one talks about the use of drugs by midwives in a Sydney hospital.\n",
    "Our final topic model should be giving us keywords which we can easily interpret and make a small summary out of. Without this the topic model cannot be of much practical use."
   ]
  },
  {
   "cell_type": "code",
   "execution_count": 63,
   "metadata": {
    "nbpresent": {
     "id": "d447e236-b1b9-4cf7-bc39-8bfb499d4730"
    }
   },
   "outputs": [
    {
     "name": "stdout",
     "output_type": "stream",
     "text": [
      "['Hundreds of people have been forced to vacate their homes in the Southern Highlands of New South Wales as strong winds today pushed a huge bushfire towards the town of Hill Top. A new blaze near Goulburn, south-west of Sydney, has forced the closure of the Hume Highway. At about 4:00pm AEDT, a marked deterioration in the weather as a storm cell moved east across the Blue Mountains forced authorities to make a decision to evacuate people from homes in outlying streets at Hill Top in the New South Wales southern highlands. An estimated 500 residents have left their homes for nearby Mittagong. The New South Wales Rural Fire Service says the weather conditions which caused the fire to burn in a finger formation have now eased and about 60 fire units in and around Hill Top are optimistic of defending all properties. As more than 100 blazes burn on New Year\\'s Eve in New South Wales, fire crews have been called to new fire at Gunning, south of Goulburn. While few details are available at this stage, fire authorities says it has closed the Hume Highway in both directions. Meanwhile, a new fire in Sydney\\'s west is no longer threatening properties in the Cranebrook area. Rain has fallen in some parts of the Illawarra, Sydney, the Hunter Valley and the north coast. But the Bureau of Meteorology\\'s Claire Richards says the rain has done little to ease any of the hundred fires still burning across the state. \"The falls have been quite isolated in those areas and generally the falls have been less than about five millimetres,\" she said. \"In some places really not significant at all, less than a millimetre, so there hasn\\'t been much relief as far as rain is concerned. \"In fact, they\\'ve probably hampered the efforts of the firefighters more because of the wind gusts that are associated with those thunderstorms.\" \\n']\n",
      "[\"Indian security forces have shot dead eight suspected militants in a night-long encounter in southern Kashmir. The shootout took place at Dora village some 50 kilometers south of the Kashmiri summer capital Srinagar. The deaths came as Pakistani police arrested more than two dozen militants from extremist groups accused of staging an attack on India's parliament. India has accused Pakistan-based Lashkar-e-Taiba and Jaish-e-Mohammad of carrying out the attack on December 13 at the behest of Pakistani military intelligence. Military tensions have soared since the raid, with both sides massing troops along their border and trading tit-for-tat diplomatic sanctions. Yesterday, Pakistan announced it had arrested Lashkar-e-Taiba chief Hafiz Mohammed Saeed. Police in Karachi say it is likely more raids will be launched against the two groups as well as other militant organisations accused of targetting India. Military tensions between India and Pakistan have escalated to a level not seen since their 1971 war. \\n\"]\n",
      "['The national road toll for the Christmas-New Year holiday period stands at 45, eight fewer than for the same time last year. 20 people have died on New South Wales roads, with eight fatalities in both Queensland and Victoria. Western Australia, the Northern Territory and South Australia have each recorded three deaths, while the ACT and Tasmania remain fatality free. \\n']\n",
      "[\"Argentina's political and economic crisis has deepened with the resignation of its interim President who took office just a week ago. Aldolfo Rodregiuez Saa told a stunned nation that he could not rescue Argentina because key fellow Peronists would not support his default on massive foreign debt repayment or his plan for a new currency. It was only a week ago that he was promising a million new jobs to end four years of recession, days after his predecessor resigned following a series of failed rescue packages. After announcing that the senate leader, Ramon Puerta, would assume the presidency until congress appoints a new caretaker president, the government said he too had quit and another senior lawmaker would act in the role. Fresh elections are not scheduled until March leaving whoever assumes the presidency with the daunting task of tackling Argentina's worst crisis in 12 years, but this time, isolated by international lending agencies. \\n\"]\n",
      "['Six midwives have been suspended at Wollongong Hospital, south of Sydney, for inappropriate use of nitrous oxide during work hours, on some occasions while women were in labour. The Illawarra Area Health Service says that following an investigation of unprofessional conduct, a further four midwives have been relocated to other areas within the hospital. The service\\'s chief executive officer, Tony Sherbon, says no one was put at risk, because other staff not involved in the use of nitrous oxide were able to take over caring for women in labour. \"Well we\\'re very concerned and the body of midwives to the hospital - there are over 70 midwives that work in our service - are very annoyed and angry at the inappropriate behaviour of these very senior people who should know better,\" he said. \"And that\\'s why we\\'ve take the action of suspending them and we\\'ll consider further action next week.\" \\n']\n",
      "['The Federal Government says it should be safe for Afghani asylum seekers in Australia to return home when the environment becomes secure. The Government has suspended their applications while the interim government is established in Kabul. The Foreign Affairs Minister Alexander Downer has refused to say for how long the claims process has been put on hold. But he says the major threat to most people seeking asylum is no longer there. \"Many Afghans who have tried to get into Australia or for that matter into Britain and other countries in north-west Europe have claimed that they are fleeing the Taliban,\" he said. \"Well, the Taliban is no longer in power in Afghanistan, the Taliban is finished.\" Meanwhile, there has been a mass airlift of detainees from Christmas Island to the Pacific Island of Nauru. In total, more than 300 people have been flown from the island in two operations using chartered aircraft. The second airlift today delivered 180 asylum seekers to Nauru where they will await processing of their claims for temporary visas. The Department of Immigration says there are now 211 detainees remaining on Christmas Island. A spokesman says a decision regarding their future is yet to be made. \\n']\n"
     ]
    }
   ],
   "source": [
    "with open(lee_train_file) as f:\n",
    "    for n, l in enumerate(f):\n",
    "        if n < 6:\n",
    "            print([l])"
   ]
  },
  {
   "cell_type": "code",
   "execution_count": 5,
   "metadata": {
    "collapsed": true,
    "nbpresent": {
     "id": "f4d505e5-5e90-4770-aaae-04ae05d697b5"
    }
   },
   "outputs": [],
   "source": [
    "def build_texts(fname):\n",
    "    \"\"\"\n",
    "    Function to build tokenized texts from file\n",
    "    \n",
    "    Parameters:\n",
    "    ----------\n",
    "    fname: File to be read\n",
    "    \n",
    "    Returns:\n",
    "    -------\n",
    "    yields preprocessed line\n",
    "    \"\"\"\n",
    "    with open(fname) as f:\n",
    "        for line in f:\n",
    "            # Converte para lowercase, realiza tokenização e remove acentos \n",
    "            # Mantém tokens com no mínimo 3 caracteres\n",
    "            yield gensim.utils.simple_preprocess(line, deacc=True, min_len=3)"
   ]
  },
  {
   "cell_type": "code",
   "execution_count": 53,
   "metadata": {
    "collapsed": true,
    "nbpresent": {
     "id": "4dbde9d2-3a9d-4677-8dd4-90066c0cb7c4"
    }
   },
   "outputs": [],
   "source": [
    "train_texts = list(build_texts(lee_train_file))"
   ]
  },
  {
   "cell_type": "code",
   "execution_count": 7,
   "metadata": {
    "nbpresent": {
     "id": "e7995c4c-f483-4cb5-9f53-3b8c5fef39c3"
    }
   },
   "outputs": [
    {
     "data": {
      "text/plain": [
       "300"
      ]
     },
     "execution_count": 7,
     "metadata": {},
     "output_type": "execute_result"
    }
   ],
   "source": [
    "len(train_texts)"
   ]
  },
  {
   "cell_type": "markdown",
   "metadata": {
    "nbpresent": {
     "id": "a6d40ad7-2abd-44e5-8839-62731fb5eab7"
    }
   },
   "source": [
    "### Preprocessing our data. Remember: Garbage In Garbage Out\n",
    "                                        \"NLP is 80% preprocessing.\"\n",
    "                                                                -Lev Konstantinovskiy\n",
    "This is the single most important step in setting up a good topic modeling system. If the preprocessing is not good, the algorithm can't do much since we would be feeding it a lot of noise. In this tutorial, we will be filtering out the noise using the following steps in this order for each line:\n",
    "1. Stopword removal using NLTK's english stopwords dataset.\n",
    "2. Bigram collocation detection (frequently co-occuring tokens) using gensim's [Phrases](https://radimrehurek.com/gensim/models/phrases.html). This is our first attempt to find some hidden structure in the corpus. You can even try trigram collocation detection.\n",
    "3. Lemmatization (using gensim's [`lemmatize`](https://radimrehurek.com/gensim/utils.html#gensim.utils.lemmatize)) to only keep the nouns. Lemmatization is generally better than stemming in the case of topic modeling since the words after lemmatization still remain understable. However, generally stemming might be preferred if the data is being fed into a vectorizer and isn't intended to be viewed."
   ]
  },
  {
   "cell_type": "code",
   "execution_count": 8,
   "metadata": {
    "collapsed": true,
    "nbpresent": {
     "id": "3ca3d45b-a28b-41c7-b5de-4c124c50d13d"
    }
   },
   "outputs": [],
   "source": [
    "bigram = gensim.models.Phrases(train_texts)  # for bigram collocation detection"
   ]
  },
  {
   "cell_type": "code",
   "execution_count": 9,
   "metadata": {
    "nbpresent": {
     "id": "862c087b-b918-47b9-b0cf-42b71996e061"
    }
   },
   "outputs": [
    {
     "data": {
      "text/plain": [
       "['new_york', 'example']"
      ]
     },
     "execution_count": 9,
     "metadata": {},
     "output_type": "execute_result"
    }
   ],
   "source": [
    "bigram[['new', 'york', 'example']]"
   ]
  },
  {
   "cell_type": "code",
   "execution_count": 10,
   "metadata": {
    "collapsed": true,
    "nbpresent": {
     "id": "1181e3a8-6803-4f41-9d55-397f3d700c28"
    }
   },
   "outputs": [],
   "source": [
    "from gensim.utils import lemmatize\n",
    "from nltk.corpus import stopwords"
   ]
  },
  {
   "cell_type": "code",
   "execution_count": 11,
   "metadata": {
    "collapsed": true,
    "nbpresent": {
     "id": "dbeeeabe-b6dd-477c-a798-fb7b39302ba9"
    }
   },
   "outputs": [],
   "source": [
    "stops = set(stopwords.words('english'))  # nltk stopwords list"
   ]
  },
  {
   "cell_type": "code",
   "execution_count": 66,
   "metadata": {
    "collapsed": true,
    "nbpresent": {
     "id": "3d784001-6875-4be5-b8e8-e6c490f5b7b4"
    }
   },
   "outputs": [],
   "source": [
    "def process_texts(texts, keep_all=True):\n",
    "    \"\"\"\n",
    "    Function to process texts. Following are the steps we take:\n",
    "    \n",
    "    1. Stopword Removal.\n",
    "    2. Collocation detection.\n",
    "    3. Lemmatization (not stem since stemming can reduce the interpretability).\n",
    "    \n",
    "    Parameters:\n",
    "    ----------\n",
    "    texts: Tokenized texts.\n",
    "    \n",
    "    Returns:\n",
    "    -------\n",
    "    texts: Pre-processed tokenized texts.\n",
    "    \"\"\"\n",
    "    texts = [[word for word in line if word not in stops] for line in texts]\n",
    "    texts = [bigram[line] for line in texts]\n",
    "    \n",
    "    if keep_all is False:\n",
    "        tagged = [nltk.pos_tag(line) for line in texts]\n",
    "        #print(tagged)\n",
    "        #texts = [[word for word in line if nltk.pos_tag(word)[1].startswith('NN')] for line in texts]\n",
    "        #tagged = nltk.pos_tag(texts)\n",
    "        #for tag in tagged:\n",
    "        #    print(tag)\n",
    "        texts = [[tag[0] for tag in tuples if tag[1].startswith('NN')] for tuples in tagged]\n",
    "        #print(texts)\n",
    "    \n",
    "    from nltk.stem import WordNetLemmatizer\n",
    "    lemmatizer = WordNetLemmatizer()\n",
    "\n",
    "    texts = [[word for word in lemmatizer.lemmatize(' '.join(line), pos='v').split()] for line in texts]\n",
    "\n",
    "    return texts"
   ]
  },
  {
   "cell_type": "code",
   "execution_count": 67,
   "metadata": {
    "nbpresent": {
     "id": "d8cfc39f-aa3b-469f-ae34-1ef99ef51a25"
    }
   },
   "outputs": [
    {
     "data": {
      "text/plain": [
       "[['federal_government',\n",
       "  'afghani',\n",
       "  'asylum_seekers',\n",
       "  'home',\n",
       "  'environment',\n",
       "  'government',\n",
       "  'applications',\n",
       "  'foreign_affairs',\n",
       "  'minister_alexander',\n",
       "  'downer',\n",
       "  'claims',\n",
       "  'process',\n",
       "  'hold',\n",
       "  'threat',\n",
       "  'people',\n",
       "  'asylum',\n",
       "  'afghans',\n",
       "  'matter',\n",
       "  'britain',\n",
       "  'countries',\n",
       "  'europe',\n",
       "  'taliban',\n",
       "  'power',\n",
       "  'taliban',\n",
       "  'mass',\n",
       "  'airlift',\n",
       "  'island',\n",
       "  'pacific',\n",
       "  'island',\n",
       "  'people',\n",
       "  'operations',\n",
       "  'airlift',\n",
       "  'today',\n",
       "  'asylum_seekers',\n",
       "  'claims',\n",
       "  'department',\n",
       "  'immigration',\n",
       "  'detainees',\n",
       "  'christmas',\n",
       "  'island',\n",
       "  'spokesman',\n",
       "  'decision']]"
      ]
     },
     "execution_count": 67,
     "metadata": {},
     "output_type": "execute_result"
    }
   ],
   "source": [
    "train_texts = list(build_texts(lee_train_file))\n",
    "train_texts = process_texts(train_texts, keep_all=False)\n",
    "train_texts[5:6]"
   ]
  },
  {
   "cell_type": "markdown",
   "metadata": {
    "nbpresent": {
     "id": "0e5ca1a8-9c78-412a-9ab4-a4d0be5afd34"
    }
   },
   "source": [
    "Finalising our dictionary and corpus"
   ]
  },
  {
   "cell_type": "code",
   "execution_count": 68,
   "metadata": {
    "collapsed": true,
    "nbpresent": {
     "id": "161e8770-8bc2-41ae-98f4-08d1c9311e82"
    }
   },
   "outputs": [],
   "source": [
    "dictionary = Dictionary(train_texts)\n",
    "corpus = [dictionary.doc2bow(text) for text in train_texts]"
   ]
  },
  {
   "cell_type": "markdown",
   "metadata": {
    "nbpresent": {
     "id": "fe809373-e88b-44eb-9cb9-08be3dc5949a"
    }
   },
   "source": [
    "### Topic modeling with LSI\n",
    "This is a useful topic modeling algorithm in that it can rank topics by itself. Thus it outputs topics in a ranked order. However it does require a `num_topics` parameter (set to 200 by default) to determine the number of latent dimensions after the SVD."
   ]
  },
  {
   "cell_type": "code",
   "execution_count": 69,
   "metadata": {
    "collapsed": true,
    "nbpresent": {
     "id": "58e7dda6-0dd2-4e4f-b81a-0b530c66b20b"
    }
   },
   "outputs": [],
   "source": [
    "lsimodel = LsiModel(corpus=corpus, num_topics=10, id2word=dictionary)"
   ]
  },
  {
   "cell_type": "code",
   "execution_count": 70,
   "metadata": {
    "nbpresent": {
     "id": "6b5572c0-2ab0-4b13-a08f-3db21b4c4f21"
    },
    "scrolled": false
   },
   "outputs": [
    {
     "data": {
      "text/plain": [
       "[(0,\n",
       "  '0.277*\"people\" + 0.264*\"government\" + 0.186*\"security\" + 0.154*\"today\" + 0.147*\"police\" + 0.143*\"force\" + 0.129*\"attacks\" + 0.128*\"day\" + 0.118*\"man\" + 0.118*\"sharon\"'),\n",
       " (1,\n",
       "  '-0.232*\"fire\" + 0.213*\"sharon\" + -0.201*\"today\" + -0.185*\"sydney\" + -0.179*\"firefighters\" + -0.172*\"company\" + 0.170*\"arafat\" + -0.162*\"wales\" + -0.138*\"fires\" + 0.131*\"attacks\"'),\n",
       " (2,\n",
       "  '-0.322*\"fire\" + 0.320*\"company\" + -0.226*\"firefighters\" + -0.193*\"sydney\" + -0.178*\"fires\" + -0.169*\"wales\" + 0.165*\"workers\" + -0.147*\"areas\" + -0.141*\"area\" + 0.136*\"unions\"'),\n",
       " (3,\n",
       "  '-0.264*\"test\" + 0.244*\"force\" + -0.190*\"day\" + -0.189*\"match\" + 0.152*\"afghanistan\" + -0.148*\"company\" + 0.145*\"government\" + -0.129*\"side\" + 0.128*\"man\" + -0.126*\"team\"'),\n",
       " (4,\n",
       "  '-0.368*\"company\" + 0.267*\"test\" + 0.186*\"day\" + 0.183*\"match\" + 0.154*\"force\" + -0.134*\"workers\" + 0.133*\"side\" + 0.129*\"team\" + 0.119*\"captain\" + 0.115*\"days\"')]"
      ]
     },
     "execution_count": 70,
     "metadata": {},
     "output_type": "execute_result"
    }
   ],
   "source": [
    "lsimodel.show_topics(num_topics=5)  # Showing only the top 5 topics"
   ]
  },
  {
   "cell_type": "code",
   "execution_count": 71,
   "metadata": {
    "collapsed": true,
    "nbpresent": {
     "id": "b1a8c7b4-dc46-4bfe-b17b-d604f212b389"
    }
   },
   "outputs": [],
   "source": [
    "lsitopics = lsimodel.show_topics(formatted=False)"
   ]
  },
  {
   "cell_type": "markdown",
   "metadata": {
    "nbpresent": {
     "id": "943a5fcd-7c2e-4c16-9879-34882a7a74d4"
    }
   },
   "source": [
    "### Topic modeling with [HDP](http://jmlr.csail.mit.edu/proceedings/papers/v15/wang11a/wang11a.pdf)\n",
    "An HDP model is fully unsupervised. It can also determine the ideal number of topics it needs through posterior inference."
   ]
  },
  {
   "cell_type": "code",
   "execution_count": 72,
   "metadata": {
    "collapsed": true,
    "nbpresent": {
     "id": "b492de13-0053-416c-b314-1bbae21ca828"
    }
   },
   "outputs": [],
   "source": [
    "hdpmodel = HdpModel(corpus=corpus, id2word=dictionary)"
   ]
  },
  {
   "cell_type": "code",
   "execution_count": 73,
   "metadata": {
    "nbpresent": {
     "id": "92dbb672-adca-4535-8089-de23712828d8"
    }
   },
   "outputs": [
    {
     "data": {
      "text/plain": [
       "[(0,\n",
       "  '0.003*sharon + 0.002*khil + 0.002*government + 0.002*meteorology + 0.002*cyberspace + 0.002*arafat + 0.002*help + 0.002*offices + 0.002*hamas + 0.002*drawn + 0.001*war + 0.001*attacks + 0.001*replacement + 0.001*trading + 0.001*signs + 0.001*suburb + 0.001*security + 0.001*sas + 0.001*crew + 0.001*kissinger'),\n",
       " (1,\n",
       "  '0.002*airline + 0.002*administrators + 0.002*foreign_minister + 0.002*agreement + 0.002*police + 0.002*roed + 0.002*resolve + 0.002*troops + 0.002*today + 0.002*force + 0.002*senate + 0.002*security + 0.002*government + 0.002*exchanges + 0.002*power + 0.002*electricity + 0.001*virgin + 0.001*battling + 0.001*gunmen + 0.001*arrest'),\n",
       " (2,\n",
       "  '0.003*airport + 0.002*half + 0.002*opposition + 0.002*baseless + 0.002*city + 0.002*party + 0.002*stage + 0.002*people + 0.002*warrants + 0.002*fought + 0.002*revenge + 0.002*afghan_forces + 0.002*residents + 0.002*night + 0.002*kashmir + 0.002*lali + 0.002*terms + 0.002*civilians + 0.002*troops + 0.002*zaman'),\n",
       " (3,\n",
       "  '0.003*company + 0.002*director + 0.002*people + 0.002*risk + 0.002*day + 0.002*report + 0.002*equipment + 0.002*peter + 0.002*macfarlane + 0.002*volvo + 0.002*laws + 0.002*services + 0.002*tragedy + 0.002*cars + 0.002*pool + 0.002*flag + 0.002*relevance + 0.002*australians + 0.001*machine + 0.001*chechen'),\n",
       " (4,\n",
       "  '0.003*sharon + 0.003*government + 0.002*security + 0.002*jacques_kallis + 0.002*group + 0.002*terrorism + 0.002*spill + 0.002*human_rights + 0.002*suicide_attacks + 0.002*palestinian_authority + 0.002*heads + 0.002*weekend + 0.002*civilians + 0.001*pacemaker + 0.001*ingvall + 0.001*matter + 0.001*inability + 0.001*war + 0.001*rohrer + 0.001*overweight'),\n",
       " (5,\n",
       "  '0.003*government + 0.002*commission + 0.002*collapse + 0.002*weaken + 0.002*practices + 0.002*officals + 0.002*maintaining + 0.002*help + 0.002*spread + 0.002*regulations + 0.002*morning + 0.002*lubbers + 0.002*bid + 0.001*john + 0.001*tunick + 0.001*today + 0.001*destroyer + 0.001*gaza + 0.001*calm + 0.001*federal_government'),\n",
       " (6,\n",
       "  '0.003*match + 0.002*rafter + 0.002*team + 0.002*palestinian_authority + 0.002*john + 0.002*protesters + 0.002*hamas + 0.002*world + 0.001*blake + 0.001*makers + 0.001*burning + 0.001*building_industry + 0.001*day + 0.001*volunteers + 0.001*guarantee + 0.001*products + 0.001*acquisition + 0.001*tribute + 0.001*chemotherapy + 0.001*rubber'),\n",
       " (7,\n",
       "  '0.002*guides + 0.002*picks + 0.002*half + 0.002*deaths + 0.002*tourists + 0.002*songs + 0.002*fielders + 0.002*harrison + 0.002*safety + 0.002*people + 0.002*twenty + 0.002*darwin + 0.002*tell + 0.002*wage + 0.001*group + 0.001*help + 0.001*people_including + 0.001*violent + 0.001*chairmen + 0.001*homeless'),\n",
       " (8,\n",
       "  '0.002*retreat + 0.002*game + 0.002*presidents + 0.002*economist + 0.002*grenades + 0.002*negotiations + 0.002*monoxide + 0.002*islands + 0.002*detainees + 0.002*anglican_school + 0.001*sail + 0.001*hicks + 0.001*marshall + 0.001*possession + 0.001*prevent + 0.001*opinion + 0.001*machine + 0.001*lights + 0.001*maguire + 0.001*reveal'),\n",
       " (9,\n",
       "  '0.002*sas + 0.002*day + 0.002*priorities + 0.002*masts + 0.002*try + 0.002*threatens + 0.002*piston + 0.002*airliner + 0.001*chechen + 0.001*weaken + 0.001*ramon + 0.001*wales + 0.001*ability + 0.001*attachments + 0.001*ghana + 0.001*side + 0.001*kevin + 0.001*process + 0.001*robert + 0.001*privacy'),\n",
       " (10,\n",
       "  '0.003*ashes + 0.003*benares + 0.002*nicks + 0.002*pocket + 0.002*hare + 0.002*rift + 0.002*officials + 0.002*tunick + 0.002*fans + 0.002*ceremony + 0.002*warning + 0.002*ganges + 0.002*costs + 0.002*harrison + 0.002*religion + 0.002*course + 0.002*knife + 0.002*coordinate + 0.002*bombardments + 0.001*launceston'),\n",
       " (11,\n",
       "  '0.002*job + 0.002*light + 0.002*press + 0.002*state + 0.002*incident + 0.002*employment + 0.002*personnel + 0.002*victoria + 0.002*outs + 0.002*presence + 0.002*week + 0.002*freeze + 0.002*vigin + 0.002*talks + 0.002*occasions + 0.002*songs + 0.002*proof + 0.002*hearing + 0.002*security_forces + 0.002*influence'),\n",
       " (12,\n",
       "  '0.005*company + 0.003*relationship + 0.003*reuters + 0.002*austar + 0.002*staff + 0.002*entitlements + 0.002*directions + 0.002*stores + 0.002*jobs + 0.002*creditors + 0.002*administrators + 0.002*variety + 0.002*stray + 0.002*appin + 0.002*destruction + 0.002*north + 0.001*advani + 0.001*line + 0.001*morning + 0.001*hill'),\n",
       " (13,\n",
       "  '0.002*powell + 0.002*rob + 0.002*hinduism + 0.002*time + 0.002*afghanistan + 0.002*prosecution + 0.002*hits + 0.002*blood + 0.002*people + 0.002*extinguishment + 0.002*jeeps + 0.002*officers + 0.002*structure + 0.002*turbulence + 0.002*obstacles + 0.001*marines + 0.001*glass + 0.001*provinces + 0.001*side + 0.001*spencer'),\n",
       " (14,\n",
       "  '0.003*storms + 0.002*calls + 0.002*trees + 0.002*volunteers + 0.002*pirates + 0.002*self + 0.002*homes + 0.002*services + 0.002*ses + 0.002*storm + 0.002*kofi + 0.002*daisy + 0.002*areas + 0.002*assistance + 0.001*indictment + 0.001*feet + 0.001*ball + 0.001*winds + 0.001*langer + 0.001*seas'),\n",
       " (15,\n",
       "  '0.002*brain + 0.002*team + 0.002*patrol + 0.002*mosque + 0.002*research + 0.002*cells + 0.002*emissions + 0.002*month + 0.002*findings + 0.001*contingency + 0.001*devotees + 0.001*embryos + 0.001*document + 0.001*west_bank + 0.001*magna + 0.001*bacteria + 0.001*per_cent + 0.001*miguel + 0.001*trade + 0.001*advice'),\n",
       " (16,\n",
       "  '0.003*damages + 0.002*source + 0.002*anglican_school + 0.002*hostage + 0.002*militants + 0.002*eyes + 0.002*name + 0.002*soldiers + 0.002*peres + 0.002*ease + 0.002*campaign + 0.002*raduyev + 0.002*crossing + 0.002*losses + 0.002*patrol + 0.002*alejandro + 0.002*rhino + 0.001*new_south + 0.001*chairmen + 0.001*army'),\n",
       " (17,\n",
       "  '0.003*economy + 0.002*disaster + 0.002*australia + 0.002*old_boy + 0.002*information + 0.002*accepts + 0.002*marshall + 0.002*train + 0.002*storms + 0.002*hold + 0.002*damage + 0.002*batt + 0.002*technique + 0.002*rudd + 0.002*cooler + 0.002*liverpool + 0.002*precursor + 0.001*kilogram + 0.001*ball + 0.001*noise'),\n",
       " (18,\n",
       "  '0.002*timing + 0.002*figures + 0.002*sinai + 0.002*hiv + 0.002*obesity + 0.002*services + 0.002*peleliu + 0.002*computer + 0.001*inspection + 0.001*train + 0.001*runners + 0.001*claude + 0.001*europe + 0.001*mouth + 0.001*cause + 0.001*liverpool + 0.001*index + 0.001*functions + 0.001*rise + 0.001*labor'),\n",
       " (19,\n",
       "  '0.002*nominations + 0.002*freight + 0.002*graham + 0.002*book + 0.002*fabrice + 0.002*majority + 0.002*knop + 0.002*breach + 0.001*levies + 0.001*myers + 0.001*bayliss + 0.001*annan + 0.001*accept + 0.001*bas + 0.001*beatle + 0.001*resumption + 0.001*magistrate + 0.001*united_states + 0.001*audio + 0.001*plagiarism')]"
      ]
     },
     "execution_count": 73,
     "metadata": {},
     "output_type": "execute_result"
    }
   ],
   "source": [
    "hdpmodel.show_topics()"
   ]
  },
  {
   "cell_type": "code",
   "execution_count": 74,
   "metadata": {
    "collapsed": true,
    "nbpresent": {
     "id": "85e46481-0245-448c-b4e2-e0c6e175357c"
    }
   },
   "outputs": [],
   "source": [
    "hdptopics = hdpmodel.show_topics(formatted=False)"
   ]
  },
  {
   "cell_type": "markdown",
   "metadata": {
    "nbpresent": {
     "id": "380ef8b7-6de1-4822-ae30-7120e12b5955"
    }
   },
   "source": [
    "### Topic modeling using [LDA](https://www.cs.princeton.edu/~blei/papers/HoffmanBleiBach2010b.pdf)\n",
    "This is one the most popular topic modeling algorithms today. It is a generative model in that it assumes each document is a mixture of topics and in turn, each topic is a mixture of words. To understand it better you can watch [this](https://www.youtube.com/watch?v=DDq3OVp9dNA) lecture by David Blei. Let's choose 10 topics to initialize this."
   ]
  },
  {
   "cell_type": "code",
   "execution_count": 75,
   "metadata": {
    "collapsed": true,
    "nbpresent": {
     "id": "a02b72fb-0049-4ec3-825f-179e396f3904"
    }
   },
   "outputs": [],
   "source": [
    "ldamodel = LdaModel(corpus=corpus, num_topics=10, id2word=dictionary)"
   ]
  },
  {
   "cell_type": "markdown",
   "metadata": {
    "nbpresent": {
     "id": "672c009d-3dbc-4a1f-a789-2a0fe78729b9"
    }
   },
   "source": [
    "pyLDAvis is a great way to visualize an LDA model. To summarize in short, the area of the circles represent the prevelance of the topic. The length of the bars on the right represent the membership of a term in a particular topic. pyLDAvis is based on [this](http://nlp.stanford.edu/events/illvi2014/papers/sievert-illvi2014.pdf) paper."
   ]
  },
  {
   "cell_type": "code",
   "execution_count": 76,
   "metadata": {
    "collapsed": true,
    "nbpresent": {
     "id": "f7724653-52ef-41e8-aa22-6232be216b08"
    }
   },
   "outputs": [],
   "source": [
    "import pyLDAvis.gensim"
   ]
  },
  {
   "cell_type": "code",
   "execution_count": 77,
   "metadata": {
    "collapsed": true,
    "nbpresent": {
     "id": "2c5b03e0-ce0f-4999-8fe1-820a9fe06873"
    }
   },
   "outputs": [],
   "source": [
    "pyLDAvis.enable_notebook()"
   ]
  },
  {
   "cell_type": "code",
   "execution_count": 78,
   "metadata": {
    "nbpresent": {
     "id": "7da56259-bbf2-4f63-93f6-033833ae4494"
    },
    "scrolled": false
   },
   "outputs": [
    {
     "name": "stderr",
     "output_type": "stream",
     "text": [
      "/Users/home/Desenvolvimento/anaconda3/lib/python3.6/site-packages/pyLDAvis/_prepare.py:387: DeprecationWarning: \n",
      ".ix is deprecated. Please use\n",
      ".loc for label based indexing or\n",
      ".iloc for positional indexing\n",
      "\n",
      "See the documentation here:\n",
      "http://pandas.pydata.org/pandas-docs/stable/indexing.html#ix-indexer-is-deprecated\n",
      "  topic_term_dists = topic_term_dists.ix[topic_order]\n"
     ]
    },
    {
     "data": {
      "text/html": [
       "\n",
       "<link rel=\"stylesheet\" type=\"text/css\" href=\"https://cdn.rawgit.com/bmabey/pyLDAvis/files/ldavis.v1.0.0.css\">\n",
       "\n",
       "\n",
       "<div id=\"ldavis_el14651121549854809741622062\"></div>\n",
       "<script type=\"text/javascript\">\n",
       "\n",
       "var ldavis_el14651121549854809741622062_data = {\"mdsDat\": {\"Freq\": [17.479247145329552, 12.141722279498932, 10.344003342088985, 10.330471335730396, 10.034759350998671, 9.010824746836589, 8.319894519527548, 7.992607808927589, 7.625602756533606, 6.720866714528126], \"cluster\": [1, 1, 1, 1, 1, 1, 1, 1, 1, 1], \"topics\": [1, 2, 3, 4, 5, 6, 7, 8, 9, 10], \"x\": [-0.07439381030887021, -0.004790378958499944, -0.03199840812765516, 0.07345134172452898, -0.03381241972056635, -0.0012586798963416736, 0.08651683632207512, -0.03275577757219836, 0.02045138635485493, -0.0014100898173273321], \"y\": [-0.0263759005133603, -0.022449066030886783, 0.057971375513231616, 0.01583074641714457, 0.045810768002575136, -0.05656691919911585, 0.033683482954112304, 0.037585275495034494, -0.07791649204492519, -0.007573270593809868]}, \"tinfo\": {\"Category\": [\"Default\", \"Default\", \"Default\", \"Default\", \"Default\", \"Default\", \"Default\", \"Default\", \"Default\", \"Default\", \"Default\", \"Default\", \"Default\", \"Default\", \"Default\", \"Default\", \"Default\", \"Default\", \"Default\", \"Default\", \"Default\", \"Default\", \"Default\", \"Default\", \"Default\", \"Default\", \"Default\", \"Default\", \"Default\", \"Default\", \"Topic1\", \"Topic1\", \"Topic1\", \"Topic1\", \"Topic1\", \"Topic1\", \"Topic1\", \"Topic1\", \"Topic1\", \"Topic1\", \"Topic1\", \"Topic1\", \"Topic1\", \"Topic1\", \"Topic1\", \"Topic1\", \"Topic1\", \"Topic1\", \"Topic1\", \"Topic1\", \"Topic1\", \"Topic1\", \"Topic1\", \"Topic1\", \"Topic1\", \"Topic1\", \"Topic1\", \"Topic1\", \"Topic1\", \"Topic1\", \"Topic1\", \"Topic1\", \"Topic1\", \"Topic1\", \"Topic1\", \"Topic1\", \"Topic1\", \"Topic1\", \"Topic1\", \"Topic1\", \"Topic1\", \"Topic1\", \"Topic1\", \"Topic1\", \"Topic1\", \"Topic1\", \"Topic1\", \"Topic1\", \"Topic1\", \"Topic1\", \"Topic1\", \"Topic1\", \"Topic1\", \"Topic1\", \"Topic1\", \"Topic1\", \"Topic1\", \"Topic1\", \"Topic1\", \"Topic1\", \"Topic1\", \"Topic1\", \"Topic1\", \"Topic1\", \"Topic1\", \"Topic1\", \"Topic1\", \"Topic1\", \"Topic1\", \"Topic2\", \"Topic2\", \"Topic2\", \"Topic2\", \"Topic2\", \"Topic2\", \"Topic2\", \"Topic2\", \"Topic2\", \"Topic2\", \"Topic2\", \"Topic2\", \"Topic2\", \"Topic2\", \"Topic2\", \"Topic2\", \"Topic2\", \"Topic2\", \"Topic2\", \"Topic2\", \"Topic2\", \"Topic2\", \"Topic2\", \"Topic2\", \"Topic2\", \"Topic2\", \"Topic2\", \"Topic2\", \"Topic2\", \"Topic2\", \"Topic2\", \"Topic2\", \"Topic2\", \"Topic2\", \"Topic2\", \"Topic2\", \"Topic2\", \"Topic2\", \"Topic2\", \"Topic2\", \"Topic2\", \"Topic2\", \"Topic2\", \"Topic2\", \"Topic2\", \"Topic2\", \"Topic2\", \"Topic2\", \"Topic2\", \"Topic2\", \"Topic2\", \"Topic2\", \"Topic2\", \"Topic2\", \"Topic2\", \"Topic2\", \"Topic2\", \"Topic2\", \"Topic2\", \"Topic2\", \"Topic2\", \"Topic2\", \"Topic2\", \"Topic2\", \"Topic2\", \"Topic2\", \"Topic2\", \"Topic2\", \"Topic2\", \"Topic2\", \"Topic2\", \"Topic2\", \"Topic2\", \"Topic2\", \"Topic2\", \"Topic2\", \"Topic3\", \"Topic3\", \"Topic3\", \"Topic3\", \"Topic3\", \"Topic3\", \"Topic3\", \"Topic3\", \"Topic3\", \"Topic3\", \"Topic3\", \"Topic3\", \"Topic3\", \"Topic3\", \"Topic3\", \"Topic3\", \"Topic3\", \"Topic3\", \"Topic3\", \"Topic3\", \"Topic3\", \"Topic3\", \"Topic3\", \"Topic3\", \"Topic3\", \"Topic3\", \"Topic3\", \"Topic3\", \"Topic3\", \"Topic3\", \"Topic3\", \"Topic3\", \"Topic3\", \"Topic3\", \"Topic3\", \"Topic3\", \"Topic3\", \"Topic3\", \"Topic3\", \"Topic3\", \"Topic3\", \"Topic3\", \"Topic3\", \"Topic3\", \"Topic3\", \"Topic3\", \"Topic3\", \"Topic3\", \"Topic3\", \"Topic3\", \"Topic3\", \"Topic3\", \"Topic3\", \"Topic3\", \"Topic3\", \"Topic3\", \"Topic3\", \"Topic3\", \"Topic3\", \"Topic3\", \"Topic3\", \"Topic3\", \"Topic3\", \"Topic3\", \"Topic3\", \"Topic3\", \"Topic3\", \"Topic3\", \"Topic3\", \"Topic3\", \"Topic3\", \"Topic3\", \"Topic3\", \"Topic3\", \"Topic3\", \"Topic3\", \"Topic3\", \"Topic3\", \"Topic3\", \"Topic3\", \"Topic4\", \"Topic4\", \"Topic4\", \"Topic4\", \"Topic4\", \"Topic4\", \"Topic4\", \"Topic4\", \"Topic4\", \"Topic4\", \"Topic4\", \"Topic4\", \"Topic4\", \"Topic4\", \"Topic4\", \"Topic4\", \"Topic4\", \"Topic4\", \"Topic4\", \"Topic4\", \"Topic4\", \"Topic4\", \"Topic4\", \"Topic4\", \"Topic4\", \"Topic4\", \"Topic4\", \"Topic4\", \"Topic4\", \"Topic4\", \"Topic4\", \"Topic4\", \"Topic4\", \"Topic4\", \"Topic4\", \"Topic4\", \"Topic4\", \"Topic4\", \"Topic4\", \"Topic4\", \"Topic4\", \"Topic4\", \"Topic4\", \"Topic4\", \"Topic4\", \"Topic4\", \"Topic4\", \"Topic4\", \"Topic4\", \"Topic4\", \"Topic4\", \"Topic4\", \"Topic4\", \"Topic4\", \"Topic4\", \"Topic4\", \"Topic4\", \"Topic4\", \"Topic4\", \"Topic4\", \"Topic4\", \"Topic4\", \"Topic4\", \"Topic4\", \"Topic4\", \"Topic4\", \"Topic4\", \"Topic4\", \"Topic4\", \"Topic4\", \"Topic4\", \"Topic4\", \"Topic4\", \"Topic4\", \"Topic4\", \"Topic4\", \"Topic5\", \"Topic5\", \"Topic5\", \"Topic5\", \"Topic5\", \"Topic5\", \"Topic5\", \"Topic5\", \"Topic5\", \"Topic5\", \"Topic5\", \"Topic5\", \"Topic5\", \"Topic5\", \"Topic5\", \"Topic5\", \"Topic5\", \"Topic5\", \"Topic5\", \"Topic5\", \"Topic5\", \"Topic5\", \"Topic5\", \"Topic5\", \"Topic5\", \"Topic5\", \"Topic5\", \"Topic5\", \"Topic5\", \"Topic5\", \"Topic5\", \"Topic5\", \"Topic5\", \"Topic5\", \"Topic5\", \"Topic5\", \"Topic5\", \"Topic5\", \"Topic5\", \"Topic5\", \"Topic5\", \"Topic5\", \"Topic5\", \"Topic5\", \"Topic5\", \"Topic5\", \"Topic5\", \"Topic5\", \"Topic5\", \"Topic5\", \"Topic5\", \"Topic5\", \"Topic5\", \"Topic5\", \"Topic5\", \"Topic5\", \"Topic5\", \"Topic5\", \"Topic5\", \"Topic5\", \"Topic5\", \"Topic5\", \"Topic5\", \"Topic5\", \"Topic5\", \"Topic5\", \"Topic5\", \"Topic5\", \"Topic6\", \"Topic6\", \"Topic6\", \"Topic6\", \"Topic6\", \"Topic6\", \"Topic6\", \"Topic6\", \"Topic6\", \"Topic6\", \"Topic6\", \"Topic6\", \"Topic6\", \"Topic6\", \"Topic6\", \"Topic6\", \"Topic6\", \"Topic6\", \"Topic6\", \"Topic6\", \"Topic6\", \"Topic6\", \"Topic6\", \"Topic6\", \"Topic6\", \"Topic6\", \"Topic6\", \"Topic6\", \"Topic6\", \"Topic6\", \"Topic6\", \"Topic6\", \"Topic6\", \"Topic6\", \"Topic6\", \"Topic6\", \"Topic6\", \"Topic6\", \"Topic6\", \"Topic6\", \"Topic6\", \"Topic6\", \"Topic6\", \"Topic6\", \"Topic6\", \"Topic6\", \"Topic6\", \"Topic6\", \"Topic6\", \"Topic6\", \"Topic6\", \"Topic6\", \"Topic6\", \"Topic6\", \"Topic6\", \"Topic6\", \"Topic6\", \"Topic6\", \"Topic6\", \"Topic6\", \"Topic6\", \"Topic6\", \"Topic6\", \"Topic6\", \"Topic6\", \"Topic6\", \"Topic6\", \"Topic6\", \"Topic6\", \"Topic6\", \"Topic6\", \"Topic6\", \"Topic6\", \"Topic6\", \"Topic6\", \"Topic6\", \"Topic7\", \"Topic7\", \"Topic7\", \"Topic7\", \"Topic7\", \"Topic7\", \"Topic7\", \"Topic7\", \"Topic7\", \"Topic7\", \"Topic7\", \"Topic7\", \"Topic7\", \"Topic7\", \"Topic7\", \"Topic7\", \"Topic7\", \"Topic7\", \"Topic7\", \"Topic7\", \"Topic7\", \"Topic7\", \"Topic7\", \"Topic7\", \"Topic7\", \"Topic7\", \"Topic7\", \"Topic7\", \"Topic7\", \"Topic7\", \"Topic7\", \"Topic7\", \"Topic7\", \"Topic7\", \"Topic7\", \"Topic7\", \"Topic7\", \"Topic7\", \"Topic7\", \"Topic7\", \"Topic7\", \"Topic7\", \"Topic7\", \"Topic7\", \"Topic7\", \"Topic7\", \"Topic7\", \"Topic7\", \"Topic7\", \"Topic7\", \"Topic7\", \"Topic7\", \"Topic7\", \"Topic7\", \"Topic7\", \"Topic7\", \"Topic7\", \"Topic7\", \"Topic7\", \"Topic7\", \"Topic7\", \"Topic7\", \"Topic7\", \"Topic7\", \"Topic7\", \"Topic7\", \"Topic7\", \"Topic7\", \"Topic8\", \"Topic8\", \"Topic8\", \"Topic8\", \"Topic8\", \"Topic8\", \"Topic8\", \"Topic8\", \"Topic8\", \"Topic8\", \"Topic8\", \"Topic8\", \"Topic8\", \"Topic8\", \"Topic8\", \"Topic8\", \"Topic8\", \"Topic8\", \"Topic8\", \"Topic8\", \"Topic8\", \"Topic8\", \"Topic8\", \"Topic8\", \"Topic8\", \"Topic8\", \"Topic8\", \"Topic8\", \"Topic8\", \"Topic8\", \"Topic8\", \"Topic8\", \"Topic8\", \"Topic8\", \"Topic8\", \"Topic8\", \"Topic8\", \"Topic8\", \"Topic8\", \"Topic8\", \"Topic8\", \"Topic8\", \"Topic8\", \"Topic8\", \"Topic8\", \"Topic8\", \"Topic8\", \"Topic8\", \"Topic8\", \"Topic8\", \"Topic8\", \"Topic8\", \"Topic8\", \"Topic8\", \"Topic8\", \"Topic8\", \"Topic8\", \"Topic8\", \"Topic8\", \"Topic8\", \"Topic8\", \"Topic8\", \"Topic8\", \"Topic8\", \"Topic8\", \"Topic8\", \"Topic8\", \"Topic8\", \"Topic8\", \"Topic8\", \"Topic8\", \"Topic8\", \"Topic8\", \"Topic8\", \"Topic8\", \"Topic9\", \"Topic9\", \"Topic9\", \"Topic9\", \"Topic9\", \"Topic9\", \"Topic9\", \"Topic9\", \"Topic9\", \"Topic9\", \"Topic9\", \"Topic9\", \"Topic9\", \"Topic9\", \"Topic9\", \"Topic9\", \"Topic9\", \"Topic9\", \"Topic9\", \"Topic9\", \"Topic9\", \"Topic9\", \"Topic9\", \"Topic9\", \"Topic9\", \"Topic9\", \"Topic9\", \"Topic9\", \"Topic9\", \"Topic9\", \"Topic9\", \"Topic9\", \"Topic9\", \"Topic9\", \"Topic9\", \"Topic9\", \"Topic9\", \"Topic9\", \"Topic9\", \"Topic9\", \"Topic9\", \"Topic9\", \"Topic9\", \"Topic9\", \"Topic9\", \"Topic9\", \"Topic9\", \"Topic9\", \"Topic9\", \"Topic9\", \"Topic9\", \"Topic9\", \"Topic9\", \"Topic9\", \"Topic9\", \"Topic9\", \"Topic9\", \"Topic9\", \"Topic9\", \"Topic9\", \"Topic9\", \"Topic9\", \"Topic9\", \"Topic9\", \"Topic9\", \"Topic9\", \"Topic9\", \"Topic9\", \"Topic9\", \"Topic9\", \"Topic9\", \"Topic9\", \"Topic9\", \"Topic9\", \"Topic9\", \"Topic9\", \"Topic9\", \"Topic9\", \"Topic9\", \"Topic9\", \"Topic9\", \"Topic9\", \"Topic9\", \"Topic10\", \"Topic10\", \"Topic10\", \"Topic10\", \"Topic10\", \"Topic10\", \"Topic10\", \"Topic10\", \"Topic10\", \"Topic10\", \"Topic10\", \"Topic10\", \"Topic10\", \"Topic10\", \"Topic10\", \"Topic10\", \"Topic10\", \"Topic10\", \"Topic10\", \"Topic10\", \"Topic10\", \"Topic10\", \"Topic10\", \"Topic10\", \"Topic10\", \"Topic10\", \"Topic10\", \"Topic10\", \"Topic10\", \"Topic10\", \"Topic10\", \"Topic10\", \"Topic10\", \"Topic10\", \"Topic10\", \"Topic10\", \"Topic10\", \"Topic10\", \"Topic10\", \"Topic10\", \"Topic10\", \"Topic10\", \"Topic10\", \"Topic10\", \"Topic10\", \"Topic10\", \"Topic10\", \"Topic10\", \"Topic10\", \"Topic10\", \"Topic10\", \"Topic10\", \"Topic10\", \"Topic10\", \"Topic10\", \"Topic10\", \"Topic10\", \"Topic10\", \"Topic10\", \"Topic10\", \"Topic10\", \"Topic10\", \"Topic10\", \"Topic10\", \"Topic10\", \"Topic10\", \"Topic10\", \"Topic10\", \"Topic10\", \"Topic10\", \"Topic10\", \"Topic10\", \"Topic10\", \"Topic10\"], \"Freq\": [49.0, 16.0, 12.0, 41.0, 13.0, 21.0, 14.0, 52.0, 19.0, 93.0, 32.0, 8.0, 18.0, 43.0, 8.0, 13.0, 14.0, 13.0, 15.0, 20.0, 59.0, 28.0, 19.0, 11.0, 56.0, 26.0, 16.0, 23.0, 36.0, 29.0, 6.1626544147018665, 7.928419050666259, 4.106181386413983, 4.054742984853751, 3.122414535773528, 3.042567338812201, 3.0244030068235372, 2.1215658660192327, 2.10805329148426, 2.105679239046845, 3.4423741943653408, 6.099260208976203, 2.0543169459844983, 2.0535925021975725, 2.0539049736917043, 2.0455677597320943, 2.0422017753131367, 2.0265405574022837, 2.5910050536192117, 5.1010718152528876, 3.1932084555763574, 3.16462082425144, 1.8637647437636586, 2.4506917619066084, 1.8505961713828794, 9.193797120940184, 3.0529117966807258, 5.369288430932451, 2.3712239383858242, 2.9375288872110716, 2.8719945505345232, 4.25852489368691, 2.850474376864864, 39.31051886944086, 16.603608386438214, 3.989394028640112, 11.481706163420727, 11.901301886374299, 4.306820100890683, 9.799166185529067, 5.206483015352708, 3.9906746685237473, 7.327718391061501, 9.552790054857049, 16.8398225134812, 6.841348194066375, 20.92690325082827, 10.19606636763432, 7.564808092073716, 9.082891595638497, 10.710970275510658, 10.692545434216095, 7.587390922763872, 8.309913995526324, 9.122961933728375, 8.513345705543022, 5.98109922186566, 5.268035017140051, 8.660290671913556, 7.974371247230305, 8.192911293005233, 6.690869494228644, 8.950519670443775, 7.316364319912673, 7.031065922960404, 7.653652155117407, 7.081822431578519, 7.137620040281573, 6.855536869690071, 1.740504356970584, 1.7405036811238954, 1.7404998417533446, 1.7404979606926265, 1.740493118936664, 1.7404819189971528, 1.7401072732373684, 2.6288631293562905, 1.5693623003399502, 1.557163080162381, 2.0685680330758185, 1.5484504419363516, 1.537890024691665, 3.5031302519266223, 1.5236395550476063, 1.4777950782884461, 1.4719634874615095, 1.9604035367308434, 2.8136015541037662, 1.867539110109868, 1.8544422377814314, 1.7929839179318445, 0.9116925759206587, 0.9116925324587615, 0.9116921519985562, 0.9116918626132418, 0.9116918578615909, 0.9116917479869694, 0.9116915912684641, 0.9116914512067299, 1.7762975347197545, 1.7740401826149963, 5.147032160342012, 1.740503376388063, 1.7404982461185592, 1.830343428625691, 2.146398991382566, 1.734405055038924, 2.1118618510357012, 6.47070208194503, 4.8662596047489854, 2.4529866091633097, 9.31422514981019, 3.1182784101807894, 3.374433122445321, 4.652700624205, 3.280591328874177, 12.268946486769465, 2.889652249024651, 5.874459953820494, 3.5928566718781405, 7.20705159082447, 14.36027470734695, 14.728585931401142, 4.97415207966733, 6.85113240244234, 7.368140479146361, 5.0585387845021, 5.474318912045916, 3.2858746737715787, 7.345757829321328, 5.270082058999691, 7.764882313772567, 2.562997996491242, 7.127768267001699, 4.635968139250008, 4.6610823187783765, 5.03718664832775, 6.1641101635831355, 6.352461114382427, 4.840608564706509, 5.079124217899843, 5.176189977237735, 4.8121350003505805, 4.583187121017806, 4.55096404950489, 2.9719027039952173, 2.247052619840491, 1.5221961538882265, 1.8988761126037108, 1.4029094226306462, 1.7980016468943159, 3.1915405209174263, 2.2470527375534624, 1.707848003781404, 1.2533845258973695, 1.2495931032252487, 1.2289929432781066, 1.2317945389385503, 1.2131101938162854, 1.2003606182634097, 0.7973425323074887, 0.7973425399860733, 0.7973423719463135, 0.7973421014185175, 0.797341946747004, 0.7973417878668105, 0.7973416037852377, 0.7973415462133607, 0.7973415029351688, 0.7973414933393472, 0.7973412075392503, 0.7973410310399434, 0.7973407556533101, 0.797340694032793, 0.7973406243063768, 1.1842381606193813, 1.5221931535857802, 1.5222095245726386, 1.5221978293258325, 1.5221990702529682, 8.072202595751836, 1.1433532674869495, 1.5454409963140565, 2.1415500545718316, 1.7914566284864866, 1.12919422982655, 1.128610982008645, 2.6292973846764176, 1.983914980077393, 5.246316384375886, 2.2515044701919154, 11.242876255489008, 4.9238285914290465, 4.523899653553605, 2.625881544257092, 7.736113587628129, 3.45624173192064, 5.807725740826924, 3.161860710613241, 3.3532451085418713, 7.892468221367939, 7.098352514011177, 6.317360433190009, 6.784734616283382, 4.224105899206843, 8.256516337009307, 3.5456635054142005, 8.4696122086696, 5.44593680646996, 4.856572979736271, 6.373952009680471, 7.282888922009564, 4.368980402115951, 5.25134739320855, 6.311601356506183, 5.3176046511680095, 3.8384296307302144, 7.655178604029058, 4.46976087867918, 4.6619175092235325, 5.804343131166951, 4.393388216569436, 4.0285074446965075, 4.178365519773608, 4.055456039924073, 1.5649014357874638, 1.5365658500550547, 1.5159905425659603, 1.998864620021466, 1.494231264085349, 1.4662091169394993, 1.4574568032851452, 1.431091311611162, 1.9572670102050873, 1.4359906853564153, 1.43248570830379, 1.4264614750262263, 1.9418578144375658, 1.4173227550185028, 1.373999843165434, 2.1927542739912314, 1.3380353126554811, 1.639584019208494, 3.3070152197963956, 2.4555950747330177, 0.8197106051648032, 0.8197101757529481, 0.8197099265487225, 0.8197098799578828, 0.8197098213574847, 0.8197097682300367, 0.8197095303229158, 0.8197090195837212, 0.819708966683756, 0.8197089515777533, 1.2513250751893272, 8.40962431845295, 1.9390631239785654, 6.543220440547093, 2.906607624848745, 2.2900665610364603, 2.48240224509311, 1.5378638758121865, 4.892914192758121, 3.6325188777528434, 2.427516423924843, 11.104574481729488, 4.906601247358826, 9.846477012539246, 4.2338196582760865, 4.369770948389786, 6.993086044886968, 8.908809000811802, 2.676698246752363, 4.067732542121806, 4.773243403294723, 5.258025941744048, 10.209828315146087, 8.93187689252686, 2.928424317131235, 4.191036946367694, 3.4707909734972504, 6.833166934091953, 4.7174179716827505, 4.538463858733866, 4.4018347065341095, 5.022135797773755, 7.755618072639984, 3.661239770145909, 6.275166570897456, 4.437374535771452, 4.0972605878141355, 4.1965037193412105, 4.665915734974255, 5.31025797389422, 4.948735203477038, 4.69207129234927, 5.326042454214796, 4.40912909991193, 4.276077480485849, 4.272113885566408, 2.868173459649978, 1.6707390096176087, 1.670737823149946, 1.6707361581800877, 2.1945229494934293, 2.745686577213156, 1.6197829248636042, 2.6830749070461013, 1.5736967887170417, 1.525071612312178, 2.5052401129711854, 1.4498223248447983, 2.4049840308938286, 1.443401271735376, 8.157321153643675, 1.4342329206227267, 1.4125817314906934, 2.2968028701867644, 1.3189465291420774, 1.3375945130580034, 1.3303237100048342, 2.158757046084805, 2.593254954770615, 0.8751490760368275, 0.8751490374078513, 0.8751480294456745, 0.8751479900593455, 0.8751456406038884, 1.2988293908283979, 1.2807139306208712, 3.402329714268555, 2.0516764818034523, 1.7039949854095018, 1.2723187065278916, 8.913322610696643, 6.3600874859569725, 2.3063283591121944, 5.918502848362569, 2.683147001591776, 11.64055500925379, 2.8509885698889614, 3.5748936893760943, 8.969225090505544, 6.945015118770984, 3.8143745879515976, 2.9791293304284205, 4.55436459789484, 13.46244170656446, 9.155262739188771, 6.936608860122615, 7.529165330889851, 4.7618695759354726, 5.537143518949353, 5.374943000021223, 3.7005088445705376, 4.09446366431732, 5.637791957657538, 5.315077996010015, 4.109408245053615, 3.9826136033369104, 4.1636787027435895, 4.243143032110001, 4.250236337080269, 4.951918248722917, 3.940851865824825, 3.914934319440643, 3.709469353819979, 3.6953166310362273, 2.4425905647084307, 1.7235318763514251, 1.706032876780237, 1.6985452373726742, 1.6977544665088904, 1.6920806643956288, 2.1787736386807612, 2.1168379824744896, 1.524234156936852, 1.4353649360489427, 1.3692291202309783, 0.902804581163052, 0.9028043271242976, 0.9028042201337593, 0.9028042102565124, 0.9028039713835112, 0.9028038499815112, 0.9028035329309057, 0.9028028565221974, 0.9028027961561391, 0.902802723264857, 0.9028025432922085, 0.9028024213789327, 0.9028020021588166, 0.9028019528647261, 0.9028015682527789, 0.8748166309536863, 0.8737293595820728, 1.7046838905970694, 1.289018075532673, 1.6946838991025148, 1.7124641655325505, 1.6966840367443845, 3.0842214757217943, 3.203008212022104, 6.988367292492465, 15.695563623545056, 1.5620681591113794, 3.7213957899067074, 6.318741016275663, 5.468504057494526, 2.233748731821052, 1.7858682848047414, 2.937889141638023, 1.7609973762053661, 3.063182148306057, 1.188437921469159, 1.7037841020785305, 14.217526543839938, 2.8561255693662297, 4.205296147916623, 3.273515961489172, 11.12518139754674, 7.083138577938268, 4.103187333281515, 4.653276817326943, 3.366335201801089, 3.687637161041631, 6.299192908581322, 4.119071597037751, 5.179108999947003, 4.381634436771135, 4.900958664315711, 3.579026937134977, 4.375080007975974, 3.716589020003463, 5.181896423060738, 3.806045039734614, 3.966741822412259, 4.3608340388796, 3.528157921621189, 3.788579744719735, 3.6201660638394584, 3.5220362173002706, 3.5516754314400307, 3.481781467572813, 1.6473948539371999, 1.6473940854275566, 1.6473921579907875, 1.6473906374126643, 1.6473900958264873, 1.647388805179267, 2.1724115145554936, 1.5318728797190515, 1.5151219915783647, 5.324892747228644, 1.944557483455414, 2.6939354108608757, 1.86987736055221, 2.205714378739901, 3.2163334802738115, 1.3344140570501493, 0.8629213762853835, 0.8629213441499124, 0.8629208941065518, 0.8629205684342336, 0.8629201217892889, 0.8629197018767493, 0.8629187603487982, 0.8629185355578731, 0.8629179823421999, 1.6473968150806577, 1.2015600670170399, 2.044039048132314, 0.824131099547996, 0.8238313966123831, 1.6028358470950432, 1.198134387866998, 1.9695916889685283, 1.939032393569578, 1.5628944633529567, 3.018223131694393, 1.7804311777881874, 3.772306977816846, 3.6258464687725445, 4.260308042454286, 2.2093994620975264, 3.8551866929461505, 4.063642137503114, 4.5955676512810095, 6.783751946362826, 3.3576488822828296, 8.00311922643683, 3.821906669744793, 3.3230905257946413, 4.994541972066188, 2.6758505238959587, 6.375350627693908, 5.9502017522800745, 4.206729377544266, 4.402164590213663, 4.715445857929216, 4.0111731545184, 4.676397875436324, 2.7759082964539803, 4.0131823054179865, 4.569770685140596, 5.487596080340217, 3.7662021598116953, 3.7867739882590934, 3.2146927355233887, 3.3930542226461635, 3.118555191177695, 3.1404757257591216, 1.6810008972035324, 2.167883960662555, 0.8805250209281578, 0.88052477554535, 0.8805246198275996, 0.8805244987050777, 0.8805244174554288, 0.8805243623222216, 0.8805243647494962, 0.8805240279754502, 0.8805229711694127, 0.880522807063004, 0.8805225525155935, 0.8805223631447185, 0.8805199454351713, 2.2082314522894766, 0.8557855781255695, 1.2745547860418271, 0.8401410509617268, 1.6230109591375206, 1.6810020824454797, 3.3233541760458096, 0.7919350389374462, 0.7899660082490338, 0.7871336576120707, 1.131686070751857, 1.1552318136352158, 0.7668431509227103, 0.773421598521014, 0.7727496374259386, 1.8204271143194521, 1.135385649507374, 5.115032485076594, 8.06567784219281, 1.7692696732419557, 1.7059926577534554, 4.594872942103771, 2.7615892287852377, 2.415947023442683, 1.6768446476859038, 1.985942280735087, 5.792276985857445, 2.514686081935463, 1.5061986858289393, 4.352455204685232, 2.1691350237379092, 2.417219154256842, 1.971725882074094, 2.7739580788761753, 3.127573394391334, 1.2541665852758794, 2.249405727131214, 2.9309636876235468, 6.810649032484455, 4.594100989934565, 4.941202629595065, 4.079078359177935, 3.9205413961388227, 5.364376964473382, 7.01152889962527, 3.8674523026265053, 2.9419924248860823, 3.7831342576582725, 3.5614101479052995, 3.97121884819132, 2.6022722603694084, 3.3450094116759925, 3.2216718097656054, 3.1637077475815936, 3.0460053228495334, 3.307209883716207, 2.894555033588058, 2.764678240586758, 2.7315670774476546, 2.777485265246221, 1.5206526466523422, 1.5206516869018052, 1.5206498711744172, 1.5206492987354272, 1.5199202952056017, 1.5198635589920735, 2.007152376438456, 1.2737703950076844, 1.6738980425300682, 1.21805030486207, 0.7965338199279601, 0.7965334140371197, 0.7965327690730916, 0.7965323507740358, 0.7965321233356921, 0.7965319490380122, 0.7965319379236255, 0.7965316213989925, 0.7965314900911025, 0.7965306040129239, 0.7965291997366282, 0.7963321246102267, 0.7962958579065248, 0.7962008006775966, 0.7961474775495576, 0.7960743870607135, 2.800720418243056, 0.7948201766964049, 0.7946459163184764, 0.7944881581614649, 2.3452431829167795, 2.72853682028737, 1.5202332703898431, 2.2966673591118387, 1.198168797434249, 1.5206534623027155, 1.563200469447388, 3.12450223461921, 1.4371873997215485, 2.3722732467689847, 1.1322342902030538, 1.138920231633916, 1.1353028571960266, 1.7169101081370592, 5.373941331543406, 4.991961153774294, 1.983781694540329, 3.2911492217485243, 1.3685472272825232, 2.665799876341209, 2.8541746077051307, 2.5124421542067923, 2.350688382582759, 5.663752997047621, 8.205922699336794, 5.673728004263854, 10.130866024410945, 7.657343215134495, 4.458317424880566, 4.3469859021983694, 3.5832942860777357, 3.1564051960895605, 6.108120244480063, 2.7799634309303296, 4.037571429463627, 4.347102256023957, 3.5693735456171765, 3.1453233361477686, 3.2137359660047125, 5.284832696664351, 4.363955934047046, 4.297139403937835, 3.927738660092463, 3.596047976547227, 4.643185892311689, 3.482962262257885, 3.0986209736817454, 3.343297458044515, 3.509049917789019, 3.257699290166887, 3.317768662550682, 3.239635285816207, 3.193465792599386, 1.3195113352347114, 1.7528759544109804, 1.2438050504130638, 1.2167262282283113, 1.9478480637815865, 1.1613288172383955, 1.5546066617407508, 0.6911731029513476, 0.6911728553232734, 0.691172345597451, 0.6911720740164573, 0.6911718599173551, 0.6911715876326519, 0.6911715775813558, 0.6911715756094342, 0.6911715429922914, 0.6911714757019842, 0.6911714048014698, 0.691171351318076, 0.6911712853911561, 0.6911710499994583, 0.6911705666810743, 0.691169612173536, 0.6911688253227461, 1.01837956226523, 0.6559471663549916, 0.6476420498079433, 0.6516752153327695, 1.920265381786617, 0.6375981104220858, 0.933758947184142, 1.2079457828805622, 1.960446008657282, 2.356480850421636, 1.3886428375298852, 2.102462126978378, 2.437072589050531, 1.9241886326387294, 2.627415431415613, 2.184460997022332, 1.1036072919602773, 1.3882079184971508, 4.5137753394834785, 0.8978952187528164, 3.3636226119161567, 0.8982039416925868, 4.70886379287068, 5.59148783418991, 2.3210040857191787, 3.273512502044037, 3.708360112317794, 1.450647548406032, 4.986632851828455, 3.370895834978243, 3.8915812779674175, 6.516505174840263, 5.105198767846394, 4.382622368304792, 4.249567804388096, 3.978299117148365, 2.448302062629263, 3.006688591525485, 2.6179669663811698, 2.433706486028534, 2.576329425052782, 2.765779070582787, 3.1966944204062475, 2.52274098492769, 3.0161167138340823, 2.71276238538077, 3.121410444083182, 2.683160176201758, 2.430874873237275, 2.4044340194450373], \"Term\": [\"man\", \"airline\", \"space\", \"fire\", \"event\", \"agreement\", \"qantas\", \"company\", \"metres\", \"government\", \"test\", \"hewitt\", \"party\", \"world\", \"virus\", \"bill\", \"aircraft\", \"officers\", \"water\", \"labor\", \"police\", \"month\", \"firefighters\", \"side\", \"day\", \"workers\", \"river\", \"unions\", \"united_states\", \"areas\", \"drug\", \"virus\", \"mcmenamin\", \"boje\", \"homeless\", \"computers\", \"computer\", \"campaigns\", \"prostitutes\", \"tours\", \"draft\", \"bank\", \"mcafee\", \"software\", \"householders\", \"badtrans\", \"worm\", \"users\", \"rink\", \"surrender\", \"rudd\", \"cigarettes\", \"storey\", \"pre\", \"incursions\", \"cancer\", \"email\", \"lockett\", \"camp\", \"institute\", \"swans\", \"ses\", \"trend\", \"people\", \"force\", \"factory\", \"number\", \"report\", \"israelis\", \"troops\", \"tanks\", \"address\", \"council\", \"support\", \"police\", \"person\", \"government\", \"power\", \"pakistan\", \"children\", \"hours\", \"sydney\", \"services\", \"week\", \"union\", \"city\", \"countries\", \"northern_alliance\", \"year\", \"staff\", \"attacks\", \"sharon\", \"security\", \"areas\", \"militants\", \"time\", \"united_states\", \"today\", \"australia\", \"factories\", \"chemical\", \"butler\", \"farmer\", \"greens\", \"metres_butterfly\", \"songs\", \"senate\", \"crush\", \"escalate\", \"arbitration\", \"bacteria\", \"antibiotics\", \"farmers\", \"underfoot\", \"transfer\", \"producer\", \"trounson\", \"francs\", \"journey\", \"ruddock\", \"assa_abloy\", \"sorts\", \"residency\", \"defector\", \"defectors\", \"manufacture\", \"muttahida\", \"goodness\", \"engineer\", \"truss\", \"tyco\", \"dispute\", \"plants\", \"hiv\", \"megawati\", \"procedure\", \"miles\", \"agencies\", \"bill\", \"industrial_action\", \"round\", \"unions\", \"yachts\", \"record\", \"parliament\", \"workers_union\", \"world\", \"sex\", \"place\", \"intelligence\", \"workers\", \"government\", \"people\", \"hospital\", \"power\", \"year\", \"information\", \"talks\", \"howard\", \"australia\", \"groups\", \"police\", \"woman\", \"company\", \"john\", \"labor\", \"attack\", \"time\", \"today\", \"way\", \"morning\", \"president\", \"hours\", \"forces\", \"yesterday\", \"casinos\", \"plant\", \"murders\", \"supply\", \"tevake\", \"communications\", \"club\", \"independence\", \"ticket\", \"gutnick\", \"voracity\", \"teenagers\", \"intervene\", \"owen\", \"offence\", \"persecution\", \"latrobe\", \"terence\", \"torture\", \"priests\", \"palos\", \"deportation\", \"coal\", \"interruptions\", \"coercion\", \"massacre\", \"nuns\", \"witch\", \"judges\", \"smell\", \"hawkesbury\", \"attendants\", \"boston\", \"panel\", \"yallourn\", \"firefighters\", \"cessnock\", \"crimes\", \"key\", \"soccer\", \"earthquake\", \"richter\", \"lines\", \"facilities\", \"line\", \"blue_mountains\", \"fire\", \"fires\", \"homes\", \"abuse\", \"wales\", \"inquiry\", \"statement\", \"boat\", \"energy\", \"president\", \"united_states\", \"power\", \"area\", \"months\", \"security\", \"conditions\", \"today\", \"action\", \"economy\", \"year\", \"time\", \"control\", \"union\", \"australia\", \"members\", \"issue\", \"people\", \"areas\", \"hours\", \"government\", \"state\", \"claims\", \"sydney\", \"morning\", \"ceasefire\", \"franklin\", \"class\", \"baker\", \"demonstrators\", \"mcgauran\", \"reactor\", \"lindsay\", \"rehman\", \"adams\", \"gschwind\", \"cairns\", \"habeel\", \"routes\", \"fazalur\", \"dominance\", \"mohamad\", \"emissions\", \"reid\", \"redundancy\", \"campbell\", \"sergeant\", \"faction\", \"jefferson\", \"tennessee\", \"ramadan\", \"california\", \"daniel\", \"petithory\", \"deals\", \"yorker\", \"airline\", \"practices\", \"qantas\", \"boxing_day\", \"balls\", \"administrators\", \"islam\", \"side\", \"airlines\", \"tailenders\", \"test\", \"south_africa\", \"morning\", \"melbourne\", \"innings\", \"workers\", \"yesterday\", \"qantas_maintenance\", \"space\", \"river\", \"radio\", \"today\", \"day\", \"bowling\", \"detainees\", \"offer\", \"company\", \"centre\", \"work\", \"afghanistan\", \"members\", \"government\", \"risk\", \"police\", \"unions\", \"per_cent\", \"match\", \"group\", \"security\", \"time\", \"australia\", \"people\", \"world\", \"areas\", \"days\", \"center\", \"cosgrove\", \"wolthuizen\", \"friedli\", \"termination\", \"mistakes\", \"skills\", \"analysis\", \"missile\", \"hijackings\", \"nail\", \"bail\", \"races\", \"dennehy\", \"event\", \"floors\", \"segment\", \"hass\", \"magistrate\", \"gift\", \"jones\", \"brain\", \"kieren\", \"accc\", \"aca\", \"regiment\", \"lieutenant\", \"cards\", \"moses\", \"turns\", \"ray\", \"videotape\", \"know\", \"seconds\", \"metres\", \"water\", \"mcgrath\", \"director\", \"accident\", \"company\", \"research\", \"directors\", \"fire\", \"commission\", \"job\", \"survey\", \"river\", \"people\", \"day\", \"attacks\", \"world\", \"court\", \"meeting\", \"team\", \"plane\", \"australians\", \"man\", \"time\", \"children\", \"peace\", \"state\", \"united_states\", \"force\", \"government\", \"days\", \"president\", \"yesterday\", \"today\", \"violent\", \"amalgamation\", \"struck\", \"people_including\", \"provisions\", \"proceed\", \"option\", \"jan\", \"potts\", \"talk\", \"boxes\", \"carmen\", \"generations\", \"momentum\", \"fremantle\", \"maintaining\", \"suffer\", \"merger\", \"muscle\", \"sections\", \"polls\", \"liberals\", \"groupings\", \"stone\", \"gestures\", \"extinguishment\", \"clap\", \"alleges\", \"twenty\", \"undertook\", \"managers\", \"defendants\", \"willingness\", \"coalition\", \"explosives\", \"party\", \"man\", \"arab\", \"guides\", \"labor\", \"hamas\", \"roads\", \"coroner\", \"boy\", \"tactics\", \"sentence\", \"links\", \"river_gorge\", \"government\", \"car\", \"year_old\", \"deaths\", \"people\", \"day\", \"end\", \"meeting\", \"yasser_arafat\", \"defence\", \"police\", \"officials\", \"yesterday\", \"month\", \"president\", \"taliban\", \"war\", \"match\", \"today\", \"groups\", \"union\", \"security\", \"australians\", \"time\", \"attacks\", \"attack\", \"wales\", \"australia\", \"buchanan\", \"dixon\", \"spills\", \"phillip\", \"prosecution\", \"spill\", \"cahill\", \"darren\", \"tel\", \"hewitt\", \"lleyton\", \"world_heritage\", \"blue\", \"tournament\", \"oil\", \"zeus\", \"benefits\", \"announce\", \"referee\", \"misconduct\", \"incentives\", \"ships\", \"deterrents\", \"penguins\", \"thomson\", \"travellers\", \"schneiders\", \"virgin\", \"stoltenberg\", \"wimbledon\", \"launceston\", \"tommy\", \"opportunity\", \"suspension\", \"justin\", \"tennis\", \"langer\", \"flights\", \"perth\", \"point\", \"maintenance\", \"justice\", \"cup\", \"airline\", \"area\", \"commonwealth\", \"man\", \"tora_bora\", \"play\", \"action\", \"game\", \"today\", \"day\", \"claims\", \"way\", \"force\", \"commission\", \"australia\", \"wicket\", \"number\", \"time\", \"people\", \"days\", \"united_states\", \"opposition\", \"company\", \"month\", \"morning\", \"carr\", \"astronauts\", \"mop\", \"thehuge\", \"ferocity\", \"train\", \"freight\", \"stuff\", \"zones\", \"declare\", \"hurstville\", \"confusion\", \"yunis\", \"translation\", \"signals\", \"federation\", \"chairmen\", \"palmerston\", \"ruling\", \"airspace\", \"walker\", \"peacekeepers\", \"maneuver\", \"trio\", \"tune\", \"singh\", \"ahmad\", \"monarchy\", \"jovi\", \"culbertson\", \"cow\", \"tank\", \"space\", \"agreement\", \"new_delhi\", \"hit\", \"station\", \"conference\", \"markets\", \"chechen\", \"students\", \"areas\", \"commander\", \"shuttle\", \"talks\", \"macgill\", \"stage\", \"questions\", \"mission\", \"damage\", \"west\", \"cricket\", \"role\", \"government\", \"fire\", \"security\", \"state\", \"group\", \"today\", \"people\", \"staff\", \"violence\", \"sydney\", \"war\", \"force\", \"september\", \"test\", \"wales\", \"days\", \"spokesman\", \"day\", \"attack\", \"peace\", \"officials\", \"yesterday\", \"adam\", \"maker\", \"rodriguez\", \"mitsubishi\", \"sales\", \"bradstreet\", \"rfds\", \"picton\", \"engines\", \"sand\", \"checks\", \"umpire\", \"coordination\", \"retains\", \"magna\", \"trans\", \"retirees\", \"adolfo\", \"parore\", \"robinson\", \"pensions\", \"goods\", \"gst\", \"dun\", \"expectations\", \"comply\", \"investment\", \"utn\", \"extremist\", \"stateless\", \"marines\", \"safety_bureau\", \"projections\", \"transport\", \"acdt\", \"saa\", \"gambier\", \"highway\", \"gabriel\", \"projects\", \"pawlik\", \"demonstrations\", \"motorists\", \"austar\", \"aircraft\", \"officers\", \"strachan\", \"crash\", \"teenager\", \"powell\", \"facility\", \"powers\", \"treatment\", \"month\", \"company\", \"report\", \"government\", \"police\", \"leaders\", \"terrorism\", \"detainees\", \"safety\", \"day\", \"road\", \"troops\", \"staff\", \"information\", \"authority\", \"department\", \"today\", \"morning\", \"year\", \"group\", \"spokesman\", \"people\", \"sydney\", \"per_cent\", \"state\", \"time\", \"city\", \"area\", \"australia\", \"fire\", \"belgium\", \"flood\", \"dfat\", \"convince\", \"route\", \"gerber\", \"jackson\", \"next_year\", \"motorway\", \"servicemen\", \"bitumen\", \"ridge\", \"cemeteries\", \"graves\", \"delegates\", \"thousand\", \"bypass\", \"battlefield\", \"flanders\", \"walter\", \"pilkem\", \"hilton\", \"explosion\", \"installations\", \"memphis\", \"encourage\", \"optimism\", \"competitiveness\", \"phillips\", \"thunderstorm\", \"atlanta\", \"balmer\", \"personnel\", \"tape\", \"razzano\", \"problems\", \"suicide\", \"seles\", \"boat\", \"middle_east\", \"grant\", \"proposal\", \"war\", \"luggage\", \"house\", \"businesses\", \"united_states\", \"security\", \"sector\", \"court\", \"militants\", \"rates\", \"man\", \"years\", \"state\", \"government\", \"police\", \"australia\", \"world\", \"president\", \"palestinians\", \"group\", \"arafat\", \"role\", \"authorities\", \"attack\", \"time\", \"minister\", \"today\", \"year\", \"people\", \"yesterday\", \"reports\", \"attacks\"], \"Total\": [49.0, 16.0, 12.0, 41.0, 13.0, 21.0, 14.0, 52.0, 19.0, 93.0, 32.0, 8.0, 18.0, 43.0, 8.0, 13.0, 14.0, 13.0, 15.0, 20.0, 59.0, 28.0, 19.0, 11.0, 56.0, 26.0, 16.0, 23.0, 36.0, 29.0, 6.847933839169891, 8.820682979598882, 4.819750601207583, 4.802640511070279, 3.815228489445602, 3.800363295705022, 3.7969553464270707, 2.8068371512455634, 2.8039658692499363, 2.8034613268980824, 4.637466911963737, 8.2595192456399, 2.7942206277362263, 2.7940847639842468, 2.794684423743032, 2.792579216276708, 2.791947835541375, 2.78900948772836, 3.7044110279120446, 7.325778917396352, 4.628708401058861, 4.59749241520598, 2.73400525039367, 3.6315579199043895, 2.742566318681686, 13.672484144994144, 4.544876616822556, 8.098546337145109, 3.646794223445934, 4.5366749912763265, 4.480868251518834, 7.034483139164364, 4.508998861044057, 111.87167027955742, 42.321825104087296, 6.9915221170697635, 30.456680016327475, 32.208026051799166, 7.8638978241028825, 25.033417815594234, 10.279974871515742, 7.097708367680107, 17.246277677065653, 25.627139556717847, 59.30544083214782, 16.04386954355175, 93.92840934064053, 30.815047468215806, 19.298754675477742, 25.91062824864067, 34.730785256895544, 35.538890349252405, 20.691245143676763, 24.316098531650734, 28.739904889349326, 28.082753467510297, 13.876950672302778, 11.075387541375168, 37.68081052538856, 31.401352517138694, 34.97546135566086, 20.088009051870454, 50.16119145530185, 29.734304006493016, 25.59662973337411, 49.02483915670459, 36.97969651429727, 61.08741173524236, 44.729412479555535, 2.4439195100605944, 2.4439195080386016, 2.443919279303499, 2.443919054462615, 2.4439188949599235, 2.443918482188351, 2.4440056737184985, 4.013481385380071, 2.4266533775017103, 2.425422252923535, 3.2391848626532527, 2.426300452350899, 2.4250052222494567, 5.563067993152901, 2.4220402140937063, 2.420293827212116, 2.4333567509885827, 3.255619348654247, 4.795982712406533, 3.205376549231133, 3.200548417377108, 3.1753626318609127, 1.6151048489092514, 1.6151048577313019, 1.615104838026548, 1.6151048281084481, 1.6151048431404291, 1.6151048217539634, 1.615104812678075, 1.6151048165116273, 3.1725695298372036, 3.172986037224448, 9.715478963101999, 3.168047318522398, 3.174532778995787, 3.375360565361639, 4.008628557833588, 3.210047927365141, 3.972032883813251, 13.639346995147935, 10.41742572823062, 4.773972016995267, 23.925577606676075, 6.431822149014151, 7.127767343750882, 11.238517976005165, 7.079201822304007, 43.236425705480066, 6.081117752684572, 19.215555909044774, 8.969696478026115, 26.843514867650022, 93.92840934064053, 111.87167027955742, 17.311588982762512, 30.815047468215806, 37.68081052538856, 19.064952479226136, 23.653788678111933, 8.653351434325064, 44.729412479555535, 24.4185203161042, 59.30544083214782, 5.569363216796588, 52.00049241654776, 20.232365210966844, 20.63615236366371, 27.21438679352429, 49.02483915670459, 61.08741173524236, 29.464869343270216, 37.837954379316976, 40.83459194117372, 34.730785256895544, 28.403644861961634, 40.29991222517796, 3.685730934417439, 2.9608701364277783, 2.236010510389767, 2.915889620916973, 2.2495587418013554, 3.0046824915495254, 5.347249639947439, 3.789684662987769, 2.9759971267788288, 2.2435517665880442, 2.2661508531499654, 2.249087621004437, 2.2683945224274016, 2.2614318469167336, 2.2624804378321657, 1.5111501543922736, 1.511150196114635, 1.5111502295868515, 1.5111501976180615, 1.5111502379349078, 1.5111502411187054, 1.51115031436689, 1.5111502800816703, 1.511150291556561, 1.511150324218088, 1.5111502913541321, 1.5111502978127258, 1.5111503882698243, 1.5111503659065046, 1.5111503801724808, 2.252403057276837, 2.9781256382404586, 3.0087144010474964, 3.0105192250204134, 3.0559553071331846, 19.405383473095537, 2.264072408688578, 3.198800940636259, 4.6351128364923495, 3.853044648429323, 2.268333790019578, 2.2683817288481194, 6.222279281675443, 4.479436100133398, 14.488375441793671, 5.391590168534456, 41.654689331290214, 15.508665133095317, 14.376157057034051, 6.793617119012436, 31.233135914131235, 10.174769827181866, 22.362748009537434, 9.34904167475645, 10.240347443254636, 40.83459194117372, 36.97969651429727, 30.815047468215806, 34.98090716585093, 16.236772557816355, 50.16119145530185, 12.23179709938532, 61.08741173524236, 27.395258400217443, 22.296056994188124, 37.68081052538856, 49.02483915670459, 18.997372272435566, 28.739904889349326, 44.729412479555535, 30.703774132477832, 14.800964825798225, 111.87167027955742, 29.734304006493016, 34.730785256895544, 93.92840934064053, 33.59282896634006, 25.36407764917526, 35.538890349252405, 37.837954379316976, 2.2766802119304104, 2.279859684676849, 2.274938701241217, 3.0130766924783767, 2.274720376357165, 2.273940467185477, 2.2737034512341983, 2.256999646259119, 3.0902437624034604, 2.2708208522361897, 2.272567864165438, 2.273118002963828, 3.104233418826152, 2.2689798146782287, 2.3172827216930973, 3.74254435489608, 2.3323642011569854, 2.9533853718238214, 6.030825210818813, 4.546593223633078, 1.531485255294583, 1.5314852682700812, 1.531485238114214, 1.5314852805490489, 1.531485342121272, 1.5314853556634427, 1.5314853007060334, 1.5314854012769046, 1.5314853523852894, 1.5314853755191429, 2.338114123151798, 16.774145045857562, 3.867286035732102, 14.670238703956977, 6.087666350449492, 4.7093036542809275, 5.291195863913179, 3.0983627245298906, 11.585379287092213, 8.277748280888055, 5.3020425431164036, 32.787473352612935, 13.244779607375216, 37.837954379316976, 11.687011573036296, 12.573689640320278, 26.843514867650022, 40.29991222517796, 6.213118400108706, 12.37374751722061, 16.35338395359868, 19.7963311543012, 61.08741173524236, 56.70583294688608, 7.676337992641791, 16.44191027610614, 11.705164587794759, 52.00049241654776, 23.37814881350449, 22.988945278806284, 21.881492034267318, 30.703774132477832, 93.92840934064053, 14.231915934901632, 59.30544083214782, 23.925577606676075, 19.534712582860863, 21.05294088587468, 30.88931454031453, 50.16119145530185, 49.02483915670459, 44.729412479555535, 111.87167027955742, 43.236425705480066, 29.734304006493016, 31.557831226801365, 4.010573596942711, 2.377480012221669, 2.377480067575804, 2.377480109191529, 3.1489088435907227, 3.9512142145684535, 2.3767679249367566, 3.9468159793271598, 2.381806624791689, 2.3839862908915657, 3.9274022708679457, 2.3328447782164554, 3.919752230060144, 2.3619481944699166, 13.364329883665334, 2.402696405780501, 2.402657632579229, 3.9126953690581057, 2.304988548930223, 2.3535003931668195, 2.3588019799751834, 3.8705890578900632, 4.6798459817836475, 1.581885118394832, 1.5818851908008056, 1.5818850845132661, 1.5818851001939866, 1.5818849983591068, 2.3561939881220977, 2.3552611887990484, 6.356092875893423, 3.850413072489908, 3.1979332593805827, 2.3558998504562543, 19.990654982525193, 15.836942661032253, 4.762213406132207, 17.588969144452566, 6.142626967346098, 52.00049241654776, 6.943320482226607, 9.839278306951067, 41.654689331290214, 28.638060191906092, 11.838987268611552, 7.856724269807421, 16.35338395359868, 111.87167027955742, 56.70583294688608, 34.97546135566086, 43.236425705480066, 20.58913863283306, 28.500352666582103, 27.313586670711466, 13.006168797269611, 19.403348436655154, 49.9287684133102, 49.02483915670459, 25.91062824864067, 24.98368037087436, 33.59282896634006, 36.97969651429727, 42.321825104087296, 93.92840934064053, 31.557831226801365, 40.83459194117372, 40.29991222517796, 61.08741173524236, 3.2447815599821435, 2.427762540701048, 2.4236599690449747, 2.421904868204342, 2.4217201596662865, 2.4203901677555697, 3.215799895576044, 3.2296155622060705, 2.4094188409117945, 2.360210615840859, 2.344708703403038, 1.6070265095625915, 1.6070264305832571, 1.607026380825016, 1.607026449514321, 1.6070264469206734, 1.6070263805786202, 1.607026403914675, 1.6070263484469156, 1.6070263395862088, 1.6070263512817387, 1.607026376009121, 1.607026353863665, 1.6070262891208944, 1.6070263600754044, 1.6070263240740406, 1.6037319519346735, 1.6036040121017627, 3.147521351255722, 2.385685545041256, 3.206503584212566, 3.2476315636608337, 3.2245824378462222, 6.321580480041931, 7.024211638831182, 18.619553662134813, 49.9287684133102, 3.1795945900098186, 10.174621947301215, 20.63615236366371, 17.387615308650133, 5.415078315437192, 4.011900465108432, 8.089502990757405, 4.0496151212729945, 8.744438050772136, 2.352612975500318, 3.8871750056544654, 93.92840934064053, 8.82825288371777, 17.749117674864642, 11.741645128165406, 111.87167027955742, 56.70583294688608, 20.10042138692306, 28.500352666582103, 14.181859313139713, 17.651620517011334, 59.30544083214782, 22.85987544913045, 40.29991222517796, 28.40394973070019, 40.83459194117372, 17.643573608525042, 30.387766883382717, 21.05294088587468, 61.08741173524236, 24.4185203161042, 28.739904889349326, 50.16119145530185, 19.403348436655154, 49.02483915670459, 34.97546135566086, 27.21438679352429, 31.233135914131235, 44.729412479555535, 2.355245008506584, 2.3552448841325595, 2.355244900976461, 2.355244817526481, 2.3552449645108675, 2.3552448512042767, 3.1433991996061392, 2.356882117711804, 2.393315730214014, 8.448231096610561, 3.0942996654251136, 4.44856844154015, 3.1663518087430553, 3.806460387653398, 5.618527665176733, 2.3311675182938756, 1.5707675716548923, 1.5707676267373407, 1.5707676084162219, 1.5707675618659693, 1.5707676052532598, 1.5707675706334998, 1.570767581792272, 1.5707675923838906, 1.570767583873402, 3.0801085085359197, 2.2665102361925045, 3.896924591303448, 1.5713173074378004, 1.571321564923342, 3.1249849447502602, 2.31242473880727, 3.9415785476326697, 3.9266230459280513, 3.1109142781179937, 7.102467993417761, 3.8792107894151506, 9.999516179848396, 9.968016549401277, 12.653404047120672, 5.362239394477393, 11.549954730297474, 13.301418444178886, 16.774145045857562, 34.98090716585093, 11.010590748897906, 49.9287684133102, 14.089441282770123, 11.43968291048525, 27.395258400217443, 8.177728966736034, 61.08741173524236, 56.70583294688608, 25.36407764917526, 29.464869343270216, 42.321825104087296, 28.638060191906092, 44.729412479555535, 10.29052783803449, 30.456680016327475, 49.02483915670459, 111.87167027955742, 31.557831226801365, 36.97969651429727, 19.055993986791645, 52.00049241654776, 28.40394973070019, 37.837954379316976, 2.387250343066744, 3.2068602970326268, 1.5867703165357938, 1.5867702763575382, 1.5867702853944279, 1.5867702839521782, 1.5867702969254505, 1.5867702930246557, 1.5867703439523737, 1.5867703217458273, 1.5867702189561421, 1.5867702596186741, 1.5867702651289608, 1.586770227631033, 1.5867702620652988, 3.9805537467389036, 1.5844332936773726, 2.3847698053907043, 1.5829556074071558, 3.0608012653522287, 3.1871403608396127, 6.621952666822551, 1.5917927677215495, 1.5957021716137119, 1.5949478133430044, 2.3037552690493723, 2.367178544935603, 1.5759519332256593, 1.5942224652965302, 1.5936391269341972, 3.8872702650023454, 2.396079057415032, 12.37374751722061, 21.04321612527872, 3.907294620956285, 3.9729441663909495, 15.182963658297515, 7.854572121395321, 6.741476861413923, 4.090364933379748, 5.463185240036047, 29.734304006493016, 8.553321164541229, 3.8762261342964446, 23.653788678111933, 7.727733001777527, 9.395008615230829, 6.6935449777672975, 12.349099651459461, 15.92908256473378, 3.090089030821039, 9.332095410356327, 16.428815575920133, 93.92840934064053, 41.654689331290214, 50.16119145530185, 33.59282896634006, 30.88931454031453, 61.08741173524236, 111.87167027955742, 31.401352517138694, 17.54456638769556, 35.538890349252405, 30.387766883382717, 42.321825104087296, 13.053097081190106, 32.787473352612935, 31.233135914131235, 31.557831226801365, 28.010434270255097, 56.70583294688608, 27.21438679352429, 24.98368037087436, 22.85987544913045, 40.29991222517796, 2.234546281391768, 2.234546506413756, 2.234546540115554, 2.2345468248629734, 2.2346187691803316, 2.234624394058807, 2.983729617537067, 2.2674844869245145, 3.0036125643919207, 2.2433498504460796, 1.510418206368601, 1.510418339423741, 1.5104183832026412, 1.5104184680728727, 1.510418395419565, 1.5104184182280755, 1.5104184399355989, 1.510418506506085, 1.5104184855731144, 1.5104185779531754, 1.510418818481735, 1.5104381336243669, 1.5104417929142537, 1.5104511267434395, 1.5104563835437794, 1.5104636450979052, 5.320490560401428, 1.5101914266083991, 1.5101680782369638, 1.5101472678900474, 4.60502554267039, 5.417847338334893, 2.9696861411243582, 4.674970659785797, 2.339085822489788, 3.0490476110870524, 3.1506799186391734, 6.814169905130916, 2.966860792086381, 5.362581170645031, 2.269151571004327, 2.289068088897961, 2.285957900798846, 3.747803241373506, 14.746571056076684, 13.875646387532454, 4.5568140608601135, 8.792898530830042, 3.071053292798559, 7.525212081596629, 8.825641380467266, 7.4475624720838045, 6.77921094785875, 28.40394973070019, 52.00049241654776, 32.208026051799166, 93.92840934064053, 59.30544083214782, 22.614942467322564, 22.653661469967506, 16.44191027610614, 12.876946136072542, 56.70583294688608, 9.996906415747526, 25.033417815594234, 31.401352517138694, 19.064952479226136, 14.279339592420147, 15.229551635919833, 61.08741173524236, 37.837954379316976, 37.68081052538856, 30.88931454031453, 28.010434270255097, 111.87167027955742, 35.538890349252405, 19.534712582860863, 33.59282896634006, 49.02483915670459, 28.082753467510297, 34.98090716585093, 44.729412479555535, 41.654689331290214, 2.0429767152818306, 2.7250069030255957, 2.0889934875781715, 2.071304356761427, 3.4103918506670583, 2.086524492746113, 2.7967842432265564, 1.4146334450338127, 1.4146334994393248, 1.4146336208487322, 1.4146337889949485, 1.4146337677385432, 1.4146338723548575, 1.414633883731884, 1.4146338932149902, 1.4146339057896458, 1.4146339227112108, 1.4146339538163506, 1.4146338739978188, 1.414633941680354, 1.414634056278581, 1.4146341790114714, 1.4146344013199794, 1.4146346976403419, 2.1314179841635874, 1.4360447963478924, 1.4266447026061948, 1.4386414417868822, 4.26464631739762, 1.4293899699035717, 2.1570718623004144, 2.8760095063518594, 5.0033790443582955, 6.60245026786024, 3.6358113722710153, 6.526016615823568, 8.130936299650976, 5.912184612474183, 9.34904167475645, 7.663145735008862, 2.8618681370087886, 4.347748880580383, 30.387766883382717, 2.1694759362097775, 19.235547167995616, 2.1794096429922316, 36.97969651429727, 50.16119145530185, 11.202207589927305, 20.58913863283306, 25.59662973337411, 5.138222094607958, 49.9287684133102, 24.471186695332964, 33.59282896634006, 93.92840934064053, 59.30544083214782, 44.729412479555535, 43.236425705480066, 40.83459194117372, 16.207103717230353, 30.88931454031453, 20.379213333868677, 16.428815575920133, 20.164477250110203, 27.21438679352429, 49.02483915670459, 21.227996546381203, 61.08741173524236, 37.68081052538856, 111.87167027955742, 40.29991222517796, 23.096113349912994, 34.97546135566086], \"loglift\": [30.0, 29.0, 28.0, 27.0, 26.0, 25.0, 24.0, 23.0, 22.0, 21.0, 20.0, 19.0, 18.0, 17.0, 16.0, 15.0, 14.0, 13.0, 12.0, 11.0, 10.0, 9.0, 8.0, 7.0, 6.0, 5.0, 4.0, 3.0, 2.0, 1.0, 1.6387, 1.6375, 1.5839, 1.5749, 1.5438, 1.5218, 1.5167, 1.4643, 1.4589, 1.4579, 1.4461, 1.441, 1.4365, 1.4362, 1.4362, 1.4329, 1.4314, 1.4248, 1.3867, 1.3822, 1.3729, 1.3707, 1.361, 1.3509, 1.3508, 1.3473, 1.3463, 1.3332, 1.3137, 1.3095, 1.2993, 1.2423, 1.2856, 0.6983, 0.8085, 1.1831, 0.7686, 0.7486, 1.1421, 0.8062, 1.0639, 1.1683, 0.8882, 0.7573, 0.4852, 0.8918, 0.2427, 0.6382, 0.8076, 0.6959, 0.5678, 0.5431, 0.7409, 0.6705, 0.5967, 0.5506, 0.9025, 1.0011, 0.2738, 0.3735, 0.2928, 0.6448, 0.0206, 0.342, 0.452, -0.113, 0.0913, -0.4028, -0.1314, 1.7691, 1.7691, 1.7691, 1.7691, 1.7691, 1.7691, 1.7688, 1.6854, 1.6727, 1.6654, 1.6601, 1.6594, 1.6531, 1.646, 1.645, 1.6152, 1.6058, 1.6013, 1.5752, 1.5683, 1.5628, 1.537, 1.5367, 1.5367, 1.5367, 1.5367, 1.5367, 1.5367, 1.5367, 1.5367, 1.5285, 1.5271, 1.4732, 1.5096, 1.5075, 1.4965, 1.4839, 1.4929, 1.4768, 1.3628, 1.3474, 1.4427, 1.1651, 1.3845, 1.3608, 1.2266, 1.3394, 0.8489, 1.3645, 0.9234, 1.1936, 0.7936, 0.2305, 0.081, 0.8614, 0.6049, 0.4765, 0.7817, 0.6451, 1.1402, 0.302, 0.5752, 0.0754, 1.3324, 0.1213, 0.6351, 0.6207, 0.4216, 0.0349, -0.1549, 0.3024, 0.1003, 0.0431, 0.132, 0.2844, -0.0725, 2.0535, 1.9929, 1.8842, 1.8399, 1.7966, 1.7553, 1.7527, 1.7461, 1.7134, 1.6866, 1.6735, 1.6644, 1.6582, 1.646, 1.6349, 1.6294, 1.6294, 1.6294, 1.6294, 1.6294, 1.6294, 1.6294, 1.6294, 1.6294, 1.6294, 1.6294, 1.6294, 1.6294, 1.6294, 1.6294, 1.6259, 1.5976, 1.5874, 1.5868, 1.5718, 1.3916, 1.5856, 1.5413, 1.4966, 1.5029, 1.5712, 1.5707, 1.4073, 1.4543, 1.2529, 1.3955, 0.9591, 1.1215, 1.1126, 1.3182, 0.8732, 1.189, 0.9206, 1.1847, 1.1524, 0.6251, 0.6183, 0.6841, 0.6286, 0.9223, 0.4645, 1.0304, 0.2929, 0.6533, 0.7447, 0.4918, 0.362, 0.799, 0.569, 0.3105, 0.5154, 0.9191, -0.4132, 0.3738, 0.2606, -0.5152, 0.2346, 0.4288, 0.1281, 0.0355, 1.8952, 1.8755, 1.8642, 1.8597, 1.8498, 1.8312, 1.8254, 1.8145, 1.8134, 1.8118, 1.8086, 1.8041, 1.801, 1.7995, 1.7474, 1.7355, 1.7144, 1.6816, 1.6692, 1.6541, 1.645, 1.645, 1.645, 1.645, 1.645, 1.645, 1.645, 1.645, 1.645, 1.645, 1.6449, 1.5796, 1.5797, 1.4627, 1.5308, 1.5491, 1.5133, 1.5696, 1.4081, 1.4464, 1.4888, 1.1874, 1.2771, 0.9239, 1.2547, 1.2132, 0.925, 0.7608, 1.428, 1.1576, 1.0387, 0.9443, 0.4811, 0.4218, 1.3064, 0.9032, 1.0544, 0.2406, 0.6695, 0.6476, 0.6665, 0.4595, -0.224, 0.9124, 0.024, 0.5852, 0.7082, 0.6573, 0.3799, 0.0245, -0.0231, 0.0153, -0.7747, -0.0129, 0.3308, 0.2704, 1.9639, 1.9463, 1.9463, 1.9463, 1.938, 1.9351, 1.9157, 1.9132, 1.8847, 1.8524, 1.8495, 1.8235, 1.8106, 1.8066, 1.8054, 1.7832, 1.768, 1.7664, 1.7409, 1.7341, 1.7264, 1.7152, 1.7088, 1.7071, 1.7071, 1.7071, 1.7071, 1.7071, 1.7035, 1.6899, 1.6742, 1.6696, 1.6696, 1.683, 1.4914, 1.3868, 1.5741, 1.2099, 1.4709, 0.8024, 1.409, 1.2867, 0.7635, 0.8824, 1.1665, 1.3294, 1.0208, 0.1817, 0.4756, 0.6813, 0.5512, 0.835, 0.6607, 0.6735, 1.0422, 0.7433, 0.118, 0.0773, 0.4577, 0.4628, 0.2112, 0.1341, 0.0008, -0.6436, 0.2187, -0.0456, -0.0863, -0.5061, 2.1228, 2.0641, 2.0556, 2.052, 2.0516, 2.0488, 2.0174, 1.9843, 1.9489, 1.9094, 1.8688, 1.8301, 1.8301, 1.8301, 1.8301, 1.8301, 1.8301, 1.8301, 1.8301, 1.8301, 1.8301, 1.8301, 1.8301, 1.8301, 1.8301, 1.8301, 1.8007, 1.7995, 1.7935, 1.7911, 1.7691, 1.7668, 1.7646, 1.6891, 1.6215, 1.4268, 1.2495, 1.696, 1.4009, 1.2232, 1.25, 1.5212, 1.5974, 1.3939, 1.574, 1.3578, 1.7239, 1.5819, 0.5187, 1.2783, 0.9668, 1.1295, 0.0986, 0.3266, 0.8178, 0.5944, 0.9686, 0.8409, 0.1645, 0.693, 0.355, 0.5376, 0.2866, 0.8115, 0.4686, 0.6725, -0.0604, 0.548, 0.4264, -0.0358, 0.7021, -0.1536, 0.1386, 0.362, 0.2327, -0.1463, 2.1291, 2.1291, 2.1291, 2.1291, 2.1291, 2.1291, 2.1171, 2.0557, 2.0293, 2.025, 2.022, 1.9849, 1.9598, 1.9409, 1.9287, 1.9286, 1.8875, 1.8875, 1.8875, 1.8875, 1.8875, 1.8875, 1.8875, 1.8875, 1.8875, 1.8608, 1.8519, 1.8413, 1.8412, 1.8408, 1.8189, 1.829, 1.7928, 1.7809, 1.7981, 1.6307, 1.7077, 1.5117, 1.4752, 1.3979, 1.5999, 1.3893, 1.3007, 1.1918, 0.8462, 1.2989, 0.6558, 1.1818, 1.2503, 0.7845, 1.3694, 0.2267, 0.2321, 0.6899, 0.5854, 0.2921, 0.5209, 0.2284, 1.1763, 0.4598, 0.1137, -0.5283, 0.3608, 0.2077, 0.7069, -0.243, 0.2774, -0.0024, 2.1759, 2.1351, 1.9377, 1.9377, 1.9377, 1.9377, 1.9377, 1.9377, 1.9377, 1.9377, 1.9377, 1.9377, 1.9377, 1.9377, 1.9377, 1.9374, 1.9107, 1.9001, 1.8932, 1.8923, 1.8869, 1.8372, 1.8285, 1.8236, 1.8205, 1.8158, 1.8093, 1.8063, 1.8033, 1.8028, 1.768, 1.7798, 1.6433, 1.5677, 1.7344, 1.6813, 1.3314, 1.4814, 1.5005, 1.6349, 1.5147, 0.8909, 1.3025, 1.5814, 0.8339, 1.2562, 1.1691, 1.3044, 1.0333, 0.8988, 1.6249, 1.1039, 0.8029, -0.0974, 0.322, 0.209, 0.4182, 0.4625, 0.0941, -0.2431, 0.4324, 0.741, 0.2866, 0.3828, 0.1604, 0.914, 0.2441, 0.2551, 0.2266, 0.3079, -0.3151, 0.2857, 0.3254, 0.4021, -0.1482, 2.1888, 2.1888, 2.1888, 2.1888, 2.1882, 2.1882, 2.1772, 1.997, 1.989, 1.9629, 1.9338, 1.9338, 1.9338, 1.9338, 1.9338, 1.9338, 1.9338, 1.9338, 1.9338, 1.9338, 1.9338, 1.9335, 1.9335, 1.9333, 1.9333, 1.9332, 1.932, 1.9318, 1.9316, 1.9314, 1.8989, 1.8877, 1.9041, 1.8629, 1.9047, 1.878, 1.8728, 1.7939, 1.8488, 1.7581, 1.8784, 1.8756, 1.8738, 1.793, 1.5642, 1.5514, 1.742, 1.591, 1.7654, 1.5359, 1.4448, 1.487, 1.5145, 0.9612, 0.7273, 0.8373, 0.3467, 0.5266, 0.9498, 0.9228, 1.0501, 1.1677, 0.3454, 1.2938, 0.7491, 0.5963, 0.8982, 1.0608, 1.0179, 0.1262, 0.4137, 0.4025, 0.5113, 0.5209, -0.6083, 0.2509, 0.7324, 0.2663, -0.0633, 0.4195, 0.2181, -0.0515, 0.0054, 2.2628, 2.2587, 2.1814, 2.1679, 2.1399, 2.114, 2.1127, 1.9837, 1.9837, 1.9837, 1.9837, 1.9837, 1.9837, 1.9837, 1.9837, 1.9837, 1.9837, 1.9837, 1.9837, 1.9837, 1.9837, 1.9837, 1.9837, 1.9837, 1.9614, 1.9164, 1.9102, 1.908, 1.9021, 1.8927, 1.8627, 1.8325, 1.763, 1.6697, 1.7374, 1.5673, 1.4951, 1.5774, 1.4307, 1.4449, 1.7471, 1.5583, 0.793, 1.8178, 0.9562, 1.8135, 0.639, 0.506, 1.1258, 0.8611, 0.7681, 1.4353, 0.3961, 0.7176, 0.5445, 0.0318, 0.2475, 0.377, 0.3801, 0.3713, 0.8099, 0.3704, 0.6478, 0.7903, 0.6424, 0.4135, -0.0303, 0.57, -0.3084, 0.0688, -0.8791, -0.0094, 0.4485, 0.0226], \"logprob\": [30.0, 29.0, 28.0, 27.0, 26.0, 25.0, 24.0, 23.0, 22.0, 21.0, 20.0, 19.0, 18.0, 17.0, 16.0, 15.0, 14.0, 13.0, 12.0, 11.0, 10.0, 9.0, 8.0, 7.0, 6.0, 5.0, 4.0, 3.0, 2.0, 1.0, -6.0994, -5.8474, -6.5054, -6.518, -6.7793, -6.8052, -6.8112, -7.1657, -7.1721, -7.1733, -6.6817, -6.1097, -7.198, -7.1983, -7.1982, -7.2022, -7.2039, -7.2116, -6.9659, -6.2884, -6.7569, -6.7659, -7.2953, -7.0215, -7.3024, -5.6994, -6.8018, -6.2372, -7.0545, -6.8403, -6.8629, -6.469, -6.8704, -4.2464, -5.1083, -6.5343, -5.4771, -5.4412, -6.4577, -5.6356, -6.268, -6.5339, -5.9262, -5.6611, -5.0942, -5.9949, -4.8769, -5.5959, -5.8944, -5.7115, -5.5466, -5.5484, -5.8914, -5.8004, -5.7071, -5.7763, -6.1293, -6.2562, -5.7591, -5.8417, -5.8146, -6.0172, -5.7262, -5.9278, -5.9676, -5.8827, -5.9604, -5.9525, -5.9928, -6.9994, -6.9994, -6.9994, -6.9994, -6.9994, -6.9994, -6.9996, -6.587, -7.1029, -7.1107, -6.8267, -7.1163, -7.1231, -6.2999, -7.1324, -7.163, -7.1669, -6.8804, -6.5191, -6.9289, -6.9359, -6.9696, -7.646, -7.646, -7.646, -7.646, -7.646, -7.646, -7.646, -7.646, -6.979, -6.9803, -5.9151, -6.9994, -6.9994, -6.949, -6.7897, -7.0029, -6.806, -5.6862, -5.9712, -6.6562, -5.322, -6.4162, -6.3373, -6.0161, -6.3655, -5.0465, -6.4924, -5.7829, -6.2746, -5.5785, -4.8891, -4.8637, -5.9493, -5.6291, -5.5564, -5.9325, -5.8535, -6.3639, -5.5594, -5.8915, -5.5039, -6.6124, -5.5895, -6.0197, -6.0143, -5.9367, -5.7348, -5.7047, -5.9765, -5.9284, -5.9095, -5.9824, -6.0311, -6.0382, -6.3041, -6.5837, -6.9731, -6.752, -7.0547, -6.8066, -6.2328, -6.5837, -6.8581, -7.1674, -7.1705, -7.1871, -7.1848, -7.2001, -7.2107, -7.6198, -7.6198, -7.6198, -7.6198, -7.6198, -7.6198, -7.6198, -7.6198, -7.6198, -7.6198, -7.6198, -7.6198, -7.6198, -7.6198, -7.6198, -7.2242, -6.9731, -6.9731, -6.9731, -6.9731, -5.3049, -7.2593, -6.958, -6.6318, -6.8103, -7.2718, -7.2723, -6.4266, -6.7082, -5.7358, -6.5817, -4.9736, -5.7992, -5.8839, -6.4279, -5.3474, -6.1531, -5.6341, -6.2421, -6.1834, -5.3274, -5.4334, -5.55, -5.4786, -5.9525, -5.2823, -6.1276, -5.2568, -5.6984, -5.813, -5.5411, -5.4078, -5.9188, -5.7348, -5.5509, -5.7223, -6.0482, -5.3579, -5.896, -5.8539, -5.6347, -5.9132, -5.9999, -5.9634, -5.9932, -6.9442, -6.9624, -6.9759, -6.6994, -6.9904, -7.0093, -7.0153, -7.0335, -6.7204, -7.0301, -7.0326, -7.0368, -6.7283, -7.0432, -7.0743, -6.6068, -7.1008, -6.8975, -6.1959, -6.4936, -7.5908, -7.5908, -7.5908, -7.5908, -7.5908, -7.5908, -7.5908, -7.5908, -7.5908, -7.5908, -7.1678, -5.2626, -6.7298, -5.5136, -6.325, -6.5634, -6.4828, -6.9616, -5.8042, -6.1021, -6.5051, -4.9846, -5.8014, -5.1049, -5.9489, -5.9173, -5.4471, -5.2049, -6.4074, -5.9889, -5.829, -5.7322, -5.0686, -5.2024, -6.3175, -5.959, -6.1476, -5.4702, -5.8407, -5.8794, -5.91, -5.7781, -5.3436, -6.0942, -5.5554, -5.9019, -5.9817, -5.9577, -5.8517, -5.7223, -5.7928, -5.8461, -5.7194, -5.9083, -5.9389, -5.9399, -6.3093, -6.8497, -6.8497, -6.8497, -6.577, -6.3529, -6.8806, -6.376, -6.9095, -6.9409, -6.4446, -6.9915, -6.4854, -6.9959, -5.264, -7.0023, -7.0175, -6.5314, -7.0861, -7.0721, -7.0775, -6.5934, -6.41, -7.4963, -7.4963, -7.4963, -7.4963, -7.4963, -7.1015, -7.1155, -6.1385, -6.6443, -6.83, -7.1221, -5.1754, -5.5129, -6.5273, -5.5849, -6.3759, -4.9084, -6.3153, -6.089, -5.1691, -5.4249, -6.0242, -6.2713, -5.8469, -4.763, -5.1486, -5.4261, -5.3442, -5.8023, -5.6515, -5.6812, -6.0545, -5.9533, -5.6334, -5.6924, -5.9497, -5.981, -5.9365, -5.9176, -5.916, -5.7632, -5.9915, -5.9981, -6.052, -6.0559, -6.3622, -6.7109, -6.7211, -6.7255, -6.726, -6.7294, -6.4765, -6.5054, -6.8338, -6.8939, -6.9411, -7.3576, -7.3576, -7.3576, -7.3576, -7.3576, -7.3576, -7.3576, -7.3576, -7.3576, -7.3576, -7.3576, -7.3576, -7.3576, -7.3576, -7.3576, -7.3891, -7.3903, -6.7219, -7.0014, -6.7278, -6.7174, -6.7266, -6.129, -6.0912, -5.3111, -4.5019, -6.8093, -5.9412, -5.4118, -5.5563, -6.4516, -6.6754, -6.1776, -6.6894, -6.1359, -7.0827, -6.7225, -4.6008, -6.2058, -5.819, -6.0694, -4.8461, -5.2976, -5.8435, -5.7177, -6.0415, -5.9503, -5.4149, -5.8397, -5.6107, -5.7779, -5.6659, -5.9802, -5.7794, -5.9425, -5.6101, -5.9187, -5.8774, -5.7826, -5.9945, -5.9233, -5.9688, -5.9963, -5.9879, -6.0078, -6.6763, -6.6763, -6.6763, -6.6763, -6.6763, -6.6763, -6.3997, -6.749, -6.76, -5.5031, -6.5105, -6.1845, -6.5497, -6.3845, -6.0073, -6.887, -7.323, -7.323, -7.323, -7.323, -7.323, -7.323, -7.323, -7.323, -7.323, -6.6763, -6.9919, -6.4606, -7.369, -7.3693, -6.7038, -6.9948, -6.4977, -6.5133, -6.729, -6.0709, -6.5987, -5.8478, -5.8874, -5.7262, -6.3828, -5.8261, -5.7735, -5.6504, -5.261, -5.9643, -5.0957, -5.8348, -5.9746, -5.5672, -6.1913, -5.3231, -5.3921, -5.7388, -5.6934, -5.6247, -5.7864, -5.633, -6.1546, -5.7859, -5.6561, -5.473, -5.8495, -5.844, -6.0078, -5.9538, -6.0382, -6.0312, -6.616, -6.3616, -7.2626, -7.2626, -7.2626, -7.2626, -7.2626, -7.2626, -7.2626, -7.2626, -7.2626, -7.2626, -7.2626, -7.2626, -7.2626, -6.3432, -7.2911, -6.8928, -7.3096, -6.6511, -6.616, -5.9344, -7.3687, -7.3712, -7.3748, -7.0117, -6.9911, -7.4009, -7.3923, -7.3932, -6.5363, -7.0084, -5.5032, -5.0478, -6.5648, -6.6013, -5.6105, -6.1196, -6.2533, -6.6185, -6.4493, -5.3789, -6.2133, -6.7258, -5.6647, -6.3611, -6.2528, -6.4565, -6.1151, -5.9951, -6.9089, -6.3247, -6.0601, -5.2169, -5.6106, -5.5378, -5.7295, -5.7692, -5.4556, -5.1878, -5.7828, -6.0563, -5.8048, -5.8652, -5.7563, -6.179, -5.9279, -5.9655, -5.9837, -6.0216, -5.9393, -6.0726, -6.1185, -6.1305, -6.1139, -6.6693, -6.6693, -6.6693, -6.6693, -6.6697, -6.6698, -6.3917, -6.8464, -6.5732, -6.8911, -7.3159, -7.3159, -7.3159, -7.3159, -7.3159, -7.3159, -7.3159, -7.3159, -7.3159, -7.3159, -7.3159, -7.3161, -7.3162, -7.3163, -7.3164, -7.3165, -6.0585, -7.318, -7.3183, -7.3185, -6.236, -6.0846, -6.6695, -6.2569, -6.9076, -6.6693, -6.6417, -5.9491, -6.7257, -6.2245, -6.9642, -6.9583, -6.9615, -6.5479, -5.4068, -5.4806, -6.4034, -5.8972, -6.7746, -6.1079, -6.0396, -6.1671, -6.2337, -5.3543, -4.9835, -5.3525, -4.7728, -5.0527, -5.5936, -5.6189, -5.8121, -5.939, -5.2788, -6.066, -5.6928, -5.6189, -5.816, -5.9425, -5.921, -5.4236, -5.615, -5.6304, -5.7203, -5.8086, -5.553, -5.8405, -5.9574, -5.8814, -5.833, -5.9074, -5.8891, -5.9129, -5.9273, -6.6848, -6.4008, -6.7439, -6.7659, -6.2954, -6.8125, -6.5209, -7.3315, -7.3315, -7.3315, -7.3315, -7.3315, -7.3315, -7.3315, -7.3315, -7.3315, -7.3315, -7.3315, -7.3315, -7.3315, -7.3315, -7.3315, -7.3315, -7.3315, -6.9439, -7.3838, -7.3965, -7.3903, -6.3096, -7.4121, -7.0306, -6.7732, -6.2889, -6.1049, -6.6338, -6.219, -6.0713, -6.3076, -5.9961, -6.1807, -6.8635, -6.6341, -5.455, -7.0698, -5.7491, -7.0695, -5.4127, -5.2409, -6.1201, -5.7762, -5.6515, -6.5901, -5.3553, -5.7469, -5.6033, -5.0878, -5.3318, -5.4845, -5.5153, -5.5812, -6.0667, -5.8613, -5.9997, -6.0727, -6.0157, -5.9448, -5.8, -6.0368, -5.8581, -5.9641, -5.8238, -5.9751, -6.0738, -6.0848]}, \"token.table\": {\"Topic\": [3, 4, 7, 8, 5, 5, 2, 5, 10, 9, 1, 2, 3, 4, 5, 6, 7, 8, 10, 9, 4, 1, 2, 5, 4, 7, 9, 9, 1, 2, 3, 4, 5, 7, 8, 9, 10, 2, 5, 1, 2, 3, 4, 5, 7, 8, 9, 8, 1, 3, 4, 5, 7, 8, 9, 10, 2, 4, 6, 7, 10, 2, 3, 4, 5, 9, 8, 6, 6, 5, 7, 2, 6, 1, 2, 3, 4, 5, 6, 7, 8, 10, 2, 1, 2, 3, 4, 5, 6, 7, 8, 9, 10, 1, 2, 3, 4, 5, 6, 7, 8, 9, 10, 2, 3, 8, 10, 1, 2, 3, 4, 5, 6, 7, 8, 9, 10, 1, 2, 3, 4, 5, 6, 7, 8, 9, 10, 3, 4, 4, 9, 1, 2, 3, 4, 5, 6, 7, 8, 9, 10, 1, 2, 3, 4, 5, 6, 8, 10, 1, 2, 3, 4, 5, 6, 7, 8, 9, 10, 1, 2, 3, 5, 6, 7, 8, 9, 10, 2, 1, 5, 4, 1, 4, 6, 7, 2, 10, 1, 3, 10, 10, 10, 7, 1, 2, 6, 8, 9, 10, 7, 3, 7, 8, 2, 3, 6, 7, 10, 1, 3, 5, 4, 7, 9, 6, 2, 4, 7, 9, 1, 3, 6, 9, 9, 3, 5, 7, 10, 2, 10, 7, 4, 4, 1, 1, 4, 1, 2, 4, 8, 9, 10, 1, 2, 6, 7, 9, 5, 6, 8, 3, 4, 10, 5, 1, 2, 3, 4, 5, 6, 7, 8, 9, 10, 3, 8, 1, 3, 8, 9, 2, 1, 2, 3, 4, 5, 6, 7, 8, 10, 1, 1, 2, 3, 4, 5, 6, 7, 8, 9, 10, 1, 2, 3, 4, 5, 6, 7, 8, 9, 10, 6, 4, 1, 3, 4, 3, 6, 7, 9, 3, 2, 3, 4, 7, 8, 9, 1, 2, 3, 4, 5, 6, 7, 8, 9, 10, 1, 2, 3, 5, 7, 8, 9, 10, 3, 5, 1, 2, 3, 4, 5, 6, 7, 8, 9, 10, 10, 9, 1, 1, 1, 2, 3, 4, 5, 9, 1, 2, 5, 8, 9, 10, 8, 1, 2, 3, 4, 5, 6, 7, 8, 9, 10, 10, 9, 6, 9, 5, 1, 2, 3, 4, 5, 7, 8, 1, 2, 5, 6, 7, 8, 10, 1, 2, 3, 4, 5, 6, 7, 8, 9, 10, 4, 8, 1, 3, 6, 9, 1, 2, 4, 6, 8, 9, 10, 1, 3, 2, 8, 1, 2, 4, 5, 7, 10, 1, 2, 3, 5, 6, 7, 8, 9, 10, 4, 7, 1, 2, 3, 4, 5, 6, 7, 8, 9, 10, 1, 2, 3, 4, 5, 6, 7, 8, 9, 10, 4, 1, 2, 3, 6, 7, 8, 2, 2, 1, 2, 4, 5, 6, 7, 8, 9, 2, 6, 10, 9, 4, 5, 1, 2, 3, 4, 5, 6, 9, 10, 3, 1, 2, 3, 4, 6, 7, 9, 10, 7, 10, 1, 2, 3, 5, 6, 7, 9, 10, 1, 2, 3, 5, 7, 1, 2, 4, 7, 4, 1, 1, 9, 3, 7, 1, 2, 3, 4, 5, 7, 8, 9, 10, 1, 4, 10, 1, 2, 3, 4, 5, 6, 7, 8, 10, 1, 2, 3, 5, 6, 2, 9, 2, 1, 4, 5, 7, 8, 10, 9, 10, 3, 5, 6, 7, 10, 6, 9, 3, 4, 1, 2, 4, 6, 7, 9, 4, 2, 1, 2, 9, 10, 2, 2, 9, 4, 2, 8, 8, 1, 2, 3, 4, 5, 6, 7, 8, 9, 10, 1, 3, 4, 5, 6, 7, 8, 9, 1, 2, 3, 4, 5, 8, 9, 10, 2, 4, 6, 7, 8, 10, 10, 5, 1, 2, 3, 4, 5, 6, 7, 8, 9, 10, 1, 2, 3, 4, 5, 6, 7, 8, 9, 10, 2, 3, 4, 8, 6, 5, 3, 9, 1, 9, 1, 4, 6, 7, 6, 10, 6, 5, 2, 9, 1, 2, 3, 4, 5, 6, 7, 8, 9, 10, 4, 10, 10, 2, 1, 2, 3, 4, 5, 6, 7, 8, 9, 10, 6, 1, 2, 3, 4, 5, 6, 7, 8, 9, 4, 9, 2, 3, 5, 6, 7, 10, 3, 4, 1, 2, 3, 4, 5, 6, 7, 8, 10, 4, 5, 3, 4, 5, 7, 10, 3, 6, 9, 5, 10, 6, 8, 2, 9, 1, 1, 2, 3, 5, 6, 7, 8, 10, 1, 2, 3, 4, 5, 6, 7, 8, 9, 1, 2, 3, 4, 5, 6, 7, 8, 9, 10, 1, 2, 3, 4, 6, 7, 8, 9, 10, 1, 1, 2, 6, 7, 8, 7, 1, 2, 3, 1, 2, 3, 4, 1, 2, 3, 4, 5, 7, 8, 9, 10, 1, 2, 3, 4, 6, 7, 8, 10, 1, 2, 3, 5, 6, 7, 8, 10, 1, 1, 2, 5, 6, 8, 10, 3, 3, 1, 7, 9, 4, 1, 6, 8, 10, 1, 2, 3, 4, 5, 6, 7, 8, 2, 10, 6, 4, 1, 2, 3, 5, 6, 1, 2, 3, 4, 5, 6, 7, 8, 9, 10, 5, 2, 8, 3, 1, 2, 3, 4, 7, 8, 9, 10, 4, 7, 2, 3, 7, 4, 5, 5, 6, 1, 2, 4, 5, 6, 8, 9, 4, 7, 3, 4, 7, 1, 2, 3, 4, 6, 7, 8, 9, 10, 6, 5, 4, 2, 3, 4, 5, 6, 7, 9, 1, 2, 3, 5, 6, 7, 1, 3, 6, 10, 2, 4, 7, 8, 10, 5, 9, 6, 4, 7, 9, 9, 1, 2, 3, 4, 5, 6, 7, 8, 9, 10, 6, 7, 8, 2, 1, 7, 9, 1, 4, 8, 3, 1, 2, 3, 4, 5, 6, 7, 8, 9, 10, 1, 4, 4, 5, 6, 1, 1, 2, 3, 4, 5, 6, 7, 8, 9, 10, 1, 2, 1, 3, 4, 5, 7, 8, 9, 1, 2, 3, 4, 5, 6, 7, 8, 9, 10, 10, 6, 1, 2, 3, 4, 5, 6, 7, 8, 2, 1, 2, 3, 6, 8, 10, 2, 7, 1, 2, 3, 4, 5, 6, 7, 8, 9, 10, 1, 2, 3, 4, 5, 6, 7, 8, 9, 10, 7, 5, 1, 2, 3, 4, 6, 8, 5, 9, 4, 6, 8, 1, 2, 3, 4, 5, 6, 7, 9, 10, 1, 2, 3, 5, 6, 7, 8, 9, 10, 8, 1, 2, 3, 4, 5, 6, 7, 8, 9, 5, 6, 9, 10, 3, 6, 2, 4, 5, 2, 8, 10, 1, 2, 3, 4, 8, 10, 1, 2, 3, 4, 5, 6, 7, 8, 9, 10, 3, 3, 1, 3, 4, 6, 1, 2, 3, 7, 8, 9, 10, 1, 2, 3, 4, 5, 6, 7, 8, 9, 10, 1, 2, 7, 7, 1, 2, 4, 5, 6, 7, 8, 9, 10, 6, 3, 1, 2, 3, 4, 6, 7, 8, 10, 1, 2, 3, 4, 5, 6, 7, 8, 9, 10, 8, 3, 3, 8, 1, 2, 6, 8, 9, 10, 9, 1, 2, 4, 5, 6, 8, 9, 9, 1, 2, 3, 4, 5, 7, 8, 9, 10, 1, 7, 8, 7, 9, 1, 2, 3, 4, 5, 6, 7, 8, 9, 10, 6, 1, 2, 3, 4, 5, 7, 8, 9, 10, 3, 1, 2, 3, 4, 6, 7, 8, 9, 10, 3, 7, 10, 2, 3, 4, 6, 7, 8, 9, 10, 4, 7, 2, 5, 10, 9, 10, 1, 2, 3, 4, 5, 6, 7, 8, 9, 1, 2, 3, 5, 6, 8, 9, 10, 3, 2, 9, 1, 3, 4, 6, 7, 8, 9, 10, 1, 2, 4, 7, 8, 9, 1, 2, 3, 4, 5, 6, 7, 8, 9, 10, 6, 6, 2, 3, 8, 9, 1, 2, 3, 4, 5, 6, 8, 9, 10, 2, 8, 9, 10, 1, 4, 1, 1, 2, 3, 4, 5, 6, 7, 8, 9, 10, 3, 3, 4, 7, 8, 10, 2, 9, 6, 2, 9, 6, 9, 4, 7, 8, 10, 7, 1, 6, 2, 3, 4, 7, 2, 4, 7, 1, 4, 6, 8, 4, 5, 1, 2, 3, 4, 5, 6, 7, 8, 10, 4, 1, 3, 8, 10, 2, 4, 5, 7, 2, 7, 10, 4, 2, 6, 7, 4, 6, 9, 7, 5, 4, 4, 5, 9, 1, 2, 3, 4, 5, 6, 7, 8, 9, 10, 1, 2, 3, 4, 5, 6, 7, 8, 9, 10, 1, 3, 5, 10, 2, 9, 9, 9, 3, 7, 10, 1, 1, 3, 4, 5, 6, 7, 9, 10, 1, 2, 3, 4, 5, 9, 2, 6, 10, 2, 3, 4, 5, 6, 9, 3, 6, 9, 9, 9, 1, 2, 3, 5, 7, 8, 9, 10, 2, 6, 4, 10, 4, 1, 2, 8, 2, 9, 1, 3, 4, 5, 6, 8, 9, 1, 5, 8, 9, 9, 9, 7, 5, 6, 1, 3, 4, 8, 9, 10, 1, 2, 3, 4, 5, 6, 7, 8, 9, 10, 5, 2, 7, 10, 2, 3, 1, 2, 5, 6, 7, 9, 10, 1, 2, 3, 4, 5, 7, 8, 4, 10, 1, 2, 3, 4, 5, 7, 8, 9, 10, 1, 5, 10, 1, 2, 1, 2, 3, 5, 6, 8, 9, 10, 7, 3, 4, 8, 4, 6, 7, 9, 8, 8, 5, 3, 2, 3, 1, 2, 2, 1, 2, 4, 6, 7, 8, 10, 3, 4, 8, 7, 7, 1, 2, 3, 4, 5, 6, 7, 8, 9, 10, 1, 2, 3, 4, 5, 6, 7, 8, 9, 10, 3, 4, 5, 6, 7, 8, 1, 2, 3, 4, 5, 6, 7, 8, 9, 10, 9, 1, 2, 3, 5, 6, 7, 8, 9, 1, 2, 3, 4, 5, 8, 10, 7, 6, 1, 5, 8, 9, 6, 3, 4, 5, 8, 9, 8, 6, 1, 4, 5, 6, 9, 10, 3, 1, 2, 3, 4, 5, 6, 7, 8, 9, 10, 1, 2, 1, 5, 9, 2, 7, 8, 1, 3, 1, 2, 3, 4, 5, 6, 7, 8, 9, 10, 2, 5, 6, 4, 7, 9, 1, 2, 3, 5, 6, 7, 8, 9, 10, 6, 1, 2, 3, 4, 5, 6, 7, 8, 9, 10, 8, 1, 3, 4, 5, 7, 10, 2, 5, 10, 1, 2, 3, 4, 5, 6, 7, 8, 9, 10, 6, 9, 3, 7, 4, 1, 5, 6, 7, 10, 3, 5, 1, 2, 3, 5, 6, 8, 9, 10, 1, 2, 3, 4, 6, 7, 8, 9, 10, 3, 8, 7, 10, 10, 3, 4, 1, 2, 3, 4, 5, 6, 7, 8, 9, 10, 1, 2, 3, 4, 5, 6, 7, 8, 9, 10, 7, 1, 2, 3, 4, 7, 8, 9, 10, 3, 7, 10, 1, 8, 9, 2, 8, 1, 9, 3, 7, 2, 4, 8, 9, 10, 1, 3, 8, 1, 2, 3, 4, 5, 6, 8, 9, 10, 2, 2, 9, 8, 5, 6, 9, 2, 3, 9, 2, 6, 1, 2, 3, 4, 5, 6, 7, 8, 9, 10, 1, 2, 3, 4, 5, 6, 7, 8, 9, 1, 2, 3, 4, 5, 6, 7, 8, 9, 10, 1, 9, 5, 10, 1, 2, 3, 4, 5, 6, 7, 8, 10, 6, 4, 7, 1, 3, 1, 2, 3, 4, 5, 6, 7, 8, 9, 10, 7, 8, 10, 1, 2, 3, 4, 5, 6, 7, 8, 9, 10, 1, 2, 4, 5, 6, 7, 1, 2, 3, 4, 5, 6, 7, 8, 9, 10, 1, 2, 3, 4, 5, 6, 7, 8, 9, 10, 3, 8, 1, 3, 4, 6, 7, 9, 6, 7, 3, 5, 2, 4, 1, 2, 3, 4, 5, 6, 7, 8, 9, 10, 1, 2, 3, 4, 5, 6, 7, 8, 9, 2, 3, 4, 6, 1, 2, 3, 4, 5, 6, 7, 8, 9, 10, 7, 10, 1, 2, 3, 6, 2, 3, 1, 2, 3, 4, 5, 6, 7, 8, 9, 10, 1, 2, 3, 4, 5, 6, 7, 8, 9, 10, 1, 2, 3, 4, 5, 6, 7, 8, 9, 10, 1, 2, 3, 4, 5, 6, 7, 8, 10, 1, 2, 3, 4, 5, 6, 7, 8, 9, 10, 4, 8, 7, 8], \"Freq\": [0.44159097391642516, 0.14719699130547506, 0.14719699130547506, 0.14719699130547506, 0.6321571286053731, 0.6321571575404404, 0.16279679774076314, 0.4883903932222894, 0.16279679774076314, 0.4275174473656431, 0.2190160031471861, 0.10950800157359306, 0.18251333595598843, 0.07300533438239537, 0.07300533438239537, 0.036502667191197685, 0.18251333595598843, 0.036502667191197685, 0.036502667191197685, 0.8950362839449971, 0.44036939286304794, 0.563562179902216, 0.140890544975554, 0.140890544975554, 0.3779863855806826, 0.1889931927903413, 0.1889931927903413, 0.6620681590516326, 0.27420433627669233, 0.13710216813834616, 0.045700722712782055, 0.18280289085112822, 0.045700722712782055, 0.045700722712782055, 0.09140144542556411, 0.09140144542556411, 0.045700722712782055, 0.5035205041102152, 0.2517602520551076, 0.1425637593673797, 0.0950425062449198, 0.0475212531224599, 0.0950425062449198, 0.0950425062449198, 0.0475212531224599, 0.3801700249796792, 0.0475212531224599, 0.4224438423284223, 0.2034371236941741, 0.0678123745647247, 0.0678123745647247, 0.0678123745647247, 0.0678123745647247, 0.0678123745647247, 0.3390618728236235, 0.0678123745647247, 0.05961555699358601, 0.4769244559486881, 0.05961555699358601, 0.2980777849679301, 0.05961555699358601, 0.12080579960480724, 0.24161159920961447, 0.48322319841922895, 0.12080579960480724, 0.12080579960480724, 0.6534236713241314, 0.6235953467647855, 0.823803797311443, 0.7601063783347279, 0.6366314042753168, 0.8247404919585212, 0.629011008599629, 0.2944176451614285, 0.0981392150538095, 0.0981392150538095, 0.04906960752690475, 0.0981392150538095, 0.0981392150538095, 0.04906960752690475, 0.0981392150538095, 0.14720882258071424, 0.6174392894519078, 0.1715221383926064, 0.0857610691963032, 0.2001091614580408, 0.0571740461308688, 0.0857610691963032, 0.0285870230654344, 0.2001091614580408, 0.0285870230654344, 0.0857610691963032, 0.0285870230654344, 0.23541832351184092, 0.03363118907312013, 0.1345247562924805, 0.1345247562924805, 0.06726237814624025, 0.06726237814624025, 0.03363118907312013, 0.2017871344387208, 0.03363118907312013, 0.06726237814624025, 0.6298493217538135, 0.31492466087690674, 0.6236629646294978, 0.46359141643688573, 0.183726351724734, 0.183726351724734, 0.07349054068989361, 0.07349054068989361, 0.07349054068989361, 0.14698108137978722, 0.07349054068989361, 0.11023581103484041, 0.07349054068989361, 0.11023581103484041, 0.2287317933750481, 0.11436589668752405, 0.11436589668752405, 0.05718294834376202, 0.20014031920316708, 0.11436589668752405, 0.02859147417188101, 0.05718294834376202, 0.02859147417188101, 0.05718294834376202, 0.6715633398131731, 0.33578166990658653, 0.26682297217756745, 0.5336459443551349, 0.15649657824590227, 0.15649657824590227, 0.13413992421077336, 0.11178327017564448, 0.04471330807025779, 0.06706996210538668, 0.11178327017564448, 0.022356654035128896, 0.06706996210538668, 0.08942661614051559, 0.2061499855583452, 0.1030749927791726, 0.0515374963895863, 0.1030749927791726, 0.2061499855583452, 0.2061499855583452, 0.0515374963895863, 0.1030749927791726, 0.14877648266252994, 0.09918432177501996, 0.14877648266252994, 0.04959216088750998, 0.04959216088750998, 0.09918432177501996, 0.09918432177501996, 0.14877648266252994, 0.09918432177501996, 0.14877648266252994, 0.21009374982527063, 0.07003124994175687, 0.07003124994175687, 0.14006249988351374, 0.14006249988351374, 0.07003124994175687, 0.07003124994175687, 0.21009374982527063, 0.07003124994175687, 0.824300221377016, 0.7161838018212286, 0.4286611819773694, 0.6637733466899973, 0.21234561910038735, 0.4246912382007747, 0.21234561910038735, 0.21234561910038735, 0.34770399673277613, 0.34770399673277613, 0.7264345322722418, 0.12107242204537362, 0.12107242204537362, 0.7068966479294764, 0.48948183918094684, 0.6366314266002089, 0.07331729300205796, 0.43990375801234777, 0.07331729300205796, 0.07331729300205796, 0.21995187900617388, 0.7068967302912138, 0.6316417507610876, 0.37094807607449154, 0.18547403803724577, 0.18547403803724577, 0.10696283477911128, 0.32088850433733385, 0.10696283477911128, 0.10696283477911128, 0.32088850433733385, 0.8328751633148139, 0.664735742051054, 0.332367871025527, 0.39081134818134267, 0.26054089878756176, 0.13027044939378088, 0.4264922113986402, 0.16426655838754425, 0.4927996751626328, 0.16426655838754425, 0.16426655838754425, 0.24723397745017014, 0.12361698872508507, 0.3708509661752552, 0.24723397745017014, 0.8950049974024258, 0.2583586077063733, 0.5167172154127466, 0.8491685547688145, 0.4588398529002766, 0.8183576343691624, 0.7068966634728044, 0.6362538999980007, 0.43992436762901876, 0.6529608867541776, 0.5484268860418884, 0.7125457916617923, 0.6529609061157098, 0.6582563859322621, 0.07313959843691802, 0.07313959843691802, 0.07313959843691802, 0.07313959843691802, 0.07313959843691802, 0.11327269542134799, 0.11327269542134799, 0.339818086264044, 0.11327269542134799, 0.22654539084269598, 0.6321572055094412, 0.622267270670093, 0.8377839407620447, 0.8139498116875359, 0.8784720794424564, 0.7068966886360207, 0.7480226774262219, 0.25664991902755246, 0.04277498650459208, 0.08554997300918415, 0.21387493252296041, 0.04277498650459208, 0.04277498650459208, 0.04277498650459208, 0.08554997300918415, 0.08554997300918415, 0.04277498650459208, 0.441681986919858, 0.6311404866272794, 0.24447696386193335, 0.24447696386193335, 0.4889539277238667, 0.6620682906121969, 0.8183575577761664, 0.34734781085333816, 0.07718840241185293, 0.07718840241185293, 0.11578260361777938, 0.15437680482370586, 0.038594201205926465, 0.038594201205926465, 0.07718840241185293, 0.038594201205926465, 0.6525296246444361, 0.3204813947611065, 0.14243617544938067, 0.03560904386234517, 0.07121808772469033, 0.1068271315870355, 0.07121808772469033, 0.03560904386234517, 0.03560904386234517, 0.1068271315870355, 0.07121808772469033, 0.15770334941117262, 0.11827751205837947, 0.15770334941117262, 0.07885167470558631, 0.039425837352793154, 0.11827751205837947, 0.15770334941117262, 0.039425837352793154, 0.07885167470558631, 0.039425837352793154, 0.6235455986230385, 0.8791445672398955, 0.1870120281142942, 0.5610360843428827, 0.1870120281142942, 0.6617475529607518, 0.4745648670409874, 0.15818828901366247, 0.15818828901366247, 0.6617475336329814, 0.11691365035439268, 0.11691365035439268, 0.11691365035439268, 0.11691365035439268, 0.35074095106317804, 0.11691365035439268, 0.10475569853183991, 0.1396742647091199, 0.10475569853183991, 0.10475569853183991, 0.24442996324095978, 0.034918566177279974, 0.1396742647091199, 0.034918566177279974, 0.034918566177279974, 0.034918566177279974, 0.09082164824808278, 0.18164329649616556, 0.09082164824808278, 0.09082164824808278, 0.27246494474424837, 0.09082164824808278, 0.09082164824808278, 0.09082164824808278, 0.6656277345858906, 0.3328138672929453, 0.11538352275469341, 0.13461410988047565, 0.07692234850312894, 0.13461410988047565, 0.23076704550938681, 0.03846117425156447, 0.057691761377346704, 0.019230587125782236, 0.15384469700625789, 0.03846117425156447, 0.6951002320341458, 0.6620483738522432, 0.7901067371843062, 0.7893982144787178, 0.08175413570670272, 0.08175413570670272, 0.32701654282681086, 0.24526240712010813, 0.16350827141340543, 0.08175413570670272, 0.12731438257165759, 0.12731438257165759, 0.12731438257165759, 0.3819431477149728, 0.12731438257165759, 0.12731438257165759, 0.6302109545715305, 0.052638858977931406, 0.10527771795586281, 0.21055543591172562, 0.1579165769337942, 0.1579165769337942, 0.052638858977931406, 0.052638858977931406, 0.052638858977931406, 0.052638858977931406, 0.10527771795586281, 0.48278757138499084, 0.6620682130997592, 0.4985168543920855, 0.24925842719604274, 0.841226840906676, 0.4058846860217669, 0.17395057972361438, 0.05798352657453813, 0.05798352657453813, 0.05798352657453813, 0.05798352657453813, 0.05798352657453813, 0.43237164573738046, 0.07206194095623007, 0.07206194095623007, 0.21618582286869023, 0.07206194095623007, 0.07206194095623007, 0.07206194095623007, 0.048569297522982405, 0.09713859504596481, 0.048569297522982405, 0.09713859504596481, 0.242846487614912, 0.1457078925689472, 0.09713859504596481, 0.048569297522982405, 0.048569297522982405, 0.1457078925689472, 0.25724992908343525, 0.5144998581668705, 0.22745628110997906, 0.11372814055498953, 0.11372814055498953, 0.3411844216649686, 0.10715706987845905, 0.10715706987845905, 0.2143141397569181, 0.2143141397569181, 0.2143141397569181, 0.10715706987845905, 0.10715706987845905, 0.31261713953388254, 0.6252342790677651, 0.824180337638102, 0.627494633571011, 0.075179951987574, 0.150359903975148, 0.075179951987574, 0.22553985596272202, 0.300719807950296, 0.075179951987574, 0.12555650910039876, 0.06277825455019938, 0.12555650910039876, 0.18833476365059812, 0.06277825455019938, 0.06277825455019938, 0.18833476365059812, 0.06277825455019938, 0.06277825455019938, 0.6529608438749931, 0.8485787154860823, 0.10580922081895776, 0.07053948054597184, 0.07053948054597184, 0.15871383122843666, 0.15871383122843666, 0.12344409095545072, 0.10580922081895776, 0.05290461040947888, 0.10580922081895776, 0.03526974027298592, 0.1267514225313078, 0.0633757112656539, 0.1267514225313078, 0.1267514225313078, 0.1267514225313078, 0.0633757112656539, 0.1267514225313078, 0.09506356689848086, 0.0633757112656539, 0.0633757112656539, 0.6529608548570175, 0.2555008235433479, 0.17033388236223193, 0.17033388236223193, 0.2555008235433479, 0.08516694118111597, 0.6302109298967481, 0.6191548538866817, 0.6191548576888124, 0.11330404469507754, 0.11330404469507754, 0.11330404469507754, 0.11330404469507754, 0.2266080893901551, 0.11330404469507754, 0.05665202234753877, 0.11330404469507754, 0.3079167018788203, 0.6158334037576406, 0.7068966782121515, 0.43685900163914987, 0.4396144732309661, 0.42337931134193496, 0.26264725946138523, 0.26264725946138523, 0.06566181486534631, 0.06566181486534631, 0.06566181486534631, 0.06566181486534631, 0.19698544459603892, 0.06566181486534631, 0.6617475379469175, 0.18246055048479903, 0.12164036698986602, 0.06082018349493301, 0.24328073397973204, 0.06082018349493301, 0.06082018349493301, 0.24328073397973204, 0.06082018349493301, 0.6366314224915334, 0.4786994339361622, 0.11370763025249751, 0.11370763025249751, 0.11370763025249751, 0.3411228907574926, 0.056853815126248756, 0.056853815126248756, 0.056853815126248756, 0.056853815126248756, 0.20326694068477338, 0.10163347034238669, 0.10163347034238669, 0.40653388136954677, 0.20326694068477338, 0.10292853330215186, 0.5146426665107593, 0.20585706660430372, 0.8491685996110775, 0.534395804122817, 0.6469048851347273, 0.8761766893366075, 0.6620538607932442, 0.4408522257173487, 0.4408522257173487, 0.26910587829785376, 0.08970195943261791, 0.2242548985815448, 0.13455293914892688, 0.044850979716308956, 0.044850979716308956, 0.08970195943261791, 0.08970195943261791, 0.08970195943261791, 0.6600839259080656, 0.6771889706912607, 0.6963571070646063, 0.14925060237551743, 0.14925060237551743, 0.14925060237551743, 0.04975020079183914, 0.09950040158367827, 0.19900080316735655, 0.09950040158367827, 0.09950040158367827, 0.04975020079183914, 0.09765293663533893, 0.19530587327067786, 0.2929588099060168, 0.19530587327067786, 0.09765293663533893, 0.6191548621344855, 0.665864840129572, 0.8245986848637414, 0.07482604879592643, 0.14965209759185286, 0.5986083903674114, 0.07482604879592643, 0.07482604879592643, 0.07482604879592643, 0.6620515566651686, 0.7068964243106991, 0.14236473093603974, 0.14236473093603974, 0.4270941928081192, 0.14236473093603974, 0.14236473093603974, 0.6222673424943392, 0.6621779485416244, 0.44648477069255205, 0.22324238534627602, 0.2266124255202982, 0.1133062127601491, 0.1133062127601491, 0.1133062127601491, 0.1133062127601491, 0.33991863828044727, 0.6529609134406966, 0.8183575570990929, 0.5721214827074668, 0.1430303706768667, 0.1430303706768667, 0.1430303706768667, 0.8183577096581757, 0.7190277028652632, 0.1797569257163158, 0.43153991985464807, 0.25122132839413536, 0.5024426567882707, 0.6302109443342816, 0.14404140557334355, 0.02400690092889059, 0.2640759102177965, 0.07202070278667178, 0.2160621083600153, 0.02400690092889059, 0.02400690092889059, 0.12003450464445295, 0.07202070278667178, 0.02400690092889059, 0.10306418333721086, 0.41225673334884344, 0.10306418333721086, 0.10306418333721086, 0.05153209166860543, 0.05153209166860543, 0.05153209166860543, 0.05153209166860543, 0.1289601640654438, 0.0644800820327219, 0.32240041016360954, 0.1289601640654438, 0.1289601640654438, 0.0644800820327219, 0.1934402460981657, 0.7068966878150281, 0.20000967687121862, 0.20000967687121862, 0.10000483843560931, 0.40001935374243724, 0.10000483843560931, 0.10000483843560931, 0.7339430948888185, 0.4161990660135675, 0.40168400011553845, 0.04725694119006335, 0.0945138823801267, 0.07088541178509503, 0.0945138823801267, 0.04725694119006335, 0.11814235297515838, 0.0945138823801267, 0.04725694119006335, 0.023628470595031675, 0.21124049498433362, 0.176033745820278, 0.10562024749216681, 0.10562024749216681, 0.07041349832811121, 0.07041349832811121, 0.07041349832811121, 0.07041349832811121, 0.07041349832811121, 0.035206749164055605, 0.6255235224763054, 0.2085078408254351, 0.8772469698210762, 0.6302109397545534, 0.6222672939217785, 0.8412268065957058, 0.33705659620678446, 0.33705659620678446, 0.3173918093310841, 0.6347836186621681, 0.24456667714658406, 0.12228333857329203, 0.12228333857329203, 0.3668500157198761, 0.6222673012522004, 0.4792658813623039, 0.6222673285540122, 0.42489901548493964, 0.6191548636040882, 0.6620595559253084, 0.2235745302982983, 0.1490496868655322, 0.06387843722808523, 0.08517124963744697, 0.053232031023404354, 0.1490496868655322, 0.021292812409361744, 0.0745248434327661, 0.10646406204680871, 0.0745248434327661, 0.34942210896033643, 0.34942210896033643, 0.7068966829508874, 0.8183577630684004, 0.09712096382341583, 0.06474730921561055, 0.06474730921561055, 0.16186827303902637, 0.06474730921561055, 0.09712096382341583, 0.09712096382341583, 0.1294946184312211, 0.1294946184312211, 0.09712096382341583, 0.622267330959301, 0.16381008956394338, 0.20476261195492923, 0.08190504478197169, 0.08190504478197169, 0.040952522390985846, 0.16381008956394338, 0.040952522390985846, 0.08190504478197169, 0.08190504478197169, 0.44003086366234134, 0.6620579519788016, 0.1965675000367452, 0.0982837500183726, 0.0982837500183726, 0.3931350000734904, 0.0982837500183726, 0.0982837500183726, 0.44572183039965385, 0.6442814473520773, 0.0575121994735248, 0.1150243989470496, 0.0575121994735248, 0.1150243989470496, 0.0575121994735248, 0.287560997367624, 0.0575121994735248, 0.0575121994735248, 0.0575121994735248, 0.2555782921175199, 0.5111565842350398, 0.4439702728911243, 0.11836797414327373, 0.11836797414327373, 0.5918398707163687, 0.11836797414327373, 0.14675301818450734, 0.2935060363690147, 0.44025905455352204, 0.8389309987399457, 0.706896535398846, 0.2517025052754283, 0.5034050105508566, 0.6300139703180725, 0.31500698515903625, 0.7863224989798542, 0.2086788554199985, 0.13911923694666567, 0.3477980923666642, 0.06955961847333283, 0.06955961847333283, 0.06955961847333283, 0.13911923694666567, 0.06955961847333283, 0.23105909018420426, 0.28882386273025534, 0.057764772546051064, 0.11552954509210213, 0.057764772546051064, 0.11552954509210213, 0.057764772546051064, 0.057764772546051064, 0.057764772546051064, 0.31672189150448393, 0.1439644961384018, 0.1439644961384018, 0.08637869768304107, 0.057585798455360715, 0.057585798455360715, 0.08637869768304107, 0.028792899227680357, 0.057585798455360715, 0.028792899227680357, 0.10397416733367633, 0.20794833466735266, 0.10397416733367633, 0.051987083666838164, 0.051987083666838164, 0.10397416733367633, 0.10397416733367633, 0.051987083666838164, 0.1559612510005145, 0.7156443078182404, 0.34668648589724027, 0.34668648589724027, 0.11556216196574676, 0.11556216196574676, 0.6302109707213, 0.6366314129828052, 0.7292439881495273, 0.2638741977047781, 0.5277483954095562, 0.09599300499835174, 0.4799650249917587, 0.09599300499835174, 0.19198600999670348, 0.20980907266139504, 0.2622613408267438, 0.05245226816534876, 0.05245226816534876, 0.05245226816534876, 0.05245226816534876, 0.05245226816534876, 0.20980907266139504, 0.10490453633069752, 0.07953115025149674, 0.07953115025149674, 0.07953115025149674, 0.31812460100598694, 0.2385934507544902, 0.15906230050299347, 0.07953115025149674, 0.07953115025149674, 0.09828232156451373, 0.09828232156451373, 0.2948469646935412, 0.19656464312902747, 0.09828232156451373, 0.09828232156451373, 0.09828232156451373, 0.706896276238688, 0.6612772582935227, 0.11148649259758023, 0.4459459703903209, 0.11148649259758023, 0.11148649259758023, 0.11148649259758023, 0.11148649259758023, 0.6617475479357844, 0.4408404226483069, 0.18795259359027047, 0.18795259359027047, 0.5638577807708114, 0.6455022144973218, 0.5086536078508016, 0.1271634019627004, 0.1271634019627004, 0.1271634019627004, 0.06756316306197757, 0.13512632612395514, 0.2702526522479103, 0.06756316306197757, 0.06756316306197757, 0.06756316306197757, 0.13512632612395514, 0.13512632612395514, 0.3575535018197662, 0.7151070036395324, 0.6192687524188946, 0.6529608953482677, 0.33786673718326504, 0.08446668429581626, 0.08446668429581626, 0.33786673718326504, 0.08446668429581626, 0.14827727597433177, 0.24712879329055296, 0.049425758658110594, 0.09885151731622119, 0.09885151731622119, 0.14827727597433177, 0.09885151731622119, 0.049425758658110594, 0.049425758658110594, 0.049425758658110594, 0.4239440226392047, 0.6239516541292898, 0.6272650284187263, 0.6617475153772159, 0.08658042592814946, 0.08658042592814946, 0.17316085185629893, 0.08658042592814946, 0.34632170371259785, 0.08658042592814946, 0.08658042592814946, 0.08658042592814946, 0.32144890877705856, 0.6428978175541171, 0.2157444781337311, 0.4314889562674622, 0.2157444781337311, 0.21368224593127874, 0.6410467377938363, 0.6254039211523088, 0.3127019605761544, 0.14537593768121337, 0.24229322946868898, 0.048458645893737794, 0.09691729178747559, 0.29075187536242675, 0.09691729178747559, 0.048458645893737794, 0.2577843933432566, 0.5155687866865132, 0.6617475897307434, 0.3200015416650006, 0.6400030833300012, 0.26531130948795, 0.132655654743975, 0.044218551581325, 0.044218551581325, 0.08843710316265, 0.044218551581325, 0.08843710316265, 0.1768742063253, 0.08843710316265, 0.6222673223842122, 0.6321571648139109, 0.44306608627850586, 0.13804170164107774, 0.34510425410269435, 0.13804170164107774, 0.06902085082053887, 0.06902085082053887, 0.06902085082053887, 0.06902085082053887, 0.1607128119345255, 0.1607128119345255, 0.4821384358035765, 0.1607128119345255, 0.4250592895702852, 0.6463498097315755, 0.6173947510884521, 0.24695790043538085, 0.4609408121608706, 0.4609408121608706, 0.2588081135230684, 0.1294040567615342, 0.1294040567615342, 0.2588081135230684, 0.1294040567615342, 0.4338416346858269, 0.6620682077446624, 0.6222672949260818, 0.37297849888235385, 0.37297849888235385, 0.18648924944117692, 0.8950361938135797, 0.060085599852293746, 0.060085599852293746, 0.060085599852293746, 0.08011413313639165, 0.12017119970458749, 0.3204565325455666, 0.1602282662727833, 0.020028533284097913, 0.040057066568195826, 0.10014266642048958, 0.6237323450524531, 0.31186617252622656, 0.6282224798843469, 0.6191548519262614, 0.21715406152125574, 0.21715406152125574, 0.4343081230425115, 0.296670898842265, 0.1483354494211325, 0.296670898842265, 0.66174754802443, 0.14249790640949495, 0.09499860427299664, 0.04749930213649832, 0.18999720854599328, 0.04749930213649832, 0.18999720854599328, 0.14249790640949495, 0.04749930213649832, 0.09499860427299664, 0.09499860427299664, 0.7157630933461133, 0.4397652508632864, 0.209986389671727, 0.419972779343454, 0.209986389671727, 0.829918460718238, 0.10526185535653493, 0.10526185535653493, 0.10526185535653493, 0.10526185535653493, 0.21052371071306986, 0.1754364255942249, 0.07017457023768996, 0.03508728511884498, 0.07017457023768996, 0.03508728511884498, 0.29626464510551015, 0.5925292902110203, 0.08556507313701574, 0.08556507313701574, 0.34226029254806295, 0.08556507313701574, 0.17113014627403147, 0.08556507313701574, 0.08556507313701574, 0.22798500177199849, 0.09770785790228506, 0.1628464298371418, 0.1628464298371418, 0.06513857193485671, 0.09770785790228506, 0.032569285967428356, 0.06513857193485671, 0.032569285967428356, 0.032569285967428356, 0.46917123127889, 0.6222673115787181, 0.10004674692991788, 0.05002337346495894, 0.05002337346495894, 0.20009349385983577, 0.4502103611846305, 0.05002337346495894, 0.05002337346495894, 0.05002337346495894, 0.8183579012869306, 0.13049471256060402, 0.13049471256060402, 0.13049471256060402, 0.13049471256060402, 0.13049471256060402, 0.26098942512120804, 0.6230436570589251, 0.31152182852946253, 0.2734735030711119, 0.07813528659174626, 0.07813528659174626, 0.07813528659174626, 0.03906764329587313, 0.11720292988761939, 0.07813528659174626, 0.03906764329587313, 0.07813528659174626, 0.15627057318349252, 0.18843040563250382, 0.09421520281625191, 0.047107601408125956, 0.09421520281625191, 0.09421520281625191, 0.047107601408125956, 0.047107601408125956, 0.14132280422437785, 0.14132280422437785, 0.14132280422437785, 0.6366314305676553, 0.8396987308635596, 0.16195512680664398, 0.16195512680664398, 0.08097756340332199, 0.08097756340332199, 0.16195512680664398, 0.24293269020996597, 0.7592602772430692, 0.8950360662603899, 0.4287495064038211, 0.6222673205194177, 0.634537119386122, 0.10561911383604067, 0.10561911383604067, 0.03520637127868022, 0.14082548511472087, 0.14082548511472087, 0.14082548511472087, 0.10561911383604067, 0.21123822767208134, 0.03520637127868022, 0.06158859443520392, 0.24635437774081567, 0.24635437774081567, 0.06158859443520392, 0.06158859443520392, 0.06158859443520392, 0.12317718887040784, 0.06158859443520392, 0.06158859443520392, 0.6302109319659953, 0.1321424501408328, 0.1321424501408328, 0.10571396011266625, 0.2642849002816656, 0.07928547008449968, 0.052856980056333124, 0.07928547008449968, 0.026428490028166562, 0.10571396011266625, 0.4244132720145877, 0.4374533755195326, 0.4374533755195326, 0.7068968749830535, 0.8944501784347036, 0.6222673330567564, 0.6191548601248215, 0.2546212307859675, 0.7638636923579024, 0.25593155802396506, 0.5118631160479301, 0.7068969021696627, 0.4514514712303402, 0.09029029424606805, 0.09029029424606805, 0.09029029424606805, 0.09029029424606805, 0.09029029424606805, 0.361168715503562, 0.06566703918246582, 0.03283351959123291, 0.06566703918246582, 0.13133407836493163, 0.06566703918246582, 0.13133407836493163, 0.06566703918246582, 0.06566703918246582, 0.03283351959123291, 0.6617475451961484, 0.44199277186156233, 0.42716187051428683, 0.08543237410285737, 0.2562971223085721, 0.08543237410285737, 0.1441374292874053, 0.1441374292874053, 0.07206871464370265, 0.07206871464370265, 0.07206871464370265, 0.3603435732185133, 0.1441374292874053, 0.08748954054673455, 0.1749790810934691, 0.1312343108201018, 0.043744770273367276, 0.043744770273367276, 0.1749790810934691, 0.08748954054673455, 0.1312343108201018, 0.043744770273367276, 0.08748954054673455, 0.1779825711632488, 0.1779825711632488, 0.5339477134897465, 0.5074109207340823, 0.05247692671886515, 0.2099077068754606, 0.05247692671886515, 0.1049538534377303, 0.15743078015659542, 0.15743078015659542, 0.1049538534377303, 0.1049538534377303, 0.7009453707522271, 0.62192924464964, 0.44219771706293665, 0.41453451968925864, 0.15545044488347198, 0.10363362992231466, 0.05181681496115733, 0.05181681496115733, 0.05181681496115733, 0.05181681496115733, 0.10363362992231466, 0.18510401687690764, 0.06170133895896922, 0.18510401687690764, 0.06170133895896922, 0.12340267791793844, 0.06170133895896922, 0.06170133895896922, 0.06170133895896922, 0.06170133895896922, 0.12340267791793844, 0.41932768426517664, 0.6617475700230173, 0.6643372290660056, 0.3321686145330028, 0.08897970374163687, 0.44489851870818437, 0.08897970374163687, 0.08897970374163687, 0.08897970374163687, 0.08897970374163687, 0.6620681682272705, 0.10741396041448886, 0.10741396041448886, 0.21482792082897773, 0.05370698020724443, 0.37594886145071105, 0.05370698020724443, 0.05370698020724443, 0.440693346702001, 0.24015677077724384, 0.08005225692574794, 0.16010451385149588, 0.08005225692574794, 0.16010451385149588, 0.04002612846287397, 0.12007838538862192, 0.04002612846287397, 0.04002612846287397, 0.15101285833863196, 0.15101285833863196, 0.45303857501589584, 0.6366314181987549, 0.6620680223020491, 0.3486137276983748, 0.1340822029609134, 0.07151050824582048, 0.044694067653637794, 0.11620457589945826, 0.09832694883800315, 0.044694067653637794, 0.06257169471509291, 0.044694067653637794, 0.02681644059218268, 0.8257962673335092, 0.15357277396710228, 0.10238184931140151, 0.10238184931140151, 0.20476369862280303, 0.051190924655700756, 0.051190924655700756, 0.10238184931140151, 0.15357277396710228, 0.051190924655700756, 0.6617476080013779, 0.43630372217863084, 0.06232910316837584, 0.06232910316837584, 0.06232910316837584, 0.06232910316837584, 0.06232910316837584, 0.06232910316837584, 0.12465820633675168, 0.06232910316837584, 0.1998649295075053, 0.1998649295075053, 0.3997298590150106, 0.10032086072931574, 0.10032086072931574, 0.10032086072931574, 0.10032086072931574, 0.401283442917263, 0.10032086072931574, 0.10032086072931574, 0.10032086072931574, 0.6529608647203183, 0.8491686236254772, 0.23448603367657972, 0.23448603367657972, 0.46897206735315944, 0.44101735018101157, 0.7068965967288094, 0.10408233878149728, 0.3122470163444918, 0.05204116939074864, 0.10408233878149728, 0.10408233878149728, 0.05204116939074864, 0.10408233878149728, 0.05204116939074864, 0.05204116939074864, 0.0768865924767892, 0.0768865924767892, 0.1537731849535784, 0.3075463699071568, 0.0768865924767892, 0.0768865924767892, 0.0768865924767892, 0.1537731849535784, 0.6754771090409774, 0.6313037019070838, 0.3156518509535419, 0.08741501034818297, 0.08741501034818297, 0.17483002069636594, 0.08741501034818297, 0.26224503104454894, 0.08741501034818297, 0.08741501034818297, 0.08741501034818297, 0.07903011681884557, 0.2370903504565367, 0.15806023363769114, 0.3161204672753823, 0.07903011681884557, 0.07903011681884557, 0.2866516083762887, 0.13489487453001822, 0.05058557794875683, 0.10117115589751366, 0.033723718632504555, 0.10117115589751366, 0.033723718632504555, 0.033723718632504555, 0.13489487453001822, 0.08430929658126139, 0.6222673319590658, 0.830075687149164, 0.13288662022503814, 0.2657732404500763, 0.13288662022503814, 0.39865986067511444, 0.3245167806512226, 0.2271617464558558, 0.19471006839073354, 0.03245167806512226, 0.06490335613024452, 0.03245167806512226, 0.06490335613024452, 0.03245167806512226, 0.03245167806512226, 0.13427211973694303, 0.13427211973694303, 0.4028163592108291, 0.13427211973694303, 0.2585792699997929, 0.5171585399995858, 0.5507278264895897, 0.14693424654870055, 0.12244520545725046, 0.19591232873160072, 0.07346712327435027, 0.09795616436580036, 0.12244520545725046, 0.04897808218290018, 0.04897808218290018, 0.04897808218290018, 0.09795616436580036, 0.6617475714172336, 0.15323283081678182, 0.15323283081678182, 0.15323283081678182, 0.15323283081678182, 0.30646566163356365, 0.49892375188807075, 0.24946187594403538, 0.8263130575574111, 0.4109549492049355, 0.6734718434732555, 0.37295472765019844, 0.37295472765019844, 0.23000408428982438, 0.23000408428982438, 0.23000408428982438, 0.23000408428982438, 0.8491685706311894, 0.7132754438751432, 0.8258592521588458, 0.2726608667193048, 0.0681652166798262, 0.4771565167587834, 0.2044956500394786, 0.32189954724909275, 0.48284932087363913, 0.16094977362454638, 0.29879533291298227, 0.14939766645649113, 0.14939766645649113, 0.29879533291298227, 0.25511816597261205, 0.5102363319452241, 0.1515432317542426, 0.20205764233899015, 0.05051441058474754, 0.2525720529237377, 0.10102882116949508, 0.05051441058474754, 0.05051441058474754, 0.10102882116949508, 0.10102882116949508, 0.6529608633226518, 0.19461984740780247, 0.19461984740780247, 0.19461984740780247, 0.19461984740780247, 0.15732935618242336, 0.15732935618242336, 0.4719880685472701, 0.15732935618242336, 0.2750417713159239, 0.2750417713159239, 0.2750417713159239, 0.43981109298012716, 0.4208891585988965, 0.14029638619963214, 0.14029638619963214, 0.4398898035575406, 0.2199449017787703, 0.2199449017787703, 0.6366314117008581, 0.6321571710802826, 0.6471981350896684, 0.4974443621112153, 0.1658147873704051, 0.1658147873704051, 0.3725779400668881, 0.031048161672240674, 0.031048161672240674, 0.06209632334448135, 0.09314448501672203, 0.031048161672240674, 0.031048161672240674, 0.06209632334448135, 0.18628897003344405, 0.06209632334448135, 0.17318931282501124, 0.12989198461875845, 0.08659465641250562, 0.08659465641250562, 0.04329732820625281, 0.12989198461875845, 0.12989198461875845, 0.08659465641250562, 0.08659465641250562, 0.08659465641250562, 0.14402331025332663, 0.14402331025332663, 0.43206993075997985, 0.14402331025332663, 0.6191548463328105, 0.6620681758982262, 0.6620681882317577, 0.6703020234289556, 0.440842908970087, 0.440842908970087, 0.7068967409131032, 0.8098453377326547, 0.21079382521104917, 0.1405292168073661, 0.2810584336147322, 0.1405292168073661, 0.07026460840368305, 0.07026460840368305, 0.07026460840368305, 0.07026460840368305, 0.06114942343660578, 0.18344827030981734, 0.06114942343660578, 0.3057471171830289, 0.3057471171830289, 0.06114942343660578, 0.25725623326589453, 0.5145124665317891, 0.25725623326589453, 0.10003094541574982, 0.20006189083149964, 0.10003094541574982, 0.10003094541574982, 0.3000928362472495, 0.3000928362472495, 0.1846695360156142, 0.3693390720312284, 0.1846695360156142, 0.6620681277339274, 0.8950361803144968, 0.18260598191857041, 0.18260598191857041, 0.18260598191857041, 0.060868660639523474, 0.060868660639523474, 0.18260598191857041, 0.060868660639523474, 0.12173732127904695, 0.4189383584319369, 0.20946917921596844, 0.29322143723877486, 0.5864428744775497, 0.44072670613061987, 0.6481289681833752, 0.6248929055849205, 0.6317296551594246, 0.32797126432652784, 0.6559425286530557, 0.2329744931988197, 0.07765816439960657, 0.15531632879921314, 0.07765816439960657, 0.2329744931988197, 0.07765816439960657, 0.2329744931988197, 0.18457515274089237, 0.18457515274089237, 0.18457515274089237, 0.5537254582226772, 0.8950072502673954, 0.445761948276215, 0.4412069197975004, 0.4244662606546435, 0.6222673364877696, 0.3570724759284663, 0.08926811898211658, 0.08926811898211658, 0.08926811898211658, 0.08926811898211658, 0.17853623796423315, 0.17942157550264357, 0.07974292244561937, 0.15948584489123874, 0.09967865305702421, 0.059807191834214526, 0.07974292244561937, 0.059807191834214526, 0.09967865305702421, 0.059807191834214526, 0.11961438366842905, 0.4162057824803403, 0.33828442971489386, 0.33828442971489386, 0.33828442971489386, 0.747480731050134, 0.24916024368337802, 0.11435840635999472, 0.11435840635999472, 0.11435840635999472, 0.3430752190799842, 0.11435840635999472, 0.11435840635999472, 0.11435840635999472, 0.22983051312190786, 0.15322034208127192, 0.15322034208127192, 0.07661017104063596, 0.15322034208127192, 0.07661017104063596, 0.22983051312190786, 0.6529609005835031, 0.7068968143143903, 0.3866369541537618, 0.09665923853844045, 0.04832961926922023, 0.1449888578076607, 0.09665923853844045, 0.04832961926922023, 0.04832961926922023, 0.09665923853844045, 0.04832961926922023, 0.5686274202194144, 0.1421568550548536, 0.1421568550548536, 0.32888690555565697, 0.4933303583334855, 0.3484665892933879, 0.14934282398288054, 0.049780941327626844, 0.14934282398288054, 0.14934282398288054, 0.049780941327626844, 0.049780941327626844, 0.049780941327626844, 0.6366314270141789, 0.2579828847321637, 0.2579828847321637, 0.5159657694643274, 0.4315784469456881, 0.17263137877827522, 0.17263137877827522, 0.08631568938913761, 0.6302109535998148, 0.4340738851191614, 0.8414788751633031, 0.6617475091300055, 0.25953501483758973, 0.5190700296751795, 0.7157978976801278, 0.8183287058237659, 0.6191548497147676, 0.07550144507071756, 0.07550144507071756, 0.3775072253535878, 0.07550144507071756, 0.07550144507071756, 0.15100289014143511, 0.07550144507071756, 0.16163252056150246, 0.3232650411230049, 0.40408130140375614, 0.849168611483161, 0.8491685935381158, 0.1785049082694734, 0.14280392661557872, 0.14280392661557872, 0.10710294496168404, 0.03570098165389468, 0.07140196330778936, 0.07140196330778936, 0.10710294496168404, 0.14280392661557872, 0.03570098165389468, 0.2547660963212856, 0.0636915240803214, 0.0955372861204821, 0.1273830481606428, 0.0318457620401607, 0.0636915240803214, 0.0636915240803214, 0.1273830481606428, 0.1273830481606428, 0.0636915240803214, 0.10643949792433806, 0.10643949792433806, 0.21287899584867612, 0.21287899584867612, 0.10643949792433806, 0.21287899584867612, 0.14884129005657692, 0.11907303204526154, 0.11907303204526154, 0.05953651602263077, 0.11907303204526154, 0.05953651602263077, 0.029768258011315385, 0.11907303204526154, 0.08930477403394615, 0.11907303204526154, 0.6621870735807001, 0.13415167039044296, 0.13415167039044296, 0.2683033407808859, 0.08943444692696197, 0.08943444692696197, 0.08943444692696197, 0.08943444692696197, 0.04471722346348098, 0.19758988215456177, 0.06586329405152058, 0.19758988215456177, 0.13172658810304116, 0.06586329405152058, 0.32931647025760297, 0.06586329405152058, 0.6364086968726934, 0.6222673560287796, 0.7315274905606051, 0.2194515700320778, 0.2194515700320778, 0.4389031400641556, 0.8251982644199406, 0.1830433997865688, 0.1830433997865688, 0.1830433997865688, 0.3660867995731376, 0.1830433997865688, 0.6302109413038158, 0.6222673206148263, 0.12298706608277393, 0.12298706608277393, 0.24597413216554787, 0.12298706608277393, 0.12298706608277393, 0.24597413216554787, 0.685897019438977, 0.3902113217851744, 0.15608452871406978, 0.039021132178517444, 0.039021132178517444, 0.11706339653555232, 0.07804226435703489, 0.039021132178517444, 0.07804226435703489, 0.039021132178517444, 0.039021132178517444, 0.6825212794951564, 0.13650425589903128, 0.12727950805692603, 0.3818385241707781, 0.25455901611385207, 0.25467175950006465, 0.5093435190001293, 0.25467175950006465, 0.6695131013912584, 0.22317103379708614, 0.30952007482224037, 0.08441456586061101, 0.11255275448081467, 0.08441456586061101, 0.08441456586061101, 0.056276377240407335, 0.056276377240407335, 0.11255275448081467, 0.08441456586061101, 0.028138188620203668, 0.24693704711514672, 0.24693704711514672, 0.49387409423029344, 0.37721311810230246, 0.18860655905115123, 0.18860655905115123, 0.3400671617398934, 0.11335572057996447, 0.056677860289982236, 0.056677860289982236, 0.22671144115992894, 0.056677860289982236, 0.056677860289982236, 0.11335572057996447, 0.056677860289982236, 0.4236910016794139, 0.1691061019624905, 0.21138262745311312, 0.12682957647186788, 0.08455305098124526, 0.04227652549062263, 0.04227652549062263, 0.04227652549062263, 0.1691061019624905, 0.04227652549062263, 0.04227652549062263, 0.4173484997940062, 0.48638251187308296, 0.19455300474923318, 0.09727650237461659, 0.09727650237461659, 0.09727650237461659, 0.09727650237461659, 0.15145892198050373, 0.30291784396100746, 0.30291784396100746, 0.21967089391573164, 0.14644726261048777, 0.07322363130524388, 0.14644726261048777, 0.1830590782631097, 0.03661181565262194, 0.07322363130524388, 0.03661181565262194, 0.07322363130524388, 0.07322363130524388, 0.3256211809625517, 0.3256211809625517, 0.44462474056631124, 0.8356607424383397, 0.6529608690964632, 0.14079612902539704, 0.14079612902539704, 0.14079612902539704, 0.42238838707619114, 0.14079612902539704, 0.6617475750729297, 0.6351406469167225, 0.220714872367481, 0.17657189789398478, 0.044142974473496195, 0.08828594894699239, 0.1324289234204886, 0.044142974473496195, 0.17657189789398478, 0.08828594894699239, 0.12199781169417948, 0.06099890584708974, 0.03049945292354487, 0.33549398215899356, 0.0914983587706346, 0.0914983587706346, 0.0914983587706346, 0.0914983587706346, 0.06099890584708974, 0.44453162365488647, 0.6302109479234255, 0.6366314216480522, 0.7068966719285595, 0.699599144429047, 0.6720436595867173, 0.33602182979335865, 0.16318258535083696, 0.12238693901312772, 0.14278476218198233, 0.1019891158442731, 0.1019891158442731, 0.08159129267541848, 0.1019891158442731, 0.06119346950656386, 0.08159129267541848, 0.06119346950656386, 0.11458989341926205, 0.09821990864508176, 0.13095987819344235, 0.16369984774180293, 0.06547993909672117, 0.08184992387090147, 0.09821990864508176, 0.08184992387090147, 0.08184992387090147, 0.04910995432254088, 0.4324465065685951, 0.354875676022332, 0.0709751352044664, 0.0709751352044664, 0.0709751352044664, 0.2839005408178656, 0.0709751352044664, 0.0709751352044664, 0.0709751352044664, 0.6617475890723782, 0.5254225175932955, 0.26271125879664775, 0.7134038129261159, 0.630210944907094, 0.6620681977469096, 0.4131729746019632, 0.6302109672759294, 0.21390508577990075, 0.4278101715598015, 0.32466388675226704, 0.6493277735045341, 0.1475097924657228, 0.1475097924657228, 0.1475097924657228, 0.2950195849314456, 0.1475097924657228, 0.6653361627386509, 0.22177872091288364, 0.626683360961221, 0.39946602871664744, 0.07989320574332949, 0.11983980861499423, 0.039946602871664745, 0.039946602871664745, 0.039946602871664745, 0.07989320574332949, 0.15978641148665898, 0.039946602871664745, 0.6143224332496753, 0.6304038355000615, 0.31520191775003076, 0.6269797617415481, 0.42458136055385926, 0.6354206300148173, 0.31771031500740865, 0.6303210844726846, 0.3151605422363423, 0.6620682322895541, 0.8257501210599726, 0.41916672634352015, 0.3131534371686559, 0.03479482635207288, 0.1739741317603644, 0.06958965270414576, 0.06958965270414576, 0.13917930540829151, 0.03479482635207288, 0.03479482635207288, 0.06958965270414576, 0.03479482635207288, 0.04179627411465146, 0.3761664670318632, 0.04179627411465146, 0.16718509645860585, 0.08359254822930293, 0.08359254822930293, 0.1253888223439544, 0.04179627411465146, 0.04179627411465146, 0.18929306240503155, 0.1081674642314466, 0.18929306240503155, 0.02704186605786165, 0.1081674642314466, 0.0540837321157233, 0.1081674642314466, 0.08112559817358495, 0.02704186605786165, 0.13520933028930823, 0.7171004648065913, 0.6621677109145088, 0.5194247895867131, 0.25971239479335656, 0.11399540779774697, 0.11399540779774697, 0.22799081559549395, 0.056997703898873486, 0.11399540779774697, 0.17099311169662046, 0.056997703898873486, 0.17099311169662046, 0.056997703898873486, 0.6163743114994177, 0.25661261247693756, 0.5132252249538751, 0.9069592477706072, 0.44127688966954387, 0.19210366888857092, 0.09605183444428546, 0.25613822518476126, 0.09605183444428546, 0.03201727814809516, 0.12806911259238063, 0.06403455629619031, 0.09605183444428546, 0.03201727814809516, 0.03201727814809516, 0.31376089120108985, 0.6275217824021797, 0.7068966539938688, 0.13163191672986554, 0.09872393754739917, 0.09872393754739917, 0.06581595836493277, 0.09872393754739917, 0.13163191672986554, 0.032907979182466386, 0.13163191672986554, 0.06581595836493277, 0.16453989591233195, 0.06314350069982635, 0.1262870013996527, 0.18943050209947906, 0.37886100419895813, 0.1262870013996527, 0.06314350069982635, 0.2375710517650336, 0.16969360840359543, 0.03393872168071908, 0.06787744336143817, 0.10181616504215725, 0.06787744336143817, 0.13575488672287633, 0.06787744336143817, 0.06787744336143817, 0.03393872168071908, 0.3290001473545151, 0.12337505525794316, 0.08225003683862878, 0.08225003683862878, 0.08225003683862878, 0.08225003683862878, 0.08225003683862878, 0.08225003683862878, 0.04112501841931439, 0.04112501841931439, 0.3236152712837207, 0.3236152712837207, 0.19435349007150673, 0.09717674503575337, 0.2915302351072601, 0.09717674503575337, 0.2915302351072601, 0.09717674503575337, 0.6202353447461709, 0.636406972527476, 0.6617475055840997, 0.841226821320651, 0.538661222696399, 0.17955374089879966, 0.3044941781845626, 0.13049750493624113, 0.08699833662416075, 0.21749584156040186, 0.08699833662416075, 0.04349916831208037, 0.04349916831208037, 0.04349916831208037, 0.04349916831208037, 0.04349916831208037, 0.07450589126874231, 0.26077061944059804, 0.07450589126874231, 0.26077061944059804, 0.037252945634371155, 0.11175883690311346, 0.07450589126874231, 0.037252945634371155, 0.07450589126874231, 0.42377658884481634, 0.1412588629482721, 0.1412588629482721, 0.1412588629482721, 0.02312864635971177, 0.27754375631654127, 0.09251458543884708, 0.09251458543884708, 0.18502917087769416, 0.04625729271942354, 0.06938593907913532, 0.04625729271942354, 0.06938593907913532, 0.09251458543884708, 0.6743742485754277, 0.22479141619180923, 0.7163457621020302, 0.46643080770817497, 0.155476935902725, 0.31095387180545, 0.3272299165062423, 0.6544598330124846, 0.07051261600610327, 0.14102523201220654, 0.14102523201220654, 0.07051261600610327, 0.07051261600610327, 0.2115378480183098, 0.07051261600610327, 0.07051261600610327, 0.07051261600610327, 0.07051261600610327, 0.2388483653751552, 0.18577095084734294, 0.1592322435834368, 0.02653870726390613, 0.05307741452781226, 0.02653870726390613, 0.0796161217917184, 0.02653870726390613, 0.10615482905562452, 0.0796161217917184, 0.11268165756950801, 0.05634082878475401, 0.11268165756950801, 0.11268165756950801, 0.05634082878475401, 0.22536331513901603, 0.11268165756950801, 0.05634082878475401, 0.05634082878475401, 0.11268165756950801, 0.20432192611866992, 0.12259315567120195, 0.16345754089493594, 0.08172877044746797, 0.12259315567120195, 0.040864385223733986, 0.040864385223733986, 0.040864385223733986, 0.12259315567120195, 0.12406974913648017, 0.12406974913648017, 0.0744418494818881, 0.2233255484456643, 0.09925579930918413, 0.12406974913648017, 0.0744418494818881, 0.0744418494818881, 0.024813949827296032, 0.0744418494818881, 0.42769511979680075, 0.6302109523830329, 0.42896960091991826, 0.6302109210770671], \"Term\": [\"abuse\", \"abuse\", \"abuse\", \"abuse\", \"aca\", \"accc\", \"accident\", \"accident\", \"accident\", \"acdt\", \"action\", \"action\", \"action\", \"action\", \"action\", \"action\", \"action\", \"action\", \"action\", \"adam\", \"adams\", \"address\", \"address\", \"address\", \"administrators\", \"administrators\", \"administrators\", \"adolfo\", \"afghanistan\", \"afghanistan\", \"afghanistan\", \"afghanistan\", \"afghanistan\", \"afghanistan\", \"afghanistan\", \"afghanistan\", \"afghanistan\", \"agencies\", \"agencies\", \"agreement\", \"agreement\", \"agreement\", \"agreement\", \"agreement\", \"agreement\", \"agreement\", \"agreement\", \"ahmad\", \"aircraft\", \"aircraft\", \"aircraft\", \"aircraft\", \"aircraft\", \"aircraft\", \"aircraft\", \"aircraft\", \"airline\", \"airline\", \"airline\", \"airline\", \"airline\", \"airlines\", \"airlines\", \"airlines\", \"airlines\", \"airlines\", \"airspace\", \"alleges\", \"amalgamation\", \"analysis\", \"announce\", \"antibiotics\", \"arab\", \"arafat\", \"arafat\", \"arafat\", \"arafat\", \"arafat\", \"arafat\", \"arafat\", \"arafat\", \"arafat\", \"arbitration\", \"area\", \"area\", \"area\", \"area\", \"area\", \"area\", \"area\", \"area\", \"area\", \"area\", \"areas\", \"areas\", \"areas\", \"areas\", \"areas\", \"areas\", \"areas\", \"areas\", \"areas\", \"areas\", \"assa_abloy\", \"assa_abloy\", \"astronauts\", \"atlanta\", \"attack\", \"attack\", \"attack\", \"attack\", \"attack\", \"attack\", \"attack\", \"attack\", \"attack\", \"attack\", \"attacks\", \"attacks\", \"attacks\", \"attacks\", \"attacks\", \"attacks\", \"attacks\", \"attacks\", \"attacks\", \"attacks\", \"attendants\", \"attendants\", \"austar\", \"austar\", \"australia\", \"australia\", \"australia\", \"australia\", \"australia\", \"australia\", \"australia\", \"australia\", \"australia\", \"australia\", \"australians\", \"australians\", \"australians\", \"australians\", \"australians\", \"australians\", \"australians\", \"australians\", \"authorities\", \"authorities\", \"authorities\", \"authorities\", \"authorities\", \"authorities\", \"authorities\", \"authorities\", \"authorities\", \"authorities\", \"authority\", \"authority\", \"authority\", \"authority\", \"authority\", \"authority\", \"authority\", \"authority\", \"authority\", \"bacteria\", \"badtrans\", \"bail\", \"baker\", \"balls\", \"balls\", \"balls\", \"balls\", \"balmer\", \"balmer\", \"bank\", \"bank\", \"bank\", \"battlefield\", \"belgium\", \"benefits\", \"bill\", \"bill\", \"bill\", \"bill\", \"bill\", \"bitumen\", \"blue\", \"blue_mountains\", \"blue_mountains\", \"blue_mountains\", \"boat\", \"boat\", \"boat\", \"boat\", \"boat\", \"boje\", \"boston\", \"boston\", \"bowling\", \"bowling\", \"bowling\", \"boxes\", \"boxing_day\", \"boxing_day\", \"boxing_day\", \"boxing_day\", \"boy\", \"boy\", \"boy\", \"boy\", \"bradstreet\", \"brain\", \"brain\", \"buchanan\", \"businesses\", \"butler\", \"bypass\", \"cahill\", \"cairns\", \"california\", \"camp\", \"campaigns\", \"campbell\", \"cancer\", \"cancer\", \"cancer\", \"cancer\", \"cancer\", \"cancer\", \"car\", \"car\", \"car\", \"car\", \"car\", \"cards\", \"carmen\", \"carr\", \"casinos\", \"ceasefire\", \"cemeteries\", \"center\", \"centre\", \"centre\", \"centre\", \"centre\", \"centre\", \"centre\", \"centre\", \"centre\", \"centre\", \"centre\", \"cessnock\", \"chairmen\", \"chechen\", \"chechen\", \"chechen\", \"checks\", \"chemical\", \"children\", \"children\", \"children\", \"children\", \"children\", \"children\", \"children\", \"children\", \"children\", \"cigarettes\", \"city\", \"city\", \"city\", \"city\", \"city\", \"city\", \"city\", \"city\", \"city\", \"city\", \"claims\", \"claims\", \"claims\", \"claims\", \"claims\", \"claims\", \"claims\", \"claims\", \"claims\", \"claims\", \"clap\", \"class\", \"club\", \"club\", \"club\", \"coal\", \"coalition\", \"coalition\", \"coalition\", \"coercion\", \"commander\", \"commander\", \"commander\", \"commander\", \"commander\", \"commander\", \"commission\", \"commission\", \"commission\", \"commission\", \"commission\", \"commission\", \"commission\", \"commission\", \"commission\", \"commission\", \"commonwealth\", \"commonwealth\", \"commonwealth\", \"commonwealth\", \"commonwealth\", \"commonwealth\", \"commonwealth\", \"commonwealth\", \"communications\", \"communications\", \"company\", \"company\", \"company\", \"company\", \"company\", \"company\", \"company\", \"company\", \"company\", \"company\", \"competitiveness\", \"comply\", \"computer\", \"computers\", \"conditions\", \"conditions\", \"conditions\", \"conditions\", \"conditions\", \"conditions\", \"conference\", \"conference\", \"conference\", \"conference\", \"conference\", \"conference\", \"confusion\", \"control\", \"control\", \"control\", \"control\", \"control\", \"control\", \"control\", \"control\", \"control\", \"control\", \"convince\", \"coordination\", \"coroner\", \"coroner\", \"cosgrove\", \"council\", \"council\", \"council\", \"council\", \"council\", \"council\", \"council\", \"countries\", \"countries\", \"countries\", \"countries\", \"countries\", \"countries\", \"countries\", \"court\", \"court\", \"court\", \"court\", \"court\", \"court\", \"court\", \"court\", \"court\", \"court\", \"cow\", \"cow\", \"crash\", \"crash\", \"crash\", \"crash\", \"cricket\", \"cricket\", \"cricket\", \"cricket\", \"cricket\", \"cricket\", \"cricket\", \"crimes\", \"crimes\", \"crush\", \"culbertson\", \"cup\", \"cup\", \"cup\", \"cup\", \"cup\", \"cup\", \"damage\", \"damage\", \"damage\", \"damage\", \"damage\", \"damage\", \"damage\", \"damage\", \"damage\", \"daniel\", \"darren\", \"day\", \"day\", \"day\", \"day\", \"day\", \"day\", \"day\", \"day\", \"day\", \"day\", \"days\", \"days\", \"days\", \"days\", \"days\", \"days\", \"days\", \"days\", \"days\", \"days\", \"deals\", \"deaths\", \"deaths\", \"deaths\", \"deaths\", \"deaths\", \"declare\", \"defector\", \"defectors\", \"defence\", \"defence\", \"defence\", \"defence\", \"defence\", \"defence\", \"defence\", \"defence\", \"defendants\", \"defendants\", \"delegates\", \"demonstrations\", \"demonstrators\", \"dennehy\", \"department\", \"department\", \"department\", \"department\", \"department\", \"department\", \"department\", \"department\", \"deportation\", \"detainees\", \"detainees\", \"detainees\", \"detainees\", \"detainees\", \"detainees\", \"detainees\", \"detainees\", \"deterrents\", \"dfat\", \"director\", \"director\", \"director\", \"director\", \"director\", \"director\", \"director\", \"director\", \"directors\", \"directors\", \"directors\", \"directors\", \"directors\", \"dispute\", \"dispute\", \"dispute\", \"dixon\", \"dominance\", \"draft\", \"drug\", \"dun\", \"earthquake\", \"earthquake\", \"economy\", \"economy\", \"economy\", \"economy\", \"economy\", \"economy\", \"economy\", \"economy\", \"economy\", \"email\", \"emissions\", \"encourage\", \"end\", \"end\", \"end\", \"end\", \"end\", \"end\", \"end\", \"end\", \"end\", \"energy\", \"energy\", \"energy\", \"energy\", \"energy\", \"engineer\", \"engines\", \"escalate\", \"event\", \"event\", \"event\", \"event\", \"event\", \"event\", \"expectations\", \"explosion\", \"explosives\", \"explosives\", \"explosives\", \"explosives\", \"explosives\", \"extinguishment\", \"extremist\", \"facilities\", \"facilities\", \"facility\", \"facility\", \"facility\", \"facility\", \"facility\", \"facility\", \"faction\", \"factories\", \"factory\", \"factory\", \"factory\", \"factory\", \"farmer\", \"farmers\", \"farmers\", \"fazalur\", \"federation\", \"federation\", \"ferocity\", \"fire\", \"fire\", \"fire\", \"fire\", \"fire\", \"fire\", \"fire\", \"fire\", \"fire\", \"fire\", \"firefighters\", \"firefighters\", \"firefighters\", \"firefighters\", \"firefighters\", \"firefighters\", \"firefighters\", \"firefighters\", \"fires\", \"fires\", \"fires\", \"fires\", \"fires\", \"fires\", \"fires\", \"flanders\", \"flights\", \"flights\", \"flights\", \"flights\", \"flights\", \"flights\", \"flood\", \"floors\", \"force\", \"force\", \"force\", \"force\", \"force\", \"force\", \"force\", \"force\", \"force\", \"force\", \"forces\", \"forces\", \"forces\", \"forces\", \"forces\", \"forces\", \"forces\", \"forces\", \"forces\", \"forces\", \"francs\", \"francs\", \"franklin\", \"freight\", \"fremantle\", \"friedli\", \"gabriel\", \"gabriel\", \"gambier\", \"gambier\", \"game\", \"game\", \"game\", \"game\", \"generations\", \"gerber\", \"gestures\", \"gift\", \"goodness\", \"goods\", \"government\", \"government\", \"government\", \"government\", \"government\", \"government\", \"government\", \"government\", \"government\", \"government\", \"grant\", \"grant\", \"graves\", \"greens\", \"group\", \"group\", \"group\", \"group\", \"group\", \"group\", \"group\", \"group\", \"group\", \"group\", \"groupings\", \"groups\", \"groups\", \"groups\", \"groups\", \"groups\", \"groups\", \"groups\", \"groups\", \"groups\", \"gschwind\", \"gst\", \"guides\", \"guides\", \"guides\", \"guides\", \"guides\", \"guides\", \"gutnick\", \"habeel\", \"hamas\", \"hamas\", \"hamas\", \"hamas\", \"hamas\", \"hamas\", \"hamas\", \"hamas\", \"hamas\", \"hass\", \"hass\", \"hawkesbury\", \"hewitt\", \"hewitt\", \"hewitt\", \"hewitt\", \"highway\", \"highway\", \"highway\", \"hijackings\", \"hilton\", \"hit\", \"hit\", \"hiv\", \"hiv\", \"homeless\", \"homes\", \"homes\", \"homes\", \"homes\", \"homes\", \"homes\", \"homes\", \"homes\", \"hospital\", \"hospital\", \"hospital\", \"hospital\", \"hospital\", \"hospital\", \"hospital\", \"hospital\", \"hospital\", \"hours\", \"hours\", \"hours\", \"hours\", \"hours\", \"hours\", \"hours\", \"hours\", \"hours\", \"hours\", \"house\", \"house\", \"house\", \"house\", \"house\", \"house\", \"house\", \"house\", \"house\", \"householders\", \"howard\", \"howard\", \"howard\", \"howard\", \"hurstville\", \"incentives\", \"incursions\", \"independence\", \"independence\", \"industrial_action\", \"industrial_action\", \"industrial_action\", \"industrial_action\", \"information\", \"information\", \"information\", \"information\", \"information\", \"information\", \"information\", \"information\", \"information\", \"innings\", \"innings\", \"innings\", \"innings\", \"innings\", \"innings\", \"innings\", \"innings\", \"inquiry\", \"inquiry\", \"inquiry\", \"inquiry\", \"inquiry\", \"inquiry\", \"inquiry\", \"installations\", \"institute\", \"intelligence\", \"intelligence\", \"intelligence\", \"intelligence\", \"intelligence\", \"intelligence\", \"interruptions\", \"intervene\", \"investment\", \"investment\", \"investment\", \"islam\", \"israelis\", \"israelis\", \"israelis\", \"israelis\", \"issue\", \"issue\", \"issue\", \"issue\", \"issue\", \"issue\", \"issue\", \"issue\", \"jackson\", \"jackson\", \"jan\", \"jefferson\", \"job\", \"job\", \"job\", \"job\", \"job\", \"john\", \"john\", \"john\", \"john\", \"john\", \"john\", \"john\", \"john\", \"john\", \"john\", \"jones\", \"journey\", \"jovi\", \"judges\", \"justice\", \"justice\", \"justice\", \"justice\", \"justice\", \"justice\", \"justice\", \"justice\", \"justin\", \"justin\", \"key\", \"key\", \"key\", \"kieren\", \"kieren\", \"know\", \"know\", \"labor\", \"labor\", \"labor\", \"labor\", \"labor\", \"labor\", \"labor\", \"langer\", \"langer\", \"latrobe\", \"launceston\", \"launceston\", \"leaders\", \"leaders\", \"leaders\", \"leaders\", \"leaders\", \"leaders\", \"leaders\", \"leaders\", \"leaders\", \"liberals\", \"lieutenant\", \"lindsay\", \"line\", \"line\", \"line\", \"line\", \"line\", \"line\", \"line\", \"lines\", \"lines\", \"lines\", \"lines\", \"links\", \"lleyton\", \"lockett\", \"lockett\", \"luggage\", \"luggage\", \"macgill\", \"macgill\", \"macgill\", \"macgill\", \"macgill\", \"magistrate\", \"magna\", \"maintaining\", \"maintenance\", \"maintenance\", \"maintenance\", \"maker\", \"man\", \"man\", \"man\", \"man\", \"man\", \"man\", \"man\", \"man\", \"man\", \"man\", \"managers\", \"managers\", \"maneuver\", \"manufacture\", \"marines\", \"marines\", \"marines\", \"markets\", \"markets\", \"markets\", \"massacre\", \"match\", \"match\", \"match\", \"match\", \"match\", \"match\", \"match\", \"match\", \"match\", \"match\", \"mcafee\", \"mcgauran\", \"mcgrath\", \"mcgrath\", \"mcgrath\", \"mcmenamin\", \"meeting\", \"meeting\", \"meeting\", \"meeting\", \"meeting\", \"meeting\", \"meeting\", \"meeting\", \"meeting\", \"meeting\", \"megawati\", \"megawati\", \"melbourne\", \"melbourne\", \"melbourne\", \"melbourne\", \"melbourne\", \"melbourne\", \"melbourne\", \"members\", \"members\", \"members\", \"members\", \"members\", \"members\", \"members\", \"members\", \"members\", \"members\", \"memphis\", \"merger\", \"metres\", \"metres\", \"metres\", \"metres\", \"metres\", \"metres\", \"metres\", \"metres\", \"metres_butterfly\", \"middle_east\", \"middle_east\", \"middle_east\", \"middle_east\", \"middle_east\", \"middle_east\", \"miles\", \"miles\", \"militants\", \"militants\", \"militants\", \"militants\", \"militants\", \"militants\", \"militants\", \"militants\", \"militants\", \"militants\", \"minister\", \"minister\", \"minister\", \"minister\", \"minister\", \"minister\", \"minister\", \"minister\", \"minister\", \"minister\", \"misconduct\", \"missile\", \"mission\", \"mission\", \"mission\", \"mission\", \"mission\", \"mission\", \"mistakes\", \"mitsubishi\", \"mohamad\", \"momentum\", \"monarchy\", \"month\", \"month\", \"month\", \"month\", \"month\", \"month\", \"month\", \"month\", \"month\", \"months\", \"months\", \"months\", \"months\", \"months\", \"months\", \"months\", \"months\", \"months\", \"mop\", \"morning\", \"morning\", \"morning\", \"morning\", \"morning\", \"morning\", \"morning\", \"morning\", \"morning\", \"moses\", \"motorists\", \"motorists\", \"motorway\", \"murders\", \"muscle\", \"muttahida\", \"nail\", \"nail\", \"new_delhi\", \"new_delhi\", \"next_year\", \"northern_alliance\", \"northern_alliance\", \"northern_alliance\", \"northern_alliance\", \"northern_alliance\", \"northern_alliance\", \"number\", \"number\", \"number\", \"number\", \"number\", \"number\", \"number\", \"number\", \"number\", \"number\", \"nuns\", \"offence\", \"offer\", \"offer\", \"offer\", \"offer\", \"officers\", \"officers\", \"officers\", \"officers\", \"officers\", \"officers\", \"officers\", \"officials\", \"officials\", \"officials\", \"officials\", \"officials\", \"officials\", \"officials\", \"officials\", \"officials\", \"officials\", \"oil\", \"oil\", \"oil\", \"opportunity\", \"opposition\", \"opposition\", \"opposition\", \"opposition\", \"opposition\", \"opposition\", \"opposition\", \"opposition\", \"optimism\", \"option\", \"owen\", \"pakistan\", \"pakistan\", \"pakistan\", \"pakistan\", \"pakistan\", \"pakistan\", \"pakistan\", \"pakistan\", \"palestinians\", \"palestinians\", \"palestinians\", \"palestinians\", \"palestinians\", \"palestinians\", \"palestinians\", \"palestinians\", \"palestinians\", \"palestinians\", \"palmerston\", \"palos\", \"panel\", \"panel\", \"parliament\", \"parliament\", \"parliament\", \"parliament\", \"parliament\", \"parliament\", \"parore\", \"party\", \"party\", \"party\", \"party\", \"party\", \"party\", \"party\", \"pawlik\", \"peace\", \"peace\", \"peace\", \"peace\", \"peace\", \"peace\", \"peace\", \"peace\", \"peace\", \"peacekeepers\", \"peacekeepers\", \"peacekeepers\", \"penguins\", \"pensions\", \"people\", \"people\", \"people\", \"people\", \"people\", \"people\", \"people\", \"people\", \"people\", \"people\", \"people_including\", \"per_cent\", \"per_cent\", \"per_cent\", \"per_cent\", \"per_cent\", \"per_cent\", \"per_cent\", \"per_cent\", \"per_cent\", \"persecution\", \"person\", \"person\", \"person\", \"person\", \"person\", \"person\", \"person\", \"person\", \"person\", \"personnel\", \"personnel\", \"personnel\", \"perth\", \"perth\", \"perth\", \"perth\", \"perth\", \"perth\", \"perth\", \"perth\", \"petithory\", \"phillip\", \"phillips\", \"phillips\", \"phillips\", \"picton\", \"pilkem\", \"place\", \"place\", \"place\", \"place\", \"place\", \"place\", \"place\", \"place\", \"place\", \"plane\", \"plane\", \"plane\", \"plane\", \"plane\", \"plane\", \"plane\", \"plane\", \"plant\", \"plants\", \"plants\", \"play\", \"play\", \"play\", \"play\", \"play\", \"play\", \"play\", \"play\", \"point\", \"point\", \"point\", \"point\", \"point\", \"point\", \"police\", \"police\", \"police\", \"police\", \"police\", \"police\", \"police\", \"police\", \"police\", \"police\", \"polls\", \"potts\", \"powell\", \"powell\", \"powell\", \"powell\", \"power\", \"power\", \"power\", \"power\", \"power\", \"power\", \"power\", \"power\", \"power\", \"powers\", \"powers\", \"powers\", \"powers\", \"practices\", \"practices\", \"pre\", \"president\", \"president\", \"president\", \"president\", \"president\", \"president\", \"president\", \"president\", \"president\", \"president\", \"priests\", \"problems\", \"problems\", \"problems\", \"problems\", \"problems\", \"procedure\", \"procedure\", \"proceed\", \"producer\", \"projections\", \"projects\", \"projects\", \"proposal\", \"proposal\", \"proposal\", \"proposal\", \"prosecution\", \"prostitutes\", \"provisions\", \"qantas\", \"qantas\", \"qantas\", \"qantas\", \"qantas_maintenance\", \"qantas_maintenance\", \"qantas_maintenance\", \"questions\", \"questions\", \"questions\", \"questions\", \"races\", \"races\", \"radio\", \"radio\", \"radio\", \"radio\", \"radio\", \"radio\", \"radio\", \"radio\", \"radio\", \"ramadan\", \"rates\", \"rates\", \"rates\", \"rates\", \"ray\", \"ray\", \"ray\", \"ray\", \"razzano\", \"razzano\", \"razzano\", \"reactor\", \"record\", \"record\", \"record\", \"redundancy\", \"redundancy\", \"redundancy\", \"referee\", \"regiment\", \"rehman\", \"reid\", \"reid\", \"reid\", \"report\", \"report\", \"report\", \"report\", \"report\", \"report\", \"report\", \"report\", \"report\", \"report\", \"reports\", \"reports\", \"reports\", \"reports\", \"reports\", \"reports\", \"reports\", \"reports\", \"reports\", \"reports\", \"research\", \"research\", \"research\", \"research\", \"residency\", \"retains\", \"retirees\", \"rfds\", \"richter\", \"richter\", \"ridge\", \"rink\", \"risk\", \"risk\", \"risk\", \"risk\", \"risk\", \"risk\", \"risk\", \"risk\", \"river\", \"river\", \"river\", \"river\", \"river\", \"river\", \"river_gorge\", \"river_gorge\", \"river_gorge\", \"road\", \"road\", \"road\", \"road\", \"road\", \"road\", \"roads\", \"roads\", \"roads\", \"robinson\", \"rodriguez\", \"role\", \"role\", \"role\", \"role\", \"role\", \"role\", \"role\", \"role\", \"round\", \"round\", \"route\", \"route\", \"routes\", \"rudd\", \"ruddock\", \"ruling\", \"saa\", \"saa\", \"safety\", \"safety\", \"safety\", \"safety\", \"safety\", \"safety\", \"safety\", \"safety_bureau\", \"safety_bureau\", \"safety_bureau\", \"safety_bureau\", \"sales\", \"sand\", \"schneiders\", \"seconds\", \"sections\", \"sector\", \"sector\", \"sector\", \"sector\", \"sector\", \"sector\", \"security\", \"security\", \"security\", \"security\", \"security\", \"security\", \"security\", \"security\", \"security\", \"security\", \"segment\", \"seles\", \"seles\", \"seles\", \"senate\", \"senate\", \"sentence\", \"sentence\", \"sentence\", \"sentence\", \"sentence\", \"sentence\", \"sentence\", \"september\", \"september\", \"september\", \"september\", \"september\", \"september\", \"september\", \"sergeant\", \"servicemen\", \"services\", \"services\", \"services\", \"services\", \"services\", \"services\", \"services\", \"services\", \"services\", \"ses\", \"ses\", \"ses\", \"sex\", \"sex\", \"sharon\", \"sharon\", \"sharon\", \"sharon\", \"sharon\", \"sharon\", \"sharon\", \"sharon\", \"ships\", \"shuttle\", \"shuttle\", \"shuttle\", \"side\", \"side\", \"side\", \"side\", \"signals\", \"singh\", \"skills\", \"smell\", \"soccer\", \"soccer\", \"software\", \"songs\", \"sorts\", \"south_africa\", \"south_africa\", \"south_africa\", \"south_africa\", \"south_africa\", \"south_africa\", \"south_africa\", \"space\", \"space\", \"space\", \"spill\", \"spills\", \"spokesman\", \"spokesman\", \"spokesman\", \"spokesman\", \"spokesman\", \"spokesman\", \"spokesman\", \"spokesman\", \"spokesman\", \"spokesman\", \"staff\", \"staff\", \"staff\", \"staff\", \"staff\", \"staff\", \"staff\", \"staff\", \"staff\", \"staff\", \"stage\", \"stage\", \"stage\", \"stage\", \"stage\", \"stage\", \"state\", \"state\", \"state\", \"state\", \"state\", \"state\", \"state\", \"state\", \"state\", \"state\", \"stateless\", \"statement\", \"statement\", \"statement\", \"statement\", \"statement\", \"statement\", \"statement\", \"statement\", \"station\", \"station\", \"station\", \"station\", \"station\", \"station\", \"station\", \"stoltenberg\", \"stone\", \"storey\", \"strachan\", \"strachan\", \"strachan\", \"struck\", \"students\", \"students\", \"students\", \"students\", \"students\", \"stuff\", \"suffer\", \"suicide\", \"suicide\", \"suicide\", \"suicide\", \"suicide\", \"suicide\", \"supply\", \"support\", \"support\", \"support\", \"support\", \"support\", \"support\", \"support\", \"support\", \"support\", \"support\", \"surrender\", \"surrender\", \"survey\", \"survey\", \"survey\", \"suspension\", \"suspension\", \"suspension\", \"swans\", \"swans\", \"sydney\", \"sydney\", \"sydney\", \"sydney\", \"sydney\", \"sydney\", \"sydney\", \"sydney\", \"sydney\", \"sydney\", \"tactics\", \"tactics\", \"tactics\", \"tailenders\", \"tailenders\", \"tailenders\", \"taliban\", \"taliban\", \"taliban\", \"taliban\", \"taliban\", \"taliban\", \"taliban\", \"taliban\", \"taliban\", \"talk\", \"talks\", \"talks\", \"talks\", \"talks\", \"talks\", \"talks\", \"talks\", \"talks\", \"talks\", \"talks\", \"tank\", \"tanks\", \"tanks\", \"tanks\", \"tanks\", \"tanks\", \"tanks\", \"tape\", \"tape\", \"tape\", \"team\", \"team\", \"team\", \"team\", \"team\", \"team\", \"team\", \"team\", \"team\", \"team\", \"teenager\", \"teenager\", \"teenagers\", \"tel\", \"tennessee\", \"tennis\", \"tennis\", \"tennis\", \"tennis\", \"tennis\", \"terence\", \"termination\", \"terrorism\", \"terrorism\", \"terrorism\", \"terrorism\", \"terrorism\", \"terrorism\", \"terrorism\", \"terrorism\", \"test\", \"test\", \"test\", \"test\", \"test\", \"test\", \"test\", \"test\", \"test\", \"tevake\", \"thehuge\", \"thomson\", \"thousand\", \"thunderstorm\", \"ticket\", \"ticket\", \"time\", \"time\", \"time\", \"time\", \"time\", \"time\", \"time\", \"time\", \"time\", \"time\", \"today\", \"today\", \"today\", \"today\", \"today\", \"today\", \"today\", \"today\", \"today\", \"today\", \"tommy\", \"tora_bora\", \"tora_bora\", \"tora_bora\", \"tora_bora\", \"tora_bora\", \"tora_bora\", \"tora_bora\", \"tora_bora\", \"torture\", \"tournament\", \"tournament\", \"tours\", \"train\", \"trans\", \"transfer\", \"translation\", \"transport\", \"transport\", \"travellers\", \"travellers\", \"treatment\", \"treatment\", \"treatment\", \"treatment\", \"treatment\", \"trend\", \"trend\", \"trio\", \"troops\", \"troops\", \"troops\", \"troops\", \"troops\", \"troops\", \"troops\", \"troops\", \"troops\", \"trounson\", \"truss\", \"truss\", \"tune\", \"turns\", \"twenty\", \"twenty\", \"tyco\", \"tyco\", \"umpire\", \"underfoot\", \"undertook\", \"union\", \"union\", \"union\", \"union\", \"union\", \"union\", \"union\", \"union\", \"union\", \"union\", \"unions\", \"unions\", \"unions\", \"unions\", \"unions\", \"unions\", \"unions\", \"unions\", \"unions\", \"united_states\", \"united_states\", \"united_states\", \"united_states\", \"united_states\", \"united_states\", \"united_states\", \"united_states\", \"united_states\", \"united_states\", \"users\", \"utn\", \"videotape\", \"videotape\", \"violence\", \"violence\", \"violence\", \"violence\", \"violence\", \"violence\", \"violence\", \"violence\", \"violence\", \"violent\", \"virgin\", \"virgin\", \"virus\", \"voracity\", \"wales\", \"wales\", \"wales\", \"wales\", \"wales\", \"wales\", \"wales\", \"wales\", \"wales\", \"wales\", \"walker\", \"walker\", \"walter\", \"war\", \"war\", \"war\", \"war\", \"war\", \"war\", \"war\", \"war\", \"war\", \"war\", \"water\", \"water\", \"water\", \"water\", \"water\", \"water\", \"way\", \"way\", \"way\", \"way\", \"way\", \"way\", \"way\", \"way\", \"way\", \"way\", \"week\", \"week\", \"week\", \"week\", \"week\", \"week\", \"week\", \"week\", \"week\", \"week\", \"west\", \"west\", \"wicket\", \"wicket\", \"wicket\", \"wicket\", \"wicket\", \"wicket\", \"willingness\", \"wimbledon\", \"witch\", \"wolthuizen\", \"woman\", \"woman\", \"work\", \"work\", \"work\", \"work\", \"work\", \"work\", \"work\", \"work\", \"work\", \"work\", \"workers\", \"workers\", \"workers\", \"workers\", \"workers\", \"workers\", \"workers\", \"workers\", \"workers\", \"workers_union\", \"workers_union\", \"workers_union\", \"workers_union\", \"world\", \"world\", \"world\", \"world\", \"world\", \"world\", \"world\", \"world\", \"world\", \"world\", \"world_heritage\", \"world_heritage\", \"worm\", \"yachts\", \"yachts\", \"yachts\", \"yallourn\", \"yallourn\", \"yasser_arafat\", \"yasser_arafat\", \"yasser_arafat\", \"yasser_arafat\", \"yasser_arafat\", \"yasser_arafat\", \"yasser_arafat\", \"yasser_arafat\", \"yasser_arafat\", \"yasser_arafat\", \"year\", \"year\", \"year\", \"year\", \"year\", \"year\", \"year\", \"year\", \"year\", \"year\", \"year_old\", \"year_old\", \"year_old\", \"year_old\", \"year_old\", \"year_old\", \"year_old\", \"year_old\", \"year_old\", \"year_old\", \"years\", \"years\", \"years\", \"years\", \"years\", \"years\", \"years\", \"years\", \"years\", \"yesterday\", \"yesterday\", \"yesterday\", \"yesterday\", \"yesterday\", \"yesterday\", \"yesterday\", \"yesterday\", \"yesterday\", \"yesterday\", \"yorker\", \"yunis\", \"zeus\", \"zones\"]}, \"R\": 30, \"lambda.step\": 0.01, \"plot.opts\": {\"xlab\": \"PC1\", \"ylab\": \"PC2\"}, \"topic.order\": [9, 3, 8, 7, 5, 4, 2, 1, 10, 6]};\n",
       "\n",
       "function LDAvis_load_lib(url, callback){\n",
       "  var s = document.createElement('script');\n",
       "  s.src = url;\n",
       "  s.async = true;\n",
       "  s.onreadystatechange = s.onload = callback;\n",
       "  s.onerror = function(){console.warn(\"failed to load library \" + url);};\n",
       "  document.getElementsByTagName(\"head\")[0].appendChild(s);\n",
       "}\n",
       "\n",
       "if(typeof(LDAvis) !== \"undefined\"){\n",
       "   // already loaded: just create the visualization\n",
       "   !function(LDAvis){\n",
       "       new LDAvis(\"#\" + \"ldavis_el14651121549854809741622062\", ldavis_el14651121549854809741622062_data);\n",
       "   }(LDAvis);\n",
       "}else if(typeof define === \"function\" && define.amd){\n",
       "   // require.js is available: use it to load d3/LDAvis\n",
       "   require.config({paths: {d3: \"https://cdnjs.cloudflare.com/ajax/libs/d3/3.5.5/d3.min\"}});\n",
       "   require([\"d3\"], function(d3){\n",
       "      window.d3 = d3;\n",
       "      LDAvis_load_lib(\"https://cdn.rawgit.com/bmabey/pyLDAvis/files/ldavis.v1.0.0.js\", function(){\n",
       "        new LDAvis(\"#\" + \"ldavis_el14651121549854809741622062\", ldavis_el14651121549854809741622062_data);\n",
       "      });\n",
       "    });\n",
       "}else{\n",
       "    // require.js not available: dynamically load d3 & LDAvis\n",
       "    LDAvis_load_lib(\"https://cdnjs.cloudflare.com/ajax/libs/d3/3.5.5/d3.min.js\", function(){\n",
       "         LDAvis_load_lib(\"https://cdn.rawgit.com/bmabey/pyLDAvis/files/ldavis.v1.0.0.js\", function(){\n",
       "                 new LDAvis(\"#\" + \"ldavis_el14651121549854809741622062\", ldavis_el14651121549854809741622062_data);\n",
       "            })\n",
       "         });\n",
       "}\n",
       "</script>"
      ],
      "text/plain": [
       "PreparedData(topic_coordinates=            Freq  cluster  topics         x         y\n",
       "topic                                                \n",
       "8      17.479247        1       1 -0.074394 -0.026376\n",
       "2      12.141722        1       2 -0.004790 -0.022449\n",
       "7      10.344003        1       3 -0.031998  0.057971\n",
       "6      10.330471        1       4  0.073451  0.015831\n",
       "4      10.034759        1       5 -0.033812  0.045811\n",
       "3       9.010825        1       6 -0.001259 -0.056567\n",
       "1       8.319895        1       7  0.086517  0.033683\n",
       "0       7.992608        1       8 -0.032756  0.037585\n",
       "9       7.625603        1       9  0.020451 -0.077916\n",
       "5       6.720867        1      10 -0.001410 -0.007573, topic_info=     Category       Freq           Term       Total  loglift  logprob\n",
       "term                                                                 \n",
       "593   Default  49.000000            man   49.000000  30.0000  30.0000\n",
       "645   Default  16.000000        airline   16.000000  29.0000  29.0000\n",
       "2335  Default  12.000000          space   12.000000  28.0000  28.0000\n",
       "25    Default  41.000000           fire   41.000000  27.0000  27.0000\n",
       "218   Default  13.000000          event   13.000000  26.0000  26.0000\n",
       "448   Default  21.000000      agreement   21.000000  25.0000  25.0000\n",
       "1521  Default  14.000000         qantas   14.000000  24.0000  24.0000\n",
       "1502  Default  52.000000        company   52.000000  23.0000  23.0000\n",
       "819   Default  19.000000         metres   19.000000  22.0000  22.0000\n",
       "141   Default  93.000000     government   93.000000  21.0000  21.0000\n",
       "518   Default  32.000000           test   32.000000  20.0000  20.0000\n",
       "540   Default   8.000000         hewitt    8.000000  19.0000  19.0000\n",
       "898   Default  18.000000          party   18.000000  18.0000  18.0000\n",
       "250   Default  43.000000          world   43.000000  17.0000  17.0000\n",
       "3656  Default   8.000000          virus    8.000000  16.0000  16.0000\n",
       "1653  Default  13.000000           bill   13.000000  15.0000  15.0000\n",
       "308   Default  14.000000       aircraft   14.000000  14.0000  14.0000\n",
       "662   Default  13.000000       officers   13.000000  13.0000  13.0000\n",
       "816   Default  15.000000          water   15.000000  12.0000  12.0000\n",
       "1951  Default  20.000000          labor   20.000000  11.0000  11.0000\n",
       "73    Default  59.000000         police   59.000000  10.0000  10.0000\n",
       "542   Default  28.000000          month   28.000000   9.0000   9.0000\n",
       "58    Default  19.000000   firefighters   19.000000   8.0000   8.0000\n",
       "701   Default  11.000000           side   11.000000   7.0000   7.0000\n",
       "913   Default  56.000000            day   56.000000   6.0000   6.0000\n",
       "586   Default  26.000000        workers   26.000000   5.0000   5.0000\n",
       "265   Default  16.000000          river   16.000000   4.0000   4.0000\n",
       "2158  Default  23.000000         unions   23.000000   3.0000   3.0000\n",
       "203   Default  36.000000  united_states   36.000000   2.0000   2.0000\n",
       "52    Default  29.000000          areas   29.000000   1.0000   1.0000\n",
       "...       ...        ...            ...         ...      ...      ...\n",
       "354   Topic10   3.363623          house   19.235547   0.9562  -5.7491\n",
       "3546  Topic10   0.898204     businesses    2.179410   1.8135  -7.0695\n",
       "203   Topic10   4.708864  united_states   36.979697   0.6390  -5.4127\n",
       "449   Topic10   5.591488       security   50.161191   0.5060  -5.2409\n",
       "1659  Topic10   2.321004         sector   11.202208   1.1258  -6.1201\n",
       "720   Topic10   3.273513          court   20.589139   0.8611  -5.7762\n",
       "62    Topic10   3.708360      militants   25.596630   0.7681  -5.6515\n",
       "3169  Topic10   1.450648          rates    5.138222   1.4353  -6.5901\n",
       "593   Topic10   4.986633            man   49.928768   0.3961  -5.3553\n",
       "129   Topic10   3.370896          years   24.471187   0.7176  -5.7469\n",
       "51    Topic10   3.891581          state   33.592829   0.5445  -5.6033\n",
       "141   Topic10   6.516505     government   93.928409   0.0318  -5.0878\n",
       "73    Topic10   5.105199         police   59.305441   0.2475  -5.3318\n",
       "834   Topic10   4.382622      australia   44.729412   0.3770  -5.4845\n",
       "250   Topic10   4.249568          world   43.236426   0.3801  -5.5153\n",
       "115   Topic10   3.978299      president   40.834592   0.3713  -5.5812\n",
       "468   Topic10   2.448302   palestinians   16.207104   0.8099  -6.0667\n",
       "404   Topic10   3.006689          group   30.889315   0.3704  -5.8613\n",
       "1735  Topic10   2.617967         arafat   20.379213   0.6478  -5.9997\n",
       "144   Topic10   2.433706           role   16.428816   0.7903  -6.0727\n",
       "18    Topic10   2.576329    authorities   20.164477   0.6424  -6.0157\n",
       "76    Topic10   2.765779         attack   27.214387   0.4135  -5.9448\n",
       "107   Topic10   3.196694           time   49.024839  -0.0303  -5.8000\n",
       "459   Topic10   2.522741       minister   21.227997   0.5700  -6.0368\n",
       "6     Topic10   3.016117          today   61.087412  -0.3084  -5.8581\n",
       "32    Topic10   2.712762           year   37.680811   0.0688  -5.9641\n",
       "1     Topic10   3.121410         people  111.871670  -0.8791  -5.8238\n",
       "93    Topic10   2.683160      yesterday   40.299912  -0.0094  -5.9751\n",
       "1441  Topic10   2.430875        reports   23.096113   0.4485  -6.0738\n",
       "1190  Topic10   2.404434        attacks   34.975461   0.0226  -6.0848\n",
       "\n",
       "[775 rows x 6 columns], token_table=      Topic      Freq            Term\n",
       "term                                 \n",
       "1474      3  0.441591           abuse\n",
       "1474      4  0.147197           abuse\n",
       "1474      7  0.147197           abuse\n",
       "1474      8  0.147197           abuse\n",
       "3539      5  0.632157             aca\n",
       "3538      5  0.632157            accc\n",
       "2827      2  0.162797        accident\n",
       "2827      5  0.488390        accident\n",
       "2827     10  0.162797        accident\n",
       "1650      9  0.427517            acdt\n",
       "171       1  0.219016          action\n",
       "171       2  0.109508          action\n",
       "171       3  0.182513          action\n",
       "171       4  0.073005          action\n",
       "171       5  0.073005          action\n",
       "171       6  0.036503          action\n",
       "171       7  0.182513          action\n",
       "171       8  0.036503          action\n",
       "171      10  0.036503          action\n",
       "3729      9  0.895036            adam\n",
       "3028      4  0.440369           adams\n",
       "2259      1  0.563562         address\n",
       "2259      2  0.140891         address\n",
       "2259      5  0.140891         address\n",
       "2078      4  0.377986  administrators\n",
       "2078      7  0.188993  administrators\n",
       "2078      9  0.188993  administrators\n",
       "581       9  0.662068          adolfo\n",
       "903       1  0.274204     afghanistan\n",
       "903       2  0.137102     afghanistan\n",
       "...     ...       ...             ...\n",
       "221       4  0.112682        year_old\n",
       "221       5  0.056341        year_old\n",
       "221       6  0.225363        year_old\n",
       "221       7  0.112682        year_old\n",
       "221       8  0.056341        year_old\n",
       "221       9  0.056341        year_old\n",
       "221      10  0.112682        year_old\n",
       "129       1  0.204322           years\n",
       "129       2  0.122593           years\n",
       "129       3  0.163458           years\n",
       "129       4  0.081729           years\n",
       "129       5  0.122593           years\n",
       "129       6  0.040864           years\n",
       "129       7  0.040864           years\n",
       "129       8  0.040864           years\n",
       "129      10  0.122593           years\n",
       "93        1  0.124070       yesterday\n",
       "93        2  0.124070       yesterday\n",
       "93        3  0.074442       yesterday\n",
       "93        4  0.223326       yesterday\n",
       "93        5  0.099256       yesterday\n",
       "93        6  0.124070       yesterday\n",
       "93        7  0.074442       yesterday\n",
       "93        8  0.074442       yesterday\n",
       "93        9  0.024814       yesterday\n",
       "93       10  0.074442       yesterday\n",
       "2295      4  0.427695          yorker\n",
       "460       8  0.630211           yunis\n",
       "500       7  0.428970            zeus\n",
       "3769      8  0.630211           zones\n",
       "\n",
       "[2011 rows x 3 columns], R=30, lambda_step=0.01, plot_opts={'xlab': 'PC1', 'ylab': 'PC2'}, topic_order=[9, 3, 8, 7, 5, 4, 2, 1, 10, 6])"
      ]
     },
     "execution_count": 78,
     "metadata": {},
     "output_type": "execute_result"
    }
   ],
   "source": [
    "pyLDAvis.gensim.prepare(ldamodel, corpus, dictionary)"
   ]
  },
  {
   "cell_type": "code",
   "execution_count": 79,
   "metadata": {
    "collapsed": true,
    "nbpresent": {
     "id": "13f462fd-b0c3-4a29-90f3-050e2317b72c"
    }
   },
   "outputs": [],
   "source": [
    "ldatopics = ldamodel.show_topics(formatted=False)"
   ]
  },
  {
   "cell_type": "markdown",
   "metadata": {
    "nbpresent": {
     "id": "68d38063-fb92-4d36-b3fb-f2d3cbff9eb5"
    }
   },
   "source": [
    "### Finding out the optimal number of topics\n",
    "__Introduction to topic coherence__:\n",
    "<img src=\"https://rare-technologies.com/wp-content/uploads/2016/06/pipeline.png\">\n",
    "Topic coherence in essence measures the human interpretability of a topic model. Traditionally [perplexity has been used](http://qpleple.com/perplexity-to-evaluate-topic-models/) to evaluate topic models however this does not correlate with human annotations at times. Topic coherence is another way to evaluate topic models with a much higher guarantee on human interpretability. Thus this can be used to compare different topic models among many other use-cases. Here's a short blog I wrote explaining topic coherence:\n",
    "[What is topic coherence?](https://rare-technologies.com/what-is-topic-coherence/)"
   ]
  },
  {
   "cell_type": "code",
   "execution_count": 80,
   "metadata": {
    "collapsed": true,
    "nbpresent": {
     "id": "45b1a641-1152-4364-ad25-62d1f8187317"
    }
   },
   "outputs": [],
   "source": [
    "def evaluate_graph(dictionary, corpus, texts, limit):\n",
    "    \"\"\"\n",
    "    Function to display num_topics - LDA graph using c_v coherence\n",
    "    \n",
    "    Parameters:\n",
    "    ----------\n",
    "    dictionary : Gensim dictionary\n",
    "    corpus : Gensim corpus\n",
    "    limit : topic limit\n",
    "    \n",
    "    Returns:\n",
    "    -------\n",
    "    lm_list : List of LDA topic models\n",
    "    c_v : Coherence values corresponding to the LDA model with respective number of topics\n",
    "    \"\"\"\n",
    "    c_v = []\n",
    "    lm_list = []\n",
    "    for num_topics in range(1, limit):\n",
    "        lm = LdaModel(corpus=corpus, num_topics=num_topics, id2word=dictionary)\n",
    "        lm_list.append(lm)\n",
    "        cm = CoherenceModel(model=lm, texts=texts, dictionary=dictionary, coherence='c_v')\n",
    "        c_v.append(cm.get_coherence())\n",
    "        \n",
    "    # Show graph\n",
    "    x = range(1, limit)\n",
    "    plt.plot(x, c_v)\n",
    "    plt.xlabel(\"num_topics\")\n",
    "    plt.ylabel(\"Coherence score\")\n",
    "    plt.legend((\"c_v\"), loc='best')\n",
    "    plt.show()\n",
    "    \n",
    "    return lm_list, c_v"
   ]
  },
  {
   "cell_type": "code",
   "execution_count": 81,
   "metadata": {
    "nbpresent": {
     "id": "e8936716-d06c-4cef-ae87-5c5da9a25a85"
    }
   },
   "outputs": [
    {
     "data": {
      "image/png": "[encoded data removed]",
      "text/plain": [
       "<matplotlib.figure.Figure at 0x1a278f1be0>"
      ]
     },
     "metadata": {},
     "output_type": "display_data"
    },
    {
     "name": "stdout",
     "output_type": "stream",
     "text": [
      "CPU times: user 32.8 s, sys: 533 ms, total: 33.3 s\n",
      "Wall time: 34.3 s\n"
     ]
    }
   ],
   "source": [
    "%%time\n",
    "lmlist, c_v = evaluate_graph(dictionary=dictionary, corpus=corpus, texts=train_texts, limit=10)"
   ]
  },
  {
   "cell_type": "code",
   "execution_count": 83,
   "metadata": {
    "nbpresent": {
     "id": "c02b6f0a-801c-4a8f-aa8f-8c9d64df7a9a"
    }
   },
   "outputs": [
    {
     "name": "stderr",
     "output_type": "stream",
     "text": [
      "/Users/home/Desenvolvimento/anaconda3/lib/python3.6/site-packages/pyLDAvis/_prepare.py:387: DeprecationWarning: \n",
      ".ix is deprecated. Please use\n",
      ".loc for label based indexing or\n",
      ".iloc for positional indexing\n",
      "\n",
      "See the documentation here:\n",
      "http://pandas.pydata.org/pandas-docs/stable/indexing.html#ix-indexer-is-deprecated\n",
      "  topic_term_dists = topic_term_dists.ix[topic_order]\n"
     ]
    },
    {
     "data": {
      "text/html": [
       "\n",
       "<link rel=\"stylesheet\" type=\"text/css\" href=\"https://cdn.rawgit.com/bmabey/pyLDAvis/files/ldavis.v1.0.0.css\">\n",
       "\n",
       "\n",
       "<div id=\"ldavis_el14651123684272001381180387\"></div>\n",
       "<script type=\"text/javascript\">\n",
       "\n",
       "var ldavis_el14651123684272001381180387_data = {\"mdsDat\": {\"Freq\": [18.016826735348264, 14.479027722576344, 14.187112353789791, 13.175046603589683, 11.604578196043883, 10.718214594634267, 9.752706500312442, 8.066487293705322], \"cluster\": [1, 1, 1, 1, 1, 1, 1, 1], \"topics\": [1, 2, 3, 4, 5, 6, 7, 8], \"x\": [0.03588347528118601, 0.03657997864319621, 0.05775541083469977, -0.06821468103671709, -0.0710770988943652, 0.012763075952608076, -0.006214148331276571, 0.002523987550668748], \"y\": [0.056168960885122035, -0.04432753321827449, -0.03503286843390006, -0.0007481835441809562, -0.012759071779649385, 0.06626017385134925, 0.011408077357309919, -0.040969555117776335]}, \"tinfo\": {\"Category\": [\"Default\", \"Default\", \"Default\", \"Default\", \"Default\", \"Default\", \"Default\", \"Default\", \"Default\", \"Default\", \"Default\", \"Default\", \"Default\", \"Default\", \"Default\", \"Default\", \"Default\", \"Default\", \"Default\", \"Default\", \"Default\", \"Default\", \"Default\", \"Default\", \"Default\", \"Default\", \"Default\", \"Default\", \"Default\", \"Default\", \"Topic1\", \"Topic1\", \"Topic1\", \"Topic1\", \"Topic1\", \"Topic1\", \"Topic1\", \"Topic1\", \"Topic1\", \"Topic1\", \"Topic1\", \"Topic1\", \"Topic1\", \"Topic1\", \"Topic1\", \"Topic1\", \"Topic1\", \"Topic1\", \"Topic1\", \"Topic1\", \"Topic1\", \"Topic1\", \"Topic1\", \"Topic1\", \"Topic1\", \"Topic1\", \"Topic1\", \"Topic1\", \"Topic1\", \"Topic1\", \"Topic1\", \"Topic1\", \"Topic1\", \"Topic1\", \"Topic1\", \"Topic1\", \"Topic1\", \"Topic1\", \"Topic1\", \"Topic1\", \"Topic1\", \"Topic1\", \"Topic1\", \"Topic1\", \"Topic1\", \"Topic1\", \"Topic1\", \"Topic1\", \"Topic1\", \"Topic1\", \"Topic1\", \"Topic1\", \"Topic1\", \"Topic1\", \"Topic1\", \"Topic1\", \"Topic1\", \"Topic1\", \"Topic1\", \"Topic1\", \"Topic1\", \"Topic1\", \"Topic1\", \"Topic1\", \"Topic1\", \"Topic1\", \"Topic1\", \"Topic1\", \"Topic1\", \"Topic1\", \"Topic1\", \"Topic1\", \"Topic2\", \"Topic2\", \"Topic2\", \"Topic2\", \"Topic2\", \"Topic2\", \"Topic2\", \"Topic2\", \"Topic2\", \"Topic2\", \"Topic2\", \"Topic2\", \"Topic2\", \"Topic2\", \"Topic2\", \"Topic2\", \"Topic2\", \"Topic2\", \"Topic2\", \"Topic2\", \"Topic2\", \"Topic2\", \"Topic2\", \"Topic2\", \"Topic2\", \"Topic2\", \"Topic2\", \"Topic2\", \"Topic2\", \"Topic2\", \"Topic2\", \"Topic2\", \"Topic2\", \"Topic2\", \"Topic2\", \"Topic2\", \"Topic2\", \"Topic2\", \"Topic2\", \"Topic2\", \"Topic2\", \"Topic2\", \"Topic2\", \"Topic2\", \"Topic2\", \"Topic2\", \"Topic2\", \"Topic2\", \"Topic2\", \"Topic2\", \"Topic2\", \"Topic2\", \"Topic2\", \"Topic2\", \"Topic2\", \"Topic2\", \"Topic2\", \"Topic2\", \"Topic2\", \"Topic2\", \"Topic2\", \"Topic2\", \"Topic2\", \"Topic2\", \"Topic2\", \"Topic2\", \"Topic2\", \"Topic2\", \"Topic2\", \"Topic2\", \"Topic2\", \"Topic2\", \"Topic2\", \"Topic2\", \"Topic2\", \"Topic2\", \"Topic3\", \"Topic3\", \"Topic3\", \"Topic3\", \"Topic3\", \"Topic3\", \"Topic3\", \"Topic3\", \"Topic3\", \"Topic3\", \"Topic3\", \"Topic3\", \"Topic3\", \"Topic3\", \"Topic3\", \"Topic3\", \"Topic3\", \"Topic3\", \"Topic3\", \"Topic3\", \"Topic3\", \"Topic3\", \"Topic3\", \"Topic3\", \"Topic3\", \"Topic3\", \"Topic3\", \"Topic3\", \"Topic3\", \"Topic3\", \"Topic3\", \"Topic3\", \"Topic3\", \"Topic3\", \"Topic3\", \"Topic3\", \"Topic3\", \"Topic3\", \"Topic3\", \"Topic3\", \"Topic3\", \"Topic3\", \"Topic3\", \"Topic3\", \"Topic3\", \"Topic3\", \"Topic3\", \"Topic3\", \"Topic3\", \"Topic3\", \"Topic3\", \"Topic3\", \"Topic3\", \"Topic3\", \"Topic3\", \"Topic3\", \"Topic3\", \"Topic3\", \"Topic3\", \"Topic3\", \"Topic3\", \"Topic3\", \"Topic3\", \"Topic3\", \"Topic3\", \"Topic3\", \"Topic3\", \"Topic3\", \"Topic4\", \"Topic4\", \"Topic4\", \"Topic4\", \"Topic4\", \"Topic4\", \"Topic4\", \"Topic4\", \"Topic4\", \"Topic4\", \"Topic4\", \"Topic4\", \"Topic4\", \"Topic4\", \"Topic4\", \"Topic4\", \"Topic4\", \"Topic4\", \"Topic4\", \"Topic4\", \"Topic4\", \"Topic4\", \"Topic4\", \"Topic4\", \"Topic4\", \"Topic4\", \"Topic4\", \"Topic4\", \"Topic4\", \"Topic4\", \"Topic4\", \"Topic4\", \"Topic4\", \"Topic4\", \"Topic4\", \"Topic4\", \"Topic4\", \"Topic4\", \"Topic4\", \"Topic4\", \"Topic4\", \"Topic4\", \"Topic4\", \"Topic4\", \"Topic4\", \"Topic4\", \"Topic4\", \"Topic4\", \"Topic4\", \"Topic4\", \"Topic4\", \"Topic4\", \"Topic4\", \"Topic4\", \"Topic4\", \"Topic4\", \"Topic4\", \"Topic4\", \"Topic4\", \"Topic4\", \"Topic4\", \"Topic4\", \"Topic4\", \"Topic4\", \"Topic4\", \"Topic4\", \"Topic4\", \"Topic4\", \"Topic4\", \"Topic4\", \"Topic4\", \"Topic4\", \"Topic4\", \"Topic4\", \"Topic4\", \"Topic4\", \"Topic4\", \"Topic4\", \"Topic4\", \"Topic4\", \"Topic5\", \"Topic5\", \"Topic5\", \"Topic5\", \"Topic5\", \"Topic5\", \"Topic5\", \"Topic5\", \"Topic5\", \"Topic5\", \"Topic5\", \"Topic5\", \"Topic5\", \"Topic5\", \"Topic5\", \"Topic5\", \"Topic5\", \"Topic5\", \"Topic5\", \"Topic5\", \"Topic5\", \"Topic5\", \"Topic5\", \"Topic5\", \"Topic5\", \"Topic5\", \"Topic5\", \"Topic5\", \"Topic5\", \"Topic5\", \"Topic5\", \"Topic5\", \"Topic5\", \"Topic5\", \"Topic5\", \"Topic5\", \"Topic5\", \"Topic5\", \"Topic5\", \"Topic5\", \"Topic5\", \"Topic5\", \"Topic5\", \"Topic5\", \"Topic5\", \"Topic5\", \"Topic5\", \"Topic5\", \"Topic5\", \"Topic5\", \"Topic5\", \"Topic5\", \"Topic5\", \"Topic5\", \"Topic5\", \"Topic5\", \"Topic5\", \"Topic5\", \"Topic5\", \"Topic5\", \"Topic5\", \"Topic5\", \"Topic5\", \"Topic5\", \"Topic5\", \"Topic5\", \"Topic5\", \"Topic5\", \"Topic5\", \"Topic5\", \"Topic5\", \"Topic5\", \"Topic5\", \"Topic5\", \"Topic5\", \"Topic6\", \"Topic6\", \"Topic6\", \"Topic6\", \"Topic6\", \"Topic6\", \"Topic6\", \"Topic6\", \"Topic6\", \"Topic6\", \"Topic6\", \"Topic6\", \"Topic6\", \"Topic6\", \"Topic6\", \"Topic6\", \"Topic6\", \"Topic6\", \"Topic6\", \"Topic6\", \"Topic6\", \"Topic6\", \"Topic6\", \"Topic6\", \"Topic6\", \"Topic6\", \"Topic6\", \"Topic6\", \"Topic6\", \"Topic6\", \"Topic6\", \"Topic6\", \"Topic6\", \"Topic6\", \"Topic6\", \"Topic6\", \"Topic6\", \"Topic6\", \"Topic6\", \"Topic6\", \"Topic6\", \"Topic6\", \"Topic6\", \"Topic6\", \"Topic6\", \"Topic6\", \"Topic6\", \"Topic6\", \"Topic6\", \"Topic6\", \"Topic6\", \"Topic6\", \"Topic6\", \"Topic6\", \"Topic6\", \"Topic6\", \"Topic6\", \"Topic6\", \"Topic6\", \"Topic6\", \"Topic6\", \"Topic6\", \"Topic6\", \"Topic6\", \"Topic6\", \"Topic6\", \"Topic6\", \"Topic6\", \"Topic7\", \"Topic7\", \"Topic7\", \"Topic7\", \"Topic7\", \"Topic7\", \"Topic7\", \"Topic7\", \"Topic7\", \"Topic7\", \"Topic7\", \"Topic7\", \"Topic7\", \"Topic7\", \"Topic7\", \"Topic7\", \"Topic7\", \"Topic7\", \"Topic7\", \"Topic7\", \"Topic7\", \"Topic7\", \"Topic7\", \"Topic7\", \"Topic7\", \"Topic7\", \"Topic7\", \"Topic7\", \"Topic7\", \"Topic7\", \"Topic7\", \"Topic7\", \"Topic7\", \"Topic7\", \"Topic7\", \"Topic7\", \"Topic7\", \"Topic7\", \"Topic7\", \"Topic7\", \"Topic7\", \"Topic7\", \"Topic7\", \"Topic7\", \"Topic7\", \"Topic7\", \"Topic7\", \"Topic7\", \"Topic7\", \"Topic7\", \"Topic7\", \"Topic7\", \"Topic7\", \"Topic7\", \"Topic7\", \"Topic7\", \"Topic7\", \"Topic7\", \"Topic7\", \"Topic7\", \"Topic7\", \"Topic7\", \"Topic7\", \"Topic7\", \"Topic7\", \"Topic7\", \"Topic8\", \"Topic8\", \"Topic8\", \"Topic8\", \"Topic8\", \"Topic8\", \"Topic8\", \"Topic8\", \"Topic8\", \"Topic8\", \"Topic8\", \"Topic8\", \"Topic8\", \"Topic8\", \"Topic8\", \"Topic8\", \"Topic8\", \"Topic8\", \"Topic8\", \"Topic8\", \"Topic8\", \"Topic8\", \"Topic8\", \"Topic8\", \"Topic8\", \"Topic8\", \"Topic8\", \"Topic8\", \"Topic8\", \"Topic8\", \"Topic8\", \"Topic8\", \"Topic8\", \"Topic8\", \"Topic8\", \"Topic8\", \"Topic8\", \"Topic8\", \"Topic8\", \"Topic8\", \"Topic8\", \"Topic8\", \"Topic8\", \"Topic8\", \"Topic8\", \"Topic8\", \"Topic8\", \"Topic8\", \"Topic8\", \"Topic8\", \"Topic8\", \"Topic8\", \"Topic8\", \"Topic8\", \"Topic8\", \"Topic8\", \"Topic8\", \"Topic8\", \"Topic8\", \"Topic8\", \"Topic8\", \"Topic8\", \"Topic8\", \"Topic8\", \"Topic8\", \"Topic8\", \"Topic8\", \"Topic8\", \"Topic8\", \"Topic8\", \"Topic8\", \"Topic8\", \"Topic8\"], \"Freq\": [88.0, 20.0, 19.0, 32.0, 6.0, 42.0, 54.0, 103.0, 42.0, 25.0, 29.0, 33.0, 10.0, 10.0, 7.0, 4.0, 12.0, 16.0, 16.0, 35.0, 23.0, 28.0, 7.0, 45.0, 15.0, 5.0, 29.0, 5.0, 6.0, 24.0, 4.384138159841129, 3.4694495266036647, 8.293610579315558, 2.673252263188192, 2.6732415565043923, 4.503830891524729, 1.8178010206568946, 1.8177841930549903, 1.8177750320048147, 1.8177497536971234, 1.8177479071393055, 1.817747468498844, 1.817744448933261, 1.817731357058937, 1.8177050203962415, 1.8083428643731019, 1.805346007587953, 1.7518308871462334, 5.263413135294035, 1.7111312338990283, 3.2717888260973824, 2.2668934687035134, 1.6774381383851051, 2.772625498273064, 2.8387984623650775, 2.2250075184148876, 1.6686720482652881, 3.8277305782278965, 1.6348725925789318, 2.6732402181465558, 3.8753986655117223, 6.722703075023025, 5.278854698534994, 10.211538692901863, 6.6987591491077625, 5.363800620327091, 27.703108735316963, 8.633249133712145, 10.942922733801227, 14.054166962205747, 5.679858285465655, 3.1859440965850037, 13.45050056843774, 4.320279140941946, 5.641012816530556, 3.4409536538240157, 11.77495358670925, 7.513366565166831, 6.4108536309663755, 7.614475755916331, 9.989992577850803, 4.483102839846276, 7.983377563590464, 6.988722086435165, 14.855542193526109, 12.820301906444849, 9.813958146353025, 20.302210031710292, 7.244637962801062, 13.532258246058731, 11.996310082857402, 9.485794253565274, 8.553182833690304, 7.638959365542637, 8.198257464037217, 7.618853195769386, 7.263049938586858, 9.66650952769368, 7.980629542828113, 7.821675474052057, 8.046831745563567, 7.408559235984394, 3.72377211108089, 3.5261452345656927, 2.8211005381356458, 2.8210887195786585, 1.9183300568671005, 2.5231940266960877, 3.0987881553246965, 1.7795826726634187, 1.76662473326681, 1.7601105097276417, 2.376975403518725, 2.2671687293917615, 1.7329499158699455, 1.640844522701374, 1.655894704175158, 1.6246546796511083, 1.6003179433547159, 2.658349566744311, 1.522709748383122, 1.5658144615533178, 3.7238748879723356, 1.015611377045719, 1.0156110885380052, 1.0156090246311957, 1.0156064960139835, 1.0156031372227965, 1.015601067668349, 1.0155988688291275, 1.0155951358429112, 1.0155905451923162, 3.057868797171489, 1.5176241196183007, 3.5093565226224483, 4.92163978084135, 6.5612377246536, 6.221502772785341, 2.4062772643052717, 1.4933286597976863, 2.772741519665952, 7.985869610315129, 7.599771724909411, 7.68060496448015, 9.83865488093808, 3.185497174541743, 6.941669563327411, 3.47187625652423, 3.2529281308855373, 6.610307627308566, 20.201640495545412, 4.08697929953883, 7.303928062171856, 6.841857152377336, 4.81896169190281, 4.726844073689256, 8.020149583729141, 8.453962349320056, 4.501385222840164, 8.857522814357338, 12.674572758884617, 4.711584928638588, 6.454636604927091, 6.173064978652557, 8.019896379841063, 8.335873780647406, 6.622346257611995, 6.197921181517935, 7.091355353584832, 7.231932394010478, 6.015598298004284, 6.339755718039568, 5.235407310178397, 6.581148030395843, 6.731958549253249, 6.13171795409308, 5.74782015773271, 5.804379625883308, 5.032881098201635, 5.32197432949922, 2.567770026137885, 3.0682541499925957, 1.7461138263615716, 1.746100466823737, 1.7461012199278925, 1.746099523786581, 1.7460810034034884, 1.7460789907978276, 4.04403125586471, 2.792966653938686, 1.717067306678147, 1.7007165689415642, 2.805803426350643, 2.195780468043753, 3.8827274596118535, 3.888389773705004, 1.6509126621025663, 1.650651860878231, 1.6388622598947338, 1.5738922582881125, 1.57186145011653, 1.5611772574917628, 2.62907047102698, 2.5571030084039936, 3.7614487967363006, 1.4445492729768832, 2.9906964714530204, 11.900061383523699, 2.38642842300668, 2.74494922457726, 8.211035445301443, 2.8607202383944212, 7.72283213021953, 10.588212730362384, 6.129361439129809, 3.629295705520122, 5.07130196132821, 9.538963900534618, 10.065561715589245, 9.754183063704815, 2.3904042049697374, 3.0469969459053314, 5.747584996122229, 3.4641119733907546, 4.256899808768147, 7.629365873223536, 10.348837271412828, 6.332667985479414, 9.570617404496884, 5.29650681563427, 11.96978992120573, 5.549905439378134, 6.5874891847653, 8.080804980067162, 9.995610281904177, 5.682520232168407, 6.451481589086347, 5.003925913113174, 5.06315986459786, 6.176005948920167, 5.520641552841738, 5.970830117456109, 5.917432424346853, 5.577859073332524, 5.402277702978186, 5.119339477169847, 4.660677431015584, 2.8418426604353493, 2.535414186469411, 1.9324668604116277, 1.9324611559590787, 2.1190352739394345, 3.6321436485862577, 1.0230776751854669, 1.0230777977255354, 1.0230774481573788, 1.0230735180834756, 1.0230734846117326, 1.0230725393438909, 1.0230725450098053, 1.023069527218228, 1.0230685675877063, 1.0230653389575337, 1.023064726838299, 1.0230630438014077, 1.023062336808221, 1.0230606113872713, 1.0230541638769988, 1.0230525197287161, 1.566325211429261, 1.0187412512672072, 1.0186876557742401, 1.0173339176474634, 1.016629028424506, 1.0164010018349516, 4.434214681187802, 2.2810058647238614, 1.9324475505815515, 1.4675668867688043, 2.3507681026826805, 7.07761059497936, 2.6554430285620576, 2.2913370536779984, 1.7188476854955042, 1.8387507170167832, 9.507568728318452, 9.494747971845642, 12.367912013476088, 3.446494067231616, 6.20390810588028, 1.7480889936467356, 3.2532293567964916, 3.861584776888954, 4.710593985365839, 2.947342249460534, 1.7431947482995105, 4.337294300855868, 6.159245459935519, 12.96310259229434, 5.888188086773257, 4.186898016230344, 3.8753341998663693, 5.5977677454216925, 5.9505910219056295, 9.167497892600625, 9.28322864026873, 6.1573469627092665, 7.7914698972142755, 5.8601134596899165, 4.803708346062121, 5.6918473668050575, 5.948696795464114, 5.969726288621185, 6.320332357417878, 8.798209785147593, 8.157506043494422, 4.813713254610484, 5.980706786167334, 6.086362500156608, 5.544344869312956, 7.7919702128761745, 5.693326533860195, 6.178390235110961, 6.6733460972895395, 5.56348487569932, 5.269683179684447, 3.2183935060368696, 2.5126128585574676, 4.233486426155423, 1.7793908773160816, 1.779386217303765, 2.345718304759018, 1.5287904411868962, 2.6167721704632134, 1.8709372309367844, 1.85995662217494, 2.3544651730304684, 0.9420684644064388, 0.9420681485535518, 0.9420677611775542, 0.9420673990074921, 0.9420656393670909, 0.9420590360312366, 0.9420374077734122, 0.9420281861602299, 0.9420268155658582, 0.9420261440230012, 0.9420217206216684, 0.9420203269088943, 0.9420202199657166, 0.9420164956138867, 0.9345493624756058, 0.9340992761167337, 0.9334849213552349, 0.9314594819197524, 0.9306900479890455, 2.756621498695138, 1.3276646946482566, 5.157181420742077, 1.6715381014354667, 1.6478704567913345, 1.6678367196787511, 1.2647278388192797, 3.3606940438025568, 8.623512838429294, 1.6067471051154296, 3.324387396380144, 6.362691856396819, 2.110375836158898, 2.8607441293311306, 1.921250474345129, 1.747325847921783, 5.882630019958971, 9.506631379723977, 5.9196897977093474, 6.835108999454189, 16.03324969712985, 3.181207234703701, 8.031927370897817, 6.1115670121980985, 9.729008598424663, 3.888209089494696, 9.518897435338198, 4.970612901306613, 5.080112007113438, 7.254905207386422, 4.842407162071528, 4.909865582093688, 4.431183355800721, 9.538772003434262, 4.715351349178281, 6.079404358499208, 5.282745920793398, 6.5893217242665765, 4.880714708748606, 4.912919680025514, 4.0577852511869565, 4.582231275250516, 5.604260475709312, 4.275009850633045, 4.213598083641856, 2.829027240989002, 2.143214810496401, 2.4704602568835208, 1.996016026195991, 2.4502777704017307, 1.4573943448837912, 1.4573916839263426, 1.4573756819296506, 1.4573481707756217, 1.4567705680771015, 4.814707014255587, 1.4235982942347578, 1.3968944756462929, 1.3535638796901732, 1.352486886457594, 1.348669293104507, 4.897758394356945, 1.3101141436808792, 1.3141273005669045, 2.1706007493262454, 2.124691942250418, 2.1298869596071013, 1.2543637180060867, 1.2567389921367111, 1.72870841262283, 1.6796127047829699, 2.8284563687485753, 5.685726429310316, 2.424397986082962, 1.1947976855228017, 2.418063305027781, 2.7440428069342593, 1.9828345820538709, 2.61736074223706, 4.892132163694532, 18.724207100361653, 5.127257879015219, 2.1408071665116286, 5.826161062123869, 9.692756607422403, 3.428104630100514, 3.5664466588825157, 5.091153025947316, 2.1744152324095896, 4.492346037446508, 2.291173495238946, 5.492821435234444, 10.816459648698313, 3.7454448755357825, 7.750751792439847, 5.603933560466865, 7.007884311215481, 4.329263392899577, 5.7598532282145, 6.593830709659461, 4.84741272775687, 5.20817919809025, 5.808463306836777, 5.057871767489879, 5.123733807201751, 4.760740264138143, 4.6691200061288525, 4.201434196540214, 4.464482617794124, 5.078291710861523, 4.4849290531104025, 4.199620323502603, 4.390299352555933, 5.489486711225689, 2.2249600486733, 2.120866775202819, 2.0825837207432443, 2.6182198168094795, 2.0487703919566917, 1.4643234644702745, 1.4510440614011348, 1.4287124953463197, 1.428535117800931, 1.4432178805007225, 2.411998379077781, 1.4353539824033565, 1.43480337721805, 1.4283006211707838, 1.4203838665522739, 1.892039858256022, 2.7114623623228757, 3.7550284894704973, 1.3634713727624201, 1.3416860984425256, 2.6553839696341868, 1.692045439744781, 1.7351622686884292, 1.2648388492314695, 2.888942320483974, 0.8191728645198529, 0.8191708886287148, 0.8191708026098918, 0.8191703407431553, 1.649880852077374, 2.281752893034878, 1.2067242878564894, 1.1695828984968017, 1.906872982136198, 3.566540008802111, 2.0107005962544204, 2.7377988628319407, 9.680702253090963, 11.793523029554478, 10.853321117005915, 8.324299069585866, 7.969513876988041, 9.138364373528944, 4.999724460833516, 6.271874061848266, 11.595764390775043, 5.576164036905325, 3.571097134507705, 5.335290273260985, 2.893130725766134, 5.224109484470915, 4.547790093613293, 4.750162551909592, 4.899335282699919, 6.848746431601924, 3.9308451751915277, 3.6121249608329498, 3.6372683790445195, 4.052695225466694, 4.5891727694346915, 3.6247263611927654, 4.146171940427569, 3.630195563487436, 4.0492887196761185, 3.772583622169833, 3.5895903256177415, 3.2292890163224115, 1.767622961848165, 2.12109321826208, 1.2453747345542185, 1.2453691655478132, 1.2116311416293637, 1.543250403581265, 2.1795958884096676, 1.7843075816690592, 1.039380699358865, 1.0511375435090848, 1.0315987821361725, 1.0193566875717497, 1.0112963090419285, 1.0086280142268094, 1.0053255084091508, 2.2503613470431074, 1.6473430826077713, 0.9888413231707731, 0.6593147802313691, 0.6593143363735715, 0.6593139128419355, 0.6593124366689181, 0.6593121441789824, 0.6593113519653617, 0.6593094712318148, 0.6593093591749621, 0.6593081663828176, 0.6593072213089778, 0.9821627531513383, 1.6017201840314725, 1.8314124551588393, 1.2557155438283063, 1.2452699976826458, 7.093388929444184, 2.7739208273232223, 1.2164329343447053, 1.1857847524820944, 2.2684490454725474, 3.232517423490518, 8.465747618432793, 5.894190028041349, 1.8758516236201677, 4.839410709133104, 12.249046482746289, 5.879635897054572, 2.235104360686019, 10.400400304316316, 3.4908143539411154, 6.050480510036057, 3.535066603078655, 2.3286334770293595, 5.286466746278346, 4.830654882458681, 3.9693292736753456, 2.8594782907905767, 3.8657221608712558, 4.546358690471522, 3.5452889177993128, 3.7212870491318095, 3.5272638630404396, 2.8548807317121248, 4.028398788365271, 2.7511565347555273, 3.509198108360651, 3.238049188395278, 3.148535604266692, 3.1018830715246892, 2.969496046937354, 3.016873892559935, 2.913940719770361, 2.9041549342099855], \"Term\": [\"government\", \"economy\", \"labor\", \"test\", \"virus\", \"world\", \"company\", \"people\", \"fire\", \"peace\", \"power\", \"sydney\", \"hih\", \"disease\", \"macgill\", \"products\", \"space\", \"rate\", \"damage\", \"area\", \"troops\", \"union\", \"car\", \"australia\", \"child\", \"farmers\", \"war\", \"world_heritage\", \"seles\", \"unions\", \"francs\", \"casinos\", \"hih\", \"dewar\", \"emissions\", \"provisional_liquidation\", \"lubbers\", \"pollutants\", \"kemp\", \"boxes\", \"adam\", \"burakin\", \"richter\", \"metres_butterfly\", \"earthquake\", \"lombe\", \"tel\", \"policies\", \"gas\", \"apra\", \"project\", \"termination\", \"crush\", \"almao\", \"austar\", \"amwu\", \"centres\", \"concerns\", \"solvency\", \"petrol\", \"administrators\", \"collapse\", \"ballot\", \"detainees\", \"industrial_action\", \"entitlements\", \"company\", \"qantas\", \"radio\", \"commission\", \"directors\", \"creditors\", \"report\", \"insurance\", \"royal_commission\", \"giant\", \"workers\", \"asylum_seekers\", \"tora_bora\", \"pay\", \"unions\", \"son\", \"metres\", \"months\", \"day\", \"australia\", \"number\", \"people\", \"airline\", \"today\", \"man\", \"morning\", \"members\", \"spokesman\", \"yesterday\", \"staff\", \"claims\", \"government\", \"force\", \"world\", \"police\", \"area\", \"boje\", \"taliban_forces\", \"ticket\", \"gabriel\", \"gutnick\", \"beattie\", \"mcmenamin\", \"sometimes\", \"investigate\", \"fighting\", \"engines\", \"soil\", \"intervene\", \"voracity\", \"drip\", \"cosgrove\", \"denies\", \"competition\", \"dixon\", \"pawlik\", \"club\", \"divide\", \"football\", \"differences\", \"joseph\", \"ill\", \"flower\", \"vision\", \"cherry\", \"fear\", \"doctors\", \"malaysia\", \"cease_fire\", \"zinni\", \"hicks\", \"cancer\", \"recommendations\", \"twu\", \"effort\", \"rate\", \"region\", \"pakistan\", \"peace\", \"levels\", \"violence\", \"australian_authorities\", \"downer\", \"australians\", \"people\", \"organisation\", \"talks\", \"family\", \"mission\", \"army\", \"test\", \"year\", \"allegations\", \"president\", \"government\", \"innings\", \"officials\", \"statement\", \"man\", \"today\", \"sydney\", \"month\", \"time\", \"day\", \"report\", \"yesterday\", \"firefighters\", \"security\", \"police\", \"force\", \"commission\", \"hours\", \"farmers\", \"seles\", \"truss\", \"razzano\", \"alcohol\", \"subsidies\", \"spills\", \"spill\", \"phillip\", \"prosecution\", \"university\", \"federation\", \"amalgamation\", \"annan\", \"invasion\", \"tyco\", \"oil\", \"rates\", \"gift\", \"dennehy\", \"ferguson\", \"clement\", \"gambill\", \"caird\", \"executive\", \"kissinger\", \"yachts\", \"monica\", \"ford\", \"labor\", \"tuesday\", \"yacht_race\", \"damage\", \"documents\", \"party\", \"union\", \"event\", \"problem\", \"storm\", \"state\", \"fire\", \"world\", \"minutes\", \"volunteers\", \"information\", \"powers\", \"sector\", \"sydney\", \"today\", \"unions\", \"day\", \"hamas\", \"people\", \"metres\", \"meeting\", \"time\", \"government\", \"support\", \"year\", \"process\", \"minister\", \"australia\", \"wales\", \"security\", \"police\", \"yesterday\", \"president\", \"action\", \"world_heritage\", \"jan\", \"templeton\", \"schneiders\", \"rainforest\", \"crackdown\", \"palestinian_police\", \"lyndon\", \"ravenshoe\", \"wilderness\", \"protect\", \"pistols\", \"appropriate\", \"dempsey\", \"patients\", \"jail_sentence\", \"tropics\", \"departure\", \"bandage\", \"akbar\", \"wet\", \"persuade\", \"herberton\", \"instance\", \"beck\", \"proxies\", \"stoppage\", \"shareholders\", \"complaints\", \"explosives\", \"containment\", \"arab\", \"ward\", \"legal_advice\", \"weapons\", \"connection\", \"sheikh\", \"rfds\", \"cheney\", \"groups\", \"militants\", \"area\", \"bank\", \"aircraft\", \"comeback\", \"lockett\", \"militia\", \"service\", \"property\", \"weather_bureau\", \"management\", \"palestinians\", \"security\", \"taliban\", \"trees\", \"arrest\", \"hospital\", \"leader\", \"force\", \"fire\", \"agreement\", \"attacks\", \"pressure\", \"airport\", \"authorities\", \"troops\", \"week\", \"city\", \"police\", \"man\", \"fires\", \"forces\", \"areas\", \"statement\", \"today\", \"attack\", \"time\", \"people\", \"sydney\", \"united_states\", \"brain\", \"saa\", \"drug\", \"greens\", \"rodriguez\", \"communications\", \"campaigns\", \"senate\", \"habeel\", \"rehman\", \"cells\", \"disarray\", \"exert\", \"promise\", \"ranks\", \"inability\", \"commitments\", \"kerry\", \"democrats\", \"retirees\", \"bourne\", \"adolfo\", \"senator\", \"pensions\", \"checks\", \"suitcases\", \"presents\", \"drivers\", \"apologies\", \"controls\", \"words\", \"lindsay\", \"suicide_attacks\", \"embryos\", \"embryo\", \"guards\", \"fazalur\", \"middle_east\", \"power\", \"grant\", \"powell\", \"house\", \"coup\", \"research\", \"chechen\", \"palace\", \"sharon\", \"united_states\", \"leader\", \"peace\", \"government\", \"hewitt\", \"attacks\", \"week\", \"time\", \"office\", \"security\", \"control\", \"authorities\", \"president\", \"arafat\", \"israel\", \"palestinians\", \"people\", \"afghanistan\", \"force\", \"war\", \"police\", \"way\", \"meeting\", \"palestinian_authority\", \"years\", \"man\", \"per_cent\", \"claims\", \"cow\", \"jackson\", \"centuries\", \"parents\", \"procedure\", \"potts\", \"zeus\", \"maker\", \"mitsubishi\", \"fatalities\", \"macgill\", \"sponsors\", \"zealander\", \"editor\", \"brazil\", \"paedophiles\", \"car\", \"abortion\", \"locals\", \"stuart\", \"debate\", \"honours\", \"clash\", \"clubs\", \"trounson\", \"personality\", \"roads\", \"disease\", \"spinner\", \"razor\", \"south_australia\", \"andy_bichel\", \"offenders\", \"bowler\", \"bill\", \"government\", \"child\", \"holiday\", \"centre\", \"man\", \"new_zealand\", \"deaths\", \"terrorism\", \"pace\", \"year_old\", \"budget\", \"team\", \"people\", \"south_africa\", \"day\", \"wales\", \"security\", \"opposition\", \"morning\", \"police\", \"attack\", \"state\", \"company\", \"year\", \"yesterday\", \"test\", \"group\", \"reports\", \"hours\", \"today\", \"australia\", \"members\", \"time\", \"virus\", \"megawati\", \"computers\", \"computer\", \"rabbani\", \"slips\", \"crowe\", \"comedy\", \"actress\", \"nominations\", \"software\", \"email\", \"mcafee\", \"badtrans\", \"users\", \"worm\", \"indiana\", \"ashes\", \"factory\", \"mcdonald\", \"chain\", \"europe\", \"ganges\", \"goshen\", \"wood\", \"summit\", \"drawn\", \"appointment\", \"threatens\", \"objections\", \"join\", \"benares\", \"millwork\", \"fans\", \"derrick\", \"howard\", \"actor\", \"address\", \"australia\", \"today\", \"police\", \"yesterday\", \"president\", \"day\", \"match\", \"test\", \"people\", \"action\", \"space\", \"power\", \"rafter\", \"group\", \"talks\", \"union\", \"hours\", \"government\", \"family\", \"pay\", \"sharon\", \"days\", \"man\", \"services\", \"time\", \"team\", \"company\", \"security\", \"products\", \"projects\", \"macfarlane\", \"knop\", \"hooke\", \"grocery\", \"belgium\", \"front\", \"treasurer\", \"route\", \"pickup\", \"farina\", \"mcreddie\", \"proceed\", \"provisions\", \"servant\", \"people_including\", \"tailenders\", \"soccer\", \"struck\", \"shelves\", \"ingredients\", \"crops\", \"brands\", \"discontent\", \"masks\", \"slump\", \"looks\", \"teargas\", \"disperse\", \"tank\", \"rudd\", \"consumers\", \"arrivals\", \"assa_abloy\", \"economy\", \"cost\", \"defendants\", \"burden\", \"costs\", \"side\", \"world\", \"war\", \"food\", \"troops\", \"people\", \"sydney\", \"population\", \"government\", \"lot\", \"fire\", \"defence\", \"recession\", \"year\", \"days\", \"work\", \"buildings\", \"test\", \"time\", \"wales\", \"morning\", \"hours\", \"role\", \"police\", \"line\", \"force\", \"areas\", \"forces\", \"staff\", \"group\", \"united_states\", \"way\", \"state\"], \"Total\": [88.0, 20.0, 19.0, 32.0, 6.0, 42.0, 54.0, 103.0, 42.0, 25.0, 29.0, 33.0, 10.0, 10.0, 7.0, 4.0, 12.0, 16.0, 16.0, 35.0, 23.0, 28.0, 7.0, 45.0, 15.0, 5.0, 29.0, 5.0, 6.0, 24.0, 5.068149418697135, 4.194055466446913, 10.051088279345434, 3.3572358654862087, 3.357234568153498, 5.829389174106246, 2.5017779314782134, 2.501777373888022, 2.5017753393388484, 2.5017738274183143, 2.501771630237505, 2.501772903397964, 2.501772853436507, 2.5017722438602537, 2.5017696713940603, 2.498800384371162, 2.502551068042097, 2.4894093647087523, 7.524080361074497, 2.4823000164492592, 4.825821068432703, 3.348658668747973, 2.496243520514501, 4.127710647553811, 4.23720612304985, 3.3395596411770927, 2.508385451807081, 5.760126385460683, 2.4675914843733864, 4.043105806490739, 5.974361939131076, 10.568117730420395, 8.287847050967054, 16.790515703323244, 10.820095908837132, 8.569118296596734, 54.06564446626926, 15.763475619498305, 20.794790855184665, 29.92827428817453, 10.208021556633454, 5.06282571868925, 32.00712806920107, 7.535375269696537, 10.80218919276785, 5.72512999033152, 28.47762052228013, 16.051836443676585, 13.404853845222782, 17.031554229728005, 24.905454737074667, 8.236805216717505, 20.171394385322618, 16.71336621350951, 57.241084950682, 45.360073111112314, 29.359003531123367, 103.34702907140489, 18.160289026695086, 62.7038279753937, 51.796135588007104, 37.776928540419945, 30.983181909601605, 28.165383781354752, 40.52933435459484, 31.14265320912965, 26.331314855428207, 88.79868344272697, 40.45355360920152, 42.53499447917853, 57.559304843608494, 35.98764852189476, 4.401979039435589, 4.333997645926116, 3.4992103417302527, 3.499210202469203, 2.596427730299083, 3.4434187313990696, 4.347818272207285, 2.549345685964777, 2.544257074415209, 2.542593538210354, 3.476496125684622, 3.3422286362178735, 2.5605688298922993, 2.544710095629457, 2.573261366085263, 2.5985878965812534, 2.564897531254729, 4.2720397592613875, 2.457629116304745, 2.576841936454331, 6.131169746418436, 1.6936486470097007, 1.6936490739364722, 1.6936489247723896, 1.6936478677321973, 1.6936476937028861, 1.6936473771387637, 1.693647362675191, 1.6936466362147233, 1.6936460511192046, 5.12483392026886, 2.5377868574826157, 6.022499942473401, 8.647518462633933, 11.703612783719809, 12.004597232321274, 4.3058463688395126, 2.567304770272068, 5.037040538895008, 16.488491279870885, 17.370828467841086, 18.711951482024485, 25.943214904062334, 6.255453666460891, 18.822127995591327, 7.4004910727949955, 6.744996559620871, 19.313023801835275, 103.34702907140489, 9.50413804659582, 23.70866369450651, 21.715489766204136, 12.49993994499487, 12.162441238415733, 32.198163855199155, 36.514070921740014, 11.814761186720633, 42.0191604952748, 88.79868344272697, 13.055807856253647, 24.231741957676327, 23.178079870188256, 51.796135588007104, 62.7038279753937, 33.700594141299405, 29.465973260028576, 49.33541163477655, 57.241084950682, 32.00712806920107, 40.52933435459484, 20.030470716649933, 52.088715655993056, 57.559304843608494, 40.45355360920152, 29.92827428817453, 32.726282883314546, 5.721245579264157, 6.423230748281696, 3.2560532080881526, 4.004395947670697, 2.434324768778681, 2.4343239365375386, 2.43432553975074, 2.434325654059582, 2.434325355684461, 2.434325636244002, 5.706281438950182, 3.9467682243657185, 2.4374220265572886, 2.4388000749050494, 4.054660716240839, 3.194542128144389, 5.694025941051269, 5.730445957181986, 2.4444876935920585, 2.444515201246059, 2.438728761967002, 2.3939175025141908, 2.3949359058980155, 2.4037469517161916, 4.10310235566593, 4.059347021995065, 6.092155687021995, 2.374248789561022, 4.935479392318989, 19.806219735324202, 4.020133019803129, 4.663978404261163, 16.0615255058277, 4.892661471522649, 18.602791907561908, 28.547541638500473, 13.84209176414414, 7.228358108330191, 11.654755421769998, 33.74300640215227, 42.07780057494999, 42.53499447917853, 4.105223126063757, 6.173215417731698, 18.7230139565295, 7.823938163113783, 11.46833891352398, 33.700594141299405, 62.7038279753937, 24.905454737074667, 57.241084950682, 17.852052659961643, 103.34702907140489, 20.171394385322618, 30.051290164235695, 49.33541163477655, 88.79868344272697, 23.778246457475255, 36.514070921740014, 18.071230741683497, 20.760476541168057, 45.360073111112314, 29.885858155562016, 52.088715655993056, 57.559304843608494, 40.52933435459484, 42.0191604952748, 27.34838761464998, 5.337954302184268, 3.5191131145647563, 3.4101635689356837, 2.609699523391877, 2.6096985463265017, 3.4182599903409128, 5.958931697050666, 1.7002829841171345, 1.700283215958151, 1.7002831719058777, 1.700282273458464, 1.7002823283407558, 1.7002823189318428, 1.7002824216960628, 1.70028161879269, 1.700281953818483, 1.700281173262013, 1.700281220418215, 1.700280747362554, 1.700280423278246, 1.7002801665260519, 1.70028003351299, 1.7002793113753816, 2.607025761440627, 1.6994195518600228, 1.6994091274672014, 1.6991402480547242, 1.6989988287915563, 1.698953739821437, 7.530938040948433, 4.049782165193514, 3.3957207878713467, 2.5381633172791647, 4.30117196161917, 14.974350429234567, 5.0457383122104345, 4.305257362682282, 3.1203625593714857, 3.3782225048144525, 24.962845752464386, 25.869903799674297, 35.98764852189476, 7.4892951842045985, 15.516655040707322, 3.294066154348534, 7.2024978441953955, 9.321312945440832, 12.200240877076224, 6.652973299483328, 3.3930490728483678, 11.08463617314026, 17.507262014334913, 52.088715655993056, 17.45957438828482, 10.925520107359635, 10.04973986675644, 17.2739467480823, 19.830729470475543, 40.45355360920152, 42.07780057494999, 21.78324237961431, 35.11700930123739, 21.523517170029514, 15.265141933645548, 21.028378796703905, 23.11224033643287, 24.078188123481954, 27.261324049965236, 57.559304843608494, 51.796135588007104, 16.091860558006125, 27.756192048243015, 29.64644216241217, 23.178079870188256, 62.7038279753937, 27.15106704012562, 49.33541163477655, 103.34702907140489, 33.700594141299405, 37.64318513792049, 4.15591974030828, 3.3112097611361846, 5.653256562073313, 2.465675539726604, 2.465675954281678, 3.326397356255515, 2.4203204069261655, 4.180491709563563, 3.161533491840527, 3.147893581362499, 4.058346356024613, 1.628273015535899, 1.6282725118750216, 1.6282728460055376, 1.6282728778250275, 1.6282728715631334, 1.6282720221034985, 1.6282708458001096, 1.628270331713804, 1.628270768113914, 1.6282704846144846, 1.6282691526649036, 1.6282701850360863, 1.6282701863695261, 1.6282693418874916, 1.6288564243020545, 1.628891847609527, 1.6289398314646233, 1.6290956578963598, 1.6291551675763125, 4.88424442228074, 2.3501062101547117, 11.329550568311594, 3.186432780734532, 3.1938896593909956, 3.2981447114838267, 2.3514581126615965, 8.169799797224773, 29.398047080750562, 3.284158266122456, 8.596916098464952, 20.605076722675467, 4.730998819392087, 7.151102529084158, 4.206876128282765, 3.749229145224123, 19.489239768839955, 37.64318513792049, 19.830729470475543, 25.943214904062334, 88.79868344272697, 8.865016110673183, 35.11700930123739, 24.078188123481954, 49.33541163477655, 12.428574473070736, 52.088715655993056, 19.97734709764513, 21.028378796703905, 42.0191604952748, 20.012476744213856, 20.796102310995714, 17.507262014334913, 103.34702907140489, 21.565274261651584, 40.45355360920152, 29.84218697537149, 57.559304843608494, 28.346578851284903, 30.051290164235695, 16.401598468924394, 25.06752502559527, 51.796135588007104, 20.064752747543352, 26.331314855428207, 3.5343544628798798, 2.848481280209412, 3.5246047592316865, 2.8762044618749445, 3.622337521758473, 2.1626082773142694, 2.1626077858385977, 2.162609958075148, 2.1626175879809906, 2.1625267717528325, 7.194062327224522, 2.171373461023766, 2.177603003784139, 2.1635503408203376, 2.1688883311598333, 2.1637762806065446, 7.955229058272516, 2.176138961040392, 2.190988525664849, 3.6542520697608167, 3.6111931603218075, 3.6358845784291454, 2.1501410410911634, 2.1555299089736972, 2.967503249134934, 2.9182798939836196, 4.9720332767419, 10.318335403661147, 4.4110202814430615, 2.1788028832062123, 4.462941439543097, 5.2148871347742025, 3.739744335324824, 5.265235342828774, 12.984783010181628, 88.79868344272697, 15.129606441015033, 4.34580787210819, 22.311242872264454, 51.796135588007104, 9.57417183769148, 10.497413317664702, 21.265814408849284, 4.502551217211692, 17.90067512258233, 5.050824410263851, 26.648292514607338, 103.34702907140489, 13.01791583884988, 57.241084950682, 29.885858155562016, 52.088715655993056, 18.881247557655406, 37.776928540419945, 57.559304843608494, 27.15106704012562, 33.74300640215227, 54.06564446626926, 36.514070921740014, 40.52933435459484, 32.198163855199155, 30.95083446090604, 23.120135200027793, 32.726282883314546, 62.7038279753937, 45.360073111112314, 30.983181909601605, 49.33541163477655, 6.686816050485358, 2.9842153768673225, 3.001139037625373, 3.00751491497379, 3.7836980387282257, 2.9622226136589016, 2.2310150163712055, 2.228429420256337, 2.224070892157371, 2.2240350018522013, 2.2641470052159427, 3.7952342262751837, 2.265648245142107, 2.265620273088074, 2.266796420092903, 2.2682728213589645, 3.032906099828581, 4.366493969245734, 6.083575793662851, 2.279347038922364, 2.28315384011871, 4.597476249905722, 2.938302594349839, 3.056437928931333, 2.2895882418682714, 5.342928744142499, 1.5190380789409401, 1.5190384224733346, 1.5190385208444797, 1.519038377098852, 3.095469483912664, 4.341638174102777, 2.298305731043457, 2.2224971684451904, 3.8701551391306737, 8.00197745021953, 4.146655000713988, 6.24487548551037, 45.360073111112314, 62.7038279753937, 57.559304843608494, 40.52933435459484, 42.0191604952748, 57.241084950682, 20.98775656036821, 32.198163855199155, 103.34702907140489, 27.34838761464998, 12.294274835990125, 29.398047080750562, 8.915253681441893, 30.95083446090604, 23.70866369450651, 28.547541638500473, 32.726282883314546, 88.79868344272697, 21.715489766204136, 17.031554229728005, 19.489239768839955, 31.1855617690804, 51.796135588007104, 20.185803227901747, 49.33541163477655, 26.648292514607338, 54.06564446626926, 52.088715655993056, 4.307377018985442, 4.4942876179824065, 2.5645915854482917, 3.298729474832042, 1.9630341796174764, 1.9630366911777357, 1.9775046474006583, 2.635182473911252, 3.8849092694689342, 3.2921797804259736, 2.012978707854495, 2.0701946544399688, 2.047823503106117, 2.0499329865874043, 2.0524348114464166, 2.0566341342426613, 2.0548448442229352, 4.676349270897878, 3.430026126867962, 2.061600814822551, 1.3769505584262833, 1.376951016342363, 1.3769507139169925, 1.3769513756344112, 1.3769514506590528, 1.376951644744676, 1.3769522915477024, 1.376952755666001, 1.3769534388365638, 1.3769537439082313, 2.098243387357275, 3.534372513909256, 4.158557756819665, 2.7719863769614888, 2.784806301330769, 20.437420160262075, 7.0689734915201345, 2.8387818737719117, 2.8513680182301697, 6.53916033322594, 10.79758554589814, 42.53499447917853, 29.84218697537149, 5.430599294454788, 23.11224033643287, 103.34702907140489, 33.700594141299405, 7.245332131579714, 88.79868344272697, 15.896777078608034, 42.07780057494999, 16.964224427553567, 8.175081446597463, 36.514070921740014, 31.1855617690804, 21.860154117096684, 12.117120009509028, 32.198163855199155, 49.33541163477655, 29.885858155562016, 37.776928540419945, 32.726282883314546, 16.624056682157956, 57.559304843608494, 14.755990146960194, 40.45355360920152, 29.64644216241217, 27.756192048243015, 31.14265320912965, 30.95083446090604, 37.64318513792049, 28.346578851284903, 33.74300640215227], \"loglift\": [30.0, 29.0, 28.0, 27.0, 26.0, 25.0, 24.0, 23.0, 22.0, 21.0, 20.0, 19.0, 18.0, 17.0, 16.0, 15.0, 14.0, 13.0, 12.0, 11.0, 10.0, 9.0, 8.0, 7.0, 6.0, 5.0, 4.0, 3.0, 2.0, 1.0, 1.5689, 1.5242, 1.5217, 1.486, 1.486, 1.4559, 1.3945, 1.3945, 1.3945, 1.3945, 1.3945, 1.3945, 1.3945, 1.3945, 1.3944, 1.3905, 1.3873, 1.3625, 1.3565, 1.3418, 1.3252, 1.3237, 1.3163, 1.3159, 1.3133, 1.3078, 1.3063, 1.3052, 1.3022, 1.3001, 1.281, 1.2615, 1.2628, 1.2166, 1.2344, 1.2454, 1.0452, 1.1118, 1.0719, 0.958, 1.1276, 1.2507, 0.8469, 1.1576, 1.0642, 1.2047, 0.8307, 0.9547, 0.9762, 0.9088, 0.8004, 1.1056, 0.787, 0.842, 0.365, 0.4503, 0.6181, 0.0865, 0.7949, 0.1805, 0.2511, 0.332, 0.4267, 0.409, 0.1158, 0.3059, 0.4259, -0.5038, 0.0907, 0.0204, -0.2537, 0.1333, 1.7652, 1.7262, 1.7171, 1.7171, 1.6298, 1.6215, 1.5938, 1.573, 1.5677, 1.5647, 1.5523, 1.5444, 1.5421, 1.4937, 1.4916, 1.4628, 1.4608, 1.4581, 1.4538, 1.4343, 1.4338, 1.4211, 1.4211, 1.4211, 1.4211, 1.4211, 1.4211, 1.4211, 1.4211, 1.4211, 1.4161, 1.4183, 1.3924, 1.3688, 1.3538, 1.2752, 1.3506, 1.3906, 1.3355, 1.2075, 1.1058, 1.042, 0.9629, 1.2576, 0.935, 1.1756, 1.2032, 0.8603, 0.3001, 1.0885, 0.755, 0.7775, 0.9793, 0.9874, 0.5425, 0.4694, 0.9675, 0.3756, -0.0143, 0.9133, 0.6096, 0.6095, 0.0671, -0.0854, 0.3054, 0.3734, -0.0073, -0.1363, 0.2609, 0.0773, 0.5907, -0.1363, -0.2135, 0.0458, 0.2825, 0.2029, 1.8246, 1.7648, 1.7154, 1.6866, 1.6206, 1.6206, 1.6206, 1.6206, 1.6205, 1.6205, 1.6085, 1.607, 1.6025, 1.5924, 1.5847, 1.5779, 1.57, 1.565, 1.5603, 1.5602, 1.5554, 1.5335, 1.5317, 1.5212, 1.5077, 1.4907, 1.4706, 1.456, 1.4519, 1.4434, 1.4313, 1.4227, 1.2819, 1.4162, 1.0737, 0.961, 1.1382, 1.2639, 1.1207, 0.6894, 0.5224, 0.4802, 1.412, 1.2468, 0.7719, 1.1381, 0.9618, 0.4673, 0.1513, 0.5835, 0.1643, 0.7378, -0.2029, 0.6624, 0.4351, 0.1437, -0.2314, 0.5215, 0.2194, 0.6687, 0.5418, -0.0411, 0.2639, -0.2132, -0.3221, -0.0304, -0.0985, 0.2772, 1.8912, 1.8131, 1.7304, 1.7264, 1.7264, 1.5487, 1.5318, 1.5189, 1.5189, 1.5189, 1.5189, 1.5189, 1.5189, 1.5189, 1.5189, 1.5189, 1.5189, 1.5189, 1.5189, 1.5189, 1.5189, 1.5188, 1.5188, 1.5174, 1.5151, 1.5151, 1.5139, 1.5133, 1.5131, 1.4972, 1.4528, 1.4631, 1.479, 1.4227, 1.2774, 1.3849, 1.3961, 1.4306, 1.4186, 1.0615, 1.0245, 0.9588, 1.2507, 1.1101, 1.3932, 1.2321, 1.1456, 1.0752, 1.2127, 1.3608, 1.0885, 0.9822, 0.636, 0.9399, 1.0677, 1.0739, 0.9, 0.8231, 0.5424, 0.5155, 0.7634, 0.5212, 0.7259, 0.8707, 0.72, 0.6697, 0.6322, 0.5651, 0.1486, 0.1785, 0.82, 0.4919, 0.4436, 0.5964, -0.0585, 0.4647, -0.0507, -0.7131, 0.2256, 0.0607, 1.8981, 1.8778, 1.8646, 1.8276, 1.8276, 1.8045, 1.6943, 1.6853, 1.6292, 1.6276, 1.6093, 1.6066, 1.6066, 1.6066, 1.6066, 1.6066, 1.6066, 1.6065, 1.6065, 1.6065, 1.6065, 1.6065, 1.6065, 1.6065, 1.6065, 1.5982, 1.5977, 1.597, 1.5947, 1.5939, 1.5818, 1.5827, 1.3667, 1.5086, 1.492, 1.4719, 1.5336, 1.2655, 0.9273, 1.4389, 1.2037, 0.9787, 1.3465, 1.2376, 1.37, 1.3903, 0.9559, 0.7776, 0.9448, 0.8199, 0.4421, 1.1289, 0.6785, 0.7826, 0.5302, 0.9917, 0.4541, 0.7627, 0.7332, 0.3973, 0.7348, 0.7103, 0.7798, -0.229, 0.6335, 0.2585, 0.4223, -0.0136, 0.3946, 0.3427, 0.757, 0.4544, -0.07, 0.6076, 0.3213, 2.0106, 1.9487, 1.8779, 1.8679, 1.8423, 1.8386, 1.8386, 1.8385, 1.8385, 1.8382, 1.8316, 1.8111, 1.7893, 1.7642, 1.761, 1.7605, 1.7482, 1.7258, 1.722, 1.7123, 1.7028, 1.6984, 1.6943, 1.6937, 1.6929, 1.6808, 1.6691, 1.6373, 1.6347, 1.6324, 1.6204, 1.5911, 1.5987, 1.5343, 1.2571, 0.6767, 1.1511, 1.5252, 0.8905, 0.5573, 1.2062, 1.1537, 0.8036, 1.5053, 0.8508, 1.4427, 0.6539, -0.0238, 0.9874, 0.2337, 0.5593, 0.2273, 0.7605, 0.3524, 0.0665, 0.5103, 0.3647, 0.0023, 0.2565, 0.1651, 0.3217, 0.3418, 0.5279, 0.2412, -0.2802, -0.0807, 0.2348, -0.186, 2.1303, 2.034, 1.9805, 1.9601, 1.9594, 1.9589, 1.9066, 1.8986, 1.8851, 1.885, 1.8773, 1.8743, 1.8712, 1.8708, 1.8657, 1.8595, 1.8558, 1.8512, 1.8451, 1.8138, 1.796, 1.7787, 1.7757, 1.7615, 1.7342, 1.7127, 1.7101, 1.7101, 1.7101, 1.7101, 1.6984, 1.6843, 1.6834, 1.6856, 1.6198, 1.5195, 1.6038, 1.503, 0.7831, 0.6568, 0.6593, 0.7448, 0.6651, 0.4928, 0.8931, 0.6918, 0.1402, 0.7375, 1.0914, 0.621, 1.2022, 0.5485, 0.6764, 0.5342, 0.4285, -0.2347, 0.6185, 0.7769, 0.649, 0.2871, -0.096, 0.6104, -0.1488, 0.3342, -0.264, -0.2976, 2.3352, 2.1869, 2.1453, 2.0758, 2.0624, 2.0624, 2.0276, 1.9824, 1.9395, 1.9049, 1.8565, 1.8397, 1.8318, 1.8188, 1.8097, 1.805, 1.8026, 1.786, 1.784, 1.7827, 1.781, 1.781, 1.781, 1.781, 1.781, 1.781, 1.781, 1.781, 1.781, 1.781, 1.7584, 1.726, 1.6974, 1.7256, 1.7126, 1.4592, 1.582, 1.67, 1.6401, 1.4587, 1.3114, 0.9032, 0.8955, 1.4545, 0.9539, 0.3848, 0.7714, 1.3414, 0.3729, 1.0015, 0.5781, 0.9491, 1.2616, 0.5849, 0.6525, 0.8114, 1.0735, 0.3977, 0.1331, 0.3857, 0.1998, 0.2898, 0.7556, -0.142, 0.8378, 0.0727, 0.3031, 0.3409, 0.2109, 0.1734, -0.0065, 0.2425, 0.0648], \"logprob\": [30.0, 29.0, 28.0, 27.0, 26.0, 25.0, 24.0, 23.0, 22.0, 21.0, 20.0, 19.0, 18.0, 17.0, 16.0, 15.0, 14.0, 13.0, 12.0, 11.0, 10.0, 9.0, 8.0, 7.0, 6.0, 5.0, 4.0, 3.0, 2.0, 1.0, -6.4702, -6.7042, -5.8327, -6.9649, -6.9649, -6.4433, -7.3506, -7.3506, -7.3506, -7.3506, -7.3506, -7.3506, -7.3506, -7.3506, -7.3506, -7.3558, -7.3574, -7.3875, -6.2874, -7.411, -6.7629, -7.1298, -7.4309, -6.9284, -6.9048, -7.1484, -7.4362, -6.6059, -7.4566, -6.9649, -6.5935, -6.0427, -6.2845, -5.6247, -6.0463, -6.2685, -4.6266, -5.7926, -5.5555, -5.3053, -6.2113, -6.7894, -5.3492, -6.4849, -6.2181, -6.7124, -5.4822, -5.9315, -6.0902, -5.9181, -5.6466, -6.4479, -5.8708, -6.0039, -5.2498, -5.3972, -5.6644, -4.9375, -5.9679, -5.3431, -5.4636, -5.6984, -5.8019, -5.9149, -5.8443, -5.9176, -5.9654, -5.6795, -5.8712, -5.8913, -5.8629, -5.9456, -6.4148, -6.4694, -6.6925, -6.6925, -7.0781, -6.8041, -6.5986, -7.1532, -7.1605, -7.1642, -6.8638, -6.9111, -7.1798, -7.2344, -7.2252, -7.2443, -7.2594, -6.7519, -7.3091, -7.2812, -6.4148, -7.7141, -7.7141, -7.7141, -7.7141, -7.7141, -7.7141, -7.7141, -7.7141, -7.7141, -6.6119, -7.3124, -6.4742, -6.1359, -5.8484, -5.9016, -6.8515, -7.3286, -6.7097, -5.6519, -5.7015, -5.6909, -5.4433, -6.571, -5.792, -6.4849, -6.55, -5.841, -4.7238, -6.3218, -5.7412, -5.8065, -6.157, -6.1763, -5.6476, -5.5949, -6.2252, -5.5483, -5.19, -6.1796, -5.8648, -5.9094, -5.6477, -5.609, -5.8391, -5.9054, -5.7707, -5.7511, -5.9352, -5.8827, -6.0741, -5.8454, -5.8227, -5.9161, -5.9808, -5.971, -6.0932, -6.0374, -6.7662, -6.5881, -7.1518, -7.1518, -7.1518, -7.1518, -7.1518, -7.1518, -6.312, -6.6821, -7.1686, -7.1782, -6.6775, -6.9227, -6.3527, -6.3512, -7.2079, -7.208, -7.2152, -7.2557, -7.257, -7.2638, -6.7426, -6.7703, -6.3844, -7.3414, -6.6137, -5.2327, -6.8394, -6.6995, -5.6037, -6.6581, -5.665, -5.3495, -5.8961, -6.4202, -6.0856, -5.4538, -5.4001, -5.4315, -6.8378, -6.5951, -5.9604, -6.4668, -6.2607, -5.6772, -5.3723, -5.8635, -5.4505, -6.0422, -5.2268, -5.9954, -5.824, -5.6197, -5.4071, -5.9718, -5.8449, -6.099, -6.0872, -5.8885, -6.0007, -5.9223, -5.9313, -5.9904, -6.0224, -6.0762, -6.096, -6.5908, -6.7049, -6.9764, -6.9764, -6.8842, -6.3454, -7.6124, -7.6124, -7.6124, -7.6124, -7.6124, -7.6124, -7.6124, -7.6124, -7.6124, -7.6124, -7.6124, -7.6124, -7.6124, -7.6124, -7.6124, -7.6124, -7.1865, -7.6166, -7.6167, -7.618, -7.6187, -7.6189, -6.1459, -6.8106, -6.9764, -7.2516, -6.7805, -5.6783, -6.6586, -6.8061, -7.0936, -7.0261, -5.3831, -5.3845, -5.1201, -6.3978, -5.81, -7.0767, -6.4556, -6.2841, -6.0854, -6.5543, -7.0795, -6.168, -5.8173, -5.0731, -5.8623, -6.2032, -6.2806, -5.9128, -5.8517, -5.4195, -5.407, -5.8176, -5.5822, -5.867, -6.0658, -5.8962, -5.852, -5.8485, -5.7914, -5.4607, -5.5363, -6.0637, -5.8467, -5.8292, -5.9224, -5.5821, -5.8959, -5.8141, -5.7371, -5.919, -5.9732, -6.3394, -6.587, -6.0653, -6.932, -6.932, -6.6557, -7.0838, -6.5463, -6.8818, -6.8877, -6.652, -7.568, -7.568, -7.568, -7.568, -7.568, -7.568, -7.568, -7.568, -7.568, -7.568, -7.568, -7.568, -7.568, -7.568, -7.576, -7.5765, -7.5771, -7.5793, -7.5801, -6.4943, -7.2249, -5.8679, -6.9945, -7.0088, -6.9968, -7.2734, -6.2961, -5.3538, -7.0341, -6.307, -5.6578, -6.7614, -6.4572, -6.8553, -6.9502, -5.7363, -5.2563, -5.73, -5.5862, -4.7336, -6.351, -5.4249, -5.6981, -5.2332, -6.1503, -5.255, -5.9047, -5.8829, -5.5266, -5.9309, -5.917, -6.0196, -5.2529, -5.9575, -5.7034, -5.8438, -5.6228, -5.923, -5.9164, -6.1076, -5.9861, -5.7848, -6.0555, -6.07, -6.3889, -6.6665, -6.5244, -6.7377, -6.5326, -7.0522, -7.0522, -7.0522, -7.0522, -7.0526, -5.8572, -7.0756, -7.0946, -7.1261, -7.1269, -7.1297, -5.84, -7.1587, -7.1557, -6.6538, -6.6752, -6.6728, -7.2022, -7.2003, -6.8815, -6.9103, -6.3891, -5.6909, -6.5432, -7.2509, -6.5459, -6.4194, -6.7443, -6.4667, -5.8412, -4.499, -5.7943, -6.6676, -5.6665, -5.1574, -6.1968, -6.1573, -5.8013, -6.6521, -5.9265, -6.5998, -5.7254, -5.0478, -6.1083, -5.381, -5.7054, -5.4818, -5.9634, -5.6779, -5.5427, -5.8504, -5.7786, -5.6695, -5.8079, -5.7949, -5.8684, -5.8879, -5.9934, -5.9327, -5.8039, -5.9281, -5.9938, -5.9494, -5.6316, -6.5347, -6.5826, -6.6008, -6.3719, -6.6172, -6.953, -6.9621, -6.9777, -6.9778, -6.9676, -6.454, -6.973, -6.9734, -6.9779, -6.9835, -6.6968, -6.3369, -6.0113, -7.0244, -7.0405, -6.3578, -6.8085, -6.7833, -7.0995, -6.2735, -7.5339, -7.5339, -7.5339, -7.5339, -6.8337, -6.5095, -7.1465, -7.1778, -6.689, -6.0628, -6.6359, -6.3273, -5.0643, -4.8669, -4.95, -5.2152, -5.2588, -5.1219, -5.725, -5.4984, -4.8838, -5.6159, -6.0616, -5.6601, -6.2721, -5.6811, -5.8198, -5.7762, -5.7453, -5.4104, -5.9656, -6.0501, -6.0432, -5.935, -5.8107, -6.0466, -5.9122, -6.0451, -5.9359, -6.0067, -5.8666, -5.9723, -6.575, -6.3927, -6.9252, -6.9252, -6.9526, -6.7107, -6.3655, -6.5656, -7.106, -7.0947, -7.1135, -7.1254, -7.1334, -7.136, -7.1393, -6.3335, -6.6454, -7.1558, -7.5612, -7.5612, -7.5612, -7.5612, -7.5612, -7.5612, -7.5612, -7.5612, -7.5612, -7.5612, -7.1626, -6.6735, -6.5395, -6.9169, -6.9252, -5.1854, -6.1243, -6.9487, -6.9742, -6.3255, -5.9713, -5.0086, -5.3706, -6.5155, -5.5678, -4.6392, -5.3731, -6.3403, -4.8028, -5.8945, -5.3445, -5.8819, -6.2993, -5.4795, -5.5696, -5.766, -6.094, -5.7925, -5.6303, -5.879, -5.8305, -5.8841, -6.0956, -5.7512, -6.1326, -5.8892, -5.9696, -5.9977, -6.0126, -6.0562, -6.0404, -6.0751, -6.0785]}, \"token.table\": {\"Topic\": [6, 1, 2, 3, 4, 5, 6, 7, 8, 7, 8, 7, 1, 1, 4, 5, 7, 1, 4, 5, 1, 2, 3, 4, 5, 6, 7, 8, 1, 2, 3, 4, 5, 6, 7, 8, 1, 2, 4, 5, 6, 8, 1, 2, 3, 4, 5, 6, 8, 1, 2, 3, 4, 5, 6, 7, 4, 3, 1, 2, 3, 4, 5, 7, 1, 3, 1, 3, 1, 6, 3, 5, 7, 4, 1, 4, 1, 2, 3, 4, 5, 6, 7, 8, 1, 2, 3, 4, 5, 6, 7, 8, 1, 2, 3, 4, 5, 6, 7, 8, 1, 2, 4, 5, 6, 7, 8, 1, 2, 3, 4, 5, 8, 8, 6, 7, 3, 8, 1, 3, 4, 5, 6, 7, 8, 1, 2, 3, 4, 5, 6, 7, 8, 1, 2, 3, 4, 5, 6, 7, 8, 1, 4, 1, 2, 3, 4, 5, 6, 7, 8, 1, 2, 3, 6, 7, 1, 2, 3, 5, 6, 7, 8, 1, 2, 3, 4, 5, 6, 7, 8, 7, 1, 4, 5, 6, 4, 1, 2, 4, 7, 2, 4, 8, 6, 7, 1, 2, 3, 5, 6, 7, 2, 5, 1, 2, 6, 1, 5, 8, 6, 1, 6, 8, 1, 2, 3, 4, 6, 7, 8, 1, 1, 8, 3, 5, 1, 2, 5, 6, 7, 8, 1, 5, 6, 7, 1, 2, 3, 5, 5, 6, 1, 2, 3, 4, 5, 6, 7, 8, 1, 6, 7, 1, 2, 5, 5, 4, 2, 1, 2, 4, 5, 6, 7, 1, 2, 3, 4, 5, 6, 7, 8, 1, 2, 3, 4, 5, 6, 7, 6, 3, 2, 4, 6, 1, 2, 5, 6, 3, 4, 7, 1, 2, 3, 4, 5, 6, 7, 8, 5, 5, 1, 2, 3, 4, 5, 6, 7, 8, 2, 3, 4, 7, 7, 1, 1, 4, 2, 8, 4, 8, 1, 2, 3, 4, 5, 6, 7, 8, 5, 2, 1, 2, 3, 6, 8, 1, 2, 6, 8, 1, 4, 5, 6, 6, 4, 1, 5, 8, 7, 1, 1, 3, 5, 6, 8, 1, 2, 3, 4, 5, 6, 7, 8, 1, 2, 3, 4, 5, 6, 7, 8, 1, 2, 5, 6, 7, 8, 3, 6, 1, 2, 3, 4, 5, 6, 7, 8, 2, 8, 5, 4, 2, 3, 4, 1, 7, 1, 3, 5, 6, 7, 8, 1, 2, 1, 2, 4, 5, 5, 8, 1, 4, 5, 6, 7, 8, 2, 2, 2, 3, 1, 3, 1, 2, 5, 7, 7, 2, 5, 5, 6, 1, 1, 2, 3, 5, 6, 7, 8, 6, 1, 2, 5, 7, 5, 6, 5, 6, 1, 2, 1, 2, 4, 5, 1, 7, 1, 2, 3, 4, 5, 8, 1, 3, 5, 4, 5, 6, 7, 3, 5, 7, 1, 2, 3, 4, 5, 6, 7, 8, 7, 8, 3, 6, 5, 2, 3, 3, 2, 1, 2, 3, 4, 5, 6, 7, 8, 1, 2, 3, 4, 7, 8, 1, 2, 3, 4, 7, 8, 2, 6, 7, 8, 2, 1, 2, 3, 4, 5, 6, 7, 8, 1, 2, 3, 4, 5, 6, 7, 8, 1, 3, 4, 1, 8, 2, 3, 6, 7, 1, 3, 1, 2, 3, 5, 7, 1, 2, 3, 4, 5, 6, 7, 8, 1, 5, 5, 8, 1, 2, 3, 4, 5, 6, 7, 8, 1, 2, 3, 4, 5, 6, 7, 8, 3, 5, 2, 5, 1, 2, 3, 4, 5, 6, 7, 8, 4, 2, 3, 4, 5, 7, 8, 1, 2, 3, 5, 8, 1, 5, 5, 6, 8, 3, 6, 8, 1, 3, 4, 5, 6, 7, 8, 1, 2, 3, 4, 5, 6, 7, 8, 1, 2, 3, 4, 5, 6, 7, 1, 2, 4, 7, 2, 5, 5, 7, 1, 3, 4, 7, 1, 2, 3, 4, 5, 6, 7, 8, 8, 1, 2, 3, 6, 7, 4, 1, 2, 2, 3, 2, 1, 2, 3, 4, 5, 6, 7, 8, 6, 4, 4, 7, 2, 1, 5, 3, 4, 8, 1, 2, 3, 4, 6, 8, 1, 2, 3, 4, 5, 6, 7, 8, 2, 4, 2, 8, 5, 1, 2, 3, 4, 6, 8, 6, 3, 4, 8, 1, 8, 1, 2, 3, 4, 6, 7, 8, 1, 4, 8, 1, 6, 6, 2, 1, 2, 3, 4, 5, 6, 7, 8, 1, 2, 3, 4, 5, 6, 8, 1, 2, 3, 6, 7, 8, 7, 7, 1, 2, 8, 1, 2, 3, 4, 5, 6, 7, 7, 1, 2, 3, 4, 5, 6, 7, 8, 1, 2, 3, 4, 5, 7, 8, 1, 2, 3, 4, 5, 7, 8, 1, 2, 3, 4, 5, 6, 7, 8, 1, 2, 4, 5, 7, 1, 2, 3, 4, 5, 6, 7, 8, 2, 3, 1, 2, 3, 4, 5, 6, 6, 3, 1, 2, 3, 4, 5, 6, 7, 8, 1, 2, 3, 4, 5, 8, 1, 2, 3, 4, 5, 6, 7, 8, 1, 2, 6, 7, 8, 7, 1, 2, 3, 4, 5, 6, 7, 8, 7, 2, 6, 1, 2, 3, 4, 5, 8, 1, 2, 3, 4, 5, 6, 7, 8, 1, 3, 1, 2, 3, 4, 5, 6, 8, 1, 2, 3, 7, 8, 1, 6, 6, 1, 2, 3, 4, 5, 7, 8, 5, 6, 8, 1, 2, 3, 4, 5, 6, 7, 8, 4, 6, 1, 2, 3, 4, 5, 7, 8, 6, 1, 3, 4, 5, 6, 7, 8, 4, 2, 1, 3, 4, 5, 7, 1, 2, 3, 4, 5, 7, 8, 5, 1, 2, 3, 4, 5, 6, 7, 8, 8, 1, 2, 3, 5, 6, 7, 8, 6, 4, 1, 6, 3, 8, 4, 1, 2, 3, 4, 5, 6, 7, 8, 1, 1, 1, 3, 4, 7, 8, 6, 2, 4, 5, 1, 2, 3, 4, 5, 6, 7, 8, 3, 4, 5, 6, 5, 1, 2, 3, 4, 5, 6, 7, 8, 1, 2, 3, 4, 5, 6, 7, 8, 2, 3, 8, 6, 8, 1, 2, 3, 4, 5, 6, 7, 8, 1, 2, 8, 5, 1, 3, 4, 3, 4, 1, 8, 4, 1, 2, 3, 5, 6, 8, 7, 1, 2, 3, 4, 5, 6, 7, 1, 2, 3, 7, 4, 5, 1, 2, 3, 4, 7, 8, 2, 3, 4, 6, 3, 1, 2, 5, 6, 8, 2, 4, 1, 2, 3, 4, 5, 6, 8, 5, 1, 2, 3, 4, 5, 6, 7, 8, 1, 2, 3, 4, 5, 6, 7, 8, 2, 3, 5, 6, 7, 5, 4, 8, 1, 3, 6, 8, 5, 1, 2, 3, 4, 5, 7, 8, 8, 1, 2, 3, 5, 6, 2, 3, 8, 5, 4, 1, 2, 3, 4, 5, 6, 7, 1, 2, 3, 4, 5, 6, 7, 8, 3, 2, 5, 5, 8, 1, 2, 3, 4, 6, 7, 8, 1, 2, 3, 4, 5, 6, 7, 8, 4, 1, 2, 3, 4, 5, 6, 7, 8, 3, 4, 8, 1, 2, 3, 7, 8, 7, 8, 8, 7, 2, 1, 2, 1, 2, 5, 7, 1, 2, 3, 6, 7, 8, 1, 3, 6, 1, 3, 6, 7, 3, 3, 2, 6, 1, 2, 3, 4, 5, 6, 7, 8, 6, 1, 2, 3, 4, 6, 7, 8, 1, 2, 3, 4, 5, 6, 7, 8, 1, 2, 3, 4, 5, 6, 7, 8, 4, 1, 2, 3, 4, 5, 7, 8, 8, 1, 6, 3, 1, 2, 3, 4, 5, 7, 8, 5, 2, 3, 7, 1, 2, 3, 4, 5, 6, 7, 8, 1, 2, 3, 4, 5, 6, 7, 8, 7, 8, 1, 3, 4, 5, 7, 8, 2, 1, 2, 3, 4, 5, 6, 7, 8, 8, 1, 2, 3, 4, 5, 6, 7, 8, 8, 1, 4, 1, 5, 1, 2, 3, 4, 5, 6, 7, 8, 1, 2, 3, 6, 7, 8, 7, 2, 1, 2, 3, 4, 5, 6, 7, 8, 1, 2, 3, 4, 5, 6, 7, 8, 1, 2, 4, 6, 8, 6, 8, 3, 4, 5, 7, 1, 2, 3, 4, 5, 6, 7, 8, 4, 4, 6, 3, 3, 2, 3, 1, 2, 3, 4, 5, 6, 7, 1, 2, 3, 4, 6, 8, 1, 2, 3, 4, 5, 6, 7, 8, 1, 3, 7, 1, 2, 3, 4, 5, 7, 8, 7, 2, 3, 5, 8, 2, 1, 2, 3, 4, 5, 6, 7, 8, 1, 2, 3, 4, 5, 6, 7, 8, 4, 1, 2, 3, 4, 5, 6, 7, 8, 1, 2, 3, 4, 5, 7, 8, 2, 4, 1, 2, 3, 4, 5, 6, 7, 8, 4, 4, 7, 5, 1, 2, 3, 4, 5, 6, 7, 8, 1, 2, 3, 4, 5, 6, 7, 1, 2, 3, 4, 5, 6, 7, 8, 4, 7, 3, 6, 3, 8, 1, 2, 3, 4, 5, 6, 7, 8, 1, 2, 3, 4, 5, 6, 7, 8, 1, 2, 3, 4, 5, 6, 7, 8, 1, 2, 3, 4, 5, 6, 7, 8, 6, 6, 2, 3, 5], \"Freq\": [0.4595294776221042, 0.2193913617337324, 0.1096956808668662, 0.18282613477811033, 0.14626090782248824, 0.03656522695562206, 0.03656522695562206, 0.2193913617337324, 0.03656522695562206, 0.482316469456859, 0.2411582347284295, 0.44962595550629686, 0.7994334797897322, 0.160131295222818, 0.160131295222818, 0.160131295222818, 0.48039388566845403, 0.6695275647430508, 0.1673818911857627, 0.6141490787093472, 0.09274169091169394, 0.13911253636754092, 0.04637084545584697, 0.23185422727923485, 0.23185422727923485, 0.13911253636754092, 0.09274169091169394, 0.09274169091169394, 0.22953424071887543, 0.13772054443132525, 0.04590684814377508, 0.2754410888626505, 0.13772054443132525, 0.04590684814377508, 0.04590684814377508, 0.04590684814377508, 0.06444687965135142, 0.19334063895405423, 0.38668127790810847, 0.06444687965135142, 0.19334063895405423, 0.06444687965135142, 0.385456420308631, 0.220260811604932, 0.110130405802466, 0.055065202901233, 0.055065202901233, 0.055065202901233, 0.055065202901233, 0.13101745196301423, 0.06550872598150712, 0.06550872598150712, 0.3275436299075356, 0.13101745196301423, 0.19652617794452137, 0.13101745196301423, 0.588138277844744, 0.8215830630534212, 0.16927976523536745, 0.42319941308841863, 0.16927976523536745, 0.08463988261768372, 0.08463988261768372, 0.16927976523536745, 0.726795130801593, 0.8205390688230053, 0.598881354098249, 0.2994406770491245, 0.19175870429328068, 0.575276112879842, 0.8200754217534074, 0.61383749637593, 0.6583111955600017, 0.5881376221263205, 0.8057043817212907, 0.5889765752070938, 0.04996882758597718, 0.14990648275793153, 0.09993765517195435, 0.1998753103439087, 0.24984413792988586, 0.09993765517195435, 0.09993765517195435, 0.09993765517195435, 0.19451118057189049, 0.13893655755135034, 0.02778731151027007, 0.33344773812324086, 0.02778731151027007, 0.11114924604108029, 0.08336193453081021, 0.08336193453081021, 0.06746172066932671, 0.20238516200798012, 0.16865430167331677, 0.20238516200798012, 0.10119258100399006, 0.06746172066932671, 0.06746172066932671, 0.10119258100399006, 0.08222033557222423, 0.4111016778611212, 0.16444067114444846, 0.08222033557222423, 0.08222033557222423, 0.08222033557222423, 0.08222033557222423, 0.09950506314177371, 0.19901012628354742, 0.19901012628354742, 0.39802025256709483, 0.09950506314177371, 0.09950506314177371, 0.36075213367251446, 0.22901669097524016, 0.6870500729257205, 0.35909140234354264, 0.35909140234354264, 0.49838534226727044, 0.062298167783408805, 0.062298167783408805, 0.18689450335022642, 0.062298167783408805, 0.12459633556681761, 0.062298167783408805, 0.14732386001951742, 0.14732386001951742, 0.07366193000975871, 0.22098579002927612, 0.14732386001951742, 0.18415482502439676, 0.036830965004879354, 0.07366193000975871, 0.17085737422943312, 0.08542868711471656, 0.11390491615295541, 0.22780983230591081, 0.22780983230591081, 0.056952458076477704, 0.08542868711471656, 0.056952458076477704, 0.7080137035770788, 0.2360045678590263, 0.286595657995429, 0.11022909922901115, 0.1322749190748134, 0.0661374595374067, 0.0661374595374067, 0.08818327938320893, 0.2204581984580223, 0.04409163969160446, 0.1351261680020273, 0.405378504006082, 0.1351261680020273, 0.1351261680020273, 0.1351261680020273, 0.20711412366301174, 0.3624497164102705, 0.10355706183150587, 0.051778530915752935, 0.10355706183150587, 0.051778530915752935, 0.10355706183150587, 0.09510956690172855, 0.04755478345086427, 0.1426643503525928, 0.2853287007051856, 0.23777391725432137, 0.04755478345086427, 0.09510956690172855, 0.09510956690172855, 0.44138023122338377, 0.603292986616661, 0.1206585973233322, 0.1206585973233322, 0.1206585973233322, 0.5881381657418533, 0.13352391318599163, 0.13352391318599163, 0.40057173955797487, 0.26704782637198327, 0.8712271826380792, 0.5884362098255814, 0.5056878128273707, 0.23032780713161463, 0.46065561426322926, 0.15402644760653758, 0.07701322380326879, 0.15402644760653758, 0.07701322380326879, 0.38506611901634397, 0.07701322380326879, 0.9086822004751913, 0.6141485763262261, 0.18992503371420907, 0.18992503371420907, 0.5697751011426272, 0.7994327776879352, 0.7218618711287875, 0.7262420574141654, 0.46106569233338107, 0.19798748061165738, 0.39597496122331477, 0.19798748061165738, 0.24758358402373837, 0.08252786134124612, 0.16505572268249225, 0.08252786134124612, 0.08252786134124612, 0.08252786134124612, 0.24758358402373837, 0.7994330729554051, 0.35070885049089356, 0.35070885049089356, 0.8320343364646057, 0.8263368743562439, 0.08330142033483573, 0.4998085220090143, 0.08330142033483573, 0.16660284066967146, 0.08330142033483573, 0.08330142033483573, 0.1257034829135581, 0.1257034829135581, 0.6285174145677904, 0.1257034829135581, 0.7152981223067888, 0.6641760129859339, 0.16604400324648347, 0.16604400324648347, 0.4928115603122442, 0.2464057801561221, 0.26892271463095935, 0.044820452438493225, 0.13446135731547967, 0.08964090487698645, 0.044820452438493225, 0.26892271463095935, 0.13446135731547967, 0.044820452438493225, 0.797325625756268, 0.5674395107030302, 0.4379906348965106, 0.23770607203692426, 0.23770607203692426, 0.4754121440738485, 0.6141490073385518, 0.5920273152966428, 0.590441936716496, 0.06609557253842954, 0.26438229015371817, 0.19828671761528863, 0.06609557253842954, 0.33047786269214774, 0.06609557253842954, 0.183410020395043, 0.0366820040790086, 0.1467280163160344, 0.2200920244740516, 0.1467280163160344, 0.0733640081580172, 0.1100460122370258, 0.0733640081580172, 0.26584316197020247, 0.11393278370151536, 0.15191037826868714, 0.11393278370151536, 0.15191037826868714, 0.07595518913434357, 0.07595518913434357, 0.46508576920726813, 0.8354506777696047, 0.6524040542731061, 0.32620202713655305, 0.4639230454826421, 0.6623696081517387, 0.09462422973596268, 0.09462422973596268, 0.09462422973596268, 0.3035761739878505, 0.607152347975701, 0.4487465436015333, 0.46778507391359275, 0.20047931739153974, 0.13365287826102648, 0.03341321956525662, 0.06682643913051324, 0.03341321956525662, 0.03341321956525662, 0.03341321956525662, 0.614147996419014, 0.6012510791108179, 0.5178889528907544, 0.07398413612725063, 0.055488102095437974, 0.09248017015906329, 0.055488102095437974, 0.11097620419087595, 0.07398413612725063, 0.018496034031812658, 0.7022406552973383, 0.23408021843244609, 0.588597544807254, 0.6650008583639658, 0.6664136432620875, 0.6944292073341527, 0.1981870517501968, 0.5945611552505904, 0.24046798396874228, 0.48093596793748455, 0.4938537230938771, 0.24692686154693855, 0.10011339294574073, 0.050056696472870366, 0.1501700894186111, 0.20022678589148146, 0.25028348236435183, 0.050056696472870366, 0.050056696472870366, 0.10011339294574073, 0.6138150741575438, 0.7696487783350465, 0.14146325505387583, 0.14146325505387583, 0.28292651010775166, 0.14146325505387583, 0.4243897651616275, 0.3058496654131353, 0.15292483270656765, 0.15292483270656765, 0.3058496654131353, 0.21137185574873926, 0.21137185574873926, 0.4227437114974785, 0.21137185574873926, 0.8488112982180982, 0.5850930021857508, 0.5925544679378557, 0.1975181559792852, 0.7262424064223141, 0.44822647658666226, 0.8012038823791438, 0.06226058661969338, 0.49808469295754704, 0.18678175985908013, 0.06226058661969338, 0.06226058661969338, 0.2620495403419372, 0.12228978549290405, 0.1746996935612915, 0.0698798774245166, 0.05240990806838745, 0.1397597548490332, 0.15722972420516235, 0.0349399387122583, 0.19239672655019574, 0.12826448436679716, 0.06413224218339858, 0.16033060545849645, 0.12826448436679716, 0.06413224218339858, 0.12826448436679716, 0.16033060545849645, 0.0952615629906877, 0.0952615629906877, 0.1905231259813754, 0.3810462519627508, 0.0952615629906877, 0.0952615629906877, 0.2769167850082232, 0.5538335700164464, 0.117895162760967, 0.117895162760967, 0.117895162760967, 0.1768427441414505, 0.0589475813804835, 0.0589475813804835, 0.0589475813804835, 0.235790325521934, 0.35226376821664435, 0.35226376821664435, 0.6141486339970769, 0.5881375865795764, 0.7797582459450592, 0.81815813580563, 0.5881380021088699, 0.25838757467087564, 0.5167751493417513, 0.5955743216404462, 0.11911486432808924, 0.05955743216404462, 0.11911486432808924, 0.05955743216404462, 0.05955743216404462, 0.8935922646488014, 0.5904411388767542, 0.587773053447466, 0.09796217557457766, 0.09796217557457766, 0.09796217557457766, 0.6141476217186335, 0.7262420178441064, 0.09691485698799639, 0.09691485698799639, 0.09691485698799639, 0.5814891419279783, 0.09691485698799639, 0.726240808323512, 0.5904412357106038, 0.8137924419642174, 0.585384823522752, 0.19512827450758402, 0.20438773575903857, 0.6131632072771157, 0.14825804448686167, 0.44477413346058503, 0.14825804448686167, 0.14825804448686167, 0.6583113444379164, 0.7772238088051766, 0.6138962168423823, 0.7075567783063809, 0.17688919457659522, 0.7994341057326595, 0.14678956426374756, 0.24464927377291262, 0.14678956426374756, 0.04892985475458252, 0.04892985475458252, 0.04892985475458252, 0.3425089832820777, 0.4622032504318052, 0.19852927374282622, 0.5955878212284788, 0.2634883489079001, 0.5269766978158003, 0.6261957090845011, 0.31309785454225053, 0.6276611300549585, 0.31383056502747925, 0.8935926099587437, 0.5752918823132998, 0.583490602759653, 0.11669812055193061, 0.11669812055193061, 0.11669812055193061, 0.21751063967334391, 0.6525319190200317, 0.2889736658415601, 0.07224341646039002, 0.43346049876234016, 0.07224341646039002, 0.07224341646039002, 0.07224341646039002, 0.2437180243917412, 0.7311540731752236, 0.6141478116881428, 0.5311423329007029, 0.13278558322517572, 0.13278558322517572, 0.13278558322517572, 0.16437701015275943, 0.16437701015275943, 0.6575080406110377, 0.18420031245278237, 0.32235054679236913, 0.09210015622639119, 0.04605007811319559, 0.04605007811319559, 0.09210015622639119, 0.18420031245278237, 0.04605007811319559, 0.4499443302776299, 0.4830463637104314, 0.8739355671292612, 0.4624220208795157, 0.42526804735131263, 0.5904421406935495, 0.760115575442013, 0.8200994022750044, 0.7865983964577101, 0.14259300433996439, 0.0950620028933096, 0.23765500723327398, 0.2138895065099466, 0.0475310014466548, 0.0237655007233274, 0.07129650216998219, 0.14259300433996439, 0.09984787817979432, 0.2496196954494858, 0.09984787817979432, 0.19969575635958864, 0.1497718172696915, 0.09984787817979432, 0.3107160904095933, 0.062143218081918666, 0.062143218081918666, 0.3107160904095933, 0.12428643616383733, 0.12428643616383733, 0.5904416784144249, 0.3682834787759447, 0.18414173938797235, 0.3682834787759447, 0.5904410868750661, 0.1977576575171465, 0.14831824313785988, 0.024719707189643312, 0.2224773647067898, 0.14831824313785988, 0.07415912156892994, 0.07415912156892994, 0.09887882875857325, 0.21616798116872102, 0.144111987445814, 0.0360279968614535, 0.21616798116872102, 0.10808399058436051, 0.144111987445814, 0.0360279968614535, 0.10808399058436051, 0.20261456294525002, 0.60784368883575, 0.20261456294525002, 0.7892427135718262, 0.7589607246558199, 0.8573363206025928, 0.8350954174074531, 0.3403325450288659, 0.6806650900577318, 0.6645330405915496, 0.13290660811830993, 0.5240055693174369, 0.1746685231058123, 0.8181673424835676, 0.32717824580512406, 0.6543564916102481, 0.11261428224270646, 0.1463985669155184, 0.11261428224270646, 0.045045712897082583, 0.18018285158833033, 0.21396713626114228, 0.07882999756989452, 0.11261428224270646, 0.30449202473444775, 0.6089840494688955, 0.8111367322165031, 0.5094148288181226, 0.09692791978805276, 0.09692791978805276, 0.12923722638407034, 0.12923722638407034, 0.09692791978805276, 0.16154653298008795, 0.16154653298008795, 0.09692791978805276, 0.08011907055118328, 0.12017860582677492, 0.04005953527559164, 0.4005953527559164, 0.16023814110236656, 0.12017860582677492, 0.08011907055118328, 0.04005953527559164, 0.3032007651204918, 0.6064015302409836, 0.7702891078619083, 0.6326044007320241, 0.11203193481977423, 0.11203193481977423, 0.28007983704943556, 0.16804790222966134, 0.11203193481977423, 0.05601596740988712, 0.11203193481977423, 0.05601596740988712, 0.5881386624595726, 0.11280295348770246, 0.11280295348770246, 0.22560590697540492, 0.33840886046310736, 0.11280295348770246, 0.11280295348770246, 0.0854437017423406, 0.5981059121963842, 0.0854437017423406, 0.0854437017423406, 0.0854437017423406, 0.7959337116200308, 0.09949171395250385, 0.23010681314700898, 0.46021362629401796, 0.23010681314700898, 0.2750362335297349, 0.5500724670594698, 0.5094154805775534, 0.1736719490774771, 0.23156259876996946, 0.3473438981549542, 0.057890649692492364, 0.057890649692492364, 0.11578129938498473, 0.057890649692492364, 0.15278239871688096, 0.18333887846025718, 0.09166943923012859, 0.12222591897350478, 0.06111295948675239, 0.12222591897350478, 0.15278239871688096, 0.12222591897350478, 0.19412691609141555, 0.09706345804570778, 0.09706345804570778, 0.14559518706856167, 0.29119037413712334, 0.09706345804570778, 0.04853172902285389, 0.12496910997575551, 0.24993821995151103, 0.12496910997575551, 0.49987643990302205, 0.5904415680534256, 0.6141476760218976, 0.32971676902773867, 0.6594335380554773, 0.6469443578853, 0.09242062255504285, 0.09242062255504285, 0.09242062255504285, 0.053410204271693025, 0.053410204271693025, 0.32046122563015816, 0.10682040854338605, 0.10682040854338605, 0.16023061281507908, 0.10682040854338605, 0.10682040854338605, 0.7262422469147308, 0.15318852896889204, 0.3829713224222301, 0.22978279345333805, 0.15318852896889204, 0.07659426448444602, 0.7671577433491918, 0.5308295681153364, 0.2654147840576682, 0.7810764454568958, 0.739889280497275, 0.7860840872220802, 0.09617186769380923, 0.24042966923452305, 0.09617186769380923, 0.24042966923452305, 0.24042966923452305, 0.04808593384690461, 0.04808593384690461, 0.04808593384690461, 0.7021285391255813, 0.5881377484211991, 0.8524875166938304, 0.6461055456673428, 0.5904415073831166, 0.799432294559489, 0.6141484400948135, 0.7390351166689801, 0.3031470169438238, 0.6062940338876476, 0.10097838086856217, 0.05048919043428109, 0.6058702852113731, 0.05048919043428109, 0.15146757130284327, 0.05048919043428109, 0.05042678845923563, 0.05042678845923563, 0.1512803653777069, 0.3025607307554138, 0.3025607307554138, 0.05042678845923563, 0.05042678845923563, 0.05042678845923563, 0.2324947732672263, 0.4649895465344526, 0.47958152357274053, 0.3197210157151604, 0.4255126835030014, 0.13553817670527585, 0.2710763534105517, 0.13553817670527585, 0.13553817670527585, 0.13553817670527585, 0.20330726505791377, 0.45641498724716184, 0.27768144375243803, 0.41652216562865707, 0.13884072187621901, 0.8003840612915992, 0.7262413295482476, 0.12581166547849243, 0.25162333095698486, 0.12581166547849243, 0.06290583273924621, 0.06290583273924621, 0.12581166547849243, 0.18871749821773864, 0.7994314662525901, 0.5881373920349183, 0.7798512680725337, 0.1390035218649268, 0.695017609324634, 0.4624042334892695, 0.7880882486655798, 0.23167751539322337, 0.15445167692881556, 0.05791937884830584, 0.15445167692881556, 0.11583875769661169, 0.19306459616101945, 0.09653229808050973, 0.019306459616101945, 0.2706448775711242, 0.09021495919037473, 0.09021495919037473, 0.3608598367614989, 0.09021495919037473, 0.09021495919037473, 0.726241915478032, 0.19058730686600947, 0.23823413358251186, 0.09529365343300474, 0.1429404801495071, 0.23823413358251186, 0.04764682671650237, 0.4413747818727604, 0.43872213529747656, 0.23000041340097765, 0.690001240202933, 0.48832333376543957, 0.19965864916976686, 0.16638220764147238, 0.23293509069806134, 0.1331057661131779, 0.16638220764147238, 0.033276441528294474, 0.09982932458488343, 0.6701929141922385, 0.2904801716705192, 0.16137787315028845, 0.09682672389017308, 0.16137787315028845, 0.06455114926011539, 0.12910229852023078, 0.09682672389017308, 0.032275574630057695, 0.39660123872353953, 0.09915030968088488, 0.29745092904265463, 0.04957515484044244, 0.04957515484044244, 0.04957515484044244, 0.09915030968088488, 0.7994332837085061, 0.1224020202232732, 0.1224020202232732, 0.1224020202232732, 0.36720606066981964, 0.1224020202232732, 0.1224020202232732, 0.1546198250667774, 0.03865495626669435, 0.03865495626669435, 0.34789460640024916, 0.0773099125333887, 0.11596486880008305, 0.03865495626669435, 0.0773099125333887, 0.21456204846960153, 0.10728102423480076, 0.42912409693920306, 0.10728102423480076, 0.43510312248405203, 0.04816845114402834, 0.09633690228805668, 0.2408422557201417, 0.144505353432085, 0.144505353432085, 0.144505353432085, 0.04816845114402834, 0.144505353432085, 0.24359211894015556, 0.4871842378803111, 0.16000076870775884, 0.40000192176939714, 0.08000038435387942, 0.08000038435387942, 0.16000076870775884, 0.08000038435387942, 0.46240260208629635, 0.42118585229852484, 0.2375621513746399, 0.20362470117826276, 0.10181235058913138, 0.13574980078550852, 0.10181235058913138, 0.13574980078550852, 0.03393745019637713, 0.03393745019637713, 0.4188264596477196, 0.17949705413473696, 0.1196647027564913, 0.05983235137824565, 0.05983235137824565, 0.1196647027564913, 0.23824064972276204, 0.13235591651264558, 0.10588473321011646, 0.10588473321011646, 0.10588473321011646, 0.15882709981517468, 0.05294236660505823, 0.10588473321011646, 0.2088953524028496, 0.1044476762014248, 0.31334302860427443, 0.2088953524028496, 0.1044476762014248, 0.44963321133309, 0.3406110152682477, 0.17030550763412386, 0.10218330458047432, 0.10218330458047432, 0.06812220305364955, 0.06812220305364955, 0.10218330458047432, 0.034061101526824775, 0.6583112152241066, 0.2673979583454982, 0.5347959166909964, 0.08045975040554505, 0.1609195008110901, 0.1609195008110901, 0.1609195008110901, 0.3218390016221802, 0.08045975040554505, 0.1650727383523019, 0.24760910752845283, 0.1650727383523019, 0.1650727383523019, 0.08253636917615095, 0.04126818458807548, 0.08253636917615095, 0.04126818458807548, 0.17562266318291014, 0.7024906527316406, 0.10592520403605955, 0.15888780605408934, 0.15888780605408934, 0.15888780605408934, 0.10592520403605955, 0.2118504080721191, 0.05296260201802978, 0.10521732692615705, 0.4208693077046282, 0.10521732692615705, 0.10521732692615705, 0.2104346538523141, 0.2220963075727705, 0.444192615145541, 0.4621549875385834, 0.10688356059074261, 0.42753424236297044, 0.053441780295371305, 0.053441780295371305, 0.10688356059074261, 0.10688356059074261, 0.10688356059074261, 0.5334429885534359, 0.26672149427671793, 0.26672149427671793, 0.18290900156372003, 0.12193933437581335, 0.060969667187906675, 0.18290900156372003, 0.2438786687516267, 0.060969667187906675, 0.060969667187906675, 0.060969667187906675, 0.671261260131539, 0.16781531503288474, 0.11423830855803745, 0.11423830855803745, 0.05711915427901872, 0.3427149256741123, 0.2284766171160749, 0.05711915427901872, 0.05711915427901872, 0.6953608571680738, 0.21502148816565686, 0.4300429763313137, 0.053755372041414215, 0.10751074408282843, 0.10751074408282843, 0.053755372041414215, 0.053755372041414215, 0.5881378643086578, 0.7761438416948263, 0.46971638008445926, 0.05871454751055741, 0.05871454751055741, 0.17614364253167222, 0.23485819004222963, 0.07709144789479537, 0.38545723947397686, 0.07709144789479537, 0.07709144789479537, 0.2698200676317838, 0.038545723947397685, 0.038545723947397685, 0.614148688817825, 0.19352273770909786, 0.19352273770909786, 0.11611364262545872, 0.06773295819818426, 0.09676136885454893, 0.10643750574000382, 0.11611364262545872, 0.11611364262545872, 0.48665474807571774, 0.14951592166354047, 0.14951592166354047, 0.19935456221805395, 0.19935456221805395, 0.09967728110902697, 0.09967728110902697, 0.04983864055451349, 0.6853352223421877, 0.5881384126671626, 0.7420038316048635, 0.2473346105349545, 0.821582864973141, 0.49677624313564445, 0.5881376188717223, 0.1389870850896549, 0.12161369945344805, 0.10424031381724118, 0.1563604707258618, 0.12161369945344805, 0.12161369945344805, 0.1911072419982755, 0.06949354254482745, 0.8034034210496309, 0.7994316444279741, 0.1380198977547725, 0.276039795509545, 0.1380198977547725, 0.1380198977547725, 0.276039795509545, 0.46240459286593233, 0.2326415632178981, 0.2326415632178981, 0.3489623448268471, 0.06803172994812885, 0.034015864974064426, 0.10204759492219329, 0.17007932487032212, 0.30614278476657986, 0.10204759492219329, 0.17007932487032212, 0.034015864974064426, 0.3834386133243741, 0.12781287110812473, 0.12781287110812473, 0.25562574221624945, 0.6139143009817045, 0.11899333401870958, 0.21418800123367723, 0.11899333401870958, 0.09519466721496767, 0.1665906676261934, 0.04759733360748383, 0.19038933442993533, 0.04759733360748383, 0.09292161611880544, 0.09292161611880544, 0.18584323223761087, 0.2787648483564163, 0.13938242417820815, 0.04646080805940272, 0.04646080805940272, 0.04646080805940272, 0.13834400357773752, 0.5533760143109501, 0.13834400357773752, 0.5521296643359438, 0.48782082465277815, 0.22134629661794492, 0.11067314830897246, 0.27668287077243114, 0.05533657415448623, 0.22134629661794492, 0.05533657415448623, 0.05533657415448623, 0.9286393975659364, 0.621655871085647, 0.22250467371042978, 0.6675140211312893, 0.6141476856616443, 0.15030873490468694, 0.15030873490468694, 0.4509262047140608, 0.8215827702845308, 0.5881376378558292, 0.8577227991930378, 0.48722619321354615, 0.5884398193685116, 0.5709400780160205, 0.12687557289244902, 0.12687557289244902, 0.06343778644622451, 0.06343778644622451, 0.06343778644622451, 0.7928751103532453, 0.5289786310718014, 0.048088966461072864, 0.14426689938321857, 0.09617793292214573, 0.048088966461072864, 0.048088966461072864, 0.048088966461072864, 0.2243346147472198, 0.3365019221208297, 0.1121673073736099, 0.3365019221208297, 0.7663720404853911, 0.6141476736600527, 0.0606483627292691, 0.4851869018341528, 0.2425934509170764, 0.0606483627292691, 0.0606483627292691, 0.0606483627292691, 0.17450648823355483, 0.6980259529342193, 0.5881373118398253, 0.4589676320459299, 0.7491766646465267, 0.12232294033183098, 0.36696882099549294, 0.12232294033183098, 0.12232294033183098, 0.24464588066366197, 0.4644847559990926, 0.2322423779995463, 0.17270333453317738, 0.46054222542180634, 0.05756777817772579, 0.05756777817772579, 0.11513555635545158, 0.11513555635545158, 0.05756777817772579, 0.6353454932025823, 0.40615952708700775, 0.18745824327092667, 0.12497216218061778, 0.06248608109030889, 0.06248608109030889, 0.031243040545154446, 0.06248608109030889, 0.06248608109030889, 0.1730093689069427, 0.21626171113367837, 0.04325234222673568, 0.12975702668020703, 0.08650468445347136, 0.1730093689069427, 0.08650468445347136, 0.08650468445347136, 0.1398385767695139, 0.1398385767695139, 0.4195157303085417, 0.1398385767695139, 0.1398385767695139, 0.6141484693963627, 0.640951159343114, 0.320475579671557, 0.79943308892042, 0.20112496122618173, 0.6033748836785452, 0.20112496122618173, 0.8111365958397632, 0.12030757824271214, 0.18046136736406823, 0.06015378912135607, 0.24061515648542428, 0.18046136736406823, 0.06015378912135607, 0.18046136736406823, 0.6075002379551766, 0.5554429655811849, 0.09257382759686414, 0.18514765519372828, 0.09257382759686414, 0.09257382759686414, 0.2829356543670979, 0.2829356543670979, 0.5658713087341958, 0.9060132750305139, 0.7663717535574982, 0.08719658596946026, 0.1743931719389205, 0.348786343877841, 0.08719658596946026, 0.08719658596946026, 0.08719658596946026, 0.08719658596946026, 0.07679206426238273, 0.13438611245916976, 0.1151880963935741, 0.24957420885274387, 0.19198016065595683, 0.13438611245916976, 0.07679206426238273, 0.03839603213119137, 0.7784244714137928, 0.23920631099742054, 0.7176189329922616, 0.6141486893207699, 0.48623135410919444, 0.16393118956838973, 0.08196559478419486, 0.08196559478419486, 0.40982797392097436, 0.08196559478419486, 0.08196559478419486, 0.08196559478419486, 0.24769883781928329, 0.14861930269156998, 0.19815907025542664, 0.04953976756385666, 0.09907953512771332, 0.04953976756385666, 0.19815907025542664, 0.04953976756385666, 0.5885819242802351, 0.10262072937281354, 0.10262072937281354, 0.05131036468640677, 0.1539310940592203, 0.3078621881184406, 0.05131036468640677, 0.20524145874562708, 0.05131036468640677, 0.23227415128952367, 0.46454830257904733, 0.7262424884324822, 0.0926132972736564, 0.0926132972736564, 0.1852265945473128, 0.2778398918209692, 0.2778398918209692, 0.675168702979289, 0.7262415743366055, 0.5830859375483087, 0.44166743488664295, 0.598403106935029, 0.8105069306104672, 0.784515027134548, 0.48562517805830335, 0.12140629451457584, 0.12140629451457584, 0.12140629451457584, 0.1536344238784615, 0.2304516358176922, 0.1536344238784615, 0.307268847756923, 0.1536344238784615, 0.07681721193923075, 0.2240674706460807, 0.2240674706460807, 0.4481349412921614, 0.32535469178633003, 0.08133867294658251, 0.2440160188397475, 0.32535469178633003, 0.8215827642717881, 0.8215828028509234, 0.22670491999480238, 0.45340983998960477, 0.28403660543393455, 0.10651372703772546, 0.10651372703772546, 0.17752287839620912, 0.10651372703772546, 0.10651372703772546, 0.07100915135848364, 0.07100915135848364, 0.4605380041480828, 0.25688241609596557, 0.19266181207197416, 0.12844120804798279, 0.16055151005997848, 0.09633090603598708, 0.09633090603598708, 0.09633090603598708, 0.1185430827451363, 0.08890731205885222, 0.29635770686284074, 0.1185430827451363, 0.1185430827451363, 0.14817885343142037, 0.05927154137256815, 0.08890731205885222, 0.08628842471858113, 0.2588652741557434, 0.08628842471858113, 0.2588652741557434, 0.08628842471858113, 0.08628842471858113, 0.08628842471858113, 0.043144212359290564, 0.5885329366689176, 0.08580188633835191, 0.08580188633835191, 0.42900943169175954, 0.08580188633835191, 0.08580188633835191, 0.08580188633835191, 0.17160377267670382, 0.48505995574418387, 0.27365380956477187, 0.5473076191295437, 0.821583343934374, 0.0882647545434829, 0.0882647545434829, 0.0882647545434829, 0.0882647545434829, 0.44132377271741446, 0.0882647545434829, 0.0882647545434829, 0.6139276519896394, 0.1871632671680881, 0.1871632671680881, 0.5614898015042643, 0.08411049164524294, 0.12616573746786441, 0.25233147493572883, 0.16822098329048588, 0.08411049164524294, 0.12616573746786441, 0.12616573746786441, 0.08411049164524294, 0.0890192020776144, 0.20771147151443362, 0.23738453887363842, 0.1780384041552288, 0.029673067359204802, 0.029673067359204802, 0.0890192020776144, 0.1780384041552288, 0.2138420254926758, 0.4276840509853516, 0.28637582387775407, 0.057275164775550814, 0.3436509886533049, 0.17182549432665245, 0.057275164775550814, 0.057275164775550814, 0.9229354343927555, 0.12653602238641246, 0.2952507189016291, 0.12653602238641246, 0.08435734825760831, 0.12653602238641246, 0.042178674128804154, 0.21089337064402078, 0.042178674128804154, 0.4765891345233758, 0.07505171293446641, 0.22515513880339924, 0.15010342586893283, 0.03752585646723321, 0.11257756940169962, 0.18762928233616602, 0.15010342586893283, 0.03752585646723321, 0.726240969226189, 0.7991844903947258, 0.8797231978336757, 0.5972540643408658, 0.2986270321704329, 0.09404765609013054, 0.04702382804506527, 0.09404765609013054, 0.1410714841351958, 0.1410714841351958, 0.23511914022532635, 0.1410714841351958, 0.09404765609013054, 0.18634602976067402, 0.24846137301423202, 0.09317301488033701, 0.15528835813389502, 0.18634602976067402, 0.12423068650711601, 0.6583111529285444, 0.8573362864824501, 0.10134708182865344, 0.14188591456011482, 0.1621553309258455, 0.12161649819438414, 0.20269416365730689, 0.08107766546292275, 0.08107766546292275, 0.10134708182865344, 0.22327185519668583, 0.12758391725524904, 0.1594798965690613, 0.12758391725524904, 0.04784396897071839, 0.07973994828453065, 0.19137587588287355, 0.03189597931381226, 0.4475990614502879, 0.07459984357504798, 0.07459984357504798, 0.22379953072514394, 0.07459984357504798, 0.25740626888223306, 0.5148125377644661, 0.18305764671585406, 0.3661152934317081, 0.18305764671585406, 0.09152882335792703, 0.17306846682857566, 0.08653423341428783, 0.043267116707143914, 0.25960270024286347, 0.08653423341428783, 0.08653423341428783, 0.043267116707143914, 0.21633558353571955, 0.5881380184204982, 0.3369836242947714, 0.6739672485895428, 0.9213608649108966, 0.49749597591622535, 0.38951355194733106, 0.626067811840609, 0.17514642988581475, 0.0700585719543259, 0.3853221457487924, 0.10508785793148885, 0.0700585719543259, 0.03502928597716295, 0.17514642988581475, 0.40151846676036945, 0.20075923338018473, 0.24091108005622167, 0.04015184667603694, 0.04015184667603694, 0.04015184667603694, 0.10626093369475617, 0.13282616711844522, 0.10626093369475617, 0.13282616711844522, 0.26565233423689044, 0.10626093369475617, 0.07969570027106712, 0.07969570027106712, 0.17524547478050362, 0.7009818991220145, 0.4411512172579731, 0.1593868663895328, 0.37190268824224326, 0.10625791092635521, 0.21251582185271042, 0.10625791092635521, 0.053128955463177606, 0.053128955463177606, 0.7477400248862952, 0.5904416834567355, 0.4859704055333821, 0.16199013517779404, 0.16199013517779404, 0.7859441448497425, 0.10038192593916445, 0.10038192593916445, 0.2007638518783289, 0.10038192593916445, 0.13384256791888594, 0.2007638518783289, 0.10038192593916445, 0.13384256791888594, 0.20105765053183772, 0.1340384336878918, 0.10052882526591886, 0.0670192168439459, 0.16754804210986476, 0.0670192168439459, 0.10052882526591886, 0.20105765053183772, 0.39398567979934807, 0.14111050299880146, 0.07055525149940073, 0.17638812874850182, 0.14111050299880146, 0.17638812874850182, 0.10583287724910108, 0.10583287724910108, 0.10583287724910108, 0.06678086002633479, 0.06678086002633479, 0.20034258007900438, 0.4674660201843436, 0.06678086002633479, 0.13356172005266959, 0.06678086002633479, 0.29472017012725626, 0.5894403402545125, 0.0830627283806926, 0.1245940925710389, 0.0830627283806926, 0.2491881851420778, 0.2491881851420778, 0.0415313641903463, 0.1245940925710389, 0.0415313641903463, 0.5881383666570447, 0.5881373270777491, 0.4367597551881269, 0.6142198753024576, 0.1829813265987739, 0.1829813265987739, 0.1829813265987739, 0.09149066329938695, 0.13723599494908043, 0.04574533164969347, 0.04574533164969347, 0.1829813265987739, 0.4213835208110706, 0.17557646700461274, 0.0702305868018451, 0.10534588020276765, 0.10534588020276765, 0.0702305868018451, 0.03511529340092255, 0.1880804287847295, 0.11755026799045594, 0.23510053598091188, 0.047020107196182374, 0.07053016079427356, 0.07053016079427356, 0.07053016079427356, 0.1880804287847295, 0.93668842349475, 0.44086407533679367, 0.6432276781682997, 0.21440922605609994, 0.6565820385255625, 0.16414550963139063, 0.1643202154276278, 0.21909362057017043, 0.1643202154276278, 0.05477340514254261, 0.05477340514254261, 0.13693351285635652, 0.05477340514254261, 0.13693351285635652, 0.11172762961755167, 0.055863814808775836, 0.11172762961755167, 0.1675914444263275, 0.11172762961755167, 0.22345525923510334, 0.1675914444263275, 0.055863814808775836, 0.15956900395694382, 0.11967675296770787, 0.19946125494617978, 0.15956900395694382, 0.19946125494617978, 0.11967675296770787, 0.039892250989235954, 0.039892250989235954, 0.19738789514792598, 0.1480409213609445, 0.1480409213609445, 0.049346973786981496, 0.09869394757396299, 0.12336743446745374, 0.19738789514792598, 0.024673486893490748, 0.45922052746173, 0.46240469795230504, 0.5782005579525595, 0.11564011159051191, 0.23128022318102381], \"Term\": [\"abortion\", \"action\", \"action\", \"action\", \"action\", \"action\", \"action\", \"action\", \"action\", \"actor\", \"actor\", \"actress\", \"adam\", \"address\", \"address\", \"address\", \"address\", \"administrators\", \"administrators\", \"adolfo\", \"afghanistan\", \"afghanistan\", \"afghanistan\", \"afghanistan\", \"afghanistan\", \"afghanistan\", \"afghanistan\", \"afghanistan\", \"agreement\", \"agreement\", \"agreement\", \"agreement\", \"agreement\", \"agreement\", \"agreement\", \"agreement\", \"aircraft\", \"aircraft\", \"aircraft\", \"aircraft\", \"aircraft\", \"aircraft\", \"airline\", \"airline\", \"airline\", \"airline\", \"airline\", \"airline\", \"airline\", \"airport\", \"airport\", \"airport\", \"airport\", \"airport\", \"airport\", \"airport\", \"akbar\", \"alcohol\", \"allegations\", \"allegations\", \"allegations\", \"allegations\", \"allegations\", \"allegations\", \"almao\", \"amalgamation\", \"amwu\", \"amwu\", \"andy_bichel\", \"andy_bichel\", \"annan\", \"apologies\", \"appointment\", \"appropriate\", \"apra\", \"arab\", \"arafat\", \"arafat\", \"arafat\", \"arafat\", \"arafat\", \"arafat\", \"arafat\", \"arafat\", \"area\", \"area\", \"area\", \"area\", \"area\", \"area\", \"area\", \"area\", \"areas\", \"areas\", \"areas\", \"areas\", \"areas\", \"areas\", \"areas\", \"areas\", \"army\", \"army\", \"army\", \"army\", \"army\", \"army\", \"army\", \"arrest\", \"arrest\", \"arrest\", \"arrest\", \"arrest\", \"arrest\", \"arrivals\", \"ashes\", \"ashes\", \"assa_abloy\", \"assa_abloy\", \"asylum_seekers\", \"asylum_seekers\", \"asylum_seekers\", \"asylum_seekers\", \"asylum_seekers\", \"asylum_seekers\", \"asylum_seekers\", \"attack\", \"attack\", \"attack\", \"attack\", \"attack\", \"attack\", \"attack\", \"attack\", \"attacks\", \"attacks\", \"attacks\", \"attacks\", \"attacks\", \"attacks\", \"attacks\", \"attacks\", \"austar\", \"austar\", \"australia\", \"australia\", \"australia\", \"australia\", \"australia\", \"australia\", \"australia\", \"australia\", \"australian_authorities\", \"australian_authorities\", \"australian_authorities\", \"australian_authorities\", \"australian_authorities\", \"australians\", \"australians\", \"australians\", \"australians\", \"australians\", \"australians\", \"australians\", \"authorities\", \"authorities\", \"authorities\", \"authorities\", \"authorities\", \"authorities\", \"authorities\", \"authorities\", \"badtrans\", \"ballot\", \"ballot\", \"ballot\", \"ballot\", \"bandage\", \"bank\", \"bank\", \"bank\", \"bank\", \"beattie\", \"beck\", \"belgium\", \"benares\", \"benares\", \"bill\", \"bill\", \"bill\", \"bill\", \"bill\", \"bill\", \"boje\", \"bourne\", \"bowler\", \"bowler\", \"bowler\", \"boxes\", \"brain\", \"brands\", \"brazil\", \"budget\", \"budget\", \"budget\", \"buildings\", \"buildings\", \"buildings\", \"buildings\", \"buildings\", \"buildings\", \"buildings\", \"burakin\", \"burden\", \"burden\", \"caird\", \"campaigns\", \"cancer\", \"cancer\", \"cancer\", \"cancer\", \"cancer\", \"cancer\", \"car\", \"car\", \"car\", \"car\", \"casinos\", \"cease_fire\", \"cease_fire\", \"cease_fire\", \"cells\", \"cells\", \"centre\", \"centre\", \"centre\", \"centre\", \"centre\", \"centre\", \"centre\", \"centre\", \"centres\", \"centuries\", \"chain\", \"chechen\", \"chechen\", \"chechen\", \"checks\", \"cheney\", \"cherry\", \"child\", \"child\", \"child\", \"child\", \"child\", \"child\", \"city\", \"city\", \"city\", \"city\", \"city\", \"city\", \"city\", \"city\", \"claims\", \"claims\", \"claims\", \"claims\", \"claims\", \"claims\", \"claims\", \"clash\", \"clement\", \"club\", \"club\", \"clubs\", \"collapse\", \"collapse\", \"collapse\", \"collapse\", \"comeback\", \"comeback\", \"comedy\", \"commission\", \"commission\", \"commission\", \"commission\", \"commission\", \"commission\", \"commission\", \"commission\", \"commitments\", \"communications\", \"company\", \"company\", \"company\", \"company\", \"company\", \"company\", \"company\", \"company\", \"competition\", \"competition\", \"complaints\", \"computer\", \"computers\", \"concerns\", \"connection\", \"connection\", \"consumers\", \"consumers\", \"containment\", \"containment\", \"control\", \"control\", \"control\", \"control\", \"control\", \"control\", \"control\", \"control\", \"controls\", \"cosgrove\", \"cost\", \"cost\", \"cost\", \"cost\", \"cost\", \"costs\", \"costs\", \"costs\", \"costs\", \"coup\", \"coup\", \"coup\", \"coup\", \"cow\", \"crackdown\", \"creditors\", \"creditors\", \"crops\", \"crowe\", \"crush\", \"damage\", \"damage\", \"damage\", \"damage\", \"damage\", \"day\", \"day\", \"day\", \"day\", \"day\", \"day\", \"day\", \"day\", \"days\", \"days\", \"days\", \"days\", \"days\", \"days\", \"days\", \"days\", \"deaths\", \"deaths\", \"deaths\", \"deaths\", \"deaths\", \"deaths\", \"debate\", \"debate\", \"defence\", \"defence\", \"defence\", \"defence\", \"defence\", \"defence\", \"defence\", \"defence\", \"defendants\", \"defendants\", \"democrats\", \"dempsey\", \"denies\", \"dennehy\", \"departure\", \"derrick\", \"derrick\", \"detainees\", \"detainees\", \"detainees\", \"detainees\", \"detainees\", \"detainees\", \"dewar\", \"differences\", \"directors\", \"directors\", \"directors\", \"directors\", \"disarray\", \"discontent\", \"disease\", \"disease\", \"disease\", \"disease\", \"disease\", \"disperse\", \"divide\", \"dixon\", \"doctors\", \"doctors\", \"documents\", \"documents\", \"downer\", \"downer\", \"downer\", \"downer\", \"drawn\", \"drip\", \"drivers\", \"drug\", \"drug\", \"earthquake\", \"economy\", \"economy\", \"economy\", \"economy\", \"economy\", \"economy\", \"economy\", \"editor\", \"effort\", \"effort\", \"email\", \"email\", \"embryo\", \"embryo\", \"embryos\", \"embryos\", \"emissions\", \"engines\", \"entitlements\", \"entitlements\", \"entitlements\", \"entitlements\", \"europe\", \"europe\", \"event\", \"event\", \"event\", \"event\", \"event\", \"event\", \"executive\", \"executive\", \"exert\", \"explosives\", \"explosives\", \"explosives\", \"explosives\", \"factory\", \"factory\", \"factory\", \"family\", \"family\", \"family\", \"family\", \"family\", \"family\", \"family\", \"family\", \"fans\", \"farina\", \"farmers\", \"fatalities\", \"fazalur\", \"fear\", \"federation\", \"ferguson\", \"fighting\", \"fire\", \"fire\", \"fire\", \"fire\", \"fire\", \"fire\", \"fire\", \"fire\", \"firefighters\", \"firefighters\", \"firefighters\", \"firefighters\", \"firefighters\", \"firefighters\", \"fires\", \"fires\", \"fires\", \"fires\", \"fires\", \"fires\", \"flower\", \"food\", \"food\", \"food\", \"football\", \"force\", \"force\", \"force\", \"force\", \"force\", \"force\", \"force\", \"force\", \"forces\", \"forces\", \"forces\", \"forces\", \"forces\", \"forces\", \"forces\", \"forces\", \"ford\", \"ford\", \"ford\", \"francs\", \"front\", \"gabriel\", \"gambill\", \"ganges\", \"ganges\", \"gas\", \"gas\", \"giant\", \"giant\", \"gift\", \"goshen\", \"goshen\", \"government\", \"government\", \"government\", \"government\", \"government\", \"government\", \"government\", \"government\", \"grant\", \"grant\", \"greens\", \"grocery\", \"group\", \"group\", \"group\", \"group\", \"group\", \"group\", \"group\", \"group\", \"groups\", \"groups\", \"groups\", \"groups\", \"groups\", \"groups\", \"groups\", \"groups\", \"guards\", \"guards\", \"gutnick\", \"habeel\", \"hamas\", \"hamas\", \"hamas\", \"hamas\", \"hamas\", \"hamas\", \"hamas\", \"hamas\", \"herberton\", \"hewitt\", \"hewitt\", \"hewitt\", \"hewitt\", \"hewitt\", \"hewitt\", \"hicks\", \"hicks\", \"hicks\", \"hicks\", \"hicks\", \"hih\", \"hih\", \"holiday\", \"holiday\", \"holiday\", \"honours\", \"honours\", \"hooke\", \"hospital\", \"hospital\", \"hospital\", \"hospital\", \"hospital\", \"hospital\", \"hospital\", \"hours\", \"hours\", \"hours\", \"hours\", \"hours\", \"hours\", \"hours\", \"hours\", \"house\", \"house\", \"house\", \"house\", \"house\", \"house\", \"house\", \"howard\", \"howard\", \"howard\", \"howard\", \"ill\", \"inability\", \"indiana\", \"indiana\", \"industrial_action\", \"industrial_action\", \"industrial_action\", \"industrial_action\", \"information\", \"information\", \"information\", \"information\", \"information\", \"information\", \"information\", \"information\", \"ingredients\", \"innings\", \"innings\", \"innings\", \"innings\", \"innings\", \"instance\", \"insurance\", \"insurance\", \"intervene\", \"invasion\", \"investigate\", \"israel\", \"israel\", \"israel\", \"israel\", \"israel\", \"israel\", \"israel\", \"israel\", \"jackson\", \"jail_sentence\", \"jan\", \"join\", \"joseph\", \"kemp\", \"kerry\", \"kissinger\", \"knop\", \"knop\", \"labor\", \"labor\", \"labor\", \"labor\", \"labor\", \"labor\", \"leader\", \"leader\", \"leader\", \"leader\", \"leader\", \"leader\", \"leader\", \"leader\", \"legal_advice\", \"legal_advice\", \"levels\", \"levels\", \"lindsay\", \"line\", \"line\", \"line\", \"line\", \"line\", \"line\", \"locals\", \"lockett\", \"lockett\", \"lockett\", \"lombe\", \"looks\", \"lot\", \"lot\", \"lot\", \"lot\", \"lot\", \"lot\", \"lot\", \"lubbers\", \"lyndon\", \"macfarlane\", \"macgill\", \"macgill\", \"maker\", \"malaysia\", \"man\", \"man\", \"man\", \"man\", \"man\", \"man\", \"man\", \"man\", \"management\", \"management\", \"management\", \"management\", \"management\", \"management\", \"masks\", \"match\", \"match\", \"match\", \"match\", \"match\", \"match\", \"mcafee\", \"mcdonald\", \"mcmenamin\", \"mcmenamin\", \"mcreddie\", \"meeting\", \"meeting\", \"meeting\", \"meeting\", \"meeting\", \"meeting\", \"meeting\", \"megawati\", \"members\", \"members\", \"members\", \"members\", \"members\", \"members\", \"members\", \"members\", \"metres\", \"metres\", \"metres\", \"metres\", \"metres\", \"metres\", \"metres\", \"metres_butterfly\", \"middle_east\", \"middle_east\", \"middle_east\", \"middle_east\", \"middle_east\", \"middle_east\", \"militants\", \"militants\", \"militants\", \"militants\", \"militants\", \"militants\", \"militants\", \"militants\", \"militia\", \"militia\", \"militia\", \"militia\", \"millwork\", \"minister\", \"minister\", \"minister\", \"minister\", \"minister\", \"minister\", \"minister\", \"minister\", \"minutes\", \"minutes\", \"mission\", \"mission\", \"mission\", \"mission\", \"mission\", \"mission\", \"mitsubishi\", \"monica\", \"month\", \"month\", \"month\", \"month\", \"month\", \"month\", \"month\", \"month\", \"months\", \"months\", \"months\", \"months\", \"months\", \"months\", \"morning\", \"morning\", \"morning\", \"morning\", \"morning\", \"morning\", \"morning\", \"morning\", \"new_zealand\", \"new_zealand\", \"new_zealand\", \"new_zealand\", \"new_zealand\", \"nominations\", \"number\", \"number\", \"number\", \"number\", \"number\", \"number\", \"number\", \"number\", \"objections\", \"offenders\", \"offenders\", \"office\", \"office\", \"office\", \"office\", \"office\", \"office\", \"officials\", \"officials\", \"officials\", \"officials\", \"officials\", \"officials\", \"officials\", \"officials\", \"oil\", \"oil\", \"opposition\", \"opposition\", \"opposition\", \"opposition\", \"opposition\", \"opposition\", \"opposition\", \"organisation\", \"organisation\", \"organisation\", \"organisation\", \"organisation\", \"pace\", \"pace\", \"paedophiles\", \"pakistan\", \"pakistan\", \"pakistan\", \"pakistan\", \"pakistan\", \"pakistan\", \"pakistan\", \"palace\", \"palace\", \"palace\", \"palestinian_authority\", \"palestinian_authority\", \"palestinian_authority\", \"palestinian_authority\", \"palestinian_authority\", \"palestinian_authority\", \"palestinian_authority\", \"palestinian_authority\", \"palestinian_police\", \"palestinian_police\", \"palestinians\", \"palestinians\", \"palestinians\", \"palestinians\", \"palestinians\", \"palestinians\", \"palestinians\", \"parents\", \"party\", \"party\", \"party\", \"party\", \"party\", \"party\", \"party\", \"patients\", \"pawlik\", \"pay\", \"pay\", \"pay\", \"pay\", \"pay\", \"peace\", \"peace\", \"peace\", \"peace\", \"peace\", \"peace\", \"peace\", \"pensions\", \"people\", \"people\", \"people\", \"people\", \"people\", \"people\", \"people\", \"people\", \"people_including\", \"per_cent\", \"per_cent\", \"per_cent\", \"per_cent\", \"per_cent\", \"per_cent\", \"per_cent\", \"personality\", \"persuade\", \"petrol\", \"petrol\", \"phillip\", \"pickup\", \"pistols\", \"police\", \"police\", \"police\", \"police\", \"police\", \"police\", \"police\", \"police\", \"policies\", \"pollutants\", \"population\", \"population\", \"population\", \"population\", \"population\", \"potts\", \"powell\", \"powell\", \"powell\", \"power\", \"power\", \"power\", \"power\", \"power\", \"power\", \"power\", \"power\", \"powers\", \"powers\", \"powers\", \"powers\", \"presents\", \"president\", \"president\", \"president\", \"president\", \"president\", \"president\", \"president\", \"president\", \"pressure\", \"pressure\", \"pressure\", \"pressure\", \"pressure\", \"pressure\", \"pressure\", \"pressure\", \"problem\", \"problem\", \"problem\", \"procedure\", \"proceed\", \"process\", \"process\", \"process\", \"process\", \"process\", \"process\", \"process\", \"products\", \"project\", \"projects\", \"projects\", \"promise\", \"property\", \"property\", \"property\", \"prosecution\", \"protect\", \"provisional_liquidation\", \"provisions\", \"proxies\", \"qantas\", \"qantas\", \"qantas\", \"qantas\", \"qantas\", \"qantas\", \"rabbani\", \"radio\", \"radio\", \"radio\", \"radio\", \"radio\", \"radio\", \"radio\", \"rafter\", \"rafter\", \"rafter\", \"rafter\", \"rainforest\", \"ranks\", \"rate\", \"rate\", \"rate\", \"rate\", \"rate\", \"rate\", \"rates\", \"rates\", \"ravenshoe\", \"razor\", \"razzano\", \"recession\", \"recession\", \"recession\", \"recession\", \"recession\", \"recommendations\", \"recommendations\", \"region\", \"region\", \"region\", \"region\", \"region\", \"region\", \"region\", \"rehman\", \"report\", \"report\", \"report\", \"report\", \"report\", \"report\", \"report\", \"report\", \"reports\", \"reports\", \"reports\", \"reports\", \"reports\", \"reports\", \"reports\", \"reports\", \"research\", \"research\", \"research\", \"research\", \"research\", \"retirees\", \"rfds\", \"rfds\", \"richter\", \"roads\", \"roads\", \"roads\", \"rodriguez\", \"role\", \"role\", \"role\", \"role\", \"role\", \"role\", \"role\", \"route\", \"royal_commission\", \"royal_commission\", \"royal_commission\", \"royal_commission\", \"royal_commission\", \"rudd\", \"rudd\", \"rudd\", \"saa\", \"schneiders\", \"sector\", \"sector\", \"sector\", \"sector\", \"sector\", \"sector\", \"sector\", \"security\", \"security\", \"security\", \"security\", \"security\", \"security\", \"security\", \"security\", \"seles\", \"senate\", \"senate\", \"senator\", \"servant\", \"service\", \"service\", \"service\", \"service\", \"service\", \"service\", \"service\", \"services\", \"services\", \"services\", \"services\", \"services\", \"services\", \"services\", \"services\", \"shareholders\", \"sharon\", \"sharon\", \"sharon\", \"sharon\", \"sharon\", \"sharon\", \"sharon\", \"sharon\", \"sheikh\", \"sheikh\", \"shelves\", \"side\", \"side\", \"side\", \"side\", \"side\", \"slips\", \"slump\", \"soccer\", \"software\", \"soil\", \"solvency\", \"sometimes\", \"son\", \"son\", \"son\", \"son\", \"south_africa\", \"south_africa\", \"south_africa\", \"south_africa\", \"south_africa\", \"south_africa\", \"south_australia\", \"south_australia\", \"south_australia\", \"space\", \"space\", \"space\", \"space\", \"spill\", \"spills\", \"spinner\", \"spinner\", \"spokesman\", \"spokesman\", \"spokesman\", \"spokesman\", \"spokesman\", \"spokesman\", \"spokesman\", \"spokesman\", \"sponsors\", \"staff\", \"staff\", \"staff\", \"staff\", \"staff\", \"staff\", \"staff\", \"state\", \"state\", \"state\", \"state\", \"state\", \"state\", \"state\", \"state\", \"statement\", \"statement\", \"statement\", \"statement\", \"statement\", \"statement\", \"statement\", \"statement\", \"stoppage\", \"storm\", \"storm\", \"storm\", \"storm\", \"storm\", \"storm\", \"storm\", \"struck\", \"stuart\", \"stuart\", \"subsidies\", \"suicide_attacks\", \"suicide_attacks\", \"suicide_attacks\", \"suicide_attacks\", \"suicide_attacks\", \"suicide_attacks\", \"suicide_attacks\", \"suitcases\", \"summit\", \"summit\", \"summit\", \"support\", \"support\", \"support\", \"support\", \"support\", \"support\", \"support\", \"support\", \"sydney\", \"sydney\", \"sydney\", \"sydney\", \"sydney\", \"sydney\", \"sydney\", \"sydney\", \"tailenders\", \"tailenders\", \"taliban\", \"taliban\", \"taliban\", \"taliban\", \"taliban\", \"taliban\", \"taliban_forces\", \"talks\", \"talks\", \"talks\", \"talks\", \"talks\", \"talks\", \"talks\", \"talks\", \"tank\", \"team\", \"team\", \"team\", \"team\", \"team\", \"team\", \"team\", \"team\", \"teargas\", \"tel\", \"templeton\", \"termination\", \"termination\", \"terrorism\", \"terrorism\", \"terrorism\", \"terrorism\", \"terrorism\", \"terrorism\", \"terrorism\", \"terrorism\", \"test\", \"test\", \"test\", \"test\", \"test\", \"test\", \"threatens\", \"ticket\", \"time\", \"time\", \"time\", \"time\", \"time\", \"time\", \"time\", \"time\", \"today\", \"today\", \"today\", \"today\", \"today\", \"today\", \"today\", \"today\", \"tora_bora\", \"tora_bora\", \"tora_bora\", \"tora_bora\", \"tora_bora\", \"treasurer\", \"treasurer\", \"trees\", \"trees\", \"trees\", \"trees\", \"troops\", \"troops\", \"troops\", \"troops\", \"troops\", \"troops\", \"troops\", \"troops\", \"tropics\", \"trounson\", \"trounson\", \"truss\", \"tuesday\", \"twu\", \"tyco\", \"union\", \"union\", \"union\", \"union\", \"union\", \"union\", \"union\", \"unions\", \"unions\", \"unions\", \"unions\", \"unions\", \"unions\", \"united_states\", \"united_states\", \"united_states\", \"united_states\", \"united_states\", \"united_states\", \"united_states\", \"united_states\", \"university\", \"university\", \"users\", \"violence\", \"violence\", \"violence\", \"violence\", \"violence\", \"violence\", \"violence\", \"virus\", \"vision\", \"volunteers\", \"volunteers\", \"volunteers\", \"voracity\", \"wales\", \"wales\", \"wales\", \"wales\", \"wales\", \"wales\", \"wales\", \"wales\", \"war\", \"war\", \"war\", \"war\", \"war\", \"war\", \"war\", \"war\", \"ward\", \"way\", \"way\", \"way\", \"way\", \"way\", \"way\", \"way\", \"way\", \"weapons\", \"weapons\", \"weapons\", \"weapons\", \"weapons\", \"weapons\", \"weapons\", \"weather_bureau\", \"weather_bureau\", \"week\", \"week\", \"week\", \"week\", \"week\", \"week\", \"week\", \"week\", \"wet\", \"wilderness\", \"wood\", \"words\", \"work\", \"work\", \"work\", \"work\", \"work\", \"work\", \"work\", \"work\", \"workers\", \"workers\", \"workers\", \"workers\", \"workers\", \"workers\", \"workers\", \"world\", \"world\", \"world\", \"world\", \"world\", \"world\", \"world\", \"world\", \"world_heritage\", \"worm\", \"yacht_race\", \"yacht_race\", \"yachts\", \"yachts\", \"year\", \"year\", \"year\", \"year\", \"year\", \"year\", \"year\", \"year\", \"year_old\", \"year_old\", \"year_old\", \"year_old\", \"year_old\", \"year_old\", \"year_old\", \"year_old\", \"years\", \"years\", \"years\", \"years\", \"years\", \"years\", \"years\", \"years\", \"yesterday\", \"yesterday\", \"yesterday\", \"yesterday\", \"yesterday\", \"yesterday\", \"yesterday\", \"yesterday\", \"zealander\", \"zeus\", \"zinni\", \"zinni\", \"zinni\"]}, \"R\": 30, \"lambda.step\": 0.01, \"plot.opts\": {\"xlab\": \"PC1\", \"ylab\": \"PC2\"}, \"topic.order\": [8, 3, 2, 6, 7, 1, 4, 5]};\n",
       "\n",
       "function LDAvis_load_lib(url, callback){\n",
       "  var s = document.createElement('script');\n",
       "  s.src = url;\n",
       "  s.async = true;\n",
       "  s.onreadystatechange = s.onload = callback;\n",
       "  s.onerror = function(){console.warn(\"failed to load library \" + url);};\n",
       "  document.getElementsByTagName(\"head\")[0].appendChild(s);\n",
       "}\n",
       "\n",
       "if(typeof(LDAvis) !== \"undefined\"){\n",
       "   // already loaded: just create the visualization\n",
       "   !function(LDAvis){\n",
       "       new LDAvis(\"#\" + \"ldavis_el14651123684272001381180387\", ldavis_el14651123684272001381180387_data);\n",
       "   }(LDAvis);\n",
       "}else if(typeof define === \"function\" && define.amd){\n",
       "   // require.js is available: use it to load d3/LDAvis\n",
       "   require.config({paths: {d3: \"https://cdnjs.cloudflare.com/ajax/libs/d3/3.5.5/d3.min\"}});\n",
       "   require([\"d3\"], function(d3){\n",
       "      window.d3 = d3;\n",
       "      LDAvis_load_lib(\"https://cdn.rawgit.com/bmabey/pyLDAvis/files/ldavis.v1.0.0.js\", function(){\n",
       "        new LDAvis(\"#\" + \"ldavis_el14651123684272001381180387\", ldavis_el14651123684272001381180387_data);\n",
       "      });\n",
       "    });\n",
       "}else{\n",
       "    // require.js not available: dynamically load d3 & LDAvis\n",
       "    LDAvis_load_lib(\"https://cdnjs.cloudflare.com/ajax/libs/d3/3.5.5/d3.min.js\", function(){\n",
       "         LDAvis_load_lib(\"https://cdn.rawgit.com/bmabey/pyLDAvis/files/ldavis.v1.0.0.js\", function(){\n",
       "                 new LDAvis(\"#\" + \"ldavis_el14651123684272001381180387\", ldavis_el14651123684272001381180387_data);\n",
       "            })\n",
       "         });\n",
       "}\n",
       "</script>"
      ],
      "text/plain": [
       "PreparedData(topic_coordinates=            Freq  cluster  topics         x         y\n",
       "topic                                                \n",
       "7      18.016827        1       1  0.035883  0.056169\n",
       "2      14.479028        1       2  0.036580 -0.044328\n",
       "1      14.187112        1       3  0.057755 -0.035033\n",
       "5      13.175047        1       4 -0.068215 -0.000748\n",
       "6      11.604578        1       5 -0.071077 -0.012759\n",
       "0      10.718215        1       6  0.012763  0.066260\n",
       "3       9.752707        1       7 -0.006214  0.011408\n",
       "4       8.066487        1       8  0.002524 -0.040970, topic_info=     Category        Freq            Term       Total  loglift  logprob\n",
       "term                                                                   \n",
       "141   Default   88.000000      government   88.000000  30.0000  30.0000\n",
       "1340  Default   20.000000         economy   20.000000  29.0000  29.0000\n",
       "1951  Default   19.000000           labor   19.000000  28.0000  28.0000\n",
       "518   Default   32.000000            test   32.000000  27.0000  27.0000\n",
       "3656  Default    6.000000           virus    6.000000  26.0000  26.0000\n",
       "250   Default   42.000000           world   42.000000  25.0000  25.0000\n",
       "1502  Default   54.000000         company   54.000000  24.0000  24.0000\n",
       "1     Default  103.000000          people  103.000000  23.0000  23.0000\n",
       "25    Default   42.000000            fire   42.000000  22.0000  22.0000\n",
       "387   Default   25.000000           peace   25.000000  21.0000  21.0000\n",
       "192   Default   29.000000           power   29.000000  20.0000  20.0000\n",
       "12    Default   33.000000          sydney   33.000000  19.0000  19.0000\n",
       "2106  Default   10.000000             hih   10.000000  18.0000  18.0000\n",
       "1407  Default   10.000000         disease   10.000000  17.0000  17.0000\n",
       "1379  Default    7.000000         macgill    7.000000  16.0000  16.0000\n",
       "3398  Default    4.000000        products    4.000000  15.0000  15.0000\n",
       "2335  Default   12.000000           space   12.000000  14.0000  14.0000\n",
       "774   Default   16.000000            rate   16.000000  13.0000  13.0000\n",
       "1014  Default   16.000000          damage   16.000000  12.0000  12.0000\n",
       "40    Default   35.000000            area   35.000000  11.0000  11.0000\n",
       "88    Default   23.000000          troops   23.000000  10.0000  10.0000\n",
       "403   Default   28.000000           union   28.000000   9.0000   9.0000\n",
       "352   Default    7.000000             car    7.000000   8.0000   8.0000\n",
       "834   Default   45.000000       australia   45.000000   7.0000   7.0000\n",
       "1292  Default   15.000000           child   15.000000   6.0000   6.0000\n",
       "2837  Default    5.000000         farmers    5.000000   5.0000   5.0000\n",
       "102   Default   29.000000             war   29.000000   4.0000   4.0000\n",
       "3141  Default    5.000000  world_heritage    5.000000   3.0000   3.0000\n",
       "205   Default    6.000000           seles    6.000000   2.0000   2.0000\n",
       "2158  Default   24.000000          unions   24.000000   1.0000   1.0000\n",
       "...       ...         ...             ...         ...      ...      ...\n",
       "1630   Topic8    1.875852            food    5.430599   1.4545  -6.5155\n",
       "88     Topic8    4.839411          troops   23.112240   0.9539  -5.5678\n",
       "1      Topic8   12.249046          people  103.347029   0.3848  -4.6392\n",
       "12     Topic8    5.879636          sydney   33.700594   0.7714  -5.3731\n",
       "1156   Topic8    2.235104      population    7.245332   1.3414  -6.3403\n",
       "141    Topic8   10.400400      government   88.798683   0.3729  -4.8028\n",
       "292    Topic8    3.490814             lot   15.896777   1.0015  -5.8945\n",
       "25     Topic8    6.050481            fire   42.077801   0.5781  -5.3445\n",
       "881    Topic8    3.535067         defence   16.964224   0.9491  -5.8819\n",
       "130    Topic8    2.328633       recession    8.175081   1.2616  -6.2993\n",
       "32     Topic8    5.286467            year   36.514071   0.5849  -5.4795\n",
       "131    Topic8    4.830655            days   31.185562   0.6525  -5.5696\n",
       "153    Topic8    3.969329            work   21.860154   0.8114  -5.7660\n",
       "371    Topic8    2.859478       buildings   12.117120   1.0735  -6.0940\n",
       "518    Topic8    3.865722            test   32.198164   0.3977  -5.7925\n",
       "107    Topic8    4.546359            time   49.335412   0.1331  -5.6303\n",
       "4      Topic8    3.545289           wales   29.885858   0.3857  -5.8790\n",
       "309    Topic8    3.721287         morning   37.776929   0.1998  -5.8305\n",
       "154    Topic8    3.527264           hours   32.726283   0.2898  -5.8841\n",
       "144    Topic8    2.854881            role   16.624057   0.7556  -6.0956\n",
       "73     Topic8    4.028399          police   57.559305  -0.1420  -5.7512\n",
       "274    Topic8    2.751157            line   14.755990   0.8378  -6.1326\n",
       "340    Topic8    3.509198           force   40.453554   0.0727  -5.8892\n",
       "52     Topic8    3.238049           areas   29.646442   0.3031  -5.9696\n",
       "393    Topic8    3.148536          forces   27.756192   0.3409  -5.9977\n",
       "167    Topic8    3.101883           staff   31.142653   0.2109  -6.0126\n",
       "404    Topic8    2.969496           group   30.950834   0.1734  -6.0562\n",
       "203    Topic8    3.016874   united_states   37.643185  -0.0065  -6.0404\n",
       "234    Topic8    2.913941             way   28.346579   0.2425  -6.0751\n",
       "51     Topic8    2.904155           state   33.743006   0.0648  -6.0785\n",
       "\n",
       "[608 rows x 6 columns], token_table=      Topic      Freq            Term\n",
       "term                                 \n",
       "1999      6  0.459529        abortion\n",
       "171       1  0.219391          action\n",
       "171       2  0.109696          action\n",
       "171       3  0.182826          action\n",
       "171       4  0.146261          action\n",
       "171       5  0.036565          action\n",
       "171       6  0.036565          action\n",
       "171       7  0.219391          action\n",
       "171       8  0.036565          action\n",
       "1116      7  0.482316           actor\n",
       "1116      8  0.241158           actor\n",
       "1571      7  0.449626         actress\n",
       "3729      1  0.799433            adam\n",
       "2259      1  0.160131         address\n",
       "2259      4  0.160131         address\n",
       "2259      5  0.160131         address\n",
       "2259      7  0.480394         address\n",
       "2078      1  0.669528  administrators\n",
       "2078      4  0.167382  administrators\n",
       "581       5  0.614149          adolfo\n",
       "903       1  0.092742     afghanistan\n",
       "903       2  0.139113     afghanistan\n",
       "903       3  0.046371     afghanistan\n",
       "903       4  0.231854     afghanistan\n",
       "903       5  0.231854     afghanistan\n",
       "903       6  0.139113     afghanistan\n",
       "903       7  0.092742     afghanistan\n",
       "903       8  0.092742     afghanistan\n",
       "448       1  0.229534       agreement\n",
       "448       2  0.137721       agreement\n",
       "...     ...       ...             ...\n",
       "32        8  0.136934            year\n",
       "221       1  0.111728        year_old\n",
       "221       2  0.055864        year_old\n",
       "221       3  0.111728        year_old\n",
       "221       4  0.167591        year_old\n",
       "221       5  0.111728        year_old\n",
       "221       6  0.223455        year_old\n",
       "221       7  0.167591        year_old\n",
       "221       8  0.055864        year_old\n",
       "129       1  0.159569           years\n",
       "129       2  0.119677           years\n",
       "129       3  0.199461           years\n",
       "129       4  0.159569           years\n",
       "129       5  0.199461           years\n",
       "129       6  0.119677           years\n",
       "129       7  0.039892           years\n",
       "129       8  0.039892           years\n",
       "93        1  0.197388       yesterday\n",
       "93        2  0.148041       yesterday\n",
       "93        3  0.148041       yesterday\n",
       "93        4  0.049347       yesterday\n",
       "93        5  0.098694       yesterday\n",
       "93        6  0.123367       yesterday\n",
       "93        7  0.197388       yesterday\n",
       "93        8  0.024673       yesterday\n",
       "3416      6  0.459221       zealander\n",
       "500       6  0.462405            zeus\n",
       "759       2  0.578201           zinni\n",
       "759       3  0.115640           zinni\n",
       "759       5  0.231280           zinni\n",
       "\n",
       "[1500 rows x 3 columns], R=30, lambda_step=0.01, plot_opts={'xlab': 'PC1', 'ylab': 'PC2'}, topic_order=[8, 3, 2, 6, 7, 1, 4, 5])"
      ]
     },
     "execution_count": 83,
     "metadata": {},
     "output_type": "execute_result"
    }
   ],
   "source": [
    "pyLDAvis.gensim.prepare(lmlist[7], corpus, dictionary)"
   ]
  },
  {
   "cell_type": "code",
   "execution_count": 84,
   "metadata": {
    "collapsed": true,
    "nbpresent": {
     "id": "699e2ddb-add6-4134-a723-1bb37029f013"
    }
   },
   "outputs": [],
   "source": [
    "lmtopics = lmlist[7].show_topics(formatted=False)"
   ]
  },
  {
   "cell_type": "markdown",
   "metadata": {
    "nbpresent": {
     "id": "caa35df4-b625-4246-bc1f-42c561f31486"
    }
   },
   "source": [
    "### LDA as LSI"
   ]
  },
  {
   "cell_type": "markdown",
   "metadata": {
    "nbpresent": {
     "id": "d2aa5aac-acc7-41c9-96d4-5410c0d8a14b"
    }
   },
   "source": [
    "One of the problem with LDA is that if we train it on a large number of topics, the topics get \"lost\" among the numbers. Let us see if we can dig out the best topics from the best LDA model we can produce. The function below can be used to control the quality of the LDA model we produce."
   ]
  },
  {
   "cell_type": "code",
   "execution_count": null,
   "metadata": {
    "collapsed": true,
    "nbpresent": {
     "id": "c39406c8-1e69-4249-91ac-894338d4053b"
    }
   },
   "outputs": [],
   "source": [
    "def ret_top_model():\n",
    "    \"\"\"\n",
    "    Since LDAmodel is a probabilistic model, it comes up different topics each time we run it. To control the\n",
    "    quality of the topic model we produce, we can see what the interpretability of the best topic is and keep\n",
    "    evaluating the topic model until this threshold is crossed. \n",
    "    \n",
    "    Returns:\n",
    "    -------\n",
    "    lm: Final evaluated topic model\n",
    "    top_topics: ranked topics in decreasing order. List of tuples\n",
    "    \"\"\"\n",
    "    top_topics = [(0, 0)]\n",
    "    while top_topics[0][1] < 0.97:\n",
    "        lm = LdaModel(corpus=corpus, id2word=dictionary)\n",
    "        coherence_values = {}\n",
    "        for n, topic in lm.show_topics(num_topics=-1, formatted=False):\n",
    "            topic = [word for word, _ in topic]\n",
    "            cm = CoherenceModel(topics=[topic], texts=train_texts, dictionary=dictionary, window_size=10)\n",
    "            coherence_values[n] = cm.get_coherence()\n",
    "        top_topics = sorted(coherence_values.items(), key=operator.itemgetter(1), reverse=True)\n",
    "        print(top_topics)\n",
    "    return lm, top_topics"
   ]
  },
  {
   "cell_type": "code",
   "execution_count": null,
   "metadata": {
    "nbpresent": {
     "id": "6b8eef4a-a87d-42bd-84dd-586610828698"
    }
   },
   "outputs": [],
   "source": [
    "lm, top_topics = ret_top_model()"
   ]
  },
  {
   "cell_type": "code",
   "execution_count": 79,
   "metadata": {
    "nbpresent": {
     "id": "43870992-c2ff-47cf-8b6b-f62855673b42"
    }
   },
   "outputs": [
    {
     "name": "stdout",
     "output_type": "stream",
     "text": [
      "[(91, 0.99286550077029223), (42, 0.96031455145699274), (54, 0.87011963575683104), (2, 0.84575428129030361), (10, 0.83238343784453017)]\n"
     ]
    }
   ],
   "source": [
    "print(top_topics[:5])"
   ]
  },
  {
   "cell_type": "markdown",
   "metadata": {},
   "source": [
    "### Inference\n",
    "We can clearly see below that the first topic is about __cinema__, second is about __email malware__, third is about the land which was given back to the __Larrakia aboriginal community of Australia__ in 2000. Then there's one about __Australian cricket__. LDA as LSI has worked wonderfully in finding out the best topics from within LDA."
   ]
  },
  {
   "cell_type": "code",
   "execution_count": 78,
   "metadata": {
    "nbpresent": {
     "id": "281d1434-ce22-46c6-ba53-71a24a476568"
    }
   },
   "outputs": [
    {
     "name": "stdout",
     "output_type": "stream",
     "text": [
      "[[(u'actor', 0.034688196735986693),\n",
      "  (u'picture', 0.023163878883499418),\n",
      "  (u'award', 0.023163878883499418),\n",
      "  (u'comedy', 0.023163878883499418),\n",
      "  (u'globe', 0.023163878883499418),\n",
      "  (u'nomination', 0.023163878883499418),\n",
      "  (u'actress', 0.023163878883499418),\n",
      "  (u'film', 0.023163878883499418),\n",
      "  (u'drama', 0.011639561031012149),\n",
      "  (u'winner', 0.011639561031012149)],\n",
      " [(u'virus', 0.064292949289013482),\n",
      "  (u'user', 0.048074573973209883),\n",
      "  (u'computer', 0.040350900997751814),\n",
      "  (u'company', 0.028173623478117912),\n",
      "  (u'email', 0.022580226976870982),\n",
      "  (u'worm', 0.020928236506996975),\n",
      "  (u'attachment', 0.014534311779706417),\n",
      "  (u'outlook', 0.01260706654637953),\n",
      "  (u'software', 0.011909411409069969),\n",
      "  (u'list', 0.0088116041533348403)],\n",
      " [(u'claim', 0.0096511365969504694),\n",
      "  (u'agreement', 0.0082836950379963047),\n",
      "  (u'hectare', 0.0077564979304569235),\n",
      "  (u'larrakia', 0.0065928813973845394),\n",
      "  (u'rosebury', 0.006086042494624749),\n",
      "  (u'term', 0.004880655853124416),\n",
      "  (u'region', 0.004786636929111303),\n",
      "  (u'title', 0.0045026307214029735),\n",
      "  (u'palmerston', 0.0043726827115423677),\n",
      "  (u'developer', 0.0040102561358092521)],\n",
      " [(u'government', 0.046880132726190141),\n",
      "  (u'razor', 0.035772624674521684),\n",
      "  (u'gang', 0.034958865711441162),\n",
      "  (u'minister', 0.023615858300345904),\n",
      "  (u'interest', 0.023531518290467797),\n",
      "  (u'taxpayer', 0.023484887279677492),\n",
      "  (u'nelson', 0.023408331025582648),\n",
      "  (u'spending', 0.023363131530296326),\n",
      "  (u'program', 0.022809499664362586),\n",
      "  (u'colleague', 0.012039863390851384)],\n",
      " [(u'australia', 0.019022701887671096),\n",
      "  (u'outlook', 0.012806577991883974),\n",
      "  (u'price', 0.012017645637892888),\n",
      "  (u'growth', 0.011021360611214826),\n",
      "  (u'world', 0.010586500333515535),\n",
      "  (u'imf', 0.0074848683800558145),\n",
      "  (u'half', 0.0073080219523406773),\n",
      "  (u'release', 0.0073069514968024446),\n",
      "  (u'oil', 0.0071307771829650724),\n",
      "  (u'weakening', 0.0067585126681211785)],\n",
      " [(u'role', 0.036823234375415084),\n",
      "  (u'heart', 0.018676496748175567),\n",
      "  (u'mcreddie', 0.018520830095514161),\n",
      "  (u'sir', 0.018430691138823303),\n",
      "  (u'actor', 0.018423768093119148),\n",
      "  (u'attack', 0.018421603513127272),\n",
      "  (u'minister', 0.018330977218667187),\n",
      "  (u'cancer', 0.018246768643902407),\n",
      "  (u'servant', 0.018246520413261125),\n",
      "  (u'friend', 0.018230140539399531)],\n",
      " [(u'australia', 0.038230610979973961),\n",
      "  (u'test', 0.03039802044037989),\n",
      "  (u'day', 0.026478028361575149),\n",
      "  (u'adam', 0.023237227270639361),\n",
      "  (u'wicket', 0.018060239149805601),\n",
      "  (u'match', 0.015652900511647725),\n",
      "  (u'gilchrist', 0.015206348827236857),\n",
      "  (u'steve_waugh', 0.01496754571623464),\n",
      "  (u'south_africa', 0.013902623982144873),\n",
      "  (u'selector', 0.012332915474867073)],\n",
      " [(u'product', 0.067729999063555119),\n",
      "  (u'food', 0.033921347284742248),\n",
      "  (u'consumer', 0.033921347284742241),\n",
      "  (u'company', 0.033921347284742241),\n",
      "  (u'hooke', 0.022651796691804622),\n",
      "  (u'law', 0.022651796691804622),\n",
      "  (u'grocery', 0.022651796691804622),\n",
      "  (u'technology', 0.022651796691804622),\n",
      "  (u'sultan', 0.014079780537934588),\n",
      "  (u'stage', 0.013736597864617922)],\n",
      " [(u'credit', 0.020223411999648302),\n",
      "  (u'way', 0.017706515460000523),\n",
      "  (u'bank', 0.017459639386736926),\n",
      "  (u'card', 0.016308335204832106),\n",
      "  (u'consumer', 0.014565787979687885),\n",
      "  (u'reserve_bank', 0.014365008462949415),\n",
      "  (u'association', 0.011448453247788988),\n",
      "  (u'rate', 0.010363334709658676),\n",
      "  (u'movement', 0.010204675471073506),\n",
      "  (u'inquiry', 0.0093452022355641085)],\n",
      " [(u'fire', 0.045611922604745642),\n",
      "  (u'area', 0.021994719721821848),\n",
      "  (u'firefighter', 0.018748173264525044),\n",
      "  (u'sydney', 0.016599279291396325),\n",
      "  (u'wind', 0.014270025525472343),\n",
      "  (u'property', 0.0098028785236429564),\n",
      "  (u'hour', 0.0097079779464512347),\n",
      "  (u'today', 0.0093953004964965076),\n",
      "  (u'year', 0.0089216764257795157),\n",
      "  (u'state', 0.0086116373269496185)]]\n"
     ]
    }
   ],
   "source": [
    "pprint([lm.show_topic(topicid) for topicid, c_v in top_topics[:10]])"
   ]
  },
  {
   "cell_type": "code",
   "execution_count": 98,
   "metadata": {
    "collapsed": true,
    "nbpresent": {
     "id": "ada914a2-bacb-4300-8ce3-f1332843d24c"
    }
   },
   "outputs": [],
   "source": [
    "lda_lsi_topics = [[word for word, prob in lm.show_topic(topicid)] for topicid, c_v in top_topics]"
   ]
  },
  {
   "cell_type": "markdown",
   "metadata": {
    "nbpresent": {
     "id": "4f313370-b5f0-4754-9744-157da0447fc4"
    }
   },
   "source": [
    "### Evaluating all the topic models\n",
    "Any topic model which can come up with topic terms can be plugged into the coherence pipeline. You can even plug in an [NMF topic model](http://derekgreene.com/nmf-topic/) created with scikit-learn."
   ]
  },
  {
   "cell_type": "code",
   "execution_count": 99,
   "metadata": {
    "collapsed": true,
    "nbpresent": {
     "id": "4329af31-21b4-4570-903a-6df3715244c7"
    }
   },
   "outputs": [],
   "source": [
    "lsitopics = [[word for word, prob in topic] for topicid, topic in lsitopics]\n",
    "\n",
    "hdptopics = [[word for word, prob in topic] for topicid, topic in hdptopics]\n",
    "\n",
    "ldatopics = [[word for word, prob in topic] for topicid, topic in ldatopics]\n",
    "\n",
    "lmtopics = [[word for word, prob in topic] for topicid, topic in lmtopics]"
   ]
  },
  {
   "cell_type": "code",
   "execution_count": 100,
   "metadata": {
    "collapsed": true,
    "nbpresent": {
     "id": "0924faf0-a957-4d12-b35c-b50ebb30f370"
    }
   },
   "outputs": [],
   "source": [
    "lsi_coherence = CoherenceModel(topics=lsitopics[:10], texts=train_texts, dictionary=dictionary, window_size=10).get_coherence()\n",
    "\n",
    "hdp_coherence = CoherenceModel(topics=hdptopics[:10], texts=train_texts, dictionary=dictionary, window_size=10).get_coherence()\n",
    "\n",
    "lda_coherence = CoherenceModel(topics=ldatopics, texts=train_texts, dictionary=dictionary, window_size=10).get_coherence()\n",
    "\n",
    "lm_coherence = CoherenceModel(topics=lmtopics, texts=train_texts, dictionary=dictionary, window_size=10).get_coherence()\n",
    "\n",
    "lda_lsi_coherence = CoherenceModel(topics=lda_lsi_topics[:10], texts=train_texts, dictionary=dictionary, window_size=10).get_coherence()"
   ]
  },
  {
   "cell_type": "code",
   "execution_count": 101,
   "metadata": {
    "collapsed": true,
    "nbpresent": {
     "id": "59cc671f-041a-4d6f-a609-f1b9855aa05c"
    }
   },
   "outputs": [],
   "source": [
    "def evaluate_bar_graph(coherences, indices):\n",
    "    \"\"\"\n",
    "    Function to plot bar graph.\n",
    "    \n",
    "    coherences: list of coherence values\n",
    "    indices: Indices to be used to mark bars. Length of this and coherences should be equal.\n",
    "    \"\"\"\n",
    "    assert len(coherences) == len(indices)\n",
    "    n = len(coherences)\n",
    "    x = np.arange(n)\n",
    "    plt.bar(x, coherences, width=0.2, tick_label=indices, align='center')\n",
    "    plt.xlabel('Models')\n",
    "    plt.ylabel('Coherence Value')"
   ]
  },
  {
   "cell_type": "code",
   "execution_count": 102,
   "metadata": {
    "nbpresent": {
     "id": "b86ba0c1-c7c4-43a5-a9f5-8dfe7967be6c"
    }
   },
   "outputs": [
    {
     "data": {
      "image/png": "[encoded data removed]",
      "text/plain": [
       "<matplotlib.figure.Figure at 0x7f0ce8179250>"
      ]
     },
     "metadata": {},
     "output_type": "display_data"
    }
   ],
   "source": [
    "evaluate_bar_graph([lsi_coherence, hdp_coherence, lda_coherence, lm_coherence, lda_lsi_coherence],\n",
    "                   ['LSI', 'HDP', 'LDA', 'LDA_Mod', 'LDA_LSI'])"
   ]
  },
  {
   "cell_type": "markdown",
   "metadata": {
    "nbpresent": {
     "id": "df6cc31a-0b01-4700-b210-836dd510007a"
    }
   },
   "source": [
    "### Customizing the topic coherence measure\n",
    "Till now we only used the `c_v` coherence measure. There are others such as `u_mass`, `c_uci`, `c_npmi`. All of these calculate coherence in a different way. `c_v` is found to be most in line with human ratings but can be much slower than `u_mass` since it uses a sliding window over the texts."
   ]
  },
  {
   "cell_type": "markdown",
   "metadata": {
    "nbpresent": {
     "id": "664fa23d-ba6e-4a30-9287-e4fef1cc093e"
    }
   },
   "source": [
    "### Making your own coherence measure\n",
    "Let's modify `c_uci` to use `s_one_pre` instead of `s_one_one` segmentation"
   ]
  },
  {
   "cell_type": "code",
   "execution_count": 47,
   "metadata": {
    "collapsed": true,
    "nbpresent": {
     "id": "b3652f43-da03-4027-9170-83e1679dfa2b"
    }
   },
   "outputs": [],
   "source": [
    "from gensim.topic_coherence import (segmentation, probability_estimation,\n",
    "                                    direct_confirmation_measure, indirect_confirmation_measure,\n",
    "                                    aggregation)\n",
    "from gensim.matutils import argsort\n",
    "from collections import namedtuple"
   ]
  },
  {
   "cell_type": "code",
   "execution_count": 48,
   "metadata": {
    "collapsed": true,
    "nbpresent": {
     "id": "8ce2b802-f0c1-4ffc-9ce5-c2792856b5b4"
    }
   },
   "outputs": [],
   "source": [
    "make_pipeline = namedtuple('Coherence_Measure', 'seg, prob, conf, aggr')"
   ]
  },
  {
   "cell_type": "code",
   "execution_count": 49,
   "metadata": {
    "collapsed": true,
    "nbpresent": {
     "id": "9994e7f0-f366-40da-9c14-76e8142ee46e"
    }
   },
   "outputs": [],
   "source": [
    "measure = make_pipeline(segmentation.s_one_one,\n",
    "                        probability_estimation.p_boolean_sliding_window,\n",
    "                        direct_confirmation_measure.log_ratio_measure,\n",
    "                        aggregation.arithmetic_mean)"
   ]
  },
  {
   "cell_type": "markdown",
   "metadata": {
    "nbpresent": {
     "id": "416f5820-1538-4483-a77f-5211c8179891"
    }
   },
   "source": [
    "To get topics out of the topic model:"
   ]
  },
  {
   "cell_type": "code",
   "execution_count": 50,
   "metadata": {
    "collapsed": true,
    "nbpresent": {
     "id": "aa9d35ae-c458-49d2-bdbe-d93d5cb3ba9c"
    }
   },
   "outputs": [],
   "source": [
    "topics = []\n",
    "for topic in lm.state.get_lambda():\n",
    "    bestn = argsort(topic, topn=10, reverse=True)\n",
    "topics.append(bestn)"
   ]
  },
  {
   "cell_type": "markdown",
   "metadata": {
    "nbpresent": {
     "id": "13f246a0-918e-44c1-ae19-7af118d83585"
    }
   },
   "source": [
    "__Step 1__: Segmentation"
   ]
  },
  {
   "cell_type": "code",
   "execution_count": 51,
   "metadata": {
    "collapsed": true,
    "nbpresent": {
     "id": "821ab68b-c377-40b1-bdf3-b92d66414383"
    }
   },
   "outputs": [],
   "source": [
    "# Perform segmentation\n",
    "segmented_topics = measure.seg(topics)"
   ]
  },
  {
   "cell_type": "markdown",
   "metadata": {
    "nbpresent": {
     "id": "e4b50714-b644-4213-b3cb-bdac9fe22476"
    }
   },
   "source": [
    "__Step 2__: Probability estimation"
   ]
  },
  {
   "cell_type": "code",
   "execution_count": 52,
   "metadata": {
    "collapsed": true,
    "nbpresent": {
     "id": "d8a8bcc6-8b37-4d4f-ad06-903804776078"
    }
   },
   "outputs": [],
   "source": [
    "# Since this is a window-based coherence measure we will perform window based prob estimation\n",
    "per_topic_postings, num_windows = measure.prob(texts=train_texts, segmented_topics=segmented_topics,\n",
    "                                               dictionary=dictionary, window_size=2)"
   ]
  },
  {
   "cell_type": "markdown",
   "metadata": {
    "nbpresent": {
     "id": "6f302dcb-787b-42b0-98f0-1df0a163a818"
    }
   },
   "source": [
    "__Step 3__: Confirmation Measure"
   ]
  },
  {
   "cell_type": "code",
   "execution_count": 53,
   "metadata": {
    "collapsed": true,
    "nbpresent": {
     "id": "ffb5aaa9-5fa1-4b28-ba2f-e23525caa392"
    }
   },
   "outputs": [],
   "source": [
    "confirmed_measures = measure.conf(segmented_topics, per_topic_postings, num_windows, normalize=False)"
   ]
  },
  {
   "cell_type": "markdown",
   "metadata": {
    "nbpresent": {
     "id": "3544f061-6870-4630-bd54-79f75decf8b6"
    }
   },
   "source": [
    "__Step 4__: Aggregation"
   ]
  },
  {
   "cell_type": "code",
   "execution_count": 54,
   "metadata": {
    "nbpresent": {
     "id": "31c64f41-a499-4f80-8ccd-1364940f7383"
    }
   },
   "outputs": [
    {
     "name": "stdout",
     "output_type": "stream",
     "text": [
      "-11.2873225334\n"
     ]
    }
   ],
   "source": [
    "print(measure.aggr(confirmed_measures))"
   ]
  },
  {
   "cell_type": "markdown",
   "metadata": {},
   "source": [
    "# How this topic model can be used further\n",
    "The best topic model here can be used as a standalone for news article classification. However a topic model can also be used as a dimensionality reduction algorithm to feed into a classifier. A good topic model should be able to extract the signal from the noise efficiently, hence improving the performance of the classifier."
   ]
  }
 ],
 "metadata": {
  "anaconda-cloud": {},
  "kernelspec": {
   "display_name": "Python 3",
   "language": "python",
   "name": "python3"
  },
  "language_info": {
   "codemirror_mode": {
    "name": "ipython",
    "version": 3
   },
   "file_extension": ".py",
   "mimetype": "text/x-python",
   "name": "python",
   "nbconvert_exporter": "python",
   "pygments_lexer": "ipython3",
   "version": "3.6.3"
  },
  "nbpresent": {
   "slides": {
    "04abaf09-1754-419e-9cf8-3c4f0accfc5f": {
     "id": "04abaf09-1754-419e-9cf8-3c4f0accfc5f",
     "prev": "67c9421a-0e61-4346-873f-bf3769d00c97",
     "regions": {
      "48b5cd39-b89b-4e2f-be2a-47a0fccafd3b": {
       "attrs": {
        "height": 0.8,
        "width": 0.8,
        "x": 0.1,
        "y": 0.1
       },
       "content": {
        "cell": "862c087b-b918-47b9-b0cf-42b71996e061",
        "part": "whole"
       },
       "id": "48b5cd39-b89b-4e2f-be2a-47a0fccafd3b"
      }
     }
    },
    "0527f44a-39b6-4cf8-9802-d16b8cd34754": {
     "id": "0527f44a-39b6-4cf8-9802-d16b8cd34754",
     "prev": "103c32ed-02bc-4365-a431-5acd77fe6585",
     "regions": {
      "ed3805ae-4076-41ad-a578-69a0b2356f95": {
       "attrs": {
        "height": 0.8,
        "width": 0.8,
        "x": 0.1,
        "y": 0.1
       },
       "content": {
        "cell": "b3652f43-da03-4027-9170-83e1679dfa2b",
        "part": "whole"
       },
       "id": "ed3805ae-4076-41ad-a578-69a0b2356f95"
      }
     }
    },
    "05fa6235-ac93-41b7-9975-3fee534b0c94": {
     "id": "05fa6235-ac93-41b7-9975-3fee534b0c94",
     "prev": "e44d6d8f-7236-458f-a308-36142bc72ff4",
     "regions": {
      "3e316a57-509e-404e-a89b-bde56696b966": {
       "attrs": {
        "height": 0.8,
        "width": 0.8,
        "x": 0.1,
        "y": 0.1
       },
       "content": {
        "cell": "c39406c8-1e69-4249-91ac-894338d4053b",
        "part": "whole"
       },
       "id": "3e316a57-509e-404e-a89b-bde56696b966"
      }
     }
    },
    "0e2565e0-a21d-4dbb-a4b3-8698e797c45d": {
     "id": "0e2565e0-a21d-4dbb-a4b3-8698e797c45d",
     "prev": "11baa747-dc0e-430a-8f38-65331394d2fd",
     "regions": {
      "2e423579-bece-40ca-ba30-122f49d93655": {
       "attrs": {
        "height": 0.8,
        "width": 0.8,
        "x": 0.1,
        "y": 0.1
       },
       "content": {
        "cell": "e4b50714-b644-4213-b3cb-bdac9fe22476",
        "part": "whole"
       },
       "id": "2e423579-bece-40ca-ba30-122f49d93655"
      }
     }
    },
    "103c32ed-02bc-4365-a431-5acd77fe6585": {
     "id": "103c32ed-02bc-4365-a431-5acd77fe6585",
     "prev": "23b717ee-a57c-42c5-9959-c8a314a329c6",
     "regions": {
      "aa966e74-db8d-473a-9ee6-8cad8e7407f3": {
       "attrs": {
        "height": 0.8,
        "width": 0.8,
        "x": 0.1,
        "y": 0.1
       },
       "content": {
        "cell": "664fa23d-ba6e-4a30-9287-e4fef1cc093e",
        "part": "whole"
       },
       "id": "aa966e74-db8d-473a-9ee6-8cad8e7407f3"
      }
     }
    },
    "10763d44-d64e-46c7-a164-8b92d219e71d": {
     "id": "10763d44-d64e-46c7-a164-8b92d219e71d",
     "prev": "d84b78ed-e79f-4657-b62b-eeff30c4fe8d",
     "regions": {
      "a27ddbe9-cfa8-49fe-b284-3567ebbfb1c7": {
       "attrs": {
        "height": 0.8,
        "width": 0.8,
        "x": 0.1,
        "y": 0.1
       },
       "content": {
        "cell": "43870992-c2ff-47cf-8b6b-f62855673b42",
        "part": "whole"
       },
       "id": "a27ddbe9-cfa8-49fe-b284-3567ebbfb1c7"
      }
     }
    },
    "11baa747-dc0e-430a-8f38-65331394d2fd": {
     "id": "11baa747-dc0e-430a-8f38-65331394d2fd",
     "prev": "a2c51720-8844-4953-94a8-55d723ec2499",
     "regions": {
      "6d7e8f18-6703-4c31-8353-4a714df2d33f": {
       "attrs": {
        "height": 0.8,
        "width": 0.8,
        "x": 0.1,
        "y": 0.1
       },
       "content": {
        "cell": "821ab68b-c377-40b1-bdf3-b92d66414383",
        "part": "whole"
       },
       "id": "6d7e8f18-6703-4c31-8353-4a714df2d33f"
      }
     }
    },
    "12513a0d-3e80-464d-9285-3bdd87e0b9c0": {
     "id": "12513a0d-3e80-464d-9285-3bdd87e0b9c0",
     "prev": "e71a7d3a-c9bb-4db0-9597-95b9b3233d3b",
     "regions": {
      "5fb06a62-1d61-417a-9c02-3fa7fa00fee1": {
       "attrs": {
        "height": 0.8,
        "width": 0.8,
        "x": 0.1,
        "y": 0.1
       },
       "content": {
        "cell": "416f5820-1538-4483-a77f-5211c8179891",
        "part": "whole"
       },
       "id": "5fb06a62-1d61-417a-9c02-3fa7fa00fee1"
      }
     }
    },
    "13c7e576-8024-4b19-8874-d65c24a9ee0f": {
     "id": "13c7e576-8024-4b19-8874-d65c24a9ee0f",
     "prev": "b6050bf2-3f03-47ef-9510-80c01755a79e",
     "regions": {
      "45c58bb7-75a4-4434-b5fa-59f7ad56e7d6": {
       "attrs": {
        "height": 0.8,
        "width": 0.8,
        "x": 0.1,
        "y": 0.1
       },
       "content": {
        "cell": "2c5b03e0-ce0f-4999-8fe1-820a9fe06873",
        "part": "whole"
       },
       "id": "45c58bb7-75a4-4434-b5fa-59f7ad56e7d6"
      }
     }
    },
    "23b717ee-a57c-42c5-9959-c8a314a329c6": {
     "id": "23b717ee-a57c-42c5-9959-c8a314a329c6",
     "prev": "4033c3a0-0021-4cbc-a589-50c63550217b",
     "regions": {
      "ca7e045e-962d-47e3-a594-eafdf7424671": {
       "attrs": {
        "height": 0.8,
        "width": 0.8,
        "x": 0.1,
        "y": 0.1
       },
       "content": {
        "cell": "df6cc31a-0b01-4700-b210-836dd510007a",
        "part": "whole"
       },
       "id": "ca7e045e-962d-47e3-a594-eafdf7424671"
      }
     }
    },
    "257bf09e-bd55-4957-97ea-4d3c8b85016a": {
     "id": "257bf09e-bd55-4957-97ea-4d3c8b85016a",
     "prev": null,
     "regions": {
      "cf220469-7ef0-4fb9-80b4-cbdb55aa86db": {
       "attrs": {
        "height": 0.8,
        "width": 0.8,
        "x": 0.1,
        "y": 0.1
       },
       "content": {
        "cell": "e0085648-0300-4087-9b12-ee7d2392ce4f",
        "part": "whole"
       },
       "id": "cf220469-7ef0-4fb9-80b4-cbdb55aa86db"
      }
     }
    },
    "280f0473-61ec-4b88-b9d4-172e734fd0a5": {
     "id": "280f0473-61ec-4b88-b9d4-172e734fd0a5",
     "prev": "d7495fd8-cfb5-42ee-a0eb-86679c419bae",
     "regions": {
      "c58169da-ccea-4657-95a3-fc1e5fba3ac3": {
       "attrs": {
        "height": 0.8,
        "width": 0.8,
        "x": 0.1,
        "y": 0.1
       },
       "content": {
        "cell": "f4d505e5-5e90-4770-aaae-04ae05d697b5",
        "part": "whole"
       },
       "id": "c58169da-ccea-4657-95a3-fc1e5fba3ac3"
      }
     }
    },
    "2e4a9702-f7a2-48a5-bd13-2087e9216b38": {
     "id": "2e4a9702-f7a2-48a5-bd13-2087e9216b38",
     "prev": "04abaf09-1754-419e-9cf8-3c4f0accfc5f",
     "regions": {
      "b31a05d5-a8fe-40d2-a368-cc39f50ee938": {
       "attrs": {
        "height": 0.8,
        "width": 0.8,
        "x": 0.1,
        "y": 0.1
       },
       "content": {
        "cell": "1181e3a8-6803-4f41-9d55-397f3d700c28",
        "part": "whole"
       },
       "id": "b31a05d5-a8fe-40d2-a368-cc39f50ee938"
      }
     }
    },
    "4033c3a0-0021-4cbc-a589-50c63550217b": {
     "id": "4033c3a0-0021-4cbc-a589-50c63550217b",
     "prev": "c68aae9d-645c-4cbf-9dc1-92ed9aa0f5d3",
     "regions": {
      "55173d13-adca-4e7f-a760-92bd299e6c40": {
       "attrs": {
        "height": 0.8,
        "width": 0.8,
        "x": 0.1,
        "y": 0.1
       },
       "content": {
        "cell": "b86ba0c1-c7c4-43a5-a9f5-8dfe7967be6c",
        "part": "whole"
       },
       "id": "55173d13-adca-4e7f-a760-92bd299e6c40"
      }
     }
    },
    "479d81b5-3b8b-4ddf-bbfe-6ae6ff33c2fa": {
     "id": "479d81b5-3b8b-4ddf-bbfe-6ae6ff33c2fa",
     "prev": "280f0473-61ec-4b88-b9d4-172e734fd0a5",
     "regions": {
      "6c334c87-c8a0-4328-b310-6be0e9a89532": {
       "attrs": {
        "height": 0.8,
        "width": 0.8,
        "x": 0.1,
        "y": 0.1
       },
       "content": {
        "cell": "4dbde9d2-3a9d-4677-8dd4-90066c0cb7c4",
        "part": "whole"
       },
       "id": "6c334c87-c8a0-4328-b310-6be0e9a89532"
      }
     }
    },
    "488af944-ad92-49c5-9d1d-ccdb1e929dce": {
     "id": "488af944-ad92-49c5-9d1d-ccdb1e929dce",
     "prev": "13c7e576-8024-4b19-8874-d65c24a9ee0f",
     "regions": {
      "fb1eddce-8820-408b-8b73-3a1654b93816": {
       "attrs": {
        "height": 0.8,
        "width": 0.8,
        "x": 0.1,
        "y": 0.1
       },
       "content": {
        "cell": "7da56259-bbf2-4f63-93f6-033833ae4494",
        "part": "whole"
       },
       "id": "fb1eddce-8820-408b-8b73-3a1654b93816"
      }
     }
    },
    "4af127dc-0330-4f8e-b907-3e409ba31a06": {
     "id": "4af127dc-0330-4f8e-b907-3e409ba31a06",
     "prev": "fbd9f3b3-f9b0-4886-b987-3f9d0ca983bc",
     "regions": {
      "1f9e4115-c1c7-4e4c-a262-648adc28ad2a": {
       "attrs": {
        "height": 0.8,
        "width": 0.8,
        "x": 0.1,
        "y": 0.1
       },
       "content": {
        "cell": "3d784001-6875-4be5-b8e8-e6c490f5b7b4",
        "part": "whole"
       },
       "id": "1f9e4115-c1c7-4e4c-a262-648adc28ad2a"
      }
     }
    },
    "67c9421a-0e61-4346-873f-bf3769d00c97": {
     "id": "67c9421a-0e61-4346-873f-bf3769d00c97",
     "prev": "efc03832-2e6d-4250-8ac5-f4c13cfdb733",
     "regions": {
      "d9b839cd-46ac-451d-bb1b-3edd613c0ba3": {
       "attrs": {
        "height": 0.8,
        "width": 0.8,
        "x": 0.1,
        "y": 0.1
       },
       "content": {
        "cell": "3ca3d45b-a28b-41c7-b5de-4c124c50d13d",
        "part": "whole"
       },
       "id": "d9b839cd-46ac-451d-bb1b-3edd613c0ba3"
      }
     }
    },
    "78837f0a-d7b6-48ae-b64e-3a2af8286ccc": {
     "id": "78837f0a-d7b6-48ae-b64e-3a2af8286ccc",
     "prev": "bb7417b1-270b-4977-bbf3-606a574c38ec",
     "regions": {
      "37ced915-20bf-49cd-9691-82e9fdcfe211": {
       "attrs": {
        "height": 0.8,
        "width": 0.8,
        "x": 0.1,
        "y": 0.1
       },
       "content": {
        "cell": "b1a8c7b4-dc46-4bfe-b17b-d604f212b389",
        "part": "whole"
       },
       "id": "37ced915-20bf-49cd-9691-82e9fdcfe211"
      }
     }
    },
    "7f7b5da4-7345-442b-8cd5-662cfba97db9": {
     "id": "7f7b5da4-7345-442b-8cd5-662cfba97db9",
     "prev": "f6d5269c-54db-4887-b274-d00572aead72",
     "regions": {
      "5fcadbcf-4f67-4bd7-bc4c-0e9db215581c": {
       "attrs": {
        "height": 0.8,
        "width": 0.8,
        "x": 0.1,
        "y": 0.1
       },
       "content": {
        "cell": "a02b72fb-0049-4ec3-825f-179e396f3904",
        "part": "whole"
       },
       "id": "5fcadbcf-4f67-4bd7-bc4c-0e9db215581c"
      }
     }
    },
    "823091e1-74b1-44e3-af50-388881c30968": {
     "id": "823091e1-74b1-44e3-af50-388881c30968",
     "prev": "e24d4b0b-34e2-46de-a99d-a4be39ca2951",
     "regions": {
      "cd97517e-4f86-48bd-9496-92ebad8c97cf": {
       "attrs": {
        "height": 0.8,
        "width": 0.8,
        "x": 0.1,
        "y": 0.1
       },
       "content": {
        "cell": "ffb5aaa9-5fa1-4b28-ba2f-e23525caa392",
        "part": "whole"
       },
       "id": "cd97517e-4f86-48bd-9496-92ebad8c97cf"
      }
     }
    },
    "845fbe01-dd28-4ad8-9eb5-d13c49f6772c": {
     "id": "845fbe01-dd28-4ad8-9eb5-d13c49f6772c",
     "prev": "87040bd6-a3e9-4785-97e0-08d7e7c5b8ef",
     "regions": {
      "1b5a1350-c3d1-43d8-bbc3-90ac260b5a8b": {
       "attrs": {
        "height": 0.8,
        "width": 0.8,
        "x": 0.1,
        "y": 0.1
       },
       "content": {
        "cell": "bcbc3313-3a57-4923-b330-69691eaf7535",
        "part": "whole"
       },
       "id": "1b5a1350-c3d1-43d8-bbc3-90ac260b5a8b"
      }
     }
    },
    "8541226b-6ff1-4700-a399-71e3cf68d91b": {
     "id": "8541226b-6ff1-4700-a399-71e3cf68d91b",
     "prev": "10763d44-d64e-46c7-a164-8b92d219e71d",
     "regions": {
      "7c4c47d8-a698-4e96-a411-556d9ad6b15b": {
       "attrs": {
        "height": 0.8,
        "width": 0.8,
        "x": 0.1,
        "y": 0.1
       },
       "content": {
        "cell": "281d1434-ce22-46c6-ba53-71a24a476568",
        "part": "whole"
       },
       "id": "7c4c47d8-a698-4e96-a411-556d9ad6b15b"
      }
     }
    },
    "87040bd6-a3e9-4785-97e0-08d7e7c5b8ef": {
     "id": "87040bd6-a3e9-4785-97e0-08d7e7c5b8ef",
     "prev": "ad16016c-8a9e-49da-a3d2-5ab56ca11579",
     "regions": {
      "cc35a589-c8c7-459f-893d-102c0d77bee3": {
       "attrs": {
        "height": 0.8,
        "width": 0.8,
        "x": 0.1,
        "y": 0.1
       },
       "content": {
        "cell": "8778b874-a6d1-4f2f-ba02-35dc0fa10f0c",
        "part": "whole"
       },
       "id": "cc35a589-c8c7-459f-893d-102c0d77bee3"
      }
     }
    },
    "8aa83fc2-d106-4c85-8b7f-1116db7ee9d4": {
     "id": "8aa83fc2-d106-4c85-8b7f-1116db7ee9d4",
     "prev": "f870a325-581b-4d8e-a4c0-095972e4cc21",
     "regions": {
      "9f7afc1f-6e9d-47bf-98e0-7e0350e1f516": {
       "attrs": {
        "height": 0.8,
        "width": 0.8,
        "x": 0.1,
        "y": 0.1
       },
       "content": {
        "cell": "45b1a641-1152-4364-ad25-62d1f8187317",
        "part": "whole"
       },
       "id": "9f7afc1f-6e9d-47bf-98e0-7e0350e1f516"
      }
     }
    },
    "944a5639-4b22-4f7f-b836-5ac3bf1cb21e": {
     "id": "944a5639-4b22-4f7f-b836-5ac3bf1cb21e",
     "prev": "d30e098d-5b03-4087-bb2e-fe706d78fae9",
     "regions": {
      "c32c5800-6b61-4a15-b909-b1163c6ffe62": {
       "attrs": {
        "height": 0.8,
        "width": 0.8,
        "x": 0.1,
        "y": 0.1
       },
       "content": {
        "cell": "4329af31-21b4-4570-903a-6df3715244c7",
        "part": "whole"
       },
       "id": "c32c5800-6b61-4a15-b909-b1163c6ffe62"
      }
     }
    },
    "951ea1a1-a91e-41a8-827e-fc3624ae3250": {
     "id": "951ea1a1-a91e-41a8-827e-fc3624ae3250",
     "prev": "d46a6bb8-e8dc-42dd-ac78-33a9cc66fcaa",
     "regions": {
      "bc84fb60-e322-4e23-8b12-21f7fbfd11be": {
       "attrs": {
        "height": 0.8,
        "width": 0.8,
        "x": 0.1,
        "y": 0.1
       },
       "content": {
        "cell": "caa35df4-b625-4246-bc1f-42c561f31486",
        "part": "whole"
       },
       "id": "bc84fb60-e322-4e23-8b12-21f7fbfd11be"
      }
     }
    },
    "96f08da8-8b76-4bf1-829e-50dc77b96f23": {
     "id": "96f08da8-8b76-4bf1-829e-50dc77b96f23",
     "prev": "7f7b5da4-7345-442b-8cd5-662cfba97db9",
     "regions": {
      "ee8f45c8-aaa8-4c02-8067-bee120c4685d": {
       "attrs": {
        "height": 0.8,
        "width": 0.8,
        "x": 0.1,
        "y": 0.1
       },
       "content": {
        "cell": "672c009d-3dbc-4a1f-a789-2a0fe78729b9",
        "part": "whole"
       },
       "id": "ee8f45c8-aaa8-4c02-8067-bee120c4685d"
      }
     }
    },
    "9d28ba7f-c1e5-4ac3-ae0d-08721cddf897": {
     "id": "9d28ba7f-c1e5-4ac3-ae0d-08721cddf897",
     "prev": "b758d6c7-7c92-4aba-a50f-4ea841c3bbd5",
     "regions": {
      "f1d84675-1d92-48aa-b454-b5cfd4919f9c": {
       "attrs": {
        "height": 0.8,
        "width": 0.8,
        "x": 0.1,
        "y": 0.1
       },
       "content": {
        "cell": "85e46481-0245-448c-b4e2-e0c6e175357c",
        "part": "whole"
       },
       "id": "f1d84675-1d92-48aa-b454-b5cfd4919f9c"
      }
     }
    },
    "a2c51720-8844-4953-94a8-55d723ec2499": {
     "id": "a2c51720-8844-4953-94a8-55d723ec2499",
     "prev": "ec5e5d0b-4635-44cc-acc2-f4a52d49a309",
     "regions": {
      "8e52be0c-e63e-434c-b1ca-9c69b58557a6": {
       "attrs": {
        "height": 0.8,
        "width": 0.8,
        "x": 0.1,
        "y": 0.1
       },
       "content": {
        "cell": "13f246a0-918e-44c1-ae19-7af118d83585",
        "part": "whole"
       },
       "id": "8e52be0c-e63e-434c-b1ca-9c69b58557a6"
      }
     }
    },
    "ad16016c-8a9e-49da-a3d2-5ab56ca11579": {
     "id": "ad16016c-8a9e-49da-a3d2-5ab56ca11579",
     "prev": "257bf09e-bd55-4957-97ea-4d3c8b85016a",
     "regions": {
      "ba9b7c66-e2b9-4e94-a595-b6e1e9c8ba3a": {
       "attrs": {
        "height": 0.8,
        "width": 0.8,
        "x": 0.1,
        "y": 0.1
       },
       "content": {
        "cell": "25997dab-04e3-4abc-b22f-b36944b208c2",
        "part": "whole"
       },
       "id": "ba9b7c66-e2b9-4e94-a595-b6e1e9c8ba3a"
      }
     }
    },
    "aea4c7d8-d448-4c6e-b98a-aee48ab874f3": {
     "id": "aea4c7d8-d448-4c6e-b98a-aee48ab874f3",
     "prev": "823091e1-74b1-44e3-af50-388881c30968",
     "regions": {
      "c9f42ad3-4f13-490e-98af-ba7f90c04c7e": {
       "attrs": {
        "height": 0.8,
        "width": 0.8,
        "x": 0.1,
        "y": 0.1
       },
       "content": {
        "cell": "3544f061-6870-4630-bd54-79f75decf8b6",
        "part": "whole"
       },
       "id": "c9f42ad3-4f13-490e-98af-ba7f90c04c7e"
      }
     }
    },
    "aedf0537-c77a-45f0-9d07-af274cfcc254": {
     "id": "aedf0537-c77a-45f0-9d07-af274cfcc254",
     "prev": "e6ae4652-4831-456f-a99c-275d5a367c31",
     "regions": {
      "6b39b1f4-a8eb-48a7-abe6-34f074ddfffe": {
       "attrs": {
        "height": 0.8,
        "width": 0.8,
        "x": 0.1,
        "y": 0.1
       },
       "content": {
        "cell": "58e7dda6-0dd2-4e4f-b81a-0b530c66b20b",
        "part": "whole"
       },
       "id": "6b39b1f4-a8eb-48a7-abe6-34f074ddfffe"
      }
     }
    },
    "b225aeee-0655-46cd-b065-53ac161542e1": {
     "id": "b225aeee-0655-46cd-b065-53ac161542e1",
     "prev": "944a5639-4b22-4f7f-b836-5ac3bf1cb21e",
     "regions": {
      "3fb9131f-b513-4608-88e3-1829aab4af80": {
       "attrs": {
        "height": 0.8,
        "width": 0.8,
        "x": 0.1,
        "y": 0.1
       },
       "content": {
        "cell": "0924faf0-a957-4d12-b35c-b50ebb30f370",
        "part": "whole"
       },
       "id": "3fb9131f-b513-4608-88e3-1829aab4af80"
      }
     }
    },
    "b6050bf2-3f03-47ef-9510-80c01755a79e": {
     "id": "b6050bf2-3f03-47ef-9510-80c01755a79e",
     "prev": "96f08da8-8b76-4bf1-829e-50dc77b96f23",
     "regions": {
      "35a04fb6-5997-463a-b71f-8ad41ce5def6": {
       "attrs": {
        "height": 0.8,
        "width": 0.8,
        "x": 0.1,
        "y": 0.1
       },
       "content": {
        "cell": "f7724653-52ef-41e8-aa22-6232be216b08",
        "part": "whole"
       },
       "id": "35a04fb6-5997-463a-b71f-8ad41ce5def6"
      }
     }
    },
    "b758d6c7-7c92-4aba-a50f-4ea841c3bbd5": {
     "id": "b758d6c7-7c92-4aba-a50f-4ea841c3bbd5",
     "prev": "f2b5f77b-2cf3-4728-901e-453b1ee328e4",
     "regions": {
      "3907d293-429a-446b-aa7b-d48636df66de": {
       "attrs": {
        "height": 0.8,
        "width": 0.8,
        "x": 0.1,
        "y": 0.1
       },
       "content": {
        "cell": "92dbb672-adca-4535-8089-de23712828d8",
        "part": "whole"
       },
       "id": "3907d293-429a-446b-aa7b-d48636df66de"
      }
     }
    },
    "b78b6f6e-aa16-462e-8f65-fcb552b32c31": {
     "id": "b78b6f6e-aa16-462e-8f65-fcb552b32c31",
     "prev": "de9edf29-6b79-4254-9128-e8e5339d95b7",
     "regions": {
      "7907113d-9b89-4a1c-9b8e-9ccf0f800218": {
       "attrs": {
        "height": 0.8,
        "width": 0.8,
        "x": 0.1,
        "y": 0.1
       },
       "content": {
        "cell": "0e5ca1a8-9c78-412a-9ab4-a4d0be5afd34",
        "part": "whole"
       },
       "id": "7907113d-9b89-4a1c-9b8e-9ccf0f800218"
      }
     }
    },
    "bb7417b1-270b-4977-bbf3-606a574c38ec": {
     "id": "bb7417b1-270b-4977-bbf3-606a574c38ec",
     "prev": "aedf0537-c77a-45f0-9d07-af274cfcc254",
     "regions": {
      "4186cf60-3730-4fac-9b82-c178d043465c": {
       "attrs": {
        "height": 0.8,
        "width": 0.8,
        "x": 0.1,
        "y": 0.1
       },
       "content": {
        "cell": "6b5572c0-2ab0-4b13-a08f-3db21b4c4f21",
        "part": "whole"
       },
       "id": "4186cf60-3730-4fac-9b82-c178d043465c"
      }
     }
    },
    "bc583748-3efc-4990-a121-5c23ddd1cf76": {
     "id": "bc583748-3efc-4990-a121-5c23ddd1cf76",
     "prev": "b78b6f6e-aa16-462e-8f65-fcb552b32c31",
     "regions": {
      "1fe1815a-69fc-439e-9943-115c788d87de": {
       "attrs": {
        "height": 0.8,
        "width": 0.8,
        "x": 0.1,
        "y": 0.1
       },
       "content": {
        "cell": "161e8770-8bc2-41ae-98f4-08d1c9311e82",
        "part": "whole"
       },
       "id": "1fe1815a-69fc-439e-9943-115c788d87de"
      }
     }
    },
    "bebeb5ec-eea2-4353-b2e1-ba7cdb847132": {
     "id": "bebeb5ec-eea2-4353-b2e1-ba7cdb847132",
     "prev": "aea4c7d8-d448-4c6e-b98a-aee48ab874f3",
     "regions": {
      "acd4706d-0fa8-4d2c-93b1-e01bcddce185": {
       "attrs": {
        "height": 0.8,
        "width": 0.8,
        "x": 0.1,
        "y": 0.1
       },
       "content": {
        "cell": "31c64f41-a499-4f80-8ccd-1364940f7383",
        "part": "whole"
       },
       "id": "acd4706d-0fa8-4d2c-93b1-e01bcddce185"
      }
     }
    },
    "c68aae9d-645c-4cbf-9dc1-92ed9aa0f5d3": {
     "id": "c68aae9d-645c-4cbf-9dc1-92ed9aa0f5d3",
     "prev": "b225aeee-0655-46cd-b065-53ac161542e1",
     "regions": {
      "18e9a755-775e-407c-adec-19d9d2553aa3": {
       "attrs": {
        "height": 0.8,
        "width": 0.8,
        "x": 0.1,
        "y": 0.1
       },
       "content": {
        "cell": "59cc671f-041a-4d6f-a609-f1b9855aa05c",
        "part": "whole"
       },
       "id": "18e9a755-775e-407c-adec-19d9d2553aa3"
      }
     }
    },
    "c86c2c29-3931-4f32-b9b8-2927bd48a5d2": {
     "id": "c86c2c29-3931-4f32-b9b8-2927bd48a5d2",
     "prev": "8541226b-6ff1-4700-a399-71e3cf68d91b",
     "regions": {
      "98d1caf9-aaab-4a6a-8d39-875e61f4b508": {
       "attrs": {
        "height": 0.8,
        "width": 0.8,
        "x": 0.1,
        "y": 0.1
       },
       "content": {
        "cell": "ada914a2-bacb-4300-8ce3-f1332843d24c",
        "part": "whole"
       },
       "id": "98d1caf9-aaab-4a6a-8d39-875e61f4b508"
      }
     }
    },
    "ca688a20-d25d-4266-8f63-967e003c1f2f": {
     "id": "ca688a20-d25d-4266-8f63-967e003c1f2f",
     "prev": "78837f0a-d7b6-48ae-b64e-3a2af8286ccc",
     "regions": {
      "3b6c70c9-c6b9-4505-aefb-c64c0d183b96": {
       "attrs": {
        "height": 0.8,
        "width": 0.8,
        "x": 0.1,
        "y": 0.1
       },
       "content": {
        "cell": "943a5fcd-7c2e-4c16-9879-34882a7a74d4",
        "part": "whole"
       },
       "id": "3b6c70c9-c6b9-4505-aefb-c64c0d183b96"
      }
     }
    },
    "d30e098d-5b03-4087-bb2e-fe706d78fae9": {
     "id": "d30e098d-5b03-4087-bb2e-fe706d78fae9",
     "prev": "c86c2c29-3931-4f32-b9b8-2927bd48a5d2",
     "regions": {
      "ce2693da-705b-4afd-9284-d04c8e1b2ff4": {
       "attrs": {
        "height": 0.8,
        "width": 0.8,
        "x": 0.1,
        "y": 0.1
       },
       "content": {
        "cell": "4f313370-b5f0-4754-9744-157da0447fc4",
        "part": "whole"
       },
       "id": "ce2693da-705b-4afd-9284-d04c8e1b2ff4"
      }
     }
    },
    "d386ac9f-a3fc-4b7e-8171-72c5de5bcd6b": {
     "id": "d386ac9f-a3fc-4b7e-8171-72c5de5bcd6b",
     "prev": "488af944-ad92-49c5-9d1d-ccdb1e929dce",
     "regions": {
      "742b6acb-94bd-40bc-95c5-45686415a4d2": {
       "attrs": {
        "height": 0.8,
        "width": 0.8,
        "x": 0.1,
        "y": 0.1
       },
       "content": {
        "cell": "13f462fd-b0c3-4a29-90f3-050e2317b72c",
        "part": "whole"
       },
       "id": "742b6acb-94bd-40bc-95c5-45686415a4d2"
      }
     }
    },
    "d46a6bb8-e8dc-42dd-ac78-33a9cc66fcaa": {
     "id": "d46a6bb8-e8dc-42dd-ac78-33a9cc66fcaa",
     "prev": "e1b1494f-f764-4c7c-9b18-9c4117ac6b1a",
     "regions": {
      "46818eb4-db41-4ae4-ab4a-fb8aa8381df4": {
       "attrs": {
        "height": 0.8,
        "width": 0.8,
        "x": 0.1,
        "y": 0.1
       },
       "content": {
        "cell": "699e2ddb-add6-4134-a723-1bb37029f013",
        "part": "whole"
       },
       "id": "46818eb4-db41-4ae4-ab4a-fb8aa8381df4"
      }
     }
    },
    "d7495fd8-cfb5-42ee-a0eb-86679c419bae": {
     "id": "d7495fd8-cfb5-42ee-a0eb-86679c419bae",
     "prev": "845fbe01-dd28-4ad8-9eb5-d13c49f6772c",
     "regions": {
      "1b6fb9c6-e9e8-48d0-8879-43681a10b003": {
       "attrs": {
        "height": 0.8,
        "width": 0.8,
        "x": 0.1,
        "y": 0.1
       },
       "content": {
        "cell": "d447e236-b1b9-4cf7-bc39-8bfb499d4730",
        "part": "whole"
       },
       "id": "1b6fb9c6-e9e8-48d0-8879-43681a10b003"
      }
     }
    },
    "d84b78ed-e79f-4657-b62b-eeff30c4fe8d": {
     "id": "d84b78ed-e79f-4657-b62b-eeff30c4fe8d",
     "prev": "05fa6235-ac93-41b7-9975-3fee534b0c94",
     "regions": {
      "2dc757c4-cd6f-4663-b3ed-16873bd59e53": {
       "attrs": {
        "height": 0.8,
        "width": 0.8,
        "x": 0.1,
        "y": 0.1
       },
       "content": {
        "cell": "6b8eef4a-a87d-42bd-84dd-586610828698",
        "part": "whole"
       },
       "id": "2dc757c4-cd6f-4663-b3ed-16873bd59e53"
      }
     }
    },
    "de9edf29-6b79-4254-9128-e8e5339d95b7": {
     "id": "de9edf29-6b79-4254-9128-e8e5339d95b7",
     "prev": "4af127dc-0330-4f8e-b907-3e409ba31a06",
     "regions": {
      "ef8b9aae-46b3-45ae-8ddf-d951cecabb16": {
       "attrs": {
        "height": 0.8,
        "width": 0.8,
        "x": 0.1,
        "y": 0.1
       },
       "content": {
        "cell": "d8cfc39f-aa3b-469f-ae34-1ef99ef51a25",
        "part": "whole"
       },
       "id": "ef8b9aae-46b3-45ae-8ddf-d951cecabb16"
      }
     }
    },
    "deebcf04-3780-4222-bac9-4ec42c55e64e": {
     "id": "deebcf04-3780-4222-bac9-4ec42c55e64e",
     "prev": "479d81b5-3b8b-4ddf-bbfe-6ae6ff33c2fa",
     "regions": {
      "41284583-e45d-4b58-80b1-9aa982c35d62": {
       "attrs": {
        "height": 0.8,
        "width": 0.8,
        "x": 0.1,
        "y": 0.1
       },
       "content": {
        "cell": "e7995c4c-f483-4cb5-9f53-3b8c5fef39c3",
        "part": "whole"
       },
       "id": "41284583-e45d-4b58-80b1-9aa982c35d62"
      }
     }
    },
    "e1226821-9a12-4537-a8af-79cc88d3d16a": {
     "id": "e1226821-9a12-4537-a8af-79cc88d3d16a",
     "prev": "0e2565e0-a21d-4dbb-a4b3-8698e797c45d",
     "regions": {
      "a85036ed-bcf3-498f-bcbf-d29b7ba22e33": {
       "attrs": {
        "height": 0.8,
        "width": 0.8,
        "x": 0.1,
        "y": 0.1
       },
       "content": {
        "cell": "d8a8bcc6-8b37-4d4f-ad06-903804776078",
        "part": "whole"
       },
       "id": "a85036ed-bcf3-498f-bcbf-d29b7ba22e33"
      }
     }
    },
    "e1b1494f-f764-4c7c-9b18-9c4117ac6b1a": {
     "id": "e1b1494f-f764-4c7c-9b18-9c4117ac6b1a",
     "prev": "e975c742-3e8e-42fb-992f-68889dc8eacf",
     "regions": {
      "4481842a-f6a3-4783-8056-761d3ff7903c": {
       "attrs": {
        "height": 0.8,
        "width": 0.8,
        "x": 0.1,
        "y": 0.1
       },
       "content": {
        "cell": "c02b6f0a-801c-4a8f-aa8f-8c9d64df7a9a",
        "part": "whole"
       },
       "id": "4481842a-f6a3-4783-8056-761d3ff7903c"
      }
     }
    },
    "e24d4b0b-34e2-46de-a99d-a4be39ca2951": {
     "id": "e24d4b0b-34e2-46de-a99d-a4be39ca2951",
     "prev": "e1226821-9a12-4537-a8af-79cc88d3d16a",
     "regions": {
      "8a097e4f-9443-46a4-9b0f-84d5e12c50e7": {
       "attrs": {
        "height": 0.8,
        "width": 0.8,
        "x": 0.1,
        "y": 0.1
       },
       "content": {
        "cell": "6f302dcb-787b-42b0-98f0-1df0a163a818",
        "part": "whole"
       },
       "id": "8a097e4f-9443-46a4-9b0f-84d5e12c50e7"
      }
     }
    },
    "e44d6d8f-7236-458f-a308-36142bc72ff4": {
     "id": "e44d6d8f-7236-458f-a308-36142bc72ff4",
     "prev": "951ea1a1-a91e-41a8-827e-fc3624ae3250",
     "regions": {
      "cc091066-cdf1-4dd5-bf80-5c7c94722472": {
       "attrs": {
        "height": 0.8,
        "width": 0.8,
        "x": 0.1,
        "y": 0.1
       },
       "content": {
        "cell": "d2aa5aac-acc7-41c9-96d4-5410c0d8a14b",
        "part": "whole"
       },
       "id": "cc091066-cdf1-4dd5-bf80-5c7c94722472"
      }
     }
    },
    "e6ae4652-4831-456f-a99c-275d5a367c31": {
     "id": "e6ae4652-4831-456f-a99c-275d5a367c31",
     "prev": "bc583748-3efc-4990-a121-5c23ddd1cf76",
     "regions": {
      "fc109e55-75c1-42c7-a13b-68d9feb3aad7": {
       "attrs": {
        "height": 0.8,
        "width": 0.8,
        "x": 0.1,
        "y": 0.1
       },
       "content": {
        "cell": "fe809373-e88b-44eb-9cb9-08be3dc5949a",
        "part": "whole"
       },
       "id": "fc109e55-75c1-42c7-a13b-68d9feb3aad7"
      }
     }
    },
    "e71a7d3a-c9bb-4db0-9597-95b9b3233d3b": {
     "id": "e71a7d3a-c9bb-4db0-9597-95b9b3233d3b",
     "prev": "f6887642-4c01-4304-bedb-6e6bf5f5c45e",
     "regions": {
      "88ed165d-ed0c-4d77-a642-afc80f335c88": {
       "attrs": {
        "height": 0.8,
        "width": 0.8,
        "x": 0.1,
        "y": 0.1
       },
       "content": {
        "cell": "9994e7f0-f366-40da-9c14-76e8142ee46e",
        "part": "whole"
       },
       "id": "88ed165d-ed0c-4d77-a642-afc80f335c88"
      }
     }
    },
    "e975c742-3e8e-42fb-992f-68889dc8eacf": {
     "id": "e975c742-3e8e-42fb-992f-68889dc8eacf",
     "prev": "8aa83fc2-d106-4c85-8b7f-1116db7ee9d4",
     "regions": {
      "6f8253e7-9544-4503-84a2-5dd528b2b98c": {
       "attrs": {
        "height": 0.8,
        "width": 0.8,
        "x": 0.1,
        "y": 0.1
       },
       "content": {
        "cell": "e8936716-d06c-4cef-ae87-5c5da9a25a85",
        "part": "whole"
       },
       "id": "6f8253e7-9544-4503-84a2-5dd528b2b98c"
      }
     }
    },
    "ec5e5d0b-4635-44cc-acc2-f4a52d49a309": {
     "id": "ec5e5d0b-4635-44cc-acc2-f4a52d49a309",
     "prev": "12513a0d-3e80-464d-9285-3bdd87e0b9c0",
     "regions": {
      "007395dd-4907-4340-9391-024482d674f4": {
       "attrs": {
        "height": 0.8,
        "width": 0.8,
        "x": 0.1,
        "y": 0.1
       },
       "content": {
        "cell": "aa9d35ae-c458-49d2-bdbe-d93d5cb3ba9c",
        "part": "whole"
       },
       "id": "007395dd-4907-4340-9391-024482d674f4"
      }
     }
    },
    "efc03832-2e6d-4250-8ac5-f4c13cfdb733": {
     "id": "efc03832-2e6d-4250-8ac5-f4c13cfdb733",
     "prev": "deebcf04-3780-4222-bac9-4ec42c55e64e",
     "regions": {
      "ece43b16-b994-439a-a683-911e322998be": {
       "attrs": {
        "height": 0.8,
        "width": 0.8,
        "x": 0.1,
        "y": 0.1
       },
       "content": {
        "cell": "a6d40ad7-2abd-44e5-8839-62731fb5eab7",
        "part": "whole"
       },
       "id": "ece43b16-b994-439a-a683-911e322998be"
      }
     }
    },
    "f2b5f77b-2cf3-4728-901e-453b1ee328e4": {
     "id": "f2b5f77b-2cf3-4728-901e-453b1ee328e4",
     "prev": "ca688a20-d25d-4266-8f63-967e003c1f2f",
     "regions": {
      "fd2525a2-6271-4119-a693-9ebaa319233e": {
       "attrs": {
        "height": 0.8,
        "width": 0.8,
        "x": 0.1,
        "y": 0.1
       },
       "content": {
        "cell": "b492de13-0053-416c-b314-1bbae21ca828",
        "part": "whole"
       },
       "id": "fd2525a2-6271-4119-a693-9ebaa319233e"
      }
     }
    },
    "f6887642-4c01-4304-bedb-6e6bf5f5c45e": {
     "id": "f6887642-4c01-4304-bedb-6e6bf5f5c45e",
     "prev": "0527f44a-39b6-4cf8-9802-d16b8cd34754",
     "regions": {
      "22ac5030-534d-4372-b64f-11254caef474": {
       "attrs": {
        "height": 0.8,
        "width": 0.8,
        "x": 0.1,
        "y": 0.1
       },
       "content": {
        "cell": "8ce2b802-f0c1-4ffc-9ce5-c2792856b5b4",
        "part": "whole"
       },
       "id": "22ac5030-534d-4372-b64f-11254caef474"
      }
     }
    },
    "f6d5269c-54db-4887-b274-d00572aead72": {
     "id": "f6d5269c-54db-4887-b274-d00572aead72",
     "prev": "9d28ba7f-c1e5-4ac3-ae0d-08721cddf897",
     "regions": {
      "4adeafcb-a40e-4001-9cea-ced25a006c2a": {
       "attrs": {
        "height": 0.8,
        "width": 0.8,
        "x": 0.1,
        "y": 0.1
       },
       "content": {
        "cell": "380ef8b7-6de1-4822-ae30-7120e12b5955",
        "part": "whole"
       },
       "id": "4adeafcb-a40e-4001-9cea-ced25a006c2a"
      }
     }
    },
    "f870a325-581b-4d8e-a4c0-095972e4cc21": {
     "id": "f870a325-581b-4d8e-a4c0-095972e4cc21",
     "prev": "d386ac9f-a3fc-4b7e-8171-72c5de5bcd6b",
     "regions": {
      "6923b170-3e50-4538-a408-f2032324357e": {
       "attrs": {
        "height": 0.8,
        "width": 0.8,
        "x": 0.1,
        "y": 0.1
       },
       "content": {
        "cell": "68d38063-fb92-4d36-b3fb-f2d3cbff9eb5",
        "part": "whole"
       },
       "id": "6923b170-3e50-4538-a408-f2032324357e"
      }
     }
    },
    "fbd9f3b3-f9b0-4886-b987-3f9d0ca983bc": {
     "id": "fbd9f3b3-f9b0-4886-b987-3f9d0ca983bc",
     "prev": "2e4a9702-f7a2-48a5-bd13-2087e9216b38",
     "regions": {
      "b1150180-2e0b-444f-956f-2dd4cf1f3d4a": {
       "attrs": {
        "height": 0.8,
        "width": 0.8,
        "x": 0.1,
        "y": 0.1
       },
       "content": {
        "cell": "dbeeeabe-b6dd-477c-a798-fb7b39302ba9",
        "part": "whole"
       },
       "id": "b1150180-2e0b-444f-956f-2dd4cf1f3d4a"
      }
     }
    }
   },
   "themes": {}
  }
 },
 "nbformat": 4,
 "nbformat_minor": 1
}
