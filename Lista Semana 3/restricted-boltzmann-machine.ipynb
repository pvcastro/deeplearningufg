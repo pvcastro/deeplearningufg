{
 "cells": [
  {
   "cell_type": "code",
   "execution_count": 1,
   "metadata": {
    "collapsed": true
   },
   "outputs": [],
   "source": [
    "import numpy as np"
   ]
  },
  {
   "cell_type": "code",
   "execution_count": 26,
   "metadata": {
    "collapsed": true
   },
   "outputs": [],
   "source": [
    "def sigmoid(u):\n",
    "    return 1 / (1 + np.exp(-u))"
   ]
  },
  {
   "cell_type": "code",
   "execution_count": 3,
   "metadata": {
    "collapsed": false
   },
   "outputs": [
    {
     "name": "stdout",
     "output_type": "stream",
     "text": [
      "[[1 2 3]\n",
      " [4 5 6]]\n"
     ]
    }
   ],
   "source": [
    "my_matrix = np.array([[1, 2, 3], [4, 5, 6]])\n",
    "print(my_matrix)"
   ]
  },
  {
   "cell_type": "code",
   "execution_count": 4,
   "metadata": {
    "collapsed": false
   },
   "outputs": [
    {
     "data": {
      "text/plain": [
       "(2, 3)"
      ]
     },
     "execution_count": 4,
     "metadata": {},
     "output_type": "execute_result"
    }
   ],
   "source": [
    "my_matrix.shape"
   ]
  },
  {
   "cell_type": "code",
   "execution_count": 7,
   "metadata": {
    "collapsed": false
   },
   "outputs": [
    {
     "data": {
      "text/plain": [
       "array([1, 2, 3])"
      ]
     },
     "execution_count": 7,
     "metadata": {},
     "output_type": "execute_result"
    }
   ],
   "source": [
    "#primeira linha\n",
    "my_matrix[0,:]"
   ]
  },
  {
   "cell_type": "code",
   "execution_count": 9,
   "metadata": {
    "collapsed": false
   },
   "outputs": [
    {
     "data": {
      "text/plain": [
       "array([1, 4])"
      ]
     },
     "execution_count": 9,
     "metadata": {},
     "output_type": "execute_result"
    }
   ],
   "source": [
    "#primeira coluna\n",
    "my_matrix[:,0]"
   ]
  },
  {
   "cell_type": "code",
   "execution_count": 17,
   "metadata": {
    "collapsed": false,
    "scrolled": true
   },
   "outputs": [
    {
     "data": {
      "text/plain": [
       "array([[0, 1, 1, 1, 0, 0],\n",
       "       [0, 1, 1, 1, 0, 0],\n",
       "       [1, 1, 1, 0, 0, 0],\n",
       "       [0, 1, 1, 0, 0, 1],\n",
       "       [0, 1, 1, 1, 0, 0],\n",
       "       [1, 0, 0, 0, 1, 1]])"
      ]
     },
     "execution_count": 17,
     "metadata": {},
     "output_type": "execute_result"
    }
   ],
   "source": [
    "aluno_1 = [0,1,1,1,0,0]\n",
    "aluno_2 = [0,1,1,1,0,0]\n",
    "aluno_3 = [1,1,1,0,0,0]\n",
    "aluno_4 = [0,1,1,0,0,1]\n",
    "aluno_5 = [0,1,1,1,0,0]\n",
    "aluno_6 = [1,0,0,0,1,1]\n",
    "entradas = np.array([aluno_1, aluno_2, aluno_3, aluno_4, aluno_5, aluno_6])\n",
    "entradas"
   ]
  },
  {
   "cell_type": "code",
   "execution_count": 18,
   "metadata": {
    "collapsed": false
   },
   "outputs": [
    {
     "data": {
      "text/plain": [
       "6"
      ]
     },
     "execution_count": 18,
     "metadata": {},
     "output_type": "execute_result"
    }
   ],
   "source": [
    "entradas.shape[0]"
   ]
  },
  {
   "cell_type": "code",
   "execution_count": 19,
   "metadata": {
    "collapsed": false
   },
   "outputs": [
    {
     "data": {
      "text/plain": [
       "array([[ 1.,  0.,  1.,  1.,  1.,  0.,  0.],\n",
       "       [ 1.,  0.,  1.,  1.,  1.,  0.,  0.],\n",
       "       [ 1.,  1.,  1.,  1.,  0.,  0.,  0.],\n",
       "       [ 1.,  0.,  1.,  1.,  0.,  0.,  1.],\n",
       "       [ 1.,  0.,  1.,  1.,  1.,  0.,  0.],\n",
       "       [ 1.,  1.,  0.,  0.,  0.,  1.,  1.]])"
      ]
     },
     "execution_count": 19,
     "metadata": {},
     "output_type": "execute_result"
    }
   ],
   "source": [
    "#entradas = np.append(1, entradas)\n",
    "entradas = np.c_[np.ones(entradas.shape[0]), entradas]\n",
    "entradas"
   ]
  },
  {
   "cell_type": "code",
   "execution_count": 20,
   "metadata": {
    "collapsed": false
   },
   "outputs": [
    {
     "data": {
      "text/plain": [
       "(6, 7)"
      ]
     },
     "execution_count": 20,
     "metadata": {},
     "output_type": "execute_result"
    }
   ],
   "source": [
    "entradas.shape"
   ]
  },
  {
   "cell_type": "code",
   "execution_count": 23,
   "metadata": {
    "collapsed": false
   },
   "outputs": [
    {
     "data": {
      "text/plain": [
       "array([[ 0. ,  0. ,  0. ],\n",
       "       [ 0. ,  0.1,  0.2],\n",
       "       [ 0. ,  0.3,  0.4],\n",
       "       [ 0. ,  0.5,  0.6],\n",
       "       [ 0. ,  0.7,  0.8],\n",
       "       [ 0. ,  0.9,  1. ],\n",
       "       [ 0. ,  0.1,  0.2]])"
      ]
     },
     "execution_count": 23,
     "metadata": {},
     "output_type": "execute_result"
    }
   ],
   "source": [
    "pesos = np.array(\n",
    "        [[0.0, 0.0, 0.0],\n",
    "         [0.0, 0.1, 0.2],\n",
    "         [0.0, 0.3, 0.4],\n",
    "         [0.0, 0.5, 0.6],\n",
    "         [0.0, 0.7, 0.8],\n",
    "         [0.0, 0.9, 1.0],\n",
    "         [0.0, 0.1, 0.2]])\n",
    "pesos"
   ]
  },
  {
   "cell_type": "code",
   "execution_count": 24,
   "metadata": {
    "collapsed": false
   },
   "outputs": [
    {
     "data": {
      "text/plain": [
       "(7, 3)"
      ]
     },
     "execution_count": 24,
     "metadata": {},
     "output_type": "execute_result"
    }
   ],
   "source": [
    "pesos.shape"
   ]
  },
  {
   "cell_type": "code",
   "execution_count": 25,
   "metadata": {
    "collapsed": false
   },
   "outputs": [
    {
     "data": {
      "text/plain": [
       "array([[ 0. ,  1.5,  1.8],\n",
       "       [ 0. ,  1.5,  1.8],\n",
       "       [ 0. ,  0.9,  1.2],\n",
       "       [ 0. ,  0.9,  1.2],\n",
       "       [ 0. ,  1.5,  1.8],\n",
       "       [ 0. ,  1.1,  1.4]])"
      ]
     },
     "execution_count": 25,
     "metadata": {},
     "output_type": "execute_result"
    }
   ],
   "source": [
    "energia_ativacao_Uv = np.dot(entradas, pesos)\n",
    "energia_ativacao_Uv"
   ]
  },
  {
   "cell_type": "code",
   "execution_count": 29,
   "metadata": {
    "collapsed": false
   },
   "outputs": [
    {
     "data": {
      "text/plain": [
       "array([[ 0.5       ,  0.81757448,  0.85814894],\n",
       "       [ 0.5       ,  0.81757448,  0.85814894],\n",
       "       [ 0.5       ,  0.7109495 ,  0.76852478],\n",
       "       [ 0.5       ,  0.7109495 ,  0.76852478],\n",
       "       [ 0.5       ,  0.81757448,  0.85814894],\n",
       "       [ 0.5       ,  0.75026011,  0.80218389]])"
      ]
     },
     "execution_count": 29,
     "metadata": {},
     "output_type": "execute_result"
    }
   ],
   "source": [
    "ativacao_gUv = sigmoid(energia_ativacao_Uv)\n",
    "ativacao_gUv"
   ]
  },
  {
   "cell_type": "code",
   "execution_count": 42,
   "metadata": {
    "collapsed": false
   },
   "outputs": [
    {
     "data": {
      "text/plain": [
       "array([[ 0.970724  ,  0.34861729,  0.02220276],\n",
       "       [ 0.74130219,  0.47102658,  0.95323701],\n",
       "       [ 0.94982014,  0.10744772,  0.65851508],\n",
       "       [ 0.11767529,  0.66836288,  0.04732326],\n",
       "       [ 0.93548064,  0.00659542,  0.01786768],\n",
       "       [ 0.09365678,  0.1904114 ,  0.85444333]])"
      ]
     },
     "execution_count": 42,
     "metadata": {},
     "output_type": "execute_result"
    }
   ],
   "source": [
    "numeros_aleatorios = np.random.random((ativacao_gUv.shape[0], ativacao_gUv.shape[1]))\n",
    "numeros_aleatorios"
   ]
  },
  {
   "cell_type": "code",
   "execution_count": 44,
   "metadata": {
    "collapsed": false
   },
   "outputs": [
    {
     "data": {
      "text/plain": [
       "array([[False,  True,  True],\n",
       "       [False,  True, False],\n",
       "       [False,  True,  True],\n",
       "       [ True,  True,  True],\n",
       "       [False,  True,  True],\n",
       "       [ True,  True, False]], dtype=bool)"
      ]
     },
     "execution_count": 44,
     "metadata": {},
     "output_type": "execute_result"
    }
   ],
   "source": [
    "probabilidade_associacao_neuronios = ativacao_gUv >= numeros_aleatorios\n",
    "probabilidade_associacao_neuronios"
   ]
  },
  {
   "cell_type": "code",
   "execution_count": 45,
   "metadata": {
    "collapsed": true
   },
   "outputs": [],
   "source": [
    "probabilidade_associacao_neuronios = np.array([[False, False, True],\n",
    "                                               [False, True, True],\n",
    "                                               [False, True, True],\n",
    "                                               [True, True, True],\n",
    "                                               [True, True, True],\n",
    "                                               [True, True, True]])"
   ]
  },
  {
   "cell_type": "code",
   "execution_count": 46,
   "metadata": {
    "collapsed": false
   },
   "outputs": [
    {
     "data": {
      "text/plain": [
       "array([[False, False,  True],\n",
       "       [False,  True,  True],\n",
       "       [False,  True,  True],\n",
       "       [ True,  True,  True],\n",
       "       [ True,  True,  True],\n",
       "       [ True,  True,  True]], dtype=bool)"
      ]
     },
     "execution_count": 46,
     "metadata": {},
     "output_type": "execute_result"
    }
   ],
   "source": [
    "probabilidade_associacao_neuronios"
   ]
  },
  {
   "cell_type": "code",
   "execution_count": 49,
   "metadata": {
    "collapsed": false
   },
   "outputs": [
    {
     "data": {
      "text/plain": [
       "array([[ 0. ,  0.2,  0.4,  0.6,  0.8,  1. ,  0.2],\n",
       "       [ 0. ,  0.3,  0.7,  1.1,  1.5,  1.9,  0.3],\n",
       "       [ 0. ,  0.3,  0.7,  1.1,  1.5,  1.9,  0.3],\n",
       "       [ 0. ,  0.3,  0.7,  1.1,  1.5,  1.9,  0.3],\n",
       "       [ 0. ,  0.3,  0.7,  1.1,  1.5,  1.9,  0.3],\n",
       "       [ 0. ,  0.3,  0.7,  1.1,  1.5,  1.9,  0.3]])"
      ]
     },
     "execution_count": 49,
     "metadata": {},
     "output_type": "execute_result"
    }
   ],
   "source": [
    "energia_ativacao_Uh = np.dot(probabilidade_associacao_neuronios, pesos.T)\n",
    "energia_ativacao_Uh"
   ]
  },
  {
   "cell_type": "code",
   "execution_count": 50,
   "metadata": {
    "collapsed": false
   },
   "outputs": [
    {
     "data": {
      "text/plain": [
       "array([[ 0.5       ,  0.549834  ,  0.59868766,  0.64565631,  0.68997448,\n",
       "         0.73105858,  0.549834  ],\n",
       "       [ 0.5       ,  0.57444252,  0.66818777,  0.75026011,  0.81757448,\n",
       "         0.86989153,  0.57444252],\n",
       "       [ 0.5       ,  0.57444252,  0.66818777,  0.75026011,  0.81757448,\n",
       "         0.86989153,  0.57444252],\n",
       "       [ 0.5       ,  0.57444252,  0.66818777,  0.75026011,  0.81757448,\n",
       "         0.86989153,  0.57444252],\n",
       "       [ 0.5       ,  0.57444252,  0.66818777,  0.75026011,  0.81757448,\n",
       "         0.86989153,  0.57444252],\n",
       "       [ 0.5       ,  0.57444252,  0.66818777,  0.75026011,  0.81757448,\n",
       "         0.86989153,  0.57444252]])"
      ]
     },
     "execution_count": 50,
     "metadata": {},
     "output_type": "execute_result"
    }
   ],
   "source": [
    "ativacao_gUh = sigmoid(energia_ativacao_Uh)\n",
    "ativacao_gUh"
   ]
  },
  {
   "cell_type": "code",
   "execution_count": 51,
   "metadata": {
    "collapsed": false
   },
   "outputs": [
    {
     "data": {
      "text/plain": [
       "array([ 0.5,  0.5,  0.5,  0.5,  0.5,  0.5])"
      ]
     },
     "execution_count": 51,
     "metadata": {},
     "output_type": "execute_result"
    }
   ],
   "source": [
    "ativacao_gUh[:,0]"
   ]
  },
  {
   "cell_type": "code",
   "execution_count": 52,
   "metadata": {
    "collapsed": false
   },
   "outputs": [
    {
     "data": {
      "text/plain": [
       "array([[ 1.        ,  0.549834  ,  0.59868766,  0.64565631,  0.68997448,\n",
       "         0.73105858,  0.549834  ],\n",
       "       [ 1.        ,  0.57444252,  0.66818777,  0.75026011,  0.81757448,\n",
       "         0.86989153,  0.57444252],\n",
       "       [ 1.        ,  0.57444252,  0.66818777,  0.75026011,  0.81757448,\n",
       "         0.86989153,  0.57444252],\n",
       "       [ 1.        ,  0.57444252,  0.66818777,  0.75026011,  0.81757448,\n",
       "         0.86989153,  0.57444252],\n",
       "       [ 1.        ,  0.57444252,  0.66818777,  0.75026011,  0.81757448,\n",
       "         0.86989153,  0.57444252],\n",
       "       [ 1.        ,  0.57444252,  0.66818777,  0.75026011,  0.81757448,\n",
       "         0.86989153,  0.57444252]])"
      ]
     },
     "execution_count": 52,
     "metadata": {},
     "output_type": "execute_result"
    }
   ],
   "source": [
    "ativacao_gUh[:,0] = 1.0\n",
    "ativacao_gUh"
   ]
  },
  {
   "cell_type": "code",
   "execution_count": 54,
   "metadata": {
    "collapsed": false
   },
   "outputs": [
    {
     "data": {
      "text/plain": [
       "array([[ 0.        ,  1.75333611,  2.12984061],\n",
       "       [ 0.        ,  2.04567939,  2.47115929],\n",
       "       [ 0.        ,  2.04567939,  2.47115929],\n",
       "       [ 0.        ,  2.04567939,  2.47115929],\n",
       "       [ 0.        ,  2.04567939,  2.47115929],\n",
       "       [ 0.        ,  2.04567939,  2.47115929]])"
      ]
     },
     "execution_count": 54,
     "metadata": {},
     "output_type": "execute_result"
    }
   ],
   "source": [
    "energia_ativacao_estimada_Uv = np.dot(ativacao_gUh, pesos)\n",
    "energia_ativacao_estimada_Uv"
   ]
  },
  {
   "cell_type": "code",
   "execution_count": 57,
   "metadata": {
    "collapsed": false
   },
   "outputs": [
    {
     "data": {
      "text/plain": [
       "array([[ 0.5       ,  0.85237309,  0.89376988],\n",
       "       [ 0.5       ,  0.88551032,  0.92209508],\n",
       "       [ 0.5       ,  0.88551032,  0.92209508],\n",
       "       [ 0.5       ,  0.88551032,  0.92209508],\n",
       "       [ 0.5       ,  0.88551032,  0.92209508],\n",
       "       [ 0.5       ,  0.88551032,  0.92209508]])"
      ]
     },
     "execution_count": 57,
     "metadata": {},
     "output_type": "execute_result"
    }
   ],
   "source": [
    "ativacao_estimada_gUv = sigmoid(energia_ativacao_estimada_Uv)\n",
    "ativacao_estimada_gUv"
   ]
  },
  {
   "cell_type": "code",
   "execution_count": 59,
   "metadata": {
    "collapsed": false
   },
   "outputs": [
    {
     "data": {
      "text/plain": [
       "array([[ 3.        ,  4.62488254,  4.91368026],\n",
       "       [ 1.        ,  1.46120961,  1.57070867],\n",
       "       [ 2.5       ,  3.87462243,  4.11149637],\n",
       "       [ 2.5       ,  3.87462243,  4.11149637],\n",
       "       [ 1.5       ,  2.45272343,  2.57444681],\n",
       "       [ 0.5       ,  0.75026011,  0.80218389],\n",
       "       [ 1.        ,  1.46120961,  1.57070867]])"
      ]
     },
     "execution_count": 59,
     "metadata": {},
     "output_type": "execute_result"
    }
   ],
   "source": [
    "#entrada e ativação da ida\n",
    "associacao_positiva = np.dot(entradas.T, ativacao_gUv)\n",
    "associacao_positiva"
   ]
  },
  {
   "cell_type": "code",
   "execution_count": 60,
   "metadata": {
    "collapsed": false
   },
   "outputs": [
    {
     "data": {
      "text/plain": [
       "array([[ 3.        ,  5.27992467,  5.50424529],\n",
       "       [ 1.71102329,  3.01203758,  3.13987817],\n",
       "       [ 1.96981326,  3.46874108,  3.61575229],\n",
       "       [ 2.19847842,  3.87215538,  4.03612393],\n",
       "       [ 2.38892343,  4.20796885,  4.38608543],\n",
       "       [ 2.5402581 ,  4.47462426,  4.66401163],\n",
       "       [ 1.71102329,  3.01203758,  3.13987817]])"
      ]
     },
     "execution_count": 60,
     "metadata": {},
     "output_type": "execute_result"
    }
   ],
   "source": [
    "#entrada e ativação da volta\n",
    "associacao_negativa = np.dot(ativacao_gUh.T, ativacao_estimada_gUv)\n",
    "associacao_negativa"
   ]
  },
  {
   "cell_type": "code",
   "execution_count": null,
   "metadata": {
    "collapsed": true
   },
   "outputs": [],
   "source": []
  }
 ],
 "metadata": {
  "kernelspec": {
   "display_name": "Python 3",
   "language": "python",
   "name": "python3"
  },
  "language_info": {
   "codemirror_mode": {
    "name": "ipython",
    "version": 3
   },
   "file_extension": ".py",
   "mimetype": "text/x-python",
   "name": "python",
   "nbconvert_exporter": "python",
   "pygments_lexer": "ipython3",
   "version": "3.6.0"
  }
 },
 "nbformat": 4,
 "nbformat_minor": 2
}
